{
  "nbformat": 4,
  "nbformat_minor": 0,
  "metadata": {
    "colab": {
      "provenance": [],
      "collapsed_sections": [
        "B_k7PVhY6ZXM",
        "XTNBAV6MHT51",
        "LI_guuZQHG7V",
        "8yX_VacfMIFb",
        "fa4lRGQpP4uy",
        "v85DnyRSmxSl"
      ]
    },
    "kernelspec": {
      "name": "python3",
      "display_name": "Python 3"
    },
    "language_info": {
      "name": "python"
    },
    "gpuClass": "standard",
    "accelerator": "GPU"
  },
  "cells": [
    {
      "cell_type": "markdown",
      "source": [
        "# Rudiments of Natural Language Processing: Train"
      ],
      "metadata": {
        "id": "Qb74H7Ot6Q_W"
      }
    },
    {
      "cell_type": "markdown",
      "source": [
        "This is the second part of the NLP workshop at the Center for Machine Learning. In this notebook we take the IMDB data preprocessed earlier and train a very simple model to classify the movie reviews as positive or negative. We do the following:\n",
        "\n",
        "*   Gather some prerequisites\n",
        "*   Load the data\n",
        "*   Build a very simple model\n",
        "*   Implement the training loop\n",
        "*   Train and evaluate the model\n",
        "*   Explore the word embeddings"
      ],
      "metadata": {
        "id": "pbgtnZNa1e60"
      }
    },
    {
      "cell_type": "markdown",
      "source": [
        "## Prerequisites"
      ],
      "metadata": {
        "id": "B_k7PVhY6ZXM"
      }
    },
    {
      "cell_type": "markdown",
      "source": [
        "Before you even start go to the menu above and make sure that your execution environment uses the GPU. Otherwise the model will train very slowly. If you change the environment later you will need to rerun the notebook from the begining. Now install the missing dependencies:"
      ],
      "metadata": {
        "id": "-UtX0SdK0mL1"
      }
    },
    {
      "cell_type": "code",
      "execution_count": null,
      "metadata": {
        "id": "zMKAtkWD6Hr8"
      },
      "outputs": [],
      "source": [
        "!pip install portalocker"
      ]
    },
    {
      "cell_type": "markdown",
      "source": [
        "Import the necessary modules:"
      ],
      "metadata": {
        "id": "F-l2eYaO7DwL"
      }
    },
    {
      "cell_type": "code",
      "source": [
        "import google.colab as colab\n",
        "import matplotlib.pyplot as plt\n",
        "import pickle\n",
        "import torch\n",
        "import torchdata\n",
        "import torchtext"
      ],
      "metadata": {
        "id": "fR6ojpdO7H41"
      },
      "execution_count": null,
      "outputs": []
    },
    {
      "cell_type": "markdown",
      "source": [
        "In the previous notebook we saved some data in your home directory on the google drive. To read these data mount your drive:"
      ],
      "metadata": {
        "id": "E28ElKZo3fRI"
      }
    },
    {
      "cell_type": "code",
      "source": [
        "colab.drive.mount('/content/drive')"
      ],
      "metadata": {
        "id": "Klp46zWz8WD2"
      },
      "execution_count": null,
      "outputs": []
    },
    {
      "cell_type": "markdown",
      "source": [
        "Your home directory is now mounted as `drive/MyDrive`. Check it by listing its contents:"
      ],
      "metadata": {
        "id": "XNzyxreo4Vk0"
      }
    },
    {
      "cell_type": "code",
      "source": [
        "!ls drive/MyDrive"
      ],
      "metadata": {
        "id": "3MLEtxfF4a4L"
      },
      "execution_count": null,
      "outputs": []
    },
    {
      "cell_type": "markdown",
      "source": [
        "You should see the files `vocab.pkl`, `train_data.csv` and `valid_data.csv`. If not run the previous notebook to produce them."
      ],
      "metadata": {
        "id": "0Ah5wnZ848MY"
      }
    },
    {
      "cell_type": "markdown",
      "source": [
        "## Load the data"
      ],
      "metadata": {
        "id": "XTNBAV6MHT51"
      }
    },
    {
      "cell_type": "markdown",
      "source": [
        "Just to remind print the first ten rows of the training CSV file:"
      ],
      "metadata": {
        "id": "KpbJb75-7C7O"
      }
    },
    {
      "cell_type": "code",
      "source": [
        "!head drive/MyDrive/train_data.csv"
      ],
      "metadata": {
        "id": "KU_Fwg3_7NQz"
      },
      "execution_count": null,
      "outputs": []
    },
    {
      "cell_type": "markdown",
      "source": [
        "Each row represents one review. The first column contains the classification label which is 0 or 1 for negative or positive reviews respectively. The next columns contain indices of subsequent words in a review according to the vocabulary. We will be loading these data using datapipes which will soon become a new standard in pytorch but are now in beta phase so you may encounter some problems. Create a datapipe that reads rows from the training CSV file:"
      ],
      "metadata": {
        "id": "tkDk--hx5bXb"
      }
    },
    {
      "cell_type": "code",
      "source": [
        "train_pipe = torchdata.datapipes.iter.FileOpener(['drive/MyDrive/train_data.csv'])\n",
        "train_pipe = train_pipe.parse_csv()"
      ],
      "metadata": {
        "id": "vjk3Pdpj65-f"
      },
      "execution_count": null,
      "outputs": []
    },
    {
      "cell_type": "markdown",
      "source": [
        "This datapipe yields the rows as lists of text strings that actually contain numbers:"
      ],
      "metadata": {
        "id": "sjChjhHN8uTm"
      }
    },
    {
      "cell_type": "code",
      "source": [
        "for sample in train_pipe.header(10):\n",
        "    print(sample)"
      ],
      "metadata": {
        "id": "U6iueB3482mN"
      },
      "execution_count": null,
      "outputs": []
    },
    {
      "cell_type": "markdown",
      "source": [
        "Consume this datapipe so that the label and word indices are unpacked to separate variables:"
      ],
      "metadata": {
        "id": "LDx3uqIn9NcB"
      }
    },
    {
      "cell_type": "code",
      "source": [
        "for label0, *index1 in train_pipe.header(10):\n",
        "    print(label0, index1)"
      ],
      "metadata": {
        "id": "DCt_ixkq8Aak"
      },
      "execution_count": null,
      "outputs": []
    },
    {
      "cell_type": "markdown",
      "source": [
        "Now write a separate `decode` function that does the unpacking:"
      ],
      "metadata": {
        "id": "H0mZPfZy98Zl"
      }
    },
    {
      "cell_type": "code",
      "source": [
        "def decode(sample):\n",
        "    label0, *index1 = sample\n",
        "    return label0, index1"
      ],
      "metadata": {
        "id": "XcX4dMj69RgK"
      },
      "execution_count": null,
      "outputs": []
    },
    {
      "cell_type": "markdown",
      "source": [
        "Apply this function to each row yielded by the datapipe by mapping it onto the datapipe:"
      ],
      "metadata": {
        "id": "saUWPj4u-RD_"
      }
    },
    {
      "cell_type": "code",
      "source": [
        "train_pipe = torchdata.datapipes.iter.FileOpener(['drive/MyDrive/train_data.csv'])\n",
        "train_pipe = train_pipe.parse_csv()\n",
        "train_pipe = train_pipe.map(decode)"
      ],
      "metadata": {
        "id": "MzDI_zv8_Duh"
      },
      "execution_count": null,
      "outputs": []
    },
    {
      "cell_type": "markdown",
      "source": [
        "This new datapipe directly yields tuples of labels and indices:"
      ],
      "metadata": {
        "id": "qU0anpMK_IL2"
      }
    },
    {
      "cell_type": "code",
      "source": [
        "for label0, index1 in train_pipe.header(10):\n",
        "    print(label0, index1)"
      ],
      "metadata": {
        "id": "88vNnvm89ei3"
      },
      "execution_count": null,
      "outputs": []
    },
    {
      "cell_type": "markdown",
      "source": [
        "Let the `decode` function also convert the labels and indices from text strings to float and integer numbers respectively:"
      ],
      "metadata": {
        "id": "sVTJaQDo_eFo"
      }
    },
    {
      "cell_type": "code",
      "source": [
        "def decode(sample):\n",
        "    label0, *index1 = sample\n",
        "    label0 = float(label0)\n",
        "    index1 = [int(index0) for index0 in index1]\n",
        "    return label0, index1"
      ],
      "metadata": {
        "id": "Af3YwPpR-imN"
      },
      "execution_count": null,
      "outputs": []
    },
    {
      "cell_type": "markdown",
      "source": [
        "Reinstantiate the datapipe with the new `decode` function and test it:"
      ],
      "metadata": {
        "id": "zM074_WR_76F"
      }
    },
    {
      "cell_type": "code",
      "source": [
        "train_pipe = torchdata.datapipes.iter.FileOpener(['drive/MyDrive/train_data.csv'])\n",
        "train_pipe = train_pipe.parse_csv()\n",
        "train_pipe = train_pipe.map(decode)\n",
        "\n",
        "for label0, index1 in train_pipe.header(10):\n",
        "    print(label0, index1)"
      ],
      "metadata": {
        "id": "gPR2ej2q_mMH"
      },
      "execution_count": null,
      "outputs": []
    },
    {
      "cell_type": "markdown",
      "source": [
        "Let the `decode` function also convert the indices from python lists to pytorch tensors:"
      ],
      "metadata": {
        "id": "kg3Hut3XAQnB"
      }
    },
    {
      "cell_type": "code",
      "source": [
        "def decode(sample):\n",
        "    label0, *index1 = sample\n",
        "    label0 = float(label0)\n",
        "    index1 = torch.tensor([int(index0) for index0 in index1])\n",
        "    return label0, index1"
      ],
      "metadata": {
        "id": "J_Cjy6F4_7_g"
      },
      "execution_count": null,
      "outputs": []
    },
    {
      "cell_type": "markdown",
      "source": [
        "Reinstantiate the datapipe and test it:"
      ],
      "metadata": {
        "id": "sPOcs_tNAc7G"
      }
    },
    {
      "cell_type": "code",
      "source": [
        "train_pipe = torchdata.datapipes.iter.FileOpener(['drive/MyDrive/train_data.csv'])\n",
        "train_pipe = train_pipe.parse_csv()\n",
        "train_pipe = train_pipe.map(decode)\n",
        "\n",
        "for label0, index1 in train_pipe.header(10):\n",
        "    print(label0, index1)"
      ],
      "metadata": {
        "id": "hTcJE9hcAF1h"
      },
      "execution_count": null,
      "outputs": []
    },
    {
      "cell_type": "markdown",
      "source": [
        "The reviews in the CSV files are preliminary shuffled but it is best to consume them in different order during each epoch of training. Shuffle the datapipe and a different random shuffling will be applied in each epoch:"
      ],
      "metadata": {
        "id": "oKirEZ8dCKyr"
      }
    },
    {
      "cell_type": "code",
      "source": [
        "train_pipe = torchdata.datapipes.iter.FileOpener(['drive/MyDrive/train_data.csv'])\n",
        "train_pipe = train_pipe.parse_csv()\n",
        "train_pipe = train_pipe.map(decode)\n",
        "train_pipe = train_pipe.shuffle(buffer_size = 16384)\n",
        "\n",
        "for label0, index1 in train_pipe.header(10):\n",
        "    print(label0, index1)"
      ],
      "metadata": {
        "id": "4dlwWit9AkOO"
      },
      "execution_count": null,
      "outputs": []
    },
    {
      "cell_type": "markdown",
      "source": [
        "The datapipe yields tuples of labels and indices. To explicitly see these tuples consume the datapipe without unpacking:"
      ],
      "metadata": {
        "id": "XszrYkNuDYM5"
      }
    },
    {
      "cell_type": "code",
      "source": [
        "for sample in train_pipe.header(10):\n",
        "    print(sample)"
      ],
      "metadata": {
        "id": "hkn6pl-4BOW4"
      },
      "execution_count": null,
      "outputs": []
    },
    {
      "cell_type": "markdown",
      "source": [
        "Training is usually done in batches. Let the datapipe yield batches and set the batch size to two just for illustration:"
      ],
      "metadata": {
        "id": "1rObT5XHEdMs"
      }
    },
    {
      "cell_type": "code",
      "source": [
        "train_pipe = torchdata.datapipes.iter.FileOpener(['drive/MyDrive/train_data.csv'])\n",
        "train_pipe = train_pipe.parse_csv()\n",
        "train_pipe = train_pipe.map(decode)\n",
        "train_pipe = train_pipe.shuffle(buffer_size = 16384)\n",
        "train_pipe = train_pipe.batch(2)\n",
        "\n",
        "for batch in train_pipe.header(10):\n",
        "    print(batch)"
      ],
      "metadata": {
        "id": "Uei_YBchB0p8"
      },
      "execution_count": null,
      "outputs": []
    },
    {
      "cell_type": "markdown",
      "source": [
        "Each yielded batch is now a list containing tuples. But training requires that labels and indices are yielded separately. Define a function `collate` that unzips the yielded list of tuples into a tuple containing all labels in the batch and separately all indices in the batch:"
      ],
      "metadata": {
        "id": "UQjQXoXaFlxz"
      }
    },
    {
      "cell_type": "code",
      "source": [
        "def collate(batch):\n",
        "    label1, index2 = zip(*batch)\n",
        "    return label1, index2"
      ],
      "metadata": {
        "id": "P6mnrB3ECqwM"
      },
      "execution_count": null,
      "outputs": []
    },
    {
      "cell_type": "markdown",
      "source": [
        "This function could be applied to the datapipe using the ordinary mapping. But there is an equivalent `collate` operation whose name emphasizes that a custom collation of reviews into batches is performed:"
      ],
      "metadata": {
        "id": "iDdHeR6_IGVf"
      }
    },
    {
      "cell_type": "code",
      "source": [
        "train_pipe = torchdata.datapipes.iter.FileOpener(['drive/MyDrive/train_data.csv'])\n",
        "train_pipe = train_pipe.parse_csv()\n",
        "train_pipe = train_pipe.map(decode)\n",
        "train_pipe = train_pipe.shuffle(buffer_size = 16384)\n",
        "train_pipe = train_pipe.batch(2)\n",
        "train_pipe = train_pipe.collate(collate)\n",
        "\n",
        "for batch in train_pipe.header(10):\n",
        "    print(batch)"
      ],
      "metadata": {
        "id": "AK3FftHoCyTd"
      },
      "execution_count": null,
      "outputs": []
    },
    {
      "cell_type": "markdown",
      "source": [
        "Strictly speaking each yielded batch is now a tuple of two tuples. The first inner tuple contains labels of all reviews in the batch and the second inner tuple contains word indices of all reviews in the batch. Consume this datapipe by unpacking the outer tuple into labels and indices:"
      ],
      "metadata": {
        "id": "W8lT0H1YJA_w"
      }
    },
    {
      "cell_type": "code",
      "source": [
        "for label1, index2 in train_pipe.header(10):\n",
        "    print(label1)\n",
        "    print(index2)"
      ],
      "metadata": {
        "id": "-8TO5-IBDO1E"
      },
      "execution_count": null,
      "outputs": []
    },
    {
      "cell_type": "markdown",
      "source": [
        "The labels are now yielded as an ordinary python tuple. Let the `collate` function convert this tuple to a pytorch tensor:"
      ],
      "metadata": {
        "id": "S3q8o7VjLhmJ"
      }
    },
    {
      "cell_type": "code",
      "source": [
        "def collate(batch):\n",
        "    label1, index2 = zip(*batch)\n",
        "    label1 = torch.tensor(label1)\n",
        "    return label1, index2"
      ],
      "metadata": {
        "id": "QRfKW0nyEAeX"
      },
      "execution_count": null,
      "outputs": []
    },
    {
      "cell_type": "markdown",
      "source": [
        "Reinstantiate the datapipe with the new `collate` function and test it:"
      ],
      "metadata": {
        "id": "t00dipzaMfWV"
      }
    },
    {
      "cell_type": "code",
      "source": [
        "train_pipe = torchdata.datapipes.iter.FileOpener(['drive/MyDrive/train_data.csv'])\n",
        "train_pipe = train_pipe.parse_csv()\n",
        "train_pipe = train_pipe.map(decode)\n",
        "train_pipe = train_pipe.shuffle(buffer_size = 16384)\n",
        "train_pipe = train_pipe.batch(2)\n",
        "train_pipe = train_pipe.collate(collate)\n",
        "\n",
        "for label1, index2 in train_pipe.header(10):\n",
        "    print(label1)\n",
        "    print(index2)"
      ],
      "metadata": {
        "id": "cHYjICanEKqR"
      },
      "execution_count": null,
      "outputs": []
    },
    {
      "cell_type": "markdown",
      "source": [
        "The word indices of all reviews in the batch are now yielded as a tuple of one-dimensional pytorch tensors. Training requires that it is converted to a two-dimensional tensor whose rows correspond to subsequent reviews in the batch and columns to subsequent words in each review. But the problem here is that different reviews in the same batch have different lenghts. So the shorter reviews will be padded with zeros to reach the length of the longest review in the batch. Recall that zero is the word index of the special word `<pad>`. The padding is done using a dedicated pytorch function:"
      ],
      "metadata": {
        "id": "Z0kupuHaMxG_"
      }
    },
    {
      "cell_type": "code",
      "source": [
        "def collate(batch):\n",
        "    label1, index2 = zip(*batch)\n",
        "    label1 = torch.tensor(label1)\n",
        "    index2 = torch.nn.utils.rnn.pad_sequence(index2, padding_value = 0, batch_first = True)\n",
        "    return label1, index2"
      ],
      "metadata": {
        "id": "JAMYP1xFEeM-"
      },
      "execution_count": null,
      "outputs": []
    },
    {
      "cell_type": "markdown",
      "source": [
        "Reinstantiate the datapipe and test it:"
      ],
      "metadata": {
        "id": "4_HVVbD2P0c_"
      }
    },
    {
      "cell_type": "code",
      "source": [
        "train_pipe = torchdata.datapipes.iter.FileOpener(['drive/MyDrive/train_data.csv'])\n",
        "train_pipe = train_pipe.parse_csv()\n",
        "train_pipe = train_pipe.map(decode)\n",
        "train_pipe = train_pipe.shuffle(buffer_size = 16384)\n",
        "train_pipe = train_pipe.batch(2)\n",
        "train_pipe = train_pipe.collate(collate)\n",
        "\n",
        "for label1, index2 in train_pipe.header(10):\n",
        "    print(label1)\n",
        "    print(index2)"
      ],
      "metadata": {
        "id": "Yp5DF-xxEohv"
      },
      "execution_count": null,
      "outputs": []
    },
    {
      "cell_type": "markdown",
      "source": [
        "Now one row of each two-dimensional index tensor is always padded with zeros at the end. Change the batch size to the value of 64 that we will actually use:"
      ],
      "metadata": {
        "id": "5Z4TJkWlQKdm"
      }
    },
    {
      "cell_type": "code",
      "source": [
        "train_pipe = torchdata.datapipes.iter.FileOpener(['drive/MyDrive/train_data.csv'])\n",
        "train_pipe = train_pipe.parse_csv()\n",
        "train_pipe = train_pipe.map(decode)\n",
        "train_pipe = train_pipe.shuffle(buffer_size = 16384)\n",
        "train_pipe = train_pipe.batch(64)\n",
        "train_pipe = train_pipe.collate(collate)"
      ],
      "metadata": {
        "id": "n4KissnOFZh9"
      },
      "execution_count": null,
      "outputs": []
    },
    {
      "cell_type": "markdown",
      "source": [
        "This is the final version of our training datapipe. Print the shapes of some initial batches and note how different batches have different sizes in the second dimension corresponding to the review length:"
      ],
      "metadata": {
        "id": "vHU9od7pQzsp"
      }
    },
    {
      "cell_type": "code",
      "source": [
        "for label1, index2 in train_pipe.header(10):\n",
        "    print(index2.size())"
      ],
      "metadata": {
        "id": "XP8R7WZ8GoBX"
      },
      "execution_count": null,
      "outputs": []
    },
    {
      "cell_type": "markdown",
      "source": [
        "Build a corresponding datapipe for validation data. Note that validation data does not require shuffling:"
      ],
      "metadata": {
        "id": "jC3oL6iAGohO"
      }
    },
    {
      "cell_type": "code",
      "source": [
        "valid_pipe = torchdata.datapipes.iter.FileOpener(['drive/MyDrive/valid_data.csv'])\n",
        "valid_pipe = valid_pipe.parse_csv()\n",
        "valid_pipe = valid_pipe.map(decode)\n",
        "valid_pipe = valid_pipe.batch(64)\n",
        "valid_pipe = valid_pipe.collate(collate)"
      ],
      "metadata": {
        "id": "QIsfx6H-Ffjm"
      },
      "execution_count": null,
      "outputs": []
    },
    {
      "cell_type": "markdown",
      "source": [
        "## Build a simple model"
      ],
      "metadata": {
        "id": "LI_guuZQHG7V"
      }
    },
    {
      "cell_type": "markdown",
      "source": [
        "We will now build a model to classify the reviews. As input the model takes a padded batch of word indices as yielded by our datapipes. Just to remind how models are constructed in pytorch start with a trivial one that simply returns these indices without any change:"
      ],
      "metadata": {
        "id": "jGcEs1XMZlNo"
      }
    },
    {
      "cell_type": "code",
      "source": [
        "class Model(torch.nn.Module):\n",
        "    def __init__(self):\n",
        "        torch.nn.Module.__init__(self)\n",
        "    def forward(self, index): #(samples, frames)\n",
        "        return index\n",
        "\n",
        "model = Model()"
      ],
      "metadata": {
        "id": "Sb7ugN2NG3qI"
      },
      "execution_count": null,
      "outputs": []
    },
    {
      "cell_type": "markdown",
      "source": [
        "In the comment we denoted the shape of the input index tensor as `(samples, frames)` where `samples` is the number of reviews in the batch and `frames` is the number of words in each review padding included. The output obviously has the same shape. Feed a few batches to this model and print the input and output shapes:"
      ],
      "metadata": {
        "id": "0mNNrXtddIYl"
      }
    },
    {
      "cell_type": "code",
      "source": [
        "for label, index in valid_pipe.header(10):\n",
        "    print(index.size())\n",
        "    index = model(index)\n",
        "    print(index.size())\n",
        "    print()"
      ],
      "metadata": {
        "id": "LkxGMpjnHdOP"
      },
      "execution_count": null,
      "outputs": []
    },
    {
      "cell_type": "markdown",
      "source": [
        "We will soon need the number of unique words in the vocabulary. Read the vocabulary from the pickle file on your google drive and store its length in a variable called `indices`:"
      ],
      "metadata": {
        "id": "Jvq-01p7HwXC"
      }
    },
    {
      "cell_type": "code",
      "source": [
        "with open('drive/MyDrive/vocab.pkl', 'rb') as stream:\n",
        "    vocab = pickle.load(stream)\n",
        "\n",
        "indices = len(vocab)"
      ],
      "metadata": {
        "id": "xLoPVqg8GWC_"
      },
      "execution_count": null,
      "outputs": []
    },
    {
      "cell_type": "markdown",
      "source": [
        "To each unique word in the vocabulary we will assign a real-valued vector that is called a word embedding because it embeds a word in multi-dimensional space. Elements of this vector are called features and we denote their number as `features`. In real-world models the embeddings have hundreds of dimensions but here we limit ourselves to four: "
      ],
      "metadata": {
        "id": "qOSe4BpVe7ZL"
      }
    },
    {
      "cell_type": "code",
      "source": [
        "features = 4"
      ],
      "metadata": {
        "id": "TRY1PJn4gH4B"
      },
      "execution_count": null,
      "outputs": []
    },
    {
      "cell_type": "markdown",
      "source": [
        "The embeddings will be learned from data together with the model. They are in fact part of the model and are stored in a special embedding layer. When constructing this layer we pass the number of unique words in the vocabulary `indices` and the requested embedding size `features`:"
      ],
      "metadata": {
        "id": "CDBEQUytgF5h"
      }
    },
    {
      "cell_type": "code",
      "source": [
        "class Model(torch.nn.Module):\n",
        "    def __init__(self):\n",
        "        torch.nn.Module.__init__(self)\n",
        "        self.encoder = torch.nn.Embedding(indices, features)\n",
        "    def forward(self, index):         #(samples, frames)\n",
        "        feature = self.encoder(index) #(samples, frames, features)\n",
        "        return feature\n",
        "\n",
        "model = Model()"
      ],
      "metadata": {
        "id": "KnDKHe-ZIq7u"
      },
      "execution_count": null,
      "outputs": []
    },
    {
      "cell_type": "markdown",
      "source": [
        "The embedding layer is just a lookup table. It takes a word index and returns its corresponding embedding vector. It can also take any multidimensional tensor of word indices and return their embeddings elementwise. The embedding size is added to the input tensor shape as the last dimension. In our model the embedding layer is the first or input one. It takes a batch of word indices and produces a batch of embeddings. Pass a few batches to this model and print the shapes of input indices and output embeddings:"
      ],
      "metadata": {
        "id": "L4PwzyF1jVpr"
      }
    },
    {
      "cell_type": "code",
      "source": [
        "for label, index in valid_pipe.header(10):\n",
        "    print(index.size())\n",
        "    feature = model(index)\n",
        "    print(feature.size())\n",
        "    print()"
      ],
      "metadata": {
        "id": "tjEd4zjxI_06"
      },
      "execution_count": null,
      "outputs": []
    },
    {
      "cell_type": "markdown",
      "source": [
        "The embedding features are trainable parameters of the Embedding layer and thus become trainable parameters of the whole model. They are determined during training via backpropagation together with all the remaining parameters of the model. The output of the embedding layer contains embeddings of all words in a review. But we want to classify the review as a whole. Therefore the embeddings of all the component words must be somehow aggregated into a single set of features describing the whole review. In our simple model we just take the arithmetic mean of all the word embeddings in each review separately:"
      ],
      "metadata": {
        "id": "KnMYta8Tooo_"
      }
    },
    {
      "cell_type": "code",
      "source": [
        "class Model(torch.nn.Module):\n",
        "    def __init__(self):\n",
        "        torch.nn.Module.__init__(self)\n",
        "        self.encoder = torch.nn.Embedding(indices, features)\n",
        "    def forward(self, index):         #(samples, frames)\n",
        "        feature = self.encoder(index) #(samples, frames, features)\n",
        "        feature = feature.mean(1)     #(samples, features)\n",
        "        return feature\n",
        "\n",
        "model = Model()"
      ],
      "metadata": {
        "id": "lE3Yf1CYJpFR"
      },
      "execution_count": null,
      "outputs": []
    },
    {
      "cell_type": "markdown",
      "source": [
        "Note that the mean does not depend on the order of words in a review so in this way we loose all information about word order. Inspect the input and output shapes for a few batches:"
      ],
      "metadata": {
        "id": "QCyPyJ59Lhai"
      }
    },
    {
      "cell_type": "code",
      "source": [
        "for label, index in valid_pipe.header(10):\n",
        "    print(index.size())\n",
        "    feature = model(index)\n",
        "    print(feature.size())\n",
        "    print()"
      ],
      "metadata": {
        "id": "o50OqdkxJxeN"
      },
      "execution_count": null,
      "outputs": []
    },
    {
      "cell_type": "markdown",
      "source": [
        "Now that the number of average features is fixed and a priori known so we can pass these features to a simple linear layer that will produce logits for later classification:"
      ],
      "metadata": {
        "id": "SIfp5UphMnqm"
      }
    },
    {
      "cell_type": "code",
      "source": [
        "class Model(torch.nn.Module):\n",
        "    def __init__(self):\n",
        "        torch.nn.Module.__init__(self)\n",
        "        self.encoder = torch.nn.Embedding(indices, features)\n",
        "        self.classifier = torch.nn.Linear(features, 1)\n",
        "    def forward(self, index):            #(samples, frames)\n",
        "        feature = self.encoder(index)    #(samples, frames, features)\n",
        "        feature = feature.mean(1)        #(samples, features)\n",
        "        logit = self.classifier(feature) #(samples, 1)\n",
        "        return logit\n",
        "\n",
        "model = Model()"
      ],
      "metadata": {
        "id": "s1vEOKUcJ5RR"
      },
      "execution_count": null,
      "outputs": []
    },
    {
      "cell_type": "markdown",
      "source": [
        "The classification layer outputs just one logit because we will use the formalism of binary classification. Print the input and output shapes for a few batches:"
      ],
      "metadata": {
        "id": "KZgsiWvBNRR5"
      }
    },
    {
      "cell_type": "code",
      "source": [
        "for label, index in valid_pipe.header(10):\n",
        "    print(index.size())\n",
        "    logit = model(index)\n",
        "    print(logit.size())\n",
        "    print()"
      ],
      "metadata": {
        "id": "R2tIwoArKYol"
      },
      "execution_count": null,
      "outputs": []
    },
    {
      "cell_type": "markdown",
      "source": [
        "For technical reasons it will be convenient to get rid of the singleton dimension of the logits. Do it by flattening the logits:"
      ],
      "metadata": {
        "id": "QySJQjRHONQg"
      }
    },
    {
      "cell_type": "code",
      "source": [
        "class Model(torch.nn.Module):\n",
        "    def __init__(self):\n",
        "        torch.nn.Module.__init__(self)\n",
        "        self.encoder = torch.nn.Embedding(indices, features)\n",
        "        self.classifier = torch.nn.Linear(features, 1)\n",
        "    def forward(self, index):            #(samples, frames)\n",
        "        feature = self.encoder(index)    #(samples, frames, features)\n",
        "        feature = feature.mean(1)        #(samples, features)\n",
        "        logit = self.classifier(feature) #(samples, 1)\n",
        "        logit = logit.flatten()          #(samples)\n",
        "        return logit\n",
        "\n",
        "model = Model()"
      ],
      "metadata": {
        "id": "76mFTX2yK3Os"
      },
      "execution_count": null,
      "outputs": []
    },
    {
      "cell_type": "markdown",
      "source": [
        "Print some input and output shapes again:"
      ],
      "metadata": {
        "id": "bjNxWM5qOm8b"
      }
    },
    {
      "cell_type": "code",
      "source": [
        "for label, index in valid_pipe.header(10):\n",
        "    print(index.size())\n",
        "    logit = model(index)\n",
        "    print(logit.size())\n",
        "    print()"
      ],
      "metadata": {
        "id": "LElNAByWK-9X"
      },
      "execution_count": null,
      "outputs": []
    },
    {
      "cell_type": "markdown",
      "source": [
        "## Calculate prediction accuracy"
      ],
      "metadata": {
        "id": "8yX_VacfMIFb"
      }
    },
    {
      "cell_type": "markdown",
      "source": [
        "The model has not been trained yet but it is technically usable already. The model yields logits also known as unnormalized probability scores. Print some of them:"
      ],
      "metadata": {
        "id": "gj5B5fc-PeV1"
      }
    },
    {
      "cell_type": "code",
      "source": [
        "for truth_label, index in valid_pipe.header(10):\n",
        "    logit = model(index)\n",
        "    print(logit)"
      ],
      "metadata": {
        "id": "vZR0VVBZMNbR"
      },
      "execution_count": null,
      "outputs": []
    },
    {
      "cell_type": "markdown",
      "source": [
        "A newly initialized model often gives logits of one sign only but this will change during trainig. A negative or positive logit means that the corresponding review is classified as negative or positive respectively. Construct the predicted labels accordingly:"
      ],
      "metadata": {
        "id": "TYK1nnrSQRU3"
      }
    },
    {
      "cell_type": "code",
      "source": [
        "for truth_label, index in valid_pipe.header(10):\n",
        "    logit = model(index)\n",
        "    model_label = logit.gt(0).float()\n",
        "    print(model_label)"
      ],
      "metadata": {
        "id": "J8I5qNXiMsRy"
      },
      "execution_count": null,
      "outputs": []
    },
    {
      "cell_type": "markdown",
      "source": [
        "Compare the predicted labels against the ground-true ones to check if the model has hit the correct labels:"
      ],
      "metadata": {
        "id": "0gTE8x8XS1b9"
      }
    },
    {
      "cell_type": "code",
      "source": [
        "for truth_label, index in valid_pipe.header(10):\n",
        "    logit = model(index)\n",
        "    model_label = logit.gt(0).float()\n",
        "    hit = model_label.eq(truth_label)\n",
        "    print(hit)"
      ],
      "metadata": {
        "id": "2d8GUJ1jNl9T"
      },
      "execution_count": null,
      "outputs": []
    },
    {
      "cell_type": "markdown",
      "source": [
        "The prediction accuracy is the number of correcly predicted labels divided by the total number of predictions. Calculate and print the accuracy separately for each batch:"
      ],
      "metadata": {
        "id": "yzQTS4pCTZwx"
      }
    },
    {
      "cell_type": "code",
      "source": [
        "for truth_label, index in valid_pipe.header(10):\n",
        "    logit = model(index)\n",
        "    model_label = logit.gt(0).float()\n",
        "    hit = model_label.eq(truth_label)\n",
        "    accuracy = hit.count_nonzero() / hit.numel()\n",
        "    print(accuracy)"
      ],
      "metadata": {
        "id": "81ZilmSfOc_2"
      },
      "execution_count": null,
      "outputs": []
    },
    {
      "cell_type": "markdown",
      "source": [
        "To calculate the accuracy in the whole dataset sum the correct and total predictions over batches and then divide:"
      ],
      "metadata": {
        "id": "JVwCFAv6T3K1"
      }
    },
    {
      "cell_type": "code",
      "source": [
        "valid_accuracy = torch.tensor(0)\n",
        "samples = torch.tensor(0)\n",
        "for truth_label, index in valid_pipe:\n",
        "    logit = model(index)\n",
        "    model_label = logit.gt(0).float()\n",
        "    hit = model_label.eq(truth_label)\n",
        "    valid_accuracy += hit.count_nonzero()\n",
        "    samples += hit.numel()\n",
        "valid_accuracy = valid_accuracy / samples\n",
        "print(valid_accuracy)"
      ],
      "metadata": {
        "id": "mTvs0vCrOy65"
      },
      "execution_count": null,
      "outputs": []
    },
    {
      "cell_type": "markdown",
      "source": [
        "This accuracy is close to 0.5 but not because an untrained model gives random predictions. We have already seen that a newly initialized model usually puts most reviews into the same class. So the accuracy is close to 0.5 because half of the reviews are actually negative and half are positive. Instead of printing the ccuracy as a pytorch tensor extract its only value and print it as an ordinary python number:"
      ],
      "metadata": {
        "id": "sL7YGWpRUeGJ"
      }
    },
    {
      "cell_type": "code",
      "source": [
        "print(valid_accuracy.item())"
      ],
      "metadata": {
        "id": "6B2uiUu4ZeBz"
      },
      "execution_count": null,
      "outputs": []
    },
    {
      "cell_type": "markdown",
      "source": [
        "Format this printout to three digits:"
      ],
      "metadata": {
        "id": "OhIY12MLZq1M"
      }
    },
    {
      "cell_type": "code",
      "source": [
        "print('%5.3f' % valid_accuracy)"
      ],
      "metadata": {
        "id": "c2AZ0KHUZwJQ"
      },
      "execution_count": null,
      "outputs": []
    },
    {
      "cell_type": "markdown",
      "source": [
        "## Train and evaluate the model"
      ],
      "metadata": {
        "id": "fa4lRGQpP4uy"
      }
    },
    {
      "cell_type": "markdown",
      "source": [
        "We will now train the model on the training data and evaluate it on both the training and validation data. Start with this code that iterates in batches over both datasets and calculates the prediction accuracy for each of them:"
      ],
      "metadata": {
        "id": "MONgHHcjYI23"
      }
    },
    {
      "cell_type": "code",
      "source": [
        "valid_accuracy = torch.tensor(0)\n",
        "samples = torch.tensor(0)\n",
        "for truth_label, index in valid_pipe:\n",
        "    logit = model(index)\n",
        "    model_label = logit.gt(0).float()\n",
        "    hit = model_label.eq(truth_label)\n",
        "    valid_accuracy += hit.count_nonzero()\n",
        "    samples += hit.numel()\n",
        "valid_accuracy = valid_accuracy / samples\n",
        "train_accuracy = torch.tensor(0)\n",
        "samples = torch.tensor(0)\n",
        "for truth_label, index in train_pipe:\n",
        "    logit = model(index)\n",
        "    model_label = logit.gt(0).float()\n",
        "    hit = model_label.eq(truth_label)\n",
        "    train_accuracy += hit.count_nonzero()\n",
        "    samples += hit.numel()\n",
        "train_accuracy = train_accuracy / samples\n",
        "print('%5.3f %5.3f' % (train_accuracy, valid_accuracy))"
      ],
      "metadata": {
        "id": "5RtGS8cJP-gW"
      },
      "execution_count": null,
      "outputs": []
    },
    {
      "cell_type": "markdown",
      "source": [
        "For each batch of the training data calculate the binary cross entropy as the loss value calculate its gradients by automatic differentiation and perform a minimization step by using an optimizer that we choose to be Adam:"
      ],
      "metadata": {
        "id": "Q_ORxy-uavwJ"
      }
    },
    {
      "cell_type": "code",
      "source": [
        "optimizer = torch.optim.Adam(model.parameters())\n",
        "valid_accuracy = torch.tensor(0)\n",
        "samples = torch.tensor(0)\n",
        "for truth_label, index in valid_pipe:\n",
        "    logit = model(index)\n",
        "    model_label = logit.gt(0).float()\n",
        "    hit = model_label.eq(truth_label)\n",
        "    valid_accuracy += hit.count_nonzero()\n",
        "    samples += hit.numel()\n",
        "valid_accuracy = valid_accuracy / samples\n",
        "train_accuracy = torch.tensor(0)\n",
        "samples = torch.tensor(0)\n",
        "for truth_label, index in train_pipe:\n",
        "    logit = model(index)\n",
        "    model_label = logit.gt(0).float()\n",
        "    hit = model_label.eq(truth_label)\n",
        "    train_accuracy += hit.count_nonzero()\n",
        "    samples += hit.numel()\n",
        "    loss = torch.nn.functional.binary_cross_entropy_with_logits(logit, truth_label)\n",
        "    optimizer.zero_grad()\n",
        "    loss.backward()\n",
        "    optimizer.step()\n",
        "train_accuracy = train_accuracy / samples\n",
        "print('%5.3f %5.3f' % (train_accuracy, valid_accuracy))"
      ],
      "metadata": {
        "id": "AnLQPOs4Qrai"
      },
      "execution_count": null,
      "outputs": []
    },
    {
      "cell_type": "markdown",
      "source": [
        "The training accuracy is a bit higher now because some learning has already been done. One iteration through the entire training set is called an epoch. Perform a reasonable number of epochs. These calculations may be quite slow so stop the execution of this cell at any time:"
      ],
      "metadata": {
        "id": "dsfqyYbqbwfh"
      }
    },
    {
      "cell_type": "code",
      "source": [
        "optimizer = torch.optim.Adam(model.parameters())\n",
        "for epoch in range(128):\n",
        "    valid_accuracy = torch.tensor(0)\n",
        "    samples = torch.tensor(0)\n",
        "    for truth_label, index in valid_pipe:\n",
        "        logit = model(index)\n",
        "        model_label = logit.gt(0).float()\n",
        "        hit = model_label.eq(truth_label)\n",
        "        valid_accuracy += hit.count_nonzero()\n",
        "        samples += hit.numel()\n",
        "    valid_accuracy = valid_accuracy / samples\n",
        "    train_accuracy = torch.tensor(0)\n",
        "    samples = torch.tensor(0)\n",
        "    for truth_label, index in train_pipe:\n",
        "        logit = model(index)\n",
        "        model_label = logit.gt(0).float()\n",
        "        hit = model_label.eq(truth_label)\n",
        "        train_accuracy += hit.count_nonzero()\n",
        "        samples += hit.numel()\n",
        "        loss = torch.nn.functional.binary_cross_entropy_with_logits(logit, truth_label)\n",
        "        optimizer.zero_grad()\n",
        "        loss.backward()\n",
        "        optimizer.step()\n",
        "    train_accuracy = train_accuracy / samples\n",
        "    print('%5i %5.3f %5.3f' % (epoch, train_accuracy, valid_accuracy))"
      ],
      "metadata": {
        "id": "D-fBjD_yTQsQ"
      },
      "execution_count": null,
      "outputs": []
    },
    {
      "cell_type": "markdown",
      "source": [
        "To later plot the training and vaidation accuracy store their values from every epoch in a list:"
      ],
      "metadata": {
        "id": "7uG31Rz_eiWr"
      }
    },
    {
      "cell_type": "code",
      "source": [
        "history = list()\n",
        "optimizer = torch.optim.Adam(model.parameters())\n",
        "for epoch in range(128):\n",
        "    valid_accuracy = torch.tensor(0)\n",
        "    samples = torch.tensor(0)\n",
        "    for truth_label, index in valid_pipe:\n",
        "        logit = model(index)\n",
        "        model_label = logit.gt(0).float()\n",
        "        hit = model_label.eq(truth_label)\n",
        "        valid_accuracy += hit.count_nonzero()\n",
        "        samples += hit.numel()\n",
        "    valid_accuracy = valid_accuracy / samples\n",
        "    train_accuracy = torch.tensor(0)\n",
        "    samples = torch.tensor(0)\n",
        "    for truth_label, index in train_pipe:\n",
        "        logit = model(index)\n",
        "        model_label = logit.gt(0).float()\n",
        "        hit = model_label.eq(truth_label)\n",
        "        train_accuracy += hit.count_nonzero()\n",
        "        samples += hit.numel()\n",
        "        loss = torch.nn.functional.binary_cross_entropy_with_logits(logit, truth_label)\n",
        "        optimizer.zero_grad()\n",
        "        loss.backward()\n",
        "        optimizer.step()\n",
        "    train_accuracy = train_accuracy / samples\n",
        "    history.append((epoch, train_accuracy.item(), valid_accuracy.item()))\n",
        "    print('%5i %5.3f %5.3f' % (epoch, train_accuracy, valid_accuracy))"
      ],
      "metadata": {
        "id": "8gJmTKkSejOZ"
      },
      "execution_count": null,
      "outputs": []
    },
    {
      "cell_type": "markdown",
      "source": [
        "The goal of training is to obtain a model with maximum accuracy on the validation data. Save the model to disk whenever the validation accuracy increases:"
      ],
      "metadata": {
        "id": "yB1XOZ34eIbu"
      }
    },
    {
      "cell_type": "code",
      "source": [
        "history = list()\n",
        "optimizer = torch.optim.Adam(model.parameters())\n",
        "max_valid_accuracy = torch.tensor(0.)\n",
        "for epoch in range(128):\n",
        "    valid_accuracy = torch.tensor(0)\n",
        "    samples = torch.tensor(0)\n",
        "    for truth_label, index in valid_pipe:\n",
        "        logit = model(index)\n",
        "        model_label = logit.gt(0).float()\n",
        "        hit = model_label.eq(truth_label)\n",
        "        valid_accuracy += hit.count_nonzero()\n",
        "        samples += hit.numel()\n",
        "    valid_accuracy = valid_accuracy / samples\n",
        "    if max_valid_accuracy.lt(valid_accuracy):\n",
        "        max_valid_accuracy = valid_accuracy\n",
        "        torch.save(model.state_dict(), 'model.pt')\n",
        "    train_accuracy = torch.tensor(0)\n",
        "    samples = torch.tensor(0)\n",
        "    for truth_label, index in train_pipe:\n",
        "        logit = model(index)\n",
        "        model_label = logit.gt(0).float()\n",
        "        hit = model_label.eq(truth_label)\n",
        "        train_accuracy += hit.count_nonzero()\n",
        "        samples += hit.numel()\n",
        "        loss = torch.nn.functional.binary_cross_entropy_with_logits(logit, truth_label)\n",
        "        optimizer.zero_grad()\n",
        "        loss.backward()\n",
        "        optimizer.step()\n",
        "    train_accuracy = train_accuracy / samples\n",
        "    history.append((epoch, train_accuracy.item(), valid_accuracy.item()))\n",
        "    print('%5i %5.3f %5.3f' % (epoch, train_accuracy, valid_accuracy))"
      ],
      "metadata": {
        "id": "YNM4PwqHfKpm"
      },
      "execution_count": null,
      "outputs": []
    },
    {
      "cell_type": "markdown",
      "source": [
        "We will soon use the saved model to examine its properties. If you want to save the model permanently change the target folder to your google drive. To speed up the calculations perform them on GPU. To do this you need a GPU-enabled execution environment. If you have not set it at the start do it now and rerun the notebook from the very beginning. Create the model once again and move it to GPU:"
      ],
      "metadata": {
        "id": "mw7zAWvGf_LW"
      }
    },
    {
      "cell_type": "code",
      "source": [
        "model = Model().cuda()"
      ],
      "metadata": {
        "id": "ICZrJs3PVZ86"
      },
      "execution_count": null,
      "outputs": []
    },
    {
      "cell_type": "markdown",
      "source": [
        "Move all the tensors in the training loop to GPU. Unfortunately the free colab GPUs are quite slow so instead of running the code you can display the hidden output preparred earlier. If you want to train the model yourself execute the cell without interruption:"
      ],
      "metadata": {
        "id": "X8z_jliDiLjf"
      }
    },
    {
      "cell_type": "code",
      "source": [
        "history = list()\n",
        "optimizer = torch.optim.Adam(model.parameters())\n",
        "max_valid_accuracy = torch.tensor(0.).cuda()\n",
        "for epoch in range(128):\n",
        "    valid_accuracy = torch.tensor(0).cuda()\n",
        "    samples = torch.tensor(0).cuda()\n",
        "    for truth_label, index in valid_pipe:\n",
        "        truth_label, index = truth_label.cuda(), index.cuda()\n",
        "        logit = model(index)\n",
        "        model_label = logit.gt(0).float()\n",
        "        hit = model_label.eq(truth_label)\n",
        "        valid_accuracy += hit.count_nonzero()\n",
        "        samples += hit.numel()\n",
        "    valid_accuracy = valid_accuracy / samples\n",
        "    if max_valid_accuracy.lt(valid_accuracy):\n",
        "        max_valid_accuracy = valid_accuracy\n",
        "        torch.save(model.state_dict(), 'model.pt')\n",
        "    train_accuracy = torch.tensor(0).cuda()\n",
        "    samples = torch.tensor(0).cuda()\n",
        "    for truth_label, index in train_pipe:\n",
        "        truth_label, index = truth_label.cuda(), index.cuda()\n",
        "        logit = model(index)\n",
        "        model_label = logit.gt(0).float()\n",
        "        hit = model_label.eq(truth_label)\n",
        "        train_accuracy += hit.count_nonzero()\n",
        "        samples += hit.numel()\n",
        "        loss = torch.nn.functional.binary_cross_entropy_with_logits(logit, truth_label)\n",
        "        optimizer.zero_grad()\n",
        "        loss.backward()\n",
        "        optimizer.step()\n",
        "    train_accuracy = train_accuracy / samples\n",
        "    history.append((epoch, train_accuracy.item(), valid_accuracy.item()))\n",
        "    print('%5i %5.3f %5.3f' % (epoch, train_accuracy, valid_accuracy))"
      ],
      "metadata": {
        "id": "9zrWztAfiM4u",
        "colab": {
          "base_uri": "https://localhost:8080/"
        },
        "collapsed": true,
        "outputId": "de43d547-8292-4865-b0f7-7fb12130b5f3"
      },
      "execution_count": null,
      "outputs": [
        {
          "output_type": "stream",
          "name": "stdout",
          "text": [
            "    0 0.539 0.500\n",
            "    1 0.683 0.650\n",
            "    2 0.735 0.715\n",
            "    3 0.775 0.717\n",
            "    4 0.792 0.769\n",
            "    5 0.811 0.792\n",
            "    6 0.824 0.803\n",
            "    7 0.837 0.814\n",
            "    8 0.849 0.821\n",
            "    9 0.858 0.837\n",
            "   10 0.866 0.847\n",
            "   11 0.873 0.853\n",
            "   12 0.880 0.858\n",
            "   13 0.883 0.863\n",
            "   14 0.888 0.865\n",
            "   15 0.891 0.870\n",
            "   16 0.893 0.871\n",
            "   17 0.896 0.876\n",
            "   18 0.899 0.879\n",
            "   19 0.901 0.880\n",
            "   20 0.903 0.881\n",
            "   21 0.905 0.885\n",
            "   22 0.908 0.887\n",
            "   23 0.910 0.889\n",
            "   24 0.912 0.889\n",
            "   25 0.914 0.891\n",
            "   26 0.915 0.892\n",
            "   27 0.917 0.890\n",
            "   28 0.919 0.892\n",
            "   29 0.920 0.892\n",
            "   30 0.922 0.894\n",
            "   31 0.924 0.895\n",
            "   32 0.925 0.896\n",
            "   33 0.927 0.897\n",
            "   34 0.928 0.897\n",
            "   35 0.930 0.898\n",
            "   36 0.931 0.899\n",
            "   37 0.933 0.900\n",
            "   38 0.934 0.900\n",
            "   39 0.934 0.900\n",
            "   40 0.935 0.899\n",
            "   41 0.937 0.900\n",
            "   42 0.938 0.900\n",
            "   43 0.939 0.901\n",
            "   44 0.940 0.901\n",
            "   45 0.940 0.900\n",
            "   46 0.942 0.902\n",
            "   47 0.943 0.902\n",
            "   48 0.944 0.903\n",
            "   49 0.945 0.903\n",
            "   50 0.946 0.902\n",
            "   51 0.947 0.902\n",
            "   52 0.947 0.903\n",
            "   53 0.949 0.903\n",
            "   54 0.950 0.905\n",
            "   55 0.951 0.904\n",
            "   56 0.952 0.905\n",
            "   57 0.953 0.905\n",
            "   58 0.954 0.905\n",
            "   59 0.955 0.905\n",
            "   60 0.956 0.906\n",
            "   61 0.957 0.906\n",
            "   62 0.957 0.906\n",
            "   63 0.958 0.906\n",
            "   64 0.959 0.906\n",
            "   65 0.960 0.906\n",
            "   66 0.960 0.906\n",
            "   67 0.961 0.907\n",
            "   68 0.962 0.906\n",
            "   69 0.962 0.907\n",
            "   70 0.963 0.907\n",
            "   71 0.964 0.905\n",
            "   72 0.965 0.907\n",
            "   73 0.965 0.905\n",
            "   74 0.966 0.906\n",
            "   75 0.966 0.907\n",
            "   76 0.967 0.907\n",
            "   77 0.968 0.906\n",
            "   78 0.968 0.906\n",
            "   79 0.969 0.906\n",
            "   80 0.969 0.905\n",
            "   81 0.970 0.905\n",
            "   82 0.970 0.906\n",
            "   83 0.971 0.906\n",
            "   84 0.972 0.905\n",
            "   85 0.972 0.907\n",
            "   86 0.972 0.906\n",
            "   87 0.973 0.906\n",
            "   88 0.973 0.905\n",
            "   89 0.974 0.905\n",
            "   90 0.974 0.906\n",
            "   91 0.975 0.905\n",
            "   92 0.976 0.905\n",
            "   93 0.975 0.905\n",
            "   94 0.976 0.905\n",
            "   95 0.976 0.905\n",
            "   96 0.977 0.905\n",
            "   97 0.977 0.904\n",
            "   98 0.978 0.905\n",
            "   99 0.978 0.904\n",
            "  100 0.978 0.905\n",
            "  101 0.979 0.904\n",
            "  102 0.979 0.903\n",
            "  103 0.980 0.903\n",
            "  104 0.980 0.904\n",
            "  105 0.981 0.903\n",
            "  106 0.981 0.905\n",
            "  107 0.981 0.904\n",
            "  108 0.981 0.903\n",
            "  109 0.982 0.901\n",
            "  110 0.982 0.903\n",
            "  111 0.982 0.903\n",
            "  112 0.983 0.902\n",
            "  113 0.983 0.903\n",
            "  114 0.983 0.902\n",
            "  115 0.983 0.903\n",
            "  116 0.983 0.903\n",
            "  117 0.984 0.901\n",
            "  118 0.984 0.902\n",
            "  119 0.984 0.902\n",
            "  120 0.985 0.902\n",
            "  121 0.985 0.901\n",
            "  122 0.985 0.900\n",
            "  123 0.986 0.900\n",
            "  124 0.986 0.901\n",
            "  125 0.986 0.901\n",
            "  126 0.987 0.901\n",
            "  127 0.987 0.900\n"
          ]
        }
      ]
    },
    {
      "cell_type": "markdown",
      "source": [
        "The validation accuracy should reach 90% This is very good given that we use only four embedding features and a trivial model that completely neglects the order of words. To obtain higher accuracy it is necessary to use a more complex model and pretrain it on a much larger corpus of text. Models trained only on the IMDB dataset usually achieve validation accuracy lower than 90% so worse than this trivial one. To plot the accuracies unzip the training history into three lists:"
      ],
      "metadata": {
        "id": "k5u80nA9j4Mp"
      }
    },
    {
      "cell_type": "code",
      "source": [
        "epoch, train_accuracy, valid_accuracy = zip(*history)"
      ],
      "metadata": {
        "id": "8zg6yvVSbAps"
      },
      "execution_count": null,
      "outputs": []
    },
    {
      "cell_type": "markdown",
      "source": [
        "Now make the plot:"
      ],
      "metadata": {
        "id": "Pzp03M6jlxbq"
      }
    },
    {
      "cell_type": "code",
      "source": [
        "plt.grid()\n",
        "plt.plot(epoch, train_accuracy)\n",
        "plt.plot(epoch, valid_accuracy)"
      ],
      "metadata": {
        "id": "B2QQf0wSbZKU",
        "colab": {
          "base_uri": "https://localhost:8080/",
          "height": 447
        },
        "outputId": "7d4ad960-aeae-4fd4-dd12-57b9acf28471"
      },
      "execution_count": null,
      "outputs": [
        {
          "output_type": "execute_result",
          "data": {
            "text/plain": [
              "[<matplotlib.lines.Line2D at 0x7f0edd29de50>]"
            ]
          },
          "metadata": {},
          "execution_count": 55
        },
        {
          "output_type": "display_data",
          "data": {
            "text/plain": [
              "<Figure size 640x480 with 1 Axes>"
            ],
            "image/png": "[encoded data removed]"
          },
          "metadata": {}
        }
      ]
    },
    {
      "cell_type": "markdown",
      "source": [
        "The training accuracy only grows and would eventually reach 100% The validation accuracy attains a maximum of about 90% and then drops. This is a typical behavior due to overfitting."
      ],
      "metadata": {
        "id": "ZqPD9VEbmCL8"
      }
    },
    {
      "cell_type": "markdown",
      "source": [
        "## Explore the embeddings"
      ],
      "metadata": {
        "id": "v85DnyRSmxSl"
      }
    },
    {
      "cell_type": "markdown",
      "source": [
        "Let us now see what happens if we reduce the number of embedding features to one:"
      ],
      "metadata": {
        "id": "v08yxdTa1Um7"
      }
    },
    {
      "cell_type": "code",
      "source": [
        "features = 1"
      ],
      "metadata": {
        "id": "mo-vsb65kIbs"
      },
      "execution_count": null,
      "outputs": []
    },
    {
      "cell_type": "markdown",
      "source": [
        "Construct and instantiate the model:"
      ],
      "metadata": {
        "id": "7cmsyeyA1huX"
      }
    },
    {
      "cell_type": "code",
      "source": [
        "class Model(torch.nn.Module):\n",
        "    def __init__(self):\n",
        "        torch.nn.Module.__init__(self)\n",
        "        self.encoder = torch.nn.Embedding(indices, features)\n",
        "        self.classifier = torch.nn.Linear(features, 1)\n",
        "    def forward(self, index):            #(samples, frames)\n",
        "        feature = self.encoder(index)    #(samples, frames, features)\n",
        "        feature = feature.mean(1)        #(samples, features)\n",
        "        logit = self.classifier(feature) #(samples, 1)\n",
        "        logit = logit.flatten()          #(samples)\n",
        "        return logit\n",
        "\n",
        "model = Model().cuda()"
      ],
      "metadata": {
        "id": "58e0WMMdkls7"
      },
      "execution_count": null,
      "outputs": []
    },
    {
      "cell_type": "markdown",
      "source": [
        "Train it:"
      ],
      "metadata": {
        "id": "uoKYkJeo1pU7"
      }
    },
    {
      "cell_type": "code",
      "source": [
        "history = list()\n",
        "optimizer = torch.optim.Adam(model.parameters())\n",
        "max_valid_accuracy = torch.tensor(0.).cuda()\n",
        "for epoch in range(128):\n",
        "    valid_accuracy = torch.tensor(0).cuda()\n",
        "    samples = torch.tensor(0).cuda()\n",
        "    for truth_label, index in valid_pipe:\n",
        "        truth_label, index = truth_label.cuda(), index.cuda()\n",
        "        logit = model(index)\n",
        "        model_label = logit.gt(0).float()\n",
        "        hit = model_label.eq(truth_label)\n",
        "        valid_accuracy += hit.count_nonzero()\n",
        "        samples += hit.numel()\n",
        "    valid_accuracy = valid_accuracy / samples\n",
        "    if max_valid_accuracy.lt(valid_accuracy):\n",
        "        max_valid_accuracy = valid_accuracy\n",
        "        torch.save(model.state_dict(), 'model.pt')\n",
        "    train_accuracy = torch.tensor(0).cuda()\n",
        "    samples = torch.tensor(0).cuda()\n",
        "    for truth_label, index in train_pipe:\n",
        "        truth_label, index = truth_label.cuda(), index.cuda()\n",
        "        logit = model(index)\n",
        "        model_label = logit.gt(0).float()\n",
        "        hit = model_label.eq(truth_label)\n",
        "        train_accuracy += hit.count_nonzero()\n",
        "        samples += hit.numel()\n",
        "        loss = torch.nn.functional.binary_cross_entropy_with_logits(logit, truth_label)\n",
        "        optimizer.zero_grad()\n",
        "        loss.backward()\n",
        "        optimizer.step()\n",
        "    train_accuracy = train_accuracy / samples\n",
        "    history.append((epoch, train_accuracy.item(), valid_accuracy.item()))\n",
        "    print('%5i %5.3f %5.3f' % (epoch, train_accuracy, valid_accuracy))"
      ],
      "metadata": {
        "colab": {
          "base_uri": "https://localhost:8080/"
        },
        "collapsed": true,
        "id": "Khm6XALzkOz0",
        "outputId": "985db0e7-e793-4b9a-dce4-e3b72eaf56ee"
      },
      "execution_count": null,
      "outputs": [
        {
          "output_type": "stream",
          "name": "stdout",
          "text": [
            "    0 0.509 0.500\n",
            "    1 0.520 0.501\n",
            "    2 0.540 0.511\n",
            "    3 0.558 0.528\n",
            "    4 0.587 0.547\n",
            "    5 0.634 0.589\n",
            "    6 0.672 0.618\n",
            "    7 0.731 0.707\n",
            "    8 0.754 0.730\n",
            "    9 0.768 0.745\n",
            "   10 0.783 0.764\n",
            "   11 0.787 0.771\n",
            "   12 0.795 0.779\n",
            "   13 0.803 0.782\n",
            "   14 0.809 0.791\n",
            "   15 0.817 0.797\n",
            "   16 0.823 0.802\n",
            "   17 0.831 0.808\n",
            "   18 0.836 0.810\n",
            "   19 0.843 0.818\n",
            "   20 0.849 0.825\n",
            "   21 0.854 0.831\n",
            "   22 0.859 0.838\n",
            "   23 0.864 0.842\n",
            "   24 0.868 0.846\n",
            "   25 0.872 0.849\n",
            "   26 0.876 0.854\n",
            "   27 0.879 0.855\n",
            "   28 0.881 0.858\n",
            "   29 0.884 0.861\n",
            "   30 0.886 0.863\n",
            "   31 0.888 0.866\n",
            "   32 0.890 0.866\n",
            "   33 0.892 0.869\n",
            "   34 0.894 0.870\n",
            "   35 0.895 0.871\n",
            "   36 0.896 0.873\n",
            "   37 0.898 0.875\n",
            "   38 0.900 0.877\n",
            "   39 0.901 0.878\n",
            "   40 0.902 0.879\n",
            "   41 0.903 0.881\n",
            "   42 0.904 0.882\n",
            "   43 0.905 0.881\n",
            "   44 0.908 0.883\n",
            "   45 0.909 0.883\n",
            "   46 0.910 0.885\n",
            "   47 0.911 0.885\n",
            "   48 0.912 0.886\n",
            "   49 0.913 0.887\n",
            "   50 0.913 0.888\n",
            "   51 0.915 0.888\n",
            "   52 0.916 0.888\n",
            "   53 0.917 0.890\n",
            "   54 0.918 0.890\n",
            "   55 0.919 0.890\n",
            "   56 0.919 0.892\n",
            "   57 0.920 0.892\n",
            "   58 0.922 0.891\n",
            "   59 0.922 0.893\n",
            "   60 0.923 0.894\n",
            "   61 0.925 0.893\n",
            "   62 0.925 0.894\n",
            "   63 0.926 0.895\n",
            "   64 0.927 0.895\n",
            "   65 0.927 0.896\n",
            "   66 0.929 0.896\n",
            "   67 0.929 0.896\n",
            "   68 0.930 0.897\n",
            "   69 0.931 0.895\n",
            "   70 0.931 0.898\n",
            "   71 0.932 0.898\n",
            "   72 0.933 0.898\n",
            "   73 0.933 0.899\n",
            "   74 0.934 0.898\n",
            "   75 0.935 0.899\n",
            "   76 0.935 0.899\n",
            "   77 0.936 0.899\n",
            "   78 0.936 0.899\n",
            "   79 0.937 0.899\n",
            "   80 0.939 0.900\n",
            "   81 0.939 0.900\n",
            "   82 0.940 0.900\n",
            "   83 0.940 0.900\n",
            "   84 0.941 0.901\n",
            "   85 0.942 0.901\n",
            "   86 0.942 0.901\n",
            "   87 0.943 0.902\n",
            "   88 0.944 0.902\n",
            "   89 0.944 0.902\n",
            "   90 0.945 0.902\n",
            "   91 0.946 0.902\n",
            "   92 0.947 0.902\n",
            "   93 0.947 0.902\n",
            "   94 0.948 0.902\n",
            "   95 0.948 0.902\n",
            "   96 0.949 0.902\n",
            "   97 0.950 0.902\n",
            "   98 0.950 0.903\n",
            "   99 0.951 0.902\n",
            "  100 0.951 0.902\n",
            "  101 0.952 0.902\n",
            "  102 0.952 0.902\n",
            "  103 0.953 0.902\n",
            "  104 0.954 0.903\n",
            "  105 0.955 0.902\n",
            "  106 0.955 0.902\n",
            "  107 0.955 0.902\n",
            "  108 0.956 0.902\n",
            "  109 0.956 0.902\n",
            "  110 0.957 0.902\n",
            "  111 0.957 0.901\n",
            "  112 0.958 0.902\n",
            "  113 0.958 0.902\n",
            "  114 0.958 0.902\n",
            "  115 0.959 0.901\n",
            "  116 0.959 0.902\n",
            "  117 0.960 0.902\n",
            "  118 0.961 0.902\n",
            "  119 0.961 0.901\n",
            "  120 0.961 0.901\n",
            "  121 0.962 0.902\n",
            "  122 0.962 0.902\n",
            "  123 0.963 0.902\n",
            "  124 0.963 0.902\n",
            "  125 0.964 0.902\n",
            "  126 0.964 0.901\n",
            "  127 0.965 0.901\n"
          ]
        }
      ]
    },
    {
      "cell_type": "markdown",
      "source": [
        "Plot the accuracies:"
      ],
      "metadata": {
        "id": "1nV4QgbKrmuO"
      }
    },
    {
      "cell_type": "code",
      "source": [
        "epoch, train_accuracy, valid_accuracy = zip(*history)\n",
        "\n",
        "plt.grid()\n",
        "plt.plot(epoch, train_accuracy)\n",
        "plt.plot(epoch, valid_accuracy)"
      ],
      "metadata": {
        "colab": {
          "base_uri": "https://localhost:8080/",
          "height": 447
        },
        "id": "yKkUX0IVrsWq",
        "outputId": "3143cae5-bdd0-422e-c6ba-95dc84b3a7b7"
      },
      "execution_count": null,
      "outputs": [
        {
          "output_type": "execute_result",
          "data": {
            "text/plain": [
              "[<matplotlib.lines.Line2D at 0x7f0edd446910>]"
            ]
          },
          "metadata": {},
          "execution_count": 62
        },
        {
          "output_type": "display_data",
          "data": {
            "text/plain": [
              "<Figure size 640x480 with 1 Axes>"
            ],
            "image/png": "[encoded data removed]"
          },
          "metadata": {}
        }
      ]
    },
    {
      "cell_type": "markdown",
      "source": [
        "Compare the two plots. Now the model has less parameters and learns slower on the training data. Yet for the same reason there is less overfitting so the validation accuracy is roughly the same and about 90% Since we achieve the same 90% accuracy with only one embedding feature it should be already clear what the model actually does... It assigns positive embeddings to positive words and negative embeddings to negative words or vice versa. Then it calculates a mean off all the embeddings in a review. To check it move the modem to CPU and load the recordered parameters:"
      ],
      "metadata": {
        "id": "swu50AE8r5y0"
      }
    },
    {
      "cell_type": "code",
      "source": [
        "model = model.cpu()\n",
        "model.load_state_dict(torch.load('model.pt'))"
      ],
      "metadata": {
        "id": "Jwh4Z04EthC_"
      },
      "execution_count": null,
      "outputs": []
    },
    {
      "cell_type": "markdown",
      "source": [
        "In this way we load the parameters from the epoch when the model performed best on the validation data. Get the list of unique words in the vocabulary:"
      ],
      "metadata": {
        "id": "vT40opNk28Qi"
      }
    },
    {
      "cell_type": "code",
      "source": [
        "itos = vocab.get_itos()"
      ],
      "metadata": {
        "id": "u3vQdz393EQe"
      },
      "execution_count": null,
      "outputs": []
    },
    {
      "cell_type": "markdown",
      "source": [
        "Now iterate through some initial word indices. For each index get the corresponding word from the list. Also pass the index to the embedding layer and get the corresponding feature. Print them:"
      ],
      "metadata": {
        "id": "fIWrvX3s3iyz"
      }
    },
    {
      "cell_type": "code",
      "source": [
        "for index in range(1024):\n",
        "    print('%5i %16s %7.3f' % (index, itos[index], model.encoder(torch.tensor([[index]]))))"
      ],
      "metadata": {
        "colab": {
          "base_uri": "https://localhost:8080/"
        },
        "id": "FyKvGMW8uZR-",
        "outputId": "bbb1cc7c-d74c-4152-bdce-18112a2ff763",
        "collapsed": true
      },
      "execution_count": null,
      "outputs": [
        {
          "output_type": "stream",
          "name": "stdout",
          "text": [
            "    0            <pad>  -0.037\n",
            "    1            <unk>   1.018\n",
            "    2              the  -0.232\n",
            "    3              and  -0.859\n",
            "    4                a   0.112\n",
            "    5               of  -0.007\n",
            "    6               to   0.725\n",
            "    7               is  -1.023\n",
            "    8               in  -0.258\n",
            "    9               it  -2.203\n",
            "   10                i  -0.450\n",
            "   11             this   1.371\n",
            "   12             that   0.092\n",
            "   13              was   1.804\n",
            "   14               as  -0.123\n",
            "   15             with  -0.434\n",
            "   16              for   0.151\n",
            "   17            movie  -0.608\n",
            "   18              but   0.494\n",
            "   19             film  -0.831\n",
            "   20               on   0.674\n",
            "   21              not   3.025\n",
            "   22              you  -4.050\n",
            "   23              are   0.729\n",
            "   24              his  -0.828\n",
            "   25             have   1.727\n",
            "   26               be   0.661\n",
            "   27              one  -0.460\n",
            "   28               he  -1.998\n",
            "   29              its  -2.738\n",
            "   30              all  -0.205\n",
            "   31               at   0.225\n",
            "   32               by   0.264\n",
            "   33               an  -1.021\n",
            "   34             they   0.374\n",
            "   35               so  -1.028\n",
            "   36              who  -1.381\n",
            "   37             from  -0.749\n",
            "   38             like   0.108\n",
            "   39               or   0.781\n",
            "   40             just   4.236\n",
            "   41              her  -0.570\n",
            "   42              out  -1.719\n",
            "   43               if   1.281\n",
            "   44            about   0.348\n",
            "   45              has  -0.549\n",
            "   46            there   1.616\n",
            "   47             some   0.879\n",
            "   48             what  -1.697\n",
            "   49             good  -4.715\n",
            "   50             when  -0.952\n",
            "   51             more  -3.144\n",
            "   52             very  -2.798\n",
            "   53               up  -0.616\n",
            "   54               no   3.858\n",
            "   55             time  -1.683\n",
            "   56             even   5.465\n",
            "   57               my  -3.517\n",
            "   58            would   3.858\n",
            "   59              she  -0.733\n",
            "   60            which   0.200\n",
            "   61             only   5.210\n",
            "   62           really  -0.472\n",
            "   63              see  -4.830\n",
            "   64            story  -0.372\n",
            "   65            their  -1.788\n",
            "   66             were   0.974\n",
            "   67              had   0.708\n",
            "   68              can  -2.627\n",
            "   69             well  -7.519\n",
            "   70               me  -0.955\n",
            "   71             than   0.443\n",
            "   72             much   2.064\n",
            "   73               we  -1.112\n",
            "   74              bad  14.868\n",
            "   75              get  -0.199\n",
            "   76            great -16.402\n",
            "   77               do   3.177\n",
            "   78             been   2.883\n",
            "   79            other  -2.819\n",
            "   80             will  -2.297\n",
            "   81             into   1.149\n",
            "   82           people  -1.541\n",
            "   83             also  -3.726\n",
            "   84          because   0.893\n",
            "   85            first  -2.265\n",
            "   86              him  -2.242\n",
            "   87              how   1.017\n",
            "   88             most  -4.172\n",
            "   89             dont   2.687\n",
            "   90           movies  -0.708\n",
            "   91             made   0.880\n",
            "   92             make   3.648\n",
            "   93             then   3.452\n",
            "   94             them   0.362\n",
            "   95            films   0.003\n",
            "   96              way  -2.770\n",
            "   97              too   2.360\n",
            "   98            could   2.853\n",
            "   99              any   4.877\n",
            "  100       characters   0.691\n",
            "  101            after  -0.120\n",
            "  102            think  -4.653\n",
            "  103            watch   0.020\n",
            "  104              two   0.006\n",
            "  105             seen  -4.765\n",
            "  106             many  -0.843\n",
            "  107        character   0.473\n",
            "  108            being   1.796\n",
            "  109             love  -5.309\n",
            "  110           acting   5.976\n",
            "  111             plot   5.337\n",
            "  112            never   0.369\n",
            "  113             life  -1.905\n",
            "  114              did   1.040\n",
            "  115            where   0.526\n",
            "  116             best -11.851\n",
            "  117             know  -1.793\n",
            "  118           little  -2.535\n",
            "  119             show  -1.101\n",
            "  120             over   1.146\n",
            "  121             ever  -0.808\n",
            "  122              off   3.545\n",
            "  123             does   0.945\n",
            "  124             your   1.628\n",
            "  125           better   3.923\n",
            "  126              man  -0.705\n",
            "  127              end  -2.045\n",
            "  128            scene   0.393\n",
            "  129            still  -7.023\n",
            "  130              say  -0.597\n",
            "  131            these   1.408\n",
            "  132                s   0.802\n",
            "  133             here   2.076\n",
            "  134           scenes   0.716\n",
            "  135              why   5.440\n",
            "  136            while  -1.324\n",
            "  137        something   1.797\n",
            "  138             such   2.786\n",
            "  139               go  -0.722\n",
            "  140          through   2.827\n",
            "  141             back  -1.600\n",
            "  142           should   4.019\n",
            "  143               im   2.371\n",
            "  144             real  -2.599\n",
            "  145            those  -3.700\n",
            "  146         watching   4.896\n",
            "  147           actors   3.698\n",
            "  148            thing   3.151\n",
            "  149              now  -4.076\n",
            "  150            didnt   3.413\n",
            "  151           doesnt   4.777\n",
            "  152            years  -2.835\n",
            "  153           though  -2.345\n",
            "  154            funny  -0.408\n",
            "  155              old   3.139\n",
            "  156           before  -2.312\n",
            "  157             work   0.837\n",
            "  158          another   2.255\n",
            "  159         actually   1.560\n",
            "  160          nothing  11.946\n",
            "  161            makes  -6.831\n",
            "  162             look   1.174\n",
            "  163         director   5.996\n",
            "  164            going  -1.086\n",
            "  165             find  -3.837\n",
            "  166             same   1.329\n",
            "  167              lot  -4.347\n",
            "  168            every   1.394\n",
            "  169              new  -0.240\n",
            "  170              few   1.132\n",
            "  171            again  -3.131\n",
            "  172             part   0.314\n",
            "  173             cant   4.030\n",
            "  174             down   2.270\n",
            "  175            thats   1.596\n",
            "  176           things  -3.452\n",
            "  177             cast  -1.174\n",
            "  178               us  -2.738\n",
            "  179           horror  -0.889\n",
            "  180            quite  -5.329\n",
            "  181           pretty   0.546\n",
            "  182            world  -4.460\n",
            "  183             want   1.523\n",
            "  184            seems   5.688\n",
            "  185           around   1.249\n",
            "  186              big   0.488\n",
            "  187            young  -0.239\n",
            "  188          however   1.540\n",
            "  189             fact   0.068\n",
            "  190              got  -2.825\n",
            "  191             take  -2.154\n",
            "  192             long   1.931\n",
            "  193          thought  -3.692\n",
            "  194           enough   3.268\n",
            "  195             both  -4.722\n",
            "  196              ive  -0.698\n",
            "  197             give   1.712\n",
            "  198              own  -6.172\n",
            "  199            right  -3.380\n",
            "  200              may  -5.311\n",
            "  201           action  -2.791\n",
            "  202           series  -4.944\n",
            "  203           comedy  -1.038\n",
            "  204          between   0.062\n",
            "  205            music  -3.153\n",
            "  206             must  -3.888\n",
            "  207             role  -1.066\n",
            "  208          without  -2.419\n",
            "  209             isnt   3.419\n",
            "  210              saw  -3.311\n",
            "  211         original   5.575\n",
            "  212           always  -7.491\n",
            "  213            times  -4.606\n",
            "  214              guy   1.700\n",
            "  215             gets  -0.274\n",
            "  216           almost   0.384\n",
            "  217             come  -0.469\n",
            "  218      interesting   6.546\n",
            "  219            whole   2.650\n",
            "  220            point   4.924\n",
            "  221           theres   1.259\n",
            "  222            least   6.437\n",
            "  223             done  -1.456\n",
            "  224              far   4.531\n",
            "  225              bit  -8.345\n",
            "  226          minutes  12.153\n",
            "  227             feel  -5.202\n",
            "  228           script  10.439\n",
            "  229              hes  -0.636\n",
            "  230               am   4.998\n",
            "  231           making   3.341\n",
            "  232         anything   6.258\n",
            "  233            might   4.441\n",
            "  234           family  -3.597\n",
            "  235            since  -4.178\n",
            "  236             last  -3.166\n",
            "  237         probably   0.228\n",
            "  238               tv  -0.363\n",
            "  239      performance  -3.770\n",
            "  240              yet  -4.195\n",
            "  241             kind  -0.225\n",
            "  242             away   2.787\n",
            "  243              fun -12.762\n",
            "  244            worst  30.600\n",
            "  245             sure  -4.292\n",
            "  246             girl   0.174\n",
            "  247           anyone  -2.702\n",
            "  248             each  -4.791\n",
            "  249           played  -3.471\n",
            "  250             hard   2.548\n",
            "  251           rather   2.660\n",
            "  252            found   1.559\n",
            "  253              day  -3.002\n",
            "  254            woman   1.928\n",
            "  255           screen   0.273\n",
            "  256       especially -10.213\n",
            "  257         although  -4.561\n",
            "  258          looking   5.148\n",
            "  259          believe   1.896\n",
            "  260              our  -3.882\n",
            "  261           trying   6.275\n",
            "  262            shows  -4.856\n",
            "  263           having  -2.268\n",
            "  264              set   2.499\n",
            "  265              dvd  -9.984\n",
            "  266           course  -2.732\n",
            "  267       everything  -1.309\n",
            "  268             goes   3.132\n",
            "  269           ending  -1.081\n",
            "  270              put   0.382\n",
            "  271        different  -5.695\n",
            "  272            comes   2.300\n",
            "  273            maybe   4.813\n",
            "  274            place  -0.637\n",
            "  275            worth  -6.092\n",
            "  276             book   4.862\n",
            "  277            three   2.238\n",
            "  278             main   2.422\n",
            "  279             once  -3.514\n",
            "  280         american  -0.374\n",
            "  281            sense   1.171\n",
            "  282           reason   7.180\n",
            "  283            wasnt   3.118\n",
            "  284          watched   0.219\n",
            "  285             play  -0.734\n",
            "  286          effects   1.285\n",
            "  287             true  -7.379\n",
            "  288            looks   8.799\n",
            "  289            money  10.612\n",
            "  290            actor   5.489\n",
            "  291              job  -9.366\n",
            "  292            plays  -2.660\n",
            "  293          someone   4.386\n",
            "  294         together  -5.289\n",
            "  295              war  -2.460\n",
            "  296             high   0.488\n",
            "  297             half   7.169\n",
            "  298             year   3.401\n",
            "  299           during   0.532\n",
            "  300          instead  11.032\n",
            "  301         everyone  -5.921\n",
            "  302            takes  -3.638\n",
            "  303         audience   1.416\n",
            "  304             said   2.794\n",
            "  305             seem  -0.096\n",
            "  306            black   1.211\n",
            "  307            later  -4.812\n",
            "  308          special  -1.116\n",
            "  309        beautiful  -8.077\n",
            "  310          himself  -0.974\n",
            "  311             left   5.660\n",
            "  312          version   0.890\n",
            "  313           seeing  -0.365\n",
            "  314            night  -1.291\n",
            "  315             john  -1.619\n",
            "  316             shot  -0.057\n",
            "  317        excellent -20.834\n",
            "  318            house  -1.161\n",
            "  319             idea   8.087\n",
            "  320             star   0.207\n",
            "  321            death  -4.088\n",
            "  322             mind  -3.633\n",
            "  323             nice  -4.646\n",
            "  324              fan  -1.541\n",
            "  325             wife   1.258\n",
            "  326            short  -2.254\n",
            "  327           budget  -2.970\n",
            "  328             used   1.109\n",
            "  329       completely   7.484\n",
            "  330            youre   1.728\n",
            "  331             else   3.067\n",
            "  332           simply   3.491\n",
            "  333          friends   0.402\n",
            "  334           second   0.151\n",
            "  335             kids   0.600\n",
            "  336             poor  18.893\n",
            "  337              top  -6.671\n",
            "  338             less   3.822\n",
            "  339             read   2.105\n",
            "  340             home  -1.169\n",
            "  341              men  -0.797\n",
            "  342            along  -1.910\n",
            "  343             dead  -0.605\n",
            "  344             line   3.252\n",
            "  345           either   5.486\n",
            "  346             help  -1.931\n",
            "  347           camera   6.569\n",
            "  348            wrong   6.709\n",
            "  349           boring  23.478\n",
            "  350          classic  -9.434\n",
            "  351              try   0.094\n",
            "  352            given   3.410\n",
            "  353              use   0.988\n",
            "  354            enjoy  -8.004\n",
            "  355              low   3.633\n",
            "  356             next   1.193\n",
            "  357             full  -3.020\n",
            "  358     performances  -9.068\n",
            "  359       production   1.570\n",
            "  360           stupid  13.802\n",
            "  361             need   0.218\n",
            "  362        hollywood  -2.201\n",
            "  363            truly  -6.079\n",
            "  364            until  -5.102\n",
            "  365           father   2.990\n",
            "  366             rest   5.872\n",
            "  367              sex   3.951\n",
            "  368            awful  26.632\n",
            "  369           school  -1.513\n",
            "  370           couple   3.920\n",
            "  371            start   1.381\n",
            "  372            women   4.559\n",
            "  373            video   1.373\n",
            "  374             tell   0.031\n",
            "  375         terrible  21.343\n",
            "  376        recommend  -7.414\n",
            "  377         remember  -3.420\n",
            "  378           others  -2.209\n",
            "  379              let   2.440\n",
            "  380       understand  -1.849\n",
            "  381             mean   5.158\n",
            "  382             came  -1.660\n",
            "  383          perhaps   0.502\n",
            "  384          getting   0.167\n",
            "  385             name   3.574\n",
            "  386           itself  -0.935\n",
            "  387          moments  -0.381\n",
            "  388          episode  -4.414\n",
            "  389            style  -0.577\n",
            "  390             face   0.470\n",
            "  391          playing   1.681\n",
            "  392            human  -6.227\n",
            "  393            stars  -0.051\n",
            "  394             keep  -4.751\n",
            "  395          perfect -18.932\n",
            "  396        wonderful -15.471\n",
            "  397            small  -3.141\n",
            "  398          written  -0.495\n",
            "  399           person   1.694\n",
            "  400            often  -4.376\n",
            "  401            piece   2.738\n",
            "  402             guys  -3.283\n",
            "  403            early   1.900\n",
            "  404            doing   4.576\n",
            "  405            lines   2.172\n",
            "  406       definitely -13.993\n",
            "  407          couldnt   8.749\n",
            "  408             head   0.556\n",
            "  409         dialogue   4.824\n",
            "  410              boy  -0.031\n",
            "  411            gives  -5.321\n",
            "  412        certainly  -3.703\n",
            "  413       absolutely   1.330\n",
            "  414            worse  16.513\n",
            "  415            laugh   1.021\n",
            "  416            liked -10.049\n",
            "  417             case   0.490\n",
            "  418               oh  10.058\n",
            "  419           become  -2.513\n",
            "  420            title   2.686\n",
            "  421             live  -2.650\n",
            "  422           mother   2.065\n",
            "  423             went   3.509\n",
            "  424     entertaining -12.194\n",
            "  425              yes  -1.746\n",
            "  426            loved -14.387\n",
            "  427           called   4.795\n",
            "  428             lost   3.841\n",
            "  429          picture  -0.794\n",
            "  430           entire   5.570\n",
            "  431             sort   4.674\n",
            "  432          finally  -2.458\n",
            "  433             hope  -2.467\n",
            "  434          overall  -4.828\n",
            "  435               mr   1.851\n",
            "  436          problem   9.242\n",
            "  437            based  -1.003\n",
            "  438             felt   3.581\n",
            "  439         supposed  13.397\n",
            "  440           cinema   0.790\n",
            "  441           friend   1.550\n",
            "  442            drama  -1.841\n",
            "  443            sound  -0.126\n",
            "  444          several  -0.799\n",
            "  445        beginning  -1.304\n",
            "  446            white  -0.738\n",
            "  447          against  -0.676\n",
            "  448             game  -2.662\n",
            "  449             dark  -2.568\n",
            "  450        direction   6.542\n",
            "  451             shes  -0.583\n",
            "  452             fans  -1.869\n",
            "  453            waste  30.212\n",
            "  454            humor  -4.045\n",
            "  455          despite   0.824\n",
            "  456               id  -1.958\n",
            "  457            lives  -1.311\n",
            "  458          totally   1.538\n",
            "  459            under  -0.166\n",
            "  460           seemed   6.429\n",
            "  461          already   4.116\n",
            "  462             care   3.791\n",
            "  463            guess   7.222\n",
            "  464           wanted   2.858\n",
            "  465       throughout  -4.443\n",
            "  466          example   6.782\n",
            "  467          becomes   2.938\n",
            "  468             days  -1.633\n",
            "  469            final   0.742\n",
            "  470             wont  -1.383\n",
            "  471            youll  -3.013\n",
            "  472             lead   2.448\n",
            "  473             evil   0.823\n",
            "  474          quality   2.905\n",
            "  475         children  -0.553\n",
            "  476             turn  -1.609\n",
            "  477          amazing -17.965\n",
            "  478    unfortunately  13.508\n",
            "  479             able  -4.125\n",
            "  480             side  -2.370\n",
            "  481          history  -1.124\n",
            "  482                   2.045\n",
            "  483            girls   0.581\n",
            "  484                b   2.046\n",
            "  485         horrible  18.006\n",
            "  486             fine  -6.380\n",
            "  487           killer   3.029\n",
            "  488          writing   4.316\n",
            "  489            flick   0.512\n",
            "  490            heart  -6.040\n",
            "  491              art   0.234\n",
            "  492             town   1.942\n",
            "  493            wants  -2.247\n",
            "  494            close   0.839\n",
            "  495              son   1.253\n",
            "  496             kill   0.563\n",
            "  497          michael  -0.226\n",
            "  498           matter  -3.994\n",
            "  499            works  -4.350\n",
            "  500           theyre   0.811\n",
            "  501              run   0.577\n",
            "  502              act   3.959\n",
            "  503              etc   1.636\n",
            "  504            stuff  -3.266\n",
            "  505              ill   3.612\n",
            "  506           behind   0.169\n",
            "  507            parts  -2.646\n",
            "  508             gave   3.416\n",
            "  509        brilliant -16.213\n",
            "  510             past  -1.053\n",
            "  511          enjoyed -13.926\n",
            "  512         directed   0.638\n",
            "  513             late  -7.100\n",
            "  514            tries   9.687\n",
            "  515             hand   2.572\n",
            "  516         favorite -16.620\n",
            "  517            turns  -3.922\n",
            "  518            genre  -3.635\n",
            "  519             eyes  -4.457\n",
            "  520              car   1.438\n",
            "  521             hour   5.696\n",
            "  522             city  -2.274\n",
            "  523             soon  -2.176\n",
            "  524           expect  -5.236\n",
            "  525        sometimes  -4.657\n",
            "  526          actress   2.773\n",
            "  527             stop  -0.982\n",
            "  528             ones  -1.336\n",
            "  529         thinking   3.945\n",
            "  530       themselves  -2.137\n",
            "  531        obviously   1.908\n",
            "  532           starts   3.438\n",
            "  533            child   3.271\n",
            "  534           decent   6.645\n",
            "  535           killed   2.345\n",
            "  536           myself   2.155\n",
            "  537              kid   0.646\n",
            "  538            blood   3.911\n",
            "  539           viewer  -1.873\n",
            "  540             took   1.542\n",
            "  541              god   4.210\n",
            "  542             hell   2.396\n",
            "  543            heard  -2.271\n",
            "  544           anyway  -3.471\n",
            "  545           highly -14.627\n",
            "  546             self   3.557\n",
            "  547             says  -1.897\n",
            "  548             type  -2.283\n",
            "  549            fight   0.552\n",
            "  550             slow   5.217\n",
            "  551           except   4.603\n",
            "  552          stories   1.630\n",
            "  553            voice   1.825\n",
            "  554            group   2.104\n",
            "  555            known  -2.897\n",
            "  556          happens   2.436\n",
            "  557         daughter   3.988\n",
            "  558          feeling   0.261\n",
            "  559           coming  -5.477\n",
            "  560           moment  -0.885\n",
            "  561       experience  -4.121\n",
            "  562             told  -2.405\n",
            "  563           writer   2.318\n",
            "  564        hilarious -16.710\n",
            "  565        extremely   1.497\n",
            "  566            leave  -0.214\n",
            "  567         violence   1.500\n",
            "  568           cannot   3.873\n",
            "  569          obvious   6.876\n",
            "  570           strong  -8.152\n",
            "  571     particularly   2.065\n",
            "  572           police  -0.988\n",
            "  573            roles  -1.923\n",
            "  574               ok   5.719\n",
            "  575           chance  -8.398\n",
            "  576           murder  -3.379\n",
            "  577           looked   6.734\n",
            "  578              hit  -1.756\n",
            "  579             lack   7.376\n",
            "  580          serious   1.530\n",
            "  581             crap  12.301\n",
            "  582            score  -4.645\n",
            "  583        including  -1.948\n",
            "  584           wonder   7.347\n",
            "  585            james   0.052\n",
            "  586           living  -0.805\n",
            "  587           simple -11.279\n",
            "  588         happened   1.054\n",
            "  589             gore   1.634\n",
            "  590         involved   3.356\n",
            "  591             cool  -4.561\n",
            "  592           please   3.683\n",
            "  593              cut   0.580\n",
            "  594          wouldnt   5.710\n",
            "  595            shown  -2.691\n",
            "  596             song  -1.377\n",
            "  597           happen  -3.507\n",
            "  598          attempt  10.007\n",
            "  599         complete   5.693\n",
            "  600              age  -1.288\n",
            "  601             save  16.020\n",
            "  602              ago  -0.154\n",
            "  603             hero   3.431\n",
            "  604        seriously   1.689\n",
            "  605          reality  -4.106\n",
            "  606         interest   7.199\n",
            "  607             lets   2.676\n",
            "  608         released  -1.441\n",
            "  609           robert  -0.104\n",
            "  610            taken  -1.916\n",
            "  611           career   4.166\n",
            "  612            today -15.022\n",
            "  613          opening  -1.062\n",
            "  614           talent   4.170\n",
            "  615          english  -2.692\n",
            "  616           saying   3.448\n",
            "  617             none  10.973\n",
            "  618          brother   0.017\n",
            "  619           across   2.153\n",
            "  620          exactly  -0.505\n",
            "  621            jokes   1.509\n",
            "  622            alone   0.053\n",
            "  623      documentary  -3.893\n",
            "  624   cinematography  -0.682\n",
            "  625            david  -1.872\n",
            "  626              sad   2.667\n",
            "  627         possible   2.862\n",
            "  628          running   2.043\n",
            "  629           number  -0.007\n",
            "  630            hours   3.960\n",
            "  631         yourself   1.372\n",
            "  632            light  -4.270\n",
            "  633            order   2.852\n",
            "  634          usually   0.928\n",
            "  635         annoying  15.943\n",
            "  636            whose   0.936\n",
            "  637             body   0.940\n",
            "  638             view   0.610\n",
            "  639            shots   3.325\n",
            "  640           taking  -2.651\n",
            "  641             wish  -4.015\n",
            "  642     relationship  -4.727\n",
            "  643            level  -1.087\n",
            "  644         somewhat  -0.726\n",
            "  645             call   3.167\n",
            "  646           change  -3.261\n",
            "  647           beyond   6.784\n",
            "  648             ends   1.506\n",
            "  649           mostly   0.848\n",
            "  650            power  -0.565\n",
            "  651          started   3.025\n",
            "  652             huge   0.440\n",
            "  653          opinion   0.387\n",
            "  654             jack  -3.659\n",
            "  655            happy  -2.806\n",
            "  656            major   1.340\n",
            "  657            knows  -2.181\n",
            "  658       ridiculous  16.392\n",
            "  659            scary   2.307\n",
            "  660        directors   3.194\n",
            "  661            silly   9.035\n",
            "  662           female   1.581\n",
            "  663             four   2.623\n",
            "  664            words  -0.481\n",
            "  665           turned   2.754\n",
            "  666            novel   1.930\n",
            "  667        important  -2.619\n",
            "  668             knew  -2.684\n",
            "  669             word   2.226\n",
            "  670           rating   2.222\n",
            "  671          talking   2.592\n",
            "  672            usual   0.846\n",
            "  673           middle   3.266\n",
            "  674          country   0.562\n",
            "  675        attention  -4.046\n",
            "  676          husband   0.579\n",
            "  677             upon   3.258\n",
            "  678            cheap  11.744\n",
            "  679              non   0.737\n",
            "  680             room   1.948\n",
            "  681        basically   8.147\n",
            "  682     disappointed   9.905\n",
            "  683              due  -0.785\n",
            "  684       apparently   8.278\n",
            "  685           modern  -1.105\n",
            "  686          strange  -1.386\n",
            "  687         episodes  -4.891\n",
            "  688             miss  -3.541\n",
            "  689           single   4.000\n",
            "  690       television   0.133\n",
            "  691            local   1.456\n",
            "  692          musical  -0.653\n",
            "  693         sequence  -2.756\n",
            "  694         problems  -2.212\n",
            "  695            arent   2.966\n",
            "  696            finds  -0.531\n",
            "  697           events  -1.910\n",
            "  698          clearly   3.962\n",
            "  699          whether  -0.251\n",
            "  700          british   1.079\n",
            "  701            whats   4.884\n",
            "  702             talk   3.303\n",
            "  703            class   0.869\n",
            "  704             five   4.382\n",
            "  705            songs   1.615\n",
            "  706         thriller   0.439\n",
            "  707            earth   1.421\n",
            "  708    entertainment  -2.503\n",
            "  709             fast   0.112\n",
            "  710           review   1.714\n",
            "  711              ten  -0.025\n",
            "  712           french  -2.907\n",
            "  713           moving  -8.400\n",
            "  714             lots  -2.273\n",
            "  715             team  -2.529\n",
            "  716            tells  -4.328\n",
            "  717             hate   0.017\n",
            "  718           havent  -4.110\n",
            "  719              add   3.485\n",
            "  720              die   1.565\n",
            "  721         straight   2.619\n",
            "  722            comic  -2.968\n",
            "  723           easily  -5.528\n",
            "  724             sets   0.054\n",
            "  725            above  -0.181\n",
            "  726           sequel   4.415\n",
            "  727            space   0.419\n",
            "  728            falls   7.807\n",
            "  729       soundtrack  -5.513\n",
            "  730           dialog   4.709\n",
            "  731             dull  19.371\n",
            "  732            bring  -0.053\n",
            "  733           giving   3.690\n",
            "  734           future  -2.285\n",
            "  735          release  -8.458\n",
            "  736      predictable  15.220\n",
            "  737           filmed   3.121\n",
            "  738           george   3.628\n",
            "  739       supporting  -2.709\n",
            "  740        enjoyable -13.975\n",
            "  741            tried   7.151\n",
            "  742          viewers   0.451\n",
            "  743         romantic  -2.882\n",
            "  744          parents  -1.942\n",
            "  745          mention   2.489\n",
            "  746          message  -3.260\n",
            "  747          similar  -1.990\n",
            "  748          appears   7.512\n",
            "  749             near   1.295\n",
            "  750          showing   2.172\n",
            "  751            sorry  12.925\n",
            "  752        surprised -13.078\n",
            "  753              eye  -3.427\n",
            "  754            needs  -2.196\n",
            "  755          certain  -5.825\n",
            "  756         suspense  -2.618\n",
            "  757          feature   0.223\n",
            "  758             rock  -1.521\n",
            "  759           within  -0.387\n",
            "  760            theme  -1.085\n",
            "  761             easy  -8.310\n",
            "  762            clear   1.115\n",
            "  763           minute   0.958\n",
            "  764            among  -3.593\n",
            "  765         comments  -2.152\n",
            "  766            bunch   6.441\n",
            "  767          mystery   0.169\n",
            "  768            stand  -1.870\n",
            "  769          working   0.089\n",
            "  770                t   3.629\n",
            "  771             ways  -5.291\n",
            "  772             fall   0.473\n",
            "  773        storyline   5.008\n",
            "  774             king   0.212\n",
            "  775           sister  -0.560\n",
            "  776         elements  -1.311\n",
            "  777            oscar  -4.894\n",
            "  778        fantastic -13.388\n",
            "  779           effort   9.935\n",
            "  780             stay   6.305\n",
            "  781            doubt   1.547\n",
            "  782          theater   2.072\n",
            "  783            named   2.289\n",
            "  784            peter  -2.348\n",
            "  785            avoid  19.050\n",
            "  786          typical  -2.908\n",
            "  787             gone   2.409\n",
            "  788            check  -3.237\n",
            "  789               th  -1.099\n",
            "  790              buy  -3.095\n",
            "  791             boys  -3.931\n",
            "  792          editing   5.358\n",
            "  793         greatest  -8.687\n",
            "  794             tale  -1.791\n",
            "  795           follow  -2.054\n",
            "  796          richard  -0.746\n",
            "  797          viewing  -5.384\n",
            "  798             okay   9.413\n",
            "  799               dr   1.620\n",
            "  800            crime  -1.533\n",
            "  801            feels   3.066\n",
            "  802          subject   1.976\n",
            "  803             deal  -3.973\n",
            "  804             kept  -1.255\n",
            "  805            using   1.968\n",
            "  806          general   0.585\n",
            "  807          imagine   2.199\n",
            "  808           nearly   1.538\n",
            "  809          monster   2.138\n",
            "  810           famous   1.368\n",
            "  811        realistic -11.492\n",
            "  812            means  -2.712\n",
            "  813           points   2.141\n",
            "  814              dog   1.847\n",
            "  815             move   2.570\n",
            "  816             rent   6.275\n",
            "  817               re   2.654\n",
            "  818           actual   0.717\n",
            "  819         surprise  -1.960\n",
            "  820          herself  -3.484\n",
            "  821            youve   1.356\n",
            "  822             lady  -0.939\n",
            "  823           period   0.640\n",
            "  824            leads  -1.525\n",
            "  825          somehow   3.725\n",
            "  826          brought  -5.413\n",
            "  827        animation  -1.872\n",
            "  828       believable  -9.204\n",
            "  829         material   7.729\n",
            "  830              red   0.661\n",
            "  831             form   0.012\n",
            "  832              sit   3.601\n",
            "  833           forget  -3.269\n",
            "  834        sequences  -1.987\n",
            "  835            dance  -0.958\n",
            "  836           begins   0.201\n",
            "  837             paul  -1.313\n",
            "  838           indeed  -1.371\n",
            "  839          killing   2.026\n",
            "  840         whatever   1.487\n",
            "  841             open  -1.719\n",
            "  842              tom   1.172\n",
            "  843           figure  -2.153\n",
            "  844       eventually   0.613\n",
            "  845             weak  13.955\n",
            "  846             deep  -3.406\n",
            "  847             wait   1.807\n",
            "  848          average   2.100\n",
            "  849             whos  -2.337\n",
            "  850           season  -5.472\n",
            "  851        difficult  -0.550\n",
            "  852         expected  -1.052\n",
            "  853             imdb   0.287\n",
            "  854            third   2.172\n",
            "  855          reviews   1.397\n",
            "  856       particular  -1.072\n",
            "  857            shame   5.710\n",
            "  858             hear  -0.820\n",
            "  859             free   3.679\n",
            "  860        situation  -2.334\n",
            "  861              hot  -3.595\n",
            "  862            learn  -2.009\n",
            "  863             lame  17.199\n",
            "  864           needed   0.946\n",
            "  865             note  -1.682\n",
            "  866          footage   2.393\n",
            "  867       atmosphere  -9.227\n",
            "  868           poorly  21.230\n",
            "  869            truth  -0.854\n",
            "  870          premise   6.370\n",
            "  871             york   0.848\n",
            "  872         possibly   3.658\n",
            "  873            acted  -2.037\n",
            "  874        emotional  -3.199\n",
            "  875              box   2.076\n",
            "  876          decided   4.098\n",
            "  877          credits   2.274\n",
            "  878           forced   4.179\n",
            "  879               fi   0.142\n",
            "  880        memorable  -6.610\n",
            "  881              sci  -0.282\n",
            "  882           sexual   2.025\n",
            "  883           became   1.339\n",
            "  884          society  -3.698\n",
            "  885            begin   1.044\n",
            "  886              air   1.802\n",
            "  887         features  -0.463\n",
            "  888        otherwise   8.514\n",
            "  889           unless  15.584\n",
            "  890          reading  -0.117\n",
            "  891          writers   7.822\n",
            "  892            write   5.879\n",
            "  893             male   3.738\n",
            "  894                d   3.879\n",
            "  895               de  -1.016\n",
            "  896           superb -18.815\n",
            "  897           island   0.221\n",
            "  898            badly  17.612\n",
            "  899           nature  -3.886\n",
            "  900          western   0.697\n",
            "  901           leaves   1.731\n",
            "  902           street  -0.373\n",
            "  903            hands  -1.099\n",
            "  904             plus   0.813\n",
            "  905         question  -1.056\n",
            "  906            meets  -3.740\n",
            "  907         previous  -1.940\n",
            "  908          forward   6.269\n",
            "  909           doctor  -0.053\n",
            "  910           laughs   2.588\n",
            "  911           beauty  -6.412\n",
            "  912          romance  -1.355\n",
            "  913             crew  -3.454\n",
            "  914           cheesy   4.022\n",
            "  915            crazy  -3.297\n",
            "  916             whom   0.927\n",
            "  917       interested  -1.690\n",
            "  918          quickly   3.832\n",
            "  919           effect  -1.417\n",
            "  920      masterpiece -12.199\n",
            "  921             meet  -0.760\n",
            "  922          comment  -1.949\n",
            "  923              nor   4.358\n",
            "  924         personal  -2.201\n",
            "  925            keeps  -5.650\n",
            "  926        perfectly -12.075\n",
            "  927              gay   2.216\n",
            "  928           inside  -5.850\n",
            "  929          towards  -1.299\n",
            "  930        following  -4.085\n",
            "  931       screenplay   5.878\n",
            "  932             dumb   8.934\n",
            "  933                e   1.008\n",
            "  934             joke   8.262\n",
            "  935              lee   7.079\n",
            "  936         business  -0.558\n",
            "  937             fire  -0.394\n",
            "  938            weird  -1.128\n",
            "  939       incredibly   2.417\n",
            "  940          earlier  -1.908\n",
            "  941            stage   1.125\n",
            "  942              cop   0.200\n",
            "  943          setting  -0.900\n",
            "  944           creepy  -4.578\n",
            "  945         dramatic   1.217\n",
            "  946           appear   3.285\n",
            "  947        directing   1.284\n",
            "  948           result   8.719\n",
            "  949       background  -2.274\n",
            "  950          realize  -1.056\n",
            "  951          america  -0.410\n",
            "  952            total   6.075\n",
            "  953             baby   0.184\n",
            "  954             mess  15.143\n",
            "  955           sounds   2.221\n",
            "  956         japanese  -1.114\n",
            "  957       girlfriend   2.214\n",
            "  958             copy  -1.792\n",
            "  959           worked  -0.767\n",
            "  960           unique  -8.884\n",
            "  961            front   0.333\n",
            "  962          outside  -0.216\n",
            "  963         powerful  -9.533\n",
            "  964            water   1.631\n",
            "  965          reasons   3.098\n",
            "  966              ask  -0.567\n",
            "  967             bill  -1.547\n",
            "  968           battle  -2.929\n",
            "  969            dream  -2.914\n",
            "  970           brings  -6.477\n",
            "  971      development   1.952\n",
            "  972            apart   1.974\n",
            "  973        political  -1.984\n",
            "  974             mark   1.584\n",
            "  975              pay   3.145\n",
            "  976             rate  -1.743\n",
            "  977          telling   0.993\n",
            "  978             rich  -1.387\n",
            "  979         deserves  -8.816\n",
            "  980           plenty  -8.317\n",
            "  981          various  -0.369\n",
            "  982            spent   3.017\n",
            "  983            admit  -1.932\n",
            "  984           fairly  -0.345\n",
            "  985          present  -3.298\n",
            "  986           wasted  17.540\n",
            "  987              joe  -0.300\n",
            "  988            fails  19.257\n",
            "  989        portrayed   0.095\n",
            "  990            cover   8.542\n",
            "  991             cute  -0.087\n",
            "  992         fighting   0.162\n",
            "  993             list   0.848\n",
            "  994            older  -2.391\n",
            "  995              gun   2.091\n",
            "  996       filmmakers   5.738\n",
            "  997          missing   4.467\n",
            "  998          success  -1.312\n",
            "  999           zombie   2.226\n",
            " 1000            break  -0.887\n",
            " 1001          leading   4.257\n",
            " 1002           secret   2.373\n",
            " 1003           disney   1.886\n",
            " 1004            meant   3.835\n",
            " 1005              odd   0.409\n",
            " 1006            agree   0.650\n",
            " 1007            ideas   5.948\n",
            " 1008        expecting  -4.955\n",
            " 1009              era  -2.361\n",
            " 1010           caught  -7.669\n",
            " 1011            ended   1.956\n",
            " 1012            twist  -1.687\n",
            " 1013         spoilers  -2.092\n",
            " 1014          william   1.934\n",
            " 1015            large  -2.647\n",
            " 1016           create   0.726\n",
            " 1017          fantasy  -0.977\n",
            " 1018         talented   2.835\n",
            " 1019           return  -5.339\n",
            " 1020           hardly   6.679\n",
            " 1021            plain   4.048\n",
            " 1022           remake   5.664\n",
            " 1023          italian  -0.278\n"
          ]
        }
      ]
    },
    {
      "cell_type": "markdown",
      "source": [
        "Note that emotionally negative words like *bad* have large embeddings of one sign while positive words like *great* have large embeddings of the opposite sign which is expected. However some neutral words like *minutes* also have large embeddings. This occurs when such a neutral word happens to appear only in negative or only in positive training reviews. Then the model thinks that it is negative or positive respectively. This is one cause of overfitting. Now proceed to the next notebook and introduce the attention mechanism to our model."
      ],
      "metadata": {
        "id": "-fvGHab64cl-"
      }
    }
  ]
}