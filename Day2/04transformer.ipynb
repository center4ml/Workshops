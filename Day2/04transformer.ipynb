{
  "nbformat": 4,
  "nbformat_minor": 0,
  "metadata": {
    "colab": {
      "provenance": [],
      "collapsed_sections": [
        "ZCcf6bUtttUc",
        "ID_-xs4uvLKH",
        "4pAwlTmIvWQw",
        "nVlju-ZCM7be",
        "hixyHHOEgQA9",
        "s8DdrbRrlfvU"
      ]
    },
    "kernelspec": {
      "name": "python3",
      "display_name": "Python 3"
    },
    "language_info": {
      "name": "python"
    },
    "gpuClass": "standard",
    "accelerator": "GPU"
  },
  "cells": [
    {
      "cell_type": "markdown",
      "source": [
        "# Rudiments of Natural Language Processing: Transformer"
      ],
      "metadata": {
        "id": "yq-fhMM3tlEH"
      }
    },
    {
      "cell_type": "markdown",
      "source": [
        "This is the fourth part of the NLP workshop at the Center for Machine Learning. In this notebook we switch from the earlier introduced attention to the transformer architecture. We do the following:\n",
        "\n",
        "*   Gather some prerequisites\n",
        "*   Restore previous datapipes, vocabulary, and model\n",
        "*   Switch from attention to self-attention\n",
        "*   Introduce the transformer architecture\n",
        "*   Introduce positional embeddings\n",
        "*   Train and evaluate transformer models\n",
        "\n"
      ],
      "metadata": {
        "id": "AX--qNy-sao7"
      }
    },
    {
      "cell_type": "markdown",
      "source": [
        "## Prerequisites"
      ],
      "metadata": {
        "id": "ZCcf6bUtttUc"
      }
    },
    {
      "cell_type": "markdown",
      "source": [
        "Before you even start go to the menu above and make sure that your execution environment uses the GPU. Otherwise the model will train very slowly. If you change the environment later you will need to rerun the notebook from the begining. Now install the missing dependencies:"
      ],
      "metadata": {
        "id": "USdZmQh8t1J7"
      }
    },
    {
      "cell_type": "code",
      "execution_count": null,
      "metadata": {
        "id": "DbdWjJf1tjzw"
      },
      "outputs": [],
      "source": [
        "!pip install portalocker"
      ]
    },
    {
      "cell_type": "markdown",
      "source": [
        "Import the necessary modules:"
      ],
      "metadata": {
        "id": "u2WhZZ_7t_B5"
      }
    },
    {
      "cell_type": "code",
      "source": [
        "import google.colab as colab\n",
        "import matplotlib.pyplot as plt\n",
        "import pickle\n",
        "import torch\n",
        "import torchdata\n",
        "import torchtext"
      ],
      "metadata": {
        "id": "3JznW1VYuFG8"
      },
      "execution_count": 3,
      "outputs": []
    },
    {
      "cell_type": "markdown",
      "source": [
        "In the first notebook we saved some data in your home directory on the google drive. To read these data mount your drive:"
      ],
      "metadata": {
        "id": "k9_jE3qvuNya"
      }
    },
    {
      "cell_type": "code",
      "source": [
        "colab.drive.mount('/content/drive')"
      ],
      "metadata": {
        "id": "Gsnx-nhCuUqL"
      },
      "execution_count": null,
      "outputs": []
    },
    {
      "cell_type": "markdown",
      "source": [
        "Your home directory is now mounted as `drive/MyDrive`. Check it by listing its contents:"
      ],
      "metadata": {
        "id": "nPBn9HjCusk1"
      }
    },
    {
      "cell_type": "code",
      "source": [
        "!ls drive/MyDrive/"
      ],
      "metadata": {
        "id": "_4SDPeVouxcN"
      },
      "execution_count": null,
      "outputs": []
    },
    {
      "cell_type": "markdown",
      "source": [
        "You should see the files `vocab.pkl`, `train_data.csv` and `valid_data.csv`. If not run the first notebook to produce them."
      ],
      "metadata": {
        "id": "7n0I1ilqu4K4"
      }
    },
    {
      "cell_type": "markdown",
      "source": [
        "## Datapipes, vocabulary, and model"
      ],
      "metadata": {
        "id": "ID_-xs4uvLKH"
      }
    },
    {
      "cell_type": "markdown",
      "source": [
        "In the previous notebook we created datapipes that read the training and validation data. Create them again:"
      ],
      "metadata": {
        "id": "UG-b4yjItc1b"
      }
    },
    {
      "cell_type": "code",
      "source": [
        "def decode(sample):\n",
        "    label0, *index1 = sample\n",
        "    label0 = float(label0)\n",
        "    index1 = torch.tensor([int(index0) for index0 in index1])\n",
        "    return label0, index1\n",
        "\n",
        "def collate(batch):\n",
        "    label1, index2 = zip(*batch)\n",
        "    label1 = torch.tensor(label1)\n",
        "    index2 = torch.nn.utils.rnn.pad_sequence(index2, padding_value = 0, batch_first = True)\n",
        "    return label1, index2\n",
        "\n",
        "train_pipe = torchdata.datapipes.iter.FileOpener(['drive/MyDrive/train_data.csv'])\n",
        "train_pipe = train_pipe.parse_csv()\n",
        "train_pipe = train_pipe.map(decode)\n",
        "train_pipe = train_pipe.shuffle(buffer_size = 16384)\n",
        "train_pipe = train_pipe.batch(64)\n",
        "train_pipe = train_pipe.collate(collate)\n",
        "\n",
        "valid_pipe = torchdata.datapipes.iter.FileOpener(['drive/MyDrive/valid_data.csv'])\n",
        "valid_pipe = valid_pipe.parse_csv()\n",
        "valid_pipe = valid_pipe.map(decode)\n",
        "valid_pipe = valid_pipe.batch(64)\n",
        "valid_pipe = valid_pipe.collate(collate)"
      ],
      "metadata": {
        "id": "cRYzud0EvOWM"
      },
      "execution_count": 6,
      "outputs": []
    },
    {
      "cell_type": "markdown",
      "source": [
        "We also created a vocabulary and saved it to your google drive. Load it:"
      ],
      "metadata": {
        "id": "k12cnWGOtphT"
      }
    },
    {
      "cell_type": "code",
      "source": [
        "with open('drive/MyDrive/vocab.pkl', 'rb') as stream:\n",
        "    vocab = pickle.load(stream)"
      ],
      "metadata": {
        "id": "GADgcGwAvUNV"
      },
      "execution_count": 7,
      "outputs": []
    },
    {
      "cell_type": "markdown",
      "source": [
        "Read the vocabulary size and set it as the number of unique words or word indices:"
      ],
      "metadata": {
        "id": "aKKLo0LYtxDk"
      }
    },
    {
      "cell_type": "code",
      "source": [
        "indices = len(vocab)"
      ],
      "metadata": {
        "id": "tc-UNti9tx_2"
      },
      "execution_count": 8,
      "outputs": []
    },
    {
      "cell_type": "markdown",
      "source": [
        "Set the number of embedding features to the previous value of four:"
      ],
      "metadata": {
        "id": "koLfwcamuFZa"
      }
    },
    {
      "cell_type": "code",
      "source": [
        "features = 4"
      ],
      "metadata": {
        "id": "Obfx67YguGbi"
      },
      "execution_count": 9,
      "outputs": []
    },
    {
      "cell_type": "markdown",
      "source": [
        "In the previous notebook we implemented the following attention module:"
      ],
      "metadata": {
        "id": "MsRxdPmFuNnK"
      }
    },
    {
      "cell_type": "code",
      "source": [
        "class Attention(torch.nn.Module):\n",
        "    def __init__(self):\n",
        "        torch.nn.Module.__init__(self)\n",
        "        self.query = torch.nn.Parameter(torch.empty(1, 1, features))\n",
        "        self.weightK = torch.nn.Parameter(torch.empty(features, features))\n",
        "        self.weightV = torch.nn.Parameter(torch.empty(features, features))\n",
        "        torch.nn.init.xavier_normal_(self.query)\n",
        "        torch.nn.init.xavier_normal_(self.weightK)\n",
        "        torch.nn.init.xavier_normal_(self.weightV)\n",
        "    def forward(self, feature):                         #(samples, frames, features)\n",
        "        key = feature @ self.weightK                    #(samples, frames, features)\n",
        "        value = feature @ self.weightV                  #(samples, frames, features)\n",
        "        energy = self.query @ key.transpose(1, 2)       #(samples, 1, frames)\n",
        "        weight = torch.nn.functional.softmax(energy, 2) #(samples, 1, frames)\n",
        "        feature = weight @ value                        #(samples, 1, features)\n",
        "        return feature"
      ],
      "metadata": {
        "id": "AvHDkWjYuRR5"
      },
      "execution_count": null,
      "outputs": []
    },
    {
      "cell_type": "markdown",
      "source": [
        "And the following model:"
      ],
      "metadata": {
        "id": "m-wxowc7uevh"
      }
    },
    {
      "cell_type": "code",
      "source": [
        "class Model(torch.nn.Module):\n",
        "    def __init__(self):\n",
        "        torch.nn.Module.__init__(self)\n",
        "        self.encoder = torch.nn.Embedding(indices, features)\n",
        "        self.attention = Attention()\n",
        "        self.classifier = torch.nn.Linear(features, 1)\n",
        "    def forward(self, index):             #(samples, frames)\n",
        "        feature = self.encoder(index)     #(samples, frames, features)\n",
        "        feature = self.attention(feature) #(samples, 1, features)\n",
        "        logit = self.classifier(feature)  #(samples, 1, 1)\n",
        "        logit = logit.flatten()           #(samples)\n",
        "        return logit"
      ],
      "metadata": {
        "id": "HK2xx05ouhJo"
      },
      "execution_count": null,
      "outputs": []
    },
    {
      "cell_type": "markdown",
      "source": [
        "Instantiate it:"
      ],
      "metadata": {
        "id": "4BEmIEnKuw1x"
      }
    },
    {
      "cell_type": "code",
      "source": [
        "model = Model()"
      ],
      "metadata": {
        "id": "jcaIeFICuzOr"
      },
      "execution_count": null,
      "outputs": []
    },
    {
      "cell_type": "markdown",
      "source": [
        "Just as a reminder print the input and output shapes for a few batches:"
      ],
      "metadata": {
        "id": "NnMUV9GMu33O"
      }
    },
    {
      "cell_type": "code",
      "source": [
        "for truth_label, index in train_pipe.header(10):\n",
        "    print(index.size())\n",
        "    logit = model(index)\n",
        "    print(logit.size())\n",
        "    print()"
      ],
      "metadata": {
        "id": "szQzffeju72r"
      },
      "execution_count": null,
      "outputs": []
    },
    {
      "cell_type": "markdown",
      "source": [
        "## Self-Attention"
      ],
      "metadata": {
        "id": "4pAwlTmIvWQw"
      }
    },
    {
      "cell_type": "markdown",
      "source": [
        "The attention mechanism calculates scalar products of all the frames in the sample with a single query vector:"
      ],
      "metadata": {
        "id": "o_LmAzYMx261"
      }
    },
    {
      "cell_type": "code",
      "source": [
        "class Attention(torch.nn.Module):\n",
        "    def __init__(self):\n",
        "        torch.nn.Module.__init__(self)\n",
        "        self.query = torch.nn.Parameter(torch.empty(1, 1, features))\n",
        "        self.weightK = torch.nn.Parameter(torch.empty(features, features))\n",
        "        self.weightV = torch.nn.Parameter(torch.empty(features, features))\n",
        "        torch.nn.init.xavier_normal_(self.query)\n",
        "        torch.nn.init.xavier_normal_(self.weightK)\n",
        "        torch.nn.init.xavier_normal_(self.weightV)\n",
        "    def forward(self, feature):                         #(samples, frames, features)\n",
        "        key = feature @ self.weightK                    #(samples, frames, features)\n",
        "        value = feature @ self.weightV                  #(samples, frames, features)\n",
        "        energy = self.query @ key.transpose(1, 2)       #(samples, 1, frames)\n",
        "        weight = torch.nn.functional.softmax(energy, 2) #(samples, 1, frames)\n",
        "        feature = weight @ value                        #(samples, 1, features)\n",
        "        return feature, weight"
      ],
      "metadata": {
        "id": "Q8rpn7kKvsHn"
      },
      "execution_count": null,
      "outputs": []
    },
    {
      "cell_type": "markdown",
      "source": [
        "Let us temporarily assume that the number of frames in each sample is a priori known:"
      ],
      "metadata": {
        "id": "_kUYeAT0xyCj"
      }
    },
    {
      "cell_type": "code",
      "source": [
        "frames = 256"
      ],
      "metadata": {
        "id": "VanA0wybytol"
      },
      "execution_count": null,
      "outputs": []
    },
    {
      "cell_type": "markdown",
      "source": [
        "We now introduce a different query vector for each frame by expanding the second dimension of the queries from 1 to `frames`:"
      ],
      "metadata": {
        "id": "VppP8ra8ypzP"
      }
    },
    {
      "cell_type": "code",
      "source": [
        "class Attention(torch.nn.Module):\n",
        "    def __init__(self):\n",
        "        torch.nn.Module.__init__(self)\n",
        "        self.query = torch.nn.Parameter(torch.empty(1, frames, features))\n",
        "        self.weightK = torch.nn.Parameter(torch.empty(features, features))\n",
        "        self.weightV = torch.nn.Parameter(torch.empty(features, features))\n",
        "        torch.nn.init.xavier_normal_(self.query)\n",
        "        torch.nn.init.xavier_normal_(self.weightK)\n",
        "        torch.nn.init.xavier_normal_(self.weightV)\n",
        "    def forward(self, feature):                         #(samples, frames, features)\n",
        "        key = feature @ self.weightK                    #(samples, frames, features)\n",
        "        value = feature @ self.weightV                  #(samples, frames, features)\n",
        "        energy = self.query @ key.transpose(1, 2)       #(samples, frames, frames)\n",
        "        weight = torch.nn.functional.softmax(energy, 2) #(samples, frames, frames)\n",
        "        feature = weight @ value                        #(samples, frames, features)\n",
        "        return feature"
      ],
      "metadata": {
        "id": "1pq7fPQPwdFq"
      },
      "execution_count": null,
      "outputs": []
    },
    {
      "cell_type": "markdown",
      "source": [
        "Consequently the second dimension of the energies also expands from 1 to `frames` which means that scalar products with all the query vectors are now calculated. The same applies to the weights. Finally the second dimension of the output features also acquires the size of `frames`. This means that a separate set of features is now produced for each query vector. Let us now temporarily assume that the number of samples in the batch is also known:"
      ],
      "metadata": {
        "id": "FTBASP3hzgF9"
      }
    },
    {
      "cell_type": "code",
      "source": [
        "samples = 64"
      ],
      "metadata": {
        "id": "krJZIjx42NQT"
      },
      "execution_count": null,
      "outputs": []
    },
    {
      "cell_type": "markdown",
      "source": [
        "So far the queries are equal for all samples in the batch. Let us now make them different be expanding their first dimension from 1 to `samples`. This does not change the shapes of other tensors because the first dimension of the queries was anyway broadcasted to `samples`:"
      ],
      "metadata": {
        "id": "adXvUfeT1-mN"
      }
    },
    {
      "cell_type": "code",
      "source": [
        "class Attention(torch.nn.Module):\n",
        "    def __init__(self):\n",
        "        torch.nn.Module.__init__(self)\n",
        "        self.query = torch.nn.Parameter(torch.empty(samples, frames, features))\n",
        "        self.weightK = torch.nn.Parameter(torch.empty(features, features))\n",
        "        self.weightV = torch.nn.Parameter(torch.empty(features, features))\n",
        "        torch.nn.init.xavier_normal_(self.query)\n",
        "        torch.nn.init.xavier_normal_(self.weightK)\n",
        "        torch.nn.init.xavier_normal_(self.weightV)\n",
        "    def forward(self, feature):                         #(samples, frames, features)\n",
        "        key = feature @ self.weightK                    #(samples, frames, features)\n",
        "        value = feature @ self.weightV                  #(samples, frames, features)\n",
        "        energy = self.query @ key.transpose(1, 2)       #(samples, frames, frames)\n",
        "        weight = torch.nn.functional.softmax(energy, 2) #(samples, frames, frames)\n",
        "        feature = weight @ value                        #(samples, frames, features)\n",
        "        return feature"
      ],
      "metadata": {
        "id": "LAzEuGWgw8KR"
      },
      "execution_count": null,
      "outputs": []
    },
    {
      "cell_type": "markdown",
      "source": [
        "Now the queries have the same shape as the input features which allows us to actually use these features as queries:"
      ],
      "metadata": {
        "id": "5ZWIKQI32fl-"
      }
    },
    {
      "cell_type": "code",
      "source": [
        "class Attention(torch.nn.Module):\n",
        "    def __init__(self):\n",
        "        torch.nn.Module.__init__(self)\n",
        "        self.weightK = torch.nn.Parameter(torch.empty(features, features))\n",
        "        self.weightV = torch.nn.Parameter(torch.empty(features, features))\n",
        "        torch.nn.init.xavier_normal_(self.weightK)\n",
        "        torch.nn.init.xavier_normal_(self.weightV)\n",
        "    def forward(self, feature):                         #(samples, frames, features)\n",
        "        query = feature                                 #(samples, frames, features)\n",
        "        key = feature @ self.weightK                    #(samples, frames, features)\n",
        "        value = feature @ self.weightV                  #(samples, frames, features)\n",
        "        energy = query @ key.transpose(1, 2)            #(samples, frames, frames)\n",
        "        weight = torch.nn.functional.softmax(energy, 2) #(samples, frames, frames)\n",
        "        feature = weight @ value                        #(samples, frames, features)\n",
        "        return feature, weight"
      ],
      "metadata": {
        "id": "CWCf0N5qxDcs"
      },
      "execution_count": null,
      "outputs": []
    },
    {
      "cell_type": "markdown",
      "source": [
        "The keys and values are the input features multiplied by matrices of trainable parameters. Let us introduce an analogous matrix for the queries:"
      ],
      "metadata": {
        "id": "5Nxbenvw32iu"
      }
    },
    {
      "cell_type": "code",
      "source": [
        "class Attention(torch.nn.Module):\n",
        "    def __init__(self):\n",
        "        torch.nn.Module.__init__(self)\n",
        "        self.weightQ = torch.nn.Parameter(torch.empty(features, features))\n",
        "        self.weightK = torch.nn.Parameter(torch.empty(features, features))\n",
        "        self.weightV = torch.nn.Parameter(torch.empty(features, features))\n",
        "        torch.nn.init.xavier_normal_(self.weightQ)\n",
        "        torch.nn.init.xavier_normal_(self.weightK)\n",
        "        torch.nn.init.xavier_normal_(self.weightV)\n",
        "    def forward(self, feature):                         #(samples, frames, features)\n",
        "        query = feature @ self.weightQ                  #(samples, frames, features)\n",
        "        key = feature @ self.weightK                    #(samples, frames, features)\n",
        "        value = feature @ self.weightV                  #(samples, frames, features)\n",
        "        energy = query @ key.transpose(1, 2)            #(samples, frames, frames)\n",
        "        weight = torch.nn.functional.softmax(energy, 2) #(samples, frames, frames)\n",
        "        feature = weight @ value                        #(samples, frames, features)\n",
        "        return feature"
      ],
      "metadata": {
        "id": "ElaOGGf2xSwJ"
      },
      "execution_count": null,
      "outputs": []
    },
    {
      "cell_type": "markdown",
      "source": [
        "This is the self-attention mechanism. It basically calculates scalar products of each frame with each other frame in the same sample. The resulting weights reflect how important each frame is to each other frame. The trainable matrices for queries and keys just introduce a non-orthonormal scalar product. The matrix for values makes the output features be linear combinations of the input ones. It turns out that the softmax function behaves better if the energies are normalized in the following way:"
      ],
      "metadata": {
        "id": "pA31ilZ94ZxO"
      }
    },
    {
      "cell_type": "code",
      "source": [
        "class Attention(torch.nn.Module):\n",
        "    def __init__(self):\n",
        "        torch.nn.Module.__init__(self)\n",
        "        self.weightQ = torch.nn.Parameter(torch.empty(features, features))\n",
        "        self.weightK = torch.nn.Parameter(torch.empty(features, features))\n",
        "        self.weightV = torch.nn.Parameter(torch.empty(features, features))\n",
        "        torch.nn.init.xavier_normal_(self.weightQ)\n",
        "        torch.nn.init.xavier_normal_(self.weightK)\n",
        "        torch.nn.init.xavier_normal_(self.weightV)\n",
        "    def forward(self, feature):                         #(samples, frames, features)\n",
        "        query = feature @ self.weightQ                  #(samples, frames, features)\n",
        "        key = feature @ self.weightK                    #(samples, frames, features)\n",
        "        value = feature @ self.weightV                  #(samples, frames, features)\n",
        "        energy = query @ key.transpose(1, 2)            #(samples, frames, frames)\n",
        "        energy = energy / torch.tensor(features).sqrt() #(samples, frames, frames)\n",
        "        weight = torch.nn.functional.softmax(energy, 2) #(samples, frames, frames)\n",
        "        feature = weight @ value                        #(samples, frames, features)\n",
        "        return feature"
      ],
      "metadata": {
        "id": "nGkx6fYcxm_b"
      },
      "execution_count": 14,
      "outputs": []
    },
    {
      "cell_type": "markdown",
      "source": [
        "This is the final version of the self-attention module. Note that ordinary attention returns a single feature vector for each sample. Contrarywise the self-attention returns a separate feature vector for every frame in the sample. In other words the output features from self-atention have the same shape as its input features."
      ],
      "metadata": {
        "id": "Wh3qwyrDSbES"
      }
    },
    {
      "cell_type": "markdown",
      "source": [
        "## Classification with Self-Attention"
      ],
      "metadata": {
        "id": "nVlju-ZCM7be"
      }
    },
    {
      "cell_type": "markdown",
      "source": [
        "Recall our first model that simply averages the embedding features over frames:"
      ],
      "metadata": {
        "id": "L5HlpNSFM1Yr"
      }
    },
    {
      "cell_type": "code",
      "source": [
        "class Model(torch.nn.Module):\n",
        "    def __init__(self):\n",
        "        torch.nn.Module.__init__(self)\n",
        "        self.encoder = torch.nn.Embedding(indices, features)\n",
        "        self.classifier = torch.nn.Linear(features, 1)\n",
        "    def forward(self, index):            #(samples, frames)\n",
        "        feature = self.encoder(index)    #(samples, frames, features)\n",
        "        feature = feature.mean(1)        #(samples, features)\n",
        "        logit = self.classifier(feature) #(samples, 1)\n",
        "        logit = logit.flatten()          #(samples)\n",
        "        return logit"
      ],
      "metadata": {
        "id": "zaB2mtMcyArH"
      },
      "execution_count": null,
      "outputs": []
    },
    {
      "cell_type": "markdown",
      "source": [
        "To introduce self-attention into this model we will pass the embedding features through a self-attention module and then average its output features instead of the embedding features:"
      ],
      "metadata": {
        "id": "-WOhpGVqUIYm"
      }
    },
    {
      "cell_type": "code",
      "source": [
        "class Model(torch.nn.Module):\n",
        "    def __init__(self):\n",
        "        torch.nn.Module.__init__(self)\n",
        "        self.encoder = torch.nn.Embedding(indices, features)\n",
        "        self.attention = Attention()\n",
        "        self.classifier = torch.nn.Linear(features, 1)\n",
        "    def forward(self, index):             #(samples, frames)\n",
        "        feature = self.encoder(index)     #(samples, frames, features)\n",
        "        feature = self.attention(feature) #(samples, frames, features)\n",
        "        feature = feature.mean(1)         #(samples, features)\n",
        "        logit = self.classifier(feature)  #(samples, 1)\n",
        "        logit = logit.flatten()           #(samples)\n",
        "        return logit"
      ],
      "metadata": {
        "id": "sPPkmvAnyMqA"
      },
      "execution_count": null,
      "outputs": []
    },
    {
      "cell_type": "markdown",
      "source": [
        "We believe that the self-attention has distilled the most useful information from the embedding features so that averaging its output features may give better results. Instantiate the model:"
      ],
      "metadata": {
        "id": "GgtdvtgkOaCX"
      }
    },
    {
      "cell_type": "code",
      "source": [
        "model = Model().cuda()"
      ],
      "metadata": {
        "id": "C2jKqbpqNYpQ"
      },
      "execution_count": null,
      "outputs": []
    },
    {
      "cell_type": "markdown",
      "source": [
        "Train it:"
      ],
      "metadata": {
        "id": "rvgaXsxyO21R"
      }
    },
    {
      "cell_type": "code",
      "source": [
        "history = list()\n",
        "optimizer = torch.optim.Adam(model.parameters())\n",
        "max_valid_accuracy = torch.tensor(0.).cuda()\n",
        "for epoch in range(128):\n",
        "    valid_accuracy = torch.tensor(0).cuda()\n",
        "    samples = torch.tensor(0).cuda()\n",
        "    for truth_label, index in valid_pipe:\n",
        "        truth_label, index = truth_label.cuda(), index.cuda()\n",
        "        logit = model(index)\n",
        "        model_label = logit.gt(0).float()\n",
        "        hit = model_label.eq(truth_label)\n",
        "        valid_accuracy += hit.count_nonzero()\n",
        "        samples += hit.numel()\n",
        "    valid_accuracy = valid_accuracy / samples\n",
        "    if max_valid_accuracy.lt(valid_accuracy):\n",
        "        max_valid_accuracy = valid_accuracy\n",
        "        torch.save(model.state_dict(), 'model.pt')\n",
        "    train_accuracy = torch.tensor(0).cuda()\n",
        "    samples = torch.tensor(0).cuda()\n",
        "    for truth_label, index in train_pipe:\n",
        "        truth_label, index = truth_label.cuda(), index.cuda()\n",
        "        logit = model(index)\n",
        "        model_label = logit.gt(0).float()\n",
        "        hit = model_label.eq(truth_label)\n",
        "        train_accuracy += hit.count_nonzero()\n",
        "        samples += hit.numel()\n",
        "        loss = torch.nn.functional.binary_cross_entropy_with_logits(logit, truth_label)\n",
        "        optimizer.zero_grad()\n",
        "        loss.backward()\n",
        "        optimizer.step()\n",
        "    train_accuracy = train_accuracy / samples\n",
        "    history.append((epoch, train_accuracy.item(), valid_accuracy.item()))\n",
        "    print('%5i %5.3f %5.3f' % (epoch, train_accuracy, valid_accuracy))"
      ],
      "metadata": {
        "colab": {
          "base_uri": "https://localhost:8080/"
        },
        "collapsed": true,
        "id": "4v3j7Mg6NeYH",
        "outputId": "5094e87c-4491-49f0-c90f-f79097c968c8"
      },
      "execution_count": null,
      "outputs": [
        {
          "output_type": "stream",
          "name": "stdout",
          "text": [
            "    0 0.566 0.492\n",
            "    1 0.766 0.668\n",
            "    2 0.832 0.801\n",
            "    3 0.856 0.832\n",
            "    4 0.871 0.846\n",
            "    5 0.882 0.857\n",
            "    6 0.892 0.866\n",
            "    7 0.899 0.872\n",
            "    8 0.904 0.875\n",
            "    9 0.910 0.877\n",
            "   10 0.915 0.880\n",
            "   11 0.920 0.883\n",
            "   12 0.925 0.886\n",
            "   13 0.931 0.886\n",
            "   14 0.935 0.887\n",
            "   15 0.940 0.884\n",
            "   16 0.945 0.885\n",
            "   17 0.949 0.886\n",
            "   18 0.952 0.884\n",
            "   19 0.956 0.885\n",
            "   20 0.960 0.884\n",
            "   21 0.963 0.884\n",
            "   22 0.966 0.883\n",
            "   23 0.969 0.882\n",
            "   24 0.973 0.882\n",
            "   25 0.975 0.881\n",
            "   26 0.976 0.878\n",
            "   27 0.979 0.877\n",
            "   28 0.981 0.873\n",
            "   29 0.983 0.874\n",
            "   30 0.985 0.873\n",
            "   31 0.987 0.871\n",
            "   32 0.988 0.872\n",
            "   33 0.990 0.870\n",
            "   34 0.991 0.867\n",
            "   35 0.992 0.866\n",
            "   36 0.993 0.865\n",
            "   37 0.994 0.864\n",
            "   38 0.995 0.862\n",
            "   39 0.996 0.860\n",
            "   40 0.997 0.859\n",
            "   41 0.997 0.858\n",
            "   42 0.998 0.857\n",
            "   43 0.998 0.856\n",
            "   44 0.999 0.856\n",
            "   45 0.999 0.853\n",
            "   46 0.999 0.852\n",
            "   47 0.999 0.851\n",
            "   48 0.999 0.853\n",
            "   49 1.000 0.850\n",
            "   50 1.000 0.851\n",
            "   51 1.000 0.849\n",
            "   52 1.000 0.843\n",
            "   53 1.000 0.851\n",
            "   54 1.000 0.849\n",
            "   55 1.000 0.851\n",
            "   56 1.000 0.848\n",
            "   57 1.000 0.848\n",
            "   58 1.000 0.845\n",
            "   59 1.000 0.847\n",
            "   60 1.000 0.848\n",
            "   61 1.000 0.849\n",
            "   62 1.000 0.848\n",
            "   63 1.000 0.848\n",
            "   64 1.000 0.846\n",
            "   65 1.000 0.850\n",
            "   66 1.000 0.848\n",
            "   67 1.000 0.847\n",
            "   68 1.000 0.847\n",
            "   69 1.000 0.849\n",
            "   70 1.000 0.847\n",
            "   71 1.000 0.847\n",
            "   72 1.000 0.845\n",
            "   73 1.000 0.842\n",
            "   74 1.000 0.846\n",
            "   75 1.000 0.847\n",
            "   76 1.000 0.845\n",
            "   77 1.000 0.849\n",
            "   78 1.000 0.848\n",
            "   79 1.000 0.849\n",
            "   80 1.000 0.847\n",
            "   81 1.000 0.847\n",
            "   82 1.000 0.847\n",
            "   83 1.000 0.849\n",
            "   84 1.000 0.848\n",
            "   85 1.000 0.845\n",
            "   86 1.000 0.845\n",
            "   87 1.000 0.846\n",
            "   88 1.000 0.845\n",
            "   89 1.000 0.847\n",
            "   90 1.000 0.847\n",
            "   91 1.000 0.846\n",
            "   92 1.000 0.847\n",
            "   93 1.000 0.848\n",
            "   94 1.000 0.848\n",
            "   95 1.000 0.847\n",
            "   96 1.000 0.847\n",
            "   97 1.000 0.848\n",
            "   98 1.000 0.847\n",
            "   99 1.000 0.848\n",
            "  100 1.000 0.847\n",
            "  101 1.000 0.846\n",
            "  102 1.000 0.841\n",
            "  103 1.000 0.846\n",
            "  104 1.000 0.846\n",
            "  105 1.000 0.847\n",
            "  106 1.000 0.847\n",
            "  107 1.000 0.847\n",
            "  108 1.000 0.846\n",
            "  109 1.000 0.847\n",
            "  110 1.000 0.846\n",
            "  111 1.000 0.846\n",
            "  112 1.000 0.846\n",
            "  113 1.000 0.846\n",
            "  114 1.000 0.845\n",
            "  115 1.000 0.845\n",
            "  116 1.000 0.845\n",
            "  117 1.000 0.847\n",
            "  118 1.000 0.843\n",
            "  119 1.000 0.847\n",
            "  120 1.000 0.848\n",
            "  121 1.000 0.846\n",
            "  122 1.000 0.845\n",
            "  123 1.000 0.848\n",
            "  124 1.000 0.845\n",
            "  125 1.000 0.845\n",
            "  126 1.000 0.847\n",
            "  127 1.000 0.848\n"
          ]
        }
      ]
    },
    {
      "cell_type": "markdown",
      "source": [
        "Plot the accuracies:"
      ],
      "metadata": {
        "id": "e9QACwtyO9aC"
      }
    },
    {
      "cell_type": "code",
      "source": [
        "epoch, train_accuracy, valid_accuracy = zip(*history)\n",
        "\n",
        "plt.grid()\n",
        "plt.plot(epoch, train_accuracy)\n",
        "plt.plot(epoch, valid_accuracy)"
      ],
      "metadata": {
        "colab": {
          "base_uri": "https://localhost:8080/",
          "height": 447
        },
        "id": "rKR4s0roX1-M",
        "outputId": "437b6dc7-d69c-413c-935b-ce2c552d2926"
      },
      "execution_count": null,
      "outputs": [
        {
          "output_type": "execute_result",
          "data": {
            "text/plain": [
              "[<matplotlib.lines.Line2D at 0x7f8f5c0d9310>]"
            ]
          },
          "metadata": {},
          "execution_count": 25
        },
        {
          "output_type": "display_data",
          "data": {
            "text/plain": [
              "<Figure size 640x480 with 1 Axes>"
            ],
            "image/png": "[encoded data removed]"
          },
          "metadata": {}
        }
      ]
    },
    {
      "cell_type": "markdown",
      "source": [
        "This self-attention model gives approximately the same validation accuracy as the previous models with ordinary attention. Recall that more complex models are more prone to overfitting and would thus need more training data which is unfortunately not available in the IMDB dataset."
      ],
      "metadata": {
        "id": "Tsn7GGKgPE3m"
      }
    },
    {
      "cell_type": "markdown",
      "source": [
        "## Transformer"
      ],
      "metadata": {
        "id": "hixyHHOEgQA9"
      }
    },
    {
      "cell_type": "markdown",
      "source": [
        "Our model now uses the self-attention directly:"
      ],
      "metadata": {
        "id": "V0h232ljSdpW"
      }
    },
    {
      "cell_type": "code",
      "source": [
        "class Model(torch.nn.Module):\n",
        "    def __init__(self):\n",
        "        torch.nn.Module.__init__(self)\n",
        "        self.encoder = torch.nn.Embedding(indices, features)\n",
        "        self.attention = Attention()\n",
        "        self.classifier = torch.nn.Linear(features, 1)\n",
        "    def forward(self, index):             #(samples, frames)\n",
        "        feature = self.encoder(index)     #(samples, frames, features)\n",
        "        feature = self.attention(feature) #(samples, frames, features)\n",
        "        feature = feature.mean(1)         #(samples, features)\n",
        "        logit = self.classifier(feature)  #(samples, 1)\n",
        "        logit = logit.flatten()           #(samples)\n",
        "        return logit"
      ],
      "metadata": {
        "id": "rMcVol5vfh9m"
      },
      "execution_count": 10,
      "outputs": []
    },
    {
      "cell_type": "markdown",
      "source": [
        "But self-attention can also make part of the so-called transformer architecture that we will now introduce. Let us start with a trivial transformer that contains only self-attention:"
      ],
      "metadata": {
        "id": "1K_Dvq0uSm0l"
      }
    },
    {
      "cell_type": "code",
      "source": [
        "class Transformer(torch.nn.Module):\n",
        "    def __init__(self):\n",
        "        torch.nn.Module.__init__(self)\n",
        "        self.attention = Attention()\n",
        "    def forward(self, feature):           #(samples, frames, features)\n",
        "        feature = self.attention(feature) #(samples, frames, features)\n",
        "        return feature"
      ],
      "metadata": {
        "id": "84topvynVc72"
      },
      "execution_count": 11,
      "outputs": []
    },
    {
      "cell_type": "markdown",
      "source": [
        "The model itself will now use this transformer instead of self-attention:"
      ],
      "metadata": {
        "id": "ZgOxpINzVggz"
      }
    },
    {
      "cell_type": "code",
      "source": [
        "class Model(torch.nn.Module):\n",
        "    def __init__(self):\n",
        "        torch.nn.Module.__init__(self)\n",
        "        self.encoder = torch.nn.Embedding(indices, features)\n",
        "        self.transformer = Transformer()\n",
        "        self.classifier = torch.nn.Linear(features, 1)\n",
        "    def forward(self, index):               #(samples, frames)\n",
        "        feature = self.encoder(index)       #(samples, frames, features)\n",
        "        feature = self.transformer(feature) #(samples, frames, features)\n",
        "        feature = feature.mean(1)           #(samples, features)\n",
        "        logit = self.classifier(feature)    #(samples, 1)\n",
        "        logit = logit.flatten()             #(samples)\n",
        "        return logit"
      ],
      "metadata": {
        "id": "3FEb5aTYg_-0"
      },
      "execution_count": 12,
      "outputs": []
    },
    {
      "cell_type": "markdown",
      "source": [
        "The model will not change any more and we will now work only on the transformer. Let the output features from self-attention pass through a dense network formed by two linear layers and a ReLU activation in between:"
      ],
      "metadata": {
        "id": "iBqeglX4Vw7d"
      }
    },
    {
      "cell_type": "code",
      "source": [
        "class Transformer(torch.nn.Module):\n",
        "    def __init__(self):\n",
        "        torch.nn.Module.__init__(self)\n",
        "        self.attention = Attention()\n",
        "        self.linear1 = torch.nn.Linear(features, features * 2)\n",
        "        self.linear2 = torch.nn.Linear(features * 2, features)\n",
        "    def forward(self, feature):                     #(samples, frames, features)\n",
        "        feature = self.attention(feature)           #(samples, frames, features)\n",
        "        feature = self.linear1(feature)             #(samples, frames, features * 2)\n",
        "        feature = torch.nn.functional.relu(feature) #(samples, frames, features * 2)\n",
        "        feature = self.linear2(feature)             #(samples, frames, features)\n",
        "        return feature"
      ],
      "metadata": {
        "id": "O6sdk4bchR3q"
      },
      "execution_count": null,
      "outputs": []
    },
    {
      "cell_type": "markdown",
      "source": [
        "Note first that a linear layer works only on the last axis of the input tensor which is the `features` dimension in our case. So the dense network is applied separately to each frame in each sample. The dense network as a whole does not change the shape of the feature tensor but between the linear layers the number of features is increased twice. The transformer architecture also uses the so-called layer normalization after self-attention and after the dense network:"
      ],
      "metadata": {
        "id": "IQ3hzv9gWkJu"
      }
    },
    {
      "cell_type": "code",
      "source": [
        "class Transformer(torch.nn.Module):\n",
        "    def __init__(self):\n",
        "        torch.nn.Module.__init__(self)\n",
        "        self.attention = Attention()\n",
        "        self.norm1 = torch.nn.LayerNorm(features)\n",
        "        self.linear1 = torch.nn.Linear(features, features * 2)\n",
        "        self.linear2 = torch.nn.Linear(features * 2, features)\n",
        "        self.norm2 = torch.nn.LayerNorm(features)\n",
        "    def forward(self, feature):                     #(samples, frames, features)\n",
        "        feature = self.attention(feature)           #(samples, frames, features)\n",
        "        feature = self.norm1(feature)               #(samples, frames, features)\n",
        "        feature = self.linear1(feature)             #(samples, frames, features * 2)\n",
        "        feature = torch.nn.functional.relu(feature) #(samples, frames, features * 2)\n",
        "        feature = self.linear2(feature)             #(samples, frames, features)\n",
        "        feature = self.norm2(feature)               #(samples, frames, features)\n",
        "        return feature"
      ],
      "metadata": {
        "id": "DBQvvQtYiB2G"
      },
      "execution_count": null,
      "outputs": []
    },
    {
      "cell_type": "markdown",
      "source": [
        "The transformer also employs residual connections known from the ResNet architecture. These connections are applied around the self-attention module and around the dense network:"
      ],
      "metadata": {
        "id": "DETFlMlkhAUc"
      }
    },
    {
      "cell_type": "code",
      "source": [
        "class Transformer(torch.nn.Module):\n",
        "    def __init__(self):\n",
        "        torch.nn.Module.__init__(self)\n",
        "        self.attention = Attention()\n",
        "        self.norm1 = torch.nn.LayerNorm(features)\n",
        "        self.linear1 = torch.nn.Linear(features, features * 2)\n",
        "        self.linear2 = torch.nn.Linear(features * 2, features)\n",
        "        self.norm2 = torch.nn.LayerNorm(features)\n",
        "    def forward(self, feature):                     #(samples, frames, features)\n",
        "        residue = feature                           #(samples, frames, features)\n",
        "        feature = self.attention(feature)           #(samples, frames, features)\n",
        "        feature = feature + residue                 #(samples, frames, features)\n",
        "        feature = self.norm1(feature)               #(samples, frames, features)\n",
        "        residue = feature                           #(samples, frames, features)\n",
        "        feature = self.linear1(feature)             #(samples, frames, features * 2)\n",
        "        feature = torch.nn.functional.relu(feature) #(samples, frames, features)\n",
        "        feature = self.linear2(feature)             #(samples, frames, features)\n",
        "        feature = feature + residue                 #(samples, frames, features)\n",
        "        feature = self.norm2(feature)\n",
        "        return feature"
      ],
      "metadata": {
        "id": "Ia2VD3ZLiQjx"
      },
      "execution_count": 15,
      "outputs": []
    },
    {
      "cell_type": "markdown",
      "source": [
        "This is the final version of our transformer. Create a model which uses it:"
      ],
      "metadata": {
        "id": "X4UUBNelhzHW"
      }
    },
    {
      "cell_type": "code",
      "source": [
        "class Model(torch.nn.Module):\n",
        "    def __init__(self):\n",
        "        torch.nn.Module.__init__(self)\n",
        "        self.encoder = torch.nn.Embedding(indices, features)\n",
        "        self.transformer = Transformer()\n",
        "        self.classifier = torch.nn.Linear(features, 1)\n",
        "    def forward(self, index):               #(samples, frames)\n",
        "        feature = self.encoder(index)       #(samples, frames, features)\n",
        "        feature = self.transformer(feature) #(samples, frames, features)\n",
        "        feature = feature.mean(1)           #(samples, features)\n",
        "        logit = self.classifier(feature)    #(samples, 1)\n",
        "        logit = logit.flatten()             #(samples)\n",
        "        return logit"
      ],
      "metadata": {
        "id": "Lm_VViDRikFh"
      },
      "execution_count": 17,
      "outputs": []
    },
    {
      "cell_type": "markdown",
      "source": [
        "Instantiate the model:"
      ],
      "metadata": {
        "id": "mPA5_wlsih_T"
      }
    },
    {
      "cell_type": "code",
      "source": [
        "model = Model().cuda()"
      ],
      "metadata": {
        "id": "o72lWBNDjAi2"
      },
      "execution_count": 18,
      "outputs": []
    },
    {
      "cell_type": "markdown",
      "source": [
        "Train it:"
      ],
      "metadata": {
        "id": "IfevOBiuiko0"
      }
    },
    {
      "cell_type": "code",
      "source": [
        "history = list()\n",
        "optimizer = torch.optim.Adam(model.parameters())\n",
        "max_valid_accuracy = torch.tensor(0.).cuda()\n",
        "for epoch in range(128):\n",
        "    valid_accuracy = torch.tensor(0).cuda()\n",
        "    samples = torch.tensor(0).cuda()\n",
        "    for truth_label, index in valid_pipe:\n",
        "        truth_label, index = truth_label.cuda(), index.cuda()\n",
        "        logit = model(index)\n",
        "        model_label = logit.gt(0).float()\n",
        "        hit = model_label.eq(truth_label)\n",
        "        valid_accuracy += hit.count_nonzero()\n",
        "        samples += hit.numel()\n",
        "    valid_accuracy = valid_accuracy / samples\n",
        "    if max_valid_accuracy.lt(valid_accuracy):\n",
        "        max_valid_accuracy = valid_accuracy\n",
        "        torch.save(model.state_dict(), 'model.pt')\n",
        "    train_accuracy = torch.tensor(0).cuda()\n",
        "    samples = torch.tensor(0).cuda()\n",
        "    for truth_label, index in train_pipe:\n",
        "        truth_label, index = truth_label.cuda(), index.cuda()\n",
        "        logit = model(index)\n",
        "        model_label = logit.gt(0).float()\n",
        "        hit = model_label.eq(truth_label)\n",
        "        train_accuracy += hit.count_nonzero()\n",
        "        samples += hit.numel()\n",
        "        loss = torch.nn.functional.binary_cross_entropy_with_logits(logit, truth_label)\n",
        "        optimizer.zero_grad()\n",
        "        loss.backward()\n",
        "        optimizer.step()\n",
        "    train_accuracy = train_accuracy / samples\n",
        "    history.append((epoch, train_accuracy.item(), valid_accuracy.item()))\n",
        "    print('%5i %5.3f %5.3f' % (epoch, train_accuracy, valid_accuracy))"
      ],
      "metadata": {
        "colab": {
          "base_uri": "https://localhost:8080/"
        },
        "id": "gRgvBLCEjBKy",
        "outputId": "81d186e9-1365-4ae1-bb35-dcb40395c686",
        "collapsed": true
      },
      "execution_count": 19,
      "outputs": [
        {
          "output_type": "stream",
          "name": "stdout",
          "text": [
            "    0 0.545 0.489\n",
            "    1 0.727 0.638\n",
            "    2 0.816 0.778\n",
            "    3 0.850 0.822\n",
            "    4 0.870 0.839\n",
            "    5 0.881 0.853\n",
            "    6 0.892 0.861\n",
            "    7 0.901 0.865\n",
            "    8 0.908 0.870\n",
            "    9 0.913 0.873\n",
            "   10 0.920 0.874\n",
            "   11 0.926 0.878\n",
            "   12 0.930 0.880\n",
            "   13 0.936 0.882\n",
            "   14 0.940 0.884\n",
            "   15 0.944 0.882\n",
            "   16 0.948 0.881\n",
            "   17 0.952 0.885\n",
            "   18 0.956 0.885\n",
            "   19 0.959 0.886\n",
            "   20 0.962 0.884\n",
            "   21 0.966 0.885\n",
            "   22 0.968 0.882\n",
            "   23 0.970 0.884\n",
            "   24 0.973 0.883\n",
            "   25 0.977 0.881\n",
            "   26 0.977 0.882\n",
            "   27 0.980 0.879\n",
            "   28 0.982 0.877\n",
            "   29 0.984 0.876\n",
            "   30 0.985 0.875\n",
            "   31 0.987 0.877\n",
            "   32 0.988 0.874\n",
            "   33 0.989 0.873\n",
            "   34 0.991 0.869\n",
            "   35 0.991 0.872\n",
            "   36 0.992 0.868\n",
            "   37 0.993 0.869\n",
            "   38 0.994 0.867\n",
            "   39 0.995 0.868\n",
            "   40 0.993 0.863\n",
            "   41 0.995 0.865\n",
            "   42 0.996 0.865\n",
            "   43 0.996 0.863\n",
            "   44 0.996 0.862\n",
            "   45 0.997 0.864\n",
            "   46 0.997 0.862\n",
            "   47 0.997 0.862\n",
            "   48 0.998 0.860\n",
            "   49 0.997 0.849\n",
            "   50 0.998 0.859\n",
            "   51 0.998 0.855\n",
            "   52 0.998 0.859\n",
            "   53 0.998 0.856\n",
            "   54 0.998 0.857\n",
            "   55 0.998 0.854\n",
            "   56 0.998 0.858\n",
            "   57 0.999 0.855\n",
            "   58 0.998 0.854\n",
            "   59 0.999 0.849\n",
            "   60 0.999 0.855\n",
            "   61 0.999 0.854\n",
            "   62 0.998 0.856\n",
            "   63 0.999 0.850\n",
            "   64 0.999 0.853\n",
            "   65 0.999 0.849\n",
            "   66 0.999 0.849\n",
            "   67 0.999 0.850\n",
            "   68 0.999 0.852\n",
            "   69 0.999 0.847\n",
            "   70 0.999 0.850\n",
            "   71 0.999 0.851\n",
            "   72 0.998 0.848\n",
            "   73 0.999 0.848\n",
            "   74 1.000 0.846\n",
            "   75 1.000 0.851\n",
            "   76 1.000 0.846\n",
            "   77 0.999 0.850\n",
            "   78 1.000 0.847\n",
            "   79 1.000 0.839\n",
            "   80 0.999 0.846\n",
            "   81 1.000 0.843\n",
            "   82 1.000 0.848\n",
            "   83 1.000 0.846\n",
            "   84 1.000 0.844\n",
            "   85 1.000 0.843\n",
            "   86 0.999 0.845\n",
            "   87 1.000 0.845\n",
            "   88 1.000 0.844\n",
            "   89 0.999 0.845\n",
            "   90 1.000 0.841\n",
            "   91 1.000 0.840\n",
            "   92 0.999 0.840\n",
            "   93 1.000 0.841\n",
            "   94 1.000 0.840\n",
            "   95 1.000 0.841\n",
            "   96 1.000 0.839\n",
            "   97 1.000 0.839\n",
            "   98 1.000 0.839\n",
            "   99 1.000 0.839\n",
            "  100 1.000 0.838\n",
            "  101 1.000 0.838\n",
            "  102 1.000 0.837\n",
            "  103 1.000 0.837\n",
            "  104 1.000 0.837\n",
            "  105 1.000 0.838\n",
            "  106 1.000 0.838\n",
            "  107 1.000 0.838\n",
            "  108 1.000 0.841\n",
            "  109 1.000 0.839\n",
            "  110 1.000 0.838\n",
            "  111 1.000 0.838\n",
            "  112 1.000 0.838\n",
            "  113 1.000 0.838\n",
            "  114 1.000 0.838\n",
            "  115 1.000 0.837\n",
            "  116 1.000 0.837\n",
            "  117 1.000 0.837\n",
            "  118 1.000 0.837\n",
            "  119 1.000 0.837\n",
            "  120 1.000 0.839\n",
            "  121 1.000 0.838\n",
            "  122 1.000 0.838\n",
            "  123 1.000 0.838\n",
            "  124 1.000 0.837\n",
            "  125 1.000 0.838\n",
            "  126 1.000 0.837\n",
            "  127 1.000 0.837\n"
          ]
        }
      ]
    },
    {
      "cell_type": "markdown",
      "source": [
        "Plot the accuracies:"
      ],
      "metadata": {
        "id": "BAzYdP1Tiubc"
      }
    },
    {
      "cell_type": "code",
      "source": [
        "epoch, train_accuracy, valid_accuracy = zip(*history)\n",
        "\n",
        "plt.grid()\n",
        "plt.plot(epoch, train_accuracy)\n",
        "plt.plot(epoch, valid_accuracy)"
      ],
      "metadata": {
        "id": "qnPX6YFevwdR",
        "colab": {
          "base_uri": "https://localhost:8080/",
          "height": 447
        },
        "outputId": "b1dbdc20-ca38-4d72-fe92-8f35cea47259"
      },
      "execution_count": 20,
      "outputs": [
        {
          "output_type": "execute_result",
          "data": {
            "text/plain": [
              "[<matplotlib.lines.Line2D at 0x7f4630b292e0>]"
            ]
          },
          "metadata": {},
          "execution_count": 20
        },
        {
          "output_type": "display_data",
          "data": {
            "text/plain": [
              "<Figure size 640x480 with 1 Axes>"
            ],
            "image/png": "[encoded data removed]"
          },
          "metadata": {}
        }
      ]
    },
    {
      "cell_type": "markdown",
      "source": [
        "In our case the complete transformer gives practically identical results as the self-attention alone. Since the transformer inputs and outputs have the same shapes it is possible to stack many transformers as ordinary layers:"
      ],
      "metadata": {
        "id": "lVuWHy0uXpIQ"
      }
    },
    {
      "cell_type": "code",
      "source": [
        "class Model(torch.nn.Module):\n",
        "    def __init__(self):\n",
        "        torch.nn.Module.__init__(self)\n",
        "        self.encoder = torch.nn.Embedding(indices, features)\n",
        "        self.transformer1 = Transformer()\n",
        "        self.transformer2 = Transformer()\n",
        "        self.classifier = torch.nn.Linear(features, 1)\n",
        "    def forward(self, index):                #(samples, frames)\n",
        "        feature = self.encoder(index)        #(samples, frames, features)\n",
        "        feature = self.transformer1(feature) #(samples, frames, features)\n",
        "        feature = self.transformer2(feature) #(samples, frames, features)\n",
        "        feature = feature.mean(1)            #(samples, features)\n",
        "        logit = self.classifier(feature)     #(samples, 1)\n",
        "        logit = logit.flatten()              #(samples)\n",
        "        return logit"
      ],
      "metadata": {
        "id": "aY2O04yPYKhZ"
      },
      "execution_count": null,
      "outputs": []
    },
    {
      "cell_type": "markdown",
      "source": [
        "We will not train this model because it would take quite some time on a free colab GPU."
      ],
      "metadata": {
        "id": "P2l-0ueUYmby"
      }
    },
    {
      "cell_type": "markdown",
      "source": [
        "## Positional embedding"
      ],
      "metadata": {
        "id": "s8DdrbRrlfvU"
      }
    },
    {
      "cell_type": "markdown",
      "source": [
        "So far our models completely neglected the order of words. To take it into account we will now assign embeddings not only to unique words but also to positions of words in the text. These are called positional embeddings as opposed to word embeddings used so far. Let us assume that a sample may consist of maximum 3000 frames and introduce a new embedding layer that assigns an embedding to each frame. If these positional embeddings have the same shape as the word embeddings they can be simply added to form the final embeddings which are fed to the transformer:"
      ],
      "metadata": {
        "id": "cu1NLbI3msFs"
      }
    },
    {
      "cell_type": "code",
      "source": [
        "class Model(torch.nn.Module):\n",
        "    def __init__(self):\n",
        "        torch.nn.Module.__init__(self)\n",
        "        self.index_encoder = torch.nn.Embedding(indices, features)\n",
        "        self.frame_encoder = torch.nn.Embedding(3000, features)\n",
        "        self.transformer = Transformer()\n",
        "        self.classifier = torch.nn.Linear(features, 1)\n",
        "    def forward(self, index):                                  #(samples, frames)\n",
        "        samples, frames = index.size()\n",
        "        frame = torch.arange(frames).cuda()                    #(frames)\n",
        "        frame_feature = self.frame_encoder(frame)              #(frames, features)\n",
        "        frame_feature = frame_feature.expand(samples, -1, -1)  #(samples, frames, features)\n",
        "        index_feature = self.index_encoder(index)              #(samples, frames, features)\n",
        "        feature = index_feature + frame_feature                #(samples, frames, features)\n",
        "        feature = self.transformer(feature)                    #(samples, frames, features)\n",
        "        feature = feature.mean(1)                              #(samples, features)\n",
        "        logit = self.classifier(feature)                       #(samples, 1)\n",
        "        logit = logit.flatten()                                #(samples)\n",
        "        return logit"
      ],
      "metadata": {
        "id": "cr0dT-JAqeDP"
      },
      "execution_count": 11,
      "outputs": []
    },
    {
      "cell_type": "markdown",
      "source": [
        "But a better way is to catenate the word and positional embeddings and then pass them through a new linear layer that will transform them to the final embeddings of appropriate shape:"
      ],
      "metadata": {
        "id": "eWvy5KbTrupK"
      }
    },
    {
      "cell_type": "code",
      "source": [
        "class Model(torch.nn.Module):\n",
        "    def __init__(self):\n",
        "        torch.nn.Module.__init__(self)\n",
        "        self.index_encoder = torch.nn.Embedding(indices, features)\n",
        "        self.frame_encoder = torch.nn.Embedding(3000, features)\n",
        "        self.cat = torch.nn.Linear(features * 2, features)\n",
        "        self.transformer = Transformer()\n",
        "        self.classifier = torch.nn.Linear(features, 1)\n",
        "    def forward(self, index):                                  #(samples, frames)\n",
        "        samples, frames = index.size()\n",
        "        frame = torch.arange(frames).cuda()                    #(frames)\n",
        "        frame_feature = self.frame_encoder(frame)              #(frames, features)\n",
        "        frame_feature = frame_feature.expand(samples, -1, -1)  #(samples, frames, features)\n",
        "        index_feature = self.index_encoder(index)              #(samples, frames, features)\n",
        "        feature = torch.cat([index_feature, frame_feature], 2) #(samples, frames, features * 2)\n",
        "        feature = self.cat(feature)                            #(samples, frames, features)\n",
        "        feature = self.transformer(feature)                    #(samples, frames, features)\n",
        "        feature = feature.mean(1)                              #(samples, features)\n",
        "        logit = self.classifier(feature)                       #(samples, 1)\n",
        "        logit = logit.flatten()                                #(samples)\n",
        "        return logit"
      ],
      "metadata": {
        "id": "GE_q10FOmcKF"
      },
      "execution_count": 16,
      "outputs": []
    },
    {
      "cell_type": "markdown",
      "source": [
        "Now the final embeddings carry information on both the meaning and position of each word in the text. Instantiate the model:"
      ],
      "metadata": {
        "id": "TGuQMl2psFQc"
      }
    },
    {
      "cell_type": "code",
      "source": [
        "model = Model().cuda()"
      ],
      "metadata": {
        "id": "9xW1Sf3lsYZc"
      },
      "execution_count": 17,
      "outputs": []
    },
    {
      "cell_type": "markdown",
      "source": [
        "Train it:"
      ],
      "metadata": {
        "id": "rY0VgbD5sfrb"
      }
    },
    {
      "cell_type": "code",
      "source": [
        "history = list()\n",
        "optimizer = torch.optim.Adam(model.parameters())\n",
        "max_valid_accuracy = torch.tensor(0.).cuda()\n",
        "for epoch in range(128):\n",
        "    valid_accuracy = torch.tensor(0).cuda()\n",
        "    samples = torch.tensor(0).cuda()\n",
        "    for truth_label, index in valid_pipe:\n",
        "        truth_label, index = truth_label.cuda(), index.cuda()\n",
        "        logit = model(index)\n",
        "        model_label = logit.gt(0).float()\n",
        "        hit = model_label.eq(truth_label)\n",
        "        valid_accuracy += hit.count_nonzero()\n",
        "        samples += hit.numel()\n",
        "    valid_accuracy = valid_accuracy / samples\n",
        "    if max_valid_accuracy.lt(valid_accuracy):\n",
        "        max_valid_accuracy = valid_accuracy\n",
        "        torch.save(model.state_dict(), 'drive/MyDrive/model.pt')\n",
        "    train_accuracy = torch.tensor(0).cuda()\n",
        "    samples = torch.tensor(0).cuda()\n",
        "    for truth_label, index in train_pipe:\n",
        "        truth_label, index = truth_label.cuda(), index.cuda()\n",
        "        logit = model(index)\n",
        "        model_label = logit.gt(0).float()\n",
        "        hit = model_label.eq(truth_label)\n",
        "        train_accuracy += hit.count_nonzero()\n",
        "        samples += hit.numel()\n",
        "        loss = torch.nn.functional.binary_cross_entropy_with_logits(logit, truth_label)\n",
        "        optimizer.zero_grad()\n",
        "        loss.backward()\n",
        "        optimizer.step()\n",
        "    train_accuracy = train_accuracy / samples\n",
        "    history.append((epoch, train_accuracy.item(), valid_accuracy.item()))\n",
        "    print('%5i %5.3f %5.3f' % (epoch, train_accuracy, valid_accuracy))"
      ],
      "metadata": {
        "colab": {
          "base_uri": "https://localhost:8080/"
        },
        "collapsed": true,
        "id": "LCm6qMKVsiFd",
        "outputId": "1b82116c-2a8b-488c-8689-3580cd0e51db"
      },
      "execution_count": 18,
      "outputs": [
        {
          "output_type": "stream",
          "name": "stdout",
          "text": [
            "    0 0.519 0.500\n",
            "    1 0.702 0.578\n",
            "    2 0.829 0.777\n",
            "    3 0.862 0.824\n",
            "    4 0.878 0.851\n",
            "    5 0.892 0.862\n",
            "    6 0.900 0.858\n",
            "    7 0.909 0.874\n",
            "    8 0.913 0.877\n",
            "    9 0.922 0.873\n",
            "   10 0.927 0.882\n",
            "   11 0.931 0.885\n",
            "   12 0.936 0.884\n",
            "   13 0.943 0.889\n",
            "   14 0.947 0.884\n",
            "   15 0.952 0.890\n",
            "   16 0.957 0.891\n",
            "   17 0.959 0.889\n",
            "   18 0.963 0.888\n",
            "   19 0.967 0.887\n",
            "   20 0.970 0.885\n",
            "   21 0.971 0.886\n",
            "   22 0.976 0.886\n",
            "   23 0.979 0.883\n",
            "   24 0.980 0.883\n",
            "   25 0.981 0.883\n",
            "   26 0.984 0.882\n",
            "   27 0.985 0.878\n",
            "   28 0.987 0.879\n",
            "   29 0.987 0.880\n",
            "   30 0.988 0.878\n",
            "   31 0.990 0.880\n",
            "   32 0.989 0.871\n",
            "   33 0.990 0.874\n",
            "   34 0.992 0.876\n",
            "   35 0.992 0.878\n",
            "   36 0.994 0.877\n",
            "   37 0.993 0.873\n",
            "   38 0.994 0.876\n",
            "   39 0.994 0.876\n",
            "   40 0.994 0.875\n",
            "   41 0.995 0.876\n",
            "   42 0.994 0.869\n",
            "   43 0.996 0.869\n",
            "   44 0.996 0.872\n",
            "   45 0.997 0.874\n",
            "   46 0.996 0.872\n",
            "   47 0.996 0.870\n",
            "   48 0.997 0.872\n",
            "   49 0.996 0.871\n",
            "   50 0.997 0.872\n",
            "   51 0.997 0.872\n",
            "   52 0.996 0.870\n",
            "   53 0.998 0.870\n",
            "   54 0.998 0.865\n",
            "   55 0.998 0.867\n",
            "   56 0.998 0.868\n",
            "   57 0.998 0.869\n",
            "   58 0.998 0.868\n",
            "   59 0.997 0.869\n",
            "   60 0.998 0.865\n",
            "   61 0.999 0.866\n",
            "   62 0.999 0.865\n",
            "   63 0.998 0.858\n",
            "   64 0.998 0.865\n",
            "   65 0.999 0.864\n",
            "   66 0.999 0.863\n",
            "   67 0.999 0.862\n",
            "   68 0.999 0.863\n",
            "   69 0.998 0.862\n",
            "   70 0.999 0.862\n",
            "   71 0.999 0.863\n",
            "   72 0.999 0.860\n",
            "   73 0.999 0.860\n",
            "   74 0.999 0.861\n",
            "   75 0.999 0.858\n",
            "   76 0.999 0.857\n",
            "   77 0.999 0.861\n",
            "   78 1.000 0.859\n",
            "   79 0.999 0.857\n",
            "   80 0.999 0.857\n",
            "   81 1.000 0.859\n",
            "   82 0.999 0.857\n",
            "   83 0.999 0.861\n",
            "   84 0.999 0.858\n",
            "   85 0.999 0.859\n",
            "   86 1.000 0.857\n",
            "   87 0.999 0.858\n",
            "   88 1.000 0.857\n",
            "   89 1.000 0.858\n",
            "   90 1.000 0.858\n",
            "   91 1.000 0.854\n",
            "   92 0.999 0.859\n",
            "   93 1.000 0.854\n",
            "   94 1.000 0.855\n",
            "   95 1.000 0.855\n",
            "   96 1.000 0.854\n",
            "   97 0.999 0.854\n",
            "   98 1.000 0.851\n",
            "   99 1.000 0.853\n",
            "  100 0.999 0.856\n",
            "  101 1.000 0.853\n",
            "  102 1.000 0.854\n",
            "  103 1.000 0.855\n",
            "  104 1.000 0.853\n",
            "  105 1.000 0.849\n",
            "  106 1.000 0.849\n",
            "  107 1.000 0.851\n",
            "  108 1.000 0.850\n",
            "  109 1.000 0.849\n",
            "  110 1.000 0.849\n",
            "  111 1.000 0.848\n",
            "  112 1.000 0.851\n",
            "  113 0.999 0.849\n",
            "  114 1.000 0.847\n",
            "  115 1.000 0.846\n",
            "  116 1.000 0.848\n",
            "  117 0.999 0.847\n",
            "  118 1.000 0.852\n",
            "  119 1.000 0.849\n",
            "  120 1.000 0.849\n",
            "  121 1.000 0.848\n",
            "  122 1.000 0.848\n",
            "  123 1.000 0.848\n",
            "  124 0.999 0.842\n",
            "  125 1.000 0.845\n",
            "  126 1.000 0.845\n",
            "  127 1.000 0.840\n"
          ]
        }
      ]
    },
    {
      "cell_type": "markdown",
      "source": [
        "Plot the accuracies:"
      ],
      "metadata": {
        "id": "lEZwr6yAsin4"
      }
    },
    {
      "cell_type": "code",
      "source": [
        "epoch, train_accuracy, valid_accuracy = zip(*history)\n",
        "\n",
        "plt.grid()\n",
        "plt.plot(epoch, train_accuracy)\n",
        "plt.plot(epoch, valid_accuracy)"
      ],
      "metadata": {
        "colab": {
          "base_uri": "https://localhost:8080/",
          "height": 447
        },
        "id": "_la_UYLusu2C",
        "outputId": "af7c11c5-ec9e-432d-c23f-ec174932a7e5"
      },
      "execution_count": 19,
      "outputs": [
        {
          "output_type": "execute_result",
          "data": {
            "text/plain": [
              "[<matplotlib.lines.Line2D at 0x7f3cd0d0f580>]"
            ]
          },
          "metadata": {},
          "execution_count": 19
        },
        {
          "output_type": "display_data",
          "data": {
            "text/plain": [
              "<Figure size 640x480 with 1 Axes>"
            ],
            "image/png": "[encoded data removed]"
          },
          "metadata": {}
        }
      ]
    },
    {
      "cell_type": "markdown",
      "source": [
        "It seems that the positional embeddings have slightly increased the validation accuracy. To make them work better it is necessary to conserve the division of the text into sentences."
      ],
      "metadata": {
        "id": "XBDL9rK3Zvjh"
      }
    }
  ]
}