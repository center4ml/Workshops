{
 "cells": [
  {
   "cell_type": "markdown",
   "id": "curious-malta",
   "metadata": {
    "id": "handmade-nevada"
   },
   "source": [
    "# Autoencoders: denoising"
   ]
  },
  {
   "cell_type": "markdown",
   "id": "uniform-surprise",
   "metadata": {
    "id": "JSfxX-xQv6ti"
   },
   "source": [
    "This notebook includes:\n",
    "- denoising autoencoders\n",
    "- latent space distribution with SWAE"
   ]
  },
  {
   "cell_type": "markdown",
   "id": "supposed-luxembourg",
   "metadata": {
    "id": "strategic-synthesis"
   },
   "source": [
    "**Denoising**\n",
    "![denoising](https://miro.medium.com/max/5160/1*SxwRp9i23OM0Up4sEze1QQ@2x.png)\n",
    "Source: https://www.kaggle.com/tarunkr/autoencoder-denoising-image-mnist-cifar10"
   ]
  },
  {
   "cell_type": "markdown",
   "id": "likely-cosmetic",
   "metadata": {
    "id": "acknowledged-rotation"
   },
   "source": [
    "## Technical imports"
   ]
  },
  {
   "cell_type": "code",
   "execution_count": 9,
   "id": "continuous-dutch",
   "metadata": {
    "id": "excellent-annotation"
   },
   "outputs": [],
   "source": [
    "import matplotlib.pyplot as plt\n",
    "import numpy as np"
   ]
  },
  {
   "cell_type": "markdown",
   "id": "drawn-series",
   "metadata": {
    "id": "governmental-strike"
   },
   "source": [
    "## Data"
   ]
  },
  {
   "cell_type": "code",
   "execution_count": 10,
   "id": "compatible-tattoo",
   "metadata": {
    "id": "exceptional-month"
   },
   "outputs": [],
   "source": [
    "import torch\n",
    "from torchvision import transforms\n",
    "from torchvision.datasets import MNIST"
   ]
  },
  {
   "cell_type": "code",
   "execution_count": 11,
   "id": "equipped-lebanon",
   "metadata": {
    "id": "greenhouse-heavy"
   },
   "outputs": [],
   "source": [
    "DATASETS_PATH = 'data' # path to directory where data are to be stored"
   ]
  },
  {
   "cell_type": "code",
   "execution_count": 12,
   "id": "classified-cartoon",
   "metadata": {
    "id": "furnished-croatia"
   },
   "outputs": [],
   "source": [
    "transform = transforms.ToTensor()"
   ]
  },
  {
   "cell_type": "code",
   "execution_count": 13,
   "id": "arctic-possibility",
   "metadata": {
    "colab": {
     "base_uri": "https://localhost:8080/",
     "height": 435,
     "referenced_widgets": [
      "330136a0aab240478e285c1da5bf8b60",
      "d97571162f8c4e41afb0b5880e2b4f2f",
      "7d08ffc537a4461a8c0d374b79ce90e2",
      "2d61bfa682f247a78388a2f61ddd79c2",
      "1dc5976ae436443a888deaa2aab4555b",
      "cbe6ac99192844eda75794cba9c7f0fa",
      "8dd689010a7545fdbd6f4be277e806e0",
      "7464fcfafca743838983bad08d7759e5",
      "7a22133257e04a2e9736692c176f80a4",
      "a6bc6521c67d453f9b34e328ee69d2a0",
      "9b8a5570a949485c8a3ad4ca9a493750",
      "54a47fe647a64a23953e195013344439",
      "fb671887cb444625b9d478f7dd361b05",
      "5cf975fabd334c899a1126283124e79a",
      "5a8b716955c84cae8d62141530f83c1d",
      "8964a9b86941404ba5e65f93c17cfc46",
      "3afc7bfe877c4ed1a0fc6d9bdd28f173",
      "88c6bf8bafeb4f108bb9d0f598898f88",
      "0ed47c38cce84c2d92060875e2e1f298",
      "17d9b76b746a41ff9d43fc423b8d56ed",
      "7994e09d820e40bd9fe53af5bac37ec4",
      "29cbbf45ca9f4ef4a85a47a08061be02",
      "2017a8119b38476eac6c9125c170510f",
      "413e3d818cf2438eb5f395e92defd988",
      "ce962b60d1234e9ab67eb6c721599498",
      "5d7610220aaa43f4928e76a6798e18f6",
      "c88eeb72eeb345c982a77b42e24c84b6",
      "e895c6dcb6984706bb4d78718534fae9",
      "b546c3db511243819663b738768cffc5",
      "0ff7dfc619f44ad48702d8031a5abb41",
      "c35133a90dc945cb8262d6870d3c3d65",
      "1081c5b2ea5d4944afbe8eebecc8f9b7",
      "d1345973d7424e09ab1d1562655910fd",
      "fb32e470114c4c49acd3af316eadbb61",
      "b776ded91e4b495c8f9e06e2cfaa4f03",
      "43b6adcef1d64b11b709264f5c59e429",
      "8411615b07144e98bdc64a0e11249364",
      "89e137166f314a3399d9446f523fb2d5",
      "c7c5305bfaf3461fb4260f35ee419676",
      "5a90ce97f0114936b176082550a98172",
      "514afb1f64944fd887a54b2b6c1197f1",
      "30d0c43fd83c46009768251e29db71e3",
      "3d5009164ec24cba9ba192e0dd2553b0",
      "96f549b788aa4620ac7992b662ded266"
     ]
    },
    "id": "international-cooking",
    "outputId": "c57e40bd-1a18-4e29-a0ef-9c8cc3cbb3b8"
   },
   "outputs": [],
   "source": [
    "mnist_train = MNIST(DATASETS_PATH, train=True, download=True, transform=transform);\n",
    "mnist_test = MNIST(DATASETS_PATH, train=False, download=True, transform=transform);"
   ]
  },
  {
   "cell_type": "code",
   "execution_count": 14,
   "id": "elegant-small",
   "metadata": {
    "id": "tamil-lyric"
   },
   "outputs": [],
   "source": [
    "batch_size = 128\n",
    "mnist_train_dataloader = torch.utils.data.DataLoader(mnist_train, batch_size=batch_size, shuffle=True)\n",
    "mnist_test_dataloader = torch.utils.data.DataLoader(mnist_test, batch_size=batch_size, shuffle=False)"
   ]
  },
  {
   "cell_type": "code",
   "execution_count": 15,
   "id": "located-cigarette",
   "metadata": {
    "id": "automatic-resort"
   },
   "outputs": [],
   "source": [
    "img = mnist_train[0][0]"
   ]
  },
  {
   "cell_type": "markdown",
   "id": "appreciated-blank",
   "metadata": {
    "id": "extra-demand"
   },
   "source": [
    "Salt and pepper transform:"
   ]
  },
  {
   "cell_type": "code",
   "execution_count": 16,
   "id": "seven-constitutional",
   "metadata": {
    "colab": {
     "base_uri": "https://localhost:8080/",
     "height": 283
    },
    "id": "international-demographic",
    "outputId": "a624b4e5-7aa2-43c4-d583-3a21aa4fb1b4"
   },
   "outputs": [
    {
     "data": {
      "text/plain": [
       "<matplotlib.image.AxesImage at 0x1db8bbdb400>"
      ]
     },
     "execution_count": 16,
     "metadata": {},
     "output_type": "execute_result"
    },
    {
     "data": {
      "image/png": "[encoded data removed]",
      "text/plain": [
       "<Figure size 432x288 with 1 Axes>"
      ]
     },
     "metadata": {
      "needs_background": "light"
     },
     "output_type": "display_data"
    }
   ],
   "source": [
    "plt.imshow(img[0])"
   ]
  },
  {
   "cell_type": "code",
   "execution_count": 20,
   "id": "pressing-bandwidth",
   "metadata": {
    "colab": {
     "base_uri": "https://localhost:8080/"
    },
    "id": "industrial-cleaner",
    "outputId": "e3b7dfd2-350c-4abc-f251-36d1df7eb0d4"
   },
   "outputs": [
    {
     "data": {
      "text/plain": [
       "torch.Size([1, 28, 28])"
      ]
     },
     "execution_count": 20,
     "metadata": {},
     "output_type": "execute_result"
    }
   ],
   "source": [
    "img.shape"
   ]
  },
  {
   "cell_type": "code",
   "execution_count": 21,
   "id": "academic-partner",
   "metadata": {
    "id": "chronic-president"
   },
   "outputs": [],
   "source": [
    "batch = next(iter(mnist_train_dataloader))"
   ]
  },
  {
   "cell_type": "code",
   "execution_count": 22,
   "id": "weekly-integrity",
   "metadata": {
    "colab": {
     "base_uri": "https://localhost:8080/"
    },
    "id": "endless-theme",
    "outputId": "1b9e7257-bd20-4275-84de-497da8fae2d6"
   },
   "outputs": [
    {
     "data": {
      "text/plain": [
       "torch.Size([128, 1, 28, 28])"
      ]
     },
     "execution_count": 22,
     "metadata": {},
     "output_type": "execute_result"
    }
   ],
   "source": [
    "batch[0].shape"
   ]
  },
  {
   "cell_type": "code",
   "execution_count": 23,
   "id": "nervous-password",
   "metadata": {
    "colab": {
     "base_uri": "https://localhost:8080/",
     "height": 283
    },
    "id": "dense-moderator",
    "outputId": "36653b3a-e84e-4824-f1ab-dfa43e1293f9"
   },
   "outputs": [
    {
     "data": {
      "text/plain": [
       "<matplotlib.image.AxesImage at 0x1db8de9b7b8>"
      ]
     },
     "execution_count": 23,
     "metadata": {},
     "output_type": "execute_result"
    },
    {
     "data": {
      "image/png": "[encoded data removed]",
      "text/plain": [
       "<Figure size 432x288 with 1 Axes>"
      ]
     },
     "metadata": {
      "needs_background": "light"
     },
     "output_type": "display_data"
    }
   ],
   "source": [
    "plt.imshow(batch[0][0][0])"
   ]
  },
  {
   "cell_type": "code",
   "execution_count": 24,
   "id": "knowing-production",
   "metadata": {
    "id": "social-correlation"
   },
   "outputs": [],
   "source": [
    "def salt_and_pepper(img, noise):\n",
    "    \"\"\"img: tensor of size 1 x H x W\"\n",
    "    noise: salt and pepper fraction\"\"\"\n",
    "    # copy tensor\n",
    "    img_out = img.clone()\n",
    "    \n",
    "    N_pixels = img_out.shape[1] * img_out.shape[2]\n",
    "    # randomly sample indices for salt and pepper\n",
    "    indices_salt = np.random.choice(np.arange(N_pixels), int(0.5*noise*N_pixels))\n",
    "    indices_pepper = np.random.choice(np.arange(N_pixels), int(0.5*noise*N_pixels))\n",
    "    # apply salt and pepper\n",
    "    img_out[np.unravel_index(indices_salt, img_out.shape)] = 0.0\n",
    "    img_out[np.unravel_index(indices_pepper, img_out.shape)] = 1.0\n",
    "    return img_out"
   ]
  },
  {
   "cell_type": "code",
   "execution_count": 25,
   "id": "julian-distance",
   "metadata": {
    "colab": {
     "base_uri": "https://localhost:8080/",
     "height": 283
    },
    "id": "demanding-advisory",
    "outputId": "93f8a957-4874-4c0b-8197-cd5666739643"
   },
   "outputs": [
    {
     "data": {
      "text/plain": [
       "<matplotlib.image.AxesImage at 0x1db8dd1f080>"
      ]
     },
     "execution_count": 25,
     "metadata": {},
     "output_type": "execute_result"
    },
    {
     "data": {
      "image/png": "[encoded data removed]",
      "text/plain": [
       "<Figure size 432x288 with 1 Axes>"
      ]
     },
     "metadata": {
      "needs_background": "light"
     },
     "output_type": "display_data"
    }
   ],
   "source": [
    "plt.imshow(salt_and_pepper(batch[0][0], 0.2)[0])"
   ]
  },
  {
   "cell_type": "code",
   "execution_count": 26,
   "id": "arabic-illness",
   "metadata": {
    "id": "approved-congress"
   },
   "outputs": [],
   "source": [
    "class SaltPepper:\n",
    "    def __init__(self, noise):\n",
    "        self.noise = noise\n",
    "    \n",
    "    def __call__(self, img_or_batch):\n",
    "        if img_or_batch.ndim == 3:\n",
    "            is_image=True\n",
    "            img_or_batch = img_or_batch.unsqueeze(0) # produce \"batch\" of length 1\n",
    "        else:\n",
    "            is_image=False\n",
    "        \n",
    "        batch_out = img_or_batch.clone()\n",
    "    \n",
    "        N_pixels = batch_out.shape[0] * batch_out.shape[2] * batch_out.shape[3]\n",
    "        # randomly sample indices for salt and pepper\n",
    "        indices_salt = np.random.choice(np.arange(N_pixels), int(0.5*self.noise*N_pixels))\n",
    "        indices_pepper = np.random.choice(np.arange(N_pixels), int(0.5*self.noise*N_pixels))\n",
    "        # apply salt and pepper\n",
    "        batch_out[np.unravel_index(indices_salt, batch_out.shape)] = 0.0\n",
    "        batch_out[np.unravel_index(indices_pepper, batch_out.shape)] = 1.0\n",
    "        \n",
    "        if is_image:\n",
    "            return batch_out.squeeze(0) # return image shape\n",
    "    \n",
    "        return batch_out"
   ]
  },
  {
   "cell_type": "code",
   "execution_count": 27,
   "id": "appreciated-syndrome",
   "metadata": {
    "id": "likely-receipt"
   },
   "outputs": [],
   "source": [
    "noise_level = 0.2\n",
    "salt_pepper_transform = SaltPepper(noise_level)"
   ]
  },
  {
   "cell_type": "code",
   "execution_count": 28,
   "id": "settled-thesaurus",
   "metadata": {
    "colab": {
     "base_uri": "https://localhost:8080/",
     "height": 283
    },
    "id": "active-vietnamese",
    "outputId": "358ed814-817f-47fd-8dbf-dbdb95444486"
   },
   "outputs": [
    {
     "data": {
      "text/plain": [
       "<matplotlib.image.AxesImage at 0x1db8dd90b38>"
      ]
     },
     "execution_count": 28,
     "metadata": {},
     "output_type": "execute_result"
    },
    {
     "data": {
      "image/png": "[encoded data removed]",
      "text/plain": [
       "<Figure size 432x288 with 1 Axes>"
      ]
     },
     "metadata": {
      "needs_background": "light"
     },
     "output_type": "display_data"
    }
   ],
   "source": [
    "plt.imshow(salt_pepper_transform(batch[0])[0][0], vmin=0, vmax=1)"
   ]
  },
  {
   "cell_type": "code",
   "execution_count": 29,
   "id": "excessive-information",
   "metadata": {
    "colab": {
     "base_uri": "https://localhost:8080/",
     "height": 407
    },
    "id": "accepting-elite",
    "outputId": "7f0f30b3-819d-424b-8a03-c6f9afbadea7"
   },
   "outputs": [
    {
     "data": {
      "image/png": "[encoded data removed]",
      "text/plain": [
       "<Figure size 1224x504 with 12 Axes>"
      ]
     },
     "metadata": {
      "needs_background": "light"
     },
     "output_type": "display_data"
    }
   ],
   "source": [
    "num_images = 6\n",
    "fig, axs = plt.subplots(ncols=num_images, nrows=2, figsize=(17,7))\n",
    "for i in range(num_images):\n",
    "    img, target = mnist_train[i]\n",
    "    axs[0][i].imshow(img[0])\n",
    "    axs[0][i].set_title(f'{mnist_train.classes[target]}')\n",
    "    axs[1][i].imshow(salt_pepper_transform(img)[0])\n",
    "    \n",
    "    "
   ]
  },
  {
   "cell_type": "code",
   "execution_count": 30,
   "id": "varied-nitrogen",
   "metadata": {},
   "outputs": [],
   "source": [
    "class MaskGenerator:\n",
    "    def __init__(self, scale=4, noise=0.4, fill_value=0.5):\n",
    "        self.scale = scale\n",
    "        self.noise = noise\n",
    "        self.fill_value = fill_value\n",
    "    \n",
    "    def __call__(self, img_or_batch):\n",
    "        if img_or_batch.ndim == 3:\n",
    "            is_image=True\n",
    "            img_or_batch = img_or_batch.unsqueeze(0) # produce \"batch\" of length 1\n",
    "        else:\n",
    "            is_image=False\n",
    "        \n",
    "        batch_out = img_or_batch.clone()\n",
    "        batch_size, channels, height, width = batch_out.shape\n",
    "        \n",
    "        # be sure that scale if divisor of both height and width\n",
    "        assert height%self.scale == 0 and width%self.scale == 0\n",
    "                \n",
    "        # get random mask\n",
    "        N_pixels = batch_size * height//self.scale * width//self.scale\n",
    "        indices_mask = np.random.rand(N_pixels).reshape((batch_out.shape[0], 1, batch_out.shape[2]//self.scale, batch_out.shape[3]//self.scale)) < self.noise\n",
    "        indices_mask = indices_mask.repeat(self.scale, axis=2).repeat(self.scale, axis=3)\n",
    "        indices_mask = torch.from_numpy(indices_mask).float().to(img_or_batch.device)\n",
    "\n",
    "        # apply mask\n",
    "        batch_out = (1-indices_mask)*batch_out + indices_mask*self.fill_value\n",
    "        \n",
    "        if is_image:\n",
    "            return batch_out.squeeze(0) # return image shape\n",
    "    \n",
    "        return batch_out"
   ]
  },
  {
   "cell_type": "code",
   "execution_count": 33,
   "id": "empty-underground",
   "metadata": {},
   "outputs": [
    {
     "data": {
      "image/png": "[encoded data removed]",
      "text/plain": [
       "<Figure size 1224x504 with 12 Axes>"
      ]
     },
     "metadata": {
      "needs_background": "light"
     },
     "output_type": "display_data"
    }
   ],
   "source": [
    "noise_level = 0.3\n",
    "mask_transform = MaskGenerator(scale=4, noise=noise_level, fill_value=0.1)\n",
    "\n",
    "num_images = 6\n",
    "fig, axs = plt.subplots(ncols=num_images, nrows=2, figsize=(17,7))\n",
    "for i in range(num_images):\n",
    "    img, target = mnist_train[i]\n",
    "    axs[0][i].imshow(img[0])\n",
    "    axs[0][i].set_title(f'{mnist_train.classes[target]}')\n",
    "    axs[1][i].imshow(mask_transform(img)[0])\n",
    "    \n",
    "    "
   ]
  },
  {
   "cell_type": "markdown",
   "id": "endless-dinner",
   "metadata": {
    "id": "helpful-matrix"
   },
   "source": [
    "## Model"
   ]
  },
  {
   "cell_type": "code",
   "execution_count": 34,
   "id": "prescription-harbor",
   "metadata": {
    "id": "hourly-annual"
   },
   "outputs": [],
   "source": [
    "import torch\n",
    "from torch import nn"
   ]
  },
  {
   "cell_type": "code",
   "execution_count": 35,
   "id": "strategic-mortality",
   "metadata": {
    "id": "constitutional-deviation"
   },
   "outputs": [],
   "source": [
    "class Encoder_1hl(nn.Module):\n",
    "    def __init__(self, hidden_dim, latent_dim):\n",
    "        \"\"\"\n",
    "        hidden_dim: number of neurons in the hidden layer\n",
    "        latent_dim: number of latent space dimensions\n",
    "        \"\"\"\n",
    "        super().__init__()\n",
    "        self.net = nn.Sequential(\n",
    "            nn.Linear(28*28, hidden_dim),\n",
    "            nn.ReLU(),\n",
    "            nn.Linear(hidden_dim, latent_dim),\n",
    "            )\n",
    "\n",
    "    def forward(self, x):\n",
    "        x = self.net(x)\n",
    "        return x"
   ]
  },
  {
   "cell_type": "code",
   "execution_count": 36,
   "id": "alone-single",
   "metadata": {
    "id": "sealed-dallas"
   },
   "outputs": [],
   "source": [
    "class Decoder_1hl(nn.Module):\n",
    "    def __init__(self, hidden_dim, latent_dim):\n",
    "        \"\"\"\n",
    "        hidden_dim: number of neurons in the hidden layer\n",
    "        latent_dim: number of latent space dimensions\n",
    "        \"\"\"\n",
    "        super().__init__()\n",
    "        self.net = nn.Sequential(\n",
    "            nn.Linear(latent_dim, hidden_dim),\n",
    "            nn.ReLU(),\n",
    "            nn.Linear(hidden_dim, 28*28),\n",
    "            nn.Sigmoid() # sigmoid function transforms input values (-inf, +inf) to output in range (0, 1)\n",
    "            )\n",
    "            \n",
    "\n",
    "    def forward(self, x):\n",
    "        x = self.net(x)\n",
    "        return x"
   ]
  },
  {
   "cell_type": "code",
   "execution_count": 37,
   "id": "presidential-nightlife",
   "metadata": {
    "id": "norman-surrey"
   },
   "outputs": [],
   "source": [
    "class Autoencoder_1hl(nn.Module):\n",
    "    def __init__(self, hidden_dim, latent_dim):\n",
    "        \"\"\"\n",
    "        hidden_dim: number of neurons in the hidden layer\n",
    "        latent_dim: number of latent space dimensions\n",
    "        \"\"\"\n",
    "        super().__init__()\n",
    "        self.encoder = Encoder_1hl(hidden_dim, latent_dim)\n",
    "        self.decoder = Decoder_1hl(hidden_dim, latent_dim)\n",
    "            \n",
    "    def forward(self, x):\n",
    "        input_shape = x.shape #batch_size, channels, height, width\n",
    "        x = x.reshape(input_shape[0], -1)\n",
    "        z = self.encoder(x)\n",
    "        x_hat = self.decoder(z) \n",
    "        return x_hat.reshape(input_shape), z"
   ]
  },
  {
   "cell_type": "code",
   "execution_count": 38,
   "id": "disciplinary-highland",
   "metadata": {
    "id": "gothic-economics"
   },
   "outputs": [],
   "source": [
    "hidden_dim = 64\n",
    "latent_dim = 12"
   ]
  },
  {
   "cell_type": "code",
   "execution_count": 39,
   "id": "obvious-disco",
   "metadata": {
    "id": "floating-potential"
   },
   "outputs": [],
   "source": [
    "autoencoder = Autoencoder_1hl(hidden_dim, latent_dim)"
   ]
  },
  {
   "cell_type": "markdown",
   "id": "congressional-stake",
   "metadata": {
    "id": "disabled-drinking"
   },
   "source": [
    "## Training"
   ]
  },
  {
   "cell_type": "code",
   "execution_count": 40,
   "id": "hungarian-webster",
   "metadata": {},
   "outputs": [],
   "source": [
    "noise_level = 0.3"
   ]
  },
  {
   "cell_type": "code",
   "execution_count": 42,
   "id": "successful-medline",
   "metadata": {
    "id": "preceding-spine"
   },
   "outputs": [],
   "source": [
    "distortion = MaskGenerator(noise=noise_level) #SaltPepper(noise_level)"
   ]
  },
  {
   "cell_type": "code",
   "execution_count": 43,
   "id": "printable-insert",
   "metadata": {
    "colab": {
     "base_uri": "https://localhost:8080/",
     "height": 407
    },
    "id": "purple-niagara",
    "outputId": "9b389101-a5c8-4d39-d925-76922fdad0c3"
   },
   "outputs": [
    {
     "data": {
      "image/png": "[encoded data removed]",
      "text/plain": [
       "<Figure size 1224x504 with 12 Axes>"
      ]
     },
     "metadata": {
      "needs_background": "light"
     },
     "output_type": "display_data"
    }
   ],
   "source": [
    "x, y = next(iter(mnist_train_dataloader))\n",
    "x_distorted = distortion(x)\n",
    "num_images = 6\n",
    "fig, axs = plt.subplots(ncols=num_images, nrows=2, figsize=(17,7))\n",
    "for i in range(num_images):\n",
    "    axs[0][i].imshow(x[i][0])\n",
    "    axs[0][i].set_title(f'{mnist_train.classes[y[i]]}')\n",
    "    axs[1][i].imshow(x_distorted[i][0])\n"
   ]
  },
  {
   "cell_type": "code",
   "execution_count": 44,
   "id": "healthy-freight",
   "metadata": {
    "id": "spectacular-defeat"
   },
   "outputs": [],
   "source": [
    "device = 'cuda' if torch.cuda.is_available() else 'cpu' # if your machine supports cuda, it wil be used for computation\n",
    "autoencoder.to(device).train();\n",
    "optimizer = torch.optim.AdamW(autoencoder.parameters(), lr=1e-3)\n",
    "criterion = nn.MSELoss()"
   ]
  },
  {
   "cell_type": "markdown",
   "id": "matched-stability",
   "metadata": {
    "id": "intense-wisconsin"
   },
   "source": [
    "#### Your task\n",
    "Can you modify the training loop, so that the model will be train to reconstruct image before distortion?"
   ]
  },
  {
   "cell_type": "code",
   "execution_count": null,
   "id": "located-sheep",
   "metadata": {
    "colab": {
     "base_uri": "https://localhost:8080/"
    },
    "id": "least-insertion",
    "outputId": "6eb36fde-898a-42ef-c295-c0654283d927"
   },
   "outputs": [
    {
     "name": "stdout",
     "output_type": "stream",
     "text": [
      "epoch 0, loss: 0.0239\n",
      "epoch 1, loss: 0.0236\n"
     ]
    }
   ],
   "source": [
    "num_epochs = 2\n",
    "\n",
    "history = [] #save losses from each epoch\n",
    "for i_epoch in range(num_epochs):\n",
    "    epoch_losses = []\n",
    "    for batch in mnist_train_dataloader:\n",
    "         # clear gradient from previous step\n",
    "        optimizer.zero_grad()\n",
    "        \n",
    "        x, y = batch\n",
    "        # your code here\n",
    "        ...\n",
    "        loss = ...\n",
    "        \n",
    "        # compute accumulated gradients\n",
    "        loss.backward()\n",
    "        \n",
    "        # perform parameter update based on current gradients\n",
    "        optimizer.step()\n",
    "        \n",
    "        # save loss\n",
    "        epoch_losses.append(loss.item()) #'item()' gets number from tensor. Similarly 'numpy()' returns numpy array copy of the tensor\n",
    "        \n",
    "        \n",
    "    epoch_loss = np.mean(epoch_losses)\n",
    "    print(f'epoch {i_epoch}, loss: {epoch_loss:0.4f}')\n",
    "    history.append({'loss': epoch_loss})\n",
    "        "
   ]
  },
  {
   "cell_type": "markdown",
   "id": "dated-saturday",
   "metadata": {
    "id": "statutory-jackson"
   },
   "source": [
    "Solution"
   ]
  },
  {
   "cell_type": "code",
   "execution_count": 135,
   "id": "hydraulic-promise",
   "metadata": {
    "colab": {
     "base_uri": "https://localhost:8080/"
    },
    "id": "distinct-system",
    "outputId": "ad363a5f-2c8f-409b-b54a-b0ab502d55fa"
   },
   "outputs": [
    {
     "name": "stdout",
     "output_type": "stream",
     "text": [
      "epoch 0, loss: 0.0637\n",
      "epoch 1, loss: 0.0402\n"
     ]
    }
   ],
   "source": [
    "num_epochs = 2\n",
    "\n",
    "history = [] #save losses from each epoch\n",
    "for i_epoch in range(num_epochs):\n",
    "    epoch_losses = []\n",
    "    for batch in mnist_train_dataloader:\n",
    "         # clear gradient from previous step\n",
    "        optimizer.zero_grad()\n",
    "        \n",
    "        x, y = batch\n",
    "        x = x.to(device)\n",
    "        x_hat, z = autoencoder(distortion(x))\n",
    "        loss = criterion(x, x_hat)\n",
    "        \n",
    "        # compute accumulated gradients\n",
    "        loss.backward()\n",
    "        \n",
    "        # perform parameter update based on current gradients\n",
    "        optimizer.step()\n",
    "        \n",
    "        # save loss\n",
    "        epoch_losses.append(loss.item()) #'item()' gets number from tensor. Similarly 'numpy()' returns numpy array copy of the tensor\n",
    "        \n",
    "        \n",
    "    epoch_loss = np.mean(epoch_losses)\n",
    "    print(f'epoch {i_epoch}, loss: {epoch_loss:0.4f}')\n",
    "    history.append({'loss': epoch_loss})\n",
    "        "
   ]
  },
  {
   "cell_type": "code",
   "execution_count": 45,
   "id": "formed-newport",
   "metadata": {
    "id": "former-serbia"
   },
   "outputs": [],
   "source": [
    "@torch.no_grad()\n",
    "def evaluate_model(model, dataloader, criterion, distortion=None, device=device):\n",
    "    losses = []\n",
    "    model = model.eval()\n",
    "    for batch in dataloader:  \n",
    "        x, y = batch\n",
    "        x = x.to(device)\n",
    "        x_hat, z = model(distortion(x))\n",
    "        loss = criterion(x, x_hat)\n",
    "        losses.append(loss.item())\n",
    "    final_loss = np.mean(losses)\n",
    "    return final_loss"
   ]
  },
  {
   "cell_type": "markdown",
   "id": "southern-algorithm",
   "metadata": {
    "id": "outdoor-billion"
   },
   "source": [
    "Test if your function works"
   ]
  },
  {
   "cell_type": "code",
   "execution_count": 46,
   "id": "breeding-certificate",
   "metadata": {
    "colab": {
     "base_uri": "https://localhost:8080/"
    },
    "id": "hidden-invasion",
    "outputId": "3d6267f2-d894-412f-d92a-53efedfbc33e"
   },
   "outputs": [
    {
     "name": "stdout",
     "output_type": "stream",
     "text": [
      "test loss: 0.2309\n"
     ]
    }
   ],
   "source": [
    "test_loss = evaluate_model(autoencoder, mnist_test_dataloader, criterion, distortion)\n",
    "print(f'test loss: {test_loss:0.4f}')"
   ]
  },
  {
   "cell_type": "markdown",
   "id": "educational-conviction",
   "metadata": {
    "id": "greater-suspect"
   },
   "source": [
    "Now we are ready to implement testset evaluation and do the proper traing of the model. For clarity, let's create a fresh autoencoder"
   ]
  },
  {
   "cell_type": "code",
   "execution_count": 47,
   "id": "going-nowhere",
   "metadata": {
    "id": "neural-pharmacy"
   },
   "outputs": [],
   "source": [
    "hidden_dim = 64\n",
    "latent_dim = 12\n",
    "autoencoder = Autoencoder_1hl(hidden_dim, latent_dim)\n",
    "autoencoder.to(device).train();\n",
    "\n",
    "optimizer = torch.optim.AdamW(autoencoder.parameters(), lr=1e-4)"
   ]
  },
  {
   "cell_type": "code",
   "execution_count": 48,
   "id": "tribal-festival",
   "metadata": {
    "colab": {
     "base_uri": "https://localhost:8080/"
    },
    "id": "occasional-gardening",
    "outputId": "1c1b4aa5-8277-4ef5-ba5a-e380585a2a64"
   },
   "outputs": [
    {
     "name": "stdout",
     "output_type": "stream",
     "text": [
      "epoch 0, train loss: 0.1078, test loss 0.0688\n",
      "epoch 1, train loss: 0.0658, test loss 0.0627\n",
      "epoch 2, train loss: 0.0604, test loss 0.0573\n",
      "epoch 3, train loss: 0.0543, test loss 0.0514\n",
      "epoch 4, train loss: 0.0494, test loss 0.0471\n",
      "epoch 5, train loss: 0.0458, test loss 0.0442\n",
      "epoch 6, train loss: 0.0438, test loss 0.0428\n",
      "epoch 7, train loss: 0.0427, test loss 0.0416\n",
      "epoch 8, train loss: 0.0415, test loss 0.0405\n",
      "epoch 9, train loss: 0.0403, test loss 0.0394\n",
      "epoch 10, train loss: 0.0393, test loss 0.0384\n",
      "epoch 11, train loss: 0.0384, test loss 0.0375\n",
      "epoch 12, train loss: 0.0375, test loss 0.0366\n",
      "epoch 13, train loss: 0.0367, test loss 0.0358\n",
      "epoch 14, train loss: 0.0359, test loss 0.0351\n",
      "epoch 15, train loss: 0.0352, test loss 0.0344\n",
      "epoch 16, train loss: 0.0346, test loss 0.0338\n",
      "epoch 17, train loss: 0.0340, test loss 0.0333\n",
      "epoch 18, train loss: 0.0335, test loss 0.0328\n",
      "epoch 19, train loss: 0.0330, test loss 0.0324\n"
     ]
    }
   ],
   "source": [
    "num_epochs = 20\n",
    "\n",
    "history = [] #save losses from each epoch\n",
    "for i_epoch in range(num_epochs):\n",
    "    epoch_losses = []\n",
    "    for batch in mnist_train_dataloader:\n",
    "         # clear gradient from previous step\n",
    "        optimizer.zero_grad()\n",
    "        \n",
    "        x, y = batch\n",
    "        x = x.to(device)\n",
    "        x_hat, z = autoencoder(distortion(x))\n",
    "        loss = criterion(x, x_hat)\n",
    "        \n",
    "        # compute accumulated gradients\n",
    "        loss.backward()\n",
    "        \n",
    "        # perform parameter update based on current gradients\n",
    "        optimizer.step()\n",
    "        \n",
    "        # save loss\n",
    "        epoch_losses.append(loss.item()) #'item()' gets number from tensor. Similarly 'numpy()' returns numpy array copy of the tensor\n",
    "        \n",
    "        \n",
    "    epoch_loss = np.mean(epoch_losses)\n",
    "    test_loss = evaluate_model(autoencoder, mnist_test_dataloader, criterion, distortion)\n",
    "    autoencoder.train() # if \"evaluate_model\" switches the model to 'eval' mode, switch it back 'train'\n",
    "    print(f'epoch {i_epoch}, train loss: {epoch_loss:0.4f}, test loss {test_loss:0.4f}')\n",
    "    history.append({'train loss': epoch_loss, 'test loss': test_loss})\n",
    "        "
   ]
  },
  {
   "cell_type": "code",
   "execution_count": 54,
   "id": "dying-island",
   "metadata": {
    "colab": {
     "base_uri": "https://localhost:8080/",
     "height": 313
    },
    "id": "subjective-offer",
    "outputId": "4d3b9412-ccde-4d27-aeb9-343d2b189186"
   },
   "outputs": [
    {
     "data": {
      "text/plain": [
       "<matplotlib.legend.Legend at 0x1db932640b8>"
      ]
     },
     "execution_count": 54,
     "metadata": {},
     "output_type": "execute_result"
    },
    {
     "data": {
      "image/png": "[encoded data removed]",
      "text/plain": [
       "<Figure size 432x288 with 1 Axes>"
      ]
     },
     "metadata": {
      "needs_background": "light"
     },
     "output_type": "display_data"
    }
   ],
   "source": [
    "plt.plot([entry['train loss'] for entry in history], label='train loss')\n",
    "plt.plot([entry['test loss'] for entry in history], label='test loss')\n",
    "plt.title('losses');\n",
    "plt.xlabel('epoch')\n",
    "plt.ylabel('loss')\n",
    "plt.legend()"
   ]
  },
  {
   "cell_type": "markdown",
   "id": "threaded-enhancement",
   "metadata": {
    "id": "facial-accommodation"
   },
   "source": [
    "For inference on small samples, we can use CPU - it allows to not care about 'cuda' stuff. If the models or images are large, better stay with GPU."
   ]
  },
  {
   "cell_type": "code",
   "execution_count": 55,
   "id": "cellular-europe",
   "metadata": {
    "id": "hidden-timer"
   },
   "outputs": [],
   "source": [
    "autoencoder.to('cpu').eval();"
   ]
  },
  {
   "cell_type": "code",
   "execution_count": 56,
   "id": "inappropriate-arcade",
   "metadata": {
    "id": "temporal-cream"
   },
   "outputs": [],
   "source": [
    "def reconstruct_image(img, model):\n",
    "    with torch.no_grad():\n",
    "        return model(img.unsqueeze(0))[0][0]"
   ]
  },
  {
   "cell_type": "code",
   "execution_count": 57,
   "id": "composite-therapist",
   "metadata": {
    "id": "neural-scope"
   },
   "outputs": [],
   "source": [
    "img, target = mnist_test[0]\n",
    "img_distorted = distortion(img.unsqueeze(0)).squeeze(0)\n",
    "reconstruction = reconstruct_image(img_distorted, autoencoder)"
   ]
  },
  {
   "cell_type": "code",
   "execution_count": 58,
   "id": "cooperative-proxy",
   "metadata": {
    "colab": {
     "base_uri": "https://localhost:8080/",
     "height": 1000
    },
    "id": "dense-flower",
    "outputId": "6b329ccf-ca8a-40e5-f190-2a8b11827f2c"
   },
   "outputs": [
    {
     "data": {
      "image/png": "[encoded data removed]",
      "text/plain": [
       "<Figure size 432x288 with 3 Axes>"
      ]
     },
     "metadata": {
      "needs_background": "light"
     },
     "output_type": "display_data"
    },
    {
     "data": {
      "image/png": "[encoded data removed]",
      "text/plain": [
       "<Figure size 432x288 with 3 Axes>"
      ]
     },
     "metadata": {
      "needs_background": "light"
     },
     "output_type": "display_data"
    },
    {
     "data": {
      "image/png": "[encoded data removed]",
      "text/plain": [
       "<Figure size 432x288 with 3 Axes>"
      ]
     },
     "metadata": {
      "needs_background": "light"
     },
     "output_type": "display_data"
    },
    {
     "data": {
      "image/png": "[encoded data removed]",
      "text/plain": [
       "<Figure size 432x288 with 3 Axes>"
      ]
     },
     "metadata": {
      "needs_background": "light"
     },
     "output_type": "display_data"
    },
    {
     "data": {
      "image/png": "[encoded data removed]",
      "text/plain": [
       "<Figure size 432x288 with 3 Axes>"
      ]
     },
     "metadata": {
      "needs_background": "light"
     },
     "output_type": "display_data"
    },
    {
     "data": {
      "image/png": "[encoded data removed]",
      "text/plain": [
       "<Figure size 432x288 with 3 Axes>"
      ]
     },
     "metadata": {
      "needs_background": "light"
     },
     "output_type": "display_data"
    },
    {
     "data": {
      "image/png": "[encoded data removed]",
      "text/plain": [
       "<Figure size 432x288 with 3 Axes>"
      ]
     },
     "metadata": {
      "needs_background": "light"
     },
     "output_type": "display_data"
    },
    {
     "data": {
      "image/png": "[encoded data removed]",
      "text/plain": [
       "<Figure size 432x288 with 3 Axes>"
      ]
     },
     "metadata": {
      "needs_background": "light"
     },
     "output_type": "display_data"
    },
    {
     "data": {
      "image/png": "[encoded data removed]",
      "text/plain": [
       "<Figure size 432x288 with 3 Axes>"
      ]
     },
     "metadata": {
      "needs_background": "light"
     },
     "output_type": "display_data"
    },
    {
     "data": {
      "image/png": "[encoded data removed]",
      "text/plain": [
       "<Figure size 432x288 with 3 Axes>"
      ]
     },
     "metadata": {
      "needs_background": "light"
     },
     "output_type": "display_data"
    }
   ],
   "source": [
    "for i in range(10):\n",
    "    img, target = mnist_test[i]\n",
    "    img_distorted = distortion(img.unsqueeze(0)).squeeze(0)\n",
    "    reconstruction = reconstruct_image(img_distorted, autoencoder)\n",
    "    fig, axs = plt.subplots(ncols=3)\n",
    "    axs[0].imshow(img[0], vmin=0, vmax=1)\n",
    "    axs[0].set_title('original')\n",
    "    axs[1].imshow(img_distorted[0], vmin=0, vmax=1)\n",
    "    axs[1].set_title('distorted')\n",
    "    axs[2].imshow(reconstruction[0], vmin=0, vmax=1)\n",
    "    axs[2].set_title('reconstruction')"
   ]
  },
  {
   "cell_type": "markdown",
   "id": "altered-costs",
   "metadata": {
    "id": "acquired-detection"
   },
   "source": [
    "## Robustness to noise"
   ]
  },
  {
   "cell_type": "code",
   "execution_count": 85,
   "id": "amino-pattern",
   "metadata": {
    "id": "younger-launch"
   },
   "outputs": [],
   "source": [
    "noise_levels = [0.0, 0.1, 0.2, 0.3, 0.4, 0.5]"
   ]
  },
  {
   "cell_type": "code",
   "execution_count": null,
   "id": "answering-obligation",
   "metadata": {
    "id": "thermal-mouse"
   },
   "outputs": [],
   "source": [
    "autoencoder = autoencoder.to(device);"
   ]
  },
  {
   "cell_type": "code",
   "execution_count": null,
   "id": "limited-check",
   "metadata": {
    "id": "anonymous-admission"
   },
   "outputs": [],
   "source": [
    "loss_for_noise = {}\n",
    "for noise_level in noise_levels:\n",
    "    distortion = MaskGenerator(noise=noise_level)\n",
    "    loss_for_noise[noise_level] = evaluate_model(autoencoder, mnist_test_dataloader, criterion, distortion)"
   ]
  },
  {
   "cell_type": "code",
   "execution_count": null,
   "id": "greek-procurement",
   "metadata": {
    "colab": {
     "base_uri": "https://localhost:8080/"
    },
    "id": "hundred-crazy",
    "outputId": "068e1e05-31c5-41e8-8a39-f7c627229995"
   },
   "outputs": [],
   "source": [
    "for noise_level, loss in loss_for_noise.items():\n",
    "    print(f'noise: {noise_level}, loss: {loss:0.4f}')"
   ]
  },
  {
   "cell_type": "code",
   "execution_count": null,
   "id": "automated-sphere",
   "metadata": {
    "colab": {
     "base_uri": "https://localhost:8080/",
     "height": 279
    },
    "id": "developmental-pepper",
    "outputId": "802c0298-ee0d-48ad-d98e-2b3f8fc93e4a"
   },
   "outputs": [],
   "source": [
    "plt.plot(noise_levels, [loss_for_noise[noise] for noise in noise_levels]);\n",
    "plt.xlabel('noise level');\n",
    "plt.ylabel('loss');"
   ]
  },
  {
   "cell_type": "markdown",
   "id": "indonesian-finance",
   "metadata": {
    "id": "therapeutic-auckland"
   },
   "source": [
    "Now let's try robustness to Gaussian noise, for which the model wasn't trained for"
   ]
  },
  {
   "cell_type": "code",
   "execution_count": 42,
   "id": "controversial-compression",
   "metadata": {
    "id": "dress-atlanta"
   },
   "outputs": [],
   "source": [
    "class GaussianNoise:\n",
    "    def __init__(self, noise):\n",
    "        self.noise = noise\n",
    "    \n",
    "    def __call__(self, img_or_batch):\n",
    "        if img_or_batch.ndim == 3:\n",
    "            is_image=True\n",
    "            img_or_batch = img_or_batch.unsqueeze(0) # produce \"batch\" of length 1\n",
    "        else:\n",
    "            is_image=False\n",
    "        \n",
    "        batch_out = img_or_batch.clone()\n",
    "        \n",
    "        noise = torch.randn(batch_out.shape) * self.noise #create noise sampled from normal distribution\n",
    "        \n",
    "        batch_out = batch_out + noise.to(batch_out) # add noise\n",
    "        batch_out = torch.clip(batch_out, 0, 1) #keep values between 0 and 1\n",
    "        \n",
    "        if is_image:\n",
    "            return batch_out.squeeze(0) # return image shape\n",
    "    \n",
    "        return batch_out\n",
    "    "
   ]
  },
  {
   "cell_type": "markdown",
   "id": "nominated-environment",
   "metadata": {
    "id": "consistent-application"
   },
   "source": [
    "Test Gaussian distortion:"
   ]
  },
  {
   "cell_type": "code",
   "execution_count": 43,
   "id": "frequent-drinking",
   "metadata": {
    "id": "surgical-start"
   },
   "outputs": [],
   "source": [
    "gaussian_distorition = GaussianNoise(0.1)\n",
    "batch = next(iter(mnist_train_dataloader))"
   ]
  },
  {
   "cell_type": "code",
   "execution_count": 44,
   "id": "cooperative-schedule",
   "metadata": {
    "id": "infectious-collector"
   },
   "outputs": [],
   "source": [
    "img = batch[0][0]\n",
    "distorted_image = gaussian_distorition(img)"
   ]
  },
  {
   "cell_type": "code",
   "execution_count": 45,
   "id": "embedded-devil",
   "metadata": {
    "colab": {
     "base_uri": "https://localhost:8080/",
     "height": 219
    },
    "id": "extended-bennett",
    "outputId": "d21d80e7-41b1-4acc-cb25-3630b791fb3f"
   },
   "outputs": [
    {
     "data": {
      "text/plain": [
       "<matplotlib.image.AxesImage at 0x7f60fee6b950>"
      ]
     },
     "execution_count": 45,
     "metadata": {},
     "output_type": "execute_result"
    },
    {
     "data": {
      "image/png": "[encoded data removed]",
      "text/plain": [
       "<Figure size 432x288 with 2 Axes>"
      ]
     },
     "metadata": {
      "needs_background": "light"
     },
     "output_type": "display_data"
    }
   ],
   "source": [
    "fig, (ax1, ax2) = plt.subplots(ncols=2)\n",
    "ax1.imshow(img[0])\n",
    "ax2.imshow(distorted_image[0])"
   ]
  },
  {
   "cell_type": "code",
   "execution_count": 46,
   "id": "final-potential",
   "metadata": {
    "id": "northern-wallace"
   },
   "outputs": [],
   "source": [
    "gaussian_loss_for_noise = {}\n",
    "for noise_level in noise_levels:\n",
    "    distortion = GaussianNoise(noise_level)\n",
    "    gaussian_loss_for_noise[noise_level] = evaluate_model(autoencoder, mnist_test_dataloader, criterion, distortion)"
   ]
  },
  {
   "cell_type": "code",
   "execution_count": 47,
   "id": "convenient-injury",
   "metadata": {
    "colab": {
     "base_uri": "https://localhost:8080/",
     "height": 295
    },
    "id": "accepting-quick",
    "outputId": "3bf74c5d-2984-4c5e-d662-33473a430889"
   },
   "outputs": [
    {
     "data": {
      "image/png": "[encoded data removed]",
      "text/plain": [
       "<Figure size 432x288 with 1 Axes>"
      ]
     },
     "metadata": {
      "needs_background": "light"
     },
     "output_type": "display_data"
    }
   ],
   "source": [
    "plt.plot(noise_levels, [loss_for_noise[noise] for noise in noise_levels], label='salt&pepper');\n",
    "plt.plot(noise_levels, [gaussian_loss_for_noise[noise] for noise in noise_levels], label='Gaussian');\n",
    "plt.xlabel('noise level');\n",
    "plt.ylabel('loss');\n",
    "plt.title('loss for Gaussian noise');\n",
    "plt.legend();"
   ]
  },
  {
   "cell_type": "markdown",
   "id": "selective-wisconsin",
   "metadata": {
    "id": "X_aqoih3xStA"
   },
   "source": [
    "# Latent space distribution"
   ]
  },
  {
   "cell_type": "markdown",
   "id": "crazy-fellowship",
   "metadata": {
    "id": "rkwla_mqxWhb"
   },
   "source": [
    "Latent space distribution can be altered by adding loss function on representations `z`. In Variational Autoencoders Normal distribution is imposed by Kullback–Leibler divergence (KL divergence). [\"Sliced-Wasserstein Autoencoder: An Embarrassingly Simple Generative Model\"](https://arxiv.org/abs/1804.01947) introduces another, more general way, which is used below"
   ]
  },
  {
   "cell_type": "code",
   "execution_count": 62,
   "id": "french-adams",
   "metadata": {
    "id": "QRlNTlQVxWLn"
   },
   "outputs": [],
   "source": [
    "# @title functions definitions for SWAE\n",
    "def rand_ring_nd(batch_size, ndim):\n",
    "    \"\"\" This function generates ndim-dimensional samples from a hollowed-circle distribution in a 2-dimensional space.\n",
    "        Args:\n",
    "            batch_size (int): number of batch samples\n",
    "            ndim (int): number of dimensions\n",
    "        Return:\n",
    "            torch.Tensor: tensor of size (batch_size, ndim)\n",
    "        \n",
    "        method from http://extremelearning.com.au/how-to-generate-uniformly-random-points-on-n-spheres-and-n-balls/\n",
    "    \"\"\"\n",
    "    x = np.random.normal(size=(batch_size, ndim)) \n",
    "    x /= np.linalg.norm(x, axis=1, keepdims=True)\n",
    "    return torch.from_numpy(x).type(torch.FloatTensor)\n",
    "  \n",
    "def rand_ball_nd(batch_size, ndim):\n",
    "    \"\"\" This function generates ndim-dimensional samples from a filled-circle distribution in a 2-dimensional space.\n",
    "        Args:\n",
    "            batch_size (int): number of batch samples\n",
    "            ndim (int): number of dimensions\n",
    "        Return:\n",
    "            torch.Tensor: tensor of size (batch_size, ndim)\n",
    "\n",
    "        method from http://extremelearning.com.au/how-to-generate-uniformly-random-points-on-n-spheres-and-n-balls/\n",
    "    \"\"\"\n",
    "    x = rand_ring_nd(batch_size, ndim+1) \n",
    "    return x[:,:-1]\n",
    "\n",
    "\n",
    "\n",
    "def rand_projections(embedding_dim, num_samples=50):\n",
    "    \"\"\"This function generates `num_samples` random samples from the latent space's unit sphere.\n",
    "        Args:\n",
    "            embedding_dim (int): embedding dimensionality\n",
    "            num_samples (int): number of random projection samples\n",
    "        Return:\n",
    "            torch.Tensor: tensor of size (num_samples, embedding_dim)\n",
    "    \"\"\"\n",
    "    projections = [w / np.sqrt((w**2).sum())  # L2 normalization\n",
    "                   for w in np.random.normal(size=(num_samples, embedding_dim))]\n",
    "    projections = np.asarray(projections)\n",
    "    return torch.from_numpy(projections).type(torch.FloatTensor)\n",
    "\n",
    "def _sliced_wasserstein_distance(encoded_samples,\n",
    "                                 distribution_samples,\n",
    "                                 num_projections=50,\n",
    "                                 p=2,\n",
    "                                 device='cpu'):\n",
    "    \"\"\" Sliced Wasserstein Distance between encoded samples and drawn distribution samples.\n",
    "        Args:\n",
    "            encoded_samples (toch.Tensor): tensor of encoded training samples\n",
    "            distribution_samples (torch.Tensor): tensor of drawn distribution training samples\n",
    "            num_projections (int): number of projections to approximate sliced wasserstein distance\n",
    "            p (int): power of distance metric\n",
    "            device (torch.device): torch device (default 'cpu')\n",
    "        Return:\n",
    "            torch.Tensor: tensor of wasserstrain distances of size (num_projections, 1)\n",
    "    \"\"\"\n",
    "    # derive latent space dimension size from random samples drawn from latent prior distribution\n",
    "    embedding_dim = distribution_samples.size(1)\n",
    "    # generate random projections in latent space\n",
    "    projections = rand_projections(embedding_dim, num_projections).to(device)\n",
    "    # calculate projections through the encoded samples\n",
    "    encoded_projections = encoded_samples.matmul(projections.transpose(0, 1))\n",
    "    # calculate projections through the prior distribution random samples\n",
    "    distribution_projections = (distribution_samples.matmul(projections.transpose(0, 1)))\n",
    "    # calculate the sliced wasserstein distance by\n",
    "    # sorting the samples per random projection and\n",
    "    # calculating the difference between the\n",
    "    # encoded samples and drawn random samples\n",
    "    # per random projection\n",
    "    wasserstein_distance = (torch.sort(encoded_projections.transpose(0, 1), dim=1)[0] -\n",
    "                            torch.sort(distribution_projections.transpose(0, 1), dim=1)[0])\n",
    "    # distance between latent space prior and encoded distributions\n",
    "    # power of 2 by default for Wasserstein-2\n",
    "    wasserstein_distance = torch.pow(wasserstein_distance, p)\n",
    "    # approximate mean wasserstein_distance for each projection\n",
    "    return wasserstein_distance.mean()\n",
    "\n",
    "\n",
    "def sliced_wasserstein_distance(encoded_samples,\n",
    "                                distribution_fn,\n",
    "                                num_projections=50,\n",
    "                                p=2,\n",
    "                                device='cpu'):\n",
    "    \"\"\" Sliced Wasserstein Distance between encoded samples and drawn distribution samples.\n",
    "        Args:\n",
    "            encoded_samples (toch.Tensor): tensor of encoded training samples\n",
    "            distribution_samples (torch.Tensor): tensor of drawn distribution training samples\n",
    "            num_projections (int): number of projections to approximate sliced wasserstein distance\n",
    "            p (int): power of distance metric\n",
    "            device (torch.device): torch device (default 'cpu')\n",
    "        Return:\n",
    "            torch.Tensor: tensor of wasserstrain distances of size (num_projections, 1)\n",
    "    \"\"\"\n",
    "    # derive batch size from encoded samples\n",
    "    batch_size = encoded_samples.size(0)\n",
    "    # draw random samples from latent space prior distribution\n",
    "    z = distribution_fn(batch_size).to(device)\n",
    "    # approximate mean wasserstein_distance between encoded and prior distributions\n",
    "    # for each random projection\n",
    "    swd = _sliced_wasserstein_distance(encoded_samples, z,\n",
    "                                       num_projections, p, device)\n",
    "    return swd"
   ]
  },
  {
   "cell_type": "code",
   "execution_count": null,
   "id": "related-secretary",
   "metadata": {},
   "outputs": [],
   "source": []
  },
  {
   "cell_type": "code",
   "execution_count": 63,
   "id": "exclusive-reaction",
   "metadata": {
    "id": "HuAr7OD8yMr7"
   },
   "outputs": [],
   "source": [
    "from functools import partial"
   ]
  },
  {
   "cell_type": "code",
   "execution_count": 64,
   "id": "comic-housing",
   "metadata": {
    "id": "royal-favor"
   },
   "outputs": [],
   "source": [
    "hidden_dim = 64\n",
    "latent_dim = 12\n",
    "autoencoder_swae = Autoencoder_1hl(hidden_dim, latent_dim)\n",
    "autoencoder_swae.to(device).train();\n",
    "\n",
    "optimizer = torch.optim.AdamW(autoencoder_swae.parameters(), lr=1e-4)"
   ]
  },
  {
   "cell_type": "code",
   "execution_count": 65,
   "id": "technological-machinery",
   "metadata": {
    "colab": {
     "base_uri": "https://localhost:8080/"
    },
    "id": "pDNMYOs-zQXr",
    "outputId": "e1b878a9-65bb-45b5-eaad-dfb161baeac2"
   },
   "outputs": [
    {
     "name": "stdout",
     "output_type": "stream",
     "text": [
      "epoch 1/20, train loss: 0.1728, test loss 0.1035\n",
      "epoch 2/20, train loss: 0.0836, test loss 0.0680\n",
      "epoch 3/20, train loss: 0.0646, test loss 0.0587\n",
      "epoch 4/20, train loss: 0.0569, test loss 0.0533\n",
      "epoch 5/20, train loss: 0.0523, test loss 0.0492\n",
      "epoch 6/20, train loss: 0.0488, test loss 0.0464\n",
      "epoch 7/20, train loss: 0.0458, test loss 0.0436\n",
      "epoch 8/20, train loss: 0.0434, test loss 0.0414\n",
      "epoch 9/20, train loss: 0.0412, test loss 0.0395\n",
      "epoch 10/20, train loss: 0.0395, test loss 0.0381\n",
      "epoch 11/20, train loss: 0.0380, test loss 0.0367\n",
      "epoch 12/20, train loss: 0.0366, test loss 0.0351\n",
      "epoch 13/20, train loss: 0.0352, test loss 0.0337\n",
      "epoch 14/20, train loss: 0.0339, test loss 0.0324\n",
      "epoch 15/20, train loss: 0.0327, test loss 0.0314\n",
      "epoch 16/20, train loss: 0.0316, test loss 0.0305\n",
      "epoch 17/20, train loss: 0.0307, test loss 0.0298\n",
      "epoch 18/20, train loss: 0.0300, test loss 0.0291\n",
      "epoch 19/20, train loss: 0.0295, test loss 0.0286\n",
      "epoch 20/20, train loss: 0.0290, test loss 0.0282\n"
     ]
    }
   ],
   "source": [
    "num_epochs = 20\n",
    "\n",
    "required_distribution = partial(rand_ball_nd, ndim=latent_dim)\n",
    "distribution_criterion = partial(sliced_wasserstein_distance, distribution_fn=required_distribution, p=latent_dim, device=device)\n",
    "distribution_weight = 10\n",
    "\n",
    "no_distortion = lambda x: x #we want to use evaluate_model function which requires distortion fuction. Mock it with identity function\n",
    "\n",
    "history = [] #save losses from each epoch\n",
    "for i_epoch in range(num_epochs):\n",
    "    epoch_losses = []\n",
    "    epoch_reconstruction_losses = []\n",
    "    epoch_distribution_losses = []\n",
    "    for batch in mnist_train_dataloader:\n",
    "         # clear gradient from previous step\n",
    "        optimizer.zero_grad()\n",
    "        \n",
    "        x, y = batch\n",
    "        x = x.to(device)\n",
    "        x_hat, z = autoencoder_swae(x)\n",
    "        reconstruction_loss = criterion(x, x_hat)\n",
    "        distribution_loss = distribution_weight*distribution_criterion(z)\n",
    "        loss = reconstruction_loss + distribution_loss\n",
    "        \n",
    "        # compute accumulated gradients\n",
    "        loss.backward()\n",
    "        \n",
    "        # perform parameter update based on current gradients\n",
    "        optimizer.step()\n",
    "        \n",
    "        # save loss\n",
    "        epoch_reconstruction_losses.append(reconstruction_loss.item())\n",
    "        epoch_distribution_losses.append(distribution_loss.item())\n",
    "        epoch_losses.append(loss.item()) #'item()' gets number from tensor. Similarly 'numpy()' returns numpy array copy of the tensor\n",
    "        \n",
    "    epoch_reconstruction_loss = np.mean(epoch_reconstruction_losses)\n",
    "    epoch_distribution_loss = np.mean(epoch_distribution_losses)    \n",
    "    epoch_loss = np.mean(epoch_losses)\n",
    "    test_loss = evaluate_model(autoencoder_swae, mnist_test_dataloader, criterion, distortion=no_distortion)\n",
    "    autoencoder_swae.train() # if \"evaluate_model\" switches the model to 'eval' mode, switch it back 'train'\n",
    "    print(f'epoch {i_epoch+1}/{num_epochs}, train loss: {epoch_loss:0.4f}, test loss {test_loss:0.4f}')\n",
    "    history.append({'train loss': epoch_loss, 'test loss': test_loss, \n",
    "                    'train_reconstruction_loss': epoch_reconstruction_loss, 'train_distribution_loss': epoch_distribution_loss})\n",
    "        "
   ]
  },
  {
   "cell_type": "code",
   "execution_count": 66,
   "id": "strong-reservoir",
   "metadata": {
    "colab": {
     "base_uri": "https://localhost:8080/",
     "height": 283
    },
    "id": "K8iUeDHi0qNf",
    "outputId": "19d61577-86ce-4190-f311-2f88f416f51a"
   },
   "outputs": [
    {
     "data": {
      "text/plain": [
       "[<matplotlib.lines.Line2D at 0x1db8f0ced68>]"
      ]
     },
     "execution_count": 66,
     "metadata": {},
     "output_type": "execute_result"
    },
    {
     "data": {
      "image/png": "[encoded data removed]",
      "text/plain": [
       "<Figure size 432x288 with 1 Axes>"
      ]
     },
     "metadata": {
      "needs_background": "light"
     },
     "output_type": "display_data"
    }
   ],
   "source": [
    "plt.plot([h['train_reconstruction_loss'] for h in history])\n",
    "plt.plot([h['test loss'] for h in history])"
   ]
  },
  {
   "cell_type": "code",
   "execution_count": 67,
   "id": "pediatric-incident",
   "metadata": {
    "colab": {
     "base_uri": "https://localhost:8080/",
     "height": 283
    },
    "id": "VS7qcr0O0qv6",
    "outputId": "b7f583c9-9ca0-40b4-8ed5-f8f0876d5bc6"
   },
   "outputs": [
    {
     "data": {
      "text/plain": [
       "[<matplotlib.lines.Line2D at 0x1dc00578978>]"
      ]
     },
     "execution_count": 67,
     "metadata": {},
     "output_type": "execute_result"
    },
    {
     "data": {
      "image/png": "[encoded data removed]",
      "text/plain": [
       "<Figure size 432x288 with 1 Axes>"
      ]
     },
     "metadata": {
      "needs_background": "light"
     },
     "output_type": "display_data"
    }
   ],
   "source": [
    "plt.plot([h['train_distribution_loss'] for h in history])"
   ]
  },
  {
   "cell_type": "markdown",
   "id": "authorized-vegetarian",
   "metadata": {
    "id": "vzIvkWPj1c5W"
   },
   "source": [
    "Does autoencoer work?"
   ]
  },
  {
   "cell_type": "code",
   "execution_count": 68,
   "id": "biological-pixel",
   "metadata": {
    "id": "TLVaOq4x73wZ"
   },
   "outputs": [],
   "source": [
    "autoencoder_swae.eval().to('cpu');"
   ]
  },
  {
   "cell_type": "code",
   "execution_count": 69,
   "id": "senior-tract",
   "metadata": {
    "colab": {
     "base_uri": "https://localhost:8080/",
     "height": 1000
    },
    "id": "YVq7vnFQ1cdx",
    "outputId": "fc2cefc3-9716-4627-efa4-221f8139921d"
   },
   "outputs": [
    {
     "data": {
      "image/png": "[encoded data removed]",
      "text/plain": [
       "<Figure size 432x288 with 2 Axes>"
      ]
     },
     "metadata": {
      "needs_background": "light"
     },
     "output_type": "display_data"
    },
    {
     "data": {
      "image/png": "[encoded data removed]",
      "text/plain": [
       "<Figure size 432x288 with 2 Axes>"
      ]
     },
     "metadata": {
      "needs_background": "light"
     },
     "output_type": "display_data"
    },
    {
     "data": {
      "image/png": "[encoded data removed]",
      "text/plain": [
       "<Figure size 432x288 with 2 Axes>"
      ]
     },
     "metadata": {
      "needs_background": "light"
     },
     "output_type": "display_data"
    },
    {
     "data": {
      "image/png": "[encoded data removed]",
      "text/plain": [
       "<Figure size 432x288 with 2 Axes>"
      ]
     },
     "metadata": {
      "needs_background": "light"
     },
     "output_type": "display_data"
    },
    {
     "data": {
      "image/png": "[encoded data removed]",
      "text/plain": [
       "<Figure size 432x288 with 2 Axes>"
      ]
     },
     "metadata": {
      "needs_background": "light"
     },
     "output_type": "display_data"
    },
    {
     "data": {
      "image/png": "[encoded data removed]",
      "text/plain": [
       "<Figure size 432x288 with 2 Axes>"
      ]
     },
     "metadata": {
      "needs_background": "light"
     },
     "output_type": "display_data"
    },
    {
     "data": {
      "image/png": "[encoded data removed]",
      "text/plain": [
       "<Figure size 432x288 with 2 Axes>"
      ]
     },
     "metadata": {
      "needs_background": "light"
     },
     "output_type": "display_data"
    },
    {
     "data": {
      "image/png": "[encoded data removed]",
      "text/plain": [
       "<Figure size 432x288 with 2 Axes>"
      ]
     },
     "metadata": {
      "needs_background": "light"
     },
     "output_type": "display_data"
    },
    {
     "data": {
      "image/png": "[encoded data removed]",
      "text/plain": [
       "<Figure size 432x288 with 2 Axes>"
      ]
     },
     "metadata": {
      "needs_background": "light"
     },
     "output_type": "display_data"
    },
    {
     "data": {
      "image/png": "[encoded data removed]",
      "text/plain": [
       "<Figure size 432x288 with 2 Axes>"
      ]
     },
     "metadata": {
      "needs_background": "light"
     },
     "output_type": "display_data"
    }
   ],
   "source": [
    "for i in range(10):\n",
    "    img, target = mnist_test[i]\n",
    "    reconstruction = reconstruct_image(img, autoencoder_swae)\n",
    "    fig, axs = plt.subplots(ncols=2)\n",
    "    axs[0].imshow(img[0], vmin=0, vmax=1)\n",
    "    axs[0].set_title('original')\n",
    "\n",
    "    axs[1].imshow(reconstruction[0], vmin=0, vmax=1)\n",
    "    axs[1].set_title('reconstruction')"
   ]
  },
  {
   "cell_type": "markdown",
   "id": "functioning-certificate",
   "metadata": {
    "id": "9r48u4zR1UjW"
   },
   "source": [
    "Let's see if restriction on latent space works"
   ]
  },
  {
   "cell_type": "code",
   "execution_count": 70,
   "id": "infectious-province",
   "metadata": {
    "id": "ZcRrI1Zd1BR0"
   },
   "outputs": [],
   "source": [
    "@torch.no_grad()\n",
    "def encode_image(img, model, device='cpu'):\n",
    "  x_hat, z = model(img.unsqueeze(0).to(device))\n",
    "  return z[0].to('cpu') # \"[0]\" beacuse 1st item of batch"
   ]
  },
  {
   "cell_type": "code",
   "execution_count": 71,
   "id": "interim-grill",
   "metadata": {
    "id": "OfecGcrc1Tva"
   },
   "outputs": [],
   "source": [
    "train_embeddings = []\n",
    "for idx in range(100):\n",
    "  img, _ = mnist_train[idx]\n",
    "  embedding = encode_image(img, autoencoder_swae)\n",
    "  train_embeddings.append(embedding.numpy())\n",
    "train_embeddings = np.array(train_embeddings)"
   ]
  },
  {
   "cell_type": "code",
   "execution_count": 72,
   "id": "fantastic-motel",
   "metadata": {
    "id": "bdGMLVGL8szp"
   },
   "outputs": [],
   "source": [
    "test_embeddings = []\n",
    "for idx in range(100):\n",
    "  img, _ = mnist_test[idx]\n",
    "  embedding = encode_image(img, autoencoder_swae)\n",
    "  test_embeddings.append(embedding.numpy())\n",
    "test_embeddings = np.array(test_embeddings)"
   ]
  },
  {
   "cell_type": "code",
   "execution_count": 73,
   "id": "divided-three",
   "metadata": {
    "id": "KJQppDi2CV_c"
   },
   "outputs": [],
   "source": [
    "autoencoder.eval().cpu();"
   ]
  },
  {
   "cell_type": "code",
   "execution_count": 74,
   "id": "monthly-oxford",
   "metadata": {
    "id": "lVMM6Qgu9YIQ"
   },
   "outputs": [],
   "source": [
    "test_embeddings_control = []\n",
    "for idx in range(100):\n",
    "  img, _ = mnist_test[idx]\n",
    "  embedding = encode_image(img, autoencoder)\n",
    "  test_embeddings_control.append(embedding.numpy())\n",
    "test_embeddings_control = np.array(test_embeddings_control)"
   ]
  },
  {
   "cell_type": "code",
   "execution_count": 83,
   "id": "studied-finish",
   "metadata": {
    "colab": {
     "base_uri": "https://localhost:8080/",
     "height": 356
    },
    "id": "RAPMvy1n8a-1",
    "outputId": "c02cd1a5-96a1-4330-de54-356801d95db2"
   },
   "outputs": [
    {
     "data": {
      "image/png": "[encoded data removed]",
      "text/plain": [
       "<Figure size 864x360 with 2 Axes>"
      ]
     },
     "metadata": {
      "needs_background": "light"
     },
     "output_type": "display_data"
    }
   ],
   "source": [
    "fig, axs = plt.subplots(ncols=2, figsize=(12,5))\n",
    "axs[0].hist(np.linalg.norm(train_embeddings, axis=1), alpha=0.5)\n",
    "axs[0].hist(np.linalg.norm(test_embeddings, axis=1), alpha=0.5)\n",
    "axs[0].set_title('SWAE')\n",
    "axs[1].hist(np.linalg.norm(test_embeddings_control, axis=1), alpha=0.5)\n",
    "axs[1].set_title('vanilla autoencoder')\n",
    "fig.suptitle('EMBEDDING LENGTH DISTRIBUTION');\n"
   ]
  },
  {
   "cell_type": "code",
   "execution_count": 84,
   "id": "lesbian-barbados",
   "metadata": {
    "colab": {
     "base_uri": "https://localhost:8080/",
     "height": 356
    },
    "id": "BOWLfl7o8hc-",
    "outputId": "439c6b2b-4a13-4650-8421-9ecaa2a34f81"
   },
   "outputs": [
    {
     "data": {
      "text/plain": [
       "(array([  1.,   2.,   6.,   7.,  10.,  26.,  49.,  90., 144., 665.]),\n",
       " array([0.61933494, 0.65740144, 0.6954679 , 0.7335344 , 0.77160084,\n",
       "        0.80966735, 0.84773386, 0.8858003 , 0.9238668 , 0.96193326,\n",
       "        0.99999976], dtype=float32),\n",
       " <BarContainer object of 10 artists>)"
      ]
     },
     "execution_count": 84,
     "metadata": {},
     "output_type": "execute_result"
    },
    {
     "data": {
      "image/png": "[encoded data removed]",
      "text/plain": [
       "<Figure size 432x288 with 1 Axes>"
      ]
     },
     "metadata": {
      "needs_background": "light"
     },
     "output_type": "display_data"
    }
   ],
   "source": [
    "plt.hist(np.linalg.norm(rand_ball_nd(1000,12).numpy(), axis=1))"
   ]
  },
  {
   "cell_type": "code",
   "execution_count": null,
   "id": "applicable-slope",
   "metadata": {
    "id": "NRR4XWaEDavL"
   },
   "outputs": [],
   "source": []
  }
 ],
 "metadata": {
  "accelerator": "GPU",
  "colab": {
   "collapsed_sections": [],
   "name": "Kopia day2_2_denoising.ipynb",
   "provenance": []
  },
  "kernelspec": {
   "display_name": "Python 3",
   "language": "python",
   "name": "python3"
  },
  "language_info": {
   "codemirror_mode": {
    "name": "ipython",
    "version": 3
   },
   "file_extension": ".py",
   "mimetype": "text/x-python",
   "name": "python",
   "nbconvert_exporter": "python",
   "pygments_lexer": "ipython3",
   "version": "3.7.3"
  },
  "widgets": {
   "application/vnd.jupyter.widget-state+json": {
    "0ed47c38cce84c2d92060875e2e1f298": {
     "model_module": "@jupyter-widgets/base",
     "model_module_version": "1.2.0",
     "model_name": "LayoutModel",
     "state": {
      "_model_module": "@jupyter-widgets/base",
      "_model_module_version": "1.2.0",
      "_model_name": "LayoutModel",
      "_view_count": null,
      "_view_module": "@jupyter-widgets/base",
      "_view_module_version": "1.2.0",
      "_view_name": "LayoutView",
      "align_content": null,
      "align_items": null,
      "align_self": null,
      "border": null,
      "bottom": null,
      "display": null,
      "flex": null,
      "flex_flow": null,
      "grid_area": null,
      "grid_auto_columns": null,
      "grid_auto_flow": null,
      "grid_auto_rows": null,
      "grid_column": null,
      "grid_gap": null,
      "grid_row": null,
      "grid_template_areas": null,
      "grid_template_columns": null,
      "grid_template_rows": null,
      "height": null,
      "justify_content": null,
      "justify_items": null,
      "left": null,
      "margin": null,
      "max_height": null,
      "max_width": null,
      "min_height": null,
      "min_width": null,
      "object_fit": null,
      "object_position": null,
      "order": null,
      "overflow": null,
      "overflow_x": null,
      "overflow_y": null,
      "padding": null,
      "right": null,
      "top": null,
      "visibility": null,
      "width": null
     }
    },
    "0ff7dfc619f44ad48702d8031a5abb41": {
     "model_module": "@jupyter-widgets/base",
     "model_module_version": "1.2.0",
     "model_name": "LayoutModel",
     "state": {
      "_model_module": "@jupyter-widgets/base",
      "_model_module_version": "1.2.0",
      "_model_name": "LayoutModel",
      "_view_count": null,
      "_view_module": "@jupyter-widgets/base",
      "_view_module_version": "1.2.0",
      "_view_name": "LayoutView",
      "align_content": null,
      "align_items": null,
      "align_self": null,
      "border": null,
      "bottom": null,
      "display": null,
      "flex": null,
      "flex_flow": null,
      "grid_area": null,
      "grid_auto_columns": null,
      "grid_auto_flow": null,
      "grid_auto_rows": null,
      "grid_column": null,
      "grid_gap": null,
      "grid_row": null,
      "grid_template_areas": null,
      "grid_template_columns": null,
      "grid_template_rows": null,
      "height": null,
      "justify_content": null,
      "justify_items": null,
      "left": null,
      "margin": null,
      "max_height": null,
      "max_width": null,
      "min_height": null,
      "min_width": null,
      "object_fit": null,
      "object_position": null,
      "order": null,
      "overflow": null,
      "overflow_x": null,
      "overflow_y": null,
      "padding": null,
      "right": null,
      "top": null,
      "visibility": null,
      "width": null
     }
    },
    "1081c5b2ea5d4944afbe8eebecc8f9b7": {
     "model_module": "@jupyter-widgets/base",
     "model_module_version": "1.2.0",
     "model_name": "LayoutModel",
     "state": {
      "_model_module": "@jupyter-widgets/base",
      "_model_module_version": "1.2.0",
      "_model_name": "LayoutModel",
      "_view_count": null,
      "_view_module": "@jupyter-widgets/base",
      "_view_module_version": "1.2.0",
      "_view_name": "LayoutView",
      "align_content": null,
      "align_items": null,
      "align_self": null,
      "border": null,
      "bottom": null,
      "display": null,
      "flex": null,
      "flex_flow": null,
      "grid_area": null,
      "grid_auto_columns": null,
      "grid_auto_flow": null,
      "grid_auto_rows": null,
      "grid_column": null,
      "grid_gap": null,
      "grid_row": null,
      "grid_template_areas": null,
      "grid_template_columns": null,
      "grid_template_rows": null,
      "height": null,
      "justify_content": null,
      "justify_items": null,
      "left": null,
      "margin": null,
      "max_height": null,
      "max_width": null,
      "min_height": null,
      "min_width": null,
      "object_fit": null,
      "object_position": null,
      "order": null,
      "overflow": null,
      "overflow_x": null,
      "overflow_y": null,
      "padding": null,
      "right": null,
      "top": null,
      "visibility": null,
      "width": null
     }
    },
    "17d9b76b746a41ff9d43fc423b8d56ed": {
     "model_module": "@jupyter-widgets/controls",
     "model_module_version": "1.5.0",
     "model_name": "ProgressStyleModel",
     "state": {
      "_model_module": "@jupyter-widgets/controls",
      "_model_module_version": "1.5.0",
      "_model_name": "ProgressStyleModel",
      "_view_count": null,
      "_view_module": "@jupyter-widgets/base",
      "_view_module_version": "1.2.0",
      "_view_name": "StyleView",
      "bar_color": null,
      "description_width": ""
     }
    },
    "1dc5976ae436443a888deaa2aab4555b": {
     "model_module": "@jupyter-widgets/base",
     "model_module_version": "1.2.0",
     "model_name": "LayoutModel",
     "state": {
      "_model_module": "@jupyter-widgets/base",
      "_model_module_version": "1.2.0",
      "_model_name": "LayoutModel",
      "_view_count": null,
      "_view_module": "@jupyter-widgets/base",
      "_view_module_version": "1.2.0",
      "_view_name": "LayoutView",
      "align_content": null,
      "align_items": null,
      "align_self": null,
      "border": null,
      "bottom": null,
      "display": null,
      "flex": null,
      "flex_flow": null,
      "grid_area": null,
      "grid_auto_columns": null,
      "grid_auto_flow": null,
      "grid_auto_rows": null,
      "grid_column": null,
      "grid_gap": null,
      "grid_row": null,
      "grid_template_areas": null,
      "grid_template_columns": null,
      "grid_template_rows": null,
      "height": null,
      "justify_content": null,
      "justify_items": null,
      "left": null,
      "margin": null,
      "max_height": null,
      "max_width": null,
      "min_height": null,
      "min_width": null,
      "object_fit": null,
      "object_position": null,
      "order": null,
      "overflow": null,
      "overflow_x": null,
      "overflow_y": null,
      "padding": null,
      "right": null,
      "top": null,
      "visibility": null,
      "width": null
     }
    },
    "2017a8119b38476eac6c9125c170510f": {
     "model_module": "@jupyter-widgets/controls",
     "model_module_version": "1.5.0",
     "model_name": "HBoxModel",
     "state": {
      "_dom_classes": [],
      "_model_module": "@jupyter-widgets/controls",
      "_model_module_version": "1.5.0",
      "_model_name": "HBoxModel",
      "_view_count": null,
      "_view_module": "@jupyter-widgets/controls",
      "_view_module_version": "1.5.0",
      "_view_name": "HBoxView",
      "box_style": "",
      "children": [
       "IPY_MODEL_413e3d818cf2438eb5f395e92defd988",
       "IPY_MODEL_ce962b60d1234e9ab67eb6c721599498",
       "IPY_MODEL_5d7610220aaa43f4928e76a6798e18f6"
      ],
      "layout": "IPY_MODEL_c88eeb72eeb345c982a77b42e24c84b6"
     }
    },
    "29cbbf45ca9f4ef4a85a47a08061be02": {
     "model_module": "@jupyter-widgets/controls",
     "model_module_version": "1.5.0",
     "model_name": "DescriptionStyleModel",
     "state": {
      "_model_module": "@jupyter-widgets/controls",
      "_model_module_version": "1.5.0",
      "_model_name": "DescriptionStyleModel",
      "_view_count": null,
      "_view_module": "@jupyter-widgets/base",
      "_view_module_version": "1.2.0",
      "_view_name": "StyleView",
      "description_width": ""
     }
    },
    "2d61bfa682f247a78388a2f61ddd79c2": {
     "model_module": "@jupyter-widgets/controls",
     "model_module_version": "1.5.0",
     "model_name": "HTMLModel",
     "state": {
      "_dom_classes": [],
      "_model_module": "@jupyter-widgets/controls",
      "_model_module_version": "1.5.0",
      "_model_name": "HTMLModel",
      "_view_count": null,
      "_view_module": "@jupyter-widgets/controls",
      "_view_module_version": "1.5.0",
      "_view_name": "HTMLView",
      "description": "",
      "description_tooltip": null,
      "layout": "IPY_MODEL_a6bc6521c67d453f9b34e328ee69d2a0",
      "placeholder": "​",
      "style": "IPY_MODEL_9b8a5570a949485c8a3ad4ca9a493750",
      "value": " 9913344/? [00:00&lt;00:00, 18985021.99it/s]"
     }
    },
    "30d0c43fd83c46009768251e29db71e3": {
     "model_module": "@jupyter-widgets/controls",
     "model_module_version": "1.5.0",
     "model_name": "ProgressStyleModel",
     "state": {
      "_model_module": "@jupyter-widgets/controls",
      "_model_module_version": "1.5.0",
      "_model_name": "ProgressStyleModel",
      "_view_count": null,
      "_view_module": "@jupyter-widgets/base",
      "_view_module_version": "1.2.0",
      "_view_name": "StyleView",
      "bar_color": null,
      "description_width": ""
     }
    },
    "330136a0aab240478e285c1da5bf8b60": {
     "model_module": "@jupyter-widgets/controls",
     "model_module_version": "1.5.0",
     "model_name": "HBoxModel",
     "state": {
      "_dom_classes": [],
      "_model_module": "@jupyter-widgets/controls",
      "_model_module_version": "1.5.0",
      "_model_name": "HBoxModel",
      "_view_count": null,
      "_view_module": "@jupyter-widgets/controls",
      "_view_module_version": "1.5.0",
      "_view_name": "HBoxView",
      "box_style": "",
      "children": [
       "IPY_MODEL_d97571162f8c4e41afb0b5880e2b4f2f",
       "IPY_MODEL_7d08ffc537a4461a8c0d374b79ce90e2",
       "IPY_MODEL_2d61bfa682f247a78388a2f61ddd79c2"
      ],
      "layout": "IPY_MODEL_1dc5976ae436443a888deaa2aab4555b"
     }
    },
    "3afc7bfe877c4ed1a0fc6d9bdd28f173": {
     "model_module": "@jupyter-widgets/base",
     "model_module_version": "1.2.0",
     "model_name": "LayoutModel",
     "state": {
      "_model_module": "@jupyter-widgets/base",
      "_model_module_version": "1.2.0",
      "_model_name": "LayoutModel",
      "_view_count": null,
      "_view_module": "@jupyter-widgets/base",
      "_view_module_version": "1.2.0",
      "_view_name": "LayoutView",
      "align_content": null,
      "align_items": null,
      "align_self": null,
      "border": null,
      "bottom": null,
      "display": null,
      "flex": null,
      "flex_flow": null,
      "grid_area": null,
      "grid_auto_columns": null,
      "grid_auto_flow": null,
      "grid_auto_rows": null,
      "grid_column": null,
      "grid_gap": null,
      "grid_row": null,
      "grid_template_areas": null,
      "grid_template_columns": null,
      "grid_template_rows": null,
      "height": null,
      "justify_content": null,
      "justify_items": null,
      "left": null,
      "margin": null,
      "max_height": null,
      "max_width": null,
      "min_height": null,
      "min_width": null,
      "object_fit": null,
      "object_position": null,
      "order": null,
      "overflow": null,
      "overflow_x": null,
      "overflow_y": null,
      "padding": null,
      "right": null,
      "top": null,
      "visibility": null,
      "width": null
     }
    },
    "3d5009164ec24cba9ba192e0dd2553b0": {
     "model_module": "@jupyter-widgets/base",
     "model_module_version": "1.2.0",
     "model_name": "LayoutModel",
     "state": {
      "_model_module": "@jupyter-widgets/base",
      "_model_module_version": "1.2.0",
      "_model_name": "LayoutModel",
      "_view_count": null,
      "_view_module": "@jupyter-widgets/base",
      "_view_module_version": "1.2.0",
      "_view_name": "LayoutView",
      "align_content": null,
      "align_items": null,
      "align_self": null,
      "border": null,
      "bottom": null,
      "display": null,
      "flex": null,
      "flex_flow": null,
      "grid_area": null,
      "grid_auto_columns": null,
      "grid_auto_flow": null,
      "grid_auto_rows": null,
      "grid_column": null,
      "grid_gap": null,
      "grid_row": null,
      "grid_template_areas": null,
      "grid_template_columns": null,
      "grid_template_rows": null,
      "height": null,
      "justify_content": null,
      "justify_items": null,
      "left": null,
      "margin": null,
      "max_height": null,
      "max_width": null,
      "min_height": null,
      "min_width": null,
      "object_fit": null,
      "object_position": null,
      "order": null,
      "overflow": null,
      "overflow_x": null,
      "overflow_y": null,
      "padding": null,
      "right": null,
      "top": null,
      "visibility": null,
      "width": null
     }
    },
    "413e3d818cf2438eb5f395e92defd988": {
     "model_module": "@jupyter-widgets/controls",
     "model_module_version": "1.5.0",
     "model_name": "HTMLModel",
     "state": {
      "_dom_classes": [],
      "_model_module": "@jupyter-widgets/controls",
      "_model_module_version": "1.5.0",
      "_model_name": "HTMLModel",
      "_view_count": null,
      "_view_module": "@jupyter-widgets/controls",
      "_view_module_version": "1.5.0",
      "_view_name": "HTMLView",
      "description": "",
      "description_tooltip": null,
      "layout": "IPY_MODEL_e895c6dcb6984706bb4d78718534fae9",
      "placeholder": "​",
      "style": "IPY_MODEL_b546c3db511243819663b738768cffc5",
      "value": ""
     }
    },
    "43b6adcef1d64b11b709264f5c59e429": {
     "model_module": "@jupyter-widgets/controls",
     "model_module_version": "1.5.0",
     "model_name": "FloatProgressModel",
     "state": {
      "_dom_classes": [],
      "_model_module": "@jupyter-widgets/controls",
      "_model_module_version": "1.5.0",
      "_model_name": "FloatProgressModel",
      "_view_count": null,
      "_view_module": "@jupyter-widgets/controls",
      "_view_module_version": "1.5.0",
      "_view_name": "ProgressView",
      "bar_style": "success",
      "description": "",
      "description_tooltip": null,
      "layout": "IPY_MODEL_514afb1f64944fd887a54b2b6c1197f1",
      "max": 4542,
      "min": 0,
      "orientation": "horizontal",
      "style": "IPY_MODEL_30d0c43fd83c46009768251e29db71e3",
      "value": 4542
     }
    },
    "514afb1f64944fd887a54b2b6c1197f1": {
     "model_module": "@jupyter-widgets/base",
     "model_module_version": "1.2.0",
     "model_name": "LayoutModel",
     "state": {
      "_model_module": "@jupyter-widgets/base",
      "_model_module_version": "1.2.0",
      "_model_name": "LayoutModel",
      "_view_count": null,
      "_view_module": "@jupyter-widgets/base",
      "_view_module_version": "1.2.0",
      "_view_name": "LayoutView",
      "align_content": null,
      "align_items": null,
      "align_self": null,
      "border": null,
      "bottom": null,
      "display": null,
      "flex": null,
      "flex_flow": null,
      "grid_area": null,
      "grid_auto_columns": null,
      "grid_auto_flow": null,
      "grid_auto_rows": null,
      "grid_column": null,
      "grid_gap": null,
      "grid_row": null,
      "grid_template_areas": null,
      "grid_template_columns": null,
      "grid_template_rows": null,
      "height": null,
      "justify_content": null,
      "justify_items": null,
      "left": null,
      "margin": null,
      "max_height": null,
      "max_width": null,
      "min_height": null,
      "min_width": null,
      "object_fit": null,
      "object_position": null,
      "order": null,
      "overflow": null,
      "overflow_x": null,
      "overflow_y": null,
      "padding": null,
      "right": null,
      "top": null,
      "visibility": null,
      "width": null
     }
    },
    "54a47fe647a64a23953e195013344439": {
     "model_module": "@jupyter-widgets/controls",
     "model_module_version": "1.5.0",
     "model_name": "HBoxModel",
     "state": {
      "_dom_classes": [],
      "_model_module": "@jupyter-widgets/controls",
      "_model_module_version": "1.5.0",
      "_model_name": "HBoxModel",
      "_view_count": null,
      "_view_module": "@jupyter-widgets/controls",
      "_view_module_version": "1.5.0",
      "_view_name": "HBoxView",
      "box_style": "",
      "children": [
       "IPY_MODEL_fb671887cb444625b9d478f7dd361b05",
       "IPY_MODEL_5cf975fabd334c899a1126283124e79a",
       "IPY_MODEL_5a8b716955c84cae8d62141530f83c1d"
      ],
      "layout": "IPY_MODEL_8964a9b86941404ba5e65f93c17cfc46"
     }
    },
    "5a8b716955c84cae8d62141530f83c1d": {
     "model_module": "@jupyter-widgets/controls",
     "model_module_version": "1.5.0",
     "model_name": "HTMLModel",
     "state": {
      "_dom_classes": [],
      "_model_module": "@jupyter-widgets/controls",
      "_model_module_version": "1.5.0",
      "_model_name": "HTMLModel",
      "_view_count": null,
      "_view_module": "@jupyter-widgets/controls",
      "_view_module_version": "1.5.0",
      "_view_name": "HTMLView",
      "description": "",
      "description_tooltip": null,
      "layout": "IPY_MODEL_7994e09d820e40bd9fe53af5bac37ec4",
      "placeholder": "​",
      "style": "IPY_MODEL_29cbbf45ca9f4ef4a85a47a08061be02",
      "value": " 29696/? [00:00&lt;00:00, 10058.38it/s]"
     }
    },
    "5a90ce97f0114936b176082550a98172": {
     "model_module": "@jupyter-widgets/controls",
     "model_module_version": "1.5.0",
     "model_name": "DescriptionStyleModel",
     "state": {
      "_model_module": "@jupyter-widgets/controls",
      "_model_module_version": "1.5.0",
      "_model_name": "DescriptionStyleModel",
      "_view_count": null,
      "_view_module": "@jupyter-widgets/base",
      "_view_module_version": "1.2.0",
      "_view_name": "StyleView",
      "description_width": ""
     }
    },
    "5cf975fabd334c899a1126283124e79a": {
     "model_module": "@jupyter-widgets/controls",
     "model_module_version": "1.5.0",
     "model_name": "FloatProgressModel",
     "state": {
      "_dom_classes": [],
      "_model_module": "@jupyter-widgets/controls",
      "_model_module_version": "1.5.0",
      "_model_name": "FloatProgressModel",
      "_view_count": null,
      "_view_module": "@jupyter-widgets/controls",
      "_view_module_version": "1.5.0",
      "_view_name": "ProgressView",
      "bar_style": "success",
      "description": "",
      "description_tooltip": null,
      "layout": "IPY_MODEL_0ed47c38cce84c2d92060875e2e1f298",
      "max": 28881,
      "min": 0,
      "orientation": "horizontal",
      "style": "IPY_MODEL_17d9b76b746a41ff9d43fc423b8d56ed",
      "value": 28881
     }
    },
    "5d7610220aaa43f4928e76a6798e18f6": {
     "model_module": "@jupyter-widgets/controls",
     "model_module_version": "1.5.0",
     "model_name": "HTMLModel",
     "state": {
      "_dom_classes": [],
      "_model_module": "@jupyter-widgets/controls",
      "_model_module_version": "1.5.0",
      "_model_name": "HTMLModel",
      "_view_count": null,
      "_view_module": "@jupyter-widgets/controls",
      "_view_module_version": "1.5.0",
      "_view_name": "HTMLView",
      "description": "",
      "description_tooltip": null,
      "layout": "IPY_MODEL_1081c5b2ea5d4944afbe8eebecc8f9b7",
      "placeholder": "​",
      "style": "IPY_MODEL_d1345973d7424e09ab1d1562655910fd",
      "value": " 1649664/? [00:00&lt;00:00, 4714503.81it/s]"
     }
    },
    "7464fcfafca743838983bad08d7759e5": {
     "model_module": "@jupyter-widgets/base",
     "model_module_version": "1.2.0",
     "model_name": "LayoutModel",
     "state": {
      "_model_module": "@jupyter-widgets/base",
      "_model_module_version": "1.2.0",
      "_model_name": "LayoutModel",
      "_view_count": null,
      "_view_module": "@jupyter-widgets/base",
      "_view_module_version": "1.2.0",
      "_view_name": "LayoutView",
      "align_content": null,
      "align_items": null,
      "align_self": null,
      "border": null,
      "bottom": null,
      "display": null,
      "flex": null,
      "flex_flow": null,
      "grid_area": null,
      "grid_auto_columns": null,
      "grid_auto_flow": null,
      "grid_auto_rows": null,
      "grid_column": null,
      "grid_gap": null,
      "grid_row": null,
      "grid_template_areas": null,
      "grid_template_columns": null,
      "grid_template_rows": null,
      "height": null,
      "justify_content": null,
      "justify_items": null,
      "left": null,
      "margin": null,
      "max_height": null,
      "max_width": null,
      "min_height": null,
      "min_width": null,
      "object_fit": null,
      "object_position": null,
      "order": null,
      "overflow": null,
      "overflow_x": null,
      "overflow_y": null,
      "padding": null,
      "right": null,
      "top": null,
      "visibility": null,
      "width": null
     }
    },
    "7994e09d820e40bd9fe53af5bac37ec4": {
     "model_module": "@jupyter-widgets/base",
     "model_module_version": "1.2.0",
     "model_name": "LayoutModel",
     "state": {
      "_model_module": "@jupyter-widgets/base",
      "_model_module_version": "1.2.0",
      "_model_name": "LayoutModel",
      "_view_count": null,
      "_view_module": "@jupyter-widgets/base",
      "_view_module_version": "1.2.0",
      "_view_name": "LayoutView",
      "align_content": null,
      "align_items": null,
      "align_self": null,
      "border": null,
      "bottom": null,
      "display": null,
      "flex": null,
      "flex_flow": null,
      "grid_area": null,
      "grid_auto_columns": null,
      "grid_auto_flow": null,
      "grid_auto_rows": null,
      "grid_column": null,
      "grid_gap": null,
      "grid_row": null,
      "grid_template_areas": null,
      "grid_template_columns": null,
      "grid_template_rows": null,
      "height": null,
      "justify_content": null,
      "justify_items": null,
      "left": null,
      "margin": null,
      "max_height": null,
      "max_width": null,
      "min_height": null,
      "min_width": null,
      "object_fit": null,
      "object_position": null,
      "order": null,
      "overflow": null,
      "overflow_x": null,
      "overflow_y": null,
      "padding": null,
      "right": null,
      "top": null,
      "visibility": null,
      "width": null
     }
    },
    "7a22133257e04a2e9736692c176f80a4": {
     "model_module": "@jupyter-widgets/controls",
     "model_module_version": "1.5.0",
     "model_name": "ProgressStyleModel",
     "state": {
      "_model_module": "@jupyter-widgets/controls",
      "_model_module_version": "1.5.0",
      "_model_name": "ProgressStyleModel",
      "_view_count": null,
      "_view_module": "@jupyter-widgets/base",
      "_view_module_version": "1.2.0",
      "_view_name": "StyleView",
      "bar_color": null,
      "description_width": ""
     }
    },
    "7d08ffc537a4461a8c0d374b79ce90e2": {
     "model_module": "@jupyter-widgets/controls",
     "model_module_version": "1.5.0",
     "model_name": "FloatProgressModel",
     "state": {
      "_dom_classes": [],
      "_model_module": "@jupyter-widgets/controls",
      "_model_module_version": "1.5.0",
      "_model_name": "FloatProgressModel",
      "_view_count": null,
      "_view_module": "@jupyter-widgets/controls",
      "_view_module_version": "1.5.0",
      "_view_name": "ProgressView",
      "bar_style": "success",
      "description": "",
      "description_tooltip": null,
      "layout": "IPY_MODEL_7464fcfafca743838983bad08d7759e5",
      "max": 9912422,
      "min": 0,
      "orientation": "horizontal",
      "style": "IPY_MODEL_7a22133257e04a2e9736692c176f80a4",
      "value": 9912422
     }
    },
    "8411615b07144e98bdc64a0e11249364": {
     "model_module": "@jupyter-widgets/controls",
     "model_module_version": "1.5.0",
     "model_name": "HTMLModel",
     "state": {
      "_dom_classes": [],
      "_model_module": "@jupyter-widgets/controls",
      "_model_module_version": "1.5.0",
      "_model_name": "HTMLModel",
      "_view_count": null,
      "_view_module": "@jupyter-widgets/controls",
      "_view_module_version": "1.5.0",
      "_view_name": "HTMLView",
      "description": "",
      "description_tooltip": null,
      "layout": "IPY_MODEL_3d5009164ec24cba9ba192e0dd2553b0",
      "placeholder": "​",
      "style": "IPY_MODEL_96f549b788aa4620ac7992b662ded266",
      "value": " 5120/? [00:00&lt;00:00, 67057.52it/s]"
     }
    },
    "88c6bf8bafeb4f108bb9d0f598898f88": {
     "model_module": "@jupyter-widgets/controls",
     "model_module_version": "1.5.0",
     "model_name": "DescriptionStyleModel",
     "state": {
      "_model_module": "@jupyter-widgets/controls",
      "_model_module_version": "1.5.0",
      "_model_name": "DescriptionStyleModel",
      "_view_count": null,
      "_view_module": "@jupyter-widgets/base",
      "_view_module_version": "1.2.0",
      "_view_name": "StyleView",
      "description_width": ""
     }
    },
    "8964a9b86941404ba5e65f93c17cfc46": {
     "model_module": "@jupyter-widgets/base",
     "model_module_version": "1.2.0",
     "model_name": "LayoutModel",
     "state": {
      "_model_module": "@jupyter-widgets/base",
      "_model_module_version": "1.2.0",
      "_model_name": "LayoutModel",
      "_view_count": null,
      "_view_module": "@jupyter-widgets/base",
      "_view_module_version": "1.2.0",
      "_view_name": "LayoutView",
      "align_content": null,
      "align_items": null,
      "align_self": null,
      "border": null,
      "bottom": null,
      "display": null,
      "flex": null,
      "flex_flow": null,
      "grid_area": null,
      "grid_auto_columns": null,
      "grid_auto_flow": null,
      "grid_auto_rows": null,
      "grid_column": null,
      "grid_gap": null,
      "grid_row": null,
      "grid_template_areas": null,
      "grid_template_columns": null,
      "grid_template_rows": null,
      "height": null,
      "justify_content": null,
      "justify_items": null,
      "left": null,
      "margin": null,
      "max_height": null,
      "max_width": null,
      "min_height": null,
      "min_width": null,
      "object_fit": null,
      "object_position": null,
      "order": null,
      "overflow": null,
      "overflow_x": null,
      "overflow_y": null,
      "padding": null,
      "right": null,
      "top": null,
      "visibility": null,
      "width": null
     }
    },
    "89e137166f314a3399d9446f523fb2d5": {
     "model_module": "@jupyter-widgets/base",
     "model_module_version": "1.2.0",
     "model_name": "LayoutModel",
     "state": {
      "_model_module": "@jupyter-widgets/base",
      "_model_module_version": "1.2.0",
      "_model_name": "LayoutModel",
      "_view_count": null,
      "_view_module": "@jupyter-widgets/base",
      "_view_module_version": "1.2.0",
      "_view_name": "LayoutView",
      "align_content": null,
      "align_items": null,
      "align_self": null,
      "border": null,
      "bottom": null,
      "display": null,
      "flex": null,
      "flex_flow": null,
      "grid_area": null,
      "grid_auto_columns": null,
      "grid_auto_flow": null,
      "grid_auto_rows": null,
      "grid_column": null,
      "grid_gap": null,
      "grid_row": null,
      "grid_template_areas": null,
      "grid_template_columns": null,
      "grid_template_rows": null,
      "height": null,
      "justify_content": null,
      "justify_items": null,
      "left": null,
      "margin": null,
      "max_height": null,
      "max_width": null,
      "min_height": null,
      "min_width": null,
      "object_fit": null,
      "object_position": null,
      "order": null,
      "overflow": null,
      "overflow_x": null,
      "overflow_y": null,
      "padding": null,
      "right": null,
      "top": null,
      "visibility": null,
      "width": null
     }
    },
    "8dd689010a7545fdbd6f4be277e806e0": {
     "model_module": "@jupyter-widgets/controls",
     "model_module_version": "1.5.0",
     "model_name": "DescriptionStyleModel",
     "state": {
      "_model_module": "@jupyter-widgets/controls",
      "_model_module_version": "1.5.0",
      "_model_name": "DescriptionStyleModel",
      "_view_count": null,
      "_view_module": "@jupyter-widgets/base",
      "_view_module_version": "1.2.0",
      "_view_name": "StyleView",
      "description_width": ""
     }
    },
    "96f549b788aa4620ac7992b662ded266": {
     "model_module": "@jupyter-widgets/controls",
     "model_module_version": "1.5.0",
     "model_name": "DescriptionStyleModel",
     "state": {
      "_model_module": "@jupyter-widgets/controls",
      "_model_module_version": "1.5.0",
      "_model_name": "DescriptionStyleModel",
      "_view_count": null,
      "_view_module": "@jupyter-widgets/base",
      "_view_module_version": "1.2.0",
      "_view_name": "StyleView",
      "description_width": ""
     }
    },
    "9b8a5570a949485c8a3ad4ca9a493750": {
     "model_module": "@jupyter-widgets/controls",
     "model_module_version": "1.5.0",
     "model_name": "DescriptionStyleModel",
     "state": {
      "_model_module": "@jupyter-widgets/controls",
      "_model_module_version": "1.5.0",
      "_model_name": "DescriptionStyleModel",
      "_view_count": null,
      "_view_module": "@jupyter-widgets/base",
      "_view_module_version": "1.2.0",
      "_view_name": "StyleView",
      "description_width": ""
     }
    },
    "a6bc6521c67d453f9b34e328ee69d2a0": {
     "model_module": "@jupyter-widgets/base",
     "model_module_version": "1.2.0",
     "model_name": "LayoutModel",
     "state": {
      "_model_module": "@jupyter-widgets/base",
      "_model_module_version": "1.2.0",
      "_model_name": "LayoutModel",
      "_view_count": null,
      "_view_module": "@jupyter-widgets/base",
      "_view_module_version": "1.2.0",
      "_view_name": "LayoutView",
      "align_content": null,
      "align_items": null,
      "align_self": null,
      "border": null,
      "bottom": null,
      "display": null,
      "flex": null,
      "flex_flow": null,
      "grid_area": null,
      "grid_auto_columns": null,
      "grid_auto_flow": null,
      "grid_auto_rows": null,
      "grid_column": null,
      "grid_gap": null,
      "grid_row": null,
      "grid_template_areas": null,
      "grid_template_columns": null,
      "grid_template_rows": null,
      "height": null,
      "justify_content": null,
      "justify_items": null,
      "left": null,
      "margin": null,
      "max_height": null,
      "max_width": null,
      "min_height": null,
      "min_width": null,
      "object_fit": null,
      "object_position": null,
      "order": null,
      "overflow": null,
      "overflow_x": null,
      "overflow_y": null,
      "padding": null,
      "right": null,
      "top": null,
      "visibility": null,
      "width": null
     }
    },
    "b546c3db511243819663b738768cffc5": {
     "model_module": "@jupyter-widgets/controls",
     "model_module_version": "1.5.0",
     "model_name": "DescriptionStyleModel",
     "state": {
      "_model_module": "@jupyter-widgets/controls",
      "_model_module_version": "1.5.0",
      "_model_name": "DescriptionStyleModel",
      "_view_count": null,
      "_view_module": "@jupyter-widgets/base",
      "_view_module_version": "1.2.0",
      "_view_name": "StyleView",
      "description_width": ""
     }
    },
    "b776ded91e4b495c8f9e06e2cfaa4f03": {
     "model_module": "@jupyter-widgets/controls",
     "model_module_version": "1.5.0",
     "model_name": "HTMLModel",
     "state": {
      "_dom_classes": [],
      "_model_module": "@jupyter-widgets/controls",
      "_model_module_version": "1.5.0",
      "_model_name": "HTMLModel",
      "_view_count": null,
      "_view_module": "@jupyter-widgets/controls",
      "_view_module_version": "1.5.0",
      "_view_name": "HTMLView",
      "description": "",
      "description_tooltip": null,
      "layout": "IPY_MODEL_c7c5305bfaf3461fb4260f35ee419676",
      "placeholder": "​",
      "style": "IPY_MODEL_5a90ce97f0114936b176082550a98172",
      "value": ""
     }
    },
    "c35133a90dc945cb8262d6870d3c3d65": {
     "model_module": "@jupyter-widgets/controls",
     "model_module_version": "1.5.0",
     "model_name": "ProgressStyleModel",
     "state": {
      "_model_module": "@jupyter-widgets/controls",
      "_model_module_version": "1.5.0",
      "_model_name": "ProgressStyleModel",
      "_view_count": null,
      "_view_module": "@jupyter-widgets/base",
      "_view_module_version": "1.2.0",
      "_view_name": "StyleView",
      "bar_color": null,
      "description_width": ""
     }
    },
    "c7c5305bfaf3461fb4260f35ee419676": {
     "model_module": "@jupyter-widgets/base",
     "model_module_version": "1.2.0",
     "model_name": "LayoutModel",
     "state": {
      "_model_module": "@jupyter-widgets/base",
      "_model_module_version": "1.2.0",
      "_model_name": "LayoutModel",
      "_view_count": null,
      "_view_module": "@jupyter-widgets/base",
      "_view_module_version": "1.2.0",
      "_view_name": "LayoutView",
      "align_content": null,
      "align_items": null,
      "align_self": null,
      "border": null,
      "bottom": null,
      "display": null,
      "flex": null,
      "flex_flow": null,
      "grid_area": null,
      "grid_auto_columns": null,
      "grid_auto_flow": null,
      "grid_auto_rows": null,
      "grid_column": null,
      "grid_gap": null,
      "grid_row": null,
      "grid_template_areas": null,
      "grid_template_columns": null,
      "grid_template_rows": null,
      "height": null,
      "justify_content": null,
      "justify_items": null,
      "left": null,
      "margin": null,
      "max_height": null,
      "max_width": null,
      "min_height": null,
      "min_width": null,
      "object_fit": null,
      "object_position": null,
      "order": null,
      "overflow": null,
      "overflow_x": null,
      "overflow_y": null,
      "padding": null,
      "right": null,
      "top": null,
      "visibility": null,
      "width": null
     }
    },
    "c88eeb72eeb345c982a77b42e24c84b6": {
     "model_module": "@jupyter-widgets/base",
     "model_module_version": "1.2.0",
     "model_name": "LayoutModel",
     "state": {
      "_model_module": "@jupyter-widgets/base",
      "_model_module_version": "1.2.0",
      "_model_name": "LayoutModel",
      "_view_count": null,
      "_view_module": "@jupyter-widgets/base",
      "_view_module_version": "1.2.0",
      "_view_name": "LayoutView",
      "align_content": null,
      "align_items": null,
      "align_self": null,
      "border": null,
      "bottom": null,
      "display": null,
      "flex": null,
      "flex_flow": null,
      "grid_area": null,
      "grid_auto_columns": null,
      "grid_auto_flow": null,
      "grid_auto_rows": null,
      "grid_column": null,
      "grid_gap": null,
      "grid_row": null,
      "grid_template_areas": null,
      "grid_template_columns": null,
      "grid_template_rows": null,
      "height": null,
      "justify_content": null,
      "justify_items": null,
      "left": null,
      "margin": null,
      "max_height": null,
      "max_width": null,
      "min_height": null,
      "min_width": null,
      "object_fit": null,
      "object_position": null,
      "order": null,
      "overflow": null,
      "overflow_x": null,
      "overflow_y": null,
      "padding": null,
      "right": null,
      "top": null,
      "visibility": null,
      "width": null
     }
    },
    "cbe6ac99192844eda75794cba9c7f0fa": {
     "model_module": "@jupyter-widgets/base",
     "model_module_version": "1.2.0",
     "model_name": "LayoutModel",
     "state": {
      "_model_module": "@jupyter-widgets/base",
      "_model_module_version": "1.2.0",
      "_model_name": "LayoutModel",
      "_view_count": null,
      "_view_module": "@jupyter-widgets/base",
      "_view_module_version": "1.2.0",
      "_view_name": "LayoutView",
      "align_content": null,
      "align_items": null,
      "align_self": null,
      "border": null,
      "bottom": null,
      "display": null,
      "flex": null,
      "flex_flow": null,
      "grid_area": null,
      "grid_auto_columns": null,
      "grid_auto_flow": null,
      "grid_auto_rows": null,
      "grid_column": null,
      "grid_gap": null,
      "grid_row": null,
      "grid_template_areas": null,
      "grid_template_columns": null,
      "grid_template_rows": null,
      "height": null,
      "justify_content": null,
      "justify_items": null,
      "left": null,
      "margin": null,
      "max_height": null,
      "max_width": null,
      "min_height": null,
      "min_width": null,
      "object_fit": null,
      "object_position": null,
      "order": null,
      "overflow": null,
      "overflow_x": null,
      "overflow_y": null,
      "padding": null,
      "right": null,
      "top": null,
      "visibility": null,
      "width": null
     }
    },
    "ce962b60d1234e9ab67eb6c721599498": {
     "model_module": "@jupyter-widgets/controls",
     "model_module_version": "1.5.0",
     "model_name": "FloatProgressModel",
     "state": {
      "_dom_classes": [],
      "_model_module": "@jupyter-widgets/controls",
      "_model_module_version": "1.5.0",
      "_model_name": "FloatProgressModel",
      "_view_count": null,
      "_view_module": "@jupyter-widgets/controls",
      "_view_module_version": "1.5.0",
      "_view_name": "ProgressView",
      "bar_style": "success",
      "description": "",
      "description_tooltip": null,
      "layout": "IPY_MODEL_0ff7dfc619f44ad48702d8031a5abb41",
      "max": 1648877,
      "min": 0,
      "orientation": "horizontal",
      "style": "IPY_MODEL_c35133a90dc945cb8262d6870d3c3d65",
      "value": 1648877
     }
    },
    "d1345973d7424e09ab1d1562655910fd": {
     "model_module": "@jupyter-widgets/controls",
     "model_module_version": "1.5.0",
     "model_name": "DescriptionStyleModel",
     "state": {
      "_model_module": "@jupyter-widgets/controls",
      "_model_module_version": "1.5.0",
      "_model_name": "DescriptionStyleModel",
      "_view_count": null,
      "_view_module": "@jupyter-widgets/base",
      "_view_module_version": "1.2.0",
      "_view_name": "StyleView",
      "description_width": ""
     }
    },
    "d97571162f8c4e41afb0b5880e2b4f2f": {
     "model_module": "@jupyter-widgets/controls",
     "model_module_version": "1.5.0",
     "model_name": "HTMLModel",
     "state": {
      "_dom_classes": [],
      "_model_module": "@jupyter-widgets/controls",
      "_model_module_version": "1.5.0",
      "_model_name": "HTMLModel",
      "_view_count": null,
      "_view_module": "@jupyter-widgets/controls",
      "_view_module_version": "1.5.0",
      "_view_name": "HTMLView",
      "description": "",
      "description_tooltip": null,
      "layout": "IPY_MODEL_cbe6ac99192844eda75794cba9c7f0fa",
      "placeholder": "​",
      "style": "IPY_MODEL_8dd689010a7545fdbd6f4be277e806e0",
      "value": ""
     }
    },
    "e895c6dcb6984706bb4d78718534fae9": {
     "model_module": "@jupyter-widgets/base",
     "model_module_version": "1.2.0",
     "model_name": "LayoutModel",
     "state": {
      "_model_module": "@jupyter-widgets/base",
      "_model_module_version": "1.2.0",
      "_model_name": "LayoutModel",
      "_view_count": null,
      "_view_module": "@jupyter-widgets/base",
      "_view_module_version": "1.2.0",
      "_view_name": "LayoutView",
      "align_content": null,
      "align_items": null,
      "align_self": null,
      "border": null,
      "bottom": null,
      "display": null,
      "flex": null,
      "flex_flow": null,
      "grid_area": null,
      "grid_auto_columns": null,
      "grid_auto_flow": null,
      "grid_auto_rows": null,
      "grid_column": null,
      "grid_gap": null,
      "grid_row": null,
      "grid_template_areas": null,
      "grid_template_columns": null,
      "grid_template_rows": null,
      "height": null,
      "justify_content": null,
      "justify_items": null,
      "left": null,
      "margin": null,
      "max_height": null,
      "max_width": null,
      "min_height": null,
      "min_width": null,
      "object_fit": null,
      "object_position": null,
      "order": null,
      "overflow": null,
      "overflow_x": null,
      "overflow_y": null,
      "padding": null,
      "right": null,
      "top": null,
      "visibility": null,
      "width": null
     }
    },
    "fb32e470114c4c49acd3af316eadbb61": {
     "model_module": "@jupyter-widgets/controls",
     "model_module_version": "1.5.0",
     "model_name": "HBoxModel",
     "state": {
      "_dom_classes": [],
      "_model_module": "@jupyter-widgets/controls",
      "_model_module_version": "1.5.0",
      "_model_name": "HBoxModel",
      "_view_count": null,
      "_view_module": "@jupyter-widgets/controls",
      "_view_module_version": "1.5.0",
      "_view_name": "HBoxView",
      "box_style": "",
      "children": [
       "IPY_MODEL_b776ded91e4b495c8f9e06e2cfaa4f03",
       "IPY_MODEL_43b6adcef1d64b11b709264f5c59e429",
       "IPY_MODEL_8411615b07144e98bdc64a0e11249364"
      ],
      "layout": "IPY_MODEL_89e137166f314a3399d9446f523fb2d5"
     }
    },
    "fb671887cb444625b9d478f7dd361b05": {
     "model_module": "@jupyter-widgets/controls",
     "model_module_version": "1.5.0",
     "model_name": "HTMLModel",
     "state": {
      "_dom_classes": [],
      "_model_module": "@jupyter-widgets/controls",
      "_model_module_version": "1.5.0",
      "_model_name": "HTMLModel",
      "_view_count": null,
      "_view_module": "@jupyter-widgets/controls",
      "_view_module_version": "1.5.0",
      "_view_name": "HTMLView",
      "description": "",
      "description_tooltip": null,
      "layout": "IPY_MODEL_3afc7bfe877c4ed1a0fc6d9bdd28f173",
      "placeholder": "​",
      "style": "IPY_MODEL_88c6bf8bafeb4f108bb9d0f598898f88",
      "value": ""
     }
    }
   }
  }
 },
 "nbformat": 4,
 "nbformat_minor": 5
}
