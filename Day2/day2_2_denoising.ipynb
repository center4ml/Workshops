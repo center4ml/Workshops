{
  "nbformat": 4,
  "nbformat_minor": 5,
  "metadata": {
    "colab": {
      "name": "day2_2_denoising.ipynb",
      "provenance": [],
      "collapsed_sections": []
    },
    "kernelspec": {
      "display_name": "Python 3",
      "language": "python",
      "name": "python3"
    },
    "language_info": {
      "codemirror_mode": {
        "name": "ipython",
        "version": 3
      },
      "file_extension": ".py",
      "mimetype": "text/x-python",
      "name": "python",
      "nbconvert_exporter": "python",
      "pygments_lexer": "ipython3",
      "version": "3.7.3"
    },
    "widgets": {
      "application/vnd.jupyter.widget-state+json": {
        "bd2ece2a8286402581b183ef972c8f28": {
          "model_module": "@jupyter-widgets/controls",
          "model_name": "HBoxModel",
          "model_module_version": "1.5.0",
          "state": {
            "_view_name": "HBoxView",
            "_dom_classes": [],
            "_model_name": "HBoxModel",
            "_view_module": "@jupyter-widgets/controls",
            "_model_module_version": "1.5.0",
            "_view_count": null,
            "_view_module_version": "1.5.0",
            "box_style": "",
            "layout": "IPY_MODEL_3912bacc8996454a8594fdb5f5873f01",
            "_model_module": "@jupyter-widgets/controls",
            "children": [
              "IPY_MODEL_6cba36b1d85c47feba3939bd9279dca2",
              "IPY_MODEL_08e72a00ca8d4fd7bafb1ae7d2f00490",
              "IPY_MODEL_43de10f5da834a4aac2de409a8f852b2"
            ]
          }
        },
        "3912bacc8996454a8594fdb5f5873f01": {
          "model_module": "@jupyter-widgets/base",
          "model_name": "LayoutModel",
          "model_module_version": "1.2.0",
          "state": {
            "_view_name": "LayoutView",
            "grid_template_rows": null,
            "right": null,
            "justify_content": null,
            "_view_module": "@jupyter-widgets/base",
            "overflow": null,
            "_model_module_version": "1.2.0",
            "_view_count": null,
            "flex_flow": null,
            "width": null,
            "min_width": null,
            "border": null,
            "align_items": null,
            "bottom": null,
            "_model_module": "@jupyter-widgets/base",
            "top": null,
            "grid_column": null,
            "overflow_y": null,
            "overflow_x": null,
            "grid_auto_flow": null,
            "grid_area": null,
            "grid_template_columns": null,
            "flex": null,
            "_model_name": "LayoutModel",
            "justify_items": null,
            "grid_row": null,
            "max_height": null,
            "align_content": null,
            "visibility": null,
            "align_self": null,
            "height": null,
            "min_height": null,
            "padding": null,
            "grid_auto_rows": null,
            "grid_gap": null,
            "max_width": null,
            "order": null,
            "_view_module_version": "1.2.0",
            "grid_template_areas": null,
            "object_position": null,
            "object_fit": null,
            "grid_auto_columns": null,
            "margin": null,
            "display": null,
            "left": null
          }
        },
        "6cba36b1d85c47feba3939bd9279dca2": {
          "model_module": "@jupyter-widgets/controls",
          "model_name": "HTMLModel",
          "model_module_version": "1.5.0",
          "state": {
            "_view_name": "HTMLView",
            "style": "IPY_MODEL_e718a9493a614ec9b7166ff7445f305e",
            "_dom_classes": [],
            "description": "",
            "_model_name": "HTMLModel",
            "placeholder": "​",
            "_view_module": "@jupyter-widgets/controls",
            "_model_module_version": "1.5.0",
            "value": "",
            "_view_count": null,
            "_view_module_version": "1.5.0",
            "description_tooltip": null,
            "_model_module": "@jupyter-widgets/controls",
            "layout": "IPY_MODEL_c685d5e73d484354b68b80c8267f6575"
          }
        },
        "08e72a00ca8d4fd7bafb1ae7d2f00490": {
          "model_module": "@jupyter-widgets/controls",
          "model_name": "FloatProgressModel",
          "model_module_version": "1.5.0",
          "state": {
            "_view_name": "ProgressView",
            "style": "IPY_MODEL_1a37243063414cee89f768e46d98b560",
            "_dom_classes": [],
            "description": "",
            "_model_name": "FloatProgressModel",
            "bar_style": "success",
            "max": 9912422,
            "_view_module": "@jupyter-widgets/controls",
            "_model_module_version": "1.5.0",
            "value": 9912422,
            "_view_count": null,
            "_view_module_version": "1.5.0",
            "orientation": "horizontal",
            "min": 0,
            "description_tooltip": null,
            "_model_module": "@jupyter-widgets/controls",
            "layout": "IPY_MODEL_6b0c4a67010b44c7b0f996246ebb2d59"
          }
        },
        "43de10f5da834a4aac2de409a8f852b2": {
          "model_module": "@jupyter-widgets/controls",
          "model_name": "HTMLModel",
          "model_module_version": "1.5.0",
          "state": {
            "_view_name": "HTMLView",
            "style": "IPY_MODEL_db460c3857d44855b3f0c80aa304b290",
            "_dom_classes": [],
            "description": "",
            "_model_name": "HTMLModel",
            "placeholder": "​",
            "_view_module": "@jupyter-widgets/controls",
            "_model_module_version": "1.5.0",
            "value": " 9913344/? [00:00&lt;00:00, 16471344.20it/s]",
            "_view_count": null,
            "_view_module_version": "1.5.0",
            "description_tooltip": null,
            "_model_module": "@jupyter-widgets/controls",
            "layout": "IPY_MODEL_03c5703762e6459bbb22dcf78b9932f6"
          }
        },
        "e718a9493a614ec9b7166ff7445f305e": {
          "model_module": "@jupyter-widgets/controls",
          "model_name": "DescriptionStyleModel",
          "model_module_version": "1.5.0",
          "state": {
            "_view_name": "StyleView",
            "_model_name": "DescriptionStyleModel",
            "description_width": "",
            "_view_module": "@jupyter-widgets/base",
            "_model_module_version": "1.5.0",
            "_view_count": null,
            "_view_module_version": "1.2.0",
            "_model_module": "@jupyter-widgets/controls"
          }
        },
        "c685d5e73d484354b68b80c8267f6575": {
          "model_module": "@jupyter-widgets/base",
          "model_name": "LayoutModel",
          "model_module_version": "1.2.0",
          "state": {
            "_view_name": "LayoutView",
            "grid_template_rows": null,
            "right": null,
            "justify_content": null,
            "_view_module": "@jupyter-widgets/base",
            "overflow": null,
            "_model_module_version": "1.2.0",
            "_view_count": null,
            "flex_flow": null,
            "width": null,
            "min_width": null,
            "border": null,
            "align_items": null,
            "bottom": null,
            "_model_module": "@jupyter-widgets/base",
            "top": null,
            "grid_column": null,
            "overflow_y": null,
            "overflow_x": null,
            "grid_auto_flow": null,
            "grid_area": null,
            "grid_template_columns": null,
            "flex": null,
            "_model_name": "LayoutModel",
            "justify_items": null,
            "grid_row": null,
            "max_height": null,
            "align_content": null,
            "visibility": null,
            "align_self": null,
            "height": null,
            "min_height": null,
            "padding": null,
            "grid_auto_rows": null,
            "grid_gap": null,
            "max_width": null,
            "order": null,
            "_view_module_version": "1.2.0",
            "grid_template_areas": null,
            "object_position": null,
            "object_fit": null,
            "grid_auto_columns": null,
            "margin": null,
            "display": null,
            "left": null
          }
        },
        "1a37243063414cee89f768e46d98b560": {
          "model_module": "@jupyter-widgets/controls",
          "model_name": "ProgressStyleModel",
          "model_module_version": "1.5.0",
          "state": {
            "_view_name": "StyleView",
            "_model_name": "ProgressStyleModel",
            "description_width": "",
            "_view_module": "@jupyter-widgets/base",
            "_model_module_version": "1.5.0",
            "_view_count": null,
            "_view_module_version": "1.2.0",
            "bar_color": null,
            "_model_module": "@jupyter-widgets/controls"
          }
        },
        "6b0c4a67010b44c7b0f996246ebb2d59": {
          "model_module": "@jupyter-widgets/base",
          "model_name": "LayoutModel",
          "model_module_version": "1.2.0",
          "state": {
            "_view_name": "LayoutView",
            "grid_template_rows": null,
            "right": null,
            "justify_content": null,
            "_view_module": "@jupyter-widgets/base",
            "overflow": null,
            "_model_module_version": "1.2.0",
            "_view_count": null,
            "flex_flow": null,
            "width": null,
            "min_width": null,
            "border": null,
            "align_items": null,
            "bottom": null,
            "_model_module": "@jupyter-widgets/base",
            "top": null,
            "grid_column": null,
            "overflow_y": null,
            "overflow_x": null,
            "grid_auto_flow": null,
            "grid_area": null,
            "grid_template_columns": null,
            "flex": null,
            "_model_name": "LayoutModel",
            "justify_items": null,
            "grid_row": null,
            "max_height": null,
            "align_content": null,
            "visibility": null,
            "align_self": null,
            "height": null,
            "min_height": null,
            "padding": null,
            "grid_auto_rows": null,
            "grid_gap": null,
            "max_width": null,
            "order": null,
            "_view_module_version": "1.2.0",
            "grid_template_areas": null,
            "object_position": null,
            "object_fit": null,
            "grid_auto_columns": null,
            "margin": null,
            "display": null,
            "left": null
          }
        },
        "db460c3857d44855b3f0c80aa304b290": {
          "model_module": "@jupyter-widgets/controls",
          "model_name": "DescriptionStyleModel",
          "model_module_version": "1.5.0",
          "state": {
            "_view_name": "StyleView",
            "_model_name": "DescriptionStyleModel",
            "description_width": "",
            "_view_module": "@jupyter-widgets/base",
            "_model_module_version": "1.5.0",
            "_view_count": null,
            "_view_module_version": "1.2.0",
            "_model_module": "@jupyter-widgets/controls"
          }
        },
        "03c5703762e6459bbb22dcf78b9932f6": {
          "model_module": "@jupyter-widgets/base",
          "model_name": "LayoutModel",
          "model_module_version": "1.2.0",
          "state": {
            "_view_name": "LayoutView",
            "grid_template_rows": null,
            "right": null,
            "justify_content": null,
            "_view_module": "@jupyter-widgets/base",
            "overflow": null,
            "_model_module_version": "1.2.0",
            "_view_count": null,
            "flex_flow": null,
            "width": null,
            "min_width": null,
            "border": null,
            "align_items": null,
            "bottom": null,
            "_model_module": "@jupyter-widgets/base",
            "top": null,
            "grid_column": null,
            "overflow_y": null,
            "overflow_x": null,
            "grid_auto_flow": null,
            "grid_area": null,
            "grid_template_columns": null,
            "flex": null,
            "_model_name": "LayoutModel",
            "justify_items": null,
            "grid_row": null,
            "max_height": null,
            "align_content": null,
            "visibility": null,
            "align_self": null,
            "height": null,
            "min_height": null,
            "padding": null,
            "grid_auto_rows": null,
            "grid_gap": null,
            "max_width": null,
            "order": null,
            "_view_module_version": "1.2.0",
            "grid_template_areas": null,
            "object_position": null,
            "object_fit": null,
            "grid_auto_columns": null,
            "margin": null,
            "display": null,
            "left": null
          }
        },
        "9199e32e449d46beaa8cbb0016711b6c": {
          "model_module": "@jupyter-widgets/controls",
          "model_name": "HBoxModel",
          "model_module_version": "1.5.0",
          "state": {
            "_view_name": "HBoxView",
            "_dom_classes": [],
            "_model_name": "HBoxModel",
            "_view_module": "@jupyter-widgets/controls",
            "_model_module_version": "1.5.0",
            "_view_count": null,
            "_view_module_version": "1.5.0",
            "box_style": "",
            "layout": "IPY_MODEL_39caf74cdc58454998d42d272fb32024",
            "_model_module": "@jupyter-widgets/controls",
            "children": [
              "IPY_MODEL_fbad890a27a047beaec066b0aceb135f",
              "IPY_MODEL_073fcdc1798044fbae513380aeca2e36",
              "IPY_MODEL_b2f72fb75b1443afa7777e34ba677e84"
            ]
          }
        },
        "39caf74cdc58454998d42d272fb32024": {
          "model_module": "@jupyter-widgets/base",
          "model_name": "LayoutModel",
          "model_module_version": "1.2.0",
          "state": {
            "_view_name": "LayoutView",
            "grid_template_rows": null,
            "right": null,
            "justify_content": null,
            "_view_module": "@jupyter-widgets/base",
            "overflow": null,
            "_model_module_version": "1.2.0",
            "_view_count": null,
            "flex_flow": null,
            "width": null,
            "min_width": null,
            "border": null,
            "align_items": null,
            "bottom": null,
            "_model_module": "@jupyter-widgets/base",
            "top": null,
            "grid_column": null,
            "overflow_y": null,
            "overflow_x": null,
            "grid_auto_flow": null,
            "grid_area": null,
            "grid_template_columns": null,
            "flex": null,
            "_model_name": "LayoutModel",
            "justify_items": null,
            "grid_row": null,
            "max_height": null,
            "align_content": null,
            "visibility": null,
            "align_self": null,
            "height": null,
            "min_height": null,
            "padding": null,
            "grid_auto_rows": null,
            "grid_gap": null,
            "max_width": null,
            "order": null,
            "_view_module_version": "1.2.0",
            "grid_template_areas": null,
            "object_position": null,
            "object_fit": null,
            "grid_auto_columns": null,
            "margin": null,
            "display": null,
            "left": null
          }
        },
        "fbad890a27a047beaec066b0aceb135f": {
          "model_module": "@jupyter-widgets/controls",
          "model_name": "HTMLModel",
          "model_module_version": "1.5.0",
          "state": {
            "_view_name": "HTMLView",
            "style": "IPY_MODEL_d6e5bbc2126f425aa8b38a38ccbb4ca4",
            "_dom_classes": [],
            "description": "",
            "_model_name": "HTMLModel",
            "placeholder": "​",
            "_view_module": "@jupyter-widgets/controls",
            "_model_module_version": "1.5.0",
            "value": "",
            "_view_count": null,
            "_view_module_version": "1.5.0",
            "description_tooltip": null,
            "_model_module": "@jupyter-widgets/controls",
            "layout": "IPY_MODEL_09d1c7ef268746b79f6a7d7b568125bf"
          }
        },
        "073fcdc1798044fbae513380aeca2e36": {
          "model_module": "@jupyter-widgets/controls",
          "model_name": "FloatProgressModel",
          "model_module_version": "1.5.0",
          "state": {
            "_view_name": "ProgressView",
            "style": "IPY_MODEL_81f2df2fc7664210980d4e7380440d3b",
            "_dom_classes": [],
            "description": "",
            "_model_name": "FloatProgressModel",
            "bar_style": "success",
            "max": 28881,
            "_view_module": "@jupyter-widgets/controls",
            "_model_module_version": "1.5.0",
            "value": 28881,
            "_view_count": null,
            "_view_module_version": "1.5.0",
            "orientation": "horizontal",
            "min": 0,
            "description_tooltip": null,
            "_model_module": "@jupyter-widgets/controls",
            "layout": "IPY_MODEL_f6a9f6f6a3844f38b2fb102cf81b1d9b"
          }
        },
        "b2f72fb75b1443afa7777e34ba677e84": {
          "model_module": "@jupyter-widgets/controls",
          "model_name": "HTMLModel",
          "model_module_version": "1.5.0",
          "state": {
            "_view_name": "HTMLView",
            "style": "IPY_MODEL_c4c613d821c4434f9bc1c016358aa13c",
            "_dom_classes": [],
            "description": "",
            "_model_name": "HTMLModel",
            "placeholder": "​",
            "_view_module": "@jupyter-widgets/controls",
            "_model_module_version": "1.5.0",
            "value": " 29696/? [00:00&lt;00:00, 350184.72it/s]",
            "_view_count": null,
            "_view_module_version": "1.5.0",
            "description_tooltip": null,
            "_model_module": "@jupyter-widgets/controls",
            "layout": "IPY_MODEL_e13e8d1a0ca148f7b6989d7dba233539"
          }
        },
        "d6e5bbc2126f425aa8b38a38ccbb4ca4": {
          "model_module": "@jupyter-widgets/controls",
          "model_name": "DescriptionStyleModel",
          "model_module_version": "1.5.0",
          "state": {
            "_view_name": "StyleView",
            "_model_name": "DescriptionStyleModel",
            "description_width": "",
            "_view_module": "@jupyter-widgets/base",
            "_model_module_version": "1.5.0",
            "_view_count": null,
            "_view_module_version": "1.2.0",
            "_model_module": "@jupyter-widgets/controls"
          }
        },
        "09d1c7ef268746b79f6a7d7b568125bf": {
          "model_module": "@jupyter-widgets/base",
          "model_name": "LayoutModel",
          "model_module_version": "1.2.0",
          "state": {
            "_view_name": "LayoutView",
            "grid_template_rows": null,
            "right": null,
            "justify_content": null,
            "_view_module": "@jupyter-widgets/base",
            "overflow": null,
            "_model_module_version": "1.2.0",
            "_view_count": null,
            "flex_flow": null,
            "width": null,
            "min_width": null,
            "border": null,
            "align_items": null,
            "bottom": null,
            "_model_module": "@jupyter-widgets/base",
            "top": null,
            "grid_column": null,
            "overflow_y": null,
            "overflow_x": null,
            "grid_auto_flow": null,
            "grid_area": null,
            "grid_template_columns": null,
            "flex": null,
            "_model_name": "LayoutModel",
            "justify_items": null,
            "grid_row": null,
            "max_height": null,
            "align_content": null,
            "visibility": null,
            "align_self": null,
            "height": null,
            "min_height": null,
            "padding": null,
            "grid_auto_rows": null,
            "grid_gap": null,
            "max_width": null,
            "order": null,
            "_view_module_version": "1.2.0",
            "grid_template_areas": null,
            "object_position": null,
            "object_fit": null,
            "grid_auto_columns": null,
            "margin": null,
            "display": null,
            "left": null
          }
        },
        "81f2df2fc7664210980d4e7380440d3b": {
          "model_module": "@jupyter-widgets/controls",
          "model_name": "ProgressStyleModel",
          "model_module_version": "1.5.0",
          "state": {
            "_view_name": "StyleView",
            "_model_name": "ProgressStyleModel",
            "description_width": "",
            "_view_module": "@jupyter-widgets/base",
            "_model_module_version": "1.5.0",
            "_view_count": null,
            "_view_module_version": "1.2.0",
            "bar_color": null,
            "_model_module": "@jupyter-widgets/controls"
          }
        },
        "f6a9f6f6a3844f38b2fb102cf81b1d9b": {
          "model_module": "@jupyter-widgets/base",
          "model_name": "LayoutModel",
          "model_module_version": "1.2.0",
          "state": {
            "_view_name": "LayoutView",
            "grid_template_rows": null,
            "right": null,
            "justify_content": null,
            "_view_module": "@jupyter-widgets/base",
            "overflow": null,
            "_model_module_version": "1.2.0",
            "_view_count": null,
            "flex_flow": null,
            "width": null,
            "min_width": null,
            "border": null,
            "align_items": null,
            "bottom": null,
            "_model_module": "@jupyter-widgets/base",
            "top": null,
            "grid_column": null,
            "overflow_y": null,
            "overflow_x": null,
            "grid_auto_flow": null,
            "grid_area": null,
            "grid_template_columns": null,
            "flex": null,
            "_model_name": "LayoutModel",
            "justify_items": null,
            "grid_row": null,
            "max_height": null,
            "align_content": null,
            "visibility": null,
            "align_self": null,
            "height": null,
            "min_height": null,
            "padding": null,
            "grid_auto_rows": null,
            "grid_gap": null,
            "max_width": null,
            "order": null,
            "_view_module_version": "1.2.0",
            "grid_template_areas": null,
            "object_position": null,
            "object_fit": null,
            "grid_auto_columns": null,
            "margin": null,
            "display": null,
            "left": null
          }
        },
        "c4c613d821c4434f9bc1c016358aa13c": {
          "model_module": "@jupyter-widgets/controls",
          "model_name": "DescriptionStyleModel",
          "model_module_version": "1.5.0",
          "state": {
            "_view_name": "StyleView",
            "_model_name": "DescriptionStyleModel",
            "description_width": "",
            "_view_module": "@jupyter-widgets/base",
            "_model_module_version": "1.5.0",
            "_view_count": null,
            "_view_module_version": "1.2.0",
            "_model_module": "@jupyter-widgets/controls"
          }
        },
        "e13e8d1a0ca148f7b6989d7dba233539": {
          "model_module": "@jupyter-widgets/base",
          "model_name": "LayoutModel",
          "model_module_version": "1.2.0",
          "state": {
            "_view_name": "LayoutView",
            "grid_template_rows": null,
            "right": null,
            "justify_content": null,
            "_view_module": "@jupyter-widgets/base",
            "overflow": null,
            "_model_module_version": "1.2.0",
            "_view_count": null,
            "flex_flow": null,
            "width": null,
            "min_width": null,
            "border": null,
            "align_items": null,
            "bottom": null,
            "_model_module": "@jupyter-widgets/base",
            "top": null,
            "grid_column": null,
            "overflow_y": null,
            "overflow_x": null,
            "grid_auto_flow": null,
            "grid_area": null,
            "grid_template_columns": null,
            "flex": null,
            "_model_name": "LayoutModel",
            "justify_items": null,
            "grid_row": null,
            "max_height": null,
            "align_content": null,
            "visibility": null,
            "align_self": null,
            "height": null,
            "min_height": null,
            "padding": null,
            "grid_auto_rows": null,
            "grid_gap": null,
            "max_width": null,
            "order": null,
            "_view_module_version": "1.2.0",
            "grid_template_areas": null,
            "object_position": null,
            "object_fit": null,
            "grid_auto_columns": null,
            "margin": null,
            "display": null,
            "left": null
          }
        },
        "7ba0711d8fa34f8d851ad456dce77279": {
          "model_module": "@jupyter-widgets/controls",
          "model_name": "HBoxModel",
          "model_module_version": "1.5.0",
          "state": {
            "_view_name": "HBoxView",
            "_dom_classes": [],
            "_model_name": "HBoxModel",
            "_view_module": "@jupyter-widgets/controls",
            "_model_module_version": "1.5.0",
            "_view_count": null,
            "_view_module_version": "1.5.0",
            "box_style": "",
            "layout": "IPY_MODEL_3e547aa70a984becb513af496d12f893",
            "_model_module": "@jupyter-widgets/controls",
            "children": [
              "IPY_MODEL_7591966abdb44aadbdebc36266ba3568",
              "IPY_MODEL_9640731a6fff4cd096779952de34c325",
              "IPY_MODEL_0afebd2497254482b9c5d5d7c0bdf3a6"
            ]
          }
        },
        "3e547aa70a984becb513af496d12f893": {
          "model_module": "@jupyter-widgets/base",
          "model_name": "LayoutModel",
          "model_module_version": "1.2.0",
          "state": {
            "_view_name": "LayoutView",
            "grid_template_rows": null,
            "right": null,
            "justify_content": null,
            "_view_module": "@jupyter-widgets/base",
            "overflow": null,
            "_model_module_version": "1.2.0",
            "_view_count": null,
            "flex_flow": null,
            "width": null,
            "min_width": null,
            "border": null,
            "align_items": null,
            "bottom": null,
            "_model_module": "@jupyter-widgets/base",
            "top": null,
            "grid_column": null,
            "overflow_y": null,
            "overflow_x": null,
            "grid_auto_flow": null,
            "grid_area": null,
            "grid_template_columns": null,
            "flex": null,
            "_model_name": "LayoutModel",
            "justify_items": null,
            "grid_row": null,
            "max_height": null,
            "align_content": null,
            "visibility": null,
            "align_self": null,
            "height": null,
            "min_height": null,
            "padding": null,
            "grid_auto_rows": null,
            "grid_gap": null,
            "max_width": null,
            "order": null,
            "_view_module_version": "1.2.0",
            "grid_template_areas": null,
            "object_position": null,
            "object_fit": null,
            "grid_auto_columns": null,
            "margin": null,
            "display": null,
            "left": null
          }
        },
        "7591966abdb44aadbdebc36266ba3568": {
          "model_module": "@jupyter-widgets/controls",
          "model_name": "HTMLModel",
          "model_module_version": "1.5.0",
          "state": {
            "_view_name": "HTMLView",
            "style": "IPY_MODEL_0be5c5b74e664221937ca58e2237fcc1",
            "_dom_classes": [],
            "description": "",
            "_model_name": "HTMLModel",
            "placeholder": "​",
            "_view_module": "@jupyter-widgets/controls",
            "_model_module_version": "1.5.0",
            "value": "",
            "_view_count": null,
            "_view_module_version": "1.5.0",
            "description_tooltip": null,
            "_model_module": "@jupyter-widgets/controls",
            "layout": "IPY_MODEL_e0841a15a90541288baf22c2ea13940e"
          }
        },
        "9640731a6fff4cd096779952de34c325": {
          "model_module": "@jupyter-widgets/controls",
          "model_name": "FloatProgressModel",
          "model_module_version": "1.5.0",
          "state": {
            "_view_name": "ProgressView",
            "style": "IPY_MODEL_7d0d0313c7a24d8391a4082f690c89d1",
            "_dom_classes": [],
            "description": "",
            "_model_name": "FloatProgressModel",
            "bar_style": "success",
            "max": 1648877,
            "_view_module": "@jupyter-widgets/controls",
            "_model_module_version": "1.5.0",
            "value": 1648877,
            "_view_count": null,
            "_view_module_version": "1.5.0",
            "orientation": "horizontal",
            "min": 0,
            "description_tooltip": null,
            "_model_module": "@jupyter-widgets/controls",
            "layout": "IPY_MODEL_f28d840bc68a4d21aaffdb19c54cb2ad"
          }
        },
        "0afebd2497254482b9c5d5d7c0bdf3a6": {
          "model_module": "@jupyter-widgets/controls",
          "model_name": "HTMLModel",
          "model_module_version": "1.5.0",
          "state": {
            "_view_name": "HTMLView",
            "style": "IPY_MODEL_c692333d9de04bfbb31fc40d0d7e4c43",
            "_dom_classes": [],
            "description": "",
            "_model_name": "HTMLModel",
            "placeholder": "​",
            "_view_module": "@jupyter-widgets/controls",
            "_model_module_version": "1.5.0",
            "value": " 1649664/? [00:00&lt;00:00, 15031796.76it/s]",
            "_view_count": null,
            "_view_module_version": "1.5.0",
            "description_tooltip": null,
            "_model_module": "@jupyter-widgets/controls",
            "layout": "IPY_MODEL_a2560a070f6d45ca9a9dd789628cb364"
          }
        },
        "0be5c5b74e664221937ca58e2237fcc1": {
          "model_module": "@jupyter-widgets/controls",
          "model_name": "DescriptionStyleModel",
          "model_module_version": "1.5.0",
          "state": {
            "_view_name": "StyleView",
            "_model_name": "DescriptionStyleModel",
            "description_width": "",
            "_view_module": "@jupyter-widgets/base",
            "_model_module_version": "1.5.0",
            "_view_count": null,
            "_view_module_version": "1.2.0",
            "_model_module": "@jupyter-widgets/controls"
          }
        },
        "e0841a15a90541288baf22c2ea13940e": {
          "model_module": "@jupyter-widgets/base",
          "model_name": "LayoutModel",
          "model_module_version": "1.2.0",
          "state": {
            "_view_name": "LayoutView",
            "grid_template_rows": null,
            "right": null,
            "justify_content": null,
            "_view_module": "@jupyter-widgets/base",
            "overflow": null,
            "_model_module_version": "1.2.0",
            "_view_count": null,
            "flex_flow": null,
            "width": null,
            "min_width": null,
            "border": null,
            "align_items": null,
            "bottom": null,
            "_model_module": "@jupyter-widgets/base",
            "top": null,
            "grid_column": null,
            "overflow_y": null,
            "overflow_x": null,
            "grid_auto_flow": null,
            "grid_area": null,
            "grid_template_columns": null,
            "flex": null,
            "_model_name": "LayoutModel",
            "justify_items": null,
            "grid_row": null,
            "max_height": null,
            "align_content": null,
            "visibility": null,
            "align_self": null,
            "height": null,
            "min_height": null,
            "padding": null,
            "grid_auto_rows": null,
            "grid_gap": null,
            "max_width": null,
            "order": null,
            "_view_module_version": "1.2.0",
            "grid_template_areas": null,
            "object_position": null,
            "object_fit": null,
            "grid_auto_columns": null,
            "margin": null,
            "display": null,
            "left": null
          }
        },
        "7d0d0313c7a24d8391a4082f690c89d1": {
          "model_module": "@jupyter-widgets/controls",
          "model_name": "ProgressStyleModel",
          "model_module_version": "1.5.0",
          "state": {
            "_view_name": "StyleView",
            "_model_name": "ProgressStyleModel",
            "description_width": "",
            "_view_module": "@jupyter-widgets/base",
            "_model_module_version": "1.5.0",
            "_view_count": null,
            "_view_module_version": "1.2.0",
            "bar_color": null,
            "_model_module": "@jupyter-widgets/controls"
          }
        },
        "f28d840bc68a4d21aaffdb19c54cb2ad": {
          "model_module": "@jupyter-widgets/base",
          "model_name": "LayoutModel",
          "model_module_version": "1.2.0",
          "state": {
            "_view_name": "LayoutView",
            "grid_template_rows": null,
            "right": null,
            "justify_content": null,
            "_view_module": "@jupyter-widgets/base",
            "overflow": null,
            "_model_module_version": "1.2.0",
            "_view_count": null,
            "flex_flow": null,
            "width": null,
            "min_width": null,
            "border": null,
            "align_items": null,
            "bottom": null,
            "_model_module": "@jupyter-widgets/base",
            "top": null,
            "grid_column": null,
            "overflow_y": null,
            "overflow_x": null,
            "grid_auto_flow": null,
            "grid_area": null,
            "grid_template_columns": null,
            "flex": null,
            "_model_name": "LayoutModel",
            "justify_items": null,
            "grid_row": null,
            "max_height": null,
            "align_content": null,
            "visibility": null,
            "align_self": null,
            "height": null,
            "min_height": null,
            "padding": null,
            "grid_auto_rows": null,
            "grid_gap": null,
            "max_width": null,
            "order": null,
            "_view_module_version": "1.2.0",
            "grid_template_areas": null,
            "object_position": null,
            "object_fit": null,
            "grid_auto_columns": null,
            "margin": null,
            "display": null,
            "left": null
          }
        },
        "c692333d9de04bfbb31fc40d0d7e4c43": {
          "model_module": "@jupyter-widgets/controls",
          "model_name": "DescriptionStyleModel",
          "model_module_version": "1.5.0",
          "state": {
            "_view_name": "StyleView",
            "_model_name": "DescriptionStyleModel",
            "description_width": "",
            "_view_module": "@jupyter-widgets/base",
            "_model_module_version": "1.5.0",
            "_view_count": null,
            "_view_module_version": "1.2.0",
            "_model_module": "@jupyter-widgets/controls"
          }
        },
        "a2560a070f6d45ca9a9dd789628cb364": {
          "model_module": "@jupyter-widgets/base",
          "model_name": "LayoutModel",
          "model_module_version": "1.2.0",
          "state": {
            "_view_name": "LayoutView",
            "grid_template_rows": null,
            "right": null,
            "justify_content": null,
            "_view_module": "@jupyter-widgets/base",
            "overflow": null,
            "_model_module_version": "1.2.0",
            "_view_count": null,
            "flex_flow": null,
            "width": null,
            "min_width": null,
            "border": null,
            "align_items": null,
            "bottom": null,
            "_model_module": "@jupyter-widgets/base",
            "top": null,
            "grid_column": null,
            "overflow_y": null,
            "overflow_x": null,
            "grid_auto_flow": null,
            "grid_area": null,
            "grid_template_columns": null,
            "flex": null,
            "_model_name": "LayoutModel",
            "justify_items": null,
            "grid_row": null,
            "max_height": null,
            "align_content": null,
            "visibility": null,
            "align_self": null,
            "height": null,
            "min_height": null,
            "padding": null,
            "grid_auto_rows": null,
            "grid_gap": null,
            "max_width": null,
            "order": null,
            "_view_module_version": "1.2.0",
            "grid_template_areas": null,
            "object_position": null,
            "object_fit": null,
            "grid_auto_columns": null,
            "margin": null,
            "display": null,
            "left": null
          }
        },
        "797d94ff6d114a8b93fafe0d03a9ab28": {
          "model_module": "@jupyter-widgets/controls",
          "model_name": "HBoxModel",
          "model_module_version": "1.5.0",
          "state": {
            "_view_name": "HBoxView",
            "_dom_classes": [],
            "_model_name": "HBoxModel",
            "_view_module": "@jupyter-widgets/controls",
            "_model_module_version": "1.5.0",
            "_view_count": null,
            "_view_module_version": "1.5.0",
            "box_style": "",
            "layout": "IPY_MODEL_63090fd96fe747409ff4fceb064393fa",
            "_model_module": "@jupyter-widgets/controls",
            "children": [
              "IPY_MODEL_9b4e311413704a2dbdfbd9aa75b83109",
              "IPY_MODEL_aeea7156808044d2943ce19cab382332",
              "IPY_MODEL_8cfa9b7e1b0843249ab565e231c70182"
            ]
          }
        },
        "63090fd96fe747409ff4fceb064393fa": {
          "model_module": "@jupyter-widgets/base",
          "model_name": "LayoutModel",
          "model_module_version": "1.2.0",
          "state": {
            "_view_name": "LayoutView",
            "grid_template_rows": null,
            "right": null,
            "justify_content": null,
            "_view_module": "@jupyter-widgets/base",
            "overflow": null,
            "_model_module_version": "1.2.0",
            "_view_count": null,
            "flex_flow": null,
            "width": null,
            "min_width": null,
            "border": null,
            "align_items": null,
            "bottom": null,
            "_model_module": "@jupyter-widgets/base",
            "top": null,
            "grid_column": null,
            "overflow_y": null,
            "overflow_x": null,
            "grid_auto_flow": null,
            "grid_area": null,
            "grid_template_columns": null,
            "flex": null,
            "_model_name": "LayoutModel",
            "justify_items": null,
            "grid_row": null,
            "max_height": null,
            "align_content": null,
            "visibility": null,
            "align_self": null,
            "height": null,
            "min_height": null,
            "padding": null,
            "grid_auto_rows": null,
            "grid_gap": null,
            "max_width": null,
            "order": null,
            "_view_module_version": "1.2.0",
            "grid_template_areas": null,
            "object_position": null,
            "object_fit": null,
            "grid_auto_columns": null,
            "margin": null,
            "display": null,
            "left": null
          }
        },
        "9b4e311413704a2dbdfbd9aa75b83109": {
          "model_module": "@jupyter-widgets/controls",
          "model_name": "HTMLModel",
          "model_module_version": "1.5.0",
          "state": {
            "_view_name": "HTMLView",
            "style": "IPY_MODEL_310ef10ec9984b9ca03b238c3c2ac081",
            "_dom_classes": [],
            "description": "",
            "_model_name": "HTMLModel",
            "placeholder": "​",
            "_view_module": "@jupyter-widgets/controls",
            "_model_module_version": "1.5.0",
            "value": "",
            "_view_count": null,
            "_view_module_version": "1.5.0",
            "description_tooltip": null,
            "_model_module": "@jupyter-widgets/controls",
            "layout": "IPY_MODEL_16815f5e7fa04c619dd8450f37f37768"
          }
        },
        "aeea7156808044d2943ce19cab382332": {
          "model_module": "@jupyter-widgets/controls",
          "model_name": "FloatProgressModel",
          "model_module_version": "1.5.0",
          "state": {
            "_view_name": "ProgressView",
            "style": "IPY_MODEL_b6b74b948e49433d8eef0d6367888bda",
            "_dom_classes": [],
            "description": "",
            "_model_name": "FloatProgressModel",
            "bar_style": "success",
            "max": 4542,
            "_view_module": "@jupyter-widgets/controls",
            "_model_module_version": "1.5.0",
            "value": 4542,
            "_view_count": null,
            "_view_module_version": "1.5.0",
            "orientation": "horizontal",
            "min": 0,
            "description_tooltip": null,
            "_model_module": "@jupyter-widgets/controls",
            "layout": "IPY_MODEL_357491d2a9354b048cb6ef6b14c9abe1"
          }
        },
        "8cfa9b7e1b0843249ab565e231c70182": {
          "model_module": "@jupyter-widgets/controls",
          "model_name": "HTMLModel",
          "model_module_version": "1.5.0",
          "state": {
            "_view_name": "HTMLView",
            "style": "IPY_MODEL_4d98df71a1bf4c39bbf2f8bab1196a64",
            "_dom_classes": [],
            "description": "",
            "_model_name": "HTMLModel",
            "placeholder": "​",
            "_view_module": "@jupyter-widgets/controls",
            "_model_module_version": "1.5.0",
            "value": " 5120/? [00:00&lt;00:00, 153711.19it/s]",
            "_view_count": null,
            "_view_module_version": "1.5.0",
            "description_tooltip": null,
            "_model_module": "@jupyter-widgets/controls",
            "layout": "IPY_MODEL_7bb443e14fbf44ea94cbe2ff2ae350a5"
          }
        },
        "310ef10ec9984b9ca03b238c3c2ac081": {
          "model_module": "@jupyter-widgets/controls",
          "model_name": "DescriptionStyleModel",
          "model_module_version": "1.5.0",
          "state": {
            "_view_name": "StyleView",
            "_model_name": "DescriptionStyleModel",
            "description_width": "",
            "_view_module": "@jupyter-widgets/base",
            "_model_module_version": "1.5.0",
            "_view_count": null,
            "_view_module_version": "1.2.0",
            "_model_module": "@jupyter-widgets/controls"
          }
        },
        "16815f5e7fa04c619dd8450f37f37768": {
          "model_module": "@jupyter-widgets/base",
          "model_name": "LayoutModel",
          "model_module_version": "1.2.0",
          "state": {
            "_view_name": "LayoutView",
            "grid_template_rows": null,
            "right": null,
            "justify_content": null,
            "_view_module": "@jupyter-widgets/base",
            "overflow": null,
            "_model_module_version": "1.2.0",
            "_view_count": null,
            "flex_flow": null,
            "width": null,
            "min_width": null,
            "border": null,
            "align_items": null,
            "bottom": null,
            "_model_module": "@jupyter-widgets/base",
            "top": null,
            "grid_column": null,
            "overflow_y": null,
            "overflow_x": null,
            "grid_auto_flow": null,
            "grid_area": null,
            "grid_template_columns": null,
            "flex": null,
            "_model_name": "LayoutModel",
            "justify_items": null,
            "grid_row": null,
            "max_height": null,
            "align_content": null,
            "visibility": null,
            "align_self": null,
            "height": null,
            "min_height": null,
            "padding": null,
            "grid_auto_rows": null,
            "grid_gap": null,
            "max_width": null,
            "order": null,
            "_view_module_version": "1.2.0",
            "grid_template_areas": null,
            "object_position": null,
            "object_fit": null,
            "grid_auto_columns": null,
            "margin": null,
            "display": null,
            "left": null
          }
        },
        "b6b74b948e49433d8eef0d6367888bda": {
          "model_module": "@jupyter-widgets/controls",
          "model_name": "ProgressStyleModel",
          "model_module_version": "1.5.0",
          "state": {
            "_view_name": "StyleView",
            "_model_name": "ProgressStyleModel",
            "description_width": "",
            "_view_module": "@jupyter-widgets/base",
            "_model_module_version": "1.5.0",
            "_view_count": null,
            "_view_module_version": "1.2.0",
            "bar_color": null,
            "_model_module": "@jupyter-widgets/controls"
          }
        },
        "357491d2a9354b048cb6ef6b14c9abe1": {
          "model_module": "@jupyter-widgets/base",
          "model_name": "LayoutModel",
          "model_module_version": "1.2.0",
          "state": {
            "_view_name": "LayoutView",
            "grid_template_rows": null,
            "right": null,
            "justify_content": null,
            "_view_module": "@jupyter-widgets/base",
            "overflow": null,
            "_model_module_version": "1.2.0",
            "_view_count": null,
            "flex_flow": null,
            "width": null,
            "min_width": null,
            "border": null,
            "align_items": null,
            "bottom": null,
            "_model_module": "@jupyter-widgets/base",
            "top": null,
            "grid_column": null,
            "overflow_y": null,
            "overflow_x": null,
            "grid_auto_flow": null,
            "grid_area": null,
            "grid_template_columns": null,
            "flex": null,
            "_model_name": "LayoutModel",
            "justify_items": null,
            "grid_row": null,
            "max_height": null,
            "align_content": null,
            "visibility": null,
            "align_self": null,
            "height": null,
            "min_height": null,
            "padding": null,
            "grid_auto_rows": null,
            "grid_gap": null,
            "max_width": null,
            "order": null,
            "_view_module_version": "1.2.0",
            "grid_template_areas": null,
            "object_position": null,
            "object_fit": null,
            "grid_auto_columns": null,
            "margin": null,
            "display": null,
            "left": null
          }
        },
        "4d98df71a1bf4c39bbf2f8bab1196a64": {
          "model_module": "@jupyter-widgets/controls",
          "model_name": "DescriptionStyleModel",
          "model_module_version": "1.5.0",
          "state": {
            "_view_name": "StyleView",
            "_model_name": "DescriptionStyleModel",
            "description_width": "",
            "_view_module": "@jupyter-widgets/base",
            "_model_module_version": "1.5.0",
            "_view_count": null,
            "_view_module_version": "1.2.0",
            "_model_module": "@jupyter-widgets/controls"
          }
        },
        "7bb443e14fbf44ea94cbe2ff2ae350a5": {
          "model_module": "@jupyter-widgets/base",
          "model_name": "LayoutModel",
          "model_module_version": "1.2.0",
          "state": {
            "_view_name": "LayoutView",
            "grid_template_rows": null,
            "right": null,
            "justify_content": null,
            "_view_module": "@jupyter-widgets/base",
            "overflow": null,
            "_model_module_version": "1.2.0",
            "_view_count": null,
            "flex_flow": null,
            "width": null,
            "min_width": null,
            "border": null,
            "align_items": null,
            "bottom": null,
            "_model_module": "@jupyter-widgets/base",
            "top": null,
            "grid_column": null,
            "overflow_y": null,
            "overflow_x": null,
            "grid_auto_flow": null,
            "grid_area": null,
            "grid_template_columns": null,
            "flex": null,
            "_model_name": "LayoutModel",
            "justify_items": null,
            "grid_row": null,
            "max_height": null,
            "align_content": null,
            "visibility": null,
            "align_self": null,
            "height": null,
            "min_height": null,
            "padding": null,
            "grid_auto_rows": null,
            "grid_gap": null,
            "max_width": null,
            "order": null,
            "_view_module_version": "1.2.0",
            "grid_template_areas": null,
            "object_position": null,
            "object_fit": null,
            "grid_auto_columns": null,
            "margin": null,
            "display": null,
            "left": null
          }
        }
      }
    }
  },
  "cells": [
    {
      "cell_type": "markdown",
      "metadata": {
        "id": "handmade-nevada"
      },
      "source": [
        "# Autoencoders: denoising"
      ],
      "id": "handmade-nevada"
    },
    {
      "cell_type": "markdown",
      "metadata": {
        "id": "strategic-synthesis"
      },
      "source": [
        "**Denoising**\n",
        "![denoising](https://miro.medium.com/max/5160/1*SxwRp9i23OM0Up4sEze1QQ@2x.png)\n",
        "Source: https://www.kaggle.com/tarunkr/autoencoder-denoising-image-mnist-cifar10"
      ],
      "id": "strategic-synthesis"
    },
    {
      "cell_type": "markdown",
      "metadata": {
        "id": "acknowledged-rotation"
      },
      "source": [
        "## Technical imports"
      ],
      "id": "acknowledged-rotation"
    },
    {
      "cell_type": "code",
      "metadata": {
        "id": "excellent-annotation"
      },
      "source": [
        "import matplotlib.pyplot as plt\n",
        "import numpy as np"
      ],
      "id": "excellent-annotation",
      "execution_count": 1,
      "outputs": []
    },
    {
      "cell_type": "markdown",
      "metadata": {
        "id": "governmental-strike"
      },
      "source": [
        "## Data"
      ],
      "id": "governmental-strike"
    },
    {
      "cell_type": "code",
      "metadata": {
        "id": "exceptional-month"
      },
      "source": [
        "import torch\n",
        "from torchvision import transforms\n",
        "from torchvision.datasets import MNIST, FashionMNIST"
      ],
      "id": "exceptional-month",
      "execution_count": 2,
      "outputs": []
    },
    {
      "cell_type": "code",
      "metadata": {
        "id": "greenhouse-heavy"
      },
      "source": [
        "DATASETS_PATH = 'data' # path to directory where data are to be stored"
      ],
      "id": "greenhouse-heavy",
      "execution_count": 3,
      "outputs": []
    },
    {
      "cell_type": "code",
      "metadata": {
        "id": "furnished-croatia"
      },
      "source": [
        "transform = transforms.ToTensor()"
      ],
      "id": "furnished-croatia",
      "execution_count": 4,
      "outputs": []
    },
    {
      "cell_type": "code",
      "metadata": {
        "colab": {
          "base_uri": "https://localhost:8080/",
          "height": 426,
          "referenced_widgets": [
            "bd2ece2a8286402581b183ef972c8f28",
            "3912bacc8996454a8594fdb5f5873f01",
            "6cba36b1d85c47feba3939bd9279dca2",
            "08e72a00ca8d4fd7bafb1ae7d2f00490",
            "43de10f5da834a4aac2de409a8f852b2",
            "e718a9493a614ec9b7166ff7445f305e",
            "c685d5e73d484354b68b80c8267f6575",
            "1a37243063414cee89f768e46d98b560",
            "6b0c4a67010b44c7b0f996246ebb2d59",
            "db460c3857d44855b3f0c80aa304b290",
            "03c5703762e6459bbb22dcf78b9932f6",
            "9199e32e449d46beaa8cbb0016711b6c",
            "39caf74cdc58454998d42d272fb32024",
            "fbad890a27a047beaec066b0aceb135f",
            "073fcdc1798044fbae513380aeca2e36",
            "b2f72fb75b1443afa7777e34ba677e84",
            "d6e5bbc2126f425aa8b38a38ccbb4ca4",
            "09d1c7ef268746b79f6a7d7b568125bf",
            "81f2df2fc7664210980d4e7380440d3b",
            "f6a9f6f6a3844f38b2fb102cf81b1d9b",
            "c4c613d821c4434f9bc1c016358aa13c",
            "e13e8d1a0ca148f7b6989d7dba233539",
            "7ba0711d8fa34f8d851ad456dce77279",
            "3e547aa70a984becb513af496d12f893",
            "7591966abdb44aadbdebc36266ba3568",
            "9640731a6fff4cd096779952de34c325",
            "0afebd2497254482b9c5d5d7c0bdf3a6",
            "0be5c5b74e664221937ca58e2237fcc1",
            "e0841a15a90541288baf22c2ea13940e",
            "7d0d0313c7a24d8391a4082f690c89d1",
            "f28d840bc68a4d21aaffdb19c54cb2ad",
            "c692333d9de04bfbb31fc40d0d7e4c43",
            "a2560a070f6d45ca9a9dd789628cb364",
            "797d94ff6d114a8b93fafe0d03a9ab28",
            "63090fd96fe747409ff4fceb064393fa",
            "9b4e311413704a2dbdfbd9aa75b83109",
            "aeea7156808044d2943ce19cab382332",
            "8cfa9b7e1b0843249ab565e231c70182",
            "310ef10ec9984b9ca03b238c3c2ac081",
            "16815f5e7fa04c619dd8450f37f37768",
            "b6b74b948e49433d8eef0d6367888bda",
            "357491d2a9354b048cb6ef6b14c9abe1",
            "4d98df71a1bf4c39bbf2f8bab1196a64",
            "7bb443e14fbf44ea94cbe2ff2ae350a5"
          ]
        },
        "id": "international-cooking",
        "outputId": "e0de0e91-96ea-46a6-de0b-066b769a5210"
      },
      "source": [
        "mnist_train = MNIST(DATASETS_PATH, train=True, download=True, transform=transform);\n",
        "mnist_test = MNIST(DATASETS_PATH, train=False, download=True, transform=transform);"
      ],
      "id": "international-cooking",
      "execution_count": 5,
      "outputs": [
        {
          "output_type": "stream",
          "name": "stdout",
          "text": [
            "Downloading http://yann.lecun.com/exdb/mnist/train-images-idx3-ubyte.gz\n",
            "Downloading http://yann.lecun.com/exdb/mnist/train-images-idx3-ubyte.gz to data/MNIST/raw/train-images-idx3-ubyte.gz\n"
          ]
        },
        {
          "output_type": "display_data",
          "data": {
            "application/vnd.jupyter.widget-view+json": {
              "model_id": "bd2ece2a8286402581b183ef972c8f28",
              "version_minor": 0,
              "version_major": 2
            },
            "text/plain": [
              "  0%|          | 0/9912422 [00:00<?, ?it/s]"
            ]
          },
          "metadata": {}
        },
        {
          "output_type": "stream",
          "name": "stdout",
          "text": [
            "Extracting data/MNIST/raw/train-images-idx3-ubyte.gz to data/MNIST/raw\n",
            "\n",
            "Downloading http://yann.lecun.com/exdb/mnist/train-labels-idx1-ubyte.gz\n",
            "Downloading http://yann.lecun.com/exdb/mnist/train-labels-idx1-ubyte.gz to data/MNIST/raw/train-labels-idx1-ubyte.gz\n"
          ]
        },
        {
          "output_type": "display_data",
          "data": {
            "application/vnd.jupyter.widget-view+json": {
              "model_id": "9199e32e449d46beaa8cbb0016711b6c",
              "version_minor": 0,
              "version_major": 2
            },
            "text/plain": [
              "  0%|          | 0/28881 [00:00<?, ?it/s]"
            ]
          },
          "metadata": {}
        },
        {
          "output_type": "stream",
          "name": "stdout",
          "text": [
            "Extracting data/MNIST/raw/train-labels-idx1-ubyte.gz to data/MNIST/raw\n",
            "\n",
            "Downloading http://yann.lecun.com/exdb/mnist/t10k-images-idx3-ubyte.gz\n",
            "Downloading http://yann.lecun.com/exdb/mnist/t10k-images-idx3-ubyte.gz to data/MNIST/raw/t10k-images-idx3-ubyte.gz\n"
          ]
        },
        {
          "output_type": "display_data",
          "data": {
            "application/vnd.jupyter.widget-view+json": {
              "model_id": "7ba0711d8fa34f8d851ad456dce77279",
              "version_minor": 0,
              "version_major": 2
            },
            "text/plain": [
              "  0%|          | 0/1648877 [00:00<?, ?it/s]"
            ]
          },
          "metadata": {}
        },
        {
          "output_type": "stream",
          "name": "stdout",
          "text": [
            "Extracting data/MNIST/raw/t10k-images-idx3-ubyte.gz to data/MNIST/raw\n",
            "\n",
            "Downloading http://yann.lecun.com/exdb/mnist/t10k-labels-idx1-ubyte.gz\n",
            "Downloading http://yann.lecun.com/exdb/mnist/t10k-labels-idx1-ubyte.gz to data/MNIST/raw/t10k-labels-idx1-ubyte.gz\n"
          ]
        },
        {
          "output_type": "display_data",
          "data": {
            "application/vnd.jupyter.widget-view+json": {
              "model_id": "797d94ff6d114a8b93fafe0d03a9ab28",
              "version_minor": 0,
              "version_major": 2
            },
            "text/plain": [
              "  0%|          | 0/4542 [00:00<?, ?it/s]"
            ]
          },
          "metadata": {}
        },
        {
          "output_type": "stream",
          "name": "stdout",
          "text": [
            "Extracting data/MNIST/raw/t10k-labels-idx1-ubyte.gz to data/MNIST/raw\n",
            "\n"
          ]
        }
      ]
    },
    {
      "cell_type": "code",
      "metadata": {
        "id": "tamil-lyric"
      },
      "source": [
        "batch_size = 128\n",
        "mnist_train_dataloader = torch.utils.data.DataLoader(mnist_train, batch_size=batch_size, shuffle=True, num_workers=2, pin_memory=True)\n",
        "mnist_test_dataloader = torch.utils.data.DataLoader(mnist_test, batch_size=batch_size, shuffle=False, num_workers=2, pin_memory=True)"
      ],
      "id": "tamil-lyric",
      "execution_count": 10,
      "outputs": []
    },
    {
      "cell_type": "code",
      "metadata": {
        "id": "automatic-resort"
      },
      "source": [
        "img = mnist_train[0][0]"
      ],
      "id": "automatic-resort",
      "execution_count": 11,
      "outputs": []
    },
    {
      "cell_type": "markdown",
      "metadata": {
        "id": "extra-demand"
      },
      "source": [
        "Salt and pepper transform:"
      ],
      "id": "extra-demand"
    },
    {
      "cell_type": "code",
      "metadata": {
        "colab": {
          "base_uri": "https://localhost:8080/",
          "height": 282
        },
        "id": "international-demographic",
        "outputId": "430e8423-4a16-49ef-d33c-a87037a1940d"
      },
      "source": [
        "plt.imshow(img[0])"
      ],
      "id": "international-demographic",
      "execution_count": 12,
      "outputs": [
        {
          "output_type": "execute_result",
          "data": {
            "text/plain": [
              "<matplotlib.image.AxesImage at 0x7f40c80d99d0>"
            ]
          },
          "metadata": {},
          "execution_count": 12
        },
        {
          "output_type": "display_data",
          "data": {
            "image/png": "[encoded data removed]",
            "text/plain": [
              "<Figure size 432x288 with 1 Axes>"
            ]
          },
          "metadata": {
            "needs_background": "light"
          }
        }
      ]
    },
    {
      "cell_type": "code",
      "metadata": {
        "colab": {
          "base_uri": "https://localhost:8080/"
        },
        "id": "industrial-cleaner",
        "outputId": "63e15c74-f138-4cf2-97c0-b7b4186de407"
      },
      "source": [
        "img.size()"
      ],
      "id": "industrial-cleaner",
      "execution_count": 13,
      "outputs": [
        {
          "output_type": "execute_result",
          "data": {
            "text/plain": [
              "torch.Size([1, 28, 28])"
            ]
          },
          "metadata": {},
          "execution_count": 13
        }
      ]
    },
    {
      "cell_type": "code",
      "metadata": {
        "id": "social-correlation"
      },
      "source": [
        "def salt_and_pepper(img, noise):\n",
        "    \"\"\"img: tensor of size 1 x H x W\"\n",
        "    noise: salt and pepper fraction\"\"\"\n",
        "    # copy tensor\n",
        "    img_out = img.clone()\n",
        "    \n",
        "    N_pixels = img_out.shape[1] * img_out.shape[2]\n",
        "    # randomly sample indices for salt and pepper\n",
        "    indices_salt = np.random.choice(np.arange(N_pixels), int(0.5*noise*N_pixels))\n",
        "    indices_pepper = np.random.choice(np.arange(N_pixels), int(0.5*noise*N_pixels))\n",
        "    # apply salt and pepper\n",
        "    img_out[np.unravel_index(indices_salt, img_out.shape)] = 0.0\n",
        "    img_out[np.unravel_index(indices_pepper, img_out.shape)] = 1.0\n",
        "    return img_out"
      ],
      "id": "social-correlation",
      "execution_count": 16,
      "outputs": []
    },
    {
      "cell_type": "code",
      "metadata": {
        "colab": {
          "base_uri": "https://localhost:8080/",
          "height": 282
        },
        "id": "demanding-advisory",
        "outputId": "896bd9ca-a95a-4dad-ecba-2adcaffb965a"
      },
      "source": [
        "plt.imshow(salt_and_pepper(img, 0.2)[0])"
      ],
      "id": "demanding-advisory",
      "execution_count": 20,
      "outputs": [
        {
          "output_type": "execute_result",
          "data": {
            "text/plain": [
              "<matplotlib.image.AxesImage at 0x7f40c6d54910>"
            ]
          },
          "metadata": {},
          "execution_count": 20
        },
        {
          "output_type": "display_data",
          "data": {
            "image/png": "[encoded data removed]",
            "text/plain": [
              "<Figure size 432x288 with 1 Axes>"
            ]
          },
          "metadata": {
            "needs_background": "light"
          }
        }
      ]
    },
    {
      "cell_type": "code",
      "metadata": {
        "id": "approved-congress"
      },
      "source": [
        "class SaltPepper:\n",
        "    def __init__(self, noise):\n",
        "        self.noise = noise\n",
        "    \n",
        "    def __call__(self, img_or_batch):\n",
        "        if img_or_batch.ndim == 3:\n",
        "            is_image=True\n",
        "            img_or_batch = img_or_batch.unsqueeze(0) # produce \"batch\" of length 1\n",
        "        else:\n",
        "            is_image=False\n",
        "        \n",
        "        batch_out = img_or_batch.clone()\n",
        "    \n",
        "        N_pixels = batch_out.shape[0] * batch_out.shape[2] * batch_out.shape[3]\n",
        "        # randomly sample indices for salt and pepper\n",
        "        indices_salt = np.random.choice(np.arange(N_pixels), int(0.5*self.noise*N_pixels))\n",
        "        indices_pepper = np.random.choice(np.arange(N_pixels), int(0.5*self.noise*N_pixels))\n",
        "        # apply salt and pepper\n",
        "        batch_out[np.unravel_index(indices_salt, batch_out.shape)] = 0.0\n",
        "        batch_out[np.unravel_index(indices_pepper, batch_out.shape)] = 1.0\n",
        "        \n",
        "        if is_image:\n",
        "            return batch_out.squeeze(0) # return image shape\n",
        "    \n",
        "        return batch_out"
      ],
      "id": "approved-congress",
      "execution_count": 21,
      "outputs": []
    },
    {
      "cell_type": "code",
      "metadata": {
        "id": "likely-receipt"
      },
      "source": [
        "noise_level = 0.2\n",
        "salt_pepper_transform = SaltPepper(noise_level)"
      ],
      "id": "likely-receipt",
      "execution_count": 22,
      "outputs": []
    },
    {
      "cell_type": "code",
      "metadata": {
        "colab": {
          "base_uri": "https://localhost:8080/",
          "height": 282
        },
        "id": "active-vietnamese",
        "outputId": "0b82d6c4-69c4-4665-ec22-0ca13c8b587b"
      },
      "source": [
        "plt.imshow(salt_pepper_transform(img)[0], vmin=0, vmax=1)"
      ],
      "id": "active-vietnamese",
      "execution_count": 24,
      "outputs": [
        {
          "output_type": "execute_result",
          "data": {
            "text/plain": [
              "<matplotlib.image.AxesImage at 0x7f40c244f7d0>"
            ]
          },
          "metadata": {},
          "execution_count": 24
        },
        {
          "output_type": "display_data",
          "data": {
            "image/png": "[encoded data removed]",
            "text/plain": [
              "<Figure size 432x288 with 1 Axes>"
            ]
          },
          "metadata": {
            "needs_background": "light"
          }
        }
      ]
    },
    {
      "cell_type": "code",
      "metadata": {
        "colab": {
          "base_uri": "https://localhost:8080/",
          "height": 407
        },
        "id": "accepting-elite",
        "outputId": "cf278f42-a711-4c10-8a78-67b4891d91ca"
      },
      "source": [
        "num_images = 6\n",
        "fig, axs = plt.subplots(ncols=num_images, nrows=2, figsize=(17,7))\n",
        "for i in range(num_images):\n",
        "    img, target = mnist_train[i]\n",
        "    axs[0][i].imshow(img[0])\n",
        "    axs[0][i].set_title(f'{mnist_train.classes[target]}')\n",
        "    axs[1][i].imshow(salt_pepper_transform(img)[0])\n",
        "    \n",
        "    "
      ],
      "id": "accepting-elite",
      "execution_count": 25,
      "outputs": [
        {
          "output_type": "display_data",
          "data": {
            "image/png": "[encoded data removed]",
            "text/plain": [
              "<Figure size 1224x504 with 12 Axes>"
            ]
          },
          "metadata": {
            "needs_background": "light"
          }
        }
      ]
    },
    {
      "cell_type": "markdown",
      "metadata": {
        "id": "helpful-matrix"
      },
      "source": [
        "## Model"
      ],
      "id": "helpful-matrix"
    },
    {
      "cell_type": "code",
      "metadata": {
        "id": "hourly-annual"
      },
      "source": [
        "import torch\n",
        "from torch import nn"
      ],
      "id": "hourly-annual",
      "execution_count": 26,
      "outputs": []
    },
    {
      "cell_type": "code",
      "metadata": {
        "id": "constitutional-deviation"
      },
      "source": [
        "class Encoder_1hl(nn.Module):\n",
        "    def __init__(self, hidden_dim, latent_dim):\n",
        "        \"\"\"\n",
        "        hidden_dim: number of neurons in the hidden layer\n",
        "        latent_dim: number of latent space dimensions\n",
        "        \"\"\"\n",
        "        super().__init__()\n",
        "        self.net = nn.Sequential(\n",
        "            nn.Linear(28*28, hidden_dim),\n",
        "            nn.ReLU(),\n",
        "            nn.Linear(hidden_dim, latent_dim),\n",
        "            )\n",
        "\n",
        "    def forward(self, x):\n",
        "        x = self.net(x)\n",
        "        return x"
      ],
      "id": "constitutional-deviation",
      "execution_count": 27,
      "outputs": []
    },
    {
      "cell_type": "code",
      "metadata": {
        "id": "sealed-dallas"
      },
      "source": [
        "class Decoder_1hl(nn.Module):\n",
        "    def __init__(self, hidden_dim, latent_dim):\n",
        "        \"\"\"\n",
        "        hidden_dim: number of neurons in the hidden layer\n",
        "        latent_dim: number of latent space dimensions\n",
        "        \"\"\"\n",
        "        super().__init__()\n",
        "        self.net = nn.Sequential(\n",
        "            nn.Linear(latent_dim, hidden_dim),\n",
        "            nn.ReLU(),\n",
        "            nn.Linear(hidden_dim, 28*28),\n",
        "            nn.Sigmoid() # sigmoid function transforms input values (-inf, +inf) to output in range (0, 1)\n",
        "            )\n",
        "            \n",
        "\n",
        "    def forward(self, x):\n",
        "        x = self.net(x)\n",
        "        return x"
      ],
      "id": "sealed-dallas",
      "execution_count": 28,
      "outputs": []
    },
    {
      "cell_type": "code",
      "metadata": {
        "id": "norman-surrey"
      },
      "source": [
        "class Autoencoder_1hl(nn.Module):\n",
        "    def __init__(self, hidden_dim, latent_dim):\n",
        "        \"\"\"\n",
        "        hidden_dim: number of neurons in the hidden layer\n",
        "        latent_dim: number of latent space dimensions\n",
        "        \"\"\"\n",
        "        super().__init__()\n",
        "        self.encoder = Encoder_1hl(hidden_dim, latent_dim)\n",
        "        self.decoder = Decoder_1hl(hidden_dim, latent_dim)\n",
        "            \n",
        "    def forward(self, x):\n",
        "        input_shape = x.shape #batch_size, channels, height, width\n",
        "        x = x.view(input_shape[0], -1)\n",
        "        x = self.encoder(x)\n",
        "        x = self.decoder(x) \n",
        "        return x.view(input_shape)"
      ],
      "id": "norman-surrey",
      "execution_count": 29,
      "outputs": []
    },
    {
      "cell_type": "code",
      "metadata": {
        "id": "gothic-economics"
      },
      "source": [
        "hidden_dim = 64\n",
        "latent_dim = 12"
      ],
      "id": "gothic-economics",
      "execution_count": 30,
      "outputs": []
    },
    {
      "cell_type": "code",
      "metadata": {
        "id": "floating-potential"
      },
      "source": [
        "autoencoder = Autoencoder_1hl(hidden_dim, latent_dim)"
      ],
      "id": "floating-potential",
      "execution_count": 31,
      "outputs": []
    },
    {
      "cell_type": "markdown",
      "metadata": {
        "id": "disabled-drinking"
      },
      "source": [
        "## Training"
      ],
      "id": "disabled-drinking"
    },
    {
      "cell_type": "code",
      "metadata": {
        "id": "preceding-spine"
      },
      "source": [
        "distortion = SaltPepper(noise_level)"
      ],
      "id": "preceding-spine",
      "execution_count": 32,
      "outputs": []
    },
    {
      "cell_type": "code",
      "metadata": {
        "colab": {
          "base_uri": "https://localhost:8080/",
          "height": 407
        },
        "id": "purple-niagara",
        "outputId": "bde7e380-d2ed-49c2-f6bf-f8436bf69c74"
      },
      "source": [
        "x, y = next(iter(mnist_train_dataloader))\n",
        "x_distorted = distortion(x)\n",
        "num_images = 6\n",
        "fig, axs = plt.subplots(ncols=num_images, nrows=2, figsize=(17,7))\n",
        "for i in range(num_images):\n",
        "    axs[0][i].imshow(x[i][0])\n",
        "    axs[0][i].set_title(f'{mnist_train.classes[y[i]]}')\n",
        "    axs[1][i].imshow(x_distorted[i][0])\n"
      ],
      "id": "purple-niagara",
      "execution_count": 33,
      "outputs": [
        {
          "output_type": "display_data",
          "data": {
            "image/png": "[encoded data removed]",
            "text/plain": [
              "<Figure size 1224x504 with 12 Axes>"
            ]
          },
          "metadata": {
            "needs_background": "light"
          }
        }
      ]
    },
    {
      "cell_type": "code",
      "metadata": {
        "id": "spectacular-defeat"
      },
      "source": [
        "device = 'cuda' if torch.cuda.is_available() else 'cpu' # if your machine supports cuda, it wil be used for computation\n",
        "autoencoder.to(device).train();\n",
        "optimizer = torch.optim.AdamW(autoencoder.parameters(), lr=1e-3)\n",
        "criterion = nn.MSELoss()"
      ],
      "id": "spectacular-defeat",
      "execution_count": 34,
      "outputs": []
    },
    {
      "cell_type": "markdown",
      "metadata": {
        "id": "intense-wisconsin"
      },
      "source": [
        "#### Your task\n",
        "Can you modify the training loop, so that the model will be train to reconstruct image before distortion?"
      ],
      "id": "intense-wisconsin"
    },
    {
      "cell_type": "code",
      "metadata": {
        "colab": {
          "base_uri": "https://localhost:8080/",
          "height": 238
        },
        "id": "least-insertion",
        "outputId": "df350d8a-9f68-4a48-8e91-11d4dc9b637a"
      },
      "source": [
        "num_epochs = 2\n",
        "\n",
        "history = [] #save losses from each epoch\n",
        "for i_epoch in range(num_epochs):\n",
        "    epoch_losses = []\n",
        "    for batch in mnist_train_dataloader:\n",
        "         # clear gradient from previous step\n",
        "        optimizer.zero_grad()\n",
        "        \n",
        "        x, y = batch\n",
        "        # your code here\n",
        "        ...\n",
        "        loss = ...\n",
        "        \n",
        "        # compute accumulated gradients\n",
        "        loss.backward()\n",
        "        \n",
        "        # perform parameter update based on current gradients\n",
        "        optimizer.step()\n",
        "        \n",
        "        # save loss\n",
        "        epoch_losses.append(loss.item()) #'item()' gets number from tensor. Similarly 'numpy()' returns numpy array copy of the tensor\n",
        "        \n",
        "        \n",
        "    epoch_loss = np.mean(epoch_losses)\n",
        "    print(f'epoch {i_epoch}, loss: {epoch_loss:0.4f}')\n",
        "    history.append({'loss': epoch_loss})\n",
        "        "
      ],
      "id": "least-insertion",
      "execution_count": 35,
      "outputs": [
        {
          "output_type": "error",
          "ename": "AttributeError",
          "evalue": "ignored",
          "traceback": [
            "\u001b[0;31m---------------------------------------------------------------------------\u001b[0m",
            "\u001b[0;31mAttributeError\u001b[0m                            Traceback (most recent call last)",
            "\u001b[0;32m<ipython-input-35-b4479a69bc2f>\u001b[0m in \u001b[0;36m<module>\u001b[0;34m()\u001b[0m\n\u001b[1;32m     14\u001b[0m \u001b[0;34m\u001b[0m\u001b[0m\n\u001b[1;32m     15\u001b[0m         \u001b[0;31m# compute accumulated gradients\u001b[0m\u001b[0;34m\u001b[0m\u001b[0;34m\u001b[0m\u001b[0;34m\u001b[0m\u001b[0m\n\u001b[0;32m---> 16\u001b[0;31m         \u001b[0mloss\u001b[0m\u001b[0;34m.\u001b[0m\u001b[0mbackward\u001b[0m\u001b[0;34m(\u001b[0m\u001b[0;34m)\u001b[0m\u001b[0;34m\u001b[0m\u001b[0;34m\u001b[0m\u001b[0m\n\u001b[0m\u001b[1;32m     17\u001b[0m \u001b[0;34m\u001b[0m\u001b[0m\n\u001b[1;32m     18\u001b[0m         \u001b[0;31m# perform parameter update based on current gradients\u001b[0m\u001b[0;34m\u001b[0m\u001b[0;34m\u001b[0m\u001b[0;34m\u001b[0m\u001b[0m\n",
            "\u001b[0;31mAttributeError\u001b[0m: 'ellipsis' object has no attribute 'backward'"
          ]
        }
      ]
    },
    {
      "cell_type": "markdown",
      "metadata": {
        "id": "usCUAPs_wptJ"
      },
      "source": [
        "Evaluate function, which incorporates distortion"
      ],
      "id": "usCUAPs_wptJ"
    },
    {
      "cell_type": "code",
      "metadata": {
        "id": "former-serbia"
      },
      "source": [
        "@torch.no_grad()\n",
        "def evaluate_model(model, dataloader, criterion, distortion, device=device):\n",
        "    losses = []\n",
        "    model = model.eval()\n",
        "    for batch in dataloader:  \n",
        "        x, y = batch\n",
        "        x = x.to(device)\n",
        "        x_hat = autoencoder(distortion(x))\n",
        "        loss = criterion(x, x_hat)\n",
        "        losses.append(loss.item())\n",
        "    final_loss = np.mean(losses)\n",
        "    return final_loss"
      ],
      "id": "former-serbia",
      "execution_count": 38,
      "outputs": []
    },
    {
      "cell_type": "markdown",
      "metadata": {
        "id": "outdoor-billion"
      },
      "source": [
        "Test if your function works"
      ],
      "id": "outdoor-billion"
    },
    {
      "cell_type": "code",
      "metadata": {
        "colab": {
          "base_uri": "https://localhost:8080/"
        },
        "id": "hidden-invasion",
        "outputId": "91080e46-6eff-429b-f69a-576012ca6948"
      },
      "source": [
        "test_loss = evaluate_model(autoencoder, mnist_test_dataloader, criterion, distortion)\n",
        "print(f'test loss: {test_loss:0.4f}')"
      ],
      "id": "hidden-invasion",
      "execution_count": 39,
      "outputs": [
        {
          "output_type": "stream",
          "name": "stdout",
          "text": [
            "test loss: 0.0318\n"
          ]
        }
      ]
    },
    {
      "cell_type": "markdown",
      "metadata": {
        "id": "greater-suspect"
      },
      "source": [
        "Now we are ready to implement testset evaluation and do the proper traing of the model. For clarity, let's create a fresh autoencoder"
      ],
      "id": "greater-suspect"
    },
    {
      "cell_type": "code",
      "metadata": {
        "id": "neural-pharmacy"
      },
      "source": [
        "hidden_dim = 64\n",
        "latent_dim = 12\n",
        "autoencoder = Autoencoder_1hl(hidden_dim, latent_dim)\n",
        "autoencoder.to(device).train();\n",
        "\n",
        "optimizer = torch.optim.AdamW(autoencoder.parameters(), lr=1e-3)"
      ],
      "id": "neural-pharmacy",
      "execution_count": 40,
      "outputs": []
    },
    {
      "cell_type": "code",
      "metadata": {
        "colab": {
          "base_uri": "https://localhost:8080/"
        },
        "id": "occasional-gardening",
        "outputId": "63c2a66e-afa1-4f56-e847-25cde2ee4622"
      },
      "source": [
        "num_epochs = 10\n",
        "\n",
        "history = [] #save losses from each epoch\n",
        "for i_epoch in range(num_epochs):\n",
        "    epoch_losses = []\n",
        "    for batch in mnist_train_dataloader:\n",
        "         # clear gradient from previous step\n",
        "        optimizer.zero_grad()\n",
        "        \n",
        "        x, y = batch\n",
        "        x = x.to(device)\n",
        "        x_hat = autoencoder(distortion(x))\n",
        "        loss = criterion(x, x_hat)\n",
        "        \n",
        "        # compute accumulated gradients\n",
        "        loss.backward()\n",
        "        \n",
        "        # perform parameter update based on current gradients\n",
        "        optimizer.step()\n",
        "        \n",
        "        # save loss\n",
        "        epoch_losses.append(loss.item()) #'item()' gets number from tensor. Similarly 'numpy()' returns numpy array copy of the tensor\n",
        "        \n",
        "        \n",
        "    epoch_loss = np.mean(epoch_losses)\n",
        "    test_loss = evaluate_model(autoencoder, mnist_test_dataloader, criterion, distortion)\n",
        "    autoencoder.train() # if \"evaluate_model\" switches the model to 'eval' mode, switch it back 'train'\n",
        "    print(f'epoch {i_epoch+1}, train loss: {epoch_loss:0.4f}, test loss {test_loss:0.4f}')\n",
        "    history.append({'train loss': epoch_loss, 'test loss': test_loss})\n",
        "        "
      ],
      "id": "occasional-gardening",
      "execution_count": 41,
      "outputs": [
        {
          "output_type": "stream",
          "name": "stdout",
          "text": [
            "epoch 0, train loss: 0.0600, test loss 0.0389\n",
            "epoch 1, train loss: 0.0353, test loss 0.0315\n",
            "epoch 2, train loss: 0.0301, test loss 0.0282\n",
            "epoch 3, train loss: 0.0278, test loss 0.0266\n",
            "epoch 4, train loss: 0.0266, test loss 0.0256\n",
            "epoch 5, train loss: 0.0258, test loss 0.0249\n",
            "epoch 6, train loss: 0.0251, test loss 0.0244\n",
            "epoch 7, train loss: 0.0247, test loss 0.0240\n",
            "epoch 8, train loss: 0.0243, test loss 0.0235\n",
            "epoch 9, train loss: 0.0240, test loss 0.0234\n"
          ]
        }
      ]
    },
    {
      "cell_type": "code",
      "metadata": {
        "colab": {
          "base_uri": "https://localhost:8080/",
          "height": 313
        },
        "id": "subjective-offer",
        "outputId": "0f3edeb1-1cd4-4883-dd88-eaffde988a70"
      },
      "source": [
        "plt.plot([entry['train loss'] for entry in history], label='train loss')\n",
        "plt.plot([entry['test loss'] for entry in history], label='test loss')\n",
        "plt.title('losses');\n",
        "plt.xlabel('epoch')\n",
        "plt.ylabel('loss')\n",
        "plt.legend()"
      ],
      "id": "subjective-offer",
      "execution_count": 47,
      "outputs": [
        {
          "output_type": "execute_result",
          "data": {
            "text/plain": [
              "<matplotlib.legend.Legend at 0x7f40c145b550>"
            ]
          },
          "metadata": {},
          "execution_count": 47
        },
        {
          "output_type": "display_data",
          "data": {
            "image/png": "[encoded data removed]",
            "text/plain": [
              "<Figure size 432x288 with 1 Axes>"
            ]
          },
          "metadata": {
            "needs_background": "light"
          }
        }
      ]
    },
    {
      "cell_type": "markdown",
      "metadata": {
        "id": "facial-accommodation"
      },
      "source": [
        "For inference on small samples, we can use CPU - it allows to not care about 'cuda' stuff. If the models or images are large, better stay with GPU."
      ],
      "id": "facial-accommodation"
    },
    {
      "cell_type": "code",
      "metadata": {
        "id": "hidden-timer"
      },
      "source": [
        "autoencoder.to('cpu').eval();"
      ],
      "id": "hidden-timer",
      "execution_count": 43,
      "outputs": []
    },
    {
      "cell_type": "code",
      "metadata": {
        "id": "temporal-cream"
      },
      "source": [
        "def reconstruct_image(img, model):\n",
        "    with torch.no_grad():\n",
        "        return model(img.unsqueeze(0))[0]"
      ],
      "id": "temporal-cream",
      "execution_count": 44,
      "outputs": []
    },
    {
      "cell_type": "code",
      "metadata": {
        "id": "neural-scope"
      },
      "source": [
        "img, target = mnist_test[0]\n",
        "img_distorted = distortion(img.unsqueeze(0)).squeeze(0)\n",
        "reconstruction = reconstruct_image(img_distorted, autoencoder)"
      ],
      "id": "neural-scope",
      "execution_count": 45,
      "outputs": []
    },
    {
      "cell_type": "code",
      "metadata": {
        "colab": {
          "base_uri": "https://localhost:8080/",
          "height": 1000
        },
        "id": "dense-flower",
        "outputId": "c589bb67-d356-402a-9a58-276f1ef29d77"
      },
      "source": [
        "for i in range(10):\n",
        "    img, target = mnist_test[i]\n",
        "    img_distorted = distortion(img)\n",
        "    reconstruction = reconstruct_image(img_distorted, autoencoder)\n",
        "    fig, axs = plt.subplots(ncols=3)\n",
        "    axs[0].imshow(img[0], vmin=0, vmax=1)\n",
        "    axs[0].set_title('original')\n",
        "    axs[1].imshow(img_distorted[0], vmin=0, vmax=1)\n",
        "    axs[1].set_title('distorted')\n",
        "    axs[2].imshow(reconstruction[0], vmin=0, vmax=1)\n",
        "    axs[2].set_title('reconstruction')"
      ],
      "id": "dense-flower",
      "execution_count": 46,
      "outputs": [
        {
          "output_type": "display_data",
          "data": {
            "image/png": "[encoded data removed]",
            "text/plain": [
              "<Figure size 432x288 with 3 Axes>"
            ]
          },
          "metadata": {
            "needs_background": "light"
          }
        },
        {
          "output_type": "display_data",
          "data": {
            "image/png": "[encoded data removed]",
            "text/plain": [
              "<Figure size 432x288 with 3 Axes>"
            ]
          },
          "metadata": {
            "needs_background": "light"
          }
        },
        {
          "output_type": "display_data",
          "data": {
            "image/png": "[encoded data removed]",
            "text/plain": [
              "<Figure size 432x288 with 3 Axes>"
            ]
          },
          "metadata": {
            "needs_background": "light"
          }
        },
        {
          "output_type": "display_data",
          "data": {
            "image/png": "[encoded data removed]",
            "text/plain": [
              "<Figure size 432x288 with 3 Axes>"
            ]
          },
          "metadata": {
            "needs_background": "light"
          }
        },
        {
          "output_type": "display_data",
          "data": {
            "image/png": "[encoded data removed]",
            "text/plain": [
              "<Figure size 432x288 with 3 Axes>"
            ]
          },
          "metadata": {
            "needs_background": "light"
          }
        },
        {
          "output_type": "display_data",
          "data": {
            "image/png": "[encoded data removed]",
            "text/plain": [
              "<Figure size 432x288 with 3 Axes>"
            ]
          },
          "metadata": {
            "needs_background": "light"
          }
        },
        {
          "output_type": "display_data",
          "data": {
            "image/png": "[encoded data removed]",
            "text/plain": [
              "<Figure size 432x288 with 3 Axes>"
            ]
          },
          "metadata": {
            "needs_background": "light"
          }
        },
        {
          "output_type": "display_data",
          "data": {
            "image/png": "[encoded data removed]",
            "text/plain": [
              "<Figure size 432x288 with 3 Axes>"
            ]
          },
          "metadata": {
            "needs_background": "light"
          }
        },
        {
          "output_type": "display_data",
          "data": {
            "image/png": "[encoded data removed]",
            "text/plain": [
              "<Figure size 432x288 with 3 Axes>"
            ]
          },
          "metadata": {
            "needs_background": "light"
          }
        },
        {
          "output_type": "display_data",
          "data": {
            "image/png": "[encoded data removed]",
            "text/plain": [
              "<Figure size 432x288 with 3 Axes>"
            ]
          },
          "metadata": {
            "needs_background": "light"
          }
        }
      ]
    },
    {
      "cell_type": "markdown",
      "metadata": {
        "id": "acquired-detection"
      },
      "source": [
        "## Robustness to noise"
      ],
      "id": "acquired-detection"
    },
    {
      "cell_type": "code",
      "metadata": {
        "id": "younger-launch"
      },
      "source": [
        "noise_levels = [0.0, 0.1, 0.2, 0.3, 0.4, 0.5]"
      ],
      "id": "younger-launch",
      "execution_count": 48,
      "outputs": []
    },
    {
      "cell_type": "code",
      "metadata": {
        "id": "thermal-mouse"
      },
      "source": [
        "autoencoder = autoencoder.to(device);"
      ],
      "id": "thermal-mouse",
      "execution_count": 49,
      "outputs": []
    },
    {
      "cell_type": "code",
      "metadata": {
        "id": "anonymous-admission"
      },
      "source": [
        "loss_for_noise = {}\n",
        "for noise_level in noise_levels:\n",
        "    distortion = SaltPepper(noise_level)\n",
        "    loss_for_noise[noise_level] = evaluate_model(autoencoder, mnist_test_dataloader, criterion, distortion)"
      ],
      "id": "anonymous-admission",
      "execution_count": 50,
      "outputs": []
    },
    {
      "cell_type": "code",
      "metadata": {
        "colab": {
          "base_uri": "https://localhost:8080/"
        },
        "id": "hundred-crazy",
        "outputId": "e1cd6ef2-c78e-4585-9887-cb52a27a433d"
      },
      "source": [
        "for noise_level, loss in loss_for_noise.items():\n",
        "    print(f'noise: {noise_level}, loss: {loss:0.4f}')"
      ],
      "id": "hundred-crazy",
      "execution_count": 51,
      "outputs": [
        {
          "output_type": "stream",
          "name": "stdout",
          "text": [
            "noise: 0.0, loss: 0.0228\n",
            "noise: 0.1, loss: 0.0223\n",
            "noise: 0.2, loss: 0.0234\n",
            "noise: 0.3, loss: 0.0260\n",
            "noise: 0.4, loss: 0.0299\n",
            "noise: 0.5, loss: 0.0352\n"
          ]
        }
      ]
    },
    {
      "cell_type": "code",
      "metadata": {
        "colab": {
          "base_uri": "https://localhost:8080/",
          "height": 279
        },
        "id": "developmental-pepper",
        "outputId": "d145d55a-177c-431f-a8bc-e281c679e978"
      },
      "source": [
        "plt.plot(noise_levels, [loss_for_noise[noise] for noise in noise_levels]);\n",
        "plt.xlabel('noise level');\n",
        "plt.ylabel('loss');"
      ],
      "id": "developmental-pepper",
      "execution_count": 52,
      "outputs": [
        {
          "output_type": "display_data",
          "data": {
            "image/png": "[encoded data removed]",
            "text/plain": [
              "<Figure size 432x288 with 1 Axes>"
            ]
          },
          "metadata": {
            "needs_background": "light"
          }
        }
      ]
    },
    {
      "cell_type": "code",
      "metadata": {
        "id": "tOWBpFHyy7dK"
      },
      "source": [
        "img_distorted = distortion(img)\n"
      ],
      "id": "tOWBpFHyy7dK",
      "execution_count": 54,
      "outputs": []
    },
    {
      "cell_type": "code",
      "metadata": {
        "colab": {
          "base_uri": "https://localhost:8080/"
        },
        "id": "zAK_PR5PzAx7",
        "outputId": "05b5f0a3-461f-491f-b8e1-d53d4583dea1"
      },
      "source": [
        "reconstruct_image(img_distorted, autoencoder).shape"
      ],
      "id": "zAK_PR5PzAx7",
      "execution_count": 56,
      "outputs": [
        {
          "output_type": "execute_result",
          "data": {
            "text/plain": [
              "torch.Size([1, 28, 28])"
            ]
          },
          "metadata": {},
          "execution_count": 56
        }
      ]
    },
    {
      "cell_type": "code",
      "metadata": {
        "colab": {
          "base_uri": "https://localhost:8080/",
          "height": 227
        },
        "id": "wcB4K5Qfxir5",
        "outputId": "f02b020f-0060-4d48-d176-72a5fcee8e81"
      },
      "source": [
        "noise_levels = [0.0, 0.1, 0.2, 0.3, 0.4, 0.5]\n",
        "img = mnist_train[7][0]\n",
        "fig, axs = plt.subplots(ncols=7, figsize=(24, 6))\n",
        "axs[0].imshow(img[0], vmin=0, vmax=1)\n",
        "axs[0].set_title(f'original image')\n",
        "for i, noise_level in enumerate(noise_levels[:6], start=1):\n",
        "  distortion = SaltPepper(noise_level)\n",
        "  img_distorted = distortion(img)\n",
        "  reconstruction = reconstruct_image(img_distorted, autoencoder)\n",
        "  axs[i].imshow(reconstruction[0], vmin=0, vmax=1)\n",
        "  axs[i].set_title(f'noise: {noise_level}')\n"
      ],
      "id": "wcB4K5Qfxir5",
      "execution_count": 61,
      "outputs": [
        {
          "output_type": "display_data",
          "data": {
            "image/png": "[encoded data removed]",
            "text/plain": [
              "<Figure size 1728x432 with 7 Axes>"
            ]
          },
          "metadata": {
            "needs_background": "light"
          }
        }
      ]
    },
    {
      "cell_type": "markdown",
      "metadata": {
        "id": "therapeutic-auckland"
      },
      "source": [
        "Now let's try robustness to Gaussian noise, for which the model wasn't trained for"
      ],
      "id": "therapeutic-auckland"
    },
    {
      "cell_type": "code",
      "metadata": {
        "id": "dress-atlanta"
      },
      "source": [
        "class GaussianNoise:\n",
        "    def __init__(self, noise):\n",
        "        self.noise = noise\n",
        "    \n",
        "    def __call__(self, img_or_batch):\n",
        "        if img_or_batch.ndim == 3:\n",
        "            is_image=True\n",
        "            img_or_batch = img_or_batch.unsqueeze(0) # produce \"batch\" of length 1\n",
        "        else:\n",
        "            is_image=False\n",
        "        \n",
        "        batch_out = img_or_batch.clone()\n",
        "        \n",
        "        noise = torch.randn(batch_out.shape) * self.noise #create noise sampled from normal distribution\n",
        "        \n",
        "        batch_out = batch_out + noise.to(batch_out) # add noise\n",
        "        batch_out = torch.clip(batch_out, 0, 1) #keep values between 0 and 1\n",
        "        \n",
        "        if is_image:\n",
        "            return batch_out.squeeze(0) # return image shape\n",
        "    \n",
        "        return batch_out\n",
        "    "
      ],
      "id": "dress-atlanta",
      "execution_count": 63,
      "outputs": []
    },
    {
      "cell_type": "markdown",
      "metadata": {
        "id": "consistent-application"
      },
      "source": [
        "### Test Gaussian distortion:"
      ],
      "id": "consistent-application"
    },
    {
      "cell_type": "code",
      "metadata": {
        "id": "surgical-start"
      },
      "source": [
        "gaussian_distorition = GaussianNoise(0.1)\n",
        "batch = next(iter(mnist_train_dataloader))"
      ],
      "id": "surgical-start",
      "execution_count": 64,
      "outputs": []
    },
    {
      "cell_type": "code",
      "metadata": {
        "id": "infectious-collector"
      },
      "source": [
        "img = batch[0][0]\n",
        "distorted_image = gaussian_distorition(img)"
      ],
      "id": "infectious-collector",
      "execution_count": 65,
      "outputs": []
    },
    {
      "cell_type": "code",
      "metadata": {
        "colab": {
          "base_uri": "https://localhost:8080/",
          "height": 218
        },
        "id": "extended-bennett",
        "outputId": "c6f0bf55-f372-4156-aa6a-c3799e420936"
      },
      "source": [
        "fig, (ax1, ax2) = plt.subplots(ncols=2)\n",
        "ax1.imshow(img[0])\n",
        "ax2.imshow(distorted_image[0])"
      ],
      "id": "extended-bennett",
      "execution_count": 66,
      "outputs": [
        {
          "output_type": "execute_result",
          "data": {
            "text/plain": [
              "<matplotlib.image.AxesImage at 0x7f40c0891f50>"
            ]
          },
          "metadata": {},
          "execution_count": 66
        },
        {
          "output_type": "display_data",
          "data": {
            "image/png": "[encoded data removed]",
            "text/plain": [
              "<Figure size 432x288 with 2 Axes>"
            ]
          },
          "metadata": {
            "needs_background": "light"
          }
        }
      ]
    },
    {
      "cell_type": "code",
      "metadata": {
        "colab": {
          "base_uri": "https://localhost:8080/",
          "height": 1000
        },
        "id": "zEGPgL5o8-5l",
        "outputId": "f8160b82-4ed1-4def-e8b6-24d936d9d833"
      },
      "source": [
        "gaussian_distorition_weak = GaussianNoise(0.2)\n",
        "gaussian_distorition_strong = GaussianNoise(0.5)\n",
        "\n",
        "for i in range(10):\n",
        "    img, target = mnist_test[i]\n",
        "    img_distorted_weak = gaussian_distorition_weak(img)\n",
        "    reconstruction_weak = reconstruct_image(img_distorted_weak, autoencoder)\n",
        "    img_distorted_strong = gaussian_distorition_strong(img)\n",
        "    reconstruction_strong = reconstruct_image(img_distorted_strong, autoencoder)\n",
        "    fig, axs = plt.subplots(ncols=5, figsize=(14,5))\n",
        "    axs[0].imshow(img[0], vmin=0, vmax=1)\n",
        "    axs[0].set_title('original')\n",
        "    axs[1].imshow(img_distorted_weak[0], vmin=0, vmax=1)\n",
        "    axs[1].set_title('weakly distorted')\n",
        "    axs[2].imshow(reconstruction_weak[0], vmin=0, vmax=1)\n",
        "    axs[2].set_title('reconstruction')\n",
        "    axs[3].imshow(img_distorted_strong[0], vmin=0, vmax=1)\n",
        "    axs[3].set_title('strongly distorted')\n",
        "    axs[4].imshow(reconstruction_strong[0], vmin=0, vmax=1)\n",
        "    axs[4].set_title('reconstruction')"
      ],
      "id": "zEGPgL5o8-5l",
      "execution_count": 71,
      "outputs": [
        {
          "output_type": "display_data",
          "data": {
            "image/png": "[encoded data removed]",
            "text/plain": [
              "<Figure size 1008x360 with 5 Axes>"
            ]
          },
          "metadata": {
            "needs_background": "light"
          }
        },
        {
          "output_type": "display_data",
          "data": {
            "image/png": "[encoded data removed]",
            "text/plain": [
              "<Figure size 1008x360 with 5 Axes>"
            ]
          },
          "metadata": {
            "needs_background": "light"
          }
        },
        {
          "output_type": "display_data",
          "data": {
            "image/png": "[encoded data removed]",
            "text/plain": [
              "<Figure size 1008x360 with 5 Axes>"
            ]
          },
          "metadata": {
            "needs_background": "light"
          }
        },
        {
          "output_type": "display_data",
          "data": {
            "image/png": "[encoded data removed]",
            "text/plain": [
              "<Figure size 1008x360 with 5 Axes>"
            ]
          },
          "metadata": {
            "needs_background": "light"
          }
        },
        {
          "output_type": "display_data",
          "data": {
            "image/png": "[encoded data removed]",
            "text/plain": [
              "<Figure size 1008x360 with 5 Axes>"
            ]
          },
          "metadata": {
            "needs_background": "light"
          }
        },
        {
          "output_type": "display_data",
          "data": {
            "image/png": "[encoded data removed]",
            "text/plain": [
              "<Figure size 1008x360 with 5 Axes>"
            ]
          },
          "metadata": {
            "needs_background": "light"
          }
        },
        {
          "output_type": "display_data",
          "data": {
            "image/png": "[encoded data removed]",
            "text/plain": [
              "<Figure size 1008x360 with 5 Axes>"
            ]
          },
          "metadata": {
            "needs_background": "light"
          }
        },
        {
          "output_type": "display_data",
          "data": {
            "image/png": "[encoded data removed]",
            "text/plain": [
              "<Figure size 1008x360 with 5 Axes>"
            ]
          },
          "metadata": {
            "needs_background": "light"
          }
        },
        {
          "output_type": "display_data",
          "data": {
            "image/png": "[encoded data removed]",
            "text/plain": [
              "<Figure size 1008x360 with 5 Axes>"
            ]
          },
          "metadata": {
            "needs_background": "light"
          }
        },
        {
          "output_type": "display_data",
          "data": {
            "image/png": "[encoded data removed]",
            "text/plain": [
              "<Figure size 1008x360 with 5 Axes>"
            ]
          },
          "metadata": {
            "needs_background": "light"
          }
        }
      ]
    },
    {
      "cell_type": "code",
      "metadata": {
        "id": "royal-favor"
      },
      "source": [
        ""
      ],
      "id": "royal-favor",
      "execution_count": null,
      "outputs": []
    }
  ]
}