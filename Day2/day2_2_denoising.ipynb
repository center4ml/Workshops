{
  "cells": [
    {
      "cell_type": "markdown",
      "id": "curious-malta",
      "metadata": {
        "id": "curious-malta"
      },
      "source": [
        "# Autoencoders: denoising"
      ]
    },
    {
      "cell_type": "markdown",
      "id": "uniform-surprise",
      "metadata": {
        "id": "uniform-surprise"
      },
      "source": [
        "This notebook includes:\n",
        "- denoising autoencoders\n",
        "- latent space distribution with SWAE"
      ]
    },
    {
      "cell_type": "markdown",
      "id": "supposed-luxembourg",
      "metadata": {
        "id": "supposed-luxembourg"
      },
      "source": [
        "**Denoising**\n",
        "![denoising](https://miro.medium.com/max/5160/1*SxwRp9i23OM0Up4sEze1QQ@2x.png)\n",
        "Source: https://www.kaggle.com/tarunkr/autoencoder-denoising-image-mnist-cifar10"
      ]
    },
    {
      "cell_type": "markdown",
      "id": "likely-cosmetic",
      "metadata": {
        "id": "likely-cosmetic"
      },
      "source": [
        "## Technical imports"
      ]
    },
    {
      "cell_type": "code",
      "execution_count": 1,
      "id": "continuous-dutch",
      "metadata": {
        "id": "continuous-dutch"
      },
      "outputs": [],
      "source": [
        "import matplotlib.pyplot as plt\n",
        "import numpy as np"
      ]
    },
    {
      "cell_type": "markdown",
      "id": "drawn-series",
      "metadata": {
        "id": "drawn-series"
      },
      "source": [
        "## Data"
      ]
    },
    {
      "cell_type": "code",
      "execution_count": 2,
      "id": "compatible-tattoo",
      "metadata": {
        "id": "compatible-tattoo"
      },
      "outputs": [],
      "source": [
        "import torch\n",
        "from torchvision import transforms\n",
        "from torchvision.datasets import MNIST"
      ]
    },
    {
      "cell_type": "code",
      "execution_count": 3,
      "id": "equipped-lebanon",
      "metadata": {
        "id": "equipped-lebanon"
      },
      "outputs": [],
      "source": [
        "DATASETS_PATH = 'data' # path to directory where data are to be stored"
      ]
    },
    {
      "cell_type": "code",
      "execution_count": 4,
      "id": "classified-cartoon",
      "metadata": {
        "id": "classified-cartoon"
      },
      "outputs": [],
      "source": [
        "transform = transforms.ToTensor()"
      ]
    },
    {
      "cell_type": "code",
      "execution_count": 5,
      "id": "arctic-possibility",
      "metadata": {
        "colab": {
          "base_uri": "https://localhost:8080/",
          "height": 423,
          "referenced_widgets": [
            "07ca4b28161e413e83498f8fee0fe0bf",
            "4360d76e4dd348079d33e1743a50ed11",
            "ac24bb317f3f4e0bb502e130e6f9a898",
            "5919b7b8942747fb9c97f14169396232",
            "d005923ff58e4f6eab1c6810986b845f",
            "4c28c63643c043cbb4edb22dd5614bfc",
            "c0ee1f1e961f435caae124a18ba62d58",
            "69ad80ffbf7444ee98af74a2440bc5fc",
            "9e5ba8a1759a4e5f8c78ebc5c87af9d1",
            "31ef10f121b04d2d889628d32ecfaf8c",
            "5da39a3f305349efb8af79aa5753ad22",
            "af3c91c2c5c24baea65fbb7a9508fcce",
            "23b628ee6f6c4cafb2d7ab3be2ccfa25",
            "064455832bf9492fb12e956df80089a9",
            "cbe241a7a04e4257a9589526a68bf4c2",
            "d13d67b4e15d4ebe97ea1a52351c73f0",
            "b9be93617b3b44c8acc89c5b6c1ffebb",
            "e0e6ac607ed34888b13b542b1393ede1",
            "b01070228ec24390adb6a1f752bf5859",
            "1954f84ff85e41a2923dbf282a38d0d7",
            "5e4c710deb1c4eedabf78afd54f37f0d",
            "5d40f8f6f66645c689f96a69b660bd0e",
            "8eaae934b769403f8cef7d73e57f86a5",
            "50084cd4bd5a4a0093d9d8e127ebcae7",
            "b5b66df392bb4259b66f5a281d11c884",
            "32efd20f6d974d88af040bb51f4229eb",
            "6df7772c98c4405db3a7446a64e2d447",
            "d93b467cf89d49eba5dd5ea9405dd031",
            "b427dd98973b4218925b4ee64f9769ba",
            "5a2b3168f1aa430f8d2d7a25f4bdbf9a",
            "696bd0c9bc64479d885c15c49432337b",
            "3adb300c946f4d61aa9f1f266a5cdb63",
            "24722cc9a9364015a2ae44f76f679dbd",
            "f1fda58464ce403cb7e58a02aa2a3724",
            "e2c3412f357d4ba08a4fa6b7b0d1bf23",
            "a331566871124499b210f64d8c8a5eff",
            "3a66a6e51998469084d183f1338b2482",
            "9e5cfdfa24fa46f9bfe8ca41266c1b1d",
            "2e5985844ebe42749eec47a453e1883d",
            "fccae8b59b2e4b108b351f2530d314d3",
            "0b04e499633d4695a67c17b4811afe28",
            "f58d1f47164b4f5cacc1447fca11326a",
            "9e2135025c224ae4893edf901cc57e6a",
            "cea2c86b0ecb4a14843f491f548219a8"
          ]
        },
        "id": "arctic-possibility",
        "outputId": "bd16410a-cf35-4f07-979f-083bc11b7ac8"
      },
      "outputs": [
        {
          "output_type": "stream",
          "name": "stdout",
          "text": [
            "Downloading http://yann.lecun.com/exdb/mnist/train-images-idx3-ubyte.gz\n",
            "Downloading http://yann.lecun.com/exdb/mnist/train-images-idx3-ubyte.gz to data/MNIST/raw/train-images-idx3-ubyte.gz\n"
          ]
        },
        {
          "output_type": "display_data",
          "data": {
            "text/plain": [
              "  0%|          | 0/9912422 [00:00<?, ?it/s]"
            ],
            "application/vnd.jupyter.widget-view+json": {
              "version_major": 2,
              "version_minor": 0,
              "model_id": "07ca4b28161e413e83498f8fee0fe0bf"
            }
          },
          "metadata": {}
        },
        {
          "output_type": "stream",
          "name": "stdout",
          "text": [
            "Extracting data/MNIST/raw/train-images-idx3-ubyte.gz to data/MNIST/raw\n",
            "\n",
            "Downloading http://yann.lecun.com/exdb/mnist/train-labels-idx1-ubyte.gz\n",
            "Downloading http://yann.lecun.com/exdb/mnist/train-labels-idx1-ubyte.gz to data/MNIST/raw/train-labels-idx1-ubyte.gz\n"
          ]
        },
        {
          "output_type": "display_data",
          "data": {
            "text/plain": [
              "  0%|          | 0/28881 [00:00<?, ?it/s]"
            ],
            "application/vnd.jupyter.widget-view+json": {
              "version_major": 2,
              "version_minor": 0,
              "model_id": "af3c91c2c5c24baea65fbb7a9508fcce"
            }
          },
          "metadata": {}
        },
        {
          "output_type": "stream",
          "name": "stdout",
          "text": [
            "Extracting data/MNIST/raw/train-labels-idx1-ubyte.gz to data/MNIST/raw\n",
            "\n",
            "Downloading http://yann.lecun.com/exdb/mnist/t10k-images-idx3-ubyte.gz\n",
            "Downloading http://yann.lecun.com/exdb/mnist/t10k-images-idx3-ubyte.gz to data/MNIST/raw/t10k-images-idx3-ubyte.gz\n"
          ]
        },
        {
          "output_type": "display_data",
          "data": {
            "text/plain": [
              "  0%|          | 0/1648877 [00:00<?, ?it/s]"
            ],
            "application/vnd.jupyter.widget-view+json": {
              "version_major": 2,
              "version_minor": 0,
              "model_id": "8eaae934b769403f8cef7d73e57f86a5"
            }
          },
          "metadata": {}
        },
        {
          "output_type": "stream",
          "name": "stdout",
          "text": [
            "Extracting data/MNIST/raw/t10k-images-idx3-ubyte.gz to data/MNIST/raw\n",
            "\n",
            "Downloading http://yann.lecun.com/exdb/mnist/t10k-labels-idx1-ubyte.gz\n",
            "Downloading http://yann.lecun.com/exdb/mnist/t10k-labels-idx1-ubyte.gz to data/MNIST/raw/t10k-labels-idx1-ubyte.gz\n"
          ]
        },
        {
          "output_type": "display_data",
          "data": {
            "text/plain": [
              "  0%|          | 0/4542 [00:00<?, ?it/s]"
            ],
            "application/vnd.jupyter.widget-view+json": {
              "version_major": 2,
              "version_minor": 0,
              "model_id": "f1fda58464ce403cb7e58a02aa2a3724"
            }
          },
          "metadata": {}
        },
        {
          "output_type": "stream",
          "name": "stdout",
          "text": [
            "Extracting data/MNIST/raw/t10k-labels-idx1-ubyte.gz to data/MNIST/raw\n",
            "\n"
          ]
        }
      ],
      "source": [
        "mnist_train = MNIST(DATASETS_PATH, train=True, download=True, transform=transform);\n",
        "mnist_test = MNIST(DATASETS_PATH, train=False, download=True, transform=transform);"
      ]
    },
    {
      "cell_type": "code",
      "execution_count": 6,
      "id": "elegant-small",
      "metadata": {
        "id": "elegant-small"
      },
      "outputs": [],
      "source": [
        "batch_size = 128\n",
        "mnist_train_dataloader = torch.utils.data.DataLoader(mnist_train, batch_size=batch_size, shuffle=True)\n",
        "mnist_test_dataloader = torch.utils.data.DataLoader(mnist_test, batch_size=batch_size, shuffle=False)"
      ]
    },
    {
      "cell_type": "code",
      "execution_count": 7,
      "id": "located-cigarette",
      "metadata": {
        "id": "located-cigarette"
      },
      "outputs": [],
      "source": [
        "img = mnist_train[0][0]"
      ]
    },
    {
      "cell_type": "markdown",
      "id": "appreciated-blank",
      "metadata": {
        "id": "appreciated-blank"
      },
      "source": [
        "\n",
        "### Distortion transforms"
      ]
    },
    {
      "cell_type": "code",
      "execution_count": 8,
      "id": "seven-constitutional",
      "metadata": {
        "colab": {
          "base_uri": "https://localhost:8080/",
          "height": 282
        },
        "id": "seven-constitutional",
        "outputId": "19fe8311-951b-4242-9755-54359ceae704"
      },
      "outputs": [
        {
          "output_type": "execute_result",
          "data": {
            "text/plain": [
              "<matplotlib.image.AxesImage at 0x7f2b11c397d0>"
            ]
          },
          "metadata": {},
          "execution_count": 8
        },
        {
          "output_type": "display_data",
          "data": {
            "text/plain": [
              "<Figure size 432x288 with 1 Axes>"
            ],
            "image/png": "[encoded data removed]"
          },
          "metadata": {
            "needs_background": "light"
          }
        }
      ],
      "source": [
        "plt.imshow(img[0])"
      ]
    },
    {
      "cell_type": "code",
      "execution_count": 9,
      "id": "pressing-bandwidth",
      "metadata": {
        "colab": {
          "base_uri": "https://localhost:8080/"
        },
        "id": "pressing-bandwidth",
        "outputId": "19973b27-7c52-49e1-a56c-a2ecf793fa89"
      },
      "outputs": [
        {
          "output_type": "execute_result",
          "data": {
            "text/plain": [
              "torch.Size([1, 28, 28])"
            ]
          },
          "metadata": {},
          "execution_count": 9
        }
      ],
      "source": [
        "img.shape"
      ]
    },
    {
      "cell_type": "code",
      "execution_count": 10,
      "id": "academic-partner",
      "metadata": {
        "id": "academic-partner"
      },
      "outputs": [],
      "source": [
        "batch = next(iter(mnist_train_dataloader))"
      ]
    },
    {
      "cell_type": "code",
      "execution_count": 11,
      "id": "weekly-integrity",
      "metadata": {
        "colab": {
          "base_uri": "https://localhost:8080/"
        },
        "id": "weekly-integrity",
        "outputId": "ca60cf04-f36e-4c50-c8e4-3b8f5857a2d8"
      },
      "outputs": [
        {
          "output_type": "execute_result",
          "data": {
            "text/plain": [
              "torch.Size([128, 1, 28, 28])"
            ]
          },
          "metadata": {},
          "execution_count": 11
        }
      ],
      "source": [
        "batch[0].shape"
      ]
    },
    {
      "cell_type": "code",
      "execution_count": 12,
      "id": "nervous-password",
      "metadata": {
        "colab": {
          "base_uri": "https://localhost:8080/",
          "height": 282
        },
        "id": "nervous-password",
        "outputId": "624615c6-ac8f-4c95-fd30-b5747f93aba1"
      },
      "outputs": [
        {
          "output_type": "execute_result",
          "data": {
            "text/plain": [
              "<matplotlib.image.AxesImage at 0x7f2b1155e110>"
            ]
          },
          "metadata": {},
          "execution_count": 12
        },
        {
          "output_type": "display_data",
          "data": {
            "text/plain": [
              "<Figure size 432x288 with 1 Axes>"
            ],
            "image/png": "[encoded data removed]"
          },
          "metadata": {
            "needs_background": "light"
          }
        }
      ],
      "source": [
        "plt.imshow(batch[0][0][0])"
      ]
    },
    {
      "cell_type": "code",
      "execution_count": 15,
      "id": "knowing-production",
      "metadata": {
        "id": "knowing-production"
      },
      "outputs": [],
      "source": [
        "def salt_and_pepper(img, noise):\n",
        "    \"\"\"img: tensor of size 1 x H x W\"\n",
        "    noise: salt and pepper fraction\"\"\"\n",
        "    # copy tensor\n",
        "    img_out = img.clone()\n",
        "    \n",
        "    N_pixels = img_out.shape[1] * img_out.shape[2]\n",
        "    # randomly sample indices for salt and pepper\n",
        "    indices_salt = np.random.choice(np.arange(N_pixels), int(0.5*noise*N_pixels))\n",
        "    indices_pepper = np.random.choice(np.arange(N_pixels), int(0.5*noise*N_pixels))\n",
        "    # apply salt and pepper\n",
        "    img_out[np.unravel_index(indices_salt, img_out.shape)] = 0.0\n",
        "    img_out[np.unravel_index(indices_pepper, img_out.shape)] = 1.0\n",
        "    return img_out"
      ]
    },
    {
      "cell_type": "code",
      "execution_count": 16,
      "id": "julian-distance",
      "metadata": {
        "colab": {
          "base_uri": "https://localhost:8080/",
          "height": 282
        },
        "id": "julian-distance",
        "outputId": "0c02080b-1091-40ca-c3a5-000de5d3de41"
      },
      "outputs": [
        {
          "output_type": "execute_result",
          "data": {
            "text/plain": [
              "<matplotlib.image.AxesImage at 0x7f2b116c0490>"
            ]
          },
          "metadata": {},
          "execution_count": 16
        },
        {
          "output_type": "display_data",
          "data": {
            "text/plain": [
              "<Figure size 432x288 with 1 Axes>"
            ],
            "image/png": "[encoded data removed]"
          },
          "metadata": {
            "needs_background": "light"
          }
        }
      ],
      "source": [
        "plt.imshow(salt_and_pepper(batch[0][0], 0.2)[0])"
      ]
    },
    {
      "cell_type": "code",
      "execution_count": 17,
      "id": "arabic-illness",
      "metadata": {
        "id": "arabic-illness"
      },
      "outputs": [],
      "source": [
        "class SaltPepper:\n",
        "    def __init__(self, noise):\n",
        "        self.noise = noise\n",
        "    \n",
        "    def __call__(self, img_or_batch):\n",
        "        if img_or_batch.ndim == 3:\n",
        "            is_image=True\n",
        "            img_or_batch = img_or_batch.unsqueeze(0) # produce \"batch\" of length 1\n",
        "        else:\n",
        "            is_image=False\n",
        "        \n",
        "        batch_out = img_or_batch.clone()\n",
        "    \n",
        "        N_pixels = batch_out.shape[0] * batch_out.shape[2] * batch_out.shape[3]\n",
        "        # randomly sample indices for salt and pepper\n",
        "        indices_salt = np.random.choice(np.arange(N_pixels), int(0.5*self.noise*N_pixels))\n",
        "        indices_pepper = np.random.choice(np.arange(N_pixels), int(0.5*self.noise*N_pixels))\n",
        "        # apply salt and pepper\n",
        "        batch_out[np.unravel_index(indices_salt, batch_out.shape)] = 0.0\n",
        "        batch_out[np.unravel_index(indices_pepper, batch_out.shape)] = 1.0\n",
        "        \n",
        "        if is_image:\n",
        "            return batch_out.squeeze(0) # return image shape\n",
        "    \n",
        "        return batch_out"
      ]
    },
    {
      "cell_type": "code",
      "execution_count": 18,
      "id": "appreciated-syndrome",
      "metadata": {
        "id": "appreciated-syndrome"
      },
      "outputs": [],
      "source": [
        "noise_level = 0.2\n",
        "salt_pepper_transform = SaltPepper(noise_level)"
      ]
    },
    {
      "cell_type": "code",
      "execution_count": 19,
      "id": "settled-thesaurus",
      "metadata": {
        "colab": {
          "base_uri": "https://localhost:8080/",
          "height": 282
        },
        "id": "settled-thesaurus",
        "outputId": "f2e2ea76-5833-43c8-bd04-c3c3aca4263d"
      },
      "outputs": [
        {
          "output_type": "execute_result",
          "data": {
            "text/plain": [
              "<matplotlib.image.AxesImage at 0x7f2b11636990>"
            ]
          },
          "metadata": {},
          "execution_count": 19
        },
        {
          "output_type": "display_data",
          "data": {
            "text/plain": [
              "<Figure size 432x288 with 1 Axes>"
            ],
            "image/png": "[encoded data removed]"
          },
          "metadata": {
            "needs_background": "light"
          }
        }
      ],
      "source": [
        "plt.imshow(salt_pepper_transform(batch[0])[0][0], vmin=0, vmax=1)"
      ]
    },
    {
      "cell_type": "code",
      "execution_count": 20,
      "id": "excessive-information",
      "metadata": {
        "colab": {
          "base_uri": "https://localhost:8080/",
          "height": 407
        },
        "id": "excessive-information",
        "outputId": "820049ac-ef5f-40ed-beea-5d293b2449a0"
      },
      "outputs": [
        {
          "output_type": "display_data",
          "data": {
            "text/plain": [
              "<Figure size 1224x504 with 12 Axes>"
            ],
            "image/png": "[encoded data removed]"
          },
          "metadata": {
            "needs_background": "light"
          }
        }
      ],
      "source": [
        "num_images = 6\n",
        "fig, axs = plt.subplots(ncols=num_images, nrows=2, figsize=(17,7))\n",
        "for i in range(num_images):\n",
        "    img, target = mnist_train[i]\n",
        "    axs[0][i].imshow(img[0])\n",
        "    axs[0][i].set_title(f'{mnist_train.classes[target]}')\n",
        "    axs[1][i].imshow(salt_pepper_transform(img)[0])\n",
        "    \n",
        "    "
      ]
    },
    {
      "cell_type": "code",
      "execution_count": 21,
      "id": "varied-nitrogen",
      "metadata": {
        "id": "varied-nitrogen"
      },
      "outputs": [],
      "source": [
        "class MaskGenerator:\n",
        "    def __init__(self, scale=4, noise=0.4, fill_value=0.5):\n",
        "        self.scale = scale\n",
        "        self.noise = noise\n",
        "        self.fill_value = fill_value\n",
        "    \n",
        "    def __call__(self, img_or_batch):\n",
        "        if img_or_batch.ndim == 3:\n",
        "            is_image=True\n",
        "            img_or_batch = img_or_batch.unsqueeze(0) # produce \"batch\" of length 1\n",
        "        else:\n",
        "            is_image=False\n",
        "        \n",
        "        batch_out = img_or_batch.clone()\n",
        "        batch_size, channels, height, width = batch_out.shape\n",
        "        \n",
        "        # be sure that scale if divisor of both height and width\n",
        "        assert height%self.scale == 0 and width%self.scale == 0\n",
        "                \n",
        "        # get random mask\n",
        "        N_pixels = batch_size * height//self.scale * width//self.scale\n",
        "        indices_mask = np.random.rand(N_pixels).reshape((batch_out.shape[0], 1, batch_out.shape[2]//self.scale, batch_out.shape[3]//self.scale)) < self.noise\n",
        "        indices_mask = indices_mask.repeat(self.scale, axis=2).repeat(self.scale, axis=3)\n",
        "        indices_mask = torch.from_numpy(indices_mask).float().to(img_or_batch.device)\n",
        "\n",
        "        # apply mask\n",
        "        batch_out = (1-indices_mask)*batch_out + indices_mask*self.fill_value\n",
        "        \n",
        "        if is_image:\n",
        "            return batch_out.squeeze(0) # return image shape\n",
        "    \n",
        "        return batch_out"
      ]
    },
    {
      "cell_type": "code",
      "execution_count": 23,
      "id": "empty-underground",
      "metadata": {
        "colab": {
          "base_uri": "https://localhost:8080/",
          "height": 407
        },
        "id": "empty-underground",
        "outputId": "cdac8333-9dbc-4872-9c92-3881c809a1b4"
      },
      "outputs": [
        {
          "output_type": "display_data",
          "data": {
            "text/plain": [
              "<Figure size 1224x504 with 12 Axes>"
            ],
            "image/png": "[encoded data removed]"
          },
          "metadata": {
            "needs_background": "light"
          }
        }
      ],
      "source": [
        "noise_level = 0.3\n",
        "mask_transform = MaskGenerator(scale=4, noise=noise_level, fill_value=0.5)\n",
        "\n",
        "num_images = 6\n",
        "fig, axs = plt.subplots(ncols=num_images, nrows=2, figsize=(17,7))\n",
        "for i in range(num_images):\n",
        "    img, target = mnist_train[i]\n",
        "    axs[0][i].imshow(img[0])\n",
        "    axs[0][i].set_title(f'{mnist_train.classes[target]}')\n",
        "    axs[1][i].imshow(mask_transform(img)[0])\n",
        "    \n",
        "    "
      ]
    },
    {
      "cell_type": "markdown",
      "id": "endless-dinner",
      "metadata": {
        "id": "endless-dinner"
      },
      "source": [
        "## Model"
      ]
    },
    {
      "cell_type": "code",
      "execution_count": 24,
      "id": "prescription-harbor",
      "metadata": {
        "id": "prescription-harbor"
      },
      "outputs": [],
      "source": [
        "import torch\n",
        "from torch import nn"
      ]
    },
    {
      "cell_type": "code",
      "execution_count": 25,
      "id": "strategic-mortality",
      "metadata": {
        "id": "strategic-mortality"
      },
      "outputs": [],
      "source": [
        "class Encoder_1hl(nn.Module):\n",
        "    def __init__(self, hidden_dim, latent_dim):\n",
        "        \"\"\"\n",
        "        hidden_dim: number of neurons in the hidden layer\n",
        "        latent_dim: number of latent space dimensions\n",
        "        \"\"\"\n",
        "        super().__init__()\n",
        "        self.net = nn.Sequential(\n",
        "            nn.Linear(28*28, hidden_dim),\n",
        "            nn.ReLU(),\n",
        "            nn.Linear(hidden_dim, latent_dim),\n",
        "            )\n",
        "\n",
        "    def forward(self, x):\n",
        "        x = self.net(x)\n",
        "        return x"
      ]
    },
    {
      "cell_type": "code",
      "execution_count": 26,
      "id": "alone-single",
      "metadata": {
        "id": "alone-single"
      },
      "outputs": [],
      "source": [
        "class Decoder_1hl(nn.Module):\n",
        "    def __init__(self, hidden_dim, latent_dim):\n",
        "        \"\"\"\n",
        "        hidden_dim: number of neurons in the hidden layer\n",
        "        latent_dim: number of latent space dimensions\n",
        "        \"\"\"\n",
        "        super().__init__()\n",
        "        self.net = nn.Sequential(\n",
        "            nn.Linear(latent_dim, hidden_dim),\n",
        "            nn.ReLU(),\n",
        "            nn.Linear(hidden_dim, 28*28),\n",
        "            nn.Sigmoid() # sigmoid function transforms input values (-inf, +inf) to output in range (0, 1)\n",
        "            )\n",
        "            \n",
        "\n",
        "    def forward(self, x):\n",
        "        x = self.net(x)\n",
        "        return x"
      ]
    },
    {
      "cell_type": "code",
      "execution_count": 27,
      "id": "presidential-nightlife",
      "metadata": {
        "id": "presidential-nightlife"
      },
      "outputs": [],
      "source": [
        "class Autoencoder_1hl(nn.Module):\n",
        "    def __init__(self, hidden_dim, latent_dim):\n",
        "        \"\"\"\n",
        "        hidden_dim: number of neurons in the hidden layer\n",
        "        latent_dim: number of latent space dimensions\n",
        "        \"\"\"\n",
        "        super().__init__()\n",
        "        self.encoder = Encoder_1hl(hidden_dim, latent_dim)\n",
        "        self.decoder = Decoder_1hl(hidden_dim, latent_dim)\n",
        "            \n",
        "    def forward(self, x):\n",
        "        input_shape = x.shape #batch_size, channels, height, width\n",
        "        x = x.reshape(input_shape[0], -1)\n",
        "        z = self.encoder(x)\n",
        "        x_hat = self.decoder(z) \n",
        "        return x_hat.reshape(input_shape), z"
      ]
    },
    {
      "cell_type": "code",
      "execution_count": 28,
      "id": "disciplinary-highland",
      "metadata": {
        "id": "disciplinary-highland"
      },
      "outputs": [],
      "source": [
        "hidden_dim = 64\n",
        "latent_dim = 12"
      ]
    },
    {
      "cell_type": "code",
      "execution_count": 29,
      "id": "obvious-disco",
      "metadata": {
        "id": "obvious-disco"
      },
      "outputs": [],
      "source": [
        "autoencoder = Autoencoder_1hl(hidden_dim, latent_dim)"
      ]
    },
    {
      "cell_type": "markdown",
      "id": "congressional-stake",
      "metadata": {
        "id": "congressional-stake"
      },
      "source": [
        "## Training"
      ]
    },
    {
      "cell_type": "code",
      "execution_count": 30,
      "id": "hungarian-webster",
      "metadata": {
        "id": "hungarian-webster"
      },
      "outputs": [],
      "source": [
        "noise_level = 0.3"
      ]
    },
    {
      "cell_type": "code",
      "execution_count": 31,
      "id": "successful-medline",
      "metadata": {
        "id": "successful-medline"
      },
      "outputs": [],
      "source": [
        "distortion = MaskGenerator(noise=noise_level) #SaltPepper(noise_level)"
      ]
    },
    {
      "cell_type": "code",
      "execution_count": 32,
      "id": "printable-insert",
      "metadata": {
        "colab": {
          "base_uri": "https://localhost:8080/",
          "height": 407
        },
        "id": "printable-insert",
        "outputId": "23b4f788-c265-4142-8d85-5520d93f4b01"
      },
      "outputs": [
        {
          "output_type": "display_data",
          "data": {
            "text/plain": [
              "<Figure size 1224x504 with 12 Axes>"
            ],
            "image/png": "[encoded data removed]"
          },
          "metadata": {
            "needs_background": "light"
          }
        }
      ],
      "source": [
        "x, y = next(iter(mnist_train_dataloader))\n",
        "x_distorted = distortion(x)\n",
        "num_images = 6\n",
        "fig, axs = plt.subplots(ncols=num_images, nrows=2, figsize=(17,7))\n",
        "for i in range(num_images):\n",
        "    axs[0][i].imshow(x[i][0])\n",
        "    axs[0][i].set_title(f'{mnist_train.classes[y[i]]}')\n",
        "    axs[1][i].imshow(x_distorted[i][0])\n"
      ]
    },
    {
      "cell_type": "code",
      "execution_count": 33,
      "id": "healthy-freight",
      "metadata": {
        "id": "healthy-freight"
      },
      "outputs": [],
      "source": [
        "device = 'cuda' if torch.cuda.is_available() else 'cpu' # if your machine supports cuda, it wil be used for computation\n",
        "autoencoder.to(device).train();\n",
        "optimizer = torch.optim.AdamW(autoencoder.parameters(), lr=1e-3)\n",
        "criterion = nn.MSELoss()"
      ]
    },
    {
      "cell_type": "markdown",
      "id": "matched-stability",
      "metadata": {
        "id": "matched-stability"
      },
      "source": [
        "#### Task 1.1\n",
        "Can you modify the training loop, so that the model will be train to reconstruct image before distortion?"
      ]
    },
    {
      "cell_type": "code",
      "execution_count": null,
      "id": "located-sheep",
      "metadata": {
        "colab": {
          "base_uri": "https://localhost:8080/"
        },
        "id": "located-sheep",
        "outputId": "6eb36fde-898a-42ef-c295-c0654283d927"
      },
      "outputs": [
        {
          "name": "stdout",
          "output_type": "stream",
          "text": [
            "epoch 0, loss: 0.0239\n",
            "epoch 1, loss: 0.0236\n"
          ]
        }
      ],
      "source": [
        "num_epochs = 2\n",
        "\n",
        "history = [] #save losses from each epoch\n",
        "for i_epoch in range(num_epochs):\n",
        "    epoch_losses = []\n",
        "    for batch in mnist_train_dataloader:\n",
        "         # clear gradient from previous step\n",
        "        optimizer.zero_grad()\n",
        "        \n",
        "        x, y = batch\n",
        "        # your code here\n",
        "        ...\n",
        "        loss = ...\n",
        "        \n",
        "        # compute accumulated gradients\n",
        "        loss.backward()\n",
        "        \n",
        "        # perform parameter update based on current gradients\n",
        "        optimizer.step()\n",
        "        \n",
        "        # save loss\n",
        "        epoch_losses.append(loss.item()) #'item()' gets number from tensor. Similarly 'numpy()' returns numpy array copy of the tensor\n",
        "        \n",
        "        \n",
        "    epoch_loss = np.mean(epoch_losses)\n",
        "    print(f'epoch {i_epoch}, loss: {epoch_loss:0.4f}')\n",
        "    history.append({'loss': epoch_loss})\n",
        "        "
      ]
    },
    {
      "cell_type": "code",
      "execution_count": 35,
      "id": "formed-newport",
      "metadata": {
        "id": "formed-newport"
      },
      "outputs": [],
      "source": [
        "@torch.no_grad()\n",
        "def evaluate_model(model, dataloader, criterion, distortion=None, device=device):\n",
        "    losses = []\n",
        "    model = model.eval()\n",
        "    for batch in dataloader:  \n",
        "        x, y = batch\n",
        "        x = x.to(device)\n",
        "        x_hat, z = model(distortion(x))\n",
        "        loss = criterion(x, x_hat)\n",
        "        losses.append(loss.item())\n",
        "    final_loss = np.mean(losses)\n",
        "    return final_loss"
      ]
    },
    {
      "cell_type": "markdown",
      "id": "southern-algorithm",
      "metadata": {
        "id": "southern-algorithm"
      },
      "source": [
        "Test if your function works"
      ]
    },
    {
      "cell_type": "code",
      "execution_count": 36,
      "id": "breeding-certificate",
      "metadata": {
        "colab": {
          "base_uri": "https://localhost:8080/"
        },
        "id": "breeding-certificate",
        "outputId": "f0afe94c-5600-4cd3-a7ec-adc9745ac893"
      },
      "outputs": [
        {
          "output_type": "stream",
          "name": "stdout",
          "text": [
            "test loss: 0.0375\n"
          ]
        }
      ],
      "source": [
        "test_loss = evaluate_model(autoencoder, mnist_test_dataloader, criterion, distortion)\n",
        "print(f'test loss: {test_loss:0.4f}')"
      ]
    },
    {
      "cell_type": "markdown",
      "id": "educational-conviction",
      "metadata": {
        "id": "educational-conviction"
      },
      "source": [
        "Now we are ready to implement testset evaluation and do the proper traing of the model. For clarity, let's create a fresh autoencoder"
      ]
    },
    {
      "cell_type": "code",
      "execution_count": 37,
      "id": "going-nowhere",
      "metadata": {
        "id": "going-nowhere"
      },
      "outputs": [],
      "source": [
        "hidden_dim = 64\n",
        "latent_dim = 12\n",
        "autoencoder = Autoencoder_1hl(hidden_dim, latent_dim)\n",
        "autoencoder.to(device).train();\n",
        "\n",
        "optimizer = torch.optim.AdamW(autoencoder.parameters(), lr=1e-4)"
      ]
    },
    {
      "cell_type": "code",
      "execution_count": 62,
      "id": "tribal-festival",
      "metadata": {
        "colab": {
          "base_uri": "https://localhost:8080/"
        },
        "id": "tribal-festival",
        "outputId": "32a6e051-fd85-4b06-ce84-cd009d4f1f95"
      },
      "outputs": [
        {
          "output_type": "stream",
          "name": "stdout",
          "text": [
            "epoch 0, train loss: 0.0293, test loss 0.0289\n",
            "epoch 1, train loss: 0.0293, test loss 0.0287\n",
            "epoch 2, train loss: 0.0292, test loss 0.0286\n",
            "epoch 3, train loss: 0.0291, test loss 0.0286\n",
            "epoch 4, train loss: 0.0290, test loss 0.0285\n",
            "epoch 5, train loss: 0.0289, test loss 0.0285\n",
            "epoch 6, train loss: 0.0289, test loss 0.0284\n",
            "epoch 7, train loss: 0.0288, test loss 0.0283\n",
            "epoch 8, train loss: 0.0287, test loss 0.0282\n",
            "epoch 9, train loss: 0.0287, test loss 0.0281\n"
          ]
        }
      ],
      "source": [
        "num_epochs = 20 #if you have time, train as long as as test lost stop decreasing\n",
        "\n",
        "history = [] #save losses from each epoch\n",
        "for i_epoch in range(num_epochs):\n",
        "    epoch_losses = []\n",
        "    for batch in mnist_train_dataloader:\n",
        "         # clear gradient from previous step\n",
        "        optimizer.zero_grad()\n",
        "        \n",
        "        x, y = batch\n",
        "        x = x.to(device)\n",
        "        x_hat, z = autoencoder(distortion(x))\n",
        "        loss = criterion(x, x_hat)\n",
        "        \n",
        "        # compute accumulated gradients\n",
        "        loss.backward()\n",
        "        \n",
        "        # perform parameter update based on current gradients\n",
        "        optimizer.step()\n",
        "        \n",
        "        # save loss\n",
        "        epoch_losses.append(loss.item()) #'item()' gets number from tensor. Similarly 'numpy()' returns numpy array copy of the tensor\n",
        "        \n",
        "        \n",
        "    epoch_loss = np.mean(epoch_losses)\n",
        "    test_loss = evaluate_model(autoencoder, mnist_test_dataloader, criterion, distortion)\n",
        "    autoencoder.train() # if \"evaluate_model\" switches the model to 'eval' mode, switch it back 'train'\n",
        "    print(f'epoch {i_epoch}, train loss: {epoch_loss:0.4f}, test loss {test_loss:0.4f}')\n",
        "    history.append({'train loss': epoch_loss, 'test loss': test_loss})\n",
        "        "
      ]
    },
    {
      "cell_type": "code",
      "execution_count": 64,
      "id": "dying-island",
      "metadata": {
        "colab": {
          "base_uri": "https://localhost:8080/",
          "height": 316
        },
        "id": "dying-island",
        "outputId": "1ec4904e-3ab0-41a3-8b62-81985111b901"
      },
      "outputs": [
        {
          "output_type": "execute_result",
          "data": {
            "text/plain": [
              "<matplotlib.legend.Legend at 0x7f2b08340d90>"
            ]
          },
          "metadata": {},
          "execution_count": 64
        },
        {
          "output_type": "display_data",
          "data": {
            "text/plain": [
              "<Figure size 432x288 with 1 Axes>"
            ],
            "image/png": "[encoded data removed]"
          },
          "metadata": {
            "needs_background": "light"
          }
        }
      ],
      "source": [
        "plt.plot([entry['train loss'] for entry in history], label='train loss') #plt.semilogx for log scale\n",
        "plt.plot([entry['test loss'] for entry in history], label='test loss')\n",
        "plt.title('losses');\n",
        "plt.xlabel('epoch')\n",
        "plt.ylabel('loss')\n",
        "plt.legend()"
      ]
    },
    {
      "cell_type": "markdown",
      "id": "threaded-enhancement",
      "metadata": {
        "id": "threaded-enhancement"
      },
      "source": [
        "For inference on small samples, we can use CPU - it allows to not care about 'cuda' stuff. If the models or images are large, better stay with GPU."
      ]
    },
    {
      "cell_type": "code",
      "execution_count": 65,
      "id": "cellular-europe",
      "metadata": {
        "id": "cellular-europe"
      },
      "outputs": [],
      "source": [
        "autoencoder.to('cpu').eval();"
      ]
    },
    {
      "cell_type": "code",
      "execution_count": 66,
      "id": "inappropriate-arcade",
      "metadata": {
        "id": "inappropriate-arcade"
      },
      "outputs": [],
      "source": [
        "def reconstruct_image(img, model):\n",
        "    with torch.no_grad():\n",
        "        return model(img.unsqueeze(0))[0][0]"
      ]
    },
    {
      "cell_type": "code",
      "execution_count": 67,
      "id": "composite-therapist",
      "metadata": {
        "id": "composite-therapist"
      },
      "outputs": [],
      "source": [
        "img, target = mnist_test[0]\n",
        "img_distorted = distortion(img.unsqueeze(0)).squeeze(0)\n",
        "reconstruction = reconstruct_image(img_distorted, autoencoder)"
      ]
    },
    {
      "cell_type": "code",
      "execution_count": 68,
      "id": "cooperative-proxy",
      "metadata": {
        "colab": {
          "base_uri": "https://localhost:8080/",
          "height": 1000
        },
        "id": "cooperative-proxy",
        "outputId": "e74d55ad-a111-43df-8f87-505b5cbb585e"
      },
      "outputs": [
        {
          "output_type": "display_data",
          "data": {
            "text/plain": [
              "<Figure size 432x288 with 3 Axes>"
            ],
            "image/png": "[encoded data removed]"
          },
          "metadata": {
            "needs_background": "light"
          }
        },
        {
          "output_type": "display_data",
          "data": {
            "text/plain": [
              "<Figure size 432x288 with 3 Axes>"
            ],
            "image/png": "[encoded data removed]"
          },
          "metadata": {
            "needs_background": "light"
          }
        },
        {
          "output_type": "display_data",
          "data": {
            "text/plain": [
              "<Figure size 432x288 with 3 Axes>"
            ],
            "image/png": "[encoded data removed]"
          },
          "metadata": {
            "needs_background": "light"
          }
        },
        {
          "output_type": "display_data",
          "data": {
            "text/plain": [
              "<Figure size 432x288 with 3 Axes>"
            ],
            "image/png": "[encoded data removed]"
          },
          "metadata": {
            "needs_background": "light"
          }
        },
        {
          "output_type": "display_data",
          "data": {
            "text/plain": [
              "<Figure size 432x288 with 3 Axes>"
            ],
            "image/png": "[encoded data removed]"
          },
          "metadata": {
            "needs_background": "light"
          }
        },
        {
          "output_type": "display_data",
          "data": {
            "text/plain": [
              "<Figure size 432x288 with 3 Axes>"
            ],
            "image/png": "[encoded data removed]"
          },
          "metadata": {
            "needs_background": "light"
          }
        },
        {
          "output_type": "display_data",
          "data": {
            "text/plain": [
              "<Figure size 432x288 with 3 Axes>"
            ],
            "image/png": "[encoded data removed]"
          },
          "metadata": {
            "needs_background": "light"
          }
        },
        {
          "output_type": "display_data",
          "data": {
            "text/plain": [
              "<Figure size 432x288 with 3 Axes>"
            ],
            "image/png": "[encoded data removed]"
          },
          "metadata": {
            "needs_background": "light"
          }
        },
        {
          "output_type": "display_data",
          "data": {
            "text/plain": [
              "<Figure size 432x288 with 3 Axes>"
            ],
            "image/png": "[encoded data removed]"
          },
          "metadata": {
            "needs_background": "light"
          }
        },
        {
          "output_type": "display_data",
          "data": {
            "text/plain": [
              "<Figure size 432x288 with 3 Axes>"
            ],
            "image/png": "[encoded data removed]"
          },
          "metadata": {
            "needs_background": "light"
          }
        }
      ],
      "source": [
        "for i in range(10):\n",
        "    img, target = mnist_test[i]\n",
        "    img_distorted = distortion(img.unsqueeze(0)).squeeze(0)\n",
        "    reconstruction = reconstruct_image(img_distorted, autoencoder)\n",
        "    fig, axs = plt.subplots(ncols=3)\n",
        "    axs[0].imshow(img[0], vmin=0, vmax=1)\n",
        "    axs[0].set_title('original')\n",
        "    axs[1].imshow(img_distorted[0], vmin=0, vmax=1)\n",
        "    axs[1].set_title('distorted')\n",
        "    axs[2].imshow(reconstruction[0], vmin=0, vmax=1)\n",
        "    axs[2].set_title('reconstruction')"
      ]
    },
    {
      "cell_type": "markdown",
      "id": "altered-costs",
      "metadata": {
        "id": "altered-costs"
      },
      "source": [
        "## Robustness to noise"
      ]
    },
    {
      "cell_type": "code",
      "execution_count": 69,
      "id": "amino-pattern",
      "metadata": {
        "id": "amino-pattern"
      },
      "outputs": [],
      "source": [
        "noise_levels = [0.0, 0.1, 0.2, 0.3, 0.4, 0.5]"
      ]
    },
    {
      "cell_type": "code",
      "execution_count": 70,
      "id": "answering-obligation",
      "metadata": {
        "id": "answering-obligation"
      },
      "outputs": [],
      "source": [
        "autoencoder = autoencoder.to(device);"
      ]
    },
    {
      "cell_type": "code",
      "execution_count": 74,
      "id": "limited-check",
      "metadata": {
        "id": "limited-check"
      },
      "outputs": [],
      "source": [
        "loss_for_noise = {}\n",
        "for noise_level in noise_levels:\n",
        "    distortion = SaltPepper(noise=noise_level)\n",
        "    loss_for_noise[noise_level] = evaluate_model(autoencoder, mnist_test_dataloader, criterion, distortion)"
      ]
    },
    {
      "cell_type": "code",
      "execution_count": 75,
      "id": "greek-procurement",
      "metadata": {
        "colab": {
          "base_uri": "https://localhost:8080/"
        },
        "id": "greek-procurement",
        "outputId": "8ff714a2-c9fa-408a-a978-9dea60980443"
      },
      "outputs": [
        {
          "output_type": "stream",
          "name": "stdout",
          "text": [
            "noise: 0.0, loss: 0.0247\n",
            "noise: 0.1, loss: 0.0270\n",
            "noise: 0.2, loss: 0.0301\n",
            "noise: 0.3, loss: 0.0335\n",
            "noise: 0.4, loss: 0.0376\n",
            "noise: 0.5, loss: 0.0414\n"
          ]
        }
      ],
      "source": [
        "for noise_level, loss in loss_for_noise.items():\n",
        "    print(f'noise: {noise_level}, loss: {loss:0.4f}')"
      ]
    },
    {
      "cell_type": "code",
      "execution_count": 76,
      "id": "automated-sphere",
      "metadata": {
        "colab": {
          "base_uri": "https://localhost:8080/",
          "height": 279
        },
        "id": "automated-sphere",
        "outputId": "170da367-c776-497d-cab2-927bb93abb71"
      },
      "outputs": [
        {
          "output_type": "display_data",
          "data": {
            "text/plain": [
              "<Figure size 432x288 with 1 Axes>"
            ],
            "image/png": "[encoded data removed]"
          },
          "metadata": {
            "needs_background": "light"
          }
        }
      ],
      "source": [
        "plt.plot(noise_levels, [loss_for_noise[noise] for noise in noise_levels]);\n",
        "plt.xlabel('noise level');\n",
        "plt.ylabel('loss');"
      ]
    },
    {
      "cell_type": "markdown",
      "id": "indonesian-finance",
      "metadata": {
        "id": "indonesian-finance"
      },
      "source": [
        "Now let's try robustness to Gaussian noise, for which the model wasn't trained for"
      ]
    },
    {
      "cell_type": "code",
      "execution_count": null,
      "id": "controversial-compression",
      "metadata": {
        "id": "controversial-compression"
      },
      "outputs": [],
      "source": [
        "class GaussianNoise:\n",
        "    def __init__(self, noise):\n",
        "        self.noise = noise\n",
        "    \n",
        "    def __call__(self, img_or_batch):\n",
        "        if img_or_batch.ndim == 3:\n",
        "            is_image=True\n",
        "            img_or_batch = img_or_batch.unsqueeze(0) # produce \"batch\" of length 1\n",
        "        else:\n",
        "            is_image=False\n",
        "        \n",
        "        batch_out = img_or_batch.clone()\n",
        "        \n",
        "        noise = torch.randn(batch_out.shape) * self.noise #create noise sampled from normal distribution\n",
        "        \n",
        "        batch_out = batch_out + noise.to(batch_out) # add noise\n",
        "        batch_out = torch.clip(batch_out, 0, 1) #keep values between 0 and 1\n",
        "        \n",
        "        if is_image:\n",
        "            return batch_out.squeeze(0) # return image shape\n",
        "    \n",
        "        return batch_out\n",
        "    "
      ]
    },
    {
      "cell_type": "markdown",
      "id": "nominated-environment",
      "metadata": {
        "id": "nominated-environment"
      },
      "source": [
        "Test Gaussian distortion:"
      ]
    },
    {
      "cell_type": "code",
      "execution_count": null,
      "id": "frequent-drinking",
      "metadata": {
        "id": "frequent-drinking"
      },
      "outputs": [],
      "source": [
        "gaussian_distorition = GaussianNoise(0.1)\n",
        "batch = next(iter(mnist_train_dataloader))"
      ]
    },
    {
      "cell_type": "code",
      "execution_count": null,
      "id": "cooperative-schedule",
      "metadata": {
        "id": "cooperative-schedule"
      },
      "outputs": [],
      "source": [
        "img = batch[0][0]\n",
        "distorted_image = gaussian_distorition(img)"
      ]
    },
    {
      "cell_type": "code",
      "execution_count": null,
      "id": "embedded-devil",
      "metadata": {
        "colab": {
          "base_uri": "https://localhost:8080/",
          "height": 219
        },
        "id": "embedded-devil",
        "outputId": "d21d80e7-41b1-4acc-cb25-3630b791fb3f"
      },
      "outputs": [
        {
          "data": {
            "text/plain": [
              "<matplotlib.image.AxesImage at 0x7f60fee6b950>"
            ]
          },
          "execution_count": 45,
          "metadata": {},
          "output_type": "execute_result"
        },
        {
          "data": {
            "image/png": "[encoded data removed]",
            "text/plain": [
              "<Figure size 432x288 with 2 Axes>"
            ]
          },
          "metadata": {
            "needs_background": "light"
          },
          "output_type": "display_data"
        }
      ],
      "source": [
        "fig, (ax1, ax2) = plt.subplots(ncols=2)\n",
        "ax1.imshow(img[0])\n",
        "ax2.imshow(distorted_image[0])"
      ]
    },
    {
      "cell_type": "code",
      "execution_count": null,
      "id": "final-potential",
      "metadata": {
        "id": "final-potential"
      },
      "outputs": [],
      "source": [
        "gaussian_loss_for_noise = {}\n",
        "for noise_level in noise_levels:\n",
        "    distortion = GaussianNoise(noise_level)\n",
        "    gaussian_loss_for_noise[noise_level] = evaluate_model(autoencoder, mnist_test_dataloader, criterion, distortion)"
      ]
    },
    {
      "cell_type": "code",
      "execution_count": null,
      "id": "convenient-injury",
      "metadata": {
        "colab": {
          "base_uri": "https://localhost:8080/",
          "height": 295
        },
        "id": "convenient-injury",
        "outputId": "3bf74c5d-2984-4c5e-d662-33473a430889"
      },
      "outputs": [
        {
          "data": {
            "image/png": "[encoded data removed]",
            "text/plain": [
              "<Figure size 432x288 with 1 Axes>"
            ]
          },
          "metadata": {
            "needs_background": "light"
          },
          "output_type": "display_data"
        }
      ],
      "source": [
        "plt.plot(noise_levels, [loss_for_noise[noise] for noise in noise_levels], label='salt&pepper');\n",
        "plt.plot(noise_levels, [gaussian_loss_for_noise[noise] for noise in noise_levels], label='Gaussian');\n",
        "plt.xlabel('noise level');\n",
        "plt.ylabel('loss');\n",
        "plt.title('loss for Gaussian noise');\n",
        "plt.legend();"
      ]
    },
    {
      "cell_type": "markdown",
      "id": "selective-wisconsin",
      "metadata": {
        "id": "selective-wisconsin"
      },
      "source": [
        "# Latent space distribution"
      ]
    },
    {
      "cell_type": "markdown",
      "id": "crazy-fellowship",
      "metadata": {
        "id": "crazy-fellowship"
      },
      "source": [
        "Latent space distribution can be altered by adding loss function on representations `z`. In Variational Autoencoders Normal distribution is imposed by Kullback–Leibler divergence (KL divergence). [\"Sliced-Wasserstein Autoencoder: An Embarrassingly Simple Generative Model\"](https://arxiv.org/abs/1804.01947) introduces another, more general way, which is used below"
      ]
    },
    {
      "cell_type": "code",
      "execution_count": 77,
      "id": "french-adams",
      "metadata": {
        "id": "french-adams"
      },
      "outputs": [],
      "source": [
        "# @title functions definitions for SWAE\n",
        "def rand_ring_nd(batch_size, ndim):\n",
        "    \"\"\" This function generates ndim-dimensional samples from a hollowed-circle distribution in a 2-dimensional space.\n",
        "        Args:\n",
        "            batch_size (int): number of batch samples\n",
        "            ndim (int): number of dimensions\n",
        "        Return:\n",
        "            torch.Tensor: tensor of size (batch_size, ndim)\n",
        "        \n",
        "        method from http://extremelearning.com.au/how-to-generate-uniformly-random-points-on-n-spheres-and-n-balls/\n",
        "    \"\"\"\n",
        "    x = np.random.normal(size=(batch_size, ndim)) \n",
        "    x /= np.linalg.norm(x, axis=1, keepdims=True)\n",
        "    return torch.from_numpy(x).type(torch.FloatTensor)\n",
        "  \n",
        "def rand_ball_nd(batch_size, ndim):\n",
        "    \"\"\" This function generates ndim-dimensional samples from a filled-circle distribution in a 2-dimensional space.\n",
        "        Args:\n",
        "            batch_size (int): number of batch samples\n",
        "            ndim (int): number of dimensions\n",
        "        Return:\n",
        "            torch.Tensor: tensor of size (batch_size, ndim)\n",
        "\n",
        "        method from http://extremelearning.com.au/how-to-generate-uniformly-random-points-on-n-spheres-and-n-balls/\n",
        "    \"\"\"\n",
        "    x = rand_ring_nd(batch_size, ndim+1) \n",
        "    return x[:,:-1]\n",
        "\n",
        "\n",
        "\n",
        "def rand_projections(embedding_dim, num_samples=50):\n",
        "    \"\"\"This function generates `num_samples` random samples from the latent space's unit sphere.\n",
        "        Args:\n",
        "            embedding_dim (int): embedding dimensionality\n",
        "            num_samples (int): number of random projection samples\n",
        "        Return:\n",
        "            torch.Tensor: tensor of size (num_samples, embedding_dim)\n",
        "    \"\"\"\n",
        "    projections = [w / np.sqrt((w**2).sum())  # L2 normalization\n",
        "                   for w in np.random.normal(size=(num_samples, embedding_dim))]\n",
        "    projections = np.asarray(projections)\n",
        "    return torch.from_numpy(projections).type(torch.FloatTensor)\n",
        "\n",
        "def _sliced_wasserstein_distance(encoded_samples,\n",
        "                                 distribution_samples,\n",
        "                                 num_projections=50,\n",
        "                                 p=2,\n",
        "                                 device='cpu'):\n",
        "    \"\"\" Sliced Wasserstein Distance between encoded samples and drawn distribution samples.\n",
        "        Args:\n",
        "            encoded_samples (toch.Tensor): tensor of encoded training samples\n",
        "            distribution_samples (torch.Tensor): tensor of drawn distribution training samples\n",
        "            num_projections (int): number of projections to approximate sliced wasserstein distance\n",
        "            p (int): power of distance metric\n",
        "            device (torch.device): torch device (default 'cpu')\n",
        "        Return:\n",
        "            torch.Tensor: tensor of wasserstrain distances of size (num_projections, 1)\n",
        "    \"\"\"\n",
        "    # derive latent space dimension size from random samples drawn from latent prior distribution\n",
        "    embedding_dim = distribution_samples.size(1)\n",
        "    # generate random projections in latent space\n",
        "    projections = rand_projections(embedding_dim, num_projections).to(device)\n",
        "    # calculate projections through the encoded samples\n",
        "    encoded_projections = encoded_samples.matmul(projections.transpose(0, 1))\n",
        "    # calculate projections through the prior distribution random samples\n",
        "    distribution_projections = (distribution_samples.matmul(projections.transpose(0, 1)))\n",
        "    # calculate the sliced wasserstein distance by\n",
        "    # sorting the samples per random projection and\n",
        "    # calculating the difference between the\n",
        "    # encoded samples and drawn random samples\n",
        "    # per random projection\n",
        "    wasserstein_distance = (torch.sort(encoded_projections.transpose(0, 1), dim=1)[0] -\n",
        "                            torch.sort(distribution_projections.transpose(0, 1), dim=1)[0])\n",
        "    # distance between latent space prior and encoded distributions\n",
        "    # power of 2 by default for Wasserstein-2\n",
        "    wasserstein_distance = torch.pow(wasserstein_distance, p)\n",
        "    # approximate mean wasserstein_distance for each projection\n",
        "    return wasserstein_distance.mean()\n",
        "\n",
        "\n",
        "def sliced_wasserstein_distance(encoded_samples,\n",
        "                                distribution_fn,\n",
        "                                num_projections=50,\n",
        "                                p=2,\n",
        "                                device='cpu'):\n",
        "    \"\"\" Sliced Wasserstein Distance between encoded samples and drawn distribution samples.\n",
        "        Args:\n",
        "            encoded_samples (toch.Tensor): tensor of encoded training samples\n",
        "            distribution_samples (torch.Tensor): tensor of drawn distribution training samples\n",
        "            num_projections (int): number of projections to approximate sliced wasserstein distance\n",
        "            p (int): power of distance metric\n",
        "            device (torch.device): torch device (default 'cpu')\n",
        "        Return:\n",
        "            torch.Tensor: tensor of wasserstrain distances of size (num_projections, 1)\n",
        "    \"\"\"\n",
        "    # derive batch size from encoded samples\n",
        "    batch_size = encoded_samples.size(0)\n",
        "    # draw random samples from latent space prior distribution\n",
        "    z = distribution_fn(batch_size).to(device)\n",
        "    # approximate mean wasserstein_distance between encoded and prior distributions\n",
        "    # for each random projection\n",
        "    swd = _sliced_wasserstein_distance(encoded_samples, z,\n",
        "                                       num_projections, p, device)\n",
        "    return swd"
      ]
    },
    {
      "cell_type": "code",
      "execution_count": 78,
      "id": "exclusive-reaction",
      "metadata": {
        "id": "exclusive-reaction"
      },
      "outputs": [],
      "source": [
        "from functools import partial"
      ]
    },
    {
      "cell_type": "markdown",
      "source": [
        "## Example of distribution loss"
      ],
      "metadata": {
        "id": "iFiF50njkFBi"
      },
      "id": "iFiF50njkFBi"
    },
    {
      "cell_type": "code",
      "source": [
        "latent_dim = 12\n",
        "required_distribution = partial(rand_ball_nd, ndim=latent_dim)\n",
        "distribution_criterion = partial(sliced_wasserstein_distance, distribution_fn=required_distribution, p=latent_dim, device=device)"
      ],
      "metadata": {
        "id": "dL9leA_jZLuY"
      },
      "id": "dL9leA_jZLuY",
      "execution_count": 79,
      "outputs": []
    },
    {
      "cell_type": "code",
      "source": [
        "n_samples = batch_size\n",
        "sample_ball = rand_ball_nd(n_samples, latent_dim)\n",
        "sample_uniform = torch.rand(n_samples, latent_dim) \n",
        "sample_cube = torch.rand(n_samples, latent_dim) - torch.full((n_samples, latent_dim), 0.5)\n",
        "sample_cube_large = 2*(torch.rand(n_samples, latent_dim) - torch.full((n_samples, latent_dim), 0.5))"
      ],
      "metadata": {
        "id": "3cFBrnVMhXuZ"
      },
      "id": "3cFBrnVMhXuZ",
      "execution_count": 119,
      "outputs": []
    },
    {
      "cell_type": "code",
      "source": [
        "loss_ball = distribution_criterion(sample_ball.to(device)) * batch_size*100\n",
        "loss_uniform = distribution_criterion(sample_uniform.to(device))* batch_size*100\n",
        "loss_cube = distribution_criterion(sample_cube.to(device))* batch_size*100\n",
        "loss_cube_large = distribution_criterion(sample_cube_large.to(device))* batch_size*100\n",
        "print('Wasserstein losses:')\n",
        "print(f' -ball: {loss_ball}')\n",
        "print(f' -uniform: {loss_uniform}')\n",
        "print(f' -cube: {loss_cube}')\n",
        "print(f' -cube large: {loss_cube_large}')"
      ],
      "metadata": {
        "colab": {
          "base_uri": "https://localhost:8080/"
        },
        "id": "BbwHURn5is3x",
        "outputId": "fee13370-b835-40de-9496-20f26fe90742"
      },
      "id": "BbwHURn5is3x",
      "execution_count": 120,
      "outputs": [
        {
          "output_type": "stream",
          "name": "stdout",
          "text": [
            "Wasserstein losses:\n",
            " -ball: 6.41467995592393e-05\n",
            " -uniform: 3062.81591796875\n",
            " -cube: 2.529874620904593e-07\n",
            " -cube large: 113.50997924804688\n"
          ]
        }
      ]
    },
    {
      "cell_type": "markdown",
      "source": [
        "## Training"
      ],
      "metadata": {
        "id": "G_sHSsbHkK5p"
      },
      "id": "G_sHSsbHkK5p"
    },
    {
      "cell_type": "code",
      "execution_count": 97,
      "id": "comic-housing",
      "metadata": {
        "id": "comic-housing"
      },
      "outputs": [],
      "source": [
        "hidden_dim = 64\n",
        "autoencoder_swae = Autoencoder_1hl(hidden_dim, latent_dim)\n",
        "autoencoder_swae.to(device).train();\n",
        "\n",
        "optimizer = torch.optim.AdamW(autoencoder_swae.parameters(), lr=1e-4)"
      ]
    },
    {
      "cell_type": "markdown",
      "source": [
        "#### Task 2.1\n",
        "Modify training loop to include latent space distribution loss"
      ],
      "metadata": {
        "id": "8GcY52hlkNTi"
      },
      "id": "8GcY52hlkNTi"
    },
    {
      "cell_type": "code",
      "source": [
        "num_epochs = 20\n",
        "distribution_weight = 10\n",
        "\n",
        "history = [] #save losses from each epoch\n",
        "for i_epoch in range(num_epochs):\n",
        "    epoch_losses = []\n",
        "    epoch_reconstruction_losses = []\n",
        "    epoch_distribution_losses = []\n",
        "    for batch in mnist_train_dataloader:\n",
        "         # clear gradient from previous step\n",
        "        optimizer.zero_grad()\n",
        "        \n",
        "        x, y = batch\n",
        "        x = x.to(device)\n",
        "\n",
        "        # your code here\n",
        "\n",
        "        reconstruction_loss = ... # your code here\n",
        "        distribution_loss = ... # your code here\n",
        "        loss = ...  # your code here\n",
        "\n",
        "        \n",
        "        # compute accumulated gradients\n",
        "        loss.backward()\n",
        "        \n",
        "        # perform parameter update based on current gradients\n",
        "        optimizer.step()\n",
        "        \n",
        "        # save loss\n",
        "        epoch_reconstruction_losses.append(reconstruction_loss.item())\n",
        "        epoch_distribution_losses.append(distribution_loss.item())\n",
        "        epoch_losses.append(loss.item()) #'item()' gets number from tensor. Similarly 'numpy()' returns numpy array copy of the tensor\n",
        "        \n",
        "    epoch_reconstruction_loss = np.mean(epoch_reconstruction_losses)\n",
        "    epoch_distribution_loss = np.mean(epoch_distribution_losses)    \n",
        "    epoch_loss = np.mean(epoch_losses)\n",
        "    test_loss = evaluate_model(autoencoder_swae, mnist_test_dataloader, criterion, distortion=lambda x: x) #we want to use evaluate_model function which requires distortion fuction. Mock it with identity function\n",
        "    autoencoder_swae.train() # if \"evaluate_model\" switches the model to 'eval' mode, switch it back 'train'\n",
        "    print(f'epoch {i_epoch+1}/{num_epochs}, train loss: {epoch_loss:0.4f}, test loss {test_loss:0.4f}')\n",
        "    history.append({'train loss': epoch_loss, 'test loss': test_loss, \n",
        "                    'train_reconstruction_loss': epoch_reconstruction_loss, 'train_distribution_loss': epoch_distribution_loss})\n",
        "        "
      ],
      "metadata": {
        "id": "yHPfaDp3jcbh"
      },
      "id": "yHPfaDp3jcbh",
      "execution_count": null,
      "outputs": []
    },
    {
      "cell_type": "code",
      "execution_count": 99,
      "id": "strong-reservoir",
      "metadata": {
        "colab": {
          "base_uri": "https://localhost:8080/",
          "height": 284
        },
        "id": "strong-reservoir",
        "outputId": "cd5ee2c7-5858-4fb7-8143-b07c1ee13c6a"
      },
      "outputs": [
        {
          "output_type": "execute_result",
          "data": {
            "text/plain": [
              "[<matplotlib.lines.Line2D at 0x7f2ab7d20710>]"
            ]
          },
          "metadata": {},
          "execution_count": 99
        },
        {
          "output_type": "display_data",
          "data": {
            "text/plain": [
              "<Figure size 432x288 with 1 Axes>"
            ],
            "image/png": "[encoded data removed]"
          },
          "metadata": {
            "needs_background": "light"
          }
        }
      ],
      "source": [
        "plt.plot([h['train_reconstruction_loss'] for h in history])\n",
        "plt.plot([h['test loss'] for h in history])"
      ]
    },
    {
      "cell_type": "code",
      "execution_count": 100,
      "id": "pediatric-incident",
      "metadata": {
        "colab": {
          "base_uri": "https://localhost:8080/",
          "height": 282
        },
        "id": "pediatric-incident",
        "outputId": "cc561a9e-2135-4921-a037-22197322273d"
      },
      "outputs": [
        {
          "output_type": "execute_result",
          "data": {
            "text/plain": [
              "[<matplotlib.lines.Line2D at 0x7f2ab7e0dd10>]"
            ]
          },
          "metadata": {},
          "execution_count": 100
        },
        {
          "output_type": "display_data",
          "data": {
            "text/plain": [
              "<Figure size 432x288 with 1 Axes>"
            ],
            "image/png": "[encoded data removed]"
          },
          "metadata": {
            "needs_background": "light"
          }
        }
      ],
      "source": [
        "plt.plot([h['train_distribution_loss'] for h in history])"
      ]
    },
    {
      "cell_type": "markdown",
      "id": "authorized-vegetarian",
      "metadata": {
        "id": "authorized-vegetarian"
      },
      "source": [
        "Does autoencoer work?"
      ]
    },
    {
      "cell_type": "code",
      "execution_count": 101,
      "id": "biological-pixel",
      "metadata": {
        "id": "biological-pixel"
      },
      "outputs": [],
      "source": [
        "autoencoder_swae.eval().to('cpu');"
      ]
    },
    {
      "cell_type": "code",
      "execution_count": 102,
      "id": "senior-tract",
      "metadata": {
        "colab": {
          "base_uri": "https://localhost:8080/",
          "height": 1000
        },
        "id": "senior-tract",
        "outputId": "8e7f4999-f28f-4dc4-ee0a-694e5c55aecf"
      },
      "outputs": [
        {
          "output_type": "display_data",
          "data": {
            "text/plain": [
              "<Figure size 432x288 with 2 Axes>"
            ],
            "image/png": "[encoded data removed]"
          },
          "metadata": {
            "needs_background": "light"
          }
        },
        {
          "output_type": "display_data",
          "data": {
            "text/plain": [
              "<Figure size 432x288 with 2 Axes>"
            ],
            "image/png": "[encoded data removed]"
          },
          "metadata": {
            "needs_background": "light"
          }
        },
        {
          "output_type": "display_data",
          "data": {
            "text/plain": [
              "<Figure size 432x288 with 2 Axes>"
            ],
            "image/png": "[encoded data removed]"
          },
          "metadata": {
            "needs_background": "light"
          }
        },
        {
          "output_type": "display_data",
          "data": {
            "text/plain": [
              "<Figure size 432x288 with 2 Axes>"
            ],
            "image/png": "[encoded data removed]"
          },
          "metadata": {
            "needs_background": "light"
          }
        },
        {
          "output_type": "display_data",
          "data": {
            "text/plain": [
              "<Figure size 432x288 with 2 Axes>"
            ],
            "image/png": "[encoded data removed]"
          },
          "metadata": {
            "needs_background": "light"
          }
        },
        {
          "output_type": "display_data",
          "data": {
            "text/plain": [
              "<Figure size 432x288 with 2 Axes>"
            ],
            "image/png": "[encoded data removed]"
          },
          "metadata": {
            "needs_background": "light"
          }
        },
        {
          "output_type": "display_data",
          "data": {
            "text/plain": [
              "<Figure size 432x288 with 2 Axes>"
            ],
            "image/png": "[encoded data removed]"
          },
          "metadata": {
            "needs_background": "light"
          }
        },
        {
          "output_type": "display_data",
          "data": {
            "text/plain": [
              "<Figure size 432x288 with 2 Axes>"
            ],
            "image/png": "[encoded data removed]"
          },
          "metadata": {
            "needs_background": "light"
          }
        },
        {
          "output_type": "display_data",
          "data": {
            "text/plain": [
              "<Figure size 432x288 with 2 Axes>"
            ],
            "image/png": "[encoded data removed]"
          },
          "metadata": {
            "needs_background": "light"
          }
        },
        {
          "output_type": "display_data",
          "data": {
            "text/plain": [
              "<Figure size 432x288 with 2 Axes>"
            ],
            "image/png": "[encoded data removed]"
          },
          "metadata": {
            "needs_background": "light"
          }
        }
      ],
      "source": [
        "for i in range(10):\n",
        "    img, target = mnist_test[i]\n",
        "    reconstruction = reconstruct_image(img, autoencoder_swae)\n",
        "    fig, axs = plt.subplots(ncols=2)\n",
        "    axs[0].imshow(img[0], vmin=0, vmax=1)\n",
        "    axs[0].set_title('original')\n",
        "\n",
        "    axs[1].imshow(reconstruction[0], vmin=0, vmax=1)\n",
        "    axs[1].set_title('reconstruction')"
      ]
    },
    {
      "cell_type": "markdown",
      "id": "functioning-certificate",
      "metadata": {
        "id": "functioning-certificate"
      },
      "source": [
        "Let's see if restriction on latent space works"
      ]
    },
    {
      "cell_type": "code",
      "execution_count": 103,
      "id": "infectious-province",
      "metadata": {
        "id": "infectious-province"
      },
      "outputs": [],
      "source": [
        "@torch.no_grad()\n",
        "def encode_image(img, model, device='cpu'):\n",
        "  x_hat, z = model(img.unsqueeze(0).to(device))\n",
        "  return z[0].to('cpu') # \"[0]\" beacuse 1st item of batch"
      ]
    },
    {
      "cell_type": "code",
      "execution_count": 104,
      "id": "interim-grill",
      "metadata": {
        "id": "interim-grill"
      },
      "outputs": [],
      "source": [
        "train_embeddings = []\n",
        "for idx in range(100):\n",
        "  img, _ = mnist_train[idx]\n",
        "  embedding = encode_image(img, autoencoder_swae)\n",
        "  train_embeddings.append(embedding.numpy())\n",
        "train_embeddings = np.array(train_embeddings)"
      ]
    },
    {
      "cell_type": "code",
      "execution_count": 105,
      "id": "fantastic-motel",
      "metadata": {
        "id": "fantastic-motel"
      },
      "outputs": [],
      "source": [
        "test_embeddings = []\n",
        "for idx in range(100):\n",
        "  img, _ = mnist_test[idx]\n",
        "  embedding = encode_image(img, autoencoder_swae)\n",
        "  test_embeddings.append(embedding.numpy())\n",
        "test_embeddings = np.array(test_embeddings)"
      ]
    },
    {
      "cell_type": "code",
      "execution_count": 106,
      "id": "divided-three",
      "metadata": {
        "id": "divided-three"
      },
      "outputs": [],
      "source": [
        "autoencoder.eval().cpu();"
      ]
    },
    {
      "cell_type": "code",
      "execution_count": 107,
      "id": "monthly-oxford",
      "metadata": {
        "id": "monthly-oxford"
      },
      "outputs": [],
      "source": [
        "test_embeddings_control = []\n",
        "for idx in range(100):\n",
        "  img, _ = mnist_test[idx]\n",
        "  embedding = encode_image(img, autoencoder)\n",
        "  test_embeddings_control.append(embedding.numpy())\n",
        "test_embeddings_control = np.array(test_embeddings_control)"
      ]
    },
    {
      "cell_type": "code",
      "execution_count": 108,
      "id": "studied-finish",
      "metadata": {
        "colab": {
          "base_uri": "https://localhost:8080/",
          "height": 356
        },
        "id": "studied-finish",
        "outputId": "b7c8e3fc-0dc6-4542-bc45-edc14eb65db4"
      },
      "outputs": [
        {
          "output_type": "display_data",
          "data": {
            "text/plain": [
              "<Figure size 864x360 with 2 Axes>"
            ],
            "image/png": "[encoded data removed]"
          },
          "metadata": {
            "needs_background": "light"
          }
        }
      ],
      "source": [
        "fig, axs = plt.subplots(ncols=2, figsize=(12,5))\n",
        "axs[0].hist(np.linalg.norm(train_embeddings, axis=1), alpha=0.5)\n",
        "axs[0].hist(np.linalg.norm(test_embeddings, axis=1), alpha=0.5)\n",
        "axs[0].set_title('SWAE')\n",
        "axs[1].hist(np.linalg.norm(test_embeddings_control, axis=1), alpha=0.5)\n",
        "axs[1].set_title('vanilla autoencoder')\n",
        "fig.suptitle('EMBEDDING LENGTH DISTRIBUTION');\n"
      ]
    },
    {
      "cell_type": "markdown",
      "source": [
        "For comparison, illustrate how the target distribution looks like"
      ],
      "metadata": {
        "id": "Z6uXNe5dlyiM"
      },
      "id": "Z6uXNe5dlyiM"
    },
    {
      "cell_type": "code",
      "execution_count": 111,
      "id": "lesbian-barbados",
      "metadata": {
        "colab": {
          "base_uri": "https://localhost:8080/",
          "height": 281
        },
        "id": "lesbian-barbados",
        "outputId": "1ba311db-c721-4ec2-b6c4-04ee20e3d7e1"
      },
      "outputs": [
        {
          "output_type": "display_data",
          "data": {
            "text/plain": [
              "<Figure size 432x288 with 1 Axes>"
            ],
            "image/png": "[encoded data removed]"
          },
          "metadata": {
            "needs_background": "light"
          }
        }
      ],
      "source": [
        "plt.hist(np.linalg.norm(rand_ball_nd(1000,12).numpy(), axis=1))\n",
        "plt.title('TARGET DISTRIBUTION');"
      ]
    },
    {
      "cell_type": "markdown",
      "source": [
        "# Solutions"
      ],
      "metadata": {
        "id": "pnJNyn49XlB1"
      },
      "id": "pnJNyn49XlB1"
    },
    {
      "cell_type": "markdown",
      "source": [
        "### Task 1.1"
      ],
      "metadata": {
        "id": "kXwsZQjFXoTg"
      },
      "id": "kXwsZQjFXoTg"
    },
    {
      "cell_type": "code",
      "execution_count": null,
      "id": "applicable-slope",
      "metadata": {
        "id": "applicable-slope"
      },
      "outputs": [],
      "source": [
        "num_epochs = 2\n",
        "\n",
        "history = [] #save losses from each epoch\n",
        "for i_epoch in range(num_epochs):\n",
        "    epoch_losses = []\n",
        "    for batch in mnist_train_dataloader:\n",
        "         # clear gradient from previous step\n",
        "        optimizer.zero_grad()\n",
        "        \n",
        "        x, y = batch\n",
        "        x = x.to(device)\n",
        "        x_hat, z = autoencoder(distortion(x))\n",
        "        loss = criterion(x, x_hat)\n",
        "        \n",
        "        # compute accumulated gradients\n",
        "        loss.backward()\n",
        "        \n",
        "        # perform parameter update based on current gradients\n",
        "        optimizer.step()\n",
        "        \n",
        "        # save loss\n",
        "        epoch_losses.append(loss.item()) #'item()' gets number from tensor. Similarly 'numpy()' returns numpy array copy of the tensor\n",
        "        \n",
        "        \n",
        "    epoch_loss = np.mean(epoch_losses)\n",
        "    print(f'epoch {i_epoch}, loss: {epoch_loss:0.4f}')\n",
        "    history.append({'loss': epoch_loss})\n",
        "        "
      ]
    },
    {
      "cell_type": "markdown",
      "source": [
        "### Task 2.1"
      ],
      "metadata": {
        "id": "Chw3_FvCkvlX"
      },
      "id": "Chw3_FvCkvlX"
    },
    {
      "cell_type": "code",
      "source": [
        "num_epochs = 20\n",
        "distribution_weight = 10\n",
        "\n",
        "history = [] #save losses from each epoch\n",
        "for i_epoch in range(num_epochs):\n",
        "    epoch_losses = []\n",
        "    epoch_reconstruction_losses = []\n",
        "    epoch_distribution_losses = []\n",
        "    for batch in mnist_train_dataloader:\n",
        "         # clear gradient from previous step\n",
        "        optimizer.zero_grad()\n",
        "        \n",
        "        x, y = batch\n",
        "        x = x.to(device)\n",
        "        x_hat, z = autoencoder_swae(x)\n",
        "        reconstruction_loss = criterion(x, x_hat)\n",
        "        distribution_loss = distribution_weight*distribution_criterion(z)\n",
        "        loss = reconstruction_loss + distribution_loss\n",
        "        \n",
        "        # compute accumulated gradients\n",
        "        loss.backward()\n",
        "        \n",
        "        # perform parameter update based on current gradients\n",
        "        optimizer.step()\n",
        "        \n",
        "        # save loss\n",
        "        epoch_reconstruction_losses.append(reconstruction_loss.item())\n",
        "        epoch_distribution_losses.append(distribution_loss.item())\n",
        "        epoch_losses.append(loss.item()) #'item()' gets number from tensor. Similarly 'numpy()' returns numpy array copy of the tensor\n",
        "        \n",
        "    epoch_reconstruction_loss = np.mean(epoch_reconstruction_losses)\n",
        "    epoch_distribution_loss = np.mean(epoch_distribution_losses)    \n",
        "    epoch_loss = np.mean(epoch_losses)\n",
        "    test_loss = evaluate_model(autoencoder_swae, mnist_test_dataloader, criterion, distortion=lambda x: x) #we want to use evaluate_model function which requires distortion fuction. Mock it with identity function\n",
        "    autoencoder_swae.train() # if \"evaluate_model\" switches the model to 'eval' mode, switch it back 'train'\n",
        "    print(f'epoch {i_epoch+1}/{num_epochs}, train loss: {epoch_loss:0.4f}, test loss {test_loss:0.4f}')\n",
        "    history.append({'train loss': epoch_loss, 'test loss': test_loss, \n",
        "                    'train_reconstruction_loss': epoch_reconstruction_loss, 'train_distribution_loss': epoch_distribution_loss})\n",
        "        "
      ],
      "metadata": {
        "id": "RycyiTedkwib"
      },
      "id": "RycyiTedkwib",
      "execution_count": null,
      "outputs": []
    }
  ],
  "metadata": {
    "accelerator": "GPU",
    "colab": {
      "provenance": [],
      "toc_visible": true
    },
    "kernelspec": {
      "display_name": "Python 3",
      "language": "python",
      "name": "python3"
    },
    "language_info": {
      "codemirror_mode": {
        "name": "ipython",
        "version": 3
      },
      "file_extension": ".py",
      "mimetype": "text/x-python",
      "name": "python",
      "nbconvert_exporter": "python",
      "pygments_lexer": "ipython3",
      "version": "3.7.3"
    },
    "widgets": {
      "application/vnd.jupyter.widget-state+json": {
        "07ca4b28161e413e83498f8fee0fe0bf": {
          "model_module": "@jupyter-widgets/controls",
          "model_name": "HBoxModel",
          "model_module_version": "1.5.0",
          "state": {
            "_dom_classes": [],
            "_model_module": "@jupyter-widgets/controls",
            "_model_module_version": "1.5.0",
            "_model_name": "HBoxModel",
            "_view_count": null,
            "_view_module": "@jupyter-widgets/controls",
            "_view_module_version": "1.5.0",
            "_view_name": "HBoxView",
            "box_style": "",
            "children": [
              "IPY_MODEL_4360d76e4dd348079d33e1743a50ed11",
              "IPY_MODEL_ac24bb317f3f4e0bb502e130e6f9a898",
              "IPY_MODEL_5919b7b8942747fb9c97f14169396232"
            ],
            "layout": "IPY_MODEL_d005923ff58e4f6eab1c6810986b845f"
          }
        },
        "4360d76e4dd348079d33e1743a50ed11": {
          "model_module": "@jupyter-widgets/controls",
          "model_name": "HTMLModel",
          "model_module_version": "1.5.0",
          "state": {
            "_dom_classes": [],
            "_model_module": "@jupyter-widgets/controls",
            "_model_module_version": "1.5.0",
            "_model_name": "HTMLModel",
            "_view_count": null,
            "_view_module": "@jupyter-widgets/controls",
            "_view_module_version": "1.5.0",
            "_view_name": "HTMLView",
            "description": "",
            "description_tooltip": null,
            "layout": "IPY_MODEL_4c28c63643c043cbb4edb22dd5614bfc",
            "placeholder": "​",
            "style": "IPY_MODEL_c0ee1f1e961f435caae124a18ba62d58",
            "value": "100%"
          }
        },
        "ac24bb317f3f4e0bb502e130e6f9a898": {
          "model_module": "@jupyter-widgets/controls",
          "model_name": "FloatProgressModel",
          "model_module_version": "1.5.0",
          "state": {
            "_dom_classes": [],
            "_model_module": "@jupyter-widgets/controls",
            "_model_module_version": "1.5.0",
            "_model_name": "FloatProgressModel",
            "_view_count": null,
            "_view_module": "@jupyter-widgets/controls",
            "_view_module_version": "1.5.0",
            "_view_name": "ProgressView",
            "bar_style": "success",
            "description": "",
            "description_tooltip": null,
            "layout": "IPY_MODEL_69ad80ffbf7444ee98af74a2440bc5fc",
            "max": 9912422,
            "min": 0,
            "orientation": "horizontal",
            "style": "IPY_MODEL_9e5ba8a1759a4e5f8c78ebc5c87af9d1",
            "value": 9912422
          }
        },
        "5919b7b8942747fb9c97f14169396232": {
          "model_module": "@jupyter-widgets/controls",
          "model_name": "HTMLModel",
          "model_module_version": "1.5.0",
          "state": {
            "_dom_classes": [],
            "_model_module": "@jupyter-widgets/controls",
            "_model_module_version": "1.5.0",
            "_model_name": "HTMLModel",
            "_view_count": null,
            "_view_module": "@jupyter-widgets/controls",
            "_view_module_version": "1.5.0",
            "_view_name": "HTMLView",
            "description": "",
            "description_tooltip": null,
            "layout": "IPY_MODEL_31ef10f121b04d2d889628d32ecfaf8c",
            "placeholder": "​",
            "style": "IPY_MODEL_5da39a3f305349efb8af79aa5753ad22",
            "value": " 9912422/9912422 [00:00&lt;00:00, 46075245.22it/s]"
          }
        },
        "d005923ff58e4f6eab1c6810986b845f": {
          "model_module": "@jupyter-widgets/base",
          "model_name": "LayoutModel",
          "model_module_version": "1.2.0",
          "state": {
            "_model_module": "@jupyter-widgets/base",
            "_model_module_version": "1.2.0",
            "_model_name": "LayoutModel",
            "_view_count": null,
            "_view_module": "@jupyter-widgets/base",
            "_view_module_version": "1.2.0",
            "_view_name": "LayoutView",
            "align_content": null,
            "align_items": null,
            "align_self": null,
            "border": null,
            "bottom": null,
            "display": null,
            "flex": null,
            "flex_flow": null,
            "grid_area": null,
            "grid_auto_columns": null,
            "grid_auto_flow": null,
            "grid_auto_rows": null,
            "grid_column": null,
            "grid_gap": null,
            "grid_row": null,
            "grid_template_areas": null,
            "grid_template_columns": null,
            "grid_template_rows": null,
            "height": null,
            "justify_content": null,
            "justify_items": null,
            "left": null,
            "margin": null,
            "max_height": null,
            "max_width": null,
            "min_height": null,
            "min_width": null,
            "object_fit": null,
            "object_position": null,
            "order": null,
            "overflow": null,
            "overflow_x": null,
            "overflow_y": null,
            "padding": null,
            "right": null,
            "top": null,
            "visibility": null,
            "width": null
          }
        },
        "4c28c63643c043cbb4edb22dd5614bfc": {
          "model_module": "@jupyter-widgets/base",
          "model_name": "LayoutModel",
          "model_module_version": "1.2.0",
          "state": {
            "_model_module": "@jupyter-widgets/base",
            "_model_module_version": "1.2.0",
            "_model_name": "LayoutModel",
            "_view_count": null,
            "_view_module": "@jupyter-widgets/base",
            "_view_module_version": "1.2.0",
            "_view_name": "LayoutView",
            "align_content": null,
            "align_items": null,
            "align_self": null,
            "border": null,
            "bottom": null,
            "display": null,
            "flex": null,
            "flex_flow": null,
            "grid_area": null,
            "grid_auto_columns": null,
            "grid_auto_flow": null,
            "grid_auto_rows": null,
            "grid_column": null,
            "grid_gap": null,
            "grid_row": null,
            "grid_template_areas": null,
            "grid_template_columns": null,
            "grid_template_rows": null,
            "height": null,
            "justify_content": null,
            "justify_items": null,
            "left": null,
            "margin": null,
            "max_height": null,
            "max_width": null,
            "min_height": null,
            "min_width": null,
            "object_fit": null,
            "object_position": null,
            "order": null,
            "overflow": null,
            "overflow_x": null,
            "overflow_y": null,
            "padding": null,
            "right": null,
            "top": null,
            "visibility": null,
            "width": null
          }
        },
        "c0ee1f1e961f435caae124a18ba62d58": {
          "model_module": "@jupyter-widgets/controls",
          "model_name": "DescriptionStyleModel",
          "model_module_version": "1.5.0",
          "state": {
            "_model_module": "@jupyter-widgets/controls",
            "_model_module_version": "1.5.0",
            "_model_name": "DescriptionStyleModel",
            "_view_count": null,
            "_view_module": "@jupyter-widgets/base",
            "_view_module_version": "1.2.0",
            "_view_name": "StyleView",
            "description_width": ""
          }
        },
        "69ad80ffbf7444ee98af74a2440bc5fc": {
          "model_module": "@jupyter-widgets/base",
          "model_name": "LayoutModel",
          "model_module_version": "1.2.0",
          "state": {
            "_model_module": "@jupyter-widgets/base",
            "_model_module_version": "1.2.0",
            "_model_name": "LayoutModel",
            "_view_count": null,
            "_view_module": "@jupyter-widgets/base",
            "_view_module_version": "1.2.0",
            "_view_name": "LayoutView",
            "align_content": null,
            "align_items": null,
            "align_self": null,
            "border": null,
            "bottom": null,
            "display": null,
            "flex": null,
            "flex_flow": null,
            "grid_area": null,
            "grid_auto_columns": null,
            "grid_auto_flow": null,
            "grid_auto_rows": null,
            "grid_column": null,
            "grid_gap": null,
            "grid_row": null,
            "grid_template_areas": null,
            "grid_template_columns": null,
            "grid_template_rows": null,
            "height": null,
            "justify_content": null,
            "justify_items": null,
            "left": null,
            "margin": null,
            "max_height": null,
            "max_width": null,
            "min_height": null,
            "min_width": null,
            "object_fit": null,
            "object_position": null,
            "order": null,
            "overflow": null,
            "overflow_x": null,
            "overflow_y": null,
            "padding": null,
            "right": null,
            "top": null,
            "visibility": null,
            "width": null
          }
        },
        "9e5ba8a1759a4e5f8c78ebc5c87af9d1": {
          "model_module": "@jupyter-widgets/controls",
          "model_name": "ProgressStyleModel",
          "model_module_version": "1.5.0",
          "state": {
            "_model_module": "@jupyter-widgets/controls",
            "_model_module_version": "1.5.0",
            "_model_name": "ProgressStyleModel",
            "_view_count": null,
            "_view_module": "@jupyter-widgets/base",
            "_view_module_version": "1.2.0",
            "_view_name": "StyleView",
            "bar_color": null,
            "description_width": ""
          }
        },
        "31ef10f121b04d2d889628d32ecfaf8c": {
          "model_module": "@jupyter-widgets/base",
          "model_name": "LayoutModel",
          "model_module_version": "1.2.0",
          "state": {
            "_model_module": "@jupyter-widgets/base",
            "_model_module_version": "1.2.0",
            "_model_name": "LayoutModel",
            "_view_count": null,
            "_view_module": "@jupyter-widgets/base",
            "_view_module_version": "1.2.0",
            "_view_name": "LayoutView",
            "align_content": null,
            "align_items": null,
            "align_self": null,
            "border": null,
            "bottom": null,
            "display": null,
            "flex": null,
            "flex_flow": null,
            "grid_area": null,
            "grid_auto_columns": null,
            "grid_auto_flow": null,
            "grid_auto_rows": null,
            "grid_column": null,
            "grid_gap": null,
            "grid_row": null,
            "grid_template_areas": null,
            "grid_template_columns": null,
            "grid_template_rows": null,
            "height": null,
            "justify_content": null,
            "justify_items": null,
            "left": null,
            "margin": null,
            "max_height": null,
            "max_width": null,
            "min_height": null,
            "min_width": null,
            "object_fit": null,
            "object_position": null,
            "order": null,
            "overflow": null,
            "overflow_x": null,
            "overflow_y": null,
            "padding": null,
            "right": null,
            "top": null,
            "visibility": null,
            "width": null
          }
        },
        "5da39a3f305349efb8af79aa5753ad22": {
          "model_module": "@jupyter-widgets/controls",
          "model_name": "DescriptionStyleModel",
          "model_module_version": "1.5.0",
          "state": {
            "_model_module": "@jupyter-widgets/controls",
            "_model_module_version": "1.5.0",
            "_model_name": "DescriptionStyleModel",
            "_view_count": null,
            "_view_module": "@jupyter-widgets/base",
            "_view_module_version": "1.2.0",
            "_view_name": "StyleView",
            "description_width": ""
          }
        },
        "af3c91c2c5c24baea65fbb7a9508fcce": {
          "model_module": "@jupyter-widgets/controls",
          "model_name": "HBoxModel",
          "model_module_version": "1.5.0",
          "state": {
            "_dom_classes": [],
            "_model_module": "@jupyter-widgets/controls",
            "_model_module_version": "1.5.0",
            "_model_name": "HBoxModel",
            "_view_count": null,
            "_view_module": "@jupyter-widgets/controls",
            "_view_module_version": "1.5.0",
            "_view_name": "HBoxView",
            "box_style": "",
            "children": [
              "IPY_MODEL_23b628ee6f6c4cafb2d7ab3be2ccfa25",
              "IPY_MODEL_064455832bf9492fb12e956df80089a9",
              "IPY_MODEL_cbe241a7a04e4257a9589526a68bf4c2"
            ],
            "layout": "IPY_MODEL_d13d67b4e15d4ebe97ea1a52351c73f0"
          }
        },
        "23b628ee6f6c4cafb2d7ab3be2ccfa25": {
          "model_module": "@jupyter-widgets/controls",
          "model_name": "HTMLModel",
          "model_module_version": "1.5.0",
          "state": {
            "_dom_classes": [],
            "_model_module": "@jupyter-widgets/controls",
            "_model_module_version": "1.5.0",
            "_model_name": "HTMLModel",
            "_view_count": null,
            "_view_module": "@jupyter-widgets/controls",
            "_view_module_version": "1.5.0",
            "_view_name": "HTMLView",
            "description": "",
            "description_tooltip": null,
            "layout": "IPY_MODEL_b9be93617b3b44c8acc89c5b6c1ffebb",
            "placeholder": "​",
            "style": "IPY_MODEL_e0e6ac607ed34888b13b542b1393ede1",
            "value": "100%"
          }
        },
        "064455832bf9492fb12e956df80089a9": {
          "model_module": "@jupyter-widgets/controls",
          "model_name": "FloatProgressModel",
          "model_module_version": "1.5.0",
          "state": {
            "_dom_classes": [],
            "_model_module": "@jupyter-widgets/controls",
            "_model_module_version": "1.5.0",
            "_model_name": "FloatProgressModel",
            "_view_count": null,
            "_view_module": "@jupyter-widgets/controls",
            "_view_module_version": "1.5.0",
            "_view_name": "ProgressView",
            "bar_style": "success",
            "description": "",
            "description_tooltip": null,
            "layout": "IPY_MODEL_b01070228ec24390adb6a1f752bf5859",
            "max": 28881,
            "min": 0,
            "orientation": "horizontal",
            "style": "IPY_MODEL_1954f84ff85e41a2923dbf282a38d0d7",
            "value": 28881
          }
        },
        "cbe241a7a04e4257a9589526a68bf4c2": {
          "model_module": "@jupyter-widgets/controls",
          "model_name": "HTMLModel",
          "model_module_version": "1.5.0",
          "state": {
            "_dom_classes": [],
            "_model_module": "@jupyter-widgets/controls",
            "_model_module_version": "1.5.0",
            "_model_name": "HTMLModel",
            "_view_count": null,
            "_view_module": "@jupyter-widgets/controls",
            "_view_module_version": "1.5.0",
            "_view_name": "HTMLView",
            "description": "",
            "description_tooltip": null,
            "layout": "IPY_MODEL_5e4c710deb1c4eedabf78afd54f37f0d",
            "placeholder": "​",
            "style": "IPY_MODEL_5d40f8f6f66645c689f96a69b660bd0e",
            "value": " 28881/28881 [00:00&lt;00:00, 676067.21it/s]"
          }
        },
        "d13d67b4e15d4ebe97ea1a52351c73f0": {
          "model_module": "@jupyter-widgets/base",
          "model_name": "LayoutModel",
          "model_module_version": "1.2.0",
          "state": {
            "_model_module": "@jupyter-widgets/base",
            "_model_module_version": "1.2.0",
            "_model_name": "LayoutModel",
            "_view_count": null,
            "_view_module": "@jupyter-widgets/base",
            "_view_module_version": "1.2.0",
            "_view_name": "LayoutView",
            "align_content": null,
            "align_items": null,
            "align_self": null,
            "border": null,
            "bottom": null,
            "display": null,
            "flex": null,
            "flex_flow": null,
            "grid_area": null,
            "grid_auto_columns": null,
            "grid_auto_flow": null,
            "grid_auto_rows": null,
            "grid_column": null,
            "grid_gap": null,
            "grid_row": null,
            "grid_template_areas": null,
            "grid_template_columns": null,
            "grid_template_rows": null,
            "height": null,
            "justify_content": null,
            "justify_items": null,
            "left": null,
            "margin": null,
            "max_height": null,
            "max_width": null,
            "min_height": null,
            "min_width": null,
            "object_fit": null,
            "object_position": null,
            "order": null,
            "overflow": null,
            "overflow_x": null,
            "overflow_y": null,
            "padding": null,
            "right": null,
            "top": null,
            "visibility": null,
            "width": null
          }
        },
        "b9be93617b3b44c8acc89c5b6c1ffebb": {
          "model_module": "@jupyter-widgets/base",
          "model_name": "LayoutModel",
          "model_module_version": "1.2.0",
          "state": {
            "_model_module": "@jupyter-widgets/base",
            "_model_module_version": "1.2.0",
            "_model_name": "LayoutModel",
            "_view_count": null,
            "_view_module": "@jupyter-widgets/base",
            "_view_module_version": "1.2.0",
            "_view_name": "LayoutView",
            "align_content": null,
            "align_items": null,
            "align_self": null,
            "border": null,
            "bottom": null,
            "display": null,
            "flex": null,
            "flex_flow": null,
            "grid_area": null,
            "grid_auto_columns": null,
            "grid_auto_flow": null,
            "grid_auto_rows": null,
            "grid_column": null,
            "grid_gap": null,
            "grid_row": null,
            "grid_template_areas": null,
            "grid_template_columns": null,
            "grid_template_rows": null,
            "height": null,
            "justify_content": null,
            "justify_items": null,
            "left": null,
            "margin": null,
            "max_height": null,
            "max_width": null,
            "min_height": null,
            "min_width": null,
            "object_fit": null,
            "object_position": null,
            "order": null,
            "overflow": null,
            "overflow_x": null,
            "overflow_y": null,
            "padding": null,
            "right": null,
            "top": null,
            "visibility": null,
            "width": null
          }
        },
        "e0e6ac607ed34888b13b542b1393ede1": {
          "model_module": "@jupyter-widgets/controls",
          "model_name": "DescriptionStyleModel",
          "model_module_version": "1.5.0",
          "state": {
            "_model_module": "@jupyter-widgets/controls",
            "_model_module_version": "1.5.0",
            "_model_name": "DescriptionStyleModel",
            "_view_count": null,
            "_view_module": "@jupyter-widgets/base",
            "_view_module_version": "1.2.0",
            "_view_name": "StyleView",
            "description_width": ""
          }
        },
        "b01070228ec24390adb6a1f752bf5859": {
          "model_module": "@jupyter-widgets/base",
          "model_name": "LayoutModel",
          "model_module_version": "1.2.0",
          "state": {
            "_model_module": "@jupyter-widgets/base",
            "_model_module_version": "1.2.0",
            "_model_name": "LayoutModel",
            "_view_count": null,
            "_view_module": "@jupyter-widgets/base",
            "_view_module_version": "1.2.0",
            "_view_name": "LayoutView",
            "align_content": null,
            "align_items": null,
            "align_self": null,
            "border": null,
            "bottom": null,
            "display": null,
            "flex": null,
            "flex_flow": null,
            "grid_area": null,
            "grid_auto_columns": null,
            "grid_auto_flow": null,
            "grid_auto_rows": null,
            "grid_column": null,
            "grid_gap": null,
            "grid_row": null,
            "grid_template_areas": null,
            "grid_template_columns": null,
            "grid_template_rows": null,
            "height": null,
            "justify_content": null,
            "justify_items": null,
            "left": null,
            "margin": null,
            "max_height": null,
            "max_width": null,
            "min_height": null,
            "min_width": null,
            "object_fit": null,
            "object_position": null,
            "order": null,
            "overflow": null,
            "overflow_x": null,
            "overflow_y": null,
            "padding": null,
            "right": null,
            "top": null,
            "visibility": null,
            "width": null
          }
        },
        "1954f84ff85e41a2923dbf282a38d0d7": {
          "model_module": "@jupyter-widgets/controls",
          "model_name": "ProgressStyleModel",
          "model_module_version": "1.5.0",
          "state": {
            "_model_module": "@jupyter-widgets/controls",
            "_model_module_version": "1.5.0",
            "_model_name": "ProgressStyleModel",
            "_view_count": null,
            "_view_module": "@jupyter-widgets/base",
            "_view_module_version": "1.2.0",
            "_view_name": "StyleView",
            "bar_color": null,
            "description_width": ""
          }
        },
        "5e4c710deb1c4eedabf78afd54f37f0d": {
          "model_module": "@jupyter-widgets/base",
          "model_name": "LayoutModel",
          "model_module_version": "1.2.0",
          "state": {
            "_model_module": "@jupyter-widgets/base",
            "_model_module_version": "1.2.0",
            "_model_name": "LayoutModel",
            "_view_count": null,
            "_view_module": "@jupyter-widgets/base",
            "_view_module_version": "1.2.0",
            "_view_name": "LayoutView",
            "align_content": null,
            "align_items": null,
            "align_self": null,
            "border": null,
            "bottom": null,
            "display": null,
            "flex": null,
            "flex_flow": null,
            "grid_area": null,
            "grid_auto_columns": null,
            "grid_auto_flow": null,
            "grid_auto_rows": null,
            "grid_column": null,
            "grid_gap": null,
            "grid_row": null,
            "grid_template_areas": null,
            "grid_template_columns": null,
            "grid_template_rows": null,
            "height": null,
            "justify_content": null,
            "justify_items": null,
            "left": null,
            "margin": null,
            "max_height": null,
            "max_width": null,
            "min_height": null,
            "min_width": null,
            "object_fit": null,
            "object_position": null,
            "order": null,
            "overflow": null,
            "overflow_x": null,
            "overflow_y": null,
            "padding": null,
            "right": null,
            "top": null,
            "visibility": null,
            "width": null
          }
        },
        "5d40f8f6f66645c689f96a69b660bd0e": {
          "model_module": "@jupyter-widgets/controls",
          "model_name": "DescriptionStyleModel",
          "model_module_version": "1.5.0",
          "state": {
            "_model_module": "@jupyter-widgets/controls",
            "_model_module_version": "1.5.0",
            "_model_name": "DescriptionStyleModel",
            "_view_count": null,
            "_view_module": "@jupyter-widgets/base",
            "_view_module_version": "1.2.0",
            "_view_name": "StyleView",
            "description_width": ""
          }
        },
        "8eaae934b769403f8cef7d73e57f86a5": {
          "model_module": "@jupyter-widgets/controls",
          "model_name": "HBoxModel",
          "model_module_version": "1.5.0",
          "state": {
            "_dom_classes": [],
            "_model_module": "@jupyter-widgets/controls",
            "_model_module_version": "1.5.0",
            "_model_name": "HBoxModel",
            "_view_count": null,
            "_view_module": "@jupyter-widgets/controls",
            "_view_module_version": "1.5.0",
            "_view_name": "HBoxView",
            "box_style": "",
            "children": [
              "IPY_MODEL_50084cd4bd5a4a0093d9d8e127ebcae7",
              "IPY_MODEL_b5b66df392bb4259b66f5a281d11c884",
              "IPY_MODEL_32efd20f6d974d88af040bb51f4229eb"
            ],
            "layout": "IPY_MODEL_6df7772c98c4405db3a7446a64e2d447"
          }
        },
        "50084cd4bd5a4a0093d9d8e127ebcae7": {
          "model_module": "@jupyter-widgets/controls",
          "model_name": "HTMLModel",
          "model_module_version": "1.5.0",
          "state": {
            "_dom_classes": [],
            "_model_module": "@jupyter-widgets/controls",
            "_model_module_version": "1.5.0",
            "_model_name": "HTMLModel",
            "_view_count": null,
            "_view_module": "@jupyter-widgets/controls",
            "_view_module_version": "1.5.0",
            "_view_name": "HTMLView",
            "description": "",
            "description_tooltip": null,
            "layout": "IPY_MODEL_d93b467cf89d49eba5dd5ea9405dd031",
            "placeholder": "​",
            "style": "IPY_MODEL_b427dd98973b4218925b4ee64f9769ba",
            "value": "100%"
          }
        },
        "b5b66df392bb4259b66f5a281d11c884": {
          "model_module": "@jupyter-widgets/controls",
          "model_name": "FloatProgressModel",
          "model_module_version": "1.5.0",
          "state": {
            "_dom_classes": [],
            "_model_module": "@jupyter-widgets/controls",
            "_model_module_version": "1.5.0",
            "_model_name": "FloatProgressModel",
            "_view_count": null,
            "_view_module": "@jupyter-widgets/controls",
            "_view_module_version": "1.5.0",
            "_view_name": "ProgressView",
            "bar_style": "success",
            "description": "",
            "description_tooltip": null,
            "layout": "IPY_MODEL_5a2b3168f1aa430f8d2d7a25f4bdbf9a",
            "max": 1648877,
            "min": 0,
            "orientation": "horizontal",
            "style": "IPY_MODEL_696bd0c9bc64479d885c15c49432337b",
            "value": 1648877
          }
        },
        "32efd20f6d974d88af040bb51f4229eb": {
          "model_module": "@jupyter-widgets/controls",
          "model_name": "HTMLModel",
          "model_module_version": "1.5.0",
          "state": {
            "_dom_classes": [],
            "_model_module": "@jupyter-widgets/controls",
            "_model_module_version": "1.5.0",
            "_model_name": "HTMLModel",
            "_view_count": null,
            "_view_module": "@jupyter-widgets/controls",
            "_view_module_version": "1.5.0",
            "_view_name": "HTMLView",
            "description": "",
            "description_tooltip": null,
            "layout": "IPY_MODEL_3adb300c946f4d61aa9f1f266a5cdb63",
            "placeholder": "​",
            "style": "IPY_MODEL_24722cc9a9364015a2ae44f76f679dbd",
            "value": " 1648877/1648877 [00:00&lt;00:00, 19125382.73it/s]"
          }
        },
        "6df7772c98c4405db3a7446a64e2d447": {
          "model_module": "@jupyter-widgets/base",
          "model_name": "LayoutModel",
          "model_module_version": "1.2.0",
          "state": {
            "_model_module": "@jupyter-widgets/base",
            "_model_module_version": "1.2.0",
            "_model_name": "LayoutModel",
            "_view_count": null,
            "_view_module": "@jupyter-widgets/base",
            "_view_module_version": "1.2.0",
            "_view_name": "LayoutView",
            "align_content": null,
            "align_items": null,
            "align_self": null,
            "border": null,
            "bottom": null,
            "display": null,
            "flex": null,
            "flex_flow": null,
            "grid_area": null,
            "grid_auto_columns": null,
            "grid_auto_flow": null,
            "grid_auto_rows": null,
            "grid_column": null,
            "grid_gap": null,
            "grid_row": null,
            "grid_template_areas": null,
            "grid_template_columns": null,
            "grid_template_rows": null,
            "height": null,
            "justify_content": null,
            "justify_items": null,
            "left": null,
            "margin": null,
            "max_height": null,
            "max_width": null,
            "min_height": null,
            "min_width": null,
            "object_fit": null,
            "object_position": null,
            "order": null,
            "overflow": null,
            "overflow_x": null,
            "overflow_y": null,
            "padding": null,
            "right": null,
            "top": null,
            "visibility": null,
            "width": null
          }
        },
        "d93b467cf89d49eba5dd5ea9405dd031": {
          "model_module": "@jupyter-widgets/base",
          "model_name": "LayoutModel",
          "model_module_version": "1.2.0",
          "state": {
            "_model_module": "@jupyter-widgets/base",
            "_model_module_version": "1.2.0",
            "_model_name": "LayoutModel",
            "_view_count": null,
            "_view_module": "@jupyter-widgets/base",
            "_view_module_version": "1.2.0",
            "_view_name": "LayoutView",
            "align_content": null,
            "align_items": null,
            "align_self": null,
            "border": null,
            "bottom": null,
            "display": null,
            "flex": null,
            "flex_flow": null,
            "grid_area": null,
            "grid_auto_columns": null,
            "grid_auto_flow": null,
            "grid_auto_rows": null,
            "grid_column": null,
            "grid_gap": null,
            "grid_row": null,
            "grid_template_areas": null,
            "grid_template_columns": null,
            "grid_template_rows": null,
            "height": null,
            "justify_content": null,
            "justify_items": null,
            "left": null,
            "margin": null,
            "max_height": null,
            "max_width": null,
            "min_height": null,
            "min_width": null,
            "object_fit": null,
            "object_position": null,
            "order": null,
            "overflow": null,
            "overflow_x": null,
            "overflow_y": null,
            "padding": null,
            "right": null,
            "top": null,
            "visibility": null,
            "width": null
          }
        },
        "b427dd98973b4218925b4ee64f9769ba": {
          "model_module": "@jupyter-widgets/controls",
          "model_name": "DescriptionStyleModel",
          "model_module_version": "1.5.0",
          "state": {
            "_model_module": "@jupyter-widgets/controls",
            "_model_module_version": "1.5.0",
            "_model_name": "DescriptionStyleModel",
            "_view_count": null,
            "_view_module": "@jupyter-widgets/base",
            "_view_module_version": "1.2.0",
            "_view_name": "StyleView",
            "description_width": ""
          }
        },
        "5a2b3168f1aa430f8d2d7a25f4bdbf9a": {
          "model_module": "@jupyter-widgets/base",
          "model_name": "LayoutModel",
          "model_module_version": "1.2.0",
          "state": {
            "_model_module": "@jupyter-widgets/base",
            "_model_module_version": "1.2.0",
            "_model_name": "LayoutModel",
            "_view_count": null,
            "_view_module": "@jupyter-widgets/base",
            "_view_module_version": "1.2.0",
            "_view_name": "LayoutView",
            "align_content": null,
            "align_items": null,
            "align_self": null,
            "border": null,
            "bottom": null,
            "display": null,
            "flex": null,
            "flex_flow": null,
            "grid_area": null,
            "grid_auto_columns": null,
            "grid_auto_flow": null,
            "grid_auto_rows": null,
            "grid_column": null,
            "grid_gap": null,
            "grid_row": null,
            "grid_template_areas": null,
            "grid_template_columns": null,
            "grid_template_rows": null,
            "height": null,
            "justify_content": null,
            "justify_items": null,
            "left": null,
            "margin": null,
            "max_height": null,
            "max_width": null,
            "min_height": null,
            "min_width": null,
            "object_fit": null,
            "object_position": null,
            "order": null,
            "overflow": null,
            "overflow_x": null,
            "overflow_y": null,
            "padding": null,
            "right": null,
            "top": null,
            "visibility": null,
            "width": null
          }
        },
        "696bd0c9bc64479d885c15c49432337b": {
          "model_module": "@jupyter-widgets/controls",
          "model_name": "ProgressStyleModel",
          "model_module_version": "1.5.0",
          "state": {
            "_model_module": "@jupyter-widgets/controls",
            "_model_module_version": "1.5.0",
            "_model_name": "ProgressStyleModel",
            "_view_count": null,
            "_view_module": "@jupyter-widgets/base",
            "_view_module_version": "1.2.0",
            "_view_name": "StyleView",
            "bar_color": null,
            "description_width": ""
          }
        },
        "3adb300c946f4d61aa9f1f266a5cdb63": {
          "model_module": "@jupyter-widgets/base",
          "model_name": "LayoutModel",
          "model_module_version": "1.2.0",
          "state": {
            "_model_module": "@jupyter-widgets/base",
            "_model_module_version": "1.2.0",
            "_model_name": "LayoutModel",
            "_view_count": null,
            "_view_module": "@jupyter-widgets/base",
            "_view_module_version": "1.2.0",
            "_view_name": "LayoutView",
            "align_content": null,
            "align_items": null,
            "align_self": null,
            "border": null,
            "bottom": null,
            "display": null,
            "flex": null,
            "flex_flow": null,
            "grid_area": null,
            "grid_auto_columns": null,
            "grid_auto_flow": null,
            "grid_auto_rows": null,
            "grid_column": null,
            "grid_gap": null,
            "grid_row": null,
            "grid_template_areas": null,
            "grid_template_columns": null,
            "grid_template_rows": null,
            "height": null,
            "justify_content": null,
            "justify_items": null,
            "left": null,
            "margin": null,
            "max_height": null,
            "max_width": null,
            "min_height": null,
            "min_width": null,
            "object_fit": null,
            "object_position": null,
            "order": null,
            "overflow": null,
            "overflow_x": null,
            "overflow_y": null,
            "padding": null,
            "right": null,
            "top": null,
            "visibility": null,
            "width": null
          }
        },
        "24722cc9a9364015a2ae44f76f679dbd": {
          "model_module": "@jupyter-widgets/controls",
          "model_name": "DescriptionStyleModel",
          "model_module_version": "1.5.0",
          "state": {
            "_model_module": "@jupyter-widgets/controls",
            "_model_module_version": "1.5.0",
            "_model_name": "DescriptionStyleModel",
            "_view_count": null,
            "_view_module": "@jupyter-widgets/base",
            "_view_module_version": "1.2.0",
            "_view_name": "StyleView",
            "description_width": ""
          }
        },
        "f1fda58464ce403cb7e58a02aa2a3724": {
          "model_module": "@jupyter-widgets/controls",
          "model_name": "HBoxModel",
          "model_module_version": "1.5.0",
          "state": {
            "_dom_classes": [],
            "_model_module": "@jupyter-widgets/controls",
            "_model_module_version": "1.5.0",
            "_model_name": "HBoxModel",
            "_view_count": null,
            "_view_module": "@jupyter-widgets/controls",
            "_view_module_version": "1.5.0",
            "_view_name": "HBoxView",
            "box_style": "",
            "children": [
              "IPY_MODEL_e2c3412f357d4ba08a4fa6b7b0d1bf23",
              "IPY_MODEL_a331566871124499b210f64d8c8a5eff",
              "IPY_MODEL_3a66a6e51998469084d183f1338b2482"
            ],
            "layout": "IPY_MODEL_9e5cfdfa24fa46f9bfe8ca41266c1b1d"
          }
        },
        "e2c3412f357d4ba08a4fa6b7b0d1bf23": {
          "model_module": "@jupyter-widgets/controls",
          "model_name": "HTMLModel",
          "model_module_version": "1.5.0",
          "state": {
            "_dom_classes": [],
            "_model_module": "@jupyter-widgets/controls",
            "_model_module_version": "1.5.0",
            "_model_name": "HTMLModel",
            "_view_count": null,
            "_view_module": "@jupyter-widgets/controls",
            "_view_module_version": "1.5.0",
            "_view_name": "HTMLView",
            "description": "",
            "description_tooltip": null,
            "layout": "IPY_MODEL_2e5985844ebe42749eec47a453e1883d",
            "placeholder": "​",
            "style": "IPY_MODEL_fccae8b59b2e4b108b351f2530d314d3",
            "value": "100%"
          }
        },
        "a331566871124499b210f64d8c8a5eff": {
          "model_module": "@jupyter-widgets/controls",
          "model_name": "FloatProgressModel",
          "model_module_version": "1.5.0",
          "state": {
            "_dom_classes": [],
            "_model_module": "@jupyter-widgets/controls",
            "_model_module_version": "1.5.0",
            "_model_name": "FloatProgressModel",
            "_view_count": null,
            "_view_module": "@jupyter-widgets/controls",
            "_view_module_version": "1.5.0",
            "_view_name": "ProgressView",
            "bar_style": "success",
            "description": "",
            "description_tooltip": null,
            "layout": "IPY_MODEL_0b04e499633d4695a67c17b4811afe28",
            "max": 4542,
            "min": 0,
            "orientation": "horizontal",
            "style": "IPY_MODEL_f58d1f47164b4f5cacc1447fca11326a",
            "value": 4542
          }
        },
        "3a66a6e51998469084d183f1338b2482": {
          "model_module": "@jupyter-widgets/controls",
          "model_name": "HTMLModel",
          "model_module_version": "1.5.0",
          "state": {
            "_dom_classes": [],
            "_model_module": "@jupyter-widgets/controls",
            "_model_module_version": "1.5.0",
            "_model_name": "HTMLModel",
            "_view_count": null,
            "_view_module": "@jupyter-widgets/controls",
            "_view_module_version": "1.5.0",
            "_view_name": "HTMLView",
            "description": "",
            "description_tooltip": null,
            "layout": "IPY_MODEL_9e2135025c224ae4893edf901cc57e6a",
            "placeholder": "​",
            "style": "IPY_MODEL_cea2c86b0ecb4a14843f491f548219a8",
            "value": " 4542/4542 [00:00&lt;00:00, 110341.90it/s]"
          }
        },
        "9e5cfdfa24fa46f9bfe8ca41266c1b1d": {
          "model_module": "@jupyter-widgets/base",
          "model_name": "LayoutModel",
          "model_module_version": "1.2.0",
          "state": {
            "_model_module": "@jupyter-widgets/base",
            "_model_module_version": "1.2.0",
            "_model_name": "LayoutModel",
            "_view_count": null,
            "_view_module": "@jupyter-widgets/base",
            "_view_module_version": "1.2.0",
            "_view_name": "LayoutView",
            "align_content": null,
            "align_items": null,
            "align_self": null,
            "border": null,
            "bottom": null,
            "display": null,
            "flex": null,
            "flex_flow": null,
            "grid_area": null,
            "grid_auto_columns": null,
            "grid_auto_flow": null,
            "grid_auto_rows": null,
            "grid_column": null,
            "grid_gap": null,
            "grid_row": null,
            "grid_template_areas": null,
            "grid_template_columns": null,
            "grid_template_rows": null,
            "height": null,
            "justify_content": null,
            "justify_items": null,
            "left": null,
            "margin": null,
            "max_height": null,
            "max_width": null,
            "min_height": null,
            "min_width": null,
            "object_fit": null,
            "object_position": null,
            "order": null,
            "overflow": null,
            "overflow_x": null,
            "overflow_y": null,
            "padding": null,
            "right": null,
            "top": null,
            "visibility": null,
            "width": null
          }
        },
        "2e5985844ebe42749eec47a453e1883d": {
          "model_module": "@jupyter-widgets/base",
          "model_name": "LayoutModel",
          "model_module_version": "1.2.0",
          "state": {
            "_model_module": "@jupyter-widgets/base",
            "_model_module_version": "1.2.0",
            "_model_name": "LayoutModel",
            "_view_count": null,
            "_view_module": "@jupyter-widgets/base",
            "_view_module_version": "1.2.0",
            "_view_name": "LayoutView",
            "align_content": null,
            "align_items": null,
            "align_self": null,
            "border": null,
            "bottom": null,
            "display": null,
            "flex": null,
            "flex_flow": null,
            "grid_area": null,
            "grid_auto_columns": null,
            "grid_auto_flow": null,
            "grid_auto_rows": null,
            "grid_column": null,
            "grid_gap": null,
            "grid_row": null,
            "grid_template_areas": null,
            "grid_template_columns": null,
            "grid_template_rows": null,
            "height": null,
            "justify_content": null,
            "justify_items": null,
            "left": null,
            "margin": null,
            "max_height": null,
            "max_width": null,
            "min_height": null,
            "min_width": null,
            "object_fit": null,
            "object_position": null,
            "order": null,
            "overflow": null,
            "overflow_x": null,
            "overflow_y": null,
            "padding": null,
            "right": null,
            "top": null,
            "visibility": null,
            "width": null
          }
        },
        "fccae8b59b2e4b108b351f2530d314d3": {
          "model_module": "@jupyter-widgets/controls",
          "model_name": "DescriptionStyleModel",
          "model_module_version": "1.5.0",
          "state": {
            "_model_module": "@jupyter-widgets/controls",
            "_model_module_version": "1.5.0",
            "_model_name": "DescriptionStyleModel",
            "_view_count": null,
            "_view_module": "@jupyter-widgets/base",
            "_view_module_version": "1.2.0",
            "_view_name": "StyleView",
            "description_width": ""
          }
        },
        "0b04e499633d4695a67c17b4811afe28": {
          "model_module": "@jupyter-widgets/base",
          "model_name": "LayoutModel",
          "model_module_version": "1.2.0",
          "state": {
            "_model_module": "@jupyter-widgets/base",
            "_model_module_version": "1.2.0",
            "_model_name": "LayoutModel",
            "_view_count": null,
            "_view_module": "@jupyter-widgets/base",
            "_view_module_version": "1.2.0",
            "_view_name": "LayoutView",
            "align_content": null,
            "align_items": null,
            "align_self": null,
            "border": null,
            "bottom": null,
            "display": null,
            "flex": null,
            "flex_flow": null,
            "grid_area": null,
            "grid_auto_columns": null,
            "grid_auto_flow": null,
            "grid_auto_rows": null,
            "grid_column": null,
            "grid_gap": null,
            "grid_row": null,
            "grid_template_areas": null,
            "grid_template_columns": null,
            "grid_template_rows": null,
            "height": null,
            "justify_content": null,
            "justify_items": null,
            "left": null,
            "margin": null,
            "max_height": null,
            "max_width": null,
            "min_height": null,
            "min_width": null,
            "object_fit": null,
            "object_position": null,
            "order": null,
            "overflow": null,
            "overflow_x": null,
            "overflow_y": null,
            "padding": null,
            "right": null,
            "top": null,
            "visibility": null,
            "width": null
          }
        },
        "f58d1f47164b4f5cacc1447fca11326a": {
          "model_module": "@jupyter-widgets/controls",
          "model_name": "ProgressStyleModel",
          "model_module_version": "1.5.0",
          "state": {
            "_model_module": "@jupyter-widgets/controls",
            "_model_module_version": "1.5.0",
            "_model_name": "ProgressStyleModel",
            "_view_count": null,
            "_view_module": "@jupyter-widgets/base",
            "_view_module_version": "1.2.0",
            "_view_name": "StyleView",
            "bar_color": null,
            "description_width": ""
          }
        },
        "9e2135025c224ae4893edf901cc57e6a": {
          "model_module": "@jupyter-widgets/base",
          "model_name": "LayoutModel",
          "model_module_version": "1.2.0",
          "state": {
            "_model_module": "@jupyter-widgets/base",
            "_model_module_version": "1.2.0",
            "_model_name": "LayoutModel",
            "_view_count": null,
            "_view_module": "@jupyter-widgets/base",
            "_view_module_version": "1.2.0",
            "_view_name": "LayoutView",
            "align_content": null,
            "align_items": null,
            "align_self": null,
            "border": null,
            "bottom": null,
            "display": null,
            "flex": null,
            "flex_flow": null,
            "grid_area": null,
            "grid_auto_columns": null,
            "grid_auto_flow": null,
            "grid_auto_rows": null,
            "grid_column": null,
            "grid_gap": null,
            "grid_row": null,
            "grid_template_areas": null,
            "grid_template_columns": null,
            "grid_template_rows": null,
            "height": null,
            "justify_content": null,
            "justify_items": null,
            "left": null,
            "margin": null,
            "max_height": null,
            "max_width": null,
            "min_height": null,
            "min_width": null,
            "object_fit": null,
            "object_position": null,
            "order": null,
            "overflow": null,
            "overflow_x": null,
            "overflow_y": null,
            "padding": null,
            "right": null,
            "top": null,
            "visibility": null,
            "width": null
          }
        },
        "cea2c86b0ecb4a14843f491f548219a8": {
          "model_module": "@jupyter-widgets/controls",
          "model_name": "DescriptionStyleModel",
          "model_module_version": "1.5.0",
          "state": {
            "_model_module": "@jupyter-widgets/controls",
            "_model_module_version": "1.5.0",
            "_model_name": "DescriptionStyleModel",
            "_view_count": null,
            "_view_module": "@jupyter-widgets/base",
            "_view_module_version": "1.2.0",
            "_view_name": "StyleView",
            "description_width": ""
          }
        }
      }
    }
  },
  "nbformat": 4,
  "nbformat_minor": 5
}