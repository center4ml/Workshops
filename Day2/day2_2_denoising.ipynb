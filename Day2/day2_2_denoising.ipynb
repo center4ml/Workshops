{
 "cells": [
  {
   "cell_type": "markdown",
   "id": "straight-virgin",
   "metadata": {
    "id": "devoted-franchise"
   },
   "source": [
    "# Autoencoders: denoising"
   ]
  },
  {
   "cell_type": "markdown",
   "id": "massive-driving",
   "metadata": {
    "id": "lightweight-major"
   },
   "source": [
    "Type of neural network which typically aims to learn efficient representations (efficient coding) of the data.\n",
    "Usually autoencoders are trained in an unsupervised manner.\n",
    "\n",
    "\n",
    "### Applications\n",
    "1. Anomaly detection\n",
    "2. Dimensionality reduction\n",
    "3. Denoising\n",
    "4. ..."
   ]
  },
  {
   "cell_type": "markdown",
   "id": "patient-inspection",
   "metadata": {
    "id": "innovative-death"
   },
   "source": [
    "**Reconstruction**\n",
    "![Autoencoder](https://lilianweng.github.io/lil-log/assets/images/autoencoder-architecture.png)\n",
    "Source: https://lilianweng.github.io/lil-log/2018/08/12/from-autoencoder-to-beta-vae.html"
   ]
  },
  {
   "cell_type": "markdown",
   "id": "fuzzy-terrorist",
   "metadata": {
    "id": "little-million"
   },
   "source": [
    "**Denoising**\n",
    "![denoising](https://miro.medium.com/max/5160/1*SxwRp9i23OM0Up4sEze1QQ@2x.png)\n",
    "Source: https://www.kaggle.com/tarunkr/autoencoder-denoising-image-mnist-cifar10"
   ]
  },
  {
   "cell_type": "markdown",
   "id": "secondary-funds",
   "metadata": {
    "id": "dangerous-emperor"
   },
   "source": [
    "## Technical imports"
   ]
  },
  {
   "cell_type": "code",
   "execution_count": null,
   "id": "protective-dakota",
   "metadata": {
    "id": "southwest-outside"
   },
   "outputs": [],
   "source": [
    "import matplotlib.pyplot as plt\n",
    "import numpy as np"
   ]
  },
  {
   "cell_type": "markdown",
   "id": "confused-highway",
   "metadata": {
    "id": "available-springfield"
   },
   "source": [
    "## Data"
   ]
  },
  {
   "cell_type": "code",
   "execution_count": null,
   "id": "spoken-median",
   "metadata": {
    "id": "incredible-spanking"
   },
   "outputs": [],
   "source": [
    "import torch\n",
    "from torchvision import transforms\n",
    "from torchvision.datasets import MNIST, FashionMNIST"
   ]
  },
  {
   "cell_type": "code",
   "execution_count": null,
   "id": "roman-cleaners",
   "metadata": {
    "id": "banner-hurricane"
   },
   "outputs": [],
   "source": [
    "DATASETS_PATH = 'data' # path to directory where data are to be stored"
   ]
  },
  {
   "cell_type": "code",
   "execution_count": null,
   "id": "renewable-price",
   "metadata": {
    "id": "recorded-pledge"
   },
   "outputs": [],
   "source": [
    "transform = transforms.ToTensor()"
   ]
  },
  {
   "cell_type": "code",
   "execution_count": null,
   "id": "finnish-glenn",
   "metadata": {
    "colab": {
     "base_uri": "https://localhost:8080/",
     "height": 426,
     "referenced_widgets": [
      "18ac91af64904833bab922cf035e62e5",
      "0f03bbd72f7648f68880e46aec8949b2",
      "3669e62caaaf42458c7d8442a862aa8e",
      "6f435b01a7a442fa95f5fa4aad493bdd",
      "e5835df213ab4065a7487d14e223ce75",
      "d30171158ad84adc9ca8b4cdc23afb58",
      "ad609d70d66d4fe689347ace0b27f30f",
      "c4461c196ae44f20a59288e848deb7ce",
      "526441e055a0407a81bfe4443ad84221",
      "defc60f653e64417ad262c2910fc54d0",
      "8b2c3cfef2134978827d1ecadb4b7baf",
      "ee9d04fcd09f41ecbecfac39fc17b647",
      "3a4fbbe6647143c2806827e34e0e3c17",
      "ff567857c001444198d4bdcf0d2c4fbe",
      "4350dbe1c2534f46a799f213a37d3b3b",
      "f0fea69f875b4ebdadc0935a0618fe02",
      "947ba641fb2847e7a5f6672b45a3eca2",
      "a99a4e3e448445c9a22b5f9e2acb2de6",
      "6ed2d5446c364b41a4b2203fe5e72942",
      "461c8dd3a7ca4100b2d442615ce84a97",
      "ab16f6012ac143b7a56547a117da58d0",
      "26c7f14e0f174963a7a43468b550ee2f",
      "4d6411ee008a4eef9717abf60363da4e",
      "a72a8d7d79a147cba0e40abe1bb52740",
      "0d2bc5e676764281b6670514f7b1a596",
      "2916b4176b6648b08ce8d7ebaf78757a",
      "9264647187544665b43d20e8e7804f3b",
      "1415c8ee14394716ad2a9215db792c2e",
      "11a8f2273c694c95b1506ebcee0a87f3",
      "f75f9c4b1e4b48b7a9ca005fa7712bf1",
      "b77a467ac0d448ee9fc10ecbc04ee9fa",
      "09708f82892a4d75aa9bd06ccbaf02da",
      "4d8dba9318f0476a816334a6bae55cd0",
      "b9bd8dfc7bbc4947bf7702de087c252a",
      "de1b8602ffcf4a0f971a89bcd71fb23c",
      "65ee8afc24244656a37349f86fec0152",
      "fcc3f634cad4468a801458a457d201eb",
      "3cda9ad667be4741b8a43a5e4a1e39d4",
      "fa4e7050e1254d158f7d4adbbab04b38",
      "c4f506ba129c4966a308aed0ca67501a",
      "67a58a7cc149492cbfd85db91111a570",
      "fb66298257be4674b549698a684288d7",
      "2074474a847845f4bc7dabf802abd08c",
      "ee106f9325154cab8c35a9a8e4a15040"
     ]
    },
    "id": "signed-defeat",
    "outputId": "83d8dfb4-e759-4028-c3a5-e28cec0ea20e"
   },
   "outputs": [
    {
     "name": "stdout",
     "output_type": "stream",
     "text": [
      "Downloading http://yann.lecun.com/exdb/mnist/train-images-idx3-ubyte.gz\n",
      "Downloading http://yann.lecun.com/exdb/mnist/train-images-idx3-ubyte.gz to data/MNIST/raw/train-images-idx3-ubyte.gz\n"
     ]
    },
    {
     "data": {
      "application/vnd.jupyter.widget-view+json": {
       "model_id": "18ac91af64904833bab922cf035e62e5",
       "version_major": 2,
       "version_minor": 0
      },
      "text/plain": [
       "  0%|          | 0/9912422 [00:00<?, ?it/s]"
      ]
     },
     "metadata": {},
     "output_type": "display_data"
    },
    {
     "name": "stdout",
     "output_type": "stream",
     "text": [
      "Extracting data/MNIST/raw/train-images-idx3-ubyte.gz to data/MNIST/raw\n",
      "\n",
      "Downloading http://yann.lecun.com/exdb/mnist/train-labels-idx1-ubyte.gz\n",
      "Downloading http://yann.lecun.com/exdb/mnist/train-labels-idx1-ubyte.gz to data/MNIST/raw/train-labels-idx1-ubyte.gz\n"
     ]
    },
    {
     "data": {
      "application/vnd.jupyter.widget-view+json": {
       "model_id": "ee9d04fcd09f41ecbecfac39fc17b647",
       "version_major": 2,
       "version_minor": 0
      },
      "text/plain": [
       "  0%|          | 0/28881 [00:00<?, ?it/s]"
      ]
     },
     "metadata": {},
     "output_type": "display_data"
    },
    {
     "name": "stdout",
     "output_type": "stream",
     "text": [
      "Extracting data/MNIST/raw/train-labels-idx1-ubyte.gz to data/MNIST/raw\n",
      "\n",
      "Downloading http://yann.lecun.com/exdb/mnist/t10k-images-idx3-ubyte.gz\n",
      "Downloading http://yann.lecun.com/exdb/mnist/t10k-images-idx3-ubyte.gz to data/MNIST/raw/t10k-images-idx3-ubyte.gz\n"
     ]
    },
    {
     "data": {
      "application/vnd.jupyter.widget-view+json": {
       "model_id": "4d6411ee008a4eef9717abf60363da4e",
       "version_major": 2,
       "version_minor": 0
      },
      "text/plain": [
       "  0%|          | 0/1648877 [00:00<?, ?it/s]"
      ]
     },
     "metadata": {},
     "output_type": "display_data"
    },
    {
     "name": "stdout",
     "output_type": "stream",
     "text": [
      "Extracting data/MNIST/raw/t10k-images-idx3-ubyte.gz to data/MNIST/raw\n",
      "\n",
      "Downloading http://yann.lecun.com/exdb/mnist/t10k-labels-idx1-ubyte.gz\n",
      "Downloading http://yann.lecun.com/exdb/mnist/t10k-labels-idx1-ubyte.gz to data/MNIST/raw/t10k-labels-idx1-ubyte.gz\n"
     ]
    },
    {
     "data": {
      "application/vnd.jupyter.widget-view+json": {
       "model_id": "b9bd8dfc7bbc4947bf7702de087c252a",
       "version_major": 2,
       "version_minor": 0
      },
      "text/plain": [
       "  0%|          | 0/4542 [00:00<?, ?it/s]"
      ]
     },
     "metadata": {},
     "output_type": "display_data"
    },
    {
     "name": "stdout",
     "output_type": "stream",
     "text": [
      "Extracting data/MNIST/raw/t10k-labels-idx1-ubyte.gz to data/MNIST/raw\n",
      "\n"
     ]
    }
   ],
   "source": [
    "mnist_train = MNIST(DATASETS_PATH, train=True, download=True, transform=transform);\n",
    "mnist_test = MNIST(DATASETS_PATH, train=False, download=True, transform=transform);"
   ]
  },
  {
   "cell_type": "code",
   "execution_count": null,
   "id": "homeless-wireless",
   "metadata": {
    "id": "polar-template"
   },
   "outputs": [],
   "source": [
    "batch_size = 128\n",
    "mnist_train_dataloader = torch.utils.data.DataLoader(mnist_train, batch_size=batch_size, shuffle=True)\n",
    "mnist_test_dataloader = torch.utils.data.DataLoader(mnist_test, batch_size=batch_size, shuffle=False)"
   ]
  },
  {
   "cell_type": "code",
   "execution_count": null,
   "id": "broke-reviewer",
   "metadata": {
    "id": "burning-welcome"
   },
   "outputs": [],
   "source": [
    "img = mnist_train[0][0]"
   ]
  },
  {
   "cell_type": "markdown",
   "id": "immediate-bubble",
   "metadata": {
    "id": "allied-control"
   },
   "source": [
    "Salt and pepper transform:"
   ]
  },
  {
   "cell_type": "code",
   "execution_count": null,
   "id": "academic-chassis",
   "metadata": {
    "colab": {
     "base_uri": "https://localhost:8080/",
     "height": 282
    },
    "id": "closed-australia",
    "outputId": "b63fd3fb-f3e5-4e9d-ea89-f38e290d6b63"
   },
   "outputs": [
    {
     "data": {
      "text/plain": [
       "<matplotlib.image.AxesImage at 0x7ff6d53fbb50>"
      ]
     },
     "execution_count": 8,
     "metadata": {},
     "output_type": "execute_result"
    },
    {
     "data": {
      "image/png": "[encoded data removed]",
      "text/plain": [
       "<Figure size 432x288 with 1 Axes>"
      ]
     },
     "metadata": {
      "needs_background": "light"
     },
     "output_type": "display_data"
    }
   ],
   "source": [
    "plt.imshow(img[0])"
   ]
  },
  {
   "cell_type": "code",
   "execution_count": null,
   "id": "severe-guatemala",
   "metadata": {
    "colab": {
     "base_uri": "https://localhost:8080/"
    },
    "id": "portable-coordinator",
    "outputId": "9f3f3ff0-ada2-4213-fe05-a05270e1f8bb"
   },
   "outputs": [
    {
     "data": {
      "text/plain": [
       "torch.Size([1, 28, 28])"
      ]
     },
     "execution_count": 9,
     "metadata": {},
     "output_type": "execute_result"
    }
   ],
   "source": [
    "img.size()"
   ]
  },
  {
   "cell_type": "code",
   "execution_count": null,
   "id": "scientific-fitness",
   "metadata": {
    "id": "therapeutic-general"
   },
   "outputs": [],
   "source": [
    "batch = next(iter(mnist_train_dataloader))"
   ]
  },
  {
   "cell_type": "code",
   "execution_count": null,
   "id": "exposed-excess",
   "metadata": {
    "colab": {
     "base_uri": "https://localhost:8080/"
    },
    "id": "marine-veteran",
    "outputId": "368dcd12-a314-4ccf-cbdd-c573941e581b"
   },
   "outputs": [
    {
     "data": {
      "text/plain": [
       "torch.Size([128, 1, 28, 28])"
      ]
     },
     "execution_count": 11,
     "metadata": {},
     "output_type": "execute_result"
    }
   ],
   "source": [
    "batch[0].shape"
   ]
  },
  {
   "cell_type": "code",
   "execution_count": null,
   "id": "fossil-teacher",
   "metadata": {
    "colab": {
     "base_uri": "https://localhost:8080/",
     "height": 282
    },
    "id": "established-vinyl",
    "outputId": "a1475b5a-84a8-4ff5-963a-99ec73f51ca9"
   },
   "outputs": [
    {
     "data": {
      "text/plain": [
       "<matplotlib.image.AxesImage at 0x7ff6d4ccf990>"
      ]
     },
     "execution_count": 13,
     "metadata": {},
     "output_type": "execute_result"
    },
    {
     "data": {
      "image/png": "[encoded data removed]",
      "text/plain": [
       "<Figure size 432x288 with 1 Axes>"
      ]
     },
     "metadata": {
      "needs_background": "light"
     },
     "output_type": "display_data"
    }
   ],
   "source": [
    "plt.imshow(batch[0][0][0])"
   ]
  },
  {
   "cell_type": "code",
   "execution_count": null,
   "id": "fifty-trade",
   "metadata": {
    "id": "first-control"
   },
   "outputs": [],
   "source": [
    "def salt_and_pepper(img, noise):\n",
    "    \"\"\"img: tensor of size 1 x H x W\"\n",
    "    noise: salt and pepper fraction\"\"\"\n",
    "    # copy tensor\n",
    "    img_out = img.clone()\n",
    "    \n",
    "    N_pixels = img_out.shape[1] * img_out.shape[2]\n",
    "    # randomly sample indices for salt and pepper\n",
    "    indices_salt = np.random.choice(np.arange(N_pixels), int(0.5*noise*N_pixels))\n",
    "    indices_pepper = np.random.choice(np.arange(N_pixels), int(0.5*noise*N_pixels))\n",
    "    # apply salt and pepper\n",
    "    img_out[np.unravel_index(indices_salt, img_out.shape)] = 0.0\n",
    "    img_out[np.unravel_index(indices_pepper, img_out.shape)] = 1.0\n",
    "    return img_out"
   ]
  },
  {
   "cell_type": "code",
   "execution_count": null,
   "id": "attractive-glory",
   "metadata": {
    "colab": {
     "base_uri": "https://localhost:8080/",
     "height": 282
    },
    "id": "cheap-birmingham",
    "outputId": "00c67281-f3e5-49aa-d2f0-fa941378afd6"
   },
   "outputs": [
    {
     "data": {
      "text/plain": [
       "<matplotlib.image.AxesImage at 0x7ff6d4de0bd0>"
      ]
     },
     "execution_count": 16,
     "metadata": {},
     "output_type": "execute_result"
    },
    {
     "data": {
      "image/png": "[encoded data removed]",
      "text/plain": [
       "<Figure size 432x288 with 1 Axes>"
      ]
     },
     "metadata": {
      "needs_background": "light"
     },
     "output_type": "display_data"
    }
   ],
   "source": [
    "plt.imshow(salt_and_pepper(batch[0][0], 0.2)[0])"
   ]
  },
  {
   "cell_type": "code",
   "execution_count": null,
   "id": "proved-joseph",
   "metadata": {
    "id": "resistant-round"
   },
   "outputs": [],
   "source": [
    "class SaltPepper:\n",
    "    def __init__(self, noise):\n",
    "        self.noise = noise\n",
    "    \n",
    "    def __call__(self, img_or_batch):\n",
    "        if img_or_batch.ndim == 3:\n",
    "            is_image=True\n",
    "            img_or_batch = img_or_batch.unsqueeze(0) # produce \"batch\" of length 1\n",
    "        else:\n",
    "            is_image=False\n",
    "        \n",
    "        batch_out = img_or_batch.clone()\n",
    "    \n",
    "        N_pixels = batch_out.shape[0] * batch_out.shape[2] * batch_out.shape[3]\n",
    "        # randomly sample indices for salt and pepper\n",
    "        indices_salt = np.random.choice(np.arange(N_pixels), int(0.5*self.noise*N_pixels))\n",
    "        indices_pepper = np.random.choice(np.arange(N_pixels), int(0.5*self.noise*N_pixels))\n",
    "        # apply salt and pepper\n",
    "        batch_out[np.unravel_index(indices_salt, batch_out.shape)] = 0.0\n",
    "        batch_out[np.unravel_index(indices_pepper, batch_out.shape)] = 1.0\n",
    "        \n",
    "        if is_image:\n",
    "            return batch_out.squeeze(0) # return image shape\n",
    "    \n",
    "        return batch_out"
   ]
  },
  {
   "cell_type": "code",
   "execution_count": null,
   "id": "herbal-footwear",
   "metadata": {
    "id": "brilliant-expansion"
   },
   "outputs": [],
   "source": [
    "noise_level = 0.2\n",
    "salt_pepper_transform = SaltPepper(noise_level)"
   ]
  },
  {
   "cell_type": "code",
   "execution_count": null,
   "id": "affected-entrance",
   "metadata": {
    "colab": {
     "base_uri": "https://localhost:8080/",
     "height": 282
    },
    "id": "meaning-spotlight",
    "outputId": "508ea657-8170-4e30-9b89-0c7f3a2800ea"
   },
   "outputs": [
    {
     "data": {
      "text/plain": [
       "<matplotlib.image.AxesImage at 0x7ff6d4d6c2d0>"
      ]
     },
     "execution_count": 19,
     "metadata": {},
     "output_type": "execute_result"
    },
    {
     "data": {
      "image/png": "[encoded data removed]",
      "text/plain": [
       "<Figure size 432x288 with 1 Axes>"
      ]
     },
     "metadata": {
      "needs_background": "light"
     },
     "output_type": "display_data"
    }
   ],
   "source": [
    "plt.imshow(salt_pepper_transform(batch[0])[0][0], vmin=0, vmax=1)"
   ]
  },
  {
   "cell_type": "code",
   "execution_count": null,
   "id": "proved-estate",
   "metadata": {
    "colab": {
     "base_uri": "https://localhost:8080/",
     "height": 407
    },
    "id": "acute-anaheim",
    "outputId": "d39a07eb-bae5-45c8-dde7-047e053d8d1a"
   },
   "outputs": [
    {
     "data": {
      "image/png": "[encoded data removed]",
      "text/plain": [
       "<Figure size 1224x504 with 12 Axes>"
      ]
     },
     "metadata": {
      "needs_background": "light"
     },
     "output_type": "display_data"
    }
   ],
   "source": [
    "num_images = 6\n",
    "fig, axs = plt.subplots(ncols=num_images, nrows=2, figsize=(17,7))\n",
    "for i in range(num_images):\n",
    "    img, target = mnist_train[i]\n",
    "    axs[0][i].imshow(img[0])\n",
    "    axs[0][i].set_title(f'{mnist_train.classes[target]}')\n",
    "    axs[1][i].imshow(salt_pepper_transform(img)[0])\n",
    "    \n",
    "    "
   ]
  },
  {
   "cell_type": "markdown",
   "id": "greenhouse-fever",
   "metadata": {
    "id": "alternate-kenya"
   },
   "source": [
    "## Model"
   ]
  },
  {
   "cell_type": "code",
   "execution_count": null,
   "id": "certain-fence",
   "metadata": {
    "id": "norwegian-nylon"
   },
   "outputs": [],
   "source": [
    "import torch\n",
    "from torch import nn"
   ]
  },
  {
   "cell_type": "code",
   "execution_count": null,
   "id": "intense-happening",
   "metadata": {
    "id": "geographic-overall"
   },
   "outputs": [],
   "source": [
    "class Encoder_1hl(nn.Module):\n",
    "    def __init__(self, hidden_dim, latent_dim):\n",
    "        \"\"\"\n",
    "        hidden_dim: number of neurons in the hidden layer\n",
    "        latent_dim: number of latent space dimensions\n",
    "        \"\"\"\n",
    "        super().__init__()\n",
    "        self.net = nn.Sequential(\n",
    "            nn.Linear(28*28, hidden_dim),\n",
    "            nn.ReLU(),\n",
    "            nn.Linear(hidden_dim, latent_dim),\n",
    "            )\n",
    "\n",
    "    def forward(self, x):\n",
    "        x = self.net(x)\n",
    "        return x"
   ]
  },
  {
   "cell_type": "code",
   "execution_count": null,
   "id": "seeing-dryer",
   "metadata": {
    "id": "original-solid"
   },
   "outputs": [],
   "source": [
    "class Decoder_1hl(nn.Module):\n",
    "    def __init__(self, hidden_dim, latent_dim):\n",
    "        \"\"\"\n",
    "        hidden_dim: number of neurons in the hidden layer\n",
    "        latent_dim: number of latent space dimensions\n",
    "        \"\"\"\n",
    "        super().__init__()\n",
    "        self.net = nn.Sequential(\n",
    "            nn.Linear(latent_dim, hidden_dim),\n",
    "            nn.ReLU(),\n",
    "            nn.Linear(hidden_dim, 28*28),\n",
    "            nn.Sigmoid() # sigmoid function transforms input values (-inf, +inf) to output in range (0, 1)\n",
    "            )\n",
    "            \n",
    "\n",
    "    def forward(self, x):\n",
    "        x = self.net(x)\n",
    "        return x"
   ]
  },
  {
   "cell_type": "code",
   "execution_count": null,
   "id": "extraordinary-communications",
   "metadata": {
    "id": "enormous-vacation"
   },
   "outputs": [],
   "source": [
    "class Autoencoder_1hl(nn.Module):\n",
    "    def __init__(self, hidden_dim, latent_dim):\n",
    "        \"\"\"\n",
    "        hidden_dim: number of neurons in the hidden layer\n",
    "        latent_dim: number of latent space dimensions\n",
    "        \"\"\"\n",
    "        super().__init__()\n",
    "        self.encoder = Encoder_1hl(hidden_dim, latent_dim)\n",
    "        self.decoder = Decoder_1hl(hidden_dim, latent_dim)\n",
    "            \n",
    "    def forward(self, x):\n",
    "        input_shape = x.shape #batch_size, channels, height, width\n",
    "        x = x.view(input_shape[0], -1)\n",
    "        x = self.encoder(x)\n",
    "        x = self.decoder(x) \n",
    "        return x.view(input_shape)"
   ]
  },
  {
   "cell_type": "code",
   "execution_count": null,
   "id": "minute-generic",
   "metadata": {
    "id": "detected-strain"
   },
   "outputs": [],
   "source": [
    "hidden_dim = 64\n",
    "latent_dim = 12"
   ]
  },
  {
   "cell_type": "code",
   "execution_count": null,
   "id": "atlantic-tsunami",
   "metadata": {
    "id": "friendly-certificate"
   },
   "outputs": [],
   "source": [
    "autoencoder = Autoencoder_1hl(hidden_dim, latent_dim)"
   ]
  },
  {
   "cell_type": "markdown",
   "id": "dressed-treat",
   "metadata": {
    "id": "miniature-pride"
   },
   "source": [
    "## Training"
   ]
  },
  {
   "cell_type": "code",
   "execution_count": null,
   "id": "spare-cleveland",
   "metadata": {
    "id": "based-attendance"
   },
   "outputs": [],
   "source": [
    "distortion = SaltPepper(noise_level)"
   ]
  },
  {
   "cell_type": "code",
   "execution_count": null,
   "id": "hollywood-monitor",
   "metadata": {
    "colab": {
     "base_uri": "https://localhost:8080/",
     "height": 407
    },
    "id": "sNT1ynGYZFPW",
    "outputId": "14549575-5835-435c-b5e0-399f636d0884"
   },
   "outputs": [
    {
     "data": {
      "image/png": "[encoded data removed]",
      "text/plain": [
       "<Figure size 1224x504 with 12 Axes>"
      ]
     },
     "metadata": {
      "needs_background": "light"
     },
     "output_type": "display_data"
    }
   ],
   "source": [
    "x, y = next(iter(mnist_train_dataloader))\n",
    "x_distorted = distortion(x)\n",
    "num_images = 6\n",
    "fig, axs = plt.subplots(ncols=num_images, nrows=2, figsize=(17,7))\n",
    "for i in range(num_images):\n",
    "    axs[0][i].imshow(x[i][0])\n",
    "    axs[0][i].set_title(f'{mnist_train.classes[y[i]]}')\n",
    "    axs[1][i].imshow(x_distorted[i][0])\n"
   ]
  },
  {
   "cell_type": "code",
   "execution_count": 1,
   "id": "ecological-fever",
   "metadata": {},
   "outputs": [
    {
     "ename": "NameError",
     "evalue": "name 'torch' is not defined",
     "output_type": "error",
     "traceback": [
      "\u001b[1;31m---------------------------------------------------------------------------\u001b[0m",
      "\u001b[1;31mNameError\u001b[0m                                 Traceback (most recent call last)",
      "\u001b[1;32m<ipython-input-1-961b8ee4bf64>\u001b[0m in \u001b[0;36m<module>\u001b[1;34m\u001b[0m\n\u001b[1;32m----> 1\u001b[1;33m \u001b[0mdevice\u001b[0m \u001b[1;33m=\u001b[0m \u001b[1;34m'cuda'\u001b[0m \u001b[1;32mif\u001b[0m \u001b[0mtorch\u001b[0m\u001b[1;33m.\u001b[0m\u001b[0mcuda\u001b[0m\u001b[1;33m.\u001b[0m\u001b[0mis_available\u001b[0m\u001b[1;33m(\u001b[0m\u001b[1;33m)\u001b[0m \u001b[1;32melse\u001b[0m \u001b[1;34m'cpu'\u001b[0m \u001b[1;31m# if your machine supports cuda, it wil be used for computation\u001b[0m\u001b[1;33m\u001b[0m\u001b[1;33m\u001b[0m\u001b[0m\n\u001b[0m\u001b[0;32m      2\u001b[0m \u001b[0mautoencoder\u001b[0m\u001b[1;33m.\u001b[0m\u001b[0mto\u001b[0m\u001b[1;33m(\u001b[0m\u001b[0mdevice\u001b[0m\u001b[1;33m)\u001b[0m\u001b[1;33m.\u001b[0m\u001b[0mtrain\u001b[0m\u001b[1;33m(\u001b[0m\u001b[1;33m)\u001b[0m\u001b[1;33m;\u001b[0m\u001b[1;33m\u001b[0m\u001b[1;33m\u001b[0m\u001b[0m\n\u001b[0;32m      3\u001b[0m \u001b[0moptimizer\u001b[0m \u001b[1;33m=\u001b[0m \u001b[0mtorch\u001b[0m\u001b[1;33m.\u001b[0m\u001b[0moptim\u001b[0m\u001b[1;33m.\u001b[0m\u001b[0mAdamW\u001b[0m\u001b[1;33m(\u001b[0m\u001b[0mautoencoder\u001b[0m\u001b[1;33m.\u001b[0m\u001b[0mparameters\u001b[0m\u001b[1;33m(\u001b[0m\u001b[1;33m)\u001b[0m\u001b[1;33m,\u001b[0m \u001b[0mlr\u001b[0m\u001b[1;33m=\u001b[0m\u001b[1;36m1e-3\u001b[0m\u001b[1;33m)\u001b[0m\u001b[1;33m\u001b[0m\u001b[1;33m\u001b[0m\u001b[0m\n\u001b[0;32m      4\u001b[0m \u001b[0mcriterion\u001b[0m \u001b[1;33m=\u001b[0m \u001b[0mnn\u001b[0m\u001b[1;33m.\u001b[0m\u001b[0mMSELoss\u001b[0m\u001b[1;33m(\u001b[0m\u001b[1;33m)\u001b[0m\u001b[1;33m\u001b[0m\u001b[1;33m\u001b[0m\u001b[0m\n",
      "\u001b[1;31mNameError\u001b[0m: name 'torch' is not defined"
     ]
    }
   ],
   "source": [
    "device = 'cuda' if torch.cuda.is_available() else 'cpu' # if your machine supports cuda, it wil be used for computation\n",
    "autoencoder.to(device).train();\n",
    "optimizer = torch.optim.AdamW(autoencoder.parameters(), lr=1e-3)\n",
    "criterion = nn.MSELoss()"
   ]
  },
  {
   "cell_type": "markdown",
   "id": "spanish-phone",
   "metadata": {},
   "source": [
    "#### Your task\n",
    "Can you modify the training loop, so that the model will be train to reconstruct image before distortion?"
   ]
  },
  {
   "cell_type": "code",
   "execution_count": null,
   "id": "urban-syndicate",
   "metadata": {
    "colab": {
     "base_uri": "https://localhost:8080/"
    },
    "id": "international-denver",
    "outputId": "6eb36fde-898a-42ef-c295-c0654283d927"
   },
   "outputs": [
    {
     "name": "stdout",
     "output_type": "stream",
     "text": [
      "epoch 0, loss: 0.0239\n",
      "epoch 1, loss: 0.0236\n"
     ]
    }
   ],
   "source": [
    "num_epochs = 2\n",
    "\n",
    "history = [] #save losses from each epoch\n",
    "for i_epoch in range(num_epochs):\n",
    "    epoch_losses = []\n",
    "    for batch in mnist_train_dataloader:\n",
    "         # clear gradient from previous step\n",
    "        optimizer.zero_grad()\n",
    "        \n",
    "        x, y = batch\n",
    "        # your code here\n",
    "        ...\n",
    "        loss = ...\n",
    "        \n",
    "        # compute accumulated gradients\n",
    "        loss.backward()\n",
    "        \n",
    "        # perform parameter update based on current gradients\n",
    "        optimizer.step()\n",
    "        \n",
    "        # save loss\n",
    "        epoch_losses.append(loss.item()) #'item()' gets number from tensor. Similarly 'numpy()' returns numpy array copy of the tensor\n",
    "        \n",
    "        \n",
    "    epoch_loss = np.mean(epoch_losses)\n",
    "    print(f'epoch {i_epoch}, loss: {epoch_loss:0.4f}')\n",
    "    history.append({'loss': epoch_loss})\n",
    "        "
   ]
  },
  {
   "cell_type": "code",
   "execution_count": null,
   "id": "attached-victor",
   "metadata": {
    "id": "north-florist"
   },
   "outputs": [],
   "source": [
    "@torch.no_grad()\n",
    "def evaluate_model(model, dataloader, criterion, distortion, device=device):\n",
    "    losses = []\n",
    "    model = model.eval()\n",
    "    for batch in dataloader:  \n",
    "        x, y = batch\n",
    "        x = x.to(device)\n",
    "        x_hat = autoencoder(distortion(x))\n",
    "        loss = criterion(x, x_hat)\n",
    "        losses.append(loss.item())\n",
    "    final_loss = np.mean(losses)\n",
    "    return final_loss"
   ]
  },
  {
   "cell_type": "markdown",
   "id": "comparative-abuse",
   "metadata": {
    "id": "impossible-accreditation"
   },
   "source": [
    "Test if your function works"
   ]
  },
  {
   "cell_type": "code",
   "execution_count": null,
   "id": "heard-appointment",
   "metadata": {
    "colab": {
     "base_uri": "https://localhost:8080/"
    },
    "id": "applied-inspector",
    "outputId": "b652f819-9462-4b20-93dd-45c97af3a60c"
   },
   "outputs": [
    {
     "name": "stdout",
     "output_type": "stream",
     "text": [
      "test loss: 0.0318\n"
     ]
    }
   ],
   "source": [
    "test_loss = evaluate_model(autoencoder, mnist_test_dataloader, criterion, distortion)\n",
    "print(f'test loss: {test_loss:0.4f}')"
   ]
  },
  {
   "cell_type": "markdown",
   "id": "integral-marble",
   "metadata": {
    "id": "filled-handling"
   },
   "source": [
    "Now we are ready to implement testset evaluation and do the proper traing of the model. For clarity, let's create a fresh autoencoder"
   ]
  },
  {
   "cell_type": "code",
   "execution_count": null,
   "id": "operational-aquarium",
   "metadata": {
    "id": "focal-guide"
   },
   "outputs": [],
   "source": [
    "hidden_dim = 64\n",
    "latent_dim = 12\n",
    "autoencoder = Autoencoder_1hl(hidden_dim, latent_dim)\n",
    "autoencoder.to(device).train();\n",
    "\n",
    "optimizer = torch.optim.AdamW(autoencoder.parameters(), lr=1e-3)"
   ]
  },
  {
   "cell_type": "code",
   "execution_count": null,
   "id": "outstanding-canada",
   "metadata": {
    "colab": {
     "base_uri": "https://localhost:8080/"
    },
    "id": "stable-butter",
    "outputId": "9619ffc9-6112-4d90-c88a-0afb51fec891"
   },
   "outputs": [
    {
     "name": "stdout",
     "output_type": "stream",
     "text": [
      "epoch 0, train loss: 0.0629, test loss 0.0415\n",
      "epoch 1, train loss: 0.0355, test loss 0.0313\n",
      "epoch 2, train loss: 0.0304, test loss 0.0287\n",
      "epoch 3, train loss: 0.0284, test loss 0.0271\n",
      "epoch 4, train loss: 0.0271, test loss 0.0261\n",
      "epoch 5, train loss: 0.0261, test loss 0.0253\n",
      "epoch 6, train loss: 0.0254, test loss 0.0247\n",
      "epoch 7, train loss: 0.0249, test loss 0.0241\n",
      "epoch 8, train loss: 0.0245, test loss 0.0238\n",
      "epoch 9, train loss: 0.0242, test loss 0.0236\n"
     ]
    }
   ],
   "source": [
    "num_epochs = 10\n",
    "\n",
    "history = [] #save losses from each epoch\n",
    "for i_epoch in range(num_epochs):\n",
    "    epoch_losses = []\n",
    "    for batch in mnist_train_dataloader:\n",
    "         # clear gradient from previous step\n",
    "        optimizer.zero_grad()\n",
    "        \n",
    "        x, y = batch\n",
    "        x = x.to(device)\n",
    "        x_hat = autoencoder(distortion(x))\n",
    "        loss = criterion(x, x_hat)\n",
    "        \n",
    "        # compute accumulated gradients\n",
    "        loss.backward()\n",
    "        \n",
    "        # perform parameter update based on current gradients\n",
    "        optimizer.step()\n",
    "        \n",
    "        # save loss\n",
    "        epoch_losses.append(loss.item()) #'item()' gets number from tensor. Similarly 'numpy()' returns numpy array copy of the tensor\n",
    "        \n",
    "        \n",
    "    epoch_loss = np.mean(epoch_losses)\n",
    "    test_loss = evaluate_model(autoencoder, mnist_test_dataloader, criterion, distortion)\n",
    "    autoencoder.train() # if \"evaluate_model\" switches the model to 'eval' mode, switch it back 'train'\n",
    "    print(f'epoch {i_epoch}, train loss: {epoch_loss:0.4f}, test loss {test_loss:0.4f}')\n",
    "    history.append({'train loss': epoch_loss, 'test loss': test_loss})\n",
    "        "
   ]
  },
  {
   "cell_type": "code",
   "execution_count": null,
   "id": "practical-vegetation",
   "metadata": {
    "colab": {
     "base_uri": "https://localhost:8080/",
     "height": 313
    },
    "id": "selective-nowhere",
    "outputId": "72c393db-2fb9-4bad-d498-ad3a5d588c7f"
   },
   "outputs": [
    {
     "data": {
      "text/plain": [
       "<matplotlib.legend.Legend at 0x7ff6d4a6f710>"
      ]
     },
     "execution_count": 33,
     "metadata": {},
     "output_type": "execute_result"
    },
    {
     "data": {
      "image/png": "[encoded data removed]",
      "text/plain": [
       "<Figure size 432x288 with 1 Axes>"
      ]
     },
     "metadata": {
      "needs_background": "light"
     },
     "output_type": "display_data"
    }
   ],
   "source": [
    "plt.plot([entry['train loss'] for entry in history], label='train loss')\n",
    "plt.plot([entry['test loss'] for entry in history], label='test loss')\n",
    "plt.title('losses');\n",
    "plt.xlabel('epoch')\n",
    "plt.ylabel('loss')\n",
    "plt.legend()"
   ]
  },
  {
   "cell_type": "markdown",
   "id": "sealed-registrar",
   "metadata": {
    "id": "naval-sleeping"
   },
   "source": [
    "For inference on small samples, we can use CPU - it allows to not care about 'cuda' stuff. If the models or images are large, better stay with GPU."
   ]
  },
  {
   "cell_type": "code",
   "execution_count": null,
   "id": "tamil-campaign",
   "metadata": {
    "id": "wrapped-northern"
   },
   "outputs": [],
   "source": [
    "autoencoder.to('cpu').eval();"
   ]
  },
  {
   "cell_type": "code",
   "execution_count": null,
   "id": "closing-seating",
   "metadata": {
    "id": "assisted-cruise"
   },
   "outputs": [],
   "source": [
    "def reconstruct_image(img, model):\n",
    "    with torch.no_grad():\n",
    "        return model(img.unsqueeze(0))[0]"
   ]
  },
  {
   "cell_type": "code",
   "execution_count": null,
   "id": "charming-bolivia",
   "metadata": {
    "id": "worst-establishment"
   },
   "outputs": [],
   "source": [
    "img, target = mnist_test[0]\n",
    "img_distorted = distortion(img.unsqueeze(0)).squeeze(0)\n",
    "reconstruction = reconstruct_image(img_distorted, autoencoder)"
   ]
  },
  {
   "cell_type": "code",
   "execution_count": null,
   "id": "hidden-complexity",
   "metadata": {
    "colab": {
     "base_uri": "https://localhost:8080/",
     "height": 1000
    },
    "id": "eastern-battlefield",
    "outputId": "3c7e148e-94b6-461b-bbf1-b79243287262"
   },
   "outputs": [
    {
     "data": {
      "image/png": "[encoded data removed]",
      "text/plain": [
       "<Figure size 432x288 with 3 Axes>"
      ]
     },
     "metadata": {
      "needs_background": "light"
     },
     "output_type": "display_data"
    },
    {
     "data": {
      "image/png": "[encoded data removed]",
      "text/plain": [
       "<Figure size 432x288 with 3 Axes>"
      ]
     },
     "metadata": {
      "needs_background": "light"
     },
     "output_type": "display_data"
    },
    {
     "data": {
      "image/png": "[encoded data removed]",
      "text/plain": [
       "<Figure size 432x288 with 3 Axes>"
      ]
     },
     "metadata": {
      "needs_background": "light"
     },
     "output_type": "display_data"
    },
    {
     "data": {
      "image/png": "[encoded data removed]",
      "text/plain": [
       "<Figure size 432x288 with 3 Axes>"
      ]
     },
     "metadata": {
      "needs_background": "light"
     },
     "output_type": "display_data"
    },
    {
     "data": {
      "image/png": "[encoded data removed]",
      "text/plain": [
       "<Figure size 432x288 with 3 Axes>"
      ]
     },
     "metadata": {
      "needs_background": "light"
     },
     "output_type": "display_data"
    },
    {
     "data": {
      "image/png": "[encoded data removed]",
      "text/plain": [
       "<Figure size 432x288 with 3 Axes>"
      ]
     },
     "metadata": {
      "needs_background": "light"
     },
     "output_type": "display_data"
    },
    {
     "data": {
      "image/png": "[encoded data removed]",
      "text/plain": [
       "<Figure size 432x288 with 3 Axes>"
      ]
     },
     "metadata": {
      "needs_background": "light"
     },
     "output_type": "display_data"
    },
    {
     "data": {
      "image/png": "[encoded data removed]",
      "text/plain": [
       "<Figure size 432x288 with 3 Axes>"
      ]
     },
     "metadata": {
      "needs_background": "light"
     },
     "output_type": "display_data"
    },
    {
     "data": {
      "image/png": "[encoded data removed]",
      "text/plain": [
       "<Figure size 432x288 with 3 Axes>"
      ]
     },
     "metadata": {
      "needs_background": "light"
     },
     "output_type": "display_data"
    },
    {
     "data": {
      "image/png": "[encoded data removed]",
      "text/plain": [
       "<Figure size 432x288 with 3 Axes>"
      ]
     },
     "metadata": {
      "needs_background": "light"
     },
     "output_type": "display_data"
    }
   ],
   "source": [
    "for i in range(10):\n",
    "    img, target = mnist_test[i]\n",
    "    img_distorted = distortion(img.unsqueeze(0)).squeeze(0)\n",
    "    reconstruction = reconstruct_image(img_distorted, autoencoder)\n",
    "    fig, axs = plt.subplots(ncols=3)\n",
    "    axs[0].imshow(img[0], vmin=0, vmax=1)\n",
    "    axs[0].set_title('original')\n",
    "    axs[1].imshow(img_distorted[0], vmin=0, vmax=1)\n",
    "    axs[1].set_title('distorted')\n",
    "    axs[2].imshow(reconstruction[0], vmin=0, vmax=1)\n",
    "    axs[2].set_title('reconstruction')"
   ]
  },
  {
   "cell_type": "markdown",
   "id": "surprising-survivor",
   "metadata": {
    "id": "pleased-painting"
   },
   "source": [
    "## Robustness to noise"
   ]
  },
  {
   "cell_type": "code",
   "execution_count": null,
   "id": "perfect-alexander",
   "metadata": {
    "id": "bacterial-basis"
   },
   "outputs": [],
   "source": [
    "noise_levels = [0.0, 0.1, 0.2, 0.3, 0.4, 0.5]"
   ]
  },
  {
   "cell_type": "code",
   "execution_count": null,
   "id": "optical-woman",
   "metadata": {
    "id": "celtic-origin"
   },
   "outputs": [],
   "source": [
    "autoencoder = autoencoder.to(device);"
   ]
  },
  {
   "cell_type": "code",
   "execution_count": null,
   "id": "statutory-stations",
   "metadata": {
    "id": "third-roads"
   },
   "outputs": [],
   "source": [
    "loss_for_noise = {}\n",
    "for noise_level in noise_levels:\n",
    "    distortion = SaltPepper(noise_level)\n",
    "    loss_for_noise[noise_level] = evaluate_model(autoencoder, mnist_test_dataloader, criterion, distortion)"
   ]
  },
  {
   "cell_type": "code",
   "execution_count": null,
   "id": "significant-psychiatry",
   "metadata": {
    "colab": {
     "base_uri": "https://localhost:8080/"
    },
    "id": "lonely-revolution",
    "outputId": "e961b6f0-3c96-48ce-f544-b22cc0ae236e"
   },
   "outputs": [
    {
     "name": "stdout",
     "output_type": "stream",
     "text": [
      "noise: 0.0, loss: 0.0220\n",
      "noise: 0.1, loss: 0.0221\n",
      "noise: 0.2, loss: 0.0231\n",
      "noise: 0.3, loss: 0.0252\n",
      "noise: 0.4, loss: 0.0284\n",
      "noise: 0.5, loss: 0.0328\n"
     ]
    }
   ],
   "source": [
    "for noise_level, loss in loss_for_noise.items():\n",
    "    print(f'noise: {noise_level}, loss: {loss:0.4f}')"
   ]
  },
  {
   "cell_type": "code",
   "execution_count": null,
   "id": "hearing-growth",
   "metadata": {
    "colab": {
     "base_uri": "https://localhost:8080/",
     "height": 279
    },
    "id": "purple-consortium",
    "outputId": "3f4ecedc-70ad-4edc-e93c-91398974aeb6"
   },
   "outputs": [
    {
     "data": {
      "image/png": "[encoded data removed]",
      "text/plain": [
       "<Figure size 432x288 with 1 Axes>"
      ]
     },
     "metadata": {
      "needs_background": "light"
     },
     "output_type": "display_data"
    }
   ],
   "source": [
    "plt.plot(noise_levels, [loss_for_noise[noise] for noise in noise_levels]);\n",
    "plt.xlabel('noise level');\n",
    "plt.ylabel('loss');"
   ]
  },
  {
   "cell_type": "markdown",
   "id": "young-inquiry",
   "metadata": {
    "id": "1mlfv1mpazea"
   },
   "source": [
    "Now let's try robustness to Gaussian noise, for which the model wasn't trained for"
   ]
  },
  {
   "cell_type": "code",
   "execution_count": null,
   "id": "underlying-proof",
   "metadata": {
    "id": "valued-digit"
   },
   "outputs": [],
   "source": [
    "class GaussianNoise:\n",
    "    def __init__(self, noise):\n",
    "        self.noise = noise\n",
    "    \n",
    "    def __call__(self, img_or_batch):\n",
    "        if img_or_batch.ndim == 3:\n",
    "            is_image=True\n",
    "            img_or_batch = img_or_batch.unsqueeze(0) # produce \"batch\" of length 1\n",
    "        else:\n",
    "            is_image=False\n",
    "        \n",
    "        batch_out = img_or_batch.clone()\n",
    "        \n",
    "        noise = torch.randn(batch_out.shape) * self.noise #create noise sampled from normal distribution\n",
    "        \n",
    "        batch_out = batch_out + noise.to(batch_out) # add noise\n",
    "        batch_out = torch.clip(batch_out, 0, 1) #keep values between 0 and 1\n",
    "        \n",
    "        if is_image:\n",
    "            return batch_out.squeeze(0) # return image shape\n",
    "    \n",
    "        return batch_out\n",
    "    "
   ]
  },
  {
   "cell_type": "markdown",
   "id": "central-butterfly",
   "metadata": {
    "id": "quick-tanzania"
   },
   "source": [
    "Test Gaussian distortion:"
   ]
  },
  {
   "cell_type": "code",
   "execution_count": null,
   "id": "local-remedy",
   "metadata": {
    "id": "married-modem"
   },
   "outputs": [],
   "source": [
    "gaussian_distorition = GaussianNoise(0.1)\n",
    "batch = next(iter(mnist_train_dataloader))"
   ]
  },
  {
   "cell_type": "code",
   "execution_count": null,
   "id": "standing-yield",
   "metadata": {
    "id": "fuzzy-prerequisite"
   },
   "outputs": [],
   "source": [
    "img = batch[0][0]\n",
    "distorted_image = gaussian_distorition(img)"
   ]
  },
  {
   "cell_type": "code",
   "execution_count": null,
   "id": "chief-quarter",
   "metadata": {
    "colab": {
     "base_uri": "https://localhost:8080/",
     "height": 218
    },
    "id": "focused-diary",
    "outputId": "ac963749-e4b7-41a0-d783-1587c0fec34b"
   },
   "outputs": [
    {
     "data": {
      "text/plain": [
       "<matplotlib.image.AxesImage at 0x7ff6cf15a650>"
      ]
     },
     "execution_count": 54,
     "metadata": {},
     "output_type": "execute_result"
    },
    {
     "data": {
      "image/png": "[encoded data removed]",
      "text/plain": [
       "<Figure size 432x288 with 2 Axes>"
      ]
     },
     "metadata": {
      "needs_background": "light"
     },
     "output_type": "display_data"
    }
   ],
   "source": [
    "fig, (ax1, ax2) = plt.subplots(ncols=2)\n",
    "ax1.imshow(img[0])\n",
    "ax2.imshow(distorted_image[0])"
   ]
  },
  {
   "cell_type": "code",
   "execution_count": null,
   "id": "pleasant-garbage",
   "metadata": {
    "id": "terminal-ideal"
   },
   "outputs": [],
   "source": [
    "gaussian_loss_for_noise = {}\n",
    "for noise_level in noise_levels:\n",
    "    distortion = GaussianNoise(noise_level)\n",
    "    gaussian_loss_for_noise[noise_level] = evaluate_model(autoencoder, mnist_test_dataloader, criterion, distortion)"
   ]
  },
  {
   "cell_type": "code",
   "execution_count": null,
   "id": "charming-helen",
   "metadata": {
    "colab": {
     "base_uri": "https://localhost:8080/",
     "height": 295
    },
    "id": "protected-religious",
    "outputId": "10ff2d5e-c9b2-4c91-f1db-ccb91fcf3929"
   },
   "outputs": [
    {
     "data": {
      "image/png": "[encoded data removed]",
      "text/plain": [
       "<Figure size 432x288 with 1 Axes>"
      ]
     },
     "metadata": {
      "needs_background": "light"
     },
     "output_type": "display_data"
    }
   ],
   "source": [
    "plt.plot(noise_levels, [loss_for_noise[noise] for noise in noise_levels], label='salt&pepper');\n",
    "plt.plot(noise_levels, [gaussian_loss_for_noise[noise] for noise in noise_levels], label='Gaussian');\n",
    "plt.xlabel('noise level');\n",
    "plt.ylabel('loss');\n",
    "plt.title('loss for Gaussian noise');\n",
    "plt.legend();"
   ]
  },
  {
   "cell_type": "code",
   "execution_count": null,
   "id": "analyzed-wings",
   "metadata": {},
   "outputs": [],
   "source": []
  }
 ],
 "metadata": {
  "colab": {
   "collapsed_sections": [],
   "name": "day2_2_denoising.ipynb",
   "provenance": []
  },
  "kernelspec": {
   "display_name": "Python 3",
   "language": "python",
   "name": "python3"
  },
  "language_info": {
   "codemirror_mode": {
    "name": "ipython",
    "version": 3
   },
   "file_extension": ".py",
   "mimetype": "text/x-python",
   "name": "python",
   "nbconvert_exporter": "python",
   "pygments_lexer": "ipython3",
   "version": "3.7.3"
  },
  "widgets": {
   "application/vnd.jupyter.widget-state+json": {
    "09708f82892a4d75aa9bd06ccbaf02da": {
     "model_module": "@jupyter-widgets/controls",
     "model_module_version": "1.5.0",
     "model_name": "DescriptionStyleModel",
     "state": {
      "_model_module": "@jupyter-widgets/controls",
      "_model_module_version": "1.5.0",
      "_model_name": "DescriptionStyleModel",
      "_view_count": null,
      "_view_module": "@jupyter-widgets/base",
      "_view_module_version": "1.2.0",
      "_view_name": "StyleView",
      "description_width": ""
     }
    },
    "0d2bc5e676764281b6670514f7b1a596": {
     "model_module": "@jupyter-widgets/controls",
     "model_module_version": "1.5.0",
     "model_name": "HTMLModel",
     "state": {
      "_dom_classes": [],
      "_model_module": "@jupyter-widgets/controls",
      "_model_module_version": "1.5.0",
      "_model_name": "HTMLModel",
      "_view_count": null,
      "_view_module": "@jupyter-widgets/controls",
      "_view_module_version": "1.5.0",
      "_view_name": "HTMLView",
      "description": "",
      "description_tooltip": null,
      "layout": "IPY_MODEL_11a8f2273c694c95b1506ebcee0a87f3",
      "placeholder": "​",
      "style": "IPY_MODEL_1415c8ee14394716ad2a9215db792c2e",
      "value": ""
     }
    },
    "0f03bbd72f7648f68880e46aec8949b2": {
     "model_module": "@jupyter-widgets/base",
     "model_module_version": "1.2.0",
     "model_name": "LayoutModel",
     "state": {
      "_model_module": "@jupyter-widgets/base",
      "_model_module_version": "1.2.0",
      "_model_name": "LayoutModel",
      "_view_count": null,
      "_view_module": "@jupyter-widgets/base",
      "_view_module_version": "1.2.0",
      "_view_name": "LayoutView",
      "align_content": null,
      "align_items": null,
      "align_self": null,
      "border": null,
      "bottom": null,
      "display": null,
      "flex": null,
      "flex_flow": null,
      "grid_area": null,
      "grid_auto_columns": null,
      "grid_auto_flow": null,
      "grid_auto_rows": null,
      "grid_column": null,
      "grid_gap": null,
      "grid_row": null,
      "grid_template_areas": null,
      "grid_template_columns": null,
      "grid_template_rows": null,
      "height": null,
      "justify_content": null,
      "justify_items": null,
      "left": null,
      "margin": null,
      "max_height": null,
      "max_width": null,
      "min_height": null,
      "min_width": null,
      "object_fit": null,
      "object_position": null,
      "order": null,
      "overflow": null,
      "overflow_x": null,
      "overflow_y": null,
      "padding": null,
      "right": null,
      "top": null,
      "visibility": null,
      "width": null
     }
    },
    "11a8f2273c694c95b1506ebcee0a87f3": {
     "model_module": "@jupyter-widgets/base",
     "model_module_version": "1.2.0",
     "model_name": "LayoutModel",
     "state": {
      "_model_module": "@jupyter-widgets/base",
      "_model_module_version": "1.2.0",
      "_model_name": "LayoutModel",
      "_view_count": null,
      "_view_module": "@jupyter-widgets/base",
      "_view_module_version": "1.2.0",
      "_view_name": "LayoutView",
      "align_content": null,
      "align_items": null,
      "align_self": null,
      "border": null,
      "bottom": null,
      "display": null,
      "flex": null,
      "flex_flow": null,
      "grid_area": null,
      "grid_auto_columns": null,
      "grid_auto_flow": null,
      "grid_auto_rows": null,
      "grid_column": null,
      "grid_gap": null,
      "grid_row": null,
      "grid_template_areas": null,
      "grid_template_columns": null,
      "grid_template_rows": null,
      "height": null,
      "justify_content": null,
      "justify_items": null,
      "left": null,
      "margin": null,
      "max_height": null,
      "max_width": null,
      "min_height": null,
      "min_width": null,
      "object_fit": null,
      "object_position": null,
      "order": null,
      "overflow": null,
      "overflow_x": null,
      "overflow_y": null,
      "padding": null,
      "right": null,
      "top": null,
      "visibility": null,
      "width": null
     }
    },
    "1415c8ee14394716ad2a9215db792c2e": {
     "model_module": "@jupyter-widgets/controls",
     "model_module_version": "1.5.0",
     "model_name": "DescriptionStyleModel",
     "state": {
      "_model_module": "@jupyter-widgets/controls",
      "_model_module_version": "1.5.0",
      "_model_name": "DescriptionStyleModel",
      "_view_count": null,
      "_view_module": "@jupyter-widgets/base",
      "_view_module_version": "1.2.0",
      "_view_name": "StyleView",
      "description_width": ""
     }
    },
    "18ac91af64904833bab922cf035e62e5": {
     "model_module": "@jupyter-widgets/controls",
     "model_module_version": "1.5.0",
     "model_name": "HBoxModel",
     "state": {
      "_dom_classes": [],
      "_model_module": "@jupyter-widgets/controls",
      "_model_module_version": "1.5.0",
      "_model_name": "HBoxModel",
      "_view_count": null,
      "_view_module": "@jupyter-widgets/controls",
      "_view_module_version": "1.5.0",
      "_view_name": "HBoxView",
      "box_style": "",
      "children": [
       "IPY_MODEL_3669e62caaaf42458c7d8442a862aa8e",
       "IPY_MODEL_6f435b01a7a442fa95f5fa4aad493bdd",
       "IPY_MODEL_e5835df213ab4065a7487d14e223ce75"
      ],
      "layout": "IPY_MODEL_0f03bbd72f7648f68880e46aec8949b2"
     }
    },
    "2074474a847845f4bc7dabf802abd08c": {
     "model_module": "@jupyter-widgets/controls",
     "model_module_version": "1.5.0",
     "model_name": "DescriptionStyleModel",
     "state": {
      "_model_module": "@jupyter-widgets/controls",
      "_model_module_version": "1.5.0",
      "_model_name": "DescriptionStyleModel",
      "_view_count": null,
      "_view_module": "@jupyter-widgets/base",
      "_view_module_version": "1.2.0",
      "_view_name": "StyleView",
      "description_width": ""
     }
    },
    "26c7f14e0f174963a7a43468b550ee2f": {
     "model_module": "@jupyter-widgets/base",
     "model_module_version": "1.2.0",
     "model_name": "LayoutModel",
     "state": {
      "_model_module": "@jupyter-widgets/base",
      "_model_module_version": "1.2.0",
      "_model_name": "LayoutModel",
      "_view_count": null,
      "_view_module": "@jupyter-widgets/base",
      "_view_module_version": "1.2.0",
      "_view_name": "LayoutView",
      "align_content": null,
      "align_items": null,
      "align_self": null,
      "border": null,
      "bottom": null,
      "display": null,
      "flex": null,
      "flex_flow": null,
      "grid_area": null,
      "grid_auto_columns": null,
      "grid_auto_flow": null,
      "grid_auto_rows": null,
      "grid_column": null,
      "grid_gap": null,
      "grid_row": null,
      "grid_template_areas": null,
      "grid_template_columns": null,
      "grid_template_rows": null,
      "height": null,
      "justify_content": null,
      "justify_items": null,
      "left": null,
      "margin": null,
      "max_height": null,
      "max_width": null,
      "min_height": null,
      "min_width": null,
      "object_fit": null,
      "object_position": null,
      "order": null,
      "overflow": null,
      "overflow_x": null,
      "overflow_y": null,
      "padding": null,
      "right": null,
      "top": null,
      "visibility": null,
      "width": null
     }
    },
    "2916b4176b6648b08ce8d7ebaf78757a": {
     "model_module": "@jupyter-widgets/controls",
     "model_module_version": "1.5.0",
     "model_name": "FloatProgressModel",
     "state": {
      "_dom_classes": [],
      "_model_module": "@jupyter-widgets/controls",
      "_model_module_version": "1.5.0",
      "_model_name": "FloatProgressModel",
      "_view_count": null,
      "_view_module": "@jupyter-widgets/controls",
      "_view_module_version": "1.5.0",
      "_view_name": "ProgressView",
      "bar_style": "success",
      "description": "",
      "description_tooltip": null,
      "layout": "IPY_MODEL_b77a467ac0d448ee9fc10ecbc04ee9fa",
      "max": 1648877,
      "min": 0,
      "orientation": "horizontal",
      "style": "IPY_MODEL_f75f9c4b1e4b48b7a9ca005fa7712bf1",
      "value": 1648877
     }
    },
    "3669e62caaaf42458c7d8442a862aa8e": {
     "model_module": "@jupyter-widgets/controls",
     "model_module_version": "1.5.0",
     "model_name": "HTMLModel",
     "state": {
      "_dom_classes": [],
      "_model_module": "@jupyter-widgets/controls",
      "_model_module_version": "1.5.0",
      "_model_name": "HTMLModel",
      "_view_count": null,
      "_view_module": "@jupyter-widgets/controls",
      "_view_module_version": "1.5.0",
      "_view_name": "HTMLView",
      "description": "",
      "description_tooltip": null,
      "layout": "IPY_MODEL_ad609d70d66d4fe689347ace0b27f30f",
      "placeholder": "​",
      "style": "IPY_MODEL_d30171158ad84adc9ca8b4cdc23afb58",
      "value": ""
     }
    },
    "3a4fbbe6647143c2806827e34e0e3c17": {
     "model_module": "@jupyter-widgets/base",
     "model_module_version": "1.2.0",
     "model_name": "LayoutModel",
     "state": {
      "_model_module": "@jupyter-widgets/base",
      "_model_module_version": "1.2.0",
      "_model_name": "LayoutModel",
      "_view_count": null,
      "_view_module": "@jupyter-widgets/base",
      "_view_module_version": "1.2.0",
      "_view_name": "LayoutView",
      "align_content": null,
      "align_items": null,
      "align_self": null,
      "border": null,
      "bottom": null,
      "display": null,
      "flex": null,
      "flex_flow": null,
      "grid_area": null,
      "grid_auto_columns": null,
      "grid_auto_flow": null,
      "grid_auto_rows": null,
      "grid_column": null,
      "grid_gap": null,
      "grid_row": null,
      "grid_template_areas": null,
      "grid_template_columns": null,
      "grid_template_rows": null,
      "height": null,
      "justify_content": null,
      "justify_items": null,
      "left": null,
      "margin": null,
      "max_height": null,
      "max_width": null,
      "min_height": null,
      "min_width": null,
      "object_fit": null,
      "object_position": null,
      "order": null,
      "overflow": null,
      "overflow_x": null,
      "overflow_y": null,
      "padding": null,
      "right": null,
      "top": null,
      "visibility": null,
      "width": null
     }
    },
    "3cda9ad667be4741b8a43a5e4a1e39d4": {
     "model_module": "@jupyter-widgets/controls",
     "model_module_version": "1.5.0",
     "model_name": "HTMLModel",
     "state": {
      "_dom_classes": [],
      "_model_module": "@jupyter-widgets/controls",
      "_model_module_version": "1.5.0",
      "_model_name": "HTMLModel",
      "_view_count": null,
      "_view_module": "@jupyter-widgets/controls",
      "_view_module_version": "1.5.0",
      "_view_name": "HTMLView",
      "description": "",
      "description_tooltip": null,
      "layout": "IPY_MODEL_ee106f9325154cab8c35a9a8e4a15040",
      "placeholder": "​",
      "style": "IPY_MODEL_2074474a847845f4bc7dabf802abd08c",
      "value": " 5120/? [00:00&lt;00:00, 113559.78it/s]"
     }
    },
    "4350dbe1c2534f46a799f213a37d3b3b": {
     "model_module": "@jupyter-widgets/controls",
     "model_module_version": "1.5.0",
     "model_name": "FloatProgressModel",
     "state": {
      "_dom_classes": [],
      "_model_module": "@jupyter-widgets/controls",
      "_model_module_version": "1.5.0",
      "_model_name": "FloatProgressModel",
      "_view_count": null,
      "_view_module": "@jupyter-widgets/controls",
      "_view_module_version": "1.5.0",
      "_view_name": "ProgressView",
      "bar_style": "success",
      "description": "",
      "description_tooltip": null,
      "layout": "IPY_MODEL_461c8dd3a7ca4100b2d442615ce84a97",
      "max": 28881,
      "min": 0,
      "orientation": "horizontal",
      "style": "IPY_MODEL_6ed2d5446c364b41a4b2203fe5e72942",
      "value": 28881
     }
    },
    "461c8dd3a7ca4100b2d442615ce84a97": {
     "model_module": "@jupyter-widgets/base",
     "model_module_version": "1.2.0",
     "model_name": "LayoutModel",
     "state": {
      "_model_module": "@jupyter-widgets/base",
      "_model_module_version": "1.2.0",
      "_model_name": "LayoutModel",
      "_view_count": null,
      "_view_module": "@jupyter-widgets/base",
      "_view_module_version": "1.2.0",
      "_view_name": "LayoutView",
      "align_content": null,
      "align_items": null,
      "align_self": null,
      "border": null,
      "bottom": null,
      "display": null,
      "flex": null,
      "flex_flow": null,
      "grid_area": null,
      "grid_auto_columns": null,
      "grid_auto_flow": null,
      "grid_auto_rows": null,
      "grid_column": null,
      "grid_gap": null,
      "grid_row": null,
      "grid_template_areas": null,
      "grid_template_columns": null,
      "grid_template_rows": null,
      "height": null,
      "justify_content": null,
      "justify_items": null,
      "left": null,
      "margin": null,
      "max_height": null,
      "max_width": null,
      "min_height": null,
      "min_width": null,
      "object_fit": null,
      "object_position": null,
      "order": null,
      "overflow": null,
      "overflow_x": null,
      "overflow_y": null,
      "padding": null,
      "right": null,
      "top": null,
      "visibility": null,
      "width": null
     }
    },
    "4d6411ee008a4eef9717abf60363da4e": {
     "model_module": "@jupyter-widgets/controls",
     "model_module_version": "1.5.0",
     "model_name": "HBoxModel",
     "state": {
      "_dom_classes": [],
      "_model_module": "@jupyter-widgets/controls",
      "_model_module_version": "1.5.0",
      "_model_name": "HBoxModel",
      "_view_count": null,
      "_view_module": "@jupyter-widgets/controls",
      "_view_module_version": "1.5.0",
      "_view_name": "HBoxView",
      "box_style": "",
      "children": [
       "IPY_MODEL_0d2bc5e676764281b6670514f7b1a596",
       "IPY_MODEL_2916b4176b6648b08ce8d7ebaf78757a",
       "IPY_MODEL_9264647187544665b43d20e8e7804f3b"
      ],
      "layout": "IPY_MODEL_a72a8d7d79a147cba0e40abe1bb52740"
     }
    },
    "4d8dba9318f0476a816334a6bae55cd0": {
     "model_module": "@jupyter-widgets/base",
     "model_module_version": "1.2.0",
     "model_name": "LayoutModel",
     "state": {
      "_model_module": "@jupyter-widgets/base",
      "_model_module_version": "1.2.0",
      "_model_name": "LayoutModel",
      "_view_count": null,
      "_view_module": "@jupyter-widgets/base",
      "_view_module_version": "1.2.0",
      "_view_name": "LayoutView",
      "align_content": null,
      "align_items": null,
      "align_self": null,
      "border": null,
      "bottom": null,
      "display": null,
      "flex": null,
      "flex_flow": null,
      "grid_area": null,
      "grid_auto_columns": null,
      "grid_auto_flow": null,
      "grid_auto_rows": null,
      "grid_column": null,
      "grid_gap": null,
      "grid_row": null,
      "grid_template_areas": null,
      "grid_template_columns": null,
      "grid_template_rows": null,
      "height": null,
      "justify_content": null,
      "justify_items": null,
      "left": null,
      "margin": null,
      "max_height": null,
      "max_width": null,
      "min_height": null,
      "min_width": null,
      "object_fit": null,
      "object_position": null,
      "order": null,
      "overflow": null,
      "overflow_x": null,
      "overflow_y": null,
      "padding": null,
      "right": null,
      "top": null,
      "visibility": null,
      "width": null
     }
    },
    "526441e055a0407a81bfe4443ad84221": {
     "model_module": "@jupyter-widgets/base",
     "model_module_version": "1.2.0",
     "model_name": "LayoutModel",
     "state": {
      "_model_module": "@jupyter-widgets/base",
      "_model_module_version": "1.2.0",
      "_model_name": "LayoutModel",
      "_view_count": null,
      "_view_module": "@jupyter-widgets/base",
      "_view_module_version": "1.2.0",
      "_view_name": "LayoutView",
      "align_content": null,
      "align_items": null,
      "align_self": null,
      "border": null,
      "bottom": null,
      "display": null,
      "flex": null,
      "flex_flow": null,
      "grid_area": null,
      "grid_auto_columns": null,
      "grid_auto_flow": null,
      "grid_auto_rows": null,
      "grid_column": null,
      "grid_gap": null,
      "grid_row": null,
      "grid_template_areas": null,
      "grid_template_columns": null,
      "grid_template_rows": null,
      "height": null,
      "justify_content": null,
      "justify_items": null,
      "left": null,
      "margin": null,
      "max_height": null,
      "max_width": null,
      "min_height": null,
      "min_width": null,
      "object_fit": null,
      "object_position": null,
      "order": null,
      "overflow": null,
      "overflow_x": null,
      "overflow_y": null,
      "padding": null,
      "right": null,
      "top": null,
      "visibility": null,
      "width": null
     }
    },
    "65ee8afc24244656a37349f86fec0152": {
     "model_module": "@jupyter-widgets/controls",
     "model_module_version": "1.5.0",
     "model_name": "HTMLModel",
     "state": {
      "_dom_classes": [],
      "_model_module": "@jupyter-widgets/controls",
      "_model_module_version": "1.5.0",
      "_model_name": "HTMLModel",
      "_view_count": null,
      "_view_module": "@jupyter-widgets/controls",
      "_view_module_version": "1.5.0",
      "_view_name": "HTMLView",
      "description": "",
      "description_tooltip": null,
      "layout": "IPY_MODEL_c4f506ba129c4966a308aed0ca67501a",
      "placeholder": "​",
      "style": "IPY_MODEL_fa4e7050e1254d158f7d4adbbab04b38",
      "value": ""
     }
    },
    "67a58a7cc149492cbfd85db91111a570": {
     "model_module": "@jupyter-widgets/controls",
     "model_module_version": "1.5.0",
     "model_name": "ProgressStyleModel",
     "state": {
      "_model_module": "@jupyter-widgets/controls",
      "_model_module_version": "1.5.0",
      "_model_name": "ProgressStyleModel",
      "_view_count": null,
      "_view_module": "@jupyter-widgets/base",
      "_view_module_version": "1.2.0",
      "_view_name": "StyleView",
      "bar_color": null,
      "description_width": ""
     }
    },
    "6ed2d5446c364b41a4b2203fe5e72942": {
     "model_module": "@jupyter-widgets/controls",
     "model_module_version": "1.5.0",
     "model_name": "ProgressStyleModel",
     "state": {
      "_model_module": "@jupyter-widgets/controls",
      "_model_module_version": "1.5.0",
      "_model_name": "ProgressStyleModel",
      "_view_count": null,
      "_view_module": "@jupyter-widgets/base",
      "_view_module_version": "1.2.0",
      "_view_name": "StyleView",
      "bar_color": null,
      "description_width": ""
     }
    },
    "6f435b01a7a442fa95f5fa4aad493bdd": {
     "model_module": "@jupyter-widgets/controls",
     "model_module_version": "1.5.0",
     "model_name": "FloatProgressModel",
     "state": {
      "_dom_classes": [],
      "_model_module": "@jupyter-widgets/controls",
      "_model_module_version": "1.5.0",
      "_model_name": "FloatProgressModel",
      "_view_count": null,
      "_view_module": "@jupyter-widgets/controls",
      "_view_module_version": "1.5.0",
      "_view_name": "ProgressView",
      "bar_style": "success",
      "description": "",
      "description_tooltip": null,
      "layout": "IPY_MODEL_526441e055a0407a81bfe4443ad84221",
      "max": 9912422,
      "min": 0,
      "orientation": "horizontal",
      "style": "IPY_MODEL_c4461c196ae44f20a59288e848deb7ce",
      "value": 9912422
     }
    },
    "8b2c3cfef2134978827d1ecadb4b7baf": {
     "model_module": "@jupyter-widgets/base",
     "model_module_version": "1.2.0",
     "model_name": "LayoutModel",
     "state": {
      "_model_module": "@jupyter-widgets/base",
      "_model_module_version": "1.2.0",
      "_model_name": "LayoutModel",
      "_view_count": null,
      "_view_module": "@jupyter-widgets/base",
      "_view_module_version": "1.2.0",
      "_view_name": "LayoutView",
      "align_content": null,
      "align_items": null,
      "align_self": null,
      "border": null,
      "bottom": null,
      "display": null,
      "flex": null,
      "flex_flow": null,
      "grid_area": null,
      "grid_auto_columns": null,
      "grid_auto_flow": null,
      "grid_auto_rows": null,
      "grid_column": null,
      "grid_gap": null,
      "grid_row": null,
      "grid_template_areas": null,
      "grid_template_columns": null,
      "grid_template_rows": null,
      "height": null,
      "justify_content": null,
      "justify_items": null,
      "left": null,
      "margin": null,
      "max_height": null,
      "max_width": null,
      "min_height": null,
      "min_width": null,
      "object_fit": null,
      "object_position": null,
      "order": null,
      "overflow": null,
      "overflow_x": null,
      "overflow_y": null,
      "padding": null,
      "right": null,
      "top": null,
      "visibility": null,
      "width": null
     }
    },
    "9264647187544665b43d20e8e7804f3b": {
     "model_module": "@jupyter-widgets/controls",
     "model_module_version": "1.5.0",
     "model_name": "HTMLModel",
     "state": {
      "_dom_classes": [],
      "_model_module": "@jupyter-widgets/controls",
      "_model_module_version": "1.5.0",
      "_model_name": "HTMLModel",
      "_view_count": null,
      "_view_module": "@jupyter-widgets/controls",
      "_view_module_version": "1.5.0",
      "_view_name": "HTMLView",
      "description": "",
      "description_tooltip": null,
      "layout": "IPY_MODEL_4d8dba9318f0476a816334a6bae55cd0",
      "placeholder": "​",
      "style": "IPY_MODEL_09708f82892a4d75aa9bd06ccbaf02da",
      "value": " 1649664/? [00:00&lt;00:00, 23765043.15it/s]"
     }
    },
    "947ba641fb2847e7a5f6672b45a3eca2": {
     "model_module": "@jupyter-widgets/controls",
     "model_module_version": "1.5.0",
     "model_name": "DescriptionStyleModel",
     "state": {
      "_model_module": "@jupyter-widgets/controls",
      "_model_module_version": "1.5.0",
      "_model_name": "DescriptionStyleModel",
      "_view_count": null,
      "_view_module": "@jupyter-widgets/base",
      "_view_module_version": "1.2.0",
      "_view_name": "StyleView",
      "description_width": ""
     }
    },
    "a72a8d7d79a147cba0e40abe1bb52740": {
     "model_module": "@jupyter-widgets/base",
     "model_module_version": "1.2.0",
     "model_name": "LayoutModel",
     "state": {
      "_model_module": "@jupyter-widgets/base",
      "_model_module_version": "1.2.0",
      "_model_name": "LayoutModel",
      "_view_count": null,
      "_view_module": "@jupyter-widgets/base",
      "_view_module_version": "1.2.0",
      "_view_name": "LayoutView",
      "align_content": null,
      "align_items": null,
      "align_self": null,
      "border": null,
      "bottom": null,
      "display": null,
      "flex": null,
      "flex_flow": null,
      "grid_area": null,
      "grid_auto_columns": null,
      "grid_auto_flow": null,
      "grid_auto_rows": null,
      "grid_column": null,
      "grid_gap": null,
      "grid_row": null,
      "grid_template_areas": null,
      "grid_template_columns": null,
      "grid_template_rows": null,
      "height": null,
      "justify_content": null,
      "justify_items": null,
      "left": null,
      "margin": null,
      "max_height": null,
      "max_width": null,
      "min_height": null,
      "min_width": null,
      "object_fit": null,
      "object_position": null,
      "order": null,
      "overflow": null,
      "overflow_x": null,
      "overflow_y": null,
      "padding": null,
      "right": null,
      "top": null,
      "visibility": null,
      "width": null
     }
    },
    "a99a4e3e448445c9a22b5f9e2acb2de6": {
     "model_module": "@jupyter-widgets/base",
     "model_module_version": "1.2.0",
     "model_name": "LayoutModel",
     "state": {
      "_model_module": "@jupyter-widgets/base",
      "_model_module_version": "1.2.0",
      "_model_name": "LayoutModel",
      "_view_count": null,
      "_view_module": "@jupyter-widgets/base",
      "_view_module_version": "1.2.0",
      "_view_name": "LayoutView",
      "align_content": null,
      "align_items": null,
      "align_self": null,
      "border": null,
      "bottom": null,
      "display": null,
      "flex": null,
      "flex_flow": null,
      "grid_area": null,
      "grid_auto_columns": null,
      "grid_auto_flow": null,
      "grid_auto_rows": null,
      "grid_column": null,
      "grid_gap": null,
      "grid_row": null,
      "grid_template_areas": null,
      "grid_template_columns": null,
      "grid_template_rows": null,
      "height": null,
      "justify_content": null,
      "justify_items": null,
      "left": null,
      "margin": null,
      "max_height": null,
      "max_width": null,
      "min_height": null,
      "min_width": null,
      "object_fit": null,
      "object_position": null,
      "order": null,
      "overflow": null,
      "overflow_x": null,
      "overflow_y": null,
      "padding": null,
      "right": null,
      "top": null,
      "visibility": null,
      "width": null
     }
    },
    "ab16f6012ac143b7a56547a117da58d0": {
     "model_module": "@jupyter-widgets/controls",
     "model_module_version": "1.5.0",
     "model_name": "DescriptionStyleModel",
     "state": {
      "_model_module": "@jupyter-widgets/controls",
      "_model_module_version": "1.5.0",
      "_model_name": "DescriptionStyleModel",
      "_view_count": null,
      "_view_module": "@jupyter-widgets/base",
      "_view_module_version": "1.2.0",
      "_view_name": "StyleView",
      "description_width": ""
     }
    },
    "ad609d70d66d4fe689347ace0b27f30f": {
     "model_module": "@jupyter-widgets/base",
     "model_module_version": "1.2.0",
     "model_name": "LayoutModel",
     "state": {
      "_model_module": "@jupyter-widgets/base",
      "_model_module_version": "1.2.0",
      "_model_name": "LayoutModel",
      "_view_count": null,
      "_view_module": "@jupyter-widgets/base",
      "_view_module_version": "1.2.0",
      "_view_name": "LayoutView",
      "align_content": null,
      "align_items": null,
      "align_self": null,
      "border": null,
      "bottom": null,
      "display": null,
      "flex": null,
      "flex_flow": null,
      "grid_area": null,
      "grid_auto_columns": null,
      "grid_auto_flow": null,
      "grid_auto_rows": null,
      "grid_column": null,
      "grid_gap": null,
      "grid_row": null,
      "grid_template_areas": null,
      "grid_template_columns": null,
      "grid_template_rows": null,
      "height": null,
      "justify_content": null,
      "justify_items": null,
      "left": null,
      "margin": null,
      "max_height": null,
      "max_width": null,
      "min_height": null,
      "min_width": null,
      "object_fit": null,
      "object_position": null,
      "order": null,
      "overflow": null,
      "overflow_x": null,
      "overflow_y": null,
      "padding": null,
      "right": null,
      "top": null,
      "visibility": null,
      "width": null
     }
    },
    "b77a467ac0d448ee9fc10ecbc04ee9fa": {
     "model_module": "@jupyter-widgets/base",
     "model_module_version": "1.2.0",
     "model_name": "LayoutModel",
     "state": {
      "_model_module": "@jupyter-widgets/base",
      "_model_module_version": "1.2.0",
      "_model_name": "LayoutModel",
      "_view_count": null,
      "_view_module": "@jupyter-widgets/base",
      "_view_module_version": "1.2.0",
      "_view_name": "LayoutView",
      "align_content": null,
      "align_items": null,
      "align_self": null,
      "border": null,
      "bottom": null,
      "display": null,
      "flex": null,
      "flex_flow": null,
      "grid_area": null,
      "grid_auto_columns": null,
      "grid_auto_flow": null,
      "grid_auto_rows": null,
      "grid_column": null,
      "grid_gap": null,
      "grid_row": null,
      "grid_template_areas": null,
      "grid_template_columns": null,
      "grid_template_rows": null,
      "height": null,
      "justify_content": null,
      "justify_items": null,
      "left": null,
      "margin": null,
      "max_height": null,
      "max_width": null,
      "min_height": null,
      "min_width": null,
      "object_fit": null,
      "object_position": null,
      "order": null,
      "overflow": null,
      "overflow_x": null,
      "overflow_y": null,
      "padding": null,
      "right": null,
      "top": null,
      "visibility": null,
      "width": null
     }
    },
    "b9bd8dfc7bbc4947bf7702de087c252a": {
     "model_module": "@jupyter-widgets/controls",
     "model_module_version": "1.5.0",
     "model_name": "HBoxModel",
     "state": {
      "_dom_classes": [],
      "_model_module": "@jupyter-widgets/controls",
      "_model_module_version": "1.5.0",
      "_model_name": "HBoxModel",
      "_view_count": null,
      "_view_module": "@jupyter-widgets/controls",
      "_view_module_version": "1.5.0",
      "_view_name": "HBoxView",
      "box_style": "",
      "children": [
       "IPY_MODEL_65ee8afc24244656a37349f86fec0152",
       "IPY_MODEL_fcc3f634cad4468a801458a457d201eb",
       "IPY_MODEL_3cda9ad667be4741b8a43a5e4a1e39d4"
      ],
      "layout": "IPY_MODEL_de1b8602ffcf4a0f971a89bcd71fb23c"
     }
    },
    "c4461c196ae44f20a59288e848deb7ce": {
     "model_module": "@jupyter-widgets/controls",
     "model_module_version": "1.5.0",
     "model_name": "ProgressStyleModel",
     "state": {
      "_model_module": "@jupyter-widgets/controls",
      "_model_module_version": "1.5.0",
      "_model_name": "ProgressStyleModel",
      "_view_count": null,
      "_view_module": "@jupyter-widgets/base",
      "_view_module_version": "1.2.0",
      "_view_name": "StyleView",
      "bar_color": null,
      "description_width": ""
     }
    },
    "c4f506ba129c4966a308aed0ca67501a": {
     "model_module": "@jupyter-widgets/base",
     "model_module_version": "1.2.0",
     "model_name": "LayoutModel",
     "state": {
      "_model_module": "@jupyter-widgets/base",
      "_model_module_version": "1.2.0",
      "_model_name": "LayoutModel",
      "_view_count": null,
      "_view_module": "@jupyter-widgets/base",
      "_view_module_version": "1.2.0",
      "_view_name": "LayoutView",
      "align_content": null,
      "align_items": null,
      "align_self": null,
      "border": null,
      "bottom": null,
      "display": null,
      "flex": null,
      "flex_flow": null,
      "grid_area": null,
      "grid_auto_columns": null,
      "grid_auto_flow": null,
      "grid_auto_rows": null,
      "grid_column": null,
      "grid_gap": null,
      "grid_row": null,
      "grid_template_areas": null,
      "grid_template_columns": null,
      "grid_template_rows": null,
      "height": null,
      "justify_content": null,
      "justify_items": null,
      "left": null,
      "margin": null,
      "max_height": null,
      "max_width": null,
      "min_height": null,
      "min_width": null,
      "object_fit": null,
      "object_position": null,
      "order": null,
      "overflow": null,
      "overflow_x": null,
      "overflow_y": null,
      "padding": null,
      "right": null,
      "top": null,
      "visibility": null,
      "width": null
     }
    },
    "d30171158ad84adc9ca8b4cdc23afb58": {
     "model_module": "@jupyter-widgets/controls",
     "model_module_version": "1.5.0",
     "model_name": "DescriptionStyleModel",
     "state": {
      "_model_module": "@jupyter-widgets/controls",
      "_model_module_version": "1.5.0",
      "_model_name": "DescriptionStyleModel",
      "_view_count": null,
      "_view_module": "@jupyter-widgets/base",
      "_view_module_version": "1.2.0",
      "_view_name": "StyleView",
      "description_width": ""
     }
    },
    "de1b8602ffcf4a0f971a89bcd71fb23c": {
     "model_module": "@jupyter-widgets/base",
     "model_module_version": "1.2.0",
     "model_name": "LayoutModel",
     "state": {
      "_model_module": "@jupyter-widgets/base",
      "_model_module_version": "1.2.0",
      "_model_name": "LayoutModel",
      "_view_count": null,
      "_view_module": "@jupyter-widgets/base",
      "_view_module_version": "1.2.0",
      "_view_name": "LayoutView",
      "align_content": null,
      "align_items": null,
      "align_self": null,
      "border": null,
      "bottom": null,
      "display": null,
      "flex": null,
      "flex_flow": null,
      "grid_area": null,
      "grid_auto_columns": null,
      "grid_auto_flow": null,
      "grid_auto_rows": null,
      "grid_column": null,
      "grid_gap": null,
      "grid_row": null,
      "grid_template_areas": null,
      "grid_template_columns": null,
      "grid_template_rows": null,
      "height": null,
      "justify_content": null,
      "justify_items": null,
      "left": null,
      "margin": null,
      "max_height": null,
      "max_width": null,
      "min_height": null,
      "min_width": null,
      "object_fit": null,
      "object_position": null,
      "order": null,
      "overflow": null,
      "overflow_x": null,
      "overflow_y": null,
      "padding": null,
      "right": null,
      "top": null,
      "visibility": null,
      "width": null
     }
    },
    "defc60f653e64417ad262c2910fc54d0": {
     "model_module": "@jupyter-widgets/controls",
     "model_module_version": "1.5.0",
     "model_name": "DescriptionStyleModel",
     "state": {
      "_model_module": "@jupyter-widgets/controls",
      "_model_module_version": "1.5.0",
      "_model_name": "DescriptionStyleModel",
      "_view_count": null,
      "_view_module": "@jupyter-widgets/base",
      "_view_module_version": "1.2.0",
      "_view_name": "StyleView",
      "description_width": ""
     }
    },
    "e5835df213ab4065a7487d14e223ce75": {
     "model_module": "@jupyter-widgets/controls",
     "model_module_version": "1.5.0",
     "model_name": "HTMLModel",
     "state": {
      "_dom_classes": [],
      "_model_module": "@jupyter-widgets/controls",
      "_model_module_version": "1.5.0",
      "_model_name": "HTMLModel",
      "_view_count": null,
      "_view_module": "@jupyter-widgets/controls",
      "_view_module_version": "1.5.0",
      "_view_name": "HTMLView",
      "description": "",
      "description_tooltip": null,
      "layout": "IPY_MODEL_8b2c3cfef2134978827d1ecadb4b7baf",
      "placeholder": "​",
      "style": "IPY_MODEL_defc60f653e64417ad262c2910fc54d0",
      "value": " 9913344/? [00:00&lt;00:00, 44517485.40it/s]"
     }
    },
    "ee106f9325154cab8c35a9a8e4a15040": {
     "model_module": "@jupyter-widgets/base",
     "model_module_version": "1.2.0",
     "model_name": "LayoutModel",
     "state": {
      "_model_module": "@jupyter-widgets/base",
      "_model_module_version": "1.2.0",
      "_model_name": "LayoutModel",
      "_view_count": null,
      "_view_module": "@jupyter-widgets/base",
      "_view_module_version": "1.2.0",
      "_view_name": "LayoutView",
      "align_content": null,
      "align_items": null,
      "align_self": null,
      "border": null,
      "bottom": null,
      "display": null,
      "flex": null,
      "flex_flow": null,
      "grid_area": null,
      "grid_auto_columns": null,
      "grid_auto_flow": null,
      "grid_auto_rows": null,
      "grid_column": null,
      "grid_gap": null,
      "grid_row": null,
      "grid_template_areas": null,
      "grid_template_columns": null,
      "grid_template_rows": null,
      "height": null,
      "justify_content": null,
      "justify_items": null,
      "left": null,
      "margin": null,
      "max_height": null,
      "max_width": null,
      "min_height": null,
      "min_width": null,
      "object_fit": null,
      "object_position": null,
      "order": null,
      "overflow": null,
      "overflow_x": null,
      "overflow_y": null,
      "padding": null,
      "right": null,
      "top": null,
      "visibility": null,
      "width": null
     }
    },
    "ee9d04fcd09f41ecbecfac39fc17b647": {
     "model_module": "@jupyter-widgets/controls",
     "model_module_version": "1.5.0",
     "model_name": "HBoxModel",
     "state": {
      "_dom_classes": [],
      "_model_module": "@jupyter-widgets/controls",
      "_model_module_version": "1.5.0",
      "_model_name": "HBoxModel",
      "_view_count": null,
      "_view_module": "@jupyter-widgets/controls",
      "_view_module_version": "1.5.0",
      "_view_name": "HBoxView",
      "box_style": "",
      "children": [
       "IPY_MODEL_ff567857c001444198d4bdcf0d2c4fbe",
       "IPY_MODEL_4350dbe1c2534f46a799f213a37d3b3b",
       "IPY_MODEL_f0fea69f875b4ebdadc0935a0618fe02"
      ],
      "layout": "IPY_MODEL_3a4fbbe6647143c2806827e34e0e3c17"
     }
    },
    "f0fea69f875b4ebdadc0935a0618fe02": {
     "model_module": "@jupyter-widgets/controls",
     "model_module_version": "1.5.0",
     "model_name": "HTMLModel",
     "state": {
      "_dom_classes": [],
      "_model_module": "@jupyter-widgets/controls",
      "_model_module_version": "1.5.0",
      "_model_name": "HTMLModel",
      "_view_count": null,
      "_view_module": "@jupyter-widgets/controls",
      "_view_module_version": "1.5.0",
      "_view_name": "HTMLView",
      "description": "",
      "description_tooltip": null,
      "layout": "IPY_MODEL_26c7f14e0f174963a7a43468b550ee2f",
      "placeholder": "​",
      "style": "IPY_MODEL_ab16f6012ac143b7a56547a117da58d0",
      "value": " 29696/? [00:00&lt;00:00, 723180.21it/s]"
     }
    },
    "f75f9c4b1e4b48b7a9ca005fa7712bf1": {
     "model_module": "@jupyter-widgets/controls",
     "model_module_version": "1.5.0",
     "model_name": "ProgressStyleModel",
     "state": {
      "_model_module": "@jupyter-widgets/controls",
      "_model_module_version": "1.5.0",
      "_model_name": "ProgressStyleModel",
      "_view_count": null,
      "_view_module": "@jupyter-widgets/base",
      "_view_module_version": "1.2.0",
      "_view_name": "StyleView",
      "bar_color": null,
      "description_width": ""
     }
    },
    "fa4e7050e1254d158f7d4adbbab04b38": {
     "model_module": "@jupyter-widgets/controls",
     "model_module_version": "1.5.0",
     "model_name": "DescriptionStyleModel",
     "state": {
      "_model_module": "@jupyter-widgets/controls",
      "_model_module_version": "1.5.0",
      "_model_name": "DescriptionStyleModel",
      "_view_count": null,
      "_view_module": "@jupyter-widgets/base",
      "_view_module_version": "1.2.0",
      "_view_name": "StyleView",
      "description_width": ""
     }
    },
    "fb66298257be4674b549698a684288d7": {
     "model_module": "@jupyter-widgets/base",
     "model_module_version": "1.2.0",
     "model_name": "LayoutModel",
     "state": {
      "_model_module": "@jupyter-widgets/base",
      "_model_module_version": "1.2.0",
      "_model_name": "LayoutModel",
      "_view_count": null,
      "_view_module": "@jupyter-widgets/base",
      "_view_module_version": "1.2.0",
      "_view_name": "LayoutView",
      "align_content": null,
      "align_items": null,
      "align_self": null,
      "border": null,
      "bottom": null,
      "display": null,
      "flex": null,
      "flex_flow": null,
      "grid_area": null,
      "grid_auto_columns": null,
      "grid_auto_flow": null,
      "grid_auto_rows": null,
      "grid_column": null,
      "grid_gap": null,
      "grid_row": null,
      "grid_template_areas": null,
      "grid_template_columns": null,
      "grid_template_rows": null,
      "height": null,
      "justify_content": null,
      "justify_items": null,
      "left": null,
      "margin": null,
      "max_height": null,
      "max_width": null,
      "min_height": null,
      "min_width": null,
      "object_fit": null,
      "object_position": null,
      "order": null,
      "overflow": null,
      "overflow_x": null,
      "overflow_y": null,
      "padding": null,
      "right": null,
      "top": null,
      "visibility": null,
      "width": null
     }
    },
    "fcc3f634cad4468a801458a457d201eb": {
     "model_module": "@jupyter-widgets/controls",
     "model_module_version": "1.5.0",
     "model_name": "FloatProgressModel",
     "state": {
      "_dom_classes": [],
      "_model_module": "@jupyter-widgets/controls",
      "_model_module_version": "1.5.0",
      "_model_name": "FloatProgressModel",
      "_view_count": null,
      "_view_module": "@jupyter-widgets/controls",
      "_view_module_version": "1.5.0",
      "_view_name": "ProgressView",
      "bar_style": "success",
      "description": "",
      "description_tooltip": null,
      "layout": "IPY_MODEL_fb66298257be4674b549698a684288d7",
      "max": 4542,
      "min": 0,
      "orientation": "horizontal",
      "style": "IPY_MODEL_67a58a7cc149492cbfd85db91111a570",
      "value": 4542
     }
    },
    "ff567857c001444198d4bdcf0d2c4fbe": {
     "model_module": "@jupyter-widgets/controls",
     "model_module_version": "1.5.0",
     "model_name": "HTMLModel",
     "state": {
      "_dom_classes": [],
      "_model_module": "@jupyter-widgets/controls",
      "_model_module_version": "1.5.0",
      "_model_name": "HTMLModel",
      "_view_count": null,
      "_view_module": "@jupyter-widgets/controls",
      "_view_module_version": "1.5.0",
      "_view_name": "HTMLView",
      "description": "",
      "description_tooltip": null,
      "layout": "IPY_MODEL_a99a4e3e448445c9a22b5f9e2acb2de6",
      "placeholder": "​",
      "style": "IPY_MODEL_947ba641fb2847e7a5f6672b45a3eca2",
      "value": ""
     }
    }
   }
  }
 },
 "nbformat": 4,
 "nbformat_minor": 5
}
