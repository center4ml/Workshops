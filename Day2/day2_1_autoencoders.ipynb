{
 "cells": [
  {
   "cell_type": "markdown",
   "id": "boolean-uncertainty",
   "metadata": {
    "id": "usual-hawaiian"
   },
   "source": [
    "# Autoencoders"
   ]
  },
  {
   "cell_type": "markdown",
   "id": "trying-blood",
   "metadata": {
    "id": "continent-zambia"
   },
   "source": [
    "Type of neural network which typically aims to learn efficient representations (efficient coding) of the data.\n",
    "Usually autoencoders are trained in an unsupervised manner.\n",
    "\n",
    "\n",
    "### Applications\n",
    "1. Anomaly detection\n",
    "2. Dimensionality reduction\n",
    "3. Denoising\n",
    "4. ..."
   ]
  },
  {
   "cell_type": "markdown",
   "id": "downtown-pastor",
   "metadata": {
    "id": "boxed-stone"
   },
   "source": [
    "**Reconstruction**\n",
    "![Autoencoder](https://lilianweng.github.io/lil-log/assets/images/autoencoder-architecture.png)\n",
    "Source: https://lilianweng.github.io/lil-log/2018/08/12/from-autoencoder-to-beta-vae.html"
   ]
  },
  {
   "cell_type": "markdown",
   "id": "metropolitan-connectivity",
   "metadata": {
    "id": "smaller-express"
   },
   "source": [
    "**Denoising**\n",
    "![denoising](https://miro.medium.com/max/5160/1*SxwRp9i23OM0Up4sEze1QQ@2x.png)\n",
    "Source: https://www.kaggle.com/tarunkr/autoencoder-denoising-image-mnist-cifar10"
   ]
  },
  {
   "cell_type": "markdown",
   "id": "healthy-burst",
   "metadata": {},
   "source": [
    "### Some more examples of autoencoders:\n",
    "- [convolutional](https://medium.com/dataseries/convolutional-autoencoder-in-pytorch-on-mnist-dataset-d65145c132ac)\n",
    "- [time series data](https://curiousily.com/posts/time-series-anomaly-detection-using-lstm-autoencoder-with-pytorch-in-python/)\n",
    "- [tabular data](https://medium.com/@vkansal/credit-card-fraud-detection-using-deep-learning-pytorch-47f680a8c5be) [(code)](https://github.com/vimalkansal/credit_card_fraud_detection/blob/master/project/credit_card_fraud_detection.ipynb)"
   ]
  },
  {
   "cell_type": "markdown",
   "id": "statutory-intelligence",
   "metadata": {
    "id": "effective-distributor"
   },
   "source": [
    "# Recapitulation"
   ]
  },
  {
   "cell_type": "markdown",
   "id": "smart-thanks",
   "metadata": {
    "id": "mobile-export"
   },
   "source": [
    "Import base libraries"
   ]
  },
  {
   "cell_type": "code",
   "execution_count": 1,
   "id": "least-transformation",
   "metadata": {
    "id": "boxed-billion"
   },
   "outputs": [],
   "source": [
    "import matplotlib.pyplot as plt\n",
    "import numpy as np"
   ]
  },
  {
   "cell_type": "markdown",
   "id": "russian-bankruptcy",
   "metadata": {
    "id": "equivalent-curve"
   },
   "source": [
    "Import PyTorch libraries"
   ]
  },
  {
   "cell_type": "code",
   "execution_count": 2,
   "id": "protected-polish",
   "metadata": {
    "id": "russian-tokyo"
   },
   "outputs": [],
   "source": [
    "import torch\n",
    "import torchvision"
   ]
  },
  {
   "cell_type": "code",
   "execution_count": 3,
   "id": "national-scout",
   "metadata": {
    "id": "planned-devices"
   },
   "outputs": [],
   "source": [
    "DATASETS_PATH = 'data' # path to directory where data are to be stored"
   ]
  },
  {
   "cell_type": "code",
   "execution_count": 4,
   "id": "bored-front",
   "metadata": {
    "id": "athletic-multiple"
   },
   "outputs": [],
   "source": [
    "transform = torchvision.transforms.Compose(\n",
    "    [ torchvision.transforms.ToTensor(), #Converts a PIL Image or numpy.ndarray (H x W x C) in the range [0, 255] to a torch.FloatTensor of shape (C x H x W) in the range [0.0, 1.0]\n",
    "      torchvision.transforms.Normalize((0.1307), (0.3081))])"
   ]
  },
  {
   "cell_type": "code",
   "execution_count": 5,
   "id": "threatened-contract",
   "metadata": {
    "colab": {
     "base_uri": "https://localhost:8080/",
     "height": 435,
     "referenced_widgets": [
      "10c5e8a0b07e483894d92ffeddb10069",
      "e6fcf61869494b66b03ba06441ab62d8",
      "42d8b5b6f66c4361bf9e7f219efe0ddc",
      "f0a1927811414db187ac03c28a953e1b",
      "ddee1e4f36874376b7e12342f7d40e64",
      "4ce979b46b4e4cc788a6c929955641f1",
      "6d33649e1b0341f48d455399af287c48",
      "49e30d02f4f646c69106c1d2df9a87d5",
      "4483bb8c5fc0439b9ac31b65ce9ba944",
      "c211457b928b4796851ed2e551516e27",
      "f5e648817a814f71bd3cfb913bd9a1d0",
      "bda6680a452a485bbd5b92e191edc160",
      "59a352927f7b44a68c06f93496faaf5c",
      "21f3d072c49a408f92ef764f82ddb0e5",
      "32fac9d3d1b048f5896eba4b267d1f54",
      "181d5fd77646420c9f660c501d400bdd",
      "595da79f9eb24ce09ff36d7214077975",
      "d9b2d36e975e49e1af0b773671d2f5af",
      "23400cbd9e7e4a6890a2abf14d92715e",
      "3edbfde1856e45cc9184a4d554dcf060",
      "cfd9efce24a44161b8ffab0c9f309a2d",
      "56908023cdfb4fb99868ddff7fc97924",
      "983f483500fb4946ad1277ab37328aea",
      "cadad9431a354902905feeef08809d78",
      "db762ad8c11b4f0aa4180f35bedcc866",
      "d032272496c54bc49314ede9391f74ab",
      "23359e1c5a1f4689bf9b0169675ee2d0",
      "feb7c4e040a54a348a3d4aa3d60f3406",
      "6e15905426564a03a3b4566479d30d0c",
      "293a7fd391b64479ad5fe1287e2f154f",
      "e6d0fd1a655c4a4dbc881256e53fbf54",
      "32ceb0ccd1424d958d9923f83d99bfe0",
      "3af7aeab1db54ae58304872e3a8a3471",
      "e38084568e6d434b946d3e4987baf1c7",
      "f910a378b60b4b1ca90b3bcb8b3e0e5d",
      "2f4d0a407e7e4093b65f5f47ba85520c",
      "2bf7b550fd1c4552ae49f0ea4b9a71d7",
      "bea1faaca62b4f3a89332ffca727c9af",
      "d17d59a2f18b42018748c51abb6d4402",
      "9c6af322eb8144ac8d0eaf636b9b6fbf",
      "bf1a758830a243ac96ae63939e765127",
      "d6989c920e254d7c9c1c30037738edd4",
      "1fe1222465ca43e2840321d74c93f108",
      "2d41a7bfdfee4cbabf36546c85f14866"
     ]
    },
    "id": "outdoor-comfort",
    "outputId": "4e6684e3-361f-4e01-b48b-5dc15a10ff0e"
   },
   "outputs": [
    {
     "name": "stdout",
     "output_type": "stream",
     "text": [
      "Downloading http://yann.lecun.com/exdb/mnist/train-images-idx3-ubyte.gz\n",
      "Downloading http://yann.lecun.com/exdb/mnist/train-images-idx3-ubyte.gz to data/MNIST/raw/train-images-idx3-ubyte.gz\n"
     ]
    },
    {
     "data": {
      "application/vnd.jupyter.widget-view+json": {
       "model_id": "10c5e8a0b07e483894d92ffeddb10069",
       "version_major": 2,
       "version_minor": 0
      },
      "text/plain": [
       "  0%|          | 0/9912422 [00:00<?, ?it/s]"
      ]
     },
     "metadata": {},
     "output_type": "display_data"
    },
    {
     "name": "stdout",
     "output_type": "stream",
     "text": [
      "Extracting data/MNIST/raw/train-images-idx3-ubyte.gz to data/MNIST/raw\n",
      "\n",
      "Downloading http://yann.lecun.com/exdb/mnist/train-labels-idx1-ubyte.gz\n",
      "Downloading http://yann.lecun.com/exdb/mnist/train-labels-idx1-ubyte.gz to data/MNIST/raw/train-labels-idx1-ubyte.gz\n"
     ]
    },
    {
     "data": {
      "application/vnd.jupyter.widget-view+json": {
       "model_id": "bda6680a452a485bbd5b92e191edc160",
       "version_major": 2,
       "version_minor": 0
      },
      "text/plain": [
       "  0%|          | 0/28881 [00:00<?, ?it/s]"
      ]
     },
     "metadata": {},
     "output_type": "display_data"
    },
    {
     "name": "stdout",
     "output_type": "stream",
     "text": [
      "Extracting data/MNIST/raw/train-labels-idx1-ubyte.gz to data/MNIST/raw\n",
      "\n",
      "Downloading http://yann.lecun.com/exdb/mnist/t10k-images-idx3-ubyte.gz\n",
      "Downloading http://yann.lecun.com/exdb/mnist/t10k-images-idx3-ubyte.gz to data/MNIST/raw/t10k-images-idx3-ubyte.gz\n"
     ]
    },
    {
     "data": {
      "application/vnd.jupyter.widget-view+json": {
       "model_id": "983f483500fb4946ad1277ab37328aea",
       "version_major": 2,
       "version_minor": 0
      },
      "text/plain": [
       "  0%|          | 0/1648877 [00:00<?, ?it/s]"
      ]
     },
     "metadata": {},
     "output_type": "display_data"
    },
    {
     "name": "stdout",
     "output_type": "stream",
     "text": [
      "Extracting data/MNIST/raw/t10k-images-idx3-ubyte.gz to data/MNIST/raw\n",
      "\n",
      "Downloading http://yann.lecun.com/exdb/mnist/t10k-labels-idx1-ubyte.gz\n",
      "Downloading http://yann.lecun.com/exdb/mnist/t10k-labels-idx1-ubyte.gz to data/MNIST/raw/t10k-labels-idx1-ubyte.gz\n"
     ]
    },
    {
     "data": {
      "application/vnd.jupyter.widget-view+json": {
       "model_id": "e38084568e6d434b946d3e4987baf1c7",
       "version_major": 2,
       "version_minor": 0
      },
      "text/plain": [
       "  0%|          | 0/4542 [00:00<?, ?it/s]"
      ]
     },
     "metadata": {},
     "output_type": "display_data"
    },
    {
     "name": "stdout",
     "output_type": "stream",
     "text": [
      "Extracting data/MNIST/raw/t10k-labels-idx1-ubyte.gz to data/MNIST/raw\n",
      "\n"
     ]
    }
   ],
   "source": [
    "mnist_train = torchvision.datasets.MNIST(root=DATASETS_PATH, train=True, download=True, transform=transform)\n",
    "mnist_test = torchvision.datasets.MNIST(root=DATASETS_PATH, train=False, download=True, transform=transform);"
   ]
  },
  {
   "cell_type": "code",
   "execution_count": 6,
   "id": "afraid-timing",
   "metadata": {
    "colab": {
     "base_uri": "https://localhost:8080/",
     "height": 299
    },
    "id": "indirect-ancient",
    "outputId": "8c8befb2-726a-4730-fadb-f1e3674651fa"
   },
   "outputs": [
    {
     "name": "stdout",
     "output_type": "stream",
     "text": [
      "<class 'torch.Tensor'> torch.Size([1, 28, 28])\n"
     ]
    },
    {
     "data": {
      "image/png": "[encoded data removed]",
      "text/plain": [
       "<Figure size 432x288 with 1 Axes>"
      ]
     },
     "metadata": {
      "needs_background": "light"
     },
     "output_type": "display_data"
    }
   ],
   "source": [
    "train_image, train_target = mnist_train[0]    #let us examine the first sample (index 0)\n",
    "print(type(train_image), train_image.shape)\n",
    "plt.imshow(train_image[0])\n",
    "plt.title(f'target {train_target}');"
   ]
  },
  {
   "cell_type": "code",
   "execution_count": 8,
   "id": "engaging-serial",
   "metadata": {
    "id": "viral-crowd"
   },
   "outputs": [],
   "source": [
    "class MLP(torch.nn.Module):\n",
    "    def __init__(self): # initialize model, called at model = MLP(). In genereal you can pass arguments to initializer, e.g. number or size of hidden layers (not in this example)\n",
    "        super().__init__() # must inherit from torch.nn.Module (backpropagation etc.)\n",
    "        self.mlp = torch.nn.Sequential(   #Sequential is a structure which allows stacking layers one on another in such a way, \n",
    "                                          #that output from a preceding layer serves as input to the next layer \n",
    "            torch.nn.Flatten(),   #change the last three orders in data (with dimensions 1, 28 and 28 respectively) into one order of dimensions (1*28*28)\n",
    "            torch.nn.Linear(1*28*28, 1024),  #which is used as INPUT to the first Linear layer\n",
    "            torch.nn.Sigmoid(),\n",
    "            # torch.nn.Linear(1024, 2048),   #IMPORTANT! Please observe, that the OUTPUT dimension of a preceding layer is always equal to the INPUT dimension of the next layer.\n",
    "            # torch.nn.Sigmoid(),\n",
    "            torch.nn.Linear(1024, 256),\n",
    "            torch.nn.Sigmoid(),            #Sigmoid is a nonlinear function which is used in-between layers\n",
    "            torch.nn.Linear(256, 10),\n",
    "        )\n",
    "    def forward(self, x): # run model, called at out = model(x)\n",
    "        out = self.mlp(x)\n",
    "        return out"
   ]
  },
  {
   "cell_type": "code",
   "execution_count": 9,
   "id": "affecting-apple",
   "metadata": {
    "id": "helpful-canadian"
   },
   "outputs": [],
   "source": [
    "batch_size = 256\n",
    "mnist_train_dataloader = torch.utils.data.DataLoader(mnist_train, batch_size=batch_size, shuffle=True)\n",
    "mnist_test_dataloader = torch.utils.data.DataLoader(mnist_test, batch_size=batch_size, shuffle=False)"
   ]
  },
  {
   "cell_type": "code",
   "execution_count": 10,
   "id": "superior-savannah",
   "metadata": {
    "colab": {
     "base_uri": "https://localhost:8080/"
    },
    "id": "digital-collins",
    "outputId": "905c62d6-7c79-4736-cc35-731edf703df5"
   },
   "outputs": [
    {
     "name": "stdout",
     "output_type": "stream",
     "text": [
      "epoch: 0 batch: 50 current batch loss: 0.545634388923645\n",
      "epoch: 0 batch: 100 current batch loss: 0.3066594898700714\n",
      "epoch: 0 batch: 150 current batch loss: 0.261968195438385\n",
      "epoch: 0 batch: 200 current batch loss: 0.28638002276420593\n",
      "epoch: 1 batch: 50 current batch loss: 0.1552218645811081\n",
      "epoch: 1 batch: 100 current batch loss: 0.24699795246124268\n",
      "epoch: 1 batch: 150 current batch loss: 0.15639853477478027\n",
      "epoch: 1 batch: 200 current batch loss: 0.10872837156057358\n"
     ]
    }
   ],
   "source": [
    "net = MLP()\n",
    "optimizer = torch.optim.Adam(net.parameters(), 0.001)   #initial and fixed learning rate of 0.001. We will be using ADAM optimizer throughout the workshop\n",
    "                                                        #different choices are possible, but this is outside the scope of this workshop\n",
    "\n",
    "net.train()    #it notifies the network layers (especially batchnorm or dropout layers, which we don't use in this example) that we are doing traning\n",
    "for epoch in range(2):  #  an epoch is a training run through the whole data set\n",
    "\n",
    "    loss = 0.0\n",
    "    for batch, data in enumerate(mnist_train_dataloader):\n",
    "        batch_inputs, batch_labels = data\n",
    "        #batch_inputs.squeeze(1)     #alternatively if not for a Flatten layer, squeeze() could be used to remove the second order of the tensor, the Channel, which is one-dimensional (this index can be equal to 0 only)\n",
    "        \n",
    "        optimizer.zero_grad()\n",
    "\n",
    "        batch_outputs = net(batch_inputs)   #this line calls the forward(self, x) method of the MLP object. Please note, that the last layer of the MLP is linear \n",
    "                                            #and MLP doesn't apply \n",
    "                                            #the nonlinear activation after the last layer\n",
    "        loss = torch.nn.functional.cross_entropy(batch_outputs, batch_labels, reduction = \"mean\") #instead, nonlinear softmax is applied internally in THIS loss function\n",
    "        if (batch+1) % 50 == 0:\n",
    "            print(\"epoch:\", epoch, \"batch:\", batch+1, \"current batch loss:\", loss.item()) \n",
    "        loss.backward()       #this computes gradients as we have seen in previous workshops\n",
    "        optimizer.step()     #but this line in fact updates our neural network. \n",
    "                                ####You can experiment - comment this line and check, that the loss DOES NOT improve, meaning that the network doesn't update"
   ]
  },
  {
   "cell_type": "markdown",
   "id": "adopted-carry",
   "metadata": {
    "id": "governing-speech"
   },
   "source": [
    "# GPU computing"
   ]
  },
  {
   "cell_type": "code",
   "execution_count": 11,
   "id": "assured-permit",
   "metadata": {
    "colab": {
     "base_uri": "https://localhost:8080/"
    },
    "id": "ranking-greene",
    "outputId": "ba234543-fc21-40bc-8226-089822fccd09"
   },
   "outputs": [
    {
     "name": "stdout",
     "output_type": "stream",
     "text": [
      "tensor([1.3000, 4.5000])\n",
      "cpu\n"
     ]
    }
   ],
   "source": [
    "t =torch.tensor([1.3, 4.5])\n",
    "print(t)\n",
    "print(t.device)"
   ]
  },
  {
   "cell_type": "markdown",
   "id": "military-search",
   "metadata": {
    "id": "adverse-category"
   },
   "source": [
    "check if CUDA (GPU) is available"
   ]
  },
  {
   "cell_type": "code",
   "execution_count": 12,
   "id": "friendly-composite",
   "metadata": {
    "colab": {
     "base_uri": "https://localhost:8080/"
    },
    "id": "nearby-strategy",
    "outputId": "f1f63a10-3075-4f88-d500-03e11c8cfb3c"
   },
   "outputs": [
    {
     "data": {
      "text/plain": [
       "True"
      ]
     },
     "execution_count": 12,
     "metadata": {},
     "output_type": "execute_result"
    }
   ],
   "source": [
    "torch.cuda.is_available()"
   ]
  },
  {
   "cell_type": "markdown",
   "id": "adult-frederick",
   "metadata": {
    "id": "retained-option"
   },
   "source": [
    "If you get `False`, in Colab panel do the following: Runtime -> Change runtime type\n",
    "Set \"Hardware accelerator\" to \"GPU\", click \"Save\"\n",
    "\n",
    "You get new runtime, all variables and imports are cleared - please run cells above (without time consuming training)\n"
   ]
  },
  {
   "cell_type": "code",
   "execution_count": null,
   "id": "chief-citation",
   "metadata": {
    "colab": {
     "base_uri": "https://localhost:8080/"
    },
    "id": "first-gender",
    "outputId": "bc390fc4-ceb1-4f7d-d116-2474a0542a7a"
   },
   "outputs": [
    {
     "data": {
      "text/plain": [
       "True"
      ]
     },
     "execution_count": 13,
     "metadata": {},
     "output_type": "execute_result"
    }
   ],
   "source": [
    "torch.cuda.is_available()"
   ]
  },
  {
   "cell_type": "markdown",
   "id": "forty-scheduling",
   "metadata": {
    "id": "higher-merit"
   },
   "source": [
    "You can set device for computation for tensors and torch modules (e.g. models)"
   ]
  },
  {
   "cell_type": "code",
   "execution_count": 13,
   "id": "academic-vanilla",
   "metadata": {
    "colab": {
     "base_uri": "https://localhost:8080/"
    },
    "id": "limited-london",
    "outputId": "632cae91-dc40-45b3-a1ce-f9a914cd46be"
   },
   "outputs": [
    {
     "name": "stdout",
     "output_type": "stream",
     "text": [
      "torch.float32 cpu\n",
      "torch.float32 cpu Tensor still on cpu\n",
      "torch.float32 cuda:0 Tensor on gpu\n"
     ]
    }
   ],
   "source": [
    "t =torch.tensor([1.3, 4.5])\n",
    "print(t.dtype, t.device)\n",
    "t_cuda = t.to('cuda'); #equivalent to t.cuda()\n",
    "print(t.dtype, t.device, 'Tensor still on cpu')\n",
    "print(t_cuda.dtype, t_cuda.device, 'Tensor on gpu')"
   ]
  },
  {
   "cell_type": "markdown",
   "id": "military-exhibition",
   "metadata": {
    "id": "bapt-Uw0aonZ"
   },
   "source": [
    "You can only do mathematical operation on tensors stored on the same device"
   ]
  },
  {
   "cell_type": "code",
   "execution_count": 16,
   "id": "possible-television",
   "metadata": {
    "colab": {
     "base_uri": "https://localhost:8080/"
    },
    "id": "v1OiikuKa3Pj",
    "outputId": "6ffea396-150f-47d4-dc6d-20e81c9c711c"
   },
   "outputs": [
    {
     "name": "stdout",
     "output_type": "stream",
     "text": [
      "tensor([ 3.9000, 13.5000])\n",
      "tensor([ 3.9000, 13.5000], device='cuda:0')\n"
     ]
    }
   ],
   "source": [
    "print(torch.tensor([1.3, 4.5]) * torch.tensor([3.]))\n",
    "print(torch.tensor([1.3, 4.5]).to('cuda') * torch.tensor([3.]).to('cuda'))"
   ]
  },
  {
   "cell_type": "code",
   "execution_count": 17,
   "id": "resident-shepherd",
   "metadata": {
    "colab": {
     "base_uri": "https://localhost:8080/",
     "height": 170
    },
    "id": "Ffane--qbQyh",
    "outputId": "950d7443-0eb0-4eb3-e95b-537556dbee8c"
   },
   "outputs": [
    {
     "ename": "RuntimeError",
     "evalue": "ignored",
     "output_type": "error",
     "traceback": [
      "\u001b[0;31m---------------------------------------------------------------------------\u001b[0m",
      "\u001b[0;31mRuntimeError\u001b[0m                              Traceback (most recent call last)",
      "\u001b[0;32m<ipython-input-17-5dc3a66bc07d>\u001b[0m in \u001b[0;36m<module>\u001b[0;34m()\u001b[0m\n\u001b[0;32m----> 1\u001b[0;31m \u001b[0mprint\u001b[0m\u001b[0;34m(\u001b[0m\u001b[0mtorch\u001b[0m\u001b[0;34m.\u001b[0m\u001b[0mtensor\u001b[0m\u001b[0;34m(\u001b[0m\u001b[0;34m[\u001b[0m\u001b[0;36m1.3\u001b[0m\u001b[0;34m,\u001b[0m \u001b[0;36m4.5\u001b[0m\u001b[0;34m]\u001b[0m\u001b[0;34m)\u001b[0m\u001b[0;34m.\u001b[0m\u001b[0mto\u001b[0m\u001b[0;34m(\u001b[0m\u001b[0;34m'cuda'\u001b[0m\u001b[0;34m)\u001b[0m \u001b[0;34m*\u001b[0m \u001b[0mtorch\u001b[0m\u001b[0;34m.\u001b[0m\u001b[0mtensor\u001b[0m\u001b[0;34m(\u001b[0m\u001b[0;34m[\u001b[0m\u001b[0;36m3.\u001b[0m\u001b[0;34m]\u001b[0m\u001b[0;34m)\u001b[0m\u001b[0;34m)\u001b[0m\u001b[0;34m\u001b[0m\u001b[0;34m\u001b[0m\u001b[0m\n\u001b[0m",
      "\u001b[0;31mRuntimeError\u001b[0m: Expected all tensors to be on the same device, but found at least two devices, cuda:0 and cpu!"
     ]
    }
   ],
   "source": [
    "print(torch.tensor([1.3, 4.5]).to('cuda') * torch.tensor([3.]))"
   ]
  },
  {
   "cell_type": "markdown",
   "id": "signed-sucking",
   "metadata": {
    "id": "dried-burner"
   },
   "source": [
    "Let's create sample model and input for the model"
   ]
  },
  {
   "cell_type": "code",
   "execution_count": 18,
   "id": "facial-spending",
   "metadata": {
    "id": "automatic-friend"
   },
   "outputs": [],
   "source": [
    "model = MLP()\n",
    "model_input = torch.rand(1,1,28,28)"
   ]
  },
  {
   "cell_type": "markdown",
   "id": "authentic-alfred",
   "metadata": {
    "id": "desirable-isolation"
   },
   "source": [
    "By dafault, all instances are created for cpu calculations"
   ]
  },
  {
   "cell_type": "code",
   "execution_count": 19,
   "id": "numerous-connectivity",
   "metadata": {
    "id": "distributed-leone"
   },
   "outputs": [],
   "source": [
    "out = model(model_input)"
   ]
  },
  {
   "cell_type": "markdown",
   "id": "confused-maldives",
   "metadata": {
    "id": "appointed-columbus"
   },
   "source": [
    "Model (torch.nn.Module) can be transferred to gpu in this way:\n",
    "(note, that Modules are transferred \"in place\", while tensors are copied)"
   ]
  },
  {
   "cell_type": "code",
   "execution_count": 21,
   "id": "renewable-nelson",
   "metadata": {
    "colab": {
     "base_uri": "https://localhost:8080/"
    },
    "id": "helpful-albany",
    "outputId": "203aafad-1e02-47b6-f060-807ea0617f21"
   },
   "outputs": [
    {
     "data": {
      "text/plain": [
       "MLP(\n",
       "  (mlp): Sequential(\n",
       "    (0): Flatten(start_dim=1, end_dim=-1)\n",
       "    (1): Linear(in_features=784, out_features=1024, bias=True)\n",
       "    (2): Sigmoid()\n",
       "    (3): Linear(in_features=1024, out_features=256, bias=True)\n",
       "    (4): Sigmoid()\n",
       "    (5): Linear(in_features=256, out_features=10, bias=True)\n",
       "  )\n",
       ")"
      ]
     },
     "execution_count": 21,
     "metadata": {},
     "output_type": "execute_result"
    }
   ],
   "source": [
    "model.to('cuda')"
   ]
  },
  {
   "cell_type": "markdown",
   "id": "prepared-cholesterol",
   "metadata": {
    "id": "magnetic-sacramento"
   },
   "source": [
    "Now it will work with 'gpu' input, but fail for 'cpu'"
   ]
  },
  {
   "cell_type": "code",
   "execution_count": null,
   "id": "imported-estimate",
   "metadata": {
    "colab": {
     "base_uri": "https://localhost:8080/",
     "height": 340
    },
    "id": "psychological-indian",
    "outputId": "2db501d4-1f7c-4cfe-d438-6475b216c040"
   },
   "outputs": [
    {
     "ename": "RuntimeError",
     "evalue": "ignored",
     "output_type": "error",
     "traceback": [
      "\u001b[0;31m---------------------------------------------------------------------------\u001b[0m",
      "\u001b[0;31mRuntimeError\u001b[0m                              Traceback (most recent call last)",
      "\u001b[0;32m<ipython-input-18-368070024feb>\u001b[0m in \u001b[0;36m<module>\u001b[0;34m()\u001b[0m\n\u001b[0;32m----> 1\u001b[0;31m \u001b[0mout\u001b[0m \u001b[0;34m=\u001b[0m \u001b[0mmodel\u001b[0m\u001b[0;34m(\u001b[0m\u001b[0mmodel_input\u001b[0m\u001b[0;34m)\u001b[0m\u001b[0;34m\u001b[0m\u001b[0;34m\u001b[0m\u001b[0m\n\u001b[0m",
      "\u001b[0;32m/usr/local/lib/python3.7/dist-packages/torch/nn/modules/module.py\u001b[0m in \u001b[0;36m_call_impl\u001b[0;34m(self, *input, **kwargs)\u001b[0m\n\u001b[1;32m   1100\u001b[0m         if not (self._backward_hooks or self._forward_hooks or self._forward_pre_hooks or _global_backward_hooks\n\u001b[1;32m   1101\u001b[0m                 or _global_forward_hooks or _global_forward_pre_hooks):\n\u001b[0;32m-> 1102\u001b[0;31m             \u001b[0;32mreturn\u001b[0m \u001b[0mforward_call\u001b[0m\u001b[0;34m(\u001b[0m\u001b[0;34m*\u001b[0m\u001b[0minput\u001b[0m\u001b[0;34m,\u001b[0m \u001b[0;34m**\u001b[0m\u001b[0mkwargs\u001b[0m\u001b[0;34m)\u001b[0m\u001b[0;34m\u001b[0m\u001b[0;34m\u001b[0m\u001b[0m\n\u001b[0m\u001b[1;32m   1103\u001b[0m         \u001b[0;31m# Do not call functions when jit is used\u001b[0m\u001b[0;34m\u001b[0m\u001b[0;34m\u001b[0m\u001b[0;34m\u001b[0m\u001b[0m\n\u001b[1;32m   1104\u001b[0m         \u001b[0mfull_backward_hooks\u001b[0m\u001b[0;34m,\u001b[0m \u001b[0mnon_full_backward_hooks\u001b[0m \u001b[0;34m=\u001b[0m \u001b[0;34m[\u001b[0m\u001b[0;34m]\u001b[0m\u001b[0;34m,\u001b[0m \u001b[0;34m[\u001b[0m\u001b[0;34m]\u001b[0m\u001b[0;34m\u001b[0m\u001b[0;34m\u001b[0m\u001b[0m\n",
      "\u001b[0;32m<ipython-input-9-3190f9cfd312>\u001b[0m in \u001b[0;36mforward\u001b[0;34m(self, x)\u001b[0m\n\u001b[1;32m     14\u001b[0m         )\n\u001b[1;32m     15\u001b[0m     \u001b[0;32mdef\u001b[0m \u001b[0mforward\u001b[0m\u001b[0;34m(\u001b[0m\u001b[0mself\u001b[0m\u001b[0;34m,\u001b[0m \u001b[0mx\u001b[0m\u001b[0;34m)\u001b[0m\u001b[0;34m:\u001b[0m \u001b[0;31m# run model, called at out = model(x)\u001b[0m\u001b[0;34m\u001b[0m\u001b[0;34m\u001b[0m\u001b[0m\n\u001b[0;32m---> 16\u001b[0;31m         \u001b[0mout\u001b[0m \u001b[0;34m=\u001b[0m \u001b[0mself\u001b[0m\u001b[0;34m.\u001b[0m\u001b[0mmlp\u001b[0m\u001b[0;34m(\u001b[0m\u001b[0mx\u001b[0m\u001b[0;34m)\u001b[0m\u001b[0;34m\u001b[0m\u001b[0;34m\u001b[0m\u001b[0m\n\u001b[0m\u001b[1;32m     17\u001b[0m         \u001b[0;32mreturn\u001b[0m \u001b[0mout\u001b[0m\u001b[0;34m\u001b[0m\u001b[0;34m\u001b[0m\u001b[0m\n",
      "\u001b[0;32m/usr/local/lib/python3.7/dist-packages/torch/nn/modules/module.py\u001b[0m in \u001b[0;36m_call_impl\u001b[0;34m(self, *input, **kwargs)\u001b[0m\n\u001b[1;32m   1100\u001b[0m         if not (self._backward_hooks or self._forward_hooks or self._forward_pre_hooks or _global_backward_hooks\n\u001b[1;32m   1101\u001b[0m                 or _global_forward_hooks or _global_forward_pre_hooks):\n\u001b[0;32m-> 1102\u001b[0;31m             \u001b[0;32mreturn\u001b[0m \u001b[0mforward_call\u001b[0m\u001b[0;34m(\u001b[0m\u001b[0;34m*\u001b[0m\u001b[0minput\u001b[0m\u001b[0;34m,\u001b[0m \u001b[0;34m**\u001b[0m\u001b[0mkwargs\u001b[0m\u001b[0;34m)\u001b[0m\u001b[0;34m\u001b[0m\u001b[0;34m\u001b[0m\u001b[0m\n\u001b[0m\u001b[1;32m   1103\u001b[0m         \u001b[0;31m# Do not call functions when jit is used\u001b[0m\u001b[0;34m\u001b[0m\u001b[0;34m\u001b[0m\u001b[0;34m\u001b[0m\u001b[0m\n\u001b[1;32m   1104\u001b[0m         \u001b[0mfull_backward_hooks\u001b[0m\u001b[0;34m,\u001b[0m \u001b[0mnon_full_backward_hooks\u001b[0m \u001b[0;34m=\u001b[0m \u001b[0;34m[\u001b[0m\u001b[0;34m]\u001b[0m\u001b[0;34m,\u001b[0m \u001b[0;34m[\u001b[0m\u001b[0;34m]\u001b[0m\u001b[0;34m\u001b[0m\u001b[0;34m\u001b[0m\u001b[0m\n",
      "\u001b[0;32m/usr/local/lib/python3.7/dist-packages/torch/nn/modules/container.py\u001b[0m in \u001b[0;36mforward\u001b[0;34m(self, input)\u001b[0m\n\u001b[1;32m    139\u001b[0m     \u001b[0;32mdef\u001b[0m \u001b[0mforward\u001b[0m\u001b[0;34m(\u001b[0m\u001b[0mself\u001b[0m\u001b[0;34m,\u001b[0m \u001b[0minput\u001b[0m\u001b[0;34m)\u001b[0m\u001b[0;34m:\u001b[0m\u001b[0;34m\u001b[0m\u001b[0;34m\u001b[0m\u001b[0m\n\u001b[1;32m    140\u001b[0m         \u001b[0;32mfor\u001b[0m \u001b[0mmodule\u001b[0m \u001b[0;32min\u001b[0m \u001b[0mself\u001b[0m\u001b[0;34m:\u001b[0m\u001b[0;34m\u001b[0m\u001b[0;34m\u001b[0m\u001b[0m\n\u001b[0;32m--> 141\u001b[0;31m             \u001b[0minput\u001b[0m \u001b[0;34m=\u001b[0m \u001b[0mmodule\u001b[0m\u001b[0;34m(\u001b[0m\u001b[0minput\u001b[0m\u001b[0;34m)\u001b[0m\u001b[0;34m\u001b[0m\u001b[0;34m\u001b[0m\u001b[0m\n\u001b[0m\u001b[1;32m    142\u001b[0m         \u001b[0;32mreturn\u001b[0m \u001b[0minput\u001b[0m\u001b[0;34m\u001b[0m\u001b[0;34m\u001b[0m\u001b[0m\n\u001b[1;32m    143\u001b[0m \u001b[0;34m\u001b[0m\u001b[0m\n",
      "\u001b[0;32m/usr/local/lib/python3.7/dist-packages/torch/nn/modules/module.py\u001b[0m in \u001b[0;36m_call_impl\u001b[0;34m(self, *input, **kwargs)\u001b[0m\n\u001b[1;32m   1100\u001b[0m         if not (self._backward_hooks or self._forward_hooks or self._forward_pre_hooks or _global_backward_hooks\n\u001b[1;32m   1101\u001b[0m                 or _global_forward_hooks or _global_forward_pre_hooks):\n\u001b[0;32m-> 1102\u001b[0;31m             \u001b[0;32mreturn\u001b[0m \u001b[0mforward_call\u001b[0m\u001b[0;34m(\u001b[0m\u001b[0;34m*\u001b[0m\u001b[0minput\u001b[0m\u001b[0;34m,\u001b[0m \u001b[0;34m**\u001b[0m\u001b[0mkwargs\u001b[0m\u001b[0;34m)\u001b[0m\u001b[0;34m\u001b[0m\u001b[0;34m\u001b[0m\u001b[0m\n\u001b[0m\u001b[1;32m   1103\u001b[0m         \u001b[0;31m# Do not call functions when jit is used\u001b[0m\u001b[0;34m\u001b[0m\u001b[0;34m\u001b[0m\u001b[0;34m\u001b[0m\u001b[0m\n\u001b[1;32m   1104\u001b[0m         \u001b[0mfull_backward_hooks\u001b[0m\u001b[0;34m,\u001b[0m \u001b[0mnon_full_backward_hooks\u001b[0m \u001b[0;34m=\u001b[0m \u001b[0;34m[\u001b[0m\u001b[0;34m]\u001b[0m\u001b[0;34m,\u001b[0m \u001b[0;34m[\u001b[0m\u001b[0;34m]\u001b[0m\u001b[0;34m\u001b[0m\u001b[0;34m\u001b[0m\u001b[0m\n",
      "\u001b[0;32m/usr/local/lib/python3.7/dist-packages/torch/nn/modules/linear.py\u001b[0m in \u001b[0;36mforward\u001b[0;34m(self, input)\u001b[0m\n\u001b[1;32m    101\u001b[0m \u001b[0;34m\u001b[0m\u001b[0m\n\u001b[1;32m    102\u001b[0m     \u001b[0;32mdef\u001b[0m \u001b[0mforward\u001b[0m\u001b[0;34m(\u001b[0m\u001b[0mself\u001b[0m\u001b[0;34m,\u001b[0m \u001b[0minput\u001b[0m\u001b[0;34m:\u001b[0m \u001b[0mTensor\u001b[0m\u001b[0;34m)\u001b[0m \u001b[0;34m->\u001b[0m \u001b[0mTensor\u001b[0m\u001b[0;34m:\u001b[0m\u001b[0;34m\u001b[0m\u001b[0;34m\u001b[0m\u001b[0m\n\u001b[0;32m--> 103\u001b[0;31m         \u001b[0;32mreturn\u001b[0m \u001b[0mF\u001b[0m\u001b[0;34m.\u001b[0m\u001b[0mlinear\u001b[0m\u001b[0;34m(\u001b[0m\u001b[0minput\u001b[0m\u001b[0;34m,\u001b[0m \u001b[0mself\u001b[0m\u001b[0;34m.\u001b[0m\u001b[0mweight\u001b[0m\u001b[0;34m,\u001b[0m \u001b[0mself\u001b[0m\u001b[0;34m.\u001b[0m\u001b[0mbias\u001b[0m\u001b[0;34m)\u001b[0m\u001b[0;34m\u001b[0m\u001b[0;34m\u001b[0m\u001b[0m\n\u001b[0m\u001b[1;32m    104\u001b[0m \u001b[0;34m\u001b[0m\u001b[0m\n\u001b[1;32m    105\u001b[0m     \u001b[0;32mdef\u001b[0m \u001b[0mextra_repr\u001b[0m\u001b[0;34m(\u001b[0m\u001b[0mself\u001b[0m\u001b[0;34m)\u001b[0m \u001b[0;34m->\u001b[0m \u001b[0mstr\u001b[0m\u001b[0;34m:\u001b[0m\u001b[0;34m\u001b[0m\u001b[0;34m\u001b[0m\u001b[0m\n",
      "\u001b[0;32m/usr/local/lib/python3.7/dist-packages/torch/nn/functional.py\u001b[0m in \u001b[0;36mlinear\u001b[0;34m(input, weight, bias)\u001b[0m\n\u001b[1;32m   1846\u001b[0m     \u001b[0;32mif\u001b[0m \u001b[0mhas_torch_function_variadic\u001b[0m\u001b[0;34m(\u001b[0m\u001b[0minput\u001b[0m\u001b[0;34m,\u001b[0m \u001b[0mweight\u001b[0m\u001b[0;34m,\u001b[0m \u001b[0mbias\u001b[0m\u001b[0;34m)\u001b[0m\u001b[0;34m:\u001b[0m\u001b[0;34m\u001b[0m\u001b[0;34m\u001b[0m\u001b[0m\n\u001b[1;32m   1847\u001b[0m         \u001b[0;32mreturn\u001b[0m \u001b[0mhandle_torch_function\u001b[0m\u001b[0;34m(\u001b[0m\u001b[0mlinear\u001b[0m\u001b[0;34m,\u001b[0m \u001b[0;34m(\u001b[0m\u001b[0minput\u001b[0m\u001b[0;34m,\u001b[0m \u001b[0mweight\u001b[0m\u001b[0;34m,\u001b[0m \u001b[0mbias\u001b[0m\u001b[0;34m)\u001b[0m\u001b[0;34m,\u001b[0m \u001b[0minput\u001b[0m\u001b[0;34m,\u001b[0m \u001b[0mweight\u001b[0m\u001b[0;34m,\u001b[0m \u001b[0mbias\u001b[0m\u001b[0;34m=\u001b[0m\u001b[0mbias\u001b[0m\u001b[0;34m)\u001b[0m\u001b[0;34m\u001b[0m\u001b[0;34m\u001b[0m\u001b[0m\n\u001b[0;32m-> 1848\u001b[0;31m     \u001b[0;32mreturn\u001b[0m \u001b[0mtorch\u001b[0m\u001b[0;34m.\u001b[0m\u001b[0m_C\u001b[0m\u001b[0;34m.\u001b[0m\u001b[0m_nn\u001b[0m\u001b[0;34m.\u001b[0m\u001b[0mlinear\u001b[0m\u001b[0;34m(\u001b[0m\u001b[0minput\u001b[0m\u001b[0;34m,\u001b[0m \u001b[0mweight\u001b[0m\u001b[0;34m,\u001b[0m \u001b[0mbias\u001b[0m\u001b[0;34m)\u001b[0m\u001b[0;34m\u001b[0m\u001b[0;34m\u001b[0m\u001b[0m\n\u001b[0m\u001b[1;32m   1849\u001b[0m \u001b[0;34m\u001b[0m\u001b[0m\n\u001b[1;32m   1850\u001b[0m \u001b[0;34m\u001b[0m\u001b[0m\n",
      "\u001b[0;31mRuntimeError\u001b[0m: Expected all tensors to be on the same device, but found at least two devices, cuda:0 and cpu! (when checking argument for argument mat1 in method wrapper_addmm)"
     ]
    }
   ],
   "source": [
    "out = model(model_input)"
   ]
  },
  {
   "cell_type": "code",
   "execution_count": null,
   "id": "intended-attendance",
   "metadata": {
    "id": "amateur-speed"
   },
   "outputs": [],
   "source": [
    "out = model(model_input.to('cuda'))"
   ]
  },
  {
   "cell_type": "markdown",
   "id": "lyric-hammer",
   "metadata": {
    "id": "entertaining-cassette"
   },
   "source": [
    "The output is also located on gpu"
   ]
  },
  {
   "cell_type": "code",
   "execution_count": null,
   "id": "failing-meditation",
   "metadata": {
    "id": "framed-inspection"
   },
   "outputs": [],
   "source": [
    "print(out.device)"
   ]
  },
  {
   "cell_type": "markdown",
   "id": "another-credits",
   "metadata": {
    "id": "respective-skill"
   },
   "source": [
    "Caution! PyTorch Modules (e.g. models) do not have 'device' attribute (you will get `AttributeError`)"
   ]
  },
  {
   "cell_type": "code",
   "execution_count": null,
   "id": "stainless-cathedral",
   "metadata": {
    "colab": {
     "base_uri": "https://localhost:8080/",
     "height": 298
    },
    "id": "raised-scotland",
    "outputId": "a00580a8-6376-4eed-848c-6a49fc48df49"
   },
   "outputs": [
    {
     "ename": "AttributeError",
     "evalue": "ignored",
     "output_type": "error",
     "traceback": [
      "\u001b[0;31m---------------------------------------------------------------------------\u001b[0m",
      "\u001b[0;31mAttributeError\u001b[0m                            Traceback (most recent call last)",
      "\u001b[0;32m<ipython-input-19-12a22a2b52d7>\u001b[0m in \u001b[0;36m<module>\u001b[0;34m()\u001b[0m\n\u001b[0;32m----> 1\u001b[0;31m \u001b[0mmodel\u001b[0m\u001b[0;34m.\u001b[0m\u001b[0mdevice\u001b[0m\u001b[0;34m\u001b[0m\u001b[0;34m\u001b[0m\u001b[0m\n\u001b[0m",
      "\u001b[0;32m/usr/local/lib/python3.7/dist-packages/torch/nn/modules/module.py\u001b[0m in \u001b[0;36m__getattr__\u001b[0;34m(self, name)\u001b[0m\n\u001b[1;32m   1176\u001b[0m                 \u001b[0;32mreturn\u001b[0m \u001b[0mmodules\u001b[0m\u001b[0;34m[\u001b[0m\u001b[0mname\u001b[0m\u001b[0;34m]\u001b[0m\u001b[0;34m\u001b[0m\u001b[0;34m\u001b[0m\u001b[0m\n\u001b[1;32m   1177\u001b[0m         raise AttributeError(\"'{}' object has no attribute '{}'\".format(\n\u001b[0;32m-> 1178\u001b[0;31m             type(self).__name__, name))\n\u001b[0m\u001b[1;32m   1179\u001b[0m \u001b[0;34m\u001b[0m\u001b[0m\n\u001b[1;32m   1180\u001b[0m     \u001b[0;32mdef\u001b[0m \u001b[0m__setattr__\u001b[0m\u001b[0;34m(\u001b[0m\u001b[0mself\u001b[0m\u001b[0;34m,\u001b[0m \u001b[0mname\u001b[0m\u001b[0;34m:\u001b[0m \u001b[0mstr\u001b[0m\u001b[0;34m,\u001b[0m \u001b[0mvalue\u001b[0m\u001b[0;34m:\u001b[0m \u001b[0mUnion\u001b[0m\u001b[0;34m[\u001b[0m\u001b[0mTensor\u001b[0m\u001b[0;34m,\u001b[0m \u001b[0;34m'Module'\u001b[0m\u001b[0;34m]\u001b[0m\u001b[0;34m)\u001b[0m \u001b[0;34m->\u001b[0m \u001b[0;32mNone\u001b[0m\u001b[0;34m:\u001b[0m\u001b[0;34m\u001b[0m\u001b[0;34m\u001b[0m\u001b[0m\n",
      "\u001b[0;31mAttributeError\u001b[0m: 'MLP' object has no attribute 'device'"
     ]
    }
   ],
   "source": [
    "model.device"
   ]
  },
  {
   "cell_type": "markdown",
   "id": "invalid-layer",
   "metadata": {
    "id": "2qL7YSuOuJgb"
   },
   "source": [
    "In practice, we usually keep the device (CPU or GPU) as a variable, and apply it to modules and data:"
   ]
  },
  {
   "cell_type": "code",
   "execution_count": 23,
   "id": "consecutive-neutral",
   "metadata": {
    "colab": {
     "base_uri": "https://localhost:8080/"
    },
    "id": "oT2MkkVRuWVS",
    "outputId": "c03b4c42-258b-4c42-e43c-8ba4e71bd33c"
   },
   "outputs": [
    {
     "name": "stdout",
     "output_type": "stream",
     "text": [
      "device: cuda\n"
     ]
    }
   ],
   "source": [
    "device = 'cuda' if torch.cuda.is_available() else 'cpu'\n",
    "print('device:', device)"
   ]
  },
  {
   "cell_type": "code",
   "execution_count": 24,
   "id": "destroyed-moderator",
   "metadata": {
    "id": "AX4UH8B3uhzH"
   },
   "outputs": [],
   "source": [
    "model.to(device);"
   ]
  },
  {
   "cell_type": "code",
   "execution_count": 25,
   "id": "bridal-looking",
   "metadata": {
    "colab": {
     "base_uri": "https://localhost:8080/"
    },
    "id": "Z7Yl4VcJunSs",
    "outputId": "934662ae-54b0-403d-980c-f33ef6487859"
   },
   "outputs": [
    {
     "name": "stdout",
     "output_type": "stream",
     "text": [
      "`model_input` device: cpu\n"
     ]
    }
   ],
   "source": [
    "model_input = torch.rand(1,1,28,28)\n",
    "print('`model_input` device:', model_input.device)"
   ]
  },
  {
   "cell_type": "code",
   "execution_count": 26,
   "id": "occupational-acrobat",
   "metadata": {
    "colab": {
     "base_uri": "https://localhost:8080/"
    },
    "id": "mqBsG5Xeur_V",
    "outputId": "41c667dd-a807-4364-8295-fb844fadfd24"
   },
   "outputs": [
    {
     "name": "stdout",
     "output_type": "stream",
     "text": [
      "output data is on device: cuda:0\n"
     ]
    }
   ],
   "source": [
    "model_output = model(model_input.to(device))\n",
    "print('output data is on device:', model_output.device)"
   ]
  },
  {
   "cell_type": "markdown",
   "id": "golden-mattress",
   "metadata": {
    "id": "FkpYia9ScF2O"
   },
   "source": [
    "Before converting to numpy array, tensors must be transferred to CPU and detached from computational graph. That all takes a long command `.detach().cpu().numpy()`:"
   ]
  },
  {
   "cell_type": "code",
   "execution_count": 29,
   "id": "faced-anthony",
   "metadata": {
    "colab": {
     "base_uri": "https://localhost:8080/"
    },
    "id": "luXqacffcQ1D",
    "outputId": "357264d4-5119-4aa1-bbbf-c9cbcab73c50"
   },
   "outputs": [
    {
     "name": "stdout",
     "output_type": "stream",
     "text": [
      "<class 'numpy.ndarray'>\n",
      "[[ 0.09971701 -0.26317608 -0.44402343  0.31709966 -0.13754523 -0.18311526\n",
      "  -0.02688195 -0.29058957  0.15600584  0.09095553]]\n"
     ]
    }
   ],
   "source": [
    "model_output_numpy = model_output.detach().cpu().numpy()\n",
    "print(type(model_output_numpy))\n",
    "print(model_output_numpy)"
   ]
  },
  {
   "cell_type": "markdown",
   "id": "primary-growth",
   "metadata": {
    "id": "connected-aviation"
   },
   "source": [
    "# Autoencoders"
   ]
  },
  {
   "cell_type": "markdown",
   "id": "corresponding-victorian",
   "metadata": {
    "id": "august-ontario"
   },
   "source": [
    "## Data"
   ]
  },
  {
   "cell_type": "markdown",
   "id": "organized-blake",
   "metadata": {
    "id": "literary-cancellation"
   },
   "source": [
    "First, let's have a look on the data. They are MNIST dataset - the same as last week."
   ]
  },
  {
   "cell_type": "markdown",
   "id": "attached-treatment",
   "metadata": {
    "id": "universal-layer"
   },
   "source": [
    "This time images are not normalized"
   ]
  },
  {
   "cell_type": "code",
   "execution_count": 30,
   "id": "useful-hampton",
   "metadata": {
    "id": "molecular-january"
   },
   "outputs": [],
   "source": [
    "from torchvision.datasets import MNIST\n",
    "from torchvision import  transforms"
   ]
  },
  {
   "cell_type": "code",
   "execution_count": 31,
   "id": "conventional-knight",
   "metadata": {
    "id": "moderate-worcester"
   },
   "outputs": [],
   "source": [
    "transform = transforms.ToTensor()"
   ]
  },
  {
   "cell_type": "code",
   "execution_count": 32,
   "id": "hollywood-inspector",
   "metadata": {
    "id": "alike-extraction"
   },
   "outputs": [],
   "source": [
    "mnist_train = MNIST(DATASETS_PATH, train=True, download=True, transform=transform);\n",
    "mnist_test = MNIST(DATASETS_PATH, train=False, download=True, transform=transform);"
   ]
  },
  {
   "cell_type": "markdown",
   "id": "metallic-accessory",
   "metadata": {
    "id": "polyphonic-armor"
   },
   "source": [
    "Let's see what the data look like"
   ]
  },
  {
   "cell_type": "code",
   "execution_count": 33,
   "id": "induced-uniform",
   "metadata": {
    "colab": {
     "base_uri": "https://localhost:8080/"
    },
    "id": "individual-providence",
    "outputId": "d82ec31c-28e2-46f5-e423-03c8047a4c96"
   },
   "outputs": [
    {
     "name": "stdout",
     "output_type": "stream",
     "text": [
      "image type: <class 'torch.Tensor'>, image shape: torch.Size([1, 28, 28]), target: 5, target class name: 5 - five\n"
     ]
    }
   ],
   "source": [
    "img, target = mnist_train[0]\n",
    "print(f'image type: {type(img)}, image shape: {img.shape}, target: {target}, target class name: {mnist_train.classes[target]}')"
   ]
  },
  {
   "cell_type": "markdown",
   "id": "integrated-palestinian",
   "metadata": {
    "id": "mental-collar"
   },
   "source": [
    "The image is a torch.Tensor object, and the target an integer. Notice that the image has 3 dimensions: single channel and 28 height x 28 width \\\n",
    "In order to visualize it correctly, we need to reduce it to 2 dimensional  height x width tensor"
   ]
  },
  {
   "cell_type": "code",
   "execution_count": 34,
   "id": "brief-claim",
   "metadata": {
    "colab": {
     "base_uri": "https://localhost:8080/",
     "height": 283
    },
    "id": "ruled-label",
    "outputId": "53270ecd-3d70-4b56-8c78-83726c3b866d"
   },
   "outputs": [
    {
     "data": {
      "text/plain": [
       "<matplotlib.image.AxesImage at 0x7f7325cf8a50>"
      ]
     },
     "execution_count": 34,
     "metadata": {},
     "output_type": "execute_result"
    },
    {
     "data": {
      "image/png": "[encoded data removed]",
      "text/plain": [
       "<Figure size 432x288 with 1 Axes>"
      ]
     },
     "metadata": {
      "needs_background": "light"
     },
     "output_type": "display_data"
    }
   ],
   "source": [
    "plt.imshow(img[0])"
   ]
  },
  {
   "cell_type": "code",
   "execution_count": 35,
   "id": "fewer-action",
   "metadata": {
    "colab": {
     "base_uri": "https://localhost:8080/",
     "height": 199
    },
    "id": "dependent-support",
    "outputId": "368a9183-967a-44de-bbad-e0855f35106e"
   },
   "outputs": [
    {
     "data": {
      "image/png": "[encoded data removed]",
      "text/plain": [
       "<Figure size 1224x360 with 6 Axes>"
      ]
     },
     "metadata": {
      "needs_background": "light"
     },
     "output_type": "display_data"
    }
   ],
   "source": [
    "num_images = 6\n",
    "fig, axs = plt.subplots(ncols=num_images, figsize=(17,5))\n",
    "for i in range(num_images):\n",
    "    img, target = mnist_train[i]\n",
    "    axs[i].imshow(img[0])\n",
    "    axs[i].set_title(f'{mnist_train.classes[target]}')\n",
    "    \n",
    "    "
   ]
  },
  {
   "cell_type": "markdown",
   "id": "unable-workshop",
   "metadata": {
    "id": "assigned-respondent"
   },
   "source": [
    "## Model"
   ]
  },
  {
   "cell_type": "code",
   "execution_count": 36,
   "id": "proper-subject",
   "metadata": {
    "id": "continuing-movement"
   },
   "outputs": [],
   "source": [
    "import torch\n",
    "from torch import nn"
   ]
  },
  {
   "cell_type": "markdown",
   "id": "arabic-burton",
   "metadata": {
    "id": "defined-participant"
   },
   "source": [
    "### Encoder"
   ]
  },
  {
   "cell_type": "markdown",
   "id": "renewable-organic",
   "metadata": {
    "id": "indirect-ontario"
   },
   "source": [
    "#### Your task: write encoder class with a single hidden layer"
   ]
  },
  {
   "cell_type": "markdown",
   "id": "express-domestic",
   "metadata": {
    "id": "auburn-explosion"
   },
   "source": [
    "Let's start with fully-connected model, i. e. perceptron.\n",
    "1. As the input, model should take batch of 1d vectors with of 28x28 length (number of pixels)\n",
    "2. Number of neurons in hidden layer should be an argument of constructor (`__init__` function)\n",
    "3. The same applies to the number of latent space dimesions "
   ]
  },
  {
   "cell_type": "code",
   "execution_count": 37,
   "id": "fifth-consensus",
   "metadata": {
    "id": "employed-chamber"
   },
   "outputs": [],
   "source": [
    "class Encoder_1hl(nn.Module):\n",
    "    def __init__(self, hidden_dim, latent_dim):\n",
    "        \"\"\"\n",
    "        hidden_dim: number of neurons in the hidden layer\n",
    "        latent_dim: number of latent space dimensions\n",
    "        \"\"\"\n",
    "        super().__init__()\n",
    "        #your code here\n",
    "        ...\n",
    "\n",
    "    def forward(self, x):\n",
    "        #your code here\n",
    "        out = ...\n",
    "        return out"
   ]
  },
  {
   "cell_type": "markdown",
   "id": "accredited-trust",
   "metadata": {
    "id": "passive-fiction"
   },
   "source": [
    "Solution:"
   ]
  },
  {
   "cell_type": "code",
   "execution_count": null,
   "id": "compliant-campus",
   "metadata": {
    "id": "better-pizza"
   },
   "outputs": [],
   "source": [
    "class Encoder_1hl(nn.Module):\n",
    "    def __init__(self, hidden_dim, latent_dim):\n",
    "        \"\"\"\n",
    "        hidden_dim: number of neurons in the hidden layer\n",
    "        latent_dim: number of latent space dimensions\n",
    "        \"\"\"\n",
    "        super().__init__()\n",
    "        self.net = nn.Sequential(\n",
    "            nn.Linear(28*28, hidden_dim),\n",
    "            nn.ReLU(),\n",
    "            nn.Linear(hidden_dim, latent_dim),\n",
    "            )\n",
    "\n",
    "    def forward(self, x):\n",
    "        x = self.net(x)\n",
    "        return x"
   ]
  },
  {
   "cell_type": "markdown",
   "id": "operating-charity",
   "metadata": {
    "id": "economic-bubble"
   },
   "source": [
    "Try if it works:"
   ]
  },
  {
   "cell_type": "code",
   "execution_count": 38,
   "id": "stainless-profession",
   "metadata": {
    "colab": {
     "base_uri": "https://localhost:8080/"
    },
    "id": "threaded-praise",
    "outputId": "eb3089e4-2f01-4030-9dac-058545287d82"
   },
   "outputs": [
    {
     "name": "stdout",
     "output_type": "stream",
     "text": [
      "image shape: torch.Size([784])\n"
     ]
    }
   ],
   "source": [
    "#prepare data\n",
    "img, target = mnist_train[0]\n",
    "img = img.view(-1)\n",
    "print('image shape:', img.shape)"
   ]
  },
  {
   "cell_type": "code",
   "execution_count": 39,
   "id": "requested-protocol",
   "metadata": {
    "id": "intelligent-genome"
   },
   "outputs": [],
   "source": [
    "# prepare encoder\n",
    "hidden_dim = 64\n",
    "latent_dim = 12\n",
    "encoder = Encoder_1hl(hidden_dim, latent_dim)"
   ]
  },
  {
   "cell_type": "code",
   "execution_count": 40,
   "id": "different-organic",
   "metadata": {
    "colab": {
     "base_uri": "https://localhost:8080/"
    },
    "id": "fifth-bookmark",
    "outputId": "dd226385-2515-4096-81b2-d40d44add18b"
   },
   "outputs": [
    {
     "name": "stdout",
     "output_type": "stream",
     "text": [
      "batch shape: torch.Size([1, 784])\n",
      "output shape: torch.Size([1, 12])\n"
     ]
    }
   ],
   "source": [
    "# compute representation in latent space\n",
    "batch = img.unsqueeze(0) #model operates on batched input. Let's create batch with one sample\n",
    "print('batch shape:', batch.shape)\n",
    "with torch.no_grad(): #turn off gradient for this calculation\n",
    "    z = encoder(batch)\n",
    "print('output shape:', z.shape)"
   ]
  },
  {
   "cell_type": "markdown",
   "id": "civilian-circus",
   "metadata": {
    "id": "tropical-jerusalem"
   },
   "source": [
    "### Decoder"
   ]
  },
  {
   "cell_type": "code",
   "execution_count": 41,
   "id": "extreme-sleeping",
   "metadata": {
    "id": "fitted-fraction"
   },
   "outputs": [],
   "source": [
    "class Decoder_1hl(nn.Module):\n",
    "    def __init__(self, hidden_dim, latent_dim):\n",
    "        \"\"\"\n",
    "        hidden_dim: number of neurons in the hidden layer\n",
    "        latent_dim: number of latent space dimensions\n",
    "        \"\"\"\n",
    "        super().__init__()\n",
    "        self.net = nn.Sequential(\n",
    "            nn.Linear(latent_dim, hidden_dim),\n",
    "            nn.LeakyReLU(),\n",
    "            nn.Linear(hidden_dim, 28*28),\n",
    "            nn.Sigmoid() # sigmoid function transforms input values (-inf, +inf) to output in range (0, 1)\n",
    "            )\n",
    "            \n",
    "\n",
    "    def forward(self, x):\n",
    "        x = self.net(x)\n",
    "        return x"
   ]
  },
  {
   "cell_type": "markdown",
   "id": "laughing-thirty",
   "metadata": {
    "id": "civil-chester"
   },
   "source": [
    "### Autoencoder = Encoder + Decoder"
   ]
  },
  {
   "cell_type": "markdown",
   "id": "aging-homeless",
   "metadata": {
    "id": "minimal-russian"
   },
   "source": [
    "Let's put it all together."
   ]
  },
  {
   "cell_type": "markdown",
   "id": "worse-spice",
   "metadata": {
    "id": "stone-peace"
   },
   "source": [
    "#### Your task: write autoencoder class\n",
    "\n",
    "Encoder and decoder should have 1 hidden layer each"
   ]
  },
  {
   "cell_type": "code",
   "execution_count": null,
   "id": "weekly-birmingham",
   "metadata": {
    "id": "billion-scientist"
   },
   "outputs": [],
   "source": [
    "class Autoencoder_1hl(nn.Module):\n",
    "    def __init__(self, hidden_dim, latent_dim):\n",
    "        \"\"\"\n",
    "        hidden_dim: number of neurons in the hidden layer\n",
    "        latent_dim: number of latent space dimensions\n",
    "        \"\"\"\n",
    "        super().__init__()\n",
    "        # your code here\n",
    "        ...\n",
    "            \n",
    "    def forward(self, x):\n",
    "        # your code here\n",
    "        z = ... #embedding\n",
    "        x_hat = ... # reconstruction\n",
    "        return x_hat, z # we want to have the embedding"
   ]
  },
  {
   "cell_type": "markdown",
   "id": "identical-replacement",
   "metadata": {
    "id": "possible-nothing"
   },
   "source": [
    "Solution"
   ]
  },
  {
   "cell_type": "code",
   "execution_count": 42,
   "id": "manufactured-namibia",
   "metadata": {
    "id": "vulnerable-horror"
   },
   "outputs": [],
   "source": [
    "class Autoencoder_1hl(nn.Module):\n",
    "    def __init__(self, hidden_dim, latent_dim):\n",
    "        \"\"\"\n",
    "        hidden_dim: number of neurons in the hidden layer\n",
    "        latent_dim: number of latent space dimensions\n",
    "        \"\"\"\n",
    "        super().__init__()\n",
    "        # your code here\n",
    "        self.encoder = Encoder_1hl(hidden_dim, latent_dim)\n",
    "        self.decoder = Decoder_1hl(hidden_dim, latent_dim)\n",
    "            \n",
    "    def forward(self, x):\n",
    "        z = self.encoder(x)\n",
    "        x_hat = self.decoder(z) \n",
    "        return x_hat, z # we want to have the embedding"
   ]
  },
  {
   "cell_type": "code",
   "execution_count": 43,
   "id": "judicial-smell",
   "metadata": {
    "id": "institutional-hawaiian"
   },
   "outputs": [],
   "source": [
    "autoencoder = Autoencoder_1hl(hidden_dim, latent_dim)"
   ]
  },
  {
   "cell_type": "code",
   "execution_count": 44,
   "id": "incredible-yellow",
   "metadata": {
    "colab": {
     "base_uri": "https://localhost:8080/"
    },
    "id": "vocal-northeast",
    "outputId": "ce73ae0f-3de2-4dec-aec9-6641eaa94316"
   },
   "outputs": [
    {
     "name": "stdout",
     "output_type": "stream",
     "text": [
      "batch shape: torch.Size([1, 784])\n",
      "output shape: torch.Size([1, 784])\n",
      "latent shape: torch.Size([1, 12])\n"
     ]
    }
   ],
   "source": [
    "batch = img.unsqueeze(0) #model operates on batched input. Let's create batch with one sample\n",
    "print('batch shape:', batch.shape)\n",
    "with torch.no_grad(): #turn off gradient\n",
    "    x_hat, z = autoencoder(batch)\n",
    "print('output shape:', x_hat.shape)\n",
    "print('latent shape:', z.shape)"
   ]
  },
  {
   "cell_type": "markdown",
   "id": "extraordinary-experiment",
   "metadata": {
    "id": "italian-belfast"
   },
   "source": [
    "So far, the model operates on flatten images. Yet everywhere else we prefer to operate on 1x28x28 images. Let's modify the `forward` function to do the reshaping"
   ]
  },
  {
   "cell_type": "code",
   "execution_count": null,
   "id": "medical-wireless",
   "metadata": {
    "id": "uniform-mapping"
   },
   "outputs": [],
   "source": [
    "class Autoencoder_1hl(nn.Module):\n",
    "    \n",
    "    # paste your __init__ function here\n",
    "\n",
    "    def forward(self, x):\n",
    "        input_shape = x.shape #batch_size, channels, height, width\n",
    "        x = x.reshape(input_shape[0], -1) # usually: x.view(input_shape[0], -1) does the job as well\n",
    "        \n",
    "        # paste the rest of your forward function here\n",
    "        \n",
    "        return x.reshape(input_shape)\n"
   ]
  },
  {
   "cell_type": "markdown",
   "id": "common-impact",
   "metadata": {
    "id": "dominican-slide"
   },
   "source": [
    "Solution:"
   ]
  },
  {
   "cell_type": "code",
   "execution_count": 47,
   "id": "herbal-balloon",
   "metadata": {
    "id": "afraid-reducing"
   },
   "outputs": [],
   "source": [
    "class Autoencoder_1hl(nn.Module):\n",
    "    def __init__(self, hidden_dim, latent_dim):\n",
    "        \"\"\"\n",
    "        hidden_dim: number of neurons in the hidden layer\n",
    "        latent_dim: number of latent space dimensions\n",
    "        \"\"\"\n",
    "        super().__init__()\n",
    "        # your code here\n",
    "        self.encoder = Encoder_1hl(hidden_dim, latent_dim)\n",
    "        self.decoder = Decoder_1hl(hidden_dim, latent_dim)\n",
    "            \n",
    "    def forward(self, x):\n",
    "        input_shape = x.shape #batch_size, channels, height, width\n",
    "        x = x.reshape(input_shape[0], -1)\n",
    "        z = self.encoder(x)\n",
    "        x_hat = self.decoder(z) \n",
    "        return x_hat.reshape(input_shape), z"
   ]
  },
  {
   "cell_type": "markdown",
   "id": "hollow-landing",
   "metadata": {
    "id": "referenced-marijuana"
   },
   "source": [
    "Try the new model"
   ]
  },
  {
   "cell_type": "code",
   "execution_count": 48,
   "id": "insured-starter",
   "metadata": {
    "colab": {
     "base_uri": "https://localhost:8080/"
    },
    "id": "environmental-description",
    "outputId": "4a4421a2-83a6-4ac4-cc98-23bf8e33a0a4"
   },
   "outputs": [
    {
     "name": "stdout",
     "output_type": "stream",
     "text": [
      "batch shape: torch.Size([1, 1, 28, 28])\n",
      "output shape: torch.Size([1, 1, 28, 28])\n"
     ]
    }
   ],
   "source": [
    "img, target = mnist_train[0]\n",
    "batch = img.unsqueeze(0) #model operates on batched input. Let's create batch with one sample\n",
    "print('batch shape:', batch.shape)\n",
    "autoencoder = Autoencoder_1hl(hidden_dim, latent_dim)\n",
    "with torch.no_grad(): #turn off gradient\n",
    "    x_hat, z = autoencoder(batch)\n",
    "print('output shape:', x_hat.shape)"
   ]
  },
  {
   "cell_type": "markdown",
   "id": "generous-county",
   "metadata": {
    "id": "indirect-affiliation"
   },
   "source": [
    "#### Visualize"
   ]
  },
  {
   "cell_type": "code",
   "execution_count": 49,
   "id": "thrown-gibson",
   "metadata": {
    "colab": {
     "base_uri": "https://localhost:8080/",
     "height": 370
    },
    "id": "personalized-thought",
    "outputId": "135cfd03-07a3-4b23-8cfa-878cbb7c2254"
   },
   "outputs": [
    {
     "data": {
      "text/plain": [
       "<matplotlib.image.AxesImage at 0x7f7320b53b50>"
      ]
     },
     "execution_count": 49,
     "metadata": {},
     "output_type": "execute_result"
    },
    {
     "data": {
      "image/png": "[encoded data removed]",
      "text/plain": [
       "<Figure size 864x432 with 2 Axes>"
      ]
     },
     "metadata": {
      "needs_background": "light"
     },
     "output_type": "display_data"
    }
   ],
   "source": [
    "fig, (ax1, ax2) = plt.subplots(ncols=2, figsize=(12,6))\n",
    "ax1.imshow(batch[0,0], vmin=0, vmax=1) # why [0,0]? first item from batch, first channel\n",
    "ax2.imshow(x_hat[0,0], vmin=0, vmax=1)"
   ]
  },
  {
   "cell_type": "markdown",
   "id": "greek-klein",
   "metadata": {
    "id": "super-scope"
   },
   "source": [
    "## Training"
   ]
  },
  {
   "cell_type": "markdown",
   "id": "understanding-rochester",
   "metadata": {
    "id": "convertible-undergraduate"
   },
   "source": [
    "Prepare dataloaders"
   ]
  },
  {
   "cell_type": "code",
   "execution_count": 50,
   "id": "straight-divorce",
   "metadata": {
    "id": "atlantic-holmes"
   },
   "outputs": [],
   "source": [
    "from torch.utils.data import DataLoader"
   ]
  },
  {
   "cell_type": "code",
   "execution_count": 51,
   "id": "elementary-tournament",
   "metadata": {
    "id": "chubby-lafayette"
   },
   "outputs": [],
   "source": [
    "batch_size = 128"
   ]
  },
  {
   "cell_type": "code",
   "execution_count": 52,
   "id": "associate-official",
   "metadata": {
    "id": "loose-spirituality"
   },
   "outputs": [],
   "source": [
    "mnist_train_dataloader = DataLoader(mnist_train, batch_size=batch_size, shuffle=True)\n",
    "mnist_test_dataloader = DataLoader(mnist_test, batch_size=batch_size, shuffle=False)"
   ]
  },
  {
   "cell_type": "markdown",
   "id": "gorgeous-board",
   "metadata": {
    "id": "welsh-captain"
   },
   "source": [
    "Closer look on dataloaders"
   ]
  },
  {
   "cell_type": "code",
   "execution_count": 53,
   "id": "breathing-mount",
   "metadata": {
    "colab": {
     "base_uri": "https://localhost:8080/"
    },
    "id": "overall-tanzania",
    "outputId": "62ec06b9-dd5d-4a77-8395-a988107eea80"
   },
   "outputs": [
    {
     "name": "stdout",
     "output_type": "stream",
     "text": [
      "x shape: torch.Size([128, 1, 28, 28])\n",
      "target shape: torch.Size([128])\n",
      "target: tensor([7, 1, 5, 7, 4, 9, 8, 4, 0, 4, 7, 5, 5, 3, 3, 4, 7, 5, 7, 1, 3, 7, 2, 2,\n",
      "        1, 9, 4, 5, 9, 7, 5, 2, 9, 2, 1, 3, 8, 8, 5, 7, 4, 8, 7, 1, 7, 8, 8, 1,\n",
      "        9, 4, 0, 3, 6, 7, 8, 5, 8, 5, 4, 2, 7, 0, 4, 9, 5, 5, 6, 4, 5, 1, 1, 5,\n",
      "        7, 9, 8, 1, 4, 2, 7, 4, 4, 7, 5, 3, 1, 4, 2, 4, 3, 4, 3, 0, 3, 1, 3, 5,\n",
      "        5, 8, 1, 8, 1, 1, 0, 0, 2, 9, 9, 1, 8, 5, 0, 0, 9, 9, 9, 2, 8, 4, 9, 8,\n",
      "        7, 4, 4, 9, 9, 5, 8, 3])\n"
     ]
    }
   ],
   "source": [
    "x, y = next(iter(mnist_train_dataloader))\n",
    "print(f'x shape: {x.shape}')\n",
    "print(f'target shape: {y.shape}')\n",
    "print(f'target: {y}')"
   ]
  },
  {
   "cell_type": "markdown",
   "id": "prescribed-linux",
   "metadata": {
    "id": "registered-cigarette"
   },
   "source": [
    "### Schema of training in PyTorch"
   ]
  },
  {
   "cell_type": "markdown",
   "id": "beautiful-scott",
   "metadata": {
    "id": "given-composite"
   },
   "source": [
    "Set model, optimizer (which performs optimizing steps) and criterion\n",
    "```\n",
    "model = ...\n",
    "optimizer =  torch.optim.AdamW(model.parameters(), lr=1e-3)\n",
    "criterion = ... #function which computes loss\n",
    "```"
   ]
  },
  {
   "cell_type": "markdown",
   "id": "middle-proportion",
   "metadata": {
    "id": "behind-mapping"
   },
   "source": [
    "Set device on which computations will be done: 'cpu' or 'cuda' (GPU)\n",
    "```\n",
    "device = 'cuda' if torch.cuda.is_available() else 'cpu' # if your machine supports cuda, it wil be used for computation\n",
    "```"
   ]
  },
  {
   "cell_type": "markdown",
   "id": "frank-prison",
   "metadata": {
    "id": "remarkable-nylon"
   },
   "source": [
    "set model to 'train' mode and allocate it to the device\n",
    "```\n",
    "model.train().to(device);\n",
    "```"
   ]
  },
  {
   "cell_type": "markdown",
   "id": "hollow-lighter",
   "metadata": {
    "id": "induced-debate"
   },
   "source": [
    "Schema for single epoch training:\n",
    "```\n",
    "for x, y in mnist_train_dataloader:    \n",
    "    # clear gradient from previous step\n",
    "    optimizer.zero_grad()\n",
    "    \n",
    "    x = x.to(device)\n",
    "    x_hat = model(x)\n",
    "    loss = criterion(x, x_hat)\n",
    "\n",
    "    # compute accumulated gradients\n",
    "    loss.backward()\n",
    "\n",
    "    # perform parameter update based on current gradients\n",
    "    optimizer.step()\n",
    " ```"
   ]
  },
  {
   "cell_type": "markdown",
   "id": "figured-highway",
   "metadata": {
    "id": "central-philippines"
   },
   "source": [
    "#### Your task\n",
    "write training loop for 10 epochs for autoencoder. Set criterion to mean square root error `nn.MSELoss()`"
   ]
  },
  {
   "cell_type": "code",
   "execution_count": 54,
   "id": "overhead-rings",
   "metadata": {
    "colab": {
     "base_uri": "https://localhost:8080/"
    },
    "id": "acting-memorabilia",
    "outputId": "25075ed2-9310-41d7-e59c-6635dd894d6f"
   },
   "outputs": [
    {
     "name": "stdout",
     "output_type": "stream",
     "text": [
      "device: cuda\n"
     ]
    }
   ],
   "source": [
    "device = 'cuda' if torch.cuda.is_available() else 'cpu' # if your machine supports cuda, it wil be used for computation\n",
    "print(f'device: {device}')\n",
    "autoencoder.to(device).train();\n",
    "optimizer = torch.optim.AdamW(autoencoder.parameters(), lr=1e-3)\n",
    "criterion = nn.MSELoss() #the same as nn.functional.mse_loss"
   ]
  },
  {
   "cell_type": "markdown",
   "id": "artistic-assist",
   "metadata": {
    "id": "offshore-globe"
   },
   "source": [
    "Check batches from dataloader"
   ]
  },
  {
   "cell_type": "code",
   "execution_count": 55,
   "id": "numeric-mirror",
   "metadata": {
    "id": "fatal-making"
   },
   "outputs": [],
   "source": [
    "x, y = next(iter(mnist_train_dataloader))\n",
    "\n",
    "# # equivalent to\n",
    "# for x, y in mnist_train_dataloader:\n",
    "#   break"
   ]
  },
  {
   "cell_type": "markdown",
   "id": "intimate-preliminary",
   "metadata": {
    "id": "stainless-surprise"
   },
   "source": [
    "Check x_hat computation step"
   ]
  },
  {
   "cell_type": "code",
   "execution_count": 56,
   "id": "dirty-birth",
   "metadata": {
    "id": "harmful-sally"
   },
   "outputs": [],
   "source": [
    "x_hat, z = autoencoder(x.to(device))"
   ]
  },
  {
   "cell_type": "markdown",
   "id": "relevant-carnival",
   "metadata": {
    "id": "established-straight"
   },
   "source": [
    "Check loss computation"
   ]
  },
  {
   "cell_type": "code",
   "execution_count": 57,
   "id": "noticed-migration",
   "metadata": {
    "id": "immediate-slovenia"
   },
   "outputs": [],
   "source": [
    "loss = criterion(x.to(device), x_hat) # note, that x_hat is already at `device`"
   ]
  },
  {
   "cell_type": "markdown",
   "id": "complex-specific",
   "metadata": {
    "id": "hidden-tooth"
   },
   "source": [
    "Now, write the training loop:"
   ]
  },
  {
   "cell_type": "code",
   "execution_count": 61,
   "id": "alleged-syria",
   "metadata": {
    "colab": {
     "base_uri": "https://localhost:8080/"
    },
    "id": "portable-brick",
    "outputId": "14e74bd6-e63b-449b-8224-f993d3a2874f"
   },
   "outputs": [
    {
     "name": "stdout",
     "output_type": "stream",
     "text": [
      "epoch 0, loss: 0.0571\n",
      "epoch 1, loss: 0.0287\n"
     ]
    }
   ],
   "source": [
    "num_epochs = 2 #first let's do a short training, to see if the loss go down\n",
    "\n",
    "history = [] #save losses from each epoch\n",
    "for i_epoch in range(num_epochs):\n",
    "    epoch_losses = []\n",
    "\n",
    "    epoch_loss = ...\n",
    "    \n",
    "    print(f'epoch {i_epoch}, loss: {epoch_loss:0.4f}')\n",
    "    history.append({'loss': epoch_loss})"
   ]
  },
  {
   "cell_type": "markdown",
   "id": "becoming-convert",
   "metadata": {
    "id": "spoken-print"
   },
   "source": [
    "Solution:"
   ]
  },
  {
   "cell_type": "code",
   "execution_count": null,
   "id": "dutch-playing",
   "metadata": {
    "colab": {
     "base_uri": "https://localhost:8080/"
    },
    "id": "commercial-transaction",
    "outputId": "b04ec1aa-d288-4023-e021-b4c07bf8c3b7"
   },
   "outputs": [
    {
     "name": "stdout",
     "output_type": "stream",
     "text": [
      "epoch 0, loss: 0.0580\n",
      "epoch 1, loss: 0.0315\n"
     ]
    }
   ],
   "source": [
    "num_epochs = 2\n",
    "\n",
    "history = [] #save losses from each epoch\n",
    "for i_epoch in range(num_epochs):\n",
    "    epoch_losses = []\n",
    "    for batch in mnist_train_dataloader:\n",
    "         # clear gradient from previous step\n",
    "        optimizer.zero_grad()\n",
    "        \n",
    "        x, y = batch\n",
    "        x = x.to(device)\n",
    "        x_hat, z = autoencoder(x)\n",
    "        loss = criterion(x, x_hat)\n",
    "        \n",
    "        # compute accumulated gradients\n",
    "        loss.backward()\n",
    "        \n",
    "        # perform parameter update based on current gradients\n",
    "        optimizer.step()\n",
    "        \n",
    "        # save loss\n",
    "        epoch_losses.append(loss.item()) #'item()' gets number from tensor. Similarly 'numpy()' returns numpy array copy of the tensor\n",
    "        \n",
    "        \n",
    "    epoch_loss = np.mean(epoch_losses)\n",
    "    print(f'epoch {i_epoch}, loss: {epoch_loss:0.4f}')\n",
    "    history.append({'loss': epoch_loss})\n",
    "        "
   ]
  },
  {
   "cell_type": "markdown",
   "id": "listed-rolling",
   "metadata": {
    "id": "mature-steal"
   },
   "source": [
    "Having small loss on training is good, but we really want the model to generalize for unseen samples. Let's calculate loss on test dataset after each epoch"
   ]
  },
  {
   "cell_type": "markdown",
   "id": "bulgarian-sheriff",
   "metadata": {
    "id": "played-chaos"
   },
   "source": [
    "#### Your task\n",
    "Write function which calculates loss of the model on test dataset"
   ]
  },
  {
   "cell_type": "code",
   "execution_count": null,
   "id": "viral-bikini",
   "metadata": {
    "id": "broke-fundamental"
   },
   "outputs": [],
   "source": [
    "@torch.no_grad() #this decorator disable gradient computation in function. Equivalent to `with torch.no_grad():` inside function. Makes code clearer\n",
    "def evaluate_model(model, dataloader, criterion):\n",
    "    # your code here\n",
    "    # ...\n",
    "    # final_loss = ...\n",
    "    return final_loss"
   ]
  },
  {
   "cell_type": "code",
   "execution_count": 62,
   "id": "occupational-stewart",
   "metadata": {
    "id": "elementary-coupon"
   },
   "outputs": [],
   "source": [
    "@torch.no_grad()\n",
    "def evaluate_model(model, dataloader, criterion):\n",
    "    losses = []\n",
    "    model = model.eval()\n",
    "    for batch in dataloader:  \n",
    "        x, y = batch\n",
    "        x = x.to(device)\n",
    "        x_hat, z = autoencoder(x)\n",
    "        loss = criterion(x, x_hat)\n",
    "        losses.append(loss.item())\n",
    "    final_loss = np.mean(losses)\n",
    "    return final_loss"
   ]
  },
  {
   "cell_type": "markdown",
   "id": "olive-hughes",
   "metadata": {
    "id": "italic-distributor"
   },
   "source": [
    "Test if your function works"
   ]
  },
  {
   "cell_type": "code",
   "execution_count": 63,
   "id": "monetary-vatican",
   "metadata": {
    "colab": {
     "base_uri": "https://localhost:8080/"
    },
    "id": "wound-renewal",
    "outputId": "4e8f380d-2bd0-45ae-baa1-1a7cac7171b2"
   },
   "outputs": [
    {
     "name": "stdout",
     "output_type": "stream",
     "text": [
      "test loss: 0.0252\n"
     ]
    }
   ],
   "source": [
    "test_loss = evaluate_model(autoencoder, mnist_test_dataloader, criterion)\n",
    "print(f'test loss: {test_loss:0.4f}')"
   ]
  },
  {
   "cell_type": "markdown",
   "id": "overhead-effects",
   "metadata": {
    "id": "bigger-event"
   },
   "source": [
    "Now we are ready to implement testset evaluation and do the proper traing of the model. For clarity, let's create a fresh autoencoder"
   ]
  },
  {
   "cell_type": "code",
   "execution_count": 64,
   "id": "fifth-vinyl",
   "metadata": {
    "id": "representative-hands"
   },
   "outputs": [],
   "source": [
    "hidden_dim = 64\n",
    "latent_dim = 12\n",
    "autoencoder = Autoencoder_1hl(hidden_dim, latent_dim)\n",
    "autoencoder.to(device).train();\n",
    "\n",
    "optimizer = torch.optim.AdamW(autoencoder.parameters(), lr=1e-3)"
   ]
  },
  {
   "cell_type": "code",
   "execution_count": 65,
   "id": "regional-portsmouth",
   "metadata": {
    "colab": {
     "base_uri": "https://localhost:8080/"
    },
    "id": "major-simulation",
    "outputId": "0e07125e-03a4-4f9e-ccf7-8cf40e2d9f03"
   },
   "outputs": [
    {
     "name": "stdout",
     "output_type": "stream",
     "text": [
      "epoch 1/10, train loss: 0.0597, test loss 0.0360\n",
      "epoch 2/10, train loss: 0.0303, test loss 0.0258\n",
      "epoch 3/10, train loss: 0.0246, test loss 0.0229\n",
      "epoch 4/10, train loss: 0.0227, test loss 0.0217\n",
      "epoch 5/10, train loss: 0.0217, test loss 0.0209\n",
      "epoch 6/10, train loss: 0.0210, test loss 0.0203\n",
      "epoch 7/10, train loss: 0.0204, test loss 0.0199\n",
      "epoch 8/10, train loss: 0.0200, test loss 0.0195\n",
      "epoch 9/10, train loss: 0.0196, test loss 0.0191\n",
      "epoch 10/10, train loss: 0.0192, test loss 0.0187\n"
     ]
    }
   ],
   "source": [
    "num_epochs = 10\n",
    "\n",
    "history = [] #save losses from each epoch\n",
    "for i_epoch in range(num_epochs):\n",
    "    epoch_losses = []\n",
    "    for batch in mnist_train_dataloader:\n",
    "         # clear gradient from previous step\n",
    "        optimizer.zero_grad()\n",
    "        \n",
    "        x, y = batch\n",
    "        x = x.to(device)\n",
    "        x_hat, z = autoencoder(x)\n",
    "        loss = criterion(x, x_hat)\n",
    "        \n",
    "        # compute accumulated gradients\n",
    "        loss.backward()\n",
    "        \n",
    "        # perform parameter update based on current gradients\n",
    "        optimizer.step()\n",
    "        \n",
    "        # save loss\n",
    "        epoch_losses.append(loss.item()) #'item()' gets number from tensor. Similarly 'numpy()' returns numpy array copy of the tensor\n",
    "        \n",
    "        \n",
    "    epoch_loss = np.mean(epoch_losses)\n",
    "    test_loss = evaluate_model(autoencoder, mnist_test_dataloader, criterion)\n",
    "    autoencoder.train() # if \"evaluate_model\" switches the model to 'eval' mode, switch it back 'train'\n",
    "    print(f'epoch {i_epoch+1}/{num_epochs}, train loss: {epoch_loss:0.4f}, test loss {test_loss:0.4f}')\n",
    "    history.append({'train loss': epoch_loss, 'test loss': test_loss})\n",
    "        "
   ]
  },
  {
   "cell_type": "code",
   "execution_count": 66,
   "id": "together-petroleum",
   "metadata": {
    "colab": {
     "base_uri": "https://localhost:8080/",
     "height": 313
    },
    "id": "indian-matrix",
    "outputId": "a7402fae-5c0f-40bd-9cae-ac29e3bb1f03"
   },
   "outputs": [
    {
     "data": {
      "text/plain": [
       "<matplotlib.legend.Legend at 0x7f7320ad3390>"
      ]
     },
     "execution_count": 66,
     "metadata": {},
     "output_type": "execute_result"
    },
    {
     "data": {
      "image/png": "[encoded data removed]",
      "text/plain": [
       "<Figure size 432x288 with 1 Axes>"
      ]
     },
     "metadata": {
      "needs_background": "light"
     },
     "output_type": "display_data"
    }
   ],
   "source": [
    "plt.plot([entry['train loss'] for entry in history], label='train loss')\n",
    "plt.plot([entry['test loss'] for entry in history], label='test loss')\n",
    "plt.title('losses');\n",
    "plt.xlabel('epoch')\n",
    "plt.ylabel('loss')\n",
    "plt.legend()"
   ]
  },
  {
   "cell_type": "code",
   "execution_count": 67,
   "id": "alpha-japanese",
   "metadata": {
    "id": "QhDI1MmvJ3UF"
   },
   "outputs": [],
   "source": [
    "torch.save(autoencoder, 'autoencoder_dense.pt')\n",
    "# autoencoder = torch.load('autoencoder_dense.pt')"
   ]
  },
  {
   "cell_type": "markdown",
   "id": "sharp-kidney",
   "metadata": {
    "id": "unnecessary-validity"
   },
   "source": [
    "## Results visualization"
   ]
  },
  {
   "cell_type": "markdown",
   "id": "handed-reflection",
   "metadata": {
    "id": "personal-validity"
   },
   "source": [
    "For inference on small samples, we can use CPU - it allows to not care about 'cuda' stuff. If the models or images are large, better stay with GPU."
   ]
  },
  {
   "cell_type": "code",
   "execution_count": 69,
   "id": "american-webcam",
   "metadata": {
    "id": "central-portal"
   },
   "outputs": [],
   "source": [
    "autoencoder.to('cpu').eval();"
   ]
  },
  {
   "cell_type": "code",
   "execution_count": 70,
   "id": "removable-walker",
   "metadata": {
    "id": "collect-rebound"
   },
   "outputs": [],
   "source": [
    "def reconstruct_image(img, model):\n",
    "    with torch.no_grad():\n",
    "        return model(img.unsqueeze(0))[0][0]"
   ]
  },
  {
   "cell_type": "code",
   "execution_count": 71,
   "id": "korean-discount",
   "metadata": {
    "id": "amended-anatomy"
   },
   "outputs": [],
   "source": [
    "img, target = mnist_test[0]\n",
    "reconstruction = reconstruct_image(img, autoencoder)"
   ]
  },
  {
   "cell_type": "code",
   "execution_count": 72,
   "id": "referenced-singing",
   "metadata": {
    "colab": {
     "base_uri": "https://localhost:8080/",
     "height": 1000
    },
    "id": "lesser-replacement",
    "outputId": "55ffee7d-8c01-4dee-8325-b5a629e2c944"
   },
   "outputs": [
    {
     "data": {
      "image/png": "[encoded data removed]",
      "text/plain": [
       "<Figure size 432x288 with 2 Axes>"
      ]
     },
     "metadata": {
      "needs_background": "light"
     },
     "output_type": "display_data"
    },
    {
     "data": {
      "image/png": "[encoded data removed]",
      "text/plain": [
       "<Figure size 432x288 with 2 Axes>"
      ]
     },
     "metadata": {
      "needs_background": "light"
     },
     "output_type": "display_data"
    },
    {
     "data": {
      "image/png": "[encoded data removed]",
      "text/plain": [
       "<Figure size 432x288 with 2 Axes>"
      ]
     },
     "metadata": {
      "needs_background": "light"
     },
     "output_type": "display_data"
    },
    {
     "data": {
      "image/png": "[encoded data removed]",
      "text/plain": [
       "<Figure size 432x288 with 2 Axes>"
      ]
     },
     "metadata": {
      "needs_background": "light"
     },
     "output_type": "display_data"
    },
    {
     "data": {
      "image/png": "[encoded data removed]",
      "text/plain": [
       "<Figure size 432x288 with 2 Axes>"
      ]
     },
     "metadata": {
      "needs_background": "light"
     },
     "output_type": "display_data"
    },
    {
     "data": {
      "image/png": "[encoded data removed]",
      "text/plain": [
       "<Figure size 432x288 with 2 Axes>"
      ]
     },
     "metadata": {
      "needs_background": "light"
     },
     "output_type": "display_data"
    },
    {
     "data": {
      "image/png": "[encoded data removed]",
      "text/plain": [
       "<Figure size 432x288 with 2 Axes>"
      ]
     },
     "metadata": {
      "needs_background": "light"
     },
     "output_type": "display_data"
    },
    {
     "data": {
      "image/png": "[encoded data removed]",
      "text/plain": [
       "<Figure size 432x288 with 2 Axes>"
      ]
     },
     "metadata": {
      "needs_background": "light"
     },
     "output_type": "display_data"
    },
    {
     "data": {
      "image/png": "[encoded data removed]",
      "text/plain": [
       "<Figure size 432x288 with 2 Axes>"
      ]
     },
     "metadata": {
      "needs_background": "light"
     },
     "output_type": "display_data"
    },
    {
     "data": {
      "image/png": "[encoded data removed]",
      "text/plain": [
       "<Figure size 432x288 with 2 Axes>"
      ]
     },
     "metadata": {
      "needs_background": "light"
     },
     "output_type": "display_data"
    }
   ],
   "source": [
    "for i in range(10):\n",
    "    img, target = mnist_test[i]\n",
    "    reconstruction = reconstruct_image(img, autoencoder)\n",
    "    fig, axs = plt.subplots(ncols=2)\n",
    "    axs[0].imshow(img[0], vmin=0, vmax=1)\n",
    "    axs[0].set_title('original')\n",
    "    axs[1].imshow(reconstruction[0], vmin=0, vmax=1)\n",
    "    axs[1].set_title('reconstruction')"
   ]
  },
  {
   "cell_type": "markdown",
   "id": "coordinate-glasgow",
   "metadata": {
    "id": "acoustic-fisher"
   },
   "source": [
    "## Reconstruction errors and outliers\n",
    "Autoencores may be used to detect outliers. Rare events tend to be poorly reconstructed by the model"
   ]
  },
  {
   "cell_type": "code",
   "execution_count": 73,
   "id": "black-hughes",
   "metadata": {
    "id": "spatial-flash"
   },
   "outputs": [],
   "source": [
    "reconstruction_errors= []\n",
    "\n",
    "# criterion gives us single loss for batch. Here the result is a vector of distances, one for each image\n",
    "# equivalent to nn.functional.mse_loss(x, x_hat, reduction='none').sum(dim=(1,2,3))\n",
    "def distance_function(x, x_hat):\n",
    "    return torch.mean((x-x_hat)**2, dim=(1, 2, 3))\n",
    "\n",
    "autoencoder.to(device);\n",
    "for x, y in mnist_test_dataloader:\n",
    "    x = x.to(device)\n",
    "    x_hat, z = autoencoder(x.to(device))\n",
    "    errors = distance_function(x, x_hat)\n",
    "    reconstruction_errors.extend([el.item() for el in errors])"
   ]
  },
  {
   "cell_type": "code",
   "execution_count": 74,
   "id": "temporal-airline",
   "metadata": {
    "colab": {
     "base_uri": "https://localhost:8080/",
     "height": 265
    },
    "id": "received-authentication",
    "outputId": "50ee8b4f-283a-411e-cb27-937962cecb44"
   },
   "outputs": [
    {
     "data": {
      "image/png": "[encoded data removed]",
      "text/plain": [
       "<Figure size 432x288 with 1 Axes>"
      ]
     },
     "metadata": {
      "needs_background": "light"
     },
     "output_type": "display_data"
    }
   ],
   "source": [
    "plt.hist(reconstruction_errors);"
   ]
  },
  {
   "cell_type": "code",
   "execution_count": 75,
   "id": "global-cylinder",
   "metadata": {
    "id": "unable-netherlands"
   },
   "outputs": [],
   "source": [
    "autoencoder.to('cpu');"
   ]
  },
  {
   "cell_type": "markdown",
   "id": "alien-creature",
   "metadata": {
    "id": "prescribed-spanish"
   },
   "source": [
    "Some of the worst cases.."
   ]
  },
  {
   "cell_type": "code",
   "execution_count": 76,
   "id": "refined-hands",
   "metadata": {
    "colab": {
     "base_uri": "https://localhost:8080/",
     "height": 1000
    },
    "id": "talented-handbook",
    "outputId": "a6d2f4cb-2d41-48e6-e591-0a2f43a0cbd5"
   },
   "outputs": [
    {
     "data": {
      "image/png": "[encoded data removed]",
      "text/plain": [
       "<Figure size 432x288 with 2 Axes>"
      ]
     },
     "metadata": {
      "needs_background": "light"
     },
     "output_type": "display_data"
    },
    {
     "data": {
      "image/png": "[encoded data removed]",
      "text/plain": [
       "<Figure size 432x288 with 2 Axes>"
      ]
     },
     "metadata": {
      "needs_background": "light"
     },
     "output_type": "display_data"
    },
    {
     "data": {
      "image/png": "[encoded data removed]",
      "text/plain": [
       "<Figure size 432x288 with 2 Axes>"
      ]
     },
     "metadata": {
      "needs_background": "light"
     },
     "output_type": "display_data"
    },
    {
     "data": {
      "image/png": "[encoded data removed]",
      "text/plain": [
       "<Figure size 432x288 with 2 Axes>"
      ]
     },
     "metadata": {
      "needs_background": "light"
     },
     "output_type": "display_data"
    },
    {
     "data": {
      "image/png": "[encoded data removed]",
      "text/plain": [
       "<Figure size 432x288 with 2 Axes>"
      ]
     },
     "metadata": {
      "needs_background": "light"
     },
     "output_type": "display_data"
    },
    {
     "data": {
      "image/png": "[encoded data removed]",
      "text/plain": [
       "<Figure size 432x288 with 2 Axes>"
      ]
     },
     "metadata": {
      "needs_background": "light"
     },
     "output_type": "display_data"
    },
    {
     "data": {
      "image/png": "[encoded data removed]",
      "text/plain": [
       "<Figure size 432x288 with 2 Axes>"
      ]
     },
     "metadata": {
      "needs_background": "light"
     },
     "output_type": "display_data"
    },
    {
     "data": {
      "image/png": "[encoded data removed]",
      "text/plain": [
       "<Figure size 432x288 with 2 Axes>"
      ]
     },
     "metadata": {
      "needs_background": "light"
     },
     "output_type": "display_data"
    },
    {
     "data": {
      "image/png": "[encoded data removed]",
      "text/plain": [
       "<Figure size 432x288 with 2 Axes>"
      ]
     },
     "metadata": {
      "needs_background": "light"
     },
     "output_type": "display_data"
    },
    {
     "data": {
      "image/png": "[encoded data removed]",
      "text/plain": [
       "<Figure size 432x288 with 2 Axes>"
      ]
     },
     "metadata": {
      "needs_background": "light"
     },
     "output_type": "display_data"
    }
   ],
   "source": [
    "for idx in np.argsort(reconstruction_errors)[-10:]:\n",
    "    img, target = mnist_test[idx]\n",
    "    reconstruction = reconstruct_image(img, autoencoder)\n",
    "    fig, axs = plt.subplots(ncols=2)\n",
    "    axs[0].imshow(img[0], vmin=0, vmax=1)\n",
    "    axs[0].set_title(f'original {mnist_test.classes[target]}')\n",
    "    axs[1].imshow(reconstruction[0], vmin=0, vmax=1)\n",
    "    axs[1].set_title('reconstruction')"
   ]
  },
  {
   "cell_type": "code",
   "execution_count": 79,
   "id": "biblical-electron",
   "metadata": {
    "id": "durable-diploma"
   },
   "outputs": [],
   "source": [
    "labels = mnist_test.targets.numpy() #np.array([x[1] for x in mnist_test])"
   ]
  },
  {
   "cell_type": "code",
   "execution_count": 80,
   "id": "furnished-heaven",
   "metadata": {
    "colab": {
     "base_uri": "https://localhost:8080/",
     "height": 1000
    },
    "id": "reasonable-journey",
    "outputId": "8b520b90-684e-4c2a-def8-623867f18c73"
   },
   "outputs": [
    {
     "data": {
      "image/png": "[encoded data removed]",
      "text/plain": [
       "<Figure size 1080x432 with 4 Axes>"
      ]
     },
     "metadata": {
      "needs_background": "light"
     },
     "output_type": "display_data"
    },
    {
     "data": {
      "image/png": "[encoded data removed]",
      "text/plain": [
       "<Figure size 1080x432 with 4 Axes>"
      ]
     },
     "metadata": {
      "needs_background": "light"
     },
     "output_type": "display_data"
    },
    {
     "data": {
      "image/png": "[encoded data removed]",
      "text/plain": [
       "<Figure size 1080x432 with 4 Axes>"
      ]
     },
     "metadata": {
      "needs_background": "light"
     },
     "output_type": "display_data"
    },
    {
     "data": {
      "image/png": "[encoded data removed]",
      "text/plain": [
       "<Figure size 1080x432 with 4 Axes>"
      ]
     },
     "metadata": {
      "needs_background": "light"
     },
     "output_type": "display_data"
    },
    {
     "data": {
      "image/png": "[encoded data removed]",
      "text/plain": [
       "<Figure size 1080x432 with 4 Axes>"
      ]
     },
     "metadata": {
      "needs_background": "light"
     },
     "output_type": "display_data"
    },
    {
     "data": {
      "image/png": "[encoded data removed]",
      "text/plain": [
       "<Figure size 1080x432 with 4 Axes>"
      ]
     },
     "metadata": {
      "needs_background": "light"
     },
     "output_type": "display_data"
    },
    {
     "data": {
      "image/png": "[encoded data removed]",
      "text/plain": [
       "<Figure size 1080x432 with 4 Axes>"
      ]
     },
     "metadata": {
      "needs_background": "light"
     },
     "output_type": "display_data"
    },
    {
     "data": {
      "image/png": "[encoded data removed]",
      "text/plain": [
       "<Figure size 1080x432 with 4 Axes>"
      ]
     },
     "metadata": {
      "needs_background": "light"
     },
     "output_type": "display_data"
    },
    {
     "data": {
      "image/png": "[encoded data removed]",
      "text/plain": [
       "<Figure size 1080x432 with 4 Axes>"
      ]
     },
     "metadata": {
      "needs_background": "light"
     },
     "output_type": "display_data"
    },
    {
     "data": {
      "image/png": "[encoded data removed]",
      "text/plain": [
       "<Figure size 1080x432 with 4 Axes>"
      ]
     },
     "metadata": {
      "needs_background": "light"
     },
     "output_type": "display_data"
    }
   ],
   "source": [
    "reconstruction_errors = np.array(reconstruction_errors)\n",
    "for digit in range(10):\n",
    "    #get indices of the best and the worst reconstruction\n",
    "    digit_indices = np.where(labels==digit)[0]\n",
    "    idx_best = digit_indices[np.argmin(reconstruction_errors[digit_indices])]\n",
    "    idx_worst = digit_indices[np.argmax(reconstruction_errors[digit_indices])]\n",
    "    \n",
    "    #create empty figure\n",
    "    fig, axs = plt.subplots(ncols=4, figsize=(15, 6))\n",
    "    \n",
    "    img, target = mnist_test[idx_best]\n",
    "    reconstruction = reconstruct_image(img, autoencoder)\n",
    "    axs[0].imshow(img[0], vmin=0, vmax=1)\n",
    "    axs[0].set_title(f'original {mnist_test.classes[target]}')\n",
    "    axs[1].imshow(reconstruction[0], vmin=0, vmax=1)\n",
    "    axs[1].set_title('best reconstruction')\n",
    "    \n",
    "    img, target = mnist_test[idx_worst]\n",
    "    reconstruction = reconstruct_image(img, autoencoder)\n",
    "    axs[2].imshow(img[0], vmin=0, vmax=1)\n",
    "    axs[2].set_title(f'original {mnist_test.classes[target]}')\n",
    "    axs[3].imshow(reconstruction[0], vmin=0, vmax=1)\n",
    "    axs[3].set_title('worst reconstruction')"
   ]
  },
  {
   "cell_type": "markdown",
   "id": "hundred-formula",
   "metadata": {
    "id": "general-works"
   },
   "source": [
    "## Task: Anomaly detection"
   ]
  },
  {
   "cell_type": "markdown",
   "id": "processed-training",
   "metadata": {
    "id": "vanilla-reunion"
   },
   "source": [
    "Autoencoders are often used in anomaly detection. In such application, the model is train on 'normal' dataset, learning to  compressed representations typical objects. When feeding with untypical sample, the autoencoder is expected to reconstruct object much worse, therefore the reconstrution error should be much larger. "
   ]
  },
  {
   "cell_type": "markdown",
   "id": "primary-sullivan",
   "metadata": {
    "id": "prepared-geology"
   },
   "source": [
    "Now we will try to distinguish letters from digits. For the letters sample we will use EMNIST is dataset (similar to MNIST, but apart from digits it contains letters). We intend to compare reconstruction errors on digits and letters."
   ]
  },
  {
   "cell_type": "code",
   "execution_count": 81,
   "id": "alive-cologne",
   "metadata": {
    "id": "geographic-fifty"
   },
   "outputs": [],
   "source": [
    "from torchvision.datasets import EMNIST"
   ]
  },
  {
   "cell_type": "code",
   "execution_count": 82,
   "id": "billion-corps",
   "metadata": {
    "colab": {
     "base_uri": "https://localhost:8080/",
     "height": 103,
     "referenced_widgets": [
      "49674570cf19482f9937e6946161a395",
      "e8385f7e0c604db9bb93437da01796ef",
      "f4f07393dbd74ac5980b08ec7ced6a6f",
      "7a7b705f7e4540bcac84f1eafb85664e",
      "70f8986c93c84401afcac7a88f0ca9a3",
      "6b38a7b140764db2a54b6b91dbaaf786",
      "115738aa4b4d4e94b29972f650fba286",
      "e2e159fd2a4d43cbb1900f4488029ed1",
      "ef9a741c9f554bd0ada30355285e2369",
      "da78124772fd4dd3b7ad417bf239a2f6",
      "94893323773d4248bfbe7171e9e908ba"
     ]
    },
    "id": "excessive-latvia",
    "outputId": "cefde7eb-f6b8-4bd9-b274-3b1f4e9e4b52"
   },
   "outputs": [
    {
     "name": "stdout",
     "output_type": "stream",
     "text": [
      "Downloading https://www.itl.nist.gov/iaui/vip/cs_links/EMNIST/gzip.zip to data/EMNIST/raw/gzip.zip\n"
     ]
    },
    {
     "data": {
      "application/vnd.jupyter.widget-view+json": {
       "model_id": "49674570cf19482f9937e6946161a395",
       "version_major": 2,
       "version_minor": 0
      },
      "text/plain": [
       "  0%|          | 0/561753746 [00:00<?, ?it/s]"
      ]
     },
     "metadata": {},
     "output_type": "display_data"
    },
    {
     "name": "stdout",
     "output_type": "stream",
     "text": [
      "Extracting data/EMNIST/raw/gzip.zip to data/EMNIST/raw\n",
      "['N/A', 'a', 'b', 'c', 'd', 'e', 'f', 'g', 'h', 'i', 'j', 'k', 'l', 'm', 'n', 'o', 'p', 'q', 'r', 's', 't', 'u', 'v', 'w', 'x', 'y', 'z']\n"
     ]
    }
   ],
   "source": [
    "emnist_test = EMNIST(DATASETS_PATH, split='letters', train=False, download=True, transform=transforms.ToTensor());\n",
    "print(emnist_test.classes)"
   ]
  },
  {
   "cell_type": "markdown",
   "id": "instrumental-peripheral",
   "metadata": {
    "id": "painful-contrast"
   },
   "source": [
    "Let's look at some letter examples:"
   ]
  },
  {
   "cell_type": "code",
   "execution_count": 83,
   "id": "distinguished-shareware",
   "metadata": {
    "colab": {
     "base_uri": "https://localhost:8080/",
     "height": 208
    },
    "id": "opponent-theta",
    "outputId": "81d0e6b9-c1fc-44a7-9298-a016f9f005e2"
   },
   "outputs": [
    {
     "data": {
      "image/png": "[encoded data removed]",
      "text/plain": [
       "<Figure size 1080x360 with 5 Axes>"
      ]
     },
     "metadata": {
      "needs_background": "light"
     },
     "output_type": "display_data"
    }
   ],
   "source": [
    "fig, axs = plt.subplots(ncols=5, figsize=(15,5))\n",
    "for i, idx in enumerate(np.random.choice(np.arange(len(emnist_test)), 5)):\n",
    "    img, target = emnist_test[idx]\n",
    "    axs[i].imshow(img[0], vmin=0, vmax=1)\n",
    "    axs[i].set_title(emnist_test.classes[target]);"
   ]
  },
  {
   "cell_type": "markdown",
   "id": "confidential-bread",
   "metadata": {
    "id": "korean-tragedy"
   },
   "source": [
    "As you, that the letters are rotated and mirrored. For out purpose it doesn't matter. If you care, use `img[0].T` for displaying or change dataset transform to `transforms.Compose([transforms.ToTensor(), transforms.Lambda(lambda img: img.transpose(1, 2))])`"
   ]
  },
  {
   "cell_type": "code",
   "execution_count": 84,
   "id": "silent-marker",
   "metadata": {
    "colab": {
     "base_uri": "https://localhost:8080/",
     "height": 208
    },
    "id": "lesbian-acrobat",
    "outputId": "bb9b7b6a-b4dd-4ac8-bf69-83d0efa6f71f"
   },
   "outputs": [
    {
     "data": {
      "image/png": "[encoded data removed]",
      "text/plain": [
       "<Figure size 1080x360 with 5 Axes>"
      ]
     },
     "metadata": {
      "needs_background": "light"
     },
     "output_type": "display_data"
    }
   ],
   "source": [
    "fig, axs = plt.subplots(ncols=5, figsize=(15,5))\n",
    "for i, idx in enumerate(np.random.choice(np.arange(len(emnist_test)), 5)):\n",
    "    img, target = emnist_test[idx]\n",
    "    axs[i].imshow(img[0].T, vmin=0, vmax=1)\n",
    "    axs[i].set_title(emnist_test.classes[target]);"
   ]
  },
  {
   "cell_type": "code",
   "execution_count": 85,
   "id": "final-database",
   "metadata": {
    "id": "QESOJ7C7kIvb"
   },
   "outputs": [],
   "source": [
    "emnist_test = EMNIST(DATASETS_PATH, split='letters', train=False, download=True, \n",
    "                     transform=transforms.Compose([transforms.ToTensor(), transforms.Lambda(lambda img: img.transpose(1, 2))])\n",
    "                     );"
   ]
  },
  {
   "cell_type": "markdown",
   "id": "hungarian-teach",
   "metadata": {
    "id": "boxed-secret"
   },
   "source": [
    "#### Your task\n",
    "Compute reconstruction errors for 1000 digits and 1000 letters."
   ]
  },
  {
   "cell_type": "code",
   "execution_count": 86,
   "id": "descending-romania",
   "metadata": {
    "id": "p7yiTmsgkV41"
   },
   "outputs": [],
   "source": [
    "digit_indices = np.random.choice(np.arange(len(mnist_test)), 1000)\n",
    "letter_indices = np.random.choice(np.arange(len(emnist_test)), 1000)"
   ]
  },
  {
   "cell_type": "code",
   "execution_count": 97,
   "id": "regulated-marina",
   "metadata": {
    "id": "sacred-builder"
   },
   "outputs": [],
   "source": [
    "def calc_reconstruction_error(x, model):\n",
    "    # your code here\n",
    "    reconstruction_error = ...\n",
    "    return reconstruction_error"
   ]
  },
  {
   "cell_type": "markdown",
   "id": "selected-hungarian",
   "metadata": {
    "id": "solar-shift"
   },
   "source": [
    "Tip: rember to use torch.no_grad() and set the same device for model and data"
   ]
  },
  {
   "cell_type": "code",
   "execution_count": null,
   "id": "realistic-pension",
   "metadata": {},
   "outputs": [],
   "source": [
    "autoencoder = autoencoder.eval().to(device)"
   ]
  },
  {
   "cell_type": "code",
   "execution_count": 100,
   "id": "stopped-disease",
   "metadata": {
    "id": "eligible-final"
   },
   "outputs": [],
   "source": [
    "digits_reconstruction_errors= []\n",
    "for idx in digit_indices:\n",
    "    # your code here\n",
    "    reconstruction_error = ...\n",
    "    digits_reconstruction_errors.append(reconstruction_error)    "
   ]
  },
  {
   "cell_type": "code",
   "execution_count": 101,
   "id": "mineral-costs",
   "metadata": {
    "id": "active-somalia"
   },
   "outputs": [],
   "source": [
    "letters_reconstruction_errors= []\n",
    "# your code here\n",
    "for idx in letter_indices:\n",
    "   # your code here\n",
    "    reconstruction_error = ...\n",
    "    letters_reconstruction_errors.append(reconstruction_error)  "
   ]
  },
  {
   "cell_type": "markdown",
   "id": "muslim-mexico",
   "metadata": {
    "id": "published-noise"
   },
   "source": [
    "Solution:"
   ]
  },
  {
   "cell_type": "code",
   "execution_count": null,
   "id": "disturbed-forwarding",
   "metadata": {
    "id": "graphic-organic"
   },
   "outputs": [],
   "source": [
    "criterion = nn.MSELoss()\n",
    "def calc_reconstruction_error(x, model):\n",
    "    x = x.unsqueeze(0).to(device)\n",
    "    with torch.no_grad():\n",
    "        x_hat, z = model(x)\n",
    "        reconstruction_error = criterion(x, x_hat).item()\n",
    "    return reconstruction_error\n",
    "\n",
    "# #you can also use numpy\n",
    "# @torch.no_grad()\n",
    "# def calc_reconstruction_error(x, model):\n",
    "#     x_hat = model(x.unsqueeze(0).to(device))[0]\n",
    "#     reconstruction_error = np.mean((x_hat.cpu().numpy() - x.cpu().numpy())**2)\n",
    "#     return reconstruction_error"
   ]
  },
  {
   "cell_type": "code",
   "execution_count": null,
   "id": "basic-frequency",
   "metadata": {
    "id": "terminal-bahrain"
   },
   "outputs": [],
   "source": [
    "digits_reconstruction_errors= []\n",
    "autoencoder = autoencoder.eval().to(device)\n",
    "for idx in digit_indices:\n",
    "    img, _ = mnist_test[idx]\n",
    "    reconstruction_error = calc_reconstruction_error(img, autoencoder)\n",
    "    digits_reconstruction_errors.append(reconstruction_error)    "
   ]
  },
  {
   "cell_type": "code",
   "execution_count": null,
   "id": "outdoor-beast",
   "metadata": {
    "id": "excessive-franklin"
   },
   "outputs": [],
   "source": [
    "letters_reconstruction_errors= []\n",
    "autoencoder = autoencoder.eval().to(device)\n",
    "for idx in letter_indices:\n",
    "    img, _ = emnist_test[idx]\n",
    "    reconstruction_error = calc_reconstruction_error(img, autoencoder)\n",
    "    letters_reconstruction_errors.append(reconstruction_error)    "
   ]
  },
  {
   "cell_type": "markdown",
   "id": "desperate-terrorist",
   "metadata": {
    "id": "postal-gathering"
   },
   "source": [
    "Visualize the results:"
   ]
  },
  {
   "cell_type": "code",
   "execution_count": 102,
   "id": "familiar-plaza",
   "metadata": {
    "colab": {
     "base_uri": "https://localhost:8080/",
     "height": 265
    },
    "id": "wrapped-divide",
    "outputId": "558f5028-e452-4e29-e6d4-5310c97a0316"
   },
   "outputs": [
    {
     "data": {
      "image/png": "[encoded data removed]",
      "text/plain": [
       "<Figure size 432x288 with 1 Axes>"
      ]
     },
     "metadata": {
      "needs_background": "light"
     },
     "output_type": "display_data"
    }
   ],
   "source": [
    "plt.hist(digits_reconstruction_errors, alpha=0.5, label='digits');\n",
    "plt.hist(letters_reconstruction_errors, alpha=0.5, label='letters');\n",
    "plt.legend();"
   ]
  },
  {
   "cell_type": "markdown",
   "id": "tropical-christianity",
   "metadata": {
    "id": "afraid-driving"
   },
   "source": [
    "Short analysis of result"
   ]
  },
  {
   "cell_type": "code",
   "execution_count": 103,
   "id": "powerful-excerpt",
   "metadata": {
    "id": "satisfactory-violin"
   },
   "outputs": [],
   "source": [
    "import pandas as pd\n",
    "from sklearn.metrics import precision_recall_curve, roc_auc_score"
   ]
  },
  {
   "cell_type": "code",
   "execution_count": 104,
   "id": "exciting-visitor",
   "metadata": {
    "colab": {
     "base_uri": "https://localhost:8080/",
     "height": 363
    },
    "id": "exclusive-fantasy",
    "outputId": "02f1cfbf-8d5e-4e8e-89da-678003497088"
   },
   "outputs": [
    {
     "data": {
      "text/html": [
       "\n",
       "  <div id=\"df-0e89041a-6671-4cc0-ab23-ca6bdeb80bc3\">\n",
       "    <div class=\"colab-df-container\">\n",
       "      <div>\n",
       "<style scoped>\n",
       "    .dataframe tbody tr th:only-of-type {\n",
       "        vertical-align: middle;\n",
       "    }\n",
       "\n",
       "    .dataframe tbody tr th {\n",
       "        vertical-align: top;\n",
       "    }\n",
       "\n",
       "    .dataframe thead th {\n",
       "        text-align: right;\n",
       "    }\n",
       "</style>\n",
       "<table border=\"1\" class=\"dataframe\">\n",
       "  <thead>\n",
       "    <tr style=\"text-align: right;\">\n",
       "      <th></th>\n",
       "      <th>class</th>\n",
       "      <th>error</th>\n",
       "    </tr>\n",
       "  </thead>\n",
       "  <tbody>\n",
       "    <tr>\n",
       "      <th>824</th>\n",
       "      <td>0</td>\n",
       "      <td>0.007986</td>\n",
       "    </tr>\n",
       "    <tr>\n",
       "      <th>477</th>\n",
       "      <td>0</td>\n",
       "      <td>0.028651</td>\n",
       "    </tr>\n",
       "    <tr>\n",
       "      <th>246</th>\n",
       "      <td>0</td>\n",
       "      <td>0.010737</td>\n",
       "    </tr>\n",
       "    <tr>\n",
       "      <th>803</th>\n",
       "      <td>0</td>\n",
       "      <td>0.013488</td>\n",
       "    </tr>\n",
       "    <tr>\n",
       "      <th>1370</th>\n",
       "      <td>1</td>\n",
       "      <td>0.048202</td>\n",
       "    </tr>\n",
       "    <tr>\n",
       "      <th>970</th>\n",
       "      <td>0</td>\n",
       "      <td>0.015551</td>\n",
       "    </tr>\n",
       "    <tr>\n",
       "      <th>846</th>\n",
       "      <td>0</td>\n",
       "      <td>0.009944</td>\n",
       "    </tr>\n",
       "    <tr>\n",
       "      <th>277</th>\n",
       "      <td>0</td>\n",
       "      <td>0.003162</td>\n",
       "    </tr>\n",
       "    <tr>\n",
       "      <th>1218</th>\n",
       "      <td>1</td>\n",
       "      <td>0.068176</td>\n",
       "    </tr>\n",
       "    <tr>\n",
       "      <th>123</th>\n",
       "      <td>0</td>\n",
       "      <td>0.018609</td>\n",
       "    </tr>\n",
       "  </tbody>\n",
       "</table>\n",
       "</div>\n",
       "      <button class=\"colab-df-convert\" onclick=\"convertToInteractive('df-0e89041a-6671-4cc0-ab23-ca6bdeb80bc3')\"\n",
       "              title=\"Convert this dataframe to an interactive table.\"\n",
       "              style=\"display:none;\">\n",
       "        \n",
       "  <svg xmlns=\"http://www.w3.org/2000/svg\" height=\"24px\"viewBox=\"0 0 24 24\"\n",
       "       width=\"24px\">\n",
       "    <path d=\"M0 0h24v24H0V0z\" fill=\"none\"/>\n",
       "    <path d=\"M18.56 5.44l.94 2.06.94-2.06 2.06-.94-2.06-.94-.94-2.06-.94 2.06-2.06.94zm-11 1L8.5 8.5l.94-2.06 2.06-.94-2.06-.94L8.5 2.5l-.94 2.06-2.06.94zm10 10l.94 2.06.94-2.06 2.06-.94-2.06-.94-.94-2.06-.94 2.06-2.06.94z\"/><path d=\"M17.41 7.96l-1.37-1.37c-.4-.4-.92-.59-1.43-.59-.52 0-1.04.2-1.43.59L10.3 9.45l-7.72 7.72c-.78.78-.78 2.05 0 2.83L4 21.41c.39.39.9.59 1.41.59.51 0 1.02-.2 1.41-.59l7.78-7.78 2.81-2.81c.8-.78.8-2.07 0-2.86zM5.41 20L4 18.59l7.72-7.72 1.47 1.35L5.41 20z\"/>\n",
       "  </svg>\n",
       "      </button>\n",
       "      \n",
       "  <style>\n",
       "    .colab-df-container {\n",
       "      display:flex;\n",
       "      flex-wrap:wrap;\n",
       "      gap: 12px;\n",
       "    }\n",
       "\n",
       "    .colab-df-convert {\n",
       "      background-color: #E8F0FE;\n",
       "      border: none;\n",
       "      border-radius: 50%;\n",
       "      cursor: pointer;\n",
       "      display: none;\n",
       "      fill: #1967D2;\n",
       "      height: 32px;\n",
       "      padding: 0 0 0 0;\n",
       "      width: 32px;\n",
       "    }\n",
       "\n",
       "    .colab-df-convert:hover {\n",
       "      background-color: #E2EBFA;\n",
       "      box-shadow: 0px 1px 2px rgba(60, 64, 67, 0.3), 0px 1px 3px 1px rgba(60, 64, 67, 0.15);\n",
       "      fill: #174EA6;\n",
       "    }\n",
       "\n",
       "    [theme=dark] .colab-df-convert {\n",
       "      background-color: #3B4455;\n",
       "      fill: #D2E3FC;\n",
       "    }\n",
       "\n",
       "    [theme=dark] .colab-df-convert:hover {\n",
       "      background-color: #434B5C;\n",
       "      box-shadow: 0px 1px 3px 1px rgba(0, 0, 0, 0.15);\n",
       "      filter: drop-shadow(0px 1px 2px rgba(0, 0, 0, 0.3));\n",
       "      fill: #FFFFFF;\n",
       "    }\n",
       "  </style>\n",
       "\n",
       "      <script>\n",
       "        const buttonEl =\n",
       "          document.querySelector('#df-0e89041a-6671-4cc0-ab23-ca6bdeb80bc3 button.colab-df-convert');\n",
       "        buttonEl.style.display =\n",
       "          google.colab.kernel.accessAllowed ? 'block' : 'none';\n",
       "\n",
       "        async function convertToInteractive(key) {\n",
       "          const element = document.querySelector('#df-0e89041a-6671-4cc0-ab23-ca6bdeb80bc3');\n",
       "          const dataTable =\n",
       "            await google.colab.kernel.invokeFunction('convertToInteractive',\n",
       "                                                     [key], {});\n",
       "          if (!dataTable) return;\n",
       "\n",
       "          const docLinkHtml = 'Like what you see? Visit the ' +\n",
       "            '<a target=\"_blank\" href=https://colab.research.google.com/notebooks/data_table.ipynb>data table notebook</a>'\n",
       "            + ' to learn more about interactive tables.';\n",
       "          element.innerHTML = '';\n",
       "          dataTable['output_type'] = 'display_data';\n",
       "          await google.colab.output.renderOutput(dataTable, element);\n",
       "          const docLink = document.createElement('div');\n",
       "          docLink.innerHTML = docLinkHtml;\n",
       "          element.appendChild(docLink);\n",
       "        }\n",
       "      </script>\n",
       "    </div>\n",
       "  </div>\n",
       "  "
      ],
      "text/plain": [
       "      class     error\n",
       "824       0  0.007986\n",
       "477       0  0.028651\n",
       "246       0  0.010737\n",
       "803       0  0.013488\n",
       "1370      1  0.048202\n",
       "970       0  0.015551\n",
       "846       0  0.009944\n",
       "277       0  0.003162\n",
       "1218      1  0.068176\n",
       "123       0  0.018609"
      ]
     },
     "execution_count": 104,
     "metadata": {},
     "output_type": "execute_result"
    }
   ],
   "source": [
    "df = pd.DataFrame([{'class': 0, 'error': x} for x in digits_reconstruction_errors] + [{'class': 1, 'error': x} for x in letters_reconstruction_errors])\n",
    "df.sample(10)"
   ]
  },
  {
   "cell_type": "code",
   "execution_count": 105,
   "id": "economic-pierre",
   "metadata": {
    "id": "adjacent-glossary"
   },
   "outputs": [],
   "source": [
    "precision, recall, thresholds = precision_recall_curve(df['class'], df['error'])\n",
    "rocauc = roc_auc_score(df['class'], df['error'])"
   ]
  },
  {
   "cell_type": "code",
   "execution_count": 106,
   "id": "accompanied-pantyhose",
   "metadata": {
    "colab": {
     "base_uri": "https://localhost:8080/",
     "height": 313
    },
    "id": "unique-punishment",
    "outputId": "182e05ce-6616-46f0-8312-960b4edebc02"
   },
   "outputs": [
    {
     "data": {
      "text/plain": [
       "Text(0.5, 1.0, 'Area under curve: 0.896')"
      ]
     },
     "execution_count": 106,
     "metadata": {},
     "output_type": "execute_result"
    },
    {
     "data": {
      "image/png": "[encoded data removed]",
      "text/plain": [
       "<Figure size 432x288 with 1 Axes>"
      ]
     },
     "metadata": {
      "needs_background": "light"
     },
     "output_type": "display_data"
    }
   ],
   "source": [
    "plt.plot(recall, precision)\n",
    "plt.xlabel('recall');\n",
    "plt.ylabel('precision');\n",
    "plt.title(f'Area under curve: {rocauc:0.3f}')"
   ]
  },
  {
   "cell_type": "markdown",
   "id": "christian-cycling",
   "metadata": {
    "id": "x0RQzfFeCi0N"
   },
   "source": [
    "# Working with latent space\n"
   ]
  },
  {
   "cell_type": "code",
   "execution_count": 107,
   "id": "wooden-backing",
   "metadata": {
    "id": "vu2-hRPSjRii"
   },
   "outputs": [],
   "source": [
    "@torch.no_grad()\n",
    "def encode_image(img, model, device='cpu'):\n",
    "  x_hat, z = model(img.unsqueeze(0).to(device))\n",
    "  return z[0].to('cpu') # \"[0]\" beacuse 1st item of batch"
   ]
  },
  {
   "cell_type": "code",
   "execution_count": 108,
   "id": "adverse-attendance",
   "metadata": {
    "id": "fsjOUVQFChpi"
   },
   "outputs": [],
   "source": [
    "from sklearn.neighbors import KNeighborsClassifier"
   ]
  },
  {
   "cell_type": "code",
   "execution_count": 109,
   "id": "environmental-championship",
   "metadata": {
    "id": "O1VGtSVHiCOp"
   },
   "outputs": [],
   "source": [
    "N_prototypes = 20"
   ]
  },
  {
   "cell_type": "code",
   "execution_count": 110,
   "id": "marine-booking",
   "metadata": {
    "id": "x7rnx9rWhCP_"
   },
   "outputs": [],
   "source": [
    "classes_indices = {}\n",
    "for label in np.arange(len(mnist_train.classes)):\n",
    "  classes_indices[label] = np.random.choice(np.where(mnist_train.targets==label)[0], size=N_prototypes, replace=False)"
   ]
  },
  {
   "cell_type": "markdown",
   "id": "capital-artwork",
   "metadata": {
    "id": "SAOVBRQPisFv"
   },
   "source": [
    "prepare training data"
   ]
  },
  {
   "cell_type": "code",
   "execution_count": 111,
   "id": "surgical-namibia",
   "metadata": {
    "id": "cGuwcvI6iNmL"
   },
   "outputs": [],
   "source": [
    "X_train = []\n",
    "y_train = []\n",
    "for label, class_indices in classes_indices.items():\n",
    "  for idx in class_indices:\n",
    "    img, _ = mnist_train[idx]\n",
    "    X_train.append(encode_image(img, autoencoder, device).numpy())\n",
    "    y_train.append(label)\n",
    "\n",
    "X_train = np.array(X_train)\n",
    "y_train = np.array(y_train)"
   ]
  },
  {
   "cell_type": "code",
   "execution_count": 112,
   "id": "prerequisite-delicious",
   "metadata": {
    "id": "amLRlb1AkW1Z"
   },
   "outputs": [],
   "source": [
    "X_test = []\n",
    "y_test = []\n",
    "for idx in range(len(mnist_test)):\n",
    "  img, label = mnist_test[idx]\n",
    "  X_test.append(encode_image(img, autoencoder, device).numpy())\n",
    "  y_test.append(label)\n",
    "\n",
    "X_test = np.array(X_test)\n",
    "y_test = np.array(y_test)"
   ]
  },
  {
   "cell_type": "code",
   "execution_count": 113,
   "id": "nervous-notification",
   "metadata": {
    "id": "-0bJ7OoSkJaN"
   },
   "outputs": [],
   "source": [
    "knn_cls = KNeighborsClassifier(n_neighbors=5)"
   ]
  },
  {
   "cell_type": "code",
   "execution_count": 114,
   "id": "restricted-salem",
   "metadata": {
    "colab": {
     "base_uri": "https://localhost:8080/"
    },
    "id": "JHj42jGGCz8a",
    "outputId": "a8e839f1-50d1-46b9-9186-7521c9288f53"
   },
   "outputs": [
    {
     "data": {
      "text/plain": [
       "KNeighborsClassifier()"
      ]
     },
     "execution_count": 114,
     "metadata": {},
     "output_type": "execute_result"
    }
   ],
   "source": [
    "knn_cls.fit(X_train, y_train)"
   ]
  },
  {
   "cell_type": "code",
   "execution_count": 115,
   "id": "weird-corrections",
   "metadata": {
    "id": "x6Uxj8_Tk19d"
   },
   "outputs": [],
   "source": [
    "y_pred = knn_cls.predict(X_test)"
   ]
  },
  {
   "cell_type": "markdown",
   "id": "stupid-abortion",
   "metadata": {
    "id": "7slALqRqn2UD"
   },
   "source": [
    "Accuracy:"
   ]
  },
  {
   "cell_type": "code",
   "execution_count": 116,
   "id": "black-nature",
   "metadata": {
    "colab": {
     "base_uri": "https://localhost:8080/"
    },
    "id": "K0Rn4H3bk-9E",
    "outputId": "9dbf8c35-7eb3-4a12-8e18-311b2039dca7"
   },
   "outputs": [
    {
     "data": {
      "text/plain": [
       "0.7684"
      ]
     },
     "execution_count": 116,
     "metadata": {},
     "output_type": "execute_result"
    }
   ],
   "source": [
    "np.mean(y_pred == y_test)"
   ]
  },
  {
   "cell_type": "code",
   "execution_count": 117,
   "id": "charged-vacation",
   "metadata": {
    "id": "kCU7KbSFlbqs"
   },
   "outputs": [],
   "source": [
    "from sklearn.metrics import ConfusionMatrixDisplay"
   ]
  },
  {
   "cell_type": "code",
   "execution_count": 118,
   "id": "detected-frequency",
   "metadata": {
    "colab": {
     "base_uri": "https://localhost:8080/",
     "height": 297
    },
    "id": "-MzhVnYLlcPN",
    "outputId": "e01fe36b-1a33-4cb2-f9e5-c6072771ca74"
   },
   "outputs": [
    {
     "data": {
      "text/plain": [
       "<sklearn.metrics._plot.confusion_matrix.ConfusionMatrixDisplay at 0x7f7320ab0e50>"
      ]
     },
     "execution_count": 118,
     "metadata": {},
     "output_type": "execute_result"
    },
    {
     "data": {
      "image/png": "[encoded data removed]",
      "text/plain": [
       "<Figure size 432x288 with 2 Axes>"
      ]
     },
     "metadata": {
      "needs_background": "light"
     },
     "output_type": "display_data"
    }
   ],
   "source": [
    "ConfusionMatrixDisplay.from_predictions(y_test, y_pred)"
   ]
  },
  {
   "cell_type": "markdown",
   "id": "lyric-desire",
   "metadata": {
    "id": "8fefZ7Znu8o_"
   },
   "source": [
    "# Visualize latent space"
   ]
  },
  {
   "cell_type": "code",
   "execution_count": 119,
   "id": "known-double",
   "metadata": {
    "id": "Z43ChSJ1u5ci"
   },
   "outputs": [],
   "source": [
    "representations_digits = []\n",
    "labels_digits = []\n",
    "\n",
    "with torch.no_grad():\n",
    "  for idx in digit_indices:\n",
    "    img, label = mnist_test[idx]\n",
    "    x = img.unsqueeze(0).to(device)\n",
    "    x_hat, z = autoencoder(x)\n",
    "    representations_digits.append(z[0].cpu().numpy())\n",
    "    labels_digits.append(label)\n",
    "\n",
    "representations_digits = np.array(representations_digits)\n",
    "labels_digits = np.array(labels_digits)"
   ]
  },
  {
   "cell_type": "code",
   "execution_count": 120,
   "id": "american-cleaner",
   "metadata": {
    "id": "wLdf5sbHwU2d"
   },
   "outputs": [],
   "source": [
    "representations_letters = []\n",
    "labels_letters = []\n",
    "\n",
    "with torch.no_grad():\n",
    "  for idx in letter_indices:\n",
    "    img, label = emnist_test[idx]\n",
    "    x = img.unsqueeze(0).to(device)\n",
    "    x_hat, z = autoencoder(x)\n",
    "    representations_letters.append(z[0].cpu().numpy())\n",
    "    labels_letters.append(label)\n",
    "\n",
    "representations_letters = np.array(representations_letters)\n",
    "labels_letters = np.array(labels_letters)"
   ]
  },
  {
   "cell_type": "code",
   "execution_count": 121,
   "id": "norwegian-theater",
   "metadata": {
    "id": "7p2Tu3eRwyD2"
   },
   "outputs": [],
   "source": [
    "from sklearn.manifold import TSNE"
   ]
  },
  {
   "cell_type": "markdown",
   "id": "bottom-touch",
   "metadata": {
    "id": "yqcRqUfSsFp8"
   },
   "source": [
    "\"t-SNE is a tool to visualize high-dimensional data. It converts similarities between data points to joint probabilities and tries to minimize the Kullback-Leibler divergence between the joint probabilities of the low-dimensional embedding and the high-dimensional data. t-SNE has a cost function that is not convex, i.e. with different initializations we can get different results\"\n",
    "\n",
    "https://scikit-learn.org/stable/modules/generated/sklearn.manifold.TSNE.html"
   ]
  },
  {
   "cell_type": "code",
   "execution_count": 122,
   "id": "southwest-armstrong",
   "metadata": {
    "colab": {
     "base_uri": "https://localhost:8080/"
    },
    "id": "_GH7vX1vw5Q0",
    "outputId": "f5fbb122-9652-4931-83da-ecefe5fe970b"
   },
   "outputs": [
    {
     "name": "stderr",
     "output_type": "stream",
     "text": [
      "/usr/local/lib/python3.7/dist-packages/sklearn/manifold/_t_sne.py:783: FutureWarning: The default initialization in TSNE will change from 'random' to 'pca' in 1.2.\n",
      "  FutureWarning,\n",
      "/usr/local/lib/python3.7/dist-packages/sklearn/manifold/_t_sne.py:793: FutureWarning: The default learning rate in TSNE will change from 200.0 to 'auto' in 1.2.\n",
      "  FutureWarning,\n"
     ]
    }
   ],
   "source": [
    "X_embedded = TSNE(n_components=2).fit_transform(np.concatenate((representations_digits, representations_letters)))\n",
    "digits_embedded = X_embedded[:len(representations_digits)]\n",
    "letters_embedded = X_embedded[len(representations_digits):]"
   ]
  },
  {
   "cell_type": "code",
   "execution_count": 123,
   "id": "fixed-handle",
   "metadata": {
    "colab": {
     "base_uri": "https://localhost:8080/",
     "height": 265
    },
    "id": "pvLe7PRuxouc",
    "outputId": "e2b829d9-46b0-4c9b-8ea0-f1daf2858d10"
   },
   "outputs": [
    {
     "data": {
      "image/png": "[encoded data removed]",
      "text/plain": [
       "<Figure size 432x288 with 2 Axes>"
      ]
     },
     "metadata": {
      "needs_background": "light"
     },
     "output_type": "display_data"
    }
   ],
   "source": [
    "fig, axs = plt.subplots(ncols=2)\n",
    "for i, label in enumerate(sorted(set(labels_digits))):\n",
    "    X_cat = digits_embedded[labels_digits==i]\n",
    "    axs[0].scatter(X_cat[:,0], X_cat[:,1], label=mnist_test.classes[label], c=f'C{i}', alpha=0.2)\n",
    "for i, label in enumerate(sorted(set(labels_letters))):\n",
    "    X_cat = letters_embedded[labels_letters==i]\n",
    "    axs[1].scatter(X_cat[:,0], X_cat[:,1], label=emnist_test.classes[label], c=f'C{i}', alpha=0.2)\n",
    "# axs[0].scatter(X_embedded[:len(representations_digits), 0], X_embedded[:len(representations_digits), 1], alpha=0.1. )\n",
    "# axs[1].scatter(X_embedded[len(representations_digits):, 0], X_embedded[len(representations_digits):, 1], alpha=0.1)"
   ]
  },
  {
   "cell_type": "code",
   "execution_count": 137,
   "id": "monetary-amount",
   "metadata": {
    "colab": {
     "base_uri": "https://localhost:8080/",
     "height": 283
    },
    "id": "Y04nzMgPx0fu",
    "outputId": "e6d6ff0a-5352-4e86-de6d-f1f4c8553e7c"
   },
   "outputs": [
    {
     "data": {
      "text/plain": [
       "<matplotlib.legend.Legend at 0x7f730fa4f310>"
      ]
     },
     "execution_count": 137,
     "metadata": {},
     "output_type": "execute_result"
    },
    {
     "data": {
      "image/png": "[encoded data removed]",
      "text/plain": [
       "<Figure size 432x288 with 1 Axes>"
      ]
     },
     "metadata": {
      "needs_background": "light"
     },
     "output_type": "display_data"
    }
   ],
   "source": [
    "for i, label in enumerate(sorted(set(labels_digits))):\n",
    "    X_cat = digits_embedded[labels_digits==i]\n",
    "    plt.scatter(X_cat[:,0], X_cat[:,1], label=mnist_test.classes[label], c=f'C{i}', alpha=0.2)\n",
    "plt.legend(loc=(1.04,0))"
   ]
  },
  {
   "cell_type": "code",
   "execution_count": 138,
   "id": "skilled-savage",
   "metadata": {
    "id": "gnZB9XNeujAW"
   },
   "outputs": [],
   "source": [
    "# import more colors\n",
    "from matplotlib.colors import CSS4_COLORS\n",
    "colors = list(CSS4_COLORS.keys())"
   ]
  },
  {
   "cell_type": "code",
   "execution_count": 139,
   "id": "coordinated-alias",
   "metadata": {
    "colab": {
     "base_uri": "https://localhost:8080/",
     "height": 283
    },
    "id": "g9z5DyKYs9Tg",
    "outputId": "65159395-5608-4788-9b5b-f9c957204f32"
   },
   "outputs": [
    {
     "data": {
      "text/plain": [
       "<matplotlib.legend.Legend at 0x7f730fa0c350>"
      ]
     },
     "execution_count": 139,
     "metadata": {},
     "output_type": "execute_result"
    },
    {
     "data": {
      "image/png": "[encoded data removed]",
      "text/plain": [
       "<Figure size 432x288 with 1 Axes>"
      ]
     },
     "metadata": {
      "needs_background": "light"
     },
     "output_type": "display_data"
    }
   ],
   "source": [
    "for i, label in enumerate(sorted(set(labels_letters))):\n",
    "    X_cat = letters_embedded[labels_letters==i]\n",
    "    plt.scatter(X_cat[:,0], X_cat[:,1], label=emnist_test.classes[label], c=colors[i], alpha=0.5)\n",
    "plt.legend(ncol=3, loc=(1.04,0))"
   ]
  },
  {
   "cell_type": "markdown",
   "id": "internal-assurance",
   "metadata": {
    "id": "popular-module"
   },
   "source": [
    "# Different architectures"
   ]
  },
  {
   "cell_type": "markdown",
   "id": "hazardous-input",
   "metadata": {
    "id": "-pYLUWEF9xnx"
   },
   "source": [
    "Try it!"
   ]
  },
  {
   "cell_type": "code",
   "execution_count": null,
   "id": "completed-content",
   "metadata": {
    "id": "romantic-century"
   },
   "outputs": [],
   "source": [
    "class ConvAutoencoder1(nn.Module):\n",
    "    def __init__(self):\n",
    "        super().__init__()\n",
    "        self.encoder = nn.Sequential(\n",
    "            nn.Conv2d(1, 16, 3, stride=3, padding=1),  # b, 16, 10, 10 # here and bellow numbers correspods to dimensions: b (batch size), channels, height, width\n",
    "            nn.ReLU(True),\n",
    "            nn.MaxPool2d(2, stride=2),  # b, 16, 5, 5\n",
    "            nn.Conv2d(16, 8, 3, stride=2, padding=1),  # b, 8, 3, 3\n",
    "            nn.ReLU(True),\n",
    "            nn.MaxPool2d(2, stride=1)  # b, 8, 2, 2\n",
    "        )\n",
    "        self.decoder = nn.Sequential(\n",
    "            nn.ConvTranspose2d(8, 16, 3, stride=2),  # b, 16, 5, 5\n",
    "            nn.ReLU(True),\n",
    "            nn.ConvTranspose2d(16, 8, 5, stride=3, padding=1),  # b, 8, 15, 15\n",
    "            nn.ReLU(True),\n",
    "            nn.ConvTranspose2d(8, 1, 2, stride=2, padding=1),  # b, 1, 28, 28\n",
    "            nn.Sigmoid()\n",
    "        )\n",
    "\n",
    "    def forward(self, x):\n",
    "        z = self.encoder(x)\n",
    "        x_hat = self.decoder(z)\n",
    "        return x_hat, z\n",
    "    \n",
    "    @torch.no_grad()\n",
    "    def encode_image(self, x):\n",
    "        return self.encoder(x.unsqueeze(0))[0].view(1,-1)\n",
    "        "
   ]
  },
  {
   "cell_type": "code",
   "execution_count": null,
   "id": "hourly-preview",
   "metadata": {
    "id": "false-memorial"
   },
   "outputs": [],
   "source": [
    "class ConvAutoencoder2(nn.Module):\n",
    "    \"\"\"from https://github.com/syorami/Autoencoders-Variants/blob/master/conv_autoencoder.py\"\"\"\n",
    "    def __init__(self):\n",
    "        super().__init__()\n",
    "        self.encoder = nn.Sequential(\n",
    "            nn.Conv2d(1, 16, 3, padding=1),\n",
    "            nn.ReLU(inplace=True),\n",
    "            nn.MaxPool2d(2),\n",
    "            nn.Conv2d(16, 8, 3, padding=1),\n",
    "            nn.ReLU(inplace=True),\n",
    "            nn.MaxPool2d(2)\n",
    "        )\n",
    "\n",
    "        self.decoder = nn.Sequential(\n",
    "            nn.Conv2d(8, 8, 3, padding=1),\n",
    "            nn.ReLU(inplace=True),\n",
    "            nn.UpsamplingBilinear2d(scale_factor=2),\n",
    "            nn.Conv2d(8, 16, 3, padding=1),\n",
    "            nn.ReLU(inplace=True),\n",
    "            nn.UpsamplingBilinear2d(scale_factor=2),\n",
    "            nn.Conv2d(16, 1, 3, padding=1),\n",
    "            nn.Sigmoid()\n",
    "        )\n",
    "\n",
    "    def forward(self, x):\n",
    "        z = self.encoder(x)\n",
    "        x_hat = self.decoder(z)\n",
    "        return x_hat, z\n",
    "    \n",
    "    @torch.no_grad()\n",
    "    def encode_image(self, x):\n",
    "        return self.encoder(x.unsqueeze(0))[0].view(1,-1)"
   ]
  },
  {
   "cell_type": "code",
   "execution_count": null,
   "id": "independent-wallet",
   "metadata": {
    "id": "detailed-stack"
   },
   "outputs": [],
   "source": [
    "\"\"\"from https://github.com/eifuentes/swae-pytorch/blob/master/swae/models/mnist.py\"\"\"\n",
    "\n",
    "class MNISTEncoder(nn.Module):\n",
    "    \"\"\" MNIST Encoder from Original Paper's Keras based Implementation.\n",
    "        Args:\n",
    "            init_num_filters (int): initial number of filters from encoder image channels\n",
    "            lrelu_slope (float): positive number indicating LeakyReLU negative slope\n",
    "            inter_fc_dim (int): intermediate fully connected dimensionality prior to embedding layer\n",
    "            embedding_dim (int): embedding dimensionality\n",
    "    \"\"\"\n",
    "    def __init__(self, init_num_filters=16, lrelu_slope=0.2, inter_fc_dim=128, embedding_dim=2):\n",
    "        super(MNISTEncoder, self).__init__()\n",
    "\n",
    "        self.init_num_filters_ = init_num_filters\n",
    "        self.lrelu_slope_ = lrelu_slope\n",
    "        self.inter_fc_dim_ = inter_fc_dim\n",
    "        self.embedding_dim_ = embedding_dim\n",
    "\n",
    "        self.features = nn.Sequential(\n",
    "            nn.Conv2d(1, self.init_num_filters_ * 1, kernel_size=3, padding=1),\n",
    "            nn.LeakyReLU(self.lrelu_slope_, inplace=True),\n",
    "\n",
    "            nn.Conv2d(self.init_num_filters_ * 1, self.init_num_filters_ * 1, kernel_size=3, padding=1),\n",
    "            nn.LeakyReLU(self.lrelu_slope_, inplace=True),\n",
    "\n",
    "            nn.AvgPool2d(kernel_size=2, padding=0),\n",
    "            nn.Conv2d(self.init_num_filters_ * 1, self.init_num_filters_ * 2, kernel_size=3, padding=1),\n",
    "            nn.LeakyReLU(self.lrelu_slope_, inplace=True),\n",
    "\n",
    "            nn.Conv2d(self.init_num_filters_ * 2, self.init_num_filters_ * 2, kernel_size=3, padding=1),\n",
    "            nn.LeakyReLU(self.lrelu_slope_, inplace=True),\n",
    "\n",
    "            nn.AvgPool2d(kernel_size=2, padding=0),\n",
    "            nn.Conv2d(self.init_num_filters_ * 2, self.init_num_filters_ * 4, kernel_size=3, padding=1),\n",
    "            nn.LeakyReLU(self.lrelu_slope_, inplace=True),\n",
    "\n",
    "            nn.Conv2d(self.init_num_filters_ * 4, self.init_num_filters_ * 4, kernel_size=3, padding=1),\n",
    "            nn.LeakyReLU(self.lrelu_slope_, inplace=True),\n",
    "\n",
    "            nn.AvgPool2d(kernel_size=2, padding=1)\n",
    "        )\n",
    "        self.fc = nn.Sequential(\n",
    "            nn.Linear(self.init_num_filters_ * 4 * 4 * 4, self.inter_fc_dim_),\n",
    "            nn.ReLU(inplace=True),\n",
    "            nn.Linear(self.inter_fc_dim_, self.embedding_dim_)\n",
    "        )\n",
    "\n",
    "    def forward(self, x):\n",
    "        x = self.features(x)\n",
    "        x = x.view(-1, self.init_num_filters_ * 4 * 4 * 4)\n",
    "        x = self.fc(x)\n",
    "        return x\n",
    "\n",
    "\n",
    "class MNISTDecoder(nn.Module):\n",
    "    \"\"\" MNIST Decoder from Original Paper's Keras based Implementation.\n",
    "        Args:\n",
    "            init_num_filters (int): initial number of filters from encoder image channels\n",
    "            lrelu_slope (float): positive number indicating LeakyReLU negative slope\n",
    "            inter_fc_dim (int): intermediate fully connected dimensionality prior to embedding layer\n",
    "            embedding_dim (int): embedding dimensionality\n",
    "    \"\"\"\n",
    "    def __init__(self, init_num_filters=16, lrelu_slope=0.2, inter_fc_dim=128, embedding_dim=2):\n",
    "        super(MNISTDecoder, self).__init__()\n",
    "\n",
    "        self.init_num_filters_ = init_num_filters\n",
    "        self.lrelu_slope_ = lrelu_slope\n",
    "        self.inter_fc_dim_ = inter_fc_dim\n",
    "        self.embedding_dim_ = embedding_dim\n",
    "\n",
    "        self.fc = nn.Sequential(\n",
    "            nn.Linear(self.embedding_dim_, self.inter_fc_dim_),\n",
    "            nn.Linear(self.inter_fc_dim_, self.init_num_filters_ * 4 * 4 * 4),\n",
    "            nn.ReLU(inplace=True)\n",
    "        )\n",
    "\n",
    "        self.features = nn.Sequential(\n",
    "            nn.Upsample(scale_factor=2),\n",
    "            nn.Conv2d(self.init_num_filters_ * 4, self.init_num_filters_ * 4, kernel_size=3, padding=1),\n",
    "            nn.LeakyReLU(self.lrelu_slope_, inplace=True),\n",
    "\n",
    "            nn.Conv2d(self.init_num_filters_ * 4, self.init_num_filters_ * 4, kernel_size=3, padding=1),\n",
    "            nn.LeakyReLU(self.lrelu_slope_, inplace=True),\n",
    "\n",
    "            nn.Upsample(scale_factor=2),\n",
    "            nn.Conv2d(self.init_num_filters_ * 4, self.init_num_filters_ * 4, kernel_size=3, padding=0),\n",
    "            nn.LeakyReLU(self.lrelu_slope_, inplace=True),\n",
    "\n",
    "            nn.Conv2d(self.init_num_filters_ * 4, self.init_num_filters_ * 4, kernel_size=3, padding=1),\n",
    "            nn.LeakyReLU(self.lrelu_slope_, inplace=True),\n",
    "\n",
    "            nn.Upsample(scale_factor=2),\n",
    "            nn.Conv2d(self.init_num_filters_ * 4, self.init_num_filters_ * 2, kernel_size=3, padding=1),\n",
    "            nn.LeakyReLU(self.lrelu_slope_, inplace=True),\n",
    "\n",
    "            nn.Conv2d(self.init_num_filters_ * 2, self.init_num_filters_ * 2, kernel_size=3, padding=1),\n",
    "            nn.LeakyReLU(self.lrelu_slope_, inplace=True),\n",
    "\n",
    "            nn.Conv2d(self.init_num_filters_ * 2, 1, kernel_size=3, padding=1)\n",
    "        )\n",
    "\n",
    "    def forward(self, z):\n",
    "        z = self.fc(z)\n",
    "        z = z.view(-1, 4 * self.init_num_filters_, 4, 4)\n",
    "        z = self.features(z)\n",
    "        return torch.sigmoid(z)\n",
    "\n",
    "\n",
    "class MNISTAutoencoder(nn.Module):\n",
    "    \"\"\" MNIST Autoencoder from Original Paper's Keras based Implementation.\n",
    "        Args:\n",
    "            init_num_filters (int): initial number of filters from encoder image channels\n",
    "            lrelu_slope (float): positive number indicating LeakyReLU negative slope\n",
    "            inter_fc_dim (int): intermediate fully connected dimensionality prior to embedding layer\n",
    "            embedding_dim (int): embedding dimensionality\n",
    "    \"\"\"\n",
    "    def __init__(self, init_num_filters=16, lrelu_slope=0.2, inter_fc_dim=128, embedding_dim=2):\n",
    "        super(MNISTAutoencoder, self).__init__()\n",
    "\n",
    "        self.init_num_filters_ = init_num_filters\n",
    "        self.lrelu_slope_ = lrelu_slope\n",
    "        self.inter_fc_dim_ = inter_fc_dim\n",
    "        self.embedding_dim_ = embedding_dim\n",
    "\n",
    "        self.encoder = MNISTEncoder(init_num_filters, lrelu_slope, inter_fc_dim, embedding_dim)\n",
    "        self.decoder = MNISTDecoder(init_num_filters, lrelu_slope, inter_fc_dim, embedding_dim)\n",
    "\n",
    "    def forward(self, x):\n",
    "        z = self.encoder(x)\n",
    "        return self.decoder(z), z"
   ]
  },
  {
   "cell_type": "code",
   "execution_count": null,
   "id": "specialized-finance",
   "metadata": {
    "id": "r224bJsZwRIg"
   },
   "outputs": [],
   "source": [
    "\"\"\"from https://github.com/syorami/Autoencoders-Variants/blob/master/simple_autoencoder.py\"\"\"\n",
    "class FCAutoencoder(nn.Module):\n",
    "    def __init__(self):\n",
    "        super().__init__()\n",
    "        self.encoder = nn.Sequential(\n",
    "            nn.Linear(784, 128),\n",
    "            nn.ReLU(inplace=True),\n",
    "            nn.Linear(128, 64),\n",
    "            nn.ReLU(inplace=True),\n",
    "            nn.Linear(64, 32),\n",
    "            nn.ReLU(inplace=True)\n",
    "        )\n",
    "\n",
    "        self.decoder = nn.Sequential(\n",
    "            nn.Linear(32, 64),\n",
    "            nn.ReLU(inplace=True),\n",
    "            nn.Linear(64, 128),\n",
    "            nn.ReLU(inplace=True),\n",
    "            nn.Linear(128, 784),\n",
    "            nn.Sigmoid()\n",
    "        )\n",
    "\n",
    "    def forward(self, x):\n",
    "        input_shape = x.shape #batch_size, channels, height, width\n",
    "        x = x.reshape(input_shape[0], -1)\n",
    "        z = self.encoder(x)\n",
    "        x_hat = self.decoder(z) \n",
    "        return x_hat.reshape(input_shape), z"
   ]
  }
 ],
 "metadata": {
  "accelerator": "GPU",
  "colab": {
   "collapsed_sections": [],
   "name": "2022_1.ipynb",
   "provenance": []
  },
  "kernelspec": {
   "display_name": "Python 3",
   "language": "python",
   "name": "python3"
  },
  "language_info": {
   "codemirror_mode": {
    "name": "ipython",
    "version": 3
   },
   "file_extension": ".py",
   "mimetype": "text/x-python",
   "name": "python",
   "nbconvert_exporter": "python",
   "pygments_lexer": "ipython3",
   "version": "3.7.3"
  },
  "widgets": {
   "application/vnd.jupyter.widget-state+json": {
    "10c5e8a0b07e483894d92ffeddb10069": {
     "model_module": "@jupyter-widgets/controls",
     "model_module_version": "1.5.0",
     "model_name": "HBoxModel",
     "state": {
      "_dom_classes": [],
      "_model_module": "@jupyter-widgets/controls",
      "_model_module_version": "1.5.0",
      "_model_name": "HBoxModel",
      "_view_count": null,
      "_view_module": "@jupyter-widgets/controls",
      "_view_module_version": "1.5.0",
      "_view_name": "HBoxView",
      "box_style": "",
      "children": [
       "IPY_MODEL_e6fcf61869494b66b03ba06441ab62d8",
       "IPY_MODEL_42d8b5b6f66c4361bf9e7f219efe0ddc",
       "IPY_MODEL_f0a1927811414db187ac03c28a953e1b"
      ],
      "layout": "IPY_MODEL_ddee1e4f36874376b7e12342f7d40e64"
     }
    },
    "115738aa4b4d4e94b29972f650fba286": {
     "model_module": "@jupyter-widgets/controls",
     "model_module_version": "1.5.0",
     "model_name": "DescriptionStyleModel",
     "state": {
      "_model_module": "@jupyter-widgets/controls",
      "_model_module_version": "1.5.0",
      "_model_name": "DescriptionStyleModel",
      "_view_count": null,
      "_view_module": "@jupyter-widgets/base",
      "_view_module_version": "1.2.0",
      "_view_name": "StyleView",
      "description_width": ""
     }
    },
    "181d5fd77646420c9f660c501d400bdd": {
     "model_module": "@jupyter-widgets/base",
     "model_module_version": "1.2.0",
     "model_name": "LayoutModel",
     "state": {
      "_model_module": "@jupyter-widgets/base",
      "_model_module_version": "1.2.0",
      "_model_name": "LayoutModel",
      "_view_count": null,
      "_view_module": "@jupyter-widgets/base",
      "_view_module_version": "1.2.0",
      "_view_name": "LayoutView",
      "align_content": null,
      "align_items": null,
      "align_self": null,
      "border": null,
      "bottom": null,
      "display": null,
      "flex": null,
      "flex_flow": null,
      "grid_area": null,
      "grid_auto_columns": null,
      "grid_auto_flow": null,
      "grid_auto_rows": null,
      "grid_column": null,
      "grid_gap": null,
      "grid_row": null,
      "grid_template_areas": null,
      "grid_template_columns": null,
      "grid_template_rows": null,
      "height": null,
      "justify_content": null,
      "justify_items": null,
      "left": null,
      "margin": null,
      "max_height": null,
      "max_width": null,
      "min_height": null,
      "min_width": null,
      "object_fit": null,
      "object_position": null,
      "order": null,
      "overflow": null,
      "overflow_x": null,
      "overflow_y": null,
      "padding": null,
      "right": null,
      "top": null,
      "visibility": null,
      "width": null
     }
    },
    "1fe1222465ca43e2840321d74c93f108": {
     "model_module": "@jupyter-widgets/base",
     "model_module_version": "1.2.0",
     "model_name": "LayoutModel",
     "state": {
      "_model_module": "@jupyter-widgets/base",
      "_model_module_version": "1.2.0",
      "_model_name": "LayoutModel",
      "_view_count": null,
      "_view_module": "@jupyter-widgets/base",
      "_view_module_version": "1.2.0",
      "_view_name": "LayoutView",
      "align_content": null,
      "align_items": null,
      "align_self": null,
      "border": null,
      "bottom": null,
      "display": null,
      "flex": null,
      "flex_flow": null,
      "grid_area": null,
      "grid_auto_columns": null,
      "grid_auto_flow": null,
      "grid_auto_rows": null,
      "grid_column": null,
      "grid_gap": null,
      "grid_row": null,
      "grid_template_areas": null,
      "grid_template_columns": null,
      "grid_template_rows": null,
      "height": null,
      "justify_content": null,
      "justify_items": null,
      "left": null,
      "margin": null,
      "max_height": null,
      "max_width": null,
      "min_height": null,
      "min_width": null,
      "object_fit": null,
      "object_position": null,
      "order": null,
      "overflow": null,
      "overflow_x": null,
      "overflow_y": null,
      "padding": null,
      "right": null,
      "top": null,
      "visibility": null,
      "width": null
     }
    },
    "21f3d072c49a408f92ef764f82ddb0e5": {
     "model_module": "@jupyter-widgets/controls",
     "model_module_version": "1.5.0",
     "model_name": "FloatProgressModel",
     "state": {
      "_dom_classes": [],
      "_model_module": "@jupyter-widgets/controls",
      "_model_module_version": "1.5.0",
      "_model_name": "FloatProgressModel",
      "_view_count": null,
      "_view_module": "@jupyter-widgets/controls",
      "_view_module_version": "1.5.0",
      "_view_name": "ProgressView",
      "bar_style": "success",
      "description": "",
      "description_tooltip": null,
      "layout": "IPY_MODEL_23400cbd9e7e4a6890a2abf14d92715e",
      "max": 28881,
      "min": 0,
      "orientation": "horizontal",
      "style": "IPY_MODEL_3edbfde1856e45cc9184a4d554dcf060",
      "value": 28881
     }
    },
    "23359e1c5a1f4689bf9b0169675ee2d0": {
     "model_module": "@jupyter-widgets/base",
     "model_module_version": "1.2.0",
     "model_name": "LayoutModel",
     "state": {
      "_model_module": "@jupyter-widgets/base",
      "_model_module_version": "1.2.0",
      "_model_name": "LayoutModel",
      "_view_count": null,
      "_view_module": "@jupyter-widgets/base",
      "_view_module_version": "1.2.0",
      "_view_name": "LayoutView",
      "align_content": null,
      "align_items": null,
      "align_self": null,
      "border": null,
      "bottom": null,
      "display": null,
      "flex": null,
      "flex_flow": null,
      "grid_area": null,
      "grid_auto_columns": null,
      "grid_auto_flow": null,
      "grid_auto_rows": null,
      "grid_column": null,
      "grid_gap": null,
      "grid_row": null,
      "grid_template_areas": null,
      "grid_template_columns": null,
      "grid_template_rows": null,
      "height": null,
      "justify_content": null,
      "justify_items": null,
      "left": null,
      "margin": null,
      "max_height": null,
      "max_width": null,
      "min_height": null,
      "min_width": null,
      "object_fit": null,
      "object_position": null,
      "order": null,
      "overflow": null,
      "overflow_x": null,
      "overflow_y": null,
      "padding": null,
      "right": null,
      "top": null,
      "visibility": null,
      "width": null
     }
    },
    "23400cbd9e7e4a6890a2abf14d92715e": {
     "model_module": "@jupyter-widgets/base",
     "model_module_version": "1.2.0",
     "model_name": "LayoutModel",
     "state": {
      "_model_module": "@jupyter-widgets/base",
      "_model_module_version": "1.2.0",
      "_model_name": "LayoutModel",
      "_view_count": null,
      "_view_module": "@jupyter-widgets/base",
      "_view_module_version": "1.2.0",
      "_view_name": "LayoutView",
      "align_content": null,
      "align_items": null,
      "align_self": null,
      "border": null,
      "bottom": null,
      "display": null,
      "flex": null,
      "flex_flow": null,
      "grid_area": null,
      "grid_auto_columns": null,
      "grid_auto_flow": null,
      "grid_auto_rows": null,
      "grid_column": null,
      "grid_gap": null,
      "grid_row": null,
      "grid_template_areas": null,
      "grid_template_columns": null,
      "grid_template_rows": null,
      "height": null,
      "justify_content": null,
      "justify_items": null,
      "left": null,
      "margin": null,
      "max_height": null,
      "max_width": null,
      "min_height": null,
      "min_width": null,
      "object_fit": null,
      "object_position": null,
      "order": null,
      "overflow": null,
      "overflow_x": null,
      "overflow_y": null,
      "padding": null,
      "right": null,
      "top": null,
      "visibility": null,
      "width": null
     }
    },
    "293a7fd391b64479ad5fe1287e2f154f": {
     "model_module": "@jupyter-widgets/base",
     "model_module_version": "1.2.0",
     "model_name": "LayoutModel",
     "state": {
      "_model_module": "@jupyter-widgets/base",
      "_model_module_version": "1.2.0",
      "_model_name": "LayoutModel",
      "_view_count": null,
      "_view_module": "@jupyter-widgets/base",
      "_view_module_version": "1.2.0",
      "_view_name": "LayoutView",
      "align_content": null,
      "align_items": null,
      "align_self": null,
      "border": null,
      "bottom": null,
      "display": null,
      "flex": null,
      "flex_flow": null,
      "grid_area": null,
      "grid_auto_columns": null,
      "grid_auto_flow": null,
      "grid_auto_rows": null,
      "grid_column": null,
      "grid_gap": null,
      "grid_row": null,
      "grid_template_areas": null,
      "grid_template_columns": null,
      "grid_template_rows": null,
      "height": null,
      "justify_content": null,
      "justify_items": null,
      "left": null,
      "margin": null,
      "max_height": null,
      "max_width": null,
      "min_height": null,
      "min_width": null,
      "object_fit": null,
      "object_position": null,
      "order": null,
      "overflow": null,
      "overflow_x": null,
      "overflow_y": null,
      "padding": null,
      "right": null,
      "top": null,
      "visibility": null,
      "width": null
     }
    },
    "2bf7b550fd1c4552ae49f0ea4b9a71d7": {
     "model_module": "@jupyter-widgets/controls",
     "model_module_version": "1.5.0",
     "model_name": "HTMLModel",
     "state": {
      "_dom_classes": [],
      "_model_module": "@jupyter-widgets/controls",
      "_model_module_version": "1.5.0",
      "_model_name": "HTMLModel",
      "_view_count": null,
      "_view_module": "@jupyter-widgets/controls",
      "_view_module_version": "1.5.0",
      "_view_name": "HTMLView",
      "description": "",
      "description_tooltip": null,
      "layout": "IPY_MODEL_1fe1222465ca43e2840321d74c93f108",
      "placeholder": "​",
      "style": "IPY_MODEL_2d41a7bfdfee4cbabf36546c85f14866",
      "value": " 5120/? [00:00&lt;00:00, 8188.99it/s]"
     }
    },
    "2d41a7bfdfee4cbabf36546c85f14866": {
     "model_module": "@jupyter-widgets/controls",
     "model_module_version": "1.5.0",
     "model_name": "DescriptionStyleModel",
     "state": {
      "_model_module": "@jupyter-widgets/controls",
      "_model_module_version": "1.5.0",
      "_model_name": "DescriptionStyleModel",
      "_view_count": null,
      "_view_module": "@jupyter-widgets/base",
      "_view_module_version": "1.2.0",
      "_view_name": "StyleView",
      "description_width": ""
     }
    },
    "2f4d0a407e7e4093b65f5f47ba85520c": {
     "model_module": "@jupyter-widgets/controls",
     "model_module_version": "1.5.0",
     "model_name": "FloatProgressModel",
     "state": {
      "_dom_classes": [],
      "_model_module": "@jupyter-widgets/controls",
      "_model_module_version": "1.5.0",
      "_model_name": "FloatProgressModel",
      "_view_count": null,
      "_view_module": "@jupyter-widgets/controls",
      "_view_module_version": "1.5.0",
      "_view_name": "ProgressView",
      "bar_style": "success",
      "description": "",
      "description_tooltip": null,
      "layout": "IPY_MODEL_bf1a758830a243ac96ae63939e765127",
      "max": 4542,
      "min": 0,
      "orientation": "horizontal",
      "style": "IPY_MODEL_d6989c920e254d7c9c1c30037738edd4",
      "value": 4542
     }
    },
    "32ceb0ccd1424d958d9923f83d99bfe0": {
     "model_module": "@jupyter-widgets/base",
     "model_module_version": "1.2.0",
     "model_name": "LayoutModel",
     "state": {
      "_model_module": "@jupyter-widgets/base",
      "_model_module_version": "1.2.0",
      "_model_name": "LayoutModel",
      "_view_count": null,
      "_view_module": "@jupyter-widgets/base",
      "_view_module_version": "1.2.0",
      "_view_name": "LayoutView",
      "align_content": null,
      "align_items": null,
      "align_self": null,
      "border": null,
      "bottom": null,
      "display": null,
      "flex": null,
      "flex_flow": null,
      "grid_area": null,
      "grid_auto_columns": null,
      "grid_auto_flow": null,
      "grid_auto_rows": null,
      "grid_column": null,
      "grid_gap": null,
      "grid_row": null,
      "grid_template_areas": null,
      "grid_template_columns": null,
      "grid_template_rows": null,
      "height": null,
      "justify_content": null,
      "justify_items": null,
      "left": null,
      "margin": null,
      "max_height": null,
      "max_width": null,
      "min_height": null,
      "min_width": null,
      "object_fit": null,
      "object_position": null,
      "order": null,
      "overflow": null,
      "overflow_x": null,
      "overflow_y": null,
      "padding": null,
      "right": null,
      "top": null,
      "visibility": null,
      "width": null
     }
    },
    "32fac9d3d1b048f5896eba4b267d1f54": {
     "model_module": "@jupyter-widgets/controls",
     "model_module_version": "1.5.0",
     "model_name": "HTMLModel",
     "state": {
      "_dom_classes": [],
      "_model_module": "@jupyter-widgets/controls",
      "_model_module_version": "1.5.0",
      "_model_name": "HTMLModel",
      "_view_count": null,
      "_view_module": "@jupyter-widgets/controls",
      "_view_module_version": "1.5.0",
      "_view_name": "HTMLView",
      "description": "",
      "description_tooltip": null,
      "layout": "IPY_MODEL_cfd9efce24a44161b8ffab0c9f309a2d",
      "placeholder": "​",
      "style": "IPY_MODEL_56908023cdfb4fb99868ddff7fc97924",
      "value": " 29696/? [00:00&lt;00:00, 9798.19it/s]"
     }
    },
    "3af7aeab1db54ae58304872e3a8a3471": {
     "model_module": "@jupyter-widgets/controls",
     "model_module_version": "1.5.0",
     "model_name": "DescriptionStyleModel",
     "state": {
      "_model_module": "@jupyter-widgets/controls",
      "_model_module_version": "1.5.0",
      "_model_name": "DescriptionStyleModel",
      "_view_count": null,
      "_view_module": "@jupyter-widgets/base",
      "_view_module_version": "1.2.0",
      "_view_name": "StyleView",
      "description_width": ""
     }
    },
    "3edbfde1856e45cc9184a4d554dcf060": {
     "model_module": "@jupyter-widgets/controls",
     "model_module_version": "1.5.0",
     "model_name": "ProgressStyleModel",
     "state": {
      "_model_module": "@jupyter-widgets/controls",
      "_model_module_version": "1.5.0",
      "_model_name": "ProgressStyleModel",
      "_view_count": null,
      "_view_module": "@jupyter-widgets/base",
      "_view_module_version": "1.2.0",
      "_view_name": "StyleView",
      "bar_color": null,
      "description_width": ""
     }
    },
    "42d8b5b6f66c4361bf9e7f219efe0ddc": {
     "model_module": "@jupyter-widgets/controls",
     "model_module_version": "1.5.0",
     "model_name": "FloatProgressModel",
     "state": {
      "_dom_classes": [],
      "_model_module": "@jupyter-widgets/controls",
      "_model_module_version": "1.5.0",
      "_model_name": "FloatProgressModel",
      "_view_count": null,
      "_view_module": "@jupyter-widgets/controls",
      "_view_module_version": "1.5.0",
      "_view_name": "ProgressView",
      "bar_style": "success",
      "description": "",
      "description_tooltip": null,
      "layout": "IPY_MODEL_49e30d02f4f646c69106c1d2df9a87d5",
      "max": 9912422,
      "min": 0,
      "orientation": "horizontal",
      "style": "IPY_MODEL_4483bb8c5fc0439b9ac31b65ce9ba944",
      "value": 9912422
     }
    },
    "4483bb8c5fc0439b9ac31b65ce9ba944": {
     "model_module": "@jupyter-widgets/controls",
     "model_module_version": "1.5.0",
     "model_name": "ProgressStyleModel",
     "state": {
      "_model_module": "@jupyter-widgets/controls",
      "_model_module_version": "1.5.0",
      "_model_name": "ProgressStyleModel",
      "_view_count": null,
      "_view_module": "@jupyter-widgets/base",
      "_view_module_version": "1.2.0",
      "_view_name": "StyleView",
      "bar_color": null,
      "description_width": ""
     }
    },
    "49674570cf19482f9937e6946161a395": {
     "model_module": "@jupyter-widgets/controls",
     "model_module_version": "1.5.0",
     "model_name": "HBoxModel",
     "state": {
      "_dom_classes": [],
      "_model_module": "@jupyter-widgets/controls",
      "_model_module_version": "1.5.0",
      "_model_name": "HBoxModel",
      "_view_count": null,
      "_view_module": "@jupyter-widgets/controls",
      "_view_module_version": "1.5.0",
      "_view_name": "HBoxView",
      "box_style": "",
      "children": [
       "IPY_MODEL_e8385f7e0c604db9bb93437da01796ef",
       "IPY_MODEL_f4f07393dbd74ac5980b08ec7ced6a6f",
       "IPY_MODEL_7a7b705f7e4540bcac84f1eafb85664e"
      ],
      "layout": "IPY_MODEL_70f8986c93c84401afcac7a88f0ca9a3"
     }
    },
    "49e30d02f4f646c69106c1d2df9a87d5": {
     "model_module": "@jupyter-widgets/base",
     "model_module_version": "1.2.0",
     "model_name": "LayoutModel",
     "state": {
      "_model_module": "@jupyter-widgets/base",
      "_model_module_version": "1.2.0",
      "_model_name": "LayoutModel",
      "_view_count": null,
      "_view_module": "@jupyter-widgets/base",
      "_view_module_version": "1.2.0",
      "_view_name": "LayoutView",
      "align_content": null,
      "align_items": null,
      "align_self": null,
      "border": null,
      "bottom": null,
      "display": null,
      "flex": null,
      "flex_flow": null,
      "grid_area": null,
      "grid_auto_columns": null,
      "grid_auto_flow": null,
      "grid_auto_rows": null,
      "grid_column": null,
      "grid_gap": null,
      "grid_row": null,
      "grid_template_areas": null,
      "grid_template_columns": null,
      "grid_template_rows": null,
      "height": null,
      "justify_content": null,
      "justify_items": null,
      "left": null,
      "margin": null,
      "max_height": null,
      "max_width": null,
      "min_height": null,
      "min_width": null,
      "object_fit": null,
      "object_position": null,
      "order": null,
      "overflow": null,
      "overflow_x": null,
      "overflow_y": null,
      "padding": null,
      "right": null,
      "top": null,
      "visibility": null,
      "width": null
     }
    },
    "4ce979b46b4e4cc788a6c929955641f1": {
     "model_module": "@jupyter-widgets/base",
     "model_module_version": "1.2.0",
     "model_name": "LayoutModel",
     "state": {
      "_model_module": "@jupyter-widgets/base",
      "_model_module_version": "1.2.0",
      "_model_name": "LayoutModel",
      "_view_count": null,
      "_view_module": "@jupyter-widgets/base",
      "_view_module_version": "1.2.0",
      "_view_name": "LayoutView",
      "align_content": null,
      "align_items": null,
      "align_self": null,
      "border": null,
      "bottom": null,
      "display": null,
      "flex": null,
      "flex_flow": null,
      "grid_area": null,
      "grid_auto_columns": null,
      "grid_auto_flow": null,
      "grid_auto_rows": null,
      "grid_column": null,
      "grid_gap": null,
      "grid_row": null,
      "grid_template_areas": null,
      "grid_template_columns": null,
      "grid_template_rows": null,
      "height": null,
      "justify_content": null,
      "justify_items": null,
      "left": null,
      "margin": null,
      "max_height": null,
      "max_width": null,
      "min_height": null,
      "min_width": null,
      "object_fit": null,
      "object_position": null,
      "order": null,
      "overflow": null,
      "overflow_x": null,
      "overflow_y": null,
      "padding": null,
      "right": null,
      "top": null,
      "visibility": null,
      "width": null
     }
    },
    "56908023cdfb4fb99868ddff7fc97924": {
     "model_module": "@jupyter-widgets/controls",
     "model_module_version": "1.5.0",
     "model_name": "DescriptionStyleModel",
     "state": {
      "_model_module": "@jupyter-widgets/controls",
      "_model_module_version": "1.5.0",
      "_model_name": "DescriptionStyleModel",
      "_view_count": null,
      "_view_module": "@jupyter-widgets/base",
      "_view_module_version": "1.2.0",
      "_view_name": "StyleView",
      "description_width": ""
     }
    },
    "595da79f9eb24ce09ff36d7214077975": {
     "model_module": "@jupyter-widgets/base",
     "model_module_version": "1.2.0",
     "model_name": "LayoutModel",
     "state": {
      "_model_module": "@jupyter-widgets/base",
      "_model_module_version": "1.2.0",
      "_model_name": "LayoutModel",
      "_view_count": null,
      "_view_module": "@jupyter-widgets/base",
      "_view_module_version": "1.2.0",
      "_view_name": "LayoutView",
      "align_content": null,
      "align_items": null,
      "align_self": null,
      "border": null,
      "bottom": null,
      "display": null,
      "flex": null,
      "flex_flow": null,
      "grid_area": null,
      "grid_auto_columns": null,
      "grid_auto_flow": null,
      "grid_auto_rows": null,
      "grid_column": null,
      "grid_gap": null,
      "grid_row": null,
      "grid_template_areas": null,
      "grid_template_columns": null,
      "grid_template_rows": null,
      "height": null,
      "justify_content": null,
      "justify_items": null,
      "left": null,
      "margin": null,
      "max_height": null,
      "max_width": null,
      "min_height": null,
      "min_width": null,
      "object_fit": null,
      "object_position": null,
      "order": null,
      "overflow": null,
      "overflow_x": null,
      "overflow_y": null,
      "padding": null,
      "right": null,
      "top": null,
      "visibility": null,
      "width": null
     }
    },
    "59a352927f7b44a68c06f93496faaf5c": {
     "model_module": "@jupyter-widgets/controls",
     "model_module_version": "1.5.0",
     "model_name": "HTMLModel",
     "state": {
      "_dom_classes": [],
      "_model_module": "@jupyter-widgets/controls",
      "_model_module_version": "1.5.0",
      "_model_name": "HTMLModel",
      "_view_count": null,
      "_view_module": "@jupyter-widgets/controls",
      "_view_module_version": "1.5.0",
      "_view_name": "HTMLView",
      "description": "",
      "description_tooltip": null,
      "layout": "IPY_MODEL_595da79f9eb24ce09ff36d7214077975",
      "placeholder": "​",
      "style": "IPY_MODEL_d9b2d36e975e49e1af0b773671d2f5af",
      "value": ""
     }
    },
    "6b38a7b140764db2a54b6b91dbaaf786": {
     "model_module": "@jupyter-widgets/base",
     "model_module_version": "1.2.0",
     "model_name": "LayoutModel",
     "state": {
      "_model_module": "@jupyter-widgets/base",
      "_model_module_version": "1.2.0",
      "_model_name": "LayoutModel",
      "_view_count": null,
      "_view_module": "@jupyter-widgets/base",
      "_view_module_version": "1.2.0",
      "_view_name": "LayoutView",
      "align_content": null,
      "align_items": null,
      "align_self": null,
      "border": null,
      "bottom": null,
      "display": null,
      "flex": null,
      "flex_flow": null,
      "grid_area": null,
      "grid_auto_columns": null,
      "grid_auto_flow": null,
      "grid_auto_rows": null,
      "grid_column": null,
      "grid_gap": null,
      "grid_row": null,
      "grid_template_areas": null,
      "grid_template_columns": null,
      "grid_template_rows": null,
      "height": null,
      "justify_content": null,
      "justify_items": null,
      "left": null,
      "margin": null,
      "max_height": null,
      "max_width": null,
      "min_height": null,
      "min_width": null,
      "object_fit": null,
      "object_position": null,
      "order": null,
      "overflow": null,
      "overflow_x": null,
      "overflow_y": null,
      "padding": null,
      "right": null,
      "top": null,
      "visibility": null,
      "width": null
     }
    },
    "6d33649e1b0341f48d455399af287c48": {
     "model_module": "@jupyter-widgets/controls",
     "model_module_version": "1.5.0",
     "model_name": "DescriptionStyleModel",
     "state": {
      "_model_module": "@jupyter-widgets/controls",
      "_model_module_version": "1.5.0",
      "_model_name": "DescriptionStyleModel",
      "_view_count": null,
      "_view_module": "@jupyter-widgets/base",
      "_view_module_version": "1.2.0",
      "_view_name": "StyleView",
      "description_width": ""
     }
    },
    "6e15905426564a03a3b4566479d30d0c": {
     "model_module": "@jupyter-widgets/controls",
     "model_module_version": "1.5.0",
     "model_name": "DescriptionStyleModel",
     "state": {
      "_model_module": "@jupyter-widgets/controls",
      "_model_module_version": "1.5.0",
      "_model_name": "DescriptionStyleModel",
      "_view_count": null,
      "_view_module": "@jupyter-widgets/base",
      "_view_module_version": "1.2.0",
      "_view_name": "StyleView",
      "description_width": ""
     }
    },
    "70f8986c93c84401afcac7a88f0ca9a3": {
     "model_module": "@jupyter-widgets/base",
     "model_module_version": "1.2.0",
     "model_name": "LayoutModel",
     "state": {
      "_model_module": "@jupyter-widgets/base",
      "_model_module_version": "1.2.0",
      "_model_name": "LayoutModel",
      "_view_count": null,
      "_view_module": "@jupyter-widgets/base",
      "_view_module_version": "1.2.0",
      "_view_name": "LayoutView",
      "align_content": null,
      "align_items": null,
      "align_self": null,
      "border": null,
      "bottom": null,
      "display": null,
      "flex": null,
      "flex_flow": null,
      "grid_area": null,
      "grid_auto_columns": null,
      "grid_auto_flow": null,
      "grid_auto_rows": null,
      "grid_column": null,
      "grid_gap": null,
      "grid_row": null,
      "grid_template_areas": null,
      "grid_template_columns": null,
      "grid_template_rows": null,
      "height": null,
      "justify_content": null,
      "justify_items": null,
      "left": null,
      "margin": null,
      "max_height": null,
      "max_width": null,
      "min_height": null,
      "min_width": null,
      "object_fit": null,
      "object_position": null,
      "order": null,
      "overflow": null,
      "overflow_x": null,
      "overflow_y": null,
      "padding": null,
      "right": null,
      "top": null,
      "visibility": null,
      "width": null
     }
    },
    "7a7b705f7e4540bcac84f1eafb85664e": {
     "model_module": "@jupyter-widgets/controls",
     "model_module_version": "1.5.0",
     "model_name": "HTMLModel",
     "state": {
      "_dom_classes": [],
      "_model_module": "@jupyter-widgets/controls",
      "_model_module_version": "1.5.0",
      "_model_name": "HTMLModel",
      "_view_count": null,
      "_view_module": "@jupyter-widgets/controls",
      "_view_module_version": "1.5.0",
      "_view_name": "HTMLView",
      "description": "",
      "description_tooltip": null,
      "layout": "IPY_MODEL_da78124772fd4dd3b7ad417bf239a2f6",
      "placeholder": "​",
      "style": "IPY_MODEL_94893323773d4248bfbe7171e9e908ba",
      "value": " 561754112/? [00:29&lt;00:00, 20316373.26it/s]"
     }
    },
    "94893323773d4248bfbe7171e9e908ba": {
     "model_module": "@jupyter-widgets/controls",
     "model_module_version": "1.5.0",
     "model_name": "DescriptionStyleModel",
     "state": {
      "_model_module": "@jupyter-widgets/controls",
      "_model_module_version": "1.5.0",
      "_model_name": "DescriptionStyleModel",
      "_view_count": null,
      "_view_module": "@jupyter-widgets/base",
      "_view_module_version": "1.2.0",
      "_view_name": "StyleView",
      "description_width": ""
     }
    },
    "983f483500fb4946ad1277ab37328aea": {
     "model_module": "@jupyter-widgets/controls",
     "model_module_version": "1.5.0",
     "model_name": "HBoxModel",
     "state": {
      "_dom_classes": [],
      "_model_module": "@jupyter-widgets/controls",
      "_model_module_version": "1.5.0",
      "_model_name": "HBoxModel",
      "_view_count": null,
      "_view_module": "@jupyter-widgets/controls",
      "_view_module_version": "1.5.0",
      "_view_name": "HBoxView",
      "box_style": "",
      "children": [
       "IPY_MODEL_cadad9431a354902905feeef08809d78",
       "IPY_MODEL_db762ad8c11b4f0aa4180f35bedcc866",
       "IPY_MODEL_d032272496c54bc49314ede9391f74ab"
      ],
      "layout": "IPY_MODEL_23359e1c5a1f4689bf9b0169675ee2d0"
     }
    },
    "9c6af322eb8144ac8d0eaf636b9b6fbf": {
     "model_module": "@jupyter-widgets/controls",
     "model_module_version": "1.5.0",
     "model_name": "DescriptionStyleModel",
     "state": {
      "_model_module": "@jupyter-widgets/controls",
      "_model_module_version": "1.5.0",
      "_model_name": "DescriptionStyleModel",
      "_view_count": null,
      "_view_module": "@jupyter-widgets/base",
      "_view_module_version": "1.2.0",
      "_view_name": "StyleView",
      "description_width": ""
     }
    },
    "bda6680a452a485bbd5b92e191edc160": {
     "model_module": "@jupyter-widgets/controls",
     "model_module_version": "1.5.0",
     "model_name": "HBoxModel",
     "state": {
      "_dom_classes": [],
      "_model_module": "@jupyter-widgets/controls",
      "_model_module_version": "1.5.0",
      "_model_name": "HBoxModel",
      "_view_count": null,
      "_view_module": "@jupyter-widgets/controls",
      "_view_module_version": "1.5.0",
      "_view_name": "HBoxView",
      "box_style": "",
      "children": [
       "IPY_MODEL_59a352927f7b44a68c06f93496faaf5c",
       "IPY_MODEL_21f3d072c49a408f92ef764f82ddb0e5",
       "IPY_MODEL_32fac9d3d1b048f5896eba4b267d1f54"
      ],
      "layout": "IPY_MODEL_181d5fd77646420c9f660c501d400bdd"
     }
    },
    "bea1faaca62b4f3a89332ffca727c9af": {
     "model_module": "@jupyter-widgets/base",
     "model_module_version": "1.2.0",
     "model_name": "LayoutModel",
     "state": {
      "_model_module": "@jupyter-widgets/base",
      "_model_module_version": "1.2.0",
      "_model_name": "LayoutModel",
      "_view_count": null,
      "_view_module": "@jupyter-widgets/base",
      "_view_module_version": "1.2.0",
      "_view_name": "LayoutView",
      "align_content": null,
      "align_items": null,
      "align_self": null,
      "border": null,
      "bottom": null,
      "display": null,
      "flex": null,
      "flex_flow": null,
      "grid_area": null,
      "grid_auto_columns": null,
      "grid_auto_flow": null,
      "grid_auto_rows": null,
      "grid_column": null,
      "grid_gap": null,
      "grid_row": null,
      "grid_template_areas": null,
      "grid_template_columns": null,
      "grid_template_rows": null,
      "height": null,
      "justify_content": null,
      "justify_items": null,
      "left": null,
      "margin": null,
      "max_height": null,
      "max_width": null,
      "min_height": null,
      "min_width": null,
      "object_fit": null,
      "object_position": null,
      "order": null,
      "overflow": null,
      "overflow_x": null,
      "overflow_y": null,
      "padding": null,
      "right": null,
      "top": null,
      "visibility": null,
      "width": null
     }
    },
    "bf1a758830a243ac96ae63939e765127": {
     "model_module": "@jupyter-widgets/base",
     "model_module_version": "1.2.0",
     "model_name": "LayoutModel",
     "state": {
      "_model_module": "@jupyter-widgets/base",
      "_model_module_version": "1.2.0",
      "_model_name": "LayoutModel",
      "_view_count": null,
      "_view_module": "@jupyter-widgets/base",
      "_view_module_version": "1.2.0",
      "_view_name": "LayoutView",
      "align_content": null,
      "align_items": null,
      "align_self": null,
      "border": null,
      "bottom": null,
      "display": null,
      "flex": null,
      "flex_flow": null,
      "grid_area": null,
      "grid_auto_columns": null,
      "grid_auto_flow": null,
      "grid_auto_rows": null,
      "grid_column": null,
      "grid_gap": null,
      "grid_row": null,
      "grid_template_areas": null,
      "grid_template_columns": null,
      "grid_template_rows": null,
      "height": null,
      "justify_content": null,
      "justify_items": null,
      "left": null,
      "margin": null,
      "max_height": null,
      "max_width": null,
      "min_height": null,
      "min_width": null,
      "object_fit": null,
      "object_position": null,
      "order": null,
      "overflow": null,
      "overflow_x": null,
      "overflow_y": null,
      "padding": null,
      "right": null,
      "top": null,
      "visibility": null,
      "width": null
     }
    },
    "c211457b928b4796851ed2e551516e27": {
     "model_module": "@jupyter-widgets/base",
     "model_module_version": "1.2.0",
     "model_name": "LayoutModel",
     "state": {
      "_model_module": "@jupyter-widgets/base",
      "_model_module_version": "1.2.0",
      "_model_name": "LayoutModel",
      "_view_count": null,
      "_view_module": "@jupyter-widgets/base",
      "_view_module_version": "1.2.0",
      "_view_name": "LayoutView",
      "align_content": null,
      "align_items": null,
      "align_self": null,
      "border": null,
      "bottom": null,
      "display": null,
      "flex": null,
      "flex_flow": null,
      "grid_area": null,
      "grid_auto_columns": null,
      "grid_auto_flow": null,
      "grid_auto_rows": null,
      "grid_column": null,
      "grid_gap": null,
      "grid_row": null,
      "grid_template_areas": null,
      "grid_template_columns": null,
      "grid_template_rows": null,
      "height": null,
      "justify_content": null,
      "justify_items": null,
      "left": null,
      "margin": null,
      "max_height": null,
      "max_width": null,
      "min_height": null,
      "min_width": null,
      "object_fit": null,
      "object_position": null,
      "order": null,
      "overflow": null,
      "overflow_x": null,
      "overflow_y": null,
      "padding": null,
      "right": null,
      "top": null,
      "visibility": null,
      "width": null
     }
    },
    "cadad9431a354902905feeef08809d78": {
     "model_module": "@jupyter-widgets/controls",
     "model_module_version": "1.5.0",
     "model_name": "HTMLModel",
     "state": {
      "_dom_classes": [],
      "_model_module": "@jupyter-widgets/controls",
      "_model_module_version": "1.5.0",
      "_model_name": "HTMLModel",
      "_view_count": null,
      "_view_module": "@jupyter-widgets/controls",
      "_view_module_version": "1.5.0",
      "_view_name": "HTMLView",
      "description": "",
      "description_tooltip": null,
      "layout": "IPY_MODEL_feb7c4e040a54a348a3d4aa3d60f3406",
      "placeholder": "​",
      "style": "IPY_MODEL_6e15905426564a03a3b4566479d30d0c",
      "value": ""
     }
    },
    "cfd9efce24a44161b8ffab0c9f309a2d": {
     "model_module": "@jupyter-widgets/base",
     "model_module_version": "1.2.0",
     "model_name": "LayoutModel",
     "state": {
      "_model_module": "@jupyter-widgets/base",
      "_model_module_version": "1.2.0",
      "_model_name": "LayoutModel",
      "_view_count": null,
      "_view_module": "@jupyter-widgets/base",
      "_view_module_version": "1.2.0",
      "_view_name": "LayoutView",
      "align_content": null,
      "align_items": null,
      "align_self": null,
      "border": null,
      "bottom": null,
      "display": null,
      "flex": null,
      "flex_flow": null,
      "grid_area": null,
      "grid_auto_columns": null,
      "grid_auto_flow": null,
      "grid_auto_rows": null,
      "grid_column": null,
      "grid_gap": null,
      "grid_row": null,
      "grid_template_areas": null,
      "grid_template_columns": null,
      "grid_template_rows": null,
      "height": null,
      "justify_content": null,
      "justify_items": null,
      "left": null,
      "margin": null,
      "max_height": null,
      "max_width": null,
      "min_height": null,
      "min_width": null,
      "object_fit": null,
      "object_position": null,
      "order": null,
      "overflow": null,
      "overflow_x": null,
      "overflow_y": null,
      "padding": null,
      "right": null,
      "top": null,
      "visibility": null,
      "width": null
     }
    },
    "d032272496c54bc49314ede9391f74ab": {
     "model_module": "@jupyter-widgets/controls",
     "model_module_version": "1.5.0",
     "model_name": "HTMLModel",
     "state": {
      "_dom_classes": [],
      "_model_module": "@jupyter-widgets/controls",
      "_model_module_version": "1.5.0",
      "_model_name": "HTMLModel",
      "_view_count": null,
      "_view_module": "@jupyter-widgets/controls",
      "_view_module_version": "1.5.0",
      "_view_name": "HTMLView",
      "description": "",
      "description_tooltip": null,
      "layout": "IPY_MODEL_32ceb0ccd1424d958d9923f83d99bfe0",
      "placeholder": "​",
      "style": "IPY_MODEL_3af7aeab1db54ae58304872e3a8a3471",
      "value": " 1649664/? [00:00&lt;00:00, 3199194.29it/s]"
     }
    },
    "d17d59a2f18b42018748c51abb6d4402": {
     "model_module": "@jupyter-widgets/base",
     "model_module_version": "1.2.0",
     "model_name": "LayoutModel",
     "state": {
      "_model_module": "@jupyter-widgets/base",
      "_model_module_version": "1.2.0",
      "_model_name": "LayoutModel",
      "_view_count": null,
      "_view_module": "@jupyter-widgets/base",
      "_view_module_version": "1.2.0",
      "_view_name": "LayoutView",
      "align_content": null,
      "align_items": null,
      "align_self": null,
      "border": null,
      "bottom": null,
      "display": null,
      "flex": null,
      "flex_flow": null,
      "grid_area": null,
      "grid_auto_columns": null,
      "grid_auto_flow": null,
      "grid_auto_rows": null,
      "grid_column": null,
      "grid_gap": null,
      "grid_row": null,
      "grid_template_areas": null,
      "grid_template_columns": null,
      "grid_template_rows": null,
      "height": null,
      "justify_content": null,
      "justify_items": null,
      "left": null,
      "margin": null,
      "max_height": null,
      "max_width": null,
      "min_height": null,
      "min_width": null,
      "object_fit": null,
      "object_position": null,
      "order": null,
      "overflow": null,
      "overflow_x": null,
      "overflow_y": null,
      "padding": null,
      "right": null,
      "top": null,
      "visibility": null,
      "width": null
     }
    },
    "d6989c920e254d7c9c1c30037738edd4": {
     "model_module": "@jupyter-widgets/controls",
     "model_module_version": "1.5.0",
     "model_name": "ProgressStyleModel",
     "state": {
      "_model_module": "@jupyter-widgets/controls",
      "_model_module_version": "1.5.0",
      "_model_name": "ProgressStyleModel",
      "_view_count": null,
      "_view_module": "@jupyter-widgets/base",
      "_view_module_version": "1.2.0",
      "_view_name": "StyleView",
      "bar_color": null,
      "description_width": ""
     }
    },
    "d9b2d36e975e49e1af0b773671d2f5af": {
     "model_module": "@jupyter-widgets/controls",
     "model_module_version": "1.5.0",
     "model_name": "DescriptionStyleModel",
     "state": {
      "_model_module": "@jupyter-widgets/controls",
      "_model_module_version": "1.5.0",
      "_model_name": "DescriptionStyleModel",
      "_view_count": null,
      "_view_module": "@jupyter-widgets/base",
      "_view_module_version": "1.2.0",
      "_view_name": "StyleView",
      "description_width": ""
     }
    },
    "da78124772fd4dd3b7ad417bf239a2f6": {
     "model_module": "@jupyter-widgets/base",
     "model_module_version": "1.2.0",
     "model_name": "LayoutModel",
     "state": {
      "_model_module": "@jupyter-widgets/base",
      "_model_module_version": "1.2.0",
      "_model_name": "LayoutModel",
      "_view_count": null,
      "_view_module": "@jupyter-widgets/base",
      "_view_module_version": "1.2.0",
      "_view_name": "LayoutView",
      "align_content": null,
      "align_items": null,
      "align_self": null,
      "border": null,
      "bottom": null,
      "display": null,
      "flex": null,
      "flex_flow": null,
      "grid_area": null,
      "grid_auto_columns": null,
      "grid_auto_flow": null,
      "grid_auto_rows": null,
      "grid_column": null,
      "grid_gap": null,
      "grid_row": null,
      "grid_template_areas": null,
      "grid_template_columns": null,
      "grid_template_rows": null,
      "height": null,
      "justify_content": null,
      "justify_items": null,
      "left": null,
      "margin": null,
      "max_height": null,
      "max_width": null,
      "min_height": null,
      "min_width": null,
      "object_fit": null,
      "object_position": null,
      "order": null,
      "overflow": null,
      "overflow_x": null,
      "overflow_y": null,
      "padding": null,
      "right": null,
      "top": null,
      "visibility": null,
      "width": null
     }
    },
    "db762ad8c11b4f0aa4180f35bedcc866": {
     "model_module": "@jupyter-widgets/controls",
     "model_module_version": "1.5.0",
     "model_name": "FloatProgressModel",
     "state": {
      "_dom_classes": [],
      "_model_module": "@jupyter-widgets/controls",
      "_model_module_version": "1.5.0",
      "_model_name": "FloatProgressModel",
      "_view_count": null,
      "_view_module": "@jupyter-widgets/controls",
      "_view_module_version": "1.5.0",
      "_view_name": "ProgressView",
      "bar_style": "success",
      "description": "",
      "description_tooltip": null,
      "layout": "IPY_MODEL_293a7fd391b64479ad5fe1287e2f154f",
      "max": 1648877,
      "min": 0,
      "orientation": "horizontal",
      "style": "IPY_MODEL_e6d0fd1a655c4a4dbc881256e53fbf54",
      "value": 1648877
     }
    },
    "ddee1e4f36874376b7e12342f7d40e64": {
     "model_module": "@jupyter-widgets/base",
     "model_module_version": "1.2.0",
     "model_name": "LayoutModel",
     "state": {
      "_model_module": "@jupyter-widgets/base",
      "_model_module_version": "1.2.0",
      "_model_name": "LayoutModel",
      "_view_count": null,
      "_view_module": "@jupyter-widgets/base",
      "_view_module_version": "1.2.0",
      "_view_name": "LayoutView",
      "align_content": null,
      "align_items": null,
      "align_self": null,
      "border": null,
      "bottom": null,
      "display": null,
      "flex": null,
      "flex_flow": null,
      "grid_area": null,
      "grid_auto_columns": null,
      "grid_auto_flow": null,
      "grid_auto_rows": null,
      "grid_column": null,
      "grid_gap": null,
      "grid_row": null,
      "grid_template_areas": null,
      "grid_template_columns": null,
      "grid_template_rows": null,
      "height": null,
      "justify_content": null,
      "justify_items": null,
      "left": null,
      "margin": null,
      "max_height": null,
      "max_width": null,
      "min_height": null,
      "min_width": null,
      "object_fit": null,
      "object_position": null,
      "order": null,
      "overflow": null,
      "overflow_x": null,
      "overflow_y": null,
      "padding": null,
      "right": null,
      "top": null,
      "visibility": null,
      "width": null
     }
    },
    "e2e159fd2a4d43cbb1900f4488029ed1": {
     "model_module": "@jupyter-widgets/base",
     "model_module_version": "1.2.0",
     "model_name": "LayoutModel",
     "state": {
      "_model_module": "@jupyter-widgets/base",
      "_model_module_version": "1.2.0",
      "_model_name": "LayoutModel",
      "_view_count": null,
      "_view_module": "@jupyter-widgets/base",
      "_view_module_version": "1.2.0",
      "_view_name": "LayoutView",
      "align_content": null,
      "align_items": null,
      "align_self": null,
      "border": null,
      "bottom": null,
      "display": null,
      "flex": null,
      "flex_flow": null,
      "grid_area": null,
      "grid_auto_columns": null,
      "grid_auto_flow": null,
      "grid_auto_rows": null,
      "grid_column": null,
      "grid_gap": null,
      "grid_row": null,
      "grid_template_areas": null,
      "grid_template_columns": null,
      "grid_template_rows": null,
      "height": null,
      "justify_content": null,
      "justify_items": null,
      "left": null,
      "margin": null,
      "max_height": null,
      "max_width": null,
      "min_height": null,
      "min_width": null,
      "object_fit": null,
      "object_position": null,
      "order": null,
      "overflow": null,
      "overflow_x": null,
      "overflow_y": null,
      "padding": null,
      "right": null,
      "top": null,
      "visibility": null,
      "width": null
     }
    },
    "e38084568e6d434b946d3e4987baf1c7": {
     "model_module": "@jupyter-widgets/controls",
     "model_module_version": "1.5.0",
     "model_name": "HBoxModel",
     "state": {
      "_dom_classes": [],
      "_model_module": "@jupyter-widgets/controls",
      "_model_module_version": "1.5.0",
      "_model_name": "HBoxModel",
      "_view_count": null,
      "_view_module": "@jupyter-widgets/controls",
      "_view_module_version": "1.5.0",
      "_view_name": "HBoxView",
      "box_style": "",
      "children": [
       "IPY_MODEL_f910a378b60b4b1ca90b3bcb8b3e0e5d",
       "IPY_MODEL_2f4d0a407e7e4093b65f5f47ba85520c",
       "IPY_MODEL_2bf7b550fd1c4552ae49f0ea4b9a71d7"
      ],
      "layout": "IPY_MODEL_bea1faaca62b4f3a89332ffca727c9af"
     }
    },
    "e6d0fd1a655c4a4dbc881256e53fbf54": {
     "model_module": "@jupyter-widgets/controls",
     "model_module_version": "1.5.0",
     "model_name": "ProgressStyleModel",
     "state": {
      "_model_module": "@jupyter-widgets/controls",
      "_model_module_version": "1.5.0",
      "_model_name": "ProgressStyleModel",
      "_view_count": null,
      "_view_module": "@jupyter-widgets/base",
      "_view_module_version": "1.2.0",
      "_view_name": "StyleView",
      "bar_color": null,
      "description_width": ""
     }
    },
    "e6fcf61869494b66b03ba06441ab62d8": {
     "model_module": "@jupyter-widgets/controls",
     "model_module_version": "1.5.0",
     "model_name": "HTMLModel",
     "state": {
      "_dom_classes": [],
      "_model_module": "@jupyter-widgets/controls",
      "_model_module_version": "1.5.0",
      "_model_name": "HTMLModel",
      "_view_count": null,
      "_view_module": "@jupyter-widgets/controls",
      "_view_module_version": "1.5.0",
      "_view_name": "HTMLView",
      "description": "",
      "description_tooltip": null,
      "layout": "IPY_MODEL_4ce979b46b4e4cc788a6c929955641f1",
      "placeholder": "​",
      "style": "IPY_MODEL_6d33649e1b0341f48d455399af287c48",
      "value": ""
     }
    },
    "e8385f7e0c604db9bb93437da01796ef": {
     "model_module": "@jupyter-widgets/controls",
     "model_module_version": "1.5.0",
     "model_name": "HTMLModel",
     "state": {
      "_dom_classes": [],
      "_model_module": "@jupyter-widgets/controls",
      "_model_module_version": "1.5.0",
      "_model_name": "HTMLModel",
      "_view_count": null,
      "_view_module": "@jupyter-widgets/controls",
      "_view_module_version": "1.5.0",
      "_view_name": "HTMLView",
      "description": "",
      "description_tooltip": null,
      "layout": "IPY_MODEL_6b38a7b140764db2a54b6b91dbaaf786",
      "placeholder": "​",
      "style": "IPY_MODEL_115738aa4b4d4e94b29972f650fba286",
      "value": ""
     }
    },
    "ef9a741c9f554bd0ada30355285e2369": {
     "model_module": "@jupyter-widgets/controls",
     "model_module_version": "1.5.0",
     "model_name": "ProgressStyleModel",
     "state": {
      "_model_module": "@jupyter-widgets/controls",
      "_model_module_version": "1.5.0",
      "_model_name": "ProgressStyleModel",
      "_view_count": null,
      "_view_module": "@jupyter-widgets/base",
      "_view_module_version": "1.2.0",
      "_view_name": "StyleView",
      "bar_color": null,
      "description_width": ""
     }
    },
    "f0a1927811414db187ac03c28a953e1b": {
     "model_module": "@jupyter-widgets/controls",
     "model_module_version": "1.5.0",
     "model_name": "HTMLModel",
     "state": {
      "_dom_classes": [],
      "_model_module": "@jupyter-widgets/controls",
      "_model_module_version": "1.5.0",
      "_model_name": "HTMLModel",
      "_view_count": null,
      "_view_module": "@jupyter-widgets/controls",
      "_view_module_version": "1.5.0",
      "_view_name": "HTMLView",
      "description": "",
      "description_tooltip": null,
      "layout": "IPY_MODEL_c211457b928b4796851ed2e551516e27",
      "placeholder": "​",
      "style": "IPY_MODEL_f5e648817a814f71bd3cfb913bd9a1d0",
      "value": " 9913344/? [00:00&lt;00:00, 42411797.88it/s]"
     }
    },
    "f4f07393dbd74ac5980b08ec7ced6a6f": {
     "model_module": "@jupyter-widgets/controls",
     "model_module_version": "1.5.0",
     "model_name": "FloatProgressModel",
     "state": {
      "_dom_classes": [],
      "_model_module": "@jupyter-widgets/controls",
      "_model_module_version": "1.5.0",
      "_model_name": "FloatProgressModel",
      "_view_count": null,
      "_view_module": "@jupyter-widgets/controls",
      "_view_module_version": "1.5.0",
      "_view_name": "ProgressView",
      "bar_style": "success",
      "description": "",
      "description_tooltip": null,
      "layout": "IPY_MODEL_e2e159fd2a4d43cbb1900f4488029ed1",
      "max": 561753746,
      "min": 0,
      "orientation": "horizontal",
      "style": "IPY_MODEL_ef9a741c9f554bd0ada30355285e2369",
      "value": 561753746
     }
    },
    "f5e648817a814f71bd3cfb913bd9a1d0": {
     "model_module": "@jupyter-widgets/controls",
     "model_module_version": "1.5.0",
     "model_name": "DescriptionStyleModel",
     "state": {
      "_model_module": "@jupyter-widgets/controls",
      "_model_module_version": "1.5.0",
      "_model_name": "DescriptionStyleModel",
      "_view_count": null,
      "_view_module": "@jupyter-widgets/base",
      "_view_module_version": "1.2.0",
      "_view_name": "StyleView",
      "description_width": ""
     }
    },
    "f910a378b60b4b1ca90b3bcb8b3e0e5d": {
     "model_module": "@jupyter-widgets/controls",
     "model_module_version": "1.5.0",
     "model_name": "HTMLModel",
     "state": {
      "_dom_classes": [],
      "_model_module": "@jupyter-widgets/controls",
      "_model_module_version": "1.5.0",
      "_model_name": "HTMLModel",
      "_view_count": null,
      "_view_module": "@jupyter-widgets/controls",
      "_view_module_version": "1.5.0",
      "_view_name": "HTMLView",
      "description": "",
      "description_tooltip": null,
      "layout": "IPY_MODEL_d17d59a2f18b42018748c51abb6d4402",
      "placeholder": "​",
      "style": "IPY_MODEL_9c6af322eb8144ac8d0eaf636b9b6fbf",
      "value": ""
     }
    },
    "feb7c4e040a54a348a3d4aa3d60f3406": {
     "model_module": "@jupyter-widgets/base",
     "model_module_version": "1.2.0",
     "model_name": "LayoutModel",
     "state": {
      "_model_module": "@jupyter-widgets/base",
      "_model_module_version": "1.2.0",
      "_model_name": "LayoutModel",
      "_view_count": null,
      "_view_module": "@jupyter-widgets/base",
      "_view_module_version": "1.2.0",
      "_view_name": "LayoutView",
      "align_content": null,
      "align_items": null,
      "align_self": null,
      "border": null,
      "bottom": null,
      "display": null,
      "flex": null,
      "flex_flow": null,
      "grid_area": null,
      "grid_auto_columns": null,
      "grid_auto_flow": null,
      "grid_auto_rows": null,
      "grid_column": null,
      "grid_gap": null,
      "grid_row": null,
      "grid_template_areas": null,
      "grid_template_columns": null,
      "grid_template_rows": null,
      "height": null,
      "justify_content": null,
      "justify_items": null,
      "left": null,
      "margin": null,
      "max_height": null,
      "max_width": null,
      "min_height": null,
      "min_width": null,
      "object_fit": null,
      "object_position": null,
      "order": null,
      "overflow": null,
      "overflow_x": null,
      "overflow_y": null,
      "padding": null,
      "right": null,
      "top": null,
      "visibility": null,
      "width": null
     }
    }
   }
  }
 },
 "nbformat": 4,
 "nbformat_minor": 5
}
