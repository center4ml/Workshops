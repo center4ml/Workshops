{
 "cells": [
  {
   "cell_type": "markdown",
   "id": "accomplished-equilibrium",
   "metadata": {
    "id": "aging-prague"
   },
   "source": [
    "# Autoencoders"
   ]
  },
  {
   "cell_type": "markdown",
   "id": "wireless-reserve",
   "metadata": {
    "id": "apparent-egypt"
   },
   "source": [
    "Type of neural network which typically aims to learn efficient representations (efficient coding) of the data.\n",
    "Usually autoencoders are trained in an unsupervised manner.\n",
    "\n",
    "\n",
    "### Applications\n",
    "1. Anomaly detection\n",
    "2. Dimensionality reduction\n",
    "3. Denoising\n",
    "4. ..."
   ]
  },
  {
   "cell_type": "markdown",
   "id": "palestinian-actor",
   "metadata": {
    "id": "animal-monthly"
   },
   "source": [
    "**Reconstruction**\n",
    "![Autoencoder](https://lilianweng.github.io/lil-log/assets/images/autoencoder-architecture.png)\n",
    "Source: https://lilianweng.github.io/lil-log/2018/08/12/from-autoencoder-to-beta-vae.html"
   ]
  },
  {
   "cell_type": "markdown",
   "id": "extreme-journal",
   "metadata": {
    "id": "hungry-citizen"
   },
   "source": [
    "**Denoising**\n",
    "![denoising](https://miro.medium.com/max/5160/1*SxwRp9i23OM0Up4sEze1QQ@2x.png)\n",
    "Source: https://www.kaggle.com/tarunkr/autoencoder-denoising-image-mnist-cifar10"
   ]
  },
  {
   "cell_type": "markdown",
   "id": "broke-transport",
   "metadata": {
    "id": "vZK5dtqPGGaY"
   },
   "source": [
    "# Recapitulation"
   ]
  },
  {
   "cell_type": "markdown",
   "id": "viral-residence",
   "metadata": {
    "id": "o1nshepwG83G"
   },
   "source": [
    "Import base libraries"
   ]
  },
  {
   "cell_type": "code",
   "execution_count": null,
   "id": "essential-poster",
   "metadata": {
    "id": "CwwQ1shPGPJM"
   },
   "outputs": [],
   "source": [
    "import matplotlib.pyplot as plt\n",
    "import numpy as np"
   ]
  },
  {
   "cell_type": "markdown",
   "id": "insured-bookmark",
   "metadata": {
    "id": "iHD8huwGG_ia"
   },
   "source": [
    "Import PyTorch libraries"
   ]
  },
  {
   "cell_type": "code",
   "execution_count": null,
   "id": "seven-bangkok",
   "metadata": {
    "id": "lTl9M1mXGQio"
   },
   "outputs": [],
   "source": [
    "import torch\n",
    "import torchvision"
   ]
  },
  {
   "cell_type": "code",
   "execution_count": null,
   "id": "casual-payment",
   "metadata": {
    "id": "2elS3OXhHVXD"
   },
   "outputs": [],
   "source": [
    "DATASETS_PATH = 'data' # path to directory where data are to be stored"
   ]
  },
  {
   "cell_type": "code",
   "execution_count": null,
   "id": "impressed-announcement",
   "metadata": {
    "id": "54tTc823Gce3"
   },
   "outputs": [],
   "source": [
    "transform = torchvision.transforms.Compose(\n",
    "    [ torchvision.transforms.ToTensor(), #Converts a PIL Image or numpy.ndarray (H x W x C) in the range [0, 255] to a torch.FloatTensor of shape (C x H x W) in the range [0.0, 1.0]\n",
    "      torchvision.transforms.Normalize((0.1307), (0.3081))])"
   ]
  },
  {
   "cell_type": "code",
   "execution_count": null,
   "id": "defined-death",
   "metadata": {
    "colab": {
     "base_uri": "https://localhost:8080/",
     "height": 426,
     "referenced_widgets": [
      "642dc9c0aeb94cf784bc9eaeae504285",
      "6c33d6e7684a4ac7af05374eca06e74d",
      "ea002092a0d948c4982eb7df6a1073be",
      "d2f1a85f0c104db2ba11f7e95403c93d",
      "6ad2e336a71e4e42b199f1508b242191",
      "c86f994844f94b83b07f1c7532a68490",
      "b090ac4866ba4891ad9990b56bab62dd",
      "f6179ea332a44f028e86a89b49947f50",
      "9d3a0d60ebef4812830df4a52981f08d",
      "cc9aa8d19c59466aada25e2a8fce3a2d",
      "9ba34aea33b84bc0a2324d02398e38e4",
      "cb67e83370414830baf17996945d80dd",
      "74282ba86dcf41379018c7ebe2fb8dd0",
      "d69d5324859c4691a29a67cbd5f757e0",
      "9361739ef84c4d49a44f1e293c8bc295",
      "6fb2396b89b74fce95699f02f5352dd5",
      "58f200ef08b74237a0b7d71e69036a56",
      "6c8acfd1fd9b4893a63da00aabcfd24b",
      "4e132af3351944729098f230e3a00cb3",
      "e7c3edea637a4c66abc540ee2af0fd7d",
      "7641056856a24f1aa3ab8c0cbf938970",
      "0b5a05cec52a4889a4dd997ccd9514b4",
      "9682d85006e042119d5bfc89d875b93b",
      "3cfe4eed13af42d49e381e0838895a6c",
      "e4fbbbae1cd14754bf84e8752ced1d6e",
      "649459b2070f455e8d212ccdc93c2174",
      "18b0c51d54d6411fb9ce58f35c482ede",
      "45a0ebfb3e8e4632ac09fc3f2bbc1aa3",
      "1bd096a21e544edca2e0e8da8c2abd45",
      "d9088d86d3ba4d6b9e12da44bc94b03b",
      "15f2fcc6f98c4a888d7e86d2eb4749ca",
      "dea00367b6bb4e91a28c771352a3becf",
      "3c5d3935e1204efeaa6c5b12ceb30fc1",
      "5c42b88eee9c4bc4b41a0b756716f5fa",
      "47233a488c85483696ecf80682a950b5",
      "524f55cbf1184071aa6e21ee849f5efe",
      "fc34e3d01d324d6a82b41ded2d26804b",
      "1044b6a8ec7e498cae15041a9e0e8351",
      "1408556f782e448ea2185e3b7714497d",
      "83925c2723f54b108f0e5291f5725176",
      "a1cd104b8d8741e9ba37bf93e3676e46",
      "cd8249d012d349efab223ee57df7f217",
      "5656ad05fc9a4165b928e7c1b229cb04",
      "55326606c01640a08a1021db0c36b62e"
     ]
    },
    "id": "riPJ5B1CGeFF",
    "outputId": "1152b431-e9f1-4da3-fadc-5da8cbe2b1fc"
   },
   "outputs": [
    {
     "name": "stdout",
     "output_type": "stream",
     "text": [
      "Downloading http://yann.lecun.com/exdb/mnist/train-images-idx3-ubyte.gz\n",
      "Downloading http://yann.lecun.com/exdb/mnist/train-images-idx3-ubyte.gz to data/MNIST/raw/train-images-idx3-ubyte.gz\n"
     ]
    },
    {
     "data": {
      "application/vnd.jupyter.widget-view+json": {
       "model_id": "642dc9c0aeb94cf784bc9eaeae504285",
       "version_major": 2,
       "version_minor": 0
      },
      "text/plain": [
       "  0%|          | 0/9912422 [00:00<?, ?it/s]"
      ]
     },
     "metadata": {},
     "output_type": "display_data"
    },
    {
     "name": "stdout",
     "output_type": "stream",
     "text": [
      "Extracting data/MNIST/raw/train-images-idx3-ubyte.gz to data/MNIST/raw\n",
      "\n",
      "Downloading http://yann.lecun.com/exdb/mnist/train-labels-idx1-ubyte.gz\n",
      "Downloading http://yann.lecun.com/exdb/mnist/train-labels-idx1-ubyte.gz to data/MNIST/raw/train-labels-idx1-ubyte.gz\n"
     ]
    },
    {
     "data": {
      "application/vnd.jupyter.widget-view+json": {
       "model_id": "cb67e83370414830baf17996945d80dd",
       "version_major": 2,
       "version_minor": 0
      },
      "text/plain": [
       "  0%|          | 0/28881 [00:00<?, ?it/s]"
      ]
     },
     "metadata": {},
     "output_type": "display_data"
    },
    {
     "name": "stdout",
     "output_type": "stream",
     "text": [
      "Extracting data/MNIST/raw/train-labels-idx1-ubyte.gz to data/MNIST/raw\n",
      "\n",
      "Downloading http://yann.lecun.com/exdb/mnist/t10k-images-idx3-ubyte.gz\n",
      "Downloading http://yann.lecun.com/exdb/mnist/t10k-images-idx3-ubyte.gz to data/MNIST/raw/t10k-images-idx3-ubyte.gz\n"
     ]
    },
    {
     "data": {
      "application/vnd.jupyter.widget-view+json": {
       "model_id": "9682d85006e042119d5bfc89d875b93b",
       "version_major": 2,
       "version_minor": 0
      },
      "text/plain": [
       "  0%|          | 0/1648877 [00:00<?, ?it/s]"
      ]
     },
     "metadata": {},
     "output_type": "display_data"
    },
    {
     "name": "stdout",
     "output_type": "stream",
     "text": [
      "Extracting data/MNIST/raw/t10k-images-idx3-ubyte.gz to data/MNIST/raw\n",
      "\n",
      "Downloading http://yann.lecun.com/exdb/mnist/t10k-labels-idx1-ubyte.gz\n",
      "Downloading http://yann.lecun.com/exdb/mnist/t10k-labels-idx1-ubyte.gz to data/MNIST/raw/t10k-labels-idx1-ubyte.gz\n"
     ]
    },
    {
     "data": {
      "application/vnd.jupyter.widget-view+json": {
       "model_id": "5c42b88eee9c4bc4b41a0b756716f5fa",
       "version_major": 2,
       "version_minor": 0
      },
      "text/plain": [
       "  0%|          | 0/4542 [00:00<?, ?it/s]"
      ]
     },
     "metadata": {},
     "output_type": "display_data"
    },
    {
     "name": "stdout",
     "output_type": "stream",
     "text": [
      "Extracting data/MNIST/raw/t10k-labels-idx1-ubyte.gz to data/MNIST/raw\n",
      "\n"
     ]
    }
   ],
   "source": [
    "mnist_train = torchvision.datasets.MNIST(root=DATASETS_PATH, train=True, download=True, transform=transform)\n",
    "mnist_test = torchvision.datasets.MNIST(root=DATASETS_PATH, train=False, download=True, transform=transform);"
   ]
  },
  {
   "cell_type": "code",
   "execution_count": null,
   "id": "supposed-watershed",
   "metadata": {
    "colab": {
     "base_uri": "https://localhost:8080/",
     "height": 298
    },
    "id": "0KmxNNd_GtgJ",
    "outputId": "5da55391-43fb-4c62-e683-7350d4ecfa2a"
   },
   "outputs": [
    {
     "name": "stdout",
     "output_type": "stream",
     "text": [
      "<class 'torch.Tensor'> torch.Size([1, 28, 28])\n"
     ]
    },
    {
     "data": {
      "image/png": "[encoded data removed]",
      "text/plain": [
       "<Figure size 432x288 with 1 Axes>"
      ]
     },
     "metadata": {
      "needs_background": "light"
     },
     "output_type": "display_data"
    }
   ],
   "source": [
    "train_image, train_target = mnist_train[0]    #let us examine the 0-th sample\n",
    "print(type(train_image), train_image.shape)\n",
    "plt.imshow(train_image[0])\n",
    "plt.title(f'target {train_target}');"
   ]
  },
  {
   "cell_type": "code",
   "execution_count": null,
   "id": "mineral-chaos",
   "metadata": {
    "id": "dOHr88bvGJuH"
   },
   "outputs": [],
   "source": [
    "class MLP(torch.nn.Module):\n",
    "    def __init__(self): # initialize model, called at model = MLP(). In genereal you can pass arguments to initializer, e.g. number or size of hidden layers (not in this example)\n",
    "        super().__init__()\n",
    "        self.mlp = torch.nn.Sequential(   #Sequential is a structure which allows stacking layers one on another in such a way, \n",
    "                                          #that output from a preceding layer serves as input to the next layer \n",
    "            torch.nn.Flatten(),   #change the last three orders in data (with dimensions 1, 28 and 28 respectively) into one order of dimensions (1*28*28)\n",
    "            torch.nn.Linear(1*28*28, 1024),  #which is used as INPUT to the first Linear layer\n",
    "            torch.nn.Sigmoid(),\n",
    "            # torch.nn.Linear(1024, 2048),   #IMPORTANT! Please observe, that the OUTPUT dimension of a preceding layer is always equal to the INPUT dimension of the next layer.\n",
    "            # torch.nn.Sigmoid(),\n",
    "            torch.nn.Linear(1024, 256),\n",
    "            torch.nn.Sigmoid(),            #Sigmoid is a nonlinear function which is used in-between layers\n",
    "            torch.nn.Linear(256, 10),\n",
    "        )\n",
    "    def forward(self, x): # run model, called at out = model(x)\n",
    "        out = self.mlp(x)\n",
    "        return out"
   ]
  },
  {
   "cell_type": "code",
   "execution_count": null,
   "id": "sharing-pipeline",
   "metadata": {
    "id": "KSeSPSuZIds1"
   },
   "outputs": [],
   "source": [
    "batch_size = 256\n",
    "mnist_train_dataloader = torch.utils.data.DataLoader(mnist_train, batch_size=batch_size, shuffle=True)\n",
    "mnist_test_dataloader = torch.utils.data.DataLoader(mnist_test, batch_size=batch_size, shuffle=False)"
   ]
  },
  {
   "cell_type": "code",
   "execution_count": null,
   "id": "pregnant-gentleman",
   "metadata": {
    "colab": {
     "base_uri": "https://localhost:8080/"
    },
    "id": "xQvXpi4wIbVV",
    "outputId": "5e147b13-5d18-4d44-ba96-fbf10181f028"
   },
   "outputs": [
    {
     "name": "stdout",
     "output_type": "stream",
     "text": [
      "epoch: 0 batch: 50 current batch loss: 0.6016948819160461\n",
      "epoch: 0 batch: 100 current batch loss: 0.36270615458488464\n",
      "epoch: 0 batch: 150 current batch loss: 0.2717244327068329\n",
      "epoch: 0 batch: 200 current batch loss: 0.2700650691986084\n",
      "epoch: 1 batch: 50 current batch loss: 0.15360262989997864\n",
      "epoch: 1 batch: 100 current batch loss: 0.20428894460201263\n",
      "epoch: 1 batch: 150 current batch loss: 0.16427300870418549\n",
      "epoch: 1 batch: 200 current batch loss: 0.19704179465770721\n",
      "epoch: 2 batch: 50 current batch loss: 0.08872393518686295\n",
      "epoch: 2 batch: 100 current batch loss: 0.09538301080465317\n",
      "epoch: 2 batch: 150 current batch loss: 0.08378850668668747\n",
      "epoch: 2 batch: 200 current batch loss: 0.08615177869796753\n",
      "epoch: 3 batch: 50 current batch loss: 0.03856669366359711\n",
      "epoch: 3 batch: 100 current batch loss: 0.0643191784620285\n",
      "epoch: 3 batch: 150 current batch loss: 0.07246796041727066\n",
      "epoch: 3 batch: 200 current batch loss: 0.0435541532933712\n",
      "epoch: 4 batch: 50 current batch loss: 0.044258709996938705\n",
      "epoch: 4 batch: 100 current batch loss: 0.06910887360572815\n",
      "epoch: 4 batch: 150 current batch loss: 0.01667451485991478\n",
      "epoch: 4 batch: 200 current batch loss: 0.044956449419260025\n",
      "epoch: 5 batch: 50 current batch loss: 0.10006546974182129\n",
      "epoch: 5 batch: 100 current batch loss: 0.0544147789478302\n",
      "epoch: 5 batch: 150 current batch loss: 0.040790826082229614\n",
      "epoch: 5 batch: 200 current batch loss: 0.019011668860912323\n",
      "epoch: 6 batch: 50 current batch loss: 0.024030856788158417\n",
      "epoch: 6 batch: 100 current batch loss: 0.031143398955464363\n",
      "epoch: 6 batch: 150 current batch loss: 0.01517403032630682\n",
      "epoch: 6 batch: 200 current batch loss: 0.03147906810045242\n",
      "epoch: 7 batch: 50 current batch loss: 0.00847967341542244\n",
      "epoch: 7 batch: 100 current batch loss: 0.014770115725696087\n",
      "epoch: 7 batch: 150 current batch loss: 0.03560512512922287\n",
      "epoch: 7 batch: 200 current batch loss: 0.005929799750447273\n"
     ]
    }
   ],
   "source": [
    "net = MLP()\n",
    "optimizer = torch.optim.Adam(net.parameters(), 0.001)   #initial and fixed learning rate of 0.001. We will be using ADAM optimizer throughout the workshop\n",
    "                                                        #different choices are possible, but this is outside the scope of this workshop\n",
    "\n",
    "net.train()    #it notifies the network layers (especially batchnorm or dropout layers, which we don't use in this example) that we are doing traning\n",
    "for epoch in range(5):  #  an epoch is a training run through the whole data set\n",
    "\n",
    "    loss = 0.0\n",
    "    for batch, data in enumerate(mnist_train_dataloader):\n",
    "        batch_inputs, batch_labels = data\n",
    "        #batch_inputs.squeeze(1)     #alternatively if not for a Flatten layer, squeeze() could be used to remove the second order of the tensor, the Channel, which is one-dimensional (this index can be equal to 0 only)\n",
    "        \n",
    "        optimizer.zero_grad()\n",
    "\n",
    "        batch_outputs = net(batch_inputs)   #this line calls the forward(self, x) method of the MLP object. Please note, that the last layer of the MLP is linear \n",
    "                                            #and MLP doesn't apply \n",
    "                                            #the nonlinear activation after the last layer\n",
    "        loss = torch.nn.functional.cross_entropy(batch_outputs, batch_labels, reduction = \"mean\") #instead, nonlinear softmax is applied internally in THIS loss function\n",
    "        if (batch+1) % 50 == 0:\n",
    "          print(\"epoch:\", epoch, \"batch:\", batch+1, \"current batch loss:\", loss.item()) \n",
    "        loss.backward()       #this computes gradients as we have seen in previous workshops\n",
    "        optimizer.step()     #but this line in fact updates our neural network. \n",
    "                                ####You can experiment - comment this line and check, that the loss DOES NOT improve, meaning that the network doesn't update"
   ]
  },
  {
   "cell_type": "markdown",
   "id": "egyptian-investing",
   "metadata": {
    "id": "V2ko36fuKTa9"
   },
   "source": [
    "# GPU computing"
   ]
  },
  {
   "cell_type": "code",
   "execution_count": null,
   "id": "ordered-david",
   "metadata": {
    "colab": {
     "base_uri": "https://localhost:8080/"
    },
    "id": "TtYCxWpfKWbE",
    "outputId": "e0aa41ed-9c9c-4c09-84b8-86a4d46e4c51"
   },
   "outputs": [
    {
     "name": "stdout",
     "output_type": "stream",
     "text": [
      "tensor([1.3000, 4.5000])\n",
      "cpu\n"
     ]
    }
   ],
   "source": [
    "t =torch.tensor([1.3, 4.5])\n",
    "print(t)\n",
    "print(t.device)"
   ]
  },
  {
   "cell_type": "markdown",
   "id": "absolute-ready",
   "metadata": {
    "id": "PGF88joXLTkL"
   },
   "source": [
    "check if CUDA (GPU) is available"
   ]
  },
  {
   "cell_type": "code",
   "execution_count": null,
   "id": "sorted-desert",
   "metadata": {
    "colab": {
     "base_uri": "https://localhost:8080/"
    },
    "id": "6FPUUTtKLGHy",
    "outputId": "59785344-fbfe-472c-ec09-c989b9507053"
   },
   "outputs": [
    {
     "data": {
      "text/plain": [
       "False"
      ]
     },
     "execution_count": 20,
     "metadata": {},
     "output_type": "execute_result"
    }
   ],
   "source": [
    "torch.cuda.is_available()"
   ]
  },
  {
   "cell_type": "markdown",
   "id": "missing-suspect",
   "metadata": {
    "id": "CWIh4zLCLass"
   },
   "source": [
    "In Colab panel: Runtime -> Change runtime type\n",
    "Set \"Hardware accelerator\" to \"GPU\", click \"Save\"\n",
    "\n",
    "You get new runtime, all variables and imports are cleared - please run cells above (without training)\n"
   ]
  },
  {
   "cell_type": "code",
   "execution_count": null,
   "id": "dense-drive",
   "metadata": {
    "id": "yVS-pw3VL-ec"
   },
   "outputs": [],
   "source": [
    "import torch"
   ]
  },
  {
   "cell_type": "markdown",
   "id": "gentle-robinson",
   "metadata": {
    "id": "IEiIAguIMDcc"
   },
   "source": [
    "Check CUDA"
   ]
  },
  {
   "cell_type": "code",
   "execution_count": null,
   "id": "searching-breakdown",
   "metadata": {
    "colab": {
     "base_uri": "https://localhost:8080/"
    },
    "id": "369-uxaXMBNS",
    "outputId": "5d7f8363-cbc5-4a3f-d269-efd4621e9665"
   },
   "outputs": [
    {
     "data": {
      "text/plain": [
       "True"
      ]
     },
     "execution_count": 2,
     "metadata": {},
     "output_type": "execute_result"
    }
   ],
   "source": [
    "torch.cuda.is_available()"
   ]
  },
  {
   "cell_type": "markdown",
   "id": "stretch-veteran",
   "metadata": {
    "id": "iMP4h2l0MGih"
   },
   "source": [
    "You can set device for computation for tensors and torch modules (e.g. models)"
   ]
  },
  {
   "cell_type": "code",
   "execution_count": null,
   "id": "fancy-intake",
   "metadata": {
    "colab": {
     "base_uri": "https://localhost:8080/"
    },
    "id": "K4zAXs8mMUwG",
    "outputId": "38d14cd8-af9d-4037-bc40-ca207d81c592"
   },
   "outputs": [
    {
     "name": "stdout",
     "output_type": "stream",
     "text": [
      "torch.float32 cpu\n",
      "torch.float32 cpu Tensor still on cpu\n",
      "torch.float32 cuda:0 Tensor on gpu\n"
     ]
    }
   ],
   "source": [
    "t =torch.tensor([1.3, 4.5])\n",
    "print(t.dtype, t.device)\n",
    "t_cuda = t.to('cuda'); #equivalent to t.cuda()\n",
    "print(t.dtype, t.device, 'Tensor still on cpu')\n",
    "print(t_cuda.dtype, t_cuda.device, 'Tensor on gpu')"
   ]
  },
  {
   "cell_type": "markdown",
   "id": "subtle-desert",
   "metadata": {
    "id": "8gr3XJU4Qa9U"
   },
   "source": [
    "Let's create sample model and input for the model"
   ]
  },
  {
   "cell_type": "code",
   "execution_count": null,
   "id": "matched-zoning",
   "metadata": {
    "id": "th_kTQDJNDdX"
   },
   "outputs": [],
   "source": [
    "model = MLP()\n",
    "model_input = torch.rand(1,1,28,28)"
   ]
  },
  {
   "cell_type": "markdown",
   "id": "invalid-strand",
   "metadata": {
    "id": "CDESBRH5Qhnh"
   },
   "source": [
    "By dafault, all instances are created for cpu calculations"
   ]
  },
  {
   "cell_type": "code",
   "execution_count": null,
   "id": "surprising-factor",
   "metadata": {
    "id": "sUdV9zoBNa9A"
   },
   "outputs": [],
   "source": [
    "out = model(model_input)"
   ]
  },
  {
   "cell_type": "markdown",
   "id": "regular-trial",
   "metadata": {
    "id": "hT4uaehYQWM7"
   },
   "source": [
    "Model can be transferred to gpu in this way:"
   ]
  },
  {
   "cell_type": "code",
   "execution_count": null,
   "id": "personalized-kennedy",
   "metadata": {
    "colab": {
     "base_uri": "https://localhost:8080/"
    },
    "id": "k0FWjWD3QM7d",
    "outputId": "e095d94b-1512-43bb-c424-8a8a615f872c"
   },
   "outputs": [
    {
     "data": {
      "text/plain": [
       "MLP(\n",
       "  (mlp): Sequential(\n",
       "    (0): Flatten(start_dim=1, end_dim=-1)\n",
       "    (1): Linear(in_features=784, out_features=1024, bias=True)\n",
       "    (2): Sigmoid()\n",
       "    (3): Linear(in_features=1024, out_features=256, bias=True)\n",
       "    (4): Sigmoid()\n",
       "    (5): Linear(in_features=256, out_features=10, bias=True)\n",
       "  )\n",
       ")"
      ]
     },
     "execution_count": 29,
     "metadata": {},
     "output_type": "execute_result"
    }
   ],
   "source": [
    "model.to('cuda')"
   ]
  },
  {
   "cell_type": "markdown",
   "id": "economic-importance",
   "metadata": {
    "id": "O7EH0XWwQxEd"
   },
   "source": [
    "Now it will work with 'gpu' input, but fail for 'cpu'"
   ]
  },
  {
   "cell_type": "code",
   "execution_count": null,
   "id": "subjective-helicopter",
   "metadata": {
    "colab": {
     "base_uri": "https://localhost:8080/",
     "height": 314
    },
    "id": "JR5TVGNIQQCH",
    "outputId": "6c3ec99d-db2e-4fc2-d078-0135c4d636bd"
   },
   "outputs": [
    {
     "ename": "RuntimeError",
     "evalue": "ignored",
     "output_type": "error",
     "traceback": [
      "\u001b[0;31m---------------------------------------------------------------------------\u001b[0m",
      "\u001b[0;31mRuntimeError\u001b[0m                              Traceback (most recent call last)",
      "\u001b[0;32m<ipython-input-31-368070024feb>\u001b[0m in \u001b[0;36m<module>\u001b[0;34m()\u001b[0m\n\u001b[0;32m----> 1\u001b[0;31m \u001b[0mout\u001b[0m \u001b[0;34m=\u001b[0m \u001b[0mmodel\u001b[0m\u001b[0;34m(\u001b[0m\u001b[0mmodel_input\u001b[0m\u001b[0;34m)\u001b[0m\u001b[0;34m\u001b[0m\u001b[0;34m\u001b[0m\u001b[0m\n\u001b[0m",
      "\u001b[0;32m/usr/local/lib/python3.7/dist-packages/torch/nn/modules/module.py\u001b[0m in \u001b[0;36m_call_impl\u001b[0;34m(self, *input, **kwargs)\u001b[0m\n\u001b[1;32m   1100\u001b[0m         if not (self._backward_hooks or self._forward_hooks or self._forward_pre_hooks or _global_backward_hooks\n\u001b[1;32m   1101\u001b[0m                 or _global_forward_hooks or _global_forward_pre_hooks):\n\u001b[0;32m-> 1102\u001b[0;31m             \u001b[0;32mreturn\u001b[0m \u001b[0mforward_call\u001b[0m\u001b[0;34m(\u001b[0m\u001b[0;34m*\u001b[0m\u001b[0minput\u001b[0m\u001b[0;34m,\u001b[0m \u001b[0;34m**\u001b[0m\u001b[0mkwargs\u001b[0m\u001b[0;34m)\u001b[0m\u001b[0;34m\u001b[0m\u001b[0;34m\u001b[0m\u001b[0m\n\u001b[0m\u001b[1;32m   1103\u001b[0m         \u001b[0;31m# Do not call functions when jit is used\u001b[0m\u001b[0;34m\u001b[0m\u001b[0;34m\u001b[0m\u001b[0;34m\u001b[0m\u001b[0m\n\u001b[1;32m   1104\u001b[0m         \u001b[0mfull_backward_hooks\u001b[0m\u001b[0;34m,\u001b[0m \u001b[0mnon_full_backward_hooks\u001b[0m \u001b[0;34m=\u001b[0m \u001b[0;34m[\u001b[0m\u001b[0;34m]\u001b[0m\u001b[0;34m,\u001b[0m \u001b[0;34m[\u001b[0m\u001b[0;34m]\u001b[0m\u001b[0;34m\u001b[0m\u001b[0;34m\u001b[0m\u001b[0m\n",
      "\u001b[0;32m<ipython-input-21-3190f9cfd312>\u001b[0m in \u001b[0;36mforward\u001b[0;34m(self, x)\u001b[0m\n\u001b[1;32m     14\u001b[0m         )\n\u001b[1;32m     15\u001b[0m     \u001b[0;32mdef\u001b[0m \u001b[0mforward\u001b[0m\u001b[0;34m(\u001b[0m\u001b[0mself\u001b[0m\u001b[0;34m,\u001b[0m \u001b[0mx\u001b[0m\u001b[0;34m)\u001b[0m\u001b[0;34m:\u001b[0m \u001b[0;31m# run model, called at out = model(x)\u001b[0m\u001b[0;34m\u001b[0m\u001b[0;34m\u001b[0m\u001b[0m\n\u001b[0;32m---> 16\u001b[0;31m         \u001b[0mout\u001b[0m \u001b[0;34m=\u001b[0m \u001b[0mself\u001b[0m\u001b[0;34m.\u001b[0m\u001b[0mmlp\u001b[0m\u001b[0;34m(\u001b[0m\u001b[0mx\u001b[0m\u001b[0;34m)\u001b[0m\u001b[0;34m\u001b[0m\u001b[0;34m\u001b[0m\u001b[0m\n\u001b[0m\u001b[1;32m     17\u001b[0m         \u001b[0;32mreturn\u001b[0m \u001b[0mout\u001b[0m\u001b[0;34m\u001b[0m\u001b[0;34m\u001b[0m\u001b[0m\n",
      "\u001b[0;32m/usr/local/lib/python3.7/dist-packages/torch/nn/modules/module.py\u001b[0m in \u001b[0;36m_call_impl\u001b[0;34m(self, *input, **kwargs)\u001b[0m\n\u001b[1;32m   1100\u001b[0m         if not (self._backward_hooks or self._forward_hooks or self._forward_pre_hooks or _global_backward_hooks\n\u001b[1;32m   1101\u001b[0m                 or _global_forward_hooks or _global_forward_pre_hooks):\n\u001b[0;32m-> 1102\u001b[0;31m             \u001b[0;32mreturn\u001b[0m \u001b[0mforward_call\u001b[0m\u001b[0;34m(\u001b[0m\u001b[0;34m*\u001b[0m\u001b[0minput\u001b[0m\u001b[0;34m,\u001b[0m \u001b[0;34m**\u001b[0m\u001b[0mkwargs\u001b[0m\u001b[0;34m)\u001b[0m\u001b[0;34m\u001b[0m\u001b[0;34m\u001b[0m\u001b[0m\n\u001b[0m\u001b[1;32m   1103\u001b[0m         \u001b[0;31m# Do not call functions when jit is used\u001b[0m\u001b[0;34m\u001b[0m\u001b[0;34m\u001b[0m\u001b[0;34m\u001b[0m\u001b[0m\n\u001b[1;32m   1104\u001b[0m         \u001b[0mfull_backward_hooks\u001b[0m\u001b[0;34m,\u001b[0m \u001b[0mnon_full_backward_hooks\u001b[0m \u001b[0;34m=\u001b[0m \u001b[0;34m[\u001b[0m\u001b[0;34m]\u001b[0m\u001b[0;34m,\u001b[0m \u001b[0;34m[\u001b[0m\u001b[0;34m]\u001b[0m\u001b[0;34m\u001b[0m\u001b[0;34m\u001b[0m\u001b[0m\n",
      "\u001b[0;32m/usr/local/lib/python3.7/dist-packages/torch/nn/modules/container.py\u001b[0m in \u001b[0;36mforward\u001b[0;34m(self, input)\u001b[0m\n\u001b[1;32m    139\u001b[0m     \u001b[0;32mdef\u001b[0m \u001b[0mforward\u001b[0m\u001b[0;34m(\u001b[0m\u001b[0mself\u001b[0m\u001b[0;34m,\u001b[0m \u001b[0minput\u001b[0m\u001b[0;34m)\u001b[0m\u001b[0;34m:\u001b[0m\u001b[0;34m\u001b[0m\u001b[0;34m\u001b[0m\u001b[0m\n\u001b[1;32m    140\u001b[0m         \u001b[0;32mfor\u001b[0m \u001b[0mmodule\u001b[0m \u001b[0;32min\u001b[0m \u001b[0mself\u001b[0m\u001b[0;34m:\u001b[0m\u001b[0;34m\u001b[0m\u001b[0;34m\u001b[0m\u001b[0m\n\u001b[0;32m--> 141\u001b[0;31m             \u001b[0minput\u001b[0m \u001b[0;34m=\u001b[0m \u001b[0mmodule\u001b[0m\u001b[0;34m(\u001b[0m\u001b[0minput\u001b[0m\u001b[0;34m)\u001b[0m\u001b[0;34m\u001b[0m\u001b[0;34m\u001b[0m\u001b[0m\n\u001b[0m\u001b[1;32m    142\u001b[0m         \u001b[0;32mreturn\u001b[0m \u001b[0minput\u001b[0m\u001b[0;34m\u001b[0m\u001b[0;34m\u001b[0m\u001b[0m\n\u001b[1;32m    143\u001b[0m \u001b[0;34m\u001b[0m\u001b[0m\n",
      "\u001b[0;32m/usr/local/lib/python3.7/dist-packages/torch/nn/modules/module.py\u001b[0m in \u001b[0;36m_call_impl\u001b[0;34m(self, *input, **kwargs)\u001b[0m\n\u001b[1;32m   1100\u001b[0m         if not (self._backward_hooks or self._forward_hooks or self._forward_pre_hooks or _global_backward_hooks\n\u001b[1;32m   1101\u001b[0m                 or _global_forward_hooks or _global_forward_pre_hooks):\n\u001b[0;32m-> 1102\u001b[0;31m             \u001b[0;32mreturn\u001b[0m \u001b[0mforward_call\u001b[0m\u001b[0;34m(\u001b[0m\u001b[0;34m*\u001b[0m\u001b[0minput\u001b[0m\u001b[0;34m,\u001b[0m \u001b[0;34m**\u001b[0m\u001b[0mkwargs\u001b[0m\u001b[0;34m)\u001b[0m\u001b[0;34m\u001b[0m\u001b[0;34m\u001b[0m\u001b[0m\n\u001b[0m\u001b[1;32m   1103\u001b[0m         \u001b[0;31m# Do not call functions when jit is used\u001b[0m\u001b[0;34m\u001b[0m\u001b[0;34m\u001b[0m\u001b[0;34m\u001b[0m\u001b[0m\n\u001b[1;32m   1104\u001b[0m         \u001b[0mfull_backward_hooks\u001b[0m\u001b[0;34m,\u001b[0m \u001b[0mnon_full_backward_hooks\u001b[0m \u001b[0;34m=\u001b[0m \u001b[0;34m[\u001b[0m\u001b[0;34m]\u001b[0m\u001b[0;34m,\u001b[0m \u001b[0;34m[\u001b[0m\u001b[0;34m]\u001b[0m\u001b[0;34m\u001b[0m\u001b[0;34m\u001b[0m\u001b[0m\n",
      "\u001b[0;32m/usr/local/lib/python3.7/dist-packages/torch/nn/modules/linear.py\u001b[0m in \u001b[0;36mforward\u001b[0;34m(self, input)\u001b[0m\n\u001b[1;32m    101\u001b[0m \u001b[0;34m\u001b[0m\u001b[0m\n\u001b[1;32m    102\u001b[0m     \u001b[0;32mdef\u001b[0m \u001b[0mforward\u001b[0m\u001b[0;34m(\u001b[0m\u001b[0mself\u001b[0m\u001b[0;34m,\u001b[0m \u001b[0minput\u001b[0m\u001b[0;34m:\u001b[0m \u001b[0mTensor\u001b[0m\u001b[0;34m)\u001b[0m \u001b[0;34m->\u001b[0m \u001b[0mTensor\u001b[0m\u001b[0;34m:\u001b[0m\u001b[0;34m\u001b[0m\u001b[0;34m\u001b[0m\u001b[0m\n\u001b[0;32m--> 103\u001b[0;31m         \u001b[0;32mreturn\u001b[0m \u001b[0mF\u001b[0m\u001b[0;34m.\u001b[0m\u001b[0mlinear\u001b[0m\u001b[0;34m(\u001b[0m\u001b[0minput\u001b[0m\u001b[0;34m,\u001b[0m \u001b[0mself\u001b[0m\u001b[0;34m.\u001b[0m\u001b[0mweight\u001b[0m\u001b[0;34m,\u001b[0m \u001b[0mself\u001b[0m\u001b[0;34m.\u001b[0m\u001b[0mbias\u001b[0m\u001b[0;34m)\u001b[0m\u001b[0;34m\u001b[0m\u001b[0;34m\u001b[0m\u001b[0m\n\u001b[0m\u001b[1;32m    104\u001b[0m \u001b[0;34m\u001b[0m\u001b[0m\n\u001b[1;32m    105\u001b[0m     \u001b[0;32mdef\u001b[0m \u001b[0mextra_repr\u001b[0m\u001b[0;34m(\u001b[0m\u001b[0mself\u001b[0m\u001b[0;34m)\u001b[0m \u001b[0;34m->\u001b[0m \u001b[0mstr\u001b[0m\u001b[0;34m:\u001b[0m\u001b[0;34m\u001b[0m\u001b[0;34m\u001b[0m\u001b[0m\n",
      "\u001b[0;32m/usr/local/lib/python3.7/dist-packages/torch/nn/functional.py\u001b[0m in \u001b[0;36mlinear\u001b[0;34m(input, weight, bias)\u001b[0m\n\u001b[1;32m   1846\u001b[0m     \u001b[0;32mif\u001b[0m \u001b[0mhas_torch_function_variadic\u001b[0m\u001b[0;34m(\u001b[0m\u001b[0minput\u001b[0m\u001b[0;34m,\u001b[0m \u001b[0mweight\u001b[0m\u001b[0;34m,\u001b[0m \u001b[0mbias\u001b[0m\u001b[0;34m)\u001b[0m\u001b[0;34m:\u001b[0m\u001b[0;34m\u001b[0m\u001b[0;34m\u001b[0m\u001b[0m\n\u001b[1;32m   1847\u001b[0m         \u001b[0;32mreturn\u001b[0m \u001b[0mhandle_torch_function\u001b[0m\u001b[0;34m(\u001b[0m\u001b[0mlinear\u001b[0m\u001b[0;34m,\u001b[0m \u001b[0;34m(\u001b[0m\u001b[0minput\u001b[0m\u001b[0;34m,\u001b[0m \u001b[0mweight\u001b[0m\u001b[0;34m,\u001b[0m \u001b[0mbias\u001b[0m\u001b[0;34m)\u001b[0m\u001b[0;34m,\u001b[0m \u001b[0minput\u001b[0m\u001b[0;34m,\u001b[0m \u001b[0mweight\u001b[0m\u001b[0;34m,\u001b[0m \u001b[0mbias\u001b[0m\u001b[0;34m=\u001b[0m\u001b[0mbias\u001b[0m\u001b[0;34m)\u001b[0m\u001b[0;34m\u001b[0m\u001b[0;34m\u001b[0m\u001b[0m\n\u001b[0;32m-> 1848\u001b[0;31m     \u001b[0;32mreturn\u001b[0m \u001b[0mtorch\u001b[0m\u001b[0;34m.\u001b[0m\u001b[0m_C\u001b[0m\u001b[0;34m.\u001b[0m\u001b[0m_nn\u001b[0m\u001b[0;34m.\u001b[0m\u001b[0mlinear\u001b[0m\u001b[0;34m(\u001b[0m\u001b[0minput\u001b[0m\u001b[0;34m,\u001b[0m \u001b[0mweight\u001b[0m\u001b[0;34m,\u001b[0m \u001b[0mbias\u001b[0m\u001b[0;34m)\u001b[0m\u001b[0;34m\u001b[0m\u001b[0;34m\u001b[0m\u001b[0m\n\u001b[0m\u001b[1;32m   1849\u001b[0m \u001b[0;34m\u001b[0m\u001b[0m\n\u001b[1;32m   1850\u001b[0m \u001b[0;34m\u001b[0m\u001b[0m\n",
      "\u001b[0;31mRuntimeError\u001b[0m: Expected all tensors to be on the same device, but found at least two devices, cuda:0 and cpu! (when checking argument for argument mat1 in method wrapper_addmm)"
     ]
    }
   ],
   "source": [
    "out = model(model_input)"
   ]
  },
  {
   "cell_type": "code",
   "execution_count": null,
   "id": "consecutive-hybrid",
   "metadata": {
    "id": "doRK9-ipRCGV"
   },
   "outputs": [],
   "source": [
    "out = model(model_input.to('cuda'))"
   ]
  },
  {
   "cell_type": "markdown",
   "id": "solid-jerusalem",
   "metadata": {
    "id": "9Xrd-BhsRFqU"
   },
   "source": [
    "The output is also located on gpu"
   ]
  },
  {
   "cell_type": "code",
   "execution_count": null,
   "id": "naked-evidence",
   "metadata": {
    "colab": {
     "base_uri": "https://localhost:8080/"
    },
    "id": "PsTP9oxxRKCm",
    "outputId": "3cff0855-b10b-4196-d9f3-8f43432c68a9"
   },
   "outputs": [
    {
     "name": "stdout",
     "output_type": "stream",
     "text": [
      "cuda:0\n"
     ]
    }
   ],
   "source": [
    "print(out.device)"
   ]
  },
  {
   "cell_type": "markdown",
   "id": "invalid-neighborhood",
   "metadata": {
    "id": "2UoCqIRMROWe"
   },
   "source": [
    "Caution! PyTorch modules (e.g. models) do not have 'device' attribute"
   ]
  },
  {
   "cell_type": "code",
   "execution_count": null,
   "id": "closed-morocco",
   "metadata": {
    "colab": {
     "base_uri": "https://localhost:8080/",
     "height": 290
    },
    "id": "F1Jnwi3ARM01",
    "outputId": "cb72935b-34a6-4378-f21d-7cd764e08876"
   },
   "outputs": [
    {
     "ename": "AttributeError",
     "evalue": "ignored",
     "output_type": "error",
     "traceback": [
      "\u001b[0;31m---------------------------------------------------------------------------\u001b[0m",
      "\u001b[0;31mAttributeError\u001b[0m                            Traceback (most recent call last)",
      "\u001b[0;32m<ipython-input-34-12a22a2b52d7>\u001b[0m in \u001b[0;36m<module>\u001b[0;34m()\u001b[0m\n\u001b[0;32m----> 1\u001b[0;31m \u001b[0mmodel\u001b[0m\u001b[0;34m.\u001b[0m\u001b[0mdevice\u001b[0m\u001b[0;34m\u001b[0m\u001b[0;34m\u001b[0m\u001b[0m\n\u001b[0m",
      "\u001b[0;32m/usr/local/lib/python3.7/dist-packages/torch/nn/modules/module.py\u001b[0m in \u001b[0;36m__getattr__\u001b[0;34m(self, name)\u001b[0m\n\u001b[1;32m   1176\u001b[0m                 \u001b[0;32mreturn\u001b[0m \u001b[0mmodules\u001b[0m\u001b[0;34m[\u001b[0m\u001b[0mname\u001b[0m\u001b[0;34m]\u001b[0m\u001b[0;34m\u001b[0m\u001b[0;34m\u001b[0m\u001b[0m\n\u001b[1;32m   1177\u001b[0m         raise AttributeError(\"'{}' object has no attribute '{}'\".format(\n\u001b[0;32m-> 1178\u001b[0;31m             type(self).__name__, name))\n\u001b[0m\u001b[1;32m   1179\u001b[0m \u001b[0;34m\u001b[0m\u001b[0m\n\u001b[1;32m   1180\u001b[0m     \u001b[0;32mdef\u001b[0m \u001b[0m__setattr__\u001b[0m\u001b[0;34m(\u001b[0m\u001b[0mself\u001b[0m\u001b[0;34m,\u001b[0m \u001b[0mname\u001b[0m\u001b[0;34m:\u001b[0m \u001b[0mstr\u001b[0m\u001b[0;34m,\u001b[0m \u001b[0mvalue\u001b[0m\u001b[0;34m:\u001b[0m \u001b[0mUnion\u001b[0m\u001b[0;34m[\u001b[0m\u001b[0mTensor\u001b[0m\u001b[0;34m,\u001b[0m \u001b[0;34m'Module'\u001b[0m\u001b[0;34m]\u001b[0m\u001b[0;34m)\u001b[0m \u001b[0;34m->\u001b[0m \u001b[0;32mNone\u001b[0m\u001b[0;34m:\u001b[0m\u001b[0;34m\u001b[0m\u001b[0;34m\u001b[0m\u001b[0m\n",
      "\u001b[0;31mAttributeError\u001b[0m: 'MLP' object has no attribute 'device'"
     ]
    }
   ],
   "source": [
    "model.device"
   ]
  },
  {
   "cell_type": "markdown",
   "id": "intensive-benefit",
   "metadata": {
    "id": "pIXB2n9RnW1h"
   },
   "source": [
    "# Autoencoders"
   ]
  },
  {
   "cell_type": "markdown",
   "id": "entertaining-claim",
   "metadata": {
    "id": "dominant-newsletter"
   },
   "source": [
    "## Data"
   ]
  },
  {
   "cell_type": "markdown",
   "id": "expressed-german",
   "metadata": {
    "id": "blocked-treat"
   },
   "source": [
    "First, let's have a look on the data. They are MNIST dataset - the same as last week."
   ]
  },
  {
   "cell_type": "markdown",
   "id": "brave-percentage",
   "metadata": {
    "id": "NBLkAK6pRiSb"
   },
   "source": [
    "This time images are not normalized"
   ]
  },
  {
   "cell_type": "code",
   "execution_count": null,
   "id": "charged-boundary",
   "metadata": {
    "id": "f_sRt74USELv"
   },
   "outputs": [],
   "source": [
    "from torchvision.datasets import MNIST\n",
    "from torchvision import  transforms"
   ]
  },
  {
   "cell_type": "code",
   "execution_count": null,
   "id": "linear-skill",
   "metadata": {
    "id": "expected-coast"
   },
   "outputs": [],
   "source": [
    "transform = transforms.ToTensor()"
   ]
  },
  {
   "cell_type": "code",
   "execution_count": null,
   "id": "fifty-tower",
   "metadata": {
    "id": "regulation-constitution"
   },
   "outputs": [],
   "source": [
    "mnist_train = MNIST(DATASETS_PATH, train=True, download=True, transform=transform);\n",
    "mnist_test = MNIST(DATASETS_PATH, train=False, download=True, transform=transform);"
   ]
  },
  {
   "cell_type": "markdown",
   "id": "sunrise-champion",
   "metadata": {
    "id": "taken-messenger"
   },
   "source": [
    "Let's see what the data look like"
   ]
  },
  {
   "cell_type": "code",
   "execution_count": null,
   "id": "previous-situation",
   "metadata": {
    "colab": {
     "base_uri": "https://localhost:8080/"
    },
    "id": "spanish-conclusion",
    "outputId": "a69e6678-5c79-4d4d-bbe2-d765010602de"
   },
   "outputs": [
    {
     "name": "stdout",
     "output_type": "stream",
     "text": [
      "image type: <class 'torch.Tensor'>, image shape: torch.Size([1, 28, 28]), target: 5, target class name: 5 - five\n"
     ]
    }
   ],
   "source": [
    "img, target = mnist_train[0]\n",
    "print(f'image type: {type(img)}, image shape: {img.shape}, target: {target}, target class name: {mnist_train.classes[target]}')"
   ]
  },
  {
   "cell_type": "markdown",
   "id": "joint-testing",
   "metadata": {
    "id": "committed-welsh"
   },
   "source": [
    "The image is a torch.Tensor object, and the target an integer. Notice that the image has 3 dimensions: single channel and 28 height x 28 width \\\n",
    "In order to visualize it correctly, we need to reduce it to 2 dimensional  height x width tensor"
   ]
  },
  {
   "cell_type": "code",
   "execution_count": null,
   "id": "posted-printing",
   "metadata": {
    "colab": {
     "base_uri": "https://localhost:8080/",
     "height": 282
    },
    "id": "indoor-washer",
    "outputId": "383d8fb9-cb61-4cdc-945b-bcd726d8b60c"
   },
   "outputs": [
    {
     "data": {
      "text/plain": [
       "<matplotlib.image.AxesImage at 0x7fbd4a6b6290>"
      ]
     },
     "execution_count": 44,
     "metadata": {},
     "output_type": "execute_result"
    },
    {
     "data": {
      "image/png": "[encoded data removed]",
      "text/plain": [
       "<Figure size 432x288 with 1 Axes>"
      ]
     },
     "metadata": {
      "needs_background": "light"
     },
     "output_type": "display_data"
    }
   ],
   "source": [
    "plt.imshow(img[0])"
   ]
  },
  {
   "cell_type": "code",
   "execution_count": null,
   "id": "double-lewis",
   "metadata": {
    "colab": {
     "base_uri": "https://localhost:8080/",
     "height": 199
    },
    "id": "southwest-working",
    "outputId": "9a3441c9-3b58-42e5-e2e3-55a4d61393c4"
   },
   "outputs": [
    {
     "data": {
      "image/png": "[encoded data removed]",
      "text/plain": [
       "<Figure size 1224x360 with 6 Axes>"
      ]
     },
     "metadata": {
      "needs_background": "light"
     },
     "output_type": "display_data"
    }
   ],
   "source": [
    "num_images = 6\n",
    "fig, axs = plt.subplots(ncols=num_images, figsize=(17,5))\n",
    "for i in range(num_images):\n",
    "    img, target = mnist_train[i]\n",
    "    axs[i].imshow(img[0])\n",
    "    axs[i].set_title(f'{mnist_train.classes[target]}')\n",
    "    \n",
    "    "
   ]
  },
  {
   "cell_type": "markdown",
   "id": "affecting-vector",
   "metadata": {
    "id": "damaged-fifty"
   },
   "source": [
    "## Model"
   ]
  },
  {
   "cell_type": "code",
   "execution_count": null,
   "id": "forbidden-mandate",
   "metadata": {
    "id": "marked-wrestling"
   },
   "outputs": [],
   "source": [
    "import torch\n",
    "from torch import nn"
   ]
  },
  {
   "cell_type": "markdown",
   "id": "atomic-inspection",
   "metadata": {
    "id": "radical-publicity"
   },
   "source": [
    "### Encoder"
   ]
  },
  {
   "cell_type": "markdown",
   "id": "rocky-wheel",
   "metadata": {
    "id": "falling-entrance"
   },
   "source": [
    "#### Your task: write encoder class with single hidden layer"
   ]
  },
  {
   "cell_type": "markdown",
   "id": "serial-syndrome",
   "metadata": {
    "id": "numerous-telephone"
   },
   "source": [
    "Let's start with fully-connected model, i. e. perceptron.\n",
    "1. As the input, model should take batch of 1d vectors with of 28x28 length (number of pixels)\n",
    "2. Number of neurons in hidden layer should be an argument of constructor (`__init__` function)\n",
    "3. The same applies to the number of latent space dimesions "
   ]
  },
  {
   "cell_type": "code",
   "execution_count": null,
   "id": "surface-facility",
   "metadata": {
    "id": "racial-suggestion"
   },
   "outputs": [],
   "source": [
    "class Encoder_1hl(nn.Module):\n",
    "    def __init__(self, hidden_dim, latent_dim):\n",
    "        \"\"\"\n",
    "        hidden_dim: number of neurons in the hidden layer\n",
    "        latent_dim: number of latent space dimensions\n",
    "        \"\"\"\n",
    "        super().__init__()\n",
    "        #your code here\n",
    "        ...\n",
    "        \n",
    "\n",
    "    def forward(self, x):\n",
    "        #your code here\n",
    "        ...\n",
    "        return ..."
   ]
  },
  {
   "cell_type": "markdown",
   "id": "played-looking",
   "metadata": {
    "id": "adapted-manner"
   },
   "source": [
    "Try if it works:"
   ]
  },
  {
   "cell_type": "code",
   "execution_count": null,
   "id": "minimal-situation",
   "metadata": {
    "colab": {
     "base_uri": "https://localhost:8080/"
    },
    "id": "mature-honolulu",
    "outputId": "5d330a79-a958-4d81-beb7-be85f0a4ca61"
   },
   "outputs": [
    {
     "name": "stdout",
     "output_type": "stream",
     "text": [
      "image shape: torch.Size([784])\n"
     ]
    }
   ],
   "source": [
    "#prepare data\n",
    "img, target = mnist_train[0]\n",
    "img = img.view(-1)\n",
    "print('image shape:', img.shape)"
   ]
  },
  {
   "cell_type": "code",
   "execution_count": null,
   "id": "active-walter",
   "metadata": {
    "id": "previous-signal"
   },
   "outputs": [],
   "source": [
    "# prepare encoder\n",
    "hidden_dim = 64\n",
    "latent_dim = 12\n",
    "encoder = Encoder_1hl(hidden_dim, latent_dim)"
   ]
  },
  {
   "cell_type": "code",
   "execution_count": null,
   "id": "apart-chance",
   "metadata": {
    "colab": {
     "base_uri": "https://localhost:8080/"
    },
    "id": "working-selling",
    "outputId": "0cfa4da7-09cb-4414-a634-da7a5e7821f7"
   },
   "outputs": [
    {
     "name": "stdout",
     "output_type": "stream",
     "text": [
      "batch shape: torch.Size([1, 784])\n",
      "output shape: torch.Size([1, 12])\n"
     ]
    }
   ],
   "source": [
    "# compute representation in latent space\n",
    "batch = img.unsqueeze(0) #model operates on batched input. Let's create batch with one sample\n",
    "print('batch shape:', batch.shape)\n",
    "with torch.no_grad(): #turn off gradient\n",
    "    z = encoder(batch)\n",
    "print('output shape:', z.shape)"
   ]
  },
  {
   "cell_type": "markdown",
   "id": "legislative-sweden",
   "metadata": {
    "id": "continued-snake"
   },
   "source": [
    "### Decoder"
   ]
  },
  {
   "cell_type": "code",
   "execution_count": null,
   "id": "seventh-collaboration",
   "metadata": {
    "id": "parallel-command"
   },
   "outputs": [],
   "source": [
    "class Decoder_1hl(nn.Module):\n",
    "    def __init__(self, hidden_dim, latent_dim):\n",
    "        \"\"\"\n",
    "        hidden_dim: number of neurons in the hidden layer\n",
    "        latent_dim: number of latent space dimensions\n",
    "        \"\"\"\n",
    "        super().__init__()\n",
    "        self.net = nn.Sequential(\n",
    "            nn.Linear(latent_dim, hidden_dim),\n",
    "            nn.ReLU(),\n",
    "            nn.Linear(hidden_dim, 28*28),\n",
    "            nn.Sigmoid() # sigmoid function transforms input values (-inf, +inf) to output in range (0, 1)\n",
    "            )\n",
    "            \n",
    "\n",
    "    def forward(self, x):\n",
    "        x = self.net(x)\n",
    "        return x"
   ]
  },
  {
   "cell_type": "markdown",
   "id": "discrete-colorado",
   "metadata": {
    "id": "executed-shift"
   },
   "source": [
    "### Autoencoder = Encoder + Decoder"
   ]
  },
  {
   "cell_type": "markdown",
   "id": "embedded-alias",
   "metadata": {
    "id": "qualified-steel"
   },
   "source": [
    "Let's put it all together."
   ]
  },
  {
   "cell_type": "markdown",
   "id": "sitting-banana",
   "metadata": {
    "id": "rising-technician"
   },
   "source": [
    "#### Your task: write autoencoder class\n",
    "\n",
    "Encoder and decoder should have 1 hidden layer each"
   ]
  },
  {
   "cell_type": "code",
   "execution_count": null,
   "id": "hazardous-costume",
   "metadata": {
    "id": "sexual-incidence"
   },
   "outputs": [],
   "source": [
    "class Autoencoder_1hl(nn.Module):\n",
    "    def __init__(self, hidden_dim, latent_dim):\n",
    "        \"\"\"\n",
    "        hidden_dim: number of neurons in the hidden layer\n",
    "        latent_dim: number of latent space dimensions\n",
    "        \"\"\"\n",
    "        super().__init__()\n",
    "        # your code here\n",
    "        ...\n",
    "            \n",
    "    def forward(self, x):\n",
    "        # your code here\n",
    "        ...\n",
    "        return ..."
   ]
  },
  {
   "cell_type": "code",
   "execution_count": null,
   "id": "serious-terrorist",
   "metadata": {
    "id": "described-rapid"
   },
   "outputs": [],
   "source": [
    "autoencoder = Autoencoder_1hl(hidden_dim, latent_dim)"
   ]
  },
  {
   "cell_type": "code",
   "execution_count": null,
   "id": "paperback-canon",
   "metadata": {
    "colab": {
     "base_uri": "https://localhost:8080/"
    },
    "id": "thousand-henry",
    "outputId": "79842644-734c-4281-ee90-f3b45ce8ab66"
   },
   "outputs": [
    {
     "name": "stdout",
     "output_type": "stream",
     "text": [
      "batch shape: torch.Size([1, 784])\n",
      "output shape: torch.Size([1, 784])\n"
     ]
    }
   ],
   "source": [
    "batch = img.unsqueeze(0) #model operates on batched input. Let's create batch with one sample\n",
    "print('batch shape:', batch.shape)\n",
    "with torch.no_grad(): #turn off gradient\n",
    "    x_hat = autoencoder(batch)\n",
    "print('output shape:', x_hat.shape)"
   ]
  },
  {
   "cell_type": "markdown",
   "id": "angry-bailey",
   "metadata": {
    "id": "respective-armor"
   },
   "source": [
    "So far, the model operates on flatten images. Yet everywhere else we prefer to operate on 1x28x28 images. Let's modify the `forward` function to do the reshaping"
   ]
  },
  {
   "cell_type": "code",
   "execution_count": null,
   "id": "stunning-dairy",
   "metadata": {
    "id": "atomic-halloween"
   },
   "outputs": [],
   "source": [
    "class Autoencoder_1hl(nn.Module):\n",
    "    \n",
    "    # paste your __init__ function here\n",
    "\n",
    "    def forward(self, x):\n",
    "        input_shape = x.shape #batch_size, channels, height, width\n",
    "        x = x.view(input_shape[0], -1)\n",
    "        \n",
    "        # paste the rest of your forward function here\n",
    "        \n",
    "        return x.view(input_shape)\n"
   ]
  },
  {
   "cell_type": "markdown",
   "id": "comparative-washer",
   "metadata": {
    "id": "retired-leone"
   },
   "source": [
    "Solution:"
   ]
  },
  {
   "cell_type": "code",
   "execution_count": null,
   "id": "orange-glance",
   "metadata": {
    "id": "alternate-translator"
   },
   "outputs": [],
   "source": [
    "class Autoencoder_1hl(nn.Module):\n",
    "    def __init__(self, hidden_dim, latent_dim):\n",
    "        \"\"\"\n",
    "        hidden_dim: number of neurons in the hidden layer\n",
    "        latent_dim: number of latent space dimensions\n",
    "        \"\"\"\n",
    "        super().__init__()\n",
    "        # your code here\n",
    "        self.encoder = Encoder_1hl(hidden_dim, latent_dim)\n",
    "        self.decoder = Decoder_1hl(hidden_dim, latent_dim)\n",
    "            \n",
    "    def forward(self, x):\n",
    "        input_shape = x.shape #batch_size, channels, height, width\n",
    "        x = x.view(input_shape[0], -1)\n",
    "        x = self.encoder(x)\n",
    "        x = self.decoder(x) \n",
    "        return x.view(input_shape)"
   ]
  },
  {
   "cell_type": "markdown",
   "id": "frank-blast",
   "metadata": {
    "id": "featured-customs"
   },
   "source": [
    "Try the new model"
   ]
  },
  {
   "cell_type": "code",
   "execution_count": null,
   "id": "sticky-december",
   "metadata": {
    "colab": {
     "base_uri": "https://localhost:8080/"
    },
    "id": "demonstrated-belgium",
    "outputId": "b2544c91-177e-4358-d2f0-a2d4a9f00f45"
   },
   "outputs": [
    {
     "name": "stdout",
     "output_type": "stream",
     "text": [
      "batch shape: torch.Size([1, 1, 28, 28])\n",
      "output shape: torch.Size([1, 1, 28, 28])\n"
     ]
    }
   ],
   "source": [
    "img, target = mnist_train[0]\n",
    "batch = img.unsqueeze(0) #model operates on batched input. Let's create batch with one sample\n",
    "print('batch shape:', batch.shape)\n",
    "autoencoder = Autoencoder_1hl(hidden_dim, latent_dim)\n",
    "with torch.no_grad(): #turn off gradient\n",
    "    x_hat = autoencoder(batch)\n",
    "print('output shape:', x_hat.shape)"
   ]
  },
  {
   "cell_type": "markdown",
   "id": "happy-disclosure",
   "metadata": {
    "id": "buried-barrel"
   },
   "source": [
    "#### Visualize"
   ]
  },
  {
   "cell_type": "code",
   "execution_count": null,
   "id": "marine-eight",
   "metadata": {
    "colab": {
     "base_uri": "https://localhost:8080/",
     "height": 370
    },
    "id": "flush-checklist",
    "outputId": "52ef357b-904f-45c8-82d2-64ea7df125cc"
   },
   "outputs": [
    {
     "data": {
      "text/plain": [
       "<matplotlib.image.AxesImage at 0x7fbd4a55fb10>"
      ]
     },
     "execution_count": 56,
     "metadata": {},
     "output_type": "execute_result"
    },
    {
     "data": {
      "image/png": "[encoded data removed]",
      "text/plain": [
       "<Figure size 864x432 with 2 Axes>"
      ]
     },
     "metadata": {
      "needs_background": "light"
     },
     "output_type": "display_data"
    }
   ],
   "source": [
    "fig, (ax1, ax2) = plt.subplots(ncols=2, figsize=(12,6))\n",
    "ax1.imshow(batch[0,0], vmin=0, vmax=1)\n",
    "ax2.imshow(x_hat[0,0], vmin=0, vmax=1)"
   ]
  },
  {
   "cell_type": "markdown",
   "id": "banned-guidance",
   "metadata": {
    "id": "varied-therapist"
   },
   "source": [
    "## Training"
   ]
  },
  {
   "cell_type": "markdown",
   "id": "aquatic-letter",
   "metadata": {
    "id": "split-rings"
   },
   "source": [
    "Prepare dataloaders"
   ]
  },
  {
   "cell_type": "code",
   "execution_count": null,
   "id": "deadly-slide",
   "metadata": {
    "id": "protected-filling"
   },
   "outputs": [],
   "source": [
    "from torch.utils.data import DataLoader"
   ]
  },
  {
   "cell_type": "code",
   "execution_count": null,
   "id": "emerging-insured",
   "metadata": {
    "id": "flexible-replication"
   },
   "outputs": [],
   "source": [
    "batch_size = 128"
   ]
  },
  {
   "cell_type": "code",
   "execution_count": null,
   "id": "circular-republic",
   "metadata": {
    "id": "fallen-pulse"
   },
   "outputs": [],
   "source": [
    "mnist_train_dataloader = DataLoader(mnist_train, batch_size=batch_size, shuffle=True)\n",
    "mnist_test_dataloader = DataLoader(mnist_test, batch_size=batch_size, shuffle=False)"
   ]
  },
  {
   "cell_type": "markdown",
   "id": "revised-richardson",
   "metadata": {
    "id": "peripheral-compromise"
   },
   "source": [
    "Closer look on dataloaders"
   ]
  },
  {
   "cell_type": "code",
   "execution_count": null,
   "id": "portuguese-parameter",
   "metadata": {
    "colab": {
     "base_uri": "https://localhost:8080/"
    },
    "id": "massive-glass",
    "outputId": "20dbba8c-0063-478f-eec2-2bdff77badba"
   },
   "outputs": [
    {
     "name": "stdout",
     "output_type": "stream",
     "text": [
      "x shape: torch.Size([128, 1, 28, 28])\n",
      "target shape: torch.Size([128])\n",
      "target: tensor([0, 1, 5, 6, 1, 6, 6, 6, 2, 9, 5, 4, 9, 8, 3, 8, 6, 0, 3, 6, 6, 8, 2, 2,\n",
      "        8, 2, 3, 6, 1, 5, 6, 4, 9, 1, 7, 9, 7, 8, 5, 7, 4, 3, 2, 4, 8, 5, 3, 1,\n",
      "        9, 6, 6, 9, 4, 6, 9, 8, 5, 5, 0, 1, 9, 1, 9, 7, 8, 0, 4, 8, 1, 1, 1, 0,\n",
      "        1, 7, 1, 2, 4, 4, 0, 8, 9, 7, 4, 3, 1, 5, 8, 6, 9, 3, 5, 9, 3, 4, 0, 7,\n",
      "        0, 5, 9, 6, 5, 4, 6, 0, 8, 6, 2, 9, 5, 2, 2, 0, 5, 4, 7, 2, 3, 3, 2, 1,\n",
      "        3, 9, 3, 1, 2, 6, 1, 2])\n"
     ]
    }
   ],
   "source": [
    "x, y = next(iter(mnist_train_dataloader))\n",
    "print(f'x shape: {x.shape}')\n",
    "print(f'target shape: {y.shape}')\n",
    "print(f'target: {y}')"
   ]
  },
  {
   "cell_type": "markdown",
   "id": "imperial-tackle",
   "metadata": {
    "id": "plain-organization"
   },
   "source": [
    "### Schema of training in PyTorch"
   ]
  },
  {
   "cell_type": "markdown",
   "id": "armed-baptist",
   "metadata": {
    "id": "thousand-amplifier"
   },
   "source": [
    "Set model, optimizer (which performs optimizing steps) and criterion\n",
    "```\n",
    "model = ...\n",
    "optimizer =  torch.optim.AdamW(model.parameters(), lr=1e-3)\n",
    "criterion = ... #function which computes loss\n",
    "```"
   ]
  },
  {
   "cell_type": "markdown",
   "id": "heard-homework",
   "metadata": {
    "id": "analyzed-ground"
   },
   "source": [
    "Set device on which computations will be done: 'cpu' or 'cuda' (GPU)\n",
    "```\n",
    "device = 'cuda' if torch.cuda.is_available() else 'cpu' # if your machine supports cuda, it wil be used for computation\n",
    "```"
   ]
  },
  {
   "cell_type": "markdown",
   "id": "computational-tracker",
   "metadata": {
    "id": "legal-while"
   },
   "source": [
    "set model to 'train' mode and allocate it to the device\n",
    "```\n",
    "model.train().to(device);\n",
    "```"
   ]
  },
  {
   "cell_type": "markdown",
   "id": "desirable-advertising",
   "metadata": {
    "id": "central-inspector"
   },
   "source": [
    "Schema for single epoch training:\n",
    "```\n",
    "for x, y in mnist_train_dataloader:    \n",
    "    # clear gradient from previous step\n",
    "    optimizer.zero_grad()\n",
    "    \n",
    "    x = x.to(device)\n",
    "    x_hat = model(x)\n",
    "    loss = criterion(x, x_hat)\n",
    "\n",
    "    # compute accumulated gradients\n",
    "    loss.backward()\n",
    "\n",
    "    # perform parameter update based on current gradients\n",
    "    optimizer.step()\n",
    " ```"
   ]
  },
  {
   "cell_type": "markdown",
   "id": "occupational-bottle",
   "metadata": {
    "id": "alpha-bobby"
   },
   "source": [
    "#### Your task\n",
    "write training loop for 10 epochs for autoencoder. Set criterion to mean square root error `nn.MSELoss()`"
   ]
  },
  {
   "cell_type": "code",
   "execution_count": null,
   "id": "elementary-bermuda",
   "metadata": {
    "colab": {
     "base_uri": "https://localhost:8080/"
    },
    "id": "automated-nursing",
    "outputId": "57e11274-f45a-4e40-d948-bb5a5b4f852b"
   },
   "outputs": [
    {
     "name": "stdout",
     "output_type": "stream",
     "text": [
      "device: cuda\n"
     ]
    }
   ],
   "source": [
    "device = 'cuda' if torch.cuda.is_available() else 'cpu' # if your machine supports cuda, it wil be used for computation\n",
    "print(f'device: {device}')\n",
    "autoencoder.to(device).train();\n",
    "optimizer = torch.optim.AdamW(autoencoder.parameters(), lr=1e-3)\n",
    "criterion = nn.MSELoss() #the same as nn.functional.mse_loss"
   ]
  },
  {
   "cell_type": "markdown",
   "id": "assisted-pepper",
   "metadata": {
    "id": "parliamentary-links"
   },
   "source": [
    "Check batches from dataloader"
   ]
  },
  {
   "cell_type": "code",
   "execution_count": null,
   "id": "driving-north",
   "metadata": {
    "id": "sporting-george"
   },
   "outputs": [],
   "source": [
    "x, y = next(iter(mnist_train_dataloader))\n",
    "\n",
    "# # equivalent to\n",
    "# for x, y in mnist_train_dataloader:\n",
    "#   break"
   ]
  },
  {
   "cell_type": "markdown",
   "id": "nutritional-cleaner",
   "metadata": {
    "id": "tight-oxford"
   },
   "source": [
    "Check x_hat computation step"
   ]
  },
  {
   "cell_type": "code",
   "execution_count": null,
   "id": "pleased-softball",
   "metadata": {
    "id": "numerical-match"
   },
   "outputs": [],
   "source": [
    "x_hat = autoencoder(x.to(device))"
   ]
  },
  {
   "cell_type": "markdown",
   "id": "relevant-romania",
   "metadata": {
    "id": "engaging-mineral"
   },
   "source": [
    "Check loss computation"
   ]
  },
  {
   "cell_type": "code",
   "execution_count": null,
   "id": "approved-stanford",
   "metadata": {
    "id": "bottom-perception"
   },
   "outputs": [],
   "source": [
    "loss = criterion(x.to(device), x_hat) # note, that x_hat is already at `device`"
   ]
  },
  {
   "cell_type": "markdown",
   "id": "imposed-official",
   "metadata": {
    "id": "advised-experience"
   },
   "source": [
    "Now, write the training loop:"
   ]
  },
  {
   "cell_type": "code",
   "execution_count": null,
   "id": "ethical-fifty",
   "metadata": {
    "id": "interesting-conservation"
   },
   "outputs": [],
   "source": [
    "num_epochs = 2 #first let's do a short training, to see if the loss go down\n",
    "\n",
    "history = [] #save losses from each epoch\n",
    "for i_epoch in range(num_epochs):\n",
    "    epoch_losses = []\n",
    "    \n",
    "    # your code here\n",
    "    # ...\n",
    "    # epoch_loss = ...\n",
    "    \n",
    "    print(f'epoch {i_epoch}, loss: {epoch_loss:0.4f}')\n",
    "    history.append({'loss': epoch_loss})"
   ]
  },
  {
   "cell_type": "markdown",
   "id": "loaded-aurora",
   "metadata": {
    "id": "cathedral-moment"
   },
   "source": [
    "Solution:"
   ]
  },
  {
   "cell_type": "code",
   "execution_count": null,
   "id": "antique-zimbabwe",
   "metadata": {
    "colab": {
     "base_uri": "https://localhost:8080/"
    },
    "id": "caroline-archives",
    "outputId": "cd64d6a2-3bdd-4ff1-861a-615426814114"
   },
   "outputs": [
    {
     "name": "stdout",
     "output_type": "stream",
     "text": [
      "epoch 0, loss: 0.0582\n",
      "epoch 1, loss: 0.0306\n"
     ]
    }
   ],
   "source": [
    "num_epochs = 2\n",
    "\n",
    "history = [] #save losses from each epoch\n",
    "for i_epoch in range(num_epochs):\n",
    "    epoch_losses = []\n",
    "    for batch in mnist_train_dataloader:\n",
    "         # clear gradient from previous step\n",
    "        optimizer.zero_grad()\n",
    "        \n",
    "        x, y = batch\n",
    "        x = x.to(device)\n",
    "        x_hat = autoencoder(x)\n",
    "        loss = criterion(x, x_hat)\n",
    "        \n",
    "        # compute accumulated gradients\n",
    "        loss.backward()\n",
    "        \n",
    "        # perform parameter update based on current gradients\n",
    "        optimizer.step()\n",
    "        \n",
    "        # save loss\n",
    "        epoch_losses.append(loss.item()) #'item()' gets number from tensor. Similarly 'numpy()' returns numpy array copy of the tensor\n",
    "        \n",
    "        \n",
    "    epoch_loss = np.mean(epoch_losses)\n",
    "    print(f'epoch {i_epoch}, loss: {epoch_loss:0.4f}')\n",
    "    history.append({'loss': epoch_loss})\n",
    "        "
   ]
  },
  {
   "cell_type": "markdown",
   "id": "hybrid-ownership",
   "metadata": {
    "id": "synthetic-vampire"
   },
   "source": [
    "Having small loss on training is good, but we really want the model to generalize for unseen samples. Let's calculate loss on test dataset after each epoch"
   ]
  },
  {
   "cell_type": "markdown",
   "id": "opened-measure",
   "metadata": {
    "id": "binary-school"
   },
   "source": [
    "#### Your task\n",
    "Write function which calculates loss of the model on test dataset"
   ]
  },
  {
   "cell_type": "code",
   "execution_count": null,
   "id": "center-ribbon",
   "metadata": {
    "id": "compliant-candle"
   },
   "outputs": [],
   "source": [
    "@torch.no_grad() #this decorator disable gradient computation in function. Equivalent to `with torch.no_grad():` inside function. Makes code clearer\n",
    "def evaluate_model(model, dataloader, criterion):\n",
    "    # your code here\n",
    "    # ...\n",
    "    # final_loss = ...\n",
    "    return final_loss"
   ]
  },
  {
   "cell_type": "markdown",
   "id": "conceptual-blank",
   "metadata": {
    "id": "robust-transport"
   },
   "source": [
    "Test if your function works"
   ]
  },
  {
   "cell_type": "code",
   "execution_count": null,
   "id": "beautiful-gravity",
   "metadata": {
    "colab": {
     "base_uri": "https://localhost:8080/"
    },
    "id": "private-symphony",
    "outputId": "dd538b15-6cbf-4992-9db6-7317205bc2ac"
   },
   "outputs": [
    {
     "name": "stdout",
     "output_type": "stream",
     "text": [
      "test loss: 0.0271\n"
     ]
    }
   ],
   "source": [
    "test_loss = evaluate_model(autoencoder, mnist_test_dataloader, criterion)\n",
    "print(f'test loss: {test_loss:0.4f}')"
   ]
  },
  {
   "cell_type": "markdown",
   "id": "invisible-third",
   "metadata": {
    "id": "political-marathon"
   },
   "source": [
    "Now we are ready to implement testset evaluation and do the proper traing of the model. For clarity, let's create a fresh autoencoder"
   ]
  },
  {
   "cell_type": "code",
   "execution_count": null,
   "id": "academic-cliff",
   "metadata": {
    "id": "electronic-block"
   },
   "outputs": [],
   "source": [
    "hidden_dim = 64\n",
    "latent_dim = 12\n",
    "autoencoder = Autoencoder_1hl(hidden_dim, latent_dim)\n",
    "autoencoder.to(device).train();\n",
    "\n",
    "optimizer = torch.optim.AdamW(autoencoder.parameters(), lr=1e-3)"
   ]
  },
  {
   "cell_type": "code",
   "execution_count": null,
   "id": "dated-religion",
   "metadata": {
    "colab": {
     "base_uri": "https://localhost:8080/"
    },
    "id": "defined-standing",
    "outputId": "f7561daa-9c5c-4c7d-8ff8-0271d2cfd1a7"
   },
   "outputs": [
    {
     "name": "stdout",
     "output_type": "stream",
     "text": [
      "epoch 1/10, train loss: 0.0582, test loss 0.0356\n",
      "epoch 2/10, train loss: 0.0309, test loss 0.0267\n",
      "epoch 3/10, train loss: 0.0256, test loss 0.0239\n",
      "epoch 4/10, train loss: 0.0237, test loss 0.0225\n",
      "epoch 5/10, train loss: 0.0226, test loss 0.0216\n",
      "epoch 6/10, train loss: 0.0218, test loss 0.0210\n",
      "epoch 7/10, train loss: 0.0213, test loss 0.0205\n",
      "epoch 8/10, train loss: 0.0208, test loss 0.0201\n",
      "epoch 9/10, train loss: 0.0204, test loss 0.0198\n",
      "epoch 10/10, train loss: 0.0201, test loss 0.0195\n"
     ]
    }
   ],
   "source": [
    "num_epochs = 10\n",
    "\n",
    "history = [] #save losses from each epoch\n",
    "for i_epoch in range(num_epochs):\n",
    "    epoch_losses = []\n",
    "    for batch in mnist_train_dataloader:\n",
    "         # clear gradient from previous step\n",
    "        optimizer.zero_grad()\n",
    "        \n",
    "        x, y = batch\n",
    "        x = x.to(device)\n",
    "        x_hat = autoencoder(x)\n",
    "        loss = criterion(x, x_hat)\n",
    "        \n",
    "        # compute accumulated gradients\n",
    "        loss.backward()\n",
    "        \n",
    "        # perform parameter update based on current gradients\n",
    "        optimizer.step()\n",
    "        \n",
    "        # save loss\n",
    "        epoch_losses.append(loss.item()) #'item()' gets number from tensor. Similarly 'numpy()' returns numpy array copy of the tensor\n",
    "        \n",
    "        \n",
    "    epoch_loss = np.mean(epoch_losses)\n",
    "    test_loss = evaluate_model(autoencoder, mnist_test_dataloader, criterion)\n",
    "    autoencoder.train() # if \"evaluate_model\" switches the model to 'eval' mode, switch it back 'train'\n",
    "    print(f'epoch {i_epoch+1}/{num_epochs}, train loss: {epoch_loss:0.4f}, test loss {test_loss:0.4f}')\n",
    "    history.append({'train loss': epoch_loss, 'test loss': test_loss})\n",
    "        "
   ]
  },
  {
   "cell_type": "code",
   "execution_count": null,
   "id": "continental-prisoner",
   "metadata": {
    "colab": {
     "base_uri": "https://localhost:8080/",
     "height": 313
    },
    "id": "mineral-worry",
    "outputId": "adfd343e-5f3d-4826-a9a3-8bbf6d1fa4ca"
   },
   "outputs": [
    {
     "data": {
      "text/plain": [
       "<matplotlib.legend.Legend at 0x7fbd4a2ffb90>"
      ]
     },
     "execution_count": 73,
     "metadata": {},
     "output_type": "execute_result"
    },
    {
     "data": {
      "image/png": "[encoded data removed]",
      "text/plain": [
       "<Figure size 432x288 with 1 Axes>"
      ]
     },
     "metadata": {
      "needs_background": "light"
     },
     "output_type": "display_data"
    }
   ],
   "source": [
    "plt.plot([entry['train loss'] for entry in history], label='train loss')\n",
    "plt.plot([entry['test loss'] for entry in history], label='test loss')\n",
    "plt.title('losses');\n",
    "plt.xlabel('epoch')\n",
    "plt.ylabel('loss')\n",
    "plt.legend()"
   ]
  },
  {
   "cell_type": "markdown",
   "id": "geological-denial",
   "metadata": {
    "id": "v3dqE3LAnw7R"
   },
   "source": [
    "## Results visualization"
   ]
  },
  {
   "cell_type": "markdown",
   "id": "labeled-virginia",
   "metadata": {
    "id": "vertical-riverside"
   },
   "source": [
    "For inference on small samples, we can use CPU - it allows to not care about 'cuda' stuff. If the models or images are large, better stay with GPU."
   ]
  },
  {
   "cell_type": "code",
   "execution_count": null,
   "id": "robust-realtor",
   "metadata": {
    "id": "alike-segment"
   },
   "outputs": [],
   "source": [
    "autoencoder.to('cpu').eval();"
   ]
  },
  {
   "cell_type": "code",
   "execution_count": null,
   "id": "psychological-insider",
   "metadata": {
    "id": "liquid-documentary"
   },
   "outputs": [],
   "source": [
    "def reconstruct_image(img, model):\n",
    "    with torch.no_grad():\n",
    "        return model(img.unsqueeze(0))[0]"
   ]
  },
  {
   "cell_type": "code",
   "execution_count": null,
   "id": "reasonable-national",
   "metadata": {
    "id": "front-cathedral"
   },
   "outputs": [],
   "source": [
    "img, target = mnist_test[0]\n",
    "reconstruction = reconstruct_image(img, autoencoder)"
   ]
  },
  {
   "cell_type": "code",
   "execution_count": null,
   "id": "close-satisfaction",
   "metadata": {
    "id": "parliamentary-flooring"
   },
   "outputs": [],
   "source": [
    "autoencoder.cpu();"
   ]
  },
  {
   "cell_type": "code",
   "execution_count": null,
   "id": "large-season",
   "metadata": {
    "colab": {
     "base_uri": "https://localhost:8080/",
     "height": 1000
    },
    "id": "western-lunch",
    "outputId": "96a12462-b6cd-47dc-caf5-cc0e8dad06ae"
   },
   "outputs": [
    {
     "data": {
      "image/png": "[encoded data removed]",
      "text/plain": [
       "<Figure size 432x288 with 2 Axes>"
      ]
     },
     "metadata": {
      "needs_background": "light"
     },
     "output_type": "display_data"
    },
    {
     "data": {
      "image/png": "[encoded data removed]",
      "text/plain": [
       "<Figure size 432x288 with 2 Axes>"
      ]
     },
     "metadata": {
      "needs_background": "light"
     },
     "output_type": "display_data"
    },
    {
     "data": {
      "image/png": "[encoded data removed]",
      "text/plain": [
       "<Figure size 432x288 with 2 Axes>"
      ]
     },
     "metadata": {
      "needs_background": "light"
     },
     "output_type": "display_data"
    },
    {
     "data": {
      "image/png": "[encoded data removed]",
      "text/plain": [
       "<Figure size 432x288 with 2 Axes>"
      ]
     },
     "metadata": {
      "needs_background": "light"
     },
     "output_type": "display_data"
    },
    {
     "data": {
      "image/png": "[encoded data removed]",
      "text/plain": [
       "<Figure size 432x288 with 2 Axes>"
      ]
     },
     "metadata": {
      "needs_background": "light"
     },
     "output_type": "display_data"
    },
    {
     "data": {
      "image/png": "[encoded data removed]",
      "text/plain": [
       "<Figure size 432x288 with 2 Axes>"
      ]
     },
     "metadata": {
      "needs_background": "light"
     },
     "output_type": "display_data"
    },
    {
     "data": {
      "image/png": "[encoded data removed]",
      "text/plain": [
       "<Figure size 432x288 with 2 Axes>"
      ]
     },
     "metadata": {
      "needs_background": "light"
     },
     "output_type": "display_data"
    },
    {
     "data": {
      "image/png": "[encoded data removed]",
      "text/plain": [
       "<Figure size 432x288 with 2 Axes>"
      ]
     },
     "metadata": {
      "needs_background": "light"
     },
     "output_type": "display_data"
    },
    {
     "data": {
      "image/png": "[encoded data removed]",
      "text/plain": [
       "<Figure size 432x288 with 2 Axes>"
      ]
     },
     "metadata": {
      "needs_background": "light"
     },
     "output_type": "display_data"
    },
    {
     "data": {
      "image/png": "[encoded data removed]",
      "text/plain": [
       "<Figure size 432x288 with 2 Axes>"
      ]
     },
     "metadata": {
      "needs_background": "light"
     },
     "output_type": "display_data"
    }
   ],
   "source": [
    "for i in range(10):\n",
    "    img, target = mnist_test[i]\n",
    "    reconstruction = reconstruct_image(img, autoencoder)\n",
    "    fig, axs = plt.subplots(ncols=2)\n",
    "    axs[0].imshow(img[0], vmin=0, vmax=1)\n",
    "    axs[0].set_title('original')\n",
    "    axs[1].imshow(reconstruction[0], vmin=0, vmax=1)\n",
    "    axs[1].set_title('reconstruction')"
   ]
  },
  {
   "cell_type": "markdown",
   "id": "meaningful-colorado",
   "metadata": {
    "id": "smaller-constitutional"
   },
   "source": [
    "## Reconstruction errors and outliers\n",
    "Autoencores may be used to detect outliers. Rare events tend to be poorly reconstructed by the model"
   ]
  },
  {
   "cell_type": "code",
   "execution_count": null,
   "id": "valuable-border",
   "metadata": {
    "id": "informative-deviation"
   },
   "outputs": [],
   "source": [
    "reconstruction_errors= []\n",
    "\n",
    "# criterion gives us single loss for batch. Here the result is a vector of distances, one for each image\n",
    "# equivalent to nn.functional.mse_loss(x, x_hat, reduction='none').sum(dim=(1,2,3))\n",
    "def distance_function(x, x_hat):\n",
    "    return torch.mean((x-x_hat)**2, dim=(1, 2, 3))\n",
    "\n",
    "autoencoder.to(device);\n",
    "for x, y in mnist_test_dataloader:\n",
    "    x = x.to(device)\n",
    "    x_hat = autoencoder(x.to(device))\n",
    "    errors = distance_function(x, x_hat)\n",
    "    reconstruction_errors.extend([el.item() for el in errors])"
   ]
  },
  {
   "cell_type": "code",
   "execution_count": null,
   "id": "intense-switzerland",
   "metadata": {
    "colab": {
     "base_uri": "https://localhost:8080/",
     "height": 266
    },
    "id": "widespread-andorra",
    "outputId": "a22a6de7-3368-4c34-b81c-7f2447eaed3b"
   },
   "outputs": [
    {
     "data": {
      "image/png": "[encoded data removed]",
      "text/plain": [
       "<Figure size 432x288 with 1 Axes>"
      ]
     },
     "metadata": {
      "needs_background": "light"
     },
     "output_type": "display_data"
    }
   ],
   "source": [
    "plt.hist(reconstruction_errors);"
   ]
  },
  {
   "cell_type": "code",
   "execution_count": null,
   "id": "atmospheric-liver",
   "metadata": {
    "id": "acute-accommodation"
   },
   "outputs": [],
   "source": [
    "autoencoder.to('cpu');"
   ]
  },
  {
   "cell_type": "markdown",
   "id": "dated-driving",
   "metadata": {
    "id": "literary-whole"
   },
   "source": [
    "Some of the worst cases.."
   ]
  },
  {
   "cell_type": "code",
   "execution_count": null,
   "id": "blond-photographer",
   "metadata": {
    "colab": {
     "base_uri": "https://localhost:8080/",
     "height": 1000
    },
    "id": "disciplinary-crest",
    "outputId": "88a77814-f33b-410c-b2e5-3c339df587d3"
   },
   "outputs": [
    {
     "data": {
      "image/png": "[encoded data removed]",
      "text/plain": [
       "<Figure size 432x288 with 2 Axes>"
      ]
     },
     "metadata": {
      "needs_background": "light"
     },
     "output_type": "display_data"
    },
    {
     "data": {
      "image/png": "[encoded data removed]",
      "text/plain": [
       "<Figure size 432x288 with 2 Axes>"
      ]
     },
     "metadata": {
      "needs_background": "light"
     },
     "output_type": "display_data"
    },
    {
     "data": {
      "image/png": "[encoded data removed]",
      "text/plain": [
       "<Figure size 432x288 with 2 Axes>"
      ]
     },
     "metadata": {
      "needs_background": "light"
     },
     "output_type": "display_data"
    },
    {
     "data": {
      "image/png": "[encoded data removed]",
      "text/plain": [
       "<Figure size 432x288 with 2 Axes>"
      ]
     },
     "metadata": {
      "needs_background": "light"
     },
     "output_type": "display_data"
    },
    {
     "data": {
      "image/png": "[encoded data removed]",
      "text/plain": [
       "<Figure size 432x288 with 2 Axes>"
      ]
     },
     "metadata": {
      "needs_background": "light"
     },
     "output_type": "display_data"
    },
    {
     "data": {
      "image/png": "[encoded data removed]",
      "text/plain": [
       "<Figure size 432x288 with 2 Axes>"
      ]
     },
     "metadata": {
      "needs_background": "light"
     },
     "output_type": "display_data"
    },
    {
     "data": {
      "image/png": "[encoded data removed]",
      "text/plain": [
       "<Figure size 432x288 with 2 Axes>"
      ]
     },
     "metadata": {
      "needs_background": "light"
     },
     "output_type": "display_data"
    },
    {
     "data": {
      "image/png": "[encoded data removed]",
      "text/plain": [
       "<Figure size 432x288 with 2 Axes>"
      ]
     },
     "metadata": {
      "needs_background": "light"
     },
     "output_type": "display_data"
    },
    {
     "data": {
      "image/png": "[encoded data removed]",
      "text/plain": [
       "<Figure size 432x288 with 2 Axes>"
      ]
     },
     "metadata": {
      "needs_background": "light"
     },
     "output_type": "display_data"
    },
    {
     "data": {
      "image/png": "[encoded data removed]",
      "text/plain": [
       "<Figure size 432x288 with 2 Axes>"
      ]
     },
     "metadata": {
      "needs_background": "light"
     },
     "output_type": "display_data"
    }
   ],
   "source": [
    "for idx in np.argsort(reconstruction_errors)[-10:]:\n",
    "    img, target = mnist_test[idx]\n",
    "    reconstruction = reconstruct_image(img, autoencoder)\n",
    "    fig, axs = plt.subplots(ncols=2)\n",
    "    axs[0].imshow(img[0], vmin=0, vmax=1)\n",
    "    axs[0].set_title(f'original {mnist_test.classes[target]}')\n",
    "    axs[1].imshow(reconstruction[0], vmin=0, vmax=1)\n",
    "    axs[1].set_title('reconstruction')"
   ]
  },
  {
   "cell_type": "code",
   "execution_count": null,
   "id": "biblical-homeless",
   "metadata": {
    "id": "narrow-montgomery"
   },
   "outputs": [],
   "source": [
    "labels = np.array([x[1] for x in mnist_test])"
   ]
  },
  {
   "cell_type": "code",
   "execution_count": null,
   "id": "exterior-owner",
   "metadata": {
    "colab": {
     "base_uri": "https://localhost:8080/",
     "height": 1000
    },
    "id": "proprietary-beads",
    "outputId": "c43a5311-b7dc-457e-c62f-b1792a90fceb"
   },
   "outputs": [
    {
     "data": {
      "image/png": "[encoded data removed]",
      "text/plain": [
       "<Figure size 1080x432 with 4 Axes>"
      ]
     },
     "metadata": {
      "needs_background": "light"
     },
     "output_type": "display_data"
    },
    {
     "data": {
      "image/png": "[encoded data removed]",
      "text/plain": [
       "<Figure size 1080x432 with 4 Axes>"
      ]
     },
     "metadata": {
      "needs_background": "light"
     },
     "output_type": "display_data"
    },
    {
     "data": {
      "image/png": "[encoded data removed]",
      "text/plain": [
       "<Figure size 1080x432 with 4 Axes>"
      ]
     },
     "metadata": {
      "needs_background": "light"
     },
     "output_type": "display_data"
    },
    {
     "data": {
      "image/png": "[encoded data removed]",
      "text/plain": [
       "<Figure size 1080x432 with 4 Axes>"
      ]
     },
     "metadata": {
      "needs_background": "light"
     },
     "output_type": "display_data"
    },
    {
     "data": {
      "image/png": "[encoded data removed]",
      "text/plain": [
       "<Figure size 1080x432 with 4 Axes>"
      ]
     },
     "metadata": {
      "needs_background": "light"
     },
     "output_type": "display_data"
    },
    {
     "data": {
      "image/png": "[encoded data removed]",
      "text/plain": [
       "<Figure size 1080x432 with 4 Axes>"
      ]
     },
     "metadata": {
      "needs_background": "light"
     },
     "output_type": "display_data"
    },
    {
     "data": {
      "image/png": "[encoded data removed]",
      "text/plain": [
       "<Figure size 1080x432 with 4 Axes>"
      ]
     },
     "metadata": {
      "needs_background": "light"
     },
     "output_type": "display_data"
    },
    {
     "data": {
      "image/png": "[encoded data removed]",
      "text/plain": [
       "<Figure size 1080x432 with 4 Axes>"
      ]
     },
     "metadata": {
      "needs_background": "light"
     },
     "output_type": "display_data"
    },
    {
     "data": {
      "image/png": "[encoded data removed]",
      "text/plain": [
       "<Figure size 1080x432 with 4 Axes>"
      ]
     },
     "metadata": {
      "needs_background": "light"
     },
     "output_type": "display_data"
    },
    {
     "data": {
      "image/png": "[encoded data removed]",
      "text/plain": [
       "<Figure size 1080x432 with 4 Axes>"
      ]
     },
     "metadata": {
      "needs_background": "light"
     },
     "output_type": "display_data"
    }
   ],
   "source": [
    "reconstruction_errors = np.array(reconstruction_errors)\n",
    "for digit in range(10):\n",
    "    digit_indices = np.where(labels==digit)[0]\n",
    "    idx_best = digit_indices[np.argmin(reconstruction_errors[digit_indices])]\n",
    "    idx_worst = digit_indices[np.argmax(reconstruction_errors[digit_indices])]\n",
    "    fig, axs = plt.subplots(ncols=4, figsize=(15, 6))\n",
    "    \n",
    "    img, target = mnist_test[idx_best]\n",
    "    reconstruction = reconstruct_image(img, autoencoder)\n",
    "    axs[0].imshow(img[0], vmin=0, vmax=1)\n",
    "    axs[0].set_title(f'original {mnist_test.classes[target]}')\n",
    "    axs[1].imshow(reconstruction[0], vmin=0, vmax=1)\n",
    "    axs[1].set_title('best reconstruction')\n",
    "    \n",
    "    img, target = mnist_test[idx_worst]\n",
    "    reconstruction = reconstruct_image(img, autoencoder)\n",
    "    axs[2].imshow(img[0], vmin=0, vmax=1)\n",
    "    axs[2].set_title(f'original {mnist_test.classes[target]}')\n",
    "    axs[3].imshow(reconstruction[0], vmin=0, vmax=1)\n",
    "    axs[3].set_title('worst reconstruction')"
   ]
  },
  {
   "cell_type": "markdown",
   "id": "needed-martial",
   "metadata": {
    "id": "steady-punishment"
   },
   "source": [
    "## Task: Anomaly detection"
   ]
  },
  {
   "cell_type": "markdown",
   "id": "classified-chassis",
   "metadata": {
    "id": "english-daniel"
   },
   "source": [
    "Autoencoders are often used in anomaly detection. In such application, the model is train on 'normal' dataset, learning to  compressed representations typical objects. When feeding with untypical sample, the autoencoder is expected to reconstruct object much worse, therefore the reconstrution error should be much larger. "
   ]
  },
  {
   "cell_type": "markdown",
   "id": "negative-reference",
   "metadata": {
    "id": "talented-forestry"
   },
   "source": [
    "Now we will try to distinguish letters from digits. For the letters sample we will use EMNIST is dataset (similar to MNIST, but apart from digits it contains letters). We intend to compare reconstruction errors on digits and letters."
   ]
  },
  {
   "cell_type": "code",
   "execution_count": null,
   "id": "labeled-thread",
   "metadata": {
    "id": "qualified-ecology"
   },
   "outputs": [],
   "source": [
    "from torchvision.datasets import EMNIST"
   ]
  },
  {
   "cell_type": "code",
   "execution_count": null,
   "id": "composed-focus",
   "metadata": {
    "colab": {
     "base_uri": "https://localhost:8080/",
     "height": 102,
     "referenced_widgets": [
      "b6b63d9aa1d04134977007c61482a248",
      "98de3ae275124f48a2cb883b8100731e",
      "0d4d70d99e8749a1bbdfd6c52195d7f6",
      "a5794478e85d404d8d200dd4b8c8fd62",
      "4d4c029e14204f529f1974a58031261f",
      "d56d791bf4b74b7a90ccb49063c9ee39",
      "b1ade4ca23934bb2813e5080f7899c83",
      "a80d21dd47b243f89a7c0bfbd0e76789",
      "370622023d764455a3c4bbc11e42e6ab",
      "901a6aab8cf6435380922443dbe01052",
      "f737b443bcc24cde9b5a6463c35073c9"
     ]
    },
    "id": "alpine-louis",
    "outputId": "467a21a4-2d1f-4d2d-fecd-f56b21d3bafd"
   },
   "outputs": [
    {
     "name": "stdout",
     "output_type": "stream",
     "text": [
      "Downloading https://www.itl.nist.gov/iaui/vip/cs_links/EMNIST/gzip.zip to data/EMNIST/raw/gzip.zip\n"
     ]
    },
    {
     "data": {
      "application/vnd.jupyter.widget-view+json": {
       "model_id": "b6b63d9aa1d04134977007c61482a248",
       "version_major": 2,
       "version_minor": 0
      },
      "text/plain": [
       "  0%|          | 0/561753746 [00:00<?, ?it/s]"
      ]
     },
     "metadata": {},
     "output_type": "display_data"
    },
    {
     "name": "stdout",
     "output_type": "stream",
     "text": [
      "Extracting data/EMNIST/raw/gzip.zip to data/EMNIST/raw\n",
      "['N/A', 'a', 'b', 'c', 'd', 'e', 'f', 'g', 'h', 'i', 'j', 'k', 'l', 'm', 'n', 'o', 'p', 'q', 'r', 's', 't', 'u', 'v', 'w', 'x', 'y', 'z']\n"
     ]
    }
   ],
   "source": [
    "emnist_test = EMNIST(DATASETS_PATH, split='letters', train=False, download=True, transform=transforms.ToTensor());\n",
    "print(emnist_test.classes)"
   ]
  },
  {
   "cell_type": "markdown",
   "id": "purple-chest",
   "metadata": {
    "id": "aware-motivation"
   },
   "source": [
    "Let's look at some letter examples:"
   ]
  },
  {
   "cell_type": "code",
   "execution_count": null,
   "id": "confidential-rapid",
   "metadata": {
    "colab": {
     "base_uri": "https://localhost:8080/",
     "height": 208
    },
    "id": "different-aircraft",
    "outputId": "b79e8b63-6816-4b21-9745-c547b6e410fb"
   },
   "outputs": [
    {
     "data": {
      "image/png": "[encoded data removed]",
      "text/plain": [
       "<Figure size 1080x360 with 5 Axes>"
      ]
     },
     "metadata": {
      "needs_background": "light"
     },
     "output_type": "display_data"
    }
   ],
   "source": [
    "fig, axs = plt.subplots(ncols=5, figsize=(15,5))\n",
    "for i, idx in enumerate(np.random.choice(np.arange(len(emnist_test)), 5)):\n",
    "    img, target = emnist_test[idx]\n",
    "    axs[i].imshow(img[0], vmin=0, vmax=1)\n",
    "    axs[i].set_title(emnist_test.classes[target]);"
   ]
  },
  {
   "cell_type": "markdown",
   "id": "gorgeous-affect",
   "metadata": {
    "id": "nasty-lancaster"
   },
   "source": [
    "As you, that the letters are rotated and mirrored. For out purpose it doesn't matter. If you care, use `img[0].T` for displaying or change dataset transform to `transforms.Compose([transforms.ToTensor(), transforms.Lambda(lambda img: img.transpose(1, 2))])`"
   ]
  },
  {
   "cell_type": "code",
   "execution_count": null,
   "id": "included-somerset",
   "metadata": {
    "colab": {
     "base_uri": "https://localhost:8080/",
     "height": 208
    },
    "id": "j45oijIjwMDj",
    "outputId": "acbd210d-06dd-4a1b-839e-42fb9e75c462"
   },
   "outputs": [
    {
     "data": {
      "image/png": "[encoded data removed]",
      "text/plain": [
       "<Figure size 1080x360 with 5 Axes>"
      ]
     },
     "metadata": {
      "needs_background": "light"
     },
     "output_type": "display_data"
    }
   ],
   "source": [
    "fig, axs = plt.subplots(ncols=5, figsize=(15,5))\n",
    "for i, idx in enumerate(np.random.choice(np.arange(len(emnist_test)), 5)):\n",
    "    img, target = emnist_test[idx]\n",
    "    axs[i].imshow(img[0].T, vmin=0, vmax=1)\n",
    "    axs[i].set_title(emnist_test.classes[target]);"
   ]
  },
  {
   "cell_type": "markdown",
   "id": "compound-hundred",
   "metadata": {
    "id": "simple-accountability"
   },
   "source": [
    "#### Your task\n",
    "Compute reconstruction errors for 1000 digits and 1000 letters."
   ]
  },
  {
   "cell_type": "code",
   "execution_count": null,
   "id": "seeing-cargo",
   "metadata": {
    "id": "daily-burner"
   },
   "outputs": [],
   "source": [
    "def calc_reconstruction_error(x, model):\n",
    "    # your code here\n",
    "    # ...\n",
    "    # reconstruction_error = ...\n",
    "    return reconstruction_error"
   ]
  },
  {
   "cell_type": "markdown",
   "id": "sorted-imagination",
   "metadata": {
    "id": "atlantic-nevada"
   },
   "source": [
    "Tip: rember to use torch.no_grad() and set the same device for model and data"
   ]
  },
  {
   "cell_type": "code",
   "execution_count": null,
   "id": "fifth-temple",
   "metadata": {
    "id": "underlying-worth"
   },
   "outputs": [],
   "source": [
    "digit_indices = np.random.choice(np.arange(len(mnist_test)), 1000)\n",
    "letter_indices = np.random.choice(np.arange(len(emnist_test)), 1000)"
   ]
  },
  {
   "cell_type": "code",
   "execution_count": null,
   "id": "black-tiffany",
   "metadata": {
    "id": "plastic-novelty"
   },
   "outputs": [],
   "source": [
    "digits_reconstruction_errors= []\n",
    "autoencoder = autoencoder.eval().to(device)\n",
    "for idx in digit_indices:\n",
    "    # your code here\n",
    "    # ...\n",
    "    # reconstruction_error = ...\n",
    "    digits_reconstruction_errors.append(reconstruction_error)    "
   ]
  },
  {
   "cell_type": "code",
   "execution_count": null,
   "id": "introductory-enzyme",
   "metadata": {
    "id": "tender-banking"
   },
   "outputs": [],
   "source": [
    "letters_reconstruction_errors= []\n",
    "# your code here"
   ]
  },
  {
   "cell_type": "markdown",
   "id": "organized-antique",
   "metadata": {
    "id": "average-threshold"
   },
   "source": [
    "Visualize the results:"
   ]
  },
  {
   "cell_type": "code",
   "execution_count": null,
   "id": "together-rouge",
   "metadata": {
    "colab": {
     "base_uri": "https://localhost:8080/",
     "height": 265
    },
    "id": "consistent-undergraduate",
    "outputId": "55596964-8ae7-4dd3-ee99-195c5e2c3c09"
   },
   "outputs": [
    {
     "data": {
      "image/png": "[encoded data removed]",
      "text/plain": [
       "<Figure size 432x288 with 1 Axes>"
      ]
     },
     "metadata": {
      "needs_background": "light"
     },
     "output_type": "display_data"
    }
   ],
   "source": [
    "plt.hist(digits_reconstruction_errors, alpha=0.5, label='digits');\n",
    "plt.hist(letters_reconstruction_errors, alpha=0.5, label='letters');\n",
    "plt.legend();"
   ]
  },
  {
   "cell_type": "markdown",
   "id": "stainless-winner",
   "metadata": {
    "id": "threatened-reception"
   },
   "source": [
    "Short analysis of result"
   ]
  },
  {
   "cell_type": "code",
   "execution_count": null,
   "id": "leading-england",
   "metadata": {
    "id": "literary-pacific"
   },
   "outputs": [],
   "source": [
    "import pandas as pd\n",
    "from sklearn.metrics import precision_recall_curve, roc_auc_score"
   ]
  },
  {
   "cell_type": "code",
   "execution_count": null,
   "id": "proved-great",
   "metadata": {
    "colab": {
     "base_uri": "https://localhost:8080/",
     "height": 357
    },
    "id": "opposite-trauma",
    "outputId": "59439b1b-2692-46b4-eb7e-1d499217f47d"
   },
   "outputs": [
    {
     "data": {
      "text/html": [
       "<div>\n",
       "<style scoped>\n",
       "    .dataframe tbody tr th:only-of-type {\n",
       "        vertical-align: middle;\n",
       "    }\n",
       "\n",
       "    .dataframe tbody tr th {\n",
       "        vertical-align: top;\n",
       "    }\n",
       "\n",
       "    .dataframe thead th {\n",
       "        text-align: right;\n",
       "    }\n",
       "</style>\n",
       "<table border=\"1\" class=\"dataframe\">\n",
       "  <thead>\n",
       "    <tr style=\"text-align: right;\">\n",
       "      <th></th>\n",
       "      <th>class</th>\n",
       "      <th>error</th>\n",
       "    </tr>\n",
       "  </thead>\n",
       "  <tbody>\n",
       "    <tr>\n",
       "      <th>259</th>\n",
       "      <td>0</td>\n",
       "      <td>0.029631</td>\n",
       "    </tr>\n",
       "    <tr>\n",
       "      <th>335</th>\n",
       "      <td>0</td>\n",
       "      <td>0.007713</td>\n",
       "    </tr>\n",
       "    <tr>\n",
       "      <th>1997</th>\n",
       "      <td>1</td>\n",
       "      <td>0.047826</td>\n",
       "    </tr>\n",
       "    <tr>\n",
       "      <th>944</th>\n",
       "      <td>0</td>\n",
       "      <td>0.031237</td>\n",
       "    </tr>\n",
       "    <tr>\n",
       "      <th>1161</th>\n",
       "      <td>1</td>\n",
       "      <td>0.078797</td>\n",
       "    </tr>\n",
       "    <tr>\n",
       "      <th>1307</th>\n",
       "      <td>1</td>\n",
       "      <td>0.120345</td>\n",
       "    </tr>\n",
       "    <tr>\n",
       "      <th>358</th>\n",
       "      <td>0</td>\n",
       "      <td>0.012508</td>\n",
       "    </tr>\n",
       "    <tr>\n",
       "      <th>25</th>\n",
       "      <td>0</td>\n",
       "      <td>0.044588</td>\n",
       "    </tr>\n",
       "    <tr>\n",
       "      <th>852</th>\n",
       "      <td>0</td>\n",
       "      <td>0.031967</td>\n",
       "    </tr>\n",
       "    <tr>\n",
       "      <th>1812</th>\n",
       "      <td>1</td>\n",
       "      <td>0.050308</td>\n",
       "    </tr>\n",
       "  </tbody>\n",
       "</table>\n",
       "</div>"
      ],
      "text/plain": [
       "      class     error\n",
       "259       0  0.029631\n",
       "335       0  0.007713\n",
       "1997      1  0.047826\n",
       "944       0  0.031237\n",
       "1161      1  0.078797\n",
       "1307      1  0.120345\n",
       "358       0  0.012508\n",
       "25        0  0.044588\n",
       "852       0  0.031967\n",
       "1812      1  0.050308"
      ]
     },
     "execution_count": 104,
     "metadata": {},
     "output_type": "execute_result"
    }
   ],
   "source": [
    "df = pd.DataFrame([{'class': 0, 'error': x} for x in digits_reconstruction_errors] + [{'class': 1, 'error': x} for x in letters_reconstruction_errors])\n",
    "df.sample(10)"
   ]
  },
  {
   "cell_type": "code",
   "execution_count": null,
   "id": "scenic-separate",
   "metadata": {
    "id": "aggressive-lesson"
   },
   "outputs": [],
   "source": [
    "precision, recall, thresholds = precision_recall_curve(df['class'], df['error'])\n",
    "rocauc = roc_auc_score(df['class'], df['error'])"
   ]
  },
  {
   "cell_type": "code",
   "execution_count": null,
   "id": "ambient-cursor",
   "metadata": {
    "colab": {
     "base_uri": "https://localhost:8080/",
     "height": 313
    },
    "id": "endless-jason",
    "outputId": "1408eeab-c403-4536-ccc3-ca27b737f123"
   },
   "outputs": [
    {
     "data": {
      "text/plain": [
       "Text(0.5, 1.0, 'Area under curve: 0.925')"
      ]
     },
     "execution_count": 106,
     "metadata": {},
     "output_type": "execute_result"
    },
    {
     "data": {
      "image/png": "[encoded data removed]",
      "text/plain": [
       "<Figure size 432x288 with 1 Axes>"
      ]
     },
     "metadata": {
      "needs_background": "light"
     },
     "output_type": "display_data"
    }
   ],
   "source": [
    "plt.plot(recall, precision)\n",
    "plt.xlabel('recall');\n",
    "plt.ylabel('precision');\n",
    "plt.title(f'Area under curve: {rocauc:0.3f}')"
   ]
  },
  {
   "cell_type": "markdown",
   "id": "aboriginal-chile",
   "metadata": {
    "id": "average-dominican"
   },
   "source": [
    "# Convolutional autoencoder"
   ]
  },
  {
   "cell_type": "code",
   "execution_count": null,
   "id": "quantitative-assist",
   "metadata": {
    "id": "typical-participant"
   },
   "outputs": [],
   "source": [
    "class ConvAutoencoder(nn.Module):\n",
    "    def __init__(self):\n",
    "        super().__init__()\n",
    "        self.encoder = nn.Sequential(\n",
    "            nn.Conv2d(1, 16, 3, stride=3, padding=1),  # b, 16, 10, 10 # here and bellow numbers correspods to dimensions: b (batch size), channels, height, width\n",
    "            nn.ReLU(True),\n",
    "            nn.MaxPool2d(2, stride=2),  # b, 16, 5, 5\n",
    "            nn.Conv2d(16, 8, 3, stride=2, padding=1),  # b, 8, 3, 3\n",
    "            nn.ReLU(True),\n",
    "            nn.MaxPool2d(2, stride=1)  # b, 8, 2, 2\n",
    "        )\n",
    "        self.decoder = nn.Sequential(\n",
    "            nn.ConvTranspose2d(8, 16, 3, stride=2),  # b, 16, 5, 5\n",
    "            nn.ReLU(True),\n",
    "            nn.ConvTranspose2d(16, 8, 5, stride=3, padding=1),  # b, 8, 15, 15\n",
    "            nn.ReLU(True),\n",
    "            nn.ConvTranspose2d(8, 1, 2, stride=2, padding=1),  # b, 1, 28, 28\n",
    "            nn.Tanh()\n",
    "        )\n",
    "\n",
    "    def forward(self, x):\n",
    "        x = self.encoder(x)\n",
    "        x = self.decoder(x)\n",
    "        return x\n",
    "    \n",
    "    @torch.no_grad()\n",
    "    def encode_image(self, x):\n",
    "        return self.encoder(x.unsqueeze(0))[0].view(1,-1)\n",
    "        "
   ]
  }
 ],
 "metadata": {
  "accelerator": "GPU",
  "colab": {
   "collapsed_sections": [
    "dominant-newsletter",
    "damaged-fifty"
   ],
   "name": "day2_1_autoencoders.ipynb",
   "provenance": []
  },
  "kernelspec": {
   "display_name": "Python 3",
   "language": "python",
   "name": "python3"
  },
  "language_info": {
   "codemirror_mode": {
    "name": "ipython",
    "version": 3
   },
   "file_extension": ".py",
   "mimetype": "text/x-python",
   "name": "python",
   "nbconvert_exporter": "python",
   "pygments_lexer": "ipython3",
   "version": "3.7.3"
  },
  "widgets": {
   "application/vnd.jupyter.widget-state+json": {
    "0b5a05cec52a4889a4dd997ccd9514b4": {
     "model_module": "@jupyter-widgets/base",
     "model_module_version": "1.2.0",
     "model_name": "LayoutModel",
     "state": {
      "_model_module": "@jupyter-widgets/base",
      "_model_module_version": "1.2.0",
      "_model_name": "LayoutModel",
      "_view_count": null,
      "_view_module": "@jupyter-widgets/base",
      "_view_module_version": "1.2.0",
      "_view_name": "LayoutView",
      "align_content": null,
      "align_items": null,
      "align_self": null,
      "border": null,
      "bottom": null,
      "display": null,
      "flex": null,
      "flex_flow": null,
      "grid_area": null,
      "grid_auto_columns": null,
      "grid_auto_flow": null,
      "grid_auto_rows": null,
      "grid_column": null,
      "grid_gap": null,
      "grid_row": null,
      "grid_template_areas": null,
      "grid_template_columns": null,
      "grid_template_rows": null,
      "height": null,
      "justify_content": null,
      "justify_items": null,
      "left": null,
      "margin": null,
      "max_height": null,
      "max_width": null,
      "min_height": null,
      "min_width": null,
      "object_fit": null,
      "object_position": null,
      "order": null,
      "overflow": null,
      "overflow_x": null,
      "overflow_y": null,
      "padding": null,
      "right": null,
      "top": null,
      "visibility": null,
      "width": null
     }
    },
    "0d4d70d99e8749a1bbdfd6c52195d7f6": {
     "model_module": "@jupyter-widgets/controls",
     "model_module_version": "1.5.0",
     "model_name": "HTMLModel",
     "state": {
      "_dom_classes": [],
      "_model_module": "@jupyter-widgets/controls",
      "_model_module_version": "1.5.0",
      "_model_name": "HTMLModel",
      "_view_count": null,
      "_view_module": "@jupyter-widgets/controls",
      "_view_module_version": "1.5.0",
      "_view_name": "HTMLView",
      "description": "",
      "description_tooltip": null,
      "layout": "IPY_MODEL_b1ade4ca23934bb2813e5080f7899c83",
      "placeholder": "​",
      "style": "IPY_MODEL_d56d791bf4b74b7a90ccb49063c9ee39",
      "value": ""
     }
    },
    "1044b6a8ec7e498cae15041a9e0e8351": {
     "model_module": "@jupyter-widgets/controls",
     "model_module_version": "1.5.0",
     "model_name": "HTMLModel",
     "state": {
      "_dom_classes": [],
      "_model_module": "@jupyter-widgets/controls",
      "_model_module_version": "1.5.0",
      "_model_name": "HTMLModel",
      "_view_count": null,
      "_view_module": "@jupyter-widgets/controls",
      "_view_module_version": "1.5.0",
      "_view_name": "HTMLView",
      "description": "",
      "description_tooltip": null,
      "layout": "IPY_MODEL_55326606c01640a08a1021db0c36b62e",
      "placeholder": "​",
      "style": "IPY_MODEL_5656ad05fc9a4165b928e7c1b229cb04",
      "value": " 5120/? [00:00&lt;00:00, 122545.99it/s]"
     }
    },
    "1408556f782e448ea2185e3b7714497d": {
     "model_module": "@jupyter-widgets/controls",
     "model_module_version": "1.5.0",
     "model_name": "DescriptionStyleModel",
     "state": {
      "_model_module": "@jupyter-widgets/controls",
      "_model_module_version": "1.5.0",
      "_model_name": "DescriptionStyleModel",
      "_view_count": null,
      "_view_module": "@jupyter-widgets/base",
      "_view_module_version": "1.2.0",
      "_view_name": "StyleView",
      "description_width": ""
     }
    },
    "15f2fcc6f98c4a888d7e86d2eb4749ca": {
     "model_module": "@jupyter-widgets/base",
     "model_module_version": "1.2.0",
     "model_name": "LayoutModel",
     "state": {
      "_model_module": "@jupyter-widgets/base",
      "_model_module_version": "1.2.0",
      "_model_name": "LayoutModel",
      "_view_count": null,
      "_view_module": "@jupyter-widgets/base",
      "_view_module_version": "1.2.0",
      "_view_name": "LayoutView",
      "align_content": null,
      "align_items": null,
      "align_self": null,
      "border": null,
      "bottom": null,
      "display": null,
      "flex": null,
      "flex_flow": null,
      "grid_area": null,
      "grid_auto_columns": null,
      "grid_auto_flow": null,
      "grid_auto_rows": null,
      "grid_column": null,
      "grid_gap": null,
      "grid_row": null,
      "grid_template_areas": null,
      "grid_template_columns": null,
      "grid_template_rows": null,
      "height": null,
      "justify_content": null,
      "justify_items": null,
      "left": null,
      "margin": null,
      "max_height": null,
      "max_width": null,
      "min_height": null,
      "min_width": null,
      "object_fit": null,
      "object_position": null,
      "order": null,
      "overflow": null,
      "overflow_x": null,
      "overflow_y": null,
      "padding": null,
      "right": null,
      "top": null,
      "visibility": null,
      "width": null
     }
    },
    "18b0c51d54d6411fb9ce58f35c482ede": {
     "model_module": "@jupyter-widgets/controls",
     "model_module_version": "1.5.0",
     "model_name": "HTMLModel",
     "state": {
      "_dom_classes": [],
      "_model_module": "@jupyter-widgets/controls",
      "_model_module_version": "1.5.0",
      "_model_name": "HTMLModel",
      "_view_count": null,
      "_view_module": "@jupyter-widgets/controls",
      "_view_module_version": "1.5.0",
      "_view_name": "HTMLView",
      "description": "",
      "description_tooltip": null,
      "layout": "IPY_MODEL_3c5d3935e1204efeaa6c5b12ceb30fc1",
      "placeholder": "​",
      "style": "IPY_MODEL_dea00367b6bb4e91a28c771352a3becf",
      "value": " 1649664/? [00:00&lt;00:00, 11200461.07it/s]"
     }
    },
    "1bd096a21e544edca2e0e8da8c2abd45": {
     "model_module": "@jupyter-widgets/base",
     "model_module_version": "1.2.0",
     "model_name": "LayoutModel",
     "state": {
      "_model_module": "@jupyter-widgets/base",
      "_model_module_version": "1.2.0",
      "_model_name": "LayoutModel",
      "_view_count": null,
      "_view_module": "@jupyter-widgets/base",
      "_view_module_version": "1.2.0",
      "_view_name": "LayoutView",
      "align_content": null,
      "align_items": null,
      "align_self": null,
      "border": null,
      "bottom": null,
      "display": null,
      "flex": null,
      "flex_flow": null,
      "grid_area": null,
      "grid_auto_columns": null,
      "grid_auto_flow": null,
      "grid_auto_rows": null,
      "grid_column": null,
      "grid_gap": null,
      "grid_row": null,
      "grid_template_areas": null,
      "grid_template_columns": null,
      "grid_template_rows": null,
      "height": null,
      "justify_content": null,
      "justify_items": null,
      "left": null,
      "margin": null,
      "max_height": null,
      "max_width": null,
      "min_height": null,
      "min_width": null,
      "object_fit": null,
      "object_position": null,
      "order": null,
      "overflow": null,
      "overflow_x": null,
      "overflow_y": null,
      "padding": null,
      "right": null,
      "top": null,
      "visibility": null,
      "width": null
     }
    },
    "370622023d764455a3c4bbc11e42e6ab": {
     "model_module": "@jupyter-widgets/base",
     "model_module_version": "1.2.0",
     "model_name": "LayoutModel",
     "state": {
      "_model_module": "@jupyter-widgets/base",
      "_model_module_version": "1.2.0",
      "_model_name": "LayoutModel",
      "_view_count": null,
      "_view_module": "@jupyter-widgets/base",
      "_view_module_version": "1.2.0",
      "_view_name": "LayoutView",
      "align_content": null,
      "align_items": null,
      "align_self": null,
      "border": null,
      "bottom": null,
      "display": null,
      "flex": null,
      "flex_flow": null,
      "grid_area": null,
      "grid_auto_columns": null,
      "grid_auto_flow": null,
      "grid_auto_rows": null,
      "grid_column": null,
      "grid_gap": null,
      "grid_row": null,
      "grid_template_areas": null,
      "grid_template_columns": null,
      "grid_template_rows": null,
      "height": null,
      "justify_content": null,
      "justify_items": null,
      "left": null,
      "margin": null,
      "max_height": null,
      "max_width": null,
      "min_height": null,
      "min_width": null,
      "object_fit": null,
      "object_position": null,
      "order": null,
      "overflow": null,
      "overflow_x": null,
      "overflow_y": null,
      "padding": null,
      "right": null,
      "top": null,
      "visibility": null,
      "width": null
     }
    },
    "3c5d3935e1204efeaa6c5b12ceb30fc1": {
     "model_module": "@jupyter-widgets/base",
     "model_module_version": "1.2.0",
     "model_name": "LayoutModel",
     "state": {
      "_model_module": "@jupyter-widgets/base",
      "_model_module_version": "1.2.0",
      "_model_name": "LayoutModel",
      "_view_count": null,
      "_view_module": "@jupyter-widgets/base",
      "_view_module_version": "1.2.0",
      "_view_name": "LayoutView",
      "align_content": null,
      "align_items": null,
      "align_self": null,
      "border": null,
      "bottom": null,
      "display": null,
      "flex": null,
      "flex_flow": null,
      "grid_area": null,
      "grid_auto_columns": null,
      "grid_auto_flow": null,
      "grid_auto_rows": null,
      "grid_column": null,
      "grid_gap": null,
      "grid_row": null,
      "grid_template_areas": null,
      "grid_template_columns": null,
      "grid_template_rows": null,
      "height": null,
      "justify_content": null,
      "justify_items": null,
      "left": null,
      "margin": null,
      "max_height": null,
      "max_width": null,
      "min_height": null,
      "min_width": null,
      "object_fit": null,
      "object_position": null,
      "order": null,
      "overflow": null,
      "overflow_x": null,
      "overflow_y": null,
      "padding": null,
      "right": null,
      "top": null,
      "visibility": null,
      "width": null
     }
    },
    "3cfe4eed13af42d49e381e0838895a6c": {
     "model_module": "@jupyter-widgets/base",
     "model_module_version": "1.2.0",
     "model_name": "LayoutModel",
     "state": {
      "_model_module": "@jupyter-widgets/base",
      "_model_module_version": "1.2.0",
      "_model_name": "LayoutModel",
      "_view_count": null,
      "_view_module": "@jupyter-widgets/base",
      "_view_module_version": "1.2.0",
      "_view_name": "LayoutView",
      "align_content": null,
      "align_items": null,
      "align_self": null,
      "border": null,
      "bottom": null,
      "display": null,
      "flex": null,
      "flex_flow": null,
      "grid_area": null,
      "grid_auto_columns": null,
      "grid_auto_flow": null,
      "grid_auto_rows": null,
      "grid_column": null,
      "grid_gap": null,
      "grid_row": null,
      "grid_template_areas": null,
      "grid_template_columns": null,
      "grid_template_rows": null,
      "height": null,
      "justify_content": null,
      "justify_items": null,
      "left": null,
      "margin": null,
      "max_height": null,
      "max_width": null,
      "min_height": null,
      "min_width": null,
      "object_fit": null,
      "object_position": null,
      "order": null,
      "overflow": null,
      "overflow_x": null,
      "overflow_y": null,
      "padding": null,
      "right": null,
      "top": null,
      "visibility": null,
      "width": null
     }
    },
    "45a0ebfb3e8e4632ac09fc3f2bbc1aa3": {
     "model_module": "@jupyter-widgets/controls",
     "model_module_version": "1.5.0",
     "model_name": "DescriptionStyleModel",
     "state": {
      "_model_module": "@jupyter-widgets/controls",
      "_model_module_version": "1.5.0",
      "_model_name": "DescriptionStyleModel",
      "_view_count": null,
      "_view_module": "@jupyter-widgets/base",
      "_view_module_version": "1.2.0",
      "_view_name": "StyleView",
      "description_width": ""
     }
    },
    "47233a488c85483696ecf80682a950b5": {
     "model_module": "@jupyter-widgets/base",
     "model_module_version": "1.2.0",
     "model_name": "LayoutModel",
     "state": {
      "_model_module": "@jupyter-widgets/base",
      "_model_module_version": "1.2.0",
      "_model_name": "LayoutModel",
      "_view_count": null,
      "_view_module": "@jupyter-widgets/base",
      "_view_module_version": "1.2.0",
      "_view_name": "LayoutView",
      "align_content": null,
      "align_items": null,
      "align_self": null,
      "border": null,
      "bottom": null,
      "display": null,
      "flex": null,
      "flex_flow": null,
      "grid_area": null,
      "grid_auto_columns": null,
      "grid_auto_flow": null,
      "grid_auto_rows": null,
      "grid_column": null,
      "grid_gap": null,
      "grid_row": null,
      "grid_template_areas": null,
      "grid_template_columns": null,
      "grid_template_rows": null,
      "height": null,
      "justify_content": null,
      "justify_items": null,
      "left": null,
      "margin": null,
      "max_height": null,
      "max_width": null,
      "min_height": null,
      "min_width": null,
      "object_fit": null,
      "object_position": null,
      "order": null,
      "overflow": null,
      "overflow_x": null,
      "overflow_y": null,
      "padding": null,
      "right": null,
      "top": null,
      "visibility": null,
      "width": null
     }
    },
    "4d4c029e14204f529f1974a58031261f": {
     "model_module": "@jupyter-widgets/controls",
     "model_module_version": "1.5.0",
     "model_name": "HTMLModel",
     "state": {
      "_dom_classes": [],
      "_model_module": "@jupyter-widgets/controls",
      "_model_module_version": "1.5.0",
      "_model_name": "HTMLModel",
      "_view_count": null,
      "_view_module": "@jupyter-widgets/controls",
      "_view_module_version": "1.5.0",
      "_view_name": "HTMLView",
      "description": "",
      "description_tooltip": null,
      "layout": "IPY_MODEL_f737b443bcc24cde9b5a6463c35073c9",
      "placeholder": "​",
      "style": "IPY_MODEL_901a6aab8cf6435380922443dbe01052",
      "value": " 561754112/? [00:10&lt;00:00, 58473675.65it/s]"
     }
    },
    "4e132af3351944729098f230e3a00cb3": {
     "model_module": "@jupyter-widgets/controls",
     "model_module_version": "1.5.0",
     "model_name": "ProgressStyleModel",
     "state": {
      "_model_module": "@jupyter-widgets/controls",
      "_model_module_version": "1.5.0",
      "_model_name": "ProgressStyleModel",
      "_view_count": null,
      "_view_module": "@jupyter-widgets/base",
      "_view_module_version": "1.2.0",
      "_view_name": "StyleView",
      "bar_color": null,
      "description_width": ""
     }
    },
    "524f55cbf1184071aa6e21ee849f5efe": {
     "model_module": "@jupyter-widgets/controls",
     "model_module_version": "1.5.0",
     "model_name": "HTMLModel",
     "state": {
      "_dom_classes": [],
      "_model_module": "@jupyter-widgets/controls",
      "_model_module_version": "1.5.0",
      "_model_name": "HTMLModel",
      "_view_count": null,
      "_view_module": "@jupyter-widgets/controls",
      "_view_module_version": "1.5.0",
      "_view_name": "HTMLView",
      "description": "",
      "description_tooltip": null,
      "layout": "IPY_MODEL_83925c2723f54b108f0e5291f5725176",
      "placeholder": "​",
      "style": "IPY_MODEL_1408556f782e448ea2185e3b7714497d",
      "value": ""
     }
    },
    "55326606c01640a08a1021db0c36b62e": {
     "model_module": "@jupyter-widgets/base",
     "model_module_version": "1.2.0",
     "model_name": "LayoutModel",
     "state": {
      "_model_module": "@jupyter-widgets/base",
      "_model_module_version": "1.2.0",
      "_model_name": "LayoutModel",
      "_view_count": null,
      "_view_module": "@jupyter-widgets/base",
      "_view_module_version": "1.2.0",
      "_view_name": "LayoutView",
      "align_content": null,
      "align_items": null,
      "align_self": null,
      "border": null,
      "bottom": null,
      "display": null,
      "flex": null,
      "flex_flow": null,
      "grid_area": null,
      "grid_auto_columns": null,
      "grid_auto_flow": null,
      "grid_auto_rows": null,
      "grid_column": null,
      "grid_gap": null,
      "grid_row": null,
      "grid_template_areas": null,
      "grid_template_columns": null,
      "grid_template_rows": null,
      "height": null,
      "justify_content": null,
      "justify_items": null,
      "left": null,
      "margin": null,
      "max_height": null,
      "max_width": null,
      "min_height": null,
      "min_width": null,
      "object_fit": null,
      "object_position": null,
      "order": null,
      "overflow": null,
      "overflow_x": null,
      "overflow_y": null,
      "padding": null,
      "right": null,
      "top": null,
      "visibility": null,
      "width": null
     }
    },
    "5656ad05fc9a4165b928e7c1b229cb04": {
     "model_module": "@jupyter-widgets/controls",
     "model_module_version": "1.5.0",
     "model_name": "DescriptionStyleModel",
     "state": {
      "_model_module": "@jupyter-widgets/controls",
      "_model_module_version": "1.5.0",
      "_model_name": "DescriptionStyleModel",
      "_view_count": null,
      "_view_module": "@jupyter-widgets/base",
      "_view_module_version": "1.2.0",
      "_view_name": "StyleView",
      "description_width": ""
     }
    },
    "58f200ef08b74237a0b7d71e69036a56": {
     "model_module": "@jupyter-widgets/controls",
     "model_module_version": "1.5.0",
     "model_name": "DescriptionStyleModel",
     "state": {
      "_model_module": "@jupyter-widgets/controls",
      "_model_module_version": "1.5.0",
      "_model_name": "DescriptionStyleModel",
      "_view_count": null,
      "_view_module": "@jupyter-widgets/base",
      "_view_module_version": "1.2.0",
      "_view_name": "StyleView",
      "description_width": ""
     }
    },
    "5c42b88eee9c4bc4b41a0b756716f5fa": {
     "model_module": "@jupyter-widgets/controls",
     "model_module_version": "1.5.0",
     "model_name": "HBoxModel",
     "state": {
      "_dom_classes": [],
      "_model_module": "@jupyter-widgets/controls",
      "_model_module_version": "1.5.0",
      "_model_name": "HBoxModel",
      "_view_count": null,
      "_view_module": "@jupyter-widgets/controls",
      "_view_module_version": "1.5.0",
      "_view_name": "HBoxView",
      "box_style": "",
      "children": [
       "IPY_MODEL_524f55cbf1184071aa6e21ee849f5efe",
       "IPY_MODEL_fc34e3d01d324d6a82b41ded2d26804b",
       "IPY_MODEL_1044b6a8ec7e498cae15041a9e0e8351"
      ],
      "layout": "IPY_MODEL_47233a488c85483696ecf80682a950b5"
     }
    },
    "642dc9c0aeb94cf784bc9eaeae504285": {
     "model_module": "@jupyter-widgets/controls",
     "model_module_version": "1.5.0",
     "model_name": "HBoxModel",
     "state": {
      "_dom_classes": [],
      "_model_module": "@jupyter-widgets/controls",
      "_model_module_version": "1.5.0",
      "_model_name": "HBoxModel",
      "_view_count": null,
      "_view_module": "@jupyter-widgets/controls",
      "_view_module_version": "1.5.0",
      "_view_name": "HBoxView",
      "box_style": "",
      "children": [
       "IPY_MODEL_ea002092a0d948c4982eb7df6a1073be",
       "IPY_MODEL_d2f1a85f0c104db2ba11f7e95403c93d",
       "IPY_MODEL_6ad2e336a71e4e42b199f1508b242191"
      ],
      "layout": "IPY_MODEL_6c33d6e7684a4ac7af05374eca06e74d"
     }
    },
    "649459b2070f455e8d212ccdc93c2174": {
     "model_module": "@jupyter-widgets/controls",
     "model_module_version": "1.5.0",
     "model_name": "FloatProgressModel",
     "state": {
      "_dom_classes": [],
      "_model_module": "@jupyter-widgets/controls",
      "_model_module_version": "1.5.0",
      "_model_name": "FloatProgressModel",
      "_view_count": null,
      "_view_module": "@jupyter-widgets/controls",
      "_view_module_version": "1.5.0",
      "_view_name": "ProgressView",
      "bar_style": "success",
      "description": "",
      "description_tooltip": null,
      "layout": "IPY_MODEL_15f2fcc6f98c4a888d7e86d2eb4749ca",
      "max": 1648877,
      "min": 0,
      "orientation": "horizontal",
      "style": "IPY_MODEL_d9088d86d3ba4d6b9e12da44bc94b03b",
      "value": 1648877
     }
    },
    "6ad2e336a71e4e42b199f1508b242191": {
     "model_module": "@jupyter-widgets/controls",
     "model_module_version": "1.5.0",
     "model_name": "HTMLModel",
     "state": {
      "_dom_classes": [],
      "_model_module": "@jupyter-widgets/controls",
      "_model_module_version": "1.5.0",
      "_model_name": "HTMLModel",
      "_view_count": null,
      "_view_module": "@jupyter-widgets/controls",
      "_view_module_version": "1.5.0",
      "_view_name": "HTMLView",
      "description": "",
      "description_tooltip": null,
      "layout": "IPY_MODEL_9ba34aea33b84bc0a2324d02398e38e4",
      "placeholder": "​",
      "style": "IPY_MODEL_cc9aa8d19c59466aada25e2a8fce3a2d",
      "value": " 9913344/? [00:00&lt;00:00, 38683609.71it/s]"
     }
    },
    "6c33d6e7684a4ac7af05374eca06e74d": {
     "model_module": "@jupyter-widgets/base",
     "model_module_version": "1.2.0",
     "model_name": "LayoutModel",
     "state": {
      "_model_module": "@jupyter-widgets/base",
      "_model_module_version": "1.2.0",
      "_model_name": "LayoutModel",
      "_view_count": null,
      "_view_module": "@jupyter-widgets/base",
      "_view_module_version": "1.2.0",
      "_view_name": "LayoutView",
      "align_content": null,
      "align_items": null,
      "align_self": null,
      "border": null,
      "bottom": null,
      "display": null,
      "flex": null,
      "flex_flow": null,
      "grid_area": null,
      "grid_auto_columns": null,
      "grid_auto_flow": null,
      "grid_auto_rows": null,
      "grid_column": null,
      "grid_gap": null,
      "grid_row": null,
      "grid_template_areas": null,
      "grid_template_columns": null,
      "grid_template_rows": null,
      "height": null,
      "justify_content": null,
      "justify_items": null,
      "left": null,
      "margin": null,
      "max_height": null,
      "max_width": null,
      "min_height": null,
      "min_width": null,
      "object_fit": null,
      "object_position": null,
      "order": null,
      "overflow": null,
      "overflow_x": null,
      "overflow_y": null,
      "padding": null,
      "right": null,
      "top": null,
      "visibility": null,
      "width": null
     }
    },
    "6c8acfd1fd9b4893a63da00aabcfd24b": {
     "model_module": "@jupyter-widgets/base",
     "model_module_version": "1.2.0",
     "model_name": "LayoutModel",
     "state": {
      "_model_module": "@jupyter-widgets/base",
      "_model_module_version": "1.2.0",
      "_model_name": "LayoutModel",
      "_view_count": null,
      "_view_module": "@jupyter-widgets/base",
      "_view_module_version": "1.2.0",
      "_view_name": "LayoutView",
      "align_content": null,
      "align_items": null,
      "align_self": null,
      "border": null,
      "bottom": null,
      "display": null,
      "flex": null,
      "flex_flow": null,
      "grid_area": null,
      "grid_auto_columns": null,
      "grid_auto_flow": null,
      "grid_auto_rows": null,
      "grid_column": null,
      "grid_gap": null,
      "grid_row": null,
      "grid_template_areas": null,
      "grid_template_columns": null,
      "grid_template_rows": null,
      "height": null,
      "justify_content": null,
      "justify_items": null,
      "left": null,
      "margin": null,
      "max_height": null,
      "max_width": null,
      "min_height": null,
      "min_width": null,
      "object_fit": null,
      "object_position": null,
      "order": null,
      "overflow": null,
      "overflow_x": null,
      "overflow_y": null,
      "padding": null,
      "right": null,
      "top": null,
      "visibility": null,
      "width": null
     }
    },
    "6fb2396b89b74fce95699f02f5352dd5": {
     "model_module": "@jupyter-widgets/controls",
     "model_module_version": "1.5.0",
     "model_name": "HTMLModel",
     "state": {
      "_dom_classes": [],
      "_model_module": "@jupyter-widgets/controls",
      "_model_module_version": "1.5.0",
      "_model_name": "HTMLModel",
      "_view_count": null,
      "_view_module": "@jupyter-widgets/controls",
      "_view_module_version": "1.5.0",
      "_view_name": "HTMLView",
      "description": "",
      "description_tooltip": null,
      "layout": "IPY_MODEL_0b5a05cec52a4889a4dd997ccd9514b4",
      "placeholder": "​",
      "style": "IPY_MODEL_7641056856a24f1aa3ab8c0cbf938970",
      "value": " 29696/? [00:00&lt;00:00, 539849.39it/s]"
     }
    },
    "74282ba86dcf41379018c7ebe2fb8dd0": {
     "model_module": "@jupyter-widgets/base",
     "model_module_version": "1.2.0",
     "model_name": "LayoutModel",
     "state": {
      "_model_module": "@jupyter-widgets/base",
      "_model_module_version": "1.2.0",
      "_model_name": "LayoutModel",
      "_view_count": null,
      "_view_module": "@jupyter-widgets/base",
      "_view_module_version": "1.2.0",
      "_view_name": "LayoutView",
      "align_content": null,
      "align_items": null,
      "align_self": null,
      "border": null,
      "bottom": null,
      "display": null,
      "flex": null,
      "flex_flow": null,
      "grid_area": null,
      "grid_auto_columns": null,
      "grid_auto_flow": null,
      "grid_auto_rows": null,
      "grid_column": null,
      "grid_gap": null,
      "grid_row": null,
      "grid_template_areas": null,
      "grid_template_columns": null,
      "grid_template_rows": null,
      "height": null,
      "justify_content": null,
      "justify_items": null,
      "left": null,
      "margin": null,
      "max_height": null,
      "max_width": null,
      "min_height": null,
      "min_width": null,
      "object_fit": null,
      "object_position": null,
      "order": null,
      "overflow": null,
      "overflow_x": null,
      "overflow_y": null,
      "padding": null,
      "right": null,
      "top": null,
      "visibility": null,
      "width": null
     }
    },
    "7641056856a24f1aa3ab8c0cbf938970": {
     "model_module": "@jupyter-widgets/controls",
     "model_module_version": "1.5.0",
     "model_name": "DescriptionStyleModel",
     "state": {
      "_model_module": "@jupyter-widgets/controls",
      "_model_module_version": "1.5.0",
      "_model_name": "DescriptionStyleModel",
      "_view_count": null,
      "_view_module": "@jupyter-widgets/base",
      "_view_module_version": "1.2.0",
      "_view_name": "StyleView",
      "description_width": ""
     }
    },
    "83925c2723f54b108f0e5291f5725176": {
     "model_module": "@jupyter-widgets/base",
     "model_module_version": "1.2.0",
     "model_name": "LayoutModel",
     "state": {
      "_model_module": "@jupyter-widgets/base",
      "_model_module_version": "1.2.0",
      "_model_name": "LayoutModel",
      "_view_count": null,
      "_view_module": "@jupyter-widgets/base",
      "_view_module_version": "1.2.0",
      "_view_name": "LayoutView",
      "align_content": null,
      "align_items": null,
      "align_self": null,
      "border": null,
      "bottom": null,
      "display": null,
      "flex": null,
      "flex_flow": null,
      "grid_area": null,
      "grid_auto_columns": null,
      "grid_auto_flow": null,
      "grid_auto_rows": null,
      "grid_column": null,
      "grid_gap": null,
      "grid_row": null,
      "grid_template_areas": null,
      "grid_template_columns": null,
      "grid_template_rows": null,
      "height": null,
      "justify_content": null,
      "justify_items": null,
      "left": null,
      "margin": null,
      "max_height": null,
      "max_width": null,
      "min_height": null,
      "min_width": null,
      "object_fit": null,
      "object_position": null,
      "order": null,
      "overflow": null,
      "overflow_x": null,
      "overflow_y": null,
      "padding": null,
      "right": null,
      "top": null,
      "visibility": null,
      "width": null
     }
    },
    "901a6aab8cf6435380922443dbe01052": {
     "model_module": "@jupyter-widgets/controls",
     "model_module_version": "1.5.0",
     "model_name": "DescriptionStyleModel",
     "state": {
      "_model_module": "@jupyter-widgets/controls",
      "_model_module_version": "1.5.0",
      "_model_name": "DescriptionStyleModel",
      "_view_count": null,
      "_view_module": "@jupyter-widgets/base",
      "_view_module_version": "1.2.0",
      "_view_name": "StyleView",
      "description_width": ""
     }
    },
    "9361739ef84c4d49a44f1e293c8bc295": {
     "model_module": "@jupyter-widgets/controls",
     "model_module_version": "1.5.0",
     "model_name": "FloatProgressModel",
     "state": {
      "_dom_classes": [],
      "_model_module": "@jupyter-widgets/controls",
      "_model_module_version": "1.5.0",
      "_model_name": "FloatProgressModel",
      "_view_count": null,
      "_view_module": "@jupyter-widgets/controls",
      "_view_module_version": "1.5.0",
      "_view_name": "ProgressView",
      "bar_style": "success",
      "description": "",
      "description_tooltip": null,
      "layout": "IPY_MODEL_e7c3edea637a4c66abc540ee2af0fd7d",
      "max": 28881,
      "min": 0,
      "orientation": "horizontal",
      "style": "IPY_MODEL_4e132af3351944729098f230e3a00cb3",
      "value": 28881
     }
    },
    "9682d85006e042119d5bfc89d875b93b": {
     "model_module": "@jupyter-widgets/controls",
     "model_module_version": "1.5.0",
     "model_name": "HBoxModel",
     "state": {
      "_dom_classes": [],
      "_model_module": "@jupyter-widgets/controls",
      "_model_module_version": "1.5.0",
      "_model_name": "HBoxModel",
      "_view_count": null,
      "_view_module": "@jupyter-widgets/controls",
      "_view_module_version": "1.5.0",
      "_view_name": "HBoxView",
      "box_style": "",
      "children": [
       "IPY_MODEL_e4fbbbae1cd14754bf84e8752ced1d6e",
       "IPY_MODEL_649459b2070f455e8d212ccdc93c2174",
       "IPY_MODEL_18b0c51d54d6411fb9ce58f35c482ede"
      ],
      "layout": "IPY_MODEL_3cfe4eed13af42d49e381e0838895a6c"
     }
    },
    "98de3ae275124f48a2cb883b8100731e": {
     "model_module": "@jupyter-widgets/base",
     "model_module_version": "1.2.0",
     "model_name": "LayoutModel",
     "state": {
      "_model_module": "@jupyter-widgets/base",
      "_model_module_version": "1.2.0",
      "_model_name": "LayoutModel",
      "_view_count": null,
      "_view_module": "@jupyter-widgets/base",
      "_view_module_version": "1.2.0",
      "_view_name": "LayoutView",
      "align_content": null,
      "align_items": null,
      "align_self": null,
      "border": null,
      "bottom": null,
      "display": null,
      "flex": null,
      "flex_flow": null,
      "grid_area": null,
      "grid_auto_columns": null,
      "grid_auto_flow": null,
      "grid_auto_rows": null,
      "grid_column": null,
      "grid_gap": null,
      "grid_row": null,
      "grid_template_areas": null,
      "grid_template_columns": null,
      "grid_template_rows": null,
      "height": null,
      "justify_content": null,
      "justify_items": null,
      "left": null,
      "margin": null,
      "max_height": null,
      "max_width": null,
      "min_height": null,
      "min_width": null,
      "object_fit": null,
      "object_position": null,
      "order": null,
      "overflow": null,
      "overflow_x": null,
      "overflow_y": null,
      "padding": null,
      "right": null,
      "top": null,
      "visibility": null,
      "width": null
     }
    },
    "9ba34aea33b84bc0a2324d02398e38e4": {
     "model_module": "@jupyter-widgets/base",
     "model_module_version": "1.2.0",
     "model_name": "LayoutModel",
     "state": {
      "_model_module": "@jupyter-widgets/base",
      "_model_module_version": "1.2.0",
      "_model_name": "LayoutModel",
      "_view_count": null,
      "_view_module": "@jupyter-widgets/base",
      "_view_module_version": "1.2.0",
      "_view_name": "LayoutView",
      "align_content": null,
      "align_items": null,
      "align_self": null,
      "border": null,
      "bottom": null,
      "display": null,
      "flex": null,
      "flex_flow": null,
      "grid_area": null,
      "grid_auto_columns": null,
      "grid_auto_flow": null,
      "grid_auto_rows": null,
      "grid_column": null,
      "grid_gap": null,
      "grid_row": null,
      "grid_template_areas": null,
      "grid_template_columns": null,
      "grid_template_rows": null,
      "height": null,
      "justify_content": null,
      "justify_items": null,
      "left": null,
      "margin": null,
      "max_height": null,
      "max_width": null,
      "min_height": null,
      "min_width": null,
      "object_fit": null,
      "object_position": null,
      "order": null,
      "overflow": null,
      "overflow_x": null,
      "overflow_y": null,
      "padding": null,
      "right": null,
      "top": null,
      "visibility": null,
      "width": null
     }
    },
    "9d3a0d60ebef4812830df4a52981f08d": {
     "model_module": "@jupyter-widgets/base",
     "model_module_version": "1.2.0",
     "model_name": "LayoutModel",
     "state": {
      "_model_module": "@jupyter-widgets/base",
      "_model_module_version": "1.2.0",
      "_model_name": "LayoutModel",
      "_view_count": null,
      "_view_module": "@jupyter-widgets/base",
      "_view_module_version": "1.2.0",
      "_view_name": "LayoutView",
      "align_content": null,
      "align_items": null,
      "align_self": null,
      "border": null,
      "bottom": null,
      "display": null,
      "flex": null,
      "flex_flow": null,
      "grid_area": null,
      "grid_auto_columns": null,
      "grid_auto_flow": null,
      "grid_auto_rows": null,
      "grid_column": null,
      "grid_gap": null,
      "grid_row": null,
      "grid_template_areas": null,
      "grid_template_columns": null,
      "grid_template_rows": null,
      "height": null,
      "justify_content": null,
      "justify_items": null,
      "left": null,
      "margin": null,
      "max_height": null,
      "max_width": null,
      "min_height": null,
      "min_width": null,
      "object_fit": null,
      "object_position": null,
      "order": null,
      "overflow": null,
      "overflow_x": null,
      "overflow_y": null,
      "padding": null,
      "right": null,
      "top": null,
      "visibility": null,
      "width": null
     }
    },
    "a1cd104b8d8741e9ba37bf93e3676e46": {
     "model_module": "@jupyter-widgets/controls",
     "model_module_version": "1.5.0",
     "model_name": "ProgressStyleModel",
     "state": {
      "_model_module": "@jupyter-widgets/controls",
      "_model_module_version": "1.5.0",
      "_model_name": "ProgressStyleModel",
      "_view_count": null,
      "_view_module": "@jupyter-widgets/base",
      "_view_module_version": "1.2.0",
      "_view_name": "StyleView",
      "bar_color": null,
      "description_width": ""
     }
    },
    "a5794478e85d404d8d200dd4b8c8fd62": {
     "model_module": "@jupyter-widgets/controls",
     "model_module_version": "1.5.0",
     "model_name": "FloatProgressModel",
     "state": {
      "_dom_classes": [],
      "_model_module": "@jupyter-widgets/controls",
      "_model_module_version": "1.5.0",
      "_model_name": "FloatProgressModel",
      "_view_count": null,
      "_view_module": "@jupyter-widgets/controls",
      "_view_module_version": "1.5.0",
      "_view_name": "ProgressView",
      "bar_style": "success",
      "description": "",
      "description_tooltip": null,
      "layout": "IPY_MODEL_370622023d764455a3c4bbc11e42e6ab",
      "max": 561753746,
      "min": 0,
      "orientation": "horizontal",
      "style": "IPY_MODEL_a80d21dd47b243f89a7c0bfbd0e76789",
      "value": 561753746
     }
    },
    "a80d21dd47b243f89a7c0bfbd0e76789": {
     "model_module": "@jupyter-widgets/controls",
     "model_module_version": "1.5.0",
     "model_name": "ProgressStyleModel",
     "state": {
      "_model_module": "@jupyter-widgets/controls",
      "_model_module_version": "1.5.0",
      "_model_name": "ProgressStyleModel",
      "_view_count": null,
      "_view_module": "@jupyter-widgets/base",
      "_view_module_version": "1.2.0",
      "_view_name": "StyleView",
      "bar_color": null,
      "description_width": ""
     }
    },
    "b090ac4866ba4891ad9990b56bab62dd": {
     "model_module": "@jupyter-widgets/base",
     "model_module_version": "1.2.0",
     "model_name": "LayoutModel",
     "state": {
      "_model_module": "@jupyter-widgets/base",
      "_model_module_version": "1.2.0",
      "_model_name": "LayoutModel",
      "_view_count": null,
      "_view_module": "@jupyter-widgets/base",
      "_view_module_version": "1.2.0",
      "_view_name": "LayoutView",
      "align_content": null,
      "align_items": null,
      "align_self": null,
      "border": null,
      "bottom": null,
      "display": null,
      "flex": null,
      "flex_flow": null,
      "grid_area": null,
      "grid_auto_columns": null,
      "grid_auto_flow": null,
      "grid_auto_rows": null,
      "grid_column": null,
      "grid_gap": null,
      "grid_row": null,
      "grid_template_areas": null,
      "grid_template_columns": null,
      "grid_template_rows": null,
      "height": null,
      "justify_content": null,
      "justify_items": null,
      "left": null,
      "margin": null,
      "max_height": null,
      "max_width": null,
      "min_height": null,
      "min_width": null,
      "object_fit": null,
      "object_position": null,
      "order": null,
      "overflow": null,
      "overflow_x": null,
      "overflow_y": null,
      "padding": null,
      "right": null,
      "top": null,
      "visibility": null,
      "width": null
     }
    },
    "b1ade4ca23934bb2813e5080f7899c83": {
     "model_module": "@jupyter-widgets/base",
     "model_module_version": "1.2.0",
     "model_name": "LayoutModel",
     "state": {
      "_model_module": "@jupyter-widgets/base",
      "_model_module_version": "1.2.0",
      "_model_name": "LayoutModel",
      "_view_count": null,
      "_view_module": "@jupyter-widgets/base",
      "_view_module_version": "1.2.0",
      "_view_name": "LayoutView",
      "align_content": null,
      "align_items": null,
      "align_self": null,
      "border": null,
      "bottom": null,
      "display": null,
      "flex": null,
      "flex_flow": null,
      "grid_area": null,
      "grid_auto_columns": null,
      "grid_auto_flow": null,
      "grid_auto_rows": null,
      "grid_column": null,
      "grid_gap": null,
      "grid_row": null,
      "grid_template_areas": null,
      "grid_template_columns": null,
      "grid_template_rows": null,
      "height": null,
      "justify_content": null,
      "justify_items": null,
      "left": null,
      "margin": null,
      "max_height": null,
      "max_width": null,
      "min_height": null,
      "min_width": null,
      "object_fit": null,
      "object_position": null,
      "order": null,
      "overflow": null,
      "overflow_x": null,
      "overflow_y": null,
      "padding": null,
      "right": null,
      "top": null,
      "visibility": null,
      "width": null
     }
    },
    "b6b63d9aa1d04134977007c61482a248": {
     "model_module": "@jupyter-widgets/controls",
     "model_module_version": "1.5.0",
     "model_name": "HBoxModel",
     "state": {
      "_dom_classes": [],
      "_model_module": "@jupyter-widgets/controls",
      "_model_module_version": "1.5.0",
      "_model_name": "HBoxModel",
      "_view_count": null,
      "_view_module": "@jupyter-widgets/controls",
      "_view_module_version": "1.5.0",
      "_view_name": "HBoxView",
      "box_style": "",
      "children": [
       "IPY_MODEL_0d4d70d99e8749a1bbdfd6c52195d7f6",
       "IPY_MODEL_a5794478e85d404d8d200dd4b8c8fd62",
       "IPY_MODEL_4d4c029e14204f529f1974a58031261f"
      ],
      "layout": "IPY_MODEL_98de3ae275124f48a2cb883b8100731e"
     }
    },
    "c86f994844f94b83b07f1c7532a68490": {
     "model_module": "@jupyter-widgets/controls",
     "model_module_version": "1.5.0",
     "model_name": "DescriptionStyleModel",
     "state": {
      "_model_module": "@jupyter-widgets/controls",
      "_model_module_version": "1.5.0",
      "_model_name": "DescriptionStyleModel",
      "_view_count": null,
      "_view_module": "@jupyter-widgets/base",
      "_view_module_version": "1.2.0",
      "_view_name": "StyleView",
      "description_width": ""
     }
    },
    "cb67e83370414830baf17996945d80dd": {
     "model_module": "@jupyter-widgets/controls",
     "model_module_version": "1.5.0",
     "model_name": "HBoxModel",
     "state": {
      "_dom_classes": [],
      "_model_module": "@jupyter-widgets/controls",
      "_model_module_version": "1.5.0",
      "_model_name": "HBoxModel",
      "_view_count": null,
      "_view_module": "@jupyter-widgets/controls",
      "_view_module_version": "1.5.0",
      "_view_name": "HBoxView",
      "box_style": "",
      "children": [
       "IPY_MODEL_d69d5324859c4691a29a67cbd5f757e0",
       "IPY_MODEL_9361739ef84c4d49a44f1e293c8bc295",
       "IPY_MODEL_6fb2396b89b74fce95699f02f5352dd5"
      ],
      "layout": "IPY_MODEL_74282ba86dcf41379018c7ebe2fb8dd0"
     }
    },
    "cc9aa8d19c59466aada25e2a8fce3a2d": {
     "model_module": "@jupyter-widgets/controls",
     "model_module_version": "1.5.0",
     "model_name": "DescriptionStyleModel",
     "state": {
      "_model_module": "@jupyter-widgets/controls",
      "_model_module_version": "1.5.0",
      "_model_name": "DescriptionStyleModel",
      "_view_count": null,
      "_view_module": "@jupyter-widgets/base",
      "_view_module_version": "1.2.0",
      "_view_name": "StyleView",
      "description_width": ""
     }
    },
    "cd8249d012d349efab223ee57df7f217": {
     "model_module": "@jupyter-widgets/base",
     "model_module_version": "1.2.0",
     "model_name": "LayoutModel",
     "state": {
      "_model_module": "@jupyter-widgets/base",
      "_model_module_version": "1.2.0",
      "_model_name": "LayoutModel",
      "_view_count": null,
      "_view_module": "@jupyter-widgets/base",
      "_view_module_version": "1.2.0",
      "_view_name": "LayoutView",
      "align_content": null,
      "align_items": null,
      "align_self": null,
      "border": null,
      "bottom": null,
      "display": null,
      "flex": null,
      "flex_flow": null,
      "grid_area": null,
      "grid_auto_columns": null,
      "grid_auto_flow": null,
      "grid_auto_rows": null,
      "grid_column": null,
      "grid_gap": null,
      "grid_row": null,
      "grid_template_areas": null,
      "grid_template_columns": null,
      "grid_template_rows": null,
      "height": null,
      "justify_content": null,
      "justify_items": null,
      "left": null,
      "margin": null,
      "max_height": null,
      "max_width": null,
      "min_height": null,
      "min_width": null,
      "object_fit": null,
      "object_position": null,
      "order": null,
      "overflow": null,
      "overflow_x": null,
      "overflow_y": null,
      "padding": null,
      "right": null,
      "top": null,
      "visibility": null,
      "width": null
     }
    },
    "d2f1a85f0c104db2ba11f7e95403c93d": {
     "model_module": "@jupyter-widgets/controls",
     "model_module_version": "1.5.0",
     "model_name": "FloatProgressModel",
     "state": {
      "_dom_classes": [],
      "_model_module": "@jupyter-widgets/controls",
      "_model_module_version": "1.5.0",
      "_model_name": "FloatProgressModel",
      "_view_count": null,
      "_view_module": "@jupyter-widgets/controls",
      "_view_module_version": "1.5.0",
      "_view_name": "ProgressView",
      "bar_style": "success",
      "description": "",
      "description_tooltip": null,
      "layout": "IPY_MODEL_9d3a0d60ebef4812830df4a52981f08d",
      "max": 9912422,
      "min": 0,
      "orientation": "horizontal",
      "style": "IPY_MODEL_f6179ea332a44f028e86a89b49947f50",
      "value": 9912422
     }
    },
    "d56d791bf4b74b7a90ccb49063c9ee39": {
     "model_module": "@jupyter-widgets/controls",
     "model_module_version": "1.5.0",
     "model_name": "DescriptionStyleModel",
     "state": {
      "_model_module": "@jupyter-widgets/controls",
      "_model_module_version": "1.5.0",
      "_model_name": "DescriptionStyleModel",
      "_view_count": null,
      "_view_module": "@jupyter-widgets/base",
      "_view_module_version": "1.2.0",
      "_view_name": "StyleView",
      "description_width": ""
     }
    },
    "d69d5324859c4691a29a67cbd5f757e0": {
     "model_module": "@jupyter-widgets/controls",
     "model_module_version": "1.5.0",
     "model_name": "HTMLModel",
     "state": {
      "_dom_classes": [],
      "_model_module": "@jupyter-widgets/controls",
      "_model_module_version": "1.5.0",
      "_model_name": "HTMLModel",
      "_view_count": null,
      "_view_module": "@jupyter-widgets/controls",
      "_view_module_version": "1.5.0",
      "_view_name": "HTMLView",
      "description": "",
      "description_tooltip": null,
      "layout": "IPY_MODEL_6c8acfd1fd9b4893a63da00aabcfd24b",
      "placeholder": "​",
      "style": "IPY_MODEL_58f200ef08b74237a0b7d71e69036a56",
      "value": ""
     }
    },
    "d9088d86d3ba4d6b9e12da44bc94b03b": {
     "model_module": "@jupyter-widgets/controls",
     "model_module_version": "1.5.0",
     "model_name": "ProgressStyleModel",
     "state": {
      "_model_module": "@jupyter-widgets/controls",
      "_model_module_version": "1.5.0",
      "_model_name": "ProgressStyleModel",
      "_view_count": null,
      "_view_module": "@jupyter-widgets/base",
      "_view_module_version": "1.2.0",
      "_view_name": "StyleView",
      "bar_color": null,
      "description_width": ""
     }
    },
    "dea00367b6bb4e91a28c771352a3becf": {
     "model_module": "@jupyter-widgets/controls",
     "model_module_version": "1.5.0",
     "model_name": "DescriptionStyleModel",
     "state": {
      "_model_module": "@jupyter-widgets/controls",
      "_model_module_version": "1.5.0",
      "_model_name": "DescriptionStyleModel",
      "_view_count": null,
      "_view_module": "@jupyter-widgets/base",
      "_view_module_version": "1.2.0",
      "_view_name": "StyleView",
      "description_width": ""
     }
    },
    "e4fbbbae1cd14754bf84e8752ced1d6e": {
     "model_module": "@jupyter-widgets/controls",
     "model_module_version": "1.5.0",
     "model_name": "HTMLModel",
     "state": {
      "_dom_classes": [],
      "_model_module": "@jupyter-widgets/controls",
      "_model_module_version": "1.5.0",
      "_model_name": "HTMLModel",
      "_view_count": null,
      "_view_module": "@jupyter-widgets/controls",
      "_view_module_version": "1.5.0",
      "_view_name": "HTMLView",
      "description": "",
      "description_tooltip": null,
      "layout": "IPY_MODEL_1bd096a21e544edca2e0e8da8c2abd45",
      "placeholder": "​",
      "style": "IPY_MODEL_45a0ebfb3e8e4632ac09fc3f2bbc1aa3",
      "value": ""
     }
    },
    "e7c3edea637a4c66abc540ee2af0fd7d": {
     "model_module": "@jupyter-widgets/base",
     "model_module_version": "1.2.0",
     "model_name": "LayoutModel",
     "state": {
      "_model_module": "@jupyter-widgets/base",
      "_model_module_version": "1.2.0",
      "_model_name": "LayoutModel",
      "_view_count": null,
      "_view_module": "@jupyter-widgets/base",
      "_view_module_version": "1.2.0",
      "_view_name": "LayoutView",
      "align_content": null,
      "align_items": null,
      "align_self": null,
      "border": null,
      "bottom": null,
      "display": null,
      "flex": null,
      "flex_flow": null,
      "grid_area": null,
      "grid_auto_columns": null,
      "grid_auto_flow": null,
      "grid_auto_rows": null,
      "grid_column": null,
      "grid_gap": null,
      "grid_row": null,
      "grid_template_areas": null,
      "grid_template_columns": null,
      "grid_template_rows": null,
      "height": null,
      "justify_content": null,
      "justify_items": null,
      "left": null,
      "margin": null,
      "max_height": null,
      "max_width": null,
      "min_height": null,
      "min_width": null,
      "object_fit": null,
      "object_position": null,
      "order": null,
      "overflow": null,
      "overflow_x": null,
      "overflow_y": null,
      "padding": null,
      "right": null,
      "top": null,
      "visibility": null,
      "width": null
     }
    },
    "ea002092a0d948c4982eb7df6a1073be": {
     "model_module": "@jupyter-widgets/controls",
     "model_module_version": "1.5.0",
     "model_name": "HTMLModel",
     "state": {
      "_dom_classes": [],
      "_model_module": "@jupyter-widgets/controls",
      "_model_module_version": "1.5.0",
      "_model_name": "HTMLModel",
      "_view_count": null,
      "_view_module": "@jupyter-widgets/controls",
      "_view_module_version": "1.5.0",
      "_view_name": "HTMLView",
      "description": "",
      "description_tooltip": null,
      "layout": "IPY_MODEL_b090ac4866ba4891ad9990b56bab62dd",
      "placeholder": "​",
      "style": "IPY_MODEL_c86f994844f94b83b07f1c7532a68490",
      "value": ""
     }
    },
    "f6179ea332a44f028e86a89b49947f50": {
     "model_module": "@jupyter-widgets/controls",
     "model_module_version": "1.5.0",
     "model_name": "ProgressStyleModel",
     "state": {
      "_model_module": "@jupyter-widgets/controls",
      "_model_module_version": "1.5.0",
      "_model_name": "ProgressStyleModel",
      "_view_count": null,
      "_view_module": "@jupyter-widgets/base",
      "_view_module_version": "1.2.0",
      "_view_name": "StyleView",
      "bar_color": null,
      "description_width": ""
     }
    },
    "f737b443bcc24cde9b5a6463c35073c9": {
     "model_module": "@jupyter-widgets/base",
     "model_module_version": "1.2.0",
     "model_name": "LayoutModel",
     "state": {
      "_model_module": "@jupyter-widgets/base",
      "_model_module_version": "1.2.0",
      "_model_name": "LayoutModel",
      "_view_count": null,
      "_view_module": "@jupyter-widgets/base",
      "_view_module_version": "1.2.0",
      "_view_name": "LayoutView",
      "align_content": null,
      "align_items": null,
      "align_self": null,
      "border": null,
      "bottom": null,
      "display": null,
      "flex": null,
      "flex_flow": null,
      "grid_area": null,
      "grid_auto_columns": null,
      "grid_auto_flow": null,
      "grid_auto_rows": null,
      "grid_column": null,
      "grid_gap": null,
      "grid_row": null,
      "grid_template_areas": null,
      "grid_template_columns": null,
      "grid_template_rows": null,
      "height": null,
      "justify_content": null,
      "justify_items": null,
      "left": null,
      "margin": null,
      "max_height": null,
      "max_width": null,
      "min_height": null,
      "min_width": null,
      "object_fit": null,
      "object_position": null,
      "order": null,
      "overflow": null,
      "overflow_x": null,
      "overflow_y": null,
      "padding": null,
      "right": null,
      "top": null,
      "visibility": null,
      "width": null
     }
    },
    "fc34e3d01d324d6a82b41ded2d26804b": {
     "model_module": "@jupyter-widgets/controls",
     "model_module_version": "1.5.0",
     "model_name": "FloatProgressModel",
     "state": {
      "_dom_classes": [],
      "_model_module": "@jupyter-widgets/controls",
      "_model_module_version": "1.5.0",
      "_model_name": "FloatProgressModel",
      "_view_count": null,
      "_view_module": "@jupyter-widgets/controls",
      "_view_module_version": "1.5.0",
      "_view_name": "ProgressView",
      "bar_style": "success",
      "description": "",
      "description_tooltip": null,
      "layout": "IPY_MODEL_cd8249d012d349efab223ee57df7f217",
      "max": 4542,
      "min": 0,
      "orientation": "horizontal",
      "style": "IPY_MODEL_a1cd104b8d8741e9ba37bf93e3676e46",
      "value": 4542
     }
    }
   }
  }
 },
 "nbformat": 4,
 "nbformat_minor": 5
}
