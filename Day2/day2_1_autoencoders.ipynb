{
  "nbformat": 4,
  "nbformat_minor": 5,
  "metadata": {
    "kernelspec": {
      "display_name": "Python 3",
      "language": "python",
      "name": "python3"
    },
    "language_info": {
      "codemirror_mode": {
        "name": "ipython",
        "version": 3
      },
      "file_extension": ".py",
      "mimetype": "text/x-python",
      "name": "python",
      "nbconvert_exporter": "python",
      "pygments_lexer": "ipython3",
      "version": "3.7.3"
    },
    "colab": {
      "name": "day2_1_autoencoders.ipynb",
      "provenance": [],
      "collapsed_sections": [
        "dominant-newsletter",
        "damaged-fifty"
      ]
    },
    "widgets": {
      "application/vnd.jupyter.widget-state+json": {
        "1bddb571681c437c94a31e7c13776075": {
          "model_module": "@jupyter-widgets/controls",
          "model_name": "HBoxModel",
          "model_module_version": "1.5.0",
          "state": {
            "_view_name": "HBoxView",
            "_dom_classes": [],
            "_model_name": "HBoxModel",
            "_view_module": "@jupyter-widgets/controls",
            "_model_module_version": "1.5.0",
            "_view_count": null,
            "_view_module_version": "1.5.0",
            "box_style": "",
            "layout": "IPY_MODEL_b68572bbd82a4d2fb488ab4aa13d13a4",
            "_model_module": "@jupyter-widgets/controls",
            "children": [
              "IPY_MODEL_b1d4aa3d7caf4e8eb8dbf318556f2ad7",
              "IPY_MODEL_adb826286a2b46db9faef6657d96bd4f",
              "IPY_MODEL_5e009abd0fb4466896ad8a8156aa39a0"
            ]
          }
        },
        "b68572bbd82a4d2fb488ab4aa13d13a4": {
          "model_module": "@jupyter-widgets/base",
          "model_name": "LayoutModel",
          "model_module_version": "1.2.0",
          "state": {
            "_view_name": "LayoutView",
            "grid_template_rows": null,
            "right": null,
            "justify_content": null,
            "_view_module": "@jupyter-widgets/base",
            "overflow": null,
            "_model_module_version": "1.2.0",
            "_view_count": null,
            "flex_flow": null,
            "width": null,
            "min_width": null,
            "border": null,
            "align_items": null,
            "bottom": null,
            "_model_module": "@jupyter-widgets/base",
            "top": null,
            "grid_column": null,
            "overflow_y": null,
            "overflow_x": null,
            "grid_auto_flow": null,
            "grid_area": null,
            "grid_template_columns": null,
            "flex": null,
            "_model_name": "LayoutModel",
            "justify_items": null,
            "grid_row": null,
            "max_height": null,
            "align_content": null,
            "visibility": null,
            "align_self": null,
            "height": null,
            "min_height": null,
            "padding": null,
            "grid_auto_rows": null,
            "grid_gap": null,
            "max_width": null,
            "order": null,
            "_view_module_version": "1.2.0",
            "grid_template_areas": null,
            "object_position": null,
            "object_fit": null,
            "grid_auto_columns": null,
            "margin": null,
            "display": null,
            "left": null
          }
        },
        "b1d4aa3d7caf4e8eb8dbf318556f2ad7": {
          "model_module": "@jupyter-widgets/controls",
          "model_name": "HTMLModel",
          "model_module_version": "1.5.0",
          "state": {
            "_view_name": "HTMLView",
            "style": "IPY_MODEL_587d0710f3c64f979f1bebb6b243bd2f",
            "_dom_classes": [],
            "description": "",
            "_model_name": "HTMLModel",
            "placeholder": "​",
            "_view_module": "@jupyter-widgets/controls",
            "_model_module_version": "1.5.0",
            "value": "",
            "_view_count": null,
            "_view_module_version": "1.5.0",
            "description_tooltip": null,
            "_model_module": "@jupyter-widgets/controls",
            "layout": "IPY_MODEL_a7702a6578d0492e9a459e6a2f6f7072"
          }
        },
        "adb826286a2b46db9faef6657d96bd4f": {
          "model_module": "@jupyter-widgets/controls",
          "model_name": "FloatProgressModel",
          "model_module_version": "1.5.0",
          "state": {
            "_view_name": "ProgressView",
            "style": "IPY_MODEL_f4dde53357c94e358037f42bbf506d4c",
            "_dom_classes": [],
            "description": "",
            "_model_name": "FloatProgressModel",
            "bar_style": "success",
            "max": 9912422,
            "_view_module": "@jupyter-widgets/controls",
            "_model_module_version": "1.5.0",
            "value": 9912422,
            "_view_count": null,
            "_view_module_version": "1.5.0",
            "orientation": "horizontal",
            "min": 0,
            "description_tooltip": null,
            "_model_module": "@jupyter-widgets/controls",
            "layout": "IPY_MODEL_5bcecaa919454327bac0fcebf8128ac7"
          }
        },
        "5e009abd0fb4466896ad8a8156aa39a0": {
          "model_module": "@jupyter-widgets/controls",
          "model_name": "HTMLModel",
          "model_module_version": "1.5.0",
          "state": {
            "_view_name": "HTMLView",
            "style": "IPY_MODEL_818da4fb38764464a0fc986ad3208d42",
            "_dom_classes": [],
            "description": "",
            "_model_name": "HTMLModel",
            "placeholder": "​",
            "_view_module": "@jupyter-widgets/controls",
            "_model_module_version": "1.5.0",
            "value": " 9913344/? [00:00&lt;00:00, 20569090.56it/s]",
            "_view_count": null,
            "_view_module_version": "1.5.0",
            "description_tooltip": null,
            "_model_module": "@jupyter-widgets/controls",
            "layout": "IPY_MODEL_7188beadacfd428c8d7a965c2d448280"
          }
        },
        "587d0710f3c64f979f1bebb6b243bd2f": {
          "model_module": "@jupyter-widgets/controls",
          "model_name": "DescriptionStyleModel",
          "model_module_version": "1.5.0",
          "state": {
            "_view_name": "StyleView",
            "_model_name": "DescriptionStyleModel",
            "description_width": "",
            "_view_module": "@jupyter-widgets/base",
            "_model_module_version": "1.5.0",
            "_view_count": null,
            "_view_module_version": "1.2.0",
            "_model_module": "@jupyter-widgets/controls"
          }
        },
        "a7702a6578d0492e9a459e6a2f6f7072": {
          "model_module": "@jupyter-widgets/base",
          "model_name": "LayoutModel",
          "model_module_version": "1.2.0",
          "state": {
            "_view_name": "LayoutView",
            "grid_template_rows": null,
            "right": null,
            "justify_content": null,
            "_view_module": "@jupyter-widgets/base",
            "overflow": null,
            "_model_module_version": "1.2.0",
            "_view_count": null,
            "flex_flow": null,
            "width": null,
            "min_width": null,
            "border": null,
            "align_items": null,
            "bottom": null,
            "_model_module": "@jupyter-widgets/base",
            "top": null,
            "grid_column": null,
            "overflow_y": null,
            "overflow_x": null,
            "grid_auto_flow": null,
            "grid_area": null,
            "grid_template_columns": null,
            "flex": null,
            "_model_name": "LayoutModel",
            "justify_items": null,
            "grid_row": null,
            "max_height": null,
            "align_content": null,
            "visibility": null,
            "align_self": null,
            "height": null,
            "min_height": null,
            "padding": null,
            "grid_auto_rows": null,
            "grid_gap": null,
            "max_width": null,
            "order": null,
            "_view_module_version": "1.2.0",
            "grid_template_areas": null,
            "object_position": null,
            "object_fit": null,
            "grid_auto_columns": null,
            "margin": null,
            "display": null,
            "left": null
          }
        },
        "f4dde53357c94e358037f42bbf506d4c": {
          "model_module": "@jupyter-widgets/controls",
          "model_name": "ProgressStyleModel",
          "model_module_version": "1.5.0",
          "state": {
            "_view_name": "StyleView",
            "_model_name": "ProgressStyleModel",
            "description_width": "",
            "_view_module": "@jupyter-widgets/base",
            "_model_module_version": "1.5.0",
            "_view_count": null,
            "_view_module_version": "1.2.0",
            "bar_color": null,
            "_model_module": "@jupyter-widgets/controls"
          }
        },
        "5bcecaa919454327bac0fcebf8128ac7": {
          "model_module": "@jupyter-widgets/base",
          "model_name": "LayoutModel",
          "model_module_version": "1.2.0",
          "state": {
            "_view_name": "LayoutView",
            "grid_template_rows": null,
            "right": null,
            "justify_content": null,
            "_view_module": "@jupyter-widgets/base",
            "overflow": null,
            "_model_module_version": "1.2.0",
            "_view_count": null,
            "flex_flow": null,
            "width": null,
            "min_width": null,
            "border": null,
            "align_items": null,
            "bottom": null,
            "_model_module": "@jupyter-widgets/base",
            "top": null,
            "grid_column": null,
            "overflow_y": null,
            "overflow_x": null,
            "grid_auto_flow": null,
            "grid_area": null,
            "grid_template_columns": null,
            "flex": null,
            "_model_name": "LayoutModel",
            "justify_items": null,
            "grid_row": null,
            "max_height": null,
            "align_content": null,
            "visibility": null,
            "align_self": null,
            "height": null,
            "min_height": null,
            "padding": null,
            "grid_auto_rows": null,
            "grid_gap": null,
            "max_width": null,
            "order": null,
            "_view_module_version": "1.2.0",
            "grid_template_areas": null,
            "object_position": null,
            "object_fit": null,
            "grid_auto_columns": null,
            "margin": null,
            "display": null,
            "left": null
          }
        },
        "818da4fb38764464a0fc986ad3208d42": {
          "model_module": "@jupyter-widgets/controls",
          "model_name": "DescriptionStyleModel",
          "model_module_version": "1.5.0",
          "state": {
            "_view_name": "StyleView",
            "_model_name": "DescriptionStyleModel",
            "description_width": "",
            "_view_module": "@jupyter-widgets/base",
            "_model_module_version": "1.5.0",
            "_view_count": null,
            "_view_module_version": "1.2.0",
            "_model_module": "@jupyter-widgets/controls"
          }
        },
        "7188beadacfd428c8d7a965c2d448280": {
          "model_module": "@jupyter-widgets/base",
          "model_name": "LayoutModel",
          "model_module_version": "1.2.0",
          "state": {
            "_view_name": "LayoutView",
            "grid_template_rows": null,
            "right": null,
            "justify_content": null,
            "_view_module": "@jupyter-widgets/base",
            "overflow": null,
            "_model_module_version": "1.2.0",
            "_view_count": null,
            "flex_flow": null,
            "width": null,
            "min_width": null,
            "border": null,
            "align_items": null,
            "bottom": null,
            "_model_module": "@jupyter-widgets/base",
            "top": null,
            "grid_column": null,
            "overflow_y": null,
            "overflow_x": null,
            "grid_auto_flow": null,
            "grid_area": null,
            "grid_template_columns": null,
            "flex": null,
            "_model_name": "LayoutModel",
            "justify_items": null,
            "grid_row": null,
            "max_height": null,
            "align_content": null,
            "visibility": null,
            "align_self": null,
            "height": null,
            "min_height": null,
            "padding": null,
            "grid_auto_rows": null,
            "grid_gap": null,
            "max_width": null,
            "order": null,
            "_view_module_version": "1.2.0",
            "grid_template_areas": null,
            "object_position": null,
            "object_fit": null,
            "grid_auto_columns": null,
            "margin": null,
            "display": null,
            "left": null
          }
        },
        "334b010595f44af5959bae3809c6653c": {
          "model_module": "@jupyter-widgets/controls",
          "model_name": "HBoxModel",
          "model_module_version": "1.5.0",
          "state": {
            "_view_name": "HBoxView",
            "_dom_classes": [],
            "_model_name": "HBoxModel",
            "_view_module": "@jupyter-widgets/controls",
            "_model_module_version": "1.5.0",
            "_view_count": null,
            "_view_module_version": "1.5.0",
            "box_style": "",
            "layout": "IPY_MODEL_c143c39e64974c0db3edd518df824623",
            "_model_module": "@jupyter-widgets/controls",
            "children": [
              "IPY_MODEL_7c9836d5e3374d0ea92bde1e5fbd88f3",
              "IPY_MODEL_05f24e9575c0473682f86c47e7d9f9db",
              "IPY_MODEL_f0284ed8a9cc4a60b3b6a4bc753c0489"
            ]
          }
        },
        "c143c39e64974c0db3edd518df824623": {
          "model_module": "@jupyter-widgets/base",
          "model_name": "LayoutModel",
          "model_module_version": "1.2.0",
          "state": {
            "_view_name": "LayoutView",
            "grid_template_rows": null,
            "right": null,
            "justify_content": null,
            "_view_module": "@jupyter-widgets/base",
            "overflow": null,
            "_model_module_version": "1.2.0",
            "_view_count": null,
            "flex_flow": null,
            "width": null,
            "min_width": null,
            "border": null,
            "align_items": null,
            "bottom": null,
            "_model_module": "@jupyter-widgets/base",
            "top": null,
            "grid_column": null,
            "overflow_y": null,
            "overflow_x": null,
            "grid_auto_flow": null,
            "grid_area": null,
            "grid_template_columns": null,
            "flex": null,
            "_model_name": "LayoutModel",
            "justify_items": null,
            "grid_row": null,
            "max_height": null,
            "align_content": null,
            "visibility": null,
            "align_self": null,
            "height": null,
            "min_height": null,
            "padding": null,
            "grid_auto_rows": null,
            "grid_gap": null,
            "max_width": null,
            "order": null,
            "_view_module_version": "1.2.0",
            "grid_template_areas": null,
            "object_position": null,
            "object_fit": null,
            "grid_auto_columns": null,
            "margin": null,
            "display": null,
            "left": null
          }
        },
        "7c9836d5e3374d0ea92bde1e5fbd88f3": {
          "model_module": "@jupyter-widgets/controls",
          "model_name": "HTMLModel",
          "model_module_version": "1.5.0",
          "state": {
            "_view_name": "HTMLView",
            "style": "IPY_MODEL_23de1550c4134d03a48c9568a2523fb8",
            "_dom_classes": [],
            "description": "",
            "_model_name": "HTMLModel",
            "placeholder": "​",
            "_view_module": "@jupyter-widgets/controls",
            "_model_module_version": "1.5.0",
            "value": "",
            "_view_count": null,
            "_view_module_version": "1.5.0",
            "description_tooltip": null,
            "_model_module": "@jupyter-widgets/controls",
            "layout": "IPY_MODEL_ecf1d418dfc54db788200f3640aef5e0"
          }
        },
        "05f24e9575c0473682f86c47e7d9f9db": {
          "model_module": "@jupyter-widgets/controls",
          "model_name": "FloatProgressModel",
          "model_module_version": "1.5.0",
          "state": {
            "_view_name": "ProgressView",
            "style": "IPY_MODEL_9b63e8c199964997a72439dfb52deefa",
            "_dom_classes": [],
            "description": "",
            "_model_name": "FloatProgressModel",
            "bar_style": "success",
            "max": 28881,
            "_view_module": "@jupyter-widgets/controls",
            "_model_module_version": "1.5.0",
            "value": 28881,
            "_view_count": null,
            "_view_module_version": "1.5.0",
            "orientation": "horizontal",
            "min": 0,
            "description_tooltip": null,
            "_model_module": "@jupyter-widgets/controls",
            "layout": "IPY_MODEL_104276120b04485895eab8bc14c13059"
          }
        },
        "f0284ed8a9cc4a60b3b6a4bc753c0489": {
          "model_module": "@jupyter-widgets/controls",
          "model_name": "HTMLModel",
          "model_module_version": "1.5.0",
          "state": {
            "_view_name": "HTMLView",
            "style": "IPY_MODEL_cbd11a672cd643e59201bc7afb52e6e3",
            "_dom_classes": [],
            "description": "",
            "_model_name": "HTMLModel",
            "placeholder": "​",
            "_view_module": "@jupyter-widgets/controls",
            "_model_module_version": "1.5.0",
            "value": " 29696/? [00:00&lt;00:00, 602881.21it/s]",
            "_view_count": null,
            "_view_module_version": "1.5.0",
            "description_tooltip": null,
            "_model_module": "@jupyter-widgets/controls",
            "layout": "IPY_MODEL_57da037e9fbb4e009a019179979ac535"
          }
        },
        "23de1550c4134d03a48c9568a2523fb8": {
          "model_module": "@jupyter-widgets/controls",
          "model_name": "DescriptionStyleModel",
          "model_module_version": "1.5.0",
          "state": {
            "_view_name": "StyleView",
            "_model_name": "DescriptionStyleModel",
            "description_width": "",
            "_view_module": "@jupyter-widgets/base",
            "_model_module_version": "1.5.0",
            "_view_count": null,
            "_view_module_version": "1.2.0",
            "_model_module": "@jupyter-widgets/controls"
          }
        },
        "ecf1d418dfc54db788200f3640aef5e0": {
          "model_module": "@jupyter-widgets/base",
          "model_name": "LayoutModel",
          "model_module_version": "1.2.0",
          "state": {
            "_view_name": "LayoutView",
            "grid_template_rows": null,
            "right": null,
            "justify_content": null,
            "_view_module": "@jupyter-widgets/base",
            "overflow": null,
            "_model_module_version": "1.2.0",
            "_view_count": null,
            "flex_flow": null,
            "width": null,
            "min_width": null,
            "border": null,
            "align_items": null,
            "bottom": null,
            "_model_module": "@jupyter-widgets/base",
            "top": null,
            "grid_column": null,
            "overflow_y": null,
            "overflow_x": null,
            "grid_auto_flow": null,
            "grid_area": null,
            "grid_template_columns": null,
            "flex": null,
            "_model_name": "LayoutModel",
            "justify_items": null,
            "grid_row": null,
            "max_height": null,
            "align_content": null,
            "visibility": null,
            "align_self": null,
            "height": null,
            "min_height": null,
            "padding": null,
            "grid_auto_rows": null,
            "grid_gap": null,
            "max_width": null,
            "order": null,
            "_view_module_version": "1.2.0",
            "grid_template_areas": null,
            "object_position": null,
            "object_fit": null,
            "grid_auto_columns": null,
            "margin": null,
            "display": null,
            "left": null
          }
        },
        "9b63e8c199964997a72439dfb52deefa": {
          "model_module": "@jupyter-widgets/controls",
          "model_name": "ProgressStyleModel",
          "model_module_version": "1.5.0",
          "state": {
            "_view_name": "StyleView",
            "_model_name": "ProgressStyleModel",
            "description_width": "",
            "_view_module": "@jupyter-widgets/base",
            "_model_module_version": "1.5.0",
            "_view_count": null,
            "_view_module_version": "1.2.0",
            "bar_color": null,
            "_model_module": "@jupyter-widgets/controls"
          }
        },
        "104276120b04485895eab8bc14c13059": {
          "model_module": "@jupyter-widgets/base",
          "model_name": "LayoutModel",
          "model_module_version": "1.2.0",
          "state": {
            "_view_name": "LayoutView",
            "grid_template_rows": null,
            "right": null,
            "justify_content": null,
            "_view_module": "@jupyter-widgets/base",
            "overflow": null,
            "_model_module_version": "1.2.0",
            "_view_count": null,
            "flex_flow": null,
            "width": null,
            "min_width": null,
            "border": null,
            "align_items": null,
            "bottom": null,
            "_model_module": "@jupyter-widgets/base",
            "top": null,
            "grid_column": null,
            "overflow_y": null,
            "overflow_x": null,
            "grid_auto_flow": null,
            "grid_area": null,
            "grid_template_columns": null,
            "flex": null,
            "_model_name": "LayoutModel",
            "justify_items": null,
            "grid_row": null,
            "max_height": null,
            "align_content": null,
            "visibility": null,
            "align_self": null,
            "height": null,
            "min_height": null,
            "padding": null,
            "grid_auto_rows": null,
            "grid_gap": null,
            "max_width": null,
            "order": null,
            "_view_module_version": "1.2.0",
            "grid_template_areas": null,
            "object_position": null,
            "object_fit": null,
            "grid_auto_columns": null,
            "margin": null,
            "display": null,
            "left": null
          }
        },
        "cbd11a672cd643e59201bc7afb52e6e3": {
          "model_module": "@jupyter-widgets/controls",
          "model_name": "DescriptionStyleModel",
          "model_module_version": "1.5.0",
          "state": {
            "_view_name": "StyleView",
            "_model_name": "DescriptionStyleModel",
            "description_width": "",
            "_view_module": "@jupyter-widgets/base",
            "_model_module_version": "1.5.0",
            "_view_count": null,
            "_view_module_version": "1.2.0",
            "_model_module": "@jupyter-widgets/controls"
          }
        },
        "57da037e9fbb4e009a019179979ac535": {
          "model_module": "@jupyter-widgets/base",
          "model_name": "LayoutModel",
          "model_module_version": "1.2.0",
          "state": {
            "_view_name": "LayoutView",
            "grid_template_rows": null,
            "right": null,
            "justify_content": null,
            "_view_module": "@jupyter-widgets/base",
            "overflow": null,
            "_model_module_version": "1.2.0",
            "_view_count": null,
            "flex_flow": null,
            "width": null,
            "min_width": null,
            "border": null,
            "align_items": null,
            "bottom": null,
            "_model_module": "@jupyter-widgets/base",
            "top": null,
            "grid_column": null,
            "overflow_y": null,
            "overflow_x": null,
            "grid_auto_flow": null,
            "grid_area": null,
            "grid_template_columns": null,
            "flex": null,
            "_model_name": "LayoutModel",
            "justify_items": null,
            "grid_row": null,
            "max_height": null,
            "align_content": null,
            "visibility": null,
            "align_self": null,
            "height": null,
            "min_height": null,
            "padding": null,
            "grid_auto_rows": null,
            "grid_gap": null,
            "max_width": null,
            "order": null,
            "_view_module_version": "1.2.0",
            "grid_template_areas": null,
            "object_position": null,
            "object_fit": null,
            "grid_auto_columns": null,
            "margin": null,
            "display": null,
            "left": null
          }
        },
        "6cd90e5e0ce843ca8789a38d2e5b609b": {
          "model_module": "@jupyter-widgets/controls",
          "model_name": "HBoxModel",
          "model_module_version": "1.5.0",
          "state": {
            "_view_name": "HBoxView",
            "_dom_classes": [],
            "_model_name": "HBoxModel",
            "_view_module": "@jupyter-widgets/controls",
            "_model_module_version": "1.5.0",
            "_view_count": null,
            "_view_module_version": "1.5.0",
            "box_style": "",
            "layout": "IPY_MODEL_9b4c0d9e34eb47a9a019bfc36a617334",
            "_model_module": "@jupyter-widgets/controls",
            "children": [
              "IPY_MODEL_49a731065b6d4bb88198f85c72c23f59",
              "IPY_MODEL_4d23d7100ac945d0ad7ce2d362753f75",
              "IPY_MODEL_70a7a28b4059498bb61586f3a9413e7b"
            ]
          }
        },
        "9b4c0d9e34eb47a9a019bfc36a617334": {
          "model_module": "@jupyter-widgets/base",
          "model_name": "LayoutModel",
          "model_module_version": "1.2.0",
          "state": {
            "_view_name": "LayoutView",
            "grid_template_rows": null,
            "right": null,
            "justify_content": null,
            "_view_module": "@jupyter-widgets/base",
            "overflow": null,
            "_model_module_version": "1.2.0",
            "_view_count": null,
            "flex_flow": null,
            "width": null,
            "min_width": null,
            "border": null,
            "align_items": null,
            "bottom": null,
            "_model_module": "@jupyter-widgets/base",
            "top": null,
            "grid_column": null,
            "overflow_y": null,
            "overflow_x": null,
            "grid_auto_flow": null,
            "grid_area": null,
            "grid_template_columns": null,
            "flex": null,
            "_model_name": "LayoutModel",
            "justify_items": null,
            "grid_row": null,
            "max_height": null,
            "align_content": null,
            "visibility": null,
            "align_self": null,
            "height": null,
            "min_height": null,
            "padding": null,
            "grid_auto_rows": null,
            "grid_gap": null,
            "max_width": null,
            "order": null,
            "_view_module_version": "1.2.0",
            "grid_template_areas": null,
            "object_position": null,
            "object_fit": null,
            "grid_auto_columns": null,
            "margin": null,
            "display": null,
            "left": null
          }
        },
        "49a731065b6d4bb88198f85c72c23f59": {
          "model_module": "@jupyter-widgets/controls",
          "model_name": "HTMLModel",
          "model_module_version": "1.5.0",
          "state": {
            "_view_name": "HTMLView",
            "style": "IPY_MODEL_6f3ebe0a14a64f86853390198dfbd601",
            "_dom_classes": [],
            "description": "",
            "_model_name": "HTMLModel",
            "placeholder": "​",
            "_view_module": "@jupyter-widgets/controls",
            "_model_module_version": "1.5.0",
            "value": "",
            "_view_count": null,
            "_view_module_version": "1.5.0",
            "description_tooltip": null,
            "_model_module": "@jupyter-widgets/controls",
            "layout": "IPY_MODEL_2bb992b8c8684d74802e1f3629a41e94"
          }
        },
        "4d23d7100ac945d0ad7ce2d362753f75": {
          "model_module": "@jupyter-widgets/controls",
          "model_name": "FloatProgressModel",
          "model_module_version": "1.5.0",
          "state": {
            "_view_name": "ProgressView",
            "style": "IPY_MODEL_4331700c3ffb4270b8aa76c9b9d74d91",
            "_dom_classes": [],
            "description": "",
            "_model_name": "FloatProgressModel",
            "bar_style": "success",
            "max": 1648877,
            "_view_module": "@jupyter-widgets/controls",
            "_model_module_version": "1.5.0",
            "value": 1648877,
            "_view_count": null,
            "_view_module_version": "1.5.0",
            "orientation": "horizontal",
            "min": 0,
            "description_tooltip": null,
            "_model_module": "@jupyter-widgets/controls",
            "layout": "IPY_MODEL_bf3cd23000954368b33e5e7a3015c6c7"
          }
        },
        "70a7a28b4059498bb61586f3a9413e7b": {
          "model_module": "@jupyter-widgets/controls",
          "model_name": "HTMLModel",
          "model_module_version": "1.5.0",
          "state": {
            "_view_name": "HTMLView",
            "style": "IPY_MODEL_f6c3acc6ca9c4d65a87eed825e9cc783",
            "_dom_classes": [],
            "description": "",
            "_model_name": "HTMLModel",
            "placeholder": "​",
            "_view_module": "@jupyter-widgets/controls",
            "_model_module_version": "1.5.0",
            "value": " 1649664/? [00:00&lt;00:00, 3435161.66it/s]",
            "_view_count": null,
            "_view_module_version": "1.5.0",
            "description_tooltip": null,
            "_model_module": "@jupyter-widgets/controls",
            "layout": "IPY_MODEL_13812f3b1454413fb2827fc803b82ee7"
          }
        },
        "6f3ebe0a14a64f86853390198dfbd601": {
          "model_module": "@jupyter-widgets/controls",
          "model_name": "DescriptionStyleModel",
          "model_module_version": "1.5.0",
          "state": {
            "_view_name": "StyleView",
            "_model_name": "DescriptionStyleModel",
            "description_width": "",
            "_view_module": "@jupyter-widgets/base",
            "_model_module_version": "1.5.0",
            "_view_count": null,
            "_view_module_version": "1.2.0",
            "_model_module": "@jupyter-widgets/controls"
          }
        },
        "2bb992b8c8684d74802e1f3629a41e94": {
          "model_module": "@jupyter-widgets/base",
          "model_name": "LayoutModel",
          "model_module_version": "1.2.0",
          "state": {
            "_view_name": "LayoutView",
            "grid_template_rows": null,
            "right": null,
            "justify_content": null,
            "_view_module": "@jupyter-widgets/base",
            "overflow": null,
            "_model_module_version": "1.2.0",
            "_view_count": null,
            "flex_flow": null,
            "width": null,
            "min_width": null,
            "border": null,
            "align_items": null,
            "bottom": null,
            "_model_module": "@jupyter-widgets/base",
            "top": null,
            "grid_column": null,
            "overflow_y": null,
            "overflow_x": null,
            "grid_auto_flow": null,
            "grid_area": null,
            "grid_template_columns": null,
            "flex": null,
            "_model_name": "LayoutModel",
            "justify_items": null,
            "grid_row": null,
            "max_height": null,
            "align_content": null,
            "visibility": null,
            "align_self": null,
            "height": null,
            "min_height": null,
            "padding": null,
            "grid_auto_rows": null,
            "grid_gap": null,
            "max_width": null,
            "order": null,
            "_view_module_version": "1.2.0",
            "grid_template_areas": null,
            "object_position": null,
            "object_fit": null,
            "grid_auto_columns": null,
            "margin": null,
            "display": null,
            "left": null
          }
        },
        "4331700c3ffb4270b8aa76c9b9d74d91": {
          "model_module": "@jupyter-widgets/controls",
          "model_name": "ProgressStyleModel",
          "model_module_version": "1.5.0",
          "state": {
            "_view_name": "StyleView",
            "_model_name": "ProgressStyleModel",
            "description_width": "",
            "_view_module": "@jupyter-widgets/base",
            "_model_module_version": "1.5.0",
            "_view_count": null,
            "_view_module_version": "1.2.0",
            "bar_color": null,
            "_model_module": "@jupyter-widgets/controls"
          }
        },
        "bf3cd23000954368b33e5e7a3015c6c7": {
          "model_module": "@jupyter-widgets/base",
          "model_name": "LayoutModel",
          "model_module_version": "1.2.0",
          "state": {
            "_view_name": "LayoutView",
            "grid_template_rows": null,
            "right": null,
            "justify_content": null,
            "_view_module": "@jupyter-widgets/base",
            "overflow": null,
            "_model_module_version": "1.2.0",
            "_view_count": null,
            "flex_flow": null,
            "width": null,
            "min_width": null,
            "border": null,
            "align_items": null,
            "bottom": null,
            "_model_module": "@jupyter-widgets/base",
            "top": null,
            "grid_column": null,
            "overflow_y": null,
            "overflow_x": null,
            "grid_auto_flow": null,
            "grid_area": null,
            "grid_template_columns": null,
            "flex": null,
            "_model_name": "LayoutModel",
            "justify_items": null,
            "grid_row": null,
            "max_height": null,
            "align_content": null,
            "visibility": null,
            "align_self": null,
            "height": null,
            "min_height": null,
            "padding": null,
            "grid_auto_rows": null,
            "grid_gap": null,
            "max_width": null,
            "order": null,
            "_view_module_version": "1.2.0",
            "grid_template_areas": null,
            "object_position": null,
            "object_fit": null,
            "grid_auto_columns": null,
            "margin": null,
            "display": null,
            "left": null
          }
        },
        "f6c3acc6ca9c4d65a87eed825e9cc783": {
          "model_module": "@jupyter-widgets/controls",
          "model_name": "DescriptionStyleModel",
          "model_module_version": "1.5.0",
          "state": {
            "_view_name": "StyleView",
            "_model_name": "DescriptionStyleModel",
            "description_width": "",
            "_view_module": "@jupyter-widgets/base",
            "_model_module_version": "1.5.0",
            "_view_count": null,
            "_view_module_version": "1.2.0",
            "_model_module": "@jupyter-widgets/controls"
          }
        },
        "13812f3b1454413fb2827fc803b82ee7": {
          "model_module": "@jupyter-widgets/base",
          "model_name": "LayoutModel",
          "model_module_version": "1.2.0",
          "state": {
            "_view_name": "LayoutView",
            "grid_template_rows": null,
            "right": null,
            "justify_content": null,
            "_view_module": "@jupyter-widgets/base",
            "overflow": null,
            "_model_module_version": "1.2.0",
            "_view_count": null,
            "flex_flow": null,
            "width": null,
            "min_width": null,
            "border": null,
            "align_items": null,
            "bottom": null,
            "_model_module": "@jupyter-widgets/base",
            "top": null,
            "grid_column": null,
            "overflow_y": null,
            "overflow_x": null,
            "grid_auto_flow": null,
            "grid_area": null,
            "grid_template_columns": null,
            "flex": null,
            "_model_name": "LayoutModel",
            "justify_items": null,
            "grid_row": null,
            "max_height": null,
            "align_content": null,
            "visibility": null,
            "align_self": null,
            "height": null,
            "min_height": null,
            "padding": null,
            "grid_auto_rows": null,
            "grid_gap": null,
            "max_width": null,
            "order": null,
            "_view_module_version": "1.2.0",
            "grid_template_areas": null,
            "object_position": null,
            "object_fit": null,
            "grid_auto_columns": null,
            "margin": null,
            "display": null,
            "left": null
          }
        },
        "731c1efca89c4736a9bc154417c8a018": {
          "model_module": "@jupyter-widgets/controls",
          "model_name": "HBoxModel",
          "model_module_version": "1.5.0",
          "state": {
            "_view_name": "HBoxView",
            "_dom_classes": [],
            "_model_name": "HBoxModel",
            "_view_module": "@jupyter-widgets/controls",
            "_model_module_version": "1.5.0",
            "_view_count": null,
            "_view_module_version": "1.5.0",
            "box_style": "",
            "layout": "IPY_MODEL_2caf3044e4ca45aabf862efb5a1d3667",
            "_model_module": "@jupyter-widgets/controls",
            "children": [
              "IPY_MODEL_b98a14f760a6417686e2199e380fb8e6",
              "IPY_MODEL_838d8c33c012403382871aeaa39c819c",
              "IPY_MODEL_c23d84ac96aa4af7ba35fb1b64773ee4"
            ]
          }
        },
        "2caf3044e4ca45aabf862efb5a1d3667": {
          "model_module": "@jupyter-widgets/base",
          "model_name": "LayoutModel",
          "model_module_version": "1.2.0",
          "state": {
            "_view_name": "LayoutView",
            "grid_template_rows": null,
            "right": null,
            "justify_content": null,
            "_view_module": "@jupyter-widgets/base",
            "overflow": null,
            "_model_module_version": "1.2.0",
            "_view_count": null,
            "flex_flow": null,
            "width": null,
            "min_width": null,
            "border": null,
            "align_items": null,
            "bottom": null,
            "_model_module": "@jupyter-widgets/base",
            "top": null,
            "grid_column": null,
            "overflow_y": null,
            "overflow_x": null,
            "grid_auto_flow": null,
            "grid_area": null,
            "grid_template_columns": null,
            "flex": null,
            "_model_name": "LayoutModel",
            "justify_items": null,
            "grid_row": null,
            "max_height": null,
            "align_content": null,
            "visibility": null,
            "align_self": null,
            "height": null,
            "min_height": null,
            "padding": null,
            "grid_auto_rows": null,
            "grid_gap": null,
            "max_width": null,
            "order": null,
            "_view_module_version": "1.2.0",
            "grid_template_areas": null,
            "object_position": null,
            "object_fit": null,
            "grid_auto_columns": null,
            "margin": null,
            "display": null,
            "left": null
          }
        },
        "b98a14f760a6417686e2199e380fb8e6": {
          "model_module": "@jupyter-widgets/controls",
          "model_name": "HTMLModel",
          "model_module_version": "1.5.0",
          "state": {
            "_view_name": "HTMLView",
            "style": "IPY_MODEL_7a6ac157f99747f8bcff77f253545b05",
            "_dom_classes": [],
            "description": "",
            "_model_name": "HTMLModel",
            "placeholder": "​",
            "_view_module": "@jupyter-widgets/controls",
            "_model_module_version": "1.5.0",
            "value": "",
            "_view_count": null,
            "_view_module_version": "1.5.0",
            "description_tooltip": null,
            "_model_module": "@jupyter-widgets/controls",
            "layout": "IPY_MODEL_7353232f257d417e8a0528c77f183d7d"
          }
        },
        "838d8c33c012403382871aeaa39c819c": {
          "model_module": "@jupyter-widgets/controls",
          "model_name": "FloatProgressModel",
          "model_module_version": "1.5.0",
          "state": {
            "_view_name": "ProgressView",
            "style": "IPY_MODEL_4313a7f4d81c4dee9ec1ab7368f2f247",
            "_dom_classes": [],
            "description": "",
            "_model_name": "FloatProgressModel",
            "bar_style": "success",
            "max": 4542,
            "_view_module": "@jupyter-widgets/controls",
            "_model_module_version": "1.5.0",
            "value": 4542,
            "_view_count": null,
            "_view_module_version": "1.5.0",
            "orientation": "horizontal",
            "min": 0,
            "description_tooltip": null,
            "_model_module": "@jupyter-widgets/controls",
            "layout": "IPY_MODEL_137a8cfe8649436da102688c1c6efcb7"
          }
        },
        "c23d84ac96aa4af7ba35fb1b64773ee4": {
          "model_module": "@jupyter-widgets/controls",
          "model_name": "HTMLModel",
          "model_module_version": "1.5.0",
          "state": {
            "_view_name": "HTMLView",
            "style": "IPY_MODEL_256071bfafe64caf81bba41a48401d79",
            "_dom_classes": [],
            "description": "",
            "_model_name": "HTMLModel",
            "placeholder": "​",
            "_view_module": "@jupyter-widgets/controls",
            "_model_module_version": "1.5.0",
            "value": " 5120/? [00:00&lt;00:00, 150746.10it/s]",
            "_view_count": null,
            "_view_module_version": "1.5.0",
            "description_tooltip": null,
            "_model_module": "@jupyter-widgets/controls",
            "layout": "IPY_MODEL_266cc4a6930045f6a7b6062c627c5450"
          }
        },
        "7a6ac157f99747f8bcff77f253545b05": {
          "model_module": "@jupyter-widgets/controls",
          "model_name": "DescriptionStyleModel",
          "model_module_version": "1.5.0",
          "state": {
            "_view_name": "StyleView",
            "_model_name": "DescriptionStyleModel",
            "description_width": "",
            "_view_module": "@jupyter-widgets/base",
            "_model_module_version": "1.5.0",
            "_view_count": null,
            "_view_module_version": "1.2.0",
            "_model_module": "@jupyter-widgets/controls"
          }
        },
        "7353232f257d417e8a0528c77f183d7d": {
          "model_module": "@jupyter-widgets/base",
          "model_name": "LayoutModel",
          "model_module_version": "1.2.0",
          "state": {
            "_view_name": "LayoutView",
            "grid_template_rows": null,
            "right": null,
            "justify_content": null,
            "_view_module": "@jupyter-widgets/base",
            "overflow": null,
            "_model_module_version": "1.2.0",
            "_view_count": null,
            "flex_flow": null,
            "width": null,
            "min_width": null,
            "border": null,
            "align_items": null,
            "bottom": null,
            "_model_module": "@jupyter-widgets/base",
            "top": null,
            "grid_column": null,
            "overflow_y": null,
            "overflow_x": null,
            "grid_auto_flow": null,
            "grid_area": null,
            "grid_template_columns": null,
            "flex": null,
            "_model_name": "LayoutModel",
            "justify_items": null,
            "grid_row": null,
            "max_height": null,
            "align_content": null,
            "visibility": null,
            "align_self": null,
            "height": null,
            "min_height": null,
            "padding": null,
            "grid_auto_rows": null,
            "grid_gap": null,
            "max_width": null,
            "order": null,
            "_view_module_version": "1.2.0",
            "grid_template_areas": null,
            "object_position": null,
            "object_fit": null,
            "grid_auto_columns": null,
            "margin": null,
            "display": null,
            "left": null
          }
        },
        "4313a7f4d81c4dee9ec1ab7368f2f247": {
          "model_module": "@jupyter-widgets/controls",
          "model_name": "ProgressStyleModel",
          "model_module_version": "1.5.0",
          "state": {
            "_view_name": "StyleView",
            "_model_name": "ProgressStyleModel",
            "description_width": "",
            "_view_module": "@jupyter-widgets/base",
            "_model_module_version": "1.5.0",
            "_view_count": null,
            "_view_module_version": "1.2.0",
            "bar_color": null,
            "_model_module": "@jupyter-widgets/controls"
          }
        },
        "137a8cfe8649436da102688c1c6efcb7": {
          "model_module": "@jupyter-widgets/base",
          "model_name": "LayoutModel",
          "model_module_version": "1.2.0",
          "state": {
            "_view_name": "LayoutView",
            "grid_template_rows": null,
            "right": null,
            "justify_content": null,
            "_view_module": "@jupyter-widgets/base",
            "overflow": null,
            "_model_module_version": "1.2.0",
            "_view_count": null,
            "flex_flow": null,
            "width": null,
            "min_width": null,
            "border": null,
            "align_items": null,
            "bottom": null,
            "_model_module": "@jupyter-widgets/base",
            "top": null,
            "grid_column": null,
            "overflow_y": null,
            "overflow_x": null,
            "grid_auto_flow": null,
            "grid_area": null,
            "grid_template_columns": null,
            "flex": null,
            "_model_name": "LayoutModel",
            "justify_items": null,
            "grid_row": null,
            "max_height": null,
            "align_content": null,
            "visibility": null,
            "align_self": null,
            "height": null,
            "min_height": null,
            "padding": null,
            "grid_auto_rows": null,
            "grid_gap": null,
            "max_width": null,
            "order": null,
            "_view_module_version": "1.2.0",
            "grid_template_areas": null,
            "object_position": null,
            "object_fit": null,
            "grid_auto_columns": null,
            "margin": null,
            "display": null,
            "left": null
          }
        },
        "256071bfafe64caf81bba41a48401d79": {
          "model_module": "@jupyter-widgets/controls",
          "model_name": "DescriptionStyleModel",
          "model_module_version": "1.5.0",
          "state": {
            "_view_name": "StyleView",
            "_model_name": "DescriptionStyleModel",
            "description_width": "",
            "_view_module": "@jupyter-widgets/base",
            "_model_module_version": "1.5.0",
            "_view_count": null,
            "_view_module_version": "1.2.0",
            "_model_module": "@jupyter-widgets/controls"
          }
        },
        "266cc4a6930045f6a7b6062c627c5450": {
          "model_module": "@jupyter-widgets/base",
          "model_name": "LayoutModel",
          "model_module_version": "1.2.0",
          "state": {
            "_view_name": "LayoutView",
            "grid_template_rows": null,
            "right": null,
            "justify_content": null,
            "_view_module": "@jupyter-widgets/base",
            "overflow": null,
            "_model_module_version": "1.2.0",
            "_view_count": null,
            "flex_flow": null,
            "width": null,
            "min_width": null,
            "border": null,
            "align_items": null,
            "bottom": null,
            "_model_module": "@jupyter-widgets/base",
            "top": null,
            "grid_column": null,
            "overflow_y": null,
            "overflow_x": null,
            "grid_auto_flow": null,
            "grid_area": null,
            "grid_template_columns": null,
            "flex": null,
            "_model_name": "LayoutModel",
            "justify_items": null,
            "grid_row": null,
            "max_height": null,
            "align_content": null,
            "visibility": null,
            "align_self": null,
            "height": null,
            "min_height": null,
            "padding": null,
            "grid_auto_rows": null,
            "grid_gap": null,
            "max_width": null,
            "order": null,
            "_view_module_version": "1.2.0",
            "grid_template_areas": null,
            "object_position": null,
            "object_fit": null,
            "grid_auto_columns": null,
            "margin": null,
            "display": null,
            "left": null
          }
        }
      }
    },
    "accelerator": "GPU"
  },
  "cells": [
    {
      "cell_type": "markdown",
      "metadata": {
        "id": "aging-prague"
      },
      "source": [
        "# Autoencoders"
      ],
      "id": "aging-prague"
    },
    {
      "cell_type": "markdown",
      "metadata": {
        "id": "apparent-egypt"
      },
      "source": [
        "Type of neural network which typically aims to learn efficient representations (efficient coding) of the data.\n",
        "Usually autoencoders are trained in an unsupervised manner.\n",
        "\n",
        "\n",
        "### Applications\n",
        "1. Anomaly detection\n",
        "2. Dimensionality reduction\n",
        "3. Denoising\n",
        "4. ..."
      ],
      "id": "apparent-egypt"
    },
    {
      "cell_type": "markdown",
      "metadata": {
        "id": "animal-monthly"
      },
      "source": [
        "**Reconstruction**\n",
        "![Autoencoder](https://lilianweng.github.io/lil-log/assets/images/autoencoder-architecture.png)\n",
        "Source: https://lilianweng.github.io/lil-log/2018/08/12/from-autoencoder-to-beta-vae.html"
      ],
      "id": "animal-monthly"
    },
    {
      "cell_type": "markdown",
      "metadata": {
        "id": "hungry-citizen"
      },
      "source": [
        "**Denoising**\n",
        "![denoising](https://miro.medium.com/max/5160/1*SxwRp9i23OM0Up4sEze1QQ@2x.png)\n",
        "Source: https://www.kaggle.com/tarunkr/autoencoder-denoising-image-mnist-cifar10"
      ],
      "id": "hungry-citizen"
    },
    {
      "cell_type": "markdown",
      "metadata": {
        "id": "iEYgAwxiqOOr"
      },
      "source": [
        "Some more examples of autoencoders:\n",
        "- [convolutional](https://medium.com/dataseries/convolutional-autoencoder-in-pytorch-on-mnist-dataset-d65145c132ac)\n",
        "- [time series data](https://curiousily.com/posts/time-series-anomaly-detection-using-lstm-autoencoder-with-pytorch-in-python/)\n",
        "- [tabular data](https://medium.com/@vkansal/credit-card-fraud-detection-using-deep-learning-pytorch-47f680a8c5be) [(code)](https://github.com/vimalkansal/credit_card_fraud_detection/blob/master/project/credit_card_fraud_detection.ipynb)"
      ],
      "id": "iEYgAwxiqOOr"
    },
    {
      "cell_type": "markdown",
      "metadata": {
        "id": "vZK5dtqPGGaY"
      },
      "source": [
        "# Recapitulation"
      ],
      "id": "vZK5dtqPGGaY"
    },
    {
      "cell_type": "markdown",
      "metadata": {
        "id": "o1nshepwG83G"
      },
      "source": [
        "Import base libraries"
      ],
      "id": "o1nshepwG83G"
    },
    {
      "cell_type": "code",
      "metadata": {
        "id": "CwwQ1shPGPJM"
      },
      "source": [
        "import matplotlib.pyplot as plt\n",
        "import numpy as np"
      ],
      "id": "CwwQ1shPGPJM",
      "execution_count": 2,
      "outputs": []
    },
    {
      "cell_type": "markdown",
      "metadata": {
        "id": "iHD8huwGG_ia"
      },
      "source": [
        "Import PyTorch libraries"
      ],
      "id": "iHD8huwGG_ia"
    },
    {
      "cell_type": "code",
      "metadata": {
        "id": "lTl9M1mXGQio"
      },
      "source": [
        "import torch\n",
        "import torchvision"
      ],
      "id": "lTl9M1mXGQio",
      "execution_count": 1,
      "outputs": []
    },
    {
      "cell_type": "code",
      "metadata": {
        "id": "2elS3OXhHVXD"
      },
      "source": [
        "DATASETS_PATH = 'data' # path to directory where data are to be stored"
      ],
      "id": "2elS3OXhHVXD",
      "execution_count": 3,
      "outputs": []
    },
    {
      "cell_type": "code",
      "metadata": {
        "id": "54tTc823Gce3"
      },
      "source": [
        "transform = torchvision.transforms.Compose(\n",
        "    [ torchvision.transforms.ToTensor(), #Converts a PIL Image or numpy.ndarray (H x W x C) in the range [0, 255] to a torch.FloatTensor of shape (C x H x W) in the range [0.0, 1.0]\n",
        "      torchvision.transforms.Normalize((0.1307), (0.3081))])"
      ],
      "id": "54tTc823Gce3",
      "execution_count": 4,
      "outputs": []
    },
    {
      "cell_type": "code",
      "metadata": {
        "colab": {
          "base_uri": "https://localhost:8080/",
          "height": 426,
          "referenced_widgets": [
            "1bddb571681c437c94a31e7c13776075",
            "b68572bbd82a4d2fb488ab4aa13d13a4",
            "b1d4aa3d7caf4e8eb8dbf318556f2ad7",
            "adb826286a2b46db9faef6657d96bd4f",
            "5e009abd0fb4466896ad8a8156aa39a0",
            "587d0710f3c64f979f1bebb6b243bd2f",
            "a7702a6578d0492e9a459e6a2f6f7072",
            "f4dde53357c94e358037f42bbf506d4c",
            "5bcecaa919454327bac0fcebf8128ac7",
            "818da4fb38764464a0fc986ad3208d42",
            "7188beadacfd428c8d7a965c2d448280",
            "334b010595f44af5959bae3809c6653c",
            "c143c39e64974c0db3edd518df824623",
            "7c9836d5e3374d0ea92bde1e5fbd88f3",
            "05f24e9575c0473682f86c47e7d9f9db",
            "f0284ed8a9cc4a60b3b6a4bc753c0489",
            "23de1550c4134d03a48c9568a2523fb8",
            "ecf1d418dfc54db788200f3640aef5e0",
            "9b63e8c199964997a72439dfb52deefa",
            "104276120b04485895eab8bc14c13059",
            "cbd11a672cd643e59201bc7afb52e6e3",
            "57da037e9fbb4e009a019179979ac535",
            "6cd90e5e0ce843ca8789a38d2e5b609b",
            "9b4c0d9e34eb47a9a019bfc36a617334",
            "49a731065b6d4bb88198f85c72c23f59",
            "4d23d7100ac945d0ad7ce2d362753f75",
            "70a7a28b4059498bb61586f3a9413e7b",
            "6f3ebe0a14a64f86853390198dfbd601",
            "2bb992b8c8684d74802e1f3629a41e94",
            "4331700c3ffb4270b8aa76c9b9d74d91",
            "bf3cd23000954368b33e5e7a3015c6c7",
            "f6c3acc6ca9c4d65a87eed825e9cc783",
            "13812f3b1454413fb2827fc803b82ee7",
            "731c1efca89c4736a9bc154417c8a018",
            "2caf3044e4ca45aabf862efb5a1d3667",
            "b98a14f760a6417686e2199e380fb8e6",
            "838d8c33c012403382871aeaa39c819c",
            "c23d84ac96aa4af7ba35fb1b64773ee4",
            "7a6ac157f99747f8bcff77f253545b05",
            "7353232f257d417e8a0528c77f183d7d",
            "4313a7f4d81c4dee9ec1ab7368f2f247",
            "137a8cfe8649436da102688c1c6efcb7",
            "256071bfafe64caf81bba41a48401d79",
            "266cc4a6930045f6a7b6062c627c5450"
          ]
        },
        "id": "riPJ5B1CGeFF",
        "outputId": "94fc665e-8910-4675-eabe-8cbeed98f113"
      },
      "source": [
        "mnist_train = torchvision.datasets.MNIST(root=DATASETS_PATH, train=True, download=True, transform=transform)\n",
        "mnist_test = torchvision.datasets.MNIST(root=DATASETS_PATH, train=False, download=True, transform=transform);"
      ],
      "id": "riPJ5B1CGeFF",
      "execution_count": 5,
      "outputs": [
        {
          "output_type": "stream",
          "name": "stdout",
          "text": [
            "Downloading http://yann.lecun.com/exdb/mnist/train-images-idx3-ubyte.gz\n",
            "Downloading http://yann.lecun.com/exdb/mnist/train-images-idx3-ubyte.gz to data/MNIST/raw/train-images-idx3-ubyte.gz\n"
          ]
        },
        {
          "output_type": "display_data",
          "data": {
            "application/vnd.jupyter.widget-view+json": {
              "model_id": "1bddb571681c437c94a31e7c13776075",
              "version_minor": 0,
              "version_major": 2
            },
            "text/plain": [
              "  0%|          | 0/9912422 [00:00<?, ?it/s]"
            ]
          },
          "metadata": {}
        },
        {
          "output_type": "stream",
          "name": "stdout",
          "text": [
            "Extracting data/MNIST/raw/train-images-idx3-ubyte.gz to data/MNIST/raw\n",
            "\n",
            "Downloading http://yann.lecun.com/exdb/mnist/train-labels-idx1-ubyte.gz\n",
            "Downloading http://yann.lecun.com/exdb/mnist/train-labels-idx1-ubyte.gz to data/MNIST/raw/train-labels-idx1-ubyte.gz\n"
          ]
        },
        {
          "output_type": "display_data",
          "data": {
            "application/vnd.jupyter.widget-view+json": {
              "model_id": "334b010595f44af5959bae3809c6653c",
              "version_minor": 0,
              "version_major": 2
            },
            "text/plain": [
              "  0%|          | 0/28881 [00:00<?, ?it/s]"
            ]
          },
          "metadata": {}
        },
        {
          "output_type": "stream",
          "name": "stdout",
          "text": [
            "Extracting data/MNIST/raw/train-labels-idx1-ubyte.gz to data/MNIST/raw\n",
            "\n",
            "Downloading http://yann.lecun.com/exdb/mnist/t10k-images-idx3-ubyte.gz\n",
            "Downloading http://yann.lecun.com/exdb/mnist/t10k-images-idx3-ubyte.gz to data/MNIST/raw/t10k-images-idx3-ubyte.gz\n"
          ]
        },
        {
          "output_type": "display_data",
          "data": {
            "application/vnd.jupyter.widget-view+json": {
              "model_id": "6cd90e5e0ce843ca8789a38d2e5b609b",
              "version_minor": 0,
              "version_major": 2
            },
            "text/plain": [
              "  0%|          | 0/1648877 [00:00<?, ?it/s]"
            ]
          },
          "metadata": {}
        },
        {
          "output_type": "stream",
          "name": "stdout",
          "text": [
            "Extracting data/MNIST/raw/t10k-images-idx3-ubyte.gz to data/MNIST/raw\n",
            "\n",
            "Downloading http://yann.lecun.com/exdb/mnist/t10k-labels-idx1-ubyte.gz\n",
            "Downloading http://yann.lecun.com/exdb/mnist/t10k-labels-idx1-ubyte.gz to data/MNIST/raw/t10k-labels-idx1-ubyte.gz\n"
          ]
        },
        {
          "output_type": "display_data",
          "data": {
            "application/vnd.jupyter.widget-view+json": {
              "model_id": "731c1efca89c4736a9bc154417c8a018",
              "version_minor": 0,
              "version_major": 2
            },
            "text/plain": [
              "  0%|          | 0/4542 [00:00<?, ?it/s]"
            ]
          },
          "metadata": {}
        },
        {
          "output_type": "stream",
          "name": "stdout",
          "text": [
            "Extracting data/MNIST/raw/t10k-labels-idx1-ubyte.gz to data/MNIST/raw\n",
            "\n"
          ]
        }
      ]
    },
    {
      "cell_type": "code",
      "metadata": {
        "colab": {
          "base_uri": "https://localhost:8080/",
          "height": 298
        },
        "id": "0KmxNNd_GtgJ",
        "outputId": "46dbc822-6ec4-4e1a-b8b6-e891b9f8419e"
      },
      "source": [
        "train_image, train_target = mnist_train[0]    #let us examine the 0-th sample\n",
        "print(type(train_image), train_image.shape)\n",
        "plt.imshow(train_image[0])\n",
        "plt.title(f'target {train_target}');"
      ],
      "id": "0KmxNNd_GtgJ",
      "execution_count": 6,
      "outputs": [
        {
          "output_type": "stream",
          "name": "stdout",
          "text": [
            "<class 'torch.Tensor'> torch.Size([1, 28, 28])\n"
          ]
        },
        {
          "output_type": "display_data",
          "data": {
            "image/png": "[encoded data removed]",
            "text/plain": [
              "<Figure size 432x288 with 1 Axes>"
            ]
          },
          "metadata": {
            "needs_background": "light"
          }
        }
      ]
    },
    {
      "cell_type": "code",
      "metadata": {
        "id": "dOHr88bvGJuH"
      },
      "source": [
        "class MLP(torch.nn.Module):\n",
        "    def __init__(self): # initialize model, called at model = MLP(). In genereal you can pass arguments to initializer, e.g. number or size of hidden layers (not in this example)\n",
        "        super().__init__()\n",
        "        self.mlp = torch.nn.Sequential(   #Sequential is a structure which allows stacking layers one on another in such a way, \n",
        "                                          #that output from a preceding layer serves as input to the next layer \n",
        "            torch.nn.Flatten(),   #change the last three orders in data (with dimensions 1, 28 and 28 respectively) into one order of dimensions (1*28*28)\n",
        "            torch.nn.Linear(1*28*28, 1024),  #which is used as INPUT to the first Linear layer\n",
        "            torch.nn.Sigmoid(),\n",
        "            # torch.nn.Linear(1024, 2048),   #IMPORTANT! Please observe, that the OUTPUT dimension of a preceding layer is always equal to the INPUT dimension of the next layer.\n",
        "            # torch.nn.Sigmoid(),\n",
        "            torch.nn.Linear(1024, 256),\n",
        "            torch.nn.Sigmoid(),            #Sigmoid is a nonlinear function which is used in-between layers\n",
        "            torch.nn.Linear(256, 10),\n",
        "        )\n",
        "    def forward(self, x): # run model, called at out = model(x)\n",
        "        out = self.mlp(x)\n",
        "        return out"
      ],
      "id": "dOHr88bvGJuH",
      "execution_count": 7,
      "outputs": []
    },
    {
      "cell_type": "code",
      "metadata": {
        "id": "KSeSPSuZIds1"
      },
      "source": [
        "batch_size = 256\n",
        "mnist_train_dataloader = torch.utils.data.DataLoader(mnist_train, batch_size=batch_size, shuffle=True)\n",
        "mnist_test_dataloader = torch.utils.data.DataLoader(mnist_test, batch_size=batch_size, shuffle=False)"
      ],
      "id": "KSeSPSuZIds1",
      "execution_count": 8,
      "outputs": []
    },
    {
      "cell_type": "code",
      "metadata": {
        "colab": {
          "base_uri": "https://localhost:8080/"
        },
        "id": "xQvXpi4wIbVV",
        "outputId": "817bb21e-050d-4129-8da9-1fed6f333fe0"
      },
      "source": [
        "net = MLP()\n",
        "optimizer = torch.optim.Adam(net.parameters(), 0.001)   #initial and fixed learning rate of 0.001. We will be using ADAM optimizer throughout the workshop\n",
        "                                                        #different choices are possible, but this is outside the scope of this workshop\n",
        "\n",
        "net.train()    #it notifies the network layers (especially batchnorm or dropout layers, which we don't use in this example) that we are doing traning\n",
        "for epoch in range(5):  #  an epoch is a training run through the whole data set\n",
        "\n",
        "    loss = 0.0\n",
        "    for batch, data in enumerate(mnist_train_dataloader):\n",
        "        batch_inputs, batch_labels = data\n",
        "        #batch_inputs.squeeze(1)     #alternatively if not for a Flatten layer, squeeze() could be used to remove the second order of the tensor, the Channel, which is one-dimensional (this index can be equal to 0 only)\n",
        "        \n",
        "        optimizer.zero_grad()\n",
        "\n",
        "        batch_outputs = net(batch_inputs)   #this line calls the forward(self, x) method of the MLP object. Please note, that the last layer of the MLP is linear \n",
        "                                            #and MLP doesn't apply \n",
        "                                            #the nonlinear activation after the last layer\n",
        "        loss = torch.nn.functional.cross_entropy(batch_outputs, batch_labels, reduction = \"mean\") #instead, nonlinear softmax is applied internally in THIS loss function\n",
        "        if (batch+1) % 50 == 0:\n",
        "          print(\"epoch:\", epoch, \"batch:\", batch+1, \"current batch loss:\", loss.item()) \n",
        "        loss.backward()       #this computes gradients as we have seen in previous workshops\n",
        "        optimizer.step()     #but this line in fact updates our neural network. \n",
        "                                ####You can experiment - comment this line and check, that the loss DOES NOT improve, meaning that the network doesn't update"
      ],
      "id": "xQvXpi4wIbVV",
      "execution_count": 9,
      "outputs": [
        {
          "output_type": "stream",
          "name": "stdout",
          "text": [
            "epoch: 0 batch: 50 current batch loss: 0.5599387288093567\n",
            "epoch: 0 batch: 100 current batch loss: 0.47236254811286926\n",
            "epoch: 0 batch: 150 current batch loss: 0.2601375877857208\n",
            "epoch: 0 batch: 200 current batch loss: 0.2614389955997467\n",
            "epoch: 1 batch: 50 current batch loss: 0.19827869534492493\n",
            "epoch: 1 batch: 100 current batch loss: 0.1217009648680687\n",
            "epoch: 1 batch: 150 current batch loss: 0.23075400292873383\n",
            "epoch: 1 batch: 200 current batch loss: 0.07347504049539566\n",
            "epoch: 2 batch: 50 current batch loss: 0.1745084971189499\n",
            "epoch: 2 batch: 100 current batch loss: 0.10914839059114456\n",
            "epoch: 2 batch: 150 current batch loss: 0.0784570574760437\n",
            "epoch: 2 batch: 200 current batch loss: 0.09012021124362946\n",
            "epoch: 3 batch: 50 current batch loss: 0.03355329483747482\n",
            "epoch: 3 batch: 100 current batch loss: 0.050205864012241364\n",
            "epoch: 3 batch: 150 current batch loss: 0.09747115522623062\n",
            "epoch: 3 batch: 200 current batch loss: 0.062310535460710526\n",
            "epoch: 4 batch: 50 current batch loss: 0.049761127680540085\n",
            "epoch: 4 batch: 100 current batch loss: 0.04474029690027237\n",
            "epoch: 4 batch: 150 current batch loss: 0.07917226850986481\n",
            "epoch: 4 batch: 200 current batch loss: 0.02696404792368412\n"
          ]
        }
      ]
    },
    {
      "cell_type": "markdown",
      "metadata": {
        "id": "V2ko36fuKTa9"
      },
      "source": [
        "# GPU computing"
      ],
      "id": "V2ko36fuKTa9"
    },
    {
      "cell_type": "code",
      "metadata": {
        "colab": {
          "base_uri": "https://localhost:8080/"
        },
        "id": "TtYCxWpfKWbE",
        "outputId": "0a84b279-76cb-448f-ec33-4c3ed6779ca0"
      },
      "source": [
        "t =torch.tensor([1.3, 4.5])\n",
        "print(t)\n",
        "print(t.device)"
      ],
      "id": "TtYCxWpfKWbE",
      "execution_count": 10,
      "outputs": [
        {
          "output_type": "stream",
          "name": "stdout",
          "text": [
            "tensor([1.3000, 4.5000])\n",
            "cpu\n"
          ]
        }
      ]
    },
    {
      "cell_type": "markdown",
      "metadata": {
        "id": "PGF88joXLTkL"
      },
      "source": [
        "check if CUDA (GPU) is available"
      ],
      "id": "PGF88joXLTkL"
    },
    {
      "cell_type": "code",
      "metadata": {
        "colab": {
          "base_uri": "https://localhost:8080/"
        },
        "id": "6FPUUTtKLGHy",
        "outputId": "68067342-19f6-41c5-83ab-203d784308b0"
      },
      "source": [
        "torch.cuda.is_available()"
      ],
      "id": "6FPUUTtKLGHy",
      "execution_count": 11,
      "outputs": [
        {
          "output_type": "execute_result",
          "data": {
            "text/plain": [
              "True"
            ]
          },
          "metadata": {},
          "execution_count": 11
        }
      ]
    },
    {
      "cell_type": "markdown",
      "metadata": {
        "id": "CWIh4zLCLass"
      },
      "source": [
        "In case you get `False` do the following steps:\n",
        "1. In Colab panel: Runtime -> Change runtime type\n",
        "2. Set \"Hardware accelerator\" to \"GPU\", click \"Save\"\n",
        "3. You get new runtime, all variables and imports are cleared - please run cells above (without training)\n",
        "4. check again `torch.cuda.is_available()`\n"
      ],
      "id": "CWIh4zLCLass"
    },
    {
      "cell_type": "markdown",
      "metadata": {
        "id": "iMP4h2l0MGih"
      },
      "source": [
        "You can set device for computation for tensors and torch modules (e.g. models)"
      ],
      "id": "iMP4h2l0MGih"
    },
    {
      "cell_type": "code",
      "metadata": {
        "colab": {
          "base_uri": "https://localhost:8080/"
        },
        "id": "K4zAXs8mMUwG",
        "outputId": "69e1b811-b525-4fd7-8b98-1fc4e7dfeb0a"
      },
      "source": [
        "t =torch.tensor([1.3, 4.5])\n",
        "print(t.dtype, t.device)\n",
        "t_cuda = t.to('cuda'); #equivalent to t.cuda()\n",
        "print(t.dtype, t.device, 'Tensor still on cpu')\n",
        "print(t_cuda.dtype, t_cuda.device, 'Tensor on gpu')"
      ],
      "id": "K4zAXs8mMUwG",
      "execution_count": 14,
      "outputs": [
        {
          "output_type": "stream",
          "name": "stdout",
          "text": [
            "torch.float32 cpu\n",
            "torch.float32 cpu Tensor still on cpu\n",
            "torch.float32 cuda:0 Tensor on gpu\n"
          ]
        }
      ]
    },
    {
      "cell_type": "markdown",
      "metadata": {
        "id": "8gr3XJU4Qa9U"
      },
      "source": [
        "Let's create sample model and input for the model"
      ],
      "id": "8gr3XJU4Qa9U"
    },
    {
      "cell_type": "code",
      "metadata": {
        "id": "th_kTQDJNDdX"
      },
      "source": [
        "model = MLP()\n",
        "model_input = torch.rand(1,1,28,28)"
      ],
      "id": "th_kTQDJNDdX",
      "execution_count": 15,
      "outputs": []
    },
    {
      "cell_type": "markdown",
      "metadata": {
        "id": "CDESBRH5Qhnh"
      },
      "source": [
        "By dafault, all instances are created for cpu calculations"
      ],
      "id": "CDESBRH5Qhnh"
    },
    {
      "cell_type": "code",
      "metadata": {
        "id": "sUdV9zoBNa9A"
      },
      "source": [
        "out = model(model_input)"
      ],
      "id": "sUdV9zoBNa9A",
      "execution_count": 16,
      "outputs": []
    },
    {
      "cell_type": "markdown",
      "metadata": {
        "id": "hT4uaehYQWM7"
      },
      "source": [
        "Model can be transferred to gpu in this way:"
      ],
      "id": "hT4uaehYQWM7"
    },
    {
      "cell_type": "code",
      "metadata": {
        "colab": {
          "base_uri": "https://localhost:8080/"
        },
        "id": "k0FWjWD3QM7d",
        "outputId": "fcd1023b-fabb-45f8-f6d6-4ebf2862248c"
      },
      "source": [
        "model.to('cuda')"
      ],
      "id": "k0FWjWD3QM7d",
      "execution_count": 17,
      "outputs": [
        {
          "output_type": "execute_result",
          "data": {
            "text/plain": [
              "MLP(\n",
              "  (mlp): Sequential(\n",
              "    (0): Flatten(start_dim=1, end_dim=-1)\n",
              "    (1): Linear(in_features=784, out_features=1024, bias=True)\n",
              "    (2): Sigmoid()\n",
              "    (3): Linear(in_features=1024, out_features=256, bias=True)\n",
              "    (4): Sigmoid()\n",
              "    (5): Linear(in_features=256, out_features=10, bias=True)\n",
              "  )\n",
              ")"
            ]
          },
          "metadata": {},
          "execution_count": 17
        }
      ]
    },
    {
      "cell_type": "markdown",
      "metadata": {
        "id": "O7EH0XWwQxEd"
      },
      "source": [
        "Now it will work with 'gpu' input, but fail for 'cpu'"
      ],
      "id": "O7EH0XWwQxEd"
    },
    {
      "cell_type": "code",
      "metadata": {
        "id": "JR5TVGNIQQCH"
      },
      "source": [
        "# this will fail, uncomment to check\n",
        "#out = model(model_input)"
      ],
      "id": "JR5TVGNIQQCH",
      "execution_count": 30,
      "outputs": []
    },
    {
      "cell_type": "code",
      "metadata": {
        "id": "doRK9-ipRCGV"
      },
      "source": [
        "out = model(model_input.to('cuda'))"
      ],
      "id": "doRK9-ipRCGV",
      "execution_count": 19,
      "outputs": []
    },
    {
      "cell_type": "markdown",
      "metadata": {
        "id": "9Xrd-BhsRFqU"
      },
      "source": [
        "The output is also located on gpu"
      ],
      "id": "9Xrd-BhsRFqU"
    },
    {
      "cell_type": "code",
      "metadata": {
        "colab": {
          "base_uri": "https://localhost:8080/"
        },
        "id": "PsTP9oxxRKCm",
        "outputId": "6787c351-c538-40fb-fd09-c4abfcfd1360"
      },
      "source": [
        "print(out.device)"
      ],
      "id": "PsTP9oxxRKCm",
      "execution_count": 20,
      "outputs": [
        {
          "output_type": "stream",
          "name": "stdout",
          "text": [
            "cuda:0\n"
          ]
        }
      ]
    },
    {
      "cell_type": "markdown",
      "metadata": {
        "id": "aeHjxzZRRLEZ"
      },
      "source": [
        "What you will usually do to avoid problems with not compatible device, is setting `device` variable and applying it to models, inputs and any other tensors you are using"
      ],
      "id": "aeHjxzZRRLEZ"
    },
    {
      "cell_type": "code",
      "metadata": {
        "id": "IyrCsdSCRme5",
        "outputId": "746782b0-18a8-491f-bf15-8f46ca99e776",
        "colab": {
          "base_uri": "https://localhost:8080/"
        }
      },
      "source": [
        "device = 'cuda' if torch.cuda.is_available() else 'cpu' # if your machine supports cuda, it wil be used for computation\n",
        "model.to(device)\n",
        "input = torch.rand(2, 28*28)\n",
        "output = model(input.to(device))\n",
        "print('output device:', output.device)"
      ],
      "id": "IyrCsdSCRme5",
      "execution_count": 24,
      "outputs": [
        {
          "output_type": "stream",
          "name": "stdout",
          "text": [
            "output device cuda:0\n"
          ]
        }
      ]
    },
    {
      "cell_type": "markdown",
      "metadata": {
        "id": "Tp70P0VnR--a"
      },
      "source": [
        "If you need convert the output to nupy, there are two more steps:\n",
        "1. `output.detach()` will create the copy of tensor, detached from the current graph\n",
        "2. `output.detach().to('cpu')` or `output.detach().cpu()` will move the tensor to cpu.\n",
        "3. Now the output may be transformed to numpy: `output.detach().cpu().numpy()`"
      ],
      "id": "Tp70P0VnR--a"
    },
    {
      "cell_type": "code",
      "metadata": {
        "id": "iXGYuzl-Ta3f",
        "outputId": "7baa52ab-2dc4-4b53-8efd-493bf7120051",
        "colab": {
          "base_uri": "https://localhost:8080/"
        }
      },
      "source": [
        "numpy_out = output.detach().cpu().numpy()\n",
        "print(type(numpy_out))"
      ],
      "id": "iXGYuzl-Ta3f",
      "execution_count": 28,
      "outputs": [
        {
          "output_type": "stream",
          "name": "stdout",
          "text": [
            "<class 'numpy.ndarray'>\n"
          ]
        }
      ]
    },
    {
      "cell_type": "markdown",
      "metadata": {
        "id": "2UoCqIRMROWe"
      },
      "source": [
        "Caution! PyTorch modules (e.g. models) do not have 'device' attribute. Only tensors have. What is happening under the hood when you set model.to('device') is propagation of device selection to weight tensors"
      ],
      "id": "2UoCqIRMROWe"
    },
    {
      "cell_type": "code",
      "metadata": {
        "id": "F1Jnwi3ARM01"
      },
      "source": [
        "# this will fail, uncomment to check\n",
        "# model.device"
      ],
      "id": "F1Jnwi3ARM01",
      "execution_count": 29,
      "outputs": []
    },
    {
      "cell_type": "markdown",
      "metadata": {
        "id": "pIXB2n9RnW1h"
      },
      "source": [
        "# Autoencoders"
      ],
      "id": "pIXB2n9RnW1h"
    },
    {
      "cell_type": "markdown",
      "metadata": {
        "id": "dominant-newsletter"
      },
      "source": [
        "## Data"
      ],
      "id": "dominant-newsletter"
    },
    {
      "cell_type": "markdown",
      "metadata": {
        "id": "blocked-treat"
      },
      "source": [
        "First, let's have a look on the data. They are MNIST dataset - the same as last week."
      ],
      "id": "blocked-treat"
    },
    {
      "cell_type": "markdown",
      "metadata": {
        "id": "NBLkAK6pRiSb"
      },
      "source": [
        "This time images are not normalized"
      ],
      "id": "NBLkAK6pRiSb"
    },
    {
      "cell_type": "code",
      "metadata": {
        "id": "f_sRt74USELv"
      },
      "source": [
        "from torchvision.datasets import MNIST\n",
        "from torchvision import  transforms"
      ],
      "id": "f_sRt74USELv",
      "execution_count": 31,
      "outputs": []
    },
    {
      "cell_type": "code",
      "metadata": {
        "id": "expected-coast"
      },
      "source": [
        "transform = transforms.ToTensor()"
      ],
      "id": "expected-coast",
      "execution_count": 32,
      "outputs": []
    },
    {
      "cell_type": "code",
      "metadata": {
        "id": "regulation-constitution"
      },
      "source": [
        "mnist_train = MNIST(DATASETS_PATH, train=True, download=True, transform=transform);\n",
        "mnist_test = MNIST(DATASETS_PATH, train=False, download=True, transform=transform);"
      ],
      "id": "regulation-constitution",
      "execution_count": 33,
      "outputs": []
    },
    {
      "cell_type": "markdown",
      "metadata": {
        "id": "taken-messenger"
      },
      "source": [
        "Let's see what the data look like"
      ],
      "id": "taken-messenger"
    },
    {
      "cell_type": "code",
      "metadata": {
        "colab": {
          "base_uri": "https://localhost:8080/"
        },
        "id": "spanish-conclusion",
        "outputId": "2a251d9a-3eed-498e-afe3-12adda7c83b6"
      },
      "source": [
        "img, target = mnist_train[0]\n",
        "print(f'image type: {type(img)}, image shape: {img.shape}, target: {target}, target class name: {mnist_train.classes[target]}')"
      ],
      "id": "spanish-conclusion",
      "execution_count": 34,
      "outputs": [
        {
          "output_type": "stream",
          "name": "stdout",
          "text": [
            "image type: <class 'torch.Tensor'>, image shape: torch.Size([1, 28, 28]), target: 5, target class name: 5 - five\n"
          ]
        }
      ]
    },
    {
      "cell_type": "markdown",
      "metadata": {
        "id": "committed-welsh"
      },
      "source": [
        "The image is a torch.Tensor object, and the target an integer. Notice that the image has 3 dimensions: single channel and 28 height x 28 width \\\n",
        "In order to visualize it correctly, we need to reduce it to 2 dimensional  height x width tensor"
      ],
      "id": "committed-welsh"
    },
    {
      "cell_type": "code",
      "metadata": {
        "colab": {
          "base_uri": "https://localhost:8080/",
          "height": 282
        },
        "id": "indoor-washer",
        "outputId": "057acc01-eb8c-4f78-8614-6b529e7e7638"
      },
      "source": [
        "plt.imshow(img[0])"
      ],
      "id": "indoor-washer",
      "execution_count": 35,
      "outputs": [
        {
          "output_type": "execute_result",
          "data": {
            "text/plain": [
              "<matplotlib.image.AxesImage at 0x7f8cdbe0c750>"
            ]
          },
          "metadata": {},
          "execution_count": 35
        },
        {
          "output_type": "display_data",
          "data": {
            "image/png": "[encoded data removed]",
            "text/plain": [
              "<Figure size 432x288 with 1 Axes>"
            ]
          },
          "metadata": {
            "needs_background": "light"
          }
        }
      ]
    },
    {
      "cell_type": "code",
      "metadata": {
        "colab": {
          "base_uri": "https://localhost:8080/",
          "height": 199
        },
        "id": "southwest-working",
        "outputId": "a41f902c-3221-419a-8176-8fe5e1b0ee1c"
      },
      "source": [
        "num_images = 6\n",
        "fig, axs = plt.subplots(ncols=num_images, figsize=(17,5))\n",
        "for i in range(num_images):\n",
        "    img, target = mnist_train[i]\n",
        "    axs[i].imshow(img[0])\n",
        "    axs[i].set_title(f'{mnist_train.classes[target]}')\n",
        "    \n",
        "    "
      ],
      "id": "southwest-working",
      "execution_count": 36,
      "outputs": [
        {
          "output_type": "display_data",
          "data": {
            "image/png": "[encoded data removed]",
            "text/plain": [
              "<Figure size 1224x360 with 6 Axes>"
            ]
          },
          "metadata": {
            "needs_background": "light"
          }
        }
      ]
    },
    {
      "cell_type": "markdown",
      "metadata": {
        "id": "damaged-fifty"
      },
      "source": [
        "## Model"
      ],
      "id": "damaged-fifty"
    },
    {
      "cell_type": "code",
      "metadata": {
        "id": "marked-wrestling"
      },
      "source": [
        "import torch\n",
        "from torch import nn"
      ],
      "id": "marked-wrestling",
      "execution_count": 37,
      "outputs": []
    },
    {
      "cell_type": "markdown",
      "metadata": {
        "id": "radical-publicity"
      },
      "source": [
        "### Encoder"
      ],
      "id": "radical-publicity"
    },
    {
      "cell_type": "markdown",
      "metadata": {
        "id": "falling-entrance"
      },
      "source": [
        "#### Your task: write encoder class with single hidden layer"
      ],
      "id": "falling-entrance"
    },
    {
      "cell_type": "markdown",
      "metadata": {
        "id": "numerous-telephone"
      },
      "source": [
        "Let's start with fully-connected model, i. e. perceptron.\n",
        "1. As the input, model should take batch of 1d vectors with of 28x28 length (number of pixels)\n",
        "2. Number of neurons in hidden layer should be an argument of constructor (`__init__` function)\n",
        "3. The same applies to the number of latent space dimesions "
      ],
      "id": "numerous-telephone"
    },
    {
      "cell_type": "code",
      "metadata": {
        "id": "racial-suggestion"
      },
      "source": [
        "class Encoder_1hl(nn.Module):\n",
        "    def __init__(self, hidden_dim, latent_dim):\n",
        "        \"\"\"\n",
        "        hidden_dim: number of neurons in the hidden layer\n",
        "        latent_dim: number of latent space dimensions\n",
        "        \"\"\"\n",
        "        super().__init__()\n",
        "        #your code here\n",
        "        ...\n",
        "        \n",
        "\n",
        "    def forward(self, x):\n",
        "        #your code here\n",
        "        ...\n",
        "        return ..."
      ],
      "id": "racial-suggestion",
      "execution_count": 38,
      "outputs": []
    },
    {
      "cell_type": "markdown",
      "metadata": {
        "id": "undefined-contamination"
      },
      "source": [
        "Solution:"
      ],
      "id": "undefined-contamination"
    },
    {
      "cell_type": "code",
      "metadata": {
        "id": "rising-rabbit"
      },
      "source": [
        "class Encoder_1hl(nn.Module):\n",
        "    def __init__(self, hidden_dim, latent_dim):\n",
        "        \"\"\"\n",
        "        hidden_dim: number of neurons in the hidden layer\n",
        "        latent_dim: number of latent space dimensions\n",
        "        \"\"\"\n",
        "        super().__init__()\n",
        "        self.net = nn.Sequential(\n",
        "            nn.Linear(28*28, hidden_dim),\n",
        "            nn.ReLU(),\n",
        "            nn.Linear(hidden_dim, latent_dim),\n",
        "            )\n",
        "\n",
        "    def forward(self, x):\n",
        "        x = self.net(x)\n",
        "        return x"
      ],
      "id": "rising-rabbit",
      "execution_count": 39,
      "outputs": []
    },
    {
      "cell_type": "markdown",
      "metadata": {
        "id": "adapted-manner"
      },
      "source": [
        "Try if it works:"
      ],
      "id": "adapted-manner"
    },
    {
      "cell_type": "code",
      "metadata": {
        "colab": {
          "base_uri": "https://localhost:8080/"
        },
        "id": "mature-honolulu",
        "outputId": "1c8f8089-7ff6-40cc-91ec-8b2240af3cf0"
      },
      "source": [
        "#prepare data\n",
        "img, target = mnist_train[0]\n",
        "img = img.view(-1)\n",
        "print('image shape:', img.shape)"
      ],
      "id": "mature-honolulu",
      "execution_count": 40,
      "outputs": [
        {
          "output_type": "stream",
          "name": "stdout",
          "text": [
            "image shape: torch.Size([784])\n"
          ]
        }
      ]
    },
    {
      "cell_type": "code",
      "metadata": {
        "id": "previous-signal"
      },
      "source": [
        "# prepare encoder\n",
        "hidden_dim = 64\n",
        "latent_dim = 12\n",
        "encoder = Encoder_1hl(hidden_dim, latent_dim)"
      ],
      "id": "previous-signal",
      "execution_count": 41,
      "outputs": []
    },
    {
      "cell_type": "code",
      "metadata": {
        "colab": {
          "base_uri": "https://localhost:8080/"
        },
        "id": "working-selling",
        "outputId": "57cd7679-0783-489f-f709-a047c9b8b9f1"
      },
      "source": [
        "# compute representation in latent space\n",
        "batch = img.unsqueeze(0) #model operates on batched input. Let's create batch with one sample\n",
        "print('batch shape:', batch.shape)\n",
        "with torch.no_grad(): #turn off gradient\n",
        "    z = encoder(batch)\n",
        "print('output shape:', z.shape)"
      ],
      "id": "working-selling",
      "execution_count": 42,
      "outputs": [
        {
          "output_type": "stream",
          "name": "stdout",
          "text": [
            "batch shape: torch.Size([1, 784])\n",
            "output shape: torch.Size([1, 12])\n"
          ]
        }
      ]
    },
    {
      "cell_type": "markdown",
      "metadata": {
        "id": "continued-snake"
      },
      "source": [
        "### Decoder"
      ],
      "id": "continued-snake"
    },
    {
      "cell_type": "code",
      "metadata": {
        "id": "parallel-command"
      },
      "source": [
        "class Decoder_1hl(nn.Module):\n",
        "    def __init__(self, hidden_dim, latent_dim):\n",
        "        \"\"\"\n",
        "        hidden_dim: number of neurons in the hidden layer\n",
        "        latent_dim: number of latent space dimensions\n",
        "        \"\"\"\n",
        "        super().__init__()\n",
        "        self.net = nn.Sequential(\n",
        "            nn.Linear(latent_dim, hidden_dim),\n",
        "            nn.ReLU(),\n",
        "            nn.Linear(hidden_dim, 28*28),\n",
        "            nn.Sigmoid() # sigmoid function transforms input values (-inf, +inf) to output in range (0, 1)\n",
        "            )\n",
        "            \n",
        "\n",
        "    def forward(self, x):\n",
        "        x = self.net(x)\n",
        "        return x"
      ],
      "id": "parallel-command",
      "execution_count": 43,
      "outputs": []
    },
    {
      "cell_type": "markdown",
      "metadata": {
        "id": "executed-shift"
      },
      "source": [
        "### Autoencoder = Encoder + Decoder"
      ],
      "id": "executed-shift"
    },
    {
      "cell_type": "markdown",
      "metadata": {
        "id": "qualified-steel"
      },
      "source": [
        "Let's put it all together."
      ],
      "id": "qualified-steel"
    },
    {
      "cell_type": "markdown",
      "metadata": {
        "id": "rising-technician"
      },
      "source": [
        "#### Your task: write autoencoder class\n",
        "\n",
        "Encoder and decoder should have 1 hidden layer each"
      ],
      "id": "rising-technician"
    },
    {
      "cell_type": "code",
      "metadata": {
        "id": "sexual-incidence"
      },
      "source": [
        "class Autoencoder_1hl(nn.Module):\n",
        "    def __init__(self, hidden_dim, latent_dim):\n",
        "        \"\"\"\n",
        "        hidden_dim: number of neurons in the hidden layer\n",
        "        latent_dim: number of latent space dimensions\n",
        "        \"\"\"\n",
        "        super().__init__()\n",
        "        # your code here\n",
        "        ...\n",
        "            \n",
        "    def forward(self, x):\n",
        "        # your code here\n",
        "        ...\n",
        "        return ..."
      ],
      "id": "sexual-incidence",
      "execution_count": null,
      "outputs": []
    },
    {
      "cell_type": "markdown",
      "metadata": {
        "id": "running-district"
      },
      "source": [
        "Solution"
      ],
      "id": "running-district"
    },
    {
      "cell_type": "code",
      "metadata": {
        "id": "contemporary-extra"
      },
      "source": [
        "class Autoencoder_1hl(nn.Module):\n",
        "    def __init__(self, hidden_dim, latent_dim):\n",
        "        \"\"\"\n",
        "        hidden_dim: number of neurons in the hidden layer\n",
        "        latent_dim: number of latent space dimensions\n",
        "        \"\"\"\n",
        "        super().__init__()\n",
        "        # your code here\n",
        "        self.encoder = Encoder_1hl(hidden_dim, latent_dim)\n",
        "        self.decoder = Decoder_1hl(hidden_dim, latent_dim)\n",
        "            \n",
        "    def forward(self, x):\n",
        "        x = self.encoder(x)\n",
        "        x = self.decoder(x) \n",
        "        return x"
      ],
      "id": "contemporary-extra",
      "execution_count": 44,
      "outputs": []
    },
    {
      "cell_type": "code",
      "metadata": {
        "id": "described-rapid"
      },
      "source": [
        "autoencoder = Autoencoder_1hl(hidden_dim, latent_dim)"
      ],
      "id": "described-rapid",
      "execution_count": 45,
      "outputs": []
    },
    {
      "cell_type": "code",
      "metadata": {
        "colab": {
          "base_uri": "https://localhost:8080/"
        },
        "id": "thousand-henry",
        "outputId": "6187fe20-2a55-4e50-ddb5-166fec7d60dc"
      },
      "source": [
        "batch = img.unsqueeze(0) #model operates on batched input. Let's create batch with one sample\n",
        "print('batch shape:', batch.shape)\n",
        "with torch.no_grad(): #turn off gradient\n",
        "    x_hat = autoencoder(batch)\n",
        "print('output shape:', x_hat.shape)"
      ],
      "id": "thousand-henry",
      "execution_count": 46,
      "outputs": [
        {
          "output_type": "stream",
          "name": "stdout",
          "text": [
            "batch shape: torch.Size([1, 784])\n",
            "output shape: torch.Size([1, 784])\n"
          ]
        }
      ]
    },
    {
      "cell_type": "markdown",
      "metadata": {
        "id": "respective-armor"
      },
      "source": [
        "So far, the model operates on flatten images. Yet everywhere else we prefer to operate on 1x28x28 images. Let's modify the `forward` function to do the reshaping"
      ],
      "id": "respective-armor"
    },
    {
      "cell_type": "code",
      "metadata": {
        "id": "atomic-halloween"
      },
      "source": [
        "class Autoencoder_1hl(nn.Module):\n",
        "    \n",
        "    # paste your __init__ function here\n",
        "\n",
        "    def forward(self, x):\n",
        "        input_shape = x.shape #batch_size, channels, height, width\n",
        "        x = x.view(input_shape[0], -1)\n",
        "        \n",
        "        # paste the rest of your forward function here\n",
        "        \n",
        "        return x.view(input_shape)\n"
      ],
      "id": "atomic-halloween",
      "execution_count": null,
      "outputs": []
    },
    {
      "cell_type": "markdown",
      "metadata": {
        "id": "retired-leone"
      },
      "source": [
        "Solution:"
      ],
      "id": "retired-leone"
    },
    {
      "cell_type": "code",
      "metadata": {
        "id": "alternate-translator"
      },
      "source": [
        "class Autoencoder_1hl(nn.Module):\n",
        "    def __init__(self, hidden_dim, latent_dim):\n",
        "        \"\"\"\n",
        "        hidden_dim: number of neurons in the hidden layer\n",
        "        latent_dim: number of latent space dimensions\n",
        "        \"\"\"\n",
        "        super().__init__()\n",
        "        # your code here\n",
        "        self.encoder = Encoder_1hl(hidden_dim, latent_dim)\n",
        "        self.decoder = Decoder_1hl(hidden_dim, latent_dim)\n",
        "            \n",
        "    def forward(self, x):\n",
        "        input_shape = x.shape #batch_size, channels, height, width\n",
        "        x = x.reshape(input_shape[0], -1)\n",
        "        x = self.encoder(x)\n",
        "        x = self.decoder(x) \n",
        "        return x.reshape(input_shape)"
      ],
      "id": "alternate-translator",
      "execution_count": 49,
      "outputs": []
    },
    {
      "cell_type": "markdown",
      "metadata": {
        "id": "featured-customs"
      },
      "source": [
        "Try the new model"
      ],
      "id": "featured-customs"
    },
    {
      "cell_type": "code",
      "metadata": {
        "colab": {
          "base_uri": "https://localhost:8080/"
        },
        "id": "demonstrated-belgium",
        "outputId": "67fa6673-d668-4b6f-ba5b-3a2a2c7b683c"
      },
      "source": [
        "img, target = mnist_train[0]\n",
        "batch = img.unsqueeze(0) #model operates on batched input. Let's create batch with one sample\n",
        "print('batch shape:', batch.shape)\n",
        "autoencoder = Autoencoder_1hl(hidden_dim, latent_dim)\n",
        "with torch.no_grad(): #turn off gradient\n",
        "    x_hat = autoencoder(batch)\n",
        "print('output shape:', x_hat.shape)"
      ],
      "id": "demonstrated-belgium",
      "execution_count": 105,
      "outputs": [
        {
          "output_type": "stream",
          "name": "stdout",
          "text": [
            "batch shape: torch.Size([1, 1, 28, 28])\n",
            "output shape: torch.Size([1, 1, 28, 28])\n"
          ]
        }
      ]
    },
    {
      "cell_type": "markdown",
      "metadata": {
        "id": "buried-barrel"
      },
      "source": [
        "#### Visualize"
      ],
      "id": "buried-barrel"
    },
    {
      "cell_type": "code",
      "metadata": {
        "colab": {
          "base_uri": "https://localhost:8080/",
          "height": 370
        },
        "id": "flush-checklist",
        "outputId": "ebfa369a-e69c-4b1a-c788-2e6fbc862797"
      },
      "source": [
        "fig, (ax1, ax2) = plt.subplots(ncols=2, figsize=(12,6))\n",
        "ax1.imshow(batch[0,0], vmin=0, vmax=1)\n",
        "ax2.imshow(x_hat[0,0], vmin=0, vmax=1)"
      ],
      "id": "flush-checklist",
      "execution_count": 106,
      "outputs": [
        {
          "output_type": "execute_result",
          "data": {
            "text/plain": [
              "<matplotlib.image.AxesImage at 0x7f8cd8ac3510>"
            ]
          },
          "metadata": {},
          "execution_count": 106
        },
        {
          "output_type": "display_data",
          "data": {
            "image/png": "[encoded data removed]",
            "text/plain": [
              "<Figure size 864x432 with 2 Axes>"
            ]
          },
          "metadata": {
            "needs_background": "light"
          }
        }
      ]
    },
    {
      "cell_type": "markdown",
      "metadata": {
        "id": "varied-therapist"
      },
      "source": [
        "## Training"
      ],
      "id": "varied-therapist"
    },
    {
      "cell_type": "markdown",
      "metadata": {
        "id": "split-rings"
      },
      "source": [
        "Prepare dataloaders"
      ],
      "id": "split-rings"
    },
    {
      "cell_type": "code",
      "metadata": {
        "id": "protected-filling"
      },
      "source": [
        "from torch.utils.data import DataLoader"
      ],
      "id": "protected-filling",
      "execution_count": 52,
      "outputs": []
    },
    {
      "cell_type": "code",
      "metadata": {
        "id": "flexible-replication"
      },
      "source": [
        "batch_size = 128"
      ],
      "id": "flexible-replication",
      "execution_count": 53,
      "outputs": []
    },
    {
      "cell_type": "code",
      "metadata": {
        "id": "fallen-pulse"
      },
      "source": [
        "mnist_train_dataloader = DataLoader(mnist_train, batch_size=batch_size, shuffle=True, num_workers=2, pin_memory=True) #num workers: number of threads used by dataloader,  `pin_memory=True`: use nvida acceleration in data loading. Use it almost always: https://discuss.pytorch.org/t/when-to-set-pin-memory-to-true/19723/2\n",
        "mnist_test_dataloader = DataLoader(mnist_test, batch_size=batch_size, shuffle=False, num_workers=2, pin_memory=True)"
      ],
      "id": "fallen-pulse",
      "execution_count": 124,
      "outputs": []
    },
    {
      "cell_type": "markdown",
      "metadata": {
        "id": "peripheral-compromise"
      },
      "source": [
        "Closer look on dataloaders"
      ],
      "id": "peripheral-compromise"
    },
    {
      "cell_type": "code",
      "metadata": {
        "colab": {
          "base_uri": "https://localhost:8080/"
        },
        "id": "massive-glass",
        "outputId": "1ab9c8d8-728c-4a66-96b4-7d5d1c9520ee"
      },
      "source": [
        "x, y = next(iter(mnist_train_dataloader))\n",
        "print(f'x shape: {x.shape}')\n",
        "print(f'target shape: {y.shape}')\n",
        "print(f'target: {y}')"
      ],
      "id": "massive-glass",
      "execution_count": 55,
      "outputs": [
        {
          "output_type": "stream",
          "name": "stdout",
          "text": [
            "x shape: torch.Size([128, 1, 28, 28])\n",
            "target shape: torch.Size([128])\n",
            "target: tensor([7, 2, 9, 5, 0, 2, 3, 9, 5, 7, 1, 8, 7, 4, 8, 1, 7, 0, 1, 4, 8, 0, 5, 5,\n",
            "        3, 9, 6, 0, 6, 7, 2, 3, 0, 4, 9, 3, 2, 2, 4, 8, 7, 8, 0, 4, 6, 2, 7, 6,\n",
            "        4, 7, 0, 5, 3, 8, 8, 8, 7, 7, 3, 9, 0, 0, 9, 8, 6, 8, 0, 6, 2, 6, 8, 6,\n",
            "        7, 2, 8, 8, 6, 8, 8, 7, 1, 9, 8, 8, 6, 1, 8, 3, 9, 8, 7, 8, 3, 4, 7, 9,\n",
            "        2, 4, 1, 0, 9, 5, 4, 9, 7, 7, 2, 4, 3, 2, 7, 8, 3, 0, 0, 7, 6, 1, 3, 2,\n",
            "        4, 8, 5, 5, 8, 2, 1, 1])\n"
          ]
        }
      ]
    },
    {
      "cell_type": "markdown",
      "metadata": {
        "id": "plain-organization"
      },
      "source": [
        "### Schema of training in PyTorch"
      ],
      "id": "plain-organization"
    },
    {
      "cell_type": "markdown",
      "metadata": {
        "id": "thousand-amplifier"
      },
      "source": [
        "Set model, optimizer (which performs optimizing steps) and criterion\n",
        "```\n",
        "model = ...\n",
        "optimizer =  torch.optim.AdamW(model.parameters(), lr=1e-3)\n",
        "criterion = ... #function which computes loss\n",
        "```"
      ],
      "id": "thousand-amplifier"
    },
    {
      "cell_type": "markdown",
      "metadata": {
        "id": "analyzed-ground"
      },
      "source": [
        "Set device on which computations will be done: 'cpu' or 'cuda' (GPU)\n",
        "```\n",
        "device = 'cuda' if torch.cuda.is_available() else 'cpu' # if your machine supports cuda, it wil be used for computation\n",
        "```"
      ],
      "id": "analyzed-ground"
    },
    {
      "cell_type": "markdown",
      "metadata": {
        "id": "legal-while"
      },
      "source": [
        "set model to 'train' mode and allocate it to the device\n",
        "```\n",
        "model.train().to(device);\n",
        "```"
      ],
      "id": "legal-while"
    },
    {
      "cell_type": "markdown",
      "metadata": {
        "id": "central-inspector"
      },
      "source": [
        "Schema for single epoch training:\n",
        "```\n",
        "for x, y in mnist_train_dataloader:    \n",
        "    # clear gradient from previous step\n",
        "    optimizer.zero_grad()\n",
        "    \n",
        "    x = x.to(device)\n",
        "    x_hat = model(x)\n",
        "    loss = criterion(x, x_hat)\n",
        "\n",
        "    # compute accumulated gradients\n",
        "    loss.backward()\n",
        "\n",
        "    # perform parameter update based on current gradients\n",
        "    optimizer.step()\n",
        " ```"
      ],
      "id": "central-inspector"
    },
    {
      "cell_type": "markdown",
      "metadata": {
        "id": "alpha-bobby"
      },
      "source": [
        "#### Your task\n",
        "write training loop for 10 epochs for autoencoder. Set criterion to mean square root error `nn.MSELoss()`"
      ],
      "id": "alpha-bobby"
    },
    {
      "cell_type": "code",
      "metadata": {
        "id": "automated-nursing",
        "colab": {
          "base_uri": "https://localhost:8080/"
        },
        "outputId": "c95f89b4-7667-429e-aa23-361e21c1443b"
      },
      "source": [
        "device = 'cuda' if torch.cuda.is_available() else 'cpu' # if your machine supports cuda, it wil be used for computation\n",
        "print(f'device: {device}')\n",
        "autoencoder.to(device).train();\n",
        "optimizer = torch.optim.AdamW(autoencoder.parameters(), lr=1e-3)\n",
        "criterion = nn.MSELoss() #the same as nn.functional.mse_loss"
      ],
      "id": "automated-nursing",
      "execution_count": 56,
      "outputs": [
        {
          "output_type": "stream",
          "name": "stdout",
          "text": [
            "device: cuda\n"
          ]
        }
      ]
    },
    {
      "cell_type": "markdown",
      "metadata": {
        "id": "parliamentary-links"
      },
      "source": [
        "Check batches from dataloader"
      ],
      "id": "parliamentary-links"
    },
    {
      "cell_type": "code",
      "metadata": {
        "id": "sporting-george",
        "outputId": "5c50d416-d531-464f-a665-9082e94b04aa",
        "colab": {
          "base_uri": "https://localhost:8080/"
        }
      },
      "source": [
        "x, y = next(iter(mnist_train_dataloader))\n",
        "\n",
        "# # equivalent to\n",
        "# for x, y in mnist_train_dataloader:\n",
        "#   break\n",
        "\n",
        "print('x:', x.shape)"
      ],
      "id": "sporting-george",
      "execution_count": 58,
      "outputs": [
        {
          "output_type": "stream",
          "name": "stdout",
          "text": [
            "x: torch.Size([128, 1, 28, 28])\n"
          ]
        }
      ]
    },
    {
      "cell_type": "markdown",
      "metadata": {
        "id": "tight-oxford"
      },
      "source": [
        "Check x_hat computation step"
      ],
      "id": "tight-oxford"
    },
    {
      "cell_type": "code",
      "metadata": {
        "id": "numerical-match"
      },
      "source": [
        "x_hat = autoencoder(x.to(device))"
      ],
      "id": "numerical-match",
      "execution_count": 59,
      "outputs": []
    },
    {
      "cell_type": "markdown",
      "metadata": {
        "id": "engaging-mineral"
      },
      "source": [
        "Check loss computation"
      ],
      "id": "engaging-mineral"
    },
    {
      "cell_type": "code",
      "metadata": {
        "id": "bottom-perception"
      },
      "source": [
        "loss = criterion(x.to(device), x_hat) # note, that x_hat is already at `device`"
      ],
      "id": "bottom-perception",
      "execution_count": 60,
      "outputs": []
    },
    {
      "cell_type": "markdown",
      "metadata": {
        "id": "advised-experience"
      },
      "source": [
        "Now, write the training loop:"
      ],
      "id": "advised-experience"
    },
    {
      "cell_type": "code",
      "metadata": {
        "id": "interesting-conservation",
        "outputId": "cc662cc9-c973-4866-8c0b-40acb52c944d",
        "colab": {
          "base_uri": "https://localhost:8080/",
          "height": 220
        }
      },
      "source": [
        "num_epochs = 2 #first let's do a short training, to see if the loss go down\n",
        "\n",
        "history = [] #save losses from each epoch\n",
        "for i_epoch in range(num_epochs):\n",
        "    epoch_losses = []\n",
        "    \n",
        "    # your code here\n",
        "    # ...\n",
        "    # epoch_loss = ...\n",
        "    \n",
        "    print(f'epoch {i_epoch}, loss: {epoch_loss:0.4f}')\n",
        "    history.append({'loss': epoch_loss})"
      ],
      "id": "interesting-conservation",
      "execution_count": 63,
      "outputs": [
        {
          "output_type": "error",
          "ename": "TypeError",
          "evalue": "ignored",
          "traceback": [
            "\u001b[0;31m---------------------------------------------------------------------------\u001b[0m",
            "\u001b[0;31mTypeError\u001b[0m                                 Traceback (most recent call last)",
            "\u001b[0;32m<ipython-input-63-0633c198212d>\u001b[0m in \u001b[0;36m<module>\u001b[0;34m()\u001b[0m\n\u001b[1;32m      9\u001b[0m     \u001b[0;31m# epoch_loss = ...\u001b[0m\u001b[0;34m\u001b[0m\u001b[0;34m\u001b[0m\u001b[0;34m\u001b[0m\u001b[0m\n\u001b[1;32m     10\u001b[0m \u001b[0;34m\u001b[0m\u001b[0m\n\u001b[0;32m---> 11\u001b[0;31m     \u001b[0mprint\u001b[0m\u001b[0;34m(\u001b[0m\u001b[0;34mf'epoch {i_epoch}, loss: {epoch_loss:0.4f}'\u001b[0m\u001b[0;34m)\u001b[0m\u001b[0;34m\u001b[0m\u001b[0;34m\u001b[0m\u001b[0m\n\u001b[0m\u001b[1;32m     12\u001b[0m     \u001b[0mhistory\u001b[0m\u001b[0;34m.\u001b[0m\u001b[0mappend\u001b[0m\u001b[0;34m(\u001b[0m\u001b[0;34m{\u001b[0m\u001b[0;34m'loss'\u001b[0m\u001b[0;34m:\u001b[0m \u001b[0mepoch_loss\u001b[0m\u001b[0;34m}\u001b[0m\u001b[0;34m)\u001b[0m\u001b[0;34m\u001b[0m\u001b[0;34m\u001b[0m\u001b[0m\n",
            "\u001b[0;31mTypeError\u001b[0m: unsupported format string passed to ellipsis.__format__"
          ]
        }
      ]
    },
    {
      "cell_type": "markdown",
      "metadata": {
        "id": "cathedral-moment"
      },
      "source": [
        "Solution:"
      ],
      "id": "cathedral-moment"
    },
    {
      "cell_type": "code",
      "metadata": {
        "colab": {
          "base_uri": "https://localhost:8080/"
        },
        "id": "caroline-archives",
        "outputId": "8a27cff9-d9cb-436a-cc06-e85d7373e919"
      },
      "source": [
        "num_epochs = 2\n",
        "\n",
        "history = [] #save losses from each epoch\n",
        "for i_epoch in range(num_epochs):\n",
        "    epoch_losses = []\n",
        "    for batch in mnist_train_dataloader:\n",
        "         # clear gradient from previous step\n",
        "        optimizer.zero_grad()\n",
        "        \n",
        "        x, y = batch\n",
        "        x = x.to(device)\n",
        "        x_hat = autoencoder(x)\n",
        "        loss = criterion(x, x_hat)\n",
        "        \n",
        "        # compute accumulated gradients\n",
        "        loss.backward()\n",
        "        \n",
        "        # perform parameter update based on current gradients\n",
        "        optimizer.step()\n",
        "        \n",
        "        # save loss\n",
        "        epoch_losses.append(loss.item()) #'item()' gets number from tensor. Similarly 'numpy()' returns numpy array copy of the tensor\n",
        "        \n",
        "        \n",
        "    epoch_loss = np.mean(epoch_losses)\n",
        "    print(f'epoch {i_epoch}, loss: {epoch_loss:0.4f}')\n",
        "    history.append({'loss': epoch_loss})\n",
        "        "
      ],
      "id": "caroline-archives",
      "execution_count": 64,
      "outputs": [
        {
          "output_type": "stream",
          "name": "stdout",
          "text": [
            "epoch 0, loss: 0.0587\n",
            "epoch 1, loss: 0.0303\n"
          ]
        }
      ]
    },
    {
      "cell_type": "markdown",
      "metadata": {
        "id": "synthetic-vampire"
      },
      "source": [
        "Having small loss on training is good, but we really want the model to generalize for unseen samples. Let's calculate loss on test dataset after each epoch"
      ],
      "id": "synthetic-vampire"
    },
    {
      "cell_type": "markdown",
      "metadata": {
        "id": "binary-school"
      },
      "source": [
        "#### Your task\n",
        "Write function which calculates loss of the model on test dataset"
      ],
      "id": "binary-school"
    },
    {
      "cell_type": "code",
      "metadata": {
        "id": "compliant-candle"
      },
      "source": [
        "@torch.no_grad() #this decorator disable gradient computation in function. Equivalent to `with torch.no_grad():` inside function. Makes code clearer\n",
        "def evaluate_model(model, dataloader, criterion):\n",
        "    # your code here\n",
        "    # ...\n",
        "    # final_loss = ...\n",
        "    return final_loss"
      ],
      "id": "compliant-candle",
      "execution_count": null,
      "outputs": []
    },
    {
      "cell_type": "code",
      "metadata": {
        "id": "driving-estimate"
      },
      "source": [
        "@torch.no_grad()\n",
        "def evaluate_model(model, dataloader, criterion):\n",
        "    losses = []\n",
        "    model = model.eval()\n",
        "    for batch in dataloader:  \n",
        "        x, y = batch\n",
        "        x = x.to(device)\n",
        "        x_hat = autoencoder(x)\n",
        "        loss = criterion(x, x_hat)\n",
        "        losses.append(loss.item())\n",
        "    final_loss = np.mean(losses)\n",
        "    return final_loss"
      ],
      "id": "driving-estimate",
      "execution_count": 65,
      "outputs": []
    },
    {
      "cell_type": "markdown",
      "metadata": {
        "id": "robust-transport"
      },
      "source": [
        "Test if your function works"
      ],
      "id": "robust-transport"
    },
    {
      "cell_type": "code",
      "metadata": {
        "colab": {
          "base_uri": "https://localhost:8080/"
        },
        "id": "private-symphony",
        "outputId": "ebff974f-f244-4ee9-e7b0-adc58808c836"
      },
      "source": [
        "test_loss = evaluate_model(autoencoder, mnist_test_dataloader, criterion)\n",
        "print(f'test loss: {test_loss:0.4f}')"
      ],
      "id": "private-symphony",
      "execution_count": 66,
      "outputs": [
        {
          "output_type": "stream",
          "name": "stdout",
          "text": [
            "test loss: 0.0261\n"
          ]
        }
      ]
    },
    {
      "cell_type": "markdown",
      "metadata": {
        "id": "political-marathon"
      },
      "source": [
        "Now we are ready to implement testset evaluation and do the proper traing of the model. For clarity, let's create a fresh autoencoder"
      ],
      "id": "political-marathon"
    },
    {
      "cell_type": "code",
      "metadata": {
        "id": "electronic-block"
      },
      "source": [
        "hidden_dim = 64\n",
        "latent_dim = 12\n",
        "autoencoder = Autoencoder_1hl(hidden_dim, latent_dim)\n",
        "autoencoder.to(device).train();\n",
        "\n",
        "optimizer = torch.optim.AdamW(autoencoder.parameters(), lr=1e-3)"
      ],
      "id": "electronic-block",
      "execution_count": 125,
      "outputs": []
    },
    {
      "cell_type": "code",
      "metadata": {
        "colab": {
          "base_uri": "https://localhost:8080/"
        },
        "id": "defined-standing",
        "outputId": "4831e5eb-120e-471b-9916-cafd4d1df227"
      },
      "source": [
        "num_epochs = 10 #train longer for better representations\n",
        "\n",
        "history = [] #save losses from each epoch\n",
        "for i_epoch in range(num_epochs):\n",
        "    epoch_losses = []\n",
        "    for batch in mnist_train_dataloader:\n",
        "         # clear gradient from previous step\n",
        "        optimizer.zero_grad()\n",
        "        \n",
        "        x, y = batch\n",
        "        x = x.to(device)\n",
        "        x_hat = autoencoder(x)\n",
        "        loss = criterion(x, x_hat)\n",
        "        \n",
        "        # compute accumulated gradients\n",
        "        loss.backward()\n",
        "        \n",
        "        # perform parameter update based on current gradients\n",
        "        optimizer.step()\n",
        "        \n",
        "        # save loss\n",
        "        epoch_losses.append(loss.item()) #'item()' gets number from tensor. Similarly 'numpy()' returns numpy array copy of the tensor\n",
        "        \n",
        "        \n",
        "    epoch_loss = np.mean(epoch_losses)\n",
        "    test_loss = evaluate_model(autoencoder, mnist_test_dataloader, criterion)\n",
        "    autoencoder.train() # if \"evaluate_model\" switches the model to 'eval' mode, switch it back 'train'\n",
        "    print(f'epoch {i_epoch+1}/{num_epochs}, train loss: {epoch_loss:0.4f}, test loss {test_loss:0.4f}')\n",
        "    history.append({'train loss': epoch_loss, 'test loss': test_loss})\n",
        "        "
      ],
      "id": "defined-standing",
      "execution_count": 126,
      "outputs": [
        {
          "output_type": "stream",
          "name": "stdout",
          "text": [
            "epoch 1/50, train loss: 0.0593, test loss 0.0353\n",
            "epoch 2/50, train loss: 0.0309, test loss 0.0270\n",
            "epoch 3/50, train loss: 0.0258, test loss 0.0240\n",
            "epoch 4/50, train loss: 0.0237, test loss 0.0226\n",
            "epoch 5/50, train loss: 0.0226, test loss 0.0217\n",
            "epoch 6/50, train loss: 0.0219, test loss 0.0212\n",
            "epoch 7/50, train loss: 0.0214, test loss 0.0208\n",
            "epoch 8/50, train loss: 0.0210, test loss 0.0205\n",
            "epoch 9/50, train loss: 0.0207, test loss 0.0201\n",
            "epoch 10/50, train loss: 0.0204, test loss 0.0199\n",
            "epoch 11/50, train loss: 0.0202, test loss 0.0197\n",
            "epoch 12/50, train loss: 0.0200, test loss 0.0195\n",
            "epoch 13/50, train loss: 0.0198, test loss 0.0193\n",
            "epoch 14/50, train loss: 0.0196, test loss 0.0191\n",
            "epoch 15/50, train loss: 0.0194, test loss 0.0189\n",
            "epoch 16/50, train loss: 0.0192, test loss 0.0187\n",
            "epoch 17/50, train loss: 0.0191, test loss 0.0186\n",
            "epoch 18/50, train loss: 0.0189, test loss 0.0185\n",
            "epoch 19/50, train loss: 0.0188, test loss 0.0184\n",
            "epoch 20/50, train loss: 0.0187, test loss 0.0182\n",
            "epoch 21/50, train loss: 0.0186, test loss 0.0181\n",
            "epoch 22/50, train loss: 0.0185, test loss 0.0181\n",
            "epoch 23/50, train loss: 0.0184, test loss 0.0179\n",
            "epoch 24/50, train loss: 0.0183, test loss 0.0178\n",
            "epoch 25/50, train loss: 0.0182, test loss 0.0178\n",
            "epoch 26/50, train loss: 0.0180, test loss 0.0177\n",
            "epoch 27/50, train loss: 0.0180, test loss 0.0176\n",
            "epoch 28/50, train loss: 0.0179, test loss 0.0174\n",
            "epoch 29/50, train loss: 0.0178, test loss 0.0174\n",
            "epoch 30/50, train loss: 0.0177, test loss 0.0173\n",
            "epoch 31/50, train loss: 0.0176, test loss 0.0173\n",
            "epoch 32/50, train loss: 0.0176, test loss 0.0172\n",
            "epoch 33/50, train loss: 0.0175, test loss 0.0171\n",
            "epoch 34/50, train loss: 0.0174, test loss 0.0170\n",
            "epoch 35/50, train loss: 0.0174, test loss 0.0170\n",
            "epoch 36/50, train loss: 0.0173, test loss 0.0170\n",
            "epoch 37/50, train loss: 0.0172, test loss 0.0169\n",
            "epoch 38/50, train loss: 0.0172, test loss 0.0169\n",
            "epoch 39/50, train loss: 0.0171, test loss 0.0168\n",
            "epoch 40/50, train loss: 0.0171, test loss 0.0168\n",
            "epoch 41/50, train loss: 0.0170, test loss 0.0168\n",
            "epoch 42/50, train loss: 0.0170, test loss 0.0167\n",
            "epoch 43/50, train loss: 0.0169, test loss 0.0166\n",
            "epoch 44/50, train loss: 0.0169, test loss 0.0166\n",
            "epoch 45/50, train loss: 0.0169, test loss 0.0166\n",
            "epoch 46/50, train loss: 0.0168, test loss 0.0165\n",
            "epoch 47/50, train loss: 0.0168, test loss 0.0165\n",
            "epoch 48/50, train loss: 0.0167, test loss 0.0164\n",
            "epoch 49/50, train loss: 0.0167, test loss 0.0164\n",
            "epoch 50/50, train loss: 0.0167, test loss 0.0164\n"
          ]
        }
      ]
    },
    {
      "cell_type": "code",
      "metadata": {
        "colab": {
          "base_uri": "https://localhost:8080/",
          "height": 530
        },
        "id": "mineral-worry",
        "outputId": "055f72b3-d783-4f2f-fc84-df2ec0f70353"
      },
      "source": [
        "fig, axs = plt.subplots(ncols=2, figsize=(16,8))\n",
        "axs[0].plot([entry['train loss'] for entry in history], label='train loss')\n",
        "axs[0].plot([entry['test loss'] for entry in history], label='test loss')\n",
        "axs[0].set_title('losses');\n",
        "axs[0].set_xlabel('epoch')\n",
        "axs[0].set_ylabel('loss')\n",
        "axs[0].legend()\n",
        "\n",
        "axs[1].semilogy([entry['train loss'] for entry in history], label='train loss')\n",
        "axs[1].semilogy([entry['test loss'] for entry in history], label='test loss')\n",
        "axs[1].set_title('losses');\n",
        "axs[1].set_xlabel('epoch')\n",
        "axs[1].set_ylabel('loss (logscale)')\n",
        "axs[1].legend()"
      ],
      "id": "mineral-worry",
      "execution_count": 114,
      "outputs": [
        {
          "output_type": "execute_result",
          "data": {
            "text/plain": [
              "<matplotlib.legend.Legend at 0x7f8cd83fed90>"
            ]
          },
          "metadata": {},
          "execution_count": 114
        },
        {
          "output_type": "display_data",
          "data": {
            "image/png": "[encoded data removed]",
            "text/plain": [
              "<Figure size 1152x576 with 2 Axes>"
            ]
          },
          "metadata": {
            "needs_background": "light"
          }
        }
      ]
    },
    {
      "cell_type": "markdown",
      "metadata": {
        "id": "v3dqE3LAnw7R"
      },
      "source": [
        "## Results visualization"
      ],
      "id": "v3dqE3LAnw7R"
    },
    {
      "cell_type": "markdown",
      "metadata": {
        "id": "vertical-riverside"
      },
      "source": [
        "For inference on small samples, we can use CPU - it allows to not care about 'cuda' stuff. If the models or images are large, better stay with GPU."
      ],
      "id": "vertical-riverside"
    },
    {
      "cell_type": "code",
      "metadata": {
        "id": "alike-segment"
      },
      "source": [
        "autoencoder.to('cpu').eval();"
      ],
      "id": "alike-segment",
      "execution_count": 127,
      "outputs": []
    },
    {
      "cell_type": "code",
      "metadata": {
        "id": "liquid-documentary"
      },
      "source": [
        "def reconstruct_image(img, model):\n",
        "    with torch.no_grad():\n",
        "        return model(img.unsqueeze(0))[0]"
      ],
      "id": "liquid-documentary",
      "execution_count": 128,
      "outputs": []
    },
    {
      "cell_type": "code",
      "metadata": {
        "id": "front-cathedral"
      },
      "source": [
        "img, target = mnist_test[0]\n",
        "reconstruction = reconstruct_image(img, autoencoder)"
      ],
      "id": "front-cathedral",
      "execution_count": 129,
      "outputs": []
    },
    {
      "cell_type": "code",
      "metadata": {
        "id": "parliamentary-flooring"
      },
      "source": [
        "autoencoder.cpu();"
      ],
      "id": "parliamentary-flooring",
      "execution_count": 130,
      "outputs": []
    },
    {
      "cell_type": "code",
      "metadata": {
        "colab": {
          "base_uri": "https://localhost:8080/",
          "height": 1000
        },
        "id": "western-lunch",
        "outputId": "4a31b25f-9b9f-43c9-a080-1d77dfb91953"
      },
      "source": [
        "for i in range(10):\n",
        "    img, target = mnist_test[i]\n",
        "    reconstruction = reconstruct_image(img, autoencoder)\n",
        "    fig, axs = plt.subplots(ncols=2)\n",
        "    axs[0].imshow(img[0], vmin=0, vmax=1)\n",
        "    axs[0].set_title('original')\n",
        "    axs[1].imshow(reconstruction[0], vmin=0, vmax=1)\n",
        "    axs[1].set_title('reconstruction')"
      ],
      "id": "western-lunch",
      "execution_count": 131,
      "outputs": [
        {
          "output_type": "display_data",
          "data": {
            "image/png": "[encoded data removed]",
            "text/plain": [
              "<Figure size 432x288 with 2 Axes>"
            ]
          },
          "metadata": {
            "needs_background": "light"
          }
        },
        {
          "output_type": "display_data",
          "data": {
            "image/png": "[encoded data removed]",
            "text/plain": [
              "<Figure size 432x288 with 2 Axes>"
            ]
          },
          "metadata": {
            "needs_background": "light"
          }
        },
        {
          "output_type": "display_data",
          "data": {
            "image/png": "[encoded data removed]",
            "text/plain": [
              "<Figure size 432x288 with 2 Axes>"
            ]
          },
          "metadata": {
            "needs_background": "light"
          }
        },
        {
          "output_type": "display_data",
          "data": {
            "image/png": "[encoded data removed]",
            "text/plain": [
              "<Figure size 432x288 with 2 Axes>"
            ]
          },
          "metadata": {
            "needs_background": "light"
          }
        },
        {
          "output_type": "display_data",
          "data": {
            "image/png": "[encoded data removed]",
            "text/plain": [
              "<Figure size 432x288 with 2 Axes>"
            ]
          },
          "metadata": {
            "needs_background": "light"
          }
        },
        {
          "output_type": "display_data",
          "data": {
            "image/png": "[encoded data removed]",
            "text/plain": [
              "<Figure size 432x288 with 2 Axes>"
            ]
          },
          "metadata": {
            "needs_background": "light"
          }
        },
        {
          "output_type": "display_data",
          "data": {
            "image/png": "[encoded data removed]",
            "text/plain": [
              "<Figure size 432x288 with 2 Axes>"
            ]
          },
          "metadata": {
            "needs_background": "light"
          }
        },
        {
          "output_type": "display_data",
          "data": {
            "image/png": "[encoded data removed]",
            "text/plain": [
              "<Figure size 432x288 with 2 Axes>"
            ]
          },
          "metadata": {
            "needs_background": "light"
          }
        },
        {
          "output_type": "display_data",
          "data": {
            "image/png": "[encoded data removed]",
            "text/plain": [
              "<Figure size 432x288 with 2 Axes>"
            ]
          },
          "metadata": {
            "needs_background": "light"
          }
        },
        {
          "output_type": "display_data",
          "data": {
            "image/png": "[encoded data removed]",
            "text/plain": [
              "<Figure size 432x288 with 2 Axes>"
            ]
          },
          "metadata": {
            "needs_background": "light"
          }
        }
      ]
    },
    {
      "cell_type": "markdown",
      "metadata": {
        "id": "smaller-constitutional"
      },
      "source": [
        "## Reconstruction errors and outliers\n",
        "Autoencores may be used to detect outliers. Rare events tend to be poorly reconstructed by the model"
      ],
      "id": "smaller-constitutional"
    },
    {
      "cell_type": "code",
      "metadata": {
        "id": "informative-deviation"
      },
      "source": [
        "reconstruction_errors= []\n",
        "\n",
        "# criterion gives us single loss for batch. Here the result is a vector of distances, one for each image\n",
        "# equivalent to nn.functional.mse_loss(x, x_hat, reduction='none').sum(dim=(1,2,3))\n",
        "def distance_function(x, x_hat):\n",
        "    return torch.mean((x-x_hat)**2, dim=(1, 2, 3))\n",
        "\n",
        "autoencoder.to(device);\n",
        "for x, y in mnist_test_dataloader:\n",
        "    x = x.to(device)\n",
        "    x_hat = autoencoder(x.to(device))\n",
        "    errors = distance_function(x, x_hat)\n",
        "    reconstruction_errors.extend([el.item() for el in errors])"
      ],
      "id": "informative-deviation",
      "execution_count": 132,
      "outputs": []
    },
    {
      "cell_type": "code",
      "metadata": {
        "colab": {
          "base_uri": "https://localhost:8080/",
          "height": 265
        },
        "id": "widespread-andorra",
        "outputId": "f0f4fda8-f55f-4eef-ecab-5dc2b111515a"
      },
      "source": [
        "plt.hist(reconstruction_errors);"
      ],
      "id": "widespread-andorra",
      "execution_count": 135,
      "outputs": [
        {
          "output_type": "display_data",
          "data": {
            "image/png": "[encoded data removed]",
            "text/plain": [
              "<Figure size 432x288 with 1 Axes>"
            ]
          },
          "metadata": {
            "needs_background": "light"
          }
        }
      ]
    },
    {
      "cell_type": "code",
      "metadata": {
        "id": "acute-accommodation"
      },
      "source": [
        "autoencoder.to('cpu');"
      ],
      "id": "acute-accommodation",
      "execution_count": 136,
      "outputs": []
    },
    {
      "cell_type": "markdown",
      "metadata": {
        "id": "literary-whole"
      },
      "source": [
        "Some of the worst cases.."
      ],
      "id": "literary-whole"
    },
    {
      "cell_type": "code",
      "metadata": {
        "colab": {
          "base_uri": "https://localhost:8080/",
          "height": 1000
        },
        "id": "disciplinary-crest",
        "outputId": "778e52c1-4824-4943-9d18-2f16992bc740"
      },
      "source": [
        "for idx in np.argsort(reconstruction_errors)[-10:]:\n",
        "    img, target = mnist_test[idx]\n",
        "    reconstruction = reconstruct_image(img, autoencoder)\n",
        "    fig, axs = plt.subplots(ncols=2)\n",
        "    axs[0].imshow(img[0], vmin=0, vmax=1)\n",
        "    axs[0].set_title(f'original {mnist_test.classes[target]}')\n",
        "    axs[1].imshow(reconstruction[0], vmin=0, vmax=1)\n",
        "    axs[1].set_title('reconstruction')"
      ],
      "id": "disciplinary-crest",
      "execution_count": 137,
      "outputs": [
        {
          "output_type": "display_data",
          "data": {
            "image/png": "[encoded data removed]",
            "text/plain": [
              "<Figure size 432x288 with 2 Axes>"
            ]
          },
          "metadata": {
            "needs_background": "light"
          }
        },
        {
          "output_type": "display_data",
          "data": {
            "image/png": "[encoded data removed]",
            "text/plain": [
              "<Figure size 432x288 with 2 Axes>"
            ]
          },
          "metadata": {
            "needs_background": "light"
          }
        },
        {
          "output_type": "display_data",
          "data": {
            "image/png": "[encoded data removed]",
            "text/plain": [
              "<Figure size 432x288 with 2 Axes>"
            ]
          },
          "metadata": {
            "needs_background": "light"
          }
        },
        {
          "output_type": "display_data",
          "data": {
            "image/png": "[encoded data removed]",
            "text/plain": [
              "<Figure size 432x288 with 2 Axes>"
            ]
          },
          "metadata": {
            "needs_background": "light"
          }
        },
        {
          "output_type": "display_data",
          "data": {
            "image/png": "[encoded data removed]",
            "text/plain": [
              "<Figure size 432x288 with 2 Axes>"
            ]
          },
          "metadata": {
            "needs_background": "light"
          }
        },
        {
          "output_type": "display_data",
          "data": {
            "image/png": "[encoded data removed]",
            "text/plain": [
              "<Figure size 432x288 with 2 Axes>"
            ]
          },
          "metadata": {
            "needs_background": "light"
          }
        },
        {
          "output_type": "display_data",
          "data": {
            "image/png": "[encoded data removed]",
            "text/plain": [
              "<Figure size 432x288 with 2 Axes>"
            ]
          },
          "metadata": {
            "needs_background": "light"
          }
        },
        {
          "output_type": "display_data",
          "data": {
            "image/png": "[encoded data removed]",
            "text/plain": [
              "<Figure size 432x288 with 2 Axes>"
            ]
          },
          "metadata": {
            "needs_background": "light"
          }
        },
        {
          "output_type": "display_data",
          "data": {
            "image/png": "[encoded data removed]",
            "text/plain": [
              "<Figure size 432x288 with 2 Axes>"
            ]
          },
          "metadata": {
            "needs_background": "light"
          }
        },
        {
          "output_type": "display_data",
          "data": {
            "image/png": "[encoded data removed]",
            "text/plain": [
              "<Figure size 432x288 with 2 Axes>"
            ]
          },
          "metadata": {
            "needs_background": "light"
          }
        }
      ]
    },
    {
      "cell_type": "code",
      "metadata": {
        "id": "narrow-montgomery"
      },
      "source": [
        "labels = np.array([x[1] for x in mnist_test])"
      ],
      "id": "narrow-montgomery",
      "execution_count": 138,
      "outputs": []
    },
    {
      "cell_type": "code",
      "metadata": {
        "colab": {
          "base_uri": "https://localhost:8080/",
          "height": 1000
        },
        "id": "proprietary-beads",
        "outputId": "fe9aa91b-62ad-495e-9880-22c2438a4c92"
      },
      "source": [
        "reconstruction_errors = np.array(reconstruction_errors)\n",
        "for digit in range(10):\n",
        "    digit_indices = np.where(labels==digit)[0]\n",
        "    idx_best = digit_indices[np.argmin(reconstruction_errors[digit_indices])]\n",
        "    idx_worst = digit_indices[np.argmax(reconstruction_errors[digit_indices])]\n",
        "    fig, axs = plt.subplots(ncols=4, figsize=(15, 6))\n",
        "    \n",
        "    img, target = mnist_test[idx_best]\n",
        "    reconstruction = reconstruct_image(img, autoencoder)\n",
        "    axs[0].imshow(img[0], vmin=0, vmax=1)\n",
        "    axs[0].set_title(f'original {mnist_test.classes[target]}')\n",
        "    axs[1].imshow(reconstruction[0], vmin=0, vmax=1)\n",
        "    axs[1].set_title('best reconstruction')\n",
        "    \n",
        "    img, target = mnist_test[idx_worst]\n",
        "    reconstruction = reconstruct_image(img, autoencoder)\n",
        "    axs[2].imshow(img[0], vmin=0, vmax=1)\n",
        "    axs[2].set_title(f'original {mnist_test.classes[target]}')\n",
        "    axs[3].imshow(reconstruction[0], vmin=0, vmax=1)\n",
        "    axs[3].set_title('worst reconstruction')"
      ],
      "id": "proprietary-beads",
      "execution_count": 139,
      "outputs": [
        {
          "output_type": "display_data",
          "data": {
            "image/png": "[encoded data removed]",
            "text/plain": [
              "<Figure size 1080x432 with 4 Axes>"
            ]
          },
          "metadata": {
            "needs_background": "light"
          }
        },
        {
          "output_type": "display_data",
          "data": {
            "image/png": "[encoded data removed]",
            "text/plain": [
              "<Figure size 1080x432 with 4 Axes>"
            ]
          },
          "metadata": {
            "needs_background": "light"
          }
        },
        {
          "output_type": "display_data",
          "data": {
            "image/png": "[encoded data removed]",
            "text/plain": [
              "<Figure size 1080x432 with 4 Axes>"
            ]
          },
          "metadata": {
            "needs_background": "light"
          }
        },
        {
          "output_type": "display_data",
          "data": {
            "image/png": "[encoded data removed]",
            "text/plain": [
              "<Figure size 1080x432 with 4 Axes>"
            ]
          },
          "metadata": {
            "needs_background": "light"
          }
        },
        {
          "output_type": "display_data",
          "data": {
            "image/png": "[encoded data removed]",
            "text/plain": [
              "<Figure size 1080x432 with 4 Axes>"
            ]
          },
          "metadata": {
            "needs_background": "light"
          }
        },
        {
          "output_type": "display_data",
          "data": {
            "image/png": "[encoded data removed]",
            "text/plain": [
              "<Figure size 1080x432 with 4 Axes>"
            ]
          },
          "metadata": {
            "needs_background": "light"
          }
        },
        {
          "output_type": "display_data",
          "data": {
            "image/png": "[encoded data removed]",
            "text/plain": [
              "<Figure size 1080x432 with 4 Axes>"
            ]
          },
          "metadata": {
            "needs_background": "light"
          }
        },
        {
          "output_type": "display_data",
          "data": {
            "image/png": "[encoded data removed]",
            "text/plain": [
              "<Figure size 1080x432 with 4 Axes>"
            ]
          },
          "metadata": {
            "needs_background": "light"
          }
        },
        {
          "output_type": "display_data",
          "data": {
            "image/png": "[encoded data removed]",
            "text/plain": [
              "<Figure size 1080x432 with 4 Axes>"
            ]
          },
          "metadata": {
            "needs_background": "light"
          }
        },
        {
          "output_type": "display_data",
          "data": {
            "image/png": "[encoded data removed]",
            "text/plain": [
              "<Figure size 1080x432 with 4 Axes>"
            ]
          },
          "metadata": {
            "needs_background": "light"
          }
        }
      ]
    },
    {
      "cell_type": "markdown",
      "metadata": {
        "id": "steady-punishment"
      },
      "source": [
        "## Task: Anomaly detection"
      ],
      "id": "steady-punishment"
    },
    {
      "cell_type": "markdown",
      "metadata": {
        "id": "english-daniel"
      },
      "source": [
        "Autoencoders are often used in anomaly detection. In such application, the model is train on 'normal' dataset, learning to  compressed representations typical objects. When feeding with untypical sample, the autoencoder is expected to reconstruct object much worse, therefore the reconstrution error should be much larger. "
      ],
      "id": "english-daniel"
    },
    {
      "cell_type": "markdown",
      "metadata": {
        "id": "talented-forestry"
      },
      "source": [
        "Now we will try to distinguish letters from digits. For the letters sample we will use EMNIST is dataset (similar to MNIST, but apart from digits it contains letters). We intend to compare reconstruction errors on digits and letters."
      ],
      "id": "talented-forestry"
    },
    {
      "cell_type": "code",
      "metadata": {
        "id": "qualified-ecology"
      },
      "source": [
        "from torchvision.datasets import EMNIST"
      ],
      "id": "qualified-ecology",
      "execution_count": 140,
      "outputs": []
    },
    {
      "cell_type": "code",
      "metadata": {
        "colab": {
          "base_uri": "https://localhost:8080/"
        },
        "id": "alpine-louis",
        "outputId": "8f1b356b-3aa0-40bc-ef26-6dd69032095b"
      },
      "source": [
        "emnist_test = EMNIST(DATASETS_PATH, split='letters', train=False, download=True, transform=transforms.ToTensor());\n",
        "print(emnist_test.classes)"
      ],
      "id": "alpine-louis",
      "execution_count": 141,
      "outputs": [
        {
          "output_type": "stream",
          "name": "stdout",
          "text": [
            "['N/A', 'a', 'b', 'c', 'd', 'e', 'f', 'g', 'h', 'i', 'j', 'k', 'l', 'm', 'n', 'o', 'p', 'q', 'r', 's', 't', 'u', 'v', 'w', 'x', 'y', 'z']\n"
          ]
        }
      ]
    },
    {
      "cell_type": "markdown",
      "metadata": {
        "id": "aware-motivation"
      },
      "source": [
        "Let's look at some letter examples:"
      ],
      "id": "aware-motivation"
    },
    {
      "cell_type": "code",
      "metadata": {
        "colab": {
          "base_uri": "https://localhost:8080/",
          "height": 208
        },
        "id": "different-aircraft",
        "outputId": "d29b9ad9-709a-4e3a-c4ce-d5add9752376"
      },
      "source": [
        "fig, axs = plt.subplots(ncols=5, figsize=(15,5))\n",
        "for i, idx in enumerate(np.random.choice(np.arange(len(emnist_test)), 5)):\n",
        "    img, target = emnist_test[idx]\n",
        "    axs[i].imshow(img[0], vmin=0, vmax=1)\n",
        "    axs[i].set_title(emnist_test.classes[target]);"
      ],
      "id": "different-aircraft",
      "execution_count": 142,
      "outputs": [
        {
          "output_type": "display_data",
          "data": {
            "image/png": "[encoded data removed]",
            "text/plain": [
              "<Figure size 1080x360 with 5 Axes>"
            ]
          },
          "metadata": {
            "needs_background": "light"
          }
        }
      ]
    },
    {
      "cell_type": "markdown",
      "metadata": {
        "id": "nasty-lancaster"
      },
      "source": [
        "As you, that the letters are rotated and mirrored. For out purpose it doesn't matter. If you care, use `img[0].T` for displaying or change dataset transform to `transforms.Compose([transforms.ToTensor(), transforms.Lambda(lambda img: img.transpose(1, 2))])`"
      ],
      "id": "nasty-lancaster"
    },
    {
      "cell_type": "code",
      "metadata": {
        "id": "j45oijIjwMDj",
        "colab": {
          "base_uri": "https://localhost:8080/",
          "height": 208
        },
        "outputId": "9e149573-4b84-4553-c2da-c2f4231b7363"
      },
      "source": [
        "fig, axs = plt.subplots(ncols=5, figsize=(15,5))\n",
        "for i, idx in enumerate(np.random.choice(np.arange(len(emnist_test)), 5)):\n",
        "    img, target = emnist_test[idx]\n",
        "    axs[i].imshow(img[0].T, vmin=0, vmax=1)\n",
        "    axs[i].set_title(emnist_test.classes[target]);"
      ],
      "id": "j45oijIjwMDj",
      "execution_count": 84,
      "outputs": [
        {
          "output_type": "display_data",
          "data": {
            "image/png": "[encoded data removed]",
            "text/plain": [
              "<Figure size 1080x360 with 5 Axes>"
            ]
          },
          "metadata": {
            "needs_background": "light"
          }
        }
      ]
    },
    {
      "cell_type": "code",
      "metadata": {
        "id": "fCK5pfeofaQ7"
      },
      "source": [
        "transform = transforms.Compose([transforms.ToTensor(), transforms.Lambda(lambda img: img.transpose(1, 2))])\n",
        "emnist_test = EMNIST(DATASETS_PATH, split='letters', train=False, download=True, transform=transform);"
      ],
      "id": "fCK5pfeofaQ7",
      "execution_count": 143,
      "outputs": []
    },
    {
      "cell_type": "code",
      "metadata": {
        "id": "76ezfAaEfi_7",
        "outputId": "1928067b-471e-41e6-e4ab-e6656178faf0",
        "colab": {
          "base_uri": "https://localhost:8080/",
          "height": 208
        }
      },
      "source": [
        "fig, axs = plt.subplots(ncols=5, figsize=(15,5))\n",
        "for i, idx in enumerate(np.random.choice(np.arange(len(emnist_test)), 5)):\n",
        "    img, target = emnist_test[idx]\n",
        "    axs[i].imshow(img[0], vmin=0, vmax=1)\n",
        "    axs[i].set_title(emnist_test.classes[target]);"
      ],
      "id": "76ezfAaEfi_7",
      "execution_count": 145,
      "outputs": [
        {
          "output_type": "display_data",
          "data": {
            "image/png": "[encoded data removed]",
            "text/plain": [
              "<Figure size 1080x360 with 5 Axes>"
            ]
          },
          "metadata": {
            "needs_background": "light"
          }
        }
      ]
    },
    {
      "cell_type": "markdown",
      "metadata": {
        "id": "simple-accountability"
      },
      "source": [
        "#### Your task\n",
        "Compute reconstruction errors for 1000 digits and 1000 letters."
      ],
      "id": "simple-accountability"
    },
    {
      "cell_type": "code",
      "metadata": {
        "id": "daily-burner"
      },
      "source": [
        "def calc_reconstruction_error(x, model):\n",
        "    # your code here\n",
        "    # ...\n",
        "    # reconstruction_error = ...\n",
        "    return reconstruction_error"
      ],
      "id": "daily-burner",
      "execution_count": 85,
      "outputs": []
    },
    {
      "cell_type": "markdown",
      "metadata": {
        "id": "atlantic-nevada"
      },
      "source": [
        "Tip: rember to use torch.no_grad() and set the same device for model and data"
      ],
      "id": "atlantic-nevada"
    },
    {
      "cell_type": "code",
      "metadata": {
        "id": "underlying-worth"
      },
      "source": [
        "digit_indices = np.random.choice(np.arange(len(mnist_test)), 1000)\n",
        "letter_indices = np.random.choice(np.arange(len(emnist_test)), 1000)"
      ],
      "id": "underlying-worth",
      "execution_count": 146,
      "outputs": []
    },
    {
      "cell_type": "code",
      "metadata": {
        "id": "plastic-novelty",
        "outputId": "c76d8ba2-28af-4c58-ad34-3f4ccde90c0b",
        "colab": {
          "base_uri": "https://localhost:8080/",
          "height": 202
        }
      },
      "source": [
        "digits_reconstruction_errors= []\n",
        "autoencoder = autoencoder.eval().to(device)\n",
        "for idx in digit_indices:\n",
        "    # your code here\n",
        "    # ...\n",
        "    # reconstruction_error = ...\n",
        "    digits_reconstruction_errors.append(reconstruction_error)    "
      ],
      "id": "plastic-novelty",
      "execution_count": 87,
      "outputs": [
        {
          "output_type": "error",
          "ename": "NameError",
          "evalue": "ignored",
          "traceback": [
            "\u001b[0;31m---------------------------------------------------------------------------\u001b[0m",
            "\u001b[0;31mNameError\u001b[0m                                 Traceback (most recent call last)",
            "\u001b[0;32m<ipython-input-87-2624c159fc0a>\u001b[0m in \u001b[0;36m<module>\u001b[0;34m()\u001b[0m\n\u001b[1;32m      5\u001b[0m     \u001b[0;31m# ...\u001b[0m\u001b[0;34m\u001b[0m\u001b[0;34m\u001b[0m\u001b[0;34m\u001b[0m\u001b[0m\n\u001b[1;32m      6\u001b[0m     \u001b[0;31m# reconstruction_error = ...\u001b[0m\u001b[0;34m\u001b[0m\u001b[0;34m\u001b[0m\u001b[0;34m\u001b[0m\u001b[0m\n\u001b[0;32m----> 7\u001b[0;31m     \u001b[0mdigits_reconstruction_errors\u001b[0m\u001b[0;34m.\u001b[0m\u001b[0mappend\u001b[0m\u001b[0;34m(\u001b[0m\u001b[0mreconstruction_error\u001b[0m\u001b[0;34m)\u001b[0m\u001b[0;34m\u001b[0m\u001b[0;34m\u001b[0m\u001b[0m\n\u001b[0m",
            "\u001b[0;31mNameError\u001b[0m: name 'reconstruction_error' is not defined"
          ]
        }
      ]
    },
    {
      "cell_type": "code",
      "metadata": {
        "id": "tender-banking"
      },
      "source": [
        "letters_reconstruction_errors= []\n",
        "# your code here"
      ],
      "id": "tender-banking",
      "execution_count": null,
      "outputs": []
    },
    {
      "cell_type": "markdown",
      "metadata": {
        "id": "indonesian-milan"
      },
      "source": [
        "Solution:"
      ],
      "id": "indonesian-milan"
    },
    {
      "cell_type": "code",
      "metadata": {
        "id": "african-express"
      },
      "source": [
        "criterion = nn.MSELoss()\n",
        "@torch.no_grad()\n",
        "def calc_reconstruction_error(x, model):\n",
        "    x = x.unsqueeze(0).to(device)\n",
        "    x_hat = model(x)\n",
        "    reconstruction_error = criterion(x, x_hat).item()\n",
        "    return reconstruction_error\n",
        "\n",
        "# #you can also use numpy\n",
        "# @torch.no_grad()\n",
        "# def calc_reconstruction_error(x, model):\n",
        "#     x_hat = model(x.unsqueeze(0).to(device))[0]\n",
        "#     reconstruction_error = np.mean((x_hat.cpu().numpy() - x.cpu().numpy())**2)\n",
        "#     return reconstruction_error"
      ],
      "id": "african-express",
      "execution_count": 147,
      "outputs": []
    },
    {
      "cell_type": "code",
      "metadata": {
        "id": "digital-shanghai"
      },
      "source": [
        "digits_reconstruction_errors= []\n",
        "autoencoder = autoencoder.eval().to(device)\n",
        "for idx in digit_indices:\n",
        "    img, _ = mnist_test[idx]\n",
        "    reconstruction_error = calc_reconstruction_error(img, autoencoder)\n",
        "    digits_reconstruction_errors.append(reconstruction_error)    "
      ],
      "id": "digital-shanghai",
      "execution_count": 148,
      "outputs": []
    },
    {
      "cell_type": "code",
      "metadata": {
        "id": "round-remains"
      },
      "source": [
        "letters_reconstruction_errors= []\n",
        "autoencoder = autoencoder.eval().to(device)\n",
        "for idx in letter_indices:\n",
        "    img, _ = emnist_test[idx]\n",
        "    reconstruction_error = calc_reconstruction_error(img, autoencoder)\n",
        "    letters_reconstruction_errors.append(reconstruction_error)    "
      ],
      "id": "round-remains",
      "execution_count": 149,
      "outputs": []
    },
    {
      "cell_type": "markdown",
      "metadata": {
        "id": "average-threshold"
      },
      "source": [
        "Visualize the results:"
      ],
      "id": "average-threshold"
    },
    {
      "cell_type": "code",
      "metadata": {
        "id": "consistent-undergraduate",
        "colab": {
          "base_uri": "https://localhost:8080/",
          "height": 265
        },
        "outputId": "465c63d8-975a-49b3-ff18-1e8d22859628"
      },
      "source": [
        "plt.hist(digits_reconstruction_errors, alpha=0.5, label='digits');\n",
        "plt.hist(letters_reconstruction_errors, alpha=0.5, label='letters');\n",
        "plt.legend();"
      ],
      "id": "consistent-undergraduate",
      "execution_count": 150,
      "outputs": [
        {
          "output_type": "display_data",
          "data": {
            "image/png": "[encoded data removed]",
            "text/plain": [
              "<Figure size 432x288 with 1 Axes>"
            ]
          },
          "metadata": {
            "needs_background": "light"
          }
        }
      ]
    },
    {
      "cell_type": "markdown",
      "metadata": {
        "id": "threatened-reception"
      },
      "source": [
        "Short analysis of result"
      ],
      "id": "threatened-reception"
    },
    {
      "cell_type": "code",
      "metadata": {
        "id": "literary-pacific"
      },
      "source": [
        "import pandas as pd\n",
        "from sklearn.metrics import precision_recall_curve, roc_auc_score"
      ],
      "id": "literary-pacific",
      "execution_count": 151,
      "outputs": []
    },
    {
      "cell_type": "code",
      "metadata": {
        "colab": {
          "base_uri": "https://localhost:8080/",
          "height": 357
        },
        "id": "opposite-trauma",
        "outputId": "68b4e37f-2ea1-4f9f-86c6-fa84d5cfaf5e"
      },
      "source": [
        "df = pd.DataFrame([{'class': 0, 'error': x} for x in digits_reconstruction_errors] + [{'class': 1, 'error': x} for x in letters_reconstruction_errors])\n",
        "df.sample(10)"
      ],
      "id": "opposite-trauma",
      "execution_count": 152,
      "outputs": [
        {
          "output_type": "execute_result",
          "data": {
            "text/html": [
              "<div>\n",
              "<style scoped>\n",
              "    .dataframe tbody tr th:only-of-type {\n",
              "        vertical-align: middle;\n",
              "    }\n",
              "\n",
              "    .dataframe tbody tr th {\n",
              "        vertical-align: top;\n",
              "    }\n",
              "\n",
              "    .dataframe thead th {\n",
              "        text-align: right;\n",
              "    }\n",
              "</style>\n",
              "<table border=\"1\" class=\"dataframe\">\n",
              "  <thead>\n",
              "    <tr style=\"text-align: right;\">\n",
              "      <th></th>\n",
              "      <th>class</th>\n",
              "      <th>error</th>\n",
              "    </tr>\n",
              "  </thead>\n",
              "  <tbody>\n",
              "    <tr>\n",
              "      <th>1857</th>\n",
              "      <td>1</td>\n",
              "      <td>0.019872</td>\n",
              "    </tr>\n",
              "    <tr>\n",
              "      <th>786</th>\n",
              "      <td>0</td>\n",
              "      <td>0.012702</td>\n",
              "    </tr>\n",
              "    <tr>\n",
              "      <th>1316</th>\n",
              "      <td>1</td>\n",
              "      <td>0.064299</td>\n",
              "    </tr>\n",
              "    <tr>\n",
              "      <th>1141</th>\n",
              "      <td>1</td>\n",
              "      <td>0.113717</td>\n",
              "    </tr>\n",
              "    <tr>\n",
              "      <th>738</th>\n",
              "      <td>0</td>\n",
              "      <td>0.010066</td>\n",
              "    </tr>\n",
              "    <tr>\n",
              "      <th>1951</th>\n",
              "      <td>1</td>\n",
              "      <td>0.098177</td>\n",
              "    </tr>\n",
              "    <tr>\n",
              "      <th>1658</th>\n",
              "      <td>1</td>\n",
              "      <td>0.015394</td>\n",
              "    </tr>\n",
              "    <tr>\n",
              "      <th>1441</th>\n",
              "      <td>1</td>\n",
              "      <td>0.073124</td>\n",
              "    </tr>\n",
              "    <tr>\n",
              "      <th>957</th>\n",
              "      <td>0</td>\n",
              "      <td>0.011127</td>\n",
              "    </tr>\n",
              "    <tr>\n",
              "      <th>1207</th>\n",
              "      <td>1</td>\n",
              "      <td>0.006644</td>\n",
              "    </tr>\n",
              "  </tbody>\n",
              "</table>\n",
              "</div>"
            ],
            "text/plain": [
              "      class     error\n",
              "1857      1  0.019872\n",
              "786       0  0.012702\n",
              "1316      1  0.064299\n",
              "1141      1  0.113717\n",
              "738       0  0.010066\n",
              "1951      1  0.098177\n",
              "1658      1  0.015394\n",
              "1441      1  0.073124\n",
              "957       0  0.011127\n",
              "1207      1  0.006644"
            ]
          },
          "metadata": {},
          "execution_count": 152
        }
      ]
    },
    {
      "cell_type": "code",
      "metadata": {
        "id": "aggressive-lesson"
      },
      "source": [
        "precision, recall, thresholds = precision_recall_curve(df['class'], df['error'])\n",
        "rocauc = roc_auc_score(df['class'], df['error'])"
      ],
      "id": "aggressive-lesson",
      "execution_count": 153,
      "outputs": []
    },
    {
      "cell_type": "code",
      "metadata": {
        "colab": {
          "base_uri": "https://localhost:8080/",
          "height": 313
        },
        "id": "endless-jason",
        "outputId": "e70664b4-1e6e-43dd-cb2b-ff7a27b0a495"
      },
      "source": [
        "plt.plot(recall, precision)\n",
        "plt.xlabel('recall');\n",
        "plt.ylabel('precision');\n",
        "plt.title(f'Area under curve: {rocauc:0.3f}')"
      ],
      "id": "endless-jason",
      "execution_count": 154,
      "outputs": [
        {
          "output_type": "execute_result",
          "data": {
            "text/plain": [
              "Text(0.5, 1.0, 'Area under curve: 0.917')"
            ]
          },
          "metadata": {},
          "execution_count": 154
        },
        {
          "output_type": "display_data",
          "data": {
            "image/png": "[encoded data removed]",
            "text/plain": [
              "<Figure size 432x288 with 1 Axes>"
            ]
          },
          "metadata": {
            "needs_background": "light"
          }
        }
      ]
    }
  ]
}