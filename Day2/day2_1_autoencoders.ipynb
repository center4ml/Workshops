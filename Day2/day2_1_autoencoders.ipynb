{
  "cells": [
    {
      "cell_type": "markdown",
      "source": [
        "[![Open In Colab](https://colab.research.google.com/assets/colab-badge.svg)](https://colab.research.google.com/github/center4ml/Workshops/blob/2022_2/Day2/day2_1_autoencoders.ipynb)"
      ],
      "metadata": {
        "id": "SSj-tj46q6mo"
      },
      "id": "SSj-tj46q6mo"
    },
    {
      "cell_type": "markdown",
      "id": "graphic-railway",
      "metadata": {
        "id": "graphic-railway"
      },
      "source": [
        "# Autoencoders"
      ]
    },
    {
      "cell_type": "markdown",
      "id": "comprehensive-pride",
      "metadata": {
        "id": "comprehensive-pride"
      },
      "source": [
        "Type of neural network which typically aims to learn efficient representations (efficient coding) of the data.\n",
        "Usually autoencoders are trained in an unsupervised manner.\n",
        "\n",
        "\n",
        "### Applications\n",
        "1. Anomaly detection\n",
        "2. Pretraining\n",
        "3. Dimensionality reduction\n",
        "4. Denoising"
      ]
    },
    {
      "cell_type": "markdown",
      "id": "paperback-transparency",
      "metadata": {
        "id": "paperback-transparency"
      },
      "source": [
        "**Reconstruction**\n",
        "![Autoencoder](https://lilianweng.github.io/lil-log/assets/images/autoencoder-architecture.png)\n",
        "Source: https://lilianweng.github.io/lil-log/2018/08/12/from-autoencoder-to-beta-vae.html"
      ]
    },
    {
      "cell_type": "markdown",
      "id": "mechanical-vietnamese",
      "metadata": {
        "id": "mechanical-vietnamese"
      },
      "source": [
        "### Some more examples of autoencoders:\n",
        "- [convolutional](https://medium.com/dataseries/convolutional-autoencoder-in-pytorch-on-mnist-dataset-d65145c132ac)\n",
        "- [time series data](https://curiousily.com/posts/time-series-anomaly-detection-using-lstm-autoencoder-with-pytorch-in-python/)\n",
        "- [tabular data](https://medium.com/@vkansal/credit-card-fraud-detection-using-deep-learning-pytorch-47f680a8c5be) [(code)](https://github.com/vimalkansal/credit_card_fraud_detection/blob/master/project/credit_card_fraud_detection.ipynb)\n",
        "- [a lot of VAE](https://github.com/AntixK/PyTorch-VAE)"
      ]
    },
    {
      "cell_type": "markdown",
      "id": "naughty-cookie",
      "metadata": {
        "id": "naughty-cookie"
      },
      "source": [
        "# Recapitulation"
      ]
    },
    {
      "cell_type": "markdown",
      "id": "eligible-headquarters",
      "metadata": {
        "id": "eligible-headquarters"
      },
      "source": [
        "Import base libraries"
      ]
    },
    {
      "cell_type": "code",
      "execution_count": null,
      "id": "confidential-northern",
      "metadata": {
        "id": "confidential-northern"
      },
      "outputs": [],
      "source": [
        "import matplotlib.pyplot as plt\n",
        "import numpy as np"
      ]
    },
    {
      "cell_type": "markdown",
      "id": "athletic-battery",
      "metadata": {
        "id": "athletic-battery"
      },
      "source": [
        "Import PyTorch libraries"
      ]
    },
    {
      "cell_type": "code",
      "execution_count": null,
      "id": "conservative-conditioning",
      "metadata": {
        "id": "conservative-conditioning"
      },
      "outputs": [],
      "source": [
        "import torch\n",
        "import torchvision"
      ]
    },
    {
      "cell_type": "code",
      "execution_count": null,
      "id": "banned-dominant",
      "metadata": {
        "id": "banned-dominant"
      },
      "outputs": [],
      "source": [
        "DATASETS_PATH = 'data' # path to directory where data are to be stored"
      ]
    },
    {
      "cell_type": "code",
      "execution_count": null,
      "id": "immediate-orleans",
      "metadata": {
        "id": "immediate-orleans"
      },
      "outputs": [],
      "source": [
        "transform = torchvision.transforms.Compose(\n",
        "    [ torchvision.transforms.ToTensor(), #Converts a PIL Image or numpy.ndarray (H x W x C) in the range [0, 255] to a torch.FloatTensor of shape (C x H x W) in the range [0.0, 1.0]\n",
        "      torchvision.transforms.Normalize((0.1307), (0.3081))])"
      ]
    },
    {
      "cell_type": "code",
      "execution_count": null,
      "id": "thrown-death",
      "metadata": {
        "colab": {
          "base_uri": "https://localhost:8080/",
          "height": 423,
          "referenced_widgets": [
            "23fd0fe501c84276b729348fae994e92",
            "9f3f2daaabc24058b673f61833bfe184",
            "a0e45ebb19f94f25868b13c4748b0d6c",
            "67f4576475924f0b8c5cc29948b10f09",
            "68a2c5b1a8374fde976918000e3517ca",
            "e01d6e9067114d0d8579b01c372761c6",
            "60cc08f54ea045918beb550385c6a8fd",
            "25d627968f9c48f68154cfeec6ffde11",
            "775978538baf486abd63ad7d7ae956a2",
            "2a837f9889d64721bf4fb2ffd300b930",
            "2425e1e9875c4759923d04a145ff1e2d",
            "260a8df5bc0e4e71a57ff45a9f78bbea",
            "fb80ddea9c8c443f8b974d2817ac1710",
            "f5199feebefa4cb183d97df3442f9183",
            "f4efc0f8810441808f3e9255de97dbd0",
            "969474b352d2444e9c2b2c0d44bd9126",
            "e1dd7a145bde493b960febb93c6f095e",
            "2cbc6780861a402dbe982c14fb6ed9f3",
            "17e7636ade0a4c7c92f51c9bd9f444c9",
            "bcbe00c54b224cf4bd7738ae4877fe17",
            "71f6b6de1f894ae49726c9c6182d3a65",
            "1ffb694ae4344425bafda6603b90fd22",
            "47c7b06a7d074f0a9094d2c4a00f267c",
            "1a4ef8c2560c4c278d2a2951fbabe11d",
            "b1515829de58459c8bdddb897e4001a5",
            "03250d98a29a4acbac33f8f51eda1cee",
            "4c50f86b1b724a6096c598cf5c678e0f",
            "a30ae022235b4d3d872cde2a59c8e692",
            "b80a317059ed44b4a21e73929a19433b",
            "364b437aba97434c861a403cb5c3aeff",
            "3967777915e2421498dcc1718821875a",
            "c905e53173e74744bb45c56ea3c6612f",
            "7ab8638b73094228911a9be4b8b34673",
            "aed1a8a020e1480da478560bba01716f",
            "c4c99c992cc14dfd833669cb0c8196da",
            "adf4b450e452423fb08e3b7ca2c8f8e5",
            "404a0c2709244524b14180be47ba456e",
            "68c2f43096f44821bcb01813b3658eaa",
            "1a570ab44f4a49a3a2c37e78c9effb6f",
            "454b965e579a4014b733c7b91901dee5",
            "f4203c1747894c5dad4c6ce778e6d801",
            "79618af76b1b4e9f99c773ae52a4ead8",
            "7117b0e787e045749b075f93f4a9b027",
            "e9010188fa224583955e5b412d2aff42"
          ]
        },
        "id": "thrown-death",
        "outputId": "9b8d864c-2936-44ac-bde0-70b841905fb9"
      },
      "outputs": [
        {
          "name": "stdout",
          "output_type": "stream",
          "text": [
            "Downloading http://yann.lecun.com/exdb/mnist/train-images-idx3-ubyte.gz\n",
            "Downloading http://yann.lecun.com/exdb/mnist/train-images-idx3-ubyte.gz to data/MNIST/raw/train-images-idx3-ubyte.gz\n"
          ]
        },
        {
          "data": {
            "application/vnd.jupyter.widget-view+json": {
              "model_id": "23fd0fe501c84276b729348fae994e92",
              "version_major": 2,
              "version_minor": 0
            },
            "text/plain": [
              "  0%|          | 0/9912422 [00:00<?, ?it/s]"
            ]
          },
          "metadata": {},
          "output_type": "display_data"
        },
        {
          "name": "stdout",
          "output_type": "stream",
          "text": [
            "Extracting data/MNIST/raw/train-images-idx3-ubyte.gz to data/MNIST/raw\n",
            "\n",
            "Downloading http://yann.lecun.com/exdb/mnist/train-labels-idx1-ubyte.gz\n",
            "Downloading http://yann.lecun.com/exdb/mnist/train-labels-idx1-ubyte.gz to data/MNIST/raw/train-labels-idx1-ubyte.gz\n"
          ]
        },
        {
          "data": {
            "application/vnd.jupyter.widget-view+json": {
              "model_id": "260a8df5bc0e4e71a57ff45a9f78bbea",
              "version_major": 2,
              "version_minor": 0
            },
            "text/plain": [
              "  0%|          | 0/28881 [00:00<?, ?it/s]"
            ]
          },
          "metadata": {},
          "output_type": "display_data"
        },
        {
          "name": "stdout",
          "output_type": "stream",
          "text": [
            "Extracting data/MNIST/raw/train-labels-idx1-ubyte.gz to data/MNIST/raw\n",
            "\n",
            "Downloading http://yann.lecun.com/exdb/mnist/t10k-images-idx3-ubyte.gz\n",
            "Downloading http://yann.lecun.com/exdb/mnist/t10k-images-idx3-ubyte.gz to data/MNIST/raw/t10k-images-idx3-ubyte.gz\n"
          ]
        },
        {
          "data": {
            "application/vnd.jupyter.widget-view+json": {
              "model_id": "47c7b06a7d074f0a9094d2c4a00f267c",
              "version_major": 2,
              "version_minor": 0
            },
            "text/plain": [
              "  0%|          | 0/1648877 [00:00<?, ?it/s]"
            ]
          },
          "metadata": {},
          "output_type": "display_data"
        },
        {
          "name": "stdout",
          "output_type": "stream",
          "text": [
            "Extracting data/MNIST/raw/t10k-images-idx3-ubyte.gz to data/MNIST/raw\n",
            "\n",
            "Downloading http://yann.lecun.com/exdb/mnist/t10k-labels-idx1-ubyte.gz\n",
            "Downloading http://yann.lecun.com/exdb/mnist/t10k-labels-idx1-ubyte.gz to data/MNIST/raw/t10k-labels-idx1-ubyte.gz\n"
          ]
        },
        {
          "data": {
            "application/vnd.jupyter.widget-view+json": {
              "model_id": "aed1a8a020e1480da478560bba01716f",
              "version_major": 2,
              "version_minor": 0
            },
            "text/plain": [
              "  0%|          | 0/4542 [00:00<?, ?it/s]"
            ]
          },
          "metadata": {},
          "output_type": "display_data"
        },
        {
          "name": "stdout",
          "output_type": "stream",
          "text": [
            "Extracting data/MNIST/raw/t10k-labels-idx1-ubyte.gz to data/MNIST/raw\n",
            "\n"
          ]
        }
      ],
      "source": [
        "mnist_train = torchvision.datasets.MNIST(root=DATASETS_PATH, train=True, download=True, transform=transform)\n",
        "mnist_test = torchvision.datasets.MNIST(root=DATASETS_PATH, train=False, download=True, transform=transform);"
      ]
    },
    {
      "cell_type": "code",
      "execution_count": null,
      "id": "strong-battlefield",
      "metadata": {
        "colab": {
          "base_uri": "https://localhost:8080/",
          "height": 298
        },
        "id": "strong-battlefield",
        "outputId": "3c90e87f-9022-451e-da6c-743b2e689215"
      },
      "outputs": [
        {
          "name": "stdout",
          "output_type": "stream",
          "text": [
            "<class 'torch.Tensor'> torch.Size([1, 28, 28])\n"
          ]
        },
        {
          "data": {
            "image/png": "[encoded data removed]",
            "text/plain": [
              "<Figure size 432x288 with 1 Axes>"
            ]
          },
          "metadata": {
            "needs_background": "light"
          },
          "output_type": "display_data"
        }
      ],
      "source": [
        "train_image, train_target = mnist_train[0]    #let us examine the first sample (index 0)\n",
        "print(type(train_image), train_image.shape)\n",
        "plt.imshow(train_image[0])\n",
        "plt.title(f'target {train_target}');"
      ]
    },
    {
      "cell_type": "code",
      "execution_count": null,
      "id": "million-format",
      "metadata": {
        "id": "million-format"
      },
      "outputs": [],
      "source": [
        "class MLP(torch.nn.Module):\n",
        "    def __init__(self): # initialize model, called at model = MLP(). In genereal you can pass arguments to initializer, e.g. number or size of hidden layers (not in this example)\n",
        "        super().__init__() # must inherit from torch.nn.Module (backpropagation etc.)\n",
        "        self.mlp = torch.nn.Sequential(   #Sequential is a structure which allows stacking layers one on another in such a way, \n",
        "                                          #that output from a preceding layer serves as input to the next layer \n",
        "            torch.nn.Flatten(),   #change the last three orders in data (with dimensions 1, 28 and 28 respectively) into one order of dimensions (1*28*28)\n",
        "            torch.nn.Linear(1*28*28, 1024),  #which is used as INPUT to the first Linear layer\n",
        "            torch.nn.Sigmoid(),\n",
        "            # torch.nn.Linear(1024, 2048),   #IMPORTANT! Please observe, that the OUTPUT dimension of a preceding layer is always equal to the INPUT dimension of the next layer.\n",
        "            # torch.nn.Sigmoid(),\n",
        "            torch.nn.Linear(1024, 256),\n",
        "            torch.nn.Sigmoid(),            #Sigmoid is a nonlinear function which is used in-between layers\n",
        "            torch.nn.Linear(256, 10),\n",
        "        )\n",
        "    def forward(self, x): # run model, called at out = model(x)\n",
        "        out = self.mlp(x)\n",
        "        return out"
      ]
    },
    {
      "cell_type": "code",
      "execution_count": null,
      "id": "adverse-extent",
      "metadata": {
        "id": "adverse-extent"
      },
      "outputs": [],
      "source": [
        "batch_size = 256\n",
        "mnist_train_dataloader = torch.utils.data.DataLoader(mnist_train, batch_size=batch_size, shuffle=True)\n",
        "mnist_test_dataloader = torch.utils.data.DataLoader(mnist_test, batch_size=batch_size, shuffle=False)"
      ]
    },
    {
      "cell_type": "code",
      "execution_count": null,
      "id": "composed-effect",
      "metadata": {
        "colab": {
          "base_uri": "https://localhost:8080/"
        },
        "id": "composed-effect",
        "outputId": "f83a2013-7eea-47c1-aac8-7c9980734fcd"
      },
      "outputs": [
        {
          "name": "stdout",
          "output_type": "stream",
          "text": [
            "epoch: 0 batch: 50 current batch loss: 0.7071917653083801\n",
            "epoch: 0 batch: 100 current batch loss: 0.3226902186870575\n",
            "epoch: 0 batch: 150 current batch loss: 0.2799924910068512\n",
            "epoch: 0 batch: 200 current batch loss: 0.27158206701278687\n",
            "epoch: 1 batch: 50 current batch loss: 0.2605012357234955\n",
            "epoch: 1 batch: 100 current batch loss: 0.15305742621421814\n",
            "epoch: 1 batch: 150 current batch loss: 0.18755905330181122\n",
            "epoch: 1 batch: 200 current batch loss: 0.13314317166805267\n"
          ]
        }
      ],
      "source": [
        "net = MLP()\n",
        "optimizer = torch.optim.Adam(net.parameters(), 0.001)   #initial and fixed learning rate of 0.001. We will be using ADAM optimizer throughout the workshop\n",
        "                                                        #different choices are possible, but this is outside the scope of this workshop\n",
        "\n",
        "net.train()    #it notifies the network layers (especially batchnorm or dropout layers, which we don't use in this example) that we are doing traning\n",
        "for epoch in range(2):  #  an epoch is a training run through the whole data set\n",
        "\n",
        "    loss = 0.0\n",
        "    for batch, data in enumerate(mnist_train_dataloader):\n",
        "        batch_inputs, batch_labels = data\n",
        "        #batch_inputs.squeeze(1)     #alternatively if not for a Flatten layer, squeeze() could be used to remove the second order of the tensor, the Channel, which is one-dimensional (this index can be equal to 0 only)\n",
        "        \n",
        "        optimizer.zero_grad()\n",
        "\n",
        "        batch_outputs = net(batch_inputs)   #this line calls the forward(self, x) method of the MLP object. Please note, that the last layer of the MLP is linear \n",
        "                                            #and MLP doesn't apply \n",
        "                                            #the nonlinear activation after the last layer\n",
        "        loss = torch.nn.functional.cross_entropy(batch_outputs, batch_labels, reduction = \"mean\") #instead, nonlinear softmax is applied internally in THIS loss function\n",
        "        if (batch+1) % 50 == 0:\n",
        "            print(\"epoch:\", epoch, \"batch:\", batch+1, \"current batch loss:\", loss.item()) \n",
        "        loss.backward()       #this computes gradients as we have seen in previous workshops\n",
        "        optimizer.step()     #but this line in fact updates our neural network. \n",
        "                                ####You can experiment - comment this line and check, that the loss DOES NOT improve, meaning that the network doesn't update"
      ]
    },
    {
      "cell_type": "markdown",
      "id": "based-grain",
      "metadata": {
        "id": "based-grain"
      },
      "source": [
        "# GPU computing"
      ]
    },
    {
      "cell_type": "code",
      "execution_count": null,
      "id": "every-paris",
      "metadata": {
        "colab": {
          "base_uri": "https://localhost:8080/"
        },
        "id": "every-paris",
        "outputId": "0f50a314-ad56-4cfc-be21-ae1830107eb8"
      },
      "outputs": [
        {
          "name": "stdout",
          "output_type": "stream",
          "text": [
            "tensor([1.3000, 4.5000])\n",
            "cpu\n"
          ]
        }
      ],
      "source": [
        "t =torch.tensor([1.3, 4.5])\n",
        "print(t)\n",
        "print(t.device)"
      ]
    },
    {
      "cell_type": "markdown",
      "id": "hispanic-intent",
      "metadata": {
        "id": "hispanic-intent"
      },
      "source": [
        "check if CUDA (GPU) is available"
      ]
    },
    {
      "cell_type": "code",
      "execution_count": null,
      "id": "graphic-bible",
      "metadata": {
        "colab": {
          "base_uri": "https://localhost:8080/"
        },
        "id": "graphic-bible",
        "outputId": "d73ceee6-2b5a-4bd6-b2c5-7e939bf1f95a"
      },
      "outputs": [
        {
          "data": {
            "text/plain": [
              "True"
            ]
          },
          "execution_count": 11,
          "metadata": {},
          "output_type": "execute_result"
        }
      ],
      "source": [
        "torch.cuda.is_available()"
      ]
    },
    {
      "cell_type": "markdown",
      "id": "disturbed-massage",
      "metadata": {
        "id": "disturbed-massage"
      },
      "source": [
        "If you get `False`, in Colab panel do the following: Runtime -> Change runtime type\n",
        "Set \"Hardware accelerator\" to \"GPU\", click \"Save\"\n",
        "\n",
        "You get new runtime, all variables and imports are cleared - please run cells above (without time consuming training)\n"
      ]
    },
    {
      "cell_type": "code",
      "execution_count": null,
      "id": "integral-reader",
      "metadata": {
        "colab": {
          "base_uri": "https://localhost:8080/"
        },
        "id": "integral-reader",
        "outputId": "a7c3de44-43e0-4241-c949-f53823373fb0"
      },
      "outputs": [
        {
          "data": {
            "text/plain": [
              "True"
            ]
          },
          "execution_count": 12,
          "metadata": {},
          "output_type": "execute_result"
        }
      ],
      "source": [
        "torch.cuda.is_available()"
      ]
    },
    {
      "cell_type": "markdown",
      "id": "executed-skiing",
      "metadata": {
        "id": "executed-skiing"
      },
      "source": [
        "You can set device for computation for tensors and torch modules (e.g. models)"
      ]
    },
    {
      "cell_type": "code",
      "execution_count": null,
      "id": "systematic-auction",
      "metadata": {
        "colab": {
          "base_uri": "https://localhost:8080/"
        },
        "id": "systematic-auction",
        "outputId": "aa9c323c-ee27-4869-b242-59e7c14442e9"
      },
      "outputs": [
        {
          "name": "stdout",
          "output_type": "stream",
          "text": [
            "torch.float32 cpu\n",
            "torch.float32 cpu Tensor still on cpu\n",
            "torch.float32 cuda:0 Tensor on gpu\n"
          ]
        }
      ],
      "source": [
        "t =torch.tensor([1.3, 4.5])\n",
        "print(t.dtype, t.device)\n",
        "t_cuda = t.to('cuda'); #equivalent to t.cuda()\n",
        "print(t.dtype, t.device, 'Tensor still on cpu')\n",
        "print(t_cuda.dtype, t_cuda.device, 'Tensor on gpu')"
      ]
    },
    {
      "cell_type": "markdown",
      "id": "flexible-outline",
      "metadata": {
        "id": "flexible-outline"
      },
      "source": [
        "You can only do mathematical operation on tensors stored on the same device"
      ]
    },
    {
      "cell_type": "code",
      "execution_count": null,
      "id": "split-duration",
      "metadata": {
        "colab": {
          "base_uri": "https://localhost:8080/"
        },
        "id": "split-duration",
        "outputId": "0a87c857-2f75-44b7-d446-1d7a74071b6e"
      },
      "outputs": [
        {
          "name": "stdout",
          "output_type": "stream",
          "text": [
            "tensor([ 3.9000, 13.5000])\n",
            "tensor([ 3.9000, 13.5000], device='cuda:0')\n"
          ]
        }
      ],
      "source": [
        "print(torch.tensor([1.3, 4.5]) * torch.tensor([3.]))\n",
        "print(torch.tensor([1.3, 4.5]).to('cuda') * torch.tensor([3.]).to('cuda'))"
      ]
    },
    {
      "cell_type": "code",
      "execution_count": null,
      "id": "numerous-directory",
      "metadata": {
        "colab": {
          "base_uri": "https://localhost:8080/",
          "height": 165
        },
        "id": "numerous-directory",
        "outputId": "41f79ef2-d6ec-4bc7-89a9-ea7ecb66f74f"
      },
      "outputs": [
        {
          "ename": "RuntimeError",
          "evalue": "ignored",
          "output_type": "error",
          "traceback": [
            "\u001b[0;31m---------------------------------------------------------------------------\u001b[0m",
            "\u001b[0;31mRuntimeError\u001b[0m                              Traceback (most recent call last)",
            "\u001b[0;32m<ipython-input-15-5dc3a66bc07d>\u001b[0m in \u001b[0;36m<module>\u001b[0;34m\u001b[0m\n\u001b[0;32m----> 1\u001b[0;31m \u001b[0mprint\u001b[0m\u001b[0;34m(\u001b[0m\u001b[0mtorch\u001b[0m\u001b[0;34m.\u001b[0m\u001b[0mtensor\u001b[0m\u001b[0;34m(\u001b[0m\u001b[0;34m[\u001b[0m\u001b[0;36m1.3\u001b[0m\u001b[0;34m,\u001b[0m \u001b[0;36m4.5\u001b[0m\u001b[0;34m]\u001b[0m\u001b[0;34m)\u001b[0m\u001b[0;34m.\u001b[0m\u001b[0mto\u001b[0m\u001b[0;34m(\u001b[0m\u001b[0;34m'cuda'\u001b[0m\u001b[0;34m)\u001b[0m \u001b[0;34m*\u001b[0m \u001b[0mtorch\u001b[0m\u001b[0;34m.\u001b[0m\u001b[0mtensor\u001b[0m\u001b[0;34m(\u001b[0m\u001b[0;34m[\u001b[0m\u001b[0;36m3.\u001b[0m\u001b[0;34m]\u001b[0m\u001b[0;34m)\u001b[0m\u001b[0;34m)\u001b[0m\u001b[0;34m\u001b[0m\u001b[0;34m\u001b[0m\u001b[0m\n\u001b[0m",
            "\u001b[0;31mRuntimeError\u001b[0m: Expected all tensors to be on the same device, but found at least two devices, cuda:0 and cpu!"
          ]
        }
      ],
      "source": [
        "print(torch.tensor([1.3, 4.5]).to('cuda') * torch.tensor([3.]))"
      ]
    },
    {
      "cell_type": "markdown",
      "id": "excessive-thursday",
      "metadata": {
        "id": "excessive-thursday"
      },
      "source": [
        "Let's create sample model and input for the model"
      ]
    },
    {
      "cell_type": "code",
      "execution_count": null,
      "id": "standing-motivation",
      "metadata": {
        "id": "standing-motivation"
      },
      "outputs": [],
      "source": [
        "model = MLP()\n",
        "model_input = torch.rand(1,1,28,28)"
      ]
    },
    {
      "cell_type": "markdown",
      "id": "relative-benefit",
      "metadata": {
        "id": "relative-benefit"
      },
      "source": [
        "By dafault, all instances are created for cpu calculations"
      ]
    },
    {
      "cell_type": "code",
      "execution_count": null,
      "id": "maritime-floor",
      "metadata": {
        "id": "maritime-floor"
      },
      "outputs": [],
      "source": [
        "out = model(model_input)"
      ]
    },
    {
      "cell_type": "markdown",
      "id": "visible-queensland",
      "metadata": {
        "id": "visible-queensland"
      },
      "source": [
        "Model (torch.nn.Module) can be transferred to gpu in this way:\n",
        "(note, that Modules are transferred \"in place\", while tensors are copied)"
      ]
    },
    {
      "cell_type": "code",
      "execution_count": null,
      "id": "worthy-recipient",
      "metadata": {
        "colab": {
          "base_uri": "https://localhost:8080/"
        },
        "id": "worthy-recipient",
        "outputId": "3fb6ff33-937a-4938-bfca-2921419536fc"
      },
      "outputs": [
        {
          "data": {
            "text/plain": [
              "MLP(\n",
              "  (mlp): Sequential(\n",
              "    (0): Flatten(start_dim=1, end_dim=-1)\n",
              "    (1): Linear(in_features=784, out_features=1024, bias=True)\n",
              "    (2): Sigmoid()\n",
              "    (3): Linear(in_features=1024, out_features=256, bias=True)\n",
              "    (4): Sigmoid()\n",
              "    (5): Linear(in_features=256, out_features=10, bias=True)\n",
              "  )\n",
              ")"
            ]
          },
          "execution_count": 18,
          "metadata": {},
          "output_type": "execute_result"
        }
      ],
      "source": [
        "model.to('cuda')"
      ]
    },
    {
      "cell_type": "markdown",
      "id": "excessive-destination",
      "metadata": {
        "id": "excessive-destination"
      },
      "source": [
        "Now it will work with 'gpu' input, but fail for 'cpu'"
      ]
    },
    {
      "cell_type": "code",
      "execution_count": null,
      "id": "blocked-shadow",
      "metadata": {
        "colab": {
          "base_uri": "https://localhost:8080/",
          "height": 328
        },
        "id": "blocked-shadow",
        "outputId": "eea21a17-3e50-4095-afa7-272eaf6002e0"
      },
      "outputs": [
        {
          "ename": "RuntimeError",
          "evalue": "ignored",
          "output_type": "error",
          "traceback": [
            "\u001b[0;31m---------------------------------------------------------------------------\u001b[0m",
            "\u001b[0;31mRuntimeError\u001b[0m                              Traceback (most recent call last)",
            "\u001b[0;32m<ipython-input-19-368070024feb>\u001b[0m in \u001b[0;36m<module>\u001b[0;34m\u001b[0m\n\u001b[0;32m----> 1\u001b[0;31m \u001b[0mout\u001b[0m \u001b[0;34m=\u001b[0m \u001b[0mmodel\u001b[0m\u001b[0;34m(\u001b[0m\u001b[0mmodel_input\u001b[0m\u001b[0;34m)\u001b[0m\u001b[0;34m\u001b[0m\u001b[0;34m\u001b[0m\u001b[0m\n\u001b[0m",
            "\u001b[0;32m/usr/local/lib/python3.7/dist-packages/torch/nn/modules/module.py\u001b[0m in \u001b[0;36m_call_impl\u001b[0;34m(self, *input, **kwargs)\u001b[0m\n\u001b[1;32m   1128\u001b[0m         if not (self._backward_hooks or self._forward_hooks or self._forward_pre_hooks or _global_backward_hooks\n\u001b[1;32m   1129\u001b[0m                 or _global_forward_hooks or _global_forward_pre_hooks):\n\u001b[0;32m-> 1130\u001b[0;31m             \u001b[0;32mreturn\u001b[0m \u001b[0mforward_call\u001b[0m\u001b[0;34m(\u001b[0m\u001b[0;34m*\u001b[0m\u001b[0minput\u001b[0m\u001b[0;34m,\u001b[0m \u001b[0;34m**\u001b[0m\u001b[0mkwargs\u001b[0m\u001b[0;34m)\u001b[0m\u001b[0;34m\u001b[0m\u001b[0;34m\u001b[0m\u001b[0m\n\u001b[0m\u001b[1;32m   1131\u001b[0m         \u001b[0;31m# Do not call functions when jit is used\u001b[0m\u001b[0;34m\u001b[0m\u001b[0;34m\u001b[0m\u001b[0;34m\u001b[0m\u001b[0m\n\u001b[1;32m   1132\u001b[0m         \u001b[0mfull_backward_hooks\u001b[0m\u001b[0;34m,\u001b[0m \u001b[0mnon_full_backward_hooks\u001b[0m \u001b[0;34m=\u001b[0m \u001b[0;34m[\u001b[0m\u001b[0;34m]\u001b[0m\u001b[0;34m,\u001b[0m \u001b[0;34m[\u001b[0m\u001b[0;34m]\u001b[0m\u001b[0;34m\u001b[0m\u001b[0;34m\u001b[0m\u001b[0m\n",
            "\u001b[0;32m<ipython-input-7-c8e124f05f4d>\u001b[0m in \u001b[0;36mforward\u001b[0;34m(self, x)\u001b[0m\n\u001b[1;32m     14\u001b[0m         )\n\u001b[1;32m     15\u001b[0m     \u001b[0;32mdef\u001b[0m \u001b[0mforward\u001b[0m\u001b[0;34m(\u001b[0m\u001b[0mself\u001b[0m\u001b[0;34m,\u001b[0m \u001b[0mx\u001b[0m\u001b[0;34m)\u001b[0m\u001b[0;34m:\u001b[0m \u001b[0;31m# run model, called at out = model(x)\u001b[0m\u001b[0;34m\u001b[0m\u001b[0;34m\u001b[0m\u001b[0m\n\u001b[0;32m---> 16\u001b[0;31m         \u001b[0mout\u001b[0m \u001b[0;34m=\u001b[0m \u001b[0mself\u001b[0m\u001b[0;34m.\u001b[0m\u001b[0mmlp\u001b[0m\u001b[0;34m(\u001b[0m\u001b[0mx\u001b[0m\u001b[0;34m)\u001b[0m\u001b[0;34m\u001b[0m\u001b[0;34m\u001b[0m\u001b[0m\n\u001b[0m\u001b[1;32m     17\u001b[0m         \u001b[0;32mreturn\u001b[0m \u001b[0mout\u001b[0m\u001b[0;34m\u001b[0m\u001b[0;34m\u001b[0m\u001b[0m\n",
            "\u001b[0;32m/usr/local/lib/python3.7/dist-packages/torch/nn/modules/module.py\u001b[0m in \u001b[0;36m_call_impl\u001b[0;34m(self, *input, **kwargs)\u001b[0m\n\u001b[1;32m   1128\u001b[0m         if not (self._backward_hooks or self._forward_hooks or self._forward_pre_hooks or _global_backward_hooks\n\u001b[1;32m   1129\u001b[0m                 or _global_forward_hooks or _global_forward_pre_hooks):\n\u001b[0;32m-> 1130\u001b[0;31m             \u001b[0;32mreturn\u001b[0m \u001b[0mforward_call\u001b[0m\u001b[0;34m(\u001b[0m\u001b[0;34m*\u001b[0m\u001b[0minput\u001b[0m\u001b[0;34m,\u001b[0m \u001b[0;34m**\u001b[0m\u001b[0mkwargs\u001b[0m\u001b[0;34m)\u001b[0m\u001b[0;34m\u001b[0m\u001b[0;34m\u001b[0m\u001b[0m\n\u001b[0m\u001b[1;32m   1131\u001b[0m         \u001b[0;31m# Do not call functions when jit is used\u001b[0m\u001b[0;34m\u001b[0m\u001b[0;34m\u001b[0m\u001b[0;34m\u001b[0m\u001b[0m\n\u001b[1;32m   1132\u001b[0m         \u001b[0mfull_backward_hooks\u001b[0m\u001b[0;34m,\u001b[0m \u001b[0mnon_full_backward_hooks\u001b[0m \u001b[0;34m=\u001b[0m \u001b[0;34m[\u001b[0m\u001b[0;34m]\u001b[0m\u001b[0;34m,\u001b[0m \u001b[0;34m[\u001b[0m\u001b[0;34m]\u001b[0m\u001b[0;34m\u001b[0m\u001b[0;34m\u001b[0m\u001b[0m\n",
            "\u001b[0;32m/usr/local/lib/python3.7/dist-packages/torch/nn/modules/container.py\u001b[0m in \u001b[0;36mforward\u001b[0;34m(self, input)\u001b[0m\n\u001b[1;32m    137\u001b[0m     \u001b[0;32mdef\u001b[0m \u001b[0mforward\u001b[0m\u001b[0;34m(\u001b[0m\u001b[0mself\u001b[0m\u001b[0;34m,\u001b[0m \u001b[0minput\u001b[0m\u001b[0;34m)\u001b[0m\u001b[0;34m:\u001b[0m\u001b[0;34m\u001b[0m\u001b[0;34m\u001b[0m\u001b[0m\n\u001b[1;32m    138\u001b[0m         \u001b[0;32mfor\u001b[0m \u001b[0mmodule\u001b[0m \u001b[0;32min\u001b[0m \u001b[0mself\u001b[0m\u001b[0;34m:\u001b[0m\u001b[0;34m\u001b[0m\u001b[0;34m\u001b[0m\u001b[0m\n\u001b[0;32m--> 139\u001b[0;31m             \u001b[0minput\u001b[0m \u001b[0;34m=\u001b[0m \u001b[0mmodule\u001b[0m\u001b[0;34m(\u001b[0m\u001b[0minput\u001b[0m\u001b[0;34m)\u001b[0m\u001b[0;34m\u001b[0m\u001b[0;34m\u001b[0m\u001b[0m\n\u001b[0m\u001b[1;32m    140\u001b[0m         \u001b[0;32mreturn\u001b[0m \u001b[0minput\u001b[0m\u001b[0;34m\u001b[0m\u001b[0;34m\u001b[0m\u001b[0m\n\u001b[1;32m    141\u001b[0m \u001b[0;34m\u001b[0m\u001b[0m\n",
            "\u001b[0;32m/usr/local/lib/python3.7/dist-packages/torch/nn/modules/module.py\u001b[0m in \u001b[0;36m_call_impl\u001b[0;34m(self, *input, **kwargs)\u001b[0m\n\u001b[1;32m   1128\u001b[0m         if not (self._backward_hooks or self._forward_hooks or self._forward_pre_hooks or _global_backward_hooks\n\u001b[1;32m   1129\u001b[0m                 or _global_forward_hooks or _global_forward_pre_hooks):\n\u001b[0;32m-> 1130\u001b[0;31m             \u001b[0;32mreturn\u001b[0m \u001b[0mforward_call\u001b[0m\u001b[0;34m(\u001b[0m\u001b[0;34m*\u001b[0m\u001b[0minput\u001b[0m\u001b[0;34m,\u001b[0m \u001b[0;34m**\u001b[0m\u001b[0mkwargs\u001b[0m\u001b[0;34m)\u001b[0m\u001b[0;34m\u001b[0m\u001b[0;34m\u001b[0m\u001b[0m\n\u001b[0m\u001b[1;32m   1131\u001b[0m         \u001b[0;31m# Do not call functions when jit is used\u001b[0m\u001b[0;34m\u001b[0m\u001b[0;34m\u001b[0m\u001b[0;34m\u001b[0m\u001b[0m\n\u001b[1;32m   1132\u001b[0m         \u001b[0mfull_backward_hooks\u001b[0m\u001b[0;34m,\u001b[0m \u001b[0mnon_full_backward_hooks\u001b[0m \u001b[0;34m=\u001b[0m \u001b[0;34m[\u001b[0m\u001b[0;34m]\u001b[0m\u001b[0;34m,\u001b[0m \u001b[0;34m[\u001b[0m\u001b[0;34m]\u001b[0m\u001b[0;34m\u001b[0m\u001b[0;34m\u001b[0m\u001b[0m\n",
            "\u001b[0;32m/usr/local/lib/python3.7/dist-packages/torch/nn/modules/linear.py\u001b[0m in \u001b[0;36mforward\u001b[0;34m(self, input)\u001b[0m\n\u001b[1;32m    112\u001b[0m \u001b[0;34m\u001b[0m\u001b[0m\n\u001b[1;32m    113\u001b[0m     \u001b[0;32mdef\u001b[0m \u001b[0mforward\u001b[0m\u001b[0;34m(\u001b[0m\u001b[0mself\u001b[0m\u001b[0;34m,\u001b[0m \u001b[0minput\u001b[0m\u001b[0;34m:\u001b[0m \u001b[0mTensor\u001b[0m\u001b[0;34m)\u001b[0m \u001b[0;34m->\u001b[0m \u001b[0mTensor\u001b[0m\u001b[0;34m:\u001b[0m\u001b[0;34m\u001b[0m\u001b[0;34m\u001b[0m\u001b[0m\n\u001b[0;32m--> 114\u001b[0;31m         \u001b[0;32mreturn\u001b[0m \u001b[0mF\u001b[0m\u001b[0;34m.\u001b[0m\u001b[0mlinear\u001b[0m\u001b[0;34m(\u001b[0m\u001b[0minput\u001b[0m\u001b[0;34m,\u001b[0m \u001b[0mself\u001b[0m\u001b[0;34m.\u001b[0m\u001b[0mweight\u001b[0m\u001b[0;34m,\u001b[0m \u001b[0mself\u001b[0m\u001b[0;34m.\u001b[0m\u001b[0mbias\u001b[0m\u001b[0;34m)\u001b[0m\u001b[0;34m\u001b[0m\u001b[0;34m\u001b[0m\u001b[0m\n\u001b[0m\u001b[1;32m    115\u001b[0m \u001b[0;34m\u001b[0m\u001b[0m\n\u001b[1;32m    116\u001b[0m     \u001b[0;32mdef\u001b[0m \u001b[0mextra_repr\u001b[0m\u001b[0;34m(\u001b[0m\u001b[0mself\u001b[0m\u001b[0;34m)\u001b[0m \u001b[0;34m->\u001b[0m \u001b[0mstr\u001b[0m\u001b[0;34m:\u001b[0m\u001b[0;34m\u001b[0m\u001b[0;34m\u001b[0m\u001b[0m\n",
            "\u001b[0;31mRuntimeError\u001b[0m: Expected all tensors to be on the same device, but found at least two devices, cuda:0 and cpu! (when checking argument for argument mat1 in method wrapper_addmm)"
          ]
        }
      ],
      "source": [
        "out = model(model_input)"
      ]
    },
    {
      "cell_type": "code",
      "execution_count": null,
      "id": "latest-mitchell",
      "metadata": {
        "id": "latest-mitchell"
      },
      "outputs": [],
      "source": [
        "out = model(model_input.to('cuda'))"
      ]
    },
    {
      "cell_type": "markdown",
      "id": "renewable-myanmar",
      "metadata": {
        "id": "renewable-myanmar"
      },
      "source": [
        "The output is also located on gpu"
      ]
    },
    {
      "cell_type": "code",
      "execution_count": null,
      "id": "polish-catalyst",
      "metadata": {
        "colab": {
          "base_uri": "https://localhost:8080/"
        },
        "id": "polish-catalyst",
        "outputId": "359d364a-fff6-40d7-967f-b0ebba5e09ed"
      },
      "outputs": [
        {
          "name": "stdout",
          "output_type": "stream",
          "text": [
            "cuda:0\n"
          ]
        }
      ],
      "source": [
        "print(out.device)"
      ]
    },
    {
      "cell_type": "markdown",
      "id": "premium-creativity",
      "metadata": {
        "id": "premium-creativity"
      },
      "source": [
        "Caution! PyTorch Modules (e.g. models) do not have 'device' attribute (you will get `AttributeError`)"
      ]
    },
    {
      "cell_type": "code",
      "execution_count": null,
      "id": "capable-anime",
      "metadata": {
        "colab": {
          "base_uri": "https://localhost:8080/",
          "height": 298
        },
        "id": "capable-anime",
        "outputId": "a00580a8-6376-4eed-848c-6a49fc48df49"
      },
      "outputs": [
        {
          "ename": "AttributeError",
          "evalue": "ignored",
          "output_type": "error",
          "traceback": [
            "\u001b[0;31m---------------------------------------------------------------------------\u001b[0m",
            "\u001b[0;31mAttributeError\u001b[0m                            Traceback (most recent call last)",
            "\u001b[0;32m<ipython-input-19-12a22a2b52d7>\u001b[0m in \u001b[0;36m<module>\u001b[0;34m()\u001b[0m\n\u001b[0;32m----> 1\u001b[0;31m \u001b[0mmodel\u001b[0m\u001b[0;34m.\u001b[0m\u001b[0mdevice\u001b[0m\u001b[0;34m\u001b[0m\u001b[0;34m\u001b[0m\u001b[0m\n\u001b[0m",
            "\u001b[0;32m/usr/local/lib/python3.7/dist-packages/torch/nn/modules/module.py\u001b[0m in \u001b[0;36m__getattr__\u001b[0;34m(self, name)\u001b[0m\n\u001b[1;32m   1176\u001b[0m                 \u001b[0;32mreturn\u001b[0m \u001b[0mmodules\u001b[0m\u001b[0;34m[\u001b[0m\u001b[0mname\u001b[0m\u001b[0;34m]\u001b[0m\u001b[0;34m\u001b[0m\u001b[0;34m\u001b[0m\u001b[0m\n\u001b[1;32m   1177\u001b[0m         raise AttributeError(\"'{}' object has no attribute '{}'\".format(\n\u001b[0;32m-> 1178\u001b[0;31m             type(self).__name__, name))\n\u001b[0m\u001b[1;32m   1179\u001b[0m \u001b[0;34m\u001b[0m\u001b[0m\n\u001b[1;32m   1180\u001b[0m     \u001b[0;32mdef\u001b[0m \u001b[0m__setattr__\u001b[0m\u001b[0;34m(\u001b[0m\u001b[0mself\u001b[0m\u001b[0;34m,\u001b[0m \u001b[0mname\u001b[0m\u001b[0;34m:\u001b[0m \u001b[0mstr\u001b[0m\u001b[0;34m,\u001b[0m \u001b[0mvalue\u001b[0m\u001b[0;34m:\u001b[0m \u001b[0mUnion\u001b[0m\u001b[0;34m[\u001b[0m\u001b[0mTensor\u001b[0m\u001b[0;34m,\u001b[0m \u001b[0;34m'Module'\u001b[0m\u001b[0;34m]\u001b[0m\u001b[0;34m)\u001b[0m \u001b[0;34m->\u001b[0m \u001b[0;32mNone\u001b[0m\u001b[0;34m:\u001b[0m\u001b[0;34m\u001b[0m\u001b[0;34m\u001b[0m\u001b[0m\n",
            "\u001b[0;31mAttributeError\u001b[0m: 'MLP' object has no attribute 'device'"
          ]
        }
      ],
      "source": [
        "model.device"
      ]
    },
    {
      "cell_type": "markdown",
      "id": "surprised-fantasy",
      "metadata": {
        "id": "surprised-fantasy"
      },
      "source": [
        "In practice, we usually keep the device (CPU or GPU) as a variable, and apply it to modules and data:"
      ]
    },
    {
      "cell_type": "code",
      "execution_count": null,
      "id": "statewide-tribe",
      "metadata": {
        "colab": {
          "base_uri": "https://localhost:8080/"
        },
        "id": "statewide-tribe",
        "outputId": "bd87ddb3-50e3-419c-acbc-db2480a5aa34"
      },
      "outputs": [
        {
          "name": "stdout",
          "output_type": "stream",
          "text": [
            "device: cuda\n"
          ]
        }
      ],
      "source": [
        "device = 'cuda' if torch.cuda.is_available() else 'cpu'\n",
        "print('device:', device)"
      ]
    },
    {
      "cell_type": "code",
      "execution_count": null,
      "id": "dominican-belfast",
      "metadata": {
        "id": "dominican-belfast"
      },
      "outputs": [],
      "source": [
        "model.to(device);"
      ]
    },
    {
      "cell_type": "code",
      "execution_count": null,
      "id": "alone-prescription",
      "metadata": {
        "colab": {
          "base_uri": "https://localhost:8080/"
        },
        "id": "alone-prescription",
        "outputId": "e837bcf3-2b2b-4e16-c988-18e0e283a0d9"
      },
      "outputs": [
        {
          "name": "stdout",
          "output_type": "stream",
          "text": [
            "`model_input` device: cpu\n"
          ]
        }
      ],
      "source": [
        "model_input = torch.rand(1,1,28,28)\n",
        "print('`model_input` device:', model_input.device)"
      ]
    },
    {
      "cell_type": "code",
      "execution_count": null,
      "id": "plastic-theta",
      "metadata": {
        "colab": {
          "base_uri": "https://localhost:8080/"
        },
        "id": "plastic-theta",
        "outputId": "941a2092-4c36-4f9a-88e5-086605b1163a"
      },
      "outputs": [
        {
          "name": "stdout",
          "output_type": "stream",
          "text": [
            "output data is on device: cuda:0\n"
          ]
        }
      ],
      "source": [
        "model_output = model(model_input.to(device))\n",
        "print('output data is on device:', model_output.device)"
      ]
    },
    {
      "cell_type": "markdown",
      "id": "animal-oklahoma",
      "metadata": {
        "id": "animal-oklahoma"
      },
      "source": [
        "Before converting to numpy array, tensors must be transferred to CPU and detached from computational graph. That all takes a long command `.detach().cpu().numpy()`:"
      ]
    },
    {
      "cell_type": "code",
      "execution_count": null,
      "id": "sophisticated-threat",
      "metadata": {
        "colab": {
          "base_uri": "https://localhost:8080/"
        },
        "id": "sophisticated-threat",
        "outputId": "a910c340-f261-4da4-f655-082f71447b74"
      },
      "outputs": [
        {
          "name": "stdout",
          "output_type": "stream",
          "text": [
            "<class 'numpy.ndarray'>\n",
            "[[-0.05009422 -0.15442261  0.22541091  0.3181879   0.01090802 -0.29697174\n",
            "   0.27436942 -0.32194787  0.4088781   0.1437266 ]]\n"
          ]
        }
      ],
      "source": [
        "model_output_numpy = model_output.detach().cpu().numpy()\n",
        "print(type(model_output_numpy))\n",
        "print(model_output_numpy)"
      ]
    },
    {
      "cell_type": "markdown",
      "id": "daily-edmonton",
      "metadata": {
        "id": "daily-edmonton"
      },
      "source": [
        "# Autoencoders"
      ]
    },
    {
      "cell_type": "markdown",
      "id": "optical-ferry",
      "metadata": {
        "id": "optical-ferry"
      },
      "source": [
        "## Data"
      ]
    },
    {
      "cell_type": "markdown",
      "id": "higher-church",
      "metadata": {
        "id": "higher-church"
      },
      "source": [
        "First, let's have a look on the data. They are MNIST dataset - the same as last week."
      ]
    },
    {
      "cell_type": "markdown",
      "id": "sexual-imperial",
      "metadata": {
        "id": "sexual-imperial"
      },
      "source": [
        "This time images are not normalized"
      ]
    },
    {
      "cell_type": "code",
      "execution_count": null,
      "id": "widespread-appointment",
      "metadata": {
        "id": "widespread-appointment"
      },
      "outputs": [],
      "source": [
        "from torchvision.datasets import MNIST\n",
        "from torchvision import  transforms"
      ]
    },
    {
      "cell_type": "code",
      "execution_count": null,
      "id": "gorgeous-bankruptcy",
      "metadata": {
        "id": "gorgeous-bankruptcy"
      },
      "outputs": [],
      "source": [
        "transform = transforms.ToTensor()"
      ]
    },
    {
      "cell_type": "code",
      "execution_count": null,
      "id": "chronic-archive",
      "metadata": {
        "id": "chronic-archive"
      },
      "outputs": [],
      "source": [
        "mnist_train = MNIST(DATASETS_PATH, train=True, download=True, transform=transform);\n",
        "mnist_test = MNIST(DATASETS_PATH, train=False, download=True, transform=transform);"
      ]
    },
    {
      "cell_type": "markdown",
      "id": "noted-freedom",
      "metadata": {
        "id": "noted-freedom"
      },
      "source": [
        "Let's see what the data look like"
      ]
    },
    {
      "cell_type": "code",
      "execution_count": null,
      "id": "casual-brother",
      "metadata": {
        "colab": {
          "base_uri": "https://localhost:8080/"
        },
        "id": "casual-brother",
        "outputId": "b97a68c6-4300-4ed9-ada7-c2e15a01b929"
      },
      "outputs": [
        {
          "name": "stdout",
          "output_type": "stream",
          "text": [
            "image type: <class 'torch.Tensor'>, image shape: torch.Size([1, 28, 28]), target: 5, target class name: 5 - five\n"
          ]
        }
      ],
      "source": [
        "img, target = mnist_train[0]\n",
        "print(f'image type: {type(img)}, image shape: {img.shape}, target: {target}, target class name: {mnist_train.classes[target]}')"
      ]
    },
    {
      "cell_type": "markdown",
      "id": "incomplete-poison",
      "metadata": {
        "id": "incomplete-poison"
      },
      "source": [
        "The image is a torch.Tensor object, and the target an integer. Notice that the image has 3 dimensions: single channel and 28 height x 28 width \\\n",
        "In order to visualize it correctly, we need to reduce it to 2 dimensional  height x width tensor"
      ]
    },
    {
      "cell_type": "code",
      "execution_count": null,
      "id": "tight-reform",
      "metadata": {
        "colab": {
          "base_uri": "https://localhost:8080/",
          "height": 282
        },
        "id": "tight-reform",
        "outputId": "5f144255-8dff-44f4-81fa-539ce3233b26"
      },
      "outputs": [
        {
          "data": {
            "text/plain": [
              "<matplotlib.image.AxesImage at 0x7f0942986290>"
            ]
          },
          "execution_count": 31,
          "metadata": {},
          "output_type": "execute_result"
        },
        {
          "data": {
            "image/png": "[encoded data removed]",
            "text/plain": [
              "<Figure size 432x288 with 1 Axes>"
            ]
          },
          "metadata": {
            "needs_background": "light"
          },
          "output_type": "display_data"
        }
      ],
      "source": [
        "plt.imshow(img[0])"
      ]
    },
    {
      "cell_type": "code",
      "execution_count": null,
      "id": "nutritional-penetration",
      "metadata": {
        "colab": {
          "base_uri": "https://localhost:8080/",
          "height": 199
        },
        "id": "nutritional-penetration",
        "outputId": "65d86c22-c511-4a4e-f7bb-ece25eb6a7f4"
      },
      "outputs": [
        {
          "data": {
            "image/png": "[encoded data removed]",
            "text/plain": [
              "<Figure size 1224x360 with 6 Axes>"
            ]
          },
          "metadata": {
            "needs_background": "light"
          },
          "output_type": "display_data"
        }
      ],
      "source": [
        "num_images = 6\n",
        "fig, axs = plt.subplots(ncols=num_images, figsize=(17,5))\n",
        "for i in range(num_images):\n",
        "    img, target = mnist_train[i]\n",
        "    axs[i].imshow(img[0])\n",
        "    axs[i].set_title(f'{mnist_train.classes[target]}')\n",
        "    \n",
        "    "
      ]
    },
    {
      "cell_type": "markdown",
      "id": "cleared-garbage",
      "metadata": {
        "id": "cleared-garbage"
      },
      "source": [
        "## Model"
      ]
    },
    {
      "cell_type": "code",
      "execution_count": null,
      "id": "popular-decade",
      "metadata": {
        "id": "popular-decade"
      },
      "outputs": [],
      "source": [
        "import torch\n",
        "from torch import nn"
      ]
    },
    {
      "cell_type": "markdown",
      "id": "limited-director",
      "metadata": {
        "id": "limited-director"
      },
      "source": [
        "### Encoder"
      ]
    },
    {
      "cell_type": "markdown",
      "id": "wrong-speed",
      "metadata": {
        "id": "wrong-speed"
      },
      "source": [
        "#### Task 1.1: write encoder class with a single hidden layer"
      ]
    },
    {
      "cell_type": "markdown",
      "id": "protective-messenger",
      "metadata": {
        "id": "protective-messenger"
      },
      "source": [
        "Let's start with fully-connected model, i. e. perceptron.\n",
        "1. As the input, model should take batch of 1d vectors with of 28x28 length (number of pixels)\n",
        "2. Number of neurons in hidden layer should be an argument of constructor (`__init__` function)\n",
        "3. The same applies to the number of latent space dimesions "
      ]
    },
    {
      "cell_type": "code",
      "execution_count": null,
      "id": "radical-granny",
      "metadata": {
        "id": "radical-granny"
      },
      "outputs": [],
      "source": [
        "class Encoder_1hl(nn.Module):\n",
        "    def __init__(self, hidden_dim, latent_dim):\n",
        "        \"\"\"\n",
        "        hidden_dim: number of neurons in the hidden layer\n",
        "        latent_dim: number of latent space dimensions\n",
        "        \"\"\"\n",
        "        super().__init__()\n",
        "        #your code here\n",
        "        ...\n",
        "\n",
        "    def forward(self, x):\n",
        "        #your code here\n",
        "        out = ...\n",
        "        return out"
      ]
    },
    {
      "cell_type": "markdown",
      "id": "optional-lending",
      "metadata": {
        "id": "optional-lending"
      },
      "source": [
        "Try if it works:"
      ]
    },
    {
      "cell_type": "code",
      "execution_count": null,
      "id": "cheap-practitioner",
      "metadata": {
        "colab": {
          "base_uri": "https://localhost:8080/"
        },
        "id": "cheap-practitioner",
        "outputId": "17afa457-781e-4f61-a610-062443f59ba8"
      },
      "outputs": [
        {
          "name": "stdout",
          "output_type": "stream",
          "text": [
            "image shape: torch.Size([784])\n"
          ]
        }
      ],
      "source": [
        "#prepare data\n",
        "img, target = mnist_train[0]\n",
        "img = img.reshape(-1)\n",
        "print('image shape:', img.shape)"
      ]
    },
    {
      "cell_type": "code",
      "execution_count": null,
      "id": "technological-binary",
      "metadata": {
        "id": "technological-binary"
      },
      "outputs": [],
      "source": [
        "# prepare encoder\n",
        "hidden_dim = 64\n",
        "latent_dim = 12\n",
        "encoder = Encoder_1hl(hidden_dim, latent_dim)"
      ]
    },
    {
      "cell_type": "code",
      "execution_count": null,
      "id": "burning-hazard",
      "metadata": {
        "colab": {
          "base_uri": "https://localhost:8080/"
        },
        "id": "burning-hazard",
        "outputId": "36257a13-9995-4333-b2be-f7229f903938"
      },
      "outputs": [
        {
          "name": "stdout",
          "output_type": "stream",
          "text": [
            "batch shape: torch.Size([1, 784])\n",
            "output shape: torch.Size([1, 12])\n"
          ]
        }
      ],
      "source": [
        "# compute representation in latent space\n",
        "batch = img.unsqueeze(0) #model operates on batched input. Let's create batch with one sample\n",
        "print('batch shape:', batch.shape)\n",
        "with torch.no_grad(): #turn off gradient for this calculation\n",
        "    z = encoder(batch)\n",
        "print('output shape:', z.shape)"
      ]
    },
    {
      "cell_type": "markdown",
      "id": "verbal-incident",
      "metadata": {
        "id": "verbal-incident"
      },
      "source": [
        "### Decoder"
      ]
    },
    {
      "cell_type": "code",
      "execution_count": null,
      "id": "green-number",
      "metadata": {
        "id": "green-number"
      },
      "outputs": [],
      "source": [
        "class Decoder_1hl(nn.Module):\n",
        "    def __init__(self, hidden_dim, latent_dim):\n",
        "        \"\"\"\n",
        "        hidden_dim: number of neurons in the hidden layer\n",
        "        latent_dim: number of latent space dimensions\n",
        "        \"\"\"\n",
        "        super().__init__()\n",
        "        self.net = nn.Sequential(\n",
        "            nn.Linear(latent_dim, hidden_dim),\n",
        "            nn.LeakyReLU(),\n",
        "            nn.Linear(hidden_dim, 28*28),\n",
        "            nn.Sigmoid() # sigmoid function transforms input values (-inf, +inf) to output in range (0, 1)\n",
        "            )\n",
        "            \n",
        "\n",
        "    def forward(self, x):\n",
        "        x = self.net(x)\n",
        "        return x"
      ]
    },
    {
      "cell_type": "markdown",
      "id": "annual-photographer",
      "metadata": {
        "id": "annual-photographer"
      },
      "source": [
        "### Autoencoder = Encoder + Decoder"
      ]
    },
    {
      "cell_type": "markdown",
      "id": "adaptive-third",
      "metadata": {
        "id": "adaptive-third"
      },
      "source": [
        "Let's put it all together."
      ]
    },
    {
      "cell_type": "markdown",
      "id": "external-detail",
      "metadata": {
        "id": "external-detail"
      },
      "source": [
        "#### Task 1.2: write autoencoder class\n",
        "\n",
        "Encoder and decoder should have 1 hidden layer each"
      ]
    },
    {
      "cell_type": "code",
      "execution_count": null,
      "id": "protecting-gather",
      "metadata": {
        "id": "protecting-gather"
      },
      "outputs": [],
      "source": [
        "class Autoencoder_1hl(nn.Module):\n",
        "    def __init__(self, hidden_dim, latent_dim):\n",
        "        \"\"\"\n",
        "        hidden_dim: number of neurons in the hidden layer\n",
        "        latent_dim: number of latent space dimensions\n",
        "        \"\"\"\n",
        "        super().__init__()\n",
        "        # your code here\n",
        "        ...\n",
        "            \n",
        "    def forward(self, x):\n",
        "        # your code here\n",
        "        z = ... #embedding\n",
        "        x_hat = ... # reconstruction\n",
        "        return x_hat, z # we want to have both the reconstruction and the embedding"
      ]
    },
    {
      "cell_type": "code",
      "execution_count": null,
      "id": "veterinary-morris",
      "metadata": {
        "id": "veterinary-morris"
      },
      "outputs": [],
      "source": [
        "autoencoder = Autoencoder_1hl(hidden_dim, latent_dim)"
      ]
    },
    {
      "cell_type": "code",
      "execution_count": null,
      "id": "numerous-engineer",
      "metadata": {
        "colab": {
          "base_uri": "https://localhost:8080/"
        },
        "id": "numerous-engineer",
        "outputId": "ce73ae0f-3de2-4dec-aec9-6641eaa94316"
      },
      "outputs": [
        {
          "name": "stdout",
          "output_type": "stream",
          "text": [
            "batch shape: torch.Size([1, 784])\n",
            "output shape: torch.Size([1, 784])\n",
            "latent shape: torch.Size([1, 12])\n"
          ]
        }
      ],
      "source": [
        "batch = img.unsqueeze(0) #model operates on batched input. Let's create batch with one sample\n",
        "print('batch shape:', batch.shape)\n",
        "with torch.no_grad(): #turn off gradient\n",
        "    x_hat, z = autoencoder(batch)\n",
        "print('output shape:', x_hat.shape)\n",
        "print('latent shape:', z.shape)"
      ]
    },
    {
      "cell_type": "markdown",
      "id": "corresponding-paintball",
      "metadata": {
        "id": "corresponding-paintball"
      },
      "source": [
        "So far, the model operates on flatten images. Yet everywhere else we prefer to operate on 1x28x28 images. Let's modify the `forward` function to do the reshaping"
      ]
    },
    {
      "cell_type": "markdown",
      "id": "exposed-leadership",
      "metadata": {
        "id": "exposed-leadership"
      },
      "source": [
        "#### Task 1.2a: add reshaping"
      ]
    },
    {
      "cell_type": "code",
      "execution_count": null,
      "id": "skilled-appearance",
      "metadata": {
        "id": "skilled-appearance"
      },
      "outputs": [],
      "source": [
        "class Autoencoder_1hl(nn.Module):\n",
        "    \n",
        "    # paste your __init__ function here\n",
        "\n",
        "    def forward(self, x):\n",
        "        input_shape = x.shape #batch_size, channels, height, width\n",
        "        x = x.reshape(input_shape[0], -1) # usually: x.view(input_shape[0], -1) does the job as well\n",
        "        \n",
        "        # paste the rest of your forward function here\n",
        "        \n",
        "        return x.reshape(input_shape)\n"
      ]
    },
    {
      "cell_type": "markdown",
      "id": "great-positive",
      "metadata": {
        "id": "great-positive"
      },
      "source": [
        "Try the new model"
      ]
    },
    {
      "cell_type": "code",
      "execution_count": null,
      "id": "stunning-victoria",
      "metadata": {
        "colab": {
          "base_uri": "https://localhost:8080/"
        },
        "id": "stunning-victoria",
        "outputId": "8aa180fd-ef93-4c76-9e7a-97c195cc7fe0"
      },
      "outputs": [
        {
          "name": "stdout",
          "output_type": "stream",
          "text": [
            "batch shape: torch.Size([1, 1, 28, 28])\n",
            "output shape: torch.Size([1, 1, 28, 28])\n"
          ]
        }
      ],
      "source": [
        "img, target = mnist_train[0]\n",
        "batch = img.unsqueeze(0) #model operates on batched input. Let's create batch with one sample\n",
        "print('batch shape:', batch.shape)\n",
        "autoencoder = Autoencoder_1hl(hidden_dim, latent_dim)\n",
        "with torch.no_grad(): #turn off gradient\n",
        "    x_hat, z = autoencoder(batch)\n",
        "print('output shape:', x_hat.shape)"
      ]
    },
    {
      "cell_type": "markdown",
      "id": "finite-academy",
      "metadata": {
        "id": "finite-academy"
      },
      "source": [
        "#### Visualize"
      ]
    },
    {
      "cell_type": "code",
      "execution_count": null,
      "id": "large-tribute",
      "metadata": {
        "colab": {
          "base_uri": "https://localhost:8080/",
          "height": 369
        },
        "id": "large-tribute",
        "outputId": "5f3fecb1-087a-4fe0-acbb-87735fc13ad4"
      },
      "outputs": [
        {
          "data": {
            "text/plain": [
              "<matplotlib.image.AxesImage at 0x7f093169d110>"
            ]
          },
          "execution_count": 51,
          "metadata": {},
          "output_type": "execute_result"
        },
        {
          "data": {
            "image/png": "[encoded data removed]",
            "text/plain": [
              "<Figure size 864x432 with 2 Axes>"
            ]
          },
          "metadata": {
            "needs_background": "light"
          },
          "output_type": "display_data"
        }
      ],
      "source": [
        "fig, (ax1, ax2) = plt.subplots(ncols=2, figsize=(12,6))\n",
        "ax1.imshow(batch[0,0], vmin=0, vmax=1) # why [0,0]? first item from batch, first channel\n",
        "ax2.imshow(x_hat[0,0], vmin=0, vmax=1)"
      ]
    },
    {
      "cell_type": "markdown",
      "id": "charitable-reminder",
      "metadata": {
        "id": "charitable-reminder"
      },
      "source": [
        "## Training"
      ]
    },
    {
      "cell_type": "markdown",
      "id": "sized-canada",
      "metadata": {
        "id": "sized-canada"
      },
      "source": [
        "Prepare dataloaders"
      ]
    },
    {
      "cell_type": "code",
      "execution_count": null,
      "id": "short-politics",
      "metadata": {
        "id": "short-politics"
      },
      "outputs": [],
      "source": [
        "from torch.utils.data import DataLoader"
      ]
    },
    {
      "cell_type": "code",
      "execution_count": null,
      "id": "mechanical-denial",
      "metadata": {
        "id": "mechanical-denial"
      },
      "outputs": [],
      "source": [
        "batch_size = 128"
      ]
    },
    {
      "cell_type": "code",
      "execution_count": null,
      "id": "industrial-drawing",
      "metadata": {
        "id": "industrial-drawing"
      },
      "outputs": [],
      "source": [
        "mnist_train_dataloader = DataLoader(mnist_train, batch_size=batch_size, shuffle=True)\n",
        "mnist_test_dataloader = DataLoader(mnist_test, batch_size=batch_size, shuffle=False)"
      ]
    },
    {
      "cell_type": "markdown",
      "id": "therapeutic-wireless",
      "metadata": {
        "id": "therapeutic-wireless"
      },
      "source": [
        "Closer look on dataloaders"
      ]
    },
    {
      "cell_type": "code",
      "execution_count": null,
      "id": "listed-charter",
      "metadata": {
        "colab": {
          "base_uri": "https://localhost:8080/"
        },
        "id": "listed-charter",
        "outputId": "ee4a8c0d-d3b3-4607-be73-b9f0a1480b2e"
      },
      "outputs": [
        {
          "name": "stdout",
          "output_type": "stream",
          "text": [
            "x shape: torch.Size([128, 1, 28, 28])\n",
            "target shape: torch.Size([128])\n",
            "target: tensor([1, 3, 1, 4, 2, 4, 0, 9, 8, 2, 1, 4, 3, 7, 4, 5, 1, 3, 7, 1, 1, 6, 7, 7,\n",
            "        0, 9, 6, 1, 3, 6, 6, 4, 5, 8, 7, 5, 5, 4, 1, 6, 5, 9, 5, 1, 5, 3, 7, 9,\n",
            "        8, 8, 9, 4, 9, 1, 4, 3, 7, 2, 1, 2, 8, 4, 6, 2, 8, 9, 9, 8, 5, 3, 0, 9,\n",
            "        3, 0, 5, 7, 4, 8, 0, 5, 4, 9, 5, 4, 7, 3, 3, 6, 6, 7, 4, 7, 7, 6, 7, 4,\n",
            "        5, 9, 2, 8, 3, 1, 3, 7, 9, 9, 8, 6, 1, 1, 4, 7, 7, 4, 8, 8, 6, 9, 6, 5,\n",
            "        9, 1, 7, 4, 1, 5, 1, 1])\n"
          ]
        }
      ],
      "source": [
        "x, y = next(iter(mnist_train_dataloader))\n",
        "print(f'x shape: {x.shape}')\n",
        "print(f'target shape: {y.shape}')\n",
        "print(f'target: {y}')"
      ]
    },
    {
      "cell_type": "markdown",
      "id": "completed-calendar",
      "metadata": {
        "id": "completed-calendar"
      },
      "source": [
        "### Schema of training in PyTorch"
      ]
    },
    {
      "cell_type": "markdown",
      "id": "labeled-diploma",
      "metadata": {
        "id": "labeled-diploma"
      },
      "source": [
        "Set model, optimizer (which performs optimizing steps) and criterion\n",
        "```\n",
        "model = ...\n",
        "optimizer =  torch.optim.AdamW(model.parameters(), lr=1e-3)\n",
        "criterion = ... #function which computes loss\n",
        "```"
      ]
    },
    {
      "cell_type": "markdown",
      "id": "organized-retreat",
      "metadata": {
        "id": "organized-retreat"
      },
      "source": [
        "Set device on which computations will be done: 'cpu' or 'cuda' (GPU)\n",
        "```\n",
        "device = 'cuda' if torch.cuda.is_available() else 'cpu' # if your machine supports cuda, it wil be used for computation\n",
        "```"
      ]
    },
    {
      "cell_type": "markdown",
      "id": "empirical-charlotte",
      "metadata": {
        "id": "empirical-charlotte"
      },
      "source": [
        "set model to 'train' mode and allocate it to the device\n",
        "```\n",
        "model.train().to(device);\n",
        "```"
      ]
    },
    {
      "cell_type": "markdown",
      "id": "joined-trademark",
      "metadata": {
        "id": "joined-trademark"
      },
      "source": [
        "Schema for single epoch training:\n",
        "```\n",
        "for x, y in mnist_train_dataloader:    \n",
        "    # clear gradient from previous step\n",
        "    optimizer.zero_grad()\n",
        "    \n",
        "    x = x.to(device)\n",
        "    ... = model(x) # run model\n",
        "    ... # some processing, if needed \n",
        "    loss = ... # calculate batch loss\n",
        "\n",
        "    # compute accumulated gradients\n",
        "    loss.backward()\n",
        "\n",
        "    # perform parameter update based on current gradients\n",
        "    optimizer.step()\n",
        " ```"
      ]
    },
    {
      "cell_type": "markdown",
      "id": "active-sullivan",
      "metadata": {
        "id": "active-sullivan"
      },
      "source": [
        "#### Task 2.1: training loop\n",
        "write training loop for 2 epochs for autoencoder. Set criterion to mean square root error `nn.MSELoss()`"
      ]
    },
    {
      "cell_type": "code",
      "execution_count": null,
      "id": "removable-criterion",
      "metadata": {
        "colab": {
          "base_uri": "https://localhost:8080/"
        },
        "id": "removable-criterion",
        "outputId": "07d17644-2a5d-4b78-c3f5-780b64e1d0b9"
      },
      "outputs": [
        {
          "name": "stdout",
          "output_type": "stream",
          "text": [
            "device: cuda\n"
          ]
        }
      ],
      "source": [
        "device = 'cuda' if torch.cuda.is_available() else 'cpu' # if your machine supports cuda, it wil be used for computation\n",
        "print(f'device: {device}')\n",
        "autoencoder.to(device).train();\n",
        "optimizer = torch.optim.AdamW(autoencoder.parameters(), lr=1e-3)\n",
        "criterion = nn.MSELoss() #the same as nn.functional.mse_loss"
      ]
    },
    {
      "cell_type": "markdown",
      "id": "determined-dining",
      "metadata": {
        "id": "determined-dining"
      },
      "source": [
        "Check batches from dataloader"
      ]
    },
    {
      "cell_type": "code",
      "execution_count": null,
      "id": "opposed-drive",
      "metadata": {
        "colab": {
          "base_uri": "https://localhost:8080/"
        },
        "id": "opposed-drive",
        "outputId": "d404547a-7201-4f93-9cb2-5e8f8c076de4"
      },
      "outputs": [
        {
          "name": "stdout",
          "output_type": "stream",
          "text": [
            "torch.Size([128, 1, 28, 28]) torch.Size([128])\n"
          ]
        }
      ],
      "source": [
        "x, y = next(iter(mnist_train_dataloader))\n",
        "print(x.shape, y.shape)\n",
        "\n",
        "# # equivalent to\n",
        "# for x, y in mnist_train_dataloader:\n",
        "#   break"
      ]
    },
    {
      "cell_type": "markdown",
      "id": "hawaiian-mercury",
      "metadata": {
        "id": "hawaiian-mercury"
      },
      "source": [
        "Check x_hat computation step"
      ]
    },
    {
      "cell_type": "code",
      "execution_count": null,
      "id": "interim-chaos",
      "metadata": {
        "colab": {
          "base_uri": "https://localhost:8080/"
        },
        "id": "interim-chaos",
        "outputId": "78c04673-d8fe-436a-9836-7e145efa15ba"
      },
      "outputs": [
        {
          "name": "stdout",
          "output_type": "stream",
          "text": [
            "torch.Size([128, 1, 28, 28]) torch.Size([128, 12])\n",
            "cuda:0\n"
          ]
        }
      ],
      "source": [
        "x_hat, z = autoencoder(x.to(device))\n",
        "print(x_hat.shape, z.shape)\n",
        "print(x_hat.device)"
      ]
    },
    {
      "cell_type": "markdown",
      "id": "egyptian-national",
      "metadata": {
        "id": "egyptian-national"
      },
      "source": [
        "Check loss computation"
      ]
    },
    {
      "cell_type": "code",
      "execution_count": null,
      "id": "creative-public",
      "metadata": {
        "id": "creative-public"
      },
      "outputs": [],
      "source": [
        "loss = criterion(x.to(device), x_hat) # note, that x_hat is already at `device`"
      ]
    },
    {
      "cell_type": "code",
      "execution_count": null,
      "id": "correct-nerve",
      "metadata": {
        "colab": {
          "base_uri": "https://localhost:8080/"
        },
        "id": "correct-nerve",
        "outputId": "56957341-283e-4eaf-bfb0-f3449d0dc37c"
      },
      "outputs": [
        {
          "data": {
            "text/plain": [
              "tensor(0.2324, device='cuda:0', grad_fn=<MseLossBackward0>)"
            ]
          },
          "execution_count": 63,
          "metadata": {},
          "output_type": "execute_result"
        }
      ],
      "source": [
        "loss"
      ]
    },
    {
      "cell_type": "markdown",
      "id": "hungry-desire",
      "metadata": {
        "id": "hungry-desire"
      },
      "source": [
        "Now, write the training loop:"
      ]
    },
    {
      "cell_type": "code",
      "execution_count": null,
      "id": "supreme-franklin",
      "metadata": {
        "colab": {
          "base_uri": "https://localhost:8080/"
        },
        "id": "supreme-franklin",
        "outputId": "14e74bd6-e63b-449b-8224-f993d3a2874f"
      },
      "outputs": [
        {
          "name": "stdout",
          "output_type": "stream",
          "text": [
            "epoch 0, loss: 0.0571\n",
            "epoch 1, loss: 0.0287\n"
          ]
        }
      ],
      "source": [
        "num_epochs = 2 #first let's do a short training, to see if the loss go down\n",
        "\n",
        "history = [] #save losses from each epoch\n",
        "for i_epoch in range(num_epochs):\n",
        "    epoch_losses = []\n",
        "\n",
        "    # your code here\n",
        "\n",
        "    epoch_loss = ...  # your code here\n",
        "    \n",
        "    print(f'epoch {i_epoch}, loss: {epoch_loss:0.4f}')\n",
        "    history.append({'loss': epoch_loss})"
      ]
    },
    {
      "cell_type": "markdown",
      "id": "standard-carter",
      "metadata": {
        "id": "standard-carter"
      },
      "source": [
        "Having small loss on training is good, but we really want the model to generalize for unseen samples. Let's calculate loss on test dataset after each epoch"
      ]
    },
    {
      "cell_type": "markdown",
      "id": "optimum-battlefield",
      "metadata": {
        "id": "optimum-battlefield"
      },
      "source": [
        "#### Task 2.2: evaluation function\n",
        "Write function which calculates loss of the model on test dataset"
      ]
    },
    {
      "cell_type": "code",
      "execution_count": null,
      "id": "endangered-resolution",
      "metadata": {
        "id": "endangered-resolution"
      },
      "outputs": [],
      "source": [
        "@torch.no_grad() #this decorator disable gradient computation in function. Equivalent to `with torch.no_grad():` inside function. Makes code clearer\n",
        "def evaluate_model(model, dataloader, criterion):\n",
        "    # your code here\n",
        "    # ...\n",
        "    # final_loss = ...\n",
        "    return final_loss"
      ]
    },
    {
      "cell_type": "markdown",
      "id": "compact-gothic",
      "metadata": {
        "id": "compact-gothic"
      },
      "source": [
        "Test if your function works"
      ]
    },
    {
      "cell_type": "code",
      "execution_count": null,
      "id": "assigned-spending",
      "metadata": {
        "colab": {
          "base_uri": "https://localhost:8080/"
        },
        "id": "assigned-spending",
        "outputId": "1fdf889a-a97b-4f2a-b275-6305f33ac5cd"
      },
      "outputs": [
        {
          "name": "stdout",
          "output_type": "stream",
          "text": [
            "test loss: 0.0283\n"
          ]
        }
      ],
      "source": [
        "test_loss = evaluate_model(autoencoder, mnist_test_dataloader, criterion)\n",
        "print(f'test loss: {test_loss:0.4f}')"
      ]
    },
    {
      "cell_type": "markdown",
      "id": "lined-prison",
      "metadata": {
        "id": "lined-prison"
      },
      "source": [
        "Now we are ready to implement testset evaluation and do the proper traing of the model. For clarity, let's create a fresh autoencoder"
      ]
    },
    {
      "cell_type": "code",
      "execution_count": null,
      "id": "connected-found",
      "metadata": {
        "id": "connected-found"
      },
      "outputs": [],
      "source": [
        "hidden_dim = 64\n",
        "latent_dim = 12\n",
        "autoencoder = Autoencoder_1hl(hidden_dim, latent_dim)\n",
        "autoencoder.to(device).train();\n",
        "\n",
        "optimizer = torch.optim.AdamW(autoencoder.parameters(), lr=1e-3)"
      ]
    },
    {
      "cell_type": "code",
      "execution_count": null,
      "id": "greater-reduction",
      "metadata": {
        "colab": {
          "base_uri": "https://localhost:8080/"
        },
        "id": "greater-reduction",
        "outputId": "ee7b0bf9-2c73-4a80-f4f9-32144e9697e9"
      },
      "outputs": [
        {
          "name": "stdout",
          "output_type": "stream",
          "text": [
            "epoch 1/10, train loss: 0.0619, test loss 0.0403\n",
            "epoch 2/10, train loss: 0.0350, test loss 0.0301\n",
            "epoch 3/10, train loss: 0.0276, test loss 0.0252\n",
            "epoch 4/10, train loss: 0.0244, test loss 0.0230\n",
            "epoch 5/10, train loss: 0.0228, test loss 0.0218\n",
            "epoch 6/10, train loss: 0.0219, test loss 0.0211\n",
            "epoch 7/10, train loss: 0.0213, test loss 0.0206\n",
            "epoch 8/10, train loss: 0.0208, test loss 0.0201\n",
            "epoch 9/10, train loss: 0.0204, test loss 0.0198\n",
            "epoch 10/10, train loss: 0.0200, test loss 0.0194\n"
          ]
        }
      ],
      "source": [
        "num_epochs = 10\n",
        "\n",
        "history = [] #save losses from each epoch\n",
        "for i_epoch in range(num_epochs):\n",
        "    epoch_losses = []\n",
        "    for batch in mnist_train_dataloader:\n",
        "         # clear gradient from previous step\n",
        "        optimizer.zero_grad()\n",
        "        \n",
        "        x, y = batch\n",
        "        x = x.to(device)\n",
        "        x_hat, z = autoencoder(x)\n",
        "        loss = criterion(x, x_hat)\n",
        "        \n",
        "        # compute accumulated gradients\n",
        "        loss.backward()\n",
        "        \n",
        "        # perform parameter update based on current gradients\n",
        "        optimizer.step()\n",
        "        \n",
        "        # save loss\n",
        "        epoch_losses.append(loss.item()) #'item()' gets number from tensor. Similarly 'numpy()' returns numpy array copy of the tensor\n",
        "        \n",
        "        \n",
        "    epoch_loss = np.mean(epoch_losses)\n",
        "    test_loss = evaluate_model(autoencoder, mnist_test_dataloader, criterion)\n",
        "    autoencoder.train() # if \"evaluate_model\" switches the model to 'eval' mode, switch it back 'train'\n",
        "    print(f'epoch {i_epoch+1}/{num_epochs}, train loss: {epoch_loss:0.4f}, test loss {test_loss:0.4f}')\n",
        "    history.append({'train loss': epoch_loss, 'test loss': test_loss})\n",
        "        "
      ]
    },
    {
      "cell_type": "code",
      "execution_count": null,
      "id": "incorporate-leonard",
      "metadata": {
        "colab": {
          "base_uri": "https://localhost:8080/",
          "height": 312
        },
        "id": "incorporate-leonard",
        "outputId": "8c99853a-7df5-409e-cb14-da3c17231072"
      },
      "outputs": [
        {
          "data": {
            "text/plain": [
              "<matplotlib.legend.Legend at 0x7f0931603510>"
            ]
          },
          "execution_count": 69,
          "metadata": {},
          "output_type": "execute_result"
        },
        {
          "data": {
            "image/png": "[encoded data removed]",
            "text/plain": [
              "<Figure size 432x288 with 1 Axes>"
            ]
          },
          "metadata": {
            "needs_background": "light"
          },
          "output_type": "display_data"
        }
      ],
      "source": [
        "plt.plot([entry['train loss'] for entry in history], label='train loss')\n",
        "plt.plot([entry['test loss'] for entry in history], label='test loss')\n",
        "plt.title('losses');\n",
        "plt.xlabel('epoch')\n",
        "plt.ylabel('loss')\n",
        "plt.legend()"
      ]
    },
    {
      "cell_type": "markdown",
      "id": "brave-adelaide",
      "metadata": {
        "id": "brave-adelaide"
      },
      "source": [
        "### Save/load model"
      ]
    },
    {
      "cell_type": "code",
      "execution_count": null,
      "id": "unauthorized-permission",
      "metadata": {
        "id": "unauthorized-permission"
      },
      "outputs": [],
      "source": [
        "torch.save(autoencoder, 'autoencoder_dense.pt')\n",
        "# autoencoder = torch.load('autoencoder_dense.pt')"
      ]
    },
    {
      "cell_type": "markdown",
      "id": "helpful-handle",
      "metadata": {
        "id": "helpful-handle"
      },
      "source": [
        "## Results visualization"
      ]
    },
    {
      "cell_type": "markdown",
      "id": "broadband-metadata",
      "metadata": {
        "id": "broadband-metadata"
      },
      "source": [
        "For inference on small samples, we can use CPU - it allows to not care about 'cuda' stuff. If the models or images are large, better stay with GPU."
      ]
    },
    {
      "cell_type": "code",
      "execution_count": null,
      "id": "advanced-watch",
      "metadata": {
        "id": "advanced-watch"
      },
      "outputs": [],
      "source": [
        "autoencoder.to('cpu').eval();"
      ]
    },
    {
      "cell_type": "code",
      "execution_count": null,
      "id": "excellent-stress",
      "metadata": {
        "id": "excellent-stress"
      },
      "outputs": [],
      "source": [
        "def reconstruct_image(img, model):\n",
        "    with torch.no_grad():\n",
        "        return model(img.unsqueeze(0))[0][0]"
      ]
    },
    {
      "cell_type": "code",
      "execution_count": null,
      "id": "second-vector",
      "metadata": {
        "id": "second-vector"
      },
      "outputs": [],
      "source": [
        "img, target = mnist_test[0]\n",
        "reconstruction = reconstruct_image(img, autoencoder)"
      ]
    },
    {
      "cell_type": "code",
      "execution_count": null,
      "id": "wrong-swift",
      "metadata": {
        "colab": {
          "base_uri": "https://localhost:8080/",
          "height": 1000
        },
        "id": "wrong-swift",
        "outputId": "e9d586c0-d18e-4b5e-a735-95e1033fcb16"
      },
      "outputs": [
        {
          "data": {
            "image/png": "[encoded data removed]",
            "text/plain": [
              "<Figure size 432x288 with 2 Axes>"
            ]
          },
          "metadata": {
            "needs_background": "light"
          },
          "output_type": "display_data"
        },
        {
          "data": {
            "image/png": "[encoded data removed]",
            "text/plain": [
              "<Figure size 432x288 with 2 Axes>"
            ]
          },
          "metadata": {
            "needs_background": "light"
          },
          "output_type": "display_data"
        },
        {
          "data": {
            "image/png": "[encoded data removed]",
            "text/plain": [
              "<Figure size 432x288 with 2 Axes>"
            ]
          },
          "metadata": {
            "needs_background": "light"
          },
          "output_type": "display_data"
        },
        {
          "data": {
            "image/png": "[encoded data removed]",
            "text/plain": [
              "<Figure size 432x288 with 2 Axes>"
            ]
          },
          "metadata": {
            "needs_background": "light"
          },
          "output_type": "display_data"
        },
        {
          "data": {
            "image/png": "[encoded data removed]",
            "text/plain": [
              "<Figure size 432x288 with 2 Axes>"
            ]
          },
          "metadata": {
            "needs_background": "light"
          },
          "output_type": "display_data"
        },
        {
          "data": {
            "image/png": "[encoded data removed]",
            "text/plain": [
              "<Figure size 432x288 with 2 Axes>"
            ]
          },
          "metadata": {
            "needs_background": "light"
          },
          "output_type": "display_data"
        },
        {
          "data": {
            "image/png": "[encoded data removed]",
            "text/plain": [
              "<Figure size 432x288 with 2 Axes>"
            ]
          },
          "metadata": {
            "needs_background": "light"
          },
          "output_type": "display_data"
        },
        {
          "data": {
            "image/png": "[encoded data removed]",
            "text/plain": [
              "<Figure size 432x288 with 2 Axes>"
            ]
          },
          "metadata": {
            "needs_background": "light"
          },
          "output_type": "display_data"
        },
        {
          "data": {
            "image/png": "[encoded data removed]",
            "text/plain": [
              "<Figure size 432x288 with 2 Axes>"
            ]
          },
          "metadata": {
            "needs_background": "light"
          },
          "output_type": "display_data"
        },
        {
          "data": {
            "image/png": "[encoded data removed]",
            "text/plain": [
              "<Figure size 432x288 with 2 Axes>"
            ]
          },
          "metadata": {
            "needs_background": "light"
          },
          "output_type": "display_data"
        }
      ],
      "source": [
        "for i in range(10):\n",
        "    img, target = mnist_test[i]\n",
        "    reconstruction = reconstruct_image(img, autoencoder)\n",
        "    fig, axs = plt.subplots(ncols=2)\n",
        "    axs[0].imshow(img[0], vmin=0, vmax=1)\n",
        "    axs[0].set_title('original')\n",
        "    axs[1].imshow(reconstruction[0], vmin=0, vmax=1)\n",
        "    axs[1].set_title('reconstruction')"
      ]
    },
    {
      "cell_type": "markdown",
      "id": "accompanied-explanation",
      "metadata": {
        "id": "accompanied-explanation"
      },
      "source": [
        "## Reconstruction errors and outliers\n",
        "Autoencores may be used to detect outliers. Rare events tend to be poorly reconstructed by the model"
      ]
    },
    {
      "cell_type": "code",
      "execution_count": null,
      "id": "rational-royal",
      "metadata": {
        "id": "rational-royal"
      },
      "outputs": [],
      "source": [
        "reconstruction_errors= []\n",
        "\n",
        "# criterion gives us single loss for batch. Here the result is a vector of distances, one for each image\n",
        "# equivalent to nn.functional.mse_loss(x, x_hat, reduction='none').sum(dim=(1,2,3))\n",
        "def distance_function(x, x_hat):\n",
        "    return torch.mean((x-x_hat)**2, dim=(1, 2, 3))\n",
        "\n",
        "autoencoder.to(device);\n",
        "for x, y in mnist_test_dataloader:\n",
        "    x = x.to(device)\n",
        "    x_hat, z = autoencoder(x.to(device))\n",
        "    errors = distance_function(x, x_hat)\n",
        "    reconstruction_errors.extend([el.item() for el in errors])"
      ]
    },
    {
      "cell_type": "code",
      "execution_count": null,
      "id": "honest-passing",
      "metadata": {
        "colab": {
          "base_uri": "https://localhost:8080/",
          "height": 265
        },
        "id": "honest-passing",
        "outputId": "35422244-5f4e-4805-d92d-8c4495d328e1"
      },
      "outputs": [
        {
          "data": {
            "image/png": "[encoded data removed]",
            "text/plain": [
              "<Figure size 432x288 with 1 Axes>"
            ]
          },
          "metadata": {
            "needs_background": "light"
          },
          "output_type": "display_data"
        }
      ],
      "source": [
        "plt.hist(reconstruction_errors);"
      ]
    },
    {
      "cell_type": "code",
      "execution_count": null,
      "id": "parallel-coupon",
      "metadata": {
        "id": "parallel-coupon"
      },
      "outputs": [],
      "source": [
        "autoencoder.to('cpu');"
      ]
    },
    {
      "cell_type": "markdown",
      "id": "intellectual-working",
      "metadata": {
        "id": "intellectual-working"
      },
      "source": [
        "Some of the worst cases.."
      ]
    },
    {
      "cell_type": "code",
      "execution_count": null,
      "id": "latin-feelings",
      "metadata": {
        "colab": {
          "base_uri": "https://localhost:8080/",
          "height": 1000
        },
        "id": "latin-feelings",
        "outputId": "0eae8ee4-c668-41c0-a8f1-909c028a1d6a"
      },
      "outputs": [
        {
          "data": {
            "image/png": "[encoded data removed]",
            "text/plain": [
              "<Figure size 432x288 with 2 Axes>"
            ]
          },
          "metadata": {
            "needs_background": "light"
          },
          "output_type": "display_data"
        },
        {
          "data": {
            "image/png": "[encoded data removed]",
            "text/plain": [
              "<Figure size 432x288 with 2 Axes>"
            ]
          },
          "metadata": {
            "needs_background": "light"
          },
          "output_type": "display_data"
        },
        {
          "data": {
            "image/png": "[encoded data removed]",
            "text/plain": [
              "<Figure size 432x288 with 2 Axes>"
            ]
          },
          "metadata": {
            "needs_background": "light"
          },
          "output_type": "display_data"
        },
        {
          "data": {
            "image/png": "[encoded data removed]",
            "text/plain": [
              "<Figure size 432x288 with 2 Axes>"
            ]
          },
          "metadata": {
            "needs_background": "light"
          },
          "output_type": "display_data"
        },
        {
          "data": {
            "image/png": "[encoded data removed]",
            "text/plain": [
              "<Figure size 432x288 with 2 Axes>"
            ]
          },
          "metadata": {
            "needs_background": "light"
          },
          "output_type": "display_data"
        },
        {
          "data": {
            "image/png": "[encoded data removed]",
            "text/plain": [
              "<Figure size 432x288 with 2 Axes>"
            ]
          },
          "metadata": {
            "needs_background": "light"
          },
          "output_type": "display_data"
        },
        {
          "data": {
            "image/png": "[encoded data removed]",
            "text/plain": [
              "<Figure size 432x288 with 2 Axes>"
            ]
          },
          "metadata": {
            "needs_background": "light"
          },
          "output_type": "display_data"
        },
        {
          "data": {
            "image/png": "[encoded data removed]",
            "text/plain": [
              "<Figure size 432x288 with 2 Axes>"
            ]
          },
          "metadata": {
            "needs_background": "light"
          },
          "output_type": "display_data"
        },
        {
          "data": {
            "image/png": "[encoded data removed]",
            "text/plain": [
              "<Figure size 432x288 with 2 Axes>"
            ]
          },
          "metadata": {
            "needs_background": "light"
          },
          "output_type": "display_data"
        },
        {
          "data": {
            "image/png": "[encoded data removed]",
            "text/plain": [
              "<Figure size 432x288 with 2 Axes>"
            ]
          },
          "metadata": {
            "needs_background": "light"
          },
          "output_type": "display_data"
        }
      ],
      "source": [
        "for idx in np.argsort(reconstruction_errors)[-10:]:\n",
        "    img, target = mnist_test[idx]\n",
        "    reconstruction = reconstruct_image(img, autoencoder)\n",
        "    fig, axs = plt.subplots(ncols=2)\n",
        "    axs[0].imshow(img[0], vmin=0, vmax=1)\n",
        "    axs[0].set_title(f'original {mnist_test.classes[target]}')\n",
        "    axs[1].imshow(reconstruction[0], vmin=0, vmax=1)\n",
        "    axs[1].set_title('reconstruction')"
      ]
    },
    {
      "cell_type": "code",
      "execution_count": null,
      "id": "removed-crowd",
      "metadata": {
        "id": "removed-crowd"
      },
      "outputs": [],
      "source": [
        "labels = mnist_test.targets.numpy() #np.array([x[1] for x in mnist_test])"
      ]
    },
    {
      "cell_type": "code",
      "execution_count": null,
      "id": "answering-palestinian",
      "metadata": {
        "colab": {
          "base_uri": "https://localhost:8080/",
          "height": 1000
        },
        "id": "answering-palestinian",
        "outputId": "ffe76310-d79d-4557-9803-e38465dd3d82"
      },
      "outputs": [
        {
          "data": {
            "image/png": "[encoded data removed]",
            "text/plain": [
              "<Figure size 1080x432 with 4 Axes>"
            ]
          },
          "metadata": {
            "needs_background": "light"
          },
          "output_type": "display_data"
        },
        {
          "data": {
            "image/png": "[encoded data removed]",
            "text/plain": [
              "<Figure size 1080x432 with 4 Axes>"
            ]
          },
          "metadata": {
            "needs_background": "light"
          },
          "output_type": "display_data"
        },
        {
          "data": {
            "image/png": "[encoded data removed]",
            "text/plain": [
              "<Figure size 1080x432 with 4 Axes>"
            ]
          },
          "metadata": {
            "needs_background": "light"
          },
          "output_type": "display_data"
        },
        {
          "data": {
            "image/png": "[encoded data removed]",
            "text/plain": [
              "<Figure size 1080x432 with 4 Axes>"
            ]
          },
          "metadata": {
            "needs_background": "light"
          },
          "output_type": "display_data"
        },
        {
          "data": {
            "image/png": "[encoded data removed]",
            "text/plain": [
              "<Figure size 1080x432 with 4 Axes>"
            ]
          },
          "metadata": {
            "needs_background": "light"
          },
          "output_type": "display_data"
        },
        {
          "data": {
            "image/png": "[encoded data removed]",
            "text/plain": [
              "<Figure size 1080x432 with 4 Axes>"
            ]
          },
          "metadata": {
            "needs_background": "light"
          },
          "output_type": "display_data"
        },
        {
          "data": {
            "image/png": "[encoded data removed]",
            "text/plain": [
              "<Figure size 1080x432 with 4 Axes>"
            ]
          },
          "metadata": {
            "needs_background": "light"
          },
          "output_type": "display_data"
        },
        {
          "data": {
            "image/png": "[encoded data removed]",
            "text/plain": [
              "<Figure size 1080x432 with 4 Axes>"
            ]
          },
          "metadata": {
            "needs_background": "light"
          },
          "output_type": "display_data"
        },
        {
          "data": {
            "image/png": "[encoded data removed]",
            "text/plain": [
              "<Figure size 1080x432 with 4 Axes>"
            ]
          },
          "metadata": {
            "needs_background": "light"
          },
          "output_type": "display_data"
        },
        {
          "data": {
            "image/png": "[encoded data removed]",
            "text/plain": [
              "<Figure size 1080x432 with 4 Axes>"
            ]
          },
          "metadata": {
            "needs_background": "light"
          },
          "output_type": "display_data"
        }
      ],
      "source": [
        "reconstruction_errors = np.array(reconstruction_errors)\n",
        "for digit in range(10):\n",
        "    #get indices of the best and the worst reconstruction\n",
        "    digit_indices = np.where(labels==digit)[0]\n",
        "    idx_best = digit_indices[np.argmin(reconstruction_errors[digit_indices])]\n",
        "    idx_worst = digit_indices[np.argmax(reconstruction_errors[digit_indices])]\n",
        "    \n",
        "    #create empty figure\n",
        "    fig, axs = plt.subplots(ncols=4, figsize=(15, 6))\n",
        "    \n",
        "    img, target = mnist_test[idx_best]\n",
        "    reconstruction = reconstruct_image(img, autoencoder)\n",
        "    axs[0].imshow(img[0], vmin=0, vmax=1)\n",
        "    axs[0].set_title(f'original {mnist_test.classes[target]}')\n",
        "    axs[1].imshow(reconstruction[0], vmin=0, vmax=1)\n",
        "    axs[1].set_title('best reconstruction')\n",
        "    \n",
        "    img, target = mnist_test[idx_worst]\n",
        "    reconstruction = reconstruct_image(img, autoencoder)\n",
        "    axs[2].imshow(img[0], vmin=0, vmax=1)\n",
        "    axs[2].set_title(f'original {mnist_test.classes[target]}')\n",
        "    axs[3].imshow(reconstruction[0], vmin=0, vmax=1)\n",
        "    axs[3].set_title('worst reconstruction')"
      ]
    },
    {
      "cell_type": "markdown",
      "id": "harmful-trademark",
      "metadata": {
        "id": "harmful-trademark"
      },
      "source": [
        "## Task: Anomaly detection"
      ]
    },
    {
      "cell_type": "markdown",
      "id": "exposed-external",
      "metadata": {
        "id": "exposed-external"
      },
      "source": [
        "Autoencoders are often used in anomaly detection. In such application, the model is train on 'normal' dataset, learning to  compressed representations typical objects. When feeding with untypical sample, the autoencoder is expected to reconstruct object much worse, therefore the reconstrution error should be much larger. "
      ]
    },
    {
      "cell_type": "markdown",
      "id": "female-outdoors",
      "metadata": {
        "id": "female-outdoors"
      },
      "source": [
        "Now we will try to distinguish letters from digits. For the letters sample we will use EMNIST is dataset (similar to MNIST, but apart from digits it contains letters). We intend to compare reconstruction errors on digits and letters."
      ]
    },
    {
      "cell_type": "code",
      "execution_count": null,
      "id": "downtown-preservation",
      "metadata": {
        "id": "downtown-preservation"
      },
      "outputs": [],
      "source": [
        "from torchvision.datasets import EMNIST"
      ]
    },
    {
      "cell_type": "code",
      "execution_count": null,
      "id": "bigger-amendment",
      "metadata": {
        "colab": {
          "base_uri": "https://localhost:8080/",
          "height": 101,
          "referenced_widgets": [
            "2964d82bbb744181ac0a4835c8c2d72c",
            "19f2085086a742ad98321b4ac2699ffe",
            "af15c5b7996c401ba1b0d30f58abded5",
            "f55e3cd376b940d99267a9d7cdaa6bef",
            "5f582f4b0692403e854eff7dfef39a25",
            "7980c4f1929b498aa015ac6a0ff363f1",
            "4ce7da878a404045b6a320c919eeb039",
            "1c40770b44da494aab2e78777dd2fb44",
            "8947088c37c84a6e98fb551af2badcd9",
            "090f562c6ee0448ea3ff4c1b3bd0c104",
            "99540fd4d0a44df99a3596edfa9b888b"
          ]
        },
        "id": "bigger-amendment",
        "outputId": "921f9663-c8cc-4f00-9b06-d322a15bd3da"
      },
      "outputs": [
        {
          "name": "stdout",
          "output_type": "stream",
          "text": [
            "Downloading https://www.itl.nist.gov/iaui/vip/cs_links/EMNIST/gzip.zip to data/EMNIST/raw/gzip.zip\n"
          ]
        },
        {
          "data": {
            "application/vnd.jupyter.widget-view+json": {
              "model_id": "2964d82bbb744181ac0a4835c8c2d72c",
              "version_major": 2,
              "version_minor": 0
            },
            "text/plain": [
              "  0%|          | 0/561753746 [00:00<?, ?it/s]"
            ]
          },
          "metadata": {},
          "output_type": "display_data"
        },
        {
          "name": "stdout",
          "output_type": "stream",
          "text": [
            "Extracting data/EMNIST/raw/gzip.zip to data/EMNIST/raw\n",
            "['N/A', 'a', 'b', 'c', 'd', 'e', 'f', 'g', 'h', 'i', 'j', 'k', 'l', 'm', 'n', 'o', 'p', 'q', 'r', 's', 't', 'u', 'v', 'w', 'x', 'y', 'z']\n"
          ]
        }
      ],
      "source": [
        "emnist_test = EMNIST(DATASETS_PATH, split='letters', train=False, download=True, transform=transforms.ToTensor());\n",
        "print(emnist_test.classes)"
      ]
    },
    {
      "cell_type": "markdown",
      "id": "voluntary-bradley",
      "metadata": {
        "id": "voluntary-bradley"
      },
      "source": [
        "Let's look at some letter examples:"
      ]
    },
    {
      "cell_type": "code",
      "execution_count": null,
      "id": "suburban-boring",
      "metadata": {
        "colab": {
          "base_uri": "https://localhost:8080/",
          "height": 208
        },
        "id": "suburban-boring",
        "outputId": "57443b43-ccc6-43ca-a91f-401327d97cbc"
      },
      "outputs": [
        {
          "data": {
            "image/png": "[encoded data removed]",
            "text/plain": [
              "<Figure size 1080x360 with 5 Axes>"
            ]
          },
          "metadata": {
            "needs_background": "light"
          },
          "output_type": "display_data"
        }
      ],
      "source": [
        "fig, axs = plt.subplots(ncols=5, figsize=(15,5))\n",
        "for i, idx in enumerate(np.random.choice(np.arange(len(emnist_test)), 5)):\n",
        "    img, target = emnist_test[idx]\n",
        "    axs[i].imshow(img[0], vmin=0, vmax=1)\n",
        "    axs[i].set_title(emnist_test.classes[target]);"
      ]
    },
    {
      "cell_type": "markdown",
      "id": "aboriginal-bernard",
      "metadata": {
        "id": "aboriginal-bernard"
      },
      "source": [
        "As you, that the letters are rotated and mirrored. For out purpose it doesn't matter. If you care, use `img[0].T` for displaying or change dataset transform to `transforms.Compose([transforms.ToTensor(), transforms.Lambda(lambda img: img.transpose(1, 2))])`"
      ]
    },
    {
      "cell_type": "code",
      "execution_count": null,
      "id": "derived-field",
      "metadata": {
        "colab": {
          "base_uri": "https://localhost:8080/",
          "height": 208
        },
        "id": "derived-field",
        "outputId": "3c144ae5-67ed-4224-8d71-6a1cabd46f3a"
      },
      "outputs": [
        {
          "data": {
            "image/png": "[encoded data removed]",
            "text/plain": [
              "<Figure size 1080x360 with 5 Axes>"
            ]
          },
          "metadata": {
            "needs_background": "light"
          },
          "output_type": "display_data"
        }
      ],
      "source": [
        "fig, axs = plt.subplots(ncols=5, figsize=(15,5))\n",
        "for i, idx in enumerate(np.random.choice(np.arange(len(emnist_test)), 5)):\n",
        "    img, target = emnist_test[idx]\n",
        "    axs[i].imshow(img[0].T, vmin=0, vmax=1)\n",
        "    axs[i].set_title(emnist_test.classes[target]);"
      ]
    },
    {
      "cell_type": "code",
      "execution_count": null,
      "id": "alternate-exclusive",
      "metadata": {
        "id": "alternate-exclusive"
      },
      "outputs": [],
      "source": [
        "emnist_test = EMNIST(DATASETS_PATH, split='letters', train=False, download=True, \n",
        "                     transform=transforms.Compose([transforms.ToTensor(), transforms.Lambda(lambda img: img.transpose(1, 2))])\n",
        "                     );"
      ]
    },
    {
      "cell_type": "code",
      "execution_count": null,
      "id": "successful-substance",
      "metadata": {
        "colab": {
          "base_uri": "https://localhost:8080/",
          "height": 281
        },
        "id": "successful-substance",
        "outputId": "428efedd-398c-4591-ea7a-b64f1f3ef93c"
      },
      "outputs": [
        {
          "data": {
            "image/png": "[encoded data removed]",
            "text/plain": [
              "<Figure size 432x288 with 1 Axes>"
            ]
          },
          "metadata": {
            "needs_background": "light"
          },
          "output_type": "display_data"
        }
      ],
      "source": [
        "img, target = emnist_test[2]\n",
        "plt.imshow(img[0], vmin=0, vmax=1)\n",
        "plt.title(emnist_test.classes[target]);"
      ]
    },
    {
      "cell_type": "markdown",
      "id": "fleet-tuner",
      "metadata": {
        "id": "fleet-tuner"
      },
      "source": [
        "#### Task 3.1: calculate reconstruction error\n",
        "Compute reconstruction errors for 1000 digits and 1000 letters."
      ]
    },
    {
      "cell_type": "code",
      "execution_count": null,
      "id": "satisfied-torture",
      "metadata": {
        "id": "satisfied-torture"
      },
      "outputs": [],
      "source": [
        "# generate dataset indices for digits and letters\n",
        "digit_indices = np.random.choice(np.arange(len(mnist_test)), 1000)\n",
        "letter_indices = np.random.choice(np.arange(len(emnist_test)), 1000)"
      ]
    },
    {
      "cell_type": "code",
      "execution_count": null,
      "id": "rational-agenda",
      "metadata": {
        "id": "rational-agenda"
      },
      "outputs": [],
      "source": [
        "# set autoencoder to eval mode and set the device\n",
        "autoencoder = autoencoder.eval().to(device)"
      ]
    },
    {
      "cell_type": "markdown",
      "id": "better-bearing",
      "metadata": {
        "id": "better-bearing"
      },
      "source": [
        "Tip: rember to use torch.no_grad() and set the same device for model and data"
      ]
    },
    {
      "cell_type": "code",
      "execution_count": null,
      "id": "australian-fruit",
      "metadata": {
        "id": "australian-fruit"
      },
      "outputs": [],
      "source": [
        "def calc_reconstruction_error(x, model):\n",
        "    # your code here\n",
        "    reconstruction_error = ...\n",
        "    return reconstruction_error"
      ]
    },
    {
      "cell_type": "code",
      "execution_count": null,
      "id": "local-banking",
      "metadata": {
        "id": "local-banking"
      },
      "outputs": [],
      "source": [
        "digits_reconstruction_errors= []\n",
        "for idx in digit_indices:\n",
        "    # your code here\n",
        "    reconstruction_error = ...\n",
        "    digits_reconstruction_errors.append(reconstruction_error)    "
      ]
    },
    {
      "cell_type": "code",
      "execution_count": null,
      "id": "solved-uniform",
      "metadata": {
        "id": "solved-uniform"
      },
      "outputs": [],
      "source": [
        "letters_reconstruction_errors= []\n",
        "for idx in letter_indices:\n",
        "   # your code here\n",
        "    reconstruction_error = ...\n",
        "    letters_reconstruction_errors.append(reconstruction_error)  "
      ]
    },
    {
      "cell_type": "markdown",
      "id": "durable-telescope",
      "metadata": {
        "id": "durable-telescope"
      },
      "source": [
        "Visualize the results:"
      ]
    },
    {
      "cell_type": "code",
      "execution_count": null,
      "id": "legitimate-demonstration",
      "metadata": {
        "colab": {
          "base_uri": "https://localhost:8080/",
          "height": 265
        },
        "id": "legitimate-demonstration",
        "outputId": "e12b9772-8908-446f-e04d-da4a816f0847"
      },
      "outputs": [
        {
          "data": {
            "image/png": "[encoded data removed]",
            "text/plain": [
              "<Figure size 432x288 with 1 Axes>"
            ]
          },
          "metadata": {
            "needs_background": "light"
          },
          "output_type": "display_data"
        }
      ],
      "source": [
        "plt.hist(digits_reconstruction_errors, alpha=0.5, label='digits');\n",
        "plt.hist(letters_reconstruction_errors, alpha=0.5, label='letters');\n",
        "plt.legend();"
      ]
    },
    {
      "cell_type": "markdown",
      "id": "suspended-imperial",
      "metadata": {
        "id": "suspended-imperial"
      },
      "source": [
        "Short analysis of result"
      ]
    },
    {
      "cell_type": "code",
      "execution_count": null,
      "id": "solid-indianapolis",
      "metadata": {
        "id": "solid-indianapolis"
      },
      "outputs": [],
      "source": [
        "import pandas as pd\n",
        "from sklearn.metrics import precision_recall_curve, roc_auc_score"
      ]
    },
    {
      "cell_type": "code",
      "execution_count": null,
      "id": "federal-bones",
      "metadata": {
        "colab": {
          "base_uri": "https://localhost:8080/",
          "height": 363
        },
        "id": "federal-bones",
        "outputId": "30c1fb04-9a35-45dd-8bdc-5b5dcf4ff406"
      },
      "outputs": [
        {
          "data": {
            "text/html": [
              "\n",
              "  <div id=\"df-7c8d40cf-e619-4b2a-a1a0-9965ed800b2c\">\n",
              "    <div class=\"colab-df-container\">\n",
              "      <div>\n",
              "<style scoped>\n",
              "    .dataframe tbody tr th:only-of-type {\n",
              "        vertical-align: middle;\n",
              "    }\n",
              "\n",
              "    .dataframe tbody tr th {\n",
              "        vertical-align: top;\n",
              "    }\n",
              "\n",
              "    .dataframe thead th {\n",
              "        text-align: right;\n",
              "    }\n",
              "</style>\n",
              "<table border=\"1\" class=\"dataframe\">\n",
              "  <thead>\n",
              "    <tr style=\"text-align: right;\">\n",
              "      <th></th>\n",
              "      <th>class</th>\n",
              "      <th>error</th>\n",
              "    </tr>\n",
              "  </thead>\n",
              "  <tbody>\n",
              "    <tr>\n",
              "      <th>122</th>\n",
              "      <td>0</td>\n",
              "      <td>0.026259</td>\n",
              "    </tr>\n",
              "    <tr>\n",
              "      <th>1801</th>\n",
              "      <td>1</td>\n",
              "      <td>0.053173</td>\n",
              "    </tr>\n",
              "    <tr>\n",
              "      <th>1396</th>\n",
              "      <td>1</td>\n",
              "      <td>0.053166</td>\n",
              "    </tr>\n",
              "    <tr>\n",
              "      <th>183</th>\n",
              "      <td>0</td>\n",
              "      <td>0.034600</td>\n",
              "    </tr>\n",
              "    <tr>\n",
              "      <th>999</th>\n",
              "      <td>0</td>\n",
              "      <td>0.003993</td>\n",
              "    </tr>\n",
              "    <tr>\n",
              "      <th>1717</th>\n",
              "      <td>1</td>\n",
              "      <td>0.075283</td>\n",
              "    </tr>\n",
              "    <tr>\n",
              "      <th>1163</th>\n",
              "      <td>1</td>\n",
              "      <td>0.093202</td>\n",
              "    </tr>\n",
              "    <tr>\n",
              "      <th>1043</th>\n",
              "      <td>1</td>\n",
              "      <td>0.028164</td>\n",
              "    </tr>\n",
              "    <tr>\n",
              "      <th>1374</th>\n",
              "      <td>1</td>\n",
              "      <td>0.041424</td>\n",
              "    </tr>\n",
              "    <tr>\n",
              "      <th>1851</th>\n",
              "      <td>1</td>\n",
              "      <td>0.071952</td>\n",
              "    </tr>\n",
              "  </tbody>\n",
              "</table>\n",
              "</div>\n",
              "      <button class=\"colab-df-convert\" onclick=\"convertToInteractive('df-7c8d40cf-e619-4b2a-a1a0-9965ed800b2c')\"\n",
              "              title=\"Convert this dataframe to an interactive table.\"\n",
              "              style=\"display:none;\">\n",
              "        \n",
              "  <svg xmlns=\"http://www.w3.org/2000/svg\" height=\"24px\"viewBox=\"0 0 24 24\"\n",
              "       width=\"24px\">\n",
              "    <path d=\"M0 0h24v24H0V0z\" fill=\"none\"/>\n",
              "    <path d=\"M18.56 5.44l.94 2.06.94-2.06 2.06-.94-2.06-.94-.94-2.06-.94 2.06-2.06.94zm-11 1L8.5 8.5l.94-2.06 2.06-.94-2.06-.94L8.5 2.5l-.94 2.06-2.06.94zm10 10l.94 2.06.94-2.06 2.06-.94-2.06-.94-.94-2.06-.94 2.06-2.06.94z\"/><path d=\"M17.41 7.96l-1.37-1.37c-.4-.4-.92-.59-1.43-.59-.52 0-1.04.2-1.43.59L10.3 9.45l-7.72 7.72c-.78.78-.78 2.05 0 2.83L4 21.41c.39.39.9.59 1.41.59.51 0 1.02-.2 1.41-.59l7.78-7.78 2.81-2.81c.8-.78.8-2.07 0-2.86zM5.41 20L4 18.59l7.72-7.72 1.47 1.35L5.41 20z\"/>\n",
              "  </svg>\n",
              "      </button>\n",
              "      \n",
              "  <style>\n",
              "    .colab-df-container {\n",
              "      display:flex;\n",
              "      flex-wrap:wrap;\n",
              "      gap: 12px;\n",
              "    }\n",
              "\n",
              "    .colab-df-convert {\n",
              "      background-color: #E8F0FE;\n",
              "      border: none;\n",
              "      border-radius: 50%;\n",
              "      cursor: pointer;\n",
              "      display: none;\n",
              "      fill: #1967D2;\n",
              "      height: 32px;\n",
              "      padding: 0 0 0 0;\n",
              "      width: 32px;\n",
              "    }\n",
              "\n",
              "    .colab-df-convert:hover {\n",
              "      background-color: #E2EBFA;\n",
              "      box-shadow: 0px 1px 2px rgba(60, 64, 67, 0.3), 0px 1px 3px 1px rgba(60, 64, 67, 0.15);\n",
              "      fill: #174EA6;\n",
              "    }\n",
              "\n",
              "    [theme=dark] .colab-df-convert {\n",
              "      background-color: #3B4455;\n",
              "      fill: #D2E3FC;\n",
              "    }\n",
              "\n",
              "    [theme=dark] .colab-df-convert:hover {\n",
              "      background-color: #434B5C;\n",
              "      box-shadow: 0px 1px 3px 1px rgba(0, 0, 0, 0.15);\n",
              "      filter: drop-shadow(0px 1px 2px rgba(0, 0, 0, 0.3));\n",
              "      fill: #FFFFFF;\n",
              "    }\n",
              "  </style>\n",
              "\n",
              "      <script>\n",
              "        const buttonEl =\n",
              "          document.querySelector('#df-7c8d40cf-e619-4b2a-a1a0-9965ed800b2c button.colab-df-convert');\n",
              "        buttonEl.style.display =\n",
              "          google.colab.kernel.accessAllowed ? 'block' : 'none';\n",
              "\n",
              "        async function convertToInteractive(key) {\n",
              "          const element = document.querySelector('#df-7c8d40cf-e619-4b2a-a1a0-9965ed800b2c');\n",
              "          const dataTable =\n",
              "            await google.colab.kernel.invokeFunction('convertToInteractive',\n",
              "                                                     [key], {});\n",
              "          if (!dataTable) return;\n",
              "\n",
              "          const docLinkHtml = 'Like what you see? Visit the ' +\n",
              "            '<a target=\"_blank\" href=https://colab.research.google.com/notebooks/data_table.ipynb>data table notebook</a>'\n",
              "            + ' to learn more about interactive tables.';\n",
              "          element.innerHTML = '';\n",
              "          dataTable['output_type'] = 'display_data';\n",
              "          await google.colab.output.renderOutput(dataTable, element);\n",
              "          const docLink = document.createElement('div');\n",
              "          docLink.innerHTML = docLinkHtml;\n",
              "          element.appendChild(docLink);\n",
              "        }\n",
              "      </script>\n",
              "    </div>\n",
              "  </div>\n",
              "  "
            ],
            "text/plain": [
              "      class     error\n",
              "122       0  0.026259\n",
              "1801      1  0.053173\n",
              "1396      1  0.053166\n",
              "183       0  0.034600\n",
              "999       0  0.003993\n",
              "1717      1  0.075283\n",
              "1163      1  0.093202\n",
              "1043      1  0.028164\n",
              "1374      1  0.041424\n",
              "1851      1  0.071952"
            ]
          },
          "execution_count": 111,
          "metadata": {},
          "output_type": "execute_result"
        }
      ],
      "source": [
        "df = pd.DataFrame([{'class': 0, 'error': x} for x in digits_reconstruction_errors] + [{'class': 1, 'error': x} for x in letters_reconstruction_errors])\n",
        "df.sample(10)"
      ]
    },
    {
      "cell_type": "code",
      "execution_count": null,
      "id": "falling-physiology",
      "metadata": {
        "id": "falling-physiology"
      },
      "outputs": [],
      "source": [
        "precision, recall, thresholds = precision_recall_curve(df['class'], df['error'])\n",
        "rocauc = roc_auc_score(df['class'], df['error'])"
      ]
    },
    {
      "cell_type": "code",
      "execution_count": null,
      "id": "derived-graph",
      "metadata": {
        "colab": {
          "base_uri": "https://localhost:8080/",
          "height": 312
        },
        "id": "derived-graph",
        "outputId": "ed088d54-be4a-4953-d5ed-cc2a4f039030"
      },
      "outputs": [
        {
          "data": {
            "text/plain": [
              "Text(0.5, 1.0, 'Area under curve: 0.897')"
            ]
          },
          "execution_count": 113,
          "metadata": {},
          "output_type": "execute_result"
        },
        {
          "data": {
            "image/png": "[encoded data removed]",
            "text/plain": [
              "<Figure size 432x288 with 1 Axes>"
            ]
          },
          "metadata": {
            "needs_background": "light"
          },
          "output_type": "display_data"
        }
      ],
      "source": [
        "plt.plot(recall, precision)\n",
        "plt.xlabel('recall');\n",
        "plt.ylabel('precision');\n",
        "plt.title(f'Area under curve: {rocauc:0.3f}')"
      ]
    },
    {
      "cell_type": "markdown",
      "id": "prospective-ontario",
      "metadata": {
        "id": "prospective-ontario"
      },
      "source": [
        "# Working with latent space\n"
      ]
    },
    {
      "cell_type": "code",
      "execution_count": null,
      "id": "ranging-import",
      "metadata": {
        "id": "ranging-import"
      },
      "outputs": [],
      "source": [
        "@torch.no_grad()\n",
        "def encode_image(img, model, device='cpu'):\n",
        "  x_hat, z = model(img.unsqueeze(0).to(device))\n",
        "  return z[0].to('cpu') # \"[0]\" beacuse 1st item of batch"
      ]
    },
    {
      "cell_type": "code",
      "execution_count": null,
      "id": "occupied-roads",
      "metadata": {
        "id": "occupied-roads"
      },
      "outputs": [],
      "source": [
        "from sklearn.neighbors import KNeighborsClassifier"
      ]
    },
    {
      "cell_type": "code",
      "execution_count": null,
      "id": "daily-holiday",
      "metadata": {
        "id": "daily-holiday"
      },
      "outputs": [],
      "source": [
        "N_prototypes = 20"
      ]
    },
    {
      "cell_type": "code",
      "execution_count": null,
      "id": "deadly-class",
      "metadata": {
        "id": "deadly-class"
      },
      "outputs": [],
      "source": [
        "classes_indices = {}\n",
        "for label in np.arange(len(mnist_train.classes)):\n",
        "  classes_indices[label] = np.random.choice(np.where(mnist_train.targets==label)[0], size=N_prototypes, replace=False)"
      ]
    },
    {
      "cell_type": "markdown",
      "id": "weird-elimination",
      "metadata": {
        "id": "weird-elimination"
      },
      "source": [
        "prepare training data"
      ]
    },
    {
      "cell_type": "code",
      "execution_count": null,
      "id": "committed-moore",
      "metadata": {
        "id": "committed-moore"
      },
      "outputs": [],
      "source": [
        "X_train = []\n",
        "y_train = []\n",
        "for label, class_indices in classes_indices.items():\n",
        "  for idx in class_indices:\n",
        "    img, _ = mnist_train[idx]\n",
        "    X_train.append(encode_image(img, autoencoder, device).numpy())\n",
        "    y_train.append(label)\n",
        "\n",
        "X_train = np.array(X_train)\n",
        "y_train = np.array(y_train)"
      ]
    },
    {
      "cell_type": "code",
      "execution_count": null,
      "id": "lovely-picking",
      "metadata": {
        "id": "lovely-picking"
      },
      "outputs": [],
      "source": [
        "X_test = []\n",
        "y_test = []\n",
        "for idx in range(len(mnist_test)):\n",
        "  img, label = mnist_test[idx]\n",
        "  X_test.append(encode_image(img, autoencoder, device).numpy())\n",
        "  y_test.append(label)\n",
        "\n",
        "X_test = np.array(X_test)\n",
        "y_test = np.array(y_test)"
      ]
    },
    {
      "cell_type": "code",
      "execution_count": null,
      "id": "industrial-alberta",
      "metadata": {
        "id": "industrial-alberta"
      },
      "outputs": [],
      "source": [
        "knn_cls = KNeighborsClassifier(n_neighbors=5, weights='distance')"
      ]
    },
    {
      "cell_type": "code",
      "execution_count": null,
      "id": "periodic-significance",
      "metadata": {
        "colab": {
          "base_uri": "https://localhost:8080/"
        },
        "id": "periodic-significance",
        "outputId": "bf007e17-fa2d-4e52-ec53-6a4947b24a80"
      },
      "outputs": [
        {
          "data": {
            "text/plain": [
              "KNeighborsClassifier(weights='distance')"
            ]
          },
          "execution_count": 168,
          "metadata": {},
          "output_type": "execute_result"
        }
      ],
      "source": [
        "knn_cls.fit(X_train, y_train)"
      ]
    },
    {
      "cell_type": "code",
      "execution_count": null,
      "id": "matched-catering",
      "metadata": {
        "id": "matched-catering"
      },
      "outputs": [],
      "source": [
        "y_pred = knn_cls.predict(X_test)"
      ]
    },
    {
      "cell_type": "markdown",
      "id": "cheap-horror",
      "metadata": {
        "id": "cheap-horror"
      },
      "source": [
        "Accuracy:"
      ]
    },
    {
      "cell_type": "code",
      "execution_count": null,
      "id": "invisible-school",
      "metadata": {
        "colab": {
          "base_uri": "https://localhost:8080/"
        },
        "id": "invisible-school",
        "outputId": "8dc97f42-bd99-4f33-93e5-edb237980e45"
      },
      "outputs": [
        {
          "data": {
            "text/plain": [
              "0.769"
            ]
          },
          "execution_count": 170,
          "metadata": {},
          "output_type": "execute_result"
        }
      ],
      "source": [
        "np.mean(y_pred == y_test)"
      ]
    },
    {
      "cell_type": "code",
      "execution_count": null,
      "id": "average-founder",
      "metadata": {
        "id": "average-founder"
      },
      "outputs": [],
      "source": [
        "from sklearn.metrics import ConfusionMatrixDisplay"
      ]
    },
    {
      "cell_type": "code",
      "execution_count": null,
      "id": "fundamental-italic",
      "metadata": {
        "colab": {
          "base_uri": "https://localhost:8080/",
          "height": 296
        },
        "id": "fundamental-italic",
        "outputId": "b8dc83b9-fc72-492d-cc05-82e3cfaa965e"
      },
      "outputs": [
        {
          "data": {
            "text/plain": [
              "<sklearn.metrics._plot.confusion_matrix.ConfusionMatrixDisplay at 0x7f08e018c0d0>"
            ]
          },
          "execution_count": 172,
          "metadata": {},
          "output_type": "execute_result"
        },
        {
          "data": {
            "image/png": "[encoded data removed]",
            "text/plain": [
              "<Figure size 432x288 with 2 Axes>"
            ]
          },
          "metadata": {
            "needs_background": "light"
          },
          "output_type": "display_data"
        }
      ],
      "source": [
        "ConfusionMatrixDisplay.from_predictions(y_test, y_pred)"
      ]
    },
    {
      "cell_type": "markdown",
      "id": "separated-gazette",
      "metadata": {
        "id": "separated-gazette"
      },
      "source": [
        "# Visualize latent space"
      ]
    },
    {
      "cell_type": "code",
      "execution_count": null,
      "id": "early-cover",
      "metadata": {
        "id": "early-cover"
      },
      "outputs": [],
      "source": [
        "representations_digits = []\n",
        "labels_digits = []\n",
        "\n",
        "with torch.no_grad():\n",
        "  for idx in digit_indices:\n",
        "    img, label = mnist_test[idx]\n",
        "    x = img.unsqueeze(0).to(device)\n",
        "    x_hat, z = autoencoder(x)\n",
        "    representations_digits.append(z[0].cpu().numpy())\n",
        "    labels_digits.append(label)\n",
        "\n",
        "representations_digits = np.array(representations_digits)\n",
        "labels_digits = np.array(labels_digits)"
      ]
    },
    {
      "cell_type": "code",
      "execution_count": null,
      "id": "electronic-acrylic",
      "metadata": {
        "id": "electronic-acrylic"
      },
      "outputs": [],
      "source": [
        "representations_letters = []\n",
        "labels_letters = []\n",
        "\n",
        "with torch.no_grad():\n",
        "  for idx in letter_indices:\n",
        "    img, label = emnist_test[idx]\n",
        "    x = img.unsqueeze(0).to(device)\n",
        "    x_hat, z = autoencoder(x)\n",
        "    representations_letters.append(z[0].cpu().numpy())\n",
        "    labels_letters.append(label)\n",
        "\n",
        "representations_letters = np.array(representations_letters)\n",
        "labels_letters = np.array(labels_letters)"
      ]
    },
    {
      "cell_type": "code",
      "execution_count": null,
      "id": "romantic-publicity",
      "metadata": {
        "id": "romantic-publicity"
      },
      "outputs": [],
      "source": [
        "from sklearn.manifold import TSNE"
      ]
    },
    {
      "cell_type": "markdown",
      "id": "acute-wallace",
      "metadata": {
        "id": "acute-wallace"
      },
      "source": [
        "\"t-SNE is a tool to visualize high-dimensional data. It converts similarities between data points to joint probabilities and tries to minimize the Kullback-Leibler divergence between the joint probabilities of the low-dimensional embedding and the high-dimensional data. t-SNE has a cost function that is not convex, i.e. with different initializations we can get different results\"\n",
        "\n",
        "https://scikit-learn.org/stable/modules/generated/sklearn.manifold.TSNE.html"
      ]
    },
    {
      "cell_type": "markdown",
      "source": [
        "You may try also [UMAP](https://umap-learn.readthedocs.io/en/latest/), which is faster.\n",
        "\n",
        "Both often require parameter tuning to obtain nice visualizations."
      ],
      "metadata": {
        "id": "QLDQqUBJnG_K"
      },
      "id": "QLDQqUBJnG_K"
    },
    {
      "cell_type": "code",
      "execution_count": null,
      "id": "resident-processor",
      "metadata": {
        "colab": {
          "base_uri": "https://localhost:8080/"
        },
        "id": "resident-processor",
        "outputId": "cf4474b8-a676-4a2f-c1cd-dfe48e1f3519"
      },
      "outputs": [
        {
          "name": "stderr",
          "output_type": "stream",
          "text": [
            "/usr/local/lib/python3.7/dist-packages/sklearn/manifold/_t_sne.py:783: FutureWarning: The default initialization in TSNE will change from 'random' to 'pca' in 1.2.\n",
            "  FutureWarning,\n",
            "/usr/local/lib/python3.7/dist-packages/sklearn/manifold/_t_sne.py:793: FutureWarning: The default learning rate in TSNE will change from 200.0 to 'auto' in 1.2.\n",
            "  FutureWarning,\n"
          ]
        }
      ],
      "source": [
        "X_embedded = TSNE(n_components=2).fit_transform(np.concatenate((representations_digits, representations_letters)))\n",
        "digits_embedded = X_embedded[:len(representations_digits)]\n",
        "letters_embedded = X_embedded[len(representations_digits):]"
      ]
    },
    {
      "cell_type": "code",
      "execution_count": null,
      "id": "intellectual-rates",
      "metadata": {
        "colab": {
          "base_uri": "https://localhost:8080/",
          "height": 265
        },
        "id": "intellectual-rates",
        "outputId": "45e5ca0e-9a11-4f9d-980b-f68ab00a4432"
      },
      "outputs": [
        {
          "data": {
            "image/png": "[encoded data removed]",
            "text/plain": [
              "<Figure size 432x288 with 2 Axes>"
            ]
          },
          "metadata": {
            "needs_background": "light"
          },
          "output_type": "display_data"
        }
      ],
      "source": [
        "fig, axs = plt.subplots(ncols=2)\n",
        "for i, label in enumerate(sorted(set(labels_digits))):\n",
        "    X_cat = digits_embedded[labels_digits==i]\n",
        "    axs[0].scatter(X_cat[:,0], X_cat[:,1], label=mnist_test.classes[label], c=f'C{i}', alpha=0.2)\n",
        "for i, label in enumerate(sorted(set(labels_letters))):\n",
        "    X_cat = letters_embedded[labels_letters==i]\n",
        "    axs[1].scatter(X_cat[:,0], X_cat[:,1], label=emnist_test.classes[label], c=f'C{i}', alpha=0.2)\n",
        "# axs[0].scatter(X_embedded[:len(representations_digits), 0], X_embedded[:len(representations_digits), 1], alpha=0.1. )\n",
        "# axs[1].scatter(X_embedded[len(representations_digits):, 0], X_embedded[len(representations_digits):, 1], alpha=0.1)"
      ]
    },
    {
      "cell_type": "code",
      "execution_count": null,
      "id": "electrical-guitar",
      "metadata": {
        "colab": {
          "base_uri": "https://localhost:8080/",
          "height": 283
        },
        "id": "electrical-guitar",
        "outputId": "e6d6ff0a-5352-4e86-de6d-f1f4c8553e7c"
      },
      "outputs": [
        {
          "data": {
            "text/plain": [
              "<matplotlib.legend.Legend at 0x7f730fa4f310>"
            ]
          },
          "execution_count": 137,
          "metadata": {},
          "output_type": "execute_result"
        },
        {
          "data": {
            "image/png": "[encoded data removed]",
            "text/plain": [
              "<Figure size 432x288 with 1 Axes>"
            ]
          },
          "metadata": {
            "needs_background": "light"
          },
          "output_type": "display_data"
        }
      ],
      "source": [
        "for i, label in enumerate(sorted(set(labels_digits))):\n",
        "    X_cat = digits_embedded[labels_digits==i]\n",
        "    plt.scatter(X_cat[:,0], X_cat[:,1], label=mnist_test.classes[label], c=f'C{i}', alpha=0.2)\n",
        "plt.legend(loc=(1.04,0))"
      ]
    },
    {
      "cell_type": "code",
      "execution_count": null,
      "id": "preceding-funeral",
      "metadata": {
        "id": "preceding-funeral"
      },
      "outputs": [],
      "source": [
        "# import more colors\n",
        "from matplotlib.colors import CSS4_COLORS\n",
        "colors = list(CSS4_COLORS.keys())"
      ]
    },
    {
      "cell_type": "code",
      "execution_count": null,
      "id": "governing-subsection",
      "metadata": {
        "colab": {
          "base_uri": "https://localhost:8080/",
          "height": 282
        },
        "id": "governing-subsection",
        "outputId": "feee61f3-69ea-4afe-ef14-9efd73328e2c"
      },
      "outputs": [
        {
          "data": {
            "text/plain": [
              "<matplotlib.legend.Legend at 0x7f08e0095e10>"
            ]
          },
          "execution_count": 180,
          "metadata": {},
          "output_type": "execute_result"
        },
        {
          "data": {
            "image/png": "[encoded data removed]",
            "text/plain": [
              "<Figure size 432x288 with 1 Axes>"
            ]
          },
          "metadata": {
            "needs_background": "light"
          },
          "output_type": "display_data"
        }
      ],
      "source": [
        "for i, label in enumerate(sorted(set(labels_letters))):\n",
        "    X_cat = letters_embedded[labels_letters==i]\n",
        "    plt.scatter(X_cat[:,0], X_cat[:,1], label=emnist_test.classes[label], c=colors[i], alpha=0.5)\n",
        "plt.legend(ncol=3, loc=(1.04,0))"
      ]
    },
    {
      "cell_type": "markdown",
      "id": "reported-mining",
      "metadata": {
        "id": "reported-mining"
      },
      "source": [
        "# Different architectures"
      ]
    },
    {
      "cell_type": "markdown",
      "id": "bearing-aspect",
      "metadata": {
        "id": "bearing-aspect"
      },
      "source": [
        "Try it!"
      ]
    },
    {
      "cell_type": "code",
      "execution_count": null,
      "id": "toxic-gazette",
      "metadata": {
        "id": "toxic-gazette"
      },
      "outputs": [],
      "source": [
        "class ConvAutoencoder1(nn.Module):\n",
        "    def __init__(self):\n",
        "        super().__init__()\n",
        "        self.encoder = nn.Sequential(\n",
        "            nn.Conv2d(1, 16, 3, stride=3, padding=1),  # b, 16, 10, 10 # here and bellow numbers correspods to dimensions: b (batch size), channels, height, width\n",
        "            nn.ReLU(True),\n",
        "            nn.MaxPool2d(2, stride=2),  # b, 16, 5, 5\n",
        "            nn.Conv2d(16, 8, 3, stride=2, padding=1),  # b, 8, 3, 3\n",
        "            nn.ReLU(True),\n",
        "            nn.MaxPool2d(2, stride=1)  # b, 8, 2, 2\n",
        "        )\n",
        "        self.decoder = nn.Sequential(\n",
        "            nn.ConvTranspose2d(8, 16, 3, stride=2),  # b, 16, 5, 5\n",
        "            nn.ReLU(True),\n",
        "            nn.ConvTranspose2d(16, 8, 5, stride=3, padding=1),  # b, 8, 15, 15\n",
        "            nn.ReLU(True),\n",
        "            nn.ConvTranspose2d(8, 1, 2, stride=2, padding=1),  # b, 1, 28, 28\n",
        "            nn.Sigmoid()\n",
        "        )\n",
        "\n",
        "    def forward(self, x):\n",
        "        z = self.encoder(x)\n",
        "        x_hat = self.decoder(z)\n",
        "        return x_hat, z\n",
        "    \n",
        "    @torch.no_grad()\n",
        "    def encode_image(self, x):\n",
        "        return self.encoder(x.unsqueeze(0))[0].view(1,-1)\n",
        "        "
      ]
    },
    {
      "cell_type": "code",
      "execution_count": null,
      "id": "irish-stuff",
      "metadata": {
        "id": "irish-stuff"
      },
      "outputs": [],
      "source": [
        "class ConvAutoencoder2(nn.Module):\n",
        "    \"\"\"from https://github.com/syorami/Autoencoders-Variants/blob/master/conv_autoencoder.py\"\"\"\n",
        "    def __init__(self):\n",
        "        super().__init__()\n",
        "        self.encoder = nn.Sequential(\n",
        "            nn.Conv2d(1, 16, 3, padding=1),\n",
        "            nn.ReLU(inplace=True),\n",
        "            nn.MaxPool2d(2),\n",
        "            nn.Conv2d(16, 8, 3, padding=1),\n",
        "            nn.ReLU(inplace=True),\n",
        "            nn.MaxPool2d(2)\n",
        "        )\n",
        "\n",
        "        self.decoder = nn.Sequential(\n",
        "            nn.Conv2d(8, 8, 3, padding=1),\n",
        "            nn.ReLU(inplace=True),\n",
        "            nn.UpsamplingBilinear2d(scale_factor=2),\n",
        "            nn.Conv2d(8, 16, 3, padding=1),\n",
        "            nn.ReLU(inplace=True),\n",
        "            nn.UpsamplingBilinear2d(scale_factor=2),\n",
        "            nn.Conv2d(16, 1, 3, padding=1),\n",
        "            nn.Sigmoid()\n",
        "        )\n",
        "\n",
        "    def forward(self, x):\n",
        "        z = self.encoder(x)\n",
        "        x_hat = self.decoder(z)\n",
        "        return x_hat, z\n",
        "    \n",
        "    @torch.no_grad()\n",
        "    def encode_image(self, x):\n",
        "        return self.encoder(x.unsqueeze(0))[0].view(1,-1)"
      ]
    },
    {
      "cell_type": "code",
      "execution_count": null,
      "id": "purple-adolescent",
      "metadata": {
        "id": "purple-adolescent"
      },
      "outputs": [],
      "source": [
        "\"\"\"from https://github.com/eifuentes/swae-pytorch/blob/master/swae/models/mnist.py\"\"\"\n",
        "\n",
        "class MNISTEncoder(nn.Module):\n",
        "    \"\"\" MNIST Encoder from Original Paper's Keras based Implementation.\n",
        "        Args:\n",
        "            init_num_filters (int): initial number of filters from encoder image channels\n",
        "            lrelu_slope (float): positive number indicating LeakyReLU negative slope\n",
        "            inter_fc_dim (int): intermediate fully connected dimensionality prior to embedding layer\n",
        "            embedding_dim (int): embedding dimensionality\n",
        "    \"\"\"\n",
        "    def __init__(self, init_num_filters=16, lrelu_slope=0.2, inter_fc_dim=128, embedding_dim=2):\n",
        "        super(MNISTEncoder, self).__init__()\n",
        "\n",
        "        self.init_num_filters_ = init_num_filters\n",
        "        self.lrelu_slope_ = lrelu_slope\n",
        "        self.inter_fc_dim_ = inter_fc_dim\n",
        "        self.embedding_dim_ = embedding_dim\n",
        "\n",
        "        self.features = nn.Sequential(\n",
        "            nn.Conv2d(1, self.init_num_filters_ * 1, kernel_size=3, padding=1),\n",
        "            nn.LeakyReLU(self.lrelu_slope_, inplace=True),\n",
        "\n",
        "            nn.Conv2d(self.init_num_filters_ * 1, self.init_num_filters_ * 1, kernel_size=3, padding=1),\n",
        "            nn.LeakyReLU(self.lrelu_slope_, inplace=True),\n",
        "\n",
        "            nn.AvgPool2d(kernel_size=2, padding=0),\n",
        "            nn.Conv2d(self.init_num_filters_ * 1, self.init_num_filters_ * 2, kernel_size=3, padding=1),\n",
        "            nn.LeakyReLU(self.lrelu_slope_, inplace=True),\n",
        "\n",
        "            nn.Conv2d(self.init_num_filters_ * 2, self.init_num_filters_ * 2, kernel_size=3, padding=1),\n",
        "            nn.LeakyReLU(self.lrelu_slope_, inplace=True),\n",
        "\n",
        "            nn.AvgPool2d(kernel_size=2, padding=0),\n",
        "            nn.Conv2d(self.init_num_filters_ * 2, self.init_num_filters_ * 4, kernel_size=3, padding=1),\n",
        "            nn.LeakyReLU(self.lrelu_slope_, inplace=True),\n",
        "\n",
        "            nn.Conv2d(self.init_num_filters_ * 4, self.init_num_filters_ * 4, kernel_size=3, padding=1),\n",
        "            nn.LeakyReLU(self.lrelu_slope_, inplace=True),\n",
        "\n",
        "            nn.AvgPool2d(kernel_size=2, padding=1)\n",
        "        )\n",
        "        self.fc = nn.Sequential(\n",
        "            nn.Linear(self.init_num_filters_ * 4 * 4 * 4, self.inter_fc_dim_),\n",
        "            nn.ReLU(inplace=True),\n",
        "            nn.Linear(self.inter_fc_dim_, self.embedding_dim_)\n",
        "        )\n",
        "\n",
        "    def forward(self, x):\n",
        "        x = self.features(x)\n",
        "        x = x.view(-1, self.init_num_filters_ * 4 * 4 * 4)\n",
        "        x = self.fc(x)\n",
        "        return x\n",
        "\n",
        "\n",
        "class MNISTDecoder(nn.Module):\n",
        "    \"\"\" MNIST Decoder from Original Paper's Keras based Implementation.\n",
        "        Args:\n",
        "            init_num_filters (int): initial number of filters from encoder image channels\n",
        "            lrelu_slope (float): positive number indicating LeakyReLU negative slope\n",
        "            inter_fc_dim (int): intermediate fully connected dimensionality prior to embedding layer\n",
        "            embedding_dim (int): embedding dimensionality\n",
        "    \"\"\"\n",
        "    def __init__(self, init_num_filters=16, lrelu_slope=0.2, inter_fc_dim=128, embedding_dim=2):\n",
        "        super(MNISTDecoder, self).__init__()\n",
        "\n",
        "        self.init_num_filters_ = init_num_filters\n",
        "        self.lrelu_slope_ = lrelu_slope\n",
        "        self.inter_fc_dim_ = inter_fc_dim\n",
        "        self.embedding_dim_ = embedding_dim\n",
        "\n",
        "        self.fc = nn.Sequential(\n",
        "            nn.Linear(self.embedding_dim_, self.inter_fc_dim_),\n",
        "            nn.Linear(self.inter_fc_dim_, self.init_num_filters_ * 4 * 4 * 4),\n",
        "            nn.ReLU(inplace=True)\n",
        "        )\n",
        "\n",
        "        self.features = nn.Sequential(\n",
        "            nn.Upsample(scale_factor=2),\n",
        "            nn.Conv2d(self.init_num_filters_ * 4, self.init_num_filters_ * 4, kernel_size=3, padding=1),\n",
        "            nn.LeakyReLU(self.lrelu_slope_, inplace=True),\n",
        "\n",
        "            nn.Conv2d(self.init_num_filters_ * 4, self.init_num_filters_ * 4, kernel_size=3, padding=1),\n",
        "            nn.LeakyReLU(self.lrelu_slope_, inplace=True),\n",
        "\n",
        "            nn.Upsample(scale_factor=2),\n",
        "            nn.Conv2d(self.init_num_filters_ * 4, self.init_num_filters_ * 4, kernel_size=3, padding=0),\n",
        "            nn.LeakyReLU(self.lrelu_slope_, inplace=True),\n",
        "\n",
        "            nn.Conv2d(self.init_num_filters_ * 4, self.init_num_filters_ * 4, kernel_size=3, padding=1),\n",
        "            nn.LeakyReLU(self.lrelu_slope_, inplace=True),\n",
        "\n",
        "            nn.Upsample(scale_factor=2),\n",
        "            nn.Conv2d(self.init_num_filters_ * 4, self.init_num_filters_ * 2, kernel_size=3, padding=1),\n",
        "            nn.LeakyReLU(self.lrelu_slope_, inplace=True),\n",
        "\n",
        "            nn.Conv2d(self.init_num_filters_ * 2, self.init_num_filters_ * 2, kernel_size=3, padding=1),\n",
        "            nn.LeakyReLU(self.lrelu_slope_, inplace=True),\n",
        "\n",
        "            nn.Conv2d(self.init_num_filters_ * 2, 1, kernel_size=3, padding=1)\n",
        "        )\n",
        "\n",
        "    def forward(self, z):\n",
        "        z = self.fc(z)\n",
        "        z = z.view(-1, 4 * self.init_num_filters_, 4, 4)\n",
        "        z = self.features(z)\n",
        "        return torch.sigmoid(z)\n",
        "\n",
        "\n",
        "class MNISTAutoencoder(nn.Module):\n",
        "    \"\"\" MNIST Autoencoder from Original Paper's Keras based Implementation.\n",
        "        Args:\n",
        "            init_num_filters (int): initial number of filters from encoder image channels\n",
        "            lrelu_slope (float): positive number indicating LeakyReLU negative slope\n",
        "            inter_fc_dim (int): intermediate fully connected dimensionality prior to embedding layer\n",
        "            embedding_dim (int): embedding dimensionality\n",
        "    \"\"\"\n",
        "    def __init__(self, init_num_filters=16, lrelu_slope=0.2, inter_fc_dim=128, embedding_dim=2):\n",
        "        super(MNISTAutoencoder, self).__init__()\n",
        "\n",
        "        self.init_num_filters_ = init_num_filters\n",
        "        self.lrelu_slope_ = lrelu_slope\n",
        "        self.inter_fc_dim_ = inter_fc_dim\n",
        "        self.embedding_dim_ = embedding_dim\n",
        "\n",
        "        self.encoder = MNISTEncoder(init_num_filters, lrelu_slope, inter_fc_dim, embedding_dim)\n",
        "        self.decoder = MNISTDecoder(init_num_filters, lrelu_slope, inter_fc_dim, embedding_dim)\n",
        "\n",
        "    def forward(self, x):\n",
        "        z = self.encoder(x)\n",
        "        return self.decoder(z), z"
      ]
    },
    {
      "cell_type": "code",
      "execution_count": null,
      "id": "judicial-mitchell",
      "metadata": {
        "id": "judicial-mitchell"
      },
      "outputs": [],
      "source": [
        "\"\"\"from https://github.com/syorami/Autoencoders-Variants/blob/master/simple_autoencoder.py\"\"\"\n",
        "class FCAutoencoder(nn.Module):\n",
        "    def __init__(self):\n",
        "        super().__init__()\n",
        "        self.encoder = nn.Sequential(\n",
        "            nn.Linear(784, 128),\n",
        "            nn.ReLU(inplace=True),\n",
        "            nn.Linear(128, 64),\n",
        "            nn.ReLU(inplace=True),\n",
        "            nn.Linear(64, 32),\n",
        "            nn.ReLU(inplace=True)\n",
        "        )\n",
        "\n",
        "        self.decoder = nn.Sequential(\n",
        "            nn.Linear(32, 64),\n",
        "            nn.ReLU(inplace=True),\n",
        "            nn.Linear(64, 128),\n",
        "            nn.ReLU(inplace=True),\n",
        "            nn.Linear(128, 784),\n",
        "            nn.Sigmoid()\n",
        "        )\n",
        "\n",
        "    def forward(self, x):\n",
        "        input_shape = x.shape #batch_size, channels, height, width\n",
        "        x = x.reshape(input_shape[0], -1)\n",
        "        z = self.encoder(x)\n",
        "        x_hat = self.decoder(z) \n",
        "        return x_hat.reshape(input_shape), z"
      ]
    },
    {
      "cell_type": "markdown",
      "id": "stretch-trigger",
      "metadata": {
        "id": "stretch-trigger"
      },
      "source": [
        "# Solutions"
      ]
    },
    {
      "cell_type": "markdown",
      "id": "induced-viking",
      "metadata": {
        "id": "induced-viking"
      },
      "source": [
        "#### Task 1.1: write encoder class with a single hidden layer"
      ]
    },
    {
      "cell_type": "code",
      "execution_count": null,
      "id": "wireless-genre",
      "metadata": {
        "id": "wireless-genre"
      },
      "outputs": [],
      "source": [
        "class Encoder_1hl(nn.Module):\n",
        "    def __init__(self, hidden_dim, latent_dim):\n",
        "        \"\"\"\n",
        "        hidden_dim: number of neurons in the hidden layer\n",
        "        latent_dim: number of latent space dimensions\n",
        "        \"\"\"\n",
        "        super().__init__()\n",
        "        self.net = nn.Sequential(\n",
        "            nn.Linear(28*28, hidden_dim),\n",
        "            nn.ReLU(),\n",
        "            nn.Linear(hidden_dim, latent_dim),\n",
        "            )\n",
        "\n",
        "    def forward(self, x):\n",
        "        x = self.net(x)\n",
        "        return x"
      ]
    },
    {
      "cell_type": "markdown",
      "id": "exotic-animation",
      "metadata": {
        "id": "exotic-animation"
      },
      "source": [
        "#### Task 1.2: write autoencoder class"
      ]
    },
    {
      "cell_type": "code",
      "execution_count": null,
      "id": "postal-aruba",
      "metadata": {
        "id": "postal-aruba"
      },
      "outputs": [],
      "source": [
        "class Autoencoder_1hl(nn.Module):\n",
        "    def __init__(self, hidden_dim, latent_dim):\n",
        "        \"\"\"\n",
        "        hidden_dim: number of neurons in the hidden layer\n",
        "        latent_dim: number of latent space dimensions\n",
        "        \"\"\"\n",
        "        super().__init__()\n",
        "\n",
        "        self.encoder = Encoder_1hl(hidden_dim, latent_dim)\n",
        "        self.decoder = Decoder_1hl(hidden_dim, latent_dim)\n",
        "            \n",
        "    def forward(self, x):\n",
        "        z = self.encoder(x)\n",
        "        x_hat = self.decoder(z) \n",
        "        return x_hat, z"
      ]
    },
    {
      "cell_type": "markdown",
      "id": "considerable-rubber",
      "metadata": {
        "id": "considerable-rubber"
      },
      "source": [
        "#### Task 1.2a: add input reshaping:"
      ]
    },
    {
      "cell_type": "code",
      "execution_count": null,
      "id": "random-police",
      "metadata": {
        "id": "random-police"
      },
      "outputs": [],
      "source": [
        "class Autoencoder_1hl(nn.Module):\n",
        "    def __init__(self, hidden_dim, latent_dim):\n",
        "        \"\"\"\n",
        "        hidden_dim: number of neurons in the hidden layer\n",
        "        latent_dim: number of latent space dimensions\n",
        "        \"\"\"\n",
        "        super().__init__()\n",
        "\n",
        "        self.encoder = Encoder_1hl(hidden_dim, latent_dim)\n",
        "        self.decoder = Decoder_1hl(hidden_dim, latent_dim)\n",
        "            \n",
        "    def forward(self, x):\n",
        "        input_shape = x.shape #batch_size, channels, height, width\n",
        "        x = x.reshape(input_shape[0], -1)\n",
        "        z = self.encoder(x)\n",
        "        x_hat = self.decoder(z) \n",
        "        return x_hat.reshape(input_shape), z"
      ]
    },
    {
      "cell_type": "markdown",
      "id": "competitive-football",
      "metadata": {
        "id": "competitive-football"
      },
      "source": [
        "#### Task 2.1: training loop"
      ]
    },
    {
      "cell_type": "code",
      "execution_count": null,
      "id": "sound-campaign",
      "metadata": {
        "id": "sound-campaign"
      },
      "outputs": [],
      "source": [
        "num_epochs = 2\n",
        "\n",
        "history = [] #save losses from each epoch\n",
        "for i_epoch in range(num_epochs):\n",
        "    epoch_losses = []\n",
        "    for batch in mnist_train_dataloader:\n",
        "         # clear gradient from previous step\n",
        "        optimizer.zero_grad()\n",
        "        \n",
        "        x, y = batch\n",
        "        x = x.to(device)\n",
        "        x_hat, z = autoencoder(x)\n",
        "        loss = criterion(x, x_hat)\n",
        "        \n",
        "        # compute accumulated gradients\n",
        "        loss.backward()\n",
        "        \n",
        "        # perform parameter update based on current gradients\n",
        "        optimizer.step()\n",
        "        \n",
        "        # save loss\n",
        "        epoch_losses.append(loss.item()) #'item()' gets number from tensor. Similarly 'numpy()' returns numpy array copy of the tensor\n",
        "        \n",
        "        \n",
        "    epoch_loss = np.mean(epoch_losses)\n",
        "    print(f'epoch {i_epoch}, loss: {epoch_loss:0.4f}')\n",
        "    history.append({'loss': epoch_loss})\n",
        "        "
      ]
    },
    {
      "cell_type": "markdown",
      "id": "confirmed-dating",
      "metadata": {
        "id": "confirmed-dating"
      },
      "source": [
        "#### Task 2.2: evaluation function"
      ]
    },
    {
      "cell_type": "code",
      "execution_count": null,
      "id": "latter-fellow",
      "metadata": {
        "id": "latter-fellow"
      },
      "outputs": [],
      "source": [
        "@torch.no_grad()\n",
        "def evaluate_model(model, dataloader, criterion):\n",
        "    losses = []\n",
        "    model = model.eval()\n",
        "    for batch in dataloader:  \n",
        "        x, y = batch\n",
        "        x = x.to(device)\n",
        "        x_hat, z = autoencoder(x)\n",
        "        loss = criterion(x, x_hat)\n",
        "        losses.append(loss.item())\n",
        "    final_loss = np.mean(losses)\n",
        "    return final_loss"
      ]
    },
    {
      "cell_type": "markdown",
      "id": "hollow-morrison",
      "metadata": {
        "id": "hollow-morrison"
      },
      "source": [
        "#### Task 3.1: calculate reconstruction error"
      ]
    },
    {
      "cell_type": "code",
      "execution_count": null,
      "id": "transparent-congo",
      "metadata": {
        "id": "transparent-congo"
      },
      "outputs": [],
      "source": [
        "criterion = nn.MSELoss()\n",
        "def calc_reconstruction_error(x, model):\n",
        "    x = x.unsqueeze(0).to(device)\n",
        "    with torch.no_grad():\n",
        "        x_hat, z = model(x)\n",
        "        reconstruction_error = criterion(x, x_hat).item()\n",
        "    return reconstruction_error\n",
        "\n",
        "# #you can also use numpy\n",
        "# @torch.no_grad()\n",
        "# def calc_reconstruction_error(x, model):\n",
        "#     x_hat = model(x.unsqueeze(0).to(device))[0]\n",
        "#     reconstruction_error = np.mean((x_hat.cpu().numpy() - x.cpu().numpy())**2)\n",
        "#     return reconstruction_error\n",
        "   "
      ]
    },
    {
      "cell_type": "code",
      "execution_count": null,
      "id": "original-portugal",
      "metadata": {
        "id": "original-portugal"
      },
      "outputs": [],
      "source": [
        "digits_reconstruction_errors= []\n",
        "autoencoder = autoencoder.eval().to(device)\n",
        "for idx in digit_indices:\n",
        "    img, _ = mnist_test[idx]\n",
        "    reconstruction_error = calc_reconstruction_error(img, autoencoder)\n",
        "    digits_reconstruction_errors.append(reconstruction_error) "
      ]
    },
    {
      "cell_type": "code",
      "execution_count": null,
      "id": "demanding-concept",
      "metadata": {
        "id": "demanding-concept"
      },
      "outputs": [],
      "source": [
        "letters_reconstruction_errors= []\n",
        "autoencoder = autoencoder.eval().to(device)\n",
        "for idx in letter_indices:\n",
        "    img, _ = emnist_test[idx]\n",
        "    reconstruction_error = calc_reconstruction_error(img, autoencoder)\n",
        "    letters_reconstruction_errors.append(reconstruction_error)    "
      ]
    }
  ],
  "metadata": {
    "accelerator": "GPU",
    "colab": {
      "provenance": [],
      "toc_visible": true
    },
    "kernelspec": {
      "display_name": "Python 3",
      "language": "python",
      "name": "python3"
    },
    "language_info": {
      "codemirror_mode": {
        "name": "ipython",
        "version": 3
      },
      "file_extension": ".py",
      "mimetype": "text/x-python",
      "name": "python",
      "nbconvert_exporter": "python",
      "pygments_lexer": "ipython3",
      "version": "3.7.3"
    },
    "widgets": {
      "application/vnd.jupyter.widget-state+json": {
        "03250d98a29a4acbac33f8f51eda1cee": {
          "model_module": "@jupyter-widgets/controls",
          "model_module_version": "1.5.0",
          "model_name": "HTMLModel",
          "state": {
            "_dom_classes": [],
            "_model_module": "@jupyter-widgets/controls",
            "_model_module_version": "1.5.0",
            "_model_name": "HTMLModel",
            "_view_count": null,
            "_view_module": "@jupyter-widgets/controls",
            "_view_module_version": "1.5.0",
            "_view_name": "HTMLView",
            "description": "",
            "description_tooltip": null,
            "layout": "IPY_MODEL_c905e53173e74744bb45c56ea3c6612f",
            "placeholder": "​",
            "style": "IPY_MODEL_7ab8638b73094228911a9be4b8b34673",
            "value": " 1648877/1648877 [00:00&lt;00:00, 19905511.80it/s]"
          }
        },
        "090f562c6ee0448ea3ff4c1b3bd0c104": {
          "model_module": "@jupyter-widgets/base",
          "model_module_version": "1.2.0",
          "model_name": "LayoutModel",
          "state": {
            "_model_module": "@jupyter-widgets/base",
            "_model_module_version": "1.2.0",
            "_model_name": "LayoutModel",
            "_view_count": null,
            "_view_module": "@jupyter-widgets/base",
            "_view_module_version": "1.2.0",
            "_view_name": "LayoutView",
            "align_content": null,
            "align_items": null,
            "align_self": null,
            "border": null,
            "bottom": null,
            "display": null,
            "flex": null,
            "flex_flow": null,
            "grid_area": null,
            "grid_auto_columns": null,
            "grid_auto_flow": null,
            "grid_auto_rows": null,
            "grid_column": null,
            "grid_gap": null,
            "grid_row": null,
            "grid_template_areas": null,
            "grid_template_columns": null,
            "grid_template_rows": null,
            "height": null,
            "justify_content": null,
            "justify_items": null,
            "left": null,
            "margin": null,
            "max_height": null,
            "max_width": null,
            "min_height": null,
            "min_width": null,
            "object_fit": null,
            "object_position": null,
            "order": null,
            "overflow": null,
            "overflow_x": null,
            "overflow_y": null,
            "padding": null,
            "right": null,
            "top": null,
            "visibility": null,
            "width": null
          }
        },
        "17e7636ade0a4c7c92f51c9bd9f444c9": {
          "model_module": "@jupyter-widgets/base",
          "model_module_version": "1.2.0",
          "model_name": "LayoutModel",
          "state": {
            "_model_module": "@jupyter-widgets/base",
            "_model_module_version": "1.2.0",
            "_model_name": "LayoutModel",
            "_view_count": null,
            "_view_module": "@jupyter-widgets/base",
            "_view_module_version": "1.2.0",
            "_view_name": "LayoutView",
            "align_content": null,
            "align_items": null,
            "align_self": null,
            "border": null,
            "bottom": null,
            "display": null,
            "flex": null,
            "flex_flow": null,
            "grid_area": null,
            "grid_auto_columns": null,
            "grid_auto_flow": null,
            "grid_auto_rows": null,
            "grid_column": null,
            "grid_gap": null,
            "grid_row": null,
            "grid_template_areas": null,
            "grid_template_columns": null,
            "grid_template_rows": null,
            "height": null,
            "justify_content": null,
            "justify_items": null,
            "left": null,
            "margin": null,
            "max_height": null,
            "max_width": null,
            "min_height": null,
            "min_width": null,
            "object_fit": null,
            "object_position": null,
            "order": null,
            "overflow": null,
            "overflow_x": null,
            "overflow_y": null,
            "padding": null,
            "right": null,
            "top": null,
            "visibility": null,
            "width": null
          }
        },
        "19f2085086a742ad98321b4ac2699ffe": {
          "model_module": "@jupyter-widgets/controls",
          "model_module_version": "1.5.0",
          "model_name": "HTMLModel",
          "state": {
            "_dom_classes": [],
            "_model_module": "@jupyter-widgets/controls",
            "_model_module_version": "1.5.0",
            "_model_name": "HTMLModel",
            "_view_count": null,
            "_view_module": "@jupyter-widgets/controls",
            "_view_module_version": "1.5.0",
            "_view_name": "HTMLView",
            "description": "",
            "description_tooltip": null,
            "layout": "IPY_MODEL_7980c4f1929b498aa015ac6a0ff363f1",
            "placeholder": "​",
            "style": "IPY_MODEL_4ce7da878a404045b6a320c919eeb039",
            "value": "100%"
          }
        },
        "1a4ef8c2560c4c278d2a2951fbabe11d": {
          "model_module": "@jupyter-widgets/controls",
          "model_module_version": "1.5.0",
          "model_name": "HTMLModel",
          "state": {
            "_dom_classes": [],
            "_model_module": "@jupyter-widgets/controls",
            "_model_module_version": "1.5.0",
            "_model_name": "HTMLModel",
            "_view_count": null,
            "_view_module": "@jupyter-widgets/controls",
            "_view_module_version": "1.5.0",
            "_view_name": "HTMLView",
            "description": "",
            "description_tooltip": null,
            "layout": "IPY_MODEL_a30ae022235b4d3d872cde2a59c8e692",
            "placeholder": "​",
            "style": "IPY_MODEL_b80a317059ed44b4a21e73929a19433b",
            "value": "100%"
          }
        },
        "1a570ab44f4a49a3a2c37e78c9effb6f": {
          "model_module": "@jupyter-widgets/base",
          "model_module_version": "1.2.0",
          "model_name": "LayoutModel",
          "state": {
            "_model_module": "@jupyter-widgets/base",
            "_model_module_version": "1.2.0",
            "_model_name": "LayoutModel",
            "_view_count": null,
            "_view_module": "@jupyter-widgets/base",
            "_view_module_version": "1.2.0",
            "_view_name": "LayoutView",
            "align_content": null,
            "align_items": null,
            "align_self": null,
            "border": null,
            "bottom": null,
            "display": null,
            "flex": null,
            "flex_flow": null,
            "grid_area": null,
            "grid_auto_columns": null,
            "grid_auto_flow": null,
            "grid_auto_rows": null,
            "grid_column": null,
            "grid_gap": null,
            "grid_row": null,
            "grid_template_areas": null,
            "grid_template_columns": null,
            "grid_template_rows": null,
            "height": null,
            "justify_content": null,
            "justify_items": null,
            "left": null,
            "margin": null,
            "max_height": null,
            "max_width": null,
            "min_height": null,
            "min_width": null,
            "object_fit": null,
            "object_position": null,
            "order": null,
            "overflow": null,
            "overflow_x": null,
            "overflow_y": null,
            "padding": null,
            "right": null,
            "top": null,
            "visibility": null,
            "width": null
          }
        },
        "1c40770b44da494aab2e78777dd2fb44": {
          "model_module": "@jupyter-widgets/base",
          "model_module_version": "1.2.0",
          "model_name": "LayoutModel",
          "state": {
            "_model_module": "@jupyter-widgets/base",
            "_model_module_version": "1.2.0",
            "_model_name": "LayoutModel",
            "_view_count": null,
            "_view_module": "@jupyter-widgets/base",
            "_view_module_version": "1.2.0",
            "_view_name": "LayoutView",
            "align_content": null,
            "align_items": null,
            "align_self": null,
            "border": null,
            "bottom": null,
            "display": null,
            "flex": null,
            "flex_flow": null,
            "grid_area": null,
            "grid_auto_columns": null,
            "grid_auto_flow": null,
            "grid_auto_rows": null,
            "grid_column": null,
            "grid_gap": null,
            "grid_row": null,
            "grid_template_areas": null,
            "grid_template_columns": null,
            "grid_template_rows": null,
            "height": null,
            "justify_content": null,
            "justify_items": null,
            "left": null,
            "margin": null,
            "max_height": null,
            "max_width": null,
            "min_height": null,
            "min_width": null,
            "object_fit": null,
            "object_position": null,
            "order": null,
            "overflow": null,
            "overflow_x": null,
            "overflow_y": null,
            "padding": null,
            "right": null,
            "top": null,
            "visibility": null,
            "width": null
          }
        },
        "1ffb694ae4344425bafda6603b90fd22": {
          "model_module": "@jupyter-widgets/controls",
          "model_module_version": "1.5.0",
          "model_name": "DescriptionStyleModel",
          "state": {
            "_model_module": "@jupyter-widgets/controls",
            "_model_module_version": "1.5.0",
            "_model_name": "DescriptionStyleModel",
            "_view_count": null,
            "_view_module": "@jupyter-widgets/base",
            "_view_module_version": "1.2.0",
            "_view_name": "StyleView",
            "description_width": ""
          }
        },
        "23fd0fe501c84276b729348fae994e92": {
          "model_module": "@jupyter-widgets/controls",
          "model_module_version": "1.5.0",
          "model_name": "HBoxModel",
          "state": {
            "_dom_classes": [],
            "_model_module": "@jupyter-widgets/controls",
            "_model_module_version": "1.5.0",
            "_model_name": "HBoxModel",
            "_view_count": null,
            "_view_module": "@jupyter-widgets/controls",
            "_view_module_version": "1.5.0",
            "_view_name": "HBoxView",
            "box_style": "",
            "children": [
              "IPY_MODEL_9f3f2daaabc24058b673f61833bfe184",
              "IPY_MODEL_a0e45ebb19f94f25868b13c4748b0d6c",
              "IPY_MODEL_67f4576475924f0b8c5cc29948b10f09"
            ],
            "layout": "IPY_MODEL_68a2c5b1a8374fde976918000e3517ca"
          }
        },
        "2425e1e9875c4759923d04a145ff1e2d": {
          "model_module": "@jupyter-widgets/controls",
          "model_module_version": "1.5.0",
          "model_name": "DescriptionStyleModel",
          "state": {
            "_model_module": "@jupyter-widgets/controls",
            "_model_module_version": "1.5.0",
            "_model_name": "DescriptionStyleModel",
            "_view_count": null,
            "_view_module": "@jupyter-widgets/base",
            "_view_module_version": "1.2.0",
            "_view_name": "StyleView",
            "description_width": ""
          }
        },
        "25d627968f9c48f68154cfeec6ffde11": {
          "model_module": "@jupyter-widgets/base",
          "model_module_version": "1.2.0",
          "model_name": "LayoutModel",
          "state": {
            "_model_module": "@jupyter-widgets/base",
            "_model_module_version": "1.2.0",
            "_model_name": "LayoutModel",
            "_view_count": null,
            "_view_module": "@jupyter-widgets/base",
            "_view_module_version": "1.2.0",
            "_view_name": "LayoutView",
            "align_content": null,
            "align_items": null,
            "align_self": null,
            "border": null,
            "bottom": null,
            "display": null,
            "flex": null,
            "flex_flow": null,
            "grid_area": null,
            "grid_auto_columns": null,
            "grid_auto_flow": null,
            "grid_auto_rows": null,
            "grid_column": null,
            "grid_gap": null,
            "grid_row": null,
            "grid_template_areas": null,
            "grid_template_columns": null,
            "grid_template_rows": null,
            "height": null,
            "justify_content": null,
            "justify_items": null,
            "left": null,
            "margin": null,
            "max_height": null,
            "max_width": null,
            "min_height": null,
            "min_width": null,
            "object_fit": null,
            "object_position": null,
            "order": null,
            "overflow": null,
            "overflow_x": null,
            "overflow_y": null,
            "padding": null,
            "right": null,
            "top": null,
            "visibility": null,
            "width": null
          }
        },
        "260a8df5bc0e4e71a57ff45a9f78bbea": {
          "model_module": "@jupyter-widgets/controls",
          "model_module_version": "1.5.0",
          "model_name": "HBoxModel",
          "state": {
            "_dom_classes": [],
            "_model_module": "@jupyter-widgets/controls",
            "_model_module_version": "1.5.0",
            "_model_name": "HBoxModel",
            "_view_count": null,
            "_view_module": "@jupyter-widgets/controls",
            "_view_module_version": "1.5.0",
            "_view_name": "HBoxView",
            "box_style": "",
            "children": [
              "IPY_MODEL_fb80ddea9c8c443f8b974d2817ac1710",
              "IPY_MODEL_f5199feebefa4cb183d97df3442f9183",
              "IPY_MODEL_f4efc0f8810441808f3e9255de97dbd0"
            ],
            "layout": "IPY_MODEL_969474b352d2444e9c2b2c0d44bd9126"
          }
        },
        "2964d82bbb744181ac0a4835c8c2d72c": {
          "model_module": "@jupyter-widgets/controls",
          "model_module_version": "1.5.0",
          "model_name": "HBoxModel",
          "state": {
            "_dom_classes": [],
            "_model_module": "@jupyter-widgets/controls",
            "_model_module_version": "1.5.0",
            "_model_name": "HBoxModel",
            "_view_count": null,
            "_view_module": "@jupyter-widgets/controls",
            "_view_module_version": "1.5.0",
            "_view_name": "HBoxView",
            "box_style": "",
            "children": [
              "IPY_MODEL_19f2085086a742ad98321b4ac2699ffe",
              "IPY_MODEL_af15c5b7996c401ba1b0d30f58abded5",
              "IPY_MODEL_f55e3cd376b940d99267a9d7cdaa6bef"
            ],
            "layout": "IPY_MODEL_5f582f4b0692403e854eff7dfef39a25"
          }
        },
        "2a837f9889d64721bf4fb2ffd300b930": {
          "model_module": "@jupyter-widgets/base",
          "model_module_version": "1.2.0",
          "model_name": "LayoutModel",
          "state": {
            "_model_module": "@jupyter-widgets/base",
            "_model_module_version": "1.2.0",
            "_model_name": "LayoutModel",
            "_view_count": null,
            "_view_module": "@jupyter-widgets/base",
            "_view_module_version": "1.2.0",
            "_view_name": "LayoutView",
            "align_content": null,
            "align_items": null,
            "align_self": null,
            "border": null,
            "bottom": null,
            "display": null,
            "flex": null,
            "flex_flow": null,
            "grid_area": null,
            "grid_auto_columns": null,
            "grid_auto_flow": null,
            "grid_auto_rows": null,
            "grid_column": null,
            "grid_gap": null,
            "grid_row": null,
            "grid_template_areas": null,
            "grid_template_columns": null,
            "grid_template_rows": null,
            "height": null,
            "justify_content": null,
            "justify_items": null,
            "left": null,
            "margin": null,
            "max_height": null,
            "max_width": null,
            "min_height": null,
            "min_width": null,
            "object_fit": null,
            "object_position": null,
            "order": null,
            "overflow": null,
            "overflow_x": null,
            "overflow_y": null,
            "padding": null,
            "right": null,
            "top": null,
            "visibility": null,
            "width": null
          }
        },
        "2cbc6780861a402dbe982c14fb6ed9f3": {
          "model_module": "@jupyter-widgets/controls",
          "model_module_version": "1.5.0",
          "model_name": "DescriptionStyleModel",
          "state": {
            "_model_module": "@jupyter-widgets/controls",
            "_model_module_version": "1.5.0",
            "_model_name": "DescriptionStyleModel",
            "_view_count": null,
            "_view_module": "@jupyter-widgets/base",
            "_view_module_version": "1.2.0",
            "_view_name": "StyleView",
            "description_width": ""
          }
        },
        "364b437aba97434c861a403cb5c3aeff": {
          "model_module": "@jupyter-widgets/base",
          "model_module_version": "1.2.0",
          "model_name": "LayoutModel",
          "state": {
            "_model_module": "@jupyter-widgets/base",
            "_model_module_version": "1.2.0",
            "_model_name": "LayoutModel",
            "_view_count": null,
            "_view_module": "@jupyter-widgets/base",
            "_view_module_version": "1.2.0",
            "_view_name": "LayoutView",
            "align_content": null,
            "align_items": null,
            "align_self": null,
            "border": null,
            "bottom": null,
            "display": null,
            "flex": null,
            "flex_flow": null,
            "grid_area": null,
            "grid_auto_columns": null,
            "grid_auto_flow": null,
            "grid_auto_rows": null,
            "grid_column": null,
            "grid_gap": null,
            "grid_row": null,
            "grid_template_areas": null,
            "grid_template_columns": null,
            "grid_template_rows": null,
            "height": null,
            "justify_content": null,
            "justify_items": null,
            "left": null,
            "margin": null,
            "max_height": null,
            "max_width": null,
            "min_height": null,
            "min_width": null,
            "object_fit": null,
            "object_position": null,
            "order": null,
            "overflow": null,
            "overflow_x": null,
            "overflow_y": null,
            "padding": null,
            "right": null,
            "top": null,
            "visibility": null,
            "width": null
          }
        },
        "3967777915e2421498dcc1718821875a": {
          "model_module": "@jupyter-widgets/controls",
          "model_module_version": "1.5.0",
          "model_name": "ProgressStyleModel",
          "state": {
            "_model_module": "@jupyter-widgets/controls",
            "_model_module_version": "1.5.0",
            "_model_name": "ProgressStyleModel",
            "_view_count": null,
            "_view_module": "@jupyter-widgets/base",
            "_view_module_version": "1.2.0",
            "_view_name": "StyleView",
            "bar_color": null,
            "description_width": ""
          }
        },
        "404a0c2709244524b14180be47ba456e": {
          "model_module": "@jupyter-widgets/controls",
          "model_module_version": "1.5.0",
          "model_name": "HTMLModel",
          "state": {
            "_dom_classes": [],
            "_model_module": "@jupyter-widgets/controls",
            "_model_module_version": "1.5.0",
            "_model_name": "HTMLModel",
            "_view_count": null,
            "_view_module": "@jupyter-widgets/controls",
            "_view_module_version": "1.5.0",
            "_view_name": "HTMLView",
            "description": "",
            "description_tooltip": null,
            "layout": "IPY_MODEL_7117b0e787e045749b075f93f4a9b027",
            "placeholder": "​",
            "style": "IPY_MODEL_e9010188fa224583955e5b412d2aff42",
            "value": " 4542/4542 [00:00&lt;00:00, 147965.27it/s]"
          }
        },
        "454b965e579a4014b733c7b91901dee5": {
          "model_module": "@jupyter-widgets/controls",
          "model_module_version": "1.5.0",
          "model_name": "DescriptionStyleModel",
          "state": {
            "_model_module": "@jupyter-widgets/controls",
            "_model_module_version": "1.5.0",
            "_model_name": "DescriptionStyleModel",
            "_view_count": null,
            "_view_module": "@jupyter-widgets/base",
            "_view_module_version": "1.2.0",
            "_view_name": "StyleView",
            "description_width": ""
          }
        },
        "47c7b06a7d074f0a9094d2c4a00f267c": {
          "model_module": "@jupyter-widgets/controls",
          "model_module_version": "1.5.0",
          "model_name": "HBoxModel",
          "state": {
            "_dom_classes": [],
            "_model_module": "@jupyter-widgets/controls",
            "_model_module_version": "1.5.0",
            "_model_name": "HBoxModel",
            "_view_count": null,
            "_view_module": "@jupyter-widgets/controls",
            "_view_module_version": "1.5.0",
            "_view_name": "HBoxView",
            "box_style": "",
            "children": [
              "IPY_MODEL_1a4ef8c2560c4c278d2a2951fbabe11d",
              "IPY_MODEL_b1515829de58459c8bdddb897e4001a5",
              "IPY_MODEL_03250d98a29a4acbac33f8f51eda1cee"
            ],
            "layout": "IPY_MODEL_4c50f86b1b724a6096c598cf5c678e0f"
          }
        },
        "4c50f86b1b724a6096c598cf5c678e0f": {
          "model_module": "@jupyter-widgets/base",
          "model_module_version": "1.2.0",
          "model_name": "LayoutModel",
          "state": {
            "_model_module": "@jupyter-widgets/base",
            "_model_module_version": "1.2.0",
            "_model_name": "LayoutModel",
            "_view_count": null,
            "_view_module": "@jupyter-widgets/base",
            "_view_module_version": "1.2.0",
            "_view_name": "LayoutView",
            "align_content": null,
            "align_items": null,
            "align_self": null,
            "border": null,
            "bottom": null,
            "display": null,
            "flex": null,
            "flex_flow": null,
            "grid_area": null,
            "grid_auto_columns": null,
            "grid_auto_flow": null,
            "grid_auto_rows": null,
            "grid_column": null,
            "grid_gap": null,
            "grid_row": null,
            "grid_template_areas": null,
            "grid_template_columns": null,
            "grid_template_rows": null,
            "height": null,
            "justify_content": null,
            "justify_items": null,
            "left": null,
            "margin": null,
            "max_height": null,
            "max_width": null,
            "min_height": null,
            "min_width": null,
            "object_fit": null,
            "object_position": null,
            "order": null,
            "overflow": null,
            "overflow_x": null,
            "overflow_y": null,
            "padding": null,
            "right": null,
            "top": null,
            "visibility": null,
            "width": null
          }
        },
        "4ce7da878a404045b6a320c919eeb039": {
          "model_module": "@jupyter-widgets/controls",
          "model_module_version": "1.5.0",
          "model_name": "DescriptionStyleModel",
          "state": {
            "_model_module": "@jupyter-widgets/controls",
            "_model_module_version": "1.5.0",
            "_model_name": "DescriptionStyleModel",
            "_view_count": null,
            "_view_module": "@jupyter-widgets/base",
            "_view_module_version": "1.2.0",
            "_view_name": "StyleView",
            "description_width": ""
          }
        },
        "5f582f4b0692403e854eff7dfef39a25": {
          "model_module": "@jupyter-widgets/base",
          "model_module_version": "1.2.0",
          "model_name": "LayoutModel",
          "state": {
            "_model_module": "@jupyter-widgets/base",
            "_model_module_version": "1.2.0",
            "_model_name": "LayoutModel",
            "_view_count": null,
            "_view_module": "@jupyter-widgets/base",
            "_view_module_version": "1.2.0",
            "_view_name": "LayoutView",
            "align_content": null,
            "align_items": null,
            "align_self": null,
            "border": null,
            "bottom": null,
            "display": null,
            "flex": null,
            "flex_flow": null,
            "grid_area": null,
            "grid_auto_columns": null,
            "grid_auto_flow": null,
            "grid_auto_rows": null,
            "grid_column": null,
            "grid_gap": null,
            "grid_row": null,
            "grid_template_areas": null,
            "grid_template_columns": null,
            "grid_template_rows": null,
            "height": null,
            "justify_content": null,
            "justify_items": null,
            "left": null,
            "margin": null,
            "max_height": null,
            "max_width": null,
            "min_height": null,
            "min_width": null,
            "object_fit": null,
            "object_position": null,
            "order": null,
            "overflow": null,
            "overflow_x": null,
            "overflow_y": null,
            "padding": null,
            "right": null,
            "top": null,
            "visibility": null,
            "width": null
          }
        },
        "60cc08f54ea045918beb550385c6a8fd": {
          "model_module": "@jupyter-widgets/controls",
          "model_module_version": "1.5.0",
          "model_name": "DescriptionStyleModel",
          "state": {
            "_model_module": "@jupyter-widgets/controls",
            "_model_module_version": "1.5.0",
            "_model_name": "DescriptionStyleModel",
            "_view_count": null,
            "_view_module": "@jupyter-widgets/base",
            "_view_module_version": "1.2.0",
            "_view_name": "StyleView",
            "description_width": ""
          }
        },
        "67f4576475924f0b8c5cc29948b10f09": {
          "model_module": "@jupyter-widgets/controls",
          "model_module_version": "1.5.0",
          "model_name": "HTMLModel",
          "state": {
            "_dom_classes": [],
            "_model_module": "@jupyter-widgets/controls",
            "_model_module_version": "1.5.0",
            "_model_name": "HTMLModel",
            "_view_count": null,
            "_view_module": "@jupyter-widgets/controls",
            "_view_module_version": "1.5.0",
            "_view_name": "HTMLView",
            "description": "",
            "description_tooltip": null,
            "layout": "IPY_MODEL_2a837f9889d64721bf4fb2ffd300b930",
            "placeholder": "​",
            "style": "IPY_MODEL_2425e1e9875c4759923d04a145ff1e2d",
            "value": " 9912422/9912422 [00:00&lt;00:00, 4555937.07it/s]"
          }
        },
        "68a2c5b1a8374fde976918000e3517ca": {
          "model_module": "@jupyter-widgets/base",
          "model_module_version": "1.2.0",
          "model_name": "LayoutModel",
          "state": {
            "_model_module": "@jupyter-widgets/base",
            "_model_module_version": "1.2.0",
            "_model_name": "LayoutModel",
            "_view_count": null,
            "_view_module": "@jupyter-widgets/base",
            "_view_module_version": "1.2.0",
            "_view_name": "LayoutView",
            "align_content": null,
            "align_items": null,
            "align_self": null,
            "border": null,
            "bottom": null,
            "display": null,
            "flex": null,
            "flex_flow": null,
            "grid_area": null,
            "grid_auto_columns": null,
            "grid_auto_flow": null,
            "grid_auto_rows": null,
            "grid_column": null,
            "grid_gap": null,
            "grid_row": null,
            "grid_template_areas": null,
            "grid_template_columns": null,
            "grid_template_rows": null,
            "height": null,
            "justify_content": null,
            "justify_items": null,
            "left": null,
            "margin": null,
            "max_height": null,
            "max_width": null,
            "min_height": null,
            "min_width": null,
            "object_fit": null,
            "object_position": null,
            "order": null,
            "overflow": null,
            "overflow_x": null,
            "overflow_y": null,
            "padding": null,
            "right": null,
            "top": null,
            "visibility": null,
            "width": null
          }
        },
        "68c2f43096f44821bcb01813b3658eaa": {
          "model_module": "@jupyter-widgets/base",
          "model_module_version": "1.2.0",
          "model_name": "LayoutModel",
          "state": {
            "_model_module": "@jupyter-widgets/base",
            "_model_module_version": "1.2.0",
            "_model_name": "LayoutModel",
            "_view_count": null,
            "_view_module": "@jupyter-widgets/base",
            "_view_module_version": "1.2.0",
            "_view_name": "LayoutView",
            "align_content": null,
            "align_items": null,
            "align_self": null,
            "border": null,
            "bottom": null,
            "display": null,
            "flex": null,
            "flex_flow": null,
            "grid_area": null,
            "grid_auto_columns": null,
            "grid_auto_flow": null,
            "grid_auto_rows": null,
            "grid_column": null,
            "grid_gap": null,
            "grid_row": null,
            "grid_template_areas": null,
            "grid_template_columns": null,
            "grid_template_rows": null,
            "height": null,
            "justify_content": null,
            "justify_items": null,
            "left": null,
            "margin": null,
            "max_height": null,
            "max_width": null,
            "min_height": null,
            "min_width": null,
            "object_fit": null,
            "object_position": null,
            "order": null,
            "overflow": null,
            "overflow_x": null,
            "overflow_y": null,
            "padding": null,
            "right": null,
            "top": null,
            "visibility": null,
            "width": null
          }
        },
        "7117b0e787e045749b075f93f4a9b027": {
          "model_module": "@jupyter-widgets/base",
          "model_module_version": "1.2.0",
          "model_name": "LayoutModel",
          "state": {
            "_model_module": "@jupyter-widgets/base",
            "_model_module_version": "1.2.0",
            "_model_name": "LayoutModel",
            "_view_count": null,
            "_view_module": "@jupyter-widgets/base",
            "_view_module_version": "1.2.0",
            "_view_name": "LayoutView",
            "align_content": null,
            "align_items": null,
            "align_self": null,
            "border": null,
            "bottom": null,
            "display": null,
            "flex": null,
            "flex_flow": null,
            "grid_area": null,
            "grid_auto_columns": null,
            "grid_auto_flow": null,
            "grid_auto_rows": null,
            "grid_column": null,
            "grid_gap": null,
            "grid_row": null,
            "grid_template_areas": null,
            "grid_template_columns": null,
            "grid_template_rows": null,
            "height": null,
            "justify_content": null,
            "justify_items": null,
            "left": null,
            "margin": null,
            "max_height": null,
            "max_width": null,
            "min_height": null,
            "min_width": null,
            "object_fit": null,
            "object_position": null,
            "order": null,
            "overflow": null,
            "overflow_x": null,
            "overflow_y": null,
            "padding": null,
            "right": null,
            "top": null,
            "visibility": null,
            "width": null
          }
        },
        "71f6b6de1f894ae49726c9c6182d3a65": {
          "model_module": "@jupyter-widgets/base",
          "model_module_version": "1.2.0",
          "model_name": "LayoutModel",
          "state": {
            "_model_module": "@jupyter-widgets/base",
            "_model_module_version": "1.2.0",
            "_model_name": "LayoutModel",
            "_view_count": null,
            "_view_module": "@jupyter-widgets/base",
            "_view_module_version": "1.2.0",
            "_view_name": "LayoutView",
            "align_content": null,
            "align_items": null,
            "align_self": null,
            "border": null,
            "bottom": null,
            "display": null,
            "flex": null,
            "flex_flow": null,
            "grid_area": null,
            "grid_auto_columns": null,
            "grid_auto_flow": null,
            "grid_auto_rows": null,
            "grid_column": null,
            "grid_gap": null,
            "grid_row": null,
            "grid_template_areas": null,
            "grid_template_columns": null,
            "grid_template_rows": null,
            "height": null,
            "justify_content": null,
            "justify_items": null,
            "left": null,
            "margin": null,
            "max_height": null,
            "max_width": null,
            "min_height": null,
            "min_width": null,
            "object_fit": null,
            "object_position": null,
            "order": null,
            "overflow": null,
            "overflow_x": null,
            "overflow_y": null,
            "padding": null,
            "right": null,
            "top": null,
            "visibility": null,
            "width": null
          }
        },
        "775978538baf486abd63ad7d7ae956a2": {
          "model_module": "@jupyter-widgets/controls",
          "model_module_version": "1.5.0",
          "model_name": "ProgressStyleModel",
          "state": {
            "_model_module": "@jupyter-widgets/controls",
            "_model_module_version": "1.5.0",
            "_model_name": "ProgressStyleModel",
            "_view_count": null,
            "_view_module": "@jupyter-widgets/base",
            "_view_module_version": "1.2.0",
            "_view_name": "StyleView",
            "bar_color": null,
            "description_width": ""
          }
        },
        "79618af76b1b4e9f99c773ae52a4ead8": {
          "model_module": "@jupyter-widgets/controls",
          "model_module_version": "1.5.0",
          "model_name": "ProgressStyleModel",
          "state": {
            "_model_module": "@jupyter-widgets/controls",
            "_model_module_version": "1.5.0",
            "_model_name": "ProgressStyleModel",
            "_view_count": null,
            "_view_module": "@jupyter-widgets/base",
            "_view_module_version": "1.2.0",
            "_view_name": "StyleView",
            "bar_color": null,
            "description_width": ""
          }
        },
        "7980c4f1929b498aa015ac6a0ff363f1": {
          "model_module": "@jupyter-widgets/base",
          "model_module_version": "1.2.0",
          "model_name": "LayoutModel",
          "state": {
            "_model_module": "@jupyter-widgets/base",
            "_model_module_version": "1.2.0",
            "_model_name": "LayoutModel",
            "_view_count": null,
            "_view_module": "@jupyter-widgets/base",
            "_view_module_version": "1.2.0",
            "_view_name": "LayoutView",
            "align_content": null,
            "align_items": null,
            "align_self": null,
            "border": null,
            "bottom": null,
            "display": null,
            "flex": null,
            "flex_flow": null,
            "grid_area": null,
            "grid_auto_columns": null,
            "grid_auto_flow": null,
            "grid_auto_rows": null,
            "grid_column": null,
            "grid_gap": null,
            "grid_row": null,
            "grid_template_areas": null,
            "grid_template_columns": null,
            "grid_template_rows": null,
            "height": null,
            "justify_content": null,
            "justify_items": null,
            "left": null,
            "margin": null,
            "max_height": null,
            "max_width": null,
            "min_height": null,
            "min_width": null,
            "object_fit": null,
            "object_position": null,
            "order": null,
            "overflow": null,
            "overflow_x": null,
            "overflow_y": null,
            "padding": null,
            "right": null,
            "top": null,
            "visibility": null,
            "width": null
          }
        },
        "7ab8638b73094228911a9be4b8b34673": {
          "model_module": "@jupyter-widgets/controls",
          "model_module_version": "1.5.0",
          "model_name": "DescriptionStyleModel",
          "state": {
            "_model_module": "@jupyter-widgets/controls",
            "_model_module_version": "1.5.0",
            "_model_name": "DescriptionStyleModel",
            "_view_count": null,
            "_view_module": "@jupyter-widgets/base",
            "_view_module_version": "1.2.0",
            "_view_name": "StyleView",
            "description_width": ""
          }
        },
        "8947088c37c84a6e98fb551af2badcd9": {
          "model_module": "@jupyter-widgets/controls",
          "model_module_version": "1.5.0",
          "model_name": "ProgressStyleModel",
          "state": {
            "_model_module": "@jupyter-widgets/controls",
            "_model_module_version": "1.5.0",
            "_model_name": "ProgressStyleModel",
            "_view_count": null,
            "_view_module": "@jupyter-widgets/base",
            "_view_module_version": "1.2.0",
            "_view_name": "StyleView",
            "bar_color": null,
            "description_width": ""
          }
        },
        "969474b352d2444e9c2b2c0d44bd9126": {
          "model_module": "@jupyter-widgets/base",
          "model_module_version": "1.2.0",
          "model_name": "LayoutModel",
          "state": {
            "_model_module": "@jupyter-widgets/base",
            "_model_module_version": "1.2.0",
            "_model_name": "LayoutModel",
            "_view_count": null,
            "_view_module": "@jupyter-widgets/base",
            "_view_module_version": "1.2.0",
            "_view_name": "LayoutView",
            "align_content": null,
            "align_items": null,
            "align_self": null,
            "border": null,
            "bottom": null,
            "display": null,
            "flex": null,
            "flex_flow": null,
            "grid_area": null,
            "grid_auto_columns": null,
            "grid_auto_flow": null,
            "grid_auto_rows": null,
            "grid_column": null,
            "grid_gap": null,
            "grid_row": null,
            "grid_template_areas": null,
            "grid_template_columns": null,
            "grid_template_rows": null,
            "height": null,
            "justify_content": null,
            "justify_items": null,
            "left": null,
            "margin": null,
            "max_height": null,
            "max_width": null,
            "min_height": null,
            "min_width": null,
            "object_fit": null,
            "object_position": null,
            "order": null,
            "overflow": null,
            "overflow_x": null,
            "overflow_y": null,
            "padding": null,
            "right": null,
            "top": null,
            "visibility": null,
            "width": null
          }
        },
        "99540fd4d0a44df99a3596edfa9b888b": {
          "model_module": "@jupyter-widgets/controls",
          "model_module_version": "1.5.0",
          "model_name": "DescriptionStyleModel",
          "state": {
            "_model_module": "@jupyter-widgets/controls",
            "_model_module_version": "1.5.0",
            "_model_name": "DescriptionStyleModel",
            "_view_count": null,
            "_view_module": "@jupyter-widgets/base",
            "_view_module_version": "1.2.0",
            "_view_name": "StyleView",
            "description_width": ""
          }
        },
        "9f3f2daaabc24058b673f61833bfe184": {
          "model_module": "@jupyter-widgets/controls",
          "model_module_version": "1.5.0",
          "model_name": "HTMLModel",
          "state": {
            "_dom_classes": [],
            "_model_module": "@jupyter-widgets/controls",
            "_model_module_version": "1.5.0",
            "_model_name": "HTMLModel",
            "_view_count": null,
            "_view_module": "@jupyter-widgets/controls",
            "_view_module_version": "1.5.0",
            "_view_name": "HTMLView",
            "description": "",
            "description_tooltip": null,
            "layout": "IPY_MODEL_e01d6e9067114d0d8579b01c372761c6",
            "placeholder": "​",
            "style": "IPY_MODEL_60cc08f54ea045918beb550385c6a8fd",
            "value": "100%"
          }
        },
        "a0e45ebb19f94f25868b13c4748b0d6c": {
          "model_module": "@jupyter-widgets/controls",
          "model_module_version": "1.5.0",
          "model_name": "FloatProgressModel",
          "state": {
            "_dom_classes": [],
            "_model_module": "@jupyter-widgets/controls",
            "_model_module_version": "1.5.0",
            "_model_name": "FloatProgressModel",
            "_view_count": null,
            "_view_module": "@jupyter-widgets/controls",
            "_view_module_version": "1.5.0",
            "_view_name": "ProgressView",
            "bar_style": "success",
            "description": "",
            "description_tooltip": null,
            "layout": "IPY_MODEL_25d627968f9c48f68154cfeec6ffde11",
            "max": 9912422,
            "min": 0,
            "orientation": "horizontal",
            "style": "IPY_MODEL_775978538baf486abd63ad7d7ae956a2",
            "value": 9912422
          }
        },
        "a30ae022235b4d3d872cde2a59c8e692": {
          "model_module": "@jupyter-widgets/base",
          "model_module_version": "1.2.0",
          "model_name": "LayoutModel",
          "state": {
            "_model_module": "@jupyter-widgets/base",
            "_model_module_version": "1.2.0",
            "_model_name": "LayoutModel",
            "_view_count": null,
            "_view_module": "@jupyter-widgets/base",
            "_view_module_version": "1.2.0",
            "_view_name": "LayoutView",
            "align_content": null,
            "align_items": null,
            "align_self": null,
            "border": null,
            "bottom": null,
            "display": null,
            "flex": null,
            "flex_flow": null,
            "grid_area": null,
            "grid_auto_columns": null,
            "grid_auto_flow": null,
            "grid_auto_rows": null,
            "grid_column": null,
            "grid_gap": null,
            "grid_row": null,
            "grid_template_areas": null,
            "grid_template_columns": null,
            "grid_template_rows": null,
            "height": null,
            "justify_content": null,
            "justify_items": null,
            "left": null,
            "margin": null,
            "max_height": null,
            "max_width": null,
            "min_height": null,
            "min_width": null,
            "object_fit": null,
            "object_position": null,
            "order": null,
            "overflow": null,
            "overflow_x": null,
            "overflow_y": null,
            "padding": null,
            "right": null,
            "top": null,
            "visibility": null,
            "width": null
          }
        },
        "adf4b450e452423fb08e3b7ca2c8f8e5": {
          "model_module": "@jupyter-widgets/controls",
          "model_module_version": "1.5.0",
          "model_name": "FloatProgressModel",
          "state": {
            "_dom_classes": [],
            "_model_module": "@jupyter-widgets/controls",
            "_model_module_version": "1.5.0",
            "_model_name": "FloatProgressModel",
            "_view_count": null,
            "_view_module": "@jupyter-widgets/controls",
            "_view_module_version": "1.5.0",
            "_view_name": "ProgressView",
            "bar_style": "success",
            "description": "",
            "description_tooltip": null,
            "layout": "IPY_MODEL_f4203c1747894c5dad4c6ce778e6d801",
            "max": 4542,
            "min": 0,
            "orientation": "horizontal",
            "style": "IPY_MODEL_79618af76b1b4e9f99c773ae52a4ead8",
            "value": 4542
          }
        },
        "aed1a8a020e1480da478560bba01716f": {
          "model_module": "@jupyter-widgets/controls",
          "model_module_version": "1.5.0",
          "model_name": "HBoxModel",
          "state": {
            "_dom_classes": [],
            "_model_module": "@jupyter-widgets/controls",
            "_model_module_version": "1.5.0",
            "_model_name": "HBoxModel",
            "_view_count": null,
            "_view_module": "@jupyter-widgets/controls",
            "_view_module_version": "1.5.0",
            "_view_name": "HBoxView",
            "box_style": "",
            "children": [
              "IPY_MODEL_c4c99c992cc14dfd833669cb0c8196da",
              "IPY_MODEL_adf4b450e452423fb08e3b7ca2c8f8e5",
              "IPY_MODEL_404a0c2709244524b14180be47ba456e"
            ],
            "layout": "IPY_MODEL_68c2f43096f44821bcb01813b3658eaa"
          }
        },
        "af15c5b7996c401ba1b0d30f58abded5": {
          "model_module": "@jupyter-widgets/controls",
          "model_module_version": "1.5.0",
          "model_name": "FloatProgressModel",
          "state": {
            "_dom_classes": [],
            "_model_module": "@jupyter-widgets/controls",
            "_model_module_version": "1.5.0",
            "_model_name": "FloatProgressModel",
            "_view_count": null,
            "_view_module": "@jupyter-widgets/controls",
            "_view_module_version": "1.5.0",
            "_view_name": "ProgressView",
            "bar_style": "success",
            "description": "",
            "description_tooltip": null,
            "layout": "IPY_MODEL_1c40770b44da494aab2e78777dd2fb44",
            "max": 561753746,
            "min": 0,
            "orientation": "horizontal",
            "style": "IPY_MODEL_8947088c37c84a6e98fb551af2badcd9",
            "value": 561753746
          }
        },
        "b1515829de58459c8bdddb897e4001a5": {
          "model_module": "@jupyter-widgets/controls",
          "model_module_version": "1.5.0",
          "model_name": "FloatProgressModel",
          "state": {
            "_dom_classes": [],
            "_model_module": "@jupyter-widgets/controls",
            "_model_module_version": "1.5.0",
            "_model_name": "FloatProgressModel",
            "_view_count": null,
            "_view_module": "@jupyter-widgets/controls",
            "_view_module_version": "1.5.0",
            "_view_name": "ProgressView",
            "bar_style": "success",
            "description": "",
            "description_tooltip": null,
            "layout": "IPY_MODEL_364b437aba97434c861a403cb5c3aeff",
            "max": 1648877,
            "min": 0,
            "orientation": "horizontal",
            "style": "IPY_MODEL_3967777915e2421498dcc1718821875a",
            "value": 1648877
          }
        },
        "b80a317059ed44b4a21e73929a19433b": {
          "model_module": "@jupyter-widgets/controls",
          "model_module_version": "1.5.0",
          "model_name": "DescriptionStyleModel",
          "state": {
            "_model_module": "@jupyter-widgets/controls",
            "_model_module_version": "1.5.0",
            "_model_name": "DescriptionStyleModel",
            "_view_count": null,
            "_view_module": "@jupyter-widgets/base",
            "_view_module_version": "1.2.0",
            "_view_name": "StyleView",
            "description_width": ""
          }
        },
        "bcbe00c54b224cf4bd7738ae4877fe17": {
          "model_module": "@jupyter-widgets/controls",
          "model_module_version": "1.5.0",
          "model_name": "ProgressStyleModel",
          "state": {
            "_model_module": "@jupyter-widgets/controls",
            "_model_module_version": "1.5.0",
            "_model_name": "ProgressStyleModel",
            "_view_count": null,
            "_view_module": "@jupyter-widgets/base",
            "_view_module_version": "1.2.0",
            "_view_name": "StyleView",
            "bar_color": null,
            "description_width": ""
          }
        },
        "c4c99c992cc14dfd833669cb0c8196da": {
          "model_module": "@jupyter-widgets/controls",
          "model_module_version": "1.5.0",
          "model_name": "HTMLModel",
          "state": {
            "_dom_classes": [],
            "_model_module": "@jupyter-widgets/controls",
            "_model_module_version": "1.5.0",
            "_model_name": "HTMLModel",
            "_view_count": null,
            "_view_module": "@jupyter-widgets/controls",
            "_view_module_version": "1.5.0",
            "_view_name": "HTMLView",
            "description": "",
            "description_tooltip": null,
            "layout": "IPY_MODEL_1a570ab44f4a49a3a2c37e78c9effb6f",
            "placeholder": "​",
            "style": "IPY_MODEL_454b965e579a4014b733c7b91901dee5",
            "value": "100%"
          }
        },
        "c905e53173e74744bb45c56ea3c6612f": {
          "model_module": "@jupyter-widgets/base",
          "model_module_version": "1.2.0",
          "model_name": "LayoutModel",
          "state": {
            "_model_module": "@jupyter-widgets/base",
            "_model_module_version": "1.2.0",
            "_model_name": "LayoutModel",
            "_view_count": null,
            "_view_module": "@jupyter-widgets/base",
            "_view_module_version": "1.2.0",
            "_view_name": "LayoutView",
            "align_content": null,
            "align_items": null,
            "align_self": null,
            "border": null,
            "bottom": null,
            "display": null,
            "flex": null,
            "flex_flow": null,
            "grid_area": null,
            "grid_auto_columns": null,
            "grid_auto_flow": null,
            "grid_auto_rows": null,
            "grid_column": null,
            "grid_gap": null,
            "grid_row": null,
            "grid_template_areas": null,
            "grid_template_columns": null,
            "grid_template_rows": null,
            "height": null,
            "justify_content": null,
            "justify_items": null,
            "left": null,
            "margin": null,
            "max_height": null,
            "max_width": null,
            "min_height": null,
            "min_width": null,
            "object_fit": null,
            "object_position": null,
            "order": null,
            "overflow": null,
            "overflow_x": null,
            "overflow_y": null,
            "padding": null,
            "right": null,
            "top": null,
            "visibility": null,
            "width": null
          }
        },
        "e01d6e9067114d0d8579b01c372761c6": {
          "model_module": "@jupyter-widgets/base",
          "model_module_version": "1.2.0",
          "model_name": "LayoutModel",
          "state": {
            "_model_module": "@jupyter-widgets/base",
            "_model_module_version": "1.2.0",
            "_model_name": "LayoutModel",
            "_view_count": null,
            "_view_module": "@jupyter-widgets/base",
            "_view_module_version": "1.2.0",
            "_view_name": "LayoutView",
            "align_content": null,
            "align_items": null,
            "align_self": null,
            "border": null,
            "bottom": null,
            "display": null,
            "flex": null,
            "flex_flow": null,
            "grid_area": null,
            "grid_auto_columns": null,
            "grid_auto_flow": null,
            "grid_auto_rows": null,
            "grid_column": null,
            "grid_gap": null,
            "grid_row": null,
            "grid_template_areas": null,
            "grid_template_columns": null,
            "grid_template_rows": null,
            "height": null,
            "justify_content": null,
            "justify_items": null,
            "left": null,
            "margin": null,
            "max_height": null,
            "max_width": null,
            "min_height": null,
            "min_width": null,
            "object_fit": null,
            "object_position": null,
            "order": null,
            "overflow": null,
            "overflow_x": null,
            "overflow_y": null,
            "padding": null,
            "right": null,
            "top": null,
            "visibility": null,
            "width": null
          }
        },
        "e1dd7a145bde493b960febb93c6f095e": {
          "model_module": "@jupyter-widgets/base",
          "model_module_version": "1.2.0",
          "model_name": "LayoutModel",
          "state": {
            "_model_module": "@jupyter-widgets/base",
            "_model_module_version": "1.2.0",
            "_model_name": "LayoutModel",
            "_view_count": null,
            "_view_module": "@jupyter-widgets/base",
            "_view_module_version": "1.2.0",
            "_view_name": "LayoutView",
            "align_content": null,
            "align_items": null,
            "align_self": null,
            "border": null,
            "bottom": null,
            "display": null,
            "flex": null,
            "flex_flow": null,
            "grid_area": null,
            "grid_auto_columns": null,
            "grid_auto_flow": null,
            "grid_auto_rows": null,
            "grid_column": null,
            "grid_gap": null,
            "grid_row": null,
            "grid_template_areas": null,
            "grid_template_columns": null,
            "grid_template_rows": null,
            "height": null,
            "justify_content": null,
            "justify_items": null,
            "left": null,
            "margin": null,
            "max_height": null,
            "max_width": null,
            "min_height": null,
            "min_width": null,
            "object_fit": null,
            "object_position": null,
            "order": null,
            "overflow": null,
            "overflow_x": null,
            "overflow_y": null,
            "padding": null,
            "right": null,
            "top": null,
            "visibility": null,
            "width": null
          }
        },
        "e9010188fa224583955e5b412d2aff42": {
          "model_module": "@jupyter-widgets/controls",
          "model_module_version": "1.5.0",
          "model_name": "DescriptionStyleModel",
          "state": {
            "_model_module": "@jupyter-widgets/controls",
            "_model_module_version": "1.5.0",
            "_model_name": "DescriptionStyleModel",
            "_view_count": null,
            "_view_module": "@jupyter-widgets/base",
            "_view_module_version": "1.2.0",
            "_view_name": "StyleView",
            "description_width": ""
          }
        },
        "f4203c1747894c5dad4c6ce778e6d801": {
          "model_module": "@jupyter-widgets/base",
          "model_module_version": "1.2.0",
          "model_name": "LayoutModel",
          "state": {
            "_model_module": "@jupyter-widgets/base",
            "_model_module_version": "1.2.0",
            "_model_name": "LayoutModel",
            "_view_count": null,
            "_view_module": "@jupyter-widgets/base",
            "_view_module_version": "1.2.0",
            "_view_name": "LayoutView",
            "align_content": null,
            "align_items": null,
            "align_self": null,
            "border": null,
            "bottom": null,
            "display": null,
            "flex": null,
            "flex_flow": null,
            "grid_area": null,
            "grid_auto_columns": null,
            "grid_auto_flow": null,
            "grid_auto_rows": null,
            "grid_column": null,
            "grid_gap": null,
            "grid_row": null,
            "grid_template_areas": null,
            "grid_template_columns": null,
            "grid_template_rows": null,
            "height": null,
            "justify_content": null,
            "justify_items": null,
            "left": null,
            "margin": null,
            "max_height": null,
            "max_width": null,
            "min_height": null,
            "min_width": null,
            "object_fit": null,
            "object_position": null,
            "order": null,
            "overflow": null,
            "overflow_x": null,
            "overflow_y": null,
            "padding": null,
            "right": null,
            "top": null,
            "visibility": null,
            "width": null
          }
        },
        "f4efc0f8810441808f3e9255de97dbd0": {
          "model_module": "@jupyter-widgets/controls",
          "model_module_version": "1.5.0",
          "model_name": "HTMLModel",
          "state": {
            "_dom_classes": [],
            "_model_module": "@jupyter-widgets/controls",
            "_model_module_version": "1.5.0",
            "_model_name": "HTMLModel",
            "_view_count": null,
            "_view_module": "@jupyter-widgets/controls",
            "_view_module_version": "1.5.0",
            "_view_name": "HTMLView",
            "description": "",
            "description_tooltip": null,
            "layout": "IPY_MODEL_71f6b6de1f894ae49726c9c6182d3a65",
            "placeholder": "​",
            "style": "IPY_MODEL_1ffb694ae4344425bafda6603b90fd22",
            "value": " 28881/28881 [00:00&lt;00:00, 1006068.63it/s]"
          }
        },
        "f5199feebefa4cb183d97df3442f9183": {
          "model_module": "@jupyter-widgets/controls",
          "model_module_version": "1.5.0",
          "model_name": "FloatProgressModel",
          "state": {
            "_dom_classes": [],
            "_model_module": "@jupyter-widgets/controls",
            "_model_module_version": "1.5.0",
            "_model_name": "FloatProgressModel",
            "_view_count": null,
            "_view_module": "@jupyter-widgets/controls",
            "_view_module_version": "1.5.0",
            "_view_name": "ProgressView",
            "bar_style": "success",
            "description": "",
            "description_tooltip": null,
            "layout": "IPY_MODEL_17e7636ade0a4c7c92f51c9bd9f444c9",
            "max": 28881,
            "min": 0,
            "orientation": "horizontal",
            "style": "IPY_MODEL_bcbe00c54b224cf4bd7738ae4877fe17",
            "value": 28881
          }
        },
        "f55e3cd376b940d99267a9d7cdaa6bef": {
          "model_module": "@jupyter-widgets/controls",
          "model_module_version": "1.5.0",
          "model_name": "HTMLModel",
          "state": {
            "_dom_classes": [],
            "_model_module": "@jupyter-widgets/controls",
            "_model_module_version": "1.5.0",
            "_model_name": "HTMLModel",
            "_view_count": null,
            "_view_module": "@jupyter-widgets/controls",
            "_view_module_version": "1.5.0",
            "_view_name": "HTMLView",
            "description": "",
            "description_tooltip": null,
            "layout": "IPY_MODEL_090f562c6ee0448ea3ff4c1b3bd0c104",
            "placeholder": "​",
            "style": "IPY_MODEL_99540fd4d0a44df99a3596edfa9b888b",
            "value": " 561753746/561753746 [00:43&lt;00:00, 13555994.40it/s]"
          }
        },
        "fb80ddea9c8c443f8b974d2817ac1710": {
          "model_module": "@jupyter-widgets/controls",
          "model_module_version": "1.5.0",
          "model_name": "HTMLModel",
          "state": {
            "_dom_classes": [],
            "_model_module": "@jupyter-widgets/controls",
            "_model_module_version": "1.5.0",
            "_model_name": "HTMLModel",
            "_view_count": null,
            "_view_module": "@jupyter-widgets/controls",
            "_view_module_version": "1.5.0",
            "_view_name": "HTMLView",
            "description": "",
            "description_tooltip": null,
            "layout": "IPY_MODEL_e1dd7a145bde493b960febb93c6f095e",
            "placeholder": "​",
            "style": "IPY_MODEL_2cbc6780861a402dbe982c14fb6ed9f3",
            "value": "100%"
          }
        }
      }
    }
  },
  "nbformat": 4,
  "nbformat_minor": 5
}