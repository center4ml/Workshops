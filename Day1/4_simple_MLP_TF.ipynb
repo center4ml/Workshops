{
  "cells": [
    {
      "cell_type": "markdown",
      "metadata": {
        "id": "MAmgHA43ujGw"
      },
      "source": [
        "This is an introduction to Tensorflow 2 with the Keras API. We will work with the MNIST dataset of hand-written digits and:\n",
        "*   classify them using logistic regression and multi-layer dense networks\n",
        "*   examine various network depths, activation functions and optimizers\n",
        "*   introduce convolutional layers and the LeNet5 architecture"
      ]
    },
    {
      "cell_type": "markdown",
      "metadata": {
        "id": "gLBuViOPv7Oa"
      },
      "source": [
        "Import Tensorflow, load the MNIST dataset using Tensorflow built-in tools and display some characteristics of the data and target arrays:"
      ]
    },
    {
      "cell_type": "code",
      "execution_count": 1,
      "metadata": {
        "colab": {
          "base_uri": "https://localhost:8080/"
        },
        "id": "bwS4WAtBuiIW",
        "outputId": "e11da9db-279b-4d68-fabe-364e2285f9ca",
        "scrolled": true
      },
      "outputs": [
        {
          "output_type": "stream",
          "name": "stdout",
          "text": [
            "Downloading data from https://storage.googleapis.com/tensorflow/tf-keras-datasets/mnist.npz\n",
            "11490434/11490434 [==============================] - 2s 0us/step\n",
            "<class 'numpy.ndarray'> (60000, 28, 28) uint8 0 255\n",
            "<class 'numpy.ndarray'> (60000,) uint8 0 9\n",
            "<class 'numpy.ndarray'> (10000, 28, 28) uint8 0 255\n",
            "<class 'numpy.ndarray'> (10000,) uint8 0 9\n"
          ]
        }
      ],
      "source": [
        "import tensorflow as tf\n",
        "\n",
        "(DATA0, TARGET0), (DATA1, TARGET1) = tf.keras.datasets.mnist.load_data()\n",
        "\n",
        "print(type(DATA0), DATA0.shape, DATA0.dtype, DATA0.min(), DATA0.max())\n",
        "print(type(TARGET0), TARGET0.shape, TARGET0.dtype, TARGET0.min(), TARGET0.max())\n",
        "\n",
        "print(type(DATA1), DATA1.shape, DATA1.dtype, DATA1.min(), DATA1.max())\n",
        "print(type(TARGET1), TARGET1.shape, TARGET1.dtype, TARGET1.min(), TARGET1.max())"
      ]
    },
    {
      "cell_type": "markdown",
      "metadata": {
        "id": "en3XxGZaxkr2"
      },
      "source": [
        "These are ordinary numpy arrays. There are 60 000 samples in the training dataset and 10 000 in the validation dataset. The targets are integer numbers from 0 to 9 labeling the digits. The data are 28x28 grayscale images with values of type uint8, ranging from 0 to 255."
      ]
    },
    {
      "cell_type": "markdown",
      "metadata": {
        "id": "W7v7P3sADg7-"
      },
      "source": [
        "**Task.** Display the first image from the training dataset."
      ]
    },
    {
      "cell_type": "markdown",
      "metadata": {
        "id": "LuwQAwExD6pM"
      },
      "source": [
        "**Solution.** The code below displays the first digit from the training dataset:"
      ]
    },
    {
      "cell_type": "code",
      "execution_count": 2,
      "metadata": {
        "colab": {
          "base_uri": "https://localhost:8080/",
          "height": 282
        },
        "id": "qb3FAR9ODqwJ",
        "outputId": "451fc7cf-35b0-426e-a492-f61be7f12d38",
        "scrolled": false
      },
      "outputs": [
        {
          "output_type": "execute_result",
          "data": {
            "text/plain": [
              "<matplotlib.image.AxesImage at 0x7fe95edc8b90>"
            ]
          },
          "metadata": {},
          "execution_count": 2
        },
        {
          "output_type": "display_data",
          "data": {
            "text/plain": [
              "<Figure size 432x288 with 1 Axes>"
            ],
            "image/png": "[encoded data removed]"
          },
          "metadata": {
            "needs_background": "light"
          }
        }
      ],
      "source": [
        "from matplotlib import pyplot as plt\n",
        "\n",
        "plt.imshow(DATA0[0])"
      ]
    },
    {
      "cell_type": "markdown",
      "metadata": {
        "id": "vnD7N8gfEHEF"
      },
      "source": [
        "Dense networks take flat vectors of floating-point features and are best suited for inputs of the order of 1 rather than 255. So flatten the images, cast them to float32 and scale to the range from 0 to 1:"
      ]
    },
    {
      "cell_type": "code",
      "execution_count": 3,
      "metadata": {
        "id": "QeBjEJ1lMR9W"
      },
      "outputs": [],
      "source": [
        "DATA0 = DATA0.reshape(-1, 28 * 28).astype('float32') / 255.\n",
        "DATA1 = DATA1.reshape(-1, 28 * 28).astype('float32') / 255."
      ]
    },
    {
      "cell_type": "markdown",
      "metadata": {
        "id": "tm4OpcSvW9tK"
      },
      "source": [
        "Suppose we have $I$ data samples of $J$ features each and want to classify them to $K$ classes. Let $X_{ij}$ denote feature $j$ of sample $i$. In logistic regression, we first calculate the logits $$A_{ik}=b_k+\\sum_jX_{ij}w_{jk}$$ where $b_k$ and $w_{jk}$ are called biases and weights. Then we calculate the probabilities that sample $i$ belongs to class $k$ according to the softmax formula $$P_{ik}=\\frac{\\exp(A_{ik})}{\\sum_{k'}\\exp(A_{ik'})}$$ We then classify each sample to the class with the highest probability. The biases and weights are determined by training the classifier on a dataset $X_{ij}$ where sample $i$ belongs to class $k_i$. This is done by minimizing the cross-entropy loss $$L=-\\sum_{ik}\\delta_{kk_i}\\log P_{ik}$$ by using a variant of stochastic gradient descent. Build the corresponding Tensorflow model. The dense layer transforms features into logits and the softmax function transforms logits to probabilities. This is a single-layer dense network with 10 outputs corresponding to digits from 0 to 9:"
      ]
    },
    {
      "cell_type": "code",
      "execution_count": 4,
      "metadata": {
        "id": "Lt1_McQT17ls"
      },
      "outputs": [],
      "source": [
        "model = tf.keras.models.Sequential([\n",
        "    tf.keras.layers.Dense(10),\n",
        "    tf.keras.layers.Softmax()])"
      ]
    },
    {
      "cell_type": "markdown",
      "metadata": {
        "id": "iI2RBXmr2XhG"
      },
      "source": [
        "The activation functions, like softmax, sigmoid, relu, etc., can be treated as separate layers or equivalently added at the outputs of the dense layers:"
      ]
    },
    {
      "cell_type": "code",
      "execution_count": 11,
      "metadata": {
        "id": "nrVwci7U3BoU"
      },
      "outputs": [],
      "source": [
        "model = tf.keras.models.Sequential([\n",
        "    tf.keras.layers.Dense(10, activation = 'softmax')])"
      ]
    },
    {
      "cell_type": "markdown",
      "metadata": {
        "id": "w2Ht754M3ARg"
      },
      "source": [
        "The model has not been trained yet, so it will give incorrect predictions. But anyway pass the entire validation dataset thereto and display the output:"
      ]
    },
    {
      "cell_type": "code",
      "execution_count": 12,
      "metadata": {
        "colab": {
          "base_uri": "https://localhost:8080/"
        },
        "id": "0ZKl_uxp4kU6",
        "outputId": "ac530036-7fb2-458a-9ef4-b4be8d95611e"
      },
      "outputs": [
        {
          "output_type": "stream",
          "name": "stdout",
          "text": [
            "tf.Tensor(\n",
            "[[0.05167668 0.12001316 0.13359576 ... 0.16891429 0.06585174 0.10746017]\n",
            " [0.10195825 0.08277217 0.11792559 ... 0.15281254 0.10292968 0.15052103]\n",
            " [0.066366   0.07223871 0.13078341 ... 0.06768409 0.12285866 0.12955788]\n",
            " ...\n",
            " [0.05561999 0.10865445 0.16778933 ... 0.09445178 0.05930987 0.15072164]\n",
            " [0.11965018 0.17953506 0.101887   ... 0.07389995 0.05867144 0.15284973]\n",
            " [0.10085566 0.07039701 0.05637723 ... 0.19763641 0.05897344 0.19710067]], shape=(10000, 10), dtype=float32)\n"
          ]
        }
      ],
      "source": [
        "PROBABILITY1 = model(DATA1)\n",
        "print(PROBABILITY1)"
      ]
    },
    {
      "cell_type": "markdown",
      "metadata": {
        "id": "SpwV3oAw5WkG"
      },
      "source": [
        "The output is not a numpy array but a tf.Tensor, an internal format on which Tensorflow operates. Convert it back to a numpy array for further processing:"
      ]
    },
    {
      "cell_type": "code",
      "execution_count": 13,
      "metadata": {
        "colab": {
          "base_uri": "https://localhost:8080/"
        },
        "id": "2MjlcSTW5zbb",
        "outputId": "8cfad80b-398e-43c1-8faf-538e40812e8a",
        "scrolled": true
      },
      "outputs": [
        {
          "output_type": "stream",
          "name": "stdout",
          "text": [
            "[[0.05167668 0.12001316 0.13359576 ... 0.16891429 0.06585174 0.10746017]\n",
            " [0.10195825 0.08277217 0.11792559 ... 0.15281254 0.10292968 0.15052103]\n",
            " [0.066366   0.07223871 0.13078341 ... 0.06768409 0.12285866 0.12955788]\n",
            " ...\n",
            " [0.05561999 0.10865445 0.16778933 ... 0.09445178 0.05930987 0.15072164]\n",
            " [0.11965018 0.17953506 0.101887   ... 0.07389995 0.05867144 0.15284973]\n",
            " [0.10085566 0.07039701 0.05637723 ... 0.19763641 0.05897344 0.19710067]]\n"
          ]
        }
      ],
      "source": [
        "PROBABILITY1 = model(DATA1).numpy()\n",
        "print(PROBABILITY1)"
      ]
    },
    {
      "cell_type": "markdown",
      "metadata": {
        "id": "KBSg0ptiTThE"
      },
      "source": [
        "**Task.** Each row of this array contains 10 probabilities of the sample representing digits from 0 to 9. Check if these probabilities sum up to one."
      ]
    },
    {
      "cell_type": "markdown",
      "metadata": {
        "id": "h78i0JvVTThE"
      },
      "source": [
        "**Solution.** This code displays the probabilities summed over columns. The sums equal one up to numerical precision:"
      ]
    },
    {
      "cell_type": "code",
      "execution_count": 14,
      "metadata": {
        "colab": {
          "base_uri": "https://localhost:8080/"
        },
        "id": "JCbqTokITThE",
        "outputId": "46aeadf1-47f1-4a25-8223-3a53ccd1b8f7"
      },
      "outputs": [
        {
          "output_type": "stream",
          "name": "stdout",
          "text": [
            "[1.0000001 1.        0.9999999 ... 1.0000001 1.        1.       ]\n"
          ]
        }
      ],
      "source": [
        "SUM1 = PROBABILITY1.sum(1)\n",
        "print(SUM1)"
      ]
    },
    {
      "cell_type": "markdown",
      "metadata": {
        "id": "AfpP1s_SBA2w"
      },
      "source": [
        "**Task.** Run the code again from where the model is constructed and inspect the resulting probabilities. Why are these probabilities different every time the code is run? How does this relate to scaling the inputs to the range from 0 to 1?"
      ]
    },
    {
      "cell_type": "markdown",
      "metadata": {
        "id": "7KOz6BVqF5nn"
      },
      "source": [
        "**Solution.** The probabilities are different because the model weights are randomly initialized each time the model is constructed. This random initialization is designed for inputs of the order of 1 rather than 255. "
      ]
    },
    {
      "cell_type": "markdown",
      "metadata": {
        "id": "bWU-5EN-7X7l"
      },
      "source": [
        "**Task.** Given the probabilities, calculate the digits to which the samples are classified."
      ]
    },
    {
      "cell_type": "markdown",
      "metadata": {
        "id": "yVYysN1LHXRw"
      },
      "source": [
        "**Solution.** For each sample, the code below chooses the digit with the maximum probability:"
      ]
    },
    {
      "cell_type": "code",
      "execution_count": 15,
      "metadata": {
        "colab": {
          "base_uri": "https://localhost:8080/"
        },
        "id": "81ab5D8_8m0D",
        "outputId": "b2066a21-3b82-4cdc-f323-12c3b0c6afa8"
      },
      "outputs": [
        {
          "output_type": "stream",
          "name": "stdout",
          "text": [
            "[7 7 3 ... 2 1 7]\n"
          ]
        }
      ],
      "source": [
        "LABEL1 = PROBABILITY1.argmax(1)\n",
        "print(LABEL1)"
      ]
    },
    {
      "cell_type": "markdown",
      "metadata": {
        "id": "WHyhWslq9aWN"
      },
      "source": [
        "**Task.** Compare the labels from the model with the correct ones and calculate the classification accuracy."
      ]
    },
    {
      "cell_type": "markdown",
      "metadata": {
        "id": "ZnnOKngTHvmx"
      },
      "source": [
        "**Solution.** This code divides the number of correctly classified samples by the total number of samples:"
      ]
    },
    {
      "cell_type": "code",
      "execution_count": 16,
      "metadata": {
        "colab": {
          "base_uri": "https://localhost:8080/"
        },
        "id": "x7wPKlMe9skq",
        "outputId": "e7b99357-fce3-4339-bc0b-5a71455985f8"
      },
      "outputs": [
        {
          "output_type": "stream",
          "name": "stdout",
          "text": [
            "0.1063\n"
          ]
        }
      ],
      "source": [
        "ACCURACY1 = (LABEL1 == TARGET1).mean()\n",
        "print(ACCURACY1)"
      ]
    },
    {
      "cell_type": "markdown",
      "metadata": {
        "id": "ibghl9Qf-mbc"
      },
      "source": [
        "**Task.** Why is this accuracy close to 0.1?"
      ]
    },
    {
      "cell_type": "markdown",
      "metadata": {
        "id": "HilL694aIMzd"
      },
      "source": [
        "**Solution.** The model weights are initialized at random, so the classification is also random. Since there are 10 digits, the probability of randomly choosing the correct one is 1/10."
      ]
    },
    {
      "cell_type": "markdown",
      "metadata": {
        "id": "rAxxsr5S_bGl"
      },
      "source": [
        "Associate the model with an optimizer, a loss function and a metric like accuracy. Here we use the simplest stochastic gradient descent (sgd) as the optimizer and sparse categorical crossentropy is just the Tensorflow name for the cross-entropy loss introduced above:"
      ]
    },
    {
      "cell_type": "code",
      "execution_count": 17,
      "metadata": {
        "id": "NAnJzvmq_zHg"
      },
      "outputs": [],
      "source": [
        "model.compile('sgd',\n",
        "              'sparse_categorical_crossentropy',\n",
        "              'accuracy')"
      ]
    },
    {
      "cell_type": "markdown",
      "metadata": {
        "id": "euHfKTMaDgiy"
      },
      "source": [
        "Once the model is associated with a loss function and a metric, calculate their values on any dataset by calling a built-in method:"
      ]
    },
    {
      "cell_type": "code",
      "execution_count": 18,
      "metadata": {
        "colab": {
          "base_uri": "https://localhost:8080/"
        },
        "id": "WNSXFvd_D8ZZ",
        "outputId": "7ad7b36d-59f4-421a-986d-735d8297ca0c"
      },
      "outputs": [
        {
          "output_type": "stream",
          "name": "stdout",
          "text": [
            "1875/1875 [==============================] - 5s 2ms/step - loss: 2.3409 - accuracy: 0.1022\n",
            "313/313 [==============================] - 1s 2ms/step - loss: 2.3352 - accuracy: 0.1063\n"
          ]
        },
        {
          "output_type": "execute_result",
          "data": {
            "text/plain": [
              "[2.3352372646331787, 0.1062999963760376]"
            ]
          },
          "metadata": {},
          "execution_count": 18
        }
      ],
      "source": [
        "model.evaluate(DATA0, TARGET0)\n",
        "model.evaluate(DATA1, TARGET1)"
      ]
    },
    {
      "cell_type": "markdown",
      "metadata": {
        "id": "zyz5ntS1AJur"
      },
      "source": [
        "The accuracy on the validation dataset is indeed equal to what we calculated manually. Now train the model on the training dataset. Do only a few epochs for now:"
      ]
    },
    {
      "cell_type": "code",
      "execution_count": 19,
      "metadata": {
        "colab": {
          "base_uri": "https://localhost:8080/"
        },
        "id": "jxHA190WAWrl",
        "outputId": "0550faba-b3bf-4726-8038-5912fdde71cb",
        "scrolled": true
      },
      "outputs": [
        {
          "output_type": "stream",
          "name": "stdout",
          "text": [
            "Epoch 1/10\n",
            "1875/1875 [==============================] - 4s 2ms/step - loss: 0.7769 - accuracy: 0.8156\n",
            "Epoch 2/10\n",
            "1875/1875 [==============================] - 4s 2ms/step - loss: 0.4581 - accuracy: 0.8804\n",
            "Epoch 3/10\n",
            "1875/1875 [==============================] - 5s 2ms/step - loss: 0.4048 - accuracy: 0.8912\n",
            "Epoch 4/10\n",
            "1875/1875 [==============================] - 4s 2ms/step - loss: 0.3780 - accuracy: 0.8966\n",
            "Epoch 5/10\n",
            "1875/1875 [==============================] - 4s 2ms/step - loss: 0.3611 - accuracy: 0.9004\n",
            "Epoch 6/10\n",
            "1875/1875 [==============================] - 4s 2ms/step - loss: 0.3490 - accuracy: 0.9037\n",
            "Epoch 7/10\n",
            "1875/1875 [==============================] - 4s 2ms/step - loss: 0.3400 - accuracy: 0.9058\n",
            "Epoch 8/10\n",
            "1875/1875 [==============================] - 4s 2ms/step - loss: 0.3326 - accuracy: 0.9081\n",
            "Epoch 9/10\n",
            "1875/1875 [==============================] - 4s 2ms/step - loss: 0.3267 - accuracy: 0.9095\n",
            "Epoch 10/10\n",
            "1875/1875 [==============================] - 4s 2ms/step - loss: 0.3218 - accuracy: 0.9106\n"
          ]
        },
        {
          "output_type": "execute_result",
          "data": {
            "text/plain": [
              "<keras.callbacks.History at 0x7fe95029bc50>"
            ]
          },
          "metadata": {},
          "execution_count": 19
        }
      ],
      "source": [
        "model.fit(DATA0, TARGET0, epochs = 10)"
      ]
    },
    {
      "cell_type": "markdown",
      "metadata": {
        "id": "ibUM4grfLinC"
      },
      "source": [
        "**Task.** The built-in training loop displays the loss and accuracy on the training dataset after each epoch and prints some other information. What does the progress bar indicate? What does the number of 1 875 stand for?"
      ]
    },
    {
      "cell_type": "markdown",
      "metadata": {
        "id": "4LE4c7uSMFJT"
      },
      "source": [
        "**Solution.** The progress bar indicates subsequent batches. By default, the batch size is 32 and 1 875 is the number of such batches in the 60 000 training dataset. "
      ]
    },
    {
      "cell_type": "markdown",
      "metadata": {
        "id": "29qcJlvDLUBT"
      },
      "source": [
        "The accuracy on the training dataset may not be representative for new samples due to the so-called overfitting. To get a more reliable estimation of the model accuracy, calculate it on the validation dataset. Also change the batch size and do more epochs to perform a full training:"
      ]
    },
    {
      "cell_type": "code",
      "execution_count": 20,
      "metadata": {
        "colab": {
          "base_uri": "https://localhost:8080/"
        },
        "id": "hEqqjdTFIGQ_",
        "outputId": "59da6085-8c20-4775-e31d-819a0dad8df5",
        "scrolled": true
      },
      "outputs": [
        {
          "output_type": "stream",
          "name": "stdout",
          "text": [
            "Epoch 1/100\n",
            "600/600 [==============================] - 2s 3ms/step - loss: 0.3180 - accuracy: 0.9117 - val_loss: 0.3053 - val_accuracy: 0.9159\n",
            "Epoch 2/100\n",
            "600/600 [==============================] - 2s 3ms/step - loss: 0.3167 - accuracy: 0.9118 - val_loss: 0.3040 - val_accuracy: 0.9171\n",
            "Epoch 3/100\n",
            "600/600 [==============================] - 2s 3ms/step - loss: 0.3155 - accuracy: 0.9125 - val_loss: 0.3033 - val_accuracy: 0.9176\n",
            "Epoch 4/100\n",
            "600/600 [==============================] - 2s 3ms/step - loss: 0.3142 - accuracy: 0.9126 - val_loss: 0.3022 - val_accuracy: 0.9174\n",
            "Epoch 5/100\n",
            "600/600 [==============================] - 2s 3ms/step - loss: 0.3132 - accuracy: 0.9128 - val_loss: 0.3012 - val_accuracy: 0.9174\n",
            "Epoch 6/100\n",
            "600/600 [==============================] - 2s 3ms/step - loss: 0.3121 - accuracy: 0.9132 - val_loss: 0.3006 - val_accuracy: 0.9168\n",
            "Epoch 7/100\n",
            "600/600 [==============================] - 2s 3ms/step - loss: 0.3110 - accuracy: 0.9134 - val_loss: 0.2996 - val_accuracy: 0.9180\n",
            "Epoch 8/100\n",
            "600/600 [==============================] - 2s 3ms/step - loss: 0.3100 - accuracy: 0.9140 - val_loss: 0.2987 - val_accuracy: 0.9173\n",
            "Epoch 9/100\n",
            "600/600 [==============================] - 2s 3ms/step - loss: 0.3091 - accuracy: 0.9143 - val_loss: 0.2981 - val_accuracy: 0.9178\n",
            "Epoch 10/100\n",
            "600/600 [==============================] - 2s 3ms/step - loss: 0.3081 - accuracy: 0.9144 - val_loss: 0.2974 - val_accuracy: 0.9183\n",
            "Epoch 11/100\n",
            "600/600 [==============================] - 2s 3ms/step - loss: 0.3072 - accuracy: 0.9147 - val_loss: 0.2967 - val_accuracy: 0.9188\n",
            "Epoch 12/100\n",
            "600/600 [==============================] - 2s 3ms/step - loss: 0.3064 - accuracy: 0.9151 - val_loss: 0.2961 - val_accuracy: 0.9182\n",
            "Epoch 13/100\n",
            "600/600 [==============================] - 2s 3ms/step - loss: 0.3055 - accuracy: 0.9154 - val_loss: 0.2954 - val_accuracy: 0.9188\n",
            "Epoch 14/100\n",
            "600/600 [==============================] - 2s 4ms/step - loss: 0.3047 - accuracy: 0.9154 - val_loss: 0.2950 - val_accuracy: 0.9183\n",
            "Epoch 15/100\n",
            "600/600 [==============================] - 2s 3ms/step - loss: 0.3039 - accuracy: 0.9160 - val_loss: 0.2940 - val_accuracy: 0.9181\n",
            "Epoch 16/100\n",
            "600/600 [==============================] - 2s 3ms/step - loss: 0.3032 - accuracy: 0.9160 - val_loss: 0.2937 - val_accuracy: 0.9182\n",
            "Epoch 17/100\n",
            "600/600 [==============================] - 2s 3ms/step - loss: 0.3024 - accuracy: 0.9161 - val_loss: 0.2931 - val_accuracy: 0.9184\n",
            "Epoch 18/100\n",
            "600/600 [==============================] - 2s 3ms/step - loss: 0.3017 - accuracy: 0.9163 - val_loss: 0.2929 - val_accuracy: 0.9185\n",
            "Epoch 19/100\n",
            "600/600 [==============================] - 2s 3ms/step - loss: 0.3010 - accuracy: 0.9166 - val_loss: 0.2920 - val_accuracy: 0.9185\n",
            "Epoch 20/100\n",
            "600/600 [==============================] - 2s 3ms/step - loss: 0.3003 - accuracy: 0.9166 - val_loss: 0.2914 - val_accuracy: 0.9198\n",
            "Epoch 21/100\n",
            "600/600 [==============================] - 2s 3ms/step - loss: 0.2997 - accuracy: 0.9166 - val_loss: 0.2910 - val_accuracy: 0.9192\n",
            "Epoch 22/100\n",
            "600/600 [==============================] - 2s 3ms/step - loss: 0.2991 - accuracy: 0.9171 - val_loss: 0.2906 - val_accuracy: 0.9198\n",
            "Epoch 23/100\n",
            "600/600 [==============================] - 2s 3ms/step - loss: 0.2984 - accuracy: 0.9172 - val_loss: 0.2900 - val_accuracy: 0.9201\n",
            "Epoch 24/100\n",
            "600/600 [==============================] - 2s 3ms/step - loss: 0.2978 - accuracy: 0.9176 - val_loss: 0.2898 - val_accuracy: 0.9197\n",
            "Epoch 25/100\n",
            "600/600 [==============================] - 2s 3ms/step - loss: 0.2972 - accuracy: 0.9176 - val_loss: 0.2895 - val_accuracy: 0.9187\n",
            "Epoch 26/100\n",
            "600/600 [==============================] - 2s 3ms/step - loss: 0.2967 - accuracy: 0.9178 - val_loss: 0.2889 - val_accuracy: 0.9194\n",
            "Epoch 27/100\n",
            "600/600 [==============================] - 2s 3ms/step - loss: 0.2961 - accuracy: 0.9180 - val_loss: 0.2886 - val_accuracy: 0.9191\n",
            "Epoch 28/100\n",
            "600/600 [==============================] - 2s 3ms/step - loss: 0.2956 - accuracy: 0.9182 - val_loss: 0.2883 - val_accuracy: 0.9192\n",
            "Epoch 29/100\n",
            "600/600 [==============================] - 2s 3ms/step - loss: 0.2950 - accuracy: 0.9183 - val_loss: 0.2877 - val_accuracy: 0.9192\n",
            "Epoch 30/100\n",
            "600/600 [==============================] - 2s 3ms/step - loss: 0.2945 - accuracy: 0.9186 - val_loss: 0.2874 - val_accuracy: 0.9202\n",
            "Epoch 31/100\n",
            "600/600 [==============================] - 2s 3ms/step - loss: 0.2940 - accuracy: 0.9186 - val_loss: 0.2869 - val_accuracy: 0.9196\n",
            "Epoch 32/100\n",
            "600/600 [==============================] - 2s 3ms/step - loss: 0.2934 - accuracy: 0.9186 - val_loss: 0.2865 - val_accuracy: 0.9197\n",
            "Epoch 33/100\n",
            "600/600 [==============================] - 2s 3ms/step - loss: 0.2930 - accuracy: 0.9187 - val_loss: 0.2863 - val_accuracy: 0.9202\n",
            "Epoch 34/100\n",
            "600/600 [==============================] - 2s 3ms/step - loss: 0.2925 - accuracy: 0.9191 - val_loss: 0.2860 - val_accuracy: 0.9202\n",
            "Epoch 35/100\n",
            "600/600 [==============================] - 2s 3ms/step - loss: 0.2921 - accuracy: 0.9190 - val_loss: 0.2856 - val_accuracy: 0.9205\n",
            "Epoch 36/100\n",
            "600/600 [==============================] - 2s 3ms/step - loss: 0.2916 - accuracy: 0.9191 - val_loss: 0.2851 - val_accuracy: 0.9207\n",
            "Epoch 37/100\n",
            "600/600 [==============================] - 2s 3ms/step - loss: 0.2912 - accuracy: 0.9191 - val_loss: 0.2850 - val_accuracy: 0.9203\n",
            "Epoch 38/100\n",
            "600/600 [==============================] - 2s 3ms/step - loss: 0.2907 - accuracy: 0.9194 - val_loss: 0.2847 - val_accuracy: 0.9208\n",
            "Epoch 39/100\n",
            "600/600 [==============================] - 2s 3ms/step - loss: 0.2903 - accuracy: 0.9196 - val_loss: 0.2848 - val_accuracy: 0.9206\n",
            "Epoch 40/100\n",
            "600/600 [==============================] - 2s 3ms/step - loss: 0.2899 - accuracy: 0.9196 - val_loss: 0.2842 - val_accuracy: 0.9206\n",
            "Epoch 41/100\n",
            "600/600 [==============================] - 2s 3ms/step - loss: 0.2895 - accuracy: 0.9197 - val_loss: 0.2840 - val_accuracy: 0.9207\n",
            "Epoch 42/100\n",
            "600/600 [==============================] - 2s 3ms/step - loss: 0.2891 - accuracy: 0.9197 - val_loss: 0.2838 - val_accuracy: 0.9206\n",
            "Epoch 43/100\n",
            "600/600 [==============================] - 2s 3ms/step - loss: 0.2887 - accuracy: 0.9198 - val_loss: 0.2837 - val_accuracy: 0.9208\n",
            "Epoch 44/100\n",
            "600/600 [==============================] - 2s 3ms/step - loss: 0.2883 - accuracy: 0.9200 - val_loss: 0.2833 - val_accuracy: 0.9204\n",
            "Epoch 45/100\n",
            "600/600 [==============================] - 2s 3ms/step - loss: 0.2880 - accuracy: 0.9198 - val_loss: 0.2828 - val_accuracy: 0.9210\n",
            "Epoch 46/100\n",
            "600/600 [==============================] - 2s 3ms/step - loss: 0.2876 - accuracy: 0.9200 - val_loss: 0.2828 - val_accuracy: 0.9206\n",
            "Epoch 47/100\n",
            "600/600 [==============================] - 2s 3ms/step - loss: 0.2872 - accuracy: 0.9201 - val_loss: 0.2827 - val_accuracy: 0.9211\n",
            "Epoch 48/100\n",
            "600/600 [==============================] - 2s 3ms/step - loss: 0.2869 - accuracy: 0.9205 - val_loss: 0.2825 - val_accuracy: 0.9215\n",
            "Epoch 49/100\n",
            "600/600 [==============================] - 2s 4ms/step - loss: 0.2865 - accuracy: 0.9206 - val_loss: 0.2821 - val_accuracy: 0.9210\n",
            "Epoch 50/100\n",
            "600/600 [==============================] - 2s 3ms/step - loss: 0.2862 - accuracy: 0.9204 - val_loss: 0.2818 - val_accuracy: 0.9214\n",
            "Epoch 51/100\n",
            "600/600 [==============================] - 2s 3ms/step - loss: 0.2858 - accuracy: 0.9205 - val_loss: 0.2814 - val_accuracy: 0.9214\n",
            "Epoch 52/100\n",
            "600/600 [==============================] - 2s 3ms/step - loss: 0.2855 - accuracy: 0.9208 - val_loss: 0.2813 - val_accuracy: 0.9213\n",
            "Epoch 53/100\n",
            "600/600 [==============================] - 2s 3ms/step - loss: 0.2852 - accuracy: 0.9209 - val_loss: 0.2812 - val_accuracy: 0.9209\n",
            "Epoch 54/100\n",
            "600/600 [==============================] - 2s 3ms/step - loss: 0.2848 - accuracy: 0.9209 - val_loss: 0.2809 - val_accuracy: 0.9217\n",
            "Epoch 55/100\n",
            "600/600 [==============================] - 2s 3ms/step - loss: 0.2845 - accuracy: 0.9210 - val_loss: 0.2809 - val_accuracy: 0.9209\n",
            "Epoch 56/100\n",
            "600/600 [==============================] - 2s 3ms/step - loss: 0.2842 - accuracy: 0.9209 - val_loss: 0.2805 - val_accuracy: 0.9213\n",
            "Epoch 57/100\n",
            "600/600 [==============================] - 2s 3ms/step - loss: 0.2839 - accuracy: 0.9212 - val_loss: 0.2803 - val_accuracy: 0.9213\n",
            "Epoch 58/100\n",
            "600/600 [==============================] - 2s 3ms/step - loss: 0.2836 - accuracy: 0.9211 - val_loss: 0.2805 - val_accuracy: 0.9211\n",
            "Epoch 59/100\n",
            "600/600 [==============================] - 2s 3ms/step - loss: 0.2833 - accuracy: 0.9212 - val_loss: 0.2799 - val_accuracy: 0.9218\n",
            "Epoch 60/100\n",
            "600/600 [==============================] - 2s 3ms/step - loss: 0.2830 - accuracy: 0.9214 - val_loss: 0.2799 - val_accuracy: 0.9213\n",
            "Epoch 61/100\n",
            "600/600 [==============================] - 2s 3ms/step - loss: 0.2827 - accuracy: 0.9214 - val_loss: 0.2800 - val_accuracy: 0.9215\n",
            "Epoch 62/100\n",
            "600/600 [==============================] - 2s 3ms/step - loss: 0.2824 - accuracy: 0.9216 - val_loss: 0.2797 - val_accuracy: 0.9215\n",
            "Epoch 63/100\n",
            "600/600 [==============================] - 2s 3ms/step - loss: 0.2822 - accuracy: 0.9218 - val_loss: 0.2791 - val_accuracy: 0.9220\n",
            "Epoch 64/100\n",
            "600/600 [==============================] - 2s 3ms/step - loss: 0.2819 - accuracy: 0.9219 - val_loss: 0.2789 - val_accuracy: 0.9216\n",
            "Epoch 65/100\n",
            "600/600 [==============================] - 2s 3ms/step - loss: 0.2816 - accuracy: 0.9219 - val_loss: 0.2789 - val_accuracy: 0.9218\n",
            "Epoch 66/100\n",
            "600/600 [==============================] - 2s 3ms/step - loss: 0.2814 - accuracy: 0.9219 - val_loss: 0.2785 - val_accuracy: 0.9216\n",
            "Epoch 67/100\n",
            "600/600 [==============================] - 2s 3ms/step - loss: 0.2811 - accuracy: 0.9219 - val_loss: 0.2786 - val_accuracy: 0.9210\n",
            "Epoch 68/100\n",
            "600/600 [==============================] - 2s 3ms/step - loss: 0.2808 - accuracy: 0.9220 - val_loss: 0.2784 - val_accuracy: 0.9214\n",
            "Epoch 69/100\n",
            "600/600 [==============================] - 2s 3ms/step - loss: 0.2805 - accuracy: 0.9220 - val_loss: 0.2782 - val_accuracy: 0.9213\n",
            "Epoch 70/100\n",
            "600/600 [==============================] - 2s 3ms/step - loss: 0.2803 - accuracy: 0.9221 - val_loss: 0.2781 - val_accuracy: 0.9217\n",
            "Epoch 71/100\n",
            "600/600 [==============================] - 2s 3ms/step - loss: 0.2801 - accuracy: 0.9221 - val_loss: 0.2779 - val_accuracy: 0.9219\n",
            "Epoch 72/100\n",
            "600/600 [==============================] - 2s 3ms/step - loss: 0.2798 - accuracy: 0.9223 - val_loss: 0.2778 - val_accuracy: 0.9216\n",
            "Epoch 73/100\n",
            "600/600 [==============================] - 2s 3ms/step - loss: 0.2796 - accuracy: 0.9225 - val_loss: 0.2779 - val_accuracy: 0.9215\n",
            "Epoch 74/100\n",
            "600/600 [==============================] - 2s 3ms/step - loss: 0.2793 - accuracy: 0.9225 - val_loss: 0.2774 - val_accuracy: 0.9219\n",
            "Epoch 75/100\n",
            "600/600 [==============================] - 2s 3ms/step - loss: 0.2791 - accuracy: 0.9224 - val_loss: 0.2777 - val_accuracy: 0.9218\n",
            "Epoch 76/100\n",
            "600/600 [==============================] - 2s 3ms/step - loss: 0.2789 - accuracy: 0.9225 - val_loss: 0.2774 - val_accuracy: 0.9219\n",
            "Epoch 77/100\n",
            "600/600 [==============================] - 2s 3ms/step - loss: 0.2787 - accuracy: 0.9226 - val_loss: 0.2771 - val_accuracy: 0.9220\n",
            "Epoch 78/100\n",
            "600/600 [==============================] - 2s 3ms/step - loss: 0.2784 - accuracy: 0.9226 - val_loss: 0.2771 - val_accuracy: 0.9216\n",
            "Epoch 79/100\n",
            "600/600 [==============================] - 2s 3ms/step - loss: 0.2782 - accuracy: 0.9228 - val_loss: 0.2767 - val_accuracy: 0.9214\n",
            "Epoch 80/100\n",
            "600/600 [==============================] - 2s 3ms/step - loss: 0.2779 - accuracy: 0.9230 - val_loss: 0.2769 - val_accuracy: 0.9213\n",
            "Epoch 81/100\n",
            "600/600 [==============================] - 2s 3ms/step - loss: 0.2778 - accuracy: 0.9232 - val_loss: 0.2767 - val_accuracy: 0.9220\n",
            "Epoch 82/100\n",
            "600/600 [==============================] - 2s 3ms/step - loss: 0.2776 - accuracy: 0.9229 - val_loss: 0.2765 - val_accuracy: 0.9219\n",
            "Epoch 83/100\n",
            "600/600 [==============================] - 2s 3ms/step - loss: 0.2773 - accuracy: 0.9230 - val_loss: 0.2763 - val_accuracy: 0.9215\n",
            "Epoch 84/100\n",
            "600/600 [==============================] - 2s 4ms/step - loss: 0.2771 - accuracy: 0.9232 - val_loss: 0.2766 - val_accuracy: 0.9217\n",
            "Epoch 85/100\n",
            "600/600 [==============================] - 2s 4ms/step - loss: 0.2769 - accuracy: 0.9234 - val_loss: 0.2764 - val_accuracy: 0.9219\n",
            "Epoch 86/100\n",
            "600/600 [==============================] - 2s 3ms/step - loss: 0.2767 - accuracy: 0.9230 - val_loss: 0.2760 - val_accuracy: 0.9221\n",
            "Epoch 87/100\n",
            "600/600 [==============================] - 2s 3ms/step - loss: 0.2765 - accuracy: 0.9233 - val_loss: 0.2759 - val_accuracy: 0.9217\n",
            "Epoch 88/100\n",
            "600/600 [==============================] - 2s 3ms/step - loss: 0.2763 - accuracy: 0.9232 - val_loss: 0.2759 - val_accuracy: 0.9218\n",
            "Epoch 89/100\n",
            "600/600 [==============================] - 2s 3ms/step - loss: 0.2761 - accuracy: 0.9235 - val_loss: 0.2757 - val_accuracy: 0.9213\n",
            "Epoch 90/100\n",
            "600/600 [==============================] - 2s 3ms/step - loss: 0.2759 - accuracy: 0.9235 - val_loss: 0.2759 - val_accuracy: 0.9216\n",
            "Epoch 91/100\n",
            "600/600 [==============================] - 2s 3ms/step - loss: 0.2757 - accuracy: 0.9236 - val_loss: 0.2755 - val_accuracy: 0.9216\n",
            "Epoch 92/100\n",
            "600/600 [==============================] - 2s 3ms/step - loss: 0.2755 - accuracy: 0.9237 - val_loss: 0.2752 - val_accuracy: 0.9221\n",
            "Epoch 93/100\n",
            "600/600 [==============================] - 2s 3ms/step - loss: 0.2753 - accuracy: 0.9237 - val_loss: 0.2752 - val_accuracy: 0.9219\n",
            "Epoch 94/100\n",
            "600/600 [==============================] - 2s 3ms/step - loss: 0.2751 - accuracy: 0.9237 - val_loss: 0.2755 - val_accuracy: 0.9215\n",
            "Epoch 95/100\n",
            "600/600 [==============================] - 2s 3ms/step - loss: 0.2750 - accuracy: 0.9237 - val_loss: 0.2749 - val_accuracy: 0.9218\n",
            "Epoch 96/100\n",
            "600/600 [==============================] - 2s 3ms/step - loss: 0.2748 - accuracy: 0.9240 - val_loss: 0.2750 - val_accuracy: 0.9215\n",
            "Epoch 97/100\n",
            "600/600 [==============================] - 2s 3ms/step - loss: 0.2746 - accuracy: 0.9239 - val_loss: 0.2749 - val_accuracy: 0.9221\n",
            "Epoch 98/100\n",
            "600/600 [==============================] - 2s 3ms/step - loss: 0.2745 - accuracy: 0.9239 - val_loss: 0.2751 - val_accuracy: 0.9223\n",
            "Epoch 99/100\n",
            "600/600 [==============================] - 2s 3ms/step - loss: 0.2743 - accuracy: 0.9241 - val_loss: 0.2749 - val_accuracy: 0.9223\n",
            "Epoch 100/100\n",
            "600/600 [==============================] - 2s 3ms/step - loss: 0.2741 - accuracy: 0.9243 - val_loss: 0.2745 - val_accuracy: 0.9216\n"
          ]
        },
        {
          "output_type": "execute_result",
          "data": {
            "text/plain": [
              "<keras.callbacks.History at 0x7fe9503f6710>"
            ]
          },
          "metadata": {},
          "execution_count": 20
        }
      ],
      "source": [
        "model.fit(DATA0, TARGET0, batch_size = 100, epochs = 100, validation_data = (DATA1, TARGET1))"
      ]
    },
    {
      "cell_type": "markdown",
      "metadata": {
        "id": "hLmQlid5C9Lc"
      },
      "source": [
        "**Task.** With the batch of 100, a single epoch executes roughly twice faster than with the default batch of 32. Why? What may be the other consequences of changing the batch size from 32 to 100?"
      ]
    },
    {
      "cell_type": "markdown",
      "metadata": {
        "id": "45jsr6N9D3vf"
      },
      "source": [
        "**Solution.** Even though the batch of 100 is 3 times larger than the default batch of 32, Tensorflow is optimized so that processing the larger batch takes only 1.5 more time than processing the smaller one (3ms vs 2ms). But there are 3 times less large batches per epoch than there are small ones, which translates to 3 times less minimization steps. This gives 3 / 1.5 = 2 times less time per epoch with the larger batch (2s vs 4s). Less minimization steps per epoch imply that more epochs may be needed to achieve the same result. On the other hand, larger batch gives a better estimation of the real gradient so the minimization is less noisy."
      ]
    },
    {
      "cell_type": "markdown",
      "metadata": {
        "id": "aHsObtF1P9V7"
      },
      "source": [
        "Although this is not absolutely necessary, evaluate the model on the training and validation dataset:"
      ]
    },
    {
      "cell_type": "code",
      "execution_count": 21,
      "metadata": {
        "colab": {
          "base_uri": "https://localhost:8080/"
        },
        "id": "I51pvoXxQCtJ",
        "outputId": "860525cf-7e80-4783-8725-d414c2ebc2b1"
      },
      "outputs": [
        {
          "output_type": "stream",
          "name": "stdout",
          "text": [
            "1875/1875 [==============================] - 4s 2ms/step - loss: 0.2736 - accuracy: 0.9240\n",
            "313/313 [==============================] - 1s 2ms/step - loss: 0.2745 - accuracy: 0.9216\n"
          ]
        },
        {
          "output_type": "execute_result",
          "data": {
            "text/plain": [
              "[0.27453625202178955, 0.9215999841690063]"
            ]
          },
          "metadata": {},
          "execution_count": 21
        }
      ],
      "source": [
        "model.evaluate(DATA0, TARGET0)\n",
        "model.evaluate(DATA1, TARGET1)"
      ]
    },
    {
      "cell_type": "markdown",
      "metadata": {
        "id": "jUhoGce-NWdP"
      },
      "source": [
        "**Task.** The validation accuracy displayed after the last training epoch is equal to the validation accuracy evaluated after completing the training. This is not the case for the accuracy on the training dataset. Why?"
      ]
    },
    {
      "cell_type": "markdown",
      "metadata": {
        "id": "vgZHfu5COIUF"
      },
      "source": [
        "**Solution.** Accuracy is calculated as a mean over all batches in the concerned dataset. The validation accuracy displayed during training is calculated after completing each epoch. But the training accuracy displayed during training is not calculated in such a way, because this would require iterating over the entire training dataset after completing each epoch and could be time-consuming. Instead, the training accuracy displayed during training is calculated during the epoch. But during the epoch, a minimization step is performed after each batch, so subsequent batches correspond to different model weights. Consequently, the displayed training accuracy does not correspond to any fixed set of model weights and is only an approximation to the real accuracy on the training dataset."
      ]
    },
    {
      "cell_type": "markdown",
      "metadata": {
        "id": "Ls-nwb99M4-A"
      },
      "source": [
        "In the following, by the validation accuracy of a model, we will always mean the maximum value listed during training, even if it is not in the last epoch. This is because Tensorflow can stop training after any epoch and thus produce a model with validation accuracy corresponding to that epoch. Now display a summary of the model architecture:"
      ]
    },
    {
      "cell_type": "code",
      "execution_count": 22,
      "metadata": {
        "colab": {
          "base_uri": "https://localhost:8080/"
        },
        "id": "X5pbSr7HNkzv",
        "outputId": "9c180f96-6912-4c75-c977-0e728fec89e6"
      },
      "outputs": [
        {
          "output_type": "stream",
          "name": "stdout",
          "text": [
            "Model: \"sequential_2\"\n",
            "_________________________________________________________________\n",
            " Layer (type)                Output Shape              Param #   \n",
            "=================================================================\n",
            " dense_2 (Dense)             (None, 10)                7850      \n",
            "                                                                 \n",
            "=================================================================\n",
            "Total params: 7,850\n",
            "Trainable params: 7,850\n",
            "Non-trainable params: 0\n",
            "_________________________________________________________________\n"
          ]
        }
      ],
      "source": [
        "model.summary()"
      ]
    },
    {
      "cell_type": "markdown",
      "metadata": {
        "id": "t-1lOAUvwWAo"
      },
      "source": [
        "**Task.** Why does the number of weights equal 7 850?"
      ]
    },
    {
      "cell_type": "markdown",
      "metadata": {
        "id": "h5uVmzd1wgrL"
      },
      "source": [
        "**Solution.** To produce its output, a dense layer multiplies the input by a matrix whose one dimension is the number of inputs and the other is the number of outputs. That matrix has 784 * 10 = 7 840 elements in this case. Then, the layer adds a bias to each output, so there are 10 biases. Together, there are 7 840 + 10 = 7 850 weights."
      ]
    },
    {
      "cell_type": "markdown",
      "metadata": {
        "id": "WN12-s84N0uI"
      },
      "source": [
        "**Task.** In this example, the training and validation accuracies are very close to each other, which means that there is almost no overfitting. Why?"
      ]
    },
    {
      "cell_type": "markdown",
      "metadata": {
        "id": "M7SAFRHlSSyW"
      },
      "source": [
        "**Solution.** Because there are much more samples in the training dataset than there are model weights. So, the problem is overdetermined and there are not enough degrees of freedom to adjust the model too much to the training dataset."
      ]
    },
    {
      "cell_type": "markdown",
      "metadata": {
        "id": "IZRU5wG-OU3a"
      },
      "source": [
        "In order to increase the overall accuracy, add a second layer. The number of neurons in that layer may be, for instance, the geometric mean of the number of inputs and outputs, that is, sqrt(10 * 784) = 89, or the next power of two, that is, 128. Use the classical sigmoid activation for this layer:"
      ]
    },
    {
      "cell_type": "code",
      "execution_count": 23,
      "metadata": {
        "colab": {
          "base_uri": "https://localhost:8080/"
        },
        "id": "bFzq6fwtQaIi",
        "outputId": "0a38d922-cc1c-43df-9562-4b01d72ff959"
      },
      "outputs": [
        {
          "output_type": "stream",
          "name": "stdout",
          "text": [
            "Epoch 1/100\n",
            "600/600 [==============================] - 2s 3ms/step - loss: 1.9568 - accuracy: 0.5534 - val_loss: 1.6128 - val_accuracy: 0.7295\n",
            "Epoch 2/100\n",
            "600/600 [==============================] - 2s 3ms/step - loss: 1.3736 - accuracy: 0.7589 - val_loss: 1.1402 - val_accuracy: 0.8049\n",
            "Epoch 3/100\n",
            "600/600 [==============================] - 2s 3ms/step - loss: 1.0162 - accuracy: 0.8080 - val_loss: 0.8771 - val_accuracy: 0.8290\n",
            "Epoch 4/100\n",
            "600/600 [==============================] - 2s 3ms/step - loss: 0.8179 - accuracy: 0.8311 - val_loss: 0.7284 - val_accuracy: 0.8478\n",
            "Epoch 5/100\n",
            "600/600 [==============================] - 2s 3ms/step - loss: 0.7006 - accuracy: 0.8453 - val_loss: 0.6357 - val_accuracy: 0.8610\n",
            "Epoch 6/100\n",
            "600/600 [==============================] - 2s 3ms/step - loss: 0.6240 - accuracy: 0.8555 - val_loss: 0.5730 - val_accuracy: 0.8696\n",
            "Epoch 7/100\n",
            "600/600 [==============================] - 2s 3ms/step - loss: 0.5702 - accuracy: 0.8637 - val_loss: 0.5277 - val_accuracy: 0.8756\n",
            "Epoch 8/100\n",
            "600/600 [==============================] - 2s 3ms/step - loss: 0.5302 - accuracy: 0.8698 - val_loss: 0.4930 - val_accuracy: 0.8815\n",
            "Epoch 9/100\n",
            "600/600 [==============================] - 2s 3ms/step - loss: 0.4992 - accuracy: 0.8748 - val_loss: 0.4663 - val_accuracy: 0.8864\n",
            "Epoch 10/100\n",
            "600/600 [==============================] - 2s 3ms/step - loss: 0.4747 - accuracy: 0.8789 - val_loss: 0.4445 - val_accuracy: 0.8893\n",
            "Epoch 11/100\n",
            "600/600 [==============================] - 2s 3ms/step - loss: 0.4547 - accuracy: 0.8825 - val_loss: 0.4268 - val_accuracy: 0.8920\n",
            "Epoch 12/100\n",
            "600/600 [==============================] - 2s 3ms/step - loss: 0.4380 - accuracy: 0.8853 - val_loss: 0.4118 - val_accuracy: 0.8946\n",
            "Epoch 13/100\n",
            "600/600 [==============================] - 2s 3ms/step - loss: 0.4239 - accuracy: 0.8877 - val_loss: 0.3992 - val_accuracy: 0.8961\n",
            "Epoch 14/100\n",
            "600/600 [==============================] - 2s 3ms/step - loss: 0.4118 - accuracy: 0.8900 - val_loss: 0.3888 - val_accuracy: 0.8983\n",
            "Epoch 15/100\n",
            "600/600 [==============================] - 2s 3ms/step - loss: 0.4013 - accuracy: 0.8922 - val_loss: 0.3794 - val_accuracy: 0.8989\n",
            "Epoch 16/100\n",
            "600/600 [==============================] - 2s 3ms/step - loss: 0.3921 - accuracy: 0.8938 - val_loss: 0.3707 - val_accuracy: 0.9006\n",
            "Epoch 17/100\n",
            "600/600 [==============================] - 2s 3ms/step - loss: 0.3840 - accuracy: 0.8951 - val_loss: 0.3635 - val_accuracy: 0.9017\n",
            "Epoch 18/100\n",
            "600/600 [==============================] - 2s 3ms/step - loss: 0.3767 - accuracy: 0.8968 - val_loss: 0.3569 - val_accuracy: 0.9027\n",
            "Epoch 19/100\n",
            "600/600 [==============================] - 2s 3ms/step - loss: 0.3702 - accuracy: 0.8981 - val_loss: 0.3510 - val_accuracy: 0.9045\n",
            "Epoch 20/100\n",
            "600/600 [==============================] - 2s 4ms/step - loss: 0.3642 - accuracy: 0.8992 - val_loss: 0.3455 - val_accuracy: 0.9055\n",
            "Epoch 21/100\n",
            "600/600 [==============================] - 2s 3ms/step - loss: 0.3588 - accuracy: 0.9007 - val_loss: 0.3408 - val_accuracy: 0.9067\n",
            "Epoch 22/100\n",
            "600/600 [==============================] - 2s 3ms/step - loss: 0.3538 - accuracy: 0.9016 - val_loss: 0.3362 - val_accuracy: 0.9072\n",
            "Epoch 23/100\n",
            "600/600 [==============================] - 2s 3ms/step - loss: 0.3492 - accuracy: 0.9024 - val_loss: 0.3323 - val_accuracy: 0.9086\n",
            "Epoch 24/100\n",
            "600/600 [==============================] - 2s 3ms/step - loss: 0.3449 - accuracy: 0.9033 - val_loss: 0.3282 - val_accuracy: 0.9098\n",
            "Epoch 25/100\n",
            "600/600 [==============================] - 2s 3ms/step - loss: 0.3409 - accuracy: 0.9040 - val_loss: 0.3245 - val_accuracy: 0.9103\n",
            "Epoch 26/100\n",
            "600/600 [==============================] - 2s 3ms/step - loss: 0.3372 - accuracy: 0.9047 - val_loss: 0.3213 - val_accuracy: 0.9103\n",
            "Epoch 27/100\n",
            "600/600 [==============================] - 2s 3ms/step - loss: 0.3337 - accuracy: 0.9056 - val_loss: 0.3182 - val_accuracy: 0.9111\n",
            "Epoch 28/100\n",
            "600/600 [==============================] - 2s 3ms/step - loss: 0.3304 - accuracy: 0.9063 - val_loss: 0.3158 - val_accuracy: 0.9119\n",
            "Epoch 29/100\n",
            "600/600 [==============================] - 2s 3ms/step - loss: 0.3274 - accuracy: 0.9072 - val_loss: 0.3127 - val_accuracy: 0.9123\n",
            "Epoch 30/100\n",
            "600/600 [==============================] - 2s 3ms/step - loss: 0.3244 - accuracy: 0.9079 - val_loss: 0.3100 - val_accuracy: 0.9130\n",
            "Epoch 31/100\n",
            "600/600 [==============================] - 2s 3ms/step - loss: 0.3216 - accuracy: 0.9085 - val_loss: 0.3078 - val_accuracy: 0.9137\n",
            "Epoch 32/100\n",
            "600/600 [==============================] - 2s 3ms/step - loss: 0.3190 - accuracy: 0.9088 - val_loss: 0.3051 - val_accuracy: 0.9152\n",
            "Epoch 33/100\n",
            "600/600 [==============================] - 2s 3ms/step - loss: 0.3164 - accuracy: 0.9100 - val_loss: 0.3032 - val_accuracy: 0.9157\n",
            "Epoch 34/100\n",
            "600/600 [==============================] - 2s 3ms/step - loss: 0.3140 - accuracy: 0.9107 - val_loss: 0.3011 - val_accuracy: 0.9160\n",
            "Epoch 35/100\n",
            "600/600 [==============================] - 2s 3ms/step - loss: 0.3117 - accuracy: 0.9109 - val_loss: 0.2986 - val_accuracy: 0.9175\n",
            "Epoch 36/100\n",
            "600/600 [==============================] - 2s 3ms/step - loss: 0.3094 - accuracy: 0.9118 - val_loss: 0.2969 - val_accuracy: 0.9177\n",
            "Epoch 37/100\n",
            "600/600 [==============================] - 2s 3ms/step - loss: 0.3073 - accuracy: 0.9123 - val_loss: 0.2951 - val_accuracy: 0.9189\n",
            "Epoch 38/100\n",
            "600/600 [==============================] - 2s 3ms/step - loss: 0.3053 - accuracy: 0.9128 - val_loss: 0.2933 - val_accuracy: 0.9192\n",
            "Epoch 39/100\n",
            "600/600 [==============================] - 2s 3ms/step - loss: 0.3032 - accuracy: 0.9136 - val_loss: 0.2915 - val_accuracy: 0.9189\n",
            "Epoch 40/100\n",
            "600/600 [==============================] - 2s 3ms/step - loss: 0.3012 - accuracy: 0.9139 - val_loss: 0.2899 - val_accuracy: 0.9198\n",
            "Epoch 41/100\n",
            "600/600 [==============================] - 2s 3ms/step - loss: 0.2994 - accuracy: 0.9145 - val_loss: 0.2885 - val_accuracy: 0.9201\n",
            "Epoch 42/100\n",
            "600/600 [==============================] - 2s 3ms/step - loss: 0.2976 - accuracy: 0.9150 - val_loss: 0.2865 - val_accuracy: 0.9209\n",
            "Epoch 43/100\n",
            "600/600 [==============================] - 2s 3ms/step - loss: 0.2957 - accuracy: 0.9153 - val_loss: 0.2855 - val_accuracy: 0.9210\n",
            "Epoch 44/100\n",
            "600/600 [==============================] - 2s 3ms/step - loss: 0.2940 - accuracy: 0.9158 - val_loss: 0.2837 - val_accuracy: 0.9212\n",
            "Epoch 45/100\n",
            "600/600 [==============================] - 2s 3ms/step - loss: 0.2923 - accuracy: 0.9161 - val_loss: 0.2821 - val_accuracy: 0.9219\n",
            "Epoch 46/100\n",
            "600/600 [==============================] - 2s 3ms/step - loss: 0.2906 - accuracy: 0.9166 - val_loss: 0.2807 - val_accuracy: 0.9217\n",
            "Epoch 47/100\n",
            "600/600 [==============================] - 2s 3ms/step - loss: 0.2891 - accuracy: 0.9170 - val_loss: 0.2794 - val_accuracy: 0.9226\n",
            "Epoch 48/100\n",
            "600/600 [==============================] - 2s 3ms/step - loss: 0.2874 - accuracy: 0.9176 - val_loss: 0.2778 - val_accuracy: 0.9230\n",
            "Epoch 49/100\n",
            "600/600 [==============================] - 2s 3ms/step - loss: 0.2859 - accuracy: 0.9178 - val_loss: 0.2765 - val_accuracy: 0.9231\n",
            "Epoch 50/100\n",
            "600/600 [==============================] - 2s 3ms/step - loss: 0.2844 - accuracy: 0.9182 - val_loss: 0.2754 - val_accuracy: 0.9233\n",
            "Epoch 51/100\n",
            "600/600 [==============================] - 2s 4ms/step - loss: 0.2829 - accuracy: 0.9186 - val_loss: 0.2740 - val_accuracy: 0.9240\n",
            "Epoch 52/100\n",
            "600/600 [==============================] - 2s 3ms/step - loss: 0.2814 - accuracy: 0.9188 - val_loss: 0.2730 - val_accuracy: 0.9238\n",
            "Epoch 53/100\n",
            "600/600 [==============================] - 2s 3ms/step - loss: 0.2800 - accuracy: 0.9194 - val_loss: 0.2718 - val_accuracy: 0.9247\n",
            "Epoch 54/100\n",
            "600/600 [==============================] - 2s 3ms/step - loss: 0.2786 - accuracy: 0.9198 - val_loss: 0.2703 - val_accuracy: 0.9252\n",
            "Epoch 55/100\n",
            "600/600 [==============================] - 2s 3ms/step - loss: 0.2771 - accuracy: 0.9204 - val_loss: 0.2691 - val_accuracy: 0.9254\n",
            "Epoch 56/100\n",
            "600/600 [==============================] - 2s 3ms/step - loss: 0.2758 - accuracy: 0.9205 - val_loss: 0.2679 - val_accuracy: 0.9254\n",
            "Epoch 57/100\n",
            "600/600 [==============================] - 2s 3ms/step - loss: 0.2744 - accuracy: 0.9212 - val_loss: 0.2667 - val_accuracy: 0.9256\n",
            "Epoch 58/100\n",
            "600/600 [==============================] - 2s 3ms/step - loss: 0.2731 - accuracy: 0.9214 - val_loss: 0.2657 - val_accuracy: 0.9254\n",
            "Epoch 59/100\n",
            "600/600 [==============================] - 2s 3ms/step - loss: 0.2717 - accuracy: 0.9221 - val_loss: 0.2644 - val_accuracy: 0.9266\n",
            "Epoch 60/100\n",
            "600/600 [==============================] - 2s 3ms/step - loss: 0.2705 - accuracy: 0.9223 - val_loss: 0.2634 - val_accuracy: 0.9262\n",
            "Epoch 61/100\n",
            "600/600 [==============================] - 2s 3ms/step - loss: 0.2692 - accuracy: 0.9226 - val_loss: 0.2623 - val_accuracy: 0.9261\n",
            "Epoch 62/100\n",
            "600/600 [==============================] - 2s 3ms/step - loss: 0.2679 - accuracy: 0.9226 - val_loss: 0.2610 - val_accuracy: 0.9265\n",
            "Epoch 63/100\n",
            "600/600 [==============================] - 2s 3ms/step - loss: 0.2666 - accuracy: 0.9233 - val_loss: 0.2600 - val_accuracy: 0.9271\n",
            "Epoch 64/100\n",
            "600/600 [==============================] - 2s 3ms/step - loss: 0.2654 - accuracy: 0.9236 - val_loss: 0.2587 - val_accuracy: 0.9267\n",
            "Epoch 65/100\n",
            "600/600 [==============================] - 2s 3ms/step - loss: 0.2641 - accuracy: 0.9241 - val_loss: 0.2578 - val_accuracy: 0.9271\n",
            "Epoch 66/100\n",
            "600/600 [==============================] - 2s 3ms/step - loss: 0.2629 - accuracy: 0.9243 - val_loss: 0.2570 - val_accuracy: 0.9271\n",
            "Epoch 67/100\n",
            "600/600 [==============================] - 2s 3ms/step - loss: 0.2617 - accuracy: 0.9251 - val_loss: 0.2559 - val_accuracy: 0.9274\n",
            "Epoch 68/100\n",
            "600/600 [==============================] - 2s 3ms/step - loss: 0.2605 - accuracy: 0.9253 - val_loss: 0.2546 - val_accuracy: 0.9276\n",
            "Epoch 69/100\n",
            "600/600 [==============================] - 2s 3ms/step - loss: 0.2593 - accuracy: 0.9255 - val_loss: 0.2535 - val_accuracy: 0.9284\n",
            "Epoch 70/100\n",
            "600/600 [==============================] - 2s 3ms/step - loss: 0.2581 - accuracy: 0.9258 - val_loss: 0.2528 - val_accuracy: 0.9278\n",
            "Epoch 71/100\n",
            "600/600 [==============================] - 2s 3ms/step - loss: 0.2570 - accuracy: 0.9260 - val_loss: 0.2518 - val_accuracy: 0.9278\n",
            "Epoch 72/100\n",
            "600/600 [==============================] - 2s 3ms/step - loss: 0.2558 - accuracy: 0.9267 - val_loss: 0.2505 - val_accuracy: 0.9282\n",
            "Epoch 73/100\n",
            "600/600 [==============================] - 2s 3ms/step - loss: 0.2547 - accuracy: 0.9268 - val_loss: 0.2495 - val_accuracy: 0.9288\n",
            "Epoch 74/100\n",
            "600/600 [==============================] - 2s 3ms/step - loss: 0.2535 - accuracy: 0.9273 - val_loss: 0.2484 - val_accuracy: 0.9289\n",
            "Epoch 75/100\n",
            "600/600 [==============================] - 2s 3ms/step - loss: 0.2524 - accuracy: 0.9274 - val_loss: 0.2476 - val_accuracy: 0.9289\n",
            "Epoch 76/100\n",
            "600/600 [==============================] - 2s 3ms/step - loss: 0.2513 - accuracy: 0.9280 - val_loss: 0.2465 - val_accuracy: 0.9296\n",
            "Epoch 77/100\n",
            "600/600 [==============================] - 2s 3ms/step - loss: 0.2501 - accuracy: 0.9283 - val_loss: 0.2455 - val_accuracy: 0.9301\n",
            "Epoch 78/100\n",
            "600/600 [==============================] - 2s 3ms/step - loss: 0.2491 - accuracy: 0.9282 - val_loss: 0.2447 - val_accuracy: 0.9302\n",
            "Epoch 79/100\n",
            "600/600 [==============================] - 2s 3ms/step - loss: 0.2480 - accuracy: 0.9288 - val_loss: 0.2435 - val_accuracy: 0.9312\n",
            "Epoch 80/100\n",
            "600/600 [==============================] - 2s 3ms/step - loss: 0.2469 - accuracy: 0.9294 - val_loss: 0.2430 - val_accuracy: 0.9300\n",
            "Epoch 81/100\n",
            "600/600 [==============================] - 2s 3ms/step - loss: 0.2458 - accuracy: 0.9296 - val_loss: 0.2419 - val_accuracy: 0.9306\n",
            "Epoch 82/100\n",
            "600/600 [==============================] - 2s 3ms/step - loss: 0.2447 - accuracy: 0.9300 - val_loss: 0.2407 - val_accuracy: 0.9316\n",
            "Epoch 83/100\n",
            "600/600 [==============================] - 2s 3ms/step - loss: 0.2437 - accuracy: 0.9305 - val_loss: 0.2398 - val_accuracy: 0.9316\n",
            "Epoch 84/100\n",
            "600/600 [==============================] - 2s 3ms/step - loss: 0.2426 - accuracy: 0.9305 - val_loss: 0.2392 - val_accuracy: 0.9307\n",
            "Epoch 85/100\n",
            "600/600 [==============================] - 2s 3ms/step - loss: 0.2415 - accuracy: 0.9308 - val_loss: 0.2381 - val_accuracy: 0.9321\n",
            "Epoch 86/100\n",
            "600/600 [==============================] - 2s 3ms/step - loss: 0.2406 - accuracy: 0.9313 - val_loss: 0.2371 - val_accuracy: 0.9322\n",
            "Epoch 87/100\n",
            "600/600 [==============================] - 2s 3ms/step - loss: 0.2395 - accuracy: 0.9316 - val_loss: 0.2363 - val_accuracy: 0.9324\n",
            "Epoch 88/100\n",
            "600/600 [==============================] - 2s 4ms/step - loss: 0.2384 - accuracy: 0.9319 - val_loss: 0.2351 - val_accuracy: 0.9330\n",
            "Epoch 89/100\n",
            "600/600 [==============================] - 2s 3ms/step - loss: 0.2374 - accuracy: 0.9320 - val_loss: 0.2344 - val_accuracy: 0.9328\n",
            "Epoch 90/100\n",
            "600/600 [==============================] - 2s 3ms/step - loss: 0.2364 - accuracy: 0.9323 - val_loss: 0.2335 - val_accuracy: 0.9330\n",
            "Epoch 91/100\n",
            "600/600 [==============================] - 2s 3ms/step - loss: 0.2354 - accuracy: 0.9327 - val_loss: 0.2325 - val_accuracy: 0.9333\n",
            "Epoch 92/100\n",
            "600/600 [==============================] - 2s 3ms/step - loss: 0.2344 - accuracy: 0.9329 - val_loss: 0.2317 - val_accuracy: 0.9337\n",
            "Epoch 93/100\n",
            "600/600 [==============================] - 2s 3ms/step - loss: 0.2335 - accuracy: 0.9332 - val_loss: 0.2307 - val_accuracy: 0.9342\n",
            "Epoch 94/100\n",
            "600/600 [==============================] - 2s 3ms/step - loss: 0.2324 - accuracy: 0.9337 - val_loss: 0.2299 - val_accuracy: 0.9341\n",
            "Epoch 95/100\n",
            "600/600 [==============================] - 2s 3ms/step - loss: 0.2315 - accuracy: 0.9340 - val_loss: 0.2290 - val_accuracy: 0.9347\n",
            "Epoch 96/100\n",
            "600/600 [==============================] - 2s 3ms/step - loss: 0.2305 - accuracy: 0.9341 - val_loss: 0.2280 - val_accuracy: 0.9347\n",
            "Epoch 97/100\n",
            "600/600 [==============================] - 2s 3ms/step - loss: 0.2296 - accuracy: 0.9346 - val_loss: 0.2273 - val_accuracy: 0.9349\n",
            "Epoch 98/100\n",
            "600/600 [==============================] - 2s 3ms/step - loss: 0.2286 - accuracy: 0.9347 - val_loss: 0.2262 - val_accuracy: 0.9354\n",
            "Epoch 99/100\n",
            "600/600 [==============================] - 2s 3ms/step - loss: 0.2275 - accuracy: 0.9352 - val_loss: 0.2256 - val_accuracy: 0.9350\n",
            "Epoch 100/100\n",
            "600/600 [==============================] - 2s 3ms/step - loss: 0.2267 - accuracy: 0.9354 - val_loss: 0.2247 - val_accuracy: 0.9354\n",
            "Model: \"sequential_3\"\n",
            "_________________________________________________________________\n",
            " Layer (type)                Output Shape              Param #   \n",
            "=================================================================\n",
            " dense_3 (Dense)             (100, 128)                100480    \n",
            "                                                                 \n",
            " dense_4 (Dense)             (100, 10)                 1290      \n",
            "                                                                 \n",
            "=================================================================\n",
            "Total params: 101,770\n",
            "Trainable params: 101,770\n",
            "Non-trainable params: 0\n",
            "_________________________________________________________________\n"
          ]
        }
      ],
      "source": [
        "model = tf.keras.models.Sequential([\n",
        "    tf.keras.layers.Dense(128, activation = 'sigmoid'),\n",
        "    tf.keras.layers.Dense(10, activation = 'softmax')])\n",
        "\n",
        "model.compile('sgd',\n",
        "              'sparse_categorical_crossentropy',\n",
        "              'accuracy')\n",
        "\n",
        "model.fit(DATA0, TARGET0, batch_size = 100, epochs = 100, validation_data = (DATA1, TARGET1))\n",
        "\n",
        "model.summary()"
      ]
    },
    {
      "cell_type": "markdown",
      "metadata": {
        "id": "LZrZ1JA5Ivtm"
      },
      "source": [
        "**Task.** Explain the number of weights in this network."
      ]
    },
    {
      "cell_type": "markdown",
      "metadata": {
        "id": "a476XmIoI4jQ"
      },
      "source": [
        "**Solution.** The first layer has 784 inputs and 128 outputs, so 784 * 128 + 128 = 100 480 weights. The second layer has 128 inputs and 10 outputs, so 128 * 10 + 10 = 1 290 weights. Together, there are 100 480 + 1 290 = 101 770 weights."
      ]
    },
    {
      "cell_type": "markdown",
      "metadata": {
        "id": "PibNHQJYRVpB"
      },
      "source": [
        "Adding the second layer improved the accuracy surprisingly little. Change the activation function of the added layer to relu, which is one of the most used:"
      ]
    },
    {
      "cell_type": "code",
      "execution_count": 24,
      "metadata": {
        "colab": {
          "base_uri": "https://localhost:8080/"
        },
        "id": "1NXdUG_jR0lu",
        "outputId": "f8540278-cef5-4df9-e71e-b7c7fccae553",
        "scrolled": true
      },
      "outputs": [
        {
          "output_type": "stream",
          "name": "stdout",
          "text": [
            "Epoch 1/100\n",
            "600/600 [==============================] - 3s 4ms/step - loss: 1.0754 - accuracy: 0.7359 - val_loss: 0.5685 - val_accuracy: 0.8637\n",
            "Epoch 2/100\n",
            "600/600 [==============================] - 2s 3ms/step - loss: 0.4941 - accuracy: 0.8742 - val_loss: 0.4131 - val_accuracy: 0.8932\n",
            "Epoch 3/100\n",
            "600/600 [==============================] - 2s 3ms/step - loss: 0.4005 - accuracy: 0.8923 - val_loss: 0.3586 - val_accuracy: 0.9047\n",
            "Epoch 4/100\n",
            "600/600 [==============================] - 2s 3ms/step - loss: 0.3584 - accuracy: 0.9017 - val_loss: 0.3300 - val_accuracy: 0.9099\n",
            "Epoch 5/100\n",
            "600/600 [==============================] - 2s 3ms/step - loss: 0.3325 - accuracy: 0.9077 - val_loss: 0.3089 - val_accuracy: 0.9150\n",
            "Epoch 6/100\n",
            "600/600 [==============================] - 2s 3ms/step - loss: 0.3138 - accuracy: 0.9124 - val_loss: 0.2944 - val_accuracy: 0.9202\n",
            "Epoch 7/100\n",
            "600/600 [==============================] - 2s 3ms/step - loss: 0.2989 - accuracy: 0.9169 - val_loss: 0.2821 - val_accuracy: 0.9235\n",
            "Epoch 8/100\n",
            "600/600 [==============================] - 2s 3ms/step - loss: 0.2864 - accuracy: 0.9200 - val_loss: 0.2718 - val_accuracy: 0.9259\n",
            "Epoch 9/100\n",
            "600/600 [==============================] - 2s 3ms/step - loss: 0.2756 - accuracy: 0.9232 - val_loss: 0.2622 - val_accuracy: 0.9278\n",
            "Epoch 10/100\n",
            "600/600 [==============================] - 2s 3ms/step - loss: 0.2659 - accuracy: 0.9264 - val_loss: 0.2548 - val_accuracy: 0.9307\n",
            "Epoch 11/100\n",
            "600/600 [==============================] - 2s 3ms/step - loss: 0.2571 - accuracy: 0.9291 - val_loss: 0.2478 - val_accuracy: 0.9328\n",
            "Epoch 12/100\n",
            "600/600 [==============================] - 2s 3ms/step - loss: 0.2495 - accuracy: 0.9312 - val_loss: 0.2413 - val_accuracy: 0.9335\n",
            "Epoch 13/100\n",
            "600/600 [==============================] - 2s 3ms/step - loss: 0.2419 - accuracy: 0.9334 - val_loss: 0.2339 - val_accuracy: 0.9355\n",
            "Epoch 14/100\n",
            "600/600 [==============================] - 2s 3ms/step - loss: 0.2352 - accuracy: 0.9355 - val_loss: 0.2286 - val_accuracy: 0.9362\n",
            "Epoch 15/100\n",
            "600/600 [==============================] - 2s 3ms/step - loss: 0.2288 - accuracy: 0.9369 - val_loss: 0.2236 - val_accuracy: 0.9381\n",
            "Epoch 16/100\n",
            "600/600 [==============================] - 2s 3ms/step - loss: 0.2228 - accuracy: 0.9385 - val_loss: 0.2182 - val_accuracy: 0.9398\n",
            "Epoch 17/100\n",
            "600/600 [==============================] - 2s 3ms/step - loss: 0.2171 - accuracy: 0.9399 - val_loss: 0.2140 - val_accuracy: 0.9399\n",
            "Epoch 18/100\n",
            "600/600 [==============================] - 2s 3ms/step - loss: 0.2117 - accuracy: 0.9418 - val_loss: 0.2080 - val_accuracy: 0.9418\n",
            "Epoch 19/100\n",
            "600/600 [==============================] - 2s 3ms/step - loss: 0.2068 - accuracy: 0.9431 - val_loss: 0.2032 - val_accuracy: 0.9431\n",
            "Epoch 20/100\n",
            "600/600 [==============================] - 2s 3ms/step - loss: 0.2019 - accuracy: 0.9441 - val_loss: 0.1997 - val_accuracy: 0.9448\n",
            "Epoch 21/100\n",
            "600/600 [==============================] - 2s 3ms/step - loss: 0.1973 - accuracy: 0.9457 - val_loss: 0.1960 - val_accuracy: 0.9445\n",
            "Epoch 22/100\n",
            "600/600 [==============================] - 2s 3ms/step - loss: 0.1929 - accuracy: 0.9471 - val_loss: 0.1914 - val_accuracy: 0.9453\n",
            "Epoch 23/100\n",
            "600/600 [==============================] - 2s 3ms/step - loss: 0.1887 - accuracy: 0.9479 - val_loss: 0.1875 - val_accuracy: 0.9472\n",
            "Epoch 24/100\n",
            "600/600 [==============================] - 2s 3ms/step - loss: 0.1848 - accuracy: 0.9491 - val_loss: 0.1844 - val_accuracy: 0.9479\n",
            "Epoch 25/100\n",
            "600/600 [==============================] - 2s 3ms/step - loss: 0.1809 - accuracy: 0.9498 - val_loss: 0.1812 - val_accuracy: 0.9488\n",
            "Epoch 26/100\n",
            "600/600 [==============================] - 2s 3ms/step - loss: 0.1774 - accuracy: 0.9505 - val_loss: 0.1769 - val_accuracy: 0.9495\n",
            "Epoch 27/100\n",
            "600/600 [==============================] - 2s 3ms/step - loss: 0.1737 - accuracy: 0.9516 - val_loss: 0.1745 - val_accuracy: 0.9503\n",
            "Epoch 28/100\n",
            "600/600 [==============================] - 2s 3ms/step - loss: 0.1704 - accuracy: 0.9524 - val_loss: 0.1719 - val_accuracy: 0.9513\n",
            "Epoch 29/100\n",
            "600/600 [==============================] - 2s 3ms/step - loss: 0.1671 - accuracy: 0.9535 - val_loss: 0.1689 - val_accuracy: 0.9512\n",
            "Epoch 30/100\n",
            "600/600 [==============================] - 2s 3ms/step - loss: 0.1641 - accuracy: 0.9540 - val_loss: 0.1661 - val_accuracy: 0.9519\n",
            "Epoch 31/100\n",
            "600/600 [==============================] - 2s 3ms/step - loss: 0.1610 - accuracy: 0.9551 - val_loss: 0.1640 - val_accuracy: 0.9520\n",
            "Epoch 32/100\n",
            "600/600 [==============================] - 2s 3ms/step - loss: 0.1581 - accuracy: 0.9563 - val_loss: 0.1613 - val_accuracy: 0.9527\n",
            "Epoch 33/100\n",
            "600/600 [==============================] - 2s 3ms/step - loss: 0.1554 - accuracy: 0.9565 - val_loss: 0.1584 - val_accuracy: 0.9537\n",
            "Epoch 34/100\n",
            "600/600 [==============================] - 2s 3ms/step - loss: 0.1527 - accuracy: 0.9574 - val_loss: 0.1559 - val_accuracy: 0.9544\n",
            "Epoch 35/100\n",
            "600/600 [==============================] - 2s 3ms/step - loss: 0.1501 - accuracy: 0.9582 - val_loss: 0.1542 - val_accuracy: 0.9545\n",
            "Epoch 36/100\n",
            "600/600 [==============================] - 2s 3ms/step - loss: 0.1476 - accuracy: 0.9589 - val_loss: 0.1519 - val_accuracy: 0.9553\n",
            "Epoch 37/100\n",
            "600/600 [==============================] - 2s 3ms/step - loss: 0.1452 - accuracy: 0.9596 - val_loss: 0.1496 - val_accuracy: 0.9562\n",
            "Epoch 38/100\n",
            "600/600 [==============================] - 2s 3ms/step - loss: 0.1429 - accuracy: 0.9606 - val_loss: 0.1485 - val_accuracy: 0.9567\n",
            "Epoch 39/100\n",
            "600/600 [==============================] - 2s 3ms/step - loss: 0.1406 - accuracy: 0.9610 - val_loss: 0.1460 - val_accuracy: 0.9578\n",
            "Epoch 40/100\n",
            "600/600 [==============================] - 2s 3ms/step - loss: 0.1383 - accuracy: 0.9617 - val_loss: 0.1443 - val_accuracy: 0.9582\n",
            "Epoch 41/100\n",
            "600/600 [==============================] - 2s 3ms/step - loss: 0.1362 - accuracy: 0.9621 - val_loss: 0.1428 - val_accuracy: 0.9590\n",
            "Epoch 42/100\n",
            "600/600 [==============================] - 2s 3ms/step - loss: 0.1342 - accuracy: 0.9631 - val_loss: 0.1399 - val_accuracy: 0.9600\n",
            "Epoch 43/100\n",
            "600/600 [==============================] - 2s 3ms/step - loss: 0.1322 - accuracy: 0.9639 - val_loss: 0.1381 - val_accuracy: 0.9597\n",
            "Epoch 44/100\n",
            "600/600 [==============================] - 2s 3ms/step - loss: 0.1303 - accuracy: 0.9643 - val_loss: 0.1368 - val_accuracy: 0.9602\n",
            "Epoch 45/100\n",
            "600/600 [==============================] - 2s 3ms/step - loss: 0.1284 - accuracy: 0.9647 - val_loss: 0.1355 - val_accuracy: 0.9606\n",
            "Epoch 46/100\n",
            "600/600 [==============================] - 2s 3ms/step - loss: 0.1265 - accuracy: 0.9651 - val_loss: 0.1337 - val_accuracy: 0.9609\n",
            "Epoch 47/100\n",
            "600/600 [==============================] - 2s 3ms/step - loss: 0.1247 - accuracy: 0.9657 - val_loss: 0.1320 - val_accuracy: 0.9620\n",
            "Epoch 48/100\n",
            "600/600 [==============================] - 2s 3ms/step - loss: 0.1229 - accuracy: 0.9659 - val_loss: 0.1309 - val_accuracy: 0.9618\n",
            "Epoch 49/100\n",
            "600/600 [==============================] - 2s 3ms/step - loss: 0.1213 - accuracy: 0.9669 - val_loss: 0.1292 - val_accuracy: 0.9623\n",
            "Epoch 50/100\n",
            "600/600 [==============================] - 2s 3ms/step - loss: 0.1196 - accuracy: 0.9669 - val_loss: 0.1278 - val_accuracy: 0.9633\n",
            "Epoch 51/100\n",
            "600/600 [==============================] - 2s 3ms/step - loss: 0.1181 - accuracy: 0.9676 - val_loss: 0.1275 - val_accuracy: 0.9629\n",
            "Epoch 52/100\n",
            "600/600 [==============================] - 2s 3ms/step - loss: 0.1165 - accuracy: 0.9680 - val_loss: 0.1257 - val_accuracy: 0.9636\n",
            "Epoch 53/100\n",
            "600/600 [==============================] - 2s 3ms/step - loss: 0.1150 - accuracy: 0.9684 - val_loss: 0.1242 - val_accuracy: 0.9638\n",
            "Epoch 54/100\n",
            "600/600 [==============================] - 2s 3ms/step - loss: 0.1135 - accuracy: 0.9689 - val_loss: 0.1232 - val_accuracy: 0.9643\n",
            "Epoch 55/100\n",
            "600/600 [==============================] - 2s 3ms/step - loss: 0.1121 - accuracy: 0.9690 - val_loss: 0.1217 - val_accuracy: 0.9645\n",
            "Epoch 56/100\n",
            "600/600 [==============================] - 2s 3ms/step - loss: 0.1107 - accuracy: 0.9696 - val_loss: 0.1205 - val_accuracy: 0.9646\n",
            "Epoch 57/100\n",
            "600/600 [==============================] - 2s 3ms/step - loss: 0.1092 - accuracy: 0.9701 - val_loss: 0.1195 - val_accuracy: 0.9653\n",
            "Epoch 58/100\n",
            "600/600 [==============================] - 2s 3ms/step - loss: 0.1080 - accuracy: 0.9703 - val_loss: 0.1185 - val_accuracy: 0.9651\n",
            "Epoch 59/100\n",
            "600/600 [==============================] - 2s 3ms/step - loss: 0.1066 - accuracy: 0.9710 - val_loss: 0.1174 - val_accuracy: 0.9655\n",
            "Epoch 60/100\n",
            "600/600 [==============================] - 2s 3ms/step - loss: 0.1054 - accuracy: 0.9714 - val_loss: 0.1163 - val_accuracy: 0.9657\n",
            "Epoch 61/100\n",
            "600/600 [==============================] - 2s 3ms/step - loss: 0.1041 - accuracy: 0.9718 - val_loss: 0.1154 - val_accuracy: 0.9665\n",
            "Epoch 62/100\n",
            "600/600 [==============================] - 2s 3ms/step - loss: 0.1028 - accuracy: 0.9722 - val_loss: 0.1149 - val_accuracy: 0.9664\n",
            "Epoch 63/100\n",
            "600/600 [==============================] - 2s 3ms/step - loss: 0.1017 - accuracy: 0.9725 - val_loss: 0.1139 - val_accuracy: 0.9663\n",
            "Epoch 64/100\n",
            "600/600 [==============================] - 2s 3ms/step - loss: 0.1005 - accuracy: 0.9729 - val_loss: 0.1127 - val_accuracy: 0.9665\n",
            "Epoch 65/100\n",
            "600/600 [==============================] - 2s 3ms/step - loss: 0.0993 - accuracy: 0.9729 - val_loss: 0.1122 - val_accuracy: 0.9672\n",
            "Epoch 66/100\n",
            "600/600 [==============================] - 2s 3ms/step - loss: 0.0983 - accuracy: 0.9735 - val_loss: 0.1105 - val_accuracy: 0.9676\n",
            "Epoch 67/100\n",
            "600/600 [==============================] - 2s 3ms/step - loss: 0.0971 - accuracy: 0.9739 - val_loss: 0.1101 - val_accuracy: 0.9676\n",
            "Epoch 68/100\n",
            "600/600 [==============================] - 2s 3ms/step - loss: 0.0961 - accuracy: 0.9740 - val_loss: 0.1092 - val_accuracy: 0.9682\n",
            "Epoch 69/100\n",
            "600/600 [==============================] - 2s 3ms/step - loss: 0.0949 - accuracy: 0.9741 - val_loss: 0.1088 - val_accuracy: 0.9680\n",
            "Epoch 70/100\n",
            "600/600 [==============================] - 2s 3ms/step - loss: 0.0939 - accuracy: 0.9749 - val_loss: 0.1074 - val_accuracy: 0.9688\n",
            "Epoch 71/100\n",
            "600/600 [==============================] - 2s 3ms/step - loss: 0.0930 - accuracy: 0.9746 - val_loss: 0.1068 - val_accuracy: 0.9687\n",
            "Epoch 72/100\n",
            "600/600 [==============================] - 2s 3ms/step - loss: 0.0919 - accuracy: 0.9751 - val_loss: 0.1059 - val_accuracy: 0.9696\n",
            "Epoch 73/100\n",
            "600/600 [==============================] - 2s 3ms/step - loss: 0.0909 - accuracy: 0.9756 - val_loss: 0.1050 - val_accuracy: 0.9692\n",
            "Epoch 74/100\n",
            "600/600 [==============================] - 2s 3ms/step - loss: 0.0900 - accuracy: 0.9758 - val_loss: 0.1051 - val_accuracy: 0.9691\n",
            "Epoch 75/100\n",
            "600/600 [==============================] - 2s 3ms/step - loss: 0.0890 - accuracy: 0.9761 - val_loss: 0.1041 - val_accuracy: 0.9697\n",
            "Epoch 76/100\n",
            "600/600 [==============================] - 2s 3ms/step - loss: 0.0881 - accuracy: 0.9762 - val_loss: 0.1030 - val_accuracy: 0.9701\n",
            "Epoch 77/100\n",
            "600/600 [==============================] - 2s 3ms/step - loss: 0.0872 - accuracy: 0.9764 - val_loss: 0.1025 - val_accuracy: 0.9698\n",
            "Epoch 78/100\n",
            "600/600 [==============================] - 2s 3ms/step - loss: 0.0863 - accuracy: 0.9767 - val_loss: 0.1015 - val_accuracy: 0.9703\n",
            "Epoch 79/100\n",
            "600/600 [==============================] - 2s 3ms/step - loss: 0.0854 - accuracy: 0.9771 - val_loss: 0.1013 - val_accuracy: 0.9702\n",
            "Epoch 80/100\n",
            "600/600 [==============================] - 2s 3ms/step - loss: 0.0846 - accuracy: 0.9772 - val_loss: 0.1009 - val_accuracy: 0.9708\n",
            "Epoch 81/100\n",
            "600/600 [==============================] - 2s 3ms/step - loss: 0.0837 - accuracy: 0.9775 - val_loss: 0.1002 - val_accuracy: 0.9704\n",
            "Epoch 82/100\n",
            "600/600 [==============================] - 2s 3ms/step - loss: 0.0829 - accuracy: 0.9775 - val_loss: 0.0992 - val_accuracy: 0.9711\n",
            "Epoch 83/100\n",
            "600/600 [==============================] - 2s 3ms/step - loss: 0.0821 - accuracy: 0.9780 - val_loss: 0.0989 - val_accuracy: 0.9711\n",
            "Epoch 84/100\n",
            "600/600 [==============================] - 2s 3ms/step - loss: 0.0813 - accuracy: 0.9781 - val_loss: 0.0984 - val_accuracy: 0.9717\n",
            "Epoch 85/100\n",
            "600/600 [==============================] - 2s 3ms/step - loss: 0.0805 - accuracy: 0.9784 - val_loss: 0.0983 - val_accuracy: 0.9708\n",
            "Epoch 86/100\n",
            "600/600 [==============================] - 2s 3ms/step - loss: 0.0798 - accuracy: 0.9788 - val_loss: 0.0971 - val_accuracy: 0.9714\n",
            "Epoch 87/100\n",
            "600/600 [==============================] - 2s 3ms/step - loss: 0.0790 - accuracy: 0.9786 - val_loss: 0.0966 - val_accuracy: 0.9715\n",
            "Epoch 88/100\n",
            "600/600 [==============================] - 2s 3ms/step - loss: 0.0783 - accuracy: 0.9793 - val_loss: 0.0957 - val_accuracy: 0.9720\n",
            "Epoch 89/100\n",
            "600/600 [==============================] - 2s 3ms/step - loss: 0.0775 - accuracy: 0.9792 - val_loss: 0.0956 - val_accuracy: 0.9717\n",
            "Epoch 90/100\n",
            "600/600 [==============================] - 2s 3ms/step - loss: 0.0768 - accuracy: 0.9796 - val_loss: 0.0950 - val_accuracy: 0.9722\n",
            "Epoch 91/100\n",
            "600/600 [==============================] - 2s 3ms/step - loss: 0.0761 - accuracy: 0.9797 - val_loss: 0.0944 - val_accuracy: 0.9731\n",
            "Epoch 92/100\n",
            "600/600 [==============================] - 2s 3ms/step - loss: 0.0754 - accuracy: 0.9800 - val_loss: 0.0937 - val_accuracy: 0.9720\n",
            "Epoch 93/100\n",
            "600/600 [==============================] - 2s 3ms/step - loss: 0.0747 - accuracy: 0.9798 - val_loss: 0.0935 - val_accuracy: 0.9728\n",
            "Epoch 94/100\n",
            "600/600 [==============================] - 2s 3ms/step - loss: 0.0740 - accuracy: 0.9802 - val_loss: 0.0927 - val_accuracy: 0.9727\n",
            "Epoch 95/100\n",
            "600/600 [==============================] - 2s 3ms/step - loss: 0.0734 - accuracy: 0.9805 - val_loss: 0.0927 - val_accuracy: 0.9727\n",
            "Epoch 96/100\n",
            "600/600 [==============================] - 2s 3ms/step - loss: 0.0727 - accuracy: 0.9807 - val_loss: 0.0923 - val_accuracy: 0.9725\n",
            "Epoch 97/100\n",
            "600/600 [==============================] - 2s 3ms/step - loss: 0.0721 - accuracy: 0.9809 - val_loss: 0.0921 - val_accuracy: 0.9734\n",
            "Epoch 98/100\n",
            "600/600 [==============================] - 2s 3ms/step - loss: 0.0715 - accuracy: 0.9810 - val_loss: 0.0908 - val_accuracy: 0.9730\n",
            "Epoch 99/100\n",
            "600/600 [==============================] - 2s 3ms/step - loss: 0.0708 - accuracy: 0.9812 - val_loss: 0.0910 - val_accuracy: 0.9733\n",
            "Epoch 100/100\n",
            "600/600 [==============================] - 2s 3ms/step - loss: 0.0701 - accuracy: 0.9813 - val_loss: 0.0906 - val_accuracy: 0.9733\n",
            "Model: \"sequential_4\"\n",
            "_________________________________________________________________\n",
            " Layer (type)                Output Shape              Param #   \n",
            "=================================================================\n",
            " dense_5 (Dense)             (100, 128)                100480    \n",
            "                                                                 \n",
            " dense_6 (Dense)             (100, 10)                 1290      \n",
            "                                                                 \n",
            "=================================================================\n",
            "Total params: 101,770\n",
            "Trainable params: 101,770\n",
            "Non-trainable params: 0\n",
            "_________________________________________________________________\n"
          ]
        }
      ],
      "source": [
        "model = tf.keras.models.Sequential([\n",
        "    tf.keras.layers.Dense(128, activation = 'relu'),\n",
        "    tf.keras.layers.Dense(10, activation = 'softmax')])\n",
        "\n",
        "model.compile('sgd',\n",
        "              'sparse_categorical_crossentropy',\n",
        "              'accuracy')\n",
        "\n",
        "model.fit(DATA0, TARGET0, batch_size = 100, epochs = 100, validation_data = (DATA1, TARGET1))\n",
        "\n",
        "model.summary()"
      ]
    },
    {
      "cell_type": "markdown",
      "metadata": {
        "id": "RH6_mxR8XSco"
      },
      "source": [
        "Now the improvement is very significant. The difference is because sigmoid saturates on both sides, yields vanishing gradients there, and effectively stucks the minimization. Relu does not saturate on the positive side and causes no such problems."
      ]
    },
    {
      "cell_type": "markdown",
      "metadata": {
        "id": "3xoKXgKAOp02"
      },
      "source": [
        "**Task.** The training takes less physical time with the relu activation. Why?"
      ]
    },
    {
      "cell_type": "markdown",
      "metadata": {
        "id": "TLd0VST7QIWM"
      },
      "source": [
        "**Solution.** Relu does not contain nonlinear functions, like exponents, and is therefore faster to calculate and differentiate."
      ]
    },
    {
      "cell_type": "markdown",
      "metadata": {
        "id": "kO6CebTyQ6si"
      },
      "source": [
        "Now switch the optimizer to Adam, which is one of the best and most used:"
      ]
    },
    {
      "cell_type": "code",
      "execution_count": 25,
      "metadata": {
        "colab": {
          "base_uri": "https://localhost:8080/"
        },
        "id": "IUB3kB-vdLda",
        "outputId": "69dff3ab-3208-4035-b5e7-e0b38a2dd1d3",
        "scrolled": true
      },
      "outputs": [
        {
          "output_type": "stream",
          "name": "stdout",
          "text": [
            "Epoch 1/100\n",
            "600/600 [==============================] - 3s 4ms/step - loss: 0.3314 - accuracy: 0.9081 - val_loss: 0.1735 - val_accuracy: 0.9507\n",
            "Epoch 2/100\n",
            "600/600 [==============================] - 2s 3ms/step - loss: 0.1517 - accuracy: 0.9566 - val_loss: 0.1221 - val_accuracy: 0.9630\n",
            "Epoch 3/100\n",
            "600/600 [==============================] - 2s 3ms/step - loss: 0.1074 - accuracy: 0.9688 - val_loss: 0.1088 - val_accuracy: 0.9649\n",
            "Epoch 4/100\n",
            "600/600 [==============================] - 2s 3ms/step - loss: 0.0825 - accuracy: 0.9757 - val_loss: 0.0847 - val_accuracy: 0.9753\n",
            "Epoch 5/100\n",
            "600/600 [==============================] - 2s 3ms/step - loss: 0.0659 - accuracy: 0.9811 - val_loss: 0.0916 - val_accuracy: 0.9723\n",
            "Epoch 6/100\n",
            "600/600 [==============================] - 2s 3ms/step - loss: 0.0537 - accuracy: 0.9842 - val_loss: 0.0818 - val_accuracy: 0.9754\n",
            "Epoch 7/100\n",
            "600/600 [==============================] - 2s 4ms/step - loss: 0.0441 - accuracy: 0.9878 - val_loss: 0.0781 - val_accuracy: 0.9761\n",
            "Epoch 8/100\n",
            "600/600 [==============================] - 2s 3ms/step - loss: 0.0376 - accuracy: 0.9894 - val_loss: 0.0762 - val_accuracy: 0.9774\n",
            "Epoch 9/100\n",
            "600/600 [==============================] - 2s 3ms/step - loss: 0.0305 - accuracy: 0.9918 - val_loss: 0.0807 - val_accuracy: 0.9753\n",
            "Epoch 10/100\n",
            "600/600 [==============================] - 2s 3ms/step - loss: 0.0259 - accuracy: 0.9933 - val_loss: 0.0729 - val_accuracy: 0.9780\n",
            "Epoch 11/100\n",
            "600/600 [==============================] - 2s 3ms/step - loss: 0.0227 - accuracy: 0.9934 - val_loss: 0.0770 - val_accuracy: 0.9764\n",
            "Epoch 12/100\n",
            "600/600 [==============================] - 2s 3ms/step - loss: 0.0187 - accuracy: 0.9952 - val_loss: 0.0757 - val_accuracy: 0.9770\n",
            "Epoch 13/100\n",
            "600/600 [==============================] - 2s 3ms/step - loss: 0.0153 - accuracy: 0.9962 - val_loss: 0.0826 - val_accuracy: 0.9764\n",
            "Epoch 14/100\n",
            "600/600 [==============================] - 2s 3ms/step - loss: 0.0133 - accuracy: 0.9970 - val_loss: 0.0800 - val_accuracy: 0.9769\n",
            "Epoch 15/100\n",
            "600/600 [==============================] - 2s 3ms/step - loss: 0.0117 - accuracy: 0.9972 - val_loss: 0.0829 - val_accuracy: 0.9776\n",
            "Epoch 16/100\n",
            "600/600 [==============================] - 2s 3ms/step - loss: 0.0093 - accuracy: 0.9982 - val_loss: 0.0812 - val_accuracy: 0.9784\n",
            "Epoch 17/100\n",
            "600/600 [==============================] - 2s 3ms/step - loss: 0.0086 - accuracy: 0.9983 - val_loss: 0.0877 - val_accuracy: 0.9759\n",
            "Epoch 18/100\n",
            "600/600 [==============================] - 2s 3ms/step - loss: 0.0071 - accuracy: 0.9984 - val_loss: 0.0890 - val_accuracy: 0.9784\n",
            "Epoch 19/100\n",
            "600/600 [==============================] - 2s 3ms/step - loss: 0.0063 - accuracy: 0.9988 - val_loss: 0.0912 - val_accuracy: 0.9768\n",
            "Epoch 20/100\n",
            "600/600 [==============================] - 2s 3ms/step - loss: 0.0053 - accuracy: 0.9990 - val_loss: 0.0975 - val_accuracy: 0.9759\n",
            "Epoch 21/100\n",
            "600/600 [==============================] - 2s 3ms/step - loss: 0.0083 - accuracy: 0.9977 - val_loss: 0.0922 - val_accuracy: 0.9766\n",
            "Epoch 22/100\n",
            "600/600 [==============================] - 2s 3ms/step - loss: 0.0040 - accuracy: 0.9993 - val_loss: 0.0990 - val_accuracy: 0.9779\n",
            "Epoch 23/100\n",
            "600/600 [==============================] - 2s 3ms/step - loss: 0.0022 - accuracy: 0.9998 - val_loss: 0.0926 - val_accuracy: 0.9782\n",
            "Epoch 24/100\n",
            "600/600 [==============================] - 2s 3ms/step - loss: 0.0066 - accuracy: 0.9980 - val_loss: 0.0970 - val_accuracy: 0.9782\n",
            "Epoch 25/100\n",
            "600/600 [==============================] - 2s 3ms/step - loss: 0.0042 - accuracy: 0.9991 - val_loss: 0.0963 - val_accuracy: 0.9765\n",
            "Epoch 26/100\n",
            "600/600 [==============================] - 2s 3ms/step - loss: 0.0026 - accuracy: 0.9995 - val_loss: 0.1051 - val_accuracy: 0.9751\n",
            "Epoch 27/100\n",
            "600/600 [==============================] - 2s 3ms/step - loss: 0.0023 - accuracy: 0.9997 - val_loss: 0.1050 - val_accuracy: 0.9765\n",
            "Epoch 28/100\n",
            "600/600 [==============================] - 2s 3ms/step - loss: 0.0012 - accuracy: 0.9999 - val_loss: 0.0966 - val_accuracy: 0.9798\n",
            "Epoch 29/100\n",
            "600/600 [==============================] - 2s 3ms/step - loss: 0.0014 - accuracy: 0.9997 - val_loss: 0.1153 - val_accuracy: 0.9756\n",
            "Epoch 30/100\n",
            "600/600 [==============================] - 2s 3ms/step - loss: 0.0086 - accuracy: 0.9973 - val_loss: 0.1102 - val_accuracy: 0.9761\n",
            "Epoch 31/100\n",
            "600/600 [==============================] - 2s 3ms/step - loss: 0.0039 - accuracy: 0.9989 - val_loss: 0.1012 - val_accuracy: 0.9782\n",
            "Epoch 32/100\n",
            "600/600 [==============================] - 2s 3ms/step - loss: 0.0014 - accuracy: 0.9997 - val_loss: 0.1000 - val_accuracy: 0.9784\n",
            "Epoch 33/100\n",
            "600/600 [==============================] - 2s 3ms/step - loss: 7.6420e-04 - accuracy: 0.9999 - val_loss: 0.1035 - val_accuracy: 0.9792\n",
            "Epoch 34/100\n",
            "600/600 [==============================] - 2s 3ms/step - loss: 3.7720e-04 - accuracy: 1.0000 - val_loss: 0.1024 - val_accuracy: 0.9796\n",
            "Epoch 35/100\n",
            "600/600 [==============================] - 2s 3ms/step - loss: 2.8856e-04 - accuracy: 1.0000 - val_loss: 0.1034 - val_accuracy: 0.9795\n",
            "Epoch 36/100\n",
            "600/600 [==============================] - 2s 3ms/step - loss: 2.6565e-04 - accuracy: 1.0000 - val_loss: 0.1036 - val_accuracy: 0.9795\n",
            "Epoch 37/100\n",
            "600/600 [==============================] - 2s 3ms/step - loss: 7.3948e-04 - accuracy: 0.9999 - val_loss: 0.1367 - val_accuracy: 0.9729\n",
            "Epoch 38/100\n",
            "600/600 [==============================] - 2s 3ms/step - loss: 0.0130 - accuracy: 0.9958 - val_loss: 0.1156 - val_accuracy: 0.9772\n",
            "Epoch 39/100\n",
            "600/600 [==============================] - 2s 3ms/step - loss: 0.0024 - accuracy: 0.9995 - val_loss: 0.1107 - val_accuracy: 0.9789\n",
            "Epoch 40/100\n",
            "600/600 [==============================] - 2s 3ms/step - loss: 3.8542e-04 - accuracy: 1.0000 - val_loss: 0.1090 - val_accuracy: 0.9796\n",
            "Epoch 41/100\n",
            "600/600 [==============================] - 2s 3ms/step - loss: 2.4722e-04 - accuracy: 1.0000 - val_loss: 0.1105 - val_accuracy: 0.9794\n",
            "Epoch 42/100\n",
            "600/600 [==============================] - 2s 3ms/step - loss: 2.0586e-04 - accuracy: 1.0000 - val_loss: 0.1115 - val_accuracy: 0.9793\n",
            "Epoch 43/100\n",
            "600/600 [==============================] - 2s 3ms/step - loss: 1.9366e-04 - accuracy: 1.0000 - val_loss: 0.1125 - val_accuracy: 0.9789\n",
            "Epoch 44/100\n",
            "600/600 [==============================] - 2s 3ms/step - loss: 1.5235e-04 - accuracy: 1.0000 - val_loss: 0.1125 - val_accuracy: 0.9792\n",
            "Epoch 45/100\n",
            "600/600 [==============================] - 2s 4ms/step - loss: 1.3658e-04 - accuracy: 1.0000 - val_loss: 0.1137 - val_accuracy: 0.9795\n",
            "Epoch 46/100\n",
            "600/600 [==============================] - 2s 3ms/step - loss: 1.2076e-04 - accuracy: 1.0000 - val_loss: 0.1157 - val_accuracy: 0.9786\n",
            "Epoch 47/100\n",
            "600/600 [==============================] - 2s 3ms/step - loss: 1.1603e-04 - accuracy: 1.0000 - val_loss: 0.1162 - val_accuracy: 0.9791\n",
            "Epoch 48/100\n",
            "600/600 [==============================] - 2s 3ms/step - loss: 0.0141 - accuracy: 0.9956 - val_loss: 0.1317 - val_accuracy: 0.9762\n",
            "Epoch 49/100\n",
            "600/600 [==============================] - 2s 3ms/step - loss: 0.0019 - accuracy: 0.9995 - val_loss: 0.1274 - val_accuracy: 0.9776\n",
            "Epoch 50/100\n",
            "600/600 [==============================] - 2s 3ms/step - loss: 3.3673e-04 - accuracy: 1.0000 - val_loss: 0.1199 - val_accuracy: 0.9789\n",
            "Epoch 51/100\n",
            "600/600 [==============================] - 2s 3ms/step - loss: 1.6234e-04 - accuracy: 1.0000 - val_loss: 0.1221 - val_accuracy: 0.9785\n",
            "Epoch 52/100\n",
            "600/600 [==============================] - 2s 3ms/step - loss: 1.2385e-04 - accuracy: 1.0000 - val_loss: 0.1224 - val_accuracy: 0.9786\n",
            "Epoch 53/100\n",
            "600/600 [==============================] - 2s 3ms/step - loss: 1.0690e-04 - accuracy: 1.0000 - val_loss: 0.1232 - val_accuracy: 0.9782\n",
            "Epoch 54/100\n",
            "600/600 [==============================] - 2s 3ms/step - loss: 9.1982e-05 - accuracy: 1.0000 - val_loss: 0.1227 - val_accuracy: 0.9787\n",
            "Epoch 55/100\n",
            "600/600 [==============================] - 2s 3ms/step - loss: 8.2405e-05 - accuracy: 1.0000 - val_loss: 0.1242 - val_accuracy: 0.9782\n",
            "Epoch 56/100\n",
            "600/600 [==============================] - 2s 3ms/step - loss: 7.1561e-05 - accuracy: 1.0000 - val_loss: 0.1248 - val_accuracy: 0.9785\n",
            "Epoch 57/100\n",
            "600/600 [==============================] - 2s 3ms/step - loss: 6.7773e-05 - accuracy: 1.0000 - val_loss: 0.1241 - val_accuracy: 0.9796\n",
            "Epoch 58/100\n",
            "600/600 [==============================] - 2s 3ms/step - loss: 0.0095 - accuracy: 0.9969 - val_loss: 0.1457 - val_accuracy: 0.9761\n",
            "Epoch 59/100\n",
            "600/600 [==============================] - 2s 3ms/step - loss: 0.0025 - accuracy: 0.9994 - val_loss: 0.1380 - val_accuracy: 0.9771\n",
            "Epoch 60/100\n",
            "600/600 [==============================] - 2s 3ms/step - loss: 3.6698e-04 - accuracy: 1.0000 - val_loss: 0.1285 - val_accuracy: 0.9788\n",
            "Epoch 61/100\n",
            "600/600 [==============================] - 2s 3ms/step - loss: 1.3512e-04 - accuracy: 1.0000 - val_loss: 0.1259 - val_accuracy: 0.9786\n",
            "Epoch 62/100\n",
            "600/600 [==============================] - 2s 3ms/step - loss: 9.3189e-05 - accuracy: 1.0000 - val_loss: 0.1249 - val_accuracy: 0.9794\n",
            "Epoch 63/100\n",
            "600/600 [==============================] - 2s 3ms/step - loss: 7.7122e-05 - accuracy: 1.0000 - val_loss: 0.1257 - val_accuracy: 0.9794\n",
            "Epoch 64/100\n",
            "600/600 [==============================] - 2s 3ms/step - loss: 6.6423e-05 - accuracy: 1.0000 - val_loss: 0.1254 - val_accuracy: 0.9789\n",
            "Epoch 65/100\n",
            "600/600 [==============================] - 2s 3ms/step - loss: 5.8753e-05 - accuracy: 1.0000 - val_loss: 0.1258 - val_accuracy: 0.9794\n",
            "Epoch 66/100\n",
            "600/600 [==============================] - 2s 3ms/step - loss: 5.1043e-05 - accuracy: 1.0000 - val_loss: 0.1270 - val_accuracy: 0.9788\n",
            "Epoch 67/100\n",
            "600/600 [==============================] - 2s 3ms/step - loss: 4.4304e-05 - accuracy: 1.0000 - val_loss: 0.1271 - val_accuracy: 0.9794\n",
            "Epoch 68/100\n",
            "600/600 [==============================] - 2s 3ms/step - loss: 3.9293e-05 - accuracy: 1.0000 - val_loss: 0.1275 - val_accuracy: 0.9794\n",
            "Epoch 69/100\n",
            "600/600 [==============================] - 2s 3ms/step - loss: 3.4766e-05 - accuracy: 1.0000 - val_loss: 0.1287 - val_accuracy: 0.9787\n",
            "Epoch 70/100\n",
            "600/600 [==============================] - 2s 3ms/step - loss: 5.0338e-05 - accuracy: 1.0000 - val_loss: 0.1815 - val_accuracy: 0.9709\n",
            "Epoch 71/100\n",
            "600/600 [==============================] - 2s 3ms/step - loss: 0.0131 - accuracy: 0.9961 - val_loss: 0.1481 - val_accuracy: 0.9766\n",
            "Epoch 72/100\n",
            "600/600 [==============================] - 2s 3ms/step - loss: 7.1068e-04 - accuracy: 0.9998 - val_loss: 0.1336 - val_accuracy: 0.9793\n",
            "Epoch 73/100\n",
            "600/600 [==============================] - 2s 3ms/step - loss: 1.6798e-04 - accuracy: 1.0000 - val_loss: 0.1365 - val_accuracy: 0.9788\n",
            "Epoch 74/100\n",
            "600/600 [==============================] - 2s 3ms/step - loss: 8.0832e-05 - accuracy: 1.0000 - val_loss: 0.1359 - val_accuracy: 0.9787\n",
            "Epoch 75/100\n",
            "600/600 [==============================] - 2s 3ms/step - loss: 6.4022e-05 - accuracy: 1.0000 - val_loss: 0.1373 - val_accuracy: 0.9789\n",
            "Epoch 76/100\n",
            "600/600 [==============================] - 2s 3ms/step - loss: 5.1891e-05 - accuracy: 1.0000 - val_loss: 0.1368 - val_accuracy: 0.9788\n",
            "Epoch 77/100\n",
            "600/600 [==============================] - 2s 3ms/step - loss: 4.4345e-05 - accuracy: 1.0000 - val_loss: 0.1380 - val_accuracy: 0.9789\n",
            "Epoch 78/100\n",
            "600/600 [==============================] - 2s 3ms/step - loss: 3.8027e-05 - accuracy: 1.0000 - val_loss: 0.1383 - val_accuracy: 0.9787\n",
            "Epoch 79/100\n",
            "600/600 [==============================] - 2s 3ms/step - loss: 3.2694e-05 - accuracy: 1.0000 - val_loss: 0.1380 - val_accuracy: 0.9788\n",
            "Epoch 80/100\n",
            "600/600 [==============================] - 2s 3ms/step - loss: 2.8445e-05 - accuracy: 1.0000 - val_loss: 0.1382 - val_accuracy: 0.9793\n",
            "Epoch 81/100\n",
            "600/600 [==============================] - 2s 3ms/step - loss: 2.4463e-05 - accuracy: 1.0000 - val_loss: 0.1385 - val_accuracy: 0.9795\n",
            "Epoch 82/100\n",
            "600/600 [==============================] - 2s 4ms/step - loss: 2.2113e-05 - accuracy: 1.0000 - val_loss: 0.1391 - val_accuracy: 0.9794\n",
            "Epoch 83/100\n",
            "600/600 [==============================] - 2s 3ms/step - loss: 1.8713e-05 - accuracy: 1.0000 - val_loss: 0.1398 - val_accuracy: 0.9794\n",
            "Epoch 84/100\n",
            "600/600 [==============================] - 2s 3ms/step - loss: 1.7646e-05 - accuracy: 1.0000 - val_loss: 0.1403 - val_accuracy: 0.9794\n",
            "Epoch 85/100\n",
            "600/600 [==============================] - 2s 3ms/step - loss: 0.0136 - accuracy: 0.9962 - val_loss: 0.1584 - val_accuracy: 0.9753\n",
            "Epoch 86/100\n",
            "600/600 [==============================] - 2s 3ms/step - loss: 0.0024 - accuracy: 0.9992 - val_loss: 0.1424 - val_accuracy: 0.9787\n",
            "Epoch 87/100\n",
            "600/600 [==============================] - 2s 3ms/step - loss: 2.4229e-04 - accuracy: 0.9999 - val_loss: 0.1438 - val_accuracy: 0.9789\n",
            "Epoch 88/100\n",
            "600/600 [==============================] - 2s 3ms/step - loss: 8.0713e-05 - accuracy: 1.0000 - val_loss: 0.1416 - val_accuracy: 0.9790\n",
            "Epoch 89/100\n",
            "600/600 [==============================] - 2s 3ms/step - loss: 5.0149e-05 - accuracy: 1.0000 - val_loss: 0.1415 - val_accuracy: 0.9790\n",
            "Epoch 90/100\n",
            "600/600 [==============================] - 2s 3ms/step - loss: 4.1054e-05 - accuracy: 1.0000 - val_loss: 0.1418 - val_accuracy: 0.9790\n",
            "Epoch 91/100\n",
            "600/600 [==============================] - 2s 3ms/step - loss: 3.4412e-05 - accuracy: 1.0000 - val_loss: 0.1411 - val_accuracy: 0.9792\n",
            "Epoch 92/100\n",
            "600/600 [==============================] - 2s 3ms/step - loss: 2.9453e-05 - accuracy: 1.0000 - val_loss: 0.1418 - val_accuracy: 0.9794\n",
            "Epoch 93/100\n",
            "600/600 [==============================] - 2s 3ms/step - loss: 2.5551e-05 - accuracy: 1.0000 - val_loss: 0.1421 - val_accuracy: 0.9797\n",
            "Epoch 94/100\n",
            "600/600 [==============================] - 2s 3ms/step - loss: 2.1611e-05 - accuracy: 1.0000 - val_loss: 0.1422 - val_accuracy: 0.9792\n",
            "Epoch 95/100\n",
            "600/600 [==============================] - 2s 3ms/step - loss: 1.8687e-05 - accuracy: 1.0000 - val_loss: 0.1436 - val_accuracy: 0.9793\n",
            "Epoch 96/100\n",
            "600/600 [==============================] - 2s 3ms/step - loss: 1.6420e-05 - accuracy: 1.0000 - val_loss: 0.1430 - val_accuracy: 0.9794\n",
            "Epoch 97/100\n",
            "600/600 [==============================] - 2s 3ms/step - loss: 1.4381e-05 - accuracy: 1.0000 - val_loss: 0.1437 - val_accuracy: 0.9799\n",
            "Epoch 98/100\n",
            "600/600 [==============================] - 2s 3ms/step - loss: 1.2434e-05 - accuracy: 1.0000 - val_loss: 0.1447 - val_accuracy: 0.9796\n",
            "Epoch 99/100\n",
            "600/600 [==============================] - 2s 3ms/step - loss: 1.0828e-05 - accuracy: 1.0000 - val_loss: 0.1457 - val_accuracy: 0.9794\n",
            "Epoch 100/100\n",
            "600/600 [==============================] - 2s 3ms/step - loss: 9.7777e-06 - accuracy: 1.0000 - val_loss: 0.1459 - val_accuracy: 0.9796\n",
            "Model: \"sequential_5\"\n",
            "_________________________________________________________________\n",
            " Layer (type)                Output Shape              Param #   \n",
            "=================================================================\n",
            " dense_7 (Dense)             (100, 128)                100480    \n",
            "                                                                 \n",
            " dense_8 (Dense)             (100, 10)                 1290      \n",
            "                                                                 \n",
            "=================================================================\n",
            "Total params: 101,770\n",
            "Trainable params: 101,770\n",
            "Non-trainable params: 0\n",
            "_________________________________________________________________\n"
          ]
        }
      ],
      "source": [
        "model = tf.keras.models.Sequential([\n",
        "    tf.keras.layers.Dense(128, activation = 'relu'),\n",
        "    tf.keras.layers.Dense(10, activation = 'softmax')])\n",
        "\n",
        "model.compile('adam',\n",
        "              'sparse_categorical_crossentropy',\n",
        "              'accuracy')\n",
        "\n",
        "model.fit(DATA0, TARGET0, batch_size = 100, epochs = 100, validation_data = (DATA1, TARGET1))\n",
        "\n",
        "model.summary()"
      ]
    },
    {
      "cell_type": "markdown",
      "metadata": {
        "id": "DJB1CEClbNVM"
      },
      "source": [
        "The final validation accuracy is only slightly higher but Adam achieved it in a much smaller number of epochs than SGD. From now on, we will always use the Adam optimizer and the relu activation function. It is impressive that such a simple two-layer network correctly classifies 100% of the training dataset. This means that the lower accuracy on the validation dataset is uniquely due to overfitting."
      ]
    },
    {
      "cell_type": "markdown",
      "metadata": {
        "id": "-IKKOhQxVdb3"
      },
      "source": [
        "**Task.** Why is there a significant overfitting here?"
      ]
    },
    {
      "cell_type": "markdown",
      "metadata": {
        "id": "GZCQVKdYVn5F"
      },
      "source": [
        "**Solution.** Because the number of model weights is significantly higher than the number of training samples. The problem is now underdetermined and gives room for excessive adjustment of the model weights to this particular training dataset."
      ]
    },
    {
      "cell_type": "markdown",
      "metadata": {
        "id": "e3luXuOdSZ3q"
      },
      "source": [
        "**Task.** Since there is overfitting caused by the already large number of model weights, it is dubious whether adding a third layer would still improve things, because it will increase the number of weights even more. Check this by adding a third layer. Adjust the layer sizes, the batch size, and the number of epochs to obtain a maximum validation accuracy."
      ]
    },
    {
      "cell_type": "markdown",
      "metadata": {
        "id": "HuiMuTrRSuWt"
      },
      "source": [
        "**Solution.** The code below gives validation accuracy higher than 0.9850, on a good day:"
      ]
    },
    {
      "cell_type": "code",
      "execution_count": 26,
      "metadata": {
        "colab": {
          "base_uri": "https://localhost:8080/"
        },
        "id": "brPLf_ZrSZTJ",
        "outputId": "7719efca-7073-42fc-b715-481e07b17dcc"
      },
      "outputs": [
        {
          "output_type": "stream",
          "name": "stdout",
          "text": [
            "Epoch 1/100\n",
            "600/600 [==============================] - 2s 3ms/step - loss: 0.2659 - accuracy: 0.9230 - val_loss: 0.1255 - val_accuracy: 0.9606\n",
            "Epoch 2/100\n",
            "600/600 [==============================] - 2s 3ms/step - loss: 0.1036 - accuracy: 0.9691 - val_loss: 0.0845 - val_accuracy: 0.9734\n",
            "Epoch 3/100\n",
            "600/600 [==============================] - 2s 3ms/step - loss: 0.0687 - accuracy: 0.9792 - val_loss: 0.0859 - val_accuracy: 0.9737\n",
            "Epoch 4/100\n",
            "600/600 [==============================] - 2s 3ms/step - loss: 0.0490 - accuracy: 0.9849 - val_loss: 0.0719 - val_accuracy: 0.9773\n",
            "Epoch 5/100\n",
            "600/600 [==============================] - 2s 3ms/step - loss: 0.0368 - accuracy: 0.9882 - val_loss: 0.0699 - val_accuracy: 0.9806\n",
            "Epoch 6/100\n",
            "600/600 [==============================] - 2s 3ms/step - loss: 0.0275 - accuracy: 0.9913 - val_loss: 0.0718 - val_accuracy: 0.9785\n",
            "Epoch 7/100\n",
            "600/600 [==============================] - 2s 3ms/step - loss: 0.0205 - accuracy: 0.9936 - val_loss: 0.0801 - val_accuracy: 0.9766\n",
            "Epoch 8/100\n",
            "600/600 [==============================] - 2s 4ms/step - loss: 0.0178 - accuracy: 0.9942 - val_loss: 0.0774 - val_accuracy: 0.9794\n",
            "Epoch 9/100\n",
            "600/600 [==============================] - 2s 3ms/step - loss: 0.0158 - accuracy: 0.9948 - val_loss: 0.0741 - val_accuracy: 0.9818\n",
            "Epoch 10/100\n",
            "600/600 [==============================] - 2s 3ms/step - loss: 0.0130 - accuracy: 0.9956 - val_loss: 0.0797 - val_accuracy: 0.9793\n",
            "Epoch 11/100\n",
            "600/600 [==============================] - 2s 3ms/step - loss: 0.0108 - accuracy: 0.9964 - val_loss: 0.0956 - val_accuracy: 0.9794\n",
            "Epoch 12/100\n",
            "600/600 [==============================] - 2s 3ms/step - loss: 0.0112 - accuracy: 0.9965 - val_loss: 0.0856 - val_accuracy: 0.9805\n",
            "Epoch 13/100\n",
            "600/600 [==============================] - 2s 3ms/step - loss: 0.0095 - accuracy: 0.9968 - val_loss: 0.0855 - val_accuracy: 0.9796\n",
            "Epoch 14/100\n",
            "600/600 [==============================] - 2s 3ms/step - loss: 0.0098 - accuracy: 0.9964 - val_loss: 0.0885 - val_accuracy: 0.9805\n",
            "Epoch 15/100\n",
            "600/600 [==============================] - 2s 3ms/step - loss: 0.0110 - accuracy: 0.9964 - val_loss: 0.0986 - val_accuracy: 0.9785\n",
            "Epoch 16/100\n",
            "600/600 [==============================] - 2s 3ms/step - loss: 0.0080 - accuracy: 0.9971 - val_loss: 0.0970 - val_accuracy: 0.9803\n",
            "Epoch 17/100\n",
            "600/600 [==============================] - 2s 3ms/step - loss: 0.0067 - accuracy: 0.9977 - val_loss: 0.0802 - val_accuracy: 0.9824\n",
            "Epoch 18/100\n",
            "600/600 [==============================] - 2s 3ms/step - loss: 0.0025 - accuracy: 0.9992 - val_loss: 0.1188 - val_accuracy: 0.9788\n",
            "Epoch 19/100\n",
            "600/600 [==============================] - 2s 3ms/step - loss: 0.0080 - accuracy: 0.9972 - val_loss: 0.1012 - val_accuracy: 0.9799\n",
            "Epoch 20/100\n",
            "600/600 [==============================] - 2s 3ms/step - loss: 0.0103 - accuracy: 0.9966 - val_loss: 0.1098 - val_accuracy: 0.9809\n",
            "Epoch 21/100\n",
            "600/600 [==============================] - 2s 3ms/step - loss: 0.0046 - accuracy: 0.9984 - val_loss: 0.1086 - val_accuracy: 0.9797\n",
            "Epoch 22/100\n",
            "600/600 [==============================] - 2s 3ms/step - loss: 0.0056 - accuracy: 0.9983 - val_loss: 0.0992 - val_accuracy: 0.9820\n",
            "Epoch 23/100\n",
            "600/600 [==============================] - 2s 3ms/step - loss: 0.0051 - accuracy: 0.9985 - val_loss: 0.1106 - val_accuracy: 0.9798\n",
            "Epoch 24/100\n",
            "600/600 [==============================] - 2s 3ms/step - loss: 0.0058 - accuracy: 0.9981 - val_loss: 0.1668 - val_accuracy: 0.9726\n",
            "Epoch 25/100\n",
            "600/600 [==============================] - 2s 3ms/step - loss: 0.0064 - accuracy: 0.9978 - val_loss: 0.1119 - val_accuracy: 0.9803\n",
            "Epoch 26/100\n",
            "600/600 [==============================] - 2s 3ms/step - loss: 0.0064 - accuracy: 0.9981 - val_loss: 0.1038 - val_accuracy: 0.9820\n",
            "Epoch 27/100\n",
            "600/600 [==============================] - 2s 3ms/step - loss: 0.0053 - accuracy: 0.9982 - val_loss: 0.1140 - val_accuracy: 0.9801\n",
            "Epoch 28/100\n",
            "600/600 [==============================] - 2s 3ms/step - loss: 0.0043 - accuracy: 0.9985 - val_loss: 0.1154 - val_accuracy: 0.9807\n",
            "Epoch 29/100\n",
            "600/600 [==============================] - 2s 3ms/step - loss: 0.0052 - accuracy: 0.9985 - val_loss: 0.1595 - val_accuracy: 0.9772\n",
            "Epoch 30/100\n",
            "600/600 [==============================] - 2s 3ms/step - loss: 0.0077 - accuracy: 0.9974 - val_loss: 0.1052 - val_accuracy: 0.9815\n",
            "Epoch 31/100\n",
            "600/600 [==============================] - 2s 3ms/step - loss: 0.0044 - accuracy: 0.9985 - val_loss: 0.1190 - val_accuracy: 0.9808\n",
            "Epoch 32/100\n",
            "600/600 [==============================] - 2s 3ms/step - loss: 0.0027 - accuracy: 0.9990 - val_loss: 0.1141 - val_accuracy: 0.9816\n",
            "Epoch 33/100\n",
            "600/600 [==============================] - 2s 3ms/step - loss: 0.0048 - accuracy: 0.9984 - val_loss: 0.1160 - val_accuracy: 0.9810\n",
            "Epoch 34/100\n",
            "600/600 [==============================] - 2s 3ms/step - loss: 0.0062 - accuracy: 0.9978 - val_loss: 0.1261 - val_accuracy: 0.9805\n",
            "Epoch 35/100\n",
            "600/600 [==============================] - 2s 3ms/step - loss: 0.0024 - accuracy: 0.9993 - val_loss: 0.1320 - val_accuracy: 0.9811\n",
            "Epoch 36/100\n",
            "600/600 [==============================] - 2s 3ms/step - loss: 0.0029 - accuracy: 0.9992 - val_loss: 0.1146 - val_accuracy: 0.9828\n",
            "Epoch 37/100\n",
            "600/600 [==============================] - 2s 3ms/step - loss: 0.0041 - accuracy: 0.9985 - val_loss: 0.1209 - val_accuracy: 0.9812\n",
            "Epoch 38/100\n",
            "600/600 [==============================] - 2s 3ms/step - loss: 0.0038 - accuracy: 0.9987 - val_loss: 0.1579 - val_accuracy: 0.9769\n",
            "Epoch 39/100\n",
            "600/600 [==============================] - 2s 3ms/step - loss: 0.0072 - accuracy: 0.9977 - val_loss: 0.1270 - val_accuracy: 0.9809\n",
            "Epoch 40/100\n",
            "600/600 [==============================] - 2s 3ms/step - loss: 0.0032 - accuracy: 0.9990 - val_loss: 0.1336 - val_accuracy: 0.9801\n",
            "Epoch 41/100\n",
            "600/600 [==============================] - 2s 3ms/step - loss: 0.0017 - accuracy: 0.9995 - val_loss: 0.1279 - val_accuracy: 0.9820\n",
            "Epoch 42/100\n",
            "600/600 [==============================] - 2s 3ms/step - loss: 0.0048 - accuracy: 0.9986 - val_loss: 0.1281 - val_accuracy: 0.9820\n",
            "Epoch 43/100\n",
            "600/600 [==============================] - 2s 4ms/step - loss: 0.0037 - accuracy: 0.9987 - val_loss: 0.1379 - val_accuracy: 0.9805\n",
            "Epoch 44/100\n",
            "600/600 [==============================] - 2s 3ms/step - loss: 0.0052 - accuracy: 0.9984 - val_loss: 0.1342 - val_accuracy: 0.9811\n",
            "Epoch 45/100\n",
            "600/600 [==============================] - 2s 3ms/step - loss: 0.0015 - accuracy: 0.9995 - val_loss: 0.1301 - val_accuracy: 0.9829\n",
            "Epoch 46/100\n",
            "600/600 [==============================] - 2s 3ms/step - loss: 0.0027 - accuracy: 0.9992 - val_loss: 0.1376 - val_accuracy: 0.9811\n",
            "Epoch 47/100\n",
            "600/600 [==============================] - 2s 3ms/step - loss: 0.0077 - accuracy: 0.9977 - val_loss: 0.1570 - val_accuracy: 0.9777\n",
            "Epoch 48/100\n",
            "600/600 [==============================] - 2s 3ms/step - loss: 0.0028 - accuracy: 0.9992 - val_loss: 0.1222 - val_accuracy: 0.9809\n",
            "Epoch 49/100\n",
            "600/600 [==============================] - 2s 3ms/step - loss: 0.0011 - accuracy: 0.9996 - val_loss: 0.1215 - val_accuracy: 0.9817\n",
            "Epoch 50/100\n",
            "600/600 [==============================] - 2s 3ms/step - loss: 0.0030 - accuracy: 0.9991 - val_loss: 0.1273 - val_accuracy: 0.9810\n",
            "Epoch 51/100\n",
            "600/600 [==============================] - 2s 3ms/step - loss: 0.0050 - accuracy: 0.9985 - val_loss: 0.1375 - val_accuracy: 0.9816\n",
            "Epoch 52/100\n",
            "600/600 [==============================] - 2s 3ms/step - loss: 0.0046 - accuracy: 0.9986 - val_loss: 0.1686 - val_accuracy: 0.9805\n",
            "Epoch 53/100\n",
            "600/600 [==============================] - 2s 3ms/step - loss: 0.0031 - accuracy: 0.9989 - val_loss: 0.1644 - val_accuracy: 0.9804\n",
            "Epoch 54/100\n",
            "600/600 [==============================] - 2s 3ms/step - loss: 0.0055 - accuracy: 0.9984 - val_loss: 0.1370 - val_accuracy: 0.9815\n",
            "Epoch 55/100\n",
            "600/600 [==============================] - 2s 3ms/step - loss: 0.0033 - accuracy: 0.9991 - val_loss: 0.1342 - val_accuracy: 0.9831\n",
            "Epoch 56/100\n",
            "600/600 [==============================] - 2s 3ms/step - loss: 0.0025 - accuracy: 0.9993 - val_loss: 0.1395 - val_accuracy: 0.9825\n",
            "Epoch 57/100\n",
            "600/600 [==============================] - 2s 3ms/step - loss: 1.3759e-04 - accuracy: 1.0000 - val_loss: 0.1378 - val_accuracy: 0.9828\n",
            "Epoch 58/100\n",
            "600/600 [==============================] - 2s 3ms/step - loss: 1.9497e-05 - accuracy: 1.0000 - val_loss: 0.1356 - val_accuracy: 0.9831\n",
            "Epoch 59/100\n",
            "600/600 [==============================] - 2s 3ms/step - loss: 9.1705e-06 - accuracy: 1.0000 - val_loss: 0.1360 - val_accuracy: 0.9832\n",
            "Epoch 60/100\n",
            "600/600 [==============================] - 2s 3ms/step - loss: 7.0241e-06 - accuracy: 1.0000 - val_loss: 0.1363 - val_accuracy: 0.9833\n",
            "Epoch 61/100\n",
            "600/600 [==============================] - 2s 3ms/step - loss: 5.5680e-06 - accuracy: 1.0000 - val_loss: 0.1367 - val_accuracy: 0.9836\n",
            "Epoch 62/100\n",
            "600/600 [==============================] - 2s 3ms/step - loss: 4.5540e-06 - accuracy: 1.0000 - val_loss: 0.1371 - val_accuracy: 0.9836\n",
            "Epoch 63/100\n",
            "600/600 [==============================] - 2s 3ms/step - loss: 3.6697e-06 - accuracy: 1.0000 - val_loss: 0.1376 - val_accuracy: 0.9837\n",
            "Epoch 64/100\n",
            "600/600 [==============================] - 2s 3ms/step - loss: 2.9583e-06 - accuracy: 1.0000 - val_loss: 0.1382 - val_accuracy: 0.9838\n",
            "Epoch 65/100\n",
            "600/600 [==============================] - 2s 3ms/step - loss: 2.3751e-06 - accuracy: 1.0000 - val_loss: 0.1390 - val_accuracy: 0.9840\n",
            "Epoch 66/100\n",
            "600/600 [==============================] - 2s 3ms/step - loss: 1.8964e-06 - accuracy: 1.0000 - val_loss: 0.1395 - val_accuracy: 0.9841\n",
            "Epoch 67/100\n",
            "600/600 [==============================] - 2s 3ms/step - loss: 1.5038e-06 - accuracy: 1.0000 - val_loss: 0.1405 - val_accuracy: 0.9843\n",
            "Epoch 68/100\n",
            "600/600 [==============================] - 2s 3ms/step - loss: 1.1949e-06 - accuracy: 1.0000 - val_loss: 0.1412 - val_accuracy: 0.9844\n",
            "Epoch 69/100\n",
            "600/600 [==============================] - 2s 3ms/step - loss: 9.4054e-07 - accuracy: 1.0000 - val_loss: 0.1421 - val_accuracy: 0.9843\n",
            "Epoch 70/100\n",
            "600/600 [==============================] - 2s 3ms/step - loss: 7.3628e-07 - accuracy: 1.0000 - val_loss: 0.1430 - val_accuracy: 0.9842\n",
            "Epoch 71/100\n",
            "600/600 [==============================] - 2s 3ms/step - loss: 5.7028e-07 - accuracy: 1.0000 - val_loss: 0.1439 - val_accuracy: 0.9843\n",
            "Epoch 72/100\n",
            "600/600 [==============================] - 2s 3ms/step - loss: 4.4595e-07 - accuracy: 1.0000 - val_loss: 0.1449 - val_accuracy: 0.9844\n",
            "Epoch 73/100\n",
            "600/600 [==============================] - 2s 3ms/step - loss: 3.4434e-07 - accuracy: 1.0000 - val_loss: 0.1462 - val_accuracy: 0.9844\n",
            "Epoch 74/100\n",
            "600/600 [==============================] - 2s 3ms/step - loss: 2.6497e-07 - accuracy: 1.0000 - val_loss: 0.1474 - val_accuracy: 0.9843\n",
            "Epoch 75/100\n",
            "600/600 [==============================] - 2s 3ms/step - loss: 2.0326e-07 - accuracy: 1.0000 - val_loss: 0.1480 - val_accuracy: 0.9845\n",
            "Epoch 76/100\n",
            "600/600 [==============================] - 2s 3ms/step - loss: 1.6129e-07 - accuracy: 1.0000 - val_loss: 0.1492 - val_accuracy: 0.9845\n",
            "Epoch 77/100\n",
            "600/600 [==============================] - 2s 3ms/step - loss: 1.2179e-07 - accuracy: 1.0000 - val_loss: 0.1503 - val_accuracy: 0.9844\n",
            "Epoch 78/100\n",
            "600/600 [==============================] - 2s 4ms/step - loss: 9.4324e-08 - accuracy: 1.0000 - val_loss: 0.1515 - val_accuracy: 0.9845\n",
            "Epoch 79/100\n",
            "600/600 [==============================] - 2s 3ms/step - loss: 7.6474e-08 - accuracy: 1.0000 - val_loss: 0.1529 - val_accuracy: 0.9846\n",
            "Epoch 80/100\n",
            "600/600 [==============================] - 2s 3ms/step - loss: 5.5637e-08 - accuracy: 1.0000 - val_loss: 0.1538 - val_accuracy: 0.9847\n",
            "Epoch 81/100\n",
            "600/600 [==============================] - 2s 3ms/step - loss: 4.3853e-08 - accuracy: 1.0000 - val_loss: 0.1547 - val_accuracy: 0.9848\n",
            "Epoch 82/100\n",
            "600/600 [==============================] - 2s 3ms/step - loss: 3.3849e-08 - accuracy: 1.0000 - val_loss: 0.1557 - val_accuracy: 0.9847\n",
            "Epoch 83/100\n",
            "600/600 [==============================] - 2s 3ms/step - loss: 2.6747e-08 - accuracy: 1.0000 - val_loss: 0.1577 - val_accuracy: 0.9846\n",
            "Epoch 84/100\n",
            "600/600 [==============================] - 2s 3ms/step - loss: 2.0832e-08 - accuracy: 1.0000 - val_loss: 0.1584 - val_accuracy: 0.9847\n",
            "Epoch 85/100\n",
            "600/600 [==============================] - 2s 3ms/step - loss: 1.6449e-08 - accuracy: 1.0000 - val_loss: 0.1596 - val_accuracy: 0.9850\n",
            "Epoch 86/100\n",
            "600/600 [==============================] - 2s 3ms/step - loss: 1.3038e-08 - accuracy: 1.0000 - val_loss: 0.1607 - val_accuracy: 0.9847\n",
            "Epoch 87/100\n",
            "600/600 [==============================] - 2s 3ms/step - loss: 1.0478e-08 - accuracy: 1.0000 - val_loss: 0.1619 - val_accuracy: 0.9846\n",
            "Epoch 88/100\n",
            "600/600 [==============================] - 2s 3ms/step - loss: 8.5016e-09 - accuracy: 1.0000 - val_loss: 0.1628 - val_accuracy: 0.9848\n",
            "Epoch 89/100\n",
            "600/600 [==============================] - 2s 3ms/step - loss: 6.9479e-09 - accuracy: 1.0000 - val_loss: 0.1639 - val_accuracy: 0.9848\n",
            "Epoch 90/100\n",
            "600/600 [==============================] - 2s 3ms/step - loss: 5.7518e-09 - accuracy: 1.0000 - val_loss: 0.1647 - val_accuracy: 0.9848\n",
            "Epoch 91/100\n",
            "600/600 [==============================] - 2s 3ms/step - loss: 4.7425e-09 - accuracy: 1.0000 - val_loss: 0.1658 - val_accuracy: 0.9850\n",
            "Epoch 92/100\n",
            "600/600 [==============================] - 2s 3ms/step - loss: 4.0293e-09 - accuracy: 1.0000 - val_loss: 0.1667 - val_accuracy: 0.9850\n",
            "Epoch 93/100\n",
            "600/600 [==============================] - 2s 3ms/step - loss: 3.4094e-09 - accuracy: 1.0000 - val_loss: 0.1673 - val_accuracy: 0.9848\n",
            "Epoch 94/100\n",
            "600/600 [==============================] - 2s 3ms/step - loss: 2.8849e-09 - accuracy: 1.0000 - val_loss: 0.1681 - val_accuracy: 0.9847\n",
            "Epoch 95/100\n",
            "600/600 [==============================] - 2s 3ms/step - loss: 2.5471e-09 - accuracy: 1.0000 - val_loss: 0.1689 - val_accuracy: 0.9851\n",
            "Epoch 96/100\n",
            "600/600 [==============================] - 2s 3ms/step - loss: 2.2133e-09 - accuracy: 1.0000 - val_loss: 0.1691 - val_accuracy: 0.9848\n",
            "Epoch 97/100\n",
            "600/600 [==============================] - 2s 3ms/step - loss: 1.9769e-09 - accuracy: 1.0000 - val_loss: 0.1697 - val_accuracy: 0.9849\n",
            "Epoch 98/100\n",
            "600/600 [==============================] - 2s 3ms/step - loss: 1.7742e-09 - accuracy: 1.0000 - val_loss: 0.1702 - val_accuracy: 0.9847\n",
            "Epoch 99/100\n",
            "600/600 [==============================] - 2s 3ms/step - loss: 1.6093e-09 - accuracy: 1.0000 - val_loss: 0.1707 - val_accuracy: 0.9849\n",
            "Epoch 100/100\n",
            "600/600 [==============================] - 2s 3ms/step - loss: 1.4484e-09 - accuracy: 1.0000 - val_loss: 0.1708 - val_accuracy: 0.9850\n",
            "Model: \"sequential_6\"\n",
            "_________________________________________________________________\n",
            " Layer (type)                Output Shape              Param #   \n",
            "=================================================================\n",
            " dense_9 (Dense)             (100, 256)                200960    \n",
            "                                                                 \n",
            " dense_10 (Dense)            (100, 64)                 16448     \n",
            "                                                                 \n",
            " dense_11 (Dense)            (100, 10)                 650       \n",
            "                                                                 \n",
            "=================================================================\n",
            "Total params: 218,058\n",
            "Trainable params: 218,058\n",
            "Non-trainable params: 0\n",
            "_________________________________________________________________\n"
          ]
        }
      ],
      "source": [
        "model = tf.keras.models.Sequential([\n",
        "    tf.keras.layers.Dense(256, activation = 'relu'),\n",
        "    tf.keras.layers.Dense(64, activation = 'relu'),\n",
        "    tf.keras.layers.Dense(10, activation = 'softmax')])\n",
        "\n",
        "model.compile('adam',\n",
        "              'sparse_categorical_crossentropy',\n",
        "              'accuracy')\n",
        "\n",
        "model.fit(DATA0, TARGET0, batch_size = 100, epochs = 100, validation_data = (DATA1, TARGET1))\n",
        "\n",
        "model.summary()"
      ]
    },
    {
      "cell_type": "markdown",
      "metadata": {
        "id": "Yd_I4gqdXR-F"
      },
      "source": [
        "Adding the third layer improved the validation accuracy only slightly. But this is still an achievement because the closer we are to 100%, the more difficult it is to gain accuracy. Note that even a slight increase in accuracy leads to a significant reduction in the error rate, which is complementary to accuracy. Here for instance, increasing the accuracy from 0.980 to 0.985 reduces the error rate from 2% to 1.5%, that is, by a factor of 4/3."
      ]
    },
    {
      "cell_type": "markdown",
      "metadata": {
        "id": "GNTzk7lVZTbh"
      },
      "source": [
        "**Task.** Check that adding a fourth dense layer does not further increase the validation accuracy."
      ]
    },
    {
      "cell_type": "markdown",
      "metadata": {
        "id": "BkARnbZre93t"
      },
      "source": [
        "**Solution.** This code trains a four-layer network and achieves the same validation accuracy as with three layers:"
      ]
    },
    {
      "cell_type": "code",
      "execution_count": 27,
      "metadata": {
        "colab": {
          "base_uri": "https://localhost:8080/"
        },
        "id": "2kTwti-scFZz",
        "outputId": "77fc78a9-832e-4f15-e921-3054432ea81f"
      },
      "outputs": [
        {
          "output_type": "stream",
          "name": "stdout",
          "text": [
            "Epoch 1/100\n",
            "600/600 [==============================] - 2s 3ms/step - loss: 0.2425 - accuracy: 0.9277 - val_loss: 0.1130 - val_accuracy: 0.9645\n",
            "Epoch 2/100\n",
            "600/600 [==============================] - 2s 3ms/step - loss: 0.0892 - accuracy: 0.9727 - val_loss: 0.0812 - val_accuracy: 0.9748\n",
            "Epoch 3/100\n",
            "600/600 [==============================] - 2s 3ms/step - loss: 0.0583 - accuracy: 0.9820 - val_loss: 0.0768 - val_accuracy: 0.9752\n",
            "Epoch 4/100\n",
            "600/600 [==============================] - 2s 3ms/step - loss: 0.0419 - accuracy: 0.9865 - val_loss: 0.0724 - val_accuracy: 0.9793\n",
            "Epoch 5/100\n",
            "600/600 [==============================] - 2s 4ms/step - loss: 0.0315 - accuracy: 0.9901 - val_loss: 0.0695 - val_accuracy: 0.9805\n",
            "Epoch 6/100\n",
            "600/600 [==============================] - 2s 3ms/step - loss: 0.0260 - accuracy: 0.9915 - val_loss: 0.0705 - val_accuracy: 0.9812\n",
            "Epoch 7/100\n",
            "600/600 [==============================] - 2s 3ms/step - loss: 0.0218 - accuracy: 0.9930 - val_loss: 0.0779 - val_accuracy: 0.9784\n",
            "Epoch 8/100\n",
            "600/600 [==============================] - 2s 3ms/step - loss: 0.0192 - accuracy: 0.9937 - val_loss: 0.0718 - val_accuracy: 0.9821\n",
            "Epoch 9/100\n",
            "600/600 [==============================] - 2s 3ms/step - loss: 0.0182 - accuracy: 0.9939 - val_loss: 0.0790 - val_accuracy: 0.9795\n",
            "Epoch 10/100\n",
            "600/600 [==============================] - 2s 3ms/step - loss: 0.0162 - accuracy: 0.9945 - val_loss: 0.0876 - val_accuracy: 0.9798\n",
            "Epoch 11/100\n",
            "600/600 [==============================] - 2s 3ms/step - loss: 0.0148 - accuracy: 0.9950 - val_loss: 0.0988 - val_accuracy: 0.9764\n",
            "Epoch 12/100\n",
            "600/600 [==============================] - 2s 3ms/step - loss: 0.0130 - accuracy: 0.9955 - val_loss: 0.0931 - val_accuracy: 0.9793\n",
            "Epoch 13/100\n",
            "600/600 [==============================] - 2s 3ms/step - loss: 0.0146 - accuracy: 0.9951 - val_loss: 0.0792 - val_accuracy: 0.9832\n",
            "Epoch 14/100\n",
            "600/600 [==============================] - 2s 3ms/step - loss: 0.0093 - accuracy: 0.9967 - val_loss: 0.0830 - val_accuracy: 0.9829\n",
            "Epoch 15/100\n",
            "600/600 [==============================] - 2s 3ms/step - loss: 0.0076 - accuracy: 0.9975 - val_loss: 0.0873 - val_accuracy: 0.9813\n",
            "Epoch 16/100\n",
            "600/600 [==============================] - 2s 3ms/step - loss: 0.0122 - accuracy: 0.9962 - val_loss: 0.0849 - val_accuracy: 0.9814\n",
            "Epoch 17/100\n",
            "600/600 [==============================] - 2s 3ms/step - loss: 0.0093 - accuracy: 0.9968 - val_loss: 0.0872 - val_accuracy: 0.9821\n",
            "Epoch 18/100\n",
            "600/600 [==============================] - 2s 3ms/step - loss: 0.0097 - accuracy: 0.9969 - val_loss: 0.0945 - val_accuracy: 0.9815\n",
            "Epoch 19/100\n",
            "600/600 [==============================] - 2s 3ms/step - loss: 0.0065 - accuracy: 0.9980 - val_loss: 0.0924 - val_accuracy: 0.9821\n",
            "Epoch 20/100\n",
            "600/600 [==============================] - 2s 3ms/step - loss: 0.0113 - accuracy: 0.9966 - val_loss: 0.0904 - val_accuracy: 0.9817\n",
            "Epoch 21/100\n",
            "600/600 [==============================] - 2s 3ms/step - loss: 0.0073 - accuracy: 0.9974 - val_loss: 0.0878 - val_accuracy: 0.9843\n",
            "Epoch 22/100\n",
            "600/600 [==============================] - 2s 3ms/step - loss: 0.0084 - accuracy: 0.9972 - val_loss: 0.0979 - val_accuracy: 0.9810\n",
            "Epoch 23/100\n",
            "600/600 [==============================] - 2s 3ms/step - loss: 0.0073 - accuracy: 0.9979 - val_loss: 0.0929 - val_accuracy: 0.9821\n",
            "Epoch 24/100\n",
            "600/600 [==============================] - 2s 3ms/step - loss: 0.0051 - accuracy: 0.9983 - val_loss: 0.1004 - val_accuracy: 0.9821\n",
            "Epoch 25/100\n",
            "600/600 [==============================] - 2s 3ms/step - loss: 0.0108 - accuracy: 0.9968 - val_loss: 0.1239 - val_accuracy: 0.9769\n",
            "Epoch 26/100\n",
            "600/600 [==============================] - 2s 3ms/step - loss: 0.0044 - accuracy: 0.9986 - val_loss: 0.1080 - val_accuracy: 0.9818\n",
            "Epoch 27/100\n",
            "600/600 [==============================] - 2s 3ms/step - loss: 0.0040 - accuracy: 0.9988 - val_loss: 0.0942 - val_accuracy: 0.9835\n",
            "Epoch 28/100\n",
            "600/600 [==============================] - 2s 3ms/step - loss: 0.0066 - accuracy: 0.9980 - val_loss: 0.1120 - val_accuracy: 0.9829\n",
            "Epoch 29/100\n",
            "600/600 [==============================] - 2s 3ms/step - loss: 0.0067 - accuracy: 0.9981 - val_loss: 0.0942 - val_accuracy: 0.9832\n",
            "Epoch 30/100\n",
            "600/600 [==============================] - 2s 3ms/step - loss: 0.0028 - accuracy: 0.9991 - val_loss: 0.1103 - val_accuracy: 0.9811\n",
            "Epoch 31/100\n",
            "600/600 [==============================] - 2s 3ms/step - loss: 0.0095 - accuracy: 0.9972 - val_loss: 0.1042 - val_accuracy: 0.9833\n",
            "Epoch 32/100\n",
            "600/600 [==============================] - 2s 3ms/step - loss: 0.0066 - accuracy: 0.9980 - val_loss: 0.0954 - val_accuracy: 0.9835\n",
            "Epoch 33/100\n",
            "600/600 [==============================] - 2s 3ms/step - loss: 0.0023 - accuracy: 0.9992 - val_loss: 0.1011 - val_accuracy: 0.9831\n",
            "Epoch 34/100\n",
            "600/600 [==============================] - 2s 3ms/step - loss: 0.0051 - accuracy: 0.9983 - val_loss: 0.1109 - val_accuracy: 0.9820\n",
            "Epoch 35/100\n",
            "600/600 [==============================] - 2s 3ms/step - loss: 0.0055 - accuracy: 0.9984 - val_loss: 0.1155 - val_accuracy: 0.9830\n",
            "Epoch 36/100\n",
            "600/600 [==============================] - 2s 3ms/step - loss: 0.0062 - accuracy: 0.9980 - val_loss: 0.1133 - val_accuracy: 0.9797\n",
            "Epoch 37/100\n",
            "600/600 [==============================] - 2s 3ms/step - loss: 0.0061 - accuracy: 0.9984 - val_loss: 0.1055 - val_accuracy: 0.9835\n",
            "Epoch 38/100\n",
            "600/600 [==============================] - 2s 3ms/step - loss: 0.0014 - accuracy: 0.9998 - val_loss: 0.1148 - val_accuracy: 0.9827\n",
            "Epoch 39/100\n",
            "600/600 [==============================] - 3s 4ms/step - loss: 0.0075 - accuracy: 0.9979 - val_loss: 0.1093 - val_accuracy: 0.9834\n",
            "Epoch 40/100\n",
            "600/600 [==============================] - 2s 3ms/step - loss: 0.0051 - accuracy: 0.9984 - val_loss: 0.1054 - val_accuracy: 0.9825\n",
            "Epoch 41/100\n",
            "600/600 [==============================] - 2s 3ms/step - loss: 0.0031 - accuracy: 0.9991 - val_loss: 0.1142 - val_accuracy: 0.9807\n",
            "Epoch 42/100\n",
            "600/600 [==============================] - 2s 3ms/step - loss: 0.0060 - accuracy: 0.9984 - val_loss: 0.1488 - val_accuracy: 0.9789\n",
            "Epoch 43/100\n",
            "600/600 [==============================] - 2s 3ms/step - loss: 0.0037 - accuracy: 0.9990 - val_loss: 0.1259 - val_accuracy: 0.9816\n",
            "Epoch 44/100\n",
            "600/600 [==============================] - 2s 3ms/step - loss: 0.0050 - accuracy: 0.9985 - val_loss: 0.1230 - val_accuracy: 0.9817\n",
            "Epoch 45/100\n",
            "600/600 [==============================] - 2s 3ms/step - loss: 0.0069 - accuracy: 0.9980 - val_loss: 0.1188 - val_accuracy: 0.9828\n",
            "Epoch 46/100\n",
            "600/600 [==============================] - 2s 3ms/step - loss: 0.0022 - accuracy: 0.9995 - val_loss: 0.1160 - val_accuracy: 0.9830\n",
            "Epoch 47/100\n",
            "600/600 [==============================] - 2s 3ms/step - loss: 0.0029 - accuracy: 0.9991 - val_loss: 0.1132 - val_accuracy: 0.9852\n",
            "Epoch 48/100\n",
            "600/600 [==============================] - 2s 3ms/step - loss: 0.0045 - accuracy: 0.9986 - val_loss: 0.1191 - val_accuracy: 0.9821\n",
            "Epoch 49/100\n",
            "600/600 [==============================] - 2s 3ms/step - loss: 0.0040 - accuracy: 0.9989 - val_loss: 0.1265 - val_accuracy: 0.9816\n",
            "Epoch 50/100\n",
            "600/600 [==============================] - 2s 3ms/step - loss: 0.0021 - accuracy: 0.9994 - val_loss: 0.1053 - val_accuracy: 0.9852\n",
            "Epoch 51/100\n",
            "600/600 [==============================] - 2s 3ms/step - loss: 0.0058 - accuracy: 0.9985 - val_loss: 0.1104 - val_accuracy: 0.9835\n",
            "Epoch 52/100\n",
            "600/600 [==============================] - 2s 3ms/step - loss: 0.0031 - accuracy: 0.9992 - val_loss: 0.1142 - val_accuracy: 0.9840\n",
            "Epoch 53/100\n",
            "600/600 [==============================] - 2s 3ms/step - loss: 0.0016 - accuracy: 0.9995 - val_loss: 0.1065 - val_accuracy: 0.9845\n",
            "Epoch 54/100\n",
            "600/600 [==============================] - 2s 3ms/step - loss: 2.8679e-04 - accuracy: 0.9999 - val_loss: 0.1263 - val_accuracy: 0.9828\n",
            "Epoch 55/100\n",
            "600/600 [==============================] - 2s 3ms/step - loss: 0.0043 - accuracy: 0.9989 - val_loss: 0.1583 - val_accuracy: 0.9791\n",
            "Epoch 56/100\n",
            "600/600 [==============================] - 2s 3ms/step - loss: 0.0100 - accuracy: 0.9974 - val_loss: 0.1186 - val_accuracy: 0.9840\n",
            "Epoch 57/100\n",
            "600/600 [==============================] - 2s 3ms/step - loss: 0.0025 - accuracy: 0.9993 - val_loss: 0.1170 - val_accuracy: 0.9837\n",
            "Epoch 58/100\n",
            "600/600 [==============================] - 2s 3ms/step - loss: 0.0045 - accuracy: 0.9991 - val_loss: 0.1124 - val_accuracy: 0.9817\n",
            "Epoch 59/100\n",
            "600/600 [==============================] - 2s 3ms/step - loss: 0.0012 - accuracy: 0.9997 - val_loss: 0.1153 - val_accuracy: 0.9838\n",
            "Epoch 60/100\n",
            "600/600 [==============================] - 2s 3ms/step - loss: 0.0045 - accuracy: 0.9989 - val_loss: 0.1571 - val_accuracy: 0.9789\n",
            "Epoch 61/100\n",
            "600/600 [==============================] - 2s 3ms/step - loss: 0.0045 - accuracy: 0.9988 - val_loss: 0.1246 - val_accuracy: 0.9825\n",
            "Epoch 62/100\n",
            "600/600 [==============================] - 2s 3ms/step - loss: 0.0050 - accuracy: 0.9988 - val_loss: 0.1316 - val_accuracy: 0.9811\n",
            "Epoch 63/100\n",
            "600/600 [==============================] - 2s 3ms/step - loss: 0.0031 - accuracy: 0.9991 - val_loss: 0.1156 - val_accuracy: 0.9840\n",
            "Epoch 64/100\n",
            "600/600 [==============================] - 2s 3ms/step - loss: 0.0020 - accuracy: 0.9995 - val_loss: 0.1121 - val_accuracy: 0.9843\n",
            "Epoch 65/100\n",
            "600/600 [==============================] - 2s 3ms/step - loss: 2.4340e-04 - accuracy: 1.0000 - val_loss: 0.1113 - val_accuracy: 0.9850\n",
            "Epoch 66/100\n",
            "600/600 [==============================] - 2s 3ms/step - loss: 1.3395e-05 - accuracy: 1.0000 - val_loss: 0.1127 - val_accuracy: 0.9849\n",
            "Epoch 67/100\n",
            "600/600 [==============================] - 2s 3ms/step - loss: 8.0464e-06 - accuracy: 1.0000 - val_loss: 0.1139 - val_accuracy: 0.9850\n",
            "Epoch 68/100\n",
            "600/600 [==============================] - 2s 3ms/step - loss: 5.9786e-06 - accuracy: 1.0000 - val_loss: 0.1151 - val_accuracy: 0.9851\n",
            "Epoch 69/100\n",
            "600/600 [==============================] - 2s 3ms/step - loss: 4.5381e-06 - accuracy: 1.0000 - val_loss: 0.1164 - val_accuracy: 0.9851\n",
            "Epoch 70/100\n",
            "600/600 [==============================] - 2s 3ms/step - loss: 3.4373e-06 - accuracy: 1.0000 - val_loss: 0.1176 - val_accuracy: 0.9851\n",
            "Epoch 71/100\n",
            "600/600 [==============================] - 2s 3ms/step - loss: 2.5786e-06 - accuracy: 1.0000 - val_loss: 0.1190 - val_accuracy: 0.9851\n",
            "Epoch 72/100\n",
            "600/600 [==============================] - 3s 4ms/step - loss: 1.7234e-06 - accuracy: 1.0000 - val_loss: 0.1244 - val_accuracy: 0.9854\n",
            "Epoch 73/100\n",
            "600/600 [==============================] - 2s 3ms/step - loss: 9.2258e-07 - accuracy: 1.0000 - val_loss: 0.1306 - val_accuracy: 0.9852\n",
            "Epoch 74/100\n",
            "600/600 [==============================] - 2s 3ms/step - loss: 4.9080e-07 - accuracy: 1.0000 - val_loss: 0.1370 - val_accuracy: 0.9851\n",
            "Epoch 75/100\n",
            "600/600 [==============================] - 2s 3ms/step - loss: 2.9251e-07 - accuracy: 1.0000 - val_loss: 0.1426 - val_accuracy: 0.9854\n",
            "Epoch 76/100\n",
            "600/600 [==============================] - 2s 3ms/step - loss: 2.0689e-07 - accuracy: 1.0000 - val_loss: 0.1456 - val_accuracy: 0.9854\n",
            "Epoch 77/100\n",
            "600/600 [==============================] - 2s 3ms/step - loss: 1.4613e-07 - accuracy: 1.0000 - val_loss: 0.1488 - val_accuracy: 0.9857\n",
            "Epoch 78/100\n",
            "600/600 [==============================] - 2s 3ms/step - loss: 1.0293e-07 - accuracy: 1.0000 - val_loss: 0.1527 - val_accuracy: 0.9854\n",
            "Epoch 79/100\n",
            "600/600 [==============================] - 2s 3ms/step - loss: 7.9188e-08 - accuracy: 1.0000 - val_loss: 0.1541 - val_accuracy: 0.9856\n",
            "Epoch 80/100\n",
            "600/600 [==============================] - 2s 3ms/step - loss: 5.8068e-08 - accuracy: 1.0000 - val_loss: 0.1571 - val_accuracy: 0.9854\n",
            "Epoch 81/100\n",
            "600/600 [==============================] - 2s 3ms/step - loss: 4.3821e-08 - accuracy: 1.0000 - val_loss: 0.1600 - val_accuracy: 0.9853\n",
            "Epoch 82/100\n",
            "600/600 [==============================] - 2s 3ms/step - loss: 3.4507e-08 - accuracy: 1.0000 - val_loss: 0.1620 - val_accuracy: 0.9852\n",
            "Epoch 83/100\n",
            "600/600 [==============================] - 2s 3ms/step - loss: 2.6329e-08 - accuracy: 1.0000 - val_loss: 0.1643 - val_accuracy: 0.9852\n",
            "Epoch 84/100\n",
            "600/600 [==============================] - 2s 3ms/step - loss: 2.0689e-08 - accuracy: 1.0000 - val_loss: 0.1654 - val_accuracy: 0.9851\n",
            "Epoch 85/100\n",
            "600/600 [==============================] - 2s 3ms/step - loss: 1.5773e-08 - accuracy: 1.0000 - val_loss: 0.1674 - val_accuracy: 0.9854\n",
            "Epoch 86/100\n",
            "600/600 [==============================] - 2s 3ms/step - loss: 1.2165e-08 - accuracy: 1.0000 - val_loss: 0.1690 - val_accuracy: 0.9851\n",
            "Epoch 87/100\n",
            "600/600 [==============================] - 2s 3ms/step - loss: 9.4990e-09 - accuracy: 1.0000 - val_loss: 0.1706 - val_accuracy: 0.9854\n",
            "Epoch 88/100\n",
            "600/600 [==============================] - 2s 3ms/step - loss: 7.4923e-09 - accuracy: 1.0000 - val_loss: 0.1725 - val_accuracy: 0.9853\n",
            "Epoch 89/100\n",
            "600/600 [==============================] - 2s 3ms/step - loss: 5.8035e-09 - accuracy: 1.0000 - val_loss: 0.1740 - val_accuracy: 0.9853\n",
            "Epoch 90/100\n",
            "600/600 [==============================] - 2s 3ms/step - loss: 4.7187e-09 - accuracy: 1.0000 - val_loss: 0.1755 - val_accuracy: 0.9856\n",
            "Epoch 91/100\n",
            "600/600 [==============================] - 2s 3ms/step - loss: 3.6657e-09 - accuracy: 1.0000 - val_loss: 0.1768 - val_accuracy: 0.9855\n",
            "Epoch 92/100\n",
            "600/600 [==============================] - 2s 3ms/step - loss: 2.9484e-09 - accuracy: 1.0000 - val_loss: 0.1780 - val_accuracy: 0.9857\n",
            "Epoch 93/100\n",
            "600/600 [==============================] - 2s 3ms/step - loss: 2.3623e-09 - accuracy: 1.0000 - val_loss: 0.1798 - val_accuracy: 0.9857\n",
            "Epoch 94/100\n",
            "600/600 [==============================] - 2s 3ms/step - loss: 1.8756e-09 - accuracy: 1.0000 - val_loss: 0.1812 - val_accuracy: 0.9856\n",
            "Epoch 95/100\n",
            "600/600 [==============================] - 2s 3ms/step - loss: 1.5259e-09 - accuracy: 1.0000 - val_loss: 0.1823 - val_accuracy: 0.9856\n",
            "Epoch 96/100\n",
            "600/600 [==============================] - 2s 3ms/step - loss: 1.2477e-09 - accuracy: 1.0000 - val_loss: 0.1835 - val_accuracy: 0.9856\n",
            "Epoch 97/100\n",
            "600/600 [==============================] - 2s 3ms/step - loss: 1.0014e-09 - accuracy: 1.0000 - val_loss: 0.1844 - val_accuracy: 0.9857\n",
            "Epoch 98/100\n",
            "600/600 [==============================] - 2s 3ms/step - loss: 8.3049e-10 - accuracy: 1.0000 - val_loss: 0.1852 - val_accuracy: 0.9857\n",
            "Epoch 99/100\n",
            "600/600 [==============================] - 2s 3ms/step - loss: 6.9737e-10 - accuracy: 1.0000 - val_loss: 0.1861 - val_accuracy: 0.9857\n",
            "Epoch 100/100\n",
            "600/600 [==============================] - 2s 3ms/step - loss: 5.8214e-10 - accuracy: 1.0000 - val_loss: 0.1869 - val_accuracy: 0.9857\n",
            "Model: \"sequential_7\"\n",
            "_________________________________________________________________\n",
            " Layer (type)                Output Shape              Param #   \n",
            "=================================================================\n",
            " dense_12 (Dense)            (100, 512)                401920    \n",
            "                                                                 \n",
            " dense_13 (Dense)            (100, 128)                65664     \n",
            "                                                                 \n",
            " dense_14 (Dense)            (100, 32)                 4128      \n",
            "                                                                 \n",
            " dense_15 (Dense)            (100, 10)                 330       \n",
            "                                                                 \n",
            "=================================================================\n",
            "Total params: 472,042\n",
            "Trainable params: 472,042\n",
            "Non-trainable params: 0\n",
            "_________________________________________________________________\n"
          ]
        }
      ],
      "source": [
        "model = tf.keras.models.Sequential([\n",
        "    tf.keras.layers.Dense(512, activation = 'relu'),\n",
        "    tf.keras.layers.Dense(128, activation = 'relu'),\n",
        "    tf.keras.layers.Dense(32, activation = 'relu'),\n",
        "    tf.keras.layers.Dense(10, activation = 'softmax')])\n",
        "\n",
        "model.compile('adam',\n",
        "              'sparse_categorical_crossentropy',\n",
        "              'accuracy')\n",
        "\n",
        "model.fit(DATA0, TARGET0, batch_size = 100, epochs = 100, validation_data = (DATA1, TARGET1))\n",
        "\n",
        "model.summary()"
      ]
    },
    {
      "cell_type": "markdown",
      "metadata": {
        "id": "krJXXCN2dX6o"
      },
      "source": [
        "Since adding more dense layers does not further increase the validation accuracy, we must resort to other means. There are dedicated techniques to reduce overfitting, but it seems more interesting to introduce convolutional layers. First, load the data once again:"
      ]
    },
    {
      "cell_type": "code",
      "execution_count": 28,
      "metadata": {
        "id": "KsDGyBvpd6bQ"
      },
      "outputs": [],
      "source": [
        "(DATA0, TARGET0), (DATA1, TARGET1) = tf.keras.datasets.mnist.load_data()"
      ]
    },
    {
      "cell_type": "markdown",
      "metadata": {
        "id": "oLchy6nYecYj"
      },
      "source": [
        "Convolutional layers require the data to be four-dimensional, with the subsequent dimensions being the batch size, the image height, the image width, and the number of channels. The number of channels equals three for RGB images and one for grayscale images. We deal with grayscale images but still the fourth dimension needs to be added with the size of one:"
      ]
    },
    {
      "cell_type": "code",
      "execution_count": 29,
      "metadata": {
        "id": "SZk8Ozh3fb1w"
      },
      "outputs": [],
      "source": [
        "DATA0 = DATA0[:, :, :, None].astype('float32') / 255.\n",
        "DATA1 = DATA1[:, :, :, None].astype('float32') / 255."
      ]
    },
    {
      "cell_type": "markdown",
      "metadata": {
        "id": "-quzqVAAhQ1q"
      },
      "source": [
        "Construct a convolutional layer, pass some data through it, convert the output to a numpy array, and print its shape:"
      ]
    },
    {
      "cell_type": "code",
      "execution_count": 30,
      "metadata": {
        "colab": {
          "base_uri": "https://localhost:8080/"
        },
        "id": "oFnkW125hQH7",
        "outputId": "0e8d676f-40eb-4804-ead5-b7c14c030a95"
      },
      "outputs": [
        {
          "output_type": "stream",
          "name": "stdout",
          "text": [
            "(10000, 24, 24, 8)\n"
          ]
        }
      ],
      "source": [
        "layer = tf.keras.layers.Conv2D(8, 5, activation = 'relu')\n",
        "\n",
        "OUTPUT1 = layer(DATA1).numpy()\n",
        "print(OUTPUT1.shape)"
      ]
    },
    {
      "cell_type": "markdown",
      "metadata": {
        "id": "1zd28wIYjCjW"
      },
      "source": [
        "This sample convolutional layer has 8 output channels, which means that it produces an output with 8 channels. It also has a filter of size 5, which means that every output pixel is a linear combination of input pixels in a 5x5 square. Consequenntly, the layer reduces the image size by 4 in each dimension, from 28 to 24 in this case. In order to perform image classification, the output from the convolutional layer must be flattened and passed to a dense layer with softmax activation:"
      ]
    },
    {
      "cell_type": "code",
      "execution_count": 31,
      "metadata": {
        "colab": {
          "base_uri": "https://localhost:8080/"
        },
        "id": "b1AyQ4vTlIQ6",
        "outputId": "8c147688-ed8a-4408-d059-420c5225d76d",
        "scrolled": false
      },
      "outputs": [
        {
          "output_type": "stream",
          "name": "stdout",
          "text": [
            "Epoch 1/100\n",
            "600/600 [==============================] - 4s 4ms/step - loss: 0.2984 - accuracy: 0.9196 - val_loss: 0.1156 - val_accuracy: 0.9671\n",
            "Epoch 2/100\n",
            "600/600 [==============================] - 2s 3ms/step - loss: 0.0998 - accuracy: 0.9710 - val_loss: 0.0792 - val_accuracy: 0.9767\n",
            "Epoch 3/100\n",
            "600/600 [==============================] - 2s 3ms/step - loss: 0.0710 - accuracy: 0.9790 - val_loss: 0.0634 - val_accuracy: 0.9806\n",
            "Epoch 4/100\n",
            "600/600 [==============================] - 2s 3ms/step - loss: 0.0578 - accuracy: 0.9825 - val_loss: 0.0655 - val_accuracy: 0.9797\n",
            "Epoch 5/100\n",
            "600/600 [==============================] - 2s 3ms/step - loss: 0.0496 - accuracy: 0.9849 - val_loss: 0.0597 - val_accuracy: 0.9813\n",
            "Epoch 6/100\n",
            "600/600 [==============================] - 2s 3ms/step - loss: 0.0427 - accuracy: 0.9870 - val_loss: 0.0529 - val_accuracy: 0.9853\n",
            "Epoch 7/100\n",
            "600/600 [==============================] - 2s 3ms/step - loss: 0.0373 - accuracy: 0.9887 - val_loss: 0.0563 - val_accuracy: 0.9837\n",
            "Epoch 8/100\n",
            "600/600 [==============================] - 2s 3ms/step - loss: 0.0336 - accuracy: 0.9895 - val_loss: 0.0514 - val_accuracy: 0.9835\n",
            "Epoch 9/100\n",
            "600/600 [==============================] - 2s 3ms/step - loss: 0.0299 - accuracy: 0.9909 - val_loss: 0.0552 - val_accuracy: 0.9841\n",
            "Epoch 10/100\n",
            "600/600 [==============================] - 2s 3ms/step - loss: 0.0266 - accuracy: 0.9920 - val_loss: 0.0534 - val_accuracy: 0.9855\n",
            "Epoch 11/100\n",
            "600/600 [==============================] - 2s 3ms/step - loss: 0.0235 - accuracy: 0.9930 - val_loss: 0.0579 - val_accuracy: 0.9850\n",
            "Epoch 12/100\n",
            "600/600 [==============================] - 2s 3ms/step - loss: 0.0212 - accuracy: 0.9937 - val_loss: 0.0555 - val_accuracy: 0.9852\n",
            "Epoch 13/100\n",
            "600/600 [==============================] - 2s 3ms/step - loss: 0.0193 - accuracy: 0.9938 - val_loss: 0.0631 - val_accuracy: 0.9840\n",
            "Epoch 14/100\n",
            "600/600 [==============================] - 2s 3ms/step - loss: 0.0181 - accuracy: 0.9943 - val_loss: 0.0589 - val_accuracy: 0.9847\n",
            "Epoch 15/100\n",
            "600/600 [==============================] - 2s 3ms/step - loss: 0.0161 - accuracy: 0.9949 - val_loss: 0.0665 - val_accuracy: 0.9827\n",
            "Epoch 16/100\n",
            "600/600 [==============================] - 2s 3ms/step - loss: 0.0146 - accuracy: 0.9956 - val_loss: 0.0645 - val_accuracy: 0.9840\n",
            "Epoch 17/100\n",
            "600/600 [==============================] - 2s 3ms/step - loss: 0.0128 - accuracy: 0.9963 - val_loss: 0.0682 - val_accuracy: 0.9834\n",
            "Epoch 18/100\n",
            "600/600 [==============================] - 2s 3ms/step - loss: 0.0113 - accuracy: 0.9966 - val_loss: 0.0682 - val_accuracy: 0.9852\n",
            "Epoch 19/100\n",
            "600/600 [==============================] - 2s 3ms/step - loss: 0.0102 - accuracy: 0.9969 - val_loss: 0.0720 - val_accuracy: 0.9835\n",
            "Epoch 20/100\n",
            "600/600 [==============================] - 2s 3ms/step - loss: 0.0100 - accuracy: 0.9974 - val_loss: 0.0725 - val_accuracy: 0.9832\n",
            "Epoch 21/100\n",
            "600/600 [==============================] - 2s 3ms/step - loss: 0.0087 - accuracy: 0.9973 - val_loss: 0.0767 - val_accuracy: 0.9842\n",
            "Epoch 22/100\n",
            "600/600 [==============================] - 3s 4ms/step - loss: 0.0085 - accuracy: 0.9974 - val_loss: 0.0726 - val_accuracy: 0.9841\n",
            "Epoch 23/100\n",
            "600/600 [==============================] - 2s 3ms/step - loss: 0.0069 - accuracy: 0.9980 - val_loss: 0.0816 - val_accuracy: 0.9832\n",
            "Epoch 24/100\n",
            "600/600 [==============================] - 2s 3ms/step - loss: 0.0065 - accuracy: 0.9982 - val_loss: 0.0782 - val_accuracy: 0.9838\n",
            "Epoch 25/100\n",
            "600/600 [==============================] - 2s 3ms/step - loss: 0.0060 - accuracy: 0.9983 - val_loss: 0.0784 - val_accuracy: 0.9825\n",
            "Epoch 26/100\n",
            "600/600 [==============================] - 2s 3ms/step - loss: 0.0052 - accuracy: 0.9985 - val_loss: 0.0839 - val_accuracy: 0.9835\n",
            "Epoch 27/100\n",
            "600/600 [==============================] - 2s 3ms/step - loss: 0.0055 - accuracy: 0.9985 - val_loss: 0.0878 - val_accuracy: 0.9823\n",
            "Epoch 28/100\n",
            "600/600 [==============================] - 2s 3ms/step - loss: 0.0047 - accuracy: 0.9988 - val_loss: 0.0842 - val_accuracy: 0.9834\n",
            "Epoch 29/100\n",
            "600/600 [==============================] - 2s 3ms/step - loss: 0.0039 - accuracy: 0.9990 - val_loss: 0.0859 - val_accuracy: 0.9826\n",
            "Epoch 30/100\n",
            "600/600 [==============================] - 2s 3ms/step - loss: 0.0041 - accuracy: 0.9987 - val_loss: 0.0950 - val_accuracy: 0.9812\n",
            "Epoch 31/100\n",
            "600/600 [==============================] - 2s 3ms/step - loss: 0.0040 - accuracy: 0.9990 - val_loss: 0.0935 - val_accuracy: 0.9827\n",
            "Epoch 32/100\n",
            "600/600 [==============================] - 2s 3ms/step - loss: 0.0040 - accuracy: 0.9989 - val_loss: 0.0927 - val_accuracy: 0.9832\n",
            "Epoch 33/100\n",
            "600/600 [==============================] - 2s 3ms/step - loss: 0.0055 - accuracy: 0.9983 - val_loss: 0.0911 - val_accuracy: 0.9828\n",
            "Epoch 34/100\n",
            "600/600 [==============================] - 2s 3ms/step - loss: 0.0018 - accuracy: 0.9997 - val_loss: 0.0890 - val_accuracy: 0.9844\n",
            "Epoch 35/100\n",
            "600/600 [==============================] - 2s 3ms/step - loss: 0.0012 - accuracy: 0.9998 - val_loss: 0.0983 - val_accuracy: 0.9841\n",
            "Epoch 36/100\n",
            "600/600 [==============================] - 2s 3ms/step - loss: 0.0016 - accuracy: 0.9997 - val_loss: 0.1024 - val_accuracy: 0.9836\n",
            "Epoch 37/100\n",
            "600/600 [==============================] - 2s 3ms/step - loss: 0.0062 - accuracy: 0.9977 - val_loss: 0.0978 - val_accuracy: 0.9824\n",
            "Epoch 38/100\n",
            "600/600 [==============================] - 2s 3ms/step - loss: 0.0022 - accuracy: 0.9995 - val_loss: 0.1023 - val_accuracy: 0.9833\n",
            "Epoch 39/100\n",
            "600/600 [==============================] - 2s 3ms/step - loss: 0.0011 - accuracy: 0.9999 - val_loss: 0.0969 - val_accuracy: 0.9846\n",
            "Epoch 40/100\n",
            "600/600 [==============================] - 2s 3ms/step - loss: 7.5164e-04 - accuracy: 0.9999 - val_loss: 0.0961 - val_accuracy: 0.9843\n",
            "Epoch 41/100\n",
            "600/600 [==============================] - 2s 3ms/step - loss: 0.0068 - accuracy: 0.9976 - val_loss: 0.1029 - val_accuracy: 0.9830\n",
            "Epoch 42/100\n",
            "600/600 [==============================] - 2s 3ms/step - loss: 0.0020 - accuracy: 0.9994 - val_loss: 0.1039 - val_accuracy: 0.9831\n",
            "Epoch 43/100\n",
            "600/600 [==============================] - 2s 3ms/step - loss: 7.8837e-04 - accuracy: 0.9999 - val_loss: 0.1040 - val_accuracy: 0.9838\n",
            "Epoch 44/100\n",
            "600/600 [==============================] - 2s 3ms/step - loss: 3.9775e-04 - accuracy: 1.0000 - val_loss: 0.1018 - val_accuracy: 0.9838\n",
            "Epoch 45/100\n",
            "600/600 [==============================] - 2s 3ms/step - loss: 2.9552e-04 - accuracy: 1.0000 - val_loss: 0.1061 - val_accuracy: 0.9838\n",
            "Epoch 46/100\n",
            "600/600 [==============================] - 2s 3ms/step - loss: 4.0299e-04 - accuracy: 1.0000 - val_loss: 0.1112 - val_accuracy: 0.9834\n",
            "Epoch 47/100\n",
            "600/600 [==============================] - 2s 3ms/step - loss: 0.0092 - accuracy: 0.9965 - val_loss: 0.1147 - val_accuracy: 0.9822\n",
            "Epoch 48/100\n",
            "600/600 [==============================] - 2s 3ms/step - loss: 0.0015 - accuracy: 0.9997 - val_loss: 0.1087 - val_accuracy: 0.9839\n",
            "Epoch 49/100\n",
            "600/600 [==============================] - 2s 3ms/step - loss: 4.6747e-04 - accuracy: 1.0000 - val_loss: 0.1034 - val_accuracy: 0.9831\n",
            "Epoch 50/100\n",
            "600/600 [==============================] - 2s 3ms/step - loss: 3.1571e-04 - accuracy: 1.0000 - val_loss: 0.1079 - val_accuracy: 0.9838\n",
            "Epoch 51/100\n",
            "600/600 [==============================] - 2s 3ms/step - loss: 2.3517e-04 - accuracy: 1.0000 - val_loss: 0.1071 - val_accuracy: 0.9840\n",
            "Epoch 52/100\n",
            "600/600 [==============================] - 2s 3ms/step - loss: 1.7875e-04 - accuracy: 1.0000 - val_loss: 0.1074 - val_accuracy: 0.9846\n",
            "Epoch 53/100\n",
            "600/600 [==============================] - 2s 3ms/step - loss: 0.0029 - accuracy: 0.9991 - val_loss: 0.1471 - val_accuracy: 0.9784\n",
            "Epoch 54/100\n",
            "600/600 [==============================] - 2s 3ms/step - loss: 0.0061 - accuracy: 0.9979 - val_loss: 0.1213 - val_accuracy: 0.9828\n",
            "Epoch 55/100\n",
            "600/600 [==============================] - 2s 4ms/step - loss: 0.0014 - accuracy: 0.9997 - val_loss: 0.1116 - val_accuracy: 0.9843\n",
            "Epoch 56/100\n",
            "600/600 [==============================] - 2s 4ms/step - loss: 2.7691e-04 - accuracy: 1.0000 - val_loss: 0.1108 - val_accuracy: 0.9845\n",
            "Epoch 57/100\n",
            "600/600 [==============================] - 2s 3ms/step - loss: 1.8009e-04 - accuracy: 1.0000 - val_loss: 0.1103 - val_accuracy: 0.9846\n",
            "Epoch 58/100\n",
            "600/600 [==============================] - 2s 3ms/step - loss: 1.4413e-04 - accuracy: 1.0000 - val_loss: 0.1115 - val_accuracy: 0.9849\n",
            "Epoch 59/100\n",
            "600/600 [==============================] - 2s 3ms/step - loss: 1.2971e-04 - accuracy: 1.0000 - val_loss: 0.1117 - val_accuracy: 0.9846\n",
            "Epoch 60/100\n",
            "600/600 [==============================] - 2s 3ms/step - loss: 1.2475e-04 - accuracy: 1.0000 - val_loss: 0.1127 - val_accuracy: 0.9849\n",
            "Epoch 61/100\n",
            "600/600 [==============================] - 2s 3ms/step - loss: 0.0046 - accuracy: 0.9985 - val_loss: 0.1298 - val_accuracy: 0.9817\n",
            "Epoch 62/100\n",
            "600/600 [==============================] - 2s 3ms/step - loss: 0.0052 - accuracy: 0.9981 - val_loss: 0.1141 - val_accuracy: 0.9838\n",
            "Epoch 63/100\n",
            "600/600 [==============================] - 2s 3ms/step - loss: 0.0010 - accuracy: 0.9998 - val_loss: 0.1141 - val_accuracy: 0.9837\n",
            "Epoch 64/100\n",
            "600/600 [==============================] - 2s 3ms/step - loss: 2.2836e-04 - accuracy: 1.0000 - val_loss: 0.1143 - val_accuracy: 0.9842\n",
            "Epoch 65/100\n",
            "600/600 [==============================] - 2s 3ms/step - loss: 1.2990e-04 - accuracy: 1.0000 - val_loss: 0.1153 - val_accuracy: 0.9847\n",
            "Epoch 66/100\n",
            "600/600 [==============================] - 2s 3ms/step - loss: 1.0633e-04 - accuracy: 1.0000 - val_loss: 0.1161 - val_accuracy: 0.9846\n",
            "Epoch 67/100\n",
            "600/600 [==============================] - 2s 3ms/step - loss: 9.5615e-05 - accuracy: 1.0000 - val_loss: 0.1164 - val_accuracy: 0.9847\n",
            "Epoch 68/100\n",
            "600/600 [==============================] - 2s 3ms/step - loss: 8.1224e-05 - accuracy: 1.0000 - val_loss: 0.1189 - val_accuracy: 0.9846\n",
            "Epoch 69/100\n",
            "600/600 [==============================] - 2s 3ms/step - loss: 7.4816e-05 - accuracy: 1.0000 - val_loss: 0.1212 - val_accuracy: 0.9845\n",
            "Epoch 70/100\n",
            "600/600 [==============================] - 2s 3ms/step - loss: 9.9483e-05 - accuracy: 1.0000 - val_loss: 0.1351 - val_accuracy: 0.9816\n",
            "Epoch 71/100\n",
            "600/600 [==============================] - 2s 3ms/step - loss: 0.0092 - accuracy: 0.9973 - val_loss: 0.1289 - val_accuracy: 0.9834\n",
            "Epoch 72/100\n",
            "600/600 [==============================] - 2s 3ms/step - loss: 0.0011 - accuracy: 0.9996 - val_loss: 0.1266 - val_accuracy: 0.9831\n",
            "Epoch 73/100\n",
            "600/600 [==============================] - 2s 3ms/step - loss: 4.1126e-04 - accuracy: 1.0000 - val_loss: 0.1234 - val_accuracy: 0.9840\n",
            "Epoch 74/100\n",
            "600/600 [==============================] - 2s 3ms/step - loss: 1.1254e-04 - accuracy: 1.0000 - val_loss: 0.1244 - val_accuracy: 0.9846\n",
            "Epoch 75/100\n",
            "600/600 [==============================] - 2s 3ms/step - loss: 8.6921e-05 - accuracy: 1.0000 - val_loss: 0.1251 - val_accuracy: 0.9850\n",
            "Epoch 76/100\n",
            "600/600 [==============================] - 2s 3ms/step - loss: 7.0960e-05 - accuracy: 1.0000 - val_loss: 0.1253 - val_accuracy: 0.9846\n",
            "Epoch 77/100\n",
            "600/600 [==============================] - 2s 3ms/step - loss: 6.2041e-05 - accuracy: 1.0000 - val_loss: 0.1258 - val_accuracy: 0.9847\n",
            "Epoch 78/100\n",
            "600/600 [==============================] - 2s 3ms/step - loss: 5.4248e-05 - accuracy: 1.0000 - val_loss: 0.1276 - val_accuracy: 0.9844\n",
            "Epoch 79/100\n",
            "600/600 [==============================] - 2s 3ms/step - loss: 0.0029 - accuracy: 0.9992 - val_loss: 0.1506 - val_accuracy: 0.9816\n",
            "Epoch 80/100\n",
            "600/600 [==============================] - 2s 3ms/step - loss: 0.0046 - accuracy: 0.9986 - val_loss: 0.1412 - val_accuracy: 0.9817\n",
            "Epoch 81/100\n",
            "600/600 [==============================] - 2s 3ms/step - loss: 8.7480e-04 - accuracy: 0.9997 - val_loss: 0.1271 - val_accuracy: 0.9846\n",
            "Epoch 82/100\n",
            "600/600 [==============================] - 2s 3ms/step - loss: 2.0448e-04 - accuracy: 1.0000 - val_loss: 0.1268 - val_accuracy: 0.9847\n",
            "Epoch 83/100\n",
            "600/600 [==============================] - 2s 3ms/step - loss: 8.8975e-05 - accuracy: 1.0000 - val_loss: 0.1289 - val_accuracy: 0.9847\n",
            "Epoch 84/100\n",
            "600/600 [==============================] - 2s 3ms/step - loss: 6.5653e-05 - accuracy: 1.0000 - val_loss: 0.1290 - val_accuracy: 0.9848\n",
            "Epoch 85/100\n",
            "600/600 [==============================] - 2s 3ms/step - loss: 5.5818e-05 - accuracy: 1.0000 - val_loss: 0.1302 - val_accuracy: 0.9848\n",
            "Epoch 86/100\n",
            "600/600 [==============================] - 2s 3ms/step - loss: 4.9710e-05 - accuracy: 1.0000 - val_loss: 0.1307 - val_accuracy: 0.9850\n",
            "Epoch 87/100\n",
            "600/600 [==============================] - 2s 3ms/step - loss: 4.3389e-05 - accuracy: 1.0000 - val_loss: 0.1319 - val_accuracy: 0.9851\n",
            "Epoch 88/100\n",
            "600/600 [==============================] - 2s 3ms/step - loss: 3.9564e-05 - accuracy: 1.0000 - val_loss: 0.1334 - val_accuracy: 0.9844\n",
            "Epoch 89/100\n",
            "600/600 [==============================] - 3s 4ms/step - loss: 3.5074e-05 - accuracy: 1.0000 - val_loss: 0.1361 - val_accuracy: 0.9846\n",
            "Epoch 90/100\n",
            "600/600 [==============================] - 2s 3ms/step - loss: 3.5893e-05 - accuracy: 1.0000 - val_loss: 0.1383 - val_accuracy: 0.9841\n",
            "Epoch 91/100\n",
            "600/600 [==============================] - 2s 3ms/step - loss: 0.0084 - accuracy: 0.9973 - val_loss: 0.1467 - val_accuracy: 0.9823\n",
            "Epoch 92/100\n",
            "600/600 [==============================] - 2s 3ms/step - loss: 9.9258e-04 - accuracy: 0.9997 - val_loss: 0.1367 - val_accuracy: 0.9828\n",
            "Epoch 93/100\n",
            "600/600 [==============================] - 2s 3ms/step - loss: 1.5583e-04 - accuracy: 1.0000 - val_loss: 0.1361 - val_accuracy: 0.9841\n",
            "Epoch 94/100\n",
            "600/600 [==============================] - 2s 3ms/step - loss: 7.0470e-05 - accuracy: 1.0000 - val_loss: 0.1360 - val_accuracy: 0.9846\n",
            "Epoch 95/100\n",
            "600/600 [==============================] - 2s 3ms/step - loss: 5.3797e-05 - accuracy: 1.0000 - val_loss: 0.1368 - val_accuracy: 0.9844\n",
            "Epoch 96/100\n",
            "600/600 [==============================] - 2s 3ms/step - loss: 4.4760e-05 - accuracy: 1.0000 - val_loss: 0.1364 - val_accuracy: 0.9844\n",
            "Epoch 97/100\n",
            "600/600 [==============================] - 2s 3ms/step - loss: 3.8488e-05 - accuracy: 1.0000 - val_loss: 0.1384 - val_accuracy: 0.9840\n",
            "Epoch 98/100\n",
            "600/600 [==============================] - 2s 3ms/step - loss: 3.3494e-05 - accuracy: 1.0000 - val_loss: 0.1389 - val_accuracy: 0.9845\n",
            "Epoch 99/100\n",
            "600/600 [==============================] - 2s 3ms/step - loss: 2.9610e-05 - accuracy: 1.0000 - val_loss: 0.1397 - val_accuracy: 0.9845\n",
            "Epoch 100/100\n",
            "600/600 [==============================] - 2s 3ms/step - loss: 2.5687e-05 - accuracy: 1.0000 - val_loss: 0.1410 - val_accuracy: 0.9845\n",
            "Model: \"sequential_8\"\n",
            "_________________________________________________________________\n",
            " Layer (type)                Output Shape              Param #   \n",
            "=================================================================\n",
            " conv2d_1 (Conv2D)           (100, 24, 24, 8)          208       \n",
            "                                                                 \n",
            " flatten (Flatten)           (100, 4608)               0         \n",
            "                                                                 \n",
            " dense_16 (Dense)            (100, 10)                 46090     \n",
            "                                                                 \n",
            "=================================================================\n",
            "Total params: 46,298\n",
            "Trainable params: 46,298\n",
            "Non-trainable params: 0\n",
            "_________________________________________________________________\n"
          ]
        }
      ],
      "source": [
        "model = tf.keras.models.Sequential([\n",
        "    tf.keras.layers.Conv2D(8, 5, activation = 'relu'),\n",
        "    tf.keras.layers.Flatten(),\n",
        "    tf.keras.layers.Dense(10, activation = 'softmax')])\n",
        "\n",
        "model.compile('adam',\n",
        "              'sparse_categorical_crossentropy',\n",
        "              'accuracy')\n",
        "\n",
        "model.fit(DATA0, TARGET0, batch_size = 100, epochs = 100, validation_data = (DATA1, TARGET1))\n",
        "\n",
        "model.summary()"
      ]
    },
    {
      "cell_type": "markdown",
      "metadata": {
        "id": "vkwPiC7dy4f2"
      },
      "source": [
        "**Task.** Why does the covolutional layer have 208 weights?"
      ]
    },
    {
      "cell_type": "markdown",
      "metadata": {
        "id": "IHEztzcpzHTb"
      },
      "source": [
        "**Solution.** The output in each channel is produced by a 5x5 filter which has 5 * 5 = 25 weights. There are 8 channels, so 8 * 25 = 200 weights. A bias is added for each output channel, so there are 200 + 8 = 208 weights altogether."
      ]
    },
    {
      "cell_type": "markdown",
      "metadata": {
        "id": "m740T4u1z-C6"
      },
      "source": [
        "**Task.** Why does the total number of weights equal 46 298?"
      ]
    },
    {
      "cell_type": "markdown",
      "metadata": {
        "id": "LZFF0MAX0Tt6"
      },
      "source": [
        "**Solution.** The convolutional layer yields 8 channels of 24x24 pixels each, so it has 8 * 24 * 24 = 4 608 outputs. The dense layer has 4 608 inputs and 10 outputs, so 4 608 * 10 + 10 = 46 090 weights. In total, there are 46 090 + 208 = 46 298 weights."
      ]
    },
    {
      "cell_type": "markdown",
      "metadata": {
        "id": "XJxOnkUEowSc"
      },
      "source": [
        "This two-layer model with 46 298 weights is almost as good the three-layer dense model with 218 058 weights! This is partly because convolutional layers have very little weights, so they are less prone to overfitting than dense layers. Convolutional networks frequently use pooling layers that reduce the spatial image size twice in each direction by retaining only the pixel with maximum activation from each 2x2 square. Pooling acts independently in each channel. Add pooling after the convolutional layer:"
      ]
    },
    {
      "cell_type": "code",
      "execution_count": 32,
      "metadata": {
        "colab": {
          "base_uri": "https://localhost:8080/"
        },
        "id": "cFm3ng9Ds3NE",
        "outputId": "5e0a3d3b-885e-4fbf-faba-0569b57bdb44"
      },
      "outputs": [
        {
          "output_type": "stream",
          "name": "stdout",
          "text": [
            "Epoch 1/100\n",
            "600/600 [==============================] - 2s 3ms/step - loss: 0.4065 - accuracy: 0.8903 - val_loss: 0.1824 - val_accuracy: 0.9477\n",
            "Epoch 2/100\n",
            "600/600 [==============================] - 2s 3ms/step - loss: 0.1615 - accuracy: 0.9539 - val_loss: 0.1201 - val_accuracy: 0.9645\n",
            "Epoch 3/100\n",
            "600/600 [==============================] - 2s 3ms/step - loss: 0.1142 - accuracy: 0.9677 - val_loss: 0.0958 - val_accuracy: 0.9712\n",
            "Epoch 4/100\n",
            "600/600 [==============================] - 2s 3ms/step - loss: 0.0939 - accuracy: 0.9722 - val_loss: 0.0816 - val_accuracy: 0.9760\n",
            "Epoch 5/100\n",
            "600/600 [==============================] - 2s 3ms/step - loss: 0.0816 - accuracy: 0.9758 - val_loss: 0.0713 - val_accuracy: 0.9784\n",
            "Epoch 6/100\n",
            "600/600 [==============================] - 2s 3ms/step - loss: 0.0726 - accuracy: 0.9786 - val_loss: 0.0686 - val_accuracy: 0.9793\n",
            "Epoch 7/100\n",
            "600/600 [==============================] - 2s 3ms/step - loss: 0.0647 - accuracy: 0.9808 - val_loss: 0.0614 - val_accuracy: 0.9811\n",
            "Epoch 8/100\n",
            "600/600 [==============================] - 2s 3ms/step - loss: 0.0593 - accuracy: 0.9828 - val_loss: 0.0584 - val_accuracy: 0.9820\n",
            "Epoch 9/100\n",
            "600/600 [==============================] - 2s 3ms/step - loss: 0.0553 - accuracy: 0.9837 - val_loss: 0.0626 - val_accuracy: 0.9808\n",
            "Epoch 10/100\n",
            "600/600 [==============================] - 2s 3ms/step - loss: 0.0510 - accuracy: 0.9850 - val_loss: 0.0581 - val_accuracy: 0.9814\n",
            "Epoch 11/100\n",
            "600/600 [==============================] - 2s 3ms/step - loss: 0.0482 - accuracy: 0.9853 - val_loss: 0.0533 - val_accuracy: 0.9834\n",
            "Epoch 12/100\n",
            "600/600 [==============================] - 2s 3ms/step - loss: 0.0437 - accuracy: 0.9872 - val_loss: 0.0527 - val_accuracy: 0.9835\n",
            "Epoch 13/100\n",
            "600/600 [==============================] - 2s 3ms/step - loss: 0.0427 - accuracy: 0.9868 - val_loss: 0.0573 - val_accuracy: 0.9827\n",
            "Epoch 14/100\n",
            "600/600 [==============================] - 2s 3ms/step - loss: 0.0402 - accuracy: 0.9880 - val_loss: 0.0492 - val_accuracy: 0.9839\n",
            "Epoch 15/100\n",
            "600/600 [==============================] - 2s 3ms/step - loss: 0.0372 - accuracy: 0.9885 - val_loss: 0.0490 - val_accuracy: 0.9846\n",
            "Epoch 16/100\n",
            "600/600 [==============================] - 2s 3ms/step - loss: 0.0351 - accuracy: 0.9892 - val_loss: 0.0508 - val_accuracy: 0.9839\n",
            "Epoch 17/100\n",
            "600/600 [==============================] - 2s 3ms/step - loss: 0.0338 - accuracy: 0.9898 - val_loss: 0.0563 - val_accuracy: 0.9836\n",
            "Epoch 18/100\n",
            "600/600 [==============================] - 2s 3ms/step - loss: 0.0324 - accuracy: 0.9902 - val_loss: 0.0495 - val_accuracy: 0.9844\n",
            "Epoch 19/100\n",
            "600/600 [==============================] - 2s 3ms/step - loss: 0.0298 - accuracy: 0.9911 - val_loss: 0.0520 - val_accuracy: 0.9842\n",
            "Epoch 20/100\n",
            "600/600 [==============================] - 2s 3ms/step - loss: 0.0289 - accuracy: 0.9912 - val_loss: 0.0502 - val_accuracy: 0.9837\n",
            "Epoch 21/100\n",
            "600/600 [==============================] - 2s 3ms/step - loss: 0.0277 - accuracy: 0.9916 - val_loss: 0.0490 - val_accuracy: 0.9841\n",
            "Epoch 22/100\n",
            "600/600 [==============================] - 2s 3ms/step - loss: 0.0265 - accuracy: 0.9919 - val_loss: 0.0499 - val_accuracy: 0.9851\n",
            "Epoch 23/100\n",
            "600/600 [==============================] - 2s 3ms/step - loss: 0.0250 - accuracy: 0.9927 - val_loss: 0.0537 - val_accuracy: 0.9839\n",
            "Epoch 24/100\n",
            "600/600 [==============================] - 2s 3ms/step - loss: 0.0243 - accuracy: 0.9927 - val_loss: 0.0544 - val_accuracy: 0.9839\n",
            "Epoch 25/100\n",
            "600/600 [==============================] - 2s 4ms/step - loss: 0.0225 - accuracy: 0.9935 - val_loss: 0.0543 - val_accuracy: 0.9829\n",
            "Epoch 26/100\n",
            "600/600 [==============================] - 2s 3ms/step - loss: 0.0218 - accuracy: 0.9936 - val_loss: 0.0529 - val_accuracy: 0.9841\n",
            "Epoch 27/100\n",
            "600/600 [==============================] - 2s 3ms/step - loss: 0.0210 - accuracy: 0.9938 - val_loss: 0.0519 - val_accuracy: 0.9854\n",
            "Epoch 28/100\n",
            "600/600 [==============================] - 2s 3ms/step - loss: 0.0198 - accuracy: 0.9941 - val_loss: 0.0567 - val_accuracy: 0.9841\n",
            "Epoch 29/100\n",
            "600/600 [==============================] - 2s 3ms/step - loss: 0.0203 - accuracy: 0.9939 - val_loss: 0.0548 - val_accuracy: 0.9842\n",
            "Epoch 30/100\n",
            "600/600 [==============================] - 2s 3ms/step - loss: 0.0182 - accuracy: 0.9947 - val_loss: 0.0609 - val_accuracy: 0.9826\n",
            "Epoch 31/100\n",
            "600/600 [==============================] - 2s 3ms/step - loss: 0.0185 - accuracy: 0.9945 - val_loss: 0.0554 - val_accuracy: 0.9841\n",
            "Epoch 32/100\n",
            "600/600 [==============================] - 2s 3ms/step - loss: 0.0174 - accuracy: 0.9951 - val_loss: 0.0583 - val_accuracy: 0.9839\n",
            "Epoch 33/100\n",
            "600/600 [==============================] - 2s 3ms/step - loss: 0.0170 - accuracy: 0.9950 - val_loss: 0.0601 - val_accuracy: 0.9836\n",
            "Epoch 34/100\n",
            "600/600 [==============================] - 2s 3ms/step - loss: 0.0157 - accuracy: 0.9954 - val_loss: 0.0562 - val_accuracy: 0.9851\n",
            "Epoch 35/100\n",
            "600/600 [==============================] - 2s 3ms/step - loss: 0.0154 - accuracy: 0.9954 - val_loss: 0.0592 - val_accuracy: 0.9841\n",
            "Epoch 36/100\n",
            "600/600 [==============================] - 2s 3ms/step - loss: 0.0145 - accuracy: 0.9957 - val_loss: 0.0599 - val_accuracy: 0.9841\n",
            "Epoch 37/100\n",
            "600/600 [==============================] - 2s 3ms/step - loss: 0.0141 - accuracy: 0.9958 - val_loss: 0.0604 - val_accuracy: 0.9834\n",
            "Epoch 38/100\n",
            "600/600 [==============================] - 2s 3ms/step - loss: 0.0135 - accuracy: 0.9962 - val_loss: 0.0625 - val_accuracy: 0.9828\n",
            "Epoch 39/100\n",
            "600/600 [==============================] - 2s 3ms/step - loss: 0.0137 - accuracy: 0.9961 - val_loss: 0.0638 - val_accuracy: 0.9839\n",
            "Epoch 40/100\n",
            "600/600 [==============================] - 2s 3ms/step - loss: 0.0124 - accuracy: 0.9966 - val_loss: 0.0649 - val_accuracy: 0.9836\n",
            "Epoch 41/100\n",
            "600/600 [==============================] - 2s 3ms/step - loss: 0.0121 - accuracy: 0.9967 - val_loss: 0.0622 - val_accuracy: 0.9836\n",
            "Epoch 42/100\n",
            "600/600 [==============================] - 2s 3ms/step - loss: 0.0118 - accuracy: 0.9967 - val_loss: 0.0677 - val_accuracy: 0.9826\n",
            "Epoch 43/100\n",
            "600/600 [==============================] - 2s 3ms/step - loss: 0.0115 - accuracy: 0.9967 - val_loss: 0.0635 - val_accuracy: 0.9840\n",
            "Epoch 44/100\n",
            "600/600 [==============================] - 2s 3ms/step - loss: 0.0101 - accuracy: 0.9973 - val_loss: 0.0628 - val_accuracy: 0.9840\n",
            "Epoch 45/100\n",
            "600/600 [==============================] - 2s 3ms/step - loss: 0.0108 - accuracy: 0.9972 - val_loss: 0.0684 - val_accuracy: 0.9840\n",
            "Epoch 46/100\n",
            "600/600 [==============================] - 2s 3ms/step - loss: 0.0103 - accuracy: 0.9970 - val_loss: 0.0736 - val_accuracy: 0.9829\n",
            "Epoch 47/100\n",
            "600/600 [==============================] - 2s 3ms/step - loss: 0.0099 - accuracy: 0.9972 - val_loss: 0.0660 - val_accuracy: 0.9851\n",
            "Epoch 48/100\n",
            "600/600 [==============================] - 2s 3ms/step - loss: 0.0091 - accuracy: 0.9974 - val_loss: 0.0770 - val_accuracy: 0.9825\n",
            "Epoch 49/100\n",
            "600/600 [==============================] - 2s 3ms/step - loss: 0.0091 - accuracy: 0.9974 - val_loss: 0.0712 - val_accuracy: 0.9839\n",
            "Epoch 50/100\n",
            "600/600 [==============================] - 2s 3ms/step - loss: 0.0092 - accuracy: 0.9975 - val_loss: 0.0704 - val_accuracy: 0.9846\n",
            "Epoch 51/100\n",
            "600/600 [==============================] - 2s 3ms/step - loss: 0.0085 - accuracy: 0.9976 - val_loss: 0.0767 - val_accuracy: 0.9829\n",
            "Epoch 52/100\n",
            "600/600 [==============================] - 2s 3ms/step - loss: 0.0082 - accuracy: 0.9976 - val_loss: 0.0746 - val_accuracy: 0.9837\n",
            "Epoch 53/100\n",
            "600/600 [==============================] - 2s 3ms/step - loss: 0.0075 - accuracy: 0.9981 - val_loss: 0.0729 - val_accuracy: 0.9848\n",
            "Epoch 54/100\n",
            "600/600 [==============================] - 2s 3ms/step - loss: 0.0079 - accuracy: 0.9978 - val_loss: 0.0731 - val_accuracy: 0.9837\n",
            "Epoch 55/100\n",
            "600/600 [==============================] - 2s 3ms/step - loss: 0.0066 - accuracy: 0.9983 - val_loss: 0.0804 - val_accuracy: 0.9828\n",
            "Epoch 56/100\n",
            "600/600 [==============================] - 2s 3ms/step - loss: 0.0075 - accuracy: 0.9978 - val_loss: 0.0761 - val_accuracy: 0.9840\n",
            "Epoch 57/100\n",
            "600/600 [==============================] - 2s 3ms/step - loss: 0.0072 - accuracy: 0.9979 - val_loss: 0.0812 - val_accuracy: 0.9825\n",
            "Epoch 58/100\n",
            "600/600 [==============================] - 2s 3ms/step - loss: 0.0067 - accuracy: 0.9982 - val_loss: 0.0765 - val_accuracy: 0.9838\n",
            "Epoch 59/100\n",
            "600/600 [==============================] - 2s 4ms/step - loss: 0.0062 - accuracy: 0.9984 - val_loss: 0.0785 - val_accuracy: 0.9847\n",
            "Epoch 60/100\n",
            "600/600 [==============================] - 2s 3ms/step - loss: 0.0061 - accuracy: 0.9982 - val_loss: 0.0776 - val_accuracy: 0.9838\n",
            "Epoch 61/100\n",
            "600/600 [==============================] - 2s 3ms/step - loss: 0.0067 - accuracy: 0.9980 - val_loss: 0.0787 - val_accuracy: 0.9838\n",
            "Epoch 62/100\n",
            "600/600 [==============================] - 2s 3ms/step - loss: 0.0054 - accuracy: 0.9986 - val_loss: 0.0829 - val_accuracy: 0.9837\n",
            "Epoch 63/100\n",
            "600/600 [==============================] - 2s 3ms/step - loss: 0.0055 - accuracy: 0.9985 - val_loss: 0.0819 - val_accuracy: 0.9841\n",
            "Epoch 64/100\n",
            "600/600 [==============================] - 2s 3ms/step - loss: 0.0057 - accuracy: 0.9985 - val_loss: 0.0805 - val_accuracy: 0.9850\n",
            "Epoch 65/100\n",
            "600/600 [==============================] - 2s 3ms/step - loss: 0.0052 - accuracy: 0.9987 - val_loss: 0.0844 - val_accuracy: 0.9837\n",
            "Epoch 66/100\n",
            "600/600 [==============================] - 2s 3ms/step - loss: 0.0048 - accuracy: 0.9987 - val_loss: 0.0881 - val_accuracy: 0.9835\n",
            "Epoch 67/100\n",
            "600/600 [==============================] - 2s 3ms/step - loss: 0.0045 - accuracy: 0.9990 - val_loss: 0.0855 - val_accuracy: 0.9847\n",
            "Epoch 68/100\n",
            "600/600 [==============================] - 2s 3ms/step - loss: 0.0045 - accuracy: 0.9989 - val_loss: 0.0876 - val_accuracy: 0.9838\n",
            "Epoch 69/100\n",
            "600/600 [==============================] - 2s 3ms/step - loss: 0.0057 - accuracy: 0.9984 - val_loss: 0.0850 - val_accuracy: 0.9842\n",
            "Epoch 70/100\n",
            "600/600 [==============================] - 2s 3ms/step - loss: 0.0044 - accuracy: 0.9989 - val_loss: 0.0880 - val_accuracy: 0.9841\n",
            "Epoch 71/100\n",
            "600/600 [==============================] - 2s 3ms/step - loss: 0.0045 - accuracy: 0.9990 - val_loss: 0.0853 - val_accuracy: 0.9844\n",
            "Epoch 72/100\n",
            "600/600 [==============================] - 2s 3ms/step - loss: 0.0038 - accuracy: 0.9992 - val_loss: 0.0921 - val_accuracy: 0.9837\n",
            "Epoch 73/100\n",
            "600/600 [==============================] - 2s 3ms/step - loss: 0.0040 - accuracy: 0.9990 - val_loss: 0.0882 - val_accuracy: 0.9840\n",
            "Epoch 74/100\n",
            "600/600 [==============================] - 2s 3ms/step - loss: 0.0046 - accuracy: 0.9987 - val_loss: 0.0950 - val_accuracy: 0.9839\n",
            "Epoch 75/100\n",
            "600/600 [==============================] - 2s 3ms/step - loss: 0.0044 - accuracy: 0.9987 - val_loss: 0.0948 - val_accuracy: 0.9837\n",
            "Epoch 76/100\n",
            "600/600 [==============================] - 2s 3ms/step - loss: 0.0032 - accuracy: 0.9992 - val_loss: 0.0911 - val_accuracy: 0.9846\n",
            "Epoch 77/100\n",
            "600/600 [==============================] - 2s 3ms/step - loss: 0.0034 - accuracy: 0.9992 - val_loss: 0.0979 - val_accuracy: 0.9824\n",
            "Epoch 78/100\n",
            "600/600 [==============================] - 2s 3ms/step - loss: 0.0033 - accuracy: 0.9992 - val_loss: 0.0961 - val_accuracy: 0.9833\n",
            "Epoch 79/100\n",
            "600/600 [==============================] - 2s 3ms/step - loss: 0.0036 - accuracy: 0.9991 - val_loss: 0.0918 - val_accuracy: 0.9841\n",
            "Epoch 80/100\n",
            "600/600 [==============================] - 2s 3ms/step - loss: 0.0032 - accuracy: 0.9992 - val_loss: 0.0950 - val_accuracy: 0.9842\n",
            "Epoch 81/100\n",
            "600/600 [==============================] - 2s 3ms/step - loss: 0.0036 - accuracy: 0.9991 - val_loss: 0.0899 - val_accuracy: 0.9849\n",
            "Epoch 82/100\n",
            "600/600 [==============================] - 2s 3ms/step - loss: 0.0029 - accuracy: 0.9993 - val_loss: 0.0967 - val_accuracy: 0.9836\n",
            "Epoch 83/100\n",
            "600/600 [==============================] - 2s 3ms/step - loss: 0.0030 - accuracy: 0.9993 - val_loss: 0.0961 - val_accuracy: 0.9841\n",
            "Epoch 84/100\n",
            "600/600 [==============================] - 2s 3ms/step - loss: 0.0036 - accuracy: 0.9988 - val_loss: 0.0974 - val_accuracy: 0.9835\n",
            "Epoch 85/100\n",
            "600/600 [==============================] - 2s 3ms/step - loss: 0.0027 - accuracy: 0.9993 - val_loss: 0.0998 - val_accuracy: 0.9833\n",
            "Epoch 86/100\n",
            "600/600 [==============================] - 2s 3ms/step - loss: 0.0027 - accuracy: 0.9994 - val_loss: 0.1003 - val_accuracy: 0.9840\n",
            "Epoch 87/100\n",
            "600/600 [==============================] - 2s 3ms/step - loss: 0.0024 - accuracy: 0.9994 - val_loss: 0.0980 - val_accuracy: 0.9845\n",
            "Epoch 88/100\n",
            "600/600 [==============================] - 2s 3ms/step - loss: 0.0024 - accuracy: 0.9996 - val_loss: 0.1005 - val_accuracy: 0.9836\n",
            "Epoch 89/100\n",
            "600/600 [==============================] - 2s 3ms/step - loss: 0.0028 - accuracy: 0.9993 - val_loss: 0.1028 - val_accuracy: 0.9843\n",
            "Epoch 90/100\n",
            "600/600 [==============================] - 2s 3ms/step - loss: 0.0022 - accuracy: 0.9996 - val_loss: 0.1022 - val_accuracy: 0.9829\n",
            "Epoch 91/100\n",
            "600/600 [==============================] - 2s 3ms/step - loss: 0.0026 - accuracy: 0.9995 - val_loss: 0.1031 - val_accuracy: 0.9832\n",
            "Epoch 92/100\n",
            "600/600 [==============================] - 2s 3ms/step - loss: 0.0039 - accuracy: 0.9990 - val_loss: 0.1028 - val_accuracy: 0.9831\n",
            "Epoch 93/100\n",
            "600/600 [==============================] - 2s 4ms/step - loss: 0.0024 - accuracy: 0.9994 - val_loss: 0.1039 - val_accuracy: 0.9841\n",
            "Epoch 94/100\n",
            "600/600 [==============================] - 2s 3ms/step - loss: 0.0016 - accuracy: 0.9997 - val_loss: 0.1079 - val_accuracy: 0.9838\n",
            "Epoch 95/100\n",
            "600/600 [==============================] - 2s 3ms/step - loss: 0.0019 - accuracy: 0.9996 - val_loss: 0.1100 - val_accuracy: 0.9824\n",
            "Epoch 96/100\n",
            "600/600 [==============================] - 2s 3ms/step - loss: 0.0017 - accuracy: 0.9997 - val_loss: 0.1041 - val_accuracy: 0.9844\n",
            "Epoch 97/100\n",
            "600/600 [==============================] - 2s 3ms/step - loss: 0.0041 - accuracy: 0.9985 - val_loss: 0.1116 - val_accuracy: 0.9827\n",
            "Epoch 98/100\n",
            "600/600 [==============================] - 2s 3ms/step - loss: 0.0017 - accuracy: 0.9997 - val_loss: 0.1053 - val_accuracy: 0.9845\n",
            "Epoch 99/100\n",
            "600/600 [==============================] - 2s 3ms/step - loss: 9.0388e-04 - accuracy: 1.0000 - val_loss: 0.1067 - val_accuracy: 0.9843\n",
            "Epoch 100/100\n",
            "600/600 [==============================] - 2s 3ms/step - loss: 0.0011 - accuracy: 0.9998 - val_loss: 0.1060 - val_accuracy: 0.9840\n",
            "Model: \"sequential_9\"\n",
            "_________________________________________________________________\n",
            " Layer (type)                Output Shape              Param #   \n",
            "=================================================================\n",
            " conv2d_2 (Conv2D)           (100, 24, 24, 8)          208       \n",
            "                                                                 \n",
            " max_pooling2d (MaxPooling2D  (100, 12, 12, 8)         0         \n",
            " )                                                               \n",
            "                                                                 \n",
            " flatten_1 (Flatten)         (100, 1152)               0         \n",
            "                                                                 \n",
            " dense_17 (Dense)            (100, 10)                 11530     \n",
            "                                                                 \n",
            "=================================================================\n",
            "Total params: 11,738\n",
            "Trainable params: 11,738\n",
            "Non-trainable params: 0\n",
            "_________________________________________________________________\n"
          ]
        }
      ],
      "source": [
        "model = tf.keras.models.Sequential([\n",
        "    tf.keras.layers.Conv2D(8, 5, activation = 'relu'),\n",
        "    tf.keras.layers.MaxPool2D(),\n",
        "    tf.keras.layers.Flatten(),\n",
        "    tf.keras.layers.Dense(10, activation = 'softmax')])\n",
        "\n",
        "model.compile('adam',\n",
        "              'sparse_categorical_crossentropy',\n",
        "              'accuracy')\n",
        "\n",
        "model.fit(DATA0, TARGET0, batch_size = 100, epochs = 100, validation_data = (DATA1, TARGET1))\n",
        "\n",
        "model.summary()"
      ]
    },
    {
      "cell_type": "markdown",
      "metadata": {
        "id": "sBiXolyC3WUp"
      },
      "source": [
        "**Task.** Examine the total number of weights in this network."
      ]
    },
    {
      "cell_type": "markdown",
      "metadata": {
        "id": "f-eiB4VU3rrB"
      },
      "source": [
        "**Solution.** The pooling layer reduces the number of inputs to the dense layer four times, which reduces the number of its weights almost four times as well. Since the dense layer contributes to the total number of weights much more than the convolutional layer, pooling reduces their total number almost four times. This makes the whole network less susceptible to overfitting."
      ]
    },
    {
      "cell_type": "markdown",
      "metadata": {
        "id": "NokxCnEkvpzg"
      },
      "source": [
        "Pooling inevitably looses some information, so the current network has worse validation accuracy, but only a bit worse. Convolutional networks are often built of pairs of convolutional and pooling layers. Add another such pair:"
      ]
    },
    {
      "cell_type": "code",
      "execution_count": 33,
      "metadata": {
        "colab": {
          "base_uri": "https://localhost:8080/"
        },
        "id": "blh3oaDOA5vD",
        "outputId": "7540a6d3-6e96-4ef8-b22f-4737e8f8e766"
      },
      "outputs": [
        {
          "output_type": "stream",
          "name": "stdout",
          "text": [
            "Epoch 1/100\n",
            "600/600 [==============================] - 3s 4ms/step - loss: 0.3666 - accuracy: 0.8991 - val_loss: 0.1195 - val_accuracy: 0.9633\n",
            "Epoch 2/100\n",
            "600/600 [==============================] - 2s 4ms/step - loss: 0.1101 - accuracy: 0.9670 - val_loss: 0.0815 - val_accuracy: 0.9744\n",
            "Epoch 3/100\n",
            "600/600 [==============================] - 2s 3ms/step - loss: 0.0836 - accuracy: 0.9753 - val_loss: 0.0683 - val_accuracy: 0.9792\n",
            "Epoch 4/100\n",
            "600/600 [==============================] - 2s 3ms/step - loss: 0.0671 - accuracy: 0.9798 - val_loss: 0.0540 - val_accuracy: 0.9839\n",
            "Epoch 5/100\n",
            "600/600 [==============================] - 2s 4ms/step - loss: 0.0573 - accuracy: 0.9832 - val_loss: 0.0449 - val_accuracy: 0.9861\n",
            "Epoch 6/100\n",
            "600/600 [==============================] - 2s 4ms/step - loss: 0.0510 - accuracy: 0.9844 - val_loss: 0.0430 - val_accuracy: 0.9861\n",
            "Epoch 7/100\n",
            "600/600 [==============================] - 2s 4ms/step - loss: 0.0459 - accuracy: 0.9860 - val_loss: 0.0390 - val_accuracy: 0.9877\n",
            "Epoch 8/100\n",
            "600/600 [==============================] - 2s 4ms/step - loss: 0.0403 - accuracy: 0.9881 - val_loss: 0.0407 - val_accuracy: 0.9870\n",
            "Epoch 9/100\n",
            "600/600 [==============================] - 2s 3ms/step - loss: 0.0368 - accuracy: 0.9889 - val_loss: 0.0389 - val_accuracy: 0.9880\n",
            "Epoch 10/100\n",
            "600/600 [==============================] - 2s 4ms/step - loss: 0.0339 - accuracy: 0.9897 - val_loss: 0.0339 - val_accuracy: 0.9891\n",
            "Epoch 11/100\n",
            "600/600 [==============================] - 2s 3ms/step - loss: 0.0309 - accuracy: 0.9906 - val_loss: 0.0372 - val_accuracy: 0.9875\n",
            "Epoch 12/100\n",
            "600/600 [==============================] - 2s 3ms/step - loss: 0.0295 - accuracy: 0.9907 - val_loss: 0.0374 - val_accuracy: 0.9879\n",
            "Epoch 13/100\n",
            "600/600 [==============================] - 2s 4ms/step - loss: 0.0263 - accuracy: 0.9921 - val_loss: 0.0376 - val_accuracy: 0.9883\n",
            "Epoch 14/100\n",
            "600/600 [==============================] - 2s 4ms/step - loss: 0.0252 - accuracy: 0.9920 - val_loss: 0.0386 - val_accuracy: 0.9878\n",
            "Epoch 15/100\n",
            "600/600 [==============================] - 2s 4ms/step - loss: 0.0225 - accuracy: 0.9926 - val_loss: 0.0386 - val_accuracy: 0.9880\n",
            "Epoch 16/100\n",
            "600/600 [==============================] - 2s 4ms/step - loss: 0.0218 - accuracy: 0.9930 - val_loss: 0.0331 - val_accuracy: 0.9897\n",
            "Epoch 17/100\n",
            "600/600 [==============================] - 2s 4ms/step - loss: 0.0206 - accuracy: 0.9934 - val_loss: 0.0346 - val_accuracy: 0.9888\n",
            "Epoch 18/100\n",
            "600/600 [==============================] - 2s 3ms/step - loss: 0.0184 - accuracy: 0.9940 - val_loss: 0.0336 - val_accuracy: 0.9893\n",
            "Epoch 19/100\n",
            "600/600 [==============================] - 3s 5ms/step - loss: 0.0175 - accuracy: 0.9944 - val_loss: 0.0328 - val_accuracy: 0.9885\n",
            "Epoch 20/100\n",
            "600/600 [==============================] - 2s 3ms/step - loss: 0.0171 - accuracy: 0.9945 - val_loss: 0.0348 - val_accuracy: 0.9900\n",
            "Epoch 21/100\n",
            "600/600 [==============================] - 2s 4ms/step - loss: 0.0153 - accuracy: 0.9951 - val_loss: 0.0311 - val_accuracy: 0.9901\n",
            "Epoch 22/100\n",
            "600/600 [==============================] - 2s 3ms/step - loss: 0.0146 - accuracy: 0.9957 - val_loss: 0.0313 - val_accuracy: 0.9902\n",
            "Epoch 23/100\n",
            "600/600 [==============================] - 2s 4ms/step - loss: 0.0136 - accuracy: 0.9959 - val_loss: 0.0331 - val_accuracy: 0.9898\n",
            "Epoch 24/100\n",
            "600/600 [==============================] - 2s 4ms/step - loss: 0.0131 - accuracy: 0.9962 - val_loss: 0.0328 - val_accuracy: 0.9902\n",
            "Epoch 25/100\n",
            "600/600 [==============================] - 2s 4ms/step - loss: 0.0123 - accuracy: 0.9961 - val_loss: 0.0350 - val_accuracy: 0.9905\n",
            "Epoch 26/100\n",
            "600/600 [==============================] - 2s 4ms/step - loss: 0.0112 - accuracy: 0.9965 - val_loss: 0.0351 - val_accuracy: 0.9899\n",
            "Epoch 27/100\n",
            "600/600 [==============================] - 2s 3ms/step - loss: 0.0112 - accuracy: 0.9966 - val_loss: 0.0360 - val_accuracy: 0.9902\n",
            "Epoch 28/100\n",
            "600/600 [==============================] - 2s 3ms/step - loss: 0.0106 - accuracy: 0.9965 - val_loss: 0.0336 - val_accuracy: 0.9902\n",
            "Epoch 29/100\n",
            "600/600 [==============================] - 2s 4ms/step - loss: 0.0101 - accuracy: 0.9967 - val_loss: 0.0379 - val_accuracy: 0.9899\n",
            "Epoch 30/100\n",
            "600/600 [==============================] - 2s 4ms/step - loss: 0.0087 - accuracy: 0.9972 - val_loss: 0.0348 - val_accuracy: 0.9900\n",
            "Epoch 31/100\n",
            "600/600 [==============================] - 2s 4ms/step - loss: 0.0089 - accuracy: 0.9971 - val_loss: 0.0425 - val_accuracy: 0.9890\n",
            "Epoch 32/100\n",
            "600/600 [==============================] - 2s 3ms/step - loss: 0.0087 - accuracy: 0.9972 - val_loss: 0.0413 - val_accuracy: 0.9894\n",
            "Epoch 33/100\n",
            "600/600 [==============================] - 2s 4ms/step - loss: 0.0076 - accuracy: 0.9978 - val_loss: 0.0372 - val_accuracy: 0.9901\n",
            "Epoch 34/100\n",
            "600/600 [==============================] - 2s 3ms/step - loss: 0.0072 - accuracy: 0.9979 - val_loss: 0.0381 - val_accuracy: 0.9905\n",
            "Epoch 35/100\n",
            "600/600 [==============================] - 2s 4ms/step - loss: 0.0074 - accuracy: 0.9976 - val_loss: 0.0392 - val_accuracy: 0.9903\n",
            "Epoch 36/100\n",
            "600/600 [==============================] - 2s 3ms/step - loss: 0.0074 - accuracy: 0.9977 - val_loss: 0.0384 - val_accuracy: 0.9901\n",
            "Epoch 37/100\n",
            "600/600 [==============================] - 2s 4ms/step - loss: 0.0067 - accuracy: 0.9979 - val_loss: 0.0406 - val_accuracy: 0.9891\n",
            "Epoch 38/100\n",
            "600/600 [==============================] - 2s 4ms/step - loss: 0.0055 - accuracy: 0.9985 - val_loss: 0.0468 - val_accuracy: 0.9892\n",
            "Epoch 39/100\n",
            "600/600 [==============================] - 2s 4ms/step - loss: 0.0050 - accuracy: 0.9987 - val_loss: 0.0427 - val_accuracy: 0.9903\n",
            "Epoch 40/100\n",
            "600/600 [==============================] - 2s 4ms/step - loss: 0.0060 - accuracy: 0.9982 - val_loss: 0.0487 - val_accuracy: 0.9891\n",
            "Epoch 41/100\n",
            "600/600 [==============================] - 2s 4ms/step - loss: 0.0061 - accuracy: 0.9978 - val_loss: 0.0426 - val_accuracy: 0.9894\n",
            "Epoch 42/100\n",
            "600/600 [==============================] - 2s 4ms/step - loss: 0.0050 - accuracy: 0.9984 - val_loss: 0.0442 - val_accuracy: 0.9894\n",
            "Epoch 43/100\n",
            "600/600 [==============================] - 2s 4ms/step - loss: 0.0043 - accuracy: 0.9989 - val_loss: 0.0510 - val_accuracy: 0.9878\n",
            "Epoch 44/100\n",
            "600/600 [==============================] - 2s 3ms/step - loss: 0.0056 - accuracy: 0.9981 - val_loss: 0.0423 - val_accuracy: 0.9900\n",
            "Epoch 45/100\n",
            "600/600 [==============================] - 2s 4ms/step - loss: 0.0046 - accuracy: 0.9986 - val_loss: 0.0428 - val_accuracy: 0.9898\n",
            "Epoch 46/100\n",
            "600/600 [==============================] - 2s 4ms/step - loss: 0.0034 - accuracy: 0.9991 - val_loss: 0.0431 - val_accuracy: 0.9905\n",
            "Epoch 47/100\n",
            "600/600 [==============================] - 2s 3ms/step - loss: 0.0040 - accuracy: 0.9988 - val_loss: 0.0469 - val_accuracy: 0.9906\n",
            "Epoch 48/100\n",
            "600/600 [==============================] - 2s 4ms/step - loss: 0.0052 - accuracy: 0.9982 - val_loss: 0.0436 - val_accuracy: 0.9907\n",
            "Epoch 49/100\n",
            "600/600 [==============================] - 3s 4ms/step - loss: 0.0051 - accuracy: 0.9981 - val_loss: 0.0499 - val_accuracy: 0.9903\n",
            "Epoch 50/100\n",
            "600/600 [==============================] - 2s 4ms/step - loss: 0.0036 - accuracy: 0.9989 - val_loss: 0.0481 - val_accuracy: 0.9899\n",
            "Epoch 51/100\n",
            "600/600 [==============================] - 2s 3ms/step - loss: 0.0030 - accuracy: 0.9991 - val_loss: 0.0489 - val_accuracy: 0.9901\n",
            "Epoch 52/100\n",
            "600/600 [==============================] - 2s 4ms/step - loss: 0.0033 - accuracy: 0.9990 - val_loss: 0.0524 - val_accuracy: 0.9895\n",
            "Epoch 53/100\n",
            "600/600 [==============================] - 2s 3ms/step - loss: 0.0029 - accuracy: 0.9991 - val_loss: 0.0485 - val_accuracy: 0.9904\n",
            "Epoch 54/100\n",
            "600/600 [==============================] - 2s 4ms/step - loss: 0.0044 - accuracy: 0.9986 - val_loss: 0.0542 - val_accuracy: 0.9897\n",
            "Epoch 55/100\n",
            "600/600 [==============================] - 2s 3ms/step - loss: 0.0031 - accuracy: 0.9990 - val_loss: 0.0525 - val_accuracy: 0.9907\n",
            "Epoch 56/100\n",
            "600/600 [==============================] - 2s 3ms/step - loss: 0.0041 - accuracy: 0.9985 - val_loss: 0.0557 - val_accuracy: 0.9897\n",
            "Epoch 57/100\n",
            "600/600 [==============================] - 2s 3ms/step - loss: 0.0029 - accuracy: 0.9990 - val_loss: 0.0514 - val_accuracy: 0.9901\n",
            "Epoch 58/100\n",
            "600/600 [==============================] - 2s 3ms/step - loss: 0.0025 - accuracy: 0.9992 - val_loss: 0.0537 - val_accuracy: 0.9901\n",
            "Epoch 59/100\n",
            "600/600 [==============================] - 2s 3ms/step - loss: 0.0025 - accuracy: 0.9991 - val_loss: 0.0555 - val_accuracy: 0.9896\n",
            "Epoch 60/100\n",
            "600/600 [==============================] - 3s 4ms/step - loss: 0.0038 - accuracy: 0.9988 - val_loss: 0.0588 - val_accuracy: 0.9902\n",
            "Epoch 61/100\n",
            "600/600 [==============================] - 2s 4ms/step - loss: 0.0013 - accuracy: 0.9997 - val_loss: 0.0587 - val_accuracy: 0.9895\n",
            "Epoch 62/100\n",
            "600/600 [==============================] - 2s 3ms/step - loss: 0.0027 - accuracy: 0.9992 - val_loss: 0.0573 - val_accuracy: 0.9908\n",
            "Epoch 63/100\n",
            "600/600 [==============================] - 2s 4ms/step - loss: 0.0029 - accuracy: 0.9992 - val_loss: 0.0607 - val_accuracy: 0.9901\n",
            "Epoch 64/100\n",
            "600/600 [==============================] - 2s 3ms/step - loss: 0.0066 - accuracy: 0.9977 - val_loss: 0.0535 - val_accuracy: 0.9900\n",
            "Epoch 65/100\n",
            "600/600 [==============================] - 2s 3ms/step - loss: 0.0016 - accuracy: 0.9996 - val_loss: 0.0547 - val_accuracy: 0.9903\n",
            "Epoch 66/100\n",
            "600/600 [==============================] - 2s 4ms/step - loss: 0.0010 - accuracy: 0.9997 - val_loss: 0.0529 - val_accuracy: 0.9898\n",
            "Epoch 67/100\n",
            "600/600 [==============================] - 2s 4ms/step - loss: 4.5024e-04 - accuracy: 0.9999 - val_loss: 0.0541 - val_accuracy: 0.9899\n",
            "Epoch 68/100\n",
            "600/600 [==============================] - 2s 3ms/step - loss: 0.0030 - accuracy: 0.9991 - val_loss: 0.0568 - val_accuracy: 0.9898\n",
            "Epoch 69/100\n",
            "600/600 [==============================] - 2s 4ms/step - loss: 0.0035 - accuracy: 0.9987 - val_loss: 0.0536 - val_accuracy: 0.9905\n",
            "Epoch 70/100\n",
            "600/600 [==============================] - 2s 3ms/step - loss: 0.0025 - accuracy: 0.9991 - val_loss: 0.0539 - val_accuracy: 0.9889\n",
            "Epoch 71/100\n",
            "600/600 [==============================] - 2s 4ms/step - loss: 0.0022 - accuracy: 0.9991 - val_loss: 0.0718 - val_accuracy: 0.9895\n",
            "Epoch 72/100\n",
            "600/600 [==============================] - 2s 3ms/step - loss: 0.0014 - accuracy: 0.9995 - val_loss: 0.0703 - val_accuracy: 0.9881\n",
            "Epoch 73/100\n",
            "600/600 [==============================] - 2s 3ms/step - loss: 0.0041 - accuracy: 0.9987 - val_loss: 0.0802 - val_accuracy: 0.9887\n",
            "Epoch 74/100\n",
            "600/600 [==============================] - 2s 4ms/step - loss: 0.0031 - accuracy: 0.9988 - val_loss: 0.0602 - val_accuracy: 0.9907\n",
            "Epoch 75/100\n",
            "600/600 [==============================] - 2s 3ms/step - loss: 9.8809e-04 - accuracy: 0.9997 - val_loss: 0.0618 - val_accuracy: 0.9902\n",
            "Epoch 76/100\n",
            "600/600 [==============================] - 2s 4ms/step - loss: 3.7351e-04 - accuracy: 0.9999 - val_loss: 0.0650 - val_accuracy: 0.9903\n",
            "Epoch 77/100\n",
            "600/600 [==============================] - 2s 3ms/step - loss: 0.0051 - accuracy: 0.9982 - val_loss: 0.0804 - val_accuracy: 0.9882\n",
            "Epoch 78/100\n",
            "600/600 [==============================] - 2s 4ms/step - loss: 0.0025 - accuracy: 0.9992 - val_loss: 0.0651 - val_accuracy: 0.9903\n",
            "Epoch 79/100\n",
            "600/600 [==============================] - 3s 4ms/step - loss: 5.9246e-04 - accuracy: 0.9999 - val_loss: 0.0643 - val_accuracy: 0.9897\n",
            "Epoch 80/100\n",
            "600/600 [==============================] - 2s 3ms/step - loss: 8.6623e-04 - accuracy: 0.9998 - val_loss: 0.0651 - val_accuracy: 0.9897\n",
            "Epoch 81/100\n",
            "600/600 [==============================] - 2s 4ms/step - loss: 0.0031 - accuracy: 0.9988 - val_loss: 0.0685 - val_accuracy: 0.9895\n",
            "Epoch 82/100\n",
            "600/600 [==============================] - 2s 3ms/step - loss: 0.0029 - accuracy: 0.9988 - val_loss: 0.0638 - val_accuracy: 0.9908\n",
            "Epoch 83/100\n",
            "600/600 [==============================] - 2s 3ms/step - loss: 0.0010 - accuracy: 0.9997 - val_loss: 0.0721 - val_accuracy: 0.9898\n",
            "Epoch 84/100\n",
            "600/600 [==============================] - 2s 4ms/step - loss: 0.0020 - accuracy: 0.9992 - val_loss: 0.0733 - val_accuracy: 0.9892\n",
            "Epoch 85/100\n",
            "600/600 [==============================] - 2s 4ms/step - loss: 0.0016 - accuracy: 0.9995 - val_loss: 0.0649 - val_accuracy: 0.9895\n",
            "Epoch 86/100\n",
            "600/600 [==============================] - 2s 4ms/step - loss: 0.0012 - accuracy: 0.9997 - val_loss: 0.0598 - val_accuracy: 0.9903\n",
            "Epoch 87/100\n",
            "600/600 [==============================] - 2s 4ms/step - loss: 9.0332e-04 - accuracy: 0.9997 - val_loss: 0.0720 - val_accuracy: 0.9896\n",
            "Epoch 88/100\n",
            "600/600 [==============================] - 2s 3ms/step - loss: 0.0043 - accuracy: 0.9987 - val_loss: 0.0655 - val_accuracy: 0.9901\n",
            "Epoch 89/100\n",
            "600/600 [==============================] - 2s 4ms/step - loss: 0.0029 - accuracy: 0.9989 - val_loss: 0.0664 - val_accuracy: 0.9903\n",
            "Epoch 90/100\n",
            "600/600 [==============================] - 2s 4ms/step - loss: 5.8658e-04 - accuracy: 0.9998 - val_loss: 0.0693 - val_accuracy: 0.9895\n",
            "Epoch 91/100\n",
            "600/600 [==============================] - 2s 4ms/step - loss: 7.6995e-04 - accuracy: 0.9998 - val_loss: 0.0808 - val_accuracy: 0.9889\n",
            "Epoch 92/100\n",
            "600/600 [==============================] - 2s 4ms/step - loss: 0.0040 - accuracy: 0.9985 - val_loss: 0.0727 - val_accuracy: 0.9896\n",
            "Epoch 93/100\n",
            "600/600 [==============================] - 2s 4ms/step - loss: 0.0033 - accuracy: 0.9988 - val_loss: 0.0689 - val_accuracy: 0.9901\n",
            "Epoch 94/100\n",
            "600/600 [==============================] - 2s 3ms/step - loss: 9.8532e-04 - accuracy: 0.9997 - val_loss: 0.0688 - val_accuracy: 0.9900\n",
            "Epoch 95/100\n",
            "600/600 [==============================] - 2s 3ms/step - loss: 8.1993e-05 - accuracy: 1.0000 - val_loss: 0.0681 - val_accuracy: 0.9903\n",
            "Epoch 96/100\n",
            "600/600 [==============================] - 2s 4ms/step - loss: 4.9547e-05 - accuracy: 1.0000 - val_loss: 0.0688 - val_accuracy: 0.9900\n",
            "Epoch 97/100\n",
            "600/600 [==============================] - 2s 4ms/step - loss: 3.8600e-05 - accuracy: 1.0000 - val_loss: 0.0689 - val_accuracy: 0.9902\n",
            "Epoch 98/100\n",
            "600/600 [==============================] - 2s 3ms/step - loss: 3.3050e-05 - accuracy: 1.0000 - val_loss: 0.0702 - val_accuracy: 0.9902\n",
            "Epoch 99/100\n",
            "600/600 [==============================] - 2s 4ms/step - loss: 2.8747e-05 - accuracy: 1.0000 - val_loss: 0.0682 - val_accuracy: 0.9903\n",
            "Epoch 100/100\n",
            "600/600 [==============================] - 2s 4ms/step - loss: 2.7701e-05 - accuracy: 1.0000 - val_loss: 0.0691 - val_accuracy: 0.9904\n",
            "Model: \"sequential_10\"\n",
            "_________________________________________________________________\n",
            " Layer (type)                Output Shape              Param #   \n",
            "=================================================================\n",
            " conv2d_3 (Conv2D)           (100, 24, 24, 8)          208       \n",
            "                                                                 \n",
            " max_pooling2d_1 (MaxPooling  (100, 12, 12, 8)         0         \n",
            " 2D)                                                             \n",
            "                                                                 \n",
            " conv2d_4 (Conv2D)           (100, 8, 8, 16)           3216      \n",
            "                                                                 \n",
            " max_pooling2d_2 (MaxPooling  (100, 4, 4, 16)          0         \n",
            " 2D)                                                             \n",
            "                                                                 \n",
            " flatten_2 (Flatten)         (100, 256)                0         \n",
            "                                                                 \n",
            " dense_18 (Dense)            (100, 10)                 2570      \n",
            "                                                                 \n",
            "=================================================================\n",
            "Total params: 5,994\n",
            "Trainable params: 5,994\n",
            "Non-trainable params: 0\n",
            "_________________________________________________________________\n"
          ]
        }
      ],
      "source": [
        "model = tf.keras.models.Sequential([\n",
        "    tf.keras.layers.Conv2D(8, 5, activation = 'relu'),\n",
        "    tf.keras.layers.MaxPool2D(),\n",
        "    tf.keras.layers.Conv2D(16, 5, activation = 'relu'),\n",
        "    tf.keras.layers.MaxPool2D(),\n",
        "    tf.keras.layers.Flatten(),\n",
        "    tf.keras.layers.Dense(10, activation = 'softmax')])\n",
        "\n",
        "model.compile('adam',\n",
        "              'sparse_categorical_crossentropy',\n",
        "              'accuracy')\n",
        "\n",
        "model.fit(DATA0, TARGET0, batch_size = 100, epochs = 100, validation_data = (DATA1, TARGET1))\n",
        "\n",
        "model.summary()"
      ]
    },
    {
      "cell_type": "markdown",
      "metadata": {
        "id": "IQPxklkk73k4"
      },
      "source": [
        "**Task.** How to explain the 3 216 weights in the second convolutional layer?"
      ]
    },
    {
      "cell_type": "markdown",
      "metadata": {
        "id": "9mfwtteL8PiI"
      },
      "source": [
        "**Solution.** This layer has 8 input channels and 16 output channels. In such a case, each output channel is a sum over all input channels. Thus, the number of weights equals the number of input channels times the filter size times the number of output channels plus one bias per output channel. This amounts to 8 * 5 * 5 * 16 + 16 = 3 216 in this case."
      ]
    },
    {
      "cell_type": "markdown",
      "metadata": {
        "id": "4sOpoODf6Ud9"
      },
      "source": [
        "Each pair of convolutional and pooling layers reduces the spatial image size more than four times. It is a common practice to inrease the number of output channels twice in each subsequent convolutional layer, as we did. In this way, each pair reduces the number of features roughly twice. This in turn significantly reduces the number of weights in the final dense layer and in the entire net, thus making it less and less overfitting. This network has less weights than any previous one, and yet this is the first time that the validation accuracy exceeds 99%."
      ]
    },
    {
      "cell_type": "markdown",
      "metadata": {
        "id": "sJ_iJkfv-Wve"
      },
      "source": [
        "**Task.** Add a third pair of convolutional and pooling layers. What number of output channels and what filter size should be used in the third convolution?"
      ]
    },
    {
      "cell_type": "markdown",
      "metadata": {
        "id": "euv5GR5y8KpO"
      },
      "source": [
        "**Solution.** Since the input image for the third convolution is 4x4 in size, a filter of 5x5 would reduce it to zero. Thus, the filter can be at most 4x4. However, odd sizes are used more frequently, so we will take 3x3. The number of output channels can be arbitrary but the discussed convention suggests 32:"
      ]
    },
    {
      "cell_type": "code",
      "execution_count": 34,
      "metadata": {
        "colab": {
          "base_uri": "https://localhost:8080/"
        },
        "id": "sWqAjmqt_eN_",
        "outputId": "22e04fec-dc0f-4bf7-ae7a-691bbd4e598b"
      },
      "outputs": [
        {
          "output_type": "stream",
          "name": "stdout",
          "text": [
            "Epoch 1/100\n",
            "600/600 [==============================] - 3s 4ms/step - loss: 0.4004 - accuracy: 0.8808 - val_loss: 0.1784 - val_accuracy: 0.9416\n",
            "Epoch 2/100\n",
            "600/600 [==============================] - 2s 4ms/step - loss: 0.1247 - accuracy: 0.9626 - val_loss: 0.1060 - val_accuracy: 0.9651\n",
            "Epoch 3/100\n",
            "600/600 [==============================] - 2s 4ms/step - loss: 0.0911 - accuracy: 0.9719 - val_loss: 0.0765 - val_accuracy: 0.9766\n",
            "Epoch 4/100\n",
            "600/600 [==============================] - 2s 4ms/step - loss: 0.0738 - accuracy: 0.9776 - val_loss: 0.0657 - val_accuracy: 0.9790\n",
            "Epoch 5/100\n",
            "600/600 [==============================] - 2s 4ms/step - loss: 0.0635 - accuracy: 0.9801 - val_loss: 0.0579 - val_accuracy: 0.9813\n",
            "Epoch 6/100\n",
            "600/600 [==============================] - 2s 4ms/step - loss: 0.0541 - accuracy: 0.9833 - val_loss: 0.0596 - val_accuracy: 0.9821\n",
            "Epoch 7/100\n",
            "600/600 [==============================] - 2s 4ms/step - loss: 0.0487 - accuracy: 0.9846 - val_loss: 0.0572 - val_accuracy: 0.9815\n",
            "Epoch 8/100\n",
            "600/600 [==============================] - 3s 4ms/step - loss: 0.0445 - accuracy: 0.9858 - val_loss: 0.0546 - val_accuracy: 0.9825\n",
            "Epoch 9/100\n",
            "600/600 [==============================] - 2s 4ms/step - loss: 0.0393 - accuracy: 0.9873 - val_loss: 0.0479 - val_accuracy: 0.9855\n",
            "Epoch 10/100\n",
            "600/600 [==============================] - 2s 4ms/step - loss: 0.0367 - accuracy: 0.9888 - val_loss: 0.0453 - val_accuracy: 0.9846\n",
            "Epoch 11/100\n",
            "600/600 [==============================] - 2s 4ms/step - loss: 0.0333 - accuracy: 0.9894 - val_loss: 0.0475 - val_accuracy: 0.9851\n",
            "Epoch 12/100\n",
            "600/600 [==============================] - 2s 4ms/step - loss: 0.0318 - accuracy: 0.9898 - val_loss: 0.0530 - val_accuracy: 0.9839\n",
            "Epoch 13/100\n",
            "600/600 [==============================] - 2s 4ms/step - loss: 0.0282 - accuracy: 0.9909 - val_loss: 0.0415 - val_accuracy: 0.9871\n",
            "Epoch 14/100\n",
            "600/600 [==============================] - 2s 4ms/step - loss: 0.0269 - accuracy: 0.9914 - val_loss: 0.0433 - val_accuracy: 0.9870\n",
            "Epoch 15/100\n",
            "600/600 [==============================] - 2s 4ms/step - loss: 0.0248 - accuracy: 0.9922 - val_loss: 0.0452 - val_accuracy: 0.9854\n",
            "Epoch 16/100\n",
            "600/600 [==============================] - 2s 4ms/step - loss: 0.0238 - accuracy: 0.9923 - val_loss: 0.0467 - val_accuracy: 0.9859\n",
            "Epoch 17/100\n",
            "600/600 [==============================] - 2s 4ms/step - loss: 0.0209 - accuracy: 0.9930 - val_loss: 0.0460 - val_accuracy: 0.9858\n",
            "Epoch 18/100\n",
            "600/600 [==============================] - 2s 4ms/step - loss: 0.0203 - accuracy: 0.9933 - val_loss: 0.0400 - val_accuracy: 0.9886\n",
            "Epoch 19/100\n",
            "600/600 [==============================] - 2s 4ms/step - loss: 0.0185 - accuracy: 0.9938 - val_loss: 0.0391 - val_accuracy: 0.9870\n",
            "Epoch 20/100\n",
            "600/600 [==============================] - 2s 4ms/step - loss: 0.0183 - accuracy: 0.9941 - val_loss: 0.0449 - val_accuracy: 0.9859\n",
            "Epoch 21/100\n",
            "600/600 [==============================] - 2s 4ms/step - loss: 0.0167 - accuracy: 0.9943 - val_loss: 0.0431 - val_accuracy: 0.9876\n",
            "Epoch 22/100\n",
            "600/600 [==============================] - 2s 4ms/step - loss: 0.0154 - accuracy: 0.9950 - val_loss: 0.0410 - val_accuracy: 0.9884\n",
            "Epoch 23/100\n",
            "600/600 [==============================] - 2s 4ms/step - loss: 0.0151 - accuracy: 0.9948 - val_loss: 0.0413 - val_accuracy: 0.9879\n",
            "Epoch 24/100\n",
            "600/600 [==============================] - 2s 4ms/step - loss: 0.0132 - accuracy: 0.9955 - val_loss: 0.0379 - val_accuracy: 0.9883\n",
            "Epoch 25/100\n",
            "600/600 [==============================] - 2s 4ms/step - loss: 0.0123 - accuracy: 0.9964 - val_loss: 0.0456 - val_accuracy: 0.9875\n",
            "Epoch 26/100\n",
            "600/600 [==============================] - 2s 4ms/step - loss: 0.0113 - accuracy: 0.9962 - val_loss: 0.0513 - val_accuracy: 0.9859\n",
            "Epoch 27/100\n",
            "600/600 [==============================] - 2s 4ms/step - loss: 0.0120 - accuracy: 0.9958 - val_loss: 0.0450 - val_accuracy: 0.9881\n",
            "Epoch 28/100\n",
            "600/600 [==============================] - 2s 4ms/step - loss: 0.0110 - accuracy: 0.9965 - val_loss: 0.0480 - val_accuracy: 0.9870\n",
            "Epoch 29/100\n",
            "600/600 [==============================] - 2s 4ms/step - loss: 0.0091 - accuracy: 0.9969 - val_loss: 0.0494 - val_accuracy: 0.9869\n",
            "Epoch 30/100\n",
            "600/600 [==============================] - 2s 4ms/step - loss: 0.0104 - accuracy: 0.9965 - val_loss: 0.0452 - val_accuracy: 0.9875\n",
            "Epoch 31/100\n",
            "600/600 [==============================] - 2s 4ms/step - loss: 0.0083 - accuracy: 0.9974 - val_loss: 0.0517 - val_accuracy: 0.9863\n",
            "Epoch 32/100\n",
            "600/600 [==============================] - 2s 4ms/step - loss: 0.0098 - accuracy: 0.9968 - val_loss: 0.0514 - val_accuracy: 0.9863\n",
            "Epoch 33/100\n",
            "600/600 [==============================] - 2s 4ms/step - loss: 0.0093 - accuracy: 0.9969 - val_loss: 0.0584 - val_accuracy: 0.9863\n",
            "Epoch 34/100\n",
            "600/600 [==============================] - 2s 4ms/step - loss: 0.0082 - accuracy: 0.9973 - val_loss: 0.0491 - val_accuracy: 0.9877\n",
            "Epoch 35/100\n",
            "600/600 [==============================] - 2s 4ms/step - loss: 0.0079 - accuracy: 0.9973 - val_loss: 0.0465 - val_accuracy: 0.9883\n",
            "Epoch 36/100\n",
            "600/600 [==============================] - 2s 4ms/step - loss: 0.0068 - accuracy: 0.9975 - val_loss: 0.0535 - val_accuracy: 0.9876\n",
            "Epoch 37/100\n",
            "600/600 [==============================] - 3s 5ms/step - loss: 0.0074 - accuracy: 0.9977 - val_loss: 0.0609 - val_accuracy: 0.9869\n",
            "Epoch 38/100\n",
            "600/600 [==============================] - 2s 4ms/step - loss: 0.0066 - accuracy: 0.9976 - val_loss: 0.0459 - val_accuracy: 0.9883\n",
            "Epoch 39/100\n",
            "600/600 [==============================] - 2s 4ms/step - loss: 0.0052 - accuracy: 0.9982 - val_loss: 0.0507 - val_accuracy: 0.9889\n",
            "Epoch 40/100\n",
            "600/600 [==============================] - 2s 4ms/step - loss: 0.0083 - accuracy: 0.9970 - val_loss: 0.0559 - val_accuracy: 0.9874\n",
            "Epoch 41/100\n",
            "600/600 [==============================] - 2s 4ms/step - loss: 0.0045 - accuracy: 0.9986 - val_loss: 0.0451 - val_accuracy: 0.9886\n",
            "Epoch 42/100\n",
            "600/600 [==============================] - 2s 4ms/step - loss: 0.0053 - accuracy: 0.9981 - val_loss: 0.0614 - val_accuracy: 0.9862\n",
            "Epoch 43/100\n",
            "600/600 [==============================] - 2s 4ms/step - loss: 0.0055 - accuracy: 0.9980 - val_loss: 0.0630 - val_accuracy: 0.9869\n",
            "Epoch 44/100\n",
            "600/600 [==============================] - 3s 5ms/step - loss: 0.0073 - accuracy: 0.9973 - val_loss: 0.0511 - val_accuracy: 0.9888\n",
            "Epoch 45/100\n",
            "600/600 [==============================] - 2s 4ms/step - loss: 0.0069 - accuracy: 0.9977 - val_loss: 0.0657 - val_accuracy: 0.9866\n",
            "Epoch 46/100\n",
            "600/600 [==============================] - 2s 4ms/step - loss: 0.0046 - accuracy: 0.9985 - val_loss: 0.0533 - val_accuracy: 0.9883\n",
            "Epoch 47/100\n",
            "600/600 [==============================] - 2s 4ms/step - loss: 0.0042 - accuracy: 0.9984 - val_loss: 0.0621 - val_accuracy: 0.9869\n",
            "Epoch 48/100\n",
            "600/600 [==============================] - 2s 4ms/step - loss: 0.0057 - accuracy: 0.9983 - val_loss: 0.0511 - val_accuracy: 0.9891\n",
            "Epoch 49/100\n",
            "600/600 [==============================] - 2s 4ms/step - loss: 0.0036 - accuracy: 0.9988 - val_loss: 0.0608 - val_accuracy: 0.9892\n",
            "Epoch 50/100\n",
            "600/600 [==============================] - 2s 4ms/step - loss: 0.0067 - accuracy: 0.9976 - val_loss: 0.0757 - val_accuracy: 0.9853\n",
            "Epoch 51/100\n",
            "600/600 [==============================] - 2s 4ms/step - loss: 0.0067 - accuracy: 0.9977 - val_loss: 0.0580 - val_accuracy: 0.9881\n",
            "Epoch 52/100\n",
            "600/600 [==============================] - 2s 4ms/step - loss: 0.0030 - accuracy: 0.9990 - val_loss: 0.0527 - val_accuracy: 0.9892\n",
            "Epoch 53/100\n",
            "600/600 [==============================] - 2s 4ms/step - loss: 0.0045 - accuracy: 0.9984 - val_loss: 0.0515 - val_accuracy: 0.9894\n",
            "Epoch 54/100\n",
            "600/600 [==============================] - 2s 4ms/step - loss: 0.0051 - accuracy: 0.9983 - val_loss: 0.0552 - val_accuracy: 0.9888\n",
            "Epoch 55/100\n",
            "600/600 [==============================] - 2s 4ms/step - loss: 0.0036 - accuracy: 0.9987 - val_loss: 0.0749 - val_accuracy: 0.9878\n",
            "Epoch 56/100\n",
            "600/600 [==============================] - 2s 4ms/step - loss: 0.0067 - accuracy: 0.9977 - val_loss: 0.0682 - val_accuracy: 0.9868\n",
            "Epoch 57/100\n",
            "600/600 [==============================] - 2s 4ms/step - loss: 0.0041 - accuracy: 0.9984 - val_loss: 0.0671 - val_accuracy: 0.9886\n",
            "Epoch 58/100\n",
            "600/600 [==============================] - 2s 4ms/step - loss: 0.0031 - accuracy: 0.9989 - val_loss: 0.0619 - val_accuracy: 0.9889\n",
            "Epoch 59/100\n",
            "600/600 [==============================] - 2s 4ms/step - loss: 0.0020 - accuracy: 0.9994 - val_loss: 0.0721 - val_accuracy: 0.9862\n",
            "Epoch 60/100\n",
            "600/600 [==============================] - 2s 4ms/step - loss: 0.0045 - accuracy: 0.9985 - val_loss: 0.0652 - val_accuracy: 0.9877\n",
            "Epoch 61/100\n",
            "600/600 [==============================] - 2s 4ms/step - loss: 0.0039 - accuracy: 0.9986 - val_loss: 0.0594 - val_accuracy: 0.9889\n",
            "Epoch 62/100\n",
            "600/600 [==============================] - 2s 4ms/step - loss: 0.0060 - accuracy: 0.9980 - val_loss: 0.0775 - val_accuracy: 0.9862\n",
            "Epoch 63/100\n",
            "600/600 [==============================] - 2s 4ms/step - loss: 0.0031 - accuracy: 0.9987 - val_loss: 0.0607 - val_accuracy: 0.9892\n",
            "Epoch 64/100\n",
            "600/600 [==============================] - 2s 4ms/step - loss: 0.0027 - accuracy: 0.9991 - val_loss: 0.0654 - val_accuracy: 0.9885\n",
            "Epoch 65/100\n",
            "600/600 [==============================] - 3s 5ms/step - loss: 0.0043 - accuracy: 0.9984 - val_loss: 0.0795 - val_accuracy: 0.9865\n",
            "Epoch 66/100\n",
            "600/600 [==============================] - 2s 4ms/step - loss: 0.0053 - accuracy: 0.9982 - val_loss: 0.0562 - val_accuracy: 0.9901\n",
            "Epoch 67/100\n",
            "600/600 [==============================] - 2s 4ms/step - loss: 0.0015 - accuracy: 0.9995 - val_loss: 0.0767 - val_accuracy: 0.9876\n",
            "Epoch 68/100\n",
            "600/600 [==============================] - 2s 4ms/step - loss: 0.0049 - accuracy: 0.9985 - val_loss: 0.0992 - val_accuracy: 0.9843\n",
            "Epoch 69/100\n",
            "600/600 [==============================] - 2s 4ms/step - loss: 0.0060 - accuracy: 0.9979 - val_loss: 0.0798 - val_accuracy: 0.9869\n",
            "Epoch 70/100\n",
            "600/600 [==============================] - 2s 4ms/step - loss: 0.0029 - accuracy: 0.9991 - val_loss: 0.0657 - val_accuracy: 0.9886\n",
            "Epoch 71/100\n",
            "600/600 [==============================] - 2s 4ms/step - loss: 0.0023 - accuracy: 0.9991 - val_loss: 0.0658 - val_accuracy: 0.9894\n",
            "Epoch 72/100\n",
            "600/600 [==============================] - 2s 4ms/step - loss: 0.0061 - accuracy: 0.9982 - val_loss: 0.0746 - val_accuracy: 0.9894\n",
            "Epoch 73/100\n",
            "600/600 [==============================] - 2s 4ms/step - loss: 0.0024 - accuracy: 0.9991 - val_loss: 0.0666 - val_accuracy: 0.9898\n",
            "Epoch 74/100\n",
            "600/600 [==============================] - 2s 4ms/step - loss: 0.0022 - accuracy: 0.9995 - val_loss: 0.0808 - val_accuracy: 0.9874\n",
            "Epoch 75/100\n",
            "600/600 [==============================] - 2s 4ms/step - loss: 0.0059 - accuracy: 0.9981 - val_loss: 0.0752 - val_accuracy: 0.9879\n",
            "Epoch 76/100\n",
            "600/600 [==============================] - 2s 4ms/step - loss: 0.0027 - accuracy: 0.9991 - val_loss: 0.0615 - val_accuracy: 0.9901\n",
            "Epoch 77/100\n",
            "600/600 [==============================] - 2s 4ms/step - loss: 0.0030 - accuracy: 0.9991 - val_loss: 0.0739 - val_accuracy: 0.9889\n",
            "Epoch 78/100\n",
            "600/600 [==============================] - 2s 4ms/step - loss: 0.0032 - accuracy: 0.9988 - val_loss: 0.0642 - val_accuracy: 0.9896\n",
            "Epoch 79/100\n",
            "600/600 [==============================] - 2s 4ms/step - loss: 0.0021 - accuracy: 0.9994 - val_loss: 0.0679 - val_accuracy: 0.9900\n",
            "Epoch 80/100\n",
            "600/600 [==============================] - 2s 4ms/step - loss: 0.0053 - accuracy: 0.9983 - val_loss: 0.0822 - val_accuracy: 0.9874\n",
            "Epoch 81/100\n",
            "600/600 [==============================] - 2s 4ms/step - loss: 0.0032 - accuracy: 0.9988 - val_loss: 0.0747 - val_accuracy: 0.9890\n",
            "Epoch 82/100\n",
            "600/600 [==============================] - 2s 4ms/step - loss: 0.0021 - accuracy: 0.9993 - val_loss: 0.0621 - val_accuracy: 0.9897\n",
            "Epoch 83/100\n",
            "600/600 [==============================] - 2s 4ms/step - loss: 0.0042 - accuracy: 0.9987 - val_loss: 0.0697 - val_accuracy: 0.9890\n",
            "Epoch 84/100\n",
            "600/600 [==============================] - 2s 4ms/step - loss: 0.0048 - accuracy: 0.9984 - val_loss: 0.0727 - val_accuracy: 0.9900\n",
            "Epoch 85/100\n",
            "600/600 [==============================] - 2s 4ms/step - loss: 0.0029 - accuracy: 0.9990 - val_loss: 0.0773 - val_accuracy: 0.9880\n",
            "Epoch 86/100\n",
            "600/600 [==============================] - 2s 4ms/step - loss: 7.9954e-04 - accuracy: 0.9998 - val_loss: 0.0630 - val_accuracy: 0.9908\n",
            "Epoch 87/100\n",
            "600/600 [==============================] - 2s 4ms/step - loss: 1.0654e-04 - accuracy: 1.0000 - val_loss: 0.0612 - val_accuracy: 0.9911\n",
            "Epoch 88/100\n",
            "600/600 [==============================] - 2s 4ms/step - loss: 5.4355e-05 - accuracy: 1.0000 - val_loss: 0.0617 - val_accuracy: 0.9913\n",
            "Epoch 89/100\n",
            "600/600 [==============================] - 2s 4ms/step - loss: 2.9444e-05 - accuracy: 1.0000 - val_loss: 0.0610 - val_accuracy: 0.9913\n",
            "Epoch 90/100\n",
            "600/600 [==============================] - 2s 4ms/step - loss: 2.3872e-05 - accuracy: 1.0000 - val_loss: 0.0617 - val_accuracy: 0.9919\n",
            "Epoch 91/100\n",
            "600/600 [==============================] - 2s 4ms/step - loss: 1.8816e-05 - accuracy: 1.0000 - val_loss: 0.0624 - val_accuracy: 0.9913\n",
            "Epoch 92/100\n",
            "600/600 [==============================] - 3s 4ms/step - loss: 1.5550e-05 - accuracy: 1.0000 - val_loss: 0.0629 - val_accuracy: 0.9916\n",
            "Epoch 93/100\n",
            "600/600 [==============================] - 3s 4ms/step - loss: 1.2843e-05 - accuracy: 1.0000 - val_loss: 0.0634 - val_accuracy: 0.9916\n",
            "Epoch 94/100\n",
            "600/600 [==============================] - 2s 4ms/step - loss: 1.1291e-05 - accuracy: 1.0000 - val_loss: 0.0643 - val_accuracy: 0.9919\n",
            "Epoch 95/100\n",
            "600/600 [==============================] - 2s 4ms/step - loss: 1.1711e-05 - accuracy: 1.0000 - val_loss: 0.0662 - val_accuracy: 0.9912\n",
            "Epoch 96/100\n",
            "600/600 [==============================] - 2s 4ms/step - loss: 0.0169 - accuracy: 0.9958 - val_loss: 0.0764 - val_accuracy: 0.9895\n",
            "Epoch 97/100\n",
            "600/600 [==============================] - 2s 4ms/step - loss: 0.0038 - accuracy: 0.9985 - val_loss: 0.0891 - val_accuracy: 0.9868\n",
            "Epoch 98/100\n",
            "600/600 [==============================] - 2s 4ms/step - loss: 0.0014 - accuracy: 0.9995 - val_loss: 0.0675 - val_accuracy: 0.9903\n",
            "Epoch 99/100\n",
            "600/600 [==============================] - 2s 4ms/step - loss: 0.0036 - accuracy: 0.9988 - val_loss: 0.0818 - val_accuracy: 0.9885\n",
            "Epoch 100/100\n",
            "600/600 [==============================] - 2s 4ms/step - loss: 0.0039 - accuracy: 0.9987 - val_loss: 0.0657 - val_accuracy: 0.9901\n",
            "Model: \"sequential_11\"\n",
            "_________________________________________________________________\n",
            " Layer (type)                Output Shape              Param #   \n",
            "=================================================================\n",
            " conv2d_5 (Conv2D)           (100, 24, 24, 8)          208       \n",
            "                                                                 \n",
            " max_pooling2d_3 (MaxPooling  (100, 12, 12, 8)         0         \n",
            " 2D)                                                             \n",
            "                                                                 \n",
            " conv2d_6 (Conv2D)           (100, 8, 8, 16)           3216      \n",
            "                                                                 \n",
            " max_pooling2d_4 (MaxPooling  (100, 4, 4, 16)          0         \n",
            " 2D)                                                             \n",
            "                                                                 \n",
            " conv2d_7 (Conv2D)           (100, 2, 2, 32)           4640      \n",
            "                                                                 \n",
            " max_pooling2d_5 (MaxPooling  (100, 1, 1, 32)          0         \n",
            " 2D)                                                             \n",
            "                                                                 \n",
            " flatten_3 (Flatten)         (100, 32)                 0         \n",
            "                                                                 \n",
            " dense_19 (Dense)            (100, 10)                 330       \n",
            "                                                                 \n",
            "=================================================================\n",
            "Total params: 8,394\n",
            "Trainable params: 8,394\n",
            "Non-trainable params: 0\n",
            "_________________________________________________________________\n"
          ]
        }
      ],
      "source": [
        "model = tf.keras.models.Sequential([\n",
        "    tf.keras.layers.Conv2D(8, 5, activation = 'relu'),\n",
        "    tf.keras.layers.MaxPool2D(),\n",
        "    tf.keras.layers.Conv2D(16, 5, activation = 'relu'),\n",
        "    tf.keras.layers.MaxPool2D(),\n",
        "    tf.keras.layers.Conv2D(32, 3, activation = 'relu'),\n",
        "    tf.keras.layers.MaxPool2D(),\n",
        "    tf.keras.layers.Flatten(),\n",
        "    tf.keras.layers.Dense(10, activation = 'softmax')])\n",
        "\n",
        "model.compile('adam',\n",
        "              'sparse_categorical_crossentropy',\n",
        "              'accuracy')\n",
        "\n",
        "model.fit(DATA0, TARGET0, batch_size = 100, epochs = 100, validation_data = (DATA1, TARGET1))\n",
        "\n",
        "model.summary()"
      ]
    },
    {
      "cell_type": "markdown",
      "metadata": {
        "id": "SP__mnVbCdu-"
      },
      "source": [
        "The validation accuracy is slightly higher than with two pairs of convolutional and pooling layers, but there is a better way to improve this network."
      ]
    },
    {
      "cell_type": "markdown",
      "metadata": {
        "id": "WGnvlvLwCJie"
      },
      "source": [
        "**Task.** In the case of dense networks, three layers was the optimal number. It seems that with convolutional networks two pairs of convolutional and pooling layers are a good solution. How to combine these observations?"
      ]
    },
    {
      "cell_type": "markdown",
      "metadata": {
        "id": "2X6FCD01CzEN"
      },
      "source": [
        "**Solution.** Put three dense layers on top of two pairs of convolutional and pooling layers. This is a variant of the LeNet5 architecture that once played an important role in the development of artificial neural networks. LeNet5 gives validation accuracy of about 0.993 with 45 226 weights:"
      ]
    },
    {
      "cell_type": "code",
      "execution_count": 35,
      "metadata": {
        "colab": {
          "base_uri": "https://localhost:8080/"
        },
        "id": "7SG5YXbyCox4",
        "outputId": "a44c077d-3b2f-4a62-de0a-9399ecc7b7db"
      },
      "outputs": [
        {
          "output_type": "stream",
          "name": "stdout",
          "text": [
            "Epoch 1/100\n",
            "600/600 [==============================] - 3s 4ms/step - loss: 0.2891 - accuracy: 0.9145 - val_loss: 0.0803 - val_accuracy: 0.9743\n",
            "Epoch 2/100\n",
            "600/600 [==============================] - 3s 5ms/step - loss: 0.0761 - accuracy: 0.9764 - val_loss: 0.0541 - val_accuracy: 0.9829\n",
            "Epoch 3/100\n",
            "600/600 [==============================] - 3s 5ms/step - loss: 0.0565 - accuracy: 0.9827 - val_loss: 0.0410 - val_accuracy: 0.9870\n",
            "Epoch 4/100\n",
            "600/600 [==============================] - 2s 4ms/step - loss: 0.0459 - accuracy: 0.9862 - val_loss: 0.0424 - val_accuracy: 0.9860\n",
            "Epoch 5/100\n",
            "600/600 [==============================] - 2s 4ms/step - loss: 0.0385 - accuracy: 0.9876 - val_loss: 0.0354 - val_accuracy: 0.9892\n",
            "Epoch 6/100\n",
            "600/600 [==============================] - 2s 4ms/step - loss: 0.0327 - accuracy: 0.9897 - val_loss: 0.0349 - val_accuracy: 0.9877\n",
            "Epoch 7/100\n",
            "600/600 [==============================] - 2s 4ms/step - loss: 0.0277 - accuracy: 0.9908 - val_loss: 0.0337 - val_accuracy: 0.9896\n",
            "Epoch 8/100\n",
            "600/600 [==============================] - 2s 4ms/step - loss: 0.0228 - accuracy: 0.9925 - val_loss: 0.0332 - val_accuracy: 0.9890\n",
            "Epoch 9/100\n",
            "600/600 [==============================] - 2s 4ms/step - loss: 0.0211 - accuracy: 0.9933 - val_loss: 0.0380 - val_accuracy: 0.9881\n",
            "Epoch 10/100\n",
            "600/600 [==============================] - 2s 4ms/step - loss: 0.0188 - accuracy: 0.9940 - val_loss: 0.0414 - val_accuracy: 0.9878\n",
            "Epoch 11/100\n",
            "600/600 [==============================] - 2s 4ms/step - loss: 0.0168 - accuracy: 0.9946 - val_loss: 0.0297 - val_accuracy: 0.9913\n",
            "Epoch 12/100\n",
            "600/600 [==============================] - 2s 4ms/step - loss: 0.0143 - accuracy: 0.9954 - val_loss: 0.0440 - val_accuracy: 0.9877\n",
            "Epoch 13/100\n",
            "600/600 [==============================] - 2s 4ms/step - loss: 0.0126 - accuracy: 0.9957 - val_loss: 0.0323 - val_accuracy: 0.9910\n",
            "Epoch 14/100\n",
            "600/600 [==============================] - 2s 4ms/step - loss: 0.0117 - accuracy: 0.9960 - val_loss: 0.0313 - val_accuracy: 0.9909\n",
            "Epoch 15/100\n",
            "600/600 [==============================] - 2s 4ms/step - loss: 0.0102 - accuracy: 0.9964 - val_loss: 0.0415 - val_accuracy: 0.9881\n",
            "Epoch 16/100\n",
            "600/600 [==============================] - 2s 4ms/step - loss: 0.0096 - accuracy: 0.9967 - val_loss: 0.0303 - val_accuracy: 0.9912\n",
            "Epoch 17/100\n",
            "600/600 [==============================] - 2s 4ms/step - loss: 0.0086 - accuracy: 0.9971 - val_loss: 0.0545 - val_accuracy: 0.9870\n",
            "Epoch 18/100\n",
            "600/600 [==============================] - 2s 4ms/step - loss: 0.0094 - accuracy: 0.9967 - val_loss: 0.0355 - val_accuracy: 0.9910\n",
            "Epoch 19/100\n",
            "600/600 [==============================] - 2s 4ms/step - loss: 0.0075 - accuracy: 0.9974 - val_loss: 0.0460 - val_accuracy: 0.9891\n",
            "Epoch 20/100\n",
            "600/600 [==============================] - 2s 4ms/step - loss: 0.0063 - accuracy: 0.9978 - val_loss: 0.0382 - val_accuracy: 0.9909\n",
            "Epoch 21/100\n",
            "600/600 [==============================] - 2s 4ms/step - loss: 0.0061 - accuracy: 0.9980 - val_loss: 0.0374 - val_accuracy: 0.9916\n",
            "Epoch 22/100\n",
            "600/600 [==============================] - 2s 4ms/step - loss: 0.0067 - accuracy: 0.9976 - val_loss: 0.0384 - val_accuracy: 0.9909\n",
            "Epoch 23/100\n",
            "600/600 [==============================] - 2s 4ms/step - loss: 0.0058 - accuracy: 0.9979 - val_loss: 0.0489 - val_accuracy: 0.9894\n",
            "Epoch 24/100\n",
            "600/600 [==============================] - 2s 4ms/step - loss: 0.0065 - accuracy: 0.9976 - val_loss: 0.0401 - val_accuracy: 0.9898\n",
            "Epoch 25/100\n",
            "600/600 [==============================] - 2s 4ms/step - loss: 0.0051 - accuracy: 0.9982 - val_loss: 0.0419 - val_accuracy: 0.9911\n",
            "Epoch 26/100\n",
            "600/600 [==============================] - 2s 4ms/step - loss: 0.0050 - accuracy: 0.9983 - val_loss: 0.0461 - val_accuracy: 0.9903\n",
            "Epoch 27/100\n",
            "600/600 [==============================] - 2s 4ms/step - loss: 0.0051 - accuracy: 0.9983 - val_loss: 0.0447 - val_accuracy: 0.9898\n",
            "Epoch 28/100\n",
            "600/600 [==============================] - 2s 4ms/step - loss: 0.0059 - accuracy: 0.9980 - val_loss: 0.0506 - val_accuracy: 0.9907\n",
            "Epoch 29/100\n",
            "600/600 [==============================] - 2s 4ms/step - loss: 0.0029 - accuracy: 0.9990 - val_loss: 0.0544 - val_accuracy: 0.9899\n",
            "Epoch 30/100\n",
            "600/600 [==============================] - 3s 5ms/step - loss: 0.0068 - accuracy: 0.9979 - val_loss: 0.0465 - val_accuracy: 0.9902\n",
            "Epoch 31/100\n",
            "600/600 [==============================] - 2s 4ms/step - loss: 0.0040 - accuracy: 0.9986 - val_loss: 0.0475 - val_accuracy: 0.9909\n",
            "Epoch 32/100\n",
            "600/600 [==============================] - 2s 4ms/step - loss: 0.0022 - accuracy: 0.9992 - val_loss: 0.0494 - val_accuracy: 0.9921\n",
            "Epoch 33/100\n",
            "600/600 [==============================] - 2s 4ms/step - loss: 0.0044 - accuracy: 0.9987 - val_loss: 0.0520 - val_accuracy: 0.9899\n",
            "Epoch 34/100\n",
            "600/600 [==============================] - 2s 4ms/step - loss: 0.0069 - accuracy: 0.9978 - val_loss: 0.0463 - val_accuracy: 0.9909\n",
            "Epoch 35/100\n",
            "600/600 [==============================] - 2s 4ms/step - loss: 0.0022 - accuracy: 0.9994 - val_loss: 0.0513 - val_accuracy: 0.9912\n",
            "Epoch 36/100\n",
            "600/600 [==============================] - 3s 4ms/step - loss: 0.0047 - accuracy: 0.9986 - val_loss: 0.0594 - val_accuracy: 0.9887\n",
            "Epoch 37/100\n",
            "600/600 [==============================] - 3s 5ms/step - loss: 0.0039 - accuracy: 0.9988 - val_loss: 0.0493 - val_accuracy: 0.9905\n",
            "Epoch 38/100\n",
            "600/600 [==============================] - 2s 4ms/step - loss: 0.0040 - accuracy: 0.9986 - val_loss: 0.0521 - val_accuracy: 0.9901\n",
            "Epoch 39/100\n",
            "600/600 [==============================] - 2s 4ms/step - loss: 0.0027 - accuracy: 0.9990 - val_loss: 0.0497 - val_accuracy: 0.9900\n",
            "Epoch 40/100\n",
            "600/600 [==============================] - 2s 4ms/step - loss: 0.0020 - accuracy: 0.9993 - val_loss: 0.0509 - val_accuracy: 0.9904\n",
            "Epoch 41/100\n",
            "600/600 [==============================] - 2s 4ms/step - loss: 0.0039 - accuracy: 0.9987 - val_loss: 0.0543 - val_accuracy: 0.9894\n",
            "Epoch 42/100\n",
            "600/600 [==============================] - 2s 4ms/step - loss: 0.0049 - accuracy: 0.9984 - val_loss: 0.0574 - val_accuracy: 0.9906\n",
            "Epoch 43/100\n",
            "600/600 [==============================] - 2s 4ms/step - loss: 0.0027 - accuracy: 0.9991 - val_loss: 0.0597 - val_accuracy: 0.9915\n",
            "Epoch 44/100\n",
            "600/600 [==============================] - 2s 4ms/step - loss: 0.0047 - accuracy: 0.9984 - val_loss: 0.0643 - val_accuracy: 0.9895\n",
            "Epoch 45/100\n",
            "600/600 [==============================] - 2s 4ms/step - loss: 0.0033 - accuracy: 0.9991 - val_loss: 0.0502 - val_accuracy: 0.9913\n",
            "Epoch 46/100\n",
            "600/600 [==============================] - 2s 4ms/step - loss: 0.0030 - accuracy: 0.9990 - val_loss: 0.0541 - val_accuracy: 0.9917\n",
            "Epoch 47/100\n",
            "600/600 [==============================] - 2s 4ms/step - loss: 0.0035 - accuracy: 0.9988 - val_loss: 0.0566 - val_accuracy: 0.9907\n",
            "Epoch 48/100\n",
            "600/600 [==============================] - 2s 4ms/step - loss: 0.0016 - accuracy: 0.9995 - val_loss: 0.0614 - val_accuracy: 0.9910\n",
            "Epoch 49/100\n",
            "600/600 [==============================] - 2s 4ms/step - loss: 0.0036 - accuracy: 0.9988 - val_loss: 0.0814 - val_accuracy: 0.9896\n",
            "Epoch 50/100\n",
            "600/600 [==============================] - 2s 4ms/step - loss: 0.0048 - accuracy: 0.9986 - val_loss: 0.0557 - val_accuracy: 0.9901\n",
            "Epoch 51/100\n",
            "600/600 [==============================] - 2s 4ms/step - loss: 0.0020 - accuracy: 0.9993 - val_loss: 0.0651 - val_accuracy: 0.9909\n",
            "Epoch 52/100\n",
            "600/600 [==============================] - 2s 4ms/step - loss: 0.0033 - accuracy: 0.9990 - val_loss: 0.0601 - val_accuracy: 0.9898\n",
            "Epoch 53/100\n",
            "600/600 [==============================] - 2s 4ms/step - loss: 0.0042 - accuracy: 0.9989 - val_loss: 0.0672 - val_accuracy: 0.9898\n",
            "Epoch 54/100\n",
            "600/600 [==============================] - 2s 4ms/step - loss: 0.0024 - accuracy: 0.9992 - val_loss: 0.0543 - val_accuracy: 0.9910\n",
            "Epoch 55/100\n",
            "600/600 [==============================] - 2s 4ms/step - loss: 6.9625e-04 - accuracy: 0.9997 - val_loss: 0.0538 - val_accuracy: 0.9917\n",
            "Epoch 56/100\n",
            "600/600 [==============================] - 2s 4ms/step - loss: 5.5530e-05 - accuracy: 1.0000 - val_loss: 0.0544 - val_accuracy: 0.9921\n",
            "Epoch 57/100\n",
            "600/600 [==============================] - 3s 5ms/step - loss: 3.1909e-05 - accuracy: 1.0000 - val_loss: 0.0541 - val_accuracy: 0.9923\n",
            "Epoch 58/100\n",
            "600/600 [==============================] - 2s 4ms/step - loss: 1.1116e-05 - accuracy: 1.0000 - val_loss: 0.0547 - val_accuracy: 0.9922\n",
            "Epoch 59/100\n",
            "600/600 [==============================] - 2s 4ms/step - loss: 7.4536e-06 - accuracy: 1.0000 - val_loss: 0.0550 - val_accuracy: 0.9924\n",
            "Epoch 60/100\n",
            "600/600 [==============================] - 2s 4ms/step - loss: 5.6976e-06 - accuracy: 1.0000 - val_loss: 0.0561 - val_accuracy: 0.9925\n",
            "Epoch 61/100\n",
            "600/600 [==============================] - 2s 4ms/step - loss: 4.2806e-06 - accuracy: 1.0000 - val_loss: 0.0565 - val_accuracy: 0.9924\n",
            "Epoch 62/100\n",
            "600/600 [==============================] - 2s 4ms/step - loss: 3.1758e-06 - accuracy: 1.0000 - val_loss: 0.0571 - val_accuracy: 0.9925\n",
            "Epoch 63/100\n",
            "600/600 [==============================] - 2s 4ms/step - loss: 2.4693e-06 - accuracy: 1.0000 - val_loss: 0.0577 - val_accuracy: 0.9926\n",
            "Epoch 64/100\n",
            "600/600 [==============================] - 2s 4ms/step - loss: 1.9511e-06 - accuracy: 1.0000 - val_loss: 0.0586 - val_accuracy: 0.9926\n",
            "Epoch 65/100\n",
            "600/600 [==============================] - 2s 4ms/step - loss: 1.3990e-06 - accuracy: 1.0000 - val_loss: 0.0593 - val_accuracy: 0.9925\n",
            "Epoch 66/100\n",
            "600/600 [==============================] - 2s 4ms/step - loss: 1.0733e-06 - accuracy: 1.0000 - val_loss: 0.0604 - val_accuracy: 0.9927\n",
            "Epoch 67/100\n",
            "600/600 [==============================] - 2s 4ms/step - loss: 7.7233e-07 - accuracy: 1.0000 - val_loss: 0.0604 - val_accuracy: 0.9923\n",
            "Epoch 68/100\n",
            "600/600 [==============================] - 2s 4ms/step - loss: 0.0158 - accuracy: 0.9961 - val_loss: 0.0577 - val_accuracy: 0.9909\n",
            "Epoch 69/100\n",
            "600/600 [==============================] - 2s 4ms/step - loss: 0.0019 - accuracy: 0.9994 - val_loss: 0.0561 - val_accuracy: 0.9911\n",
            "Epoch 70/100\n",
            "600/600 [==============================] - 2s 4ms/step - loss: 0.0016 - accuracy: 0.9995 - val_loss: 0.0566 - val_accuracy: 0.9921\n",
            "Epoch 71/100\n",
            "600/600 [==============================] - 2s 4ms/step - loss: 0.0043 - accuracy: 0.9989 - val_loss: 0.0664 - val_accuracy: 0.9908\n",
            "Epoch 72/100\n",
            "600/600 [==============================] - 2s 4ms/step - loss: 0.0022 - accuracy: 0.9994 - val_loss: 0.0673 - val_accuracy: 0.9897\n",
            "Epoch 73/100\n",
            "600/600 [==============================] - 2s 4ms/step - loss: 0.0015 - accuracy: 0.9996 - val_loss: 0.0663 - val_accuracy: 0.9915\n",
            "Epoch 74/100\n",
            "600/600 [==============================] - 2s 4ms/step - loss: 0.0027 - accuracy: 0.9993 - val_loss: 0.0613 - val_accuracy: 0.9901\n",
            "Epoch 75/100\n",
            "600/600 [==============================] - 2s 4ms/step - loss: 0.0029 - accuracy: 0.9990 - val_loss: 0.0576 - val_accuracy: 0.9914\n",
            "Epoch 76/100\n",
            "600/600 [==============================] - 2s 4ms/step - loss: 0.0028 - accuracy: 0.9990 - val_loss: 0.0819 - val_accuracy: 0.9904\n",
            "Epoch 77/100\n",
            "600/600 [==============================] - 2s 4ms/step - loss: 0.0042 - accuracy: 0.9985 - val_loss: 0.0606 - val_accuracy: 0.9915\n",
            "Epoch 78/100\n",
            "600/600 [==============================] - 2s 4ms/step - loss: 0.0025 - accuracy: 0.9992 - val_loss: 0.0658 - val_accuracy: 0.9914\n",
            "Epoch 79/100\n",
            "600/600 [==============================] - 2s 4ms/step - loss: 0.0023 - accuracy: 0.9993 - val_loss: 0.0630 - val_accuracy: 0.9903\n",
            "Epoch 80/100\n",
            "600/600 [==============================] - 2s 4ms/step - loss: 9.5926e-04 - accuracy: 0.9996 - val_loss: 0.0724 - val_accuracy: 0.9906\n",
            "Epoch 81/100\n",
            "600/600 [==============================] - 2s 4ms/step - loss: 0.0016 - accuracy: 0.9995 - val_loss: 0.0729 - val_accuracy: 0.9893\n",
            "Epoch 82/100\n",
            "600/600 [==============================] - 2s 4ms/step - loss: 0.0044 - accuracy: 0.9988 - val_loss: 0.0721 - val_accuracy: 0.9900\n",
            "Epoch 83/100\n",
            "600/600 [==============================] - 2s 4ms/step - loss: 0.0022 - accuracy: 0.9993 - val_loss: 0.0686 - val_accuracy: 0.9900\n",
            "Epoch 84/100\n",
            "600/600 [==============================] - 2s 4ms/step - loss: 6.0117e-04 - accuracy: 0.9998 - val_loss: 0.0830 - val_accuracy: 0.9891\n",
            "Epoch 85/100\n",
            "600/600 [==============================] - 3s 5ms/step - loss: 0.0050 - accuracy: 0.9984 - val_loss: 0.0604 - val_accuracy: 0.9909\n",
            "Epoch 86/100\n",
            "600/600 [==============================] - 2s 4ms/step - loss: 0.0027 - accuracy: 0.9991 - val_loss: 0.0713 - val_accuracy: 0.9905\n",
            "Epoch 87/100\n",
            "600/600 [==============================] - 2s 4ms/step - loss: 0.0017 - accuracy: 0.9995 - val_loss: 0.0740 - val_accuracy: 0.9906\n",
            "Epoch 88/100\n",
            "600/600 [==============================] - 2s 4ms/step - loss: 0.0024 - accuracy: 0.9993 - val_loss: 0.0624 - val_accuracy: 0.9918\n",
            "Epoch 89/100\n",
            "600/600 [==============================] - 2s 4ms/step - loss: 0.0019 - accuracy: 0.9995 - val_loss: 0.0670 - val_accuracy: 0.9910\n",
            "Epoch 90/100\n",
            "600/600 [==============================] - 2s 4ms/step - loss: 5.1195e-04 - accuracy: 0.9998 - val_loss: 0.0743 - val_accuracy: 0.9906\n",
            "Epoch 91/100\n",
            "600/600 [==============================] - 2s 4ms/step - loss: 0.0053 - accuracy: 0.9985 - val_loss: 0.0735 - val_accuracy: 0.9895\n",
            "Epoch 92/100\n",
            "600/600 [==============================] - 2s 4ms/step - loss: 0.0019 - accuracy: 0.9995 - val_loss: 0.0551 - val_accuracy: 0.9916\n",
            "Epoch 93/100\n",
            "600/600 [==============================] - 2s 4ms/step - loss: 2.1326e-04 - accuracy: 0.9999 - val_loss: 0.0584 - val_accuracy: 0.9927\n",
            "Epoch 94/100\n",
            "600/600 [==============================] - 2s 4ms/step - loss: 1.3423e-04 - accuracy: 0.9999 - val_loss: 0.0594 - val_accuracy: 0.9925\n",
            "Epoch 95/100\n",
            "600/600 [==============================] - 2s 4ms/step - loss: 1.5845e-04 - accuracy: 1.0000 - val_loss: 0.0621 - val_accuracy: 0.9926\n",
            "Epoch 96/100\n",
            "600/600 [==============================] - 2s 4ms/step - loss: 7.2039e-06 - accuracy: 1.0000 - val_loss: 0.0595 - val_accuracy: 0.9928\n",
            "Epoch 97/100\n",
            "600/600 [==============================] - 2s 4ms/step - loss: 3.5180e-06 - accuracy: 1.0000 - val_loss: 0.0600 - val_accuracy: 0.9928\n",
            "Epoch 98/100\n",
            "600/600 [==============================] - 2s 4ms/step - loss: 2.6415e-06 - accuracy: 1.0000 - val_loss: 0.0603 - val_accuracy: 0.9929\n",
            "Epoch 99/100\n",
            "600/600 [==============================] - 2s 4ms/step - loss: 2.0576e-06 - accuracy: 1.0000 - val_loss: 0.0608 - val_accuracy: 0.9929\n",
            "Epoch 100/100\n",
            "600/600 [==============================] - 2s 4ms/step - loss: 1.6016e-06 - accuracy: 1.0000 - val_loss: 0.0615 - val_accuracy: 0.9929\n",
            "Model: \"sequential_12\"\n",
            "_________________________________________________________________\n",
            " Layer (type)                Output Shape              Param #   \n",
            "=================================================================\n",
            " conv2d_8 (Conv2D)           (100, 24, 24, 8)          208       \n",
            "                                                                 \n",
            " max_pooling2d_6 (MaxPooling  (100, 12, 12, 8)         0         \n",
            " 2D)                                                             \n",
            "                                                                 \n",
            " conv2d_9 (Conv2D)           (100, 8, 8, 16)           3216      \n",
            "                                                                 \n",
            " max_pooling2d_7 (MaxPooling  (100, 4, 4, 16)          0         \n",
            " 2D)                                                             \n",
            "                                                                 \n",
            " flatten_4 (Flatten)         (100, 256)                0         \n",
            "                                                                 \n",
            " dense_20 (Dense)            (100, 128)                32896     \n",
            "                                                                 \n",
            " dense_21 (Dense)            (100, 64)                 8256      \n",
            "                                                                 \n",
            " dense_22 (Dense)            (100, 10)                 650       \n",
            "                                                                 \n",
            "=================================================================\n",
            "Total params: 45,226\n",
            "Trainable params: 45,226\n",
            "Non-trainable params: 0\n",
            "_________________________________________________________________\n"
          ]
        }
      ],
      "source": [
        "model = tf.keras.models.Sequential([\n",
        "    tf.keras.layers.Conv2D(8, 5, activation = 'relu'),\n",
        "    tf.keras.layers.MaxPool2D(),\n",
        "    tf.keras.layers.Conv2D(16, 5, activation = 'relu'),\n",
        "    tf.keras.layers.MaxPool2D(),\n",
        "    tf.keras.layers.Flatten(),\n",
        "    tf.keras.layers.Dense(128, activation = 'relu'),\n",
        "    tf.keras.layers.Dense(64, activation = 'relu'),\n",
        "    tf.keras.layers.Dense(10, activation = 'softmax')])\n",
        "\n",
        "model.compile('adam',\n",
        "              'sparse_categorical_crossentropy',\n",
        "              'accuracy')\n",
        "\n",
        "model.fit(DATA0, TARGET0, batch_size = 100, epochs = 100, validation_data = (DATA1, TARGET1))\n",
        "\n",
        "model.summary()"
      ]
    },
    {
      "cell_type": "markdown",
      "metadata": {
        "id": "ihjHQpe8EAED"
      },
      "source": [
        "**Task.** Try other architectures, vary the number of layers, the number of channels, the filter sizes etc., to get an even better accuracy on the validation dataset."
      ]
    },
    {
      "cell_type": "markdown",
      "metadata": {
        "id": "sjupDtElEcp8"
      },
      "source": [
        "**Solution.** The network below, known as ONet7, gives validation accuracy of about 0.994 with only 37 274 weights:"
      ]
    },
    {
      "cell_type": "code",
      "execution_count": 36,
      "metadata": {
        "colab": {
          "base_uri": "https://localhost:8080/"
        },
        "id": "AMddTxMMEpn8",
        "outputId": "7a24db7d-178d-48d8-aa15-d6ae2548f9a2"
      },
      "outputs": [
        {
          "output_type": "stream",
          "name": "stdout",
          "text": [
            "Epoch 1/100\n",
            "600/600 [==============================] - 4s 5ms/step - loss: 0.2969 - accuracy: 0.9051 - val_loss: 0.0849 - val_accuracy: 0.9738\n",
            "Epoch 2/100\n",
            "600/600 [==============================] - 3s 5ms/step - loss: 0.0719 - accuracy: 0.9783 - val_loss: 0.0454 - val_accuracy: 0.9858\n",
            "Epoch 3/100\n",
            "600/600 [==============================] - 3s 5ms/step - loss: 0.0499 - accuracy: 0.9844 - val_loss: 0.0421 - val_accuracy: 0.9873\n",
            "Epoch 4/100\n",
            "600/600 [==============================] - 3s 5ms/step - loss: 0.0386 - accuracy: 0.9879 - val_loss: 0.0349 - val_accuracy: 0.9887\n",
            "Epoch 5/100\n",
            "600/600 [==============================] - 3s 5ms/step - loss: 0.0305 - accuracy: 0.9905 - val_loss: 0.0353 - val_accuracy: 0.9884\n",
            "Epoch 6/100\n",
            "600/600 [==============================] - 4s 6ms/step - loss: 0.0270 - accuracy: 0.9914 - val_loss: 0.0306 - val_accuracy: 0.9910\n",
            "Epoch 7/100\n",
            "600/600 [==============================] - 3s 5ms/step - loss: 0.0230 - accuracy: 0.9929 - val_loss: 0.0309 - val_accuracy: 0.9901\n",
            "Epoch 8/100\n",
            "600/600 [==============================] - 3s 5ms/step - loss: 0.0191 - accuracy: 0.9939 - val_loss: 0.0362 - val_accuracy: 0.9892\n",
            "Epoch 9/100\n",
            "600/600 [==============================] - 3s 5ms/step - loss: 0.0166 - accuracy: 0.9947 - val_loss: 0.0507 - val_accuracy: 0.9869\n",
            "Epoch 10/100\n",
            "600/600 [==============================] - 4s 6ms/step - loss: 0.0159 - accuracy: 0.9951 - val_loss: 0.0316 - val_accuracy: 0.9907\n",
            "Epoch 11/100\n",
            "600/600 [==============================] - 3s 5ms/step - loss: 0.0145 - accuracy: 0.9953 - val_loss: 0.0376 - val_accuracy: 0.9898\n",
            "Epoch 12/100\n",
            "600/600 [==============================] - 3s 5ms/step - loss: 0.0124 - accuracy: 0.9962 - val_loss: 0.0328 - val_accuracy: 0.9916\n",
            "Epoch 13/100\n",
            "600/600 [==============================] - 3s 5ms/step - loss: 0.0104 - accuracy: 0.9967 - val_loss: 0.0367 - val_accuracy: 0.9913\n",
            "Epoch 14/100\n",
            "600/600 [==============================] - 3s 5ms/step - loss: 0.0097 - accuracy: 0.9968 - val_loss: 0.0361 - val_accuracy: 0.9915\n",
            "Epoch 15/100\n",
            "600/600 [==============================] - 3s 5ms/step - loss: 0.0105 - accuracy: 0.9965 - val_loss: 0.0443 - val_accuracy: 0.9877\n",
            "Epoch 16/100\n",
            "600/600 [==============================] - 3s 5ms/step - loss: 0.0091 - accuracy: 0.9967 - val_loss: 0.0282 - val_accuracy: 0.9913\n",
            "Epoch 17/100\n",
            "600/600 [==============================] - 3s 5ms/step - loss: 0.0065 - accuracy: 0.9980 - val_loss: 0.0396 - val_accuracy: 0.9905\n",
            "Epoch 18/100\n",
            "600/600 [==============================] - 3s 5ms/step - loss: 0.0091 - accuracy: 0.9969 - val_loss: 0.0423 - val_accuracy: 0.9905\n",
            "Epoch 19/100\n",
            "600/600 [==============================] - 3s 5ms/step - loss: 0.0073 - accuracy: 0.9976 - val_loss: 0.0286 - val_accuracy: 0.9928\n",
            "Epoch 20/100\n",
            "600/600 [==============================] - 3s 5ms/step - loss: 0.0055 - accuracy: 0.9981 - val_loss: 0.0314 - val_accuracy: 0.9923\n",
            "Epoch 21/100\n",
            "600/600 [==============================] - 3s 5ms/step - loss: 0.0065 - accuracy: 0.9978 - val_loss: 0.0530 - val_accuracy: 0.9891\n",
            "Epoch 22/100\n",
            "600/600 [==============================] - 3s 5ms/step - loss: 0.0063 - accuracy: 0.9978 - val_loss: 0.0306 - val_accuracy: 0.9935\n",
            "Epoch 23/100\n",
            "600/600 [==============================] - 3s 5ms/step - loss: 0.0063 - accuracy: 0.9980 - val_loss: 0.0270 - val_accuracy: 0.9933\n",
            "Epoch 24/100\n",
            "600/600 [==============================] - 3s 5ms/step - loss: 0.0041 - accuracy: 0.9988 - val_loss: 0.0332 - val_accuracy: 0.9923\n",
            "Epoch 25/100\n",
            "600/600 [==============================] - 3s 5ms/step - loss: 0.0060 - accuracy: 0.9979 - val_loss: 0.0347 - val_accuracy: 0.9929\n",
            "Epoch 26/100\n",
            "600/600 [==============================] - 3s 5ms/step - loss: 0.0050 - accuracy: 0.9984 - val_loss: 0.0370 - val_accuracy: 0.9923\n",
            "Epoch 27/100\n",
            "600/600 [==============================] - 3s 5ms/step - loss: 0.0052 - accuracy: 0.9983 - val_loss: 0.0319 - val_accuracy: 0.9936\n",
            "Epoch 28/100\n",
            "600/600 [==============================] - 4s 6ms/step - loss: 0.0035 - accuracy: 0.9988 - val_loss: 0.0264 - val_accuracy: 0.9940\n",
            "Epoch 29/100\n",
            "600/600 [==============================] - 3s 5ms/step - loss: 0.0036 - accuracy: 0.9990 - val_loss: 0.0399 - val_accuracy: 0.9919\n",
            "Epoch 30/100\n",
            "600/600 [==============================] - 3s 5ms/step - loss: 0.0056 - accuracy: 0.9981 - val_loss: 0.0423 - val_accuracy: 0.9914\n",
            "Epoch 31/100\n",
            "600/600 [==============================] - 3s 5ms/step - loss: 0.0047 - accuracy: 0.9985 - val_loss: 0.0402 - val_accuracy: 0.9922\n",
            "Epoch 32/100\n",
            "600/600 [==============================] - 3s 5ms/step - loss: 8.6941e-04 - accuracy: 0.9998 - val_loss: 0.0390 - val_accuracy: 0.9934\n",
            "Epoch 33/100\n",
            "600/600 [==============================] - 3s 5ms/step - loss: 0.0051 - accuracy: 0.9985 - val_loss: 0.0429 - val_accuracy: 0.9908\n",
            "Epoch 34/100\n",
            "600/600 [==============================] - 3s 5ms/step - loss: 0.0026 - accuracy: 0.9991 - val_loss: 0.0441 - val_accuracy: 0.9921\n",
            "Epoch 35/100\n",
            "600/600 [==============================] - 3s 5ms/step - loss: 0.0054 - accuracy: 0.9984 - val_loss: 0.0311 - val_accuracy: 0.9940\n",
            "Epoch 36/100\n",
            "600/600 [==============================] - 3s 5ms/step - loss: 0.0040 - accuracy: 0.9987 - val_loss: 0.0361 - val_accuracy: 0.9916\n",
            "Epoch 37/100\n",
            "600/600 [==============================] - 3s 5ms/step - loss: 0.0027 - accuracy: 0.9992 - val_loss: 0.0436 - val_accuracy: 0.9910\n",
            "Epoch 38/100\n",
            "600/600 [==============================] - 3s 5ms/step - loss: 0.0046 - accuracy: 0.9985 - val_loss: 0.0326 - val_accuracy: 0.9935\n",
            "Epoch 39/100\n",
            "600/600 [==============================] - 3s 5ms/step - loss: 0.0017 - accuracy: 0.9995 - val_loss: 0.0351 - val_accuracy: 0.9922\n",
            "Epoch 40/100\n",
            "600/600 [==============================] - 3s 5ms/step - loss: 0.0055 - accuracy: 0.9982 - val_loss: 0.0474 - val_accuracy: 0.9903\n",
            "Epoch 41/100\n",
            "600/600 [==============================] - 3s 5ms/step - loss: 0.0027 - accuracy: 0.9990 - val_loss: 0.0358 - val_accuracy: 0.9930\n",
            "Epoch 42/100\n",
            "600/600 [==============================] - 3s 5ms/step - loss: 0.0036 - accuracy: 0.9987 - val_loss: 0.0414 - val_accuracy: 0.9919\n",
            "Epoch 43/100\n",
            "600/600 [==============================] - 3s 5ms/step - loss: 0.0034 - accuracy: 0.9988 - val_loss: 0.0467 - val_accuracy: 0.9917\n",
            "Epoch 44/100\n",
            "600/600 [==============================] - 3s 5ms/step - loss: 0.0020 - accuracy: 0.9994 - val_loss: 0.0349 - val_accuracy: 0.9934\n",
            "Epoch 45/100\n",
            "600/600 [==============================] - 3s 5ms/step - loss: 0.0027 - accuracy: 0.9992 - val_loss: 0.0370 - val_accuracy: 0.9929\n",
            "Epoch 46/100\n",
            "600/600 [==============================] - 3s 5ms/step - loss: 0.0035 - accuracy: 0.9989 - val_loss: 0.0538 - val_accuracy: 0.9895\n",
            "Epoch 47/100\n",
            "600/600 [==============================] - 3s 5ms/step - loss: 0.0031 - accuracy: 0.9990 - val_loss: 0.0402 - val_accuracy: 0.9935\n",
            "Epoch 48/100\n",
            "600/600 [==============================] - 3s 5ms/step - loss: 0.0028 - accuracy: 0.9991 - val_loss: 0.0377 - val_accuracy: 0.9928\n",
            "Epoch 49/100\n",
            "600/600 [==============================] - 3s 5ms/step - loss: 0.0039 - accuracy: 0.9989 - val_loss: 0.0412 - val_accuracy: 0.9926\n",
            "Epoch 50/100\n",
            "600/600 [==============================] - 3s 5ms/step - loss: 0.0014 - accuracy: 0.9996 - val_loss: 0.0412 - val_accuracy: 0.9928\n",
            "Epoch 51/100\n",
            "600/600 [==============================] - 3s 5ms/step - loss: 0.0029 - accuracy: 0.9993 - val_loss: 0.0420 - val_accuracy: 0.9920\n",
            "Epoch 52/100\n",
            "600/600 [==============================] - 3s 5ms/step - loss: 0.0025 - accuracy: 0.9991 - val_loss: 0.0422 - val_accuracy: 0.9917\n",
            "Epoch 53/100\n",
            "600/600 [==============================] - 3s 5ms/step - loss: 0.0028 - accuracy: 0.9990 - val_loss: 0.0447 - val_accuracy: 0.9930\n",
            "Epoch 54/100\n",
            "600/600 [==============================] - 3s 5ms/step - loss: 0.0026 - accuracy: 0.9992 - val_loss: 0.0440 - val_accuracy: 0.9937\n",
            "Epoch 55/100\n",
            "600/600 [==============================] - 3s 5ms/step - loss: 0.0016 - accuracy: 0.9997 - val_loss: 0.0440 - val_accuracy: 0.9925\n",
            "Epoch 56/100\n",
            "600/600 [==============================] - 3s 5ms/step - loss: 0.0032 - accuracy: 0.9991 - val_loss: 0.0449 - val_accuracy: 0.9919\n",
            "Epoch 57/100\n",
            "600/600 [==============================] - 3s 5ms/step - loss: 0.0034 - accuracy: 0.9990 - val_loss: 0.0453 - val_accuracy: 0.9924\n",
            "Epoch 58/100\n",
            "600/600 [==============================] - 3s 5ms/step - loss: 0.0011 - accuracy: 0.9996 - val_loss: 0.0530 - val_accuracy: 0.9926\n",
            "Epoch 59/100\n",
            "600/600 [==============================] - 3s 5ms/step - loss: 0.0033 - accuracy: 0.9991 - val_loss: 0.0450 - val_accuracy: 0.9926\n",
            "Epoch 60/100\n",
            "600/600 [==============================] - 3s 5ms/step - loss: 0.0015 - accuracy: 0.9996 - val_loss: 0.0454 - val_accuracy: 0.9922\n",
            "Epoch 61/100\n",
            "600/600 [==============================] - 3s 5ms/step - loss: 0.0034 - accuracy: 0.9991 - val_loss: 0.0561 - val_accuracy: 0.9904\n",
            "Epoch 62/100\n",
            "600/600 [==============================] - 3s 5ms/step - loss: 0.0021 - accuracy: 0.9993 - val_loss: 0.0457 - val_accuracy: 0.9924\n",
            "Epoch 63/100\n",
            "600/600 [==============================] - 3s 5ms/step - loss: 0.0016 - accuracy: 0.9995 - val_loss: 0.0407 - val_accuracy: 0.9930\n",
            "Epoch 64/100\n",
            "600/600 [==============================] - 3s 5ms/step - loss: 0.0032 - accuracy: 0.9992 - val_loss: 0.0377 - val_accuracy: 0.9936\n",
            "Epoch 65/100\n",
            "600/600 [==============================] - 3s 5ms/step - loss: 0.0026 - accuracy: 0.9992 - val_loss: 0.0426 - val_accuracy: 0.9932\n",
            "Epoch 66/100\n",
            "600/600 [==============================] - 3s 5ms/step - loss: 7.6389e-04 - accuracy: 0.9998 - val_loss: 0.0420 - val_accuracy: 0.9936\n",
            "Epoch 67/100\n",
            "600/600 [==============================] - 3s 5ms/step - loss: 0.0036 - accuracy: 0.9990 - val_loss: 0.0475 - val_accuracy: 0.9926\n",
            "Epoch 68/100\n",
            "600/600 [==============================] - 3s 5ms/step - loss: 0.0033 - accuracy: 0.9989 - val_loss: 0.0371 - val_accuracy: 0.9932\n",
            "Epoch 69/100\n",
            "600/600 [==============================] - 3s 5ms/step - loss: 0.0030 - accuracy: 0.9991 - val_loss: 0.0364 - val_accuracy: 0.9932\n",
            "Epoch 70/100\n",
            "600/600 [==============================] - 3s 5ms/step - loss: 0.0015 - accuracy: 0.9995 - val_loss: 0.0535 - val_accuracy: 0.9913\n",
            "Epoch 71/100\n",
            "600/600 [==============================] - 3s 5ms/step - loss: 0.0034 - accuracy: 0.9990 - val_loss: 0.0443 - val_accuracy: 0.9924\n",
            "Epoch 72/100\n",
            "600/600 [==============================] - 3s 6ms/step - loss: 0.0021 - accuracy: 0.9995 - val_loss: 0.0376 - val_accuracy: 0.9917\n",
            "Epoch 73/100\n",
            "600/600 [==============================] - 3s 5ms/step - loss: 7.5424e-04 - accuracy: 0.9998 - val_loss: 0.0376 - val_accuracy: 0.9940\n",
            "Epoch 74/100\n",
            "600/600 [==============================] - 3s 5ms/step - loss: 6.8900e-05 - accuracy: 1.0000 - val_loss: 0.0411 - val_accuracy: 0.9937\n",
            "Epoch 75/100\n",
            "600/600 [==============================] - 3s 5ms/step - loss: 0.0039 - accuracy: 0.9988 - val_loss: 0.0422 - val_accuracy: 0.9937\n",
            "Epoch 76/100\n",
            "600/600 [==============================] - 3s 5ms/step - loss: 0.0028 - accuracy: 0.9991 - val_loss: 0.0398 - val_accuracy: 0.9932\n",
            "Epoch 77/100\n",
            "600/600 [==============================] - 3s 5ms/step - loss: 0.0012 - accuracy: 0.9996 - val_loss: 0.0539 - val_accuracy: 0.9924\n",
            "Epoch 78/100\n",
            "600/600 [==============================] - 3s 5ms/step - loss: 0.0020 - accuracy: 0.9993 - val_loss: 0.0597 - val_accuracy: 0.9923\n",
            "Epoch 79/100\n",
            "600/600 [==============================] - 3s 5ms/step - loss: 0.0029 - accuracy: 0.9991 - val_loss: 0.0585 - val_accuracy: 0.9916\n",
            "Epoch 80/100\n",
            "600/600 [==============================] - 3s 5ms/step - loss: 0.0017 - accuracy: 0.9996 - val_loss: 0.0426 - val_accuracy: 0.9932\n",
            "Epoch 81/100\n",
            "600/600 [==============================] - 3s 5ms/step - loss: 0.0020 - accuracy: 0.9994 - val_loss: 0.0463 - val_accuracy: 0.9932\n",
            "Epoch 82/100\n",
            "600/600 [==============================] - 3s 5ms/step - loss: 0.0023 - accuracy: 0.9993 - val_loss: 0.0476 - val_accuracy: 0.9919\n",
            "Epoch 83/100\n",
            "600/600 [==============================] - 3s 5ms/step - loss: 0.0030 - accuracy: 0.9991 - val_loss: 0.0519 - val_accuracy: 0.9920\n",
            "Epoch 84/100\n",
            "600/600 [==============================] - 3s 5ms/step - loss: 0.0017 - accuracy: 0.9994 - val_loss: 0.0440 - val_accuracy: 0.9937\n",
            "Epoch 85/100\n",
            "600/600 [==============================] - 3s 5ms/step - loss: 0.0030 - accuracy: 0.9992 - val_loss: 0.0445 - val_accuracy: 0.9944\n",
            "Epoch 86/100\n",
            "600/600 [==============================] - 3s 5ms/step - loss: 6.0685e-04 - accuracy: 0.9998 - val_loss: 0.0513 - val_accuracy: 0.9929\n",
            "Epoch 87/100\n",
            "600/600 [==============================] - 3s 5ms/step - loss: 0.0021 - accuracy: 0.9995 - val_loss: 0.0493 - val_accuracy: 0.9941\n",
            "Epoch 88/100\n",
            "600/600 [==============================] - 3s 5ms/step - loss: 0.0027 - accuracy: 0.9991 - val_loss: 0.0425 - val_accuracy: 0.9941\n",
            "Epoch 89/100\n",
            "600/600 [==============================] - 3s 5ms/step - loss: 0.0029 - accuracy: 0.9991 - val_loss: 0.0751 - val_accuracy: 0.9903\n",
            "Epoch 90/100\n",
            "600/600 [==============================] - 3s 5ms/step - loss: 0.0018 - accuracy: 0.9996 - val_loss: 0.0479 - val_accuracy: 0.9933\n",
            "Epoch 91/100\n",
            "600/600 [==============================] - 3s 5ms/step - loss: 3.6854e-04 - accuracy: 0.9999 - val_loss: 0.0446 - val_accuracy: 0.9941\n",
            "Epoch 92/100\n",
            "600/600 [==============================] - 3s 5ms/step - loss: 0.0025 - accuracy: 0.9993 - val_loss: 0.0518 - val_accuracy: 0.9918\n",
            "Epoch 93/100\n",
            "600/600 [==============================] - 4s 6ms/step - loss: 0.0012 - accuracy: 0.9996 - val_loss: 0.0546 - val_accuracy: 0.9928\n",
            "Epoch 94/100\n",
            "600/600 [==============================] - 3s 5ms/step - loss: 0.0035 - accuracy: 0.9991 - val_loss: 0.0477 - val_accuracy: 0.9927\n",
            "Epoch 95/100\n",
            "600/600 [==============================] - 3s 6ms/step - loss: 0.0012 - accuracy: 0.9995 - val_loss: 0.0537 - val_accuracy: 0.9928\n",
            "Epoch 96/100\n",
            "600/600 [==============================] - 3s 5ms/step - loss: 9.0306e-04 - accuracy: 0.9998 - val_loss: 0.0634 - val_accuracy: 0.9928\n",
            "Epoch 97/100\n",
            "600/600 [==============================] - 3s 5ms/step - loss: 0.0033 - accuracy: 0.9991 - val_loss: 0.0467 - val_accuracy: 0.9928\n",
            "Epoch 98/100\n",
            "600/600 [==============================] - 3s 5ms/step - loss: 0.0013 - accuracy: 0.9996 - val_loss: 0.0491 - val_accuracy: 0.9922\n",
            "Epoch 99/100\n",
            "600/600 [==============================] - 3s 5ms/step - loss: 4.3809e-04 - accuracy: 0.9998 - val_loss: 0.0498 - val_accuracy: 0.9938\n",
            "Epoch 100/100\n",
            "600/600 [==============================] - 3s 5ms/step - loss: 6.7193e-04 - accuracy: 0.9998 - val_loss: 0.0537 - val_accuracy: 0.9931\n",
            "Model: \"sequential_13\"\n",
            "_________________________________________________________________\n",
            " Layer (type)                Output Shape              Param #   \n",
            "=================================================================\n",
            " conv2d_10 (Conv2D)          (100, 26, 26, 16)         160       \n",
            "                                                                 \n",
            " conv2d_11 (Conv2D)          (100, 24, 24, 16)         2320      \n",
            "                                                                 \n",
            " max_pooling2d_8 (MaxPooling  (100, 12, 12, 16)        0         \n",
            " 2D)                                                             \n",
            "                                                                 \n",
            " conv2d_12 (Conv2D)          (100, 10, 10, 32)         4640      \n",
            "                                                                 \n",
            " conv2d_13 (Conv2D)          (100, 8, 8, 32)           9248      \n",
            "                                                                 \n",
            " max_pooling2d_9 (MaxPooling  (100, 4, 4, 32)          0         \n",
            " 2D)                                                             \n",
            "                                                                 \n",
            " conv2d_14 (Conv2D)          (100, 2, 2, 64)           18496     \n",
            "                                                                 \n",
            " max_pooling2d_10 (MaxPoolin  (100, 1, 1, 64)          0         \n",
            " g2D)                                                            \n",
            "                                                                 \n",
            " flatten_5 (Flatten)         (100, 64)                 0         \n",
            "                                                                 \n",
            " dense_23 (Dense)            (100, 32)                 2080      \n",
            "                                                                 \n",
            " dense_24 (Dense)            (100, 10)                 330       \n",
            "                                                                 \n",
            "=================================================================\n",
            "Total params: 37,274\n",
            "Trainable params: 37,274\n",
            "Non-trainable params: 0\n",
            "_________________________________________________________________\n"
          ]
        }
      ],
      "source": [
        "model = tf.keras.models.Sequential([\n",
        "    tf.keras.layers.Conv2D(16, 3, activation = 'relu'),\n",
        "    tf.keras.layers.Conv2D(16, 3, activation = 'relu'),\n",
        "    tf.keras.layers.MaxPool2D(),\n",
        "    tf.keras.layers.Conv2D(32, 3, activation = 'relu'),\n",
        "    tf.keras.layers.Conv2D(32, 3, activation = 'relu'),\n",
        "    tf.keras.layers.MaxPool2D(),\n",
        "    tf.keras.layers.Conv2D(64, 3, activation = 'relu'),\n",
        "    tf.keras.layers.MaxPool2D(),\n",
        "    tf.keras.layers.Flatten(),\n",
        "    tf.keras.layers.Dense(32, activation = 'relu'),\n",
        "    tf.keras.layers.Dense(10, activation = 'softmax')])\n",
        "\n",
        "model.compile('adam',\n",
        "              'sparse_categorical_crossentropy',\n",
        "              'accuracy')\n",
        "\n",
        "model.fit(DATA0, TARGET0, batch_size = 100, epochs = 100, validation_data = (DATA1, TARGET1))\n",
        "\n",
        "model.summary()"
      ]
    },
    {
      "cell_type": "markdown",
      "metadata": {
        "id": "_PGfDI8oTThT"
      },
      "source": [
        "**Task.** Display the missclassified digits from the validation dataset together with their true and predicted labels."
      ]
    },
    {
      "cell_type": "markdown",
      "metadata": {
        "id": "Z5dBRr09TThT"
      },
      "source": [
        "**Solution.** This code displays the missclassified digits from the validation dataset together with their true and predicted labels. It would be difficult even for humans to correctly classify some of these digits."
      ]
    },
    {
      "cell_type": "code",
      "execution_count": 37,
      "metadata": {
        "colab": {
          "base_uri": "https://localhost:8080/",
          "height": 1000
        },
        "id": "0YhJoMy-TThT",
        "outputId": "5fb619b3-6be4-4842-cbe3-17d2cb53d385",
        "scrolled": true
      },
      "outputs": [
        {
          "output_type": "stream",
          "name": "stdout",
          "text": [
            "9 4\n"
          ]
        },
        {
          "output_type": "display_data",
          "data": {
            "text/plain": [
              "<Figure size 432x288 with 1 Axes>"
            ],
            "image/png": "[encoded data removed]"
          },
          "metadata": {
            "needs_background": "light"
          }
        },
        {
          "output_type": "stream",
          "name": "stdout",
          "text": [
            "2 4\n"
          ]
        },
        {
          "output_type": "display_data",
          "data": {
            "text/plain": [
              "<Figure size 432x288 with 1 Axes>"
            ],
            "image/png": "[encoded data removed]"
          },
          "metadata": {
            "needs_background": "light"
          }
        },
        {
          "output_type": "stream",
          "name": "stdout",
          "text": [
            "4 9\n"
          ]
        },
        {
          "output_type": "display_data",
          "data": {
            "text/plain": [
              "<Figure size 432x288 with 1 Axes>"
            ],
            "image/png": "[encoded data removed]"
          },
          "metadata": {
            "needs_background": "light"
          }
        },
        {
          "output_type": "stream",
          "name": "stdout",
          "text": [
            "0 6\n"
          ]
        },
        {
          "output_type": "display_data",
          "data": {
            "text/plain": [
              "<Figure size 432x288 with 1 Axes>"
            ],
            "image/png": "[encoded data removed]"
          },
          "metadata": {
            "needs_background": "light"
          }
        },
        {
          "output_type": "stream",
          "name": "stdout",
          "text": [
            "5 3\n"
          ]
        },
        {
          "output_type": "display_data",
          "data": {
            "text/plain": [
              "<Figure size 432x288 with 1 Axes>"
            ],
            "image/png": "[encoded data removed]"
          },
          "metadata": {
            "needs_background": "light"
          }
        },
        {
          "output_type": "stream",
          "name": "stdout",
          "text": [
            "0 8\n"
          ]
        },
        {
          "output_type": "display_data",
          "data": {
            "text/plain": [
              "<Figure size 432x288 with 1 Axes>"
            ],
            "image/png": "[encoded data removed]"
          },
          "metadata": {
            "needs_background": "light"
          }
        },
        {
          "output_type": "stream",
          "name": "stdout",
          "text": [
            "2 8\n"
          ]
        },
        {
          "output_type": "display_data",
          "data": {
            "text/plain": [
              "<Figure size 432x288 with 1 Axes>"
            ],
            "image/png": "[encoded data removed]"
          },
          "metadata": {
            "needs_background": "light"
          }
        },
        {
          "output_type": "stream",
          "name": "stdout",
          "text": [
            "1 2\n"
          ]
        },
        {
          "output_type": "display_data",
          "data": {
            "text/plain": [
              "<Figure size 432x288 with 1 Axes>"
            ],
            "image/png": "[encoded data removed]"
          },
          "metadata": {
            "needs_background": "light"
          }
        },
        {
          "output_type": "stream",
          "name": "stdout",
          "text": [
            "7 1\n"
          ]
        },
        {
          "output_type": "display_data",
          "data": {
            "text/plain": [
              "<Figure size 432x288 with 1 Axes>"
            ],
            "image/png": "[encoded data removed]"
          },
          "metadata": {
            "needs_background": "light"
          }
        },
        {
          "output_type": "stream",
          "name": "stdout",
          "text": [
            "9 8\n"
          ]
        },
        {
          "output_type": "display_data",
          "data": {
            "text/plain": [
              "<Figure size 432x288 with 1 Axes>"
            ],
            "image/png": "[encoded data removed]"
          },
          "metadata": {
            "needs_background": "light"
          }
        },
        {
          "output_type": "stream",
          "name": "stdout",
          "text": [
            "5 6\n"
          ]
        },
        {
          "output_type": "display_data",
          "data": {
            "text/plain": [
              "<Figure size 432x288 with 1 Axes>"
            ],
            "image/png": "[encoded data removed]"
          },
          "metadata": {
            "needs_background": "light"
          }
        },
        {
          "output_type": "stream",
          "name": "stdout",
          "text": [
            "1 7\n"
          ]
        },
        {
          "output_type": "display_data",
          "data": {
            "text/plain": [
              "<Figure size 432x288 with 1 Axes>"
            ],
            "image/png": "[encoded data removed]"
          },
          "metadata": {
            "needs_background": "light"
          }
        },
        {
          "output_type": "stream",
          "name": "stdout",
          "text": [
            "6 4\n"
          ]
        },
        {
          "output_type": "display_data",
          "data": {
            "text/plain": [
              "<Figure size 432x288 with 1 Axes>"
            ],
            "image/png": "[encoded data removed]"
          },
          "metadata": {
            "needs_background": "light"
          }
        },
        {
          "output_type": "stream",
          "name": "stdout",
          "text": [
            "2 7\n"
          ]
        },
        {
          "output_type": "display_data",
          "data": {
            "text/plain": [
              "<Figure size 432x288 with 1 Axes>"
            ],
            "image/png": "[encoded data removed]"
          },
          "metadata": {
            "needs_background": "light"
          }
        },
        {
          "output_type": "stream",
          "name": "stdout",
          "text": [
            "4 9\n"
          ]
        },
        {
          "output_type": "display_data",
          "data": {
            "text/plain": [
              "<Figure size 432x288 with 1 Axes>"
            ],
            "image/png": "[encoded data removed]"
          },
          "metadata": {
            "needs_background": "light"
          }
        },
        {
          "output_type": "stream",
          "name": "stdout",
          "text": [
            "0 9\n"
          ]
        },
        {
          "output_type": "display_data",
          "data": {
            "text/plain": [
              "<Figure size 432x288 with 1 Axes>"
            ],
            "image/png": "[encoded data removed]"
          },
          "metadata": {
            "needs_background": "light"
          }
        },
        {
          "output_type": "stream",
          "name": "stdout",
          "text": [
            "1 7\n"
          ]
        },
        {
          "output_type": "display_data",
          "data": {
            "text/plain": [
              "<Figure size 432x288 with 1 Axes>"
            ],
            "image/png": "[encoded data removed]"
          },
          "metadata": {
            "needs_background": "light"
          }
        },
        {
          "output_type": "stream",
          "name": "stdout",
          "text": [
            "7 5\n"
          ]
        },
        {
          "output_type": "display_data",
          "data": {
            "text/plain": [
              "<Figure size 432x288 with 1 Axes>"
            ],
            "image/png": "[encoded data removed]"
          },
          "metadata": {
            "needs_background": "light"
          }
        },
        {
          "output_type": "stream",
          "name": "stdout",
          "text": [
            "6 0\n"
          ]
        },
        {
          "output_type": "display_data",
          "data": {
            "text/plain": [
              "<Figure size 432x288 with 1 Axes>"
            ],
            "image/png": "[encoded data removed]"
          },
          "metadata": {
            "needs_background": "light"
          }
        },
        {
          "output_type": "stream",
          "name": "stdout",
          "text": [
            "3 2\n"
          ]
        },
        {
          "output_type": "display_data",
          "data": {
            "text/plain": [
              "<Figure size 432x288 with 1 Axes>"
            ],
            "image/png": "[encoded data removed]"
          },
          "metadata": {
            "needs_background": "light"
          }
        },
        {
          "output_type": "stream",
          "name": "stdout",
          "text": [
            "3 8\n"
          ]
        },
        {
          "output_type": "display_data",
          "data": {
            "text/plain": [
              "<Figure size 432x288 with 1 Axes>"
            ],
            "image/png": "[encoded data removed]"
          },
          "metadata": {
            "needs_background": "light"
          }
        },
        {
          "output_type": "stream",
          "name": "stdout",
          "text": [
            "4 9\n"
          ]
        },
        {
          "output_type": "display_data",
          "data": {
            "text/plain": [
              "<Figure size 432x288 with 1 Axes>"
            ],
            "image/png": "[encoded data removed]"
          },
          "metadata": {
            "needs_background": "light"
          }
        },
        {
          "output_type": "stream",
          "name": "stdout",
          "text": [
            "9 7\n"
          ]
        },
        {
          "output_type": "display_data",
          "data": {
            "text/plain": [
              "<Figure size 432x288 with 1 Axes>"
            ],
            "image/png": "[encoded data removed]"
          },
          "metadata": {
            "needs_background": "light"
          }
        },
        {
          "output_type": "stream",
          "name": "stdout",
          "text": [
            "9 4\n"
          ]
        },
        {
          "output_type": "display_data",
          "data": {
            "text/plain": [
              "<Figure size 432x288 with 1 Axes>"
            ],
            "image/png": "[encoded data removed]"
          },
          "metadata": {
            "needs_background": "light"
          }
        },
        {
          "output_type": "stream",
          "name": "stdout",
          "text": [
            "1 6\n"
          ]
        },
        {
          "output_type": "display_data",
          "data": {
            "text/plain": [
              "<Figure size 432x288 with 1 Axes>"
            ],
            "image/png": "[encoded data removed]"
          },
          "metadata": {
            "needs_background": "light"
          }
        },
        {
          "output_type": "stream",
          "name": "stdout",
          "text": [
            "2 7\n"
          ]
        },
        {
          "output_type": "display_data",
          "data": {
            "text/plain": [
              "<Figure size 432x288 with 1 Axes>"
            ],
            "image/png": "[encoded data removed]"
          },
          "metadata": {
            "needs_background": "light"
          }
        },
        {
          "output_type": "stream",
          "name": "stdout",
          "text": [
            "0 9\n"
          ]
        },
        {
          "output_type": "display_data",
          "data": {
            "text/plain": [
              "<Figure size 432x288 with 1 Axes>"
            ],
            "image/png": "[encoded data removed]"
          },
          "metadata": {
            "needs_background": "light"
          }
        },
        {
          "output_type": "stream",
          "name": "stdout",
          "text": [
            "9 7\n"
          ]
        },
        {
          "output_type": "display_data",
          "data": {
            "text/plain": [
              "<Figure size 432x288 with 1 Axes>"
            ],
            "image/png": "[encoded data removed]"
          },
          "metadata": {
            "needs_background": "light"
          }
        },
        {
          "output_type": "stream",
          "name": "stdout",
          "text": [
            "0 2\n"
          ]
        },
        {
          "output_type": "display_data",
          "data": {
            "text/plain": [
              "<Figure size 432x288 with 1 Axes>"
            ],
            "image/png": "[encoded data removed]"
          },
          "metadata": {
            "needs_background": "light"
          }
        },
        {
          "output_type": "stream",
          "name": "stdout",
          "text": [
            "5 3\n"
          ]
        },
        {
          "output_type": "display_data",
          "data": {
            "text/plain": [
              "<Figure size 432x288 with 1 Axes>"
            ],
            "image/png": "[encoded data removed]"
          },
          "metadata": {
            "needs_background": "light"
          }
        },
        {
          "output_type": "stream",
          "name": "stdout",
          "text": [
            "3 5\n"
          ]
        },
        {
          "output_type": "display_data",
          "data": {
            "text/plain": [
              "<Figure size 432x288 with 1 Axes>"
            ],
            "image/png": "[encoded data removed]"
          },
          "metadata": {
            "needs_background": "light"
          }
        },
        {
          "output_type": "stream",
          "name": "stdout",
          "text": [
            "1 6\n"
          ]
        },
        {
          "output_type": "display_data",
          "data": {
            "text/plain": [
              "<Figure size 432x288 with 1 Axes>"
            ],
            "image/png": "[encoded data removed]"
          },
          "metadata": {
            "needs_background": "light"
          }
        },
        {
          "output_type": "stream",
          "name": "stdout",
          "text": [
            "8 4\n"
          ]
        },
        {
          "output_type": "display_data",
          "data": {
            "text/plain": [
              "<Figure size 432x288 with 1 Axes>"
            ],
            "image/png": "[encoded data removed]"
          },
          "metadata": {
            "needs_background": "light"
          }
        },
        {
          "output_type": "stream",
          "name": "stdout",
          "text": [
            "0 8\n"
          ]
        },
        {
          "output_type": "display_data",
          "data": {
            "text/plain": [
              "<Figure size 432x288 with 1 Axes>"
            ],
            "image/png": "[encoded data removed]"
          },
          "metadata": {
            "needs_background": "light"
          }
        },
        {
          "output_type": "stream",
          "name": "stdout",
          "text": [
            "5 3\n"
          ]
        },
        {
          "output_type": "display_data",
          "data": {
            "text/plain": [
              "<Figure size 432x288 with 1 Axes>"
            ],
            "image/png": "[encoded data removed]"
          },
          "metadata": {
            "needs_background": "light"
          }
        },
        {
          "output_type": "stream",
          "name": "stdout",
          "text": [
            "8 6\n"
          ]
        },
        {
          "output_type": "display_data",
          "data": {
            "text/plain": [
              "<Figure size 432x288 with 1 Axes>"
            ],
            "image/png": "[encoded data removed]"
          },
          "metadata": {
            "needs_background": "light"
          }
        },
        {
          "output_type": "stream",
          "name": "stdout",
          "text": [
            "0 6\n"
          ]
        },
        {
          "output_type": "display_data",
          "data": {
            "text/plain": [
              "<Figure size 432x288 with 1 Axes>"
            ],
            "image/png": "[encoded data removed]"
          },
          "metadata": {
            "needs_background": "light"
          }
        },
        {
          "output_type": "stream",
          "name": "stdout",
          "text": [
            "1 7\n"
          ]
        },
        {
          "output_type": "display_data",
          "data": {
            "text/plain": [
              "<Figure size 432x288 with 1 Axes>"
            ],
            "image/png": "[encoded data removed]"
          },
          "metadata": {
            "needs_background": "light"
          }
        },
        {
          "output_type": "stream",
          "name": "stdout",
          "text": [
            "9 4\n"
          ]
        },
        {
          "output_type": "display_data",
          "data": {
            "text/plain": [
              "<Figure size 432x288 with 1 Axes>"
            ],
            "image/png": "[encoded data removed]"
          },
          "metadata": {
            "needs_background": "light"
          }
        },
        {
          "output_type": "stream",
          "name": "stdout",
          "text": [
            "0 6\n"
          ]
        },
        {
          "output_type": "display_data",
          "data": {
            "text/plain": [
              "<Figure size 432x288 with 1 Axes>"
            ],
            "image/png": "[encoded data removed]"
          },
          "metadata": {
            "needs_background": "light"
          }
        },
        {
          "output_type": "stream",
          "name": "stdout",
          "text": [
            "7 3\n"
          ]
        },
        {
          "output_type": "display_data",
          "data": {
            "text/plain": [
              "<Figure size 432x288 with 1 Axes>"
            ],
            "image/png": "[encoded data removed]"
          },
          "metadata": {
            "needs_background": "light"
          }
        },
        {
          "output_type": "stream",
          "name": "stdout",
          "text": [
            "5 6\n"
          ]
        },
        {
          "output_type": "display_data",
          "data": {
            "text/plain": [
              "<Figure size 432x288 with 1 Axes>"
            ],
            "image/png": "[encoded data removed]"
          },
          "metadata": {
            "needs_background": "light"
          }
        },
        {
          "output_type": "stream",
          "name": "stdout",
          "text": [
            "3 8\n"
          ]
        },
        {
          "output_type": "display_data",
          "data": {
            "text/plain": [
              "<Figure size 432x288 with 1 Axes>"
            ],
            "image/png": "[encoded data removed]"
          },
          "metadata": {
            "needs_background": "light"
          }
        },
        {
          "output_type": "stream",
          "name": "stdout",
          "text": [
            "2 7\n"
          ]
        },
        {
          "output_type": "display_data",
          "data": {
            "text/plain": [
              "<Figure size 432x288 with 1 Axes>"
            ],
            "image/png": "[encoded data removed]"
          },
          "metadata": {
            "needs_background": "light"
          }
        },
        {
          "output_type": "stream",
          "name": "stdout",
          "text": [
            "1 7\n"
          ]
        },
        {
          "output_type": "display_data",
          "data": {
            "text/plain": [
              "<Figure size 432x288 with 1 Axes>"
            ],
            "image/png": "[encoded data removed]"
          },
          "metadata": {
            "needs_background": "light"
          }
        },
        {
          "output_type": "stream",
          "name": "stdout",
          "text": [
            "7 2\n"
          ]
        },
        {
          "output_type": "display_data",
          "data": {
            "text/plain": [
              "<Figure size 432x288 with 1 Axes>"
            ],
            "image/png": "[encoded data removed]"
          },
          "metadata": {
            "needs_background": "light"
          }
        },
        {
          "output_type": "stream",
          "name": "stdout",
          "text": [
            "7 1\n"
          ]
        },
        {
          "output_type": "display_data",
          "data": {
            "text/plain": [
              "<Figure size 432x288 with 1 Axes>"
            ],
            "image/png": "[encoded data removed]"
          },
          "metadata": {
            "needs_background": "light"
          }
        },
        {
          "output_type": "stream",
          "name": "stdout",
          "text": [
            "1 6\n"
          ]
        },
        {
          "output_type": "display_data",
          "data": {
            "text/plain": [
              "<Figure size 432x288 with 1 Axes>"
            ],
            "image/png": "[encoded data removed]"
          },
          "metadata": {
            "needs_background": "light"
          }
        },
        {
          "output_type": "stream",
          "name": "stdout",
          "text": [
            "4 9\n"
          ]
        },
        {
          "output_type": "display_data",
          "data": {
            "text/plain": [
              "<Figure size 432x288 with 1 Axes>"
            ],
            "image/png": "[encoded data removed]"
          },
          "metadata": {
            "needs_background": "light"
          }
        },
        {
          "output_type": "stream",
          "name": "stdout",
          "text": [
            "0 6\n"
          ]
        },
        {
          "output_type": "display_data",
          "data": {
            "text/plain": [
              "<Figure size 432x288 with 1 Axes>"
            ],
            "image/png": "[encoded data removed]"
          },
          "metadata": {
            "needs_background": "light"
          }
        },
        {
          "output_type": "stream",
          "name": "stdout",
          "text": [
            "3 2\n"
          ]
        },
        {
          "output_type": "display_data",
          "data": {
            "text/plain": [
              "<Figure size 432x288 with 1 Axes>"
            ],
            "image/png": "[encoded data removed]"
          },
          "metadata": {
            "needs_background": "light"
          }
        },
        {
          "output_type": "stream",
          "name": "stdout",
          "text": [
            "3 2\n"
          ]
        },
        {
          "output_type": "display_data",
          "data": {
            "text/plain": [
              "<Figure size 432x288 with 1 Axes>"
            ],
            "image/png": "[encoded data removed]"
          },
          "metadata": {
            "needs_background": "light"
          }
        },
        {
          "output_type": "stream",
          "name": "stdout",
          "text": [
            "3 5\n"
          ]
        },
        {
          "output_type": "display_data",
          "data": {
            "text/plain": [
              "<Figure size 432x288 with 1 Axes>"
            ],
            "image/png": "[encoded data removed]"
          },
          "metadata": {
            "needs_background": "light"
          }
        },
        {
          "output_type": "stream",
          "name": "stdout",
          "text": [
            "5 9\n"
          ]
        },
        {
          "output_type": "display_data",
          "data": {
            "text/plain": [
              "<Figure size 432x288 with 1 Axes>"
            ],
            "image/png": "[encoded data removed]"
          },
          "metadata": {
            "needs_background": "light"
          }
        },
        {
          "output_type": "stream",
          "name": "stdout",
          "text": [
            "3 9\n"
          ]
        },
        {
          "output_type": "display_data",
          "data": {
            "text/plain": [
              "<Figure size 432x288 with 1 Axes>"
            ],
            "image/png": "[encoded data removed]"
          },
          "metadata": {
            "needs_background": "light"
          }
        },
        {
          "output_type": "stream",
          "name": "stdout",
          "text": [
            "1 7\n"
          ]
        },
        {
          "output_type": "display_data",
          "data": {
            "text/plain": [
              "<Figure size 432x288 with 1 Axes>"
            ],
            "image/png": "[encoded data removed]"
          },
          "metadata": {
            "needs_background": "light"
          }
        },
        {
          "output_type": "stream",
          "name": "stdout",
          "text": [
            "7 0\n"
          ]
        },
        {
          "output_type": "display_data",
          "data": {
            "text/plain": [
              "<Figure size 432x288 with 1 Axes>"
            ],
            "image/png": "[encoded data removed]"
          },
          "metadata": {
            "needs_background": "light"
          }
        },
        {
          "output_type": "stream",
          "name": "stdout",
          "text": [
            "2 8\n"
          ]
        },
        {
          "output_type": "display_data",
          "data": {
            "text/plain": [
              "<Figure size 432x288 with 1 Axes>"
            ],
            "image/png": "[encoded data removed]"
          },
          "metadata": {
            "needs_background": "light"
          }
        },
        {
          "output_type": "stream",
          "name": "stdout",
          "text": [
            "2 3\n"
          ]
        },
        {
          "output_type": "display_data",
          "data": {
            "text/plain": [
              "<Figure size 432x288 with 1 Axes>"
            ],
            "image/png": "[encoded data removed]"
          },
          "metadata": {
            "needs_background": "light"
          }
        },
        {
          "output_type": "stream",
          "name": "stdout",
          "text": [
            "0 8\n"
          ]
        },
        {
          "output_type": "display_data",
          "data": {
            "text/plain": [
              "<Figure size 432x288 with 1 Axes>"
            ],
            "image/png": "[encoded data removed]"
          },
          "metadata": {
            "needs_background": "light"
          }
        },
        {
          "output_type": "stream",
          "name": "stdout",
          "text": [
            "5 3\n"
          ]
        },
        {
          "output_type": "display_data",
          "data": {
            "text/plain": [
              "<Figure size 432x288 with 1 Axes>"
            ],
            "image/png": "[encoded data removed]"
          },
          "metadata": {
            "needs_background": "light"
          }
        },
        {
          "output_type": "stream",
          "name": "stdout",
          "text": [
            "2 7\n"
          ]
        },
        {
          "output_type": "display_data",
          "data": {
            "text/plain": [
              "<Figure size 432x288 with 1 Axes>"
            ],
            "image/png": "[encoded data removed]"
          },
          "metadata": {
            "needs_background": "light"
          }
        },
        {
          "output_type": "stream",
          "name": "stdout",
          "text": [
            "5 8\n"
          ]
        },
        {
          "output_type": "display_data",
          "data": {
            "text/plain": [
              "<Figure size 432x288 with 1 Axes>"
            ],
            "image/png": "[encoded data removed]"
          },
          "metadata": {
            "needs_background": "light"
          }
        },
        {
          "output_type": "stream",
          "name": "stdout",
          "text": [
            "2 7\n"
          ]
        },
        {
          "output_type": "display_data",
          "data": {
            "text/plain": [
              "<Figure size 432x288 with 1 Axes>"
            ],
            "image/png": "[encoded data removed]"
          },
          "metadata": {
            "needs_background": "light"
          }
        },
        {
          "output_type": "stream",
          "name": "stdout",
          "text": [
            "7 9\n"
          ]
        },
        {
          "output_type": "display_data",
          "data": {
            "text/plain": [
              "<Figure size 432x288 with 1 Axes>"
            ],
            "image/png": "[encoded data removed]"
          },
          "metadata": {
            "needs_background": "light"
          }
        },
        {
          "output_type": "stream",
          "name": "stdout",
          "text": [
            "7 9\n"
          ]
        },
        {
          "output_type": "display_data",
          "data": {
            "text/plain": [
              "<Figure size 432x288 with 1 Axes>"
            ],
            "image/png": "[encoded data removed]"
          },
          "metadata": {
            "needs_background": "light"
          }
        },
        {
          "output_type": "stream",
          "name": "stdout",
          "text": [
            "6 5\n"
          ]
        },
        {
          "output_type": "display_data",
          "data": {
            "text/plain": [
              "<Figure size 432x288 with 1 Axes>"
            ],
            "image/png": "[encoded data removed]"
          },
          "metadata": {
            "needs_background": "light"
          }
        },
        {
          "output_type": "stream",
          "name": "stdout",
          "text": [
            "0 5\n"
          ]
        },
        {
          "output_type": "display_data",
          "data": {
            "text/plain": [
              "<Figure size 432x288 with 1 Axes>"
            ],
            "image/png": "[encoded data removed]"
          },
          "metadata": {
            "needs_background": "light"
          }
        },
        {
          "output_type": "stream",
          "name": "stdout",
          "text": [
            "9 4\n"
          ]
        },
        {
          "output_type": "display_data",
          "data": {
            "text/plain": [
              "<Figure size 432x288 with 1 Axes>"
            ],
            "image/png": "[encoded data removed]"
          },
          "metadata": {
            "needs_background": "light"
          }
        }
      ],
      "source": [
        "PROBABILITY1 = model(DATA1).numpy()\n",
        "LABEL1 = PROBABILITY1.argmax(1)\n",
        "for LABEL, TARGET, DATA in zip(LABEL1, TARGET1, DATA1):\n",
        "    if LABEL != TARGET:\n",
        "        print(LABEL, TARGET)\n",
        "        DATA = DATA.reshape(28, 28)\n",
        "        plt.imshow(DATA)\n",
        "        plt.show()"
      ]
    }
  ],
  "metadata": {
    "accelerator": "GPU",
    "colab": {
      "collapsed_sections": [],
      "provenance": []
    },
    "kernelspec": {
      "display_name": "Python 3 (ipykernel)",
      "language": "python",
      "name": "python3"
    },
    "language_info": {
      "codemirror_mode": {
        "name": "ipython",
        "version": 3
      },
      "file_extension": ".py",
      "mimetype": "text/x-python",
      "name": "python",
      "nbconvert_exporter": "python",
      "pygments_lexer": "ipython3",
      "version": "3.7.7"
    }
  },
  "nbformat": 4,
  "nbformat_minor": 0
}